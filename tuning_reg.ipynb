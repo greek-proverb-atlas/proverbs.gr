{
 "cells": [
  {
   "cell_type": "markdown",
   "metadata": {
    "colab_type": "text",
    "id": "view-in-github"
   },
   "source": [
    "<a href=\"https://colab.research.google.com/github/greek-proverb-atlas/proverbs.gr/blob/main/tuning_reg.ipynb\" target=\"_parent\"><img src=\"https://colab.research.google.com/assets/colab-badge.svg\" alt=\"Open In Colab\"/></a>"
   ]
  },
  {
   "cell_type": "markdown",
   "metadata": {
    "id": "GQWSsmtVYV8A"
   },
   "source": [
    "# Tuning ElasticNet\n",
    "* The best traditional ML regressor\n",
    "* Repeating the experiments after correcting the coordinates for specific locations\n"
   ]
  },
  {
   "cell_type": "code",
   "execution_count": null,
   "metadata": {
    "colab": {
     "base_uri": "https://localhost:8080/"
    },
    "id": "hqO6Rq9JJeQX",
    "outputId": "5c4bbe8f-95dc-4cfe-9869-d5e4f8975c91"
   },
   "outputs": [
    {
     "name": "stdout",
     "output_type": "stream",
     "text": [
      "Requirement already satisfied: optuna in /Users/panos/.pyenv/versions/3.12.7/lib/python3.12/site-packages (4.0.0)\n",
      "Requirement already satisfied: alembic>=1.5.0 in /Users/panos/.pyenv/versions/3.12.7/lib/python3.12/site-packages (from optuna) (1.13.3)\n",
      "Requirement already satisfied: colorlog in /Users/panos/.pyenv/versions/3.12.7/lib/python3.12/site-packages (from optuna) (6.9.0)\n",
      "Requirement already satisfied: numpy in /Users/panos/.pyenv/versions/3.12.7/lib/python3.12/site-packages (from optuna) (2.1.2)\n",
      "Requirement already satisfied: packaging>=20.0 in /Users/panos/.pyenv/versions/3.12.7/lib/python3.12/site-packages (from optuna) (24.1)\n",
      "Requirement already satisfied: sqlalchemy>=1.3.0 in /Users/panos/.pyenv/versions/3.12.7/lib/python3.12/site-packages (from optuna) (2.0.36)\n",
      "Requirement already satisfied: tqdm in /Users/panos/.pyenv/versions/3.12.7/lib/python3.12/site-packages (from optuna) (4.66.6)\n",
      "Requirement already satisfied: PyYAML in /Users/panos/.pyenv/versions/3.12.7/lib/python3.12/site-packages (from optuna) (6.0.2)\n",
      "Requirement already satisfied: Mako in /Users/panos/.pyenv/versions/3.12.7/lib/python3.12/site-packages (from alembic>=1.5.0->optuna) (1.3.6)\n",
      "Requirement already satisfied: typing-extensions>=4 in /Users/panos/.pyenv/versions/3.12.7/lib/python3.12/site-packages (from alembic>=1.5.0->optuna) (4.12.2)\n",
      "Requirement already satisfied: MarkupSafe>=0.9.2 in /Users/panos/.pyenv/versions/3.12.7/lib/python3.12/site-packages (from Mako->alembic>=1.5.0->optuna) (3.0.2)\n"
     ]
    }
   ],
   "source": [
    "import pandas as pd\n",
    "import matplotlib.pyplot as plt\n",
    "import numpy as np\n",
    "import seaborn as sns\n",
    "!pip install optuna\n",
    "import optuna\n",
    "from sklearn.model_selection import train_test_split\n",
    "from sklearn.metrics import *\n",
    "from sklearn.linear_model import LogisticRegression\n",
    "from sklearn.linear_model import LinearRegression\n",
    "from sklearn.neighbors import KNeighborsClassifier\n",
    "from sklearn.svm import LinearSVC\n",
    "from sklearn.ensemble import RandomForestClassifier\n",
    "from sklearn.feature_extraction.text import TfidfVectorizer\n",
    "from sklearn.pipeline import Pipeline\n",
    "from sklearn.model_selection import cross_val_score\n",
    "from sklearn.metrics import mean_absolute_error, root_mean_squared_error\n",
    "from sklearn.linear_model import ElasticNet\n",
    "\n",
    "import ast"
   ]
  },
  {
   "cell_type": "code",
   "execution_count": 2,
   "metadata": {
    "id": "2EOG7MTxKSfv"
   },
   "outputs": [],
   "source": [
    "root = 'https://github.com/greek-proverb-atlas/proverbs.gr/raw/refs/heads/main'\n",
    "balanced_corpus = pd.read_csv(f\"{root}/data/balanced_corpus.csv\", index_col=0)\n",
    "# quality assurance patch\n",
    "geolocs = pd.read_csv(f'{root}/data/geolocs.csv')\n",
    "balanced_corpus.lat = balanced_corpus.area.apply(lambda x: geolocs[x].iloc[0])\n",
    "balanced_corpus.lon = balanced_corpus.area.apply(lambda x: geolocs[x].iloc[1])"
   ]
  },
  {
   "cell_type": "code",
   "execution_count": 3,
   "metadata": {
    "colab": {
     "base_uri": "https://localhost:8080/"
    },
    "id": "EDdVxLkVKdDy",
    "outputId": "be0edb71-d6fb-414c-f7c8-64050115a29b"
   },
   "outputs": [
    {
     "name": "stderr",
     "output_type": "stream",
     "text": [
      "[I 2024-11-07 18:54:39,522] A new study created in memory with name: no-name-8076c050-91c6-4231-a680-ca2f0a7e774f\n",
      "[I 2024-11-07 18:54:41,998] Trial 0 finished with value: 0.016401871924643395 and parameters: {'alpha': 0.009853828376668854, 'l1_ratio': 0.9231320185103109}. Best is trial 0 with value: 0.016401871924643395.\n",
      "[I 2024-11-07 18:54:43,072] Trial 1 finished with value: -0.0003549715765302164 and parameters: {'alpha': 0.07552829761605577, 'l1_ratio': 0.4758591500921362}. Best is trial 0 with value: 0.016401871924643395.\n",
      "[I 2024-11-07 18:54:50,041] Trial 2 finished with value: 0.2451450786439835 and parameters: {'alpha': 0.00047199352567656313, 'l1_ratio': 0.21533757688499378}. Best is trial 2 with value: 0.2451450786439835.\n",
      "[I 2024-11-07 18:54:59,882] Trial 3 finished with value: 0.25935091629234486 and parameters: {'alpha': 0.00031996901325033125, 'l1_ratio': 0.42024308448938075}. Best is trial 3 with value: 0.25935091629234486.\n",
      "[I 2024-11-07 18:55:04,857] Trial 4 finished with value: 0.21953536845583846 and parameters: {'alpha': 0.0006844687156199004, 'l1_ratio': 0.2943152532547889}. Best is trial 3 with value: 0.25935091629234486.\n",
      "[I 2024-11-07 18:55:05,955] Trial 5 finished with value: -0.0003549715765302164 and parameters: {'alpha': 0.09937284918149446, 'l1_ratio': 0.4192428318710676}. Best is trial 3 with value: 0.25935091629234486.\n",
      "[I 2024-11-07 18:55:12,922] Trial 6 finished with value: 0.2455446265786924 and parameters: {'alpha': 0.0004776336144331022, 'l1_ratio': 0.1664132468175452}. Best is trial 3 with value: 0.25935091629234486.\n",
      "[I 2024-11-07 18:55:13,677] Trial 7 finished with value: -0.0003549715765302164 and parameters: {'alpha': 0.6597361258452944, 'l1_ratio': 0.04919516511885125}. Best is trial 3 with value: 0.25935091629234486.\n",
      "[I 2024-11-07 18:55:14,431] Trial 8 finished with value: -0.0003549715765302164 and parameters: {'alpha': 0.263409396619303, 'l1_ratio': 0.1218758019183529}. Best is trial 3 with value: 0.25935091629234486.\n",
      "[I 2024-11-07 18:55:15,180] Trial 9 finished with value: -0.0003549715765302164 and parameters: {'alpha': 0.032549588203348655, 'l1_ratio': 0.8709127574603635}. Best is trial 3 with value: 0.25935091629234486.\n",
      "[I 2024-11-07 18:55:17,510] Trial 10 finished with value: 0.06726440231202015 and parameters: {'alpha': 0.0033621187678013835, 'l1_ratio': 0.6919335024054567}. Best is trial 3 with value: 0.25935091629234486.\n",
      "[I 2024-11-07 18:55:45,257] Trial 11 finished with value: 0.2587942464413736 and parameters: {'alpha': 0.00012096612713299197, 'l1_ratio': 0.6290065219519734}. Best is trial 3 with value: 0.25935091629234486.\n",
      "[I 2024-11-07 18:56:13,951] Trial 12 finished with value: 0.2566171489630017 and parameters: {'alpha': 0.00011587830304639637, 'l1_ratio': 0.6425040687973598}. Best is trial 3 with value: 0.25935091629234486.\n",
      "[I 2024-11-07 18:56:43,074] Trial 13 finished with value: 0.25491627650304355 and parameters: {'alpha': 0.00011188029162794202, 'l1_ratio': 0.6453014593584903}. Best is trial 3 with value: 0.25935091629234486.\n",
      "[I 2024-11-07 18:56:45,621] Trial 14 finished with value: 0.11588422527161786 and parameters: {'alpha': 0.0020469702658190724, 'l1_ratio': 0.3880188253323883}. Best is trial 3 with value: 0.25935091629234486.\n",
      "[I 2024-11-07 18:56:56,707] Trial 15 finished with value: 0.2616078637180338 and parameters: {'alpha': 0.0002875210048575455, 'l1_ratio': 0.5635530888517595}. Best is trial 15 with value: 0.2616078637180338.\n",
      "[I 2024-11-07 18:57:00,815] Trial 16 finished with value: 0.13605729155945717 and parameters: {'alpha': 0.0015847219303562724, 'l1_ratio': 0.7956438345653418}. Best is trial 15 with value: 0.2616078637180338.\n",
      "[I 2024-11-07 18:57:02,366] Trial 17 finished with value: 0.01967605768202718 and parameters: {'alpha': 0.007858613191065447, 'l1_ratio': 0.5481388157012447}. Best is trial 15 with value: 0.2616078637180338.\n",
      "[I 2024-11-07 18:57:13,233] Trial 18 finished with value: 0.26203233037857443 and parameters: {'alpha': 0.00030124755156382726, 'l1_ratio': 0.3156706147493177}. Best is trial 18 with value: 0.26203233037857443.\n",
      "[I 2024-11-07 18:57:16,395] Trial 19 finished with value: 0.16413886604540529 and parameters: {'alpha': 0.0013141756118247169, 'l1_ratio': 0.28522357233712026}. Best is trial 18 with value: 0.26203233037857443.\n",
      "[I 2024-11-07 18:57:18,521] Trial 20 finished with value: 0.050394243820915965 and parameters: {'alpha': 0.004458758871752183, 'l1_ratio': 0.7802688831927782}. Best is trial 18 with value: 0.26203233037857443.\n",
      "[I 2024-11-07 18:57:29,430] Trial 21 finished with value: 0.26232556454799266 and parameters: {'alpha': 0.00029668074499974057, 'l1_ratio': 0.34502285412123157}. Best is trial 21 with value: 0.26232556454799266.\n",
      "[I 2024-11-07 18:57:42,422] Trial 22 finished with value: 0.2666544522412147 and parameters: {'alpha': 0.0002459178304966862, 'l1_ratio': 0.3351282633618283}. Best is trial 22 with value: 0.2666544522412147.\n",
      "[I 2024-11-07 18:57:46,514] Trial 23 finished with value: 0.20007971983570738 and parameters: {'alpha': 0.0008628053533998203, 'l1_ratio': 0.3173032302950916}. Best is trial 22 with value: 0.2666544522412147.\n",
      "[I 2024-11-07 18:58:00,154] Trial 24 finished with value: 0.26758051628754814 and parameters: {'alpha': 0.0002314077689935889, 'l1_ratio': 0.33349281536535696}. Best is trial 24 with value: 0.26758051628754814.\n",
      "[I 2024-11-07 18:58:12,975] Trial 25 finished with value: 0.2668492365452626 and parameters: {'alpha': 0.0002404657865374839, 'l1_ratio': 0.2259346432388879}. Best is trial 24 with value: 0.26758051628754814.\n",
      "[I 2024-11-07 18:58:30,316] Trial 26 finished with value: 0.2681749447574167 and parameters: {'alpha': 0.00017460528947264715, 'l1_ratio': 0.23289639140863766}. Best is trial 26 with value: 0.2681749447574167.\n",
      "[I 2024-11-07 18:58:31,929] Trial 27 finished with value: 0.02544943689682392 and parameters: {'alpha': 0.024853293181536697, 'l1_ratio': 0.0027883415190624317}. Best is trial 26 with value: 0.2681749447574167.\n",
      "[I 2024-11-07 18:58:49,985] Trial 28 finished with value: 0.2678059289317422 and parameters: {'alpha': 0.0001741049817149918, 'l1_ratio': 0.19216926325347317}. Best is trial 26 with value: 0.2681749447574167.\n",
      "[I 2024-11-07 18:58:54,601] Trial 29 finished with value: 0.2142000986176455 and parameters: {'alpha': 0.0008429592543437532, 'l1_ratio': 0.10434973897268918}. Best is trial 26 with value: 0.2681749447574167.\n",
      "[I 2024-11-07 18:59:14,826] Trial 30 finished with value: 0.26688467052885123 and parameters: {'alpha': 0.0001536239432630041, 'l1_ratio': 0.22091328383298015}. Best is trial 26 with value: 0.2681749447574167.\n",
      "[I 2024-11-07 18:59:33,326] Trial 31 finished with value: 0.26781730348603616 and parameters: {'alpha': 0.00016382642741935883, 'l1_ratio': 0.247973949592282}. Best is trial 26 with value: 0.2681749447574167.\n",
      "[I 2024-11-07 18:59:53,671] Trial 32 finished with value: 0.2662611491865382 and parameters: {'alpha': 0.00015342448001192955, 'l1_ratio': 0.1504810851837446}. Best is trial 26 with value: 0.2681749447574167.\n",
      "[I 2024-11-07 19:00:00,635] Trial 33 finished with value: 0.24677387937938117 and parameters: {'alpha': 0.00045325184236052297, 'l1_ratio': 0.2355062234104569}. Best is trial 26 with value: 0.2681749447574167.\n",
      "[I 2024-11-07 19:00:16,808] Trial 34 finished with value: 0.2687031705544519 and parameters: {'alpha': 0.0001956289861863787, 'l1_ratio': 0.48454584704855647}. Best is trial 34 with value: 0.2687031705544519.\n",
      "[I 2024-11-07 19:00:21,958] Trial 35 finished with value: 0.22119936056567294 and parameters: {'alpha': 0.00061954386209284, 'l1_ratio': 0.46996493609503437}. Best is trial 34 with value: 0.2687031705544519.\n",
      "[I 2024-11-07 19:00:25,522] Trial 36 finished with value: 0.16948657742314424 and parameters: {'alpha': 0.0011204539852932057, 'l1_ratio': 0.5131931279067159}. Best is trial 34 with value: 0.2687031705544519.\n",
      "[I 2024-11-07 19:00:33,097] Trial 37 finished with value: 0.24887165752279036 and parameters: {'alpha': 0.0004547592822278176, 'l1_ratio': 0.0912246315523842}. Best is trial 34 with value: 0.2687031705544519.\n",
      "[I 2024-11-07 19:00:49,274] Trial 38 finished with value: 0.2680655401583796 and parameters: {'alpha': 0.00019419312480157159, 'l1_ratio': 0.1919139411403432}. Best is trial 34 with value: 0.2687031705544519.\n",
      "[I 2024-11-07 19:00:51,405] Trial 39 finished with value: 0.08156479267983155 and parameters: {'alpha': 0.002907087177123022, 'l1_ratio': 0.4377419065235444}. Best is trial 34 with value: 0.2687031705544519.\n",
      "[I 2024-11-07 19:00:58,574] Trial 40 finished with value: 0.2471796030479104 and parameters: {'alpha': 0.00044513357008500926, 'l1_ratio': 0.261764243863871}. Best is trial 34 with value: 0.2687031705544519.\n",
      "[I 2024-11-07 19:01:15,365] Trial 41 finished with value: 0.26793306838870345 and parameters: {'alpha': 0.0001895794216927436, 'l1_ratio': 0.17783934324368927}. Best is trial 34 with value: 0.2687031705544519.\n",
      "[I 2024-11-07 19:01:32,618] Trial 42 finished with value: 0.26775338705874574 and parameters: {'alpha': 0.0001836192938654358, 'l1_ratio': 0.16518034004878712}. Best is trial 34 with value: 0.2687031705544519.\n",
      "[I 2024-11-07 19:01:39,753] Trial 43 finished with value: 0.2450840403714972 and parameters: {'alpha': 0.0005027721855765656, 'l1_ratio': 0.0515516397882293}. Best is trial 34 with value: 0.2687031705544519.\n",
      "[I 2024-11-07 19:01:57,234] Trial 44 finished with value: 0.2687409126589252 and parameters: {'alpha': 0.00017390810696580212, 'l1_ratio': 0.3836670800791808}. Best is trial 44 with value: 0.2687409126589252.\n",
      "[I 2024-11-07 19:02:27,267] Trial 45 finished with value: 0.2565448367110898 and parameters: {'alpha': 0.00010357039290648916, 'l1_ratio': 0.3844593977112084}. Best is trial 44 with value: 0.2687409126589252.\n",
      "[I 2024-11-07 19:02:28,044] Trial 46 finished with value: -0.0003549715765302164 and parameters: {'alpha': 0.25009589876633437, 'l1_ratio': 0.3883464712732459}. Best is trial 44 with value: 0.2687409126589252.\n",
      "[I 2024-11-07 19:02:36,771] Trial 47 finished with value: 0.2549845746913274 and parameters: {'alpha': 0.0003555201511897341, 'l1_ratio': 0.44060772289069877}. Best is trial 44 with value: 0.2687409126589252.\n",
      "[I 2024-11-07 19:02:41,408] Trial 48 finished with value: 0.21751287266257657 and parameters: {'alpha': 0.0007815192310423485, 'l1_ratio': 0.13764563088069037}. Best is trial 44 with value: 0.2687409126589252.\n",
      "[I 2024-11-07 19:03:11,423] Trial 49 finished with value: 0.2564877846408212 and parameters: {'alpha': 0.00010737169340275259, 'l1_ratio': 0.5036341583638925}. Best is trial 44 with value: 0.2687409126589252.\n",
      "[I 2024-11-07 19:03:12,863] Trial 50 finished with value: 0.018143303629416886 and parameters: {'alpha': 0.01124535604139622, 'l1_ratio': 0.19363602418466128}. Best is trial 44 with value: 0.2687409126589252.\n",
      "[I 2024-11-07 19:03:29,957] Trial 51 finished with value: 0.2684235902031413 and parameters: {'alpha': 0.00017588335349277582, 'l1_ratio': 0.26178042483649044}. Best is trial 44 with value: 0.2687409126589252.\n",
      "[I 2024-11-07 19:03:44,660] Trial 52 finished with value: 0.267612727109171 and parameters: {'alpha': 0.00021477467672065124, 'l1_ratio': 0.568716853743591}. Best is trial 44 with value: 0.2687409126589252.\n",
      "[I 2024-11-07 19:03:54,259] Trial 53 finished with value: 0.25817977909864076 and parameters: {'alpha': 0.00034191050910140715, 'l1_ratio': 0.28154332943109067}. Best is trial 44 with value: 0.2687409126589252.\n",
      "[I 2024-11-07 19:04:35,967] Trial 54 finished with value: 0.2303788243084987 and parameters: {'alpha': 0.00014112677214100244, 'l1_ratio': 0.9693624982907455}. Best is trial 44 with value: 0.2687409126589252.\n",
      "[I 2024-11-07 19:04:41,326] Trial 55 finished with value: 0.22496611549957515 and parameters: {'alpha': 0.0006106728960633927, 'l1_ratio': 0.3751000643873525}. Best is trial 44 with value: 0.2687409126589252.\n",
      "[I 2024-11-07 19:05:10,556] Trial 56 finished with value: 0.2559340547749495 and parameters: {'alpha': 0.00010048616852653119, 'l1_ratio': 0.07452675462673974}. Best is trial 44 with value: 0.2687409126589252.\n",
      "[I 2024-11-07 19:05:20,221] Trial 57 finished with value: 0.2590301789692885 and parameters: {'alpha': 0.00033919475827892974, 'l1_ratio': 0.1863798146677395}. Best is trial 44 with value: 0.2687409126589252.\n",
      "[I 2024-11-07 19:05:22,823] Trial 58 finished with value: 0.13128015485800765 and parameters: {'alpha': 0.0018756714422549403, 'l1_ratio': 0.2747522201361786}. Best is trial 44 with value: 0.2687409126589252.\n",
      "[I 2024-11-07 19:05:23,568] Trial 59 finished with value: -0.0003549715765302164 and parameters: {'alpha': 0.9364781312416554, 'l1_ratio': 0.47164991651896254}. Best is trial 44 with value: 0.2687409126589252.\n",
      "[I 2024-11-07 19:05:37,677] Trial 60 finished with value: 0.2679553782335343 and parameters: {'alpha': 0.00022424279122436802, 'l1_ratio': 0.3559446160730349}. Best is trial 44 with value: 0.2687409126589252.\n",
      "[I 2024-11-07 19:05:52,496] Trial 61 finished with value: 0.2685222771951544 and parameters: {'alpha': 0.00021145043384137007, 'l1_ratio': 0.3609561402113015}. Best is trial 44 with value: 0.2687409126589252.\n",
      "[I 2024-11-07 19:06:05,801] Trial 62 finished with value: 0.2669927151094843 and parameters: {'alpha': 0.0002407120173246712, 'l1_ratio': 0.3468269132099634}. Best is trial 44 with value: 0.2687409126589252.\n",
      "[I 2024-11-07 19:06:26,589] Trial 63 finished with value: 0.26684951277344743 and parameters: {'alpha': 0.0001471720850370787, 'l1_ratio': 0.40443787459619424}. Best is trial 44 with value: 0.2687409126589252.\n",
      "[I 2024-11-07 19:06:38,239] Trial 64 finished with value: 0.2641874793806127 and parameters: {'alpha': 0.0002784898454578357, 'l1_ratio': 0.29547814526262506}. Best is trial 44 with value: 0.2687409126589252.\n",
      "[I 2024-11-07 19:06:39,093] Trial 65 finished with value: -0.000249804254719499 and parameters: {'alpha': 0.053610913757695874, 'l1_ratio': 0.4312374404657339}. Best is trial 44 with value: 0.2687409126589252.\n",
      "[I 2024-11-07 19:06:54,250] Trial 66 finished with value: 0.2686786154702081 and parameters: {'alpha': 0.00020586296413532904, 'l1_ratio': 0.3319787055253067}. Best is trial 44 with value: 0.2687409126589252.\n",
      "[I 2024-11-07 19:06:57,746] Trial 67 finished with value: 0.1624219283784658 and parameters: {'alpha': 0.0012032375554973567, 'l1_ratio': 0.5293307867399817}. Best is trial 44 with value: 0.2687409126589252.\n",
      "[I 2024-11-07 19:07:06,511] Trial 68 finished with value: 0.2549726125288602 and parameters: {'alpha': 0.00037660644883381243, 'l1_ratio': 0.23646304113678282}. Best is trial 44 with value: 0.2687409126589252.\n",
      "[I 2024-11-07 19:07:29,145] Trial 69 finished with value: 0.2651282362591512 and parameters: {'alpha': 0.00013514895884459644, 'l1_ratio': 0.3049303212895698}. Best is trial 44 with value: 0.2687409126589252.\n",
      "[I 2024-11-07 19:07:46,278] Trial 70 finished with value: 0.26786859867207724 and parameters: {'alpha': 0.0001903133168085715, 'l1_ratio': 0.6034256755710458}. Best is trial 44 with value: 0.2687409126589252.\n",
      "[I 2024-11-07 19:08:00,071] Trial 71 finished with value: 0.2676445724927873 and parameters: {'alpha': 0.0002300945193355601, 'l1_ratio': 0.3479376954509266}. Best is trial 44 with value: 0.2687409126589252.\n",
      "[I 2024-11-07 19:08:05,785] Trial 72 finished with value: 0.23128040412522535 and parameters: {'alpha': 0.0005583150663934816, 'l1_ratio': 0.37223377939831825}. Best is trial 44 with value: 0.2687409126589252.\n",
      "[I 2024-11-07 19:08:16,701] Trial 73 finished with value: 0.2629067532027678 and parameters: {'alpha': 0.0002869074374790036, 'l1_ratio': 0.41529443513717956}. Best is trial 44 with value: 0.2687409126589252.\n",
      "[I 2024-11-07 19:08:41,149] Trial 74 finished with value: 0.2635587298254526 and parameters: {'alpha': 0.00012920010175928405, 'l1_ratio': 0.4670843137710621}. Best is trial 44 with value: 0.2687409126589252.\n",
      "[I 2024-11-07 19:08:57,467] Trial 75 finished with value: 0.268843163433093 and parameters: {'alpha': 0.00018719386793892458, 'l1_ratio': 0.31351729441420895}. Best is trial 75 with value: 0.268843163433093.\n",
      "[I 2024-11-07 19:09:05,170] Trial 76 finished with value: 0.2512157507588914 and parameters: {'alpha': 0.0004009027528134071, 'l1_ratio': 0.32112032366957877}. Best is trial 75 with value: 0.268843163433093.\n",
      "[I 2024-11-07 19:09:23,090] Trial 77 finished with value: 0.2681504635732176 and parameters: {'alpha': 0.00016885601923469256, 'l1_ratio': 0.25902666633035415}. Best is trial 75 with value: 0.268843163433093.\n",
      "[I 2024-11-07 19:09:45,699] Trial 78 finished with value: 0.2647779148931221 and parameters: {'alpha': 0.00013352870536113395, 'l1_ratio': 0.2775856060026334}. Best is trial 75 with value: 0.268843163433093.\n",
      "[I 2024-11-07 19:09:50,410] Trial 79 finished with value: 0.21762706845073926 and parameters: {'alpha': 0.0007167188056877808, 'l1_ratio': 0.25977249198672314}. Best is trial 75 with value: 0.268843163433093.\n",
      "[I 2024-11-07 19:10:01,355] Trial 80 finished with value: 0.26298737354784407 and parameters: {'alpha': 0.0002941186792993269, 'l1_ratio': 0.20566504703514138}. Best is trial 75 with value: 0.268843163433093.\n",
      "[I 2024-11-07 19:10:18,685] Trial 81 finished with value: 0.26860157592024353 and parameters: {'alpha': 0.00017443008433666425, 'l1_ratio': 0.308234965433166}. Best is trial 75 with value: 0.268843163433093.\n",
      "[I 2024-11-07 19:10:35,785] Trial 82 finished with value: 0.26871315979328386 and parameters: {'alpha': 0.00017841855593561025, 'l1_ratio': 0.3097537830801389}. Best is trial 75 with value: 0.268843163433093.\n",
      "[I 2024-11-07 19:11:06,040] Trial 83 finished with value: 0.2557747385299316 and parameters: {'alpha': 0.00010045060881430885, 'l1_ratio': 0.31309388991173903}. Best is trial 75 with value: 0.268843163433093.\n",
      "[I 2024-11-07 19:11:24,479] Trial 84 finished with value: 0.26839198024139155 and parameters: {'alpha': 0.00016576159529801016, 'l1_ratio': 0.4032430922447197}. Best is trial 75 with value: 0.268843163433093.\n",
      "[I 2024-11-07 19:11:36,790] Trial 85 finished with value: 0.26608472705902375 and parameters: {'alpha': 0.0002515770031424414, 'l1_ratio': 0.4090538667882385}. Best is trial 75 with value: 0.268843163433093.\n",
      "[I 2024-11-07 19:12:01,158] Trial 86 finished with value: 0.26329054988439876 and parameters: {'alpha': 0.00012542259868372275, 'l1_ratio': 0.36066377725080356}. Best is trial 75 with value: 0.268843163433093.\n",
      "[I 2024-11-07 19:12:17,452] Trial 87 finished with value: 0.2688403517801516 and parameters: {'alpha': 0.00018992299980485309, 'l1_ratio': 0.4492030505823153}. Best is trial 75 with value: 0.268843163433093.\n",
      "[I 2024-11-07 19:12:21,516] Trial 88 finished with value: 0.18884413733820762 and parameters: {'alpha': 0.0009210023213850864, 'l1_ratio': 0.45406145969629724}. Best is trial 75 with value: 0.268843163433093.\n",
      "[I 2024-11-07 19:12:29,615] Trial 89 finished with value: 0.25158305687666704 and parameters: {'alpha': 0.0003974204647119333, 'l1_ratio': 0.32351242936606284}. Best is trial 75 with value: 0.268843163433093.\n",
      "[I 2024-11-07 19:12:30,380] Trial 90 finished with value: -0.0003549715765302164 and parameters: {'alpha': 0.16896074334890615, 'l1_ratio': 0.5048102997370085}. Best is trial 75 with value: 0.268843163433093.\n",
      "[I 2024-11-07 19:12:47,163] Trial 91 finished with value: 0.26894176756261207 and parameters: {'alpha': 0.00019030097880031678, 'l1_ratio': 0.3977607430562909}. Best is trial 91 with value: 0.26894176756261207.\n",
      "[I 2024-11-07 19:13:02,425] Trial 92 finished with value: 0.2684454704171624 and parameters: {'alpha': 0.00020670337133023, 'l1_ratio': 0.4865761625564214}. Best is trial 91 with value: 0.26894176756261207.\n",
      "[I 2024-11-07 19:13:17,491] Trial 93 finished with value: 0.2680296649749059 and parameters: {'alpha': 0.00021130862298787234, 'l1_ratio': 0.5355566823524561}. Best is trial 91 with value: 0.26894176756261207.\n",
      "[I 2024-11-07 19:13:27,973] Trial 94 finished with value: 0.2595384748525019 and parameters: {'alpha': 0.00030407126459520983, 'l1_ratio': 0.5865082524966639}. Best is trial 91 with value: 0.26894176756261207.\n",
      "[I 2024-11-07 19:13:33,690] Trial 95 finished with value: 0.22876313567169762 and parameters: {'alpha': 0.0005568653767971898, 'l1_ratio': 0.4791006916614591}. Best is trial 91 with value: 0.26894176756261207.\n",
      "[I 2024-11-07 19:13:35,191] Trial 96 finished with value: 0.005451279129997977 and parameters: {'alpha': 0.01432634506504165, 'l1_ratio': 0.48974427792550224}. Best is trial 91 with value: 0.26894176756261207.\n",
      "[I 2024-11-07 19:13:49,647] Trial 97 finished with value: 0.2682388548971445 and parameters: {'alpha': 0.0002149503916224751, 'l1_ratio': 0.4516532095687625}. Best is trial 91 with value: 0.26894176756261207.\n",
      "[I 2024-11-07 19:14:10,083] Trial 98 finished with value: 0.2673948448396455 and parameters: {'alpha': 0.0001520252516188807, 'l1_ratio': 0.3886723953998088}. Best is trial 91 with value: 0.26894176756261207.\n",
      "[I 2024-11-07 19:14:37,269] Trial 99 finished with value: 0.2605731330651577 and parameters: {'alpha': 0.00011626682687934345, 'l1_ratio': 0.4285968451016377}. Best is trial 91 with value: 0.26894176756261207.\n"
     ]
    }
   ],
   "source": [
    "train, test = train_test_split(balanced_corpus, \n",
    "                               test_size=0.05, \n",
    "                               random_state=2023)\n",
    "train, dev = train_test_split(train, \n",
    "                              test_size=test.shape[0], \n",
    "                              random_state=2023)\n",
    "\n",
    "def objective(trial):\n",
    "\n",
    "    alpha = trial.suggest_loguniform('alpha', 1e-4, 1.0)\n",
    "    l1_ratio = trial.suggest_uniform('l1_ratio', 0, 1)\n",
    "    regressor = ElasticNet(alpha=alpha, l1_ratio=l1_ratio)\n",
    "\n",
    "    vect = TfidfVectorizer(ngram_range=(2,5), analyzer=\"char\", max_df=0.5,\n",
    "                           min_df=10, lowercase=True)\n",
    "\n",
    "    pipe = Pipeline([('vect', vect), ('ref', regressor)])\n",
    "    scores = cross_val_score(pipe,\n",
    "                             train.text.values,\n",
    "                             train[[\"lat\", \"lon\"]].values,\n",
    "                             cv=5,\n",
    "                             n_jobs=-1)\n",
    "    return scores.mean()\n",
    "\n",
    "\n",
    "study = optuna.create_study(direction='maximize')\n",
    "study.optimize(objective, n_trials=100)"
   ]
  },
  {
   "cell_type": "code",
   "execution_count": 4,
   "metadata": {
    "colab": {
     "base_uri": "https://localhost:8080/"
    },
    "id": "TSm8EZMfLQhj",
    "outputId": "c0b99881-4702-456d-becd-7bcdbef6ef3b"
   },
   "outputs": [
    {
     "name": "stdout",
     "output_type": "stream",
     "text": [
      "best value: 0.26894176756261207\n",
      "best trial: FrozenTrial(number=91, state=1, values=[0.26894176756261207], datetime_start=datetime.datetime(2024, 11, 7, 19, 12, 30, 381313), datetime_complete=datetime.datetime(2024, 11, 7, 19, 12, 47, 163438), params={'alpha': 0.00019030097880031678, 'l1_ratio': 0.3977607430562909}, user_attrs={}, system_attrs={}, intermediate_values={}, distributions={'alpha': FloatDistribution(high=1.0, log=True, low=0.0001, step=None), 'l1_ratio': FloatDistribution(high=1.0, log=False, low=0.0, step=None)}, trial_id=91, value=None)\n",
      "best params: {'alpha': 0.00019030097880031678, 'l1_ratio': 0.3977607430562909}\n"
     ]
    }
   ],
   "source": [
    "print('best value:', study.best_value)\n",
    "print('best trial:', study.best_trial)\n",
    "best_params = study.best_trial.params\n",
    "print('best params:', best_params)"
   ]
  },
  {
   "cell_type": "code",
   "execution_count": 6,
   "metadata": {
    "colab": {
     "base_uri": "https://localhost:8080/"
    },
    "id": "2fvOANSjLynD",
    "outputId": "3b553862-b7a2-4fef-d19e-3f7a20427f29"
   },
   "outputs": [
    {
     "data": {
      "text/plain": [
       "0.29658895769969934"
      ]
     },
     "execution_count": 6,
     "metadata": {},
     "output_type": "execute_result"
    }
   ],
   "source": [
    "regressor = ElasticNet(**best_params)\n",
    "vect = TfidfVectorizer(ngram_range=(2,5), \n",
    "                       analyzer=\"char\", \n",
    "                       max_df=0.5, \n",
    "                       min_df=10, \n",
    "                       lowercase=True)\n",
    "elastic_net_pipe = Pipeline([('vect', vect), ('reg', regressor)])\n",
    "elastic_net_pipe.fit(train.text.values, train[[\"lat\", \"lon\"]].values)\n",
    "score = elastic_net_pipe.score(test.text.values, test[[\"lat\", \"lon\"]].values)\n",
    "score"
   ]
  },
  {
   "cell_type": "code",
   "execution_count": null,
   "metadata": {
    "colab": {
     "base_uri": "https://localhost:8080/"
    },
    "id": "ygVvbR6sL4Fb",
    "outputId": "ab3894d8-93cc-4e26-beb2-f5101cf1a338"
   },
   "outputs": [
    {
     "name": "stdout",
     "output_type": "stream",
     "text": [
      "1.2984176631176354 2.4990179161814643\n",
      "2.6319187394082166 12.043434909265438\n"
     ]
    }
   ],
   "source": [
    "predicted_coords = elastic_net_pipe.predict(test.text.values)\n",
    "\n",
    "mae_lat, mae_lon = (mean_absolute_error(test.lat.values, predicted_coords[:, 0]),\n",
    "                    mean_absolute_error(test.lon.values, predicted_coords[:, 1]))\n",
    "mse_lat, mse_lon = (\n",
    "    root_mean_squared_error(test.lat.values, predicted_coords[:, 0])**2,\n",
    "    root_mean_squared_error(test.lon.values, predicted_coords[:, 1])**2)\n",
    "\n",
    "print(mae_lat, mae_lon)\n",
    "print(mse_lat, mse_lon)"
   ]
  },
  {
   "cell_type": "code",
   "execution_count": 8,
   "metadata": {
    "id": "s4a9Zh5DMB72"
   },
   "outputs": [],
   "source": [
    "reg_models = {'el':[]}\n",
    "scores = {m:{'mse':{'lat':[], 'lon':[]}, 'mae':{'lat':[], 'lon':[]}} for m in reg_models}\n",
    "for i in range(2, 6):\n",
    "    balanced_corpus = pd.read_csv(f\"{root}/data/balanced_corpus_{i}.csv\", index_col=0).reset_index()\n",
    "    # quality assurance patch\n",
    "    geolocs = pd.read_csv(f'{root}/data/geolocs.csv')\n",
    "    balanced_corpus.lat = balanced_corpus.area.apply(lambda x: geolocs[x].iloc[0])\n",
    "    balanced_corpus.lon = balanced_corpus.area.apply(lambda x: geolocs[x].iloc[1])\n",
    "    # end of quality assurance\n",
    "    train, test = train_test_split(balanced_corpus, test_size=0.05, random_state=2023)\n",
    "    train, dev = train_test_split(train, test_size=test.shape[0], random_state=2023)\n",
    "\n",
    "    vect = TfidfVectorizer(ngram_range=(2,5), \n",
    "                           analyzer=\"char\", \n",
    "                           max_df=0.5,\n",
    "                           min_df=10, \n",
    "                           lowercase=True)\n",
    "    # elastic\n",
    "    el_reg = Pipeline([('vect', vect), ('reg', ElasticNet(**best_params))])\n",
    "    el_reg.fit(train.text.values, train[[\"lat\", \"lon\"]].values)\n",
    "    reg_models['el'] = el_reg"
   ]
  },
  {
   "cell_type": "code",
   "execution_count": null,
   "metadata": {
    "id": "EEIYEqLUXX73"
   },
   "outputs": [],
   "source": [
    "for i in range(2,6):\n",
    "\n",
    "  for model_name in reg_models:\n",
    "          regressor = reg_models[model_name]\n",
    "          preds = regressor.predict(test.text.values)\n",
    "          mae_lat, mae_lon = (mean_absolute_error(test.lat.values, preds[:, 0]),\n",
    "                              mean_absolute_error(test.lon.values, preds[:, 1]))\n",
    "          mse_lat, mse_lon = (\n",
    "            root_mean_squared_error(test.lat.values, preds[:, 0])**2,\n",
    "            root_mean_squared_error(test.lon.values, preds[:, 1])**2)\n",
    "          scores[model_name]['mae']['lat'].append(mae_lat)\n",
    "          scores[model_name]['mae']['lon'].append(mae_lon)\n",
    "          scores[model_name]['mse']['lat'].append(mse_lat)\n",
    "          scores[model_name]['mse']['lon'].append(mse_lon)"
   ]
  },
  {
   "cell_type": "code",
   "execution_count": 10,
   "metadata": {
    "colab": {
     "base_uri": "https://localhost:8080/",
     "height": 81
    },
    "id": "c_9OA1goQ0UM",
    "outputId": "d019bdb3-6387-428a-cd73-7fccaeb34e51"
   },
   "outputs": [
    {
     "data": {
      "text/html": [
       "<div>\n",
       "<style scoped>\n",
       "    .dataframe tbody tr th:only-of-type {\n",
       "        vertical-align: middle;\n",
       "    }\n",
       "\n",
       "    .dataframe tbody tr th {\n",
       "        vertical-align: top;\n",
       "    }\n",
       "\n",
       "    .dataframe thead th {\n",
       "        text-align: right;\n",
       "    }\n",
       "</style>\n",
       "<table border=\"1\" class=\"dataframe\">\n",
       "  <thead>\n",
       "    <tr style=\"text-align: right;\">\n",
       "      <th></th>\n",
       "      <th>mae-lon</th>\n",
       "      <th>mae-lat</th>\n",
       "      <th>mse-lon</th>\n",
       "      <th>mse-lat</th>\n",
       "    </tr>\n",
       "  </thead>\n",
       "  <tbody>\n",
       "    <tr>\n",
       "      <th>el</th>\n",
       "      <td>2.683922</td>\n",
       "      <td>1.271655</td>\n",
       "      <td>12.987285</td>\n",
       "      <td>2.558401</td>\n",
       "    </tr>\n",
       "  </tbody>\n",
       "</table>\n",
       "</div>"
      ],
      "text/plain": [
       "     mae-lon   mae-lat    mse-lon   mse-lat\n",
       "el  2.683922  1.271655  12.987285  2.558401"
      ]
     },
     "execution_count": 10,
     "metadata": {},
     "output_type": "execute_result"
    }
   ],
   "source": [
    "pd.DataFrame({'mae-lon':pd.DataFrame({m:scores[m]['mae']['lon'] for m in reg_models}).mean(),\n",
    "              'mae-lat':pd.DataFrame({m:scores[m]['mae']['lat'] for m in reg_models}).mean(),\n",
    "              'mse-lon':pd.DataFrame({m:scores[m]['mse']['lon'] for m in reg_models}).mean(),\n",
    "              'mse-lat':pd.DataFrame({m:scores[m]['mse']['lat'] for m in reg_models}).mean()})"
   ]
  },
  {
   "cell_type": "markdown",
   "metadata": {
    "id": "69mA9j_FYQdq"
   },
   "source": [
    "# GrBERT results"
   ]
  },
  {
   "cell_type": "code",
   "execution_count": 22,
   "metadata": {
    "colab": {
     "base_uri": "https://localhost:8080/",
     "height": 272
    },
    "id": "Dudld6CIXgOr",
    "outputId": "51bf7ada-58ca-4a0f-ea18-e469979f30cb"
   },
   "outputs": [
    {
     "data": {
      "text/html": [
       "<div>\n",
       "<style scoped>\n",
       "    .dataframe tbody tr th:only-of-type {\n",
       "        vertical-align: middle;\n",
       "    }\n",
       "\n",
       "    .dataframe tbody tr th {\n",
       "        vertical-align: top;\n",
       "    }\n",
       "\n",
       "    .dataframe thead th {\n",
       "        text-align: right;\n",
       "    }\n",
       "</style>\n",
       "<table border=\"1\" class=\"dataframe\">\n",
       "  <thead>\n",
       "    <tr style=\"text-align: right;\">\n",
       "      <th></th>\n",
       "      <th>0</th>\n",
       "    </tr>\n",
       "  </thead>\n",
       "  <tbody>\n",
       "    <tr>\n",
       "      <th>MAE_lon</th>\n",
       "      <td>1.693333</td>\n",
       "    </tr>\n",
       "    <tr>\n",
       "      <th>MAE_lat</th>\n",
       "      <td>1.246667</td>\n",
       "    </tr>\n",
       "    <tr>\n",
       "      <th>MSE_lon</th>\n",
       "      <td>4.826667</td>\n",
       "    </tr>\n",
       "    <tr>\n",
       "      <th>MSE_lat</th>\n",
       "      <td>2.510000</td>\n",
       "    </tr>\n",
       "    <tr>\n",
       "      <th>R2_lat</th>\n",
       "      <td>-1.336667</td>\n",
       "    </tr>\n",
       "    <tr>\n",
       "      <th>R2_lon</th>\n",
       "      <td>-0.496667</td>\n",
       "    </tr>\n",
       "  </tbody>\n",
       "</table>\n",
       "</div><br><label><b>dtype:</b> float64</label>"
      ],
      "text/plain": [
       "MAE_lon    1.693333\n",
       "MAE_lat    1.246667\n",
       "MSE_lon    4.826667\n",
       "MSE_lat    2.510000\n",
       "R2_lat    -1.336667\n",
       "R2_lon    -0.496667\n",
       "dtype: float64"
      ]
     },
     "execution_count": 22,
     "metadata": {},
     "output_type": "execute_result"
    }
   ],
   "source": [
    "data = {\n",
    "#    \"Run\": [\"Run 1\", \"Run 2\", \"Run 3\"],\n",
    "    \"MAE_lon\": [1.61, 1.67, 1.80],\n",
    "    \"MAE_lat\": [1.22, 1.30, 1.22],\n",
    "    \"MSE_lon\": [4.32, 4.58, 5.58],\n",
    "    \"MSE_lat\": [2.44, 2.68, 2.41],\n",
    "    \"R2_lat\": [-1.03, -1.79, -1.19],\n",
    "    \"R2_lon\": [-0.39, -0.70, -0.40]\n",
    "}\n",
    "pd.DataFrame(data).mean(0)"
   ]
  }
 ],
 "metadata": {
  "accelerator": "GPU",
  "colab": {
   "authorship_tag": "ABX9TyNMrwauae+FZrDKPoNFGN9e",
   "gpuType": "L4",
   "include_colab_link": true,
   "machine_shape": "hm",
   "provenance": []
  },
  "kernelspec": {
   "display_name": "Python 3",
   "name": "python3"
  },
  "language_info": {
   "codemirror_mode": {
    "name": "ipython",
    "version": 3
   },
   "file_extension": ".py",
   "mimetype": "text/x-python",
   "name": "python",
   "nbconvert_exporter": "python",
   "pygments_lexer": "ipython3",
   "version": "3.12.7"
  }
 },
 "nbformat": 4,
 "nbformat_minor": 0
}
