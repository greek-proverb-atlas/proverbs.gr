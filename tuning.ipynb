{
  "nbformat": 4,
  "nbformat_minor": 0,
  "metadata": {
    "colab": {
      "provenance": [],
      "collapsed_sections": [
        "DGbsqg9v68OG"
      ],
      "authorship_tag": "ABX9TyODZgYfLsUYKhNNZPhkYlDE",
      "include_colab_link": true
    },
    "kernelspec": {
      "name": "python3",
      "display_name": "Python 3"
    },
    "language_info": {
      "name": "python"
    }
  },
  "cells": [
    {
      "cell_type": "markdown",
      "metadata": {
        "id": "view-in-github",
        "colab_type": "text"
      },
      "source": [
        "<a href=\"https://colab.research.google.com/github/ipavlopoulos/paremia/blob/main/tuning.ipynb\" target=\"_parent\"><img src=\"https://colab.research.google.com/assets/colab-badge.svg\" alt=\"Open In Colab\"/></a>"
      ]
    },
    {
      "cell_type": "code",
      "execution_count": 17,
      "metadata": {
        "id": "ay87HyvYwtKZ"
      },
      "outputs": [],
      "source": [
        "import pandas as pd\n",
        "import matplotlib.pyplot as plt\n",
        "import numpy as np\n",
        "import seaborn as sns\n",
        "from sklearn.model_selection import train_test_split\n",
        "from sklearn.metrics import *\n",
        "from sklearn.feature_extraction.text import TfidfVectorizer\n",
        "from sklearn.model_selection import GridSearchCV\n",
        "from sklearn.pipeline import Pipeline\n",
        "import os\n",
        "import ast\n",
        "\n",
        "from sklearn.base import TransformerMixin\n",
        "from sklearn.linear_model import LinearRegression, LogisticRegression\n",
        "from sklearn.ensemble import ExtraTreesRegressor, RandomForestRegressor, RandomForestClassifier, ExtraTreesClassifier\n",
        "from sklearn.svm import LinearSVC\n",
        "from sklearn.linear_model import ElasticNet\n",
        "from sklearn.model_selection import cross_val_score\n",
        "from sklearn.neighbors import KNeighborsRegressor, KNeighborsClassifier"
      ]
    },
    {
      "cell_type": "code",
      "source": [
        "corpus_path = \"data/balanced_corpus.csv\"\n",
        "root = 'https://raw.githubusercontent.com/ipavlopoulos/paremia/main/'\n",
        "if not os.path.exists(corpus_path):\n",
        "  corpus_path = root + corpus_path\n",
        "balanced_corpus = pd.read_csv(corpus_path, index_col=0)"
      ],
      "metadata": {
        "id": "92KvnvpZwwbT"
      },
      "execution_count": 4,
      "outputs": []
    },
    {
      "cell_type": "code",
      "source": [
        "train, test = train_test_split(balanced_corpus, test_size=0.05, random_state=2023)\n",
        "train, dev = train_test_split(train, test_size=test.shape[0], random_state=2023)"
      ],
      "metadata": {
        "id": "GpYdXWo1xION"
      },
      "execution_count": 5,
      "outputs": []
    },
    {
      "cell_type": "code",
      "source": [
        " # small-scale sandbox\n",
        "tuning_set = train.sample(1000, random_state=2023)"
      ],
      "metadata": {
        "id": "M2A3UXGT67QH"
      },
      "execution_count": 6,
      "outputs": []
    },
    {
      "cell_type": "markdown",
      "source": [
        "# Text regression"
      ],
      "metadata": {
        "id": "j3Yq3JAJEGX3"
      }
    },
    {
      "cell_type": "markdown",
      "source": [
        "#### Tuning the ExtraTrees"
      ],
      "metadata": {
        "id": "DGbsqg9v68OG"
      }
    },
    {
      "cell_type": "code",
      "source": [
        "# tuning extratrees\n",
        "xtra = Pipeline([('vect', TfidfVectorizer()), ('clf', ExtraTreesRegressor())])\n",
        "grid_param = [\n",
        "                {\n",
        "                    \"vect\": [TfidfVectorizer()],\n",
        "                    \"vect__analyzer\": [\"word\", \"char\"],\n",
        "                    \"vect__lowercase\": [True],\n",
        "                    \"vect__max_df\": [0.5],\n",
        "                    \"vect__min_df\": [2, 10],\n",
        "                    \"vect__ngram_range\": [(1,1), (1,2), (2,5)],\n",
        "                    \"clf\": [ExtraTreesRegressor()],\n",
        "                    \"clf__n_estimators\": [10, 100], # this is redundant\n",
        "                 },\n",
        "              ]\n",
        "\n",
        "gsc = GridSearchCV(estimator=xtra, param_grid=grid_param, scoring='r2', cv=3)\n",
        "tuning_result = gsc.fit(tuning_set.text.values, tuning_set[[\"lat\", \"lon\"]].values)\n",
        "print(\"Best: %f using %s\" % (tuning_result.best_score_, tuning_result.best_params_))"
      ],
      "metadata": {
        "colab": {
          "base_uri": "https://localhost:8080/"
        },
        "id": "ITtvsWiAwxwt",
        "outputId": "033891fc-d301-4884-8d33-19ec49d43bd7"
      },
      "execution_count": null,
      "outputs": [
        {
          "output_type": "stream",
          "name": "stdout",
          "text": [
            "Best: 0.061708 using {'clf': ExtraTreesRegressor(), 'clf__n_estimators': 100, 'vect': TfidfVectorizer(analyzer='char', max_df=0.5, min_df=10, ngram_range=(1, 2)), 'vect__analyzer': 'char', 'vect__lowercase': True, 'vect__max_df': 0.5, 'vect__min_df': 10, 'vect__ngram_range': (1, 2)}\n"
          ]
        }
      ]
    },
    {
      "cell_type": "code",
      "source": [
        "# tuning the best result on all the texts\n",
        "xtra_tuned = Pipeline([('vect', tuning_result.best_params_[\"vect\"]), ('clf', tuning_result.best_params_[\"clf\"])])\n",
        "xtra_tuned.fit(train.text.values, train[[\"lat\", \"lon\"]].values)\n",
        "predicted_coords = xtra_tuned.predict(test.text.values)\n",
        "print(f\"MAE of lat and lon: {mean_absolute_error(test.lat.values, predicted_coords[:, 0]):.2f} & {mean_absolute_error(test.lon.values, predicted_coords[:, 1]):.2f}\")\n",
        "print(f\"MSE of lat and lon: {mean_squared_error(test.lat.values, predicted_coords[:, 0]):.2f} & {mean_squared_error(test.lon.values, predicted_coords[:, 1]):.2f}\")"
      ],
      "metadata": {
        "colab": {
          "base_uri": "https://localhost:8080/"
        },
        "id": "rWTS6mcAxLee",
        "outputId": "94e91678-a7b9-4f94-a39e-eff203cf463d"
      },
      "execution_count": null,
      "outputs": [
        {
          "output_type": "stream",
          "name": "stdout",
          "text": [
            "MAE of lat and lon: 1.22 & 1.74\n",
            "MSE of lat and lon: 2.48 & 5.11\n"
          ]
        }
      ]
    },
    {
      "cell_type": "markdown",
      "source": [
        "#### Tuning the Forest"
      ],
      "metadata": {
        "id": "7Uy-8hAz5_Eq"
      }
    },
    {
      "cell_type": "code",
      "source": [
        "# tuning extratrees\n",
        "forest = Pipeline([('vect', TfidfVectorizer()), ('clf', RandomForestRegressor())])\n",
        "grid_param = [\n",
        "                {\n",
        "                    \"vect\": [TfidfVectorizer()],\n",
        "                    \"vect__analyzer\": [\"word\", \"char\"],\n",
        "                    \"vect__lowercase\": [True],\n",
        "                    \"vect__max_df\": [0.5],\n",
        "                    \"vect__min_df\": [2, 10],\n",
        "                    \"vect__ngram_range\": [(1,1), (1,2), (2,5)],\n",
        "                    \"clf\": [RandomForestRegressor()],\n",
        "                    \"clf__n_estimators\": [10, 100],\n",
        "                 },\n",
        "              ]\n",
        "\n",
        "gsc = GridSearchCV(estimator=forest, param_grid=grid_param, scoring='r2', cv=3)\n",
        "tuning_result = gsc.fit(tuning_set.text.values, tuning_set[[\"lat\", \"lon\"]].values)\n",
        "print(\"Best: %f using %s\" % (tuning_result.best_score_, tuning_result.best_params_))"
      ],
      "metadata": {
        "colab": {
          "base_uri": "https://localhost:8080/"
        },
        "id": "X4dS-UO8zclA",
        "outputId": "66c438e9-7aa8-4ed1-98c7-a7f6372a2675"
      },
      "execution_count": null,
      "outputs": [
        {
          "output_type": "stream",
          "name": "stdout",
          "text": [
            "Best: 0.109010 using {'clf': RandomForestRegressor(), 'clf__n_estimators': 100, 'vect': TfidfVectorizer(analyzer='char', max_df=0.5, min_df=2, ngram_range=(2, 5)), 'vect__analyzer': 'char', 'vect__lowercase': True, 'vect__max_df': 0.5, 'vect__min_df': 2, 'vect__ngram_range': (2, 5)}\n"
          ]
        }
      ]
    },
    {
      "cell_type": "code",
      "source": [
        "# tuning the best result on all the texts\n",
        "forest_tuned = Pipeline([('vect', tuning_result.best_params_[\"vect\"]), ('clf', tuning_result.best_params_[\"clf\"])])\n",
        "forest_tuned.fit(train.text.values, train[[\"lat\", \"lon\"]].values)\n",
        "forest_coords = forest_tuned.predict(test.text.values)\n",
        "print(f\"MAE of lat and lon: {mean_absolute_error(test.lat.values, forest_coords[:, 0]):.2f} & {mean_absolute_error(test.lon.values, forest_coords[:, 1]):.2f}\")\n",
        "print(f\"MSE of lat and lon: {mean_squared_error(test.lat.values, forest_coords[:, 0]):.2f} & {mean_squared_error(test.lon.values, forest_coords[:, 1]):.2f}\")"
      ],
      "metadata": {
        "colab": {
          "base_uri": "https://localhost:8080/"
        },
        "id": "bljFNU_L6pDW",
        "outputId": "53ac64e6-ac85-43a5-9497-990a58d2562d"
      },
      "execution_count": null,
      "outputs": [
        {
          "output_type": "stream",
          "name": "stdout",
          "text": [
            "MAE of lat and lon: 1.22 & 1.69\n",
            "MSE of lat and lon: 2.45 & 5.00\n"
          ]
        }
      ]
    },
    {
      "cell_type": "markdown",
      "source": [
        "#### Classification assessment"
      ],
      "metadata": {
        "id": "EBSgZZTT8zn2"
      }
    },
    {
      "cell_type": "code",
      "source": [
        "import geopy.distance\n",
        "def degeocode(geocoded_areas, predictions, target_col=\"category\"):\n",
        "    classes = []\n",
        "    # find the nearest geocoded area to the prediction in 2d \n",
        "    for p in predictions:\n",
        "        dists = geocoded_areas.apply(lambda r: geopy.distance.geodesic( (r.lat, r.lon), (p[0], p[1])).km, axis=1)\n",
        "        classes.append(geocoded_areas.iloc[dists.argmin()][target_col])\n",
        "    return classes\n",
        "\n",
        "def km_distance(geocodes, gold_locs, pred_ll, target_col=\"category\"):\n",
        "    dists = []\n",
        "    for g, p in zip(gold_locs, pred_ll):\n",
        "        gold_lat, gold_lon = geocodes[geocodes[target_col]==g][[\"lat\", \"lon\"]].values[0]\n",
        "        dists.append(geopy.distance.geodesic( (gold_lat, gold_lon), (p[0], p[1])).km)\n",
        "    return pd.Series(dists)"
      ],
      "metadata": {
        "id": "vPpM47Y4619F"
      },
      "execution_count": null,
      "outputs": []
    },
    {
      "cell_type": "code",
      "source": [
        "# interpreting the results in terms of predicted distance\n",
        "dist = km_distance(geocodes=_train.drop_duplicates(\"category\"), gold_locs=_train.category.values, pred_ll=xtra_preds)\n",
        "print(f\"W/XtraTrees, {25}% of the predicted places fall within {dist.quantile(0.25):.2f}kms\")\n",
        "print(f\"(NOTE: {len(set(df_test.category.unique())-set(df_test.category.unique()).intersection((_train.category.unique())))} areas out of the {len(set(df_test.category.unique()))} were not in the train)\")"
      ],
      "metadata": {
        "id": "GhiQiL4z9G-y"
      },
      "execution_count": null,
      "outputs": []
    },
    {
      "cell_type": "markdown",
      "source": [
        "# Classification"
      ],
      "metadata": {
        "id": "p9GA-2rjEM0C"
      }
    },
    {
      "cell_type": "markdown",
      "source": [
        "#### SVC"
      ],
      "metadata": {
        "id": "es-5tKzwGC_7"
      }
    },
    {
      "cell_type": "code",
      "source": [
        "# tuning extratrees\n",
        "svc = Pipeline([('vect', TfidfVectorizer()), ('clf', LinearSVC())])\n",
        "grid_param = [\n",
        "                {\n",
        "                    \"vect\": [TfidfVectorizer()],\n",
        "                    \"vect__analyzer\": [\"word\", \"char\"],\n",
        "                    \"vect__lowercase\": [True],\n",
        "                    \"vect__max_df\": [0.5],\n",
        "                    \"vect__min_df\": [2, 10],\n",
        "                    \"vect__ngram_range\": [(1,1), (1,2), (2,5)],\n",
        "                    \"clf\": [LinearSVC()],\n",
        "                 },\n",
        "              ]\n",
        "\n",
        "gsc = GridSearchCV(estimator=svc, param_grid=grid_param, scoring='accuracy', cv=3)\n",
        "tuning_result = gsc.fit(tuning_set.text.values, tuning_set.area.values)\n",
        "print(\"Best: %f using %s\" % (tuning_result.best_score_, tuning_result.best_params_))"
      ],
      "metadata": {
        "id": "jzZXKiOqEPQC",
        "outputId": "61227396-e346-4655-bca9-5baf2d442c59",
        "colab": {
          "base_uri": "https://localhost:8080/"
        }
      },
      "execution_count": 14,
      "outputs": [
        {
          "output_type": "stream",
          "name": "stdout",
          "text": [
            "Best: 0.163028 using {'clf': LinearSVC(), 'vect': TfidfVectorizer(analyzer='char', max_df=0.5, min_df=10, ngram_range=(2, 5)), 'vect__analyzer': 'char', 'vect__lowercase': True, 'vect__max_df': 0.5, 'vect__min_df': 10, 'vect__ngram_range': (2, 5)}\n"
          ]
        }
      ]
    },
    {
      "cell_type": "code",
      "source": [
        "# benchmarking text classification algorithms\n",
        "def benchmark_clf(train, dev):\n",
        "    for algo_name, algorithm in (('SVM', LinearSVC), \n",
        "                                 ('KNN', KNeighborsClassifier),\n",
        "                                 ('Forest', RandomForestClassifier), \n",
        "                                 ('LR', LogisticRegression)):\n",
        "        vect = TfidfVectorizer(ngram_range=(2,5), analyzer=\"char\", max_df=0.5, min_df=10, lowercase=True)\n",
        "        locator = Pipeline([('vect', vect), ('clf', algorithm())]) \n",
        "        locator.fit(train.text.values, train.area.values) \n",
        "        preds = locator.predict(test.text.values) \n",
        "        print(f'{algo_name}\\n{classification_report(test.area.values, preds)}')\n",
        "\n",
        "benchmark_clf(train, test)"
      ],
      "metadata": {
        "id": "CVlXBNqPFljC",
        "outputId": "dc07125a-ab30-4a92-eb2b-7e5a7bde1c38",
        "colab": {
          "base_uri": "https://localhost:8080/"
        }
      },
      "execution_count": 19,
      "outputs": [
        {
          "output_type": "stream",
          "name": "stdout",
          "text": [
            "SVM\n",
            "                 precision    recall  f1-score   support\n",
            "\n",
            "        Ήπειρος       0.10      0.09      0.09        23\n",
            "        Αιτωλία       0.35      0.29      0.32        24\n",
            "        Αμοργός       0.27      0.32      0.29        22\n",
            "Ανατολική Θράκη       0.18      0.25      0.21        24\n",
            "        Αρκαδία       0.14      0.13      0.14        31\n",
            "          Αχαΐα       0.41      0.34      0.37        32\n",
            "      Επτάνησος       0.39      0.61      0.47        23\n",
            "         Εύβοια       0.05      0.05      0.05        20\n",
            "      Θεσπρωτία       0.21      0.18      0.20        22\n",
            "          Θράκη       0.23      0.20      0.21        25\n",
            "       Ιωάννινα       0.24      0.14      0.17        29\n",
            "       Κάρπαθος       0.43      0.36      0.39        28\n",
            "     Κεφαλληνία       0.11      0.11      0.11        27\n",
            "          Κρήτη       0.47      0.30      0.37        30\n",
            "         Κύπρος       0.68      0.88      0.76        24\n",
            "         Λέσβος       0.43      0.50      0.46        24\n",
            "        Λακωνία       0.10      0.07      0.09        27\n",
            "      Μακεδονία       0.26      0.26      0.26        27\n",
            "     Μικρά Ασία       0.07      0.06      0.06        18\n",
            "          Νάξος       0.38      0.50      0.43        24\n",
            "         Πόντος       0.73      0.84      0.78        19\n",
            "          Ρόδος       0.27      0.32      0.29        22\n",
            "         Σκύρος       0.54      0.67      0.60        30\n",
            "\n",
            "       accuracy                           0.32       575\n",
            "      macro avg       0.31      0.32      0.31       575\n",
            "   weighted avg       0.31      0.32      0.31       575\n",
            "\n",
            "KNN\n",
            "                 precision    recall  f1-score   support\n",
            "\n",
            "        Ήπειρος       0.05      0.17      0.08        23\n",
            "        Αιτωλία       0.21      0.46      0.29        24\n",
            "        Αμοργός       0.11      0.27      0.15        22\n",
            "Ανατολική Θράκη       0.04      0.08      0.05        24\n",
            "        Αρκαδία       0.14      0.19      0.16        31\n",
            "          Αχαΐα       0.19      0.19      0.19        32\n",
            "      Επτάνησος       0.19      0.22      0.20        23\n",
            "         Εύβοια       0.06      0.10      0.08        20\n",
            "      Θεσπρωτία       0.05      0.05      0.05        22\n",
            "          Θράκη       0.18      0.12      0.14        25\n",
            "       Ιωάννινα       0.17      0.14      0.15        29\n",
            "       Κάρπαθος       0.00      0.00      0.00        28\n",
            "     Κεφαλληνία       0.12      0.07      0.09        27\n",
            "          Κρήτη       0.08      0.03      0.05        30\n",
            "         Κύπρος       0.45      0.38      0.41        24\n",
            "         Λέσβος       0.67      0.33      0.44        24\n",
            "        Λακωνία       0.10      0.04      0.05        27\n",
            "      Μακεδονία       0.19      0.11      0.14        27\n",
            "     Μικρά Ασία       0.12      0.06      0.08        18\n",
            "          Νάξος       0.30      0.12      0.18        24\n",
            "         Πόντος       0.45      0.26      0.33        19\n",
            "          Ρόδος       0.30      0.14      0.19        22\n",
            "         Σκύρος       0.62      0.27      0.37        30\n",
            "\n",
            "       accuracy                           0.16       575\n",
            "      macro avg       0.21      0.17      0.17       575\n",
            "   weighted avg       0.21      0.16      0.17       575\n",
            "\n",
            "Forest\n",
            "                 precision    recall  f1-score   support\n",
            "\n",
            "        Ήπειρος       0.17      0.17      0.17        23\n",
            "        Αιτωλία       0.30      0.42      0.35        24\n",
            "        Αμοργός       0.16      0.23      0.19        22\n",
            "Ανατολική Θράκη       0.08      0.12      0.10        24\n",
            "        Αρκαδία       0.17      0.13      0.15        31\n",
            "          Αχαΐα       0.41      0.22      0.29        32\n",
            "      Επτάνησος       0.30      0.30      0.30        23\n",
            "         Εύβοια       0.11      0.10      0.10        20\n",
            "      Θεσπρωτία       0.08      0.09      0.09        22\n",
            "          Θράκη       0.19      0.12      0.15        25\n",
            "       Ιωάννινα       0.20      0.14      0.16        29\n",
            "       Κάρπαθος       0.41      0.32      0.36        28\n",
            "     Κεφαλληνία       0.10      0.11      0.10        27\n",
            "          Κρήτη       0.25      0.20      0.22        30\n",
            "         Κύπρος       0.53      0.79      0.63        24\n",
            "         Λέσβος       0.45      0.58      0.51        24\n",
            "        Λακωνία       0.11      0.07      0.09        27\n",
            "      Μακεδονία       0.18      0.07      0.11        27\n",
            "     Μικρά Ασία       0.08      0.06      0.07        18\n",
            "          Νάξος       0.30      0.33      0.31        24\n",
            "         Πόντος       0.42      0.68      0.52        19\n",
            "          Ρόδος       0.30      0.27      0.29        22\n",
            "         Σκύρος       0.48      0.67      0.56        30\n",
            "\n",
            "       accuracy                           0.27       575\n",
            "      macro avg       0.25      0.27      0.25       575\n",
            "   weighted avg       0.26      0.27      0.25       575\n",
            "\n",
            "LR\n",
            "                 precision    recall  f1-score   support\n",
            "\n",
            "        Ήπειρος       0.21      0.22      0.21        23\n",
            "        Αιτωλία       0.36      0.54      0.43        24\n",
            "        Αμοργός       0.13      0.18      0.15        22\n",
            "Ανατολική Θράκη       0.15      0.17      0.16        24\n",
            "        Αρκαδία       0.20      0.19      0.20        31\n",
            "          Αχαΐα       0.38      0.19      0.25        32\n",
            "      Επτάνησος       0.31      0.61      0.41        23\n",
            "         Εύβοια       0.13      0.15      0.14        20\n",
            "      Θεσπρωτία       0.06      0.05      0.05        22\n",
            "          Θράκη       0.21      0.12      0.15        25\n",
            "       Ιωάννινα       0.26      0.21      0.23        29\n",
            "       Κάρπαθος       0.43      0.32      0.37        28\n",
            "     Κεφαλληνία       0.17      0.11      0.13        27\n",
            "          Κρήτη       0.36      0.30      0.33        30\n",
            "         Κύπρος       0.74      0.71      0.72        24\n",
            "         Λέσβος       0.47      0.62      0.54        24\n",
            "        Λακωνία       0.14      0.11      0.12        27\n",
            "      Μακεδονία       0.35      0.26      0.30        27\n",
            "     Μικρά Ασία       0.08      0.06      0.06        18\n",
            "          Νάξος       0.25      0.38      0.30        24\n",
            "         Πόντος       0.67      0.74      0.70        19\n",
            "          Ρόδος       0.25      0.23      0.24        22\n",
            "         Σκύρος       0.44      0.60      0.51        30\n",
            "\n",
            "       accuracy                           0.30       575\n",
            "      macro avg       0.29      0.31      0.29       575\n",
            "   weighted avg       0.30      0.30      0.29       575\n",
            "\n"
          ]
        }
      ]
    }
  ]
}