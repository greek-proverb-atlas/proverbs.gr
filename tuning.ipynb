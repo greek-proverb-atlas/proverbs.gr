{
  "cells": [
    {
      "cell_type": "markdown",
      "metadata": {
        "id": "view-in-github",
        "colab_type": "text"
      },
      "source": [
        "<a href=\"https://colab.research.google.com/github/greek-proverb-atlas/proverbs.gr/blob/main/tuning.ipynb\" target=\"_parent\"><img src=\"https://colab.research.google.com/assets/colab-badge.svg\" alt=\"Open In Colab\"/></a>"
      ]
    },
    {
      "cell_type": "code",
      "execution_count": 1,
      "metadata": {
        "id": "ay87HyvYwtKZ"
      },
      "outputs": [],
      "source": [
        "import pandas as pd\n",
        "import matplotlib.pyplot as plt\n",
        "import numpy as np\n",
        "import seaborn as sns\n",
        "from sklearn.model_selection import train_test_split\n",
        "from sklearn.metrics import *\n",
        "from sklearn.feature_extraction.text import TfidfVectorizer\n",
        "from sklearn.model_selection import GridSearchCV\n",
        "from sklearn.pipeline import Pipeline\n",
        "import os\n",
        "import ast\n",
        "\n",
        "from sklearn.base import TransformerMixin\n",
        "from sklearn.linear_model import LinearRegression, LogisticRegression\n",
        "from sklearn.ensemble import ExtraTreesRegressor, RandomForestRegressor, RandomForestClassifier, ExtraTreesClassifier\n",
        "from sklearn.svm import LinearSVC\n",
        "from sklearn.linear_model import ElasticNet\n",
        "from sklearn.model_selection import cross_val_score\n",
        "from sklearn.neighbors import KNeighborsRegressor, KNeighborsClassifier"
      ]
    },
    {
      "cell_type": "code",
      "execution_count": 2,
      "metadata": {
        "id": "92KvnvpZwwbT"
      },
      "outputs": [],
      "source": [
        "corpus_path = \"data/balanced_corpus.csv\"\n",
        "root = 'https://raw.githubusercontent.com/ipavlopoulos/paremia/main/'\n",
        "if not os.path.exists(corpus_path):\n",
        "  corpus_path = root + corpus_path\n",
        "balanced_corpus = pd.read_csv(corpus_path, index_col=0)"
      ]
    },
    {
      "cell_type": "code",
      "execution_count": 3,
      "metadata": {
        "id": "M5C8O-Ymf3S0"
      },
      "outputs": [],
      "source": [
        "geolocs = pd.read_csv(f'{root}data/geolocs.csv')\n",
        "balanced_corpus.lat = balanced_corpus.area.apply(lambda x: geolocs[x].iloc[0])\n",
        "balanced_corpus.lon = balanced_corpus.area.apply(lambda x: geolocs[x].iloc[1])"
      ]
    },
    {
      "cell_type": "code",
      "execution_count": 4,
      "metadata": {
        "id": "GpYdXWo1xION"
      },
      "outputs": [],
      "source": [
        "train, test = train_test_split(balanced_corpus, test_size=0.05, random_state=2023)\n",
        "train, dev = train_test_split(train, test_size=test.shape[0], random_state=2023)"
      ]
    },
    {
      "cell_type": "markdown",
      "metadata": {
        "id": "j3Yq3JAJEGX3"
      },
      "source": [
        "# Text regression"
      ]
    },
    {
      "cell_type": "markdown",
      "source": [
        "#### Tuning ElasticNet"
      ],
      "metadata": {
        "id": "UQg7k6drAagL"
      }
    },
    {
      "cell_type": "code",
      "source": [
        "# tuning extratrees\n",
        "elastic = Pipeline([('vect', TfidfVectorizer()), ('clf', ElasticNet())])\n",
        "grid_param = [\n",
        "                {\n",
        "                    \"vect\": [TfidfVectorizer()],\n",
        "                    \"vect__analyzer\": [\"word\", \"char\"],\n",
        "                    \"vect__lowercase\": [True],\n",
        "                    \"vect__max_df\": [0.5],\n",
        "                    \"vect__min_df\": [2, 10],\n",
        "                    \"vect__ngram_range\": [(1,1), (1,2), (2,5)],\n",
        "                    \"clf\": [ElasticNet()],\n",
        "                 },\n",
        "              ]\n",
        "\n",
        "gsc = GridSearchCV(estimator=elastic, param_grid=grid_param, scoring='r2', cv=3)\n",
        "tuning_result = gsc.fit(dev.text.values, dev[[\"lat\", \"lon\"]].values)\n",
        "print(\"Best: %f using %s\" % (tuning_result.best_score_, tuning_result.best_params_))"
      ],
      "metadata": {
        "id": "JxJrZavIAdyv",
        "outputId": "61fa6746-f174-4742-9a01-a8935df9450c",
        "colab": {
          "base_uri": "https://localhost:8080/"
        }
      },
      "execution_count": 21,
      "outputs": [
        {
          "output_type": "stream",
          "name": "stdout",
          "text": [
            "Best: -0.000113 using {'clf': ElasticNet(), 'vect': TfidfVectorizer(), 'vect__analyzer': 'word', 'vect__lowercase': True, 'vect__max_df': 0.5, 'vect__min_df': 2, 'vect__ngram_range': (1, 1)}\n"
          ]
        },
        {
          "output_type": "stream",
          "name": "stderr",
          "text": [
            "/usr/local/lib/python3.10/dist-packages/sklearn/model_selection/_validation.py:540: FitFailedWarning: \n",
            "3 fits failed out of a total of 36.\n",
            "The score on these train-test partitions for these parameters will be set to nan.\n",
            "If these failures are not expected, you can try to debug them by setting error_score='raise'.\n",
            "\n",
            "Below are more details about the failures:\n",
            "--------------------------------------------------------------------------------\n",
            "3 fits failed with the following error:\n",
            "Traceback (most recent call last):\n",
            "  File \"/usr/local/lib/python3.10/dist-packages/sklearn/model_selection/_validation.py\", line 888, in _fit_and_score\n",
            "    estimator.fit(X_train, y_train, **fit_params)\n",
            "  File \"/usr/local/lib/python3.10/dist-packages/sklearn/base.py\", line 1473, in wrapper\n",
            "    return fit_method(estimator, *args, **kwargs)\n",
            "  File \"/usr/local/lib/python3.10/dist-packages/sklearn/pipeline.py\", line 469, in fit\n",
            "    Xt = self._fit(X, y, routed_params)\n",
            "  File \"/usr/local/lib/python3.10/dist-packages/sklearn/pipeline.py\", line 406, in _fit\n",
            "    X, fitted_transformer = fit_transform_one_cached(\n",
            "  File \"/usr/local/lib/python3.10/dist-packages/joblib/memory.py\", line 312, in __call__\n",
            "    return self.func(*args, **kwargs)\n",
            "  File \"/usr/local/lib/python3.10/dist-packages/sklearn/pipeline.py\", line 1310, in _fit_transform_one\n",
            "    res = transformer.fit_transform(X, y, **params.get(\"fit_transform\", {}))\n",
            "  File \"/usr/local/lib/python3.10/dist-packages/sklearn/feature_extraction/text.py\", line 2091, in fit_transform\n",
            "    X = super().fit_transform(raw_documents)\n",
            "  File \"/usr/local/lib/python3.10/dist-packages/sklearn/base.py\", line 1473, in wrapper\n",
            "    return fit_method(estimator, *args, **kwargs)\n",
            "  File \"/usr/local/lib/python3.10/dist-packages/sklearn/feature_extraction/text.py\", line 1385, in fit_transform\n",
            "    X = self._limit_features(\n",
            "  File \"/usr/local/lib/python3.10/dist-packages/sklearn/feature_extraction/text.py\", line 1237, in _limit_features\n",
            "    raise ValueError(\n",
            "ValueError: After pruning, no terms remain. Try a lower min_df or a higher max_df.\n",
            "\n",
            "  warnings.warn(some_fits_failed_message, FitFailedWarning)\n",
            "/usr/local/lib/python3.10/dist-packages/sklearn/model_selection/_search.py:1103: UserWarning: One or more of the test scores are non-finite: [-0.0001134 -0.0001134 -0.0001134 -0.0001134 -0.0001134        nan\n",
            " -0.0001134 -0.0001134 -0.0001134 -0.0001134 -0.0001134 -0.0001134]\n",
            "  warnings.warn(\n"
          ]
        }
      ]
    },
    {
      "cell_type": "markdown",
      "metadata": {
        "id": "DGbsqg9v68OG"
      },
      "source": [
        "#### Tuning the ExtraTrees"
      ]
    },
    {
      "cell_type": "code",
      "execution_count": null,
      "metadata": {
        "colab": {
          "base_uri": "https://localhost:8080/"
        },
        "id": "ITtvsWiAwxwt",
        "outputId": "033891fc-d301-4884-8d33-19ec49d43bd7"
      },
      "outputs": [
        {
          "name": "stdout",
          "output_type": "stream",
          "text": [
            "Best: -0.058715 using {'clf': ExtraTreesRegressor(), 'clf__n_estimators': 10, 'vect': TfidfVectorizer(), 'vect__analyzer': 'word', 'vect__lowercase': True, 'vect__max_df': 0.5, 'vect__min_df': 2, 'vect__ngram_range': (2, 5)}\n"
          ]
        }
      ],
      "source": [
        "# tuning extratrees\n",
        "xtra = Pipeline([('vect', TfidfVectorizer()), ('clf', ExtraTreesRegressor())])\n",
        "grid_param = [\n",
        "                {\n",
        "                    \"vect\": [TfidfVectorizer()],\n",
        "                    \"vect__analyzer\": [\"word\", \"char\"],\n",
        "                    \"vect__lowercase\": [True],\n",
        "                    \"vect__max_df\": [0.5],\n",
        "                    \"vect__min_df\": [2, 10],\n",
        "                    \"vect__ngram_range\": [(1,1), (1,2), (2,5)],\n",
        "                    \"clf\": [ExtraTreesRegressor()],\n",
        "                    \"clf__n_estimators\": [10, 100], # this is redundant\n",
        "                 },\n",
        "              ]\n",
        "\n",
        "gsc = GridSearchCV(estimator=xtra, param_grid=grid_param, scoring='r2', cv=3)\n",
        "tuning_result = gsc.fit(dev.text.values, dev[[\"lat\", \"lon\"]].values)\n",
        "print(\"Best: %f using %s\" % (tuning_result.best_score_, tuning_result.best_params_))"
      ]
    },
    {
      "cell_type": "code",
      "execution_count": null,
      "metadata": {
        "colab": {
          "base_uri": "https://localhost:8080/"
        },
        "id": "rWTS6mcAxLee",
        "outputId": "94e91678-a7b9-4f94-a39e-eff203cf463d"
      },
      "outputs": [
        {
          "name": "stdout",
          "output_type": "stream",
          "text": [
            "MAE of lat and lon: 1.31 & 1.82\n",
            "MSE of lat and lon: 2.97 & 6.03\n"
          ]
        }
      ],
      "source": [
        "# tuning the best result on all the texts\n",
        "xtra_tuned = Pipeline([('vect', tuning_result.best_params_[\"vect\"]), ('clf', tuning_result.best_params_[\"clf\"])])\n",
        "xtra_tuned.fit(train.text.values, train[[\"lat\", \"lon\"]].values)\n",
        "predicted_coords = xtra_tuned.predict(test.text.values)\n",
        "print(f\"MAE of lat and lon: {mean_absolute_error(test.lat.values, predicted_coords[:, 0]):.2f} & {mean_absolute_error(test.lon.values, predicted_coords[:, 1]):.2f}\")\n",
        "print(f\"MSE of lat and lon: {mean_squared_error(test.lat.values, predicted_coords[:, 0]):.2f} & {mean_squared_error(test.lon.values, predicted_coords[:, 1]):.2f}\")"
      ]
    },
    {
      "cell_type": "markdown",
      "metadata": {
        "id": "7Uy-8hAz5_Eq"
      },
      "source": [
        "#### Tuning the Forest"
      ]
    },
    {
      "cell_type": "code",
      "execution_count": null,
      "metadata": {
        "colab": {
          "base_uri": "https://localhost:8080/"
        },
        "id": "X4dS-UO8zclA",
        "outputId": "66c438e9-7aa8-4ed1-98c7-a7f6372a2675"
      },
      "outputs": [
        {
          "name": "stdout",
          "output_type": "stream",
          "text": [
            "Best: 0.035717 using {'clf': RandomForestRegressor(), 'clf__n_estimators': 100, 'vect': TfidfVectorizer(), 'vect__analyzer': 'char', 'vect__lowercase': True, 'vect__max_df': 0.5, 'vect__min_df': 2, 'vect__ngram_range': (2, 5)}\n"
          ]
        }
      ],
      "source": [
        "# tuning extratrees\n",
        "forest = Pipeline([('vect', TfidfVectorizer()), ('clf', RandomForestRegressor())])\n",
        "grid_param = [\n",
        "                {\n",
        "                    \"vect\": [TfidfVectorizer()],\n",
        "                    \"vect__analyzer\": [\"word\", \"char\"],\n",
        "                    \"vect__lowercase\": [True],\n",
        "                    \"vect__max_df\": [0.5],\n",
        "                    \"vect__min_df\": [2, 10],\n",
        "                    \"vect__ngram_range\": [(1,1), (1,2), (2,5)],\n",
        "                    \"clf\": [RandomForestRegressor()],\n",
        "                    \"clf__n_estimators\": [10, 100],\n",
        "                 },\n",
        "              ]\n",
        "\n",
        "gsc = GridSearchCV(estimator=forest, param_grid=grid_param, scoring='r2', cv=3)\n",
        "tuning_result = gsc.fit(dev.text.values, dev[[\"lat\", \"lon\"]].values)\n",
        "print(\"Best: %f using %s\" % (tuning_result.best_score_, tuning_result.best_params_))"
      ]
    },
    {
      "cell_type": "code",
      "execution_count": null,
      "metadata": {
        "colab": {
          "base_uri": "https://localhost:8080/"
        },
        "id": "bljFNU_L6pDW",
        "outputId": "475e681e-10a9-4ff0-8dce-663c8158cc62"
      },
      "outputs": [
        {
          "name": "stdout",
          "output_type": "stream",
          "text": [
            "MAE of lat and lon: 1.30 & 1.76\n",
            "MSE of lat and lon: 2.73 & 5.30\n"
          ]
        }
      ],
      "source": [
        "# tuning the best result on all the texts\n",
        "forest_tuned = Pipeline([('vect', tuning_result.best_params_[\"vect\"]), ('clf', tuning_result.best_params_[\"clf\"])])\n",
        "forest_tuned.fit(train.text.values, train[[\"lat\", \"lon\"]].values)\n",
        "forest_coords = forest_tuned.predict(test.text.values)\n",
        "print(f\"MAE of lat and lon: {mean_absolute_error(test.lat.values, forest_coords[:, 0]):.2f} & {mean_absolute_error(test.lon.values, forest_coords[:, 1]):.2f}\")\n",
        "print(f\"MSE of lat and lon: {mean_squared_error(test.lat.values, forest_coords[:, 0]):.2f} & {mean_squared_error(test.lon.values, forest_coords[:, 1]):.2f}\")"
      ]
    },
    {
      "cell_type": "markdown",
      "metadata": {
        "id": "EBSgZZTT8zn2"
      },
      "source": [
        "#### Classification assessment"
      ]
    },
    {
      "cell_type": "code",
      "execution_count": null,
      "metadata": {
        "id": "vPpM47Y4619F"
      },
      "outputs": [],
      "source": [
        "import geopy.distance\n",
        "def degeocode(geocoded_areas, predictions, target_col=\"category\"):\n",
        "    classes = []\n",
        "    # find the nearest geocoded area to the prediction in 2d\n",
        "    for p in predictions:\n",
        "        dists = geocoded_areas.apply(lambda r: geopy.distance.geodesic( (r.lat, r.lon), (p[0], p[1])).km, axis=1)\n",
        "        classes.append(geocoded_areas.iloc[dists.argmin()][target_col])\n",
        "    return classes\n",
        "\n",
        "def km_distance(geocodes, gold_locs, pred_ll, target_col=\"category\"):\n",
        "    dists = []\n",
        "    for g, p in zip(gold_locs, pred_ll):\n",
        "        gold_lat, gold_lon = geocodes[geocodes[target_col]==g][[\"lat\", \"lon\"]].values[0]\n",
        "        dists.append(geopy.distance.geodesic( (gold_lat, gold_lon), (p[0], p[1])).km)\n",
        "    return pd.Series(dists)"
      ]
    },
    {
      "cell_type": "code",
      "execution_count": null,
      "metadata": {
        "id": "GhiQiL4z9G-y",
        "outputId": "2d0cd197-b821-46c1-8c52-b79c2f153a48"
      },
      "outputs": [
        {
          "data": {
            "text/plain": [
              "' ## WARNING: this code is broken ##\\nxtra_preds = xtra_tuned.predict(test.text.values)\\n# interpreting the results in terms of predicted distance\\ndist = km_distance(geocodes=train.drop_duplicates(\"category\"), gold_locs=train.category.values, pred_ll=xtra_preds)\\nprint(f\"W/XtraTrees, {25}% of the predicted places fall within {dist.quantile(0.25):.2f}kms\")\\nprint(f\"(NOTE: {len(set(test.category.unique())-set(test.category.unique()).intersection((train.category.unique())))} areas out of the {len(set(test.category.unique()))} were not in the train)\")\\n'"
            ]
          },
          "execution_count": 10,
          "metadata": {},
          "output_type": "execute_result"
        }
      ],
      "source": [
        "''' ## WARNING: this code is broken ##\n",
        "xtra_preds = xtra_tuned.predict(test.text.values)\n",
        "# interpreting the results in terms of predicted distance\n",
        "dist = km_distance(geocodes=train.drop_duplicates(\"category\"), gold_locs=train.category.values, pred_ll=xtra_preds)\n",
        "print(f\"W/XtraTrees, {25}% of the predicted places fall within {dist.quantile(0.25):.2f}kms\")\n",
        "print(f\"(NOTE: {len(set(test.category.unique())-set(test.category.unique()).intersection((train.category.unique())))} areas out of the {len(set(test.category.unique()))} were not in the train)\")\n",
        "'''"
      ]
    },
    {
      "cell_type": "markdown",
      "metadata": {
        "id": "p9GA-2rjEM0C"
      },
      "source": [
        "# Classification"
      ]
    },
    {
      "cell_type": "markdown",
      "metadata": {
        "id": "es-5tKzwGC_7"
      },
      "source": [
        "#### SVC"
      ]
    },
    {
      "cell_type": "code",
      "execution_count": null,
      "metadata": {
        "colab": {
          "base_uri": "https://localhost:8080/"
        },
        "id": "jzZXKiOqEPQC",
        "outputId": "c4b3fd7c-e117-4b57-b7db-b3231728855a"
      },
      "outputs": [
        {
          "name": "stdout",
          "output_type": "stream",
          "text": [
            "Best: 0.283382 using {'clf': LinearSVC(), 'vect': TfidfVectorizer(), 'vect__analyzer': 'char', 'vect__lowercase': True, 'vect__max_df': 0.5, 'vect__min_df': 2, 'vect__ngram_range': (2, 5)}\n"
          ]
        }
      ],
      "source": [
        "# tuning extratrees\n",
        "svc = Pipeline([('vect', TfidfVectorizer()), ('clf', LinearSVC())])\n",
        "grid_param = [\n",
        "                {\n",
        "                    \"vect\": [TfidfVectorizer()],\n",
        "                    \"vect__analyzer\": [\"word\", \"char\"],\n",
        "                    \"vect__lowercase\": [True],\n",
        "                    \"vect__max_df\": [0.5],\n",
        "                    \"vect__min_df\": [2, 10],\n",
        "                    \"vect__ngram_range\": [(1,1), (1,2), (2,5)],\n",
        "                    \"clf\": [LinearSVC()],\n",
        "                 },\n",
        "              ]\n",
        "\n",
        "gsc = GridSearchCV(estimator=svc, param_grid=grid_param, scoring='accuracy', cv=3)\n",
        "tuning_result = gsc.fit(train.text.values, train.area.values)\n",
        "print(\"Best: %f using %s\" % (tuning_result.best_score_, tuning_result.best_params_))"
      ]
    },
    {
      "cell_type": "markdown",
      "metadata": {
        "id": "fphLQdOHSCk2"
      },
      "source": [
        "#### Benchmarking with the best TFIDF representation found for SVC"
      ]
    },
    {
      "cell_type": "code",
      "execution_count": null,
      "metadata": {
        "colab": {
          "base_uri": "https://localhost:8080/"
        },
        "id": "CVlXBNqPFljC",
        "outputId": "09a03c4c-89ff-4c76-c5ee-e9ad12a710ad"
      },
      "outputs": [
        {
          "name": "stdout",
          "output_type": "stream",
          "text": [
            "SVM\n",
            "                 precision    recall  f1-score   support\n",
            "\n",
            "        Ήπειρος       0.09      0.09      0.09        23\n",
            "        Αιτωλία       0.42      0.46      0.44        24\n",
            "        Αμοργός       0.26      0.32      0.29        22\n",
            "Ανατολική Θράκη       0.19      0.25      0.22        24\n",
            "        Αρκαδία       0.11      0.10      0.10        31\n",
            "          Αχαΐα       0.31      0.25      0.28        32\n",
            "      Επτάνησος       0.47      0.70      0.56        23\n",
            "         Εύβοια       0.06      0.05      0.05        20\n",
            "      Θεσπρωτία       0.11      0.09      0.10        22\n",
            "          Θράκη       0.26      0.20      0.23        25\n",
            "       Ιωάννινα       0.26      0.17      0.21        29\n",
            "       Κάρπαθος       0.42      0.39      0.41        28\n",
            "     Κεφαλληνία       0.25      0.22      0.24        27\n",
            "          Κρήτη       0.36      0.33      0.34        30\n",
            "         Κύπρος       0.70      0.96      0.81        24\n",
            "         Λέσβος       0.45      0.54      0.49        24\n",
            "        Λακωνία       0.10      0.07      0.09        27\n",
            "      Μακεδονία       0.35      0.30      0.32        27\n",
            "     Μικρά Ασία       0.20      0.11      0.14        18\n",
            "          Νάξος       0.44      0.58      0.50        24\n",
            "         Πόντος       0.73      0.84      0.78        19\n",
            "          Ρόδος       0.28      0.32      0.30        22\n",
            "         Σκύρος       0.54      0.63      0.58        30\n",
            "\n",
            "       accuracy                           0.34       575\n",
            "      macro avg       0.32      0.35      0.33       575\n",
            "   weighted avg       0.32      0.34      0.33       575\n",
            "\n",
            "KNN\n",
            "                 precision    recall  f1-score   support\n",
            "\n",
            "        Ήπειρος       0.06      0.22      0.09        23\n",
            "        Αιτωλία       0.21      0.42      0.28        24\n",
            "        Αμοργός       0.08      0.23      0.12        22\n",
            "Ανατολική Θράκη       0.06      0.12      0.08        24\n",
            "        Αρκαδία       0.14      0.19      0.16        31\n",
            "          Αχαΐα       0.22      0.22      0.22        32\n",
            "      Επτάνησος       0.20      0.17      0.19        23\n",
            "         Εύβοια       0.04      0.05      0.04        20\n",
            "      Θεσπρωτία       0.06      0.05      0.05        22\n",
            "          Θράκη       0.09      0.08      0.09        25\n",
            "       Ιωάννινα       0.25      0.14      0.18        29\n",
            "       Κάρπαθος       0.17      0.07      0.10        28\n",
            "     Κεφαλληνία       0.08      0.04      0.05        27\n",
            "          Κρήτη       0.29      0.13      0.18        30\n",
            "         Κύπρος       0.50      0.38      0.43        24\n",
            "         Λέσβος       0.56      0.38      0.45        24\n",
            "        Λακωνία       0.08      0.04      0.05        27\n",
            "      Μακεδονία       0.19      0.11      0.14        27\n",
            "     Μικρά Ασία       0.00      0.00      0.00        18\n",
            "          Νάξος       0.44      0.17      0.24        24\n",
            "         Πόντος       0.75      0.47      0.58        19\n",
            "          Ρόδος       0.27      0.14      0.18        22\n",
            "         Σκύρος       0.78      0.23      0.36        30\n",
            "\n",
            "       accuracy                           0.17       575\n",
            "      macro avg       0.24      0.18      0.19       575\n",
            "   weighted avg       0.24      0.17      0.19       575\n",
            "\n",
            "Forest\n",
            "                 precision    recall  f1-score   support\n",
            "\n",
            "        Ήπειρος       0.16      0.22      0.18        23\n",
            "        Αιτωλία       0.28      0.46      0.34        24\n",
            "        Αμοργός       0.15      0.27      0.20        22\n",
            "Ανατολική Θράκη       0.16      0.29      0.21        24\n",
            "        Αρκαδία       0.21      0.16      0.18        31\n",
            "          Αχαΐα       0.40      0.31      0.35        32\n",
            "      Επτάνησος       0.42      0.35      0.38        23\n",
            "         Εύβοια       0.00      0.00      0.00        20\n",
            "      Θεσπρωτία       0.10      0.09      0.09        22\n",
            "          Θράκη       0.25      0.20      0.22        25\n",
            "       Ιωάννινα       0.17      0.14      0.15        29\n",
            "       Κάρπαθος       0.36      0.29      0.32        28\n",
            "     Κεφαλληνία       0.15      0.11      0.13        27\n",
            "          Κρήτη       0.24      0.17      0.20        30\n",
            "         Κύπρος       0.59      0.83      0.69        24\n",
            "         Λέσβος       0.39      0.58      0.47        24\n",
            "        Λακωνία       0.12      0.07      0.09        27\n",
            "      Μακεδονία       0.33      0.15      0.21        27\n",
            "     Μικρά Ασία       0.00      0.00      0.00        18\n",
            "          Νάξος       0.42      0.33      0.37        24\n",
            "         Πόντος       0.45      0.74      0.56        19\n",
            "          Ρόδος       0.38      0.23      0.29        22\n",
            "         Σκύρος       0.50      0.67      0.57        30\n",
            "\n",
            "       accuracy                           0.29       575\n",
            "      macro avg       0.27      0.29      0.27       575\n",
            "   weighted avg       0.28      0.29      0.27       575\n",
            "\n",
            "LR\n",
            "                 precision    recall  f1-score   support\n",
            "\n",
            "        Ήπειρος       0.17      0.17      0.17        23\n",
            "        Αιτωλία       0.38      0.58      0.46        24\n",
            "        Αμοργός       0.13      0.18      0.15        22\n",
            "Ανατολική Θράκη       0.16      0.21      0.18        24\n",
            "        Αρκαδία       0.20      0.16      0.18        31\n",
            "          Αχαΐα       0.39      0.22      0.28        32\n",
            "      Επτάνησος       0.35      0.65      0.45        23\n",
            "         Εύβοια       0.06      0.05      0.05        20\n",
            "      Θεσπρωτία       0.05      0.05      0.05        22\n",
            "          Θράκη       0.25      0.16      0.20        25\n",
            "       Ιωάννινα       0.29      0.21      0.24        29\n",
            "       Κάρπαθος       0.40      0.29      0.33        28\n",
            "     Κεφαλληνία       0.14      0.11      0.12        27\n",
            "          Κρήτη       0.35      0.27      0.30        30\n",
            "         Κύπρος       0.72      0.75      0.73        24\n",
            "         Λέσβος       0.42      0.62      0.50        24\n",
            "        Λακωνία       0.12      0.07      0.09        27\n",
            "      Μακεδονία       0.37      0.26      0.30        27\n",
            "     Μικρά Ασία       0.00      0.00      0.00        18\n",
            "          Νάξος       0.31      0.46      0.37        24\n",
            "         Πόντος       0.75      0.79      0.77        19\n",
            "          Ρόδος       0.26      0.23      0.24        22\n",
            "         Σκύρος       0.45      0.60      0.51        30\n",
            "\n",
            "       accuracy                           0.31       575\n",
            "      macro avg       0.29      0.31      0.29       575\n",
            "   weighted avg       0.30      0.31      0.29       575\n",
            "\n"
          ]
        }
      ],
      "source": [
        "# benchmarking text classification algorithms\n",
        "def benchmark_clf(train, dev):\n",
        "    for algo_name, algorithm in (('SVM', LinearSVC(random_state=2023)),\n",
        "                                 ('KNN', KNeighborsClassifier()),\n",
        "                                 ('Forest', RandomForestClassifier(random_state=2023)),\n",
        "                                 ('LR', LogisticRegression(random_state=2023))):\n",
        "        vect = TfidfVectorizer(ngram_range=(2,5), analyzer=\"char\", max_df=0.5, min_df=2, lowercase=True)\n",
        "        locator = Pipeline([('vect', vect), ('clf', algorithm)])\n",
        "        locator.fit(train.text.values, train.area.values)\n",
        "        preds = locator.predict(test.text.values)\n",
        "        print(f'{algo_name}\\n{classification_report(test.area.values, preds)}')\n",
        "\n",
        "benchmark_clf(train, test)"
      ]
    },
    {
      "cell_type": "code",
      "execution_count": null,
      "metadata": {
        "id": "lJrFO64BRUkB"
      },
      "outputs": [],
      "source": []
    }
  ],
  "metadata": {
    "colab": {
      "collapsed_sections": [
        "DGbsqg9v68OG"
      ],
      "provenance": [],
      "machine_shape": "hm",
      "gpuType": "L4",
      "authorship_tag": "ABX9TyOkQf2Zw8N/+vUvAKitJp2U",
      "include_colab_link": true
    },
    "kernelspec": {
      "display_name": "Python 3",
      "name": "python3"
    },
    "language_info": {
      "codemirror_mode": {
        "name": "ipython",
        "version": 3
      },
      "file_extension": ".py",
      "mimetype": "text/x-python",
      "name": "python",
      "nbconvert_exporter": "python",
      "pygments_lexer": "ipython3",
      "version": "3.12.7"
    },
    "accelerator": "GPU"
  },
  "nbformat": 4,
  "nbformat_minor": 0
}