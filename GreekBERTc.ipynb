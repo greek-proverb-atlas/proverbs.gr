{
  "nbformat": 4,
  "nbformat_minor": 0,
  "metadata": {
    "colab": {
      "provenance": [],
      "machine_shape": "hm",
      "gpuType": "T4",
      "authorship_tag": "ABX9TyNuTf0OLdQ9pGgHIuQJmDtL",
      "include_colab_link": true
    },
    "kernelspec": {
      "name": "python3",
      "display_name": "Python 3"
    },
    "language_info": {
      "name": "python"
    },
    "accelerator": "GPU"
  },
  "cells": [
    {
      "cell_type": "markdown",
      "metadata": {
        "id": "view-in-github",
        "colab_type": "text"
      },
      "source": [
        "<a href=\"https://colab.research.google.com/github/ipavlopoulos/paremia/blob/main/GreekBERTc.ipynb\" target=\"_parent\"><img src=\"https://colab.research.google.com/assets/colab-badge.svg\" alt=\"Open In Colab\"/></a>"
      ]
    },
    {
      "cell_type": "code",
      "execution_count": 1,
      "metadata": {
        "id": "TqsCKUwZCpsf"
      },
      "outputs": [],
      "source": [
        "import pandas as pd\n",
        "import pandas as pd\n",
        "import matplotlib.pyplot as plt\n",
        "import numpy as np\n",
        "import seaborn as sns\n",
        "from sklearn.model_selection import train_test_split\n",
        "from sklearn.metrics import *\n",
        "from sklearn.pipeline import Pipeline\n",
        "from sklearn.ensemble import RandomForestRegressor, RandomForestClassifier, ExtraTreesRegressor\n",
        "from sklearn.linear_model import LinearRegression, LogisticRegression\n",
        "from sklearn.svm import LinearSVC\n",
        "from sklearn.feature_extraction.text import TfidfVectorizer\n",
        "import ast\n",
        "\n",
        "# load the data\n",
        "balanced_corpus = pd.read_csv(\"https://raw.githubusercontent.com/ipavlopoulos/paremia/main/data/balanced_corpus.csv\", index_col=0)\n",
        "train, test = train_test_split(balanced_corpus, test_size=0.05, random_state=2023)\n",
        "train, dev = train_test_split(train, test_size=test.shape[0], random_state=2023)"
      ]
    },
    {
      "cell_type": "code",
      "source": [
        "%%capture\n",
        "!pip install transformers\n",
        "from transformers import *\n",
        "model_name = 'nlpaueb/bert-base-greek-uncased-v1'\n",
        "tokenizer = BertTokenizer.from_pretrained(model_name)"
      ],
      "metadata": {
        "id": "_TaHmTFKCtK2"
      },
      "execution_count": 2,
      "outputs": []
    },
    {
      "cell_type": "code",
      "source": [
        "import torch\n",
        "import numpy as np\n",
        "from sklearn.preprocessing import OneHotEncoder\n",
        "\n",
        "# the areas that will serve as target label indices\n",
        "idx2loc = {i:a for i,a in enumerate(train.area.unique())}\n",
        "loc2idx = {idx2loc[i]:i for i in idx2loc}\n",
        "\n",
        "class Dataset(torch.utils.data.Dataset):\n",
        "    def __init__(self, df, max_length = 32):\n",
        "        self.max_length = max_length\n",
        "        self.labels = df.area.apply(lambda a: loc2idx[a])\n",
        "        self.labels = np.array(self.labels.values)\n",
        "        self.labels = np.reshape(self.labels, (self.labels.shape[0], 1))\n",
        "        self.labels = OneHotEncoder(sparse_output=False).fit_transform(self.labels)\n",
        "        self.texts = np.array(df.text.apply(lambda txt: tokenizer(txt, padding='max_length', max_length = self.max_length, truncation=True, return_tensors=\"pt\")).values)\n",
        "\n",
        "    def __len__(self):\n",
        "        return self.labels.shape[0]\n",
        "\n",
        "    def __getitem__(self, idx):\n",
        "        batch_texts = self.texts[idx]\n",
        "        batch_labels = self.labels[idx]\n",
        "        return batch_texts, batch_labels"
      ],
      "metadata": {
        "id": "J7mFiKSjCwHI"
      },
      "execution_count": 3,
      "outputs": []
    },
    {
      "cell_type": "code",
      "source": [
        "from torch import nn\n",
        "\n",
        "class BertClassifier(nn.Module):\n",
        "\n",
        "    def __init__(self, dropout=0.1, num_classes=1):\n",
        "        super(BertClassifier, self).__init__()\n",
        "        self.bert = BertModel.from_pretrained(model_name)\n",
        "        self.dropout = nn.Dropout(dropout)\n",
        "        self.linear1 = nn.Linear(768, 128, bias=True)\n",
        "        self.norm = nn.BatchNorm1d(128)\n",
        "        self.linear2 = nn.Linear(128, num_classes, bias=True)\n",
        "        self.relu = nn.ReLU()\n",
        "\n",
        "    def forward(self, input_id, mask):\n",
        "        _, pooled_output = self.bert(input_ids=input_id, attention_mask=mask, return_dict=False)\n",
        "        x = pooled_output\n",
        "        x = self.dropout(x)\n",
        "        x = self.relu(self.linear1(x))\n",
        "        x = self.norm(x)\n",
        "        x = self.linear2(x)\n",
        "        return x"
      ],
      "metadata": {
        "id": "VhlPDjVVCx1i"
      },
      "execution_count": 4,
      "outputs": []
    },
    {
      "cell_type": "code",
      "source": [
        "from torch.optim import Adam\n",
        "from tqdm import tqdm\n",
        "\n",
        "def validate(model, dataloader, device=\"cpu\"):\n",
        "    predictions, gold_labels = [], []\n",
        "    model.eval()\n",
        "    val_loss = 0\n",
        "    with torch.no_grad():\n",
        "        for barch_id, (val_input, val_label) in enumerate(dataloader):\n",
        "            val_label = val_label.to(device)\n",
        "            mask = val_input['attention_mask'].to(device)\n",
        "            input_id = val_input['input_ids'].squeeze(1).to(device)\n",
        "            output = model(input_id, mask)\n",
        "            batch_loss = criterion(output, val_label)\n",
        "            gold = np.argmax(val_label.cpu().detach().numpy(), axis=1)\n",
        "            pred = np.argmax(output.cpu().detach().numpy(), axis=1)\n",
        "            predictions.extend(pred)\n",
        "            gold_labels.extend(gold)\n",
        "            val_loss += batch_loss.item()\n",
        "    return predictions, gold_labels, val_loss/batch_id\n",
        "\n",
        "def finetune(model, train_data, val_data, learning_rate=2e-5, epochs=10, criterion=nn.CrossEntropyLoss(), batch_size=32, max_length=32, patience=2):\n",
        "    train_dataloader = torch.utils.data.DataLoader(Dataset(train_data, max_length=max_length), batch_size=batch_size, shuffle=True, drop_last=False)\n",
        "    val_dataloader = torch.utils.data.DataLoader(Dataset(val_data, max_length=max_length), batch_size=batch_size, drop_last=False)\n",
        "    use_cuda = torch.cuda.is_available()\n",
        "    device = torch.device(\"cuda\" if use_cuda else \"cpu\")\n",
        "    optimizer = Adam(model.parameters(), lr=learning_rate)\n",
        "    model.to(device)\n",
        "    lowest_loss = 10\n",
        "    best_epoch = 0\n",
        "    epochs_not_improving = 0\n",
        "    for epoch_num in range(epochs):\n",
        "            total_acc_train = 0\n",
        "            total_loss_train = 0\n",
        "            for batch_id, (inputs, labels) in tqdm(enumerate(train_dataloader)):\n",
        "                model.train()\n",
        "                output = model(inputs['input_ids'].squeeze(1).to(device), \n",
        "                               inputs['attention_mask'].to(device))\n",
        "                batch_loss = criterion(output.to(device), labels.to(device))\n",
        "                total_loss_train += batch_loss.item()\n",
        "\n",
        "                optimizer.zero_grad(); batch_loss.backward(); optimizer.step()           \n",
        "\n",
        "            predictions, gold_labels, val_loss = validate(model, val_dataloader, device)\n",
        "            if val_loss<lowest_loss:\n",
        "              lowest_loss = val_loss\n",
        "              best_epoch = epoch_num\n",
        "              torch.save(model.state_dict(), \"checkpoint.pt\")\n",
        "              epochs_not_improving = 0\n",
        "            else:\n",
        "              if epochs_not_improving > patience:\n",
        "                model.load_state_dict(torch.load(\"checkpoint.pt\"))\n",
        "                print('Patience is up, restoring the best model and exiting...')\n",
        "                break\n",
        "              epochs_not_improving +=1\n",
        "            print(\n",
        "                f'Epochs: {epoch_num + 1} | Train Loss: {total_loss_train / len(train_data): .3f} \\\n",
        "                | Val Loss: {val_loss: .3f}')\n",
        "    model.eval()    \n",
        "    return model\n",
        "\n",
        "model = finetune(BertClassifier(num_classes=len(loc2idx)), train, dev, patience = 2)"
      ],
      "metadata": {
        "colab": {
          "base_uri": "https://localhost:8080/"
        },
        "id": "JVYZ8jBTC6P-",
        "outputId": "bd7a9d9d-8eae-4962-c6e3-6baf7e1db7c8"
      },
      "execution_count": 10,
      "outputs": [
        {
          "metadata": {
            "tags": null
          },
          "name": "stderr",
          "output_type": "stream",
          "text": [
            "324it [01:00,  5.40it/s]\n"
          ]
        },
        {
          "metadata": {
            "tags": null
          },
          "name": "stdout",
          "output_type": "stream",
          "text": [
            "Epochs: 1 | Train Loss:  0.101                 | Val Loss:  0.098\n"
          ]
        },
        {
          "output_type": "stream",
          "name": "stderr",
          "text": [
            "324it [00:59,  5.49it/s]\n"
          ]
        },
        {
          "output_type": "stream",
          "name": "stdout",
          "text": [
            "Epochs: 2 | Train Loss:  0.096                 | Val Loss:  0.093\n"
          ]
        },
        {
          "output_type": "stream",
          "name": "stderr",
          "text": [
            "324it [00:59,  5.49it/s]\n"
          ]
        },
        {
          "output_type": "stream",
          "name": "stdout",
          "text": [
            "Epochs: 3 | Train Loss:  0.090                 | Val Loss:  0.089\n"
          ]
        },
        {
          "output_type": "stream",
          "name": "stderr",
          "text": [
            "324it [00:58,  5.49it/s]\n"
          ]
        },
        {
          "output_type": "stream",
          "name": "stdout",
          "text": [
            "Epochs: 4 | Train Loss:  0.085                 | Val Loss:  0.086\n"
          ]
        },
        {
          "output_type": "stream",
          "name": "stderr",
          "text": [
            "324it [00:58,  5.49it/s]\n"
          ]
        },
        {
          "output_type": "stream",
          "name": "stdout",
          "text": [
            "Epochs: 5 | Train Loss:  0.080                 | Val Loss:  0.084\n"
          ]
        },
        {
          "output_type": "stream",
          "name": "stderr",
          "text": [
            "324it [00:58,  5.49it/s]\n"
          ]
        },
        {
          "output_type": "stream",
          "name": "stdout",
          "text": [
            "Epochs: 6 | Train Loss:  0.075                 | Val Loss:  0.082\n"
          ]
        },
        {
          "output_type": "stream",
          "name": "stderr",
          "text": [
            "324it [00:59,  5.49it/s]\n"
          ]
        },
        {
          "output_type": "stream",
          "name": "stdout",
          "text": [
            "Epochs: 7 | Train Loss:  0.070                 | Val Loss:  0.082\n"
          ]
        },
        {
          "output_type": "stream",
          "name": "stderr",
          "text": [
            "324it [00:58,  5.50it/s]\n"
          ]
        },
        {
          "output_type": "stream",
          "name": "stdout",
          "text": [
            "Epochs: 8 | Train Loss:  0.063                 | Val Loss:  0.082\n"
          ]
        },
        {
          "output_type": "stream",
          "name": "stderr",
          "text": [
            "324it [00:58,  5.50it/s]\n"
          ]
        },
        {
          "output_type": "stream",
          "name": "stdout",
          "text": [
            "Epochs: 9 | Train Loss:  0.056                 | Val Loss:  0.082\n"
          ]
        },
        {
          "output_type": "stream",
          "name": "stderr",
          "text": [
            "324it [00:59,  5.48it/s]\n"
          ]
        },
        {
          "output_type": "stream",
          "name": "stdout",
          "text": [
            "Epochs: 10 | Train Loss:  0.047                 | Val Loss:  0.083\n"
          ]
        }
      ]
    },
    {
      "cell_type": "code",
      "source": [
        "test_dataloader = torch.utils.data.DataLoader(Dataset(test), batch_size=1, drop_last=False)\n",
        "p,l = validate(model.to(\"cpu\"), test_dataloader, \"cpu\")\n",
        "print(classification_report([idx2loc[i] for i in l], [idx2loc[i] for i in p]))"
      ],
      "metadata": {
        "colab": {
          "base_uri": "https://localhost:8080/"
        },
        "id": "jaYzpBaRem62",
        "outputId": "bed9e4fe-fef6-41d3-e2b6-31d418d70d39"
      },
      "execution_count": 11,
      "outputs": [
        {
          "output_type": "stream",
          "name": "stdout",
          "text": [
            "                 precision    recall  f1-score   support\n",
            "\n",
            "        Ήπειρος       0.10      0.04      0.06        23\n",
            "        Αιτωλία       0.37      0.42      0.39        24\n",
            "        Αμοργός       0.23      0.41      0.29        22\n",
            "Ανατολική Θράκη       0.12      0.21      0.16        24\n",
            "        Αρκαδία       0.08      0.06      0.07        31\n",
            "          Αχαΐα       0.54      0.44      0.48        32\n",
            "      Επτάνησος       0.41      0.30      0.35        23\n",
            "         Εύβοια       0.12      0.15      0.13        20\n",
            "      Θεσπρωτία       0.23      0.23      0.23        22\n",
            "          Θράκη       0.20      0.08      0.11        25\n",
            "       Ιωάννινα       0.13      0.07      0.09        29\n",
            "       Κάρπαθος       0.29      0.36      0.32        28\n",
            "     Κεφαλληνία       0.09      0.15      0.11        27\n",
            "          Κρήτη       0.40      0.27      0.32        30\n",
            "         Κύπρος       0.67      0.75      0.71        24\n",
            "         Λέσβος       0.39      0.62      0.48        24\n",
            "        Λακωνία       0.38      0.19      0.25        27\n",
            "      Μακεδονία       0.21      0.30      0.25        27\n",
            "     Μικρά Ασία       0.00      0.00      0.00        18\n",
            "          Νάξος       0.42      0.42      0.42        24\n",
            "         Πόντος       0.81      0.68      0.74        19\n",
            "          Ρόδος       0.23      0.27      0.25        22\n",
            "         Σκύρος       0.67      0.53      0.59        30\n",
            "\n",
            "       accuracy                           0.30       575\n",
            "      macro avg       0.31      0.30      0.30       575\n",
            "   weighted avg       0.31      0.30      0.30       575\n",
            "\n"
          ]
        }
      ]
    },
    {
      "cell_type": "code",
      "source": [
        "torch.save(model.state_dict(), \"bert-gr-c.pt\")"
      ],
      "metadata": {
        "id": "As1m-SkDe0BU"
      },
      "execution_count": 12,
      "outputs": []
    },
    {
      "cell_type": "code",
      "source": [
        "model = BertClassifier(num_classes=len(loc2idx))\n",
        "model.load_state_dict(torch.load(\"bert-gr-c.pt\"))"
      ],
      "metadata": {
        "colab": {
          "base_uri": "https://localhost:8080/"
        },
        "id": "R8Pv_eYpghO0",
        "outputId": "c9af3b98-776a-43c1-95cb-a7780947b3b8"
      },
      "execution_count": 13,
      "outputs": [
        {
          "output_type": "execute_result",
          "data": {
            "text/plain": [
              "<All keys matched successfully>"
            ]
          },
          "metadata": {},
          "execution_count": 13
        }
      ]
    },
    {
      "cell_type": "code",
      "source": [],
      "metadata": {
        "id": "xp8QcXjzhB-j"
      },
      "execution_count": null,
      "outputs": []
    }
  ]
}