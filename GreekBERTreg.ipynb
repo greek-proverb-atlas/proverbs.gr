{
  "nbformat": 4,
  "nbformat_minor": 0,
  "metadata": {
    "colab": {
      "provenance": [],
      "machine_shape": "hm",
      "gpuType": "T4",
      "gpuClass": "premium",
      "authorship_tag": "ABX9TyNheIf2KIsY/gNRU61+F4oH",
      "include_colab_link": true
    },
    "kernelspec": {
      "name": "python3",
      "display_name": "Python 3"
    },
    "language_info": {
      "name": "python"
    },
    "accelerator": "GPU",
    "gpuClass": "premium"
  },
  "cells": [
    {
      "cell_type": "markdown",
      "metadata": {
        "id": "view-in-github",
        "colab_type": "text"
      },
      "source": [
        "<a href=\"https://colab.research.google.com/github/ipavlopoulos/paremia/blob/main/GreekBERTreg.ipynb\" target=\"_parent\"><img src=\"https://colab.research.google.com/assets/colab-badge.svg\" alt=\"Open In Colab\"/></a>"
      ]
    },
    {
      "cell_type": "code",
      "execution_count": 1,
      "metadata": {
        "id": "DxN2dSJWea_L"
      },
      "outputs": [],
      "source": [
        "import pandas as pd\n",
        "import pandas as pd\n",
        "import matplotlib.pyplot as plt\n",
        "import numpy as np\n",
        "import seaborn as sns\n",
        "from sklearn.model_selection import train_test_split\n",
        "from sklearn.metrics import *\n",
        "from sklearn.pipeline import Pipeline\n",
        "from sklearn.ensemble import RandomForestRegressor, RandomForestClassifier, ExtraTreesRegressor\n",
        "from sklearn.linear_model import LinearRegression, LogisticRegression\n",
        "from sklearn.svm import LinearSVC\n",
        "from sklearn.feature_extraction.text import TfidfVectorizer\n",
        "import ast\n",
        "\n",
        "balanced_corpus = pd.read_csv(\"https://raw.githubusercontent.com/ipavlopoulos/paremia/main/data/balanced_corpus.csv\", index_col=0)\n",
        "train, test = train_test_split(balanced_corpus, test_size=0.05, random_state=2023)\n",
        "train, dev = train_test_split(train, test_size=test.shape[0], random_state=2023)"
      ]
    },
    {
      "cell_type": "code",
      "source": [
        "%%capture\n",
        "!pip install transformers\n",
        "from transformers import *\n",
        "model_name = 'nlpaueb/bert-base-greek-uncased-v1'\n",
        "tokenizer = BertTokenizer.from_pretrained(model_name)"
      ],
      "metadata": {
        "id": "-uLEMzv8ey0Q"
      },
      "execution_count": 2,
      "outputs": []
    },
    {
      "cell_type": "code",
      "source": [
        "import torch\n",
        "import numpy as np\n",
        "\n",
        "class Dataset(torch.utils.data.Dataset):\n",
        "    def __init__(self, df, max_length = 32):\n",
        "        self.max_length = max_length\n",
        "        self.labels = df[[\"lat\", \"lon\"]].values\n",
        "        self.texts = df.text.apply(lambda txt: tokenizer(txt, padding='max_length', max_length = self.max_length, truncation=True, return_tensors=\"pt\")).values\n",
        "\n",
        "    def classes(self):\n",
        "        return self.labels\n",
        "\n",
        "    def __len__(self):\n",
        "        return len(self.labels)\n",
        "\n",
        "    def get_batch_labels(self, idx):\n",
        "        return np.array(self.labels[idx])\n",
        "\n",
        "    def get_batch_texts(self, idx):\n",
        "        return self.texts[idx]\n",
        "\n",
        "    def __getitem__(self, idx):\n",
        "        batch_texts = self.get_batch_texts(idx)\n",
        "        batch_y = self.get_batch_labels(idx)\n",
        "        return batch_texts, batch_y"
      ],
      "metadata": {
        "id": "D7KED0nCe1qz"
      },
      "execution_count": 3,
      "outputs": []
    },
    {
      "cell_type": "code",
      "source": [
        "from torch import nn\n",
        "\n",
        "class BertClassifier(nn.Module):\n",
        "\n",
        "    def __init__(self, dropout=0.1, num_classes=2):\n",
        "        super(BertClassifier, self).__init__()\n",
        "        self.bert = BertModel.from_pretrained(model_name)\n",
        "        self.dropout = nn.Dropout(dropout)\n",
        "        self.linear1 = nn.Linear(768, 128, bias=True)\n",
        "        self.norm = nn.BatchNorm1d(128)\n",
        "        self.linear2 = nn.Linear(128, num_classes, bias=True)\n",
        "        self.relu = nn.ReLU()\n",
        "\n",
        "    def forward(self, input_id, mask):\n",
        "        _, pooled_output = self.bert(input_ids=input_id, attention_mask=mask, return_dict=False)\n",
        "        x = pooled_output\n",
        "        x = self.dropout(x)\n",
        "        x = self.relu(self.linear1(x))\n",
        "        #x = self.norm(x)\n",
        "        x = self.linear2(x)\n",
        "        return x"
      ],
      "metadata": {
        "id": "CtXt452Kf_Pc"
      },
      "execution_count": 20,
      "outputs": []
    },
    {
      "cell_type": "code",
      "source": [
        "from torch.optim import Adam\n",
        "from tqdm import tqdm\n",
        "\n",
        "def finetune(model, train_data, val_data, learning_rate=2e-5, epochs=100, criterion=nn.MSELoss(), batch_size=32, max_length=16):\n",
        "    train_dataloader = torch.utils.data.DataLoader(train_data, batch_size=batch_size, shuffle=True, drop_last=False)\n",
        "    val_dataloader = torch.utils.data.DataLoader(val_data, batch_size=batch_size, drop_last=False)\n",
        "    use_cuda = torch.cuda.is_available()\n",
        "    device = torch.device(\"cuda\" if use_cuda else \"cpu\")\n",
        "    optimizer = Adam(model.parameters(), lr=learning_rate)\n",
        "    model.train()\n",
        "    if use_cuda:\n",
        "            model = model.cuda()\n",
        "            criterion = criterion.cuda()\n",
        "    for epoch_num in range(epochs):\n",
        "            total_acc_train = 0\n",
        "            total_loss_train = 0\n",
        "            for train_input, train_label in tqdm(train_dataloader):\n",
        "                train_label = train_label.to(device)\n",
        "                mask = train_input['attention_mask'].to(device)\n",
        "                input_id = train_input['input_ids'].squeeze(1).to(device)\n",
        "                output = model(input_id, mask)                \n",
        "                batch_loss = criterion(output, train_label.float())\n",
        "                total_loss_train += batch_loss.item()\n",
        "                model.zero_grad()\n",
        "                batch_loss.backward()\n",
        "                optimizer.step()            \n",
        "            total_loss_val = 0\n",
        "            with torch.no_grad():\n",
        "                for val_input, val_label in val_dataloader:\n",
        "                    val_label = val_label.to(device)\n",
        "                    mask = val_input['attention_mask'].to(device)\n",
        "                    input_id = val_input['input_ids'].squeeze(1).to(device)\n",
        "                    output = model(input_id, mask)\n",
        "                    batch_loss = criterion(output, val_label.float())\n",
        "                    total_loss_val += batch_loss.item()\n",
        "            print(\n",
        "                f'Epochs: {epoch_num + 1} | Train Loss: {total_loss_train / len(train_data): .3f} \\\n",
        "                | Val Loss: {total_loss_val / len(val_data): .3f}')\n",
        "                  \n",
        "criterion = nn.MSELoss()\n",
        "model = BertClassifier(num_classes=2)\n",
        "max_length = 16\n",
        "finetune(model, \n",
        "         Dataset(train, max_length=max_length), \n",
        "         Dataset(dev, max_length=max_length), \n",
        "         epochs=3,\n",
        "         max_length=max_length,\n",
        "         learning_rate=2e-5, \n",
        "         criterion=criterion)"
      ],
      "metadata": {
        "colab": {
          "base_uri": "https://localhost:8080/"
        },
        "id": "SVbJdgRUg152",
        "outputId": "e729b1a9-4591-4655-eebc-08ebc62be125"
      },
      "execution_count": 22,
      "outputs": [
        {
          "output_type": "stream",
          "name": "stderr",
          "text": [
            "100%|██████████| 324/324 [00:37<00:00,  8.64it/s]\n"
          ]
        },
        {
          "output_type": "stream",
          "name": "stdout",
          "text": [
            "Epochs: 1 | Train Loss:  18.781                 | Val Loss:  8.976\n"
          ]
        },
        {
          "output_type": "stream",
          "name": "stderr",
          "text": [
            "100%|██████████| 324/324 [00:37<00:00,  8.66it/s]\n"
          ]
        },
        {
          "output_type": "stream",
          "name": "stdout",
          "text": [
            "Epochs: 2 | Train Loss:  4.041                 | Val Loss:  1.064\n"
          ]
        },
        {
          "output_type": "stream",
          "name": "stderr",
          "text": [
            "100%|██████████| 324/324 [00:37<00:00,  8.71it/s]\n"
          ]
        },
        {
          "output_type": "stream",
          "name": "stdout",
          "text": [
            "Epochs: 3 | Train Loss:  0.428                 | Val Loss:  0.187\n"
          ]
        }
      ]
    },
    {
      "cell_type": "code",
      "source": [
        "def validate(model, dataloader, device=\"cpu\"):\n",
        "    predictions, gold_labels = [], []\n",
        "    with torch.no_grad():\n",
        "        for val_input, val_label in dataloader:\n",
        "            val_label = val_label.to(device)\n",
        "            mask = val_input['attention_mask'].to(device)\n",
        "            input_id = val_input['input_ids'].squeeze(1).to(device)\n",
        "            output = model(input_id, mask)\n",
        "            predictions.extend(output.cpu().numpy())\n",
        "            gold_labels.extend(val_label.cpu())\n",
        "    return predictions, gold_labels\n",
        "\n",
        "test_dataloader = torch.utils.data.DataLoader(Dataset(test, max_length=max_length), batch_size=32, drop_last=False)\n",
        "p,l = validate(model.to(\"cpu\"), test_dataloader)\n",
        "preds_pd = pd.DataFrame({\"pred_lat\": np.array(p)[:, 0], \"pred_lon\": np.array(p)[:, 1],\n",
        "                         \"gold_lat\": np.array([i.numpy() for i in l])[:, 0], \"gold_lon\": np.array([i.numpy() for i in l])[:, 1]})\n",
        "preds_pd.to_csv(\"proverb.predictions.csv\", index=False)"
      ],
      "metadata": {
        "id": "DIYWcKK5hVGR"
      },
      "execution_count": 25,
      "outputs": []
    },
    {
      "cell_type": "code",
      "source": [
        "from sklearn.metrics import *\n",
        "print('MAE')\n",
        "print(f\"lat{mean_absolute_error(preds_pd.pred_lat, preds_pd.gold_lat):.2f}\")\n",
        "print(f\"lon{mean_absolute_error(preds_pd.pred_lon, preds_pd.gold_lon):.2f}\")\n",
        "print('MSE')\n",
        "print(f\"lat{mean_squared_error(preds_pd.pred_lat, preds_pd.gold_lat):.2f}\")\n",
        "print(f\"lon{mean_squared_error(preds_pd.pred_lon, preds_pd.gold_lon):.2f}\")\n",
        "print('R2')\n",
        "print(f\"lat: {r2_score(preds_pd.pred_lat, preds_pd.gold_lat):.2f}\")\n",
        "print(f\"lon: {r2_score(preds_pd.pred_lon, preds_pd.gold_lon):.2f}\")"
      ],
      "metadata": {
        "id": "EBALiofry6iA",
        "outputId": "f79ee381-4172-480c-e22c-90bc332b0821",
        "colab": {
          "base_uri": "https://localhost:8080/"
        }
      },
      "execution_count": 29,
      "outputs": [
        {
          "output_type": "stream",
          "name": "stdout",
          "text": [
            "MAE\n",
            "lat1.54\n",
            "lon2.14\n",
            "MSE\n",
            "lat3.56\n",
            "lon8.51\n",
            "R2\n",
            "lat: -15.85\n",
            "lon: -100.90\n"
          ]
        }
      ]
    },
    {
      "cell_type": "code",
      "source": [
        "torch.save(model.state_dict(), \"checkpoint.pt\")"
      ],
      "metadata": {
        "id": "bG3vwmHHz4AU"
      },
      "execution_count": null,
      "outputs": []
    }
  ]
}