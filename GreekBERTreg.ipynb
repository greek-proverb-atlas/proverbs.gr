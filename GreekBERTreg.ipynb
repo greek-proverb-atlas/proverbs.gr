{
 "cells": [
  {
   "cell_type": "markdown",
   "metadata": {
    "colab_type": "text",
    "id": "view-in-github"
   },
   "source": [
    "<a href=\"https://colab.research.google.com/github/ipavlopoulos/paremia/blob/main/GreekBERTreg.ipynb\" target=\"_parent\"><img src=\"https://colab.research.google.com/assets/colab-badge.svg\" alt=\"Open In Colab\"/></a>"
   ]
  },
  {
   "cell_type": "code",
   "execution_count": 1,
   "metadata": {
    "id": "DxN2dSJWea_L"
   },
   "outputs": [],
   "source": [
    "import pandas as pd\n",
    "import pandas as pd\n",
    "import matplotlib.pyplot as plt\n",
    "import numpy as np\n",
    "from sklearn.model_selection import train_test_split\n",
    "from sklearn.metrics import *\n",
    "from sklearn.pipeline import Pipeline\n",
    "from sklearn.ensemble import RandomForestRegressor, RandomForestClassifier, ExtraTreesRegressor\n",
    "from sklearn.linear_model import LinearRegression, LogisticRegression\n",
    "from sklearn.svm import LinearSVC\n",
    "from sklearn.feature_extraction.text import TfidfVectorizer\n",
    "import matplotlib.pyplot as plt\n",
    "\n",
    "balanced_corpus = pd.read_csv(\"data/balanced_corpus.csv\", index_col=0)\n",
    "train, test = train_test_split(balanced_corpus, test_size=0.05, random_state=2023)\n",
    "train, dev = train_test_split(train, test_size=test.shape[0], random_state=2023)"
   ]
  },
  {
   "cell_type": "code",
   "execution_count": 2,
   "metadata": {
    "id": "-uLEMzv8ey0Q"
   },
   "outputs": [],
   "source": [
    "from transformers import BertModel, BertTokenizer\n",
    "model_name = 'nlpaueb/bert-base-greek-uncased-v1'\n",
    "tokenizer = BertTokenizer.from_pretrained(model_name)"
   ]
  },
  {
   "cell_type": "code",
   "execution_count": 3,
   "metadata": {
    "id": "D7KED0nCe1qz"
   },
   "outputs": [],
   "source": [
    "import torch\n",
    "import numpy as np\n",
    "\n",
    "class Dataset(torch.utils.data.Dataset):\n",
    "    def __init__(self, df, max_length = 32):\n",
    "        self.max_length = max_length\n",
    "        self.labels = df[[\"lat\", \"lon\"]].values\n",
    "        self.texts = df.text.apply(lambda txt: tokenizer(txt, padding='max_length', max_length = self.max_length, truncation=True, return_tensors=\"pt\")).values\n",
    "\n",
    "    def classes(self):\n",
    "        return self.labels\n",
    "\n",
    "    def __len__(self):\n",
    "        return len(self.labels)\n",
    "\n",
    "    def get_batch_labels(self, idx):\n",
    "        return np.array(self.labels[idx])\n",
    "\n",
    "    def get_batch_texts(self, idx):\n",
    "        return self.texts[idx]\n",
    "\n",
    "    def __getitem__(self, idx):\n",
    "        batch_texts = self.get_batch_texts(idx)\n",
    "        batch_y = self.get_batch_labels(idx)\n",
    "        return batch_texts, batch_y"
   ]
  },
  {
   "cell_type": "code",
   "execution_count": 4,
   "metadata": {
    "id": "CtXt452Kf_Pc"
   },
   "outputs": [],
   "source": [
    "from torch import nn\n",
    "\n",
    "class BertClassifier(nn.Module):\n",
    "\n",
    "    def __init__(self, dropout=0.1, num_classes=2):\n",
    "        super(BertClassifier, self).__init__()\n",
    "        self.bert = BertModel.from_pretrained(model_name)\n",
    "        self.dropout = nn.Dropout(dropout)\n",
    "        self.linear1 = nn.Linear(768, 128, bias=True)\n",
    "        self.norm = nn.BatchNorm1d(128)\n",
    "        self.linear2 = nn.Linear(128, num_classes, bias=True)\n",
    "        self.relu = nn.ReLU()\n",
    "\n",
    "    def forward(self, input_id, mask):\n",
    "        _, pooled_output = self.bert(input_ids=input_id, attention_mask=mask, return_dict=False)\n",
    "        x = pooled_output\n",
    "        x = self.dropout(x)\n",
    "        x = self.relu(self.linear1(x))\n",
    "        #x = self.norm(x)\n",
    "        x = self.linear2(x)\n",
    "        return x"
   ]
  },
  {
   "cell_type": "code",
   "execution_count": 9,
   "metadata": {
    "colab": {
     "base_uri": "https://localhost:8080/"
    },
    "id": "SVbJdgRUg152",
    "outputId": "e729b1a9-4591-4655-eebc-08ebc62be125"
   },
   "outputs": [],
   "source": [
    "from torch.optim import Adam\n",
    "from tqdm import tqdm\n",
    "\n",
    "from transformers import AutoTokenizer, BertModel\n",
    "\n",
    "def finetune(model, train_data, val_data, \n",
    "             learning_rate=2e-5, epochs=100, criterion=nn.MSELoss(),\n",
    "             batch_size=32, max_length=16):\n",
    "    \n",
    "    train_loss = []\n",
    "    val_loss = []\n",
    "    \n",
    "    train_dataloader = torch.utils.data.DataLoader(train_data, batch_size=batch_size, shuffle=True, drop_last=False)\n",
    "    val_dataloader = torch.utils.data.DataLoader(val_data, batch_size=batch_size, drop_last=False)\n",
    "    use_cuda = torch.cuda.is_available()\n",
    "    device = torch.device(\"cuda\" if use_cuda else \"cpu\")\n",
    "    optimizer = Adam(model.parameters(), lr=learning_rate)\n",
    "    model.train()\n",
    "    if use_cuda:\n",
    "            model = model.cuda()\n",
    "            criterion = criterion.cuda()\n",
    "    \n",
    "    for epoch_num in range(epochs):\n",
    "            total_acc_train = 0\n",
    "            total_loss_train = 0\n",
    "            for train_input, train_label in tqdm(train_dataloader):\n",
    "                train_label = train_label.to(device)\n",
    "                mask = train_input['attention_mask'].to(device)\n",
    "                input_id = train_input['input_ids'].squeeze(1).to(device)\n",
    "                output = model(input_id, mask)                \n",
    "                batch_loss = criterion(output, train_label.float())\n",
    "                total_loss_train += batch_loss.item()\n",
    "                model.zero_grad()\n",
    "                batch_loss.backward()\n",
    "                optimizer.step()\n",
    "            train_loss.append(total_loss_train)\n",
    "            \n",
    "            total_loss_val = 0\n",
    "            with torch.no_grad():\n",
    "                for val_input, val_label in val_dataloader:\n",
    "                    val_label = val_label.to(device)\n",
    "                    mask = val_input['attention_mask'].to(device)\n",
    "                    input_id = val_input['input_ids'].squeeze(1).to(device)\n",
    "                    output = model(input_id, mask)\n",
    "                    batch_loss = criterion(output, val_label.float())\n",
    "                    total_loss_val += batch_loss.item()\n",
    "            val_loss.append(total_loss_val)\n",
    "            \n",
    "            print(\n",
    "                f'Epochs: {epoch_num + 1} | Train Loss: {total_loss_train / len(train_data): .3f} \\\n",
    "                | Val Loss: {total_loss_val / len(val_data): .3f}')\n",
    "    \n",
    "    return (train_loss, val_loss)"
   ]
  },
  {
   "cell_type": "code",
   "execution_count": 12,
   "metadata": {},
   "outputs": [
    {
     "name": "stderr",
     "output_type": "stream",
     "text": [
      "Some weights of the model checkpoint at nlpaueb/bert-base-greek-uncased-v1 were not used when initializing BertModel: ['cls.predictions.transform.LayerNorm.weight', 'cls.predictions.bias', 'cls.predictions.decoder.bias', 'cls.predictions.transform.dense.bias', 'cls.predictions.transform.dense.weight', 'cls.predictions.transform.LayerNorm.bias', 'cls.predictions.decoder.weight', 'cls.seq_relationship.weight', 'cls.seq_relationship.bias']\n",
      "- This IS expected if you are initializing BertModel from the checkpoint of a model trained on another task or with another architecture (e.g. initializing a BertForSequenceClassification model from a BertForPreTraining model).\n",
      "- This IS NOT expected if you are initializing BertModel from the checkpoint of a model that you expect to be exactly identical (initializing a BertForSequenceClassification model from a BertForSequenceClassification model).\n",
      "100%|█████████████████████████████████████████████████████████████| 324/324 [00:12<00:00, 26.17it/s]\n"
     ]
    },
    {
     "name": "stdout",
     "output_type": "stream",
     "text": [
      "Epochs: 1 | Train Loss:  18.722                 | Val Loss:  8.981\n"
     ]
    },
    {
     "name": "stderr",
     "output_type": "stream",
     "text": [
      "100%|█████████████████████████████████████████████████████████████| 324/324 [00:12<00:00, 26.06it/s]\n"
     ]
    },
    {
     "name": "stdout",
     "output_type": "stream",
     "text": [
      "Epochs: 2 | Train Loss:  4.084                 | Val Loss:  1.084\n"
     ]
    },
    {
     "name": "stderr",
     "output_type": "stream",
     "text": [
      "100%|█████████████████████████████████████████████████████████████| 324/324 [00:12<00:00, 26.01it/s]\n"
     ]
    },
    {
     "name": "stdout",
     "output_type": "stream",
     "text": [
      "Epochs: 3 | Train Loss:  0.442                 | Val Loss:  0.186\n"
     ]
    },
    {
     "name": "stderr",
     "output_type": "stream",
     "text": [
      "100%|█████████████████████████████████████████████████████████████| 324/324 [00:12<00:00, 25.96it/s]\n"
     ]
    },
    {
     "name": "stdout",
     "output_type": "stream",
     "text": [
      "Epochs: 4 | Train Loss:  0.178                 | Val Loss:  0.172\n"
     ]
    },
    {
     "name": "stderr",
     "output_type": "stream",
     "text": [
      "100%|█████████████████████████████████████████████████████████████| 324/324 [00:12<00:00, 25.94it/s]\n"
     ]
    },
    {
     "name": "stdout",
     "output_type": "stream",
     "text": [
      "Epochs: 5 | Train Loss:  0.174                 | Val Loss:  0.169\n"
     ]
    },
    {
     "name": "stderr",
     "output_type": "stream",
     "text": [
      "100%|█████████████████████████████████████████████████████████████| 324/324 [00:12<00:00, 25.91it/s]\n"
     ]
    },
    {
     "name": "stdout",
     "output_type": "stream",
     "text": [
      "Epochs: 6 | Train Loss:  0.175                 | Val Loss:  0.169\n"
     ]
    },
    {
     "name": "stderr",
     "output_type": "stream",
     "text": [
      "100%|█████████████████████████████████████████████████████████████| 324/324 [00:12<00:00, 25.88it/s]\n"
     ]
    },
    {
     "name": "stdout",
     "output_type": "stream",
     "text": [
      "Epochs: 7 | Train Loss:  0.174                 | Val Loss:  0.170\n"
     ]
    },
    {
     "name": "stderr",
     "output_type": "stream",
     "text": [
      "100%|█████████████████████████████████████████████████████████████| 324/324 [00:12<00:00, 25.82it/s]\n"
     ]
    },
    {
     "name": "stdout",
     "output_type": "stream",
     "text": [
      "Epochs: 8 | Train Loss:  0.175                 | Val Loss:  0.169\n"
     ]
    },
    {
     "name": "stderr",
     "output_type": "stream",
     "text": [
      "100%|█████████████████████████████████████████████████████████████| 324/324 [00:12<00:00, 25.82it/s]\n"
     ]
    },
    {
     "name": "stdout",
     "output_type": "stream",
     "text": [
      "Epochs: 9 | Train Loss:  0.175                 | Val Loss:  0.171\n"
     ]
    },
    {
     "name": "stderr",
     "output_type": "stream",
     "text": [
      "100%|█████████████████████████████████████████████████████████████| 324/324 [00:12<00:00, 25.83it/s]\n"
     ]
    },
    {
     "name": "stdout",
     "output_type": "stream",
     "text": [
      "Epochs: 10 | Train Loss:  0.175                 | Val Loss:  0.170\n"
     ]
    }
   ],
   "source": [
    "criterion = nn.MSELoss()\n",
    "model = BertClassifier(num_classes=2)\n",
    "max_length = 16\n",
    "\n",
    "history = finetune(model, \n",
    "                   Dataset(train, max_length=max_length), \n",
    "                   Dataset(dev, max_length=max_length), \n",
    "                   epochs=10,\n",
    "                   max_length=max_length,\n",
    "                   learning_rate=2e-5, \n",
    "                   criterion=criterion)"
   ]
  },
  {
   "cell_type": "code",
   "execution_count": 13,
   "metadata": {},
   "outputs": [
    {
     "data": {
      "text/plain": [
       "([193767.97003173828,\n",
       "  42273.33701133728,\n",
       "  4575.333186149597,\n",
       "  1842.7620441913605,\n",
       "  1803.1491136550903,\n",
       "  1807.9405426979065,\n",
       "  1805.4052307605743,\n",
       "  1812.675077676773,\n",
       "  1808.5875163078308,\n",
       "  1809.2865386009216],\n",
       " [5163.798980712891,\n",
       "  623.4195194244385,\n",
       "  106.97156691551208,\n",
       "  98.71537613868713,\n",
       "  96.90811371803284,\n",
       "  97.0051817893982,\n",
       "  97.5892927646637,\n",
       "  97.00850534439087,\n",
       "  98.29598426818848,\n",
       "  97.99305009841919])"
      ]
     },
     "execution_count": 13,
     "metadata": {},
     "output_type": "execute_result"
    }
   ],
   "source": [
    "history"
   ]
  },
  {
   "cell_type": "code",
   "execution_count": 14,
   "metadata": {},
   "outputs": [
    {
     "data": {
      "text/plain": [
       "<matplotlib.legend.Legend at 0x7f9bb75170d0>"
      ]
     },
     "execution_count": 14,
     "metadata": {},
     "output_type": "execute_result"
    },
    {
     "data": {
      "image/png": "[encoded data removed]",
      "text/plain": [
       "<Figure size 640x480 with 1 Axes>"
      ]
     },
     "metadata": {},
     "output_type": "display_data"
    }
   ],
   "source": [
    "import matplotlib.pyplot as plt\n",
    "\n",
    "train_loss, val_loss = history\n",
    "\n",
    "plt.plot(train_loss, label='Training Loss')\n",
    "plt.plot(val_loss, label='Validation Loss')\n",
    "plt.title('Training and Validation Loss')\n",
    "plt.xlabel('Epoch')\n",
    "plt.ylabel('Loss')\n",
    "plt.legend()"
   ]
  },
  {
   "cell_type": "code",
   "execution_count": 15,
   "metadata": {
    "id": "DIYWcKK5hVGR"
   },
   "outputs": [],
   "source": [
    "def validate(model, dataloader, device=\"cpu\"):\n",
    "    predictions, gold_labels = [], []\n",
    "    with torch.no_grad():\n",
    "        for val_input, val_label in dataloader:\n",
    "            val_label = val_label.to(device)\n",
    "            mask = val_input['attention_mask'].to(device)\n",
    "            input_id = val_input['input_ids'].squeeze(1).to(device)\n",
    "            output = model(input_id, mask)\n",
    "            predictions.extend(output.cpu().numpy())\n",
    "            gold_labels.extend(val_label.cpu())\n",
    "    return predictions, gold_labels\n",
    "\n",
    "test_dataloader = torch.utils.data.DataLoader(Dataset(test, max_length=max_length), batch_size=32, drop_last=False)\n",
    "p,l = validate(model.to(\"cpu\"), test_dataloader)\n",
    "preds_pd = pd.DataFrame({\"pred_lat\": np.array(p)[:, 0], \"pred_lon\": np.array(p)[:, 1],\n",
    "                         \"gold_lat\": np.array([i.numpy() for i in l])[:, 0], \"gold_lon\": np.array([i.numpy() for i in l])[:, 1]})\n",
    "preds_pd.to_csv(\"proverb.predictions.csv\", index=False)"
   ]
  },
  {
   "cell_type": "code",
   "execution_count": 18,
   "metadata": {},
   "outputs": [
    {
     "data": {
      "text/html": [
       "<div>\n",
       "<style scoped>\n",
       "    .dataframe tbody tr th:only-of-type {\n",
       "        vertical-align: middle;\n",
       "    }\n",
       "\n",
       "    .dataframe tbody tr th {\n",
       "        vertical-align: top;\n",
       "    }\n",
       "\n",
       "    .dataframe thead th {\n",
       "        text-align: right;\n",
       "    }\n",
       "</style>\n",
       "<table border=\"1\" class=\"dataframe\">\n",
       "  <thead>\n",
       "    <tr style=\"text-align: right;\">\n",
       "      <th></th>\n",
       "      <th>pred_lat</th>\n",
       "      <th>pred_lon</th>\n",
       "      <th>gold_lat</th>\n",
       "      <th>gold_lon</th>\n",
       "    </tr>\n",
       "  </thead>\n",
       "  <tbody>\n",
       "    <tr>\n",
       "      <th>0</th>\n",
       "      <td>38.172424</td>\n",
       "      <td>24.197517</td>\n",
       "      <td>39.544012</td>\n",
       "      <td>20.308355</td>\n",
       "    </tr>\n",
       "    <tr>\n",
       "      <th>1</th>\n",
       "      <td>39.175114</td>\n",
       "      <td>24.844933</td>\n",
       "      <td>41.675933</td>\n",
       "      <td>26.558722</td>\n",
       "    </tr>\n",
       "    <tr>\n",
       "      <th>2</th>\n",
       "      <td>38.624561</td>\n",
       "      <td>24.545084</td>\n",
       "      <td>37.420425</td>\n",
       "      <td>24.947956</td>\n",
       "    </tr>\n",
       "    <tr>\n",
       "      <th>3</th>\n",
       "      <td>38.538479</td>\n",
       "      <td>24.488670</td>\n",
       "      <td>40.085009</td>\n",
       "      <td>23.977584</td>\n",
       "    </tr>\n",
       "    <tr>\n",
       "      <th>4</th>\n",
       "      <td>38.076824</td>\n",
       "      <td>24.245535</td>\n",
       "      <td>35.613661</td>\n",
       "      <td>27.119257</td>\n",
       "    </tr>\n",
       "    <tr>\n",
       "      <th>...</th>\n",
       "      <td>...</td>\n",
       "      <td>...</td>\n",
       "      <td>...</td>\n",
       "      <td>...</td>\n",
       "    </tr>\n",
       "    <tr>\n",
       "      <th>570</th>\n",
       "      <td>38.397350</td>\n",
       "      <td>24.527529</td>\n",
       "      <td>38.873044</td>\n",
       "      <td>24.524477</td>\n",
       "    </tr>\n",
       "    <tr>\n",
       "      <th>571</th>\n",
       "      <td>38.230045</td>\n",
       "      <td>24.356216</td>\n",
       "      <td>38.069275</td>\n",
       "      <td>21.872730</td>\n",
       "    </tr>\n",
       "    <tr>\n",
       "      <th>572</th>\n",
       "      <td>37.697838</td>\n",
       "      <td>24.093525</td>\n",
       "      <td>35.308495</td>\n",
       "      <td>24.463342</td>\n",
       "    </tr>\n",
       "    <tr>\n",
       "      <th>573</th>\n",
       "      <td>38.053967</td>\n",
       "      <td>24.236284</td>\n",
       "      <td>36.172630</td>\n",
       "      <td>27.919418</td>\n",
       "    </tr>\n",
       "    <tr>\n",
       "      <th>574</th>\n",
       "      <td>37.729973</td>\n",
       "      <td>23.974030</td>\n",
       "      <td>38.873044</td>\n",
       "      <td>24.524477</td>\n",
       "    </tr>\n",
       "  </tbody>\n",
       "</table>\n",
       "<p>575 rows × 4 columns</p>\n",
       "</div>"
      ],
      "text/plain": [
       "      pred_lat   pred_lon   gold_lat   gold_lon\n",
       "0    38.172424  24.197517  39.544012  20.308355\n",
       "1    39.175114  24.844933  41.675933  26.558722\n",
       "2    38.624561  24.545084  37.420425  24.947956\n",
       "3    38.538479  24.488670  40.085009  23.977584\n",
       "4    38.076824  24.245535  35.613661  27.119257\n",
       "..         ...        ...        ...        ...\n",
       "570  38.397350  24.527529  38.873044  24.524477\n",
       "571  38.230045  24.356216  38.069275  21.872730\n",
       "572  37.697838  24.093525  35.308495  24.463342\n",
       "573  38.053967  24.236284  36.172630  27.919418\n",
       "574  37.729973  23.974030  38.873044  24.524477\n",
       "\n",
       "[575 rows x 4 columns]"
      ]
     },
     "execution_count": 18,
     "metadata": {},
     "output_type": "execute_result"
    }
   ],
   "source": [
    "preds_pd"
   ]
  },
  {
   "cell_type": "code",
   "execution_count": 19,
   "metadata": {
    "colab": {
     "base_uri": "https://localhost:8080/"
    },
    "id": "EBALiofry6iA",
    "outputId": "f79ee381-4172-480c-e22c-90bc332b0821"
   },
   "outputs": [
    {
     "name": "stdout",
     "output_type": "stream",
     "text": [
      "MAE\n",
      "lat: 1.44\n",
      "lon: 2.02\n",
      "MSE\n",
      "lat: 3.22\n",
      "lon: 7.71\n",
      "R2\n",
      "lat: -13.87\n",
      "lon: -82.76\n"
     ]
    }
   ],
   "source": [
    "from sklearn.metrics import *\n",
    "print('MAE')\n",
    "print(f\"lat: {mean_absolute_error(preds_pd.pred_lat, preds_pd.gold_lat):.2f}\")\n",
    "print(f\"lon: {mean_absolute_error(preds_pd.pred_lon, preds_pd.gold_lon):.2f}\")\n",
    "print('MSE')\n",
    "print(f\"lat: {mean_squared_error(preds_pd.pred_lat, preds_pd.gold_lat):.2f}\")\n",
    "print(f\"lon: {mean_squared_error(preds_pd.pred_lon, preds_pd.gold_lon):.2f}\")\n",
    "print('R2')\n",
    "print(f\"lat: {r2_score(preds_pd.pred_lat, preds_pd.gold_lat):.2f}\")\n",
    "print(f\"lon: {r2_score(preds_pd.pred_lon, preds_pd.gold_lon):.2f}\")"
   ]
  },
  {
   "cell_type": "code",
   "execution_count": 17,
   "metadata": {
    "id": "bG3vwmHHz4AU"
   },
   "outputs": [],
   "source": [
    "torch.save(model.state_dict(), \"checkpoint.pt\")"
   ]
  }
 ],
 "metadata": {
  "accelerator": "GPU",
  "colab": {
   "authorship_tag": "ABX9TyNheIf2KIsY/gNRU61+F4oH",
   "gpuClass": "premium",
   "gpuType": "T4",
   "include_colab_link": true,
   "machine_shape": "hm",
   "provenance": []
  },
  "gpuClass": "premium",
  "kernelspec": {
   "display_name": "Python 3 (ipykernel)",
   "language": "python",
   "name": "python3"
  },
  "language_info": {
   "codemirror_mode": {
    "name": "ipython",
    "version": 3
   },
   "file_extension": ".py",
   "mimetype": "text/x-python",
   "name": "python",
   "nbconvert_exporter": "python",
   "pygments_lexer": "ipython3",
   "version": "3.11.3"
  }
 },
 "nbformat": 4,
 "nbformat_minor": 1
}
