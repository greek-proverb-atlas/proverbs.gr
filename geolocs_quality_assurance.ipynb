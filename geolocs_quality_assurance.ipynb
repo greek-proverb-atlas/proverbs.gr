{
 "cells": [
  {
   "cell_type": "markdown",
   "metadata": {
    "colab_type": "text",
    "id": "view-in-github"
   },
   "source": [
    "<a href=\"https://colab.research.google.com/github/greek-proverb-atlas/proverbs.gr/blob/main/geolocs_quality_assurance.ipynb\" target=\"_parent\"><img src=\"https://colab.research.google.com/assets/colab-badge.svg\" alt=\"Open In Colab\"/></a>"
   ]
  },
  {
   "cell_type": "code",
   "execution_count": 1,
   "metadata": {
    "id": "-e2UW-jLhPZ7"
   },
   "outputs": [],
   "source": [
    "%%capture\n",
    "!pip install geopandas\n",
    "!pip install geopy\n",
    "!pip install folium\n",
    "!pip install gdown\n",
    "import numpy as np\n",
    "import pandas as pd\n",
    "import seaborn as sns\n",
    "import geopandas as gpd\n",
    "from geopy.geocoders import Nominatim\n",
    "from geopy.extra.rate_limiter import RateLimiter\n",
    "import folium\n",
    "from tqdm.notebook import tqdm\n",
    "from folium import Choropleth, Circle, CircleMarker, Marker\n",
    "from folium.plugins import MarkerCluster\n",
    "import matplotlib.pyplot as plt\n",
    "import os"
   ]
  },
  {
   "cell_type": "code",
   "execution_count": 2,
   "metadata": {
    "colab": {
     "base_uri": "https://localhost:8080/"
    },
    "id": "9cop0BlhhQkw",
    "outputId": "d74fa534-94e0-4f28-8067-6ee892a2d859"
   },
   "outputs": [
    {
     "name": "stdout",
     "output_type": "stream",
     "text": [
      "['Ήπειρος' 'Αιτωλία' 'Αμοργός' 'Ανατολική Θράκη' 'Αρκαδία' 'Αχαΐα'\n",
      " 'Επτάνησος' 'Εύβοια' 'Θεσπρωτία' 'Θράκη' 'Ιωάννινα' 'Κάρπαθος'\n",
      " 'Κεφαλληνία' 'Κρήτη' 'Κύπρος' 'Λέσβος' 'Λακωνία' 'Μακεδονία' 'Μικρά Ασία'\n",
      " 'Νάξος' 'Πόντος' 'Ρόδος' 'Σκύρος']\n"
     ]
    }
   ],
   "source": [
    "print(pd.read_csv('https://github.com/greek-proverb-atlas/proverbs.gr/raw/refs/heads/main/data/balanced_corpus.csv', index_col=0).area.unique())"
   ]
  },
  {
   "cell_type": "code",
   "execution_count": 3,
   "metadata": {
    "id": "G-XL2u3uhpDm"
   },
   "outputs": [],
   "source": [
    "geolocs = pd.read_csv('https://github.com/greek-proverb-atlas/proverbs.gr/raw/refs/heads/main/data/geolocs.csv')"
   ]
  },
  {
   "cell_type": "code",
   "execution_count": 4,
   "metadata": {
    "id": "zjnqZwhfhb07"
   },
   "outputs": [],
   "source": [
    "from geopy.geocoders import Nominatim # import the library\n",
    "geolocator = Nominatim(user_agent=\"paremia\") # initialise it\n",
    "\n",
    "# Ήπειρος>Epirus, Aιτωλία>Aetolia-Akarnania, Θράκη>Rhodope,\n",
    "# Μικρά Ασία>Turkey, Πόντος>North Turkey\n",
    "# WARNING: Laconia could be higher\n",
    "\n",
    "location = geolocator.geocode(\"Epirus, Greece\")\n",
    "geolocs.loc[0, \"Ήπειρος\"]=location.latitude\n",
    "geolocs.loc[1, \"Ήπειρος\"]=location.longitude\n",
    "\n",
    "location = geolocator.geocode(\"Aetolia-Acarnania\")\n",
    "geolocs.loc[0, \"Αιτωλία\"]=location.latitude\n",
    "geolocs.loc[1, \"Αιτωλία\"]=location.longitude\n",
    "\n",
    "location = geolocator.geocode(\"Rhodope\")\n",
    "geolocs.loc[0, \"Θράκη\"]=location.latitude\n",
    "geolocs.loc[1, \"Θράκη\"]=location.longitude\n",
    "\n",
    "# location = geolocator.geocode(\"Türkiye\")\n",
    "geolocs.loc[0, \"Μικρά Ασία\"]=39.0\n",
    "geolocs.loc[1, \"Μικρά Ασία\"]=35.0\n",
    "\n",
    "geolocs.loc[0, \"Πόντος\"]=40.9\n",
    "geolocs.loc[1, \"Πόντος\"]=38.4"
   ]
  },
  {
   "cell_type": "code",
   "execution_count": 5,
   "metadata": {
    "id": "hzhcdGmOjGM5"
   },
   "outputs": [],
   "source": [
    "geolocs.to_csv('geolocs.csv', index=False)"
   ]
  },
  {
   "cell_type": "code",
   "execution_count": 6,
   "metadata": {
    "colab": {
     "base_uri": "https://localhost:8080/",
     "height": 179
    },
    "id": "XLfo2TjhkErH",
    "outputId": "8c1c918c-7d72-4e5b-8e85-22ece714cc2f"
   },
   "outputs": [
    {
     "data": {
      "text/html": [
       "<div>\n",
       "<style scoped>\n",
       "    .dataframe tbody tr th:only-of-type {\n",
       "        vertical-align: middle;\n",
       "    }\n",
       "\n",
       "    .dataframe tbody tr th {\n",
       "        vertical-align: top;\n",
       "    }\n",
       "\n",
       "    .dataframe thead th {\n",
       "        text-align: right;\n",
       "    }\n",
       "</style>\n",
       "<table border=\"1\" class=\"dataframe\">\n",
       "  <thead>\n",
       "    <tr style=\"text-align: right;\">\n",
       "      <th></th>\n",
       "      <th>Κρήτη</th>\n",
       "      <th>Σίφνος</th>\n",
       "      <th>Σέρρες</th>\n",
       "      <th>Πήλιο</th>\n",
       "      <th>Ήπειρος</th>\n",
       "      <th>Λευκάδα</th>\n",
       "      <th>Αχαΐα</th>\n",
       "      <th>Εύβοια</th>\n",
       "      <th>Μακεδονία</th>\n",
       "      <th>Κύπρος</th>\n",
       "      <th>...</th>\n",
       "      <th>Αερόπολη</th>\n",
       "      <th>Τριφυλία</th>\n",
       "      <th>Μπλάτση</th>\n",
       "      <th>Ανατολική Κρήτη</th>\n",
       "      <th>Ανατολική Θράκη</th>\n",
       "      <th>Ανδρίτσαινα Ολυμπίου</th>\n",
       "      <th>Δυτική Κρήτη</th>\n",
       "      <th>Στερεά Ελλάδα</th>\n",
       "      <th>Ναυπακτία</th>\n",
       "      <th>Δωδεκάνησα</th>\n",
       "    </tr>\n",
       "  </thead>\n",
       "  <tbody>\n",
       "    <tr>\n",
       "      <th>0</th>\n",
       "      <td>35.308495</td>\n",
       "      <td>36.971401</td>\n",
       "      <td>41.091071</td>\n",
       "      <td>39.365088</td>\n",
       "      <td>39.650192</td>\n",
       "      <td>38.706573</td>\n",
       "      <td>38.069275</td>\n",
       "      <td>38.494172</td>\n",
       "      <td>40.618648</td>\n",
       "      <td>34.917416</td>\n",
       "      <td>...</td>\n",
       "      <td>36.665535</td>\n",
       "      <td>37.195013</td>\n",
       "      <td>40.610344</td>\n",
       "      <td>35.205462</td>\n",
       "      <td>41.675933</td>\n",
       "      <td>37.521120</td>\n",
       "      <td>35.512083</td>\n",
       "      <td>38.562460</td>\n",
       "      <td>38.544947</td>\n",
       "      <td>36.179539</td>\n",
       "    </tr>\n",
       "    <tr>\n",
       "      <th>1</th>\n",
       "      <td>24.463342</td>\n",
       "      <td>24.708110</td>\n",
       "      <td>23.549803</td>\n",
       "      <td>23.135561</td>\n",
       "      <td>20.690846</td>\n",
       "      <td>20.641678</td>\n",
       "      <td>21.872730</td>\n",
       "      <td>23.911084</td>\n",
       "      <td>22.917954</td>\n",
       "      <td>32.889903</td>\n",
       "      <td>...</td>\n",
       "      <td>22.382907</td>\n",
       "      <td>21.703732</td>\n",
       "      <td>21.348481</td>\n",
       "      <td>26.092454</td>\n",
       "      <td>26.558722</td>\n",
       "      <td>21.869155</td>\n",
       "      <td>24.019154</td>\n",
       "      <td>23.161853</td>\n",
       "      <td>21.870393</td>\n",
       "      <td>27.835048</td>\n",
       "    </tr>\n",
       "  </tbody>\n",
       "</table>\n",
       "<p>2 rows × 132 columns</p>\n",
       "</div>"
      ],
      "text/plain": [
       "       Κρήτη     Σίφνος     Σέρρες      Πήλιο    Ήπειρος    Λευκάδα  \\\n",
       "0  35.308495  36.971401  41.091071  39.365088  39.650192  38.706573   \n",
       "1  24.463342  24.708110  23.549803  23.135561  20.690846  20.641678   \n",
       "\n",
       "       Αχαΐα     Εύβοια  Μακεδονία     Κύπρος  ...   Αερόπολη   Τριφυλία  \\\n",
       "0  38.069275  38.494172  40.618648  34.917416  ...  36.665535  37.195013   \n",
       "1  21.872730  23.911084  22.917954  32.889903  ...  22.382907  21.703732   \n",
       "\n",
       "     Μπλάτση  Ανατολική Κρήτη  Ανατολική Θράκη  Ανδρίτσαινα Ολυμπίου  \\\n",
       "0  40.610344        35.205462        41.675933             37.521120   \n",
       "1  21.348481        26.092454        26.558722             21.869155   \n",
       "\n",
       "   Δυτική Κρήτη  Στερεά Ελλάδα  Ναυπακτία  Δωδεκάνησα  \n",
       "0     35.512083      38.562460  38.544947   36.179539  \n",
       "1     24.019154      23.161853  21.870393   27.835048  \n",
       "\n",
       "[2 rows x 132 columns]"
      ]
     },
     "execution_count": 6,
     "metadata": {},
     "output_type": "execute_result"
    }
   ],
   "source": [
    "pd.read_csv('geolocs.csv')"
   ]
  }
 ],
 "metadata": {
  "colab": {
   "authorship_tag": "ABX9TyPbZEepgeH/gEuXrByne7ag",
   "include_colab_link": true,
   "provenance": []
  },
  "kernelspec": {
   "display_name": "Python 3",
   "name": "python3"
  },
  "language_info": {
   "codemirror_mode": {
    "name": "ipython",
    "version": 3
   },
   "file_extension": ".py",
   "mimetype": "text/x-python",
   "name": "python",
   "nbconvert_exporter": "python",
   "pygments_lexer": "ipython3",
   "version": "3.12.7"
  }
 },
 "nbformat": 4,
 "nbformat_minor": 0
}
