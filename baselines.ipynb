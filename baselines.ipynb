{
 "cells": [
  {
   "cell_type": "markdown",
   "id": "fd68349c",
   "metadata": {},
   "source": [
    "# Proverb geolocation baselines\n",
    "* Classification: select an area at random.\n",
    "* Regression: return the average lat/lon of the train data."
   ]
  },
  {
   "cell_type": "code",
   "execution_count": 45,
   "id": "63314672",
   "metadata": {},
   "outputs": [],
   "source": [
    "import pandas as pd\n",
    "import matplotlib.pyplot as plt\n",
    "import numpy as np\n",
    "import seaborn as sns\n",
    "from sklearn.model_selection import train_test_split\n",
    "from sklearn.metrics import *\n",
    "from sklearn.linear_model import LogisticRegression\n",
    "from sklearn.metrics import mean_absolute_error, mean_squared_error"
   ]
  },
  {
   "cell_type": "markdown",
   "id": "4ad8b57d",
   "metadata": {},
   "source": [
    "## Load the data"
   ]
  },
  {
   "cell_type": "code",
   "execution_count": 46,
   "id": "95ed99e5",
   "metadata": {},
   "outputs": [],
   "source": [
    "balanced_corpus = pd.read_csv(\"data/balanced_corpus.csv\", index_col=0)"
   ]
  },
  {
   "cell_type": "markdown",
   "id": "91295add",
   "metadata": {},
   "source": [
    "## Train the baselines\n",
    "\n",
    "* Three splits with fixed random seed for reproducibility."
   ]
  },
  {
   "cell_type": "code",
   "execution_count": 53,
   "id": "f83a8844",
   "metadata": {},
   "outputs": [],
   "source": [
    "from sklearn.dummy import DummyClassifier, DummyRegressor\n",
    "from sklearn.metrics import f1_score\n",
    "loc_name = {'Ρούμελη':'Roumeli', 'Κοζάνη':'Kozani', 'Κως':'Kos', 'Αδριανούπολη':'Adrian.', 'Νάουσα':'Naousa', 'Σέρρες':'Serres', 'Σίφνος': 'Sifnos', 'Ήπειρος':'Epirus', 'Αιτωλία':'Etolia', 'Αμοργός':'Amorgos', 'Ανατολική Θράκη': 'East Thrace', 'Αρκαδία':'Arcadia', 'Αχαΐα':'Achaia', 'Επτάνησος':'Eptanisos', 'Εύβοια':'Eyvoia', 'Θεσπρωτία':'Thesprotia',  'Θράκη': 'Thrace', 'Ιωάννινα':'Ioannina', 'Κάρπαθος':'Karpathos', 'Κεφαλληνία':'Kefalinia', 'Κρήτη':'Crete', 'Κύπρος':'Cyprus', 'Λέσβος':'Lesvos', 'Λακωνία':'Laconia', 'Μακεδονία':'Maced.', 'Μικρά Ασία':'Asia Minor', 'Νάξος':'Naxos', 'Πόντος':'Pontos', 'Ρόδος':'Rodos', 'Σκύρος':'Skyros'}\n",
    "regions = ['Πόντος', 'Κύπρος', 'Κάρπαθος', 'Θεσπρωτία', 'Αμοργός', 'Σκύρος', 'Μικρά Ασία', 'Λέσβος', 'Μακεδονία', 'Λακωνία', 'Εύβοια', 'Επτάνησος', 'Αρκαδία', 'Νάξος', 'Κρήτη', 'Αχαΐα', 'Θράκη', 'Ιωάννινα', 'Αιτωλία', 'Κεφαλληνία', 'Ανατολική Θράκη', 'Ρόδος', 'Ήπειρος']\n",
    "f_scores = []\n",
    "mae_scores_lat, mae_scores_lon = [], []\n",
    "mse_scores_lat, mse_scores_lon = [], []\n",
    "for i in range(3):\n",
    "    seed = 2023 + i\n",
    "    train, test = train_test_split(balanced_corpus, test_size=0.05, random_state=seed)\n",
    "    train, dev = train_test_split(train, test_size=test.shape[0], random_state=seed)\n",
    "    baseline_clf = DummyClassifier(strategy='uniform')\n",
    "    baseline_clf.fit(train.text, train.area)\n",
    "    f_scores.append(f1_score(test.area, baseline_clf.predict(test.text), average=None, zero_division=0, labels=regions))\n",
    "    \n",
    "    baseline_reg = DummyRegressor(strategy='mean')\n",
    "    baseline_reg.fit(train.text, train[['lat', 'lon']])\n",
    "    reg_pred = baseline_reg.predict(test.text)\n",
    "    mae_scores_lat.append(mean_absolute_error(test.lat, reg_pred[:,0]))\n",
    "    mae_scores_lon.append(mean_absolute_error(test.lon, reg_pred[:,1]))\n",
    "    mse_scores_lat.append(mean_squared_error(test.lat, reg_pred[:,0]))\n",
    "    mse_scores_lon.append(mean_squared_error(test.lon, reg_pred[:,1]))"
   ]
  },
  {
   "cell_type": "markdown",
   "id": "94709ab6",
   "metadata": {},
   "source": [
    "## Classification results"
   ]
  },
  {
   "cell_type": "code",
   "execution_count": 54,
   "id": "78c673f0",
   "metadata": {},
   "outputs": [
    {
     "name": "stdout",
     "output_type": "stream",
     "text": [
      "BASELINE CLF F1: 0.04±0.02\n"
     ]
    },
    {
     "data": {
      "text/html": [
       "<div>\n",
       "<style scoped>\n",
       "    .dataframe tbody tr th:only-of-type {\n",
       "        vertical-align: middle;\n",
       "    }\n",
       "\n",
       "    .dataframe tbody tr th {\n",
       "        vertical-align: top;\n",
       "    }\n",
       "\n",
       "    .dataframe thead th {\n",
       "        text-align: right;\n",
       "    }\n",
       "</style>\n",
       "<table border=\"1\" class=\"dataframe\">\n",
       "  <thead>\n",
       "    <tr style=\"text-align: right;\">\n",
       "      <th></th>\n",
       "      <th>mean</th>\n",
       "      <th>sem</th>\n",
       "    </tr>\n",
       "  </thead>\n",
       "  <tbody>\n",
       "    <tr>\n",
       "      <th>Pontos</th>\n",
       "      <td>0.027222</td>\n",
       "      <td>0.013620</td>\n",
       "    </tr>\n",
       "    <tr>\n",
       "      <th>Cyprus</th>\n",
       "      <td>0.013889</td>\n",
       "      <td>0.013889</td>\n",
       "    </tr>\n",
       "    <tr>\n",
       "      <th>Karpathos</th>\n",
       "      <td>0.043282</td>\n",
       "      <td>0.003797</td>\n",
       "    </tr>\n",
       "    <tr>\n",
       "      <th>Thesprotia</th>\n",
       "      <td>0.014815</td>\n",
       "      <td>0.014815</td>\n",
       "    </tr>\n",
       "    <tr>\n",
       "      <th>Amorgos</th>\n",
       "      <td>0.052852</td>\n",
       "      <td>0.026461</td>\n",
       "    </tr>\n",
       "    <tr>\n",
       "      <th>Skyros</th>\n",
       "      <td>0.038207</td>\n",
       "      <td>0.020497</td>\n",
       "    </tr>\n",
       "    <tr>\n",
       "      <th>Asia Minor</th>\n",
       "      <td>0.025641</td>\n",
       "      <td>0.025641</td>\n",
       "    </tr>\n",
       "    <tr>\n",
       "      <th>Lesvos</th>\n",
       "      <td>0.081391</td>\n",
       "      <td>0.020210</td>\n",
       "    </tr>\n",
       "    <tr>\n",
       "      <th>Maced.</th>\n",
       "      <td>0.075499</td>\n",
       "      <td>0.020984</td>\n",
       "    </tr>\n",
       "    <tr>\n",
       "      <th>Laconia</th>\n",
       "      <td>0.041291</td>\n",
       "      <td>0.003226</td>\n",
       "    </tr>\n",
       "    <tr>\n",
       "      <th>Eyvoia</th>\n",
       "      <td>0.042591</td>\n",
       "      <td>0.025118</td>\n",
       "    </tr>\n",
       "    <tr>\n",
       "      <th>Eptanisos</th>\n",
       "      <td>0.025157</td>\n",
       "      <td>0.025157</td>\n",
       "    </tr>\n",
       "    <tr>\n",
       "      <th>Arcadia</th>\n",
       "      <td>0.069258</td>\n",
       "      <td>0.016566</td>\n",
       "    </tr>\n",
       "    <tr>\n",
       "      <th>Naxos</th>\n",
       "      <td>0.038462</td>\n",
       "      <td>0.038462</td>\n",
       "    </tr>\n",
       "    <tr>\n",
       "      <th>Crete</th>\n",
       "      <td>0.025510</td>\n",
       "      <td>0.012840</td>\n",
       "    </tr>\n",
       "    <tr>\n",
       "      <th>Achaia</th>\n",
       "      <td>0.033333</td>\n",
       "      <td>0.019245</td>\n",
       "    </tr>\n",
       "    <tr>\n",
       "      <th>Thrace</th>\n",
       "      <td>0.061450</td>\n",
       "      <td>0.033520</td>\n",
       "    </tr>\n",
       "    <tr>\n",
       "      <th>Ioannina</th>\n",
       "      <td>0.062626</td>\n",
       "      <td>0.045667</td>\n",
       "    </tr>\n",
       "    <tr>\n",
       "      <th>Etolia</th>\n",
       "      <td>0.012821</td>\n",
       "      <td>0.012821</td>\n",
       "    </tr>\n",
       "    <tr>\n",
       "      <th>Kefalinia</th>\n",
       "      <td>0.013605</td>\n",
       "      <td>0.013605</td>\n",
       "    </tr>\n",
       "    <tr>\n",
       "      <th>East Thrace</th>\n",
       "      <td>0.034167</td>\n",
       "      <td>0.018276</td>\n",
       "    </tr>\n",
       "    <tr>\n",
       "      <th>Rodos</th>\n",
       "      <td>0.039177</td>\n",
       "      <td>0.003144</td>\n",
       "    </tr>\n",
       "    <tr>\n",
       "      <th>Epirus</th>\n",
       "      <td>0.028999</td>\n",
       "      <td>0.014510</td>\n",
       "    </tr>\n",
       "  </tbody>\n",
       "</table>\n",
       "</div>"
      ],
      "text/plain": [
       "                 mean       sem\n",
       "Pontos       0.027222  0.013620\n",
       "Cyprus       0.013889  0.013889\n",
       "Karpathos    0.043282  0.003797\n",
       "Thesprotia   0.014815  0.014815\n",
       "Amorgos      0.052852  0.026461\n",
       "Skyros       0.038207  0.020497\n",
       "Asia Minor   0.025641  0.025641\n",
       "Lesvos       0.081391  0.020210\n",
       "Maced.       0.075499  0.020984\n",
       "Laconia      0.041291  0.003226\n",
       "Eyvoia       0.042591  0.025118\n",
       "Eptanisos    0.025157  0.025157\n",
       "Arcadia      0.069258  0.016566\n",
       "Naxos        0.038462  0.038462\n",
       "Crete        0.025510  0.012840\n",
       "Achaia       0.033333  0.019245\n",
       "Thrace       0.061450  0.033520\n",
       "Ioannina     0.062626  0.045667\n",
       "Etolia       0.012821  0.012821\n",
       "Kefalinia    0.013605  0.013605\n",
       "East Thrace  0.034167  0.018276\n",
       "Rodos        0.039177  0.003144\n",
       "Epirus       0.028999  0.014510"
      ]
     },
     "execution_count": 54,
     "metadata": {},
     "output_type": "execute_result"
    }
   ],
   "source": [
    "results = pd.DataFrame({i: np.array(f_scores[i]) for i in range(3)}, index=[loc_name[r] for r in regions])\n",
    "print(f'BASELINE CLF F1: {results.mean(1).mean(0):.2f}±{results.sem(1).mean(0):.2f}')\n",
    "results.agg(['mean', 'sem'], 1)"
   ]
  },
  {
   "cell_type": "markdown",
   "id": "66b431da",
   "metadata": {},
   "source": [
    "## Regression results"
   ]
  },
  {
   "cell_type": "code",
   "execution_count": 52,
   "id": "d08b7968",
   "metadata": {},
   "outputs": [
    {
     "name": "stdout",
     "output_type": "stream",
     "text": [
      "BASELINE REG MAE (lat): 1.40±0.02\n",
      "BASELINE REG MAE (lon): 2.05±0.11\n",
      "\n",
      "BASELINE REG MSE (lat): 3.08±0.06\n",
      "BASELINE REG MSE (lat): 7.84±0.93\n"
     ]
    }
   ],
   "source": [
    "print(f'BASELINE REG MAE (lat): {pd.Series(mae_scores_lat).mean(0):.2f}±{pd.Series(mae_scores_lat).sem():.2f}')\n",
    "print(f'BASELINE REG MAE (lon): {pd.Series(mae_scores_lon).mean(0):.2f}±{pd.Series(mae_scores_lon).sem():.2f}')\n",
    "print()\n",
    "print(f'BASELINE REG MSE (lat): {pd.Series(mse_scores_lat).mean(0):.2f}±{pd.Series(mse_scores_lat).sem():.2f}')\n",
    "print(f'BASELINE REG MSE (lat): {pd.Series(mse_scores_lon).mean(0):.2f}±{pd.Series(mse_scores_lon).sem():.2f}')"
   ]
  },
  {
   "cell_type": "code",
   "execution_count": null,
   "id": "0b3c0eea",
   "metadata": {},
   "outputs": [],
   "source": []
  }
 ],
 "metadata": {
  "kernelspec": {
   "display_name": "Python 3 (ipykernel)",
   "language": "python",
   "name": "python3"
  },
  "language_info": {
   "codemirror_mode": {
    "name": "ipython",
    "version": 3
   },
   "file_extension": ".py",
   "mimetype": "text/x-python",
   "name": "python",
   "nbconvert_exporter": "python",
   "pygments_lexer": "ipython3",
   "version": "3.10.10"
  }
 },
 "nbformat": 4,
 "nbformat_minor": 5
}
