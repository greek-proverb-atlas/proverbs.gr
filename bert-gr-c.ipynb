{
 "cells": [
  {
   "cell_type": "markdown",
   "metadata": {
    "colab_type": "text",
    "id": "view-in-github"
   },
   "source": [
    "<a href=\"https://colab.research.google.com/github/ipavlopoulos/paremia/blob/main/bert-gr-c.ipynb\" target=\"_parent\"><img src=\"https://colab.research.google.com/assets/colab-badge.svg\" alt=\"Open In Colab\"/></a>"
   ]
  },
  {
   "cell_type": "code",
   "execution_count": 1,
   "metadata": {
    "id": "TqsCKUwZCpsf"
   },
   "outputs": [],
   "source": [
    "import pandas as pd\n",
    "import numpy as np\n",
    "import matplotlib.pyplot as plt\n",
    "from sklearn.model_selection import train_test_split\n",
    "from sklearn.metrics import *\n",
    "\n",
    "# load the data\n",
    "balanced_corpus = pd.read_csv(\"data/balanced_corpus.csv\", index_col=0)\n",
    "train, test = train_test_split(balanced_corpus, test_size=0.05, random_state=2023)\n",
    "train, dev = train_test_split(train, test_size=test.shape[0], random_state=2023)"
   ]
  },
  {
   "cell_type": "code",
   "execution_count": 2,
   "metadata": {
    "id": "_TaHmTFKCtK2"
   },
   "outputs": [],
   "source": [
    "from transformers import BertModel, BertTokenizer\n",
    "model_name = 'nlpaueb/bert-base-greek-uncased-v1'\n",
    "tokenizer = BertTokenizer.from_pretrained(model_name)"
   ]
  },
  {
   "cell_type": "code",
   "execution_count": 3,
   "metadata": {
    "id": "J7mFiKSjCwHI"
   },
   "outputs": [],
   "source": [
    "import torch\n",
    "from sklearn.preprocessing import OneHotEncoder\n",
    "\n",
    "# the areas that will serve as target label indices\n",
    "idx2loc = {i:a for i,a in enumerate(train.area.unique())}\n",
    "loc2idx = {idx2loc[i]:i for i in idx2loc}\n",
    "\n",
    "class Dataset(torch.utils.data.Dataset):\n",
    "    def __init__(self, df, max_length = 32):\n",
    "        self.max_length = max_length\n",
    "        self.labels = df.area.apply(lambda a: loc2idx[a])\n",
    "        self.labels = np.array(self.labels.values)\n",
    "        self.labels = np.reshape(self.labels, (self.labels.shape[0], 1))\n",
    "        self.labels = OneHotEncoder(sparse_output=False).fit_transform(self.labels)\n",
    "        self.texts = np.array(df.text.apply(lambda txt: tokenizer(txt, padding='max_length', max_length = self.max_length, truncation=True, return_tensors=\"pt\")).values)\n",
    "\n",
    "    def __len__(self):\n",
    "        return self.labels.shape[0]\n",
    "\n",
    "    def __getitem__(self, idx):\n",
    "        batch_texts = self.texts[idx]\n",
    "        batch_labels = self.labels[idx]\n",
    "        return batch_texts, batch_labels"
   ]
  },
  {
   "cell_type": "code",
   "execution_count": 4,
   "metadata": {
    "id": "VhlPDjVVCx1i"
   },
   "outputs": [],
   "source": [
    "from torch import nn\n",
    "\n",
    "class BertClassifier(nn.Module):\n",
    "\n",
    "    def __init__(self, dropout=0.1, num_classes=1):\n",
    "        super(BertClassifier, self).__init__()\n",
    "        self.bert = BertModel.from_pretrained(model_name)\n",
    "        self.dropout = nn.Dropout(dropout)\n",
    "        self.linear1 = nn.Linear(768, 128, bias=True)\n",
    "        self.norm = nn.BatchNorm1d(128)\n",
    "        self.linear2 = nn.Linear(128, num_classes, bias=True)\n",
    "        self.relu = nn.ReLU()\n",
    "\n",
    "    def forward(self, input_id, mask):\n",
    "        _, pooled_output = self.bert(input_ids=input_id, attention_mask=mask, return_dict=False)\n",
    "        x = pooled_output\n",
    "        x = self.dropout(x)\n",
    "        x = self.relu(self.linear1(x))\n",
    "        x = self.norm(x)\n",
    "        x = self.linear2(x)\n",
    "        return x"
   ]
  },
  {
   "cell_type": "code",
   "execution_count": 5,
   "metadata": {
    "colab": {
     "base_uri": "https://localhost:8080/"
    },
    "id": "JVYZ8jBTC6P-",
    "outputId": "6e78778a-cbcd-48e1-ea28-aaf80cf0e603"
   },
   "outputs": [],
   "source": [
    "from torch.optim import Adam\n",
    "from tqdm import tqdm\n",
    "\n",
    "def validate(model, dataloader, device=\"cpu\", criterion=nn.CrossEntropyLoss()):\n",
    "    predictions, gold_labels = [], []\n",
    "    model.eval()\n",
    "    val_loss = 0\n",
    "    with torch.no_grad():\n",
    "        for batch_id, (val_input, val_label) in enumerate(dataloader):\n",
    "            val_label = val_label.to(device)\n",
    "            mask = val_input['attention_mask'].to(device)\n",
    "            input_id = val_input['input_ids'].squeeze(1).to(device)\n",
    "            output = model(input_id, mask)\n",
    "            batch_loss = criterion(output, val_label)\n",
    "            gold = np.argmax(val_label.cpu().detach().numpy(), axis=1)\n",
    "            pred = np.argmax(output.cpu().detach().numpy(), axis=1)\n",
    "            predictions.extend(pred)\n",
    "            gold_labels.extend(gold)\n",
    "            val_loss += batch_loss.item()\n",
    "    return predictions, gold_labels, val_loss/batch_id\n",
    "\n",
    "def finetune(model, train_data, val_data, learning_rate=2e-5, epochs=10, criterion=nn.CrossEntropyLoss(), \n",
    "             batch_size=32, max_length=32, patience=2):\n",
    "    \n",
    "    train_losses = []\n",
    "    val_losses = []\n",
    "    \n",
    "    train_dataloader = torch.utils.data.DataLoader(Dataset(train_data, max_length=max_length), \n",
    "                                                   batch_size=batch_size, shuffle=True, drop_last=False)\n",
    "    val_dataloader = torch.utils.data.DataLoader(Dataset(val_data, max_length=max_length), \n",
    "                                                 batch_size=batch_size, drop_last=False)\n",
    "    use_cuda = torch.cuda.is_available()\n",
    "    device = torch.device(\"cuda\" if use_cuda else \"cpu\")\n",
    "    optimizer = Adam(model.parameters(), lr=learning_rate)\n",
    "    model.to(device)\n",
    "    lowest_loss = 10\n",
    "    best_epoch = 0\n",
    "    epochs_not_improving = 0\n",
    "    for epoch_num in range(epochs):\n",
    "            total_acc_train = 0\n",
    "            total_loss_train = 0\n",
    "            for batch_id, (inputs, labels) in tqdm(enumerate(train_dataloader)):\n",
    "                model.train()\n",
    "                output = model(inputs['input_ids'].squeeze(1).to(device), \n",
    "                               inputs['attention_mask'].to(device))\n",
    "                batch_loss = criterion(output.to(device), labels.to(device))\n",
    "                total_loss_train += batch_loss.item()\n",
    "\n",
    "                optimizer.zero_grad()\n",
    "                batch_loss.backward()\n",
    "                optimizer.step()\n",
    "            train_losses.append(total_loss_train/(batch_id+1))\n",
    "            \n",
    "            predictions, gold_labels, val_loss = validate(model, val_dataloader, device, criterion)\n",
    "            val_losses.append(val_loss)\n",
    "            if val_loss < lowest_loss:\n",
    "                print(f\"New best epoch found: {epoch_num} (val loss: {val_loss:.3f})!\")\n",
    "                lowest_loss = val_loss\n",
    "                best_epoch = epoch_num\n",
    "                torch.save(model.state_dict(), \"checkpoint.pt\")\n",
    "                epochs_not_improving = 0\n",
    "            else:\n",
    "                epochs_not_improving += 1\n",
    "                if epochs_not_improving >= patience:\n",
    "                    model.load_state_dict(torch.load(\"checkpoint.pt\"))\n",
    "                    print('Patience is up, restoring the best model and exiting...')\n",
    "                    break\n",
    "            print(\n",
    "                f'Epochs: {epoch_num + 1} | Train Loss: {total_loss_train/batch_id: .3f} \\\n",
    "                | Val Loss: {val_loss: .3f} (best epoch: {best_epoch} w/val_loss: {lowest_loss:.3f})')\n",
    "    model.eval()    \n",
    "    return model, train_losses, val_losses"
   ]
  },
  {
   "cell_type": "code",
   "execution_count": 6,
   "metadata": {},
   "outputs": [
    {
     "name": "stderr",
     "output_type": "stream",
     "text": [
      "Some weights of the model checkpoint at nlpaueb/bert-base-greek-uncased-v1 were not used when initializing BertModel: ['cls.seq_relationship.bias', 'cls.predictions.decoder.weight', 'cls.predictions.transform.dense.bias', 'cls.seq_relationship.weight', 'cls.predictions.transform.LayerNorm.bias', 'cls.predictions.bias', 'cls.predictions.decoder.bias', 'cls.predictions.transform.LayerNorm.weight', 'cls.predictions.transform.dense.weight']\n",
      "- This IS expected if you are initializing BertModel from the checkpoint of a model trained on another task or with another architecture (e.g. initializing a BertForSequenceClassification model from a BertForPreTraining model).\n",
      "- This IS NOT expected if you are initializing BertModel from the checkpoint of a model that you expect to be exactly identical (initializing a BertForSequenceClassification model from a BertForSequenceClassification model).\n",
      "162it [00:09, 16.85it/s]\n"
     ]
    },
    {
     "name": "stdout",
     "output_type": "stream",
     "text": [
      "New best epoch found: 0 (val loss: 3.384)!\n",
      "Epochs: 1 | Train Loss:  3.225                 | Val Loss:  3.384 (best epoch: 0 w/val_loss: 3.384)\n"
     ]
    },
    {
     "name": "stderr",
     "output_type": "stream",
     "text": [
      "162it [00:09, 17.63it/s]\n"
     ]
    },
    {
     "name": "stdout",
     "output_type": "stream",
     "text": [
      "New best epoch found: 1 (val loss: 3.181)!\n",
      "Epochs: 2 | Train Loss:  2.989                 | Val Loss:  3.181 (best epoch: 1 w/val_loss: 3.181)\n"
     ]
    },
    {
     "name": "stderr",
     "output_type": "stream",
     "text": [
      "162it [00:09, 17.42it/s]\n"
     ]
    },
    {
     "name": "stdout",
     "output_type": "stream",
     "text": [
      "New best epoch found: 2 (val loss: 3.100)!\n",
      "Epochs: 3 | Train Loss:  2.803                 | Val Loss:  3.100 (best epoch: 2 w/val_loss: 3.100)\n"
     ]
    },
    {
     "name": "stderr",
     "output_type": "stream",
     "text": [
      "162it [00:09, 17.38it/s]\n"
     ]
    },
    {
     "name": "stdout",
     "output_type": "stream",
     "text": [
      "New best epoch found: 3 (val loss: 3.040)!\n",
      "Epochs: 4 | Train Loss:  2.679                 | Val Loss:  3.040 (best epoch: 3 w/val_loss: 3.040)\n"
     ]
    },
    {
     "name": "stderr",
     "output_type": "stream",
     "text": [
      "162it [00:09, 17.32it/s]\n"
     ]
    },
    {
     "name": "stdout",
     "output_type": "stream",
     "text": [
      "New best epoch found: 4 (val loss: 2.960)!\n",
      "Epochs: 5 | Train Loss:  2.556                 | Val Loss:  2.960 (best epoch: 4 w/val_loss: 2.960)\n"
     ]
    },
    {
     "name": "stderr",
     "output_type": "stream",
     "text": [
      "162it [00:09, 17.31it/s]\n"
     ]
    },
    {
     "name": "stdout",
     "output_type": "stream",
     "text": [
      "New best epoch found: 5 (val loss: 2.920)!\n",
      "Epochs: 6 | Train Loss:  2.425                 | Val Loss:  2.920 (best epoch: 5 w/val_loss: 2.920)\n"
     ]
    },
    {
     "name": "stderr",
     "output_type": "stream",
     "text": [
      "162it [00:09, 17.30it/s]\n"
     ]
    },
    {
     "name": "stdout",
     "output_type": "stream",
     "text": [
      "New best epoch found: 6 (val loss: 2.916)!\n",
      "Epochs: 7 | Train Loss:  2.286                 | Val Loss:  2.916 (best epoch: 6 w/val_loss: 2.916)\n"
     ]
    },
    {
     "name": "stderr",
     "output_type": "stream",
     "text": [
      "162it [00:09, 17.29it/s]\n"
     ]
    },
    {
     "name": "stdout",
     "output_type": "stream",
     "text": [
      "Epochs: 8 | Train Loss:  2.127                 | Val Loss:  2.933 (best epoch: 6 w/val_loss: 2.916)\n"
     ]
    },
    {
     "name": "stderr",
     "output_type": "stream",
     "text": [
      "162it [00:09, 17.26it/s]\n"
     ]
    },
    {
     "name": "stdout",
     "output_type": "stream",
     "text": [
      "Epochs: 9 | Train Loss:  1.954                 | Val Loss:  2.961 (best epoch: 6 w/val_loss: 2.916)\n"
     ]
    },
    {
     "name": "stderr",
     "output_type": "stream",
     "text": [
      "162it [00:09, 17.24it/s]\n"
     ]
    },
    {
     "name": "stdout",
     "output_type": "stream",
     "text": [
      "Epochs: 10 | Train Loss:  1.740                 | Val Loss:  3.009 (best epoch: 6 w/val_loss: 2.916)\n"
     ]
    },
    {
     "name": "stderr",
     "output_type": "stream",
     "text": [
      "162it [00:09, 17.22it/s]\n"
     ]
    },
    {
     "name": "stdout",
     "output_type": "stream",
     "text": [
      "Epochs: 11 | Train Loss:  1.526                 | Val Loss:  3.012 (best epoch: 6 w/val_loss: 2.916)\n"
     ]
    },
    {
     "name": "stderr",
     "output_type": "stream",
     "text": [
      "162it [00:09, 17.22it/s]\n"
     ]
    },
    {
     "name": "stdout",
     "output_type": "stream",
     "text": [
      "Patience is up, restoring the best model and exiting...\n"
     ]
    }
   ],
   "source": [
    "model, train_losses, val_losses = finetune(BertClassifier(num_classes=len(loc2idx)), \n",
    "                                           train, dev, \n",
    "                                           epochs=100, \n",
    "                                           patience=5, \n",
    "                                           batch_size=64, \n",
    "                                           max_length=16)"
   ]
  },
  {
   "cell_type": "code",
   "execution_count": 7,
   "metadata": {},
   "outputs": [
    {
     "data": {
      "text/plain": [
       "<matplotlib.legend.Legend at 0x7f74f9cd1bd0>"
      ]
     },
     "execution_count": 7,
     "metadata": {},
     "output_type": "execute_result"
    },
    {
     "data": {
      "image/png": "[encoded data removed]",
      "text/plain": [
       "<Figure size 640x480 with 1 Axes>"
      ]
     },
     "metadata": {},
     "output_type": "display_data"
    }
   ],
   "source": [
    "plt.plot(train_losses, label='Training Loss')\n",
    "plt.plot(val_losses, label='Validation Loss')\n",
    "plt.title('Training and Validation Loss')\n",
    "plt.xlabel('Epoch')\n",
    "plt.ylabel('Loss')\n",
    "plt.legend()"
   ]
  },
  {
   "cell_type": "code",
   "execution_count": 8,
   "metadata": {
    "colab": {
     "base_uri": "https://localhost:8080/"
    },
    "id": "jaYzpBaRem62",
    "outputId": "6c7ecb40-2db3-402d-d443-51e031fa0126"
   },
   "outputs": [
    {
     "name": "stdout",
     "output_type": "stream",
     "text": [
      "                 precision    recall  f1-score   support\n",
      "\n",
      "        Ήπειρος       0.00      0.00      0.00        23\n",
      "        Αιτωλία       0.37      0.58      0.45        24\n",
      "        Αμοργός       0.18      0.32      0.23        22\n",
      "Ανατολική Θράκη       0.12      0.33      0.17        24\n",
      "        Αρκαδία       0.13      0.16      0.14        31\n",
      "          Αχαΐα       0.40      0.53      0.46        32\n",
      "      Επτάνησος       0.26      0.30      0.28        23\n",
      "         Εύβοια       0.06      0.05      0.05        20\n",
      "      Θεσπρωτία       0.07      0.09      0.08        22\n",
      "          Θράκη       0.00      0.00      0.00        25\n",
      "       Ιωάννινα       0.24      0.14      0.17        29\n",
      "       Κάρπαθος       0.55      0.21      0.31        28\n",
      "     Κεφαλληνία       0.15      0.26      0.19        27\n",
      "          Κρήτη       0.29      0.20      0.24        30\n",
      "         Κύπρος       0.76      0.79      0.78        24\n",
      "         Λέσβος       0.56      0.42      0.48        24\n",
      "        Λακωνία       0.17      0.11      0.13        27\n",
      "      Μακεδονία       0.00      0.00      0.00        27\n",
      "     Μικρά Ασία       0.00      0.00      0.00        18\n",
      "          Νάξος       0.26      0.25      0.26        24\n",
      "         Πόντος       0.88      0.74      0.80        19\n",
      "          Ρόδος       0.27      0.32      0.29        22\n",
      "         Σκύρος       0.56      0.63      0.59        30\n",
      "\n",
      "       accuracy                           0.28       575\n",
      "      macro avg       0.27      0.28      0.27       575\n",
      "   weighted avg       0.27      0.28      0.27       575\n",
      "\n"
     ]
    }
   ],
   "source": [
    "test_dataloader = torch.utils.data.DataLoader(Dataset(test), batch_size=1, drop_last=False)\n",
    "p,l,_ = validate(model.to(\"cpu\"), test_dataloader, \"cpu\")\n",
    "print(classification_report([idx2loc[i] for i in l], [idx2loc[i] for i in p]))"
   ]
  },
  {
   "cell_type": "code",
   "execution_count": 9,
   "metadata": {
    "id": "As1m-SkDe0BU"
   },
   "outputs": [],
   "source": [
    "torch.save(model.state_dict(), \"bert-gr-c.pt\")"
   ]
  },
  {
   "cell_type": "code",
   "execution_count": 10,
   "metadata": {
    "colab": {
     "base_uri": "https://localhost:8080/"
    },
    "id": "R8Pv_eYpghO0",
    "outputId": "9583794b-5125-4e04-8bcd-79fc2534cb28"
   },
   "outputs": [
    {
     "name": "stderr",
     "output_type": "stream",
     "text": [
      "Some weights of the model checkpoint at nlpaueb/bert-base-greek-uncased-v1 were not used when initializing BertModel: ['cls.seq_relationship.bias', 'cls.predictions.decoder.weight', 'cls.predictions.transform.dense.bias', 'cls.seq_relationship.weight', 'cls.predictions.transform.LayerNorm.bias', 'cls.predictions.bias', 'cls.predictions.decoder.bias', 'cls.predictions.transform.LayerNorm.weight', 'cls.predictions.transform.dense.weight']\n",
      "- This IS expected if you are initializing BertModel from the checkpoint of a model trained on another task or with another architecture (e.g. initializing a BertForSequenceClassification model from a BertForPreTraining model).\n",
      "- This IS NOT expected if you are initializing BertModel from the checkpoint of a model that you expect to be exactly identical (initializing a BertForSequenceClassification model from a BertForSequenceClassification model).\n"
     ]
    },
    {
     "data": {
      "text/plain": [
       "<All keys matched successfully>"
      ]
     },
     "execution_count": 10,
     "metadata": {},
     "output_type": "execute_result"
    }
   ],
   "source": [
    "model = BertClassifier(num_classes=len(loc2idx))\n",
    "model.load_state_dict(torch.load(\"bert-gr-c.pt\"))"
   ]
  }
 ],
 "metadata": {
  "accelerator": "GPU",
  "colab": {
   "authorship_tag": "ABX9TyNJhjbLK9vP39qVZaZXIocS",
   "gpuType": "T4",
   "include_colab_link": true,
   "machine_shape": "hm",
   "provenance": []
  },
  "kernelspec": {
   "display_name": "Python 3 (ipykernel)",
   "language": "python",
   "name": "python3"
  },
  "language_info": {
   "codemirror_mode": {
    "name": "ipython",
    "version": 3
   },
   "file_extension": ".py",
   "mimetype": "text/x-python",
   "name": "python",
   "nbconvert_exporter": "python",
   "pygments_lexer": "ipython3",
   "version": "3.11.3"
  }
 },
 "nbformat": 4,
 "nbformat_minor": 1
}
