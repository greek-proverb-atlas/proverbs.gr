{
  "nbformat": 4,
  "nbformat_minor": 0,
  "metadata": {
    "colab": {
      "provenance": [],
      "machine_shape": "hm",
      "gpuType": "T4",
      "authorship_tag": "ABX9TyNJhjbLK9vP39qVZaZXIocS",
      "include_colab_link": true
    },
    "kernelspec": {
      "name": "python3",
      "display_name": "Python 3"
    },
    "language_info": {
      "name": "python"
    },
    "accelerator": "GPU"
  },
  "cells": [
    {
      "cell_type": "markdown",
      "metadata": {
        "id": "view-in-github",
        "colab_type": "text"
      },
      "source": [
        "<a href=\"https://colab.research.google.com/github/ipavlopoulos/paremia/blob/main/bert-gr-c.ipynb\" target=\"_parent\"><img src=\"https://colab.research.google.com/assets/colab-badge.svg\" alt=\"Open In Colab\"/></a>"
      ]
    },
    {
      "cell_type": "code",
      "execution_count": 1,
      "metadata": {
        "id": "TqsCKUwZCpsf"
      },
      "outputs": [],
      "source": [
        "import pandas as pd\n",
        "import pandas as pd\n",
        "import matplotlib.pyplot as plt\n",
        "import numpy as np\n",
        "import seaborn as sns\n",
        "from sklearn.model_selection import train_test_split\n",
        "from sklearn.metrics import *\n",
        "from sklearn.pipeline import Pipeline\n",
        "from sklearn.ensemble import RandomForestRegressor, RandomForestClassifier, ExtraTreesRegressor\n",
        "from sklearn.linear_model import LinearRegression, LogisticRegression\n",
        "from sklearn.svm import LinearSVC\n",
        "from sklearn.feature_extraction.text import TfidfVectorizer\n",
        "import ast\n",
        "\n",
        "# load the data\n",
        "balanced_corpus = pd.read_csv(\"https://raw.githubusercontent.com/ipavlopoulos/paremia/main/data/balanced_corpus.csv\", index_col=0)\n",
        "train, test = train_test_split(balanced_corpus, test_size=0.05, random_state=2023)\n",
        "train, dev = train_test_split(train, test_size=test.shape[0], random_state=2023)"
      ]
    },
    {
      "cell_type": "code",
      "source": [
        "%%capture\n",
        "!pip install transformers\n",
        "from transformers import *\n",
        "model_name = 'nlpaueb/bert-base-greek-uncased-v1'\n",
        "tokenizer = BertTokenizer.from_pretrained(model_name)"
      ],
      "metadata": {
        "id": "_TaHmTFKCtK2"
      },
      "execution_count": 2,
      "outputs": []
    },
    {
      "cell_type": "code",
      "source": [
        "import torch\n",
        "import numpy as np\n",
        "from sklearn.preprocessing import OneHotEncoder\n",
        "\n",
        "# the areas that will serve as target label indices\n",
        "idx2loc = {i:a for i,a in enumerate(train.area.unique())}\n",
        "loc2idx = {idx2loc[i]:i for i in idx2loc}\n",
        "\n",
        "class Dataset(torch.utils.data.Dataset):\n",
        "    def __init__(self, df, max_length = 32):\n",
        "        self.max_length = max_length\n",
        "        self.labels = df.area.apply(lambda a: loc2idx[a])\n",
        "        self.labels = np.array(self.labels.values)\n",
        "        self.labels = np.reshape(self.labels, (self.labels.shape[0], 1))\n",
        "        self.labels = OneHotEncoder(sparse_output=False).fit_transform(self.labels)\n",
        "        self.texts = np.array(df.text.apply(lambda txt: tokenizer(txt, padding='max_length', max_length = self.max_length, truncation=True, return_tensors=\"pt\")).values)\n",
        "\n",
        "    def __len__(self):\n",
        "        return self.labels.shape[0]\n",
        "\n",
        "    def __getitem__(self, idx):\n",
        "        batch_texts = self.texts[idx]\n",
        "        batch_labels = self.labels[idx]\n",
        "        return batch_texts, batch_labels"
      ],
      "metadata": {
        "id": "J7mFiKSjCwHI"
      },
      "execution_count": 3,
      "outputs": []
    },
    {
      "cell_type": "code",
      "source": [
        "from torch import nn\n",
        "\n",
        "class BertClassifier(nn.Module):\n",
        "\n",
        "    def __init__(self, dropout=0.1, num_classes=1):\n",
        "        super(BertClassifier, self).__init__()\n",
        "        self.bert = BertModel.from_pretrained(model_name)\n",
        "        self.dropout = nn.Dropout(dropout)\n",
        "        self.linear1 = nn.Linear(768, 128, bias=True)\n",
        "        self.norm = nn.BatchNorm1d(128)\n",
        "        self.linear2 = nn.Linear(128, num_classes, bias=True)\n",
        "        self.relu = nn.ReLU()\n",
        "\n",
        "    def forward(self, input_id, mask):\n",
        "        _, pooled_output = self.bert(input_ids=input_id, attention_mask=mask, return_dict=False)\n",
        "        x = pooled_output\n",
        "        x = self.dropout(x)\n",
        "        x = self.relu(self.linear1(x))\n",
        "        x = self.norm(x)\n",
        "        x = self.linear2(x)\n",
        "        return x"
      ],
      "metadata": {
        "id": "VhlPDjVVCx1i"
      },
      "execution_count": 4,
      "outputs": []
    },
    {
      "cell_type": "code",
      "source": [
        "from torch.optim import Adam\n",
        "from tqdm import tqdm\n",
        "\n",
        "def validate(model, dataloader, device=\"cpu\", criterion=nn.CrossEntropyLoss()):\n",
        "    predictions, gold_labels = [], []\n",
        "    model.eval()\n",
        "    val_loss = 0\n",
        "    with torch.no_grad():\n",
        "        for batch_id, (val_input, val_label) in enumerate(dataloader):\n",
        "            val_label = val_label.to(device)\n",
        "            mask = val_input['attention_mask'].to(device)\n",
        "            input_id = val_input['input_ids'].squeeze(1).to(device)\n",
        "            output = model(input_id, mask)\n",
        "            batch_loss = criterion(output, val_label)\n",
        "            gold = np.argmax(val_label.cpu().detach().numpy(), axis=1)\n",
        "            pred = np.argmax(output.cpu().detach().numpy(), axis=1)\n",
        "            predictions.extend(pred)\n",
        "            gold_labels.extend(gold)\n",
        "            val_loss += batch_loss.item()\n",
        "    return predictions, gold_labels, val_loss/batch_id\n",
        "\n",
        "def finetune(model, train_data, val_data, learning_rate=2e-5, epochs=10, criterion=nn.CrossEntropyLoss(), batch_size=32, max_length=32, patience=2):\n",
        "    train_dataloader = torch.utils.data.DataLoader(Dataset(train_data, max_length=max_length), batch_size=batch_size, shuffle=True, drop_last=False)\n",
        "    val_dataloader = torch.utils.data.DataLoader(Dataset(val_data, max_length=max_length), batch_size=batch_size, drop_last=False)\n",
        "    use_cuda = torch.cuda.is_available()\n",
        "    device = torch.device(\"cuda\" if use_cuda else \"cpu\")\n",
        "    optimizer = Adam(model.parameters(), lr=learning_rate)\n",
        "    model.to(device)\n",
        "    lowest_loss = 10\n",
        "    best_epoch = 0\n",
        "    epochs_not_improving = 0\n",
        "    for epoch_num in range(epochs):\n",
        "            total_acc_train = 0\n",
        "            total_loss_train = 0\n",
        "            for batch_id, (inputs, labels) in tqdm(enumerate(train_dataloader)):\n",
        "                model.train()\n",
        "                output = model(inputs['input_ids'].squeeze(1).to(device), \n",
        "                               inputs['attention_mask'].to(device))\n",
        "                batch_loss = criterion(output.to(device), labels.to(device))\n",
        "                total_loss_train += batch_loss.item()\n",
        "\n",
        "                optimizer.zero_grad(); batch_loss.backward(); optimizer.step()           \n",
        "\n",
        "            predictions, gold_labels, val_loss = validate(model, val_dataloader, device, criterion)\n",
        "            if val_loss<lowest_loss:\n",
        "              print(f\"New best epoch found: {epoch_num} (val loss: {val_loss:.3f})!\")\n",
        "              lowest_loss = val_loss\n",
        "              best_epoch = epoch_num\n",
        "              torch.save(model.state_dict(), \"checkpoint.pt\")\n",
        "              epochs_not_improving = 0\n",
        "            else:\n",
        "              if epochs_not_improving > patience:\n",
        "                model.load_state_dict(torch.load(\"checkpoint.pt\"))\n",
        "                print('Patience is up, restoring the best model and exiting...')\n",
        "                break\n",
        "              epochs_not_improving +=1\n",
        "            print(\n",
        "                f'Epochs: {epoch_num + 1} | Train Loss: {total_loss_train/batch_id: .3f} \\\n",
        "                | Val Loss: {val_loss: .3f} (best epoch: {best_epoch} w/val_loss: {lowest_loss:.3f})')\n",
        "    model.eval()    \n",
        "    return model\n",
        "\n",
        "model = finetune(BertClassifier(num_classes=len(loc2idx)), train, dev, epochs = 100, patience = 5, batch_size=64, max_length=16)"
      ],
      "metadata": {
        "colab": {
          "base_uri": "https://localhost:8080/"
        },
        "id": "JVYZ8jBTC6P-",
        "outputId": "6e78778a-cbcd-48e1-ea28-aaf80cf0e603"
      },
      "execution_count": 21,
      "outputs": [
        {
          "output_type": "stream",
          "name": "stderr",
          "text": [
            "162it [00:30,  5.28it/s]\n"
          ]
        },
        {
          "output_type": "stream",
          "name": "stdout",
          "text": [
            "New best epoch found: 0 (val loss: 3.452)!\n",
            "Epochs: 1 | Train Loss:  3.232                 | Val Loss:  3.452 (best epoch: 0 w/val_loss: 3.452)\n"
          ]
        }
      ]
    },
    {
      "cell_type": "code",
      "source": [
        "test_dataloader = torch.utils.data.DataLoader(Dataset(test), batch_size=1, drop_last=False)\n",
        "p,l,_ = validate(model.to(\"cpu\"), test_dataloader, \"cpu\")\n",
        "print(classification_report([idx2loc[i] for i in l], [idx2loc[i] for i in p]))"
      ],
      "metadata": {
        "colab": {
          "base_uri": "https://localhost:8080/"
        },
        "id": "jaYzpBaRem62",
        "outputId": "6c7ecb40-2db3-402d-d443-51e031fa0126"
      },
      "execution_count": 23,
      "outputs": [
        {
          "output_type": "stream",
          "name": "stdout",
          "text": [
            "                 precision    recall  f1-score   support\n",
            "\n",
            "        Ήπειρος       0.25      0.04      0.07        23\n",
            "        Αιτωλία       0.33      0.08      0.13        24\n",
            "        Αμοργός       0.00      0.00      0.00        22\n",
            "Ανατολική Θράκη       0.07      0.25      0.11        24\n",
            "        Αρκαδία       0.11      0.03      0.05        31\n",
            "          Αχαΐα       0.14      0.16      0.15        32\n",
            "      Επτάνησος       0.10      0.17      0.13        23\n",
            "         Εύβοια       0.20      0.05      0.08        20\n",
            "      Θεσπρωτία       0.03      0.09      0.04        22\n",
            "          Θράκη       0.00      0.00      0.00        25\n",
            "       Ιωάννινα       0.50      0.03      0.06        29\n",
            "       Κάρπαθος       0.10      0.21      0.13        28\n",
            "     Κεφαλληνία       0.06      0.07      0.07        27\n",
            "          Κρήτη       0.05      0.03      0.04        30\n",
            "         Κύπρος       0.27      0.54      0.36        24\n",
            "         Λέσβος       0.13      0.17      0.15        24\n",
            "        Λακωνία       0.08      0.04      0.05        27\n",
            "      Μακεδονία       0.17      0.04      0.06        27\n",
            "     Μικρά Ασία       0.00      0.00      0.00        18\n",
            "          Νάξος       0.50      0.04      0.08        24\n",
            "         Πόντος       0.14      0.21      0.17        19\n",
            "          Ρόδος       0.13      0.14      0.13        22\n",
            "         Σκύρος       0.14      0.13      0.14        30\n",
            "\n",
            "       accuracy                           0.11       575\n",
            "      macro avg       0.15      0.11      0.10       575\n",
            "   weighted avg       0.15      0.11      0.10       575\n",
            "\n"
          ]
        }
      ]
    },
    {
      "cell_type": "code",
      "source": [
        "torch.save(model.state_dict(), \"bert-gr-c.pt\")"
      ],
      "metadata": {
        "id": "As1m-SkDe0BU"
      },
      "execution_count": 24,
      "outputs": []
    },
    {
      "cell_type": "code",
      "source": [
        "model = BertClassifier(num_classes=len(loc2idx))\n",
        "model.load_state_dict(torch.load(\"bert-gr-c.pt\"))"
      ],
      "metadata": {
        "colab": {
          "base_uri": "https://localhost:8080/"
        },
        "id": "R8Pv_eYpghO0",
        "outputId": "9583794b-5125-4e04-8bcd-79fc2534cb28"
      },
      "execution_count": 25,
      "outputs": [
        {
          "output_type": "execute_result",
          "data": {
            "text/plain": [
              "<All keys matched successfully>"
            ]
          },
          "metadata": {},
          "execution_count": 25
        }
      ]
    },
    {
      "cell_type": "code",
      "source": [],
      "metadata": {
        "id": "xp8QcXjzhB-j"
      },
      "execution_count": null,
      "outputs": []
    }
  ]
}