{
  "cells": [
    {
      "cell_type": "markdown",
      "metadata": {
        "id": "view-in-github",
        "colab_type": "text"
      },
      "source": [
        "<a href=\"https://colab.research.google.com/github/ipavlopoulos/paremia/blob/main/bert-gr-c.ipynb\" target=\"_parent\"><img src=\"https://colab.research.google.com/assets/colab-badge.svg\" alt=\"Open In Colab\"/></a>"
      ]
    },
    {
      "cell_type": "code",
      "execution_count": 2,
      "metadata": {
        "id": "TqsCKUwZCpsf"
      },
      "outputs": [],
      "source": [
        "import pandas as pd\n",
        "import numpy as np\n",
        "import matplotlib.pyplot as plt\n",
        "from sklearn.model_selection import train_test_split\n",
        "from sklearn.metrics import *\n",
        "from pathlib import Path\n",
        "\n",
        "# load the data\n",
        "corpus_path = \"data/balanced_corpus.csv\"\n",
        "if not Path(corpus_path).exists():\n",
        "  corpus_path = 'https://raw.githubusercontent.com/ipavlopoulos/paremia/main/data/balanced_corpus.csv'\n",
        "balanced_corpus = pd.read_csv(corpus_path, index_col=0)\n",
        "train, test = train_test_split(balanced_corpus, test_size=0.05, random_state=2023)\n",
        "train, dev = train_test_split(train, test_size=test.shape[0], random_state=2023)"
      ]
    },
    {
      "cell_type": "code",
      "execution_count": 3,
      "metadata": {
        "id": "_TaHmTFKCtK2"
      },
      "outputs": [],
      "source": [
        "%%capture\n",
        "!pip install transformers\n",
        "from transformers import BertModel, BertTokenizer\n",
        "model_name = 'nlpaueb/bert-base-greek-uncased-v1'\n",
        "tokenizer = BertTokenizer.from_pretrained(model_name)"
      ]
    },
    {
      "cell_type": "code",
      "execution_count": 4,
      "metadata": {
        "id": "J7mFiKSjCwHI"
      },
      "outputs": [],
      "source": [
        "import torch\n",
        "from sklearn.preprocessing import OneHotEncoder\n",
        "\n",
        "# the areas that will serve as target label indices\n",
        "idx2loc = {i:a for i,a in enumerate(train.area.unique())}\n",
        "loc2idx = {idx2loc[i]:i for i in idx2loc}\n",
        "\n",
        "class Dataset(torch.utils.data.Dataset):\n",
        "    def __init__(self, df, max_length = 32):\n",
        "        self.max_length = max_length\n",
        "        self.labels = df.area.apply(lambda a: loc2idx[a])\n",
        "        self.labels = np.array(self.labels.values)\n",
        "        self.labels = np.reshape(self.labels, (self.labels.shape[0], 1))\n",
        "        self.labels = OneHotEncoder(sparse_output=False).fit_transform(self.labels)\n",
        "        self.texts = np.array(df.text.apply(lambda txt: tokenizer(txt, padding='max_length', max_length = self.max_length, truncation=True, return_tensors=\"pt\")).values)\n",
        "\n",
        "    def __len__(self):\n",
        "        return self.labels.shape[0]\n",
        "\n",
        "    def __getitem__(self, idx):\n",
        "        batch_texts = self.texts[idx]\n",
        "        batch_labels = self.labels[idx]\n",
        "        return batch_texts, batch_labels"
      ]
    },
    {
      "cell_type": "code",
      "execution_count": 5,
      "metadata": {
        "id": "VhlPDjVVCx1i"
      },
      "outputs": [],
      "source": [
        "from torch import nn\n",
        "\n",
        "class BertClassifier(nn.Module):\n",
        "\n",
        "    def __init__(self, dropout=0.1, num_classes=1):\n",
        "        super(BertClassifier, self).__init__()\n",
        "        self.bert = BertModel.from_pretrained(model_name)\n",
        "        self.dropout = nn.Dropout(dropout)\n",
        "        self.linear1 = nn.Linear(768, 128, bias=True)\n",
        "        self.norm = nn.BatchNorm1d(128)\n",
        "        self.linear2 = nn.Linear(128, num_classes, bias=True)\n",
        "        self.relu = nn.ReLU()\n",
        "\n",
        "    def forward(self, input_id, mask):\n",
        "        _, pooled_output = self.bert(input_ids=input_id, attention_mask=mask, return_dict=False)\n",
        "        x = pooled_output\n",
        "        x = self.dropout(x)\n",
        "        x = self.relu(self.linear1(x))\n",
        "        x = self.norm(x)\n",
        "        x = self.linear2(x)\n",
        "        return x"
      ]
    },
    {
      "cell_type": "code",
      "execution_count": 6,
      "metadata": {
        "id": "JVYZ8jBTC6P-"
      },
      "outputs": [],
      "source": [
        "from torch.optim import Adam\n",
        "from tqdm import tqdm\n",
        "\n",
        "def validate(model, dataloader, device=\"cpu\", criterion=nn.CrossEntropyLoss()):\n",
        "    predictions, gold_labels = [], []\n",
        "    model.eval()\n",
        "    val_loss = 0\n",
        "    with torch.no_grad():\n",
        "        for batch_id, (val_input, val_label) in enumerate(dataloader):\n",
        "            val_label = val_label.to(device)\n",
        "            mask = val_input['attention_mask'].to(device)\n",
        "            input_id = val_input['input_ids'].squeeze(1).to(device)\n",
        "            output = model(input_id, mask)\n",
        "            batch_loss = criterion(output, val_label)\n",
        "            gold = np.argmax(val_label.cpu().detach().numpy(), axis=1)\n",
        "            pred = np.argmax(output.cpu().detach().numpy(), axis=1)\n",
        "            predictions.extend(pred)\n",
        "            gold_labels.extend(gold)\n",
        "            val_loss += batch_loss.item()\n",
        "    return predictions, gold_labels, val_loss/batch_id\n",
        "\n",
        "def finetune(model, train_data, val_data, learning_rate=2e-5, epochs=10, criterion=nn.CrossEntropyLoss(), \n",
        "             batch_size=32, max_length=32, patience=2):\n",
        "    \n",
        "    train_losses = []\n",
        "    val_losses = []\n",
        "    \n",
        "    train_dataloader = torch.utils.data.DataLoader(Dataset(train_data, max_length=max_length), \n",
        "                                                   batch_size=batch_size, shuffle=True, drop_last=False)\n",
        "    val_dataloader = torch.utils.data.DataLoader(Dataset(val_data, max_length=max_length), \n",
        "                                                 batch_size=batch_size, drop_last=False)\n",
        "    use_cuda = torch.cuda.is_available()\n",
        "    device = torch.device(\"cuda\" if use_cuda else \"cpu\")\n",
        "    optimizer = Adam(model.parameters(), lr=learning_rate)\n",
        "    model.to(device)\n",
        "    lowest_loss = 1000\n",
        "    best_f1 = 0\n",
        "    best_epoch = 0\n",
        "    epochs_not_improving = 0\n",
        "    for epoch_num in range(epochs):\n",
        "            total_acc_train = 0\n",
        "            total_loss_train = 0\n",
        "            for batch_id, (inputs, labels) in tqdm(enumerate(train_dataloader)):\n",
        "                model.train()\n",
        "                output = model(inputs['input_ids'].squeeze(1).to(device), \n",
        "                               inputs['attention_mask'].to(device))\n",
        "                batch_loss = criterion(output.to(device), labels.to(device))\n",
        "                total_loss_train += batch_loss.item()\n",
        "\n",
        "                optimizer.zero_grad()\n",
        "                batch_loss.backward()\n",
        "                optimizer.step()\n",
        "            train_losses.append(total_loss_train/(batch_id+1))\n",
        "            \n",
        "            predictions, gold_labels, val_loss = validate(model, val_dataloader, device, criterion)\n",
        "            f1 = f1_score(gold_labels, predictions, average='macro', zero_division=0)\n",
        "            val_losses.append(val_loss)\n",
        "            if f1 > best_f1:\n",
        "                print(f\"New best epoch found: {epoch_num} (f1: {f1:.3f})!\")\n",
        "                best_f1 = f1\n",
        "                best_epoch = epoch_num\n",
        "                torch.save(model.state_dict(), \"checkpoint.pt\")\n",
        "                epochs_not_improving = 0\n",
        "            else:\n",
        "                epochs_not_improving += 1\n",
        "                if epochs_not_improving >= patience:\n",
        "                    model.load_state_dict(torch.load(\"checkpoint.pt\"))\n",
        "                    print('Patience is up, restoring the best model and exiting...')\n",
        "                    break\n",
        "            print(\n",
        "                f'Epochs: {epoch_num + 1} | Train Loss: {total_loss_train/batch_id: .3f} \\\n",
        "                | Val Loss: {val_loss: .3f} (best epoch: {best_epoch} w/f1: {best_f1:.3f})')\n",
        "    model.eval()    \n",
        "    return model, train_losses, val_losses"
      ]
    },
    {
      "cell_type": "code",
      "execution_count": 7,
      "metadata": {
        "id": "yHiq6M76FWhl",
        "outputId": "0e56faf4-1ff3-4909-a46b-d3febd85ad64",
        "colab": {
          "base_uri": "https://localhost:8080/",
          "height": 1000,
          "referenced_widgets": [
            "b34ce953ebe844fda0d9fc502aff8f3e",
            "2c734fad5e2f435da11cad2dc3597e87",
            "3f73ef79a31841878a8e9209238b1274",
            "ba19c3298f9247d49acbc5726713b175",
            "3aa81703359b42b3a31a2a7b73cd0d2d",
            "22fe84c8ccbd489eb49a3328ee9982e6",
            "867040e1b25f47858e363023187a7746",
            "d1e366b438914f91b39f2c9a9d0ece2d",
            "74101c11d6b849a5b7d5d531fa8e9617",
            "5de1ca964fee4fc08937f37674eed406",
            "691e0104c7e9497cb86b264d2a633792"
          ]
        }
      },
      "outputs": [
        {
          "output_type": "display_data",
          "data": {
            "text/plain": [
              "Downloading pytorch_model.bin:   0%|          | 0.00/454M [00:00<?, ?B/s]"
            ],
            "application/vnd.jupyter.widget-view+json": {
              "version_major": 2,
              "version_minor": 0,
              "model_id": "b34ce953ebe844fda0d9fc502aff8f3e"
            }
          },
          "metadata": {}
        },
        {
          "output_type": "stream",
          "name": "stderr",
          "text": [
            "162it [00:52,  3.06it/s]\n"
          ]
        },
        {
          "output_type": "stream",
          "name": "stdout",
          "text": [
            "New best epoch found: 0 (f1: 0.065)!\n",
            "Epochs: 1 | Train Loss:  3.229                 | Val Loss:  3.427 (best epoch: 0 w/f1: 0.065)\n"
          ]
        },
        {
          "output_type": "stream",
          "name": "stderr",
          "text": [
            "162it [00:55,  2.94it/s]\n"
          ]
        },
        {
          "output_type": "stream",
          "name": "stdout",
          "text": [
            "New best epoch found: 1 (f1: 0.131)!\n",
            "Epochs: 2 | Train Loss:  2.990                 | Val Loss:  3.184 (best epoch: 1 w/f1: 0.131)\n"
          ]
        },
        {
          "output_type": "stream",
          "name": "stderr",
          "text": [
            "162it [00:57,  2.83it/s]\n"
          ]
        },
        {
          "output_type": "stream",
          "name": "stdout",
          "text": [
            "New best epoch found: 2 (f1: 0.180)!\n",
            "Epochs: 3 | Train Loss:  2.790                 | Val Loss:  3.040 (best epoch: 2 w/f1: 0.180)\n"
          ]
        },
        {
          "output_type": "stream",
          "name": "stderr",
          "text": [
            "162it [00:57,  2.84it/s]\n"
          ]
        },
        {
          "output_type": "stream",
          "name": "stdout",
          "text": [
            "New best epoch found: 3 (f1: 0.180)!\n",
            "Epochs: 4 | Train Loss:  2.643                 | Val Loss:  2.991 (best epoch: 3 w/f1: 0.180)\n"
          ]
        },
        {
          "output_type": "stream",
          "name": "stderr",
          "text": [
            "162it [00:57,  2.83it/s]\n"
          ]
        },
        {
          "output_type": "stream",
          "name": "stdout",
          "text": [
            "New best epoch found: 4 (f1: 0.212)!\n",
            "Epochs: 5 | Train Loss:  2.521                 | Val Loss:  2.922 (best epoch: 4 w/f1: 0.212)\n"
          ]
        },
        {
          "output_type": "stream",
          "name": "stderr",
          "text": [
            "162it [00:57,  2.83it/s]\n"
          ]
        },
        {
          "output_type": "stream",
          "name": "stdout",
          "text": [
            "New best epoch found: 5 (f1: 0.213)!\n",
            "Epochs: 6 | Train Loss:  2.391                 | Val Loss:  2.912 (best epoch: 5 w/f1: 0.213)\n"
          ]
        },
        {
          "output_type": "stream",
          "name": "stderr",
          "text": [
            "162it [00:57,  2.83it/s]\n"
          ]
        },
        {
          "output_type": "stream",
          "name": "stdout",
          "text": [
            "New best epoch found: 6 (f1: 0.239)!\n",
            "Epochs: 7 | Train Loss:  2.243                 | Val Loss:  2.817 (best epoch: 6 w/f1: 0.239)\n"
          ]
        },
        {
          "output_type": "stream",
          "name": "stderr",
          "text": [
            "162it [00:57,  2.83it/s]\n"
          ]
        },
        {
          "output_type": "stream",
          "name": "stdout",
          "text": [
            "Epochs: 8 | Train Loss:  2.079                 | Val Loss:  2.857 (best epoch: 6 w/f1: 0.239)\n"
          ]
        },
        {
          "output_type": "stream",
          "name": "stderr",
          "text": [
            "162it [00:57,  2.84it/s]\n"
          ]
        },
        {
          "output_type": "stream",
          "name": "stdout",
          "text": [
            "New best epoch found: 8 (f1: 0.260)!\n",
            "Epochs: 9 | Train Loss:  1.903                 | Val Loss:  2.845 (best epoch: 8 w/f1: 0.260)\n"
          ]
        },
        {
          "output_type": "stream",
          "name": "stderr",
          "text": [
            "162it [00:57,  2.83it/s]\n"
          ]
        },
        {
          "output_type": "stream",
          "name": "stdout",
          "text": [
            "Epochs: 10 | Train Loss:  1.696                 | Val Loss:  2.918 (best epoch: 8 w/f1: 0.260)\n"
          ]
        },
        {
          "output_type": "stream",
          "name": "stderr",
          "text": [
            "162it [00:57,  2.84it/s]\n"
          ]
        },
        {
          "output_type": "stream",
          "name": "stdout",
          "text": [
            "New best epoch found: 10 (f1: 0.267)!\n",
            "Epochs: 11 | Train Loss:  1.483                 | Val Loss:  2.998 (best epoch: 10 w/f1: 0.267)\n"
          ]
        },
        {
          "output_type": "stream",
          "name": "stderr",
          "text": [
            "162it [00:57,  2.83it/s]\n"
          ]
        },
        {
          "output_type": "stream",
          "name": "stdout",
          "text": [
            "New best epoch found: 11 (f1: 0.268)!\n",
            "Epochs: 12 | Train Loss:  1.259                 | Val Loss:  3.051 (best epoch: 11 w/f1: 0.268)\n"
          ]
        },
        {
          "output_type": "stream",
          "name": "stderr",
          "text": [
            "162it [00:57,  2.83it/s]\n"
          ]
        },
        {
          "output_type": "stream",
          "name": "stdout",
          "text": [
            "New best epoch found: 12 (f1: 0.272)!\n",
            "Epochs: 13 | Train Loss:  1.039                 | Val Loss:  3.164 (best epoch: 12 w/f1: 0.272)\n"
          ]
        },
        {
          "output_type": "stream",
          "name": "stderr",
          "text": [
            "162it [00:57,  2.84it/s]\n"
          ]
        },
        {
          "output_type": "stream",
          "name": "stdout",
          "text": [
            "Epochs: 14 | Train Loss:  0.825                 | Val Loss:  3.278 (best epoch: 12 w/f1: 0.272)\n"
          ]
        },
        {
          "output_type": "stream",
          "name": "stderr",
          "text": [
            "162it [00:57,  2.83it/s]\n"
          ]
        },
        {
          "output_type": "stream",
          "name": "stdout",
          "text": [
            "New best epoch found: 14 (f1: 0.273)!\n",
            "Epochs: 15 | Train Loss:  0.658                 | Val Loss:  3.329 (best epoch: 14 w/f1: 0.273)\n"
          ]
        },
        {
          "output_type": "stream",
          "name": "stderr",
          "text": [
            "162it [00:57,  2.83it/s]\n"
          ]
        },
        {
          "output_type": "stream",
          "name": "stdout",
          "text": [
            "Epochs: 16 | Train Loss:  0.502                 | Val Loss:  3.414 (best epoch: 14 w/f1: 0.273)\n"
          ]
        },
        {
          "output_type": "stream",
          "name": "stderr",
          "text": [
            "162it [00:57,  2.84it/s]\n"
          ]
        },
        {
          "output_type": "stream",
          "name": "stdout",
          "text": [
            "New best epoch found: 16 (f1: 0.274)!\n",
            "Epochs: 17 | Train Loss:  0.386                 | Val Loss:  3.479 (best epoch: 16 w/f1: 0.274)\n"
          ]
        },
        {
          "output_type": "stream",
          "name": "stderr",
          "text": [
            "162it [00:57,  2.83it/s]\n"
          ]
        },
        {
          "output_type": "stream",
          "name": "stdout",
          "text": [
            "Epochs: 18 | Train Loss:  0.310                 | Val Loss:  3.582 (best epoch: 16 w/f1: 0.274)\n"
          ]
        },
        {
          "output_type": "stream",
          "name": "stderr",
          "text": [
            "162it [00:57,  2.83it/s]\n"
          ]
        },
        {
          "output_type": "stream",
          "name": "stdout",
          "text": [
            "New best epoch found: 18 (f1: 0.286)!\n",
            "Epochs: 19 | Train Loss:  0.248                 | Val Loss:  3.647 (best epoch: 18 w/f1: 0.286)\n"
          ]
        },
        {
          "output_type": "stream",
          "name": "stderr",
          "text": [
            "162it [00:57,  2.83it/s]\n"
          ]
        },
        {
          "output_type": "stream",
          "name": "stdout",
          "text": [
            "Epochs: 20 | Train Loss:  0.196                 | Val Loss:  3.765 (best epoch: 18 w/f1: 0.286)\n"
          ]
        },
        {
          "output_type": "stream",
          "name": "stderr",
          "text": [
            "162it [00:57,  2.83it/s]\n"
          ]
        },
        {
          "output_type": "stream",
          "name": "stdout",
          "text": [
            "Epochs: 21 | Train Loss:  0.163                 | Val Loss:  3.728 (best epoch: 18 w/f1: 0.286)\n"
          ]
        },
        {
          "output_type": "stream",
          "name": "stderr",
          "text": [
            "162it [00:57,  2.84it/s]\n"
          ]
        },
        {
          "output_type": "stream",
          "name": "stdout",
          "text": [
            "Epochs: 22 | Train Loss:  0.133                 | Val Loss:  3.810 (best epoch: 18 w/f1: 0.286)\n"
          ]
        },
        {
          "output_type": "stream",
          "name": "stderr",
          "text": [
            "162it [00:57,  2.84it/s]\n"
          ]
        },
        {
          "output_type": "stream",
          "name": "stdout",
          "text": [
            "Epochs: 23 | Train Loss:  0.119                 | Val Loss:  3.842 (best epoch: 18 w/f1: 0.286)\n"
          ]
        },
        {
          "output_type": "stream",
          "name": "stderr",
          "text": [
            "162it [00:57,  2.84it/s]\n"
          ]
        },
        {
          "output_type": "stream",
          "name": "stdout",
          "text": [
            "Patience is up, restoring the best model and exiting...\n"
          ]
        }
      ],
      "source": [
        "model, train_losses, val_losses = finetune(BertClassifier(num_classes=len(loc2idx)), \n",
        "                                           train, dev, \n",
        "                                           epochs=100, \n",
        "                                           patience=5, \n",
        "                                           batch_size=64, \n",
        "                                           max_length=32)"
      ]
    },
    {
      "cell_type": "code",
      "execution_count": 8,
      "metadata": {
        "id": "H91VVqPBFWhm",
        "outputId": "ab368c16-fd8a-4d20-f208-cbfd432a3d29",
        "colab": {
          "base_uri": "https://localhost:8080/",
          "height": 490
        }
      },
      "outputs": [
        {
          "output_type": "execute_result",
          "data": {
            "text/plain": [
              "<matplotlib.legend.Legend at 0x7f60852d01c0>"
            ]
          },
          "metadata": {},
          "execution_count": 8
        },
        {
          "output_type": "display_data",
          "data": {
            "text/plain": [
              "<Figure size 640x480 with 1 Axes>"
            ],
            "image/png": "[encoded data removed]"
          },
          "metadata": {}
        }
      ],
      "source": [
        "plt.plot(train_losses, label='Training Loss')\n",
        "plt.plot(val_losses, label='Validation Loss')\n",
        "plt.title('Training and Validation Loss')\n",
        "plt.xlabel('Epoch')\n",
        "plt.ylabel('Loss')\n",
        "plt.legend()"
      ]
    },
    {
      "cell_type": "code",
      "execution_count": 11,
      "metadata": {
        "colab": {
          "base_uri": "https://localhost:8080/"
        },
        "id": "jaYzpBaRem62",
        "outputId": "71009b05-1cd7-49f6-c5d8-a43ce88069a8"
      },
      "outputs": [
        {
          "output_type": "stream",
          "name": "stdout",
          "text": [
            "                 precision    recall  f1-score   support\n",
            "\n",
            "        Ήπειρος       0.05      0.04      0.04        23\n",
            "        Αιτωλία       0.42      0.46      0.44        24\n",
            "        Αμοργός       0.26      0.27      0.27        22\n",
            "Ανατολική Θράκη       0.19      0.25      0.22        24\n",
            "        Αρκαδία       0.29      0.39      0.33        31\n",
            "          Αχαΐα       0.44      0.66      0.53        32\n",
            "      Επτάνησος       0.43      0.39      0.41        23\n",
            "         Εύβοια       0.12      0.15      0.14        20\n",
            "      Θεσπρωτία       0.14      0.09      0.11        22\n",
            "          Θράκη       0.16      0.16      0.16        25\n",
            "       Ιωάννινα       0.16      0.14      0.15        29\n",
            "       Κάρπαθος       0.33      0.18      0.23        28\n",
            "     Κεφαλληνία       0.25      0.26      0.25        27\n",
            "          Κρήτη       0.27      0.37      0.31        30\n",
            "         Κύπρος       0.82      0.75      0.78        24\n",
            "         Λέσβος       0.64      0.29      0.40        24\n",
            "        Λακωνία       0.08      0.04      0.05        27\n",
            "      Μακεδονία       0.35      0.30      0.32        27\n",
            "     Μικρά Ασία       0.13      0.11      0.12        18\n",
            "          Νάξος       0.46      0.54      0.50        24\n",
            "         Πόντος       0.61      0.74      0.67        19\n",
            "          Ρόδος       0.30      0.41      0.35        22\n",
            "         Σκύρος       0.69      0.60      0.64        30\n",
            "\n",
            "       accuracy                           0.33       575\n",
            "      macro avg       0.33      0.33      0.32       575\n",
            "   weighted avg       0.33      0.33      0.33       575\n",
            "\n"
          ]
        }
      ],
      "source": [
        "test_dataloader = torch.utils.data.DataLoader(Dataset(test), batch_size=1, drop_last=False)\n",
        "p,l,_ = validate(model.to(\"cpu\"), test_dataloader, \"cpu\")\n",
        "print(classification_report([idx2loc[i] for i in l], [idx2loc[i] for i in p]))"
      ]
    },
    {
      "cell_type": "code",
      "execution_count": 12,
      "metadata": {
        "id": "As1m-SkDe0BU"
      },
      "outputs": [],
      "source": [
        "torch.save(model.state_dict(), \"bert-gr-c.pt\")"
      ]
    },
    {
      "cell_type": "code",
      "execution_count": 13,
      "metadata": {
        "colab": {
          "base_uri": "https://localhost:8080/"
        },
        "id": "R8Pv_eYpghO0",
        "outputId": "40b3ae79-de93-4d31-978a-a54fce22d4ab"
      },
      "outputs": [
        {
          "output_type": "execute_result",
          "data": {
            "text/plain": [
              "<All keys matched successfully>"
            ]
          },
          "metadata": {},
          "execution_count": 13
        }
      ],
      "source": [
        "model = BertClassifier(num_classes=len(loc2idx))\n",
        "model.load_state_dict(torch.load(\"bert-gr-c.pt\"))"
      ]
    },
    {
      "cell_type": "code",
      "source": [],
      "metadata": {
        "id": "BgiI1pp20MvG"
      },
      "execution_count": null,
      "outputs": []
    }
  ],
  "metadata": {
    "accelerator": "GPU",
    "colab": {
      "gpuType": "T4",
      "machine_shape": "hm",
      "provenance": [],
      "include_colab_link": true
    },
    "kernelspec": {
      "display_name": "Python 3 (ipykernel)",
      "language": "python",
      "name": "python3"
    },
    "language_info": {
      "codemirror_mode": {
        "name": "ipython",
        "version": 3
      },
      "file_extension": ".py",
      "mimetype": "text/x-python",
      "name": "python",
      "nbconvert_exporter": "python",
      "pygments_lexer": "ipython3",
      "version": "3.11.3"
    },
    "widgets": {
      "application/vnd.jupyter.widget-state+json": {
        "b34ce953ebe844fda0d9fc502aff8f3e": {
          "model_module": "@jupyter-widgets/controls",
          "model_name": "HBoxModel",
          "model_module_version": "1.5.0",
          "state": {
            "_dom_classes": [],
            "_model_module": "@jupyter-widgets/controls",
            "_model_module_version": "1.5.0",
            "_model_name": "HBoxModel",
            "_view_count": null,
            "_view_module": "@jupyter-widgets/controls",
            "_view_module_version": "1.5.0",
            "_view_name": "HBoxView",
            "box_style": "",
            "children": [
              "IPY_MODEL_2c734fad5e2f435da11cad2dc3597e87",
              "IPY_MODEL_3f73ef79a31841878a8e9209238b1274",
              "IPY_MODEL_ba19c3298f9247d49acbc5726713b175"
            ],
            "layout": "IPY_MODEL_3aa81703359b42b3a31a2a7b73cd0d2d"
          }
        },
        "2c734fad5e2f435da11cad2dc3597e87": {
          "model_module": "@jupyter-widgets/controls",
          "model_name": "HTMLModel",
          "model_module_version": "1.5.0",
          "state": {
            "_dom_classes": [],
            "_model_module": "@jupyter-widgets/controls",
            "_model_module_version": "1.5.0",
            "_model_name": "HTMLModel",
            "_view_count": null,
            "_view_module": "@jupyter-widgets/controls",
            "_view_module_version": "1.5.0",
            "_view_name": "HTMLView",
            "description": "",
            "description_tooltip": null,
            "layout": "IPY_MODEL_22fe84c8ccbd489eb49a3328ee9982e6",
            "placeholder": "​",
            "style": "IPY_MODEL_867040e1b25f47858e363023187a7746",
            "value": "Downloading pytorch_model.bin: 100%"
          }
        },
        "3f73ef79a31841878a8e9209238b1274": {
          "model_module": "@jupyter-widgets/controls",
          "model_name": "FloatProgressModel",
          "model_module_version": "1.5.0",
          "state": {
            "_dom_classes": [],
            "_model_module": "@jupyter-widgets/controls",
            "_model_module_version": "1.5.0",
            "_model_name": "FloatProgressModel",
            "_view_count": null,
            "_view_module": "@jupyter-widgets/controls",
            "_view_module_version": "1.5.0",
            "_view_name": "ProgressView",
            "bar_style": "success",
            "description": "",
            "description_tooltip": null,
            "layout": "IPY_MODEL_d1e366b438914f91b39f2c9a9d0ece2d",
            "max": 454248854,
            "min": 0,
            "orientation": "horizontal",
            "style": "IPY_MODEL_74101c11d6b849a5b7d5d531fa8e9617",
            "value": 454248854
          }
        },
        "ba19c3298f9247d49acbc5726713b175": {
          "model_module": "@jupyter-widgets/controls",
          "model_name": "HTMLModel",
          "model_module_version": "1.5.0",
          "state": {
            "_dom_classes": [],
            "_model_module": "@jupyter-widgets/controls",
            "_model_module_version": "1.5.0",
            "_model_name": "HTMLModel",
            "_view_count": null,
            "_view_module": "@jupyter-widgets/controls",
            "_view_module_version": "1.5.0",
            "_view_name": "HTMLView",
            "description": "",
            "description_tooltip": null,
            "layout": "IPY_MODEL_5de1ca964fee4fc08937f37674eed406",
            "placeholder": "​",
            "style": "IPY_MODEL_691e0104c7e9497cb86b264d2a633792",
            "value": " 454M/454M [00:01&lt;00:00, 320MB/s]"
          }
        },
        "3aa81703359b42b3a31a2a7b73cd0d2d": {
          "model_module": "@jupyter-widgets/base",
          "model_name": "LayoutModel",
          "model_module_version": "1.2.0",
          "state": {
            "_model_module": "@jupyter-widgets/base",
            "_model_module_version": "1.2.0",
            "_model_name": "LayoutModel",
            "_view_count": null,
            "_view_module": "@jupyter-widgets/base",
            "_view_module_version": "1.2.0",
            "_view_name": "LayoutView",
            "align_content": null,
            "align_items": null,
            "align_self": null,
            "border": null,
            "bottom": null,
            "display": null,
            "flex": null,
            "flex_flow": null,
            "grid_area": null,
            "grid_auto_columns": null,
            "grid_auto_flow": null,
            "grid_auto_rows": null,
            "grid_column": null,
            "grid_gap": null,
            "grid_row": null,
            "grid_template_areas": null,
            "grid_template_columns": null,
            "grid_template_rows": null,
            "height": null,
            "justify_content": null,
            "justify_items": null,
            "left": null,
            "margin": null,
            "max_height": null,
            "max_width": null,
            "min_height": null,
            "min_width": null,
            "object_fit": null,
            "object_position": null,
            "order": null,
            "overflow": null,
            "overflow_x": null,
            "overflow_y": null,
            "padding": null,
            "right": null,
            "top": null,
            "visibility": null,
            "width": null
          }
        },
        "22fe84c8ccbd489eb49a3328ee9982e6": {
          "model_module": "@jupyter-widgets/base",
          "model_name": "LayoutModel",
          "model_module_version": "1.2.0",
          "state": {
            "_model_module": "@jupyter-widgets/base",
            "_model_module_version": "1.2.0",
            "_model_name": "LayoutModel",
            "_view_count": null,
            "_view_module": "@jupyter-widgets/base",
            "_view_module_version": "1.2.0",
            "_view_name": "LayoutView",
            "align_content": null,
            "align_items": null,
            "align_self": null,
            "border": null,
            "bottom": null,
            "display": null,
            "flex": null,
            "flex_flow": null,
            "grid_area": null,
            "grid_auto_columns": null,
            "grid_auto_flow": null,
            "grid_auto_rows": null,
            "grid_column": null,
            "grid_gap": null,
            "grid_row": null,
            "grid_template_areas": null,
            "grid_template_columns": null,
            "grid_template_rows": null,
            "height": null,
            "justify_content": null,
            "justify_items": null,
            "left": null,
            "margin": null,
            "max_height": null,
            "max_width": null,
            "min_height": null,
            "min_width": null,
            "object_fit": null,
            "object_position": null,
            "order": null,
            "overflow": null,
            "overflow_x": null,
            "overflow_y": null,
            "padding": null,
            "right": null,
            "top": null,
            "visibility": null,
            "width": null
          }
        },
        "867040e1b25f47858e363023187a7746": {
          "model_module": "@jupyter-widgets/controls",
          "model_name": "DescriptionStyleModel",
          "model_module_version": "1.5.0",
          "state": {
            "_model_module": "@jupyter-widgets/controls",
            "_model_module_version": "1.5.0",
            "_model_name": "DescriptionStyleModel",
            "_view_count": null,
            "_view_module": "@jupyter-widgets/base",
            "_view_module_version": "1.2.0",
            "_view_name": "StyleView",
            "description_width": ""
          }
        },
        "d1e366b438914f91b39f2c9a9d0ece2d": {
          "model_module": "@jupyter-widgets/base",
          "model_name": "LayoutModel",
          "model_module_version": "1.2.0",
          "state": {
            "_model_module": "@jupyter-widgets/base",
            "_model_module_version": "1.2.0",
            "_model_name": "LayoutModel",
            "_view_count": null,
            "_view_module": "@jupyter-widgets/base",
            "_view_module_version": "1.2.0",
            "_view_name": "LayoutView",
            "align_content": null,
            "align_items": null,
            "align_self": null,
            "border": null,
            "bottom": null,
            "display": null,
            "flex": null,
            "flex_flow": null,
            "grid_area": null,
            "grid_auto_columns": null,
            "grid_auto_flow": null,
            "grid_auto_rows": null,
            "grid_column": null,
            "grid_gap": null,
            "grid_row": null,
            "grid_template_areas": null,
            "grid_template_columns": null,
            "grid_template_rows": null,
            "height": null,
            "justify_content": null,
            "justify_items": null,
            "left": null,
            "margin": null,
            "max_height": null,
            "max_width": null,
            "min_height": null,
            "min_width": null,
            "object_fit": null,
            "object_position": null,
            "order": null,
            "overflow": null,
            "overflow_x": null,
            "overflow_y": null,
            "padding": null,
            "right": null,
            "top": null,
            "visibility": null,
            "width": null
          }
        },
        "74101c11d6b849a5b7d5d531fa8e9617": {
          "model_module": "@jupyter-widgets/controls",
          "model_name": "ProgressStyleModel",
          "model_module_version": "1.5.0",
          "state": {
            "_model_module": "@jupyter-widgets/controls",
            "_model_module_version": "1.5.0",
            "_model_name": "ProgressStyleModel",
            "_view_count": null,
            "_view_module": "@jupyter-widgets/base",
            "_view_module_version": "1.2.0",
            "_view_name": "StyleView",
            "bar_color": null,
            "description_width": ""
          }
        },
        "5de1ca964fee4fc08937f37674eed406": {
          "model_module": "@jupyter-widgets/base",
          "model_name": "LayoutModel",
          "model_module_version": "1.2.0",
          "state": {
            "_model_module": "@jupyter-widgets/base",
            "_model_module_version": "1.2.0",
            "_model_name": "LayoutModel",
            "_view_count": null,
            "_view_module": "@jupyter-widgets/base",
            "_view_module_version": "1.2.0",
            "_view_name": "LayoutView",
            "align_content": null,
            "align_items": null,
            "align_self": null,
            "border": null,
            "bottom": null,
            "display": null,
            "flex": null,
            "flex_flow": null,
            "grid_area": null,
            "grid_auto_columns": null,
            "grid_auto_flow": null,
            "grid_auto_rows": null,
            "grid_column": null,
            "grid_gap": null,
            "grid_row": null,
            "grid_template_areas": null,
            "grid_template_columns": null,
            "grid_template_rows": null,
            "height": null,
            "justify_content": null,
            "justify_items": null,
            "left": null,
            "margin": null,
            "max_height": null,
            "max_width": null,
            "min_height": null,
            "min_width": null,
            "object_fit": null,
            "object_position": null,
            "order": null,
            "overflow": null,
            "overflow_x": null,
            "overflow_y": null,
            "padding": null,
            "right": null,
            "top": null,
            "visibility": null,
            "width": null
          }
        },
        "691e0104c7e9497cb86b264d2a633792": {
          "model_module": "@jupyter-widgets/controls",
          "model_name": "DescriptionStyleModel",
          "model_module_version": "1.5.0",
          "state": {
            "_model_module": "@jupyter-widgets/controls",
            "_model_module_version": "1.5.0",
            "_model_name": "DescriptionStyleModel",
            "_view_count": null,
            "_view_module": "@jupyter-widgets/base",
            "_view_module_version": "1.2.0",
            "_view_name": "StyleView",
            "description_width": ""
          }
        }
      }
    }
  },
  "nbformat": 4,
  "nbformat_minor": 0
}