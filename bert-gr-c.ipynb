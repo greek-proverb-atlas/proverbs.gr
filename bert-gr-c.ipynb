{
  "cells": [
    {
      "cell_type": "markdown",
      "metadata": {
        "id": "view-in-github",
        "colab_type": "text"
      },
      "source": [
        "<a href=\"https://colab.research.google.com/github/ipavlopoulos/paremia/blob/main/bert-gr-c.ipynb\" target=\"_parent\"><img src=\"https://colab.research.google.com/assets/colab-badge.svg\" alt=\"Open In Colab\"/></a>"
      ]
    },
    {
      "cell_type": "markdown",
      "source": [
        "# GrBERT on Greek Proverbs\n"
      ],
      "metadata": {
        "id": "fm3tCYxa208l"
      }
    },
    {
      "cell_type": "code",
      "execution_count": 4,
      "metadata": {
        "id": "_TaHmTFKCtK2"
      },
      "outputs": [],
      "source": [
        "%%capture\n",
        "!pip install transformers\n",
        "from transformers import BertModel, BertTokenizer\n",
        "model_name = 'nlpaueb/bert-base-greek-uncased-v1'\n",
        "tokenizer = BertTokenizer.from_pretrained(model_name)"
      ]
    },
    {
      "cell_type": "code",
      "source": [
        "f1_scores = []"
      ],
      "metadata": {
        "id": "McPYbfUkV-DY"
      },
      "execution_count": null,
      "outputs": []
    },
    {
      "cell_type": "markdown",
      "source": [
        "* Using three splits, re-run the notebook by changing the seed and saving the scores"
      ],
      "metadata": {
        "id": "sx-Uv3Uo3GOw"
      }
    },
    {
      "cell_type": "code",
      "execution_count": 87,
      "metadata": {
        "id": "TqsCKUwZCpsf"
      },
      "outputs": [],
      "source": [
        "import pandas as pd\n",
        "import numpy as np\n",
        "import matplotlib.pyplot as plt\n",
        "from sklearn.model_selection import train_test_split\n",
        "from sklearn.metrics import *\n",
        "from pathlib import Path\n",
        "\n",
        "# load the data\n",
        "corpus_path = \"data/balanced_corpus.csv\"\n",
        "if not Path(corpus_path).exists():\n",
        "  corpus_path = 'https://raw.githubusercontent.com/ipavlopoulos/paremia/main/data/balanced_corpus.csv'\n",
        "balanced_corpus = pd.read_csv(corpus_path, index_col=0)\n",
        "# change the seed to restart\n",
        "i = 2\n",
        "seed = 2023+i\n",
        "train, test = train_test_split(balanced_corpus, test_size=0.05, random_state=seed)\n",
        "train, dev = train_test_split(train, test_size=test.shape[0], random_state=seed)"
      ]
    },
    {
      "cell_type": "code",
      "execution_count": 88,
      "metadata": {
        "id": "J7mFiKSjCwHI"
      },
      "outputs": [],
      "source": [
        "import torch\n",
        "from sklearn.preprocessing import OneHotEncoder\n",
        "\n",
        "# the areas that will serve as target label indices\n",
        "idx2loc = {i:a for i,a in enumerate(train.area.unique())}\n",
        "loc2idx = {idx2loc[i]:i for i in idx2loc}\n",
        "\n",
        "class Dataset(torch.utils.data.Dataset):\n",
        "    def __init__(self, df, max_length = 32):\n",
        "        self.max_length = max_length\n",
        "        self.labels = df.area.apply(lambda a: loc2idx[a])\n",
        "        self.labels = np.array(self.labels.values)\n",
        "        self.labels = np.reshape(self.labels, (self.labels.shape[0], 1))\n",
        "        self.labels = OneHotEncoder(sparse_output=False).fit_transform(self.labels)\n",
        "        self.texts = np.array(df.text.apply(lambda txt: tokenizer(txt, padding='max_length', max_length = self.max_length, truncation=True, return_tensors=\"pt\")).values)\n",
        "\n",
        "    def __len__(self):\n",
        "        return self.labels.shape[0]\n",
        "\n",
        "    def __getitem__(self, idx):\n",
        "        batch_texts = self.texts[idx]\n",
        "        batch_labels = self.labels[idx]\n",
        "        return batch_texts, batch_labels"
      ]
    },
    {
      "cell_type": "code",
      "execution_count": 89,
      "metadata": {
        "id": "VhlPDjVVCx1i"
      },
      "outputs": [],
      "source": [
        "from torch import nn\n",
        "\n",
        "class BertClassifier(nn.Module):\n",
        "\n",
        "    def __init__(self, dropout=0.1, num_classes=1):\n",
        "        super(BertClassifier, self).__init__()\n",
        "        self.bert = BertModel.from_pretrained(model_name)\n",
        "        self.dropout = nn.Dropout(dropout)\n",
        "        self.linear1 = nn.Linear(768, 128, bias=True)\n",
        "        self.norm = nn.BatchNorm1d(128)\n",
        "        self.linear2 = nn.Linear(128, num_classes, bias=True)\n",
        "        self.relu = nn.ReLU()\n",
        "\n",
        "    def forward(self, input_id, mask):\n",
        "        _, pooled_output = self.bert(input_ids=input_id, attention_mask=mask, return_dict=False)\n",
        "        x = pooled_output\n",
        "        x = self.dropout(x)\n",
        "        x = self.relu(self.linear1(x))\n",
        "        x = self.norm(x)\n",
        "        x = self.linear2(x)\n",
        "        return x"
      ]
    },
    {
      "cell_type": "code",
      "execution_count": 90,
      "metadata": {
        "id": "JVYZ8jBTC6P-"
      },
      "outputs": [],
      "source": [
        "from torch.optim import Adam\n",
        "from tqdm import tqdm\n",
        "\n",
        "def validate(model, dataloader, device=\"cpu\", criterion=nn.CrossEntropyLoss()):\n",
        "    predictions, gold_labels = [], []\n",
        "    model.eval()\n",
        "    val_loss = 0\n",
        "    with torch.no_grad():\n",
        "        for batch_id, (val_input, val_label) in enumerate(dataloader):\n",
        "            val_label = val_label.to(device)\n",
        "            mask = val_input['attention_mask'].to(device)\n",
        "            input_id = val_input['input_ids'].squeeze(1).to(device)\n",
        "            output = model(input_id, mask)\n",
        "            batch_loss = criterion(output, val_label)\n",
        "            gold = np.argmax(val_label.cpu().detach().numpy(), axis=1)\n",
        "            pred = np.argmax(output.cpu().detach().numpy(), axis=1)\n",
        "            predictions.extend(pred)\n",
        "            gold_labels.extend(gold)\n",
        "            val_loss += batch_loss.item()\n",
        "    return predictions, gold_labels, val_loss/batch_id\n",
        "\n",
        "def finetune(model, train_data, val_data, learning_rate=2e-5, epochs=10, criterion=nn.CrossEntropyLoss(),\n",
        "             batch_size=32, max_length=32, patience=2):\n",
        "\n",
        "    train_losses = []\n",
        "    val_losses = []\n",
        "\n",
        "    train_dataloader = torch.utils.data.DataLoader(Dataset(train_data, max_length=max_length),\n",
        "                                                   batch_size=batch_size, shuffle=True, drop_last=False)\n",
        "    val_dataloader = torch.utils.data.DataLoader(Dataset(val_data, max_length=max_length),\n",
        "                                                 batch_size=batch_size, drop_last=False)\n",
        "    use_cuda = torch.cuda.is_available()\n",
        "    device = torch.device(\"cuda\" if use_cuda else \"cpu\")\n",
        "    optimizer = Adam(model.parameters(), lr=learning_rate)\n",
        "    model.to(device)\n",
        "    lowest_loss = 1000\n",
        "    best_f1 = 0\n",
        "    best_epoch = 0\n",
        "    epochs_not_improving = 0\n",
        "    for epoch_num in range(epochs):\n",
        "            total_acc_train = 0\n",
        "            total_loss_train = 0\n",
        "            for batch_id, (inputs, labels) in tqdm(enumerate(train_dataloader)):\n",
        "                model.train()\n",
        "                output = model(inputs['input_ids'].squeeze(1).to(device),\n",
        "                               inputs['attention_mask'].to(device))\n",
        "                batch_loss = criterion(output.to(device), labels.to(device))\n",
        "                total_loss_train += batch_loss.item()\n",
        "\n",
        "                optimizer.zero_grad()\n",
        "                batch_loss.backward()\n",
        "                optimizer.step()\n",
        "            train_losses.append(total_loss_train/(batch_id+1))\n",
        "\n",
        "            predictions, gold_labels, val_loss = validate(model, val_dataloader, device, criterion)\n",
        "            f1 = f1_score(gold_labels, predictions, average='macro', zero_division=0)\n",
        "            val_losses.append(val_loss)\n",
        "            if f1 > best_f1:\n",
        "                print(f\"New best epoch found: {epoch_num} (f1: {f1:.3f})!\")\n",
        "                best_f1 = f1\n",
        "                best_epoch = epoch_num\n",
        "                torch.save(model.state_dict(), \"checkpoint.pt\")\n",
        "                epochs_not_improving = 0\n",
        "            else:\n",
        "                epochs_not_improving += 1\n",
        "                if epochs_not_improving >= patience:\n",
        "                    model.load_state_dict(torch.load(\"checkpoint.pt\"))\n",
        "                    print('Patience is up, restoring the best model and exiting...')\n",
        "                    break\n",
        "            print(\n",
        "                f'Epochs: {epoch_num + 1} | Train Loss: {total_loss_train/batch_id: .3f} \\\n",
        "                | Val Loss: {val_loss: .3f} (best epoch: {best_epoch} w/f1: {best_f1:.3f})')\n",
        "    model.eval()\n",
        "    return model, train_losses, val_losses"
      ]
    },
    {
      "cell_type": "code",
      "execution_count": null,
      "metadata": {
        "id": "yHiq6M76FWhl"
      },
      "outputs": [],
      "source": [
        "model, train_losses, val_losses = finetune(BertClassifier(num_classes=len(loc2idx)),\n",
        "                                           train, dev,\n",
        "                                           epochs=100,\n",
        "                                           patience=5,\n",
        "                                           batch_size=64,\n",
        "                                           max_length=32)"
      ]
    },
    {
      "cell_type": "code",
      "source": [
        "plt.plot(train_losses, label='Training Loss')\n",
        "plt.plot(val_losses, label='Validation Loss')\n",
        "plt.title('Training and Validation Loss')\n",
        "plt.xlabel('Epoch')\n",
        "plt.ylabel('Loss')\n",
        "plt.legend()"
      ],
      "metadata": {
        "id": "AAx8nsxAEuth"
      },
      "execution_count": null,
      "outputs": []
    },
    {
      "cell_type": "code",
      "execution_count": 94,
      "metadata": {
        "id": "As1m-SkDe0BU"
      },
      "outputs": [],
      "source": [
        "torch.save(model.state_dict(), f\"bert-gr-c--seed-{i}.pt\")"
      ]
    },
    {
      "cell_type": "markdown",
      "source": [
        "* Upload to the cloud"
      ],
      "metadata": {
        "id": "C7x7lNGd2vMI"
      }
    },
    {
      "cell_type": "code",
      "source": [
        "!gsutil cp bert-gr-c-seed0.pt gs://{bucket_name}/ # up\n",
        "!gsutil cp bert-gr-c-seed1.pt gs://{bucket_name}/ # up\n",
        "!gsutil cp bert-gr-c-seed2.pt gs://{bucket_name}/ # up"
      ],
      "metadata": {
        "id": "BgiI1pp20MvG"
      },
      "execution_count": null,
      "outputs": []
    },
    {
      "cell_type": "markdown",
      "source": [
        "# Assessing three models\n",
        "* Three splits"
      ],
      "metadata": {
        "id": "ytUUUpb3KyKX"
      }
    },
    {
      "cell_type": "code",
      "source": [
        "# to use these, initialise the bucket_name and project_id\n",
        "bucket_name, project_id = None, None # <== set these properly\n",
        "!gcloud config set project {project_id}\n",
        "!gsutil cp f'gs://{bucket_name}/proverbs/bert-gr-c-seed0.pt' ./\n",
        "!gsutil cp f'gs://{bucket_name}/proverbs/bert-gr-c-seed1.pt' ./\n",
        "!gsutil cp f'gs://{bucket_name}/proverbs/bert-gr-c-seed2.pt' ./"
      ],
      "metadata": {
        "id": "Smq1mSQtRmcL"
      },
      "execution_count": null,
      "outputs": []
    },
    {
      "cell_type": "code",
      "source": [
        "from sklearn.metrics import f1_score\n",
        "f1_scores = []\n",
        "for i in range(3):\n",
        "  seed = 2023+i\n",
        "  train, test = train_test_split(balanced_corpus, test_size=0.05, random_state=seed)\n",
        "  train, dev = train_test_split(train, test_size=test.shape[0], random_state=seed)\n",
        "  # the areas that will serve as target label indices\n",
        "  idx2loc = {i:a for i,a in enumerate(train.area.unique())}\n",
        "  loc2idx = {idx2loc[i]:i for i in idx2loc}\n",
        "  labels = test.area.unique()\n",
        "  test_dataloader = torch.utils.data.DataLoader(Dataset(test), batch_size=1, drop_last=False)\n",
        "  model = BertClassifier(num_classes=len(loc2idx))\n",
        "  model.load_state_dict(torch.load(f\"bert-gr-c-seed-{i}.pt\"))\n",
        "  p,l,_ = validate(model.to(\"cpu\"), test_dataloader, \"cpu\")\n",
        "  f1_scores.append(dict(zip(labels, f1_score([idx2loc[i] for i in l], [idx2loc[i] for i in p], average=None, labels=labels))))"
      ],
      "metadata": {
        "id": "YwS49quv8T1J"
      },
      "execution_count": 111,
      "outputs": []
    },
    {
      "cell_type": "code",
      "source": [
        "results = pd.DataFrame({i: [f1_scores[i][label] for label in labels] for i in range(3)}, index=labels)\n",
        "results.agg(['mean', 'sem'], 1)"
      ],
      "metadata": {
        "colab": {
          "base_uri": "https://localhost:8080/",
          "height": 771
        },
        "id": "jecAOvqAL1fb",
        "outputId": "ad2e7f93-631c-400c-85e7-6f2e4a25e15a"
      },
      "execution_count": 112,
      "outputs": [
        {
          "output_type": "execute_result",
          "data": {
            "text/plain": [
              "                     mean       sem\n",
              "Αχαΐα            0.457997  0.021902\n",
              "Μακεδονία        0.160053  0.063340\n",
              "Ιωάννινα         0.279432  0.042224\n",
              "Νάξος            0.324187  0.083406\n",
              "Κεφαλληνία       0.250654  0.014426\n",
              "Κύπρος           0.802132  0.021637\n",
              "Ανατολική Θράκη  0.274183  0.019503\n",
              "Εύβοια           0.210071  0.033197\n",
              "Ήπειρος          0.112052  0.034581\n",
              "Σκύρος           0.538715  0.049389\n",
              "Αμοργός          0.319192  0.014141\n",
              "Λακωνία          0.133242  0.008168\n",
              "Μικρά Ασία       0.115951  0.031774\n",
              "Επτάνησος        0.321513  0.040264\n",
              "Αρκαδία          0.107716  0.033300\n",
              "Πόντος           0.682445  0.010641\n",
              "Θεσπρωτία        0.151252  0.011807\n",
              "Ρόδος            0.271008  0.045755\n",
              "Κρήτη            0.147893  0.089884\n",
              "Αιτωλία          0.392674  0.059751\n",
              "Θράκη            0.120556  0.100445\n",
              "Κάρπαθος         0.338671  0.027401\n",
              "Λέσβος           0.427826  0.034085"
            ],
            "text/html": [
              "\n",
              "  <div id=\"df-096d91d5-bd24-48aa-a3ba-fe4d439348f7\" class=\"colab-df-container\">\n",
              "    <div>\n",
              "<style scoped>\n",
              "    .dataframe tbody tr th:only-of-type {\n",
              "        vertical-align: middle;\n",
              "    }\n",
              "\n",
              "    .dataframe tbody tr th {\n",
              "        vertical-align: top;\n",
              "    }\n",
              "\n",
              "    .dataframe thead th {\n",
              "        text-align: right;\n",
              "    }\n",
              "</style>\n",
              "<table border=\"1\" class=\"dataframe\">\n",
              "  <thead>\n",
              "    <tr style=\"text-align: right;\">\n",
              "      <th></th>\n",
              "      <th>mean</th>\n",
              "      <th>sem</th>\n",
              "    </tr>\n",
              "  </thead>\n",
              "  <tbody>\n",
              "    <tr>\n",
              "      <th>Αχαΐα</th>\n",
              "      <td>0.457997</td>\n",
              "      <td>0.021902</td>\n",
              "    </tr>\n",
              "    <tr>\n",
              "      <th>Μακεδονία</th>\n",
              "      <td>0.160053</td>\n",
              "      <td>0.063340</td>\n",
              "    </tr>\n",
              "    <tr>\n",
              "      <th>Ιωάννινα</th>\n",
              "      <td>0.279432</td>\n",
              "      <td>0.042224</td>\n",
              "    </tr>\n",
              "    <tr>\n",
              "      <th>Νάξος</th>\n",
              "      <td>0.324187</td>\n",
              "      <td>0.083406</td>\n",
              "    </tr>\n",
              "    <tr>\n",
              "      <th>Κεφαλληνία</th>\n",
              "      <td>0.250654</td>\n",
              "      <td>0.014426</td>\n",
              "    </tr>\n",
              "    <tr>\n",
              "      <th>Κύπρος</th>\n",
              "      <td>0.802132</td>\n",
              "      <td>0.021637</td>\n",
              "    </tr>\n",
              "    <tr>\n",
              "      <th>Ανατολική Θράκη</th>\n",
              "      <td>0.274183</td>\n",
              "      <td>0.019503</td>\n",
              "    </tr>\n",
              "    <tr>\n",
              "      <th>Εύβοια</th>\n",
              "      <td>0.210071</td>\n",
              "      <td>0.033197</td>\n",
              "    </tr>\n",
              "    <tr>\n",
              "      <th>Ήπειρος</th>\n",
              "      <td>0.112052</td>\n",
              "      <td>0.034581</td>\n",
              "    </tr>\n",
              "    <tr>\n",
              "      <th>Σκύρος</th>\n",
              "      <td>0.538715</td>\n",
              "      <td>0.049389</td>\n",
              "    </tr>\n",
              "    <tr>\n",
              "      <th>Αμοργός</th>\n",
              "      <td>0.319192</td>\n",
              "      <td>0.014141</td>\n",
              "    </tr>\n",
              "    <tr>\n",
              "      <th>Λακωνία</th>\n",
              "      <td>0.133242</td>\n",
              "      <td>0.008168</td>\n",
              "    </tr>\n",
              "    <tr>\n",
              "      <th>Μικρά Ασία</th>\n",
              "      <td>0.115951</td>\n",
              "      <td>0.031774</td>\n",
              "    </tr>\n",
              "    <tr>\n",
              "      <th>Επτάνησος</th>\n",
              "      <td>0.321513</td>\n",
              "      <td>0.040264</td>\n",
              "    </tr>\n",
              "    <tr>\n",
              "      <th>Αρκαδία</th>\n",
              "      <td>0.107716</td>\n",
              "      <td>0.033300</td>\n",
              "    </tr>\n",
              "    <tr>\n",
              "      <th>Πόντος</th>\n",
              "      <td>0.682445</td>\n",
              "      <td>0.010641</td>\n",
              "    </tr>\n",
              "    <tr>\n",
              "      <th>Θεσπρωτία</th>\n",
              "      <td>0.151252</td>\n",
              "      <td>0.011807</td>\n",
              "    </tr>\n",
              "    <tr>\n",
              "      <th>Ρόδος</th>\n",
              "      <td>0.271008</td>\n",
              "      <td>0.045755</td>\n",
              "    </tr>\n",
              "    <tr>\n",
              "      <th>Κρήτη</th>\n",
              "      <td>0.147893</td>\n",
              "      <td>0.089884</td>\n",
              "    </tr>\n",
              "    <tr>\n",
              "      <th>Αιτωλία</th>\n",
              "      <td>0.392674</td>\n",
              "      <td>0.059751</td>\n",
              "    </tr>\n",
              "    <tr>\n",
              "      <th>Θράκη</th>\n",
              "      <td>0.120556</td>\n",
              "      <td>0.100445</td>\n",
              "    </tr>\n",
              "    <tr>\n",
              "      <th>Κάρπαθος</th>\n",
              "      <td>0.338671</td>\n",
              "      <td>0.027401</td>\n",
              "    </tr>\n",
              "    <tr>\n",
              "      <th>Λέσβος</th>\n",
              "      <td>0.427826</td>\n",
              "      <td>0.034085</td>\n",
              "    </tr>\n",
              "  </tbody>\n",
              "</table>\n",
              "</div>\n",
              "    <div class=\"colab-df-buttons\">\n",
              "\n",
              "  <div class=\"colab-df-container\">\n",
              "    <button class=\"colab-df-convert\" onclick=\"convertToInteractive('df-096d91d5-bd24-48aa-a3ba-fe4d439348f7')\"\n",
              "            title=\"Convert this dataframe to an interactive table.\"\n",
              "            style=\"display:none;\">\n",
              "\n",
              "  <svg xmlns=\"http://www.w3.org/2000/svg\" height=\"24px\" viewBox=\"0 -960 960 960\">\n",
              "    <path d=\"M120-120v-720h720v720H120Zm60-500h600v-160H180v160Zm220 220h160v-160H400v160Zm0 220h160v-160H400v160ZM180-400h160v-160H180v160Zm440 0h160v-160H620v160ZM180-180h160v-160H180v160Zm440 0h160v-160H620v160Z\"/>\n",
              "  </svg>\n",
              "    </button>\n",
              "\n",
              "  <style>\n",
              "    .colab-df-container {\n",
              "      display:flex;\n",
              "      gap: 12px;\n",
              "    }\n",
              "\n",
              "    .colab-df-convert {\n",
              "      background-color: #E8F0FE;\n",
              "      border: none;\n",
              "      border-radius: 50%;\n",
              "      cursor: pointer;\n",
              "      display: none;\n",
              "      fill: #1967D2;\n",
              "      height: 32px;\n",
              "      padding: 0 0 0 0;\n",
              "      width: 32px;\n",
              "    }\n",
              "\n",
              "    .colab-df-convert:hover {\n",
              "      background-color: #E2EBFA;\n",
              "      box-shadow: 0px 1px 2px rgba(60, 64, 67, 0.3), 0px 1px 3px 1px rgba(60, 64, 67, 0.15);\n",
              "      fill: #174EA6;\n",
              "    }\n",
              "\n",
              "    .colab-df-buttons div {\n",
              "      margin-bottom: 4px;\n",
              "    }\n",
              "\n",
              "    [theme=dark] .colab-df-convert {\n",
              "      background-color: #3B4455;\n",
              "      fill: #D2E3FC;\n",
              "    }\n",
              "\n",
              "    [theme=dark] .colab-df-convert:hover {\n",
              "      background-color: #434B5C;\n",
              "      box-shadow: 0px 1px 3px 1px rgba(0, 0, 0, 0.15);\n",
              "      filter: drop-shadow(0px 1px 2px rgba(0, 0, 0, 0.3));\n",
              "      fill: #FFFFFF;\n",
              "    }\n",
              "  </style>\n",
              "\n",
              "    <script>\n",
              "      const buttonEl =\n",
              "        document.querySelector('#df-096d91d5-bd24-48aa-a3ba-fe4d439348f7 button.colab-df-convert');\n",
              "      buttonEl.style.display =\n",
              "        google.colab.kernel.accessAllowed ? 'block' : 'none';\n",
              "\n",
              "      async function convertToInteractive(key) {\n",
              "        const element = document.querySelector('#df-096d91d5-bd24-48aa-a3ba-fe4d439348f7');\n",
              "        const dataTable =\n",
              "          await google.colab.kernel.invokeFunction('convertToInteractive',\n",
              "                                                    [key], {});\n",
              "        if (!dataTable) return;\n",
              "\n",
              "        const docLinkHtml = 'Like what you see? Visit the ' +\n",
              "          '<a target=\"_blank\" href=https://colab.research.google.com/notebooks/data_table.ipynb>data table notebook</a>'\n",
              "          + ' to learn more about interactive tables.';\n",
              "        element.innerHTML = '';\n",
              "        dataTable['output_type'] = 'display_data';\n",
              "        await google.colab.output.renderOutput(dataTable, element);\n",
              "        const docLink = document.createElement('div');\n",
              "        docLink.innerHTML = docLinkHtml;\n",
              "        element.appendChild(docLink);\n",
              "      }\n",
              "    </script>\n",
              "  </div>\n",
              "\n",
              "\n",
              "<div id=\"df-84dbf20d-465d-454c-b4b4-63d51432dd76\">\n",
              "  <button class=\"colab-df-quickchart\" onclick=\"quickchart('df-84dbf20d-465d-454c-b4b4-63d51432dd76')\"\n",
              "            title=\"Suggest charts\"\n",
              "            style=\"display:none;\">\n",
              "\n",
              "<svg xmlns=\"http://www.w3.org/2000/svg\" height=\"24px\"viewBox=\"0 0 24 24\"\n",
              "     width=\"24px\">\n",
              "    <g>\n",
              "        <path d=\"M19 3H5c-1.1 0-2 .9-2 2v14c0 1.1.9 2 2 2h14c1.1 0 2-.9 2-2V5c0-1.1-.9-2-2-2zM9 17H7v-7h2v7zm4 0h-2V7h2v10zm4 0h-2v-4h2v4z\"/>\n",
              "    </g>\n",
              "</svg>\n",
              "  </button>\n",
              "\n",
              "<style>\n",
              "  .colab-df-quickchart {\n",
              "      --bg-color: #E8F0FE;\n",
              "      --fill-color: #1967D2;\n",
              "      --hover-bg-color: #E2EBFA;\n",
              "      --hover-fill-color: #174EA6;\n",
              "      --disabled-fill-color: #AAA;\n",
              "      --disabled-bg-color: #DDD;\n",
              "  }\n",
              "\n",
              "  [theme=dark] .colab-df-quickchart {\n",
              "      --bg-color: #3B4455;\n",
              "      --fill-color: #D2E3FC;\n",
              "      --hover-bg-color: #434B5C;\n",
              "      --hover-fill-color: #FFFFFF;\n",
              "      --disabled-bg-color: #3B4455;\n",
              "      --disabled-fill-color: #666;\n",
              "  }\n",
              "\n",
              "  .colab-df-quickchart {\n",
              "    background-color: var(--bg-color);\n",
              "    border: none;\n",
              "    border-radius: 50%;\n",
              "    cursor: pointer;\n",
              "    display: none;\n",
              "    fill: var(--fill-color);\n",
              "    height: 32px;\n",
              "    padding: 0;\n",
              "    width: 32px;\n",
              "  }\n",
              "\n",
              "  .colab-df-quickchart:hover {\n",
              "    background-color: var(--hover-bg-color);\n",
              "    box-shadow: 0 1px 2px rgba(60, 64, 67, 0.3), 0 1px 3px 1px rgba(60, 64, 67, 0.15);\n",
              "    fill: var(--button-hover-fill-color);\n",
              "  }\n",
              "\n",
              "  .colab-df-quickchart-complete:disabled,\n",
              "  .colab-df-quickchart-complete:disabled:hover {\n",
              "    background-color: var(--disabled-bg-color);\n",
              "    fill: var(--disabled-fill-color);\n",
              "    box-shadow: none;\n",
              "  }\n",
              "\n",
              "  .colab-df-spinner {\n",
              "    border: 2px solid var(--fill-color);\n",
              "    border-color: transparent;\n",
              "    border-bottom-color: var(--fill-color);\n",
              "    animation:\n",
              "      spin 1s steps(1) infinite;\n",
              "  }\n",
              "\n",
              "  @keyframes spin {\n",
              "    0% {\n",
              "      border-color: transparent;\n",
              "      border-bottom-color: var(--fill-color);\n",
              "      border-left-color: var(--fill-color);\n",
              "    }\n",
              "    20% {\n",
              "      border-color: transparent;\n",
              "      border-left-color: var(--fill-color);\n",
              "      border-top-color: var(--fill-color);\n",
              "    }\n",
              "    30% {\n",
              "      border-color: transparent;\n",
              "      border-left-color: var(--fill-color);\n",
              "      border-top-color: var(--fill-color);\n",
              "      border-right-color: var(--fill-color);\n",
              "    }\n",
              "    40% {\n",
              "      border-color: transparent;\n",
              "      border-right-color: var(--fill-color);\n",
              "      border-top-color: var(--fill-color);\n",
              "    }\n",
              "    60% {\n",
              "      border-color: transparent;\n",
              "      border-right-color: var(--fill-color);\n",
              "    }\n",
              "    80% {\n",
              "      border-color: transparent;\n",
              "      border-right-color: var(--fill-color);\n",
              "      border-bottom-color: var(--fill-color);\n",
              "    }\n",
              "    90% {\n",
              "      border-color: transparent;\n",
              "      border-bottom-color: var(--fill-color);\n",
              "    }\n",
              "  }\n",
              "</style>\n",
              "\n",
              "  <script>\n",
              "    async function quickchart(key) {\n",
              "      const quickchartButtonEl =\n",
              "        document.querySelector('#' + key + ' button');\n",
              "      quickchartButtonEl.disabled = true;  // To prevent multiple clicks.\n",
              "      quickchartButtonEl.classList.add('colab-df-spinner');\n",
              "      try {\n",
              "        const charts = await google.colab.kernel.invokeFunction(\n",
              "            'suggestCharts', [key], {});\n",
              "      } catch (error) {\n",
              "        console.error('Error during call to suggestCharts:', error);\n",
              "      }\n",
              "      quickchartButtonEl.classList.remove('colab-df-spinner');\n",
              "      quickchartButtonEl.classList.add('colab-df-quickchart-complete');\n",
              "    }\n",
              "    (() => {\n",
              "      let quickchartButtonEl =\n",
              "        document.querySelector('#df-84dbf20d-465d-454c-b4b4-63d51432dd76 button');\n",
              "      quickchartButtonEl.style.display =\n",
              "        google.colab.kernel.accessAllowed ? 'block' : 'none';\n",
              "    })();\n",
              "  </script>\n",
              "</div>\n",
              "    </div>\n",
              "  </div>\n"
            ]
          },
          "metadata": {},
          "execution_count": 112
        }
      ]
    },
    {
      "cell_type": "code",
      "source": [
        "print(f'Overall F1: {results.mean(1).mean():.2f}')"
      ],
      "metadata": {
        "colab": {
          "base_uri": "https://localhost:8080/"
        },
        "id": "3ZFMatRoPsuQ",
        "outputId": "16114d23-6f06-499d-b356-56e3d3208a83"
      },
      "execution_count": 114,
      "outputs": [
        {
          "output_type": "stream",
          "name": "stdout",
          "text": [
            "Overall F1: 0.30\n"
          ]
        }
      ]
    },
    {
      "cell_type": "code",
      "source": [
        "loc_name = {'Ρούμελη':'Roumeli', 'Κοζάνη':'Kozani', 'Κως':'Kos', 'Αδριανούπολη':'Adrian.', 'Νάουσα':'Naousa', 'Σέρρες':'Serres', 'Σίφνος': 'Sifnos', 'Ήπειρος':'Epirus', 'Αιτωλία':'Etolia', 'Αμοργός':'Amorgos', 'Ανατολική Θράκη': 'East Thrace', 'Αρκαδία':'Arcadia', 'Αχαΐα':'Achaia', 'Επτάνησος':'Eptanisos', 'Εύβοια':'Eyvoia', 'Θεσπρωτία':'Thesprotia',  'Θράκη': 'Thrace', 'Ιωάννινα':'Ioannina', 'Κάρπαθος':'Karpathos', 'Κεφαλληνία':'Kefalinia', 'Κρήτη':'Crete', 'Κύπρος':'Cyprus', 'Λέσβος':'Lesvos', 'Λακωνία':'Laconia', 'Μακεδονία':'Maced.', 'Μικρά Ασία':'Asia Minor', 'Νάξος':'Naxos', 'Πόντος':'Pontos', 'Ρόδος':'Rodos', 'Σκύρος':'Skyros'}\n",
        "results.set_index(results.index.map(lambda x: loc_name[x])).mean(1).to_dict()"
      ],
      "metadata": {
        "id": "WDqvLhcnHYSn",
        "outputId": "878fd9c7-4966-44d2-c26d-0c421e0b70ad",
        "colab": {
          "base_uri": "https://localhost:8080/"
        }
      },
      "execution_count": 129,
      "outputs": [
        {
          "output_type": "execute_result",
          "data": {
            "text/plain": [
              "{'Achaia': 0.4579969007421907,\n",
              " 'Maced.': 0.16005291005291003,\n",
              " 'Ioannina': 0.2794318792075741,\n",
              " 'Naxos': 0.3241873430552676,\n",
              " 'Kefalinia': 0.2506544138123085,\n",
              " 'Cyprus': 0.8021322378716746,\n",
              " 'East Thrace': 0.27418268006503305,\n",
              " 'Eyvoia': 0.21007081038552325,\n",
              " 'Epirus': 0.11205216105397593,\n",
              " 'Skyros': 0.5387147335423198,\n",
              " 'Amorgos': 0.3191919191919192,\n",
              " 'Laconia': 0.13324236517218976,\n",
              " 'Asia Minor': 0.11595103991417355,\n",
              " 'Eptanisos': 0.3215130023640662,\n",
              " 'Arcadia': 0.10771604938271605,\n",
              " 'Pontos': 0.6824451570214283,\n",
              " 'Thesprotia': 0.15125205428658514,\n",
              " 'Rodos': 0.2710079518590157,\n",
              " 'Crete': 0.14789272030651343,\n",
              " 'Etolia': 0.39267399267399267,\n",
              " 'Thrace': 0.12055555555555557,\n",
              " 'Karpathos': 0.3386713175836373,\n",
              " 'Lesvos': 0.42782632256316466}"
            ]
          },
          "metadata": {},
          "execution_count": 129
        }
      ]
    },
    {
      "cell_type": "code",
      "source": [
        "results.set_index(results.index.map(lambda x: loc_name[x])).sem(1).to_dict()"
      ],
      "metadata": {
        "id": "dSfSqwrlHuCH",
        "outputId": "d183b2da-c614-4310-b9b4-321cbf4821a6",
        "colab": {
          "base_uri": "https://localhost:8080/"
        }
      },
      "execution_count": 130,
      "outputs": [
        {
          "output_type": "execute_result",
          "data": {
            "text/plain": [
              "{'Achaia': 0.021902044304510204,\n",
              " 'Maced.': 0.06334031689848084,\n",
              " 'Ioannina': 0.04222383785420334,\n",
              " 'Naxos': 0.08340611811731657,\n",
              " 'Kefalinia': 0.014426483330086186,\n",
              " 'Cyprus': 0.02163703911850188,\n",
              " 'East Thrace': 0.01950255380182251,\n",
              " 'Eyvoia': 0.03319747947552477,\n",
              " 'Epirus': 0.03458134799897901,\n",
              " 'Skyros': 0.04938896096017988,\n",
              " 'Amorgos': 0.01414141414141416,\n",
              " 'Laconia': 0.008168124634515671,\n",
              " 'Asia Minor': 0.03177360693520247,\n",
              " 'Eptanisos': 0.04026414913672579,\n",
              " 'Arcadia': 0.03330045246127889,\n",
              " 'Pontos': 0.0106410435854305,\n",
              " 'Thesprotia': 0.01180732905121293,\n",
              " 'Rodos': 0.045754714928097524,\n",
              " 'Crete': 0.08988411022747426,\n",
              " 'Etolia': 0.059750764847190295,\n",
              " 'Thrace': 0.10044499754026677,\n",
              " 'Karpathos': 0.027400649172465447,\n",
              " 'Lesvos': 0.03408459111807734}"
            ]
          },
          "metadata": {},
          "execution_count": 130
        }
      ]
    },
    {
      "cell_type": "code",
      "source": [],
      "metadata": {
        "id": "9gzJpOqQIR4a"
      },
      "execution_count": null,
      "outputs": []
    }
  ],
  "metadata": {
    "accelerator": "GPU",
    "colab": {
      "gpuType": "T4",
      "machine_shape": "hm",
      "provenance": [],
      "include_colab_link": true
    },
    "kernelspec": {
      "display_name": "Python 3 (ipykernel)",
      "language": "python",
      "name": "python3"
    },
    "language_info": {
      "codemirror_mode": {
        "name": "ipython",
        "version": 3
      },
      "file_extension": ".py",
      "mimetype": "text/x-python",
      "name": "python",
      "nbconvert_exporter": "python",
      "pygments_lexer": "ipython3",
      "version": "3.11.3"
    }
  },
  "nbformat": 4,
  "nbformat_minor": 0
}