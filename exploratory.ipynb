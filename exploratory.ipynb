{
 "cells": [
  {
   "cell_type": "markdown",
   "metadata": {
    "colab_type": "text",
    "id": "view-in-github"
   },
   "source": [
    "<a href=\"https://colab.research.google.com/github/ipavlopoulos/paremia/blob/main/exploratory.ipynb\" target=\"_parent\"><img src=\"https://colab.research.google.com/assets/colab-badge.svg\" alt=\"Open In Colab\"/></a>"
   ]
  },
  {
   "cell_type": "markdown",
   "metadata": {
    "id": "1fQfdKn2V2qf"
   },
   "source": [
    "# Exploratory analysis of Greek proverbs\n",
    "\n",
    "* Using a collection of proverbs from the [Hellenic Folklore Research Centre](http://www.kentrolaografias.gr/) of the Academy of Athens\n",
    "* Using [Folium](https://pypi.org/project/folium/) and [Geopy](https://geopy.readthedocs.io/en/stable/)\n",
    "\n",
    "---\n"
   ]
  },
  {
   "cell_type": "code",
   "execution_count": 1,
   "metadata": {
    "id": "uw9NdZh6Vx_T"
   },
   "outputs": [],
   "source": [
    "%%capture\n",
    "!pip install geopandas\n",
    "!pip install geopy\n",
    "!pip install folium\n",
    "!pip install gdown\n",
    "import numpy as np\n",
    "import pandas as pd\n",
    "import seaborn as sns\n",
    "import geopandas as gpd\n",
    "from geopy.geocoders import Nominatim\n",
    "from geopy.extra.rate_limiter import RateLimiter\n",
    "import folium\n",
    "from tqdm.notebook import tqdm\n",
    "from folium import Choropleth, Circle, CircleMarker, Marker\n",
    "from folium.plugins import MarkerCluster\n",
    "import matplotlib.pyplot as plt\n",
    "import os"
   ]
  },
  {
   "cell_type": "markdown",
   "metadata": {
    "id": "3YGiIJd4V-cp"
   },
   "source": [
    "## Data loading"
   ]
  },
  {
   "cell_type": "code",
   "execution_count": 2,
   "metadata": {
    "colab": {
     "base_uri": "https://localhost:8080/"
    },
    "id": "3pkSDJKlV1ea",
    "outputId": "a53244b4-b089-4a80-b7af-110510f48bd7"
   },
   "outputs": [
    {
     "data": {
      "text/plain": [
       "(134493, 4)"
      ]
     },
     "execution_count": 2,
     "metadata": {},
     "output_type": "execute_result"
    }
   ],
   "source": [
    "proverbs = pd.read_csv('data/proverbs.csv', index_col=0)\n",
    "proverbs.shape"
   ]
  },
  {
   "cell_type": "code",
   "execution_count": 3,
   "metadata": {
    "colab": {
     "base_uri": "https://localhost:8080/",
     "height": 187
    },
    "id": "vPgpP0vkWCND",
    "outputId": "04fe91d7-ea4e-4f9d-b53b-c12a6bb68459"
   },
   "outputs": [
    {
     "data": {
      "text/html": [
       "<div>\n",
       "<style scoped>\n",
       "    .dataframe tbody tr th:only-of-type {\n",
       "        vertical-align: middle;\n",
       "    }\n",
       "\n",
       "    .dataframe tbody tr th {\n",
       "        vertical-align: top;\n",
       "    }\n",
       "\n",
       "    .dataframe thead th {\n",
       "        text-align: right;\n",
       "    }\n",
       "</style>\n",
       "<table border=\"1\" class=\"dataframe\">\n",
       "  <thead>\n",
       "    <tr style=\"text-align: right;\">\n",
       "      <th></th>\n",
       "      <th>text</th>\n",
       "      <th>place</th>\n",
       "      <th>uri</th>\n",
       "      <th>collector</th>\n",
       "    </tr>\n",
       "  </thead>\n",
       "  <tbody>\n",
       "    <tr>\n",
       "      <th>52466</th>\n",
       "      <td>Το μυαλό σου και μια λύρα και μια κόκκινη νταρ...</td>\n",
       "      <td>Αχαΐα, Πάτρα</td>\n",
       "      <td>http://hdl.handle.net/20.500.11853/285136</td>\n",
       "      <td>Κορύλλος, Χρήστος Π.</td>\n",
       "    </tr>\n",
       "    <tr>\n",
       "      <th>76386</th>\n",
       "      <td>Άνεμος και του καπνού</td>\n",
       "      <td>Κάρπαθος</td>\n",
       "      <td>http://hdl.handle.net/20.500.11853/153383</td>\n",
       "      <td>Μανωλακάκης, Παπαγιάννης</td>\n",
       "    </tr>\n",
       "    <tr>\n",
       "      <th>28524</th>\n",
       "      <td>Λυθήκανη τα γόνατά μ'</td>\n",
       "      <td>Σάμος</td>\n",
       "      <td>http://hdl.handle.net/20.500.11853/173367</td>\n",
       "      <td>Ιωαννίδης, Σωτήρης Ν.</td>\n",
       "    </tr>\n",
       "    <tr>\n",
       "      <th>5999</th>\n",
       "      <td>Η μάννα γεννά κ' η μοίρα μοιράζει</td>\n",
       "      <td>Κρήτη</td>\n",
       "      <td>http://hdl.handle.net/20.500.11853/238801</td>\n",
       "      <td>Βλαστός, Παύλος Γ.</td>\n",
       "    </tr>\n",
       "    <tr>\n",
       "      <th>98134</th>\n",
       "      <td>Το πατσατζίδικο το κάμαμε;</td>\n",
       "      <td>Ρόδος</td>\n",
       "      <td>http://hdl.handle.net/20.500.11853/264364</td>\n",
       "      <td>Παπαχριστόδουλος, Χ.</td>\n",
       "    </tr>\n",
       "    <tr>\n",
       "      <th>20093</th>\n",
       "      <td>Άνθρωπος δυο παραδιώ</td>\n",
       "      <td>Αμοργός</td>\n",
       "      <td>http://hdl.handle.net/20.500.11853/143495</td>\n",
       "      <td>Ιωαννίδης, Εμμανουήλ</td>\n",
       "    </tr>\n",
       "    <tr>\n",
       "      <th>92528</th>\n",
       "      <td>Η κόττα πίν' νιρό, κι δοξάζ΄ και το Θεό</td>\n",
       "      <td>Ιωάννινα, Χουλιαράδες</td>\n",
       "      <td>http://hdl.handle.net/20.500.11853/181885</td>\n",
       "      <td>Οικονομίδης, Δημήτριος Β.</td>\n",
       "    </tr>\n",
       "    <tr>\n",
       "      <th>2609</th>\n",
       "      <td>Πήγαμε να σκιάζουμε και μας επατάγωσαν</td>\n",
       "      <td>Φιλιππούπολη</td>\n",
       "      <td>http://hdl.handle.net/20.500.11853/264959</td>\n",
       "      <td>Αποστολίδης, Μύρτιλος Κ.</td>\n",
       "    </tr>\n",
       "    <tr>\n",
       "      <th>131639</th>\n",
       "      <td>Άκουσεν η γρα πορδή, κι' αναρρούφα να την πιή</td>\n",
       "      <td>Κρήτη</td>\n",
       "      <td>http://hdl.handle.net/20.500.11853/249233</td>\n",
       "      <td>anonymous</td>\n",
       "    </tr>\n",
       "    <tr>\n",
       "      <th>80869</th>\n",
       "      <td>Βάζ' κι' η κοσκινού τον άdρα της, με τους πραμ...</td>\n",
       "      <td>Λήμνος, Βάρος</td>\n",
       "      <td>http://hdl.handle.net/20.500.11853/262156</td>\n",
       "      <td>Μπακιρτζής, Παν.</td>\n",
       "    </tr>\n",
       "  </tbody>\n",
       "</table>\n",
       "</div>"
      ],
      "text/plain": [
       "                                                     text   \n",
       "52466   Το μυαλό σου και μια λύρα και μια κόκκινη νταρ...  \\\n",
       "76386                               Άνεμος και του καπνού   \n",
       "28524                               Λυθήκανη τα γόνατά μ'   \n",
       "5999                    Η μάννα γεννά κ' η μοίρα μοιράζει   \n",
       "98134                          Το πατσατζίδικο το κάμαμε;   \n",
       "20093                                Άνθρωπος δυο παραδιώ   \n",
       "92528             Η κόττα πίν' νιρό, κι δοξάζ΄ και το Θεό   \n",
       "2609               Πήγαμε να σκιάζουμε και μας επατάγωσαν   \n",
       "131639      Άκουσεν η γρα πορδή, κι' αναρρούφα να την πιή   \n",
       "80869   Βάζ' κι' η κοσκινού τον άdρα της, με τους πραμ...   \n",
       "\n",
       "                        place                                        uri   \n",
       "52466            Αχαΐα, Πάτρα  http://hdl.handle.net/20.500.11853/285136  \\\n",
       "76386                Κάρπαθος  http://hdl.handle.net/20.500.11853/153383   \n",
       "28524                   Σάμος  http://hdl.handle.net/20.500.11853/173367   \n",
       "5999                    Κρήτη  http://hdl.handle.net/20.500.11853/238801   \n",
       "98134                   Ρόδος  http://hdl.handle.net/20.500.11853/264364   \n",
       "20093                 Αμοργός  http://hdl.handle.net/20.500.11853/143495   \n",
       "92528   Ιωάννινα, Χουλιαράδες  http://hdl.handle.net/20.500.11853/181885   \n",
       "2609             Φιλιππούπολη  http://hdl.handle.net/20.500.11853/264959   \n",
       "131639                  Κρήτη  http://hdl.handle.net/20.500.11853/249233   \n",
       "80869           Λήμνος, Βάρος  http://hdl.handle.net/20.500.11853/262156   \n",
       "\n",
       "                        collector  \n",
       "52466        Κορύλλος, Χρήστος Π.  \n",
       "76386    Μανωλακάκης, Παπαγιάννης  \n",
       "28524       Ιωαννίδης, Σωτήρης Ν.  \n",
       "5999           Βλαστός, Παύλος Γ.  \n",
       "98134        Παπαχριστόδουλος, Χ.  \n",
       "20093        Ιωαννίδης, Εμμανουήλ  \n",
       "92528   Οικονομίδης, Δημήτριος Β.  \n",
       "2609     Αποστολίδης, Μύρτιλος Κ.  \n",
       "131639                  anonymous  \n",
       "80869            Μπακιρτζής, Παν.  "
      ]
     },
     "execution_count": 3,
     "metadata": {},
     "output_type": "execute_result"
    }
   ],
   "source": [
    "proverbs.sample(10)"
   ]
  },
  {
   "cell_type": "code",
   "execution_count": 4,
   "metadata": {
    "colab": {
     "base_uri": "https://localhost:8080/",
     "height": 35
    },
    "id": "8cLp-iJnWChE",
    "outputId": "1253a4fb-a1a9-4965-d4d9-e86498bb552d"
   },
   "outputs": [
    {
     "data": {
      "text/plain": [
       "\"Nel maritaggio fatto ner amore, si vive semfire con dolore = Εν τω εξ' έρωτος γάμω η ζωή μετά λύπης άγεται\""
      ]
     },
     "execution_count": 4,
     "metadata": {},
     "output_type": "execute_result"
    }
   ],
   "source": [
    "# removing noisy input (e.g., definitions)\n",
    "proverbs[proverbs.text.str.contains(\"=\")].sample().text.item()"
   ]
  },
  {
   "cell_type": "code",
   "execution_count": 5,
   "metadata": {
    "colab": {
     "base_uri": "https://localhost:8080/"
    },
    "id": "cJmxnObjWIUr",
    "outputId": "331c0543-65b2-4a50-dce7-bf8a4bb2707e"
   },
   "outputs": [
    {
     "data": {
      "text/plain": [
       "(134106, 4)"
      ]
     },
     "execution_count": 5,
     "metadata": {},
     "output_type": "execute_result"
    }
   ],
   "source": [
    "proverbs = proverbs[~proverbs.text.str.contains(\"=\")]\n",
    "proverbs.shape"
   ]
  },
  {
   "cell_type": "markdown",
   "metadata": {
    "id": "rKQVecYGWNQy"
   },
   "source": [
    "* Duplicates exist.\n",
    "\n",
    "* Exact duplicates may be due to error.\n",
    "\n",
    "* But there are also duplicated texts, meaning proverbs collected in different places."
   ]
  },
  {
   "cell_type": "code",
   "execution_count": 6,
   "metadata": {
    "colab": {
     "base_uri": "https://localhost:8080/",
     "height": 99
    },
    "id": "XTI6JIkKWJ1H",
    "outputId": "ffdfb7e3-60de-4cbe-8d74-f4e61ea42a53"
   },
   "outputs": [
    {
     "name": "stdout",
     "output_type": "stream",
     "text": [
      "13875\n"
     ]
    },
    {
     "data": {
      "text/html": [
       "<div>\n",
       "<style scoped>\n",
       "    .dataframe tbody tr th:only-of-type {\n",
       "        vertical-align: middle;\n",
       "    }\n",
       "\n",
       "    .dataframe tbody tr th {\n",
       "        vertical-align: top;\n",
       "    }\n",
       "\n",
       "    .dataframe thead th {\n",
       "        text-align: right;\n",
       "    }\n",
       "</style>\n",
       "<table border=\"1\" class=\"dataframe\">\n",
       "  <thead>\n",
       "    <tr style=\"text-align: right;\">\n",
       "      <th></th>\n",
       "      <th>text</th>\n",
       "      <th>place</th>\n",
       "      <th>uri</th>\n",
       "      <th>collector</th>\n",
       "    </tr>\n",
       "  </thead>\n",
       "  <tbody>\n",
       "    <tr>\n",
       "      <th>131249</th>\n",
       "      <td>Αν είχε κέρατα θ' αμπρούσε</td>\n",
       "      <td>Ήπειρος</td>\n",
       "      <td>http://hdl.handle.net/20.500.11853/206219</td>\n",
       "      <td>anonymous</td>\n",
       "    </tr>\n",
       "  </tbody>\n",
       "</table>\n",
       "</div>"
      ],
      "text/plain": [
       "                              text    place   \n",
       "131249  Αν είχε κέρατα θ' αμπρούσε  Ήπειρος  \\\n",
       "\n",
       "                                              uri  collector  \n",
       "131249  http://hdl.handle.net/20.500.11853/206219  anonymous  "
      ]
     },
     "execution_count": 6,
     "metadata": {},
     "output_type": "execute_result"
    }
   ],
   "source": [
    "# exact duplicates\n",
    "print(proverbs.duplicated().sum())\n",
    "proverbs[proverbs.duplicated()].sample()"
   ]
  },
  {
   "cell_type": "code",
   "execution_count": 7,
   "metadata": {
    "colab": {
     "base_uri": "https://localhost:8080/",
     "height": 99
    },
    "id": "M6oTA0xKWVq-",
    "outputId": "f4d30bac-7bb1-4bcc-9b41-ed2028da15c1"
   },
   "outputs": [
    {
     "name": "stdout",
     "output_type": "stream",
     "text": [
      "24836\n"
     ]
    },
    {
     "data": {
      "text/html": [
       "<div>\n",
       "<style scoped>\n",
       "    .dataframe tbody tr th:only-of-type {\n",
       "        vertical-align: middle;\n",
       "    }\n",
       "\n",
       "    .dataframe tbody tr th {\n",
       "        vertical-align: top;\n",
       "    }\n",
       "\n",
       "    .dataframe thead th {\n",
       "        text-align: right;\n",
       "    }\n",
       "</style>\n",
       "<table border=\"1\" class=\"dataframe\">\n",
       "  <thead>\n",
       "    <tr style=\"text-align: right;\">\n",
       "      <th></th>\n",
       "      <th>text</th>\n",
       "      <th>place</th>\n",
       "      <th>uri</th>\n",
       "      <th>collector</th>\n",
       "    </tr>\n",
       "  </thead>\n",
       "  <tbody>\n",
       "    <tr>\n",
       "      <th>122026</th>\n",
       "      <td>Ακόμα δε μπορεί να δέση το βρακί του</td>\n",
       "      <td>Ήπειρος</td>\n",
       "      <td>http://hdl.handle.net/20.500.11853/160188</td>\n",
       "      <td>anonymous</td>\n",
       "    </tr>\n",
       "    <tr>\n",
       "      <th>79274</th>\n",
       "      <td>Όμπτσος θα μετανοιώση, με τσαιρό θέλει το νοιώσει</td>\n",
       "      <td>Κάσος</td>\n",
       "      <td>http://hdl.handle.net/20.500.11853/239276</td>\n",
       "      <td>Μιχαηλίδης – Νουάρος, Μιχαήλ Γ.</td>\n",
       "    </tr>\n",
       "    <tr>\n",
       "      <th>132993</th>\n",
       "      <td>Αηλί π' δεν ξειέται με τα νύχια του</td>\n",
       "      <td>Ήπειρος</td>\n",
       "      <td>http://hdl.handle.net/20.500.11853/289503</td>\n",
       "      <td>anonymous</td>\n",
       "    </tr>\n",
       "    <tr>\n",
       "      <th>61006</th>\n",
       "      <td>Χατσή Νικόλα μ' κανακάρ' πχια κουκώνα θα σι πάρ'</td>\n",
       "      <td>Αδριανούπολη</td>\n",
       "      <td>http://hdl.handle.net/20.500.11853/204539</td>\n",
       "      <td>Κωνσταντινίδης, Γ.</td>\n",
       "    </tr>\n",
       "    <tr>\n",
       "      <th>121057</th>\n",
       "      <td>Αλησμονιώνται τα φιλιά, αλησμονιώντ' οι αγάπες...</td>\n",
       "      <td>Άδηλου τόπου</td>\n",
       "      <td>http://hdl.handle.net/20.500.11853/159697</td>\n",
       "      <td>anonymous</td>\n",
       "    </tr>\n",
       "    <tr>\n",
       "      <th>130506</th>\n",
       "      <td>Dον έπιασε τ' ανεστενάρι</td>\n",
       "      <td>Άδηλου τόπου</td>\n",
       "      <td>http://hdl.handle.net/20.500.11853/243446</td>\n",
       "      <td>anonymous</td>\n",
       "    </tr>\n",
       "    <tr>\n",
       "      <th>132184</th>\n",
       "      <td>Αν δεν βρέξη πρωταπριλιά, γίνεται τα 'πωρικά</td>\n",
       "      <td>Ιωάννινα</td>\n",
       "      <td>http://hdl.handle.net/20.500.11853/249243</td>\n",
       "      <td>anonymous</td>\n",
       "    </tr>\n",
       "    <tr>\n",
       "      <th>125389</th>\n",
       "      <td>Αναχούρδικα σαν τας αράπισσας τα μαλλιά</td>\n",
       "      <td>Κρήτη</td>\n",
       "      <td>http://hdl.handle.net/20.500.11853/205260</td>\n",
       "      <td>anonymous</td>\n",
       "    </tr>\n",
       "    <tr>\n",
       "      <th>100386</th>\n",
       "      <td>Σαν νύφ' από Δευτέρα</td>\n",
       "      <td>Θεσπρωτία, Παραμυθιά</td>\n",
       "      <td>http://hdl.handle.net/20.500.11853/288408</td>\n",
       "      <td>Παυλίδης, Βασίλειος Π.</td>\n",
       "    </tr>\n",
       "    <tr>\n",
       "      <th>126554</th>\n",
       "      <td>Α με ματαϊδής στη βρύση, να με γράψης για δερβίση</td>\n",
       "      <td>Άδηλου τόπου</td>\n",
       "      <td>http://hdl.handle.net/20.500.11853/241944</td>\n",
       "      <td>anonymous</td>\n",
       "    </tr>\n",
       "  </tbody>\n",
       "</table>\n",
       "</div>"
      ],
      "text/plain": [
       "                                                     text   \n",
       "122026               Ακόμα δε μπορεί να δέση το βρακί του  \\\n",
       "79274   Όμπτσος θα μετανοιώση, με τσαιρό θέλει το νοιώσει   \n",
       "132993                Αηλί π' δεν ξειέται με τα νύχια του   \n",
       "61006    Χατσή Νικόλα μ' κανακάρ' πχια κουκώνα θα σι πάρ'   \n",
       "121057  Αλησμονιώνται τα φιλιά, αλησμονιώντ' οι αγάπες...   \n",
       "130506                           Dον έπιασε τ' ανεστενάρι   \n",
       "132184       Αν δεν βρέξη πρωταπριλιά, γίνεται τα 'πωρικά   \n",
       "125389            Αναχούρδικα σαν τας αράπισσας τα μαλλιά   \n",
       "100386                               Σαν νύφ' από Δευτέρα   \n",
       "126554  Α με ματαϊδής στη βρύση, να με γράψης για δερβίση   \n",
       "\n",
       "                       place                                        uri   \n",
       "122026               Ήπειρος  http://hdl.handle.net/20.500.11853/160188  \\\n",
       "79274                  Κάσος  http://hdl.handle.net/20.500.11853/239276   \n",
       "132993               Ήπειρος  http://hdl.handle.net/20.500.11853/289503   \n",
       "61006           Αδριανούπολη  http://hdl.handle.net/20.500.11853/204539   \n",
       "121057          Άδηλου τόπου  http://hdl.handle.net/20.500.11853/159697   \n",
       "130506          Άδηλου τόπου  http://hdl.handle.net/20.500.11853/243446   \n",
       "132184              Ιωάννινα  http://hdl.handle.net/20.500.11853/249243   \n",
       "125389                 Κρήτη  http://hdl.handle.net/20.500.11853/205260   \n",
       "100386  Θεσπρωτία, Παραμυθιά  http://hdl.handle.net/20.500.11853/288408   \n",
       "126554          Άδηλου τόπου  http://hdl.handle.net/20.500.11853/241944   \n",
       "\n",
       "                              collector  \n",
       "122026                        anonymous  \n",
       "79274   Μιχαηλίδης – Νουάρος, Μιχαήλ Γ.  \n",
       "132993                        anonymous  \n",
       "61006                Κωνσταντινίδης, Γ.  \n",
       "121057                        anonymous  \n",
       "130506                        anonymous  \n",
       "132184                        anonymous  \n",
       "125389                        anonymous  \n",
       "100386           Παυλίδης, Βασίλειος Π.  \n",
       "126554                        anonymous  "
      ]
     },
     "execution_count": 7,
     "metadata": {},
     "output_type": "execute_result"
    }
   ],
   "source": [
    "# text duplicates\n",
    "print(proverbs.text.duplicated().sum())\n",
    "proverbs[proverbs.text.duplicated()].sample(10)"
   ]
  },
  {
   "cell_type": "markdown",
   "metadata": {},
   "source": [
    "* Places follow the pattern `area, locus, locus, ...`; where each `locus` is a more precisely located place.\n",
    "\n",
    "* Having a comma inside the pattern can confuse output (for humans)  in pandas when sets are output as strings.\n",
    "\n",
    "* So we'll substitute `,` by `>`."
   ]
  },
  {
   "cell_type": "code",
   "execution_count": 8,
   "metadata": {},
   "outputs": [
    {
     "data": {
      "text/plain": [
       "0             Κρήτη>Λασίθι>Κεντρί\n",
       "1             Κρήτη>Λασίθι>Κεντρί\n",
       "2             Κρήτη>Λασίθι>Κεντρί\n",
       "3             Κρήτη>Λασίθι>Κεντρί\n",
       "4         Κρήτη>Λασίθι>Τουρτούλοι\n",
       "                   ...           \n",
       "134488             Θράκη>Σαμακόβι\n",
       "134489          Μεσσηνία>Φιλιατρά\n",
       "134490                     Σίφνος\n",
       "134491                    Ήπειρος\n",
       "134492               Ηλεία>Πύργος\n",
       "Name: place, Length: 134106, dtype: object"
      ]
     },
     "execution_count": 8,
     "metadata": {},
     "output_type": "execute_result"
    }
   ],
   "source": [
    "proverbs.place = proverbs.place.str.replace('\\s*,\\s*', '>', regex=True)\n",
    "proverbs.place"
   ]
  },
  {
   "cell_type": "markdown",
   "metadata": {
    "id": "zcinf1nUWxz6"
   },
   "source": [
    "* Climbing up to the highest-level information per location labelled.\n",
    "\n",
    "* In `'Κρήτη>Λασίθι>Κεντρί'`, for example, we only keep the first part of the term, using `split` to tokenise."
   ]
  },
  {
   "cell_type": "code",
   "execution_count": 9,
   "metadata": {
    "colab": {
     "base_uri": "https://localhost:8080/",
     "height": 240
    },
    "id": "BEEH2WOBWayr",
    "outputId": "3cb1adce-9d93-4a75-8e3a-b3397b111442"
   },
   "outputs": [
    {
     "data": {
      "text/html": [
       "<div>\n",
       "<style scoped>\n",
       "    .dataframe tbody tr th:only-of-type {\n",
       "        vertical-align: middle;\n",
       "    }\n",
       "\n",
       "    .dataframe tbody tr th {\n",
       "        vertical-align: top;\n",
       "    }\n",
       "\n",
       "    .dataframe thead th {\n",
       "        text-align: right;\n",
       "    }\n",
       "</style>\n",
       "<table border=\"1\" class=\"dataframe\">\n",
       "  <thead>\n",
       "    <tr style=\"text-align: right;\">\n",
       "      <th></th>\n",
       "      <th>text</th>\n",
       "      <th>place</th>\n",
       "      <th>uri</th>\n",
       "      <th>collector</th>\n",
       "      <th>area</th>\n",
       "    </tr>\n",
       "  </thead>\n",
       "  <tbody>\n",
       "    <tr>\n",
       "      <th>26899</th>\n",
       "      <td>Τον ατσίμπαλον του κάκου τον βλέπεις</td>\n",
       "      <td>Αμοργός</td>\n",
       "      <td>http://hdl.handle.net/20.500.11853/144061</td>\n",
       "      <td>Ιωαννίδης, Εμμανουήλ</td>\n",
       "      <td>Αμοργός</td>\n",
       "    </tr>\n",
       "    <tr>\n",
       "      <th>36962</th>\n",
       "      <td>Ή μικρός μικρός παντρέψου ή μικρός καλοερέψου</td>\n",
       "      <td>Κάλυμνος</td>\n",
       "      <td>http://hdl.handle.net/20.500.11853/258616</td>\n",
       "      <td>Καλαβρός, Μιχαήλ</td>\n",
       "      <td>Κάλυμνος</td>\n",
       "    </tr>\n",
       "    <tr>\n",
       "      <th>66157</th>\n",
       "      <td>Θα γίνουμε Αιγαίο πέλαγος</td>\n",
       "      <td>Αθήνα</td>\n",
       "      <td>http://hdl.handle.net/20.500.11853/245063</td>\n",
       "      <td>Λουκάτος, Δημήτριος Σ.</td>\n",
       "      <td>Αθήνα</td>\n",
       "    </tr>\n",
       "    <tr>\n",
       "      <th>78439</th>\n",
       "      <td>Όποιος έχει τα γένια, ας έχη και τα χτένια</td>\n",
       "      <td>Αργολίδα&gt;Ερμιονίδα&gt;Κρανίδι</td>\n",
       "      <td>http://hdl.handle.net/20.500.11853/182068</td>\n",
       "      <td>Μερεμέτη, Δήμητρα</td>\n",
       "      <td>Αργολίδα</td>\n",
       "    </tr>\n",
       "    <tr>\n",
       "      <th>127968</th>\n",
       "      <td>Αγύριστο κεφάλι σαν το μύλο του Κάστρου</td>\n",
       "      <td>Σίφνος</td>\n",
       "      <td>http://hdl.handle.net/20.500.11853/231686</td>\n",
       "      <td>anonymous</td>\n",
       "      <td>Σίφνος</td>\n",
       "    </tr>\n",
       "    <tr>\n",
       "      <th>18664</th>\n",
       "      <td>Απου περιγελάξη ρίγλα, κώμουλο το παθαίνει</td>\n",
       "      <td>Κρήτη&gt;Ρωγδιά</td>\n",
       "      <td>http://hdl.handle.net/20.500.11853/246487</td>\n",
       "      <td>Ζωγραφάκης, Ιωάννης Ν.</td>\n",
       "      <td>Κρήτη</td>\n",
       "    </tr>\n",
       "    <tr>\n",
       "      <th>97223</th>\n",
       "      <td>Στου κουφού την πόρτα όσο θέλεις βρόντα</td>\n",
       "      <td>Νίσυρος&gt;Νικειά</td>\n",
       "      <td>http://hdl.handle.net/20.500.11853/274606</td>\n",
       "      <td>Παπαμιχαήλ, Άννα Ι.</td>\n",
       "      <td>Νίσυρος</td>\n",
       "    </tr>\n",
       "    <tr>\n",
       "      <th>12996</th>\n",
       "      <td>Πολλού καιρού μελέτημα, μιας ώρας καμωσύνη</td>\n",
       "      <td>Ρόδος</td>\n",
       "      <td>http://hdl.handle.net/20.500.11853/228404</td>\n",
       "      <td>Δρακίδης, Γεράσιμος Δ.</td>\n",
       "      <td>Ρόδος</td>\n",
       "    </tr>\n",
       "    <tr>\n",
       "      <th>26051</th>\n",
       "      <td>Σε μιάν σταλαματιά νερόν να τον εύρη, θα τον π...</td>\n",
       "      <td>Αμοργός</td>\n",
       "      <td>http://hdl.handle.net/20.500.11853/251956</td>\n",
       "      <td>Ιωαννίδης, Εμμανουήλ</td>\n",
       "      <td>Αμοργός</td>\n",
       "    </tr>\n",
       "    <tr>\n",
       "      <th>92132</th>\n",
       "      <td>Καινούργιος κόσκινος, που να τον κρεμάσωμε;</td>\n",
       "      <td>Βόρειος Ήπειρος</td>\n",
       "      <td>http://hdl.handle.net/20.500.11853/267804</td>\n",
       "      <td>Οικονομίδης, Δημήτριος</td>\n",
       "      <td>Βόρειος Ήπειρος</td>\n",
       "    </tr>\n",
       "  </tbody>\n",
       "</table>\n",
       "</div>"
      ],
      "text/plain": [
       "                                                     text   \n",
       "26899                Τον ατσίμπαλον του κάκου τον βλέπεις  \\\n",
       "36962       Ή μικρός μικρός παντρέψου ή μικρός καλοερέψου   \n",
       "66157                           Θα γίνουμε Αιγαίο πέλαγος   \n",
       "78439          Όποιος έχει τα γένια, ας έχη και τα χτένια   \n",
       "127968            Αγύριστο κεφάλι σαν το μύλο του Κάστρου   \n",
       "18664          Απου περιγελάξη ρίγλα, κώμουλο το παθαίνει   \n",
       "97223             Στου κουφού την πόρτα όσο θέλεις βρόντα   \n",
       "12996          Πολλού καιρού μελέτημα, μιας ώρας καμωσύνη   \n",
       "26051   Σε μιάν σταλαματιά νερόν να τον εύρη, θα τον π...   \n",
       "92132         Καινούργιος κόσκινος, που να τον κρεμάσωμε;   \n",
       "\n",
       "                             place                                        uri   \n",
       "26899                      Αμοργός  http://hdl.handle.net/20.500.11853/144061  \\\n",
       "36962                     Κάλυμνος  http://hdl.handle.net/20.500.11853/258616   \n",
       "66157                        Αθήνα  http://hdl.handle.net/20.500.11853/245063   \n",
       "78439   Αργολίδα>Ερμιονίδα>Κρανίδι  http://hdl.handle.net/20.500.11853/182068   \n",
       "127968                      Σίφνος  http://hdl.handle.net/20.500.11853/231686   \n",
       "18664                 Κρήτη>Ρωγδιά  http://hdl.handle.net/20.500.11853/246487   \n",
       "97223               Νίσυρος>Νικειά  http://hdl.handle.net/20.500.11853/274606   \n",
       "12996                        Ρόδος  http://hdl.handle.net/20.500.11853/228404   \n",
       "26051                      Αμοργός  http://hdl.handle.net/20.500.11853/251956   \n",
       "92132              Βόρειος Ήπειρος  http://hdl.handle.net/20.500.11853/267804   \n",
       "\n",
       "                     collector             area  \n",
       "26899     Ιωαννίδης, Εμμανουήλ          Αμοργός  \n",
       "36962         Καλαβρός, Μιχαήλ         Κάλυμνος  \n",
       "66157   Λουκάτος, Δημήτριος Σ.            Αθήνα  \n",
       "78439        Μερεμέτη, Δήμητρα         Αργολίδα  \n",
       "127968               anonymous           Σίφνος  \n",
       "18664   Ζωγραφάκης, Ιωάννης Ν.            Κρήτη  \n",
       "97223      Παπαμιχαήλ, Άννα Ι.          Νίσυρος  \n",
       "12996   Δρακίδης, Γεράσιμος Δ.            Ρόδος  \n",
       "26051     Ιωαννίδης, Εμμανουήλ          Αμοργός  \n",
       "92132   Οικονομίδης, Δημήτριος  Βόρειος Ήπειρος  "
      ]
     },
     "execution_count": 9,
     "metadata": {},
     "output_type": "execute_result"
    }
   ],
   "source": [
    "proverbs[\"area\"] = proverbs.place.map(lambda x: x.split(\">\")[0])\n",
    "proverbs.sample(10)"
   ]
  },
  {
   "cell_type": "markdown",
   "metadata": {
    "id": "d2ZG9Fp1W23u"
   },
   "source": [
    "* One more observation regards proverbs with no information about their location \n"
   ]
  },
  {
   "cell_type": "code",
   "execution_count": 10,
   "metadata": {
    "colab": {
     "base_uri": "https://localhost:8080/"
    },
    "id": "4UZTC6YhWz-V",
    "outputId": "8da29460-ad4e-4e31-8665-26eff4e28b15"
   },
   "outputs": [
    {
     "data": {
      "text/plain": [
       "3698"
      ]
     },
     "execution_count": 10,
     "metadata": {},
     "output_type": "execute_result"
    }
   ],
   "source": [
    "len(proverbs[proverbs.area=='Άδηλου τόπου'].text.unique())"
   ]
  },
  {
   "cell_type": "code",
   "execution_count": 11,
   "metadata": {
    "colab": {
     "base_uri": "https://localhost:8080/"
    },
    "id": "fZNow45pW41x",
    "outputId": "86e68351-51b9-4d1d-f315-d5146fa5408a"
   },
   "outputs": [
    {
     "data": {
      "text/plain": [
       "134"
      ]
     },
     "execution_count": 11,
     "metadata": {},
     "output_type": "execute_result"
    }
   ],
   "source": [
    "locations = proverbs.area.unique()\n",
    "len(locations)"
   ]
  },
  {
   "cell_type": "markdown",
   "metadata": {
    "id": "VKPbE-beXAVQ"
   },
   "source": [
    "* There are 134 unique broad areas registered in the collection. We will find the geographical coordinates of each one.\n",
    "\n",
    "* Using [geopy](https://geopy.readthedocs.io/en/stable/#), which is a Python client for geocoding web services, locating the coordinates (e.g., of addresses, cities, countries) across the globe.\n",
    "\n",
    "* This is already done and saved, but you can repeat this step by geocoding each location in the dataframe with the following code. Adding the country's name in the query improves the accuracy, but geolocation still doesn't work for all places. Hence, some are printed and fixed by hand.  "
   ]
  },
  {
   "cell_type": "code",
   "execution_count": 12,
   "metadata": {
    "cellView": "form",
    "id": "K2ttS9zGW_ze"
   },
   "outputs": [],
   "source": [
    "if not os.path.exists('data/geolocs.csv'):\n",
    "    from geopy.geocoders import Nominatim # import the library\n",
    "    geolocator = Nominatim(user_agent=\"paremia\") # initialise it\n",
    "\n",
    "    geolocs = {}\n",
    "    for loc in locations:\n",
    "        # Avoiding polysemy by including \"Greece\" in the query\n",
    "        location = geolocator.geocode(loc+ \", Ελλάδα\") \n",
    "        if location:\n",
    "            geolocs[loc] = {\"lat\":location.latitude, \"lon\":location.longitude}\n",
    "        else:\n",
    "            print (loc)\n",
    "\n",
    "    # fixing some by hand (Cyprus was mislocated too)\n",
    "    location = geolocator.geocode(\"Cyprus\")\n",
    "    geolocs[\"Κύπρος\"] = {\"lat\":location.latitude, \"lon\":location.longitude}\n",
    "    location = geolocator.geocode(\"Siteia\")\n",
    "    geolocs[\"Ανατολική Κρήτη\"] = {\"lat\":location.latitude, \"lon\":location.longitude}\n",
    "    location = geolocator.geocode(\"Chania\")\n",
    "    geolocs[\"Δυτική Κρήτη\"] = {\"lat\":location.latitude, \"lon\":location.longitude}\n",
    "    location = geolocator.geocode(\"Nafpaktia\")\n",
    "    geolocs[\"Ναυπακτία\"] = {\"lat\":location.latitude, \"lon\":location.longitude}\n",
    "    location = geolocator.geocode(\"Lepenou\")\n",
    "    geolocs[\"Λεπενού Αιτωλοακαρνανίας (επαρχία Βάλτου)\"] = {\"lat\":location.latitude, \"lon\":location.longitude}\n",
    "    location = geolocator.geocode(\"Cappadocia\")\n",
    "    geolocs[\"Καππαδοκία\"] = {\"lat\":location.latitude, \"lon\":location.longitude}\n",
    "    location = geolocator.geocode(\"Imathia\")\n",
    "    geolocs[\"Ημαθία\"] = {\"lat\":location.latitude, \"lon\":location.longitude}\n",
    "    location = geolocator.geocode(\"Boeotia\")\n",
    "    geolocs[\"Βοιωτία\"] = {\"lat\":location.latitude, \"lon\":location.longitude}\n",
    "    location = geolocator.geocode(\"Edirne\")\n",
    "    geolocs[\"Ανατολική Θράκη\"] = {\"lat\":location.latitude, \"lon\":location.longitude}\n",
    "    geolocs[\"Αδριανούπολη\"] = {\"lat\":location.latitude, \"lon\":location.longitude}\n",
    "    location = geolocator.geocode(\"Phthiotis\")\n",
    "    geolocs[\"Φθιώτιδα\"] = {\"lat\":location.latitude, \"lon\":location.longitude}\n",
    "    location = geolocator.geocode(\"Andritsaina\")\n",
    "    geolocs[\"Ανδρίτσαινα Ολυμπίου\"] = {\"lat\":location.latitude, \"lon\":location.longitude}\n",
    "    location = geolocator.geocode(\"Dardanelles Strait\")\n",
    "    geolocs[\"Δαρδανέλλια (Ελλήσποντος)\"] = {\"lat\":location.latitude, \"lon\":location.longitude}\n",
    "    location = geolocator.geocode(\"Central Greece\")\n",
    "    geolocs[\"Στερεά Ελλάδα\"] = {\"lat\":location.latitude, \"lon\":location.longitude}\n",
    "    location = geolocator.geocode(\"Areopoli\")\n",
    "    geolocs[\"Αερόπολη\"] = {\"lat\":location.latitude, \"lon\":location.longitude}\n",
    "    location = geolocator.geocode(\"Trifylia\")\n",
    "    geolocs[\"Τριφυλία\"] = {\"lat\":location.latitude, \"lon\":location.longitude}\n",
    "    location = geolocator.geocode(\"Phocis\")\n",
    "    geolocs[\"Φωκίδα\"] = {\"lat\":location.latitude, \"lon\":location.longitude}\n",
    "    location = geolocator.geocode(\"West Mani\")\n",
    "    geolocs[\"Δυτική Μάνη\"] = {\"lat\":location.latitude, \"lon\":location.longitude}\n",
    "\n",
    "    pd.DataFrame(geolocs).to_csv(\"data/geolocs.csv\", index=False)"
   ]
  },
  {
   "cell_type": "code",
   "execution_count": 13,
   "metadata": {
    "colab": {
     "base_uri": "https://localhost:8080/",
     "height": 223
    },
    "id": "-ysvQDgbXLak",
    "outputId": "fb236e8d-1c02-4783-d8d0-fbd50a946014"
   },
   "outputs": [
    {
     "data": {
      "text/html": [
       "<div>\n",
       "<style scoped>\n",
       "    .dataframe tbody tr th:only-of-type {\n",
       "        vertical-align: middle;\n",
       "    }\n",
       "\n",
       "    .dataframe tbody tr th {\n",
       "        vertical-align: top;\n",
       "    }\n",
       "\n",
       "    .dataframe thead th {\n",
       "        text-align: right;\n",
       "    }\n",
       "</style>\n",
       "<table border=\"1\" class=\"dataframe\">\n",
       "  <thead>\n",
       "    <tr style=\"text-align: right;\">\n",
       "      <th></th>\n",
       "      <th>Κρήτη</th>\n",
       "      <th>Σίφνος</th>\n",
       "      <th>Σέρρες</th>\n",
       "      <th>Πήλιο</th>\n",
       "      <th>Ήπειρος</th>\n",
       "      <th>Λευκάδα</th>\n",
       "      <th>Αχαΐα</th>\n",
       "      <th>Εύβοια</th>\n",
       "      <th>Μακεδονία</th>\n",
       "      <th>Κύπρος</th>\n",
       "      <th>...</th>\n",
       "      <th>Ανατολική Θράκη</th>\n",
       "      <th>Αδριανούπολη</th>\n",
       "      <th>Φθιώτιδα</th>\n",
       "      <th>Ανδρίτσαινα Ολυμπίου</th>\n",
       "      <th>Δαρδανέλλια (Ελλήσποντος)</th>\n",
       "      <th>Στερεά Ελλάδα</th>\n",
       "      <th>Αερόπολη</th>\n",
       "      <th>Τριφυλία</th>\n",
       "      <th>Φωκίδα</th>\n",
       "      <th>Δυτική Μάνη</th>\n",
       "    </tr>\n",
       "  </thead>\n",
       "  <tbody>\n",
       "    <tr>\n",
       "      <th>lat</th>\n",
       "      <td>35.308495</td>\n",
       "      <td>36.971401</td>\n",
       "      <td>41.091071</td>\n",
       "      <td>39.365088</td>\n",
       "      <td>37.957433</td>\n",
       "      <td>38.706573</td>\n",
       "      <td>38.069275</td>\n",
       "      <td>38.494172</td>\n",
       "      <td>40.686029</td>\n",
       "      <td>34.982302</td>\n",
       "      <td>...</td>\n",
       "      <td>41.675933</td>\n",
       "      <td>41.675933</td>\n",
       "      <td>38.88734</td>\n",
       "      <td>37.483836</td>\n",
       "      <td>40.337606</td>\n",
       "      <td>38.562460</td>\n",
       "      <td>36.665918</td>\n",
       "      <td>37.195013</td>\n",
       "      <td>38.499868</td>\n",
       "      <td>22.581762</td>\n",
       "    </tr>\n",
       "    <tr>\n",
       "      <th>lon</th>\n",
       "      <td>24.463342</td>\n",
       "      <td>24.708110</td>\n",
       "      <td>23.549803</td>\n",
       "      <td>23.135561</td>\n",
       "      <td>23.710852</td>\n",
       "      <td>20.641709</td>\n",
       "      <td>21.872730</td>\n",
       "      <td>23.911084</td>\n",
       "      <td>23.693390</td>\n",
       "      <td>33.145128</td>\n",
       "      <td>...</td>\n",
       "      <td>26.558722</td>\n",
       "      <td>26.558722</td>\n",
       "      <td>22.36803</td>\n",
       "      <td>21.905533</td>\n",
       "      <td>26.640821</td>\n",
       "      <td>23.161853</td>\n",
       "      <td>22.381635</td>\n",
       "      <td>21.703732</td>\n",
       "      <td>22.248780</td>\n",
       "      <td>88.399181</td>\n",
       "    </tr>\n",
       "  </tbody>\n",
       "</table>\n",
       "<p>2 rows × 130 columns</p>\n",
       "</div>"
      ],
      "text/plain": [
       "         Κρήτη     Σίφνος     Σέρρες      Πήλιο    Ήπειρος    Λευκάδα   \n",
       "lat  35.308495  36.971401  41.091071  39.365088  37.957433  38.706573  \\\n",
       "lon  24.463342  24.708110  23.549803  23.135561  23.710852  20.641709   \n",
       "\n",
       "         Αχαΐα     Εύβοια  Μακεδονία     Κύπρος  ...  Ανατολική Θράκη   \n",
       "lat  38.069275  38.494172  40.686029  34.982302  ...        41.675933  \\\n",
       "lon  21.872730  23.911084  23.693390  33.145128  ...        26.558722   \n",
       "\n",
       "     Αδριανούπολη  Φθιώτιδα  Ανδρίτσαινα Ολυμπίου  Δαρδανέλλια (Ελλήσποντος)   \n",
       "lat     41.675933  38.88734             37.483836                  40.337606  \\\n",
       "lon     26.558722  22.36803             21.905533                  26.640821   \n",
       "\n",
       "     Στερεά Ελλάδα   Αερόπολη   Τριφυλία     Φωκίδα  Δυτική Μάνη  \n",
       "lat      38.562460  36.665918  37.195013  38.499868    22.581762  \n",
       "lon      23.161853  22.381635  21.703732  22.248780    88.399181  \n",
       "\n",
       "[2 rows x 130 columns]"
      ]
     },
     "execution_count": 13,
     "metadata": {},
     "output_type": "execute_result"
    }
   ],
   "source": [
    "geolocs = pd.read_csv(\"data/geolocs.csv\") \n",
    "geolocs.index=[\"lat\", \"lon\"]\n",
    "geolocs"
   ]
  },
  {
   "cell_type": "markdown",
   "metadata": {
    "id": "3UWXO9z-XWem"
   },
   "source": [
    "* Now we update the corpus with the mined information."
   ]
  },
  {
   "cell_type": "code",
   "execution_count": 14,
   "metadata": {
    "colab": {
     "base_uri": "https://localhost:8080/"
    },
    "id": "SKwiYxhrXRFI",
    "outputId": "0f55c7f1-20d3-4718-e3b3-07b34feae025"
   },
   "outputs": [
    {
     "data": {
      "text/plain": [
       "(125222, 7)"
      ]
     },
     "execution_count": 14,
     "metadata": {},
     "output_type": "execute_result"
    }
   ],
   "source": [
    "geolocs = geolocs.to_dict()\n",
    "proverbs['lat'] = proverbs.area.map(lambda x: geolocs[x][\"lat\"] if x in geolocs else None)\n",
    "proverbs['lon'] = proverbs.area.map(lambda x: geolocs[x][\"lon\"] if x in geolocs else None)\n",
    "proverbs[proverbs.lon.notna()].shape"
   ]
  },
  {
   "cell_type": "markdown",
   "metadata": {
    "id": "y2qe3xjwXaDE"
   },
   "source": [
    "## The anonymous collector\n",
    "* Not all proverbs were collected by named individuals."
   ]
  },
  {
   "cell_type": "code",
   "execution_count": 15,
   "metadata": {
    "colab": {
     "base_uri": "https://localhost:8080/"
    },
    "id": "pgeiZFrhXWxi",
    "outputId": "9ef611b5-adae-4974-9130-7e7029f90ac2"
   },
   "outputs": [
    {
     "name": "stdout",
     "output_type": "stream",
     "text": [
      "14835 proverbs from the anonymous collectors\n"
     ]
    }
   ],
   "source": [
    "anonymous = proverbs[proverbs.collector==\"anonymous\"]\n",
    "named = proverbs[proverbs.collector!=\"anonymous\"]\n",
    "print(f'{anonymous.shape[0]} proverbs from the anonymous collectors')"
   ]
  },
  {
   "cell_type": "markdown",
   "metadata": {
    "id": "FZ2HJaAjXeLl"
   },
   "source": [
    "## Duplicates\n",
    "\n",
    "* Focusing on proverbs shared among locations.\n",
    "\n",
    "* Using ones by named collectors.\n",
    "\n",
    "* While the areas of the duplicates collected by anonymous individuals are not many."
   ]
  },
  {
   "cell_type": "code",
   "execution_count": 16,
   "metadata": {
    "colab": {
     "base_uri": "https://localhost:8080/"
    },
    "id": "_gYY9HlrXcVq",
    "outputId": "f397851e-a70d-494d-d789-e5c0a6fb3284"
   },
   "outputs": [
    {
     "name": "stdout",
     "output_type": "stream",
     "text": [
      "Only 10861 duplicate proverbs from named collectors\n",
      "while 13868 are from the anonymous collector\n",
      "Sum is 24729 out of 24836 total duplicates\n",
      "Diff is 107\n"
     ]
    }
   ],
   "source": [
    "num_named_duplicates = named.text.duplicated().sum()\n",
    "num_anonymous_duplicates = anonymous.text.duplicated().sum()\n",
    "num_sum_duplicates = num_named_duplicates + num_anonymous_duplicates\n",
    "num_total_duplicates = proverbs.text.duplicated().sum()\n",
    "print(f'Only {num_named_duplicates} duplicate proverbs from named collectors')\n",
    "print(f'while {num_anonymous_duplicates} are from the anonymous collector')\n",
    "print(f'Sum is {num_sum_duplicates} out of {num_total_duplicates} total duplicates')\n",
    "print(f'Diff is {num_total_duplicates - num_sum_duplicates}')"
   ]
  },
  {
   "cell_type": "markdown",
   "metadata": {
    "id": "py2bYBFuXieb"
   },
   "source": [
    "* The difference above between the total duplicates and the sum of the named and the anonymous duplicates is explained by the existence of duplicates between named and anonymous."
   ]
  },
  {
   "cell_type": "code",
   "execution_count": 17,
   "metadata": {
    "colab": {
     "base_uri": "https://localhost:8080/"
    },
    "id": "Oc00Q9sxXgtG",
    "outputId": "eb7bfc4a-6c4a-46a5-dc06-aeb031961851"
   },
   "outputs": [
    {
     "data": {
      "text/plain": [
       "(107,)"
      ]
     },
     "execution_count": 17,
     "metadata": {},
     "output_type": "execute_result"
    }
   ],
   "source": [
    "pd.merge(named, anonymous, how='inner', on='text').text.unique().shape"
   ]
  },
  {
   "cell_type": "markdown",
   "metadata": {
    "id": "vL8JoAj0Xmms"
   },
   "source": [
    "* The duplicates from the named collectors concern 104 `area`s."
   ]
  },
  {
   "cell_type": "code",
   "execution_count": 18,
   "metadata": {
    "colab": {
     "base_uri": "https://localhost:8080/"
    },
    "id": "pIvgAMDCXk0y",
    "outputId": "981145eb-cc4d-4cc3-a1cc-407bf881b8a7"
   },
   "outputs": [
    {
     "name": "stdout",
     "output_type": "stream",
     "text": [
      "['Εύβοια' 'Λέσβος' 'Ήπειρος' 'Ρούμελη' 'Κοζάνη' 'Αρκαδία' 'Ίμβρος'\n",
      " 'Φιλιππούπολη' 'Αττική' 'Πόντος' 'Δαρδανέλλια (Ελλήσποντος)' 'Θράκη'\n",
      " 'Μακεδονία' 'Κεφαλληνία' 'Μήλος' 'Χίος' 'Μικρά Ασία' 'Κρήτη' 'Κίμωλος'\n",
      " 'Άνδρος' 'Λέρος' 'Ρόδος' 'Κύπρος' 'Άρτα' 'Πρέβεζα' 'Παξοί' 'Καρδίτσα'\n",
      " 'Άδηλου τόπου' 'Καστελλόριζο (Μεγίστη)' 'Αθήνα' 'Μεσσηνία' 'Λακωνία'\n",
      " 'Σίφνος' 'Ηλεία' 'Σύμη' 'Θήρα (Σαντορίνη)' 'Κως' 'Σμύρνη' 'Κάλυμνος'\n",
      " 'Νάξος' 'Αδριανούπολη' 'Ευρυτανία' 'Κέρκυρα' 'Αμοργός' 'Θεσπρωτία'\n",
      " 'Σάμος' 'Καστοριά' 'Βοιωτία' 'Επτάνησος' 'Νίσυρος' 'Αχαΐα' 'Κορινθία'\n",
      " 'Τήλος' 'Πέλλα' 'Λάρισα' 'Κύθηρα' 'Ιωάννινα' 'Ημαθία' 'Φωκίδα'\n",
      " 'Πελοπόννησος' 'Σύρος' 'Μάνη' 'Σκύρος' 'Αιτωλία' 'Κύθνος' 'Τήνος' 'Κέα'\n",
      " 'Άγιον Όρος' 'Πάρος' 'Θεσσαλία' 'Μάλγαρα' 'Ανατολική Κρήτη' 'Μαγνησία'\n",
      " 'Σέριφος' 'Ιθάκη' 'Λευκάδα' 'Αργολίδα' 'Καππαδοκία' 'Ακαρνανία'\n",
      " 'Ζάκυνθος' 'Ικαρία' 'Φθιώτιδα' 'Τρίκαλα' 'Κάρπαθος' 'Λήμνος' 'Μπλάτση'\n",
      " 'Κάσος' 'Αιτωλοακαρνανία' 'Ανάφη' 'Κόρινθος' 'Στερεά Ελλάδα' 'Θάσος'\n",
      " 'Αστυπάλαια' 'Βόρειος Ήπειρος' 'Τριφυλία' 'Ολυμπία' 'Ελασσόνα' 'Σέρρες'\n",
      " 'Ανδρίτσαινα Ολυμπίου' 'Παρνασσός' 'Ανατολική Θράκη' 'Νάουσα'\n",
      " 'Θεσσαλονίκη' 'Λαμία']\n"
     ]
    },
    {
     "data": {
      "text/plain": [
       "104"
      ]
     },
     "execution_count": 18,
     "metadata": {},
     "output_type": "execute_result"
    }
   ],
   "source": [
    "unique_areas = named[named.text.duplicated()].area.unique()\n",
    "print(unique_areas)\n",
    "unique_areas.shape[0]"
   ]
  },
  {
   "cell_type": "markdown",
   "metadata": {
    "id": "B3ePB1sDXquH"
   },
   "source": [
    "* We group by `text` the `named` duplicates , to get duplicates using items by named collectors."
   ]
  },
  {
   "cell_type": "code",
   "execution_count": 19,
   "metadata": {
    "colab": {
     "base_uri": "https://localhost:8080/",
     "height": 175
    },
    "id": "ggPTHVjYXogl",
    "outputId": "353c4858-d14d-48ff-f960-495f5dbe3c49"
   },
   "outputs": [
    {
     "data": {
      "text/html": [
       "<div>\n",
       "<style scoped>\n",
       "    .dataframe tbody tr th:only-of-type {\n",
       "        vertical-align: middle;\n",
       "    }\n",
       "\n",
       "    .dataframe tbody tr th {\n",
       "        vertical-align: top;\n",
       "    }\n",
       "\n",
       "    .dataframe thead th {\n",
       "        text-align: right;\n",
       "    }\n",
       "</style>\n",
       "<table border=\"1\" class=\"dataframe\">\n",
       "  <thead>\n",
       "    <tr style=\"text-align: right;\">\n",
       "      <th></th>\n",
       "      <th>place</th>\n",
       "      <th>place_num</th>\n",
       "    </tr>\n",
       "    <tr>\n",
       "      <th>text</th>\n",
       "      <th></th>\n",
       "      <th></th>\n",
       "    </tr>\n",
       "  </thead>\n",
       "  <tbody>\n",
       "    <tr>\n",
       "      <th>Η γλώσσα κόκκαλα δεν έχει και κόκκαλα τσακίζει</th>\n",
       "      <td>{Μικρά Ασία&gt;Σινώπη, Κρήτη&gt;Λασίθι&gt;Άγιος Γεώργιο...</td>\n",
       "      <td>45</td>\n",
       "    </tr>\n",
       "    <tr>\n",
       "      <th>Ανεμομαζώματα, διαβολοσκορπίσματα</th>\n",
       "      <td>{Αμοργός, Αργολίδα&gt;Ερμιονίδα&gt;Κρανίδι, Κοζάνη&gt;Β...</td>\n",
       "      <td>28</td>\n",
       "    </tr>\n",
       "    <tr>\n",
       "      <th>Θεωρία επισκόπου και καρδιά μυλωνά</th>\n",
       "      <td>{Θράκη&gt;Σαράντα Εκκλησίες, Θράκη&gt;Περιστερά, Φιλ...</td>\n",
       "      <td>27</td>\n",
       "    </tr>\n",
       "    <tr>\n",
       "      <th>Στου κουφού την πόρτα όσο θέλεις βρόντα</th>\n",
       "      <td>{Φιλιππούπολη, Κοζάνη&gt;Βόϊο&gt;Διαλεκτό, Κρήτη&gt;Ρέθ...</td>\n",
       "      <td>26</td>\n",
       "    </tr>\n",
       "    <tr>\n",
       "      <th>Θέρος, τρύγος, πόλεμος</th>\n",
       "      <td>{Κορινθία&gt;Τρίκαλα, Πέλλα&gt;Γιαννιτσα&gt;Παλαίφυτο, ...</td>\n",
       "      <td>22</td>\n",
       "    </tr>\n",
       "    <tr>\n",
       "      <th>Των φρονίμων τα παιδιά πριν πεινασουν μαγειρεύουν</th>\n",
       "      <td>{Κορινθία&gt;Τρίκαλα, Ρόδος, Καρδίτσα, Νίσυρος&gt;Μα...</td>\n",
       "      <td>20</td>\n",
       "    </tr>\n",
       "    <tr>\n",
       "      <th>Το γουδί το γουδοχέρι</th>\n",
       "      <td>{Σύμη, Λακωνία&gt;Σπάρτη, Ήπειρος&gt;Κόνιτσα&gt;Βούρμπι...</td>\n",
       "      <td>19</td>\n",
       "    </tr>\n",
       "    <tr>\n",
       "      <th>Το γοργόν και χάριν έχει</th>\n",
       "      <td>{Αμοργός, Δαρδανέλλια (Ελλήσποντος), Εύβοια&gt;Κύ...</td>\n",
       "      <td>17</td>\n",
       "    </tr>\n",
       "    <tr>\n",
       "      <th>Αλλού τ' όνειρο κι' αλλού το θάμα</th>\n",
       "      <td>{Μήλος, Μάνη, Μικρά Ασία&gt;Βιθυνία&gt;Κατιρλί, Εύβο...</td>\n",
       "      <td>17</td>\n",
       "    </tr>\n",
       "    <tr>\n",
       "      <th>Καλομελέτα κι έρχεται</th>\n",
       "      <td>{Ιωάννινα&gt;Μέγα Περιστέρι, Μικρά Ασία&gt;Κυδωνία, ...</td>\n",
       "      <td>17</td>\n",
       "    </tr>\n",
       "  </tbody>\n",
       "</table>\n",
       "</div>"
      ],
      "text/plain": [
       "                                                                                               place   \n",
       "text                                                                                                   \n",
       "Η γλώσσα κόκκαλα δεν έχει και κόκκαλα τσακίζει     {Μικρά Ασία>Σινώπη, Κρήτη>Λασίθι>Άγιος Γεώργιο...  \\\n",
       "Ανεμομαζώματα, διαβολοσκορπίσματα                  {Αμοργός, Αργολίδα>Ερμιονίδα>Κρανίδι, Κοζάνη>Β...   \n",
       "Θεωρία επισκόπου και καρδιά μυλωνά                 {Θράκη>Σαράντα Εκκλησίες, Θράκη>Περιστερά, Φιλ...   \n",
       "Στου κουφού την πόρτα όσο θέλεις βρόντα            {Φιλιππούπολη, Κοζάνη>Βόϊο>Διαλεκτό, Κρήτη>Ρέθ...   \n",
       "Θέρος, τρύγος, πόλεμος                             {Κορινθία>Τρίκαλα, Πέλλα>Γιαννιτσα>Παλαίφυτο, ...   \n",
       "Των φρονίμων τα παιδιά πριν πεινασουν μαγειρεύουν  {Κορινθία>Τρίκαλα, Ρόδος, Καρδίτσα, Νίσυρος>Μα...   \n",
       "Το γουδί το γουδοχέρι                              {Σύμη, Λακωνία>Σπάρτη, Ήπειρος>Κόνιτσα>Βούρμπι...   \n",
       "Το γοργόν και χάριν έχει                           {Αμοργός, Δαρδανέλλια (Ελλήσποντος), Εύβοια>Κύ...   \n",
       "Αλλού τ' όνειρο κι' αλλού το θάμα                  {Μήλος, Μάνη, Μικρά Ασία>Βιθυνία>Κατιρλί, Εύβο...   \n",
       "Καλομελέτα κι έρχεται                              {Ιωάννινα>Μέγα Περιστέρι, Μικρά Ασία>Κυδωνία, ...   \n",
       "\n",
       "                                                   place_num  \n",
       "text                                                          \n",
       "Η γλώσσα κόκκαλα δεν έχει και κόκκαλα τσακίζει            45  \n",
       "Ανεμομαζώματα, διαβολοσκορπίσματα                         28  \n",
       "Θεωρία επισκόπου και καρδιά μυλωνά                        27  \n",
       "Στου κουφού την πόρτα όσο θέλεις βρόντα                   26  \n",
       "Θέρος, τρύγος, πόλεμος                                    22  \n",
       "Των φρονίμων τα παιδιά πριν πεινασουν μαγειρεύουν         20  \n",
       "Το γουδί το γουδοχέρι                                     19  \n",
       "Το γοργόν και χάριν έχει                                  17  \n",
       "Αλλού τ' όνειρο κι' αλλού το θάμα                         17  \n",
       "Καλομελέτα κι έρχεται                                     17  "
      ]
     },
     "execution_count": 19,
     "metadata": {},
     "output_type": "execute_result"
    }
   ],
   "source": [
    "grouping = named[named.lat.notna() & named.lon.notna()].groupby(\"text\")\n",
    "duplicates = pd.DataFrame({\"place\": grouping.place.agg(set)})\n",
    "duplicates[\"place_num\"] = duplicates.place.agg(len)\n",
    "duplicates.sort_values(by=\"place_num\", ascending=False)[:10]"
   ]
  },
  {
   "cell_type": "markdown",
   "metadata": {
    "id": "WkPATGdUXt_C"
   },
   "source": [
    "* As previously, we'll get the broader location, which we'll call `area`."
   ]
  },
  {
   "cell_type": "code",
   "execution_count": 20,
   "metadata": {
    "colab": {
     "base_uri": "https://localhost:8080/",
     "height": 271
    },
    "id": "KXucME-uXsQO",
    "outputId": "e9c1f5f1-da15-485b-ff64-825e8b3422e0"
   },
   "outputs": [
    {
     "data": {
      "text/html": [
       "<div>\n",
       "<style scoped>\n",
       "    .dataframe tbody tr th:only-of-type {\n",
       "        vertical-align: middle;\n",
       "    }\n",
       "\n",
       "    .dataframe tbody tr th {\n",
       "        vertical-align: top;\n",
       "    }\n",
       "\n",
       "    .dataframe thead th {\n",
       "        text-align: right;\n",
       "    }\n",
       "</style>\n",
       "<table border=\"1\" class=\"dataframe\">\n",
       "  <thead>\n",
       "    <tr style=\"text-align: right;\">\n",
       "      <th></th>\n",
       "      <th>place</th>\n",
       "      <th>place_num</th>\n",
       "      <th>area</th>\n",
       "      <th>area_num</th>\n",
       "    </tr>\n",
       "    <tr>\n",
       "      <th>text</th>\n",
       "      <th></th>\n",
       "      <th></th>\n",
       "      <th></th>\n",
       "      <th></th>\n",
       "    </tr>\n",
       "  </thead>\n",
       "  <tbody>\n",
       "    <tr>\n",
       "      <th>Η γλώσσα κόκκαλα δεν έχει και κόκκαλα τσακίζει</th>\n",
       "      <td>{Μικρά Ασία&gt;Σινώπη, Κρήτη&gt;Λασίθι&gt;Άγιος Γεώργιο...</td>\n",
       "      <td>45</td>\n",
       "      <td>{Ημαθία, Φιλιππούπολη, Καστοριά, Νάξος, Ρούμελ...</td>\n",
       "      <td>23</td>\n",
       "    </tr>\n",
       "    <tr>\n",
       "      <th>Στου κουφού την πόρτα όσο θέλεις βρόντα</th>\n",
       "      <td>{Φιλιππούπολη, Κοζάνη&gt;Βόϊο&gt;Διαλεκτό, Κρήτη&gt;Ρέθ...</td>\n",
       "      <td>26</td>\n",
       "      <td>{Φιλιππούπολη, Φωκίδα, Καστοριά, Νάξος, Ρούμελ...</td>\n",
       "      <td>20</td>\n",
       "    </tr>\n",
       "    <tr>\n",
       "      <th>Ανεμομαζώματα, διαβολοσκορπίσματα</th>\n",
       "      <td>{Αμοργός, Αργολίδα&gt;Ερμιονίδα&gt;Κρανίδι, Κοζάνη&gt;Β...</td>\n",
       "      <td>28</td>\n",
       "      <td>{Αμοργός, Δαρδανέλλια (Ελλήσποντος), Τήλος, Μα...</td>\n",
       "      <td>18</td>\n",
       "    </tr>\n",
       "    <tr>\n",
       "      <th>Θεωρία επισκόπου και καρδιά μυλωνά</th>\n",
       "      <td>{Θράκη&gt;Σαράντα Εκκλησίες, Θράκη&gt;Περιστερά, Φιλ...</td>\n",
       "      <td>27</td>\n",
       "      <td>{Δαρδανέλλια (Ελλήσποντος), Κύπρος, Τήλος, Ιωά...</td>\n",
       "      <td>17</td>\n",
       "    </tr>\n",
       "    <tr>\n",
       "      <th>Το γοργόν και χάριν έχει</th>\n",
       "      <td>{Αμοργός, Δαρδανέλλια (Ελλήσποντος), Εύβοια&gt;Κύ...</td>\n",
       "      <td>17</td>\n",
       "      <td>{Αμοργός, Δαρδανέλλια (Ελλήσποντος), Ρόδος, Κρ...</td>\n",
       "      <td>16</td>\n",
       "    </tr>\n",
       "    <tr>\n",
       "      <th>Των φρονίμων τα παιδιά πριν πεινασουν μαγειρεύουν</th>\n",
       "      <td>{Κορινθία&gt;Τρίκαλα, Ρόδος, Καρδίτσα, Νίσυρος&gt;Μα...</td>\n",
       "      <td>20</td>\n",
       "      <td>{Νίσυρος, Μακεδονία, Λακωνία, Ρόδος, Κρήτη, Αχ...</td>\n",
       "      <td>16</td>\n",
       "    </tr>\n",
       "    <tr>\n",
       "      <th>Θέρος, τρύγος, πόλεμος</th>\n",
       "      <td>{Κορινθία&gt;Τρίκαλα, Πέλλα&gt;Γιαννιτσα&gt;Παλαίφυτο, ...</td>\n",
       "      <td>22</td>\n",
       "      <td>{Πέλλα, Επτάνησος, Μακεδονία, Τριφυλία, Αχαΐα,...</td>\n",
       "      <td>16</td>\n",
       "    </tr>\n",
       "    <tr>\n",
       "      <th>Το γουδί το γουδοχέρι</th>\n",
       "      <td>{Σύμη, Λακωνία&gt;Σπάρτη, Ήπειρος&gt;Κόνιτσα&gt;Βούρμπι...</td>\n",
       "      <td>19</td>\n",
       "      <td>{Θήρα (Σαντορίνη), Λακωνία, Τριφυλία, Πόντος, ...</td>\n",
       "      <td>16</td>\n",
       "    </tr>\n",
       "    <tr>\n",
       "      <th>Καλομελέτα κι έρχεται</th>\n",
       "      <td>{Ιωάννινα&gt;Μέγα Περιστέρι, Μικρά Ασία&gt;Κυδωνία, ...</td>\n",
       "      <td>17</td>\n",
       "      <td>{Ιωάννινα, Μακεδονία, Ρόδος, Κρήτη, Καστελλόρι...</td>\n",
       "      <td>15</td>\n",
       "    </tr>\n",
       "    <tr>\n",
       "      <th>Κοντός ψαλμός αλληλούϊα</th>\n",
       "      <td>{Κύπρος, Ιωάννινα, Μάνη, Ιωάννινα&gt;Νεγάδες, Κρή...</td>\n",
       "      <td>16</td>\n",
       "      <td>{Μάνη, Κύπρος, Ιωάννινα, Ημαθία, Τριφυλία, Κρή...</td>\n",
       "      <td>14</td>\n",
       "    </tr>\n",
       "  </tbody>\n",
       "</table>\n",
       "</div>"
      ],
      "text/plain": [
       "                                                                                               place   \n",
       "text                                                                                                   \n",
       "Η γλώσσα κόκκαλα δεν έχει και κόκκαλα τσακίζει     {Μικρά Ασία>Σινώπη, Κρήτη>Λασίθι>Άγιος Γεώργιο...  \\\n",
       "Στου κουφού την πόρτα όσο θέλεις βρόντα            {Φιλιππούπολη, Κοζάνη>Βόϊο>Διαλεκτό, Κρήτη>Ρέθ...   \n",
       "Ανεμομαζώματα, διαβολοσκορπίσματα                  {Αμοργός, Αργολίδα>Ερμιονίδα>Κρανίδι, Κοζάνη>Β...   \n",
       "Θεωρία επισκόπου και καρδιά μυλωνά                 {Θράκη>Σαράντα Εκκλησίες, Θράκη>Περιστερά, Φιλ...   \n",
       "Το γοργόν και χάριν έχει                           {Αμοργός, Δαρδανέλλια (Ελλήσποντος), Εύβοια>Κύ...   \n",
       "Των φρονίμων τα παιδιά πριν πεινασουν μαγειρεύουν  {Κορινθία>Τρίκαλα, Ρόδος, Καρδίτσα, Νίσυρος>Μα...   \n",
       "Θέρος, τρύγος, πόλεμος                             {Κορινθία>Τρίκαλα, Πέλλα>Γιαννιτσα>Παλαίφυτο, ...   \n",
       "Το γουδί το γουδοχέρι                              {Σύμη, Λακωνία>Σπάρτη, Ήπειρος>Κόνιτσα>Βούρμπι...   \n",
       "Καλομελέτα κι έρχεται                              {Ιωάννινα>Μέγα Περιστέρι, Μικρά Ασία>Κυδωνία, ...   \n",
       "Κοντός ψαλμός αλληλούϊα                            {Κύπρος, Ιωάννινα, Μάνη, Ιωάννινα>Νεγάδες, Κρή...   \n",
       "\n",
       "                                                   place_num   \n",
       "text                                                           \n",
       "Η γλώσσα κόκκαλα δεν έχει και κόκκαλα τσακίζει            45  \\\n",
       "Στου κουφού την πόρτα όσο θέλεις βρόντα                   26   \n",
       "Ανεμομαζώματα, διαβολοσκορπίσματα                         28   \n",
       "Θεωρία επισκόπου και καρδιά μυλωνά                        27   \n",
       "Το γοργόν και χάριν έχει                                  17   \n",
       "Των φρονίμων τα παιδιά πριν πεινασουν μαγειρεύουν         20   \n",
       "Θέρος, τρύγος, πόλεμος                                    22   \n",
       "Το γουδί το γουδοχέρι                                     19   \n",
       "Καλομελέτα κι έρχεται                                     17   \n",
       "Κοντός ψαλμός αλληλούϊα                                   16   \n",
       "\n",
       "                                                                                                area   \n",
       "text                                                                                                   \n",
       "Η γλώσσα κόκκαλα δεν έχει και κόκκαλα τσακίζει     {Ημαθία, Φιλιππούπολη, Καστοριά, Νάξος, Ρούμελ...  \\\n",
       "Στου κουφού την πόρτα όσο θέλεις βρόντα            {Φιλιππούπολη, Φωκίδα, Καστοριά, Νάξος, Ρούμελ...   \n",
       "Ανεμομαζώματα, διαβολοσκορπίσματα                  {Αμοργός, Δαρδανέλλια (Ελλήσποντος), Τήλος, Μα...   \n",
       "Θεωρία επισκόπου και καρδιά μυλωνά                 {Δαρδανέλλια (Ελλήσποντος), Κύπρος, Τήλος, Ιωά...   \n",
       "Το γοργόν και χάριν έχει                           {Αμοργός, Δαρδανέλλια (Ελλήσποντος), Ρόδος, Κρ...   \n",
       "Των φρονίμων τα παιδιά πριν πεινασουν μαγειρεύουν  {Νίσυρος, Μακεδονία, Λακωνία, Ρόδος, Κρήτη, Αχ...   \n",
       "Θέρος, τρύγος, πόλεμος                             {Πέλλα, Επτάνησος, Μακεδονία, Τριφυλία, Αχαΐα,...   \n",
       "Το γουδί το γουδοχέρι                              {Θήρα (Σαντορίνη), Λακωνία, Τριφυλία, Πόντος, ...   \n",
       "Καλομελέτα κι έρχεται                              {Ιωάννινα, Μακεδονία, Ρόδος, Κρήτη, Καστελλόρι...   \n",
       "Κοντός ψαλμός αλληλούϊα                            {Μάνη, Κύπρος, Ιωάννινα, Ημαθία, Τριφυλία, Κρή...   \n",
       "\n",
       "                                                   area_num  \n",
       "text                                                         \n",
       "Η γλώσσα κόκκαλα δεν έχει και κόκκαλα τσακίζει           23  \n",
       "Στου κουφού την πόρτα όσο θέλεις βρόντα                  20  \n",
       "Ανεμομαζώματα, διαβολοσκορπίσματα                        18  \n",
       "Θεωρία επισκόπου και καρδιά μυλωνά                       17  \n",
       "Το γοργόν και χάριν έχει                                 16  \n",
       "Των φρονίμων τα παιδιά πριν πεινασουν μαγειρεύουν        16  \n",
       "Θέρος, τρύγος, πόλεμος                                   16  \n",
       "Το γουδί το γουδοχέρι                                    16  \n",
       "Καλομελέτα κι έρχεται                                    15  \n",
       "Κοντός ψαλμός αλληλούϊα                                  14  "
      ]
     },
     "execution_count": 20,
     "metadata": {},
     "output_type": "execute_result"
    }
   ],
   "source": [
    "duplicates[\"area\"] = duplicates.place.map(lambda x: {i.split(\">\")[0] for i in x})\n",
    "duplicates[\"area_num\"] = duplicates.area.agg(len)\n",
    "duplicates.sort_values(by=\"area_num\", ascending=False)[:10]"
   ]
  },
  {
   "cell_type": "code",
   "execution_count": 21,
   "metadata": {
    "colab": {
     "base_uri": "https://localhost:8080/"
    },
    "id": "dFzXinswXvkI",
    "outputId": "e5cf0dbc-fc6b-410d-fcb0-3eb821496312"
   },
   "outputs": [
    {
     "name": "stdout",
     "output_type": "stream",
     "text": [
      "Out of the 105612 unique texts, 3204 exist in multiple areas\n"
     ]
    }
   ],
   "source": [
    "print(f\"Out of the {duplicates.shape[0]} unique texts,\", \n",
    "      f\"{duplicates[duplicates.area_num>1].shape[0]} exist in multiple areas\")"
   ]
  },
  {
   "cell_type": "markdown",
   "metadata": {
    "id": "mBNnQAMaXz3B"
   },
   "source": [
    "* We'll focus on proverbs common across `area`s."
   ]
  },
  {
   "cell_type": "code",
   "execution_count": 22,
   "metadata": {
    "id": "DEHT6qkOXxzN"
   },
   "outputs": [],
   "source": [
    "duplicates = duplicates[duplicates.area_num>1]"
   ]
  },
  {
   "cell_type": "markdown",
   "metadata": {
    "id": "r2Mlu-PNX3_z"
   },
   "source": [
    "* We add the geographical coordinates in the duplicates.\n",
    "\n",
    "* We want a list per proverb, given that there is an 1:n mapping between proverbs and areas."
   ]
  },
  {
   "cell_type": "code",
   "execution_count": 23,
   "metadata": {
    "colab": {
     "base_uri": "https://localhost:8080/",
     "height": 173
    },
    "id": "hOpCoThIX1-y",
    "outputId": "d5f24f2d-f48f-43ac-ceac-80ae3ac27001"
   },
   "outputs": [
    {
     "data": {
      "text/html": [
       "<div>\n",
       "<style scoped>\n",
       "    .dataframe tbody tr th:only-of-type {\n",
       "        vertical-align: middle;\n",
       "    }\n",
       "\n",
       "    .dataframe tbody tr th {\n",
       "        vertical-align: top;\n",
       "    }\n",
       "\n",
       "    .dataframe thead th {\n",
       "        text-align: right;\n",
       "    }\n",
       "</style>\n",
       "<table border=\"1\" class=\"dataframe\">\n",
       "  <thead>\n",
       "    <tr style=\"text-align: right;\">\n",
       "      <th></th>\n",
       "      <th>place</th>\n",
       "      <th>place_num</th>\n",
       "      <th>area</th>\n",
       "      <th>area_num</th>\n",
       "      <th>latlon</th>\n",
       "    </tr>\n",
       "    <tr>\n",
       "      <th>text</th>\n",
       "      <th></th>\n",
       "      <th></th>\n",
       "      <th></th>\n",
       "      <th></th>\n",
       "      <th></th>\n",
       "    </tr>\n",
       "  </thead>\n",
       "  <tbody>\n",
       "    <tr>\n",
       "      <th>Μη στάξη και μη βρέξη</th>\n",
       "      <td>{Μακεδονία, Αρκαδία&gt;Γορτυνία, Ήπειρος}</td>\n",
       "      <td>3</td>\n",
       "      <td>{Μακεδονία, Ήπειρος, Αρκαδία}</td>\n",
       "      <td>3</td>\n",
       "      <td>[(40.6860291, 23.6933899), (37.9574332, 23.710...</td>\n",
       "    </tr>\n",
       "    <tr>\n",
       "      <th>Μάρτης γδάρτης και κακός παλουκοκαύτης</th>\n",
       "      <td>{Ρόδος, Λάρισα&gt;Ελασσόνα&gt;Σαραντάπορο, Πρέβεζα&gt;Π...</td>\n",
       "      <td>5</td>\n",
       "      <td>{Ρόδος, Θράκη, Λάρισα, Κοζάνη, Πρέβεζα}</td>\n",
       "      <td>5</td>\n",
       "      <td>[(36.17262995, 27.919418145633188), (40.846424...</td>\n",
       "    </tr>\n",
       "    <tr>\n",
       "      <th>Βρήκα πεθερά κλανιάρα αναθεμα κι αν δεν την διάβω</th>\n",
       "      <td>{Θεσσαλία, Λακωνία}</td>\n",
       "      <td>2</td>\n",
       "      <td>{Λακωνία, Θεσσαλία}</td>\n",
       "      <td>2</td>\n",
       "      <td>[(36.76027945, 22.79046431389755), (39.5594194...</td>\n",
       "    </tr>\n",
       "    <tr>\n",
       "      <th>Φρέσκα χρόνια περσινα μαρούλια</th>\n",
       "      <td>{Ανάφη, Λακωνία}</td>\n",
       "      <td>2</td>\n",
       "      <td>{Ανάφη, Λακωνία}</td>\n",
       "      <td>2</td>\n",
       "      <td>[(36.37344365, 25.77730028296469), (36.7602794...</td>\n",
       "    </tr>\n",
       "    <tr>\n",
       "      <th>Στου κασιδιάρη το κεφάλι όλοι μπαρμπέρηδες γίνονται</th>\n",
       "      <td>{Κοζάνη&gt;Βόϊο&gt;Ζώνη, Λακωνία}</td>\n",
       "      <td>2</td>\n",
       "      <td>{Κοζάνη, Λακωνία}</td>\n",
       "      <td>2</td>\n",
       "      <td>[(40.3007259, 21.7883119), (36.76027945, 22.79...</td>\n",
       "    </tr>\n",
       "    <tr>\n",
       "      <th>Τα ξέρουν ςτο παζάρι τάχα το ΄ξερουν και ςτο σπίτι;</th>\n",
       "      <td>{Ζάκυνθος, Λακωνία}</td>\n",
       "      <td>2</td>\n",
       "      <td>{Ζάκυνθος, Λακωνία}</td>\n",
       "      <td>2</td>\n",
       "      <td>[(37.78913845, 20.790089567090195), (36.760279...</td>\n",
       "    </tr>\n",
       "    <tr>\n",
       "      <th>Κούτου μάνα, κούτου παιδί</th>\n",
       "      <td>{Κρήτη&gt;Λασίθι&gt;Άγιος Κωνσταντίνος, Ρόδος}</td>\n",
       "      <td>2</td>\n",
       "      <td>{Κρήτη, Ρόδος}</td>\n",
       "      <td>2</td>\n",
       "      <td>[(35.3084952, 24.46334231842296), (36.17262995...</td>\n",
       "    </tr>\n",
       "    <tr>\n",
       "      <th>Κάτσε στραβά και κρίνε ίσα</th>\n",
       "      <td>{Αμοργός, Ιθάκη}</td>\n",
       "      <td>2</td>\n",
       "      <td>{Αμοργός, Ιθάκη}</td>\n",
       "      <td>2</td>\n",
       "      <td>[(36.85252415, 25.89848696771565), (38.4018960...</td>\n",
       "    </tr>\n",
       "    <tr>\n",
       "      <th>Μη μου σπάσης την κασελα, γιατί σου σπάζω το κιούπι</th>\n",
       "      <td>{Αρκαδία&gt;Κυνουρία, Λακωνία}</td>\n",
       "      <td>2</td>\n",
       "      <td>{Αρκαδία, Λακωνία}</td>\n",
       "      <td>2</td>\n",
       "      <td>[(38.0368583, 23.6689264), (36.76027945, 22.79...</td>\n",
       "    </tr>\n",
       "    <tr>\n",
       "      <th>Γιούδας</th>\n",
       "      <td>{Κρήτη, Αρκαδία&gt;Γορτυνία&gt;Λάστα}</td>\n",
       "      <td>2</td>\n",
       "      <td>{Αρκαδία, Κρήτη}</td>\n",
       "      <td>2</td>\n",
       "      <td>[(38.0368583, 23.6689264), (35.3084952, 24.463...</td>\n",
       "    </tr>\n",
       "  </tbody>\n",
       "</table>\n",
       "</div>"
      ],
      "text/plain": [
       "                                                                                                place   \n",
       "text                                                                                                    \n",
       "Μη στάξη και μη βρέξη                                          {Μακεδονία, Αρκαδία>Γορτυνία, Ήπειρος}  \\\n",
       "Μάρτης γδάρτης και κακός παλουκοκαύτης              {Ρόδος, Λάρισα>Ελασσόνα>Σαραντάπορο, Πρέβεζα>Π...   \n",
       "Βρήκα πεθερά κλανιάρα αναθεμα κι αν δεν την διάβω                                 {Θεσσαλία, Λακωνία}   \n",
       "Φρέσκα χρόνια περσινα μαρούλια                                                       {Ανάφη, Λακωνία}   \n",
       "Στου κασιδιάρη το κεφάλι όλοι μπαρμπέρηδες γίνο...                        {Κοζάνη>Βόϊο>Ζώνη, Λακωνία}   \n",
       "Τα ξέρουν ςτο παζάρι τάχα το ΄ξερουν και ςτο σπ...                                {Ζάκυνθος, Λακωνία}   \n",
       "Κούτου μάνα, κούτου παιδί                                    {Κρήτη>Λασίθι>Άγιος Κωνσταντίνος, Ρόδος}   \n",
       "Κάτσε στραβά και κρίνε ίσα                                                           {Αμοργός, Ιθάκη}   \n",
       "Μη μου σπάσης την κασελα, γιατί σου σπάζω το κι...                        {Αρκαδία>Κυνουρία, Λακωνία}   \n",
       "Γιούδας                                                               {Κρήτη, Αρκαδία>Γορτυνία>Λάστα}   \n",
       "\n",
       "                                                    place_num   \n",
       "text                                                            \n",
       "Μη στάξη και μη βρέξη                                       3  \\\n",
       "Μάρτης γδάρτης και κακός παλουκοκαύτης                      5   \n",
       "Βρήκα πεθερά κλανιάρα αναθεμα κι αν δεν την διάβω           2   \n",
       "Φρέσκα χρόνια περσινα μαρούλια                              2   \n",
       "Στου κασιδιάρη το κεφάλι όλοι μπαρμπέρηδες γίνο...          2   \n",
       "Τα ξέρουν ςτο παζάρι τάχα το ΄ξερουν και ςτο σπ...          2   \n",
       "Κούτου μάνα, κούτου παιδί                                   2   \n",
       "Κάτσε στραβά και κρίνε ίσα                                  2   \n",
       "Μη μου σπάσης την κασελα, γιατί σου σπάζω το κι...          2   \n",
       "Γιούδας                                                     2   \n",
       "\n",
       "                                                                                       area   \n",
       "text                                                                                          \n",
       "Μη στάξη και μη βρέξη                                         {Μακεδονία, Ήπειρος, Αρκαδία}  \\\n",
       "Μάρτης γδάρτης και κακός παλουκοκαύτης              {Ρόδος, Θράκη, Λάρισα, Κοζάνη, Πρέβεζα}   \n",
       "Βρήκα πεθερά κλανιάρα αναθεμα κι αν δεν την διάβω                       {Λακωνία, Θεσσαλία}   \n",
       "Φρέσκα χρόνια περσινα μαρούλια                                             {Ανάφη, Λακωνία}   \n",
       "Στου κασιδιάρη το κεφάλι όλοι μπαρμπέρηδες γίνο...                        {Κοζάνη, Λακωνία}   \n",
       "Τα ξέρουν ςτο παζάρι τάχα το ΄ξερουν και ςτο σπ...                      {Ζάκυνθος, Λακωνία}   \n",
       "Κούτου μάνα, κούτου παιδί                                                    {Κρήτη, Ρόδος}   \n",
       "Κάτσε στραβά και κρίνε ίσα                                                 {Αμοργός, Ιθάκη}   \n",
       "Μη μου σπάσης την κασελα, γιατί σου σπάζω το κι...                       {Αρκαδία, Λακωνία}   \n",
       "Γιούδας                                                                    {Αρκαδία, Κρήτη}   \n",
       "\n",
       "                                                    area_num   \n",
       "text                                                           \n",
       "Μη στάξη και μη βρέξη                                      3  \\\n",
       "Μάρτης γδάρτης και κακός παλουκοκαύτης                     5   \n",
       "Βρήκα πεθερά κλανιάρα αναθεμα κι αν δεν την διάβω          2   \n",
       "Φρέσκα χρόνια περσινα μαρούλια                             2   \n",
       "Στου κασιδιάρη το κεφάλι όλοι μπαρμπέρηδες γίνο...         2   \n",
       "Τα ξέρουν ςτο παζάρι τάχα το ΄ξερουν και ςτο σπ...         2   \n",
       "Κούτου μάνα, κούτου παιδί                                  2   \n",
       "Κάτσε στραβά και κρίνε ίσα                                 2   \n",
       "Μη μου σπάσης την κασελα, γιατί σου σπάζω το κι...         2   \n",
       "Γιούδας                                                    2   \n",
       "\n",
       "                                                                                               latlon  \n",
       "text                                                                                                   \n",
       "Μη στάξη και μη βρέξη                               [(40.6860291, 23.6933899), (37.9574332, 23.710...  \n",
       "Μάρτης γδάρτης και κακός παλουκοκαύτης              [(36.17262995, 27.919418145633188), (40.846424...  \n",
       "Βρήκα πεθερά κλανιάρα αναθεμα κι αν δεν την διάβω   [(36.76027945, 22.79046431389755), (39.5594194...  \n",
       "Φρέσκα χρόνια περσινα μαρούλια                      [(36.37344365, 25.77730028296469), (36.7602794...  \n",
       "Στου κασιδιάρη το κεφάλι όλοι μπαρμπέρηδες γίνο...  [(40.3007259, 21.7883119), (36.76027945, 22.79...  \n",
       "Τα ξέρουν ςτο παζάρι τάχα το ΄ξερουν και ςτο σπ...  [(37.78913845, 20.790089567090195), (36.760279...  \n",
       "Κούτου μάνα, κούτου παιδί                           [(35.3084952, 24.46334231842296), (36.17262995...  \n",
       "Κάτσε στραβά και κρίνε ίσα                          [(36.85252415, 25.89848696771565), (38.4018960...  \n",
       "Μη μου σπάσης την κασελα, γιατί σου σπάζω το κι...  [(38.0368583, 23.6689264), (36.76027945, 22.79...  \n",
       "Γιούδας                                             [(38.0368583, 23.6689264), (35.3084952, 24.463...  "
      ]
     },
     "execution_count": 23,
     "metadata": {},
     "output_type": "execute_result"
    }
   ],
   "source": [
    "coordinates = duplicates.area.map(lambda x: [(geolocs[loc][\"lat\"], geolocs[loc][\"lon\"]) \n",
    "                                             for loc in x if loc in geolocs and loc!=\"Άδηλου τόπου\"])\n",
    "duplicates.insert(4, 'latlon', coordinates) \n",
    "duplicates.sample(10)"
   ]
  },
  {
   "cell_type": "code",
   "execution_count": 24,
   "metadata": {
    "id": "0kIz2O69X6Ey"
   },
   "outputs": [],
   "source": [
    "# saving\n",
    "duplicates.to_csv(\"data/duplicates_geolocated.csv\")"
   ]
  },
  {
   "cell_type": "markdown",
   "metadata": {
    "id": "WmbLRTGWX_be"
   },
   "source": [
    "* To visualise the dataframe, we use [Folium](https://python-visualization.github.io/folium), which is based on [leaflet](https://leafletjs.com/), an open-source JavaScript library for mobile-friendly interactive maps. \n",
    "\n",
    "* Note: outliers exist, e.g., Chiesa della Madona delle Neve"
   ]
  },
  {
   "cell_type": "code",
   "execution_count": 25,
   "metadata": {
    "colab": {
     "base_uri": "https://localhost:8080/",
     "height": 657
    },
    "id": "2t1MBII4X9oV",
    "outputId": "ff6e7731-b6f5-4d4d-b569-ca16b253b753"
   },
   "outputs": [],
   "source": [
    "m = folium.Map(location=[39.0742, 21.8243], zoom_start=6)\n",
    "for i in range(duplicates.shape[0]):\n",
    "    loc = duplicates.iloc[i].latlon\n",
    "    folium.PolyLine(loc, color='red', weight=1, opacity=0.1).add_to(m)\n",
    "m.save(\"duplicates.html\")\n",
    "m"
   ]
  },
  {
   "cell_type": "markdown",
   "metadata": {
    "id": "SEuJhu0kYLd7"
   },
   "source": [
    "* Finding the number of areas sharing proverbs with crowded Athens."
   ]
  },
  {
   "cell_type": "code",
   "execution_count": null,
   "metadata": {
    "colab": {
     "base_uri": "https://localhost:8080/"
    },
    "id": "M4nRBPc5YHxQ",
    "outputId": "b89341b6-cbf2-41a8-8841-72bd44dd4eff"
   },
   "outputs": [
    {
     "name": "stdout",
     "output_type": "stream",
     "text": [
      "Branching factor of Αθήνα: 20\n"
     ]
    }
   ],
   "source": [
    "area = 'Αθήνα'\n",
    "print(f\"Branching factor of {area}: {len(duplicates[duplicates.area.apply(lambda x: 'Αθήνα' in x)].area.explode().unique())}\")"
   ]
  },
  {
   "cell_type": "markdown",
   "metadata": {
    "id": "BjnURw_OYTZn"
   },
   "source": [
    "## Single-placed proverbs"
   ]
  },
  {
   "cell_type": "code",
   "execution_count": null,
   "metadata": {
    "colab": {
     "base_uri": "https://localhost:8080/",
     "height": 257
    },
    "id": "9yLmxvp-YQA3",
    "outputId": "11d1b40d-89fe-4a3d-ad51-bbbbc0de8f0a"
   },
   "outputs": [
    {
     "name": "stdout",
     "output_type": "stream",
     "text": [
      "100879\n"
     ]
    },
    {
     "data": {
      "text/html": [
       "<div>\n",
       "<style scoped>\n",
       "    .dataframe tbody tr th:only-of-type {\n",
       "        vertical-align: middle;\n",
       "    }\n",
       "\n",
       "    .dataframe tbody tr th {\n",
       "        vertical-align: top;\n",
       "    }\n",
       "\n",
       "    .dataframe thead th {\n",
       "        text-align: right;\n",
       "    }\n",
       "</style>\n",
       "<table border=\"1\" class=\"dataframe\">\n",
       "  <thead>\n",
       "    <tr style=\"text-align: right;\">\n",
       "      <th></th>\n",
       "      <th>text</th>\n",
       "      <th>place</th>\n",
       "      <th>uri</th>\n",
       "      <th>collector</th>\n",
       "      <th>area</th>\n",
       "      <th>lat</th>\n",
       "      <th>lon</th>\n",
       "    </tr>\n",
       "  </thead>\n",
       "  <tbody>\n",
       "    <tr>\n",
       "      <th>12781</th>\n",
       "      <td>Ο μύλος θέλει μυλωνά και το καράβι ναύτη και τ...</td>\n",
       "      <td>Ρόδος</td>\n",
       "      <td>http://hdl.handle.net/20.500.11853/284191</td>\n",
       "      <td>Δρακίδης, Γεράσιμος Δ.</td>\n",
       "      <td>Ρόδος</td>\n",
       "      <td>36.172630</td>\n",
       "      <td>27.919418</td>\n",
       "    </tr>\n",
       "    <tr>\n",
       "      <th>108506</th>\n",
       "      <td>Από τον Άουστο αρχίζει πια ο χειμώνας</td>\n",
       "      <td>Κίμωλος</td>\n",
       "      <td>http://hdl.handle.net/20.500.11853/158085</td>\n",
       "      <td>Σπυριδάκης, Γεώργιος Κ.</td>\n",
       "      <td>Κίμωλος</td>\n",
       "      <td>36.809258</td>\n",
       "      <td>24.556068</td>\n",
       "    </tr>\n",
       "    <tr>\n",
       "      <th>105214</th>\n",
       "      <td>Μ' πουνεί του δόντ'</td>\n",
       "      <td>Σκιάθος</td>\n",
       "      <td>http://hdl.handle.net/20.500.11853/177096</td>\n",
       "      <td>Ρήγας, Γ.</td>\n",
       "      <td>Σκιάθος</td>\n",
       "      <td>39.169298</td>\n",
       "      <td>23.455251</td>\n",
       "    </tr>\n",
       "  </tbody>\n",
       "</table>\n",
       "</div>"
      ],
      "text/plain": [
       "                                                     text    place   \n",
       "12781   Ο μύλος θέλει μυλωνά και το καράβι ναύτη και τ...    Ρόδος  \\\n",
       "108506              Από τον Άουστο αρχίζει πια ο χειμώνας  Κίμωλος   \n",
       "105214                                Μ' πουνεί του δόντ'  Σκιάθος   \n",
       "\n",
       "                                              uri                collector   \n",
       "12781   http://hdl.handle.net/20.500.11853/284191   Δρακίδης, Γεράσιμος Δ.  \\\n",
       "108506  http://hdl.handle.net/20.500.11853/158085  Σπυριδάκης, Γεώργιος Κ.   \n",
       "105214  http://hdl.handle.net/20.500.11853/177096                Ρήγας, Γ.   \n",
       "\n",
       "           area        lat        lon  \n",
       "12781     Ρόδος  36.172630  27.919418  \n",
       "108506  Κίμωλος  36.809258  24.556068  \n",
       "105214  Σκιάθος  39.169298  23.455251  "
      ]
     },
     "execution_count": 27,
     "metadata": {},
     "output_type": "execute_result"
    }
   ],
   "source": [
    "# keeping single-placed proverbs\n",
    "proverbs_sp = named[~named.text.duplicated(keep=False)]\n",
    "print(proverbs_sp.shape[0])\n",
    "proverbs_sp.sample(3)"
   ]
  },
  {
   "cell_type": "markdown",
   "metadata": {
    "id": "QOuM1x6iYYu1"
   },
   "source": [
    "* We'll move aside single-placed proberbs from an unknown place."
   ]
  },
  {
   "cell_type": "code",
   "execution_count": 28,
   "metadata": {
    "colab": {
     "base_uri": "https://localhost:8080/",
     "height": 257
    },
    "id": "wBnlEpKtYWaT",
    "outputId": "0513d2d3-8a0b-4eac-ccdf-c109fcef918c"
   },
   "outputs": [
    {
     "name": "stdout",
     "output_type": "stream",
     "text": [
      "2755 proverbs from one place, whose name is not known.\n"
     ]
    },
    {
     "data": {
      "text/html": [
       "<div>\n",
       "<style scoped>\n",
       "    .dataframe tbody tr th:only-of-type {\n",
       "        vertical-align: middle;\n",
       "    }\n",
       "\n",
       "    .dataframe tbody tr th {\n",
       "        vertical-align: top;\n",
       "    }\n",
       "\n",
       "    .dataframe thead th {\n",
       "        text-align: right;\n",
       "    }\n",
       "</style>\n",
       "<table border=\"1\" class=\"dataframe\">\n",
       "  <thead>\n",
       "    <tr style=\"text-align: right;\">\n",
       "      <th></th>\n",
       "      <th>text</th>\n",
       "      <th>place</th>\n",
       "      <th>uri</th>\n",
       "      <th>collector</th>\n",
       "      <th>area</th>\n",
       "      <th>lat</th>\n",
       "      <th>lon</th>\n",
       "    </tr>\n",
       "  </thead>\n",
       "  <tbody>\n",
       "    <tr>\n",
       "      <th>73950</th>\n",
       "      <td>Τον έχει να μη στάξη και τον βρέξη</td>\n",
       "      <td>Άδηλου τόπου</td>\n",
       "      <td>http://hdl.handle.net/20.500.11853/152797</td>\n",
       "      <td>Μανασσείδης, Συμεών Α.</td>\n",
       "      <td>Άδηλου τόπου</td>\n",
       "      <td>NaN</td>\n",
       "      <td>NaN</td>\n",
       "    </tr>\n",
       "    <tr>\n",
       "      <th>89426</th>\n",
       "      <td>Του μπήκε καρφί στο μάτι</td>\n",
       "      <td>Άδηλου τόπου</td>\n",
       "      <td>http://hdl.handle.net/20.500.11853/280370</td>\n",
       "      <td>Νεστορίδης, Κ.</td>\n",
       "      <td>Άδηλου τόπου</td>\n",
       "      <td>NaN</td>\n",
       "      <td>NaN</td>\n",
       "    </tr>\n",
       "    <tr>\n",
       "      <th>84732</th>\n",
       "      <td>Κάλλια μαύρα μούτσουνα παρά μαύρη καρδιά</td>\n",
       "      <td>Άδηλου τόπου</td>\n",
       "      <td>http://hdl.handle.net/20.500.11853/270266</td>\n",
       "      <td>Νεστορίδης, Κ.</td>\n",
       "      <td>Άδηλου τόπου</td>\n",
       "      <td>NaN</td>\n",
       "      <td>NaN</td>\n",
       "    </tr>\n",
       "  </tbody>\n",
       "</table>\n",
       "</div>"
      ],
      "text/plain": [
       "                                           text         place   \n",
       "73950        Τον έχει να μη στάξη και τον βρέξη  Άδηλου τόπου  \\\n",
       "89426                  Του μπήκε καρφί στο μάτι  Άδηλου τόπου   \n",
       "84732  Κάλλια μαύρα μούτσουνα παρά μαύρη καρδιά  Άδηλου τόπου   \n",
       "\n",
       "                                             uri               collector   \n",
       "73950  http://hdl.handle.net/20.500.11853/152797  Μανασσείδης, Συμεών Α.  \\\n",
       "89426  http://hdl.handle.net/20.500.11853/280370          Νεστορίδης, Κ.   \n",
       "84732  http://hdl.handle.net/20.500.11853/270266          Νεστορίδης, Κ.   \n",
       "\n",
       "               area  lat  lon  \n",
       "73950  Άδηλου τόπου  NaN  NaN  \n",
       "89426  Άδηλου τόπου  NaN  NaN  \n",
       "84732  Άδηλου τόπου  NaN  NaN  "
      ]
     },
     "execution_count": 28,
     "metadata": {},
     "output_type": "execute_result"
    }
   ],
   "source": [
    "unlocated = \"Άδηλου τόπου\"\n",
    "proverbs_sp_unk = proverbs_sp[proverbs_sp.place==unlocated]\n",
    "print(f'{proverbs_sp_unk.shape[0]} proverbs from one place, whose name is not known.')\n",
    "proverbs_sp_unk.sample(3)"
   ]
  },
  {
   "cell_type": "markdown",
   "metadata": {
    "id": "tPh62o3AYcD4"
   },
   "source": [
    "* We'll work with the rest."
   ]
  },
  {
   "cell_type": "code",
   "execution_count": 29,
   "metadata": {
    "colab": {
     "base_uri": "https://localhost:8080/"
    },
    "id": "NvQO5fPwYaHa",
    "outputId": "2a790cd5-1bee-444e-d8eb-acfc485ef5e2"
   },
   "outputs": [
    {
     "name": "stdout",
     "output_type": "stream",
     "text": [
      "98124 proverbs from one place with known place name\n"
     ]
    }
   ],
   "source": [
    "proverbs_sp = proverbs_sp[proverbs_sp.place!=unlocated]\n",
    "print(f'{proverbs_sp.shape[0]} proverbs from one place with known place name')"
   ]
  },
  {
   "cell_type": "code",
   "execution_count": 30,
   "metadata": {
    "colab": {
     "base_uri": "https://localhost:8080/",
     "height": 214
    },
    "id": "K36OFVVdYdin",
    "outputId": "86bfb06b-bf1b-47ce-d5bf-b0d9083bcc9f"
   },
   "outputs": [
    {
     "data": {
      "image/png": "[encoded data removed]",
      "text/plain": [
       "<Figure size 500x200 with 1 Axes>"
      ]
     },
     "metadata": {},
     "output_type": "display_data"
    }
   ],
   "source": [
    "proverbs_sp.place.value_counts()[:5].plot.barh(figsize=(5,2));"
   ]
  },
  {
   "cell_type": "markdown",
   "metadata": {
    "id": "E-oTNVqTYjpN"
   },
   "source": [
    "* Visualising the places along with the number of proverbs collected in each."
   ]
  },
  {
   "cell_type": "code",
   "execution_count": 31,
   "metadata": {
    "colab": {
     "base_uri": "https://localhost:8080/",
     "height": 657
    },
    "id": "jfLpFP6FYhRy",
    "outputId": "82f1d6de-82f4-442e-870c-5a162219cbd9"
   },
   "outputs": [
    {
     "data": {
      "text/html": [
       "<div style=\"width:100%;\"><div style=\"position:relative;width:100%;height:0;padding-bottom:60%;\"><span style=\"color:#565656\">Make this Notebook Trusted to load map: File -> Trust Notebook</span><iframe srcdoc=\"&lt;!DOCTYPE html&gt;\n",
       "&lt;html&gt;\n",
       "&lt;head&gt;\n",
       "    \n",
       "    &lt;meta http-equiv=&quot;content-type&quot; content=&quot;text/html; charset=UTF-8&quot; /&gt;\n",
       "    \n",
       "        &lt;script&gt;\n",
       "            L_NO_TOUCH = false;\n",
       "            L_DISABLE_3D = false;\n",
       "        &lt;/script&gt;\n",
       "    \n",
       "    &lt;style&gt;html, body {width: 100%;height: 100%;margin: 0;padding: 0;}&lt;/style&gt;\n",
       "    &lt;style&gt;#map {position:absolute;top:0;bottom:0;right:0;left:0;}&lt;/style&gt;\n",
       "    &lt;script src=&quot;https://cdn.jsdelivr.net/npm/leaflet@1.9.3/dist/leaflet.js&quot;&gt;&lt;/script&gt;\n",
       "    &lt;script src=&quot;https://code.jquery.com/jquery-1.12.4.min.js&quot;&gt;&lt;/script&gt;\n",
       "    &lt;script src=&quot;https://cdn.jsdelivr.net/npm/bootstrap@5.2.2/dist/js/bootstrap.bundle.min.js&quot;&gt;&lt;/script&gt;\n",
       "    &lt;script src=&quot;https://cdnjs.cloudflare.com/ajax/libs/Leaflet.awesome-markers/2.0.2/leaflet.awesome-markers.js&quot;&gt;&lt;/script&gt;\n",
       "    &lt;link rel=&quot;stylesheet&quot; href=&quot;https://cdn.jsdelivr.net/npm/leaflet@1.9.3/dist/leaflet.css&quot;/&gt;\n",
       "    &lt;link rel=&quot;stylesheet&quot; href=&quot;https://cdn.jsdelivr.net/npm/bootstrap@5.2.2/dist/css/bootstrap.min.css&quot;/&gt;\n",
       "    &lt;link rel=&quot;stylesheet&quot; href=&quot;https://netdna.bootstrapcdn.com/bootstrap/3.0.0/css/bootstrap.min.css&quot;/&gt;\n",
       "    &lt;link rel=&quot;stylesheet&quot; href=&quot;https://cdn.jsdelivr.net/npm/@fortawesome/fontawesome-free@6.2.0/css/all.min.css&quot;/&gt;\n",
       "    &lt;link rel=&quot;stylesheet&quot; href=&quot;https://cdnjs.cloudflare.com/ajax/libs/Leaflet.awesome-markers/2.0.2/leaflet.awesome-markers.css&quot;/&gt;\n",
       "    &lt;link rel=&quot;stylesheet&quot; href=&quot;https://cdn.jsdelivr.net/gh/python-visualization/folium/folium/templates/leaflet.awesome.rotate.min.css&quot;/&gt;\n",
       "    \n",
       "            &lt;meta name=&quot;viewport&quot; content=&quot;width=device-width,\n",
       "                initial-scale=1.0, maximum-scale=1.0, user-scalable=no&quot; /&gt;\n",
       "            &lt;style&gt;\n",
       "                #map_0f408ea3b44dbfcb8788975461c63aa2 {\n",
       "                    position: relative;\n",
       "                    width: 100.0%;\n",
       "                    height: 100.0%;\n",
       "                    left: 0.0%;\n",
       "                    top: 0.0%;\n",
       "                }\n",
       "                .leaflet-container { font-size: 1rem; }\n",
       "            &lt;/style&gt;\n",
       "        \n",
       "&lt;/head&gt;\n",
       "&lt;body&gt;\n",
       "    \n",
       "    \n",
       "            &lt;div class=&quot;folium-map&quot; id=&quot;map_0f408ea3b44dbfcb8788975461c63aa2&quot; &gt;&lt;/div&gt;\n",
       "        \n",
       "&lt;/body&gt;\n",
       "&lt;script&gt;\n",
       "    \n",
       "    \n",
       "            var map_0f408ea3b44dbfcb8788975461c63aa2 = L.map(\n",
       "                &quot;map_0f408ea3b44dbfcb8788975461c63aa2&quot;,\n",
       "                {\n",
       "                    center: [39.0742, 21.8243],\n",
       "                    crs: L.CRS.EPSG3857,\n",
       "                    zoom: 5,\n",
       "                    zoomControl: true,\n",
       "                    preferCanvas: false,\n",
       "                }\n",
       "            );\n",
       "\n",
       "            \n",
       "\n",
       "        \n",
       "    \n",
       "            var tile_layer_3c174b9fedba76f7ae31365606b43df6 = L.tileLayer(\n",
       "                &quot;https://{s}.tile.openstreetmap.org/{z}/{x}/{y}.png&quot;,\n",
       "                {&quot;attribution&quot;: &quot;Data by \\u0026copy; \\u003ca target=\\&quot;_blank\\&quot; href=\\&quot;http://openstreetmap.org\\&quot;\\u003eOpenStreetMap\\u003c/a\\u003e, under \\u003ca target=\\&quot;_blank\\&quot; href=\\&quot;http://www.openstreetmap.org/copyright\\&quot;\\u003eODbL\\u003c/a\\u003e.&quot;, &quot;detectRetina&quot;: false, &quot;maxNativeZoom&quot;: 18, &quot;maxZoom&quot;: 18, &quot;minZoom&quot;: 0, &quot;noWrap&quot;: false, &quot;opacity&quot;: 1, &quot;subdomains&quot;: &quot;abc&quot;, &quot;tms&quot;: false}\n",
       "            ).addTo(map_0f408ea3b44dbfcb8788975461c63aa2);\n",
       "        \n",
       "    \n",
       "            var circle_marker_6c5e0aaa213e925eb60ba5c5f32131c5 = L.circleMarker(\n",
       "                [38.8351105, 20.7094392],\n",
       "                {&quot;bubblingMouseEvents&quot;: true, &quot;color&quot;: &quot;#3186cc&quot;, &quot;dashArray&quot;: null, &quot;dashOffset&quot;: null, &quot;fill&quot;: true, &quot;fillColor&quot;: &quot;#3186cc&quot;, &quot;fillOpacity&quot;: 0.2, &quot;fillRule&quot;: &quot;evenodd&quot;, &quot;lineCap&quot;: &quot;round&quot;, &quot;lineJoin&quot;: &quot;round&quot;, &quot;opacity&quot;: 1.0, &quot;radius&quot;: 15.924, &quot;stroke&quot;: true, &quot;weight&quot;: 3}\n",
       "            ).addTo(map_0f408ea3b44dbfcb8788975461c63aa2);\n",
       "        \n",
       "    \n",
       "        var popup_10e547ee5020523497758823eff7aff8 = L.popup({&quot;maxWidth&quot;: &quot;100%&quot;});\n",
       "\n",
       "        \n",
       "            \n",
       "                var html_fdda34327d194b7fa479c3ab5ed8dabc = $(`&lt;div id=&quot;html_fdda34327d194b7fa479c3ab5ed8dabc&quot; style=&quot;width: 100.0%; height: 100.0%;&quot;&gt;7962&lt;/div&gt;`)[0];\n",
       "                popup_10e547ee5020523497758823eff7aff8.setContent(html_fdda34327d194b7fa479c3ab5ed8dabc);\n",
       "            \n",
       "        \n",
       "\n",
       "        circle_marker_6c5e0aaa213e925eb60ba5c5f32131c5.bindPopup(popup_10e547ee5020523497758823eff7aff8)\n",
       "        ;\n",
       "\n",
       "        \n",
       "    \n",
       "    \n",
       "            var circle_marker_bd8751d29e98b41c98a70a3efdf3428b = L.circleMarker(\n",
       "                [36.85252415, 25.89848696771565],\n",
       "                {&quot;bubblingMouseEvents&quot;: true, &quot;color&quot;: &quot;#3186cc&quot;, &quot;dashArray&quot;: null, &quot;dashOffset&quot;: null, &quot;fill&quot;: true, &quot;fillColor&quot;: &quot;#3186cc&quot;, &quot;fillOpacity&quot;: 0.2, &quot;fillRule&quot;: &quot;evenodd&quot;, &quot;lineCap&quot;: &quot;round&quot;, &quot;lineJoin&quot;: &quot;round&quot;, &quot;opacity&quot;: 1.0, &quot;radius&quot;: 14.04, &quot;stroke&quot;: true, &quot;weight&quot;: 3}\n",
       "            ).addTo(map_0f408ea3b44dbfcb8788975461c63aa2);\n",
       "        \n",
       "    \n",
       "        var popup_b1242857fb06629f90cd4ba936d790f8 = L.popup({&quot;maxWidth&quot;: &quot;100%&quot;});\n",
       "\n",
       "        \n",
       "            \n",
       "                var html_1ddb60ab3599f8a5528eda524b250479 = $(`&lt;div id=&quot;html_1ddb60ab3599f8a5528eda524b250479&quot; style=&quot;width: 100.0%; height: 100.0%;&quot;&gt;7020&lt;/div&gt;`)[0];\n",
       "                popup_b1242857fb06629f90cd4ba936d790f8.setContent(html_1ddb60ab3599f8a5528eda524b250479);\n",
       "            \n",
       "        \n",
       "\n",
       "        circle_marker_bd8751d29e98b41c98a70a3efdf3428b.bindPopup(popup_b1242857fb06629f90cd4ba936d790f8)\n",
       "        ;\n",
       "\n",
       "        \n",
       "    \n",
       "    \n",
       "            var circle_marker_3c2fe29e12aba1746e20433ad453d4c1 = L.circleMarker(\n",
       "                [38.0692748, 21.87273042232539],\n",
       "                {&quot;bubblingMouseEvents&quot;: true, &quot;color&quot;: &quot;#3186cc&quot;, &quot;dashArray&quot;: null, &quot;dashOffset&quot;: null, &quot;fill&quot;: true, &quot;fillColor&quot;: &quot;#3186cc&quot;, &quot;fillOpacity&quot;: 0.2, &quot;fillRule&quot;: &quot;evenodd&quot;, &quot;lineCap&quot;: &quot;round&quot;, &quot;lineJoin&quot;: &quot;round&quot;, &quot;opacity&quot;: 1.0, &quot;radius&quot;: 13.486, &quot;stroke&quot;: true, &quot;weight&quot;: 3}\n",
       "            ).addTo(map_0f408ea3b44dbfcb8788975461c63aa2);\n",
       "        \n",
       "    \n",
       "        var popup_369082be5e4e2086f46eb3c28d05e066 = L.popup({&quot;maxWidth&quot;: &quot;100%&quot;});\n",
       "\n",
       "        \n",
       "            \n",
       "                var html_77477e7f1ed56d3bdb0dde49c47bd2ce = $(`&lt;div id=&quot;html_77477e7f1ed56d3bdb0dde49c47bd2ce&quot; style=&quot;width: 100.0%; height: 100.0%;&quot;&gt;6743&lt;/div&gt;`)[0];\n",
       "                popup_369082be5e4e2086f46eb3c28d05e066.setContent(html_77477e7f1ed56d3bdb0dde49c47bd2ce);\n",
       "            \n",
       "        \n",
       "\n",
       "        circle_marker_3c2fe29e12aba1746e20433ad453d4c1.bindPopup(popup_369082be5e4e2086f46eb3c28d05e066)\n",
       "        ;\n",
       "\n",
       "        \n",
       "    \n",
       "    \n",
       "            var circle_marker_d0be793cf1b275bab88fa0e18e301bc0 = L.circleMarker(\n",
       "                [34.9823018, 33.1451285],\n",
       "                {&quot;bubblingMouseEvents&quot;: true, &quot;color&quot;: &quot;#3186cc&quot;, &quot;dashArray&quot;: null, &quot;dashOffset&quot;: null, &quot;fill&quot;: true, &quot;fillColor&quot;: &quot;#3186cc&quot;, &quot;fillOpacity&quot;: 0.2, &quot;fillRule&quot;: &quot;evenodd&quot;, &quot;lineCap&quot;: &quot;round&quot;, &quot;lineJoin&quot;: &quot;round&quot;, &quot;opacity&quot;: 1.0, &quot;radius&quot;: 9.82, &quot;stroke&quot;: true, &quot;weight&quot;: 3}\n",
       "            ).addTo(map_0f408ea3b44dbfcb8788975461c63aa2);\n",
       "        \n",
       "    \n",
       "        var popup_0d76fdfd01a45d9eb8bc4b940b36bdd5 = L.popup({&quot;maxWidth&quot;: &quot;100%&quot;});\n",
       "\n",
       "        \n",
       "            \n",
       "                var html_d994d8e94f9931e42602d9c829124b3d = $(`&lt;div id=&quot;html_d994d8e94f9931e42602d9c829124b3d&quot; style=&quot;width: 100.0%; height: 100.0%;&quot;&gt;4910&lt;/div&gt;`)[0];\n",
       "                popup_0d76fdfd01a45d9eb8bc4b940b36bdd5.setContent(html_d994d8e94f9931e42602d9c829124b3d);\n",
       "            \n",
       "        \n",
       "\n",
       "        circle_marker_d0be793cf1b275bab88fa0e18e301bc0.bindPopup(popup_0d76fdfd01a45d9eb8bc4b940b36bdd5)\n",
       "        ;\n",
       "\n",
       "        \n",
       "    \n",
       "    \n",
       "            var circle_marker_ca8f9821005cfde01d765aeabd0b8af1 = L.circleMarker(\n",
       "                [36.76027945, 22.79046431389755],\n",
       "                {&quot;bubblingMouseEvents&quot;: true, &quot;color&quot;: &quot;#3186cc&quot;, &quot;dashArray&quot;: null, &quot;dashOffset&quot;: null, &quot;fill&quot;: true, &quot;fillColor&quot;: &quot;#3186cc&quot;, &quot;fillOpacity&quot;: 0.2, &quot;fillRule&quot;: &quot;evenodd&quot;, &quot;lineCap&quot;: &quot;round&quot;, &quot;lineJoin&quot;: &quot;round&quot;, &quot;opacity&quot;: 1.0, &quot;radius&quot;: 6.972, &quot;stroke&quot;: true, &quot;weight&quot;: 3}\n",
       "            ).addTo(map_0f408ea3b44dbfcb8788975461c63aa2);\n",
       "        \n",
       "    \n",
       "        var popup_2fa7836a471b5696c3184d51bb5a0d77 = L.popup({&quot;maxWidth&quot;: &quot;100%&quot;});\n",
       "\n",
       "        \n",
       "            \n",
       "                var html_e0925ab500c7cbf984005a5c484ac529 = $(`&lt;div id=&quot;html_e0925ab500c7cbf984005a5c484ac529&quot; style=&quot;width: 100.0%; height: 100.0%;&quot;&gt;3486&lt;/div&gt;`)[0];\n",
       "                popup_2fa7836a471b5696c3184d51bb5a0d77.setContent(html_e0925ab500c7cbf984005a5c484ac529);\n",
       "            \n",
       "        \n",
       "\n",
       "        circle_marker_ca8f9821005cfde01d765aeabd0b8af1.bindPopup(popup_2fa7836a471b5696c3184d51bb5a0d77)\n",
       "        ;\n",
       "\n",
       "        \n",
       "    \n",
       "    \n",
       "            var circle_marker_7e6c239492d7cf0fc70e07ea0a5ae51e = L.circleMarker(\n",
       "                [37.06001045, 25.47075670857837],\n",
       "                {&quot;bubblingMouseEvents&quot;: true, &quot;color&quot;: &quot;#3186cc&quot;, &quot;dashArray&quot;: null, &quot;dashOffset&quot;: null, &quot;fill&quot;: true, &quot;fillColor&quot;: &quot;#3186cc&quot;, &quot;fillOpacity&quot;: 0.2, &quot;fillRule&quot;: &quot;evenodd&quot;, &quot;lineCap&quot;: &quot;round&quot;, &quot;lineJoin&quot;: &quot;round&quot;, &quot;opacity&quot;: 1.0, &quot;radius&quot;: 5.694, &quot;stroke&quot;: true, &quot;weight&quot;: 3}\n",
       "            ).addTo(map_0f408ea3b44dbfcb8788975461c63aa2);\n",
       "        \n",
       "    \n",
       "        var popup_e5add5d6ef8a2124b784c1a2eb026ef2 = L.popup({&quot;maxWidth&quot;: &quot;100%&quot;});\n",
       "\n",
       "        \n",
       "            \n",
       "                var html_0cb755e7a93ed13f13a7d7754d255a25 = $(`&lt;div id=&quot;html_0cb755e7a93ed13f13a7d7754d255a25&quot; style=&quot;width: 100.0%; height: 100.0%;&quot;&gt;2847&lt;/div&gt;`)[0];\n",
       "                popup_e5add5d6ef8a2124b784c1a2eb026ef2.setContent(html_0cb755e7a93ed13f13a7d7754d255a25);\n",
       "            \n",
       "        \n",
       "\n",
       "        circle_marker_7e6c239492d7cf0fc70e07ea0a5ae51e.bindPopup(popup_e5add5d6ef8a2124b784c1a2eb026ef2)\n",
       "        ;\n",
       "\n",
       "        \n",
       "    \n",
       "    \n",
       "            var circle_marker_80966c3b86c22db64a6c811c70e8cb94 = L.circleMarker(\n",
       "                [37.9574332, 23.7108518],\n",
       "                {&quot;bubblingMouseEvents&quot;: true, &quot;color&quot;: &quot;#3186cc&quot;, &quot;dashArray&quot;: null, &quot;dashOffset&quot;: null, &quot;fill&quot;: true, &quot;fillColor&quot;: &quot;#3186cc&quot;, &quot;fillOpacity&quot;: 0.2, &quot;fillRule&quot;: &quot;evenodd&quot;, &quot;lineCap&quot;: &quot;round&quot;, &quot;lineJoin&quot;: &quot;round&quot;, &quot;opacity&quot;: 1.0, &quot;radius&quot;: 5.618, &quot;stroke&quot;: true, &quot;weight&quot;: 3}\n",
       "            ).addTo(map_0f408ea3b44dbfcb8788975461c63aa2);\n",
       "        \n",
       "    \n",
       "        var popup_24ee6da8b14f52d323aaacac279518ea = L.popup({&quot;maxWidth&quot;: &quot;100%&quot;});\n",
       "\n",
       "        \n",
       "            \n",
       "                var html_9ad091dfd280016803ddcf0e179f5774 = $(`&lt;div id=&quot;html_9ad091dfd280016803ddcf0e179f5774&quot; style=&quot;width: 100.0%; height: 100.0%;&quot;&gt;2809&lt;/div&gt;`)[0];\n",
       "                popup_24ee6da8b14f52d323aaacac279518ea.setContent(html_9ad091dfd280016803ddcf0e179f5774);\n",
       "            \n",
       "        \n",
       "\n",
       "        circle_marker_80966c3b86c22db64a6c811c70e8cb94.bindPopup(popup_24ee6da8b14f52d323aaacac279518ea)\n",
       "        ;\n",
       "\n",
       "        \n",
       "    \n",
       "    \n",
       "            var circle_marker_67e454b053577736f96d11f990ef1383 = L.circleMarker(\n",
       "                [38.0368583, 23.6689264],\n",
       "                {&quot;bubblingMouseEvents&quot;: true, &quot;color&quot;: &quot;#3186cc&quot;, &quot;dashArray&quot;: null, &quot;dashOffset&quot;: null, &quot;fill&quot;: true, &quot;fillColor&quot;: &quot;#3186cc&quot;, &quot;fillOpacity&quot;: 0.2, &quot;fillRule&quot;: &quot;evenodd&quot;, &quot;lineCap&quot;: &quot;round&quot;, &quot;lineJoin&quot;: &quot;round&quot;, &quot;opacity&quot;: 1.0, &quot;radius&quot;: 5.076, &quot;stroke&quot;: true, &quot;weight&quot;: 3}\n",
       "            ).addTo(map_0f408ea3b44dbfcb8788975461c63aa2);\n",
       "        \n",
       "    \n",
       "        var popup_648c24cf37a7dfc523b66c7e6e26fd72 = L.popup({&quot;maxWidth&quot;: &quot;100%&quot;});\n",
       "\n",
       "        \n",
       "            \n",
       "                var html_e2e16f1038ad5c535970caa8e1d6bcbd = $(`&lt;div id=&quot;html_e2e16f1038ad5c535970caa8e1d6bcbd&quot; style=&quot;width: 100.0%; height: 100.0%;&quot;&gt;2538&lt;/div&gt;`)[0];\n",
       "                popup_648c24cf37a7dfc523b66c7e6e26fd72.setContent(html_e2e16f1038ad5c535970caa8e1d6bcbd);\n",
       "            \n",
       "        \n",
       "\n",
       "        circle_marker_67e454b053577736f96d11f990ef1383.bindPopup(popup_648c24cf37a7dfc523b66c7e6e26fd72)\n",
       "        ;\n",
       "\n",
       "        \n",
       "    \n",
       "    \n",
       "            var circle_marker_d63ea934d0f9252303c256da3e395a4e = L.circleMarker(\n",
       "                [35.3084952, 24.46334231842296],\n",
       "                {&quot;bubblingMouseEvents&quot;: true, &quot;color&quot;: &quot;#3186cc&quot;, &quot;dashArray&quot;: null, &quot;dashOffset&quot;: null, &quot;fill&quot;: true, &quot;fillColor&quot;: &quot;#3186cc&quot;, &quot;fillOpacity&quot;: 0.2, &quot;fillRule&quot;: &quot;evenodd&quot;, &quot;lineCap&quot;: &quot;round&quot;, &quot;lineJoin&quot;: &quot;round&quot;, &quot;opacity&quot;: 1.0, &quot;radius&quot;: 4.858, &quot;stroke&quot;: true, &quot;weight&quot;: 3}\n",
       "            ).addTo(map_0f408ea3b44dbfcb8788975461c63aa2);\n",
       "        \n",
       "    \n",
       "        var popup_d82d7db55555742cfd7b08b7a52d8612 = L.popup({&quot;maxWidth&quot;: &quot;100%&quot;});\n",
       "\n",
       "        \n",
       "            \n",
       "                var html_7fc692a43d82e64ecab17bc75594739a = $(`&lt;div id=&quot;html_7fc692a43d82e64ecab17bc75594739a&quot; style=&quot;width: 100.0%; height: 100.0%;&quot;&gt;2429&lt;/div&gt;`)[0];\n",
       "                popup_d82d7db55555742cfd7b08b7a52d8612.setContent(html_7fc692a43d82e64ecab17bc75594739a);\n",
       "            \n",
       "        \n",
       "\n",
       "        circle_marker_d63ea934d0f9252303c256da3e395a4e.bindPopup(popup_d82d7db55555742cfd7b08b7a52d8612)\n",
       "        ;\n",
       "\n",
       "        \n",
       "    \n",
       "    \n",
       "            var circle_marker_e509a3d583f5716a28c81f7d399f2e84 = L.circleMarker(\n",
       "                [37.4204248, 24.9479564],\n",
       "                {&quot;bubblingMouseEvents&quot;: true, &quot;color&quot;: &quot;#3186cc&quot;, &quot;dashArray&quot;: null, &quot;dashOffset&quot;: null, &quot;fill&quot;: true, &quot;fillColor&quot;: &quot;#3186cc&quot;, &quot;fillOpacity&quot;: 0.2, &quot;fillRule&quot;: &quot;evenodd&quot;, &quot;lineCap&quot;: &quot;round&quot;, &quot;lineJoin&quot;: &quot;round&quot;, &quot;opacity&quot;: 1.0, &quot;radius&quot;: 3.82, &quot;stroke&quot;: true, &quot;weight&quot;: 3}\n",
       "            ).addTo(map_0f408ea3b44dbfcb8788975461c63aa2);\n",
       "        \n",
       "    \n",
       "        var popup_dbb2c2de2ae404007c46e094b37a3745 = L.popup({&quot;maxWidth&quot;: &quot;100%&quot;});\n",
       "\n",
       "        \n",
       "            \n",
       "                var html_b8b97eec829d2b4950a15b3440680351 = $(`&lt;div id=&quot;html_b8b97eec829d2b4950a15b3440680351&quot; style=&quot;width: 100.0%; height: 100.0%;&quot;&gt;1910&lt;/div&gt;`)[0];\n",
       "                popup_dbb2c2de2ae404007c46e094b37a3745.setContent(html_b8b97eec829d2b4950a15b3440680351);\n",
       "            \n",
       "        \n",
       "\n",
       "        circle_marker_e509a3d583f5716a28c81f7d399f2e84.bindPopup(popup_dbb2c2de2ae404007c46e094b37a3745)\n",
       "        ;\n",
       "\n",
       "        \n",
       "    \n",
       "&lt;/script&gt;\n",
       "&lt;/html&gt;\" style=\"position:absolute;width:100%;height:100%;left:0;top:0;border:none !important;\" allowfullscreen webkitallowfullscreen mozallowfullscreen></iframe></div></div>"
      ],
      "text/plain": [
       "<folium.folium.Map at 0x2a253be80>"
      ]
     },
     "execution_count": 31,
     "metadata": {},
     "output_type": "execute_result"
    }
   ],
   "source": [
    "freq_places = proverbs_sp.place.value_counts()[:20]\n",
    "m = folium.Map(location=[39.0742, 21.8243], zoom_start=5)\n",
    "for i in range(10):\n",
    "    freq = freq_places.iloc[i]\n",
    "    place = freq_places.index[i].split(\">\")[0]\n",
    "    loc = geolocs[place]\n",
    "    folium.CircleMarker((loc[\"lat\"], loc[\"lon\"]), \n",
    "                  radius=freq/500,\n",
    "                  popup=f\"{freq}\",\n",
    "                  color=\"#3186cc\",\n",
    "                  fill=True,\n",
    "                  fill_color=\"#3186cc\").add_to(m)\n",
    "m.save('frequent_places.html')\n",
    "m"
   ]
  },
  {
   "cell_type": "markdown",
   "metadata": {
    "id": "bbxrPia8Yr6M"
   },
   "source": [
    "* Next, we'll work with places which have 1,000 or more proverbs, allowing sampling without class imbalance issues."
   ]
  },
  {
   "cell_type": "code",
   "execution_count": 32,
   "metadata": {
    "colab": {
     "base_uri": "https://localhost:8080/"
    },
    "id": "uhVV0gwBYpV7",
    "outputId": "a939aab7-10cd-49e6-837b-4bf9a5565506"
   },
   "outputs": [
    {
     "name": "stdout",
     "output_type": "stream",
     "text": [
      "Out of the 129 places, 23 own 1000 proverbs or more.\n"
     ]
    }
   ],
   "source": [
    "group_level = \"area\"\n",
    "placed = proverbs_sp.groupby(group_level)\n",
    "placed_pd = pd.DataFrame({\"text\": placed.text.apply(list)})\n",
    "placed_pd[\"length\"] = placed_pd.text.apply(len)\n",
    "print(f\"Out of the {placed_pd.shape[0]} places, {placed_pd[placed_pd.length>1000].shape[0]} own 1000 proverbs or more.\")"
   ]
  },
  {
   "cell_type": "code",
   "execution_count": 33,
   "metadata": {
    "colab": {
     "base_uri": "https://localhost:8080/",
     "height": 214
    },
    "id": "X8hyJR5cY4J6",
    "outputId": "7b6d5e63-88af-49bb-8862-76fba24b5b25"
   },
   "outputs": [
    {
     "data": {
      "image/png": "[encoded data removed]",
      "text/plain": [
       "<Figure size 500x200 with 1 Axes>"
      ]
     },
     "metadata": {},
     "output_type": "display_data"
    }
   ],
   "source": [
    "placed_pd.length.hist(bins=20, figsize=(5,2));\n",
    "sns.despine(left=True, bottom=True)"
   ]
  },
  {
   "cell_type": "markdown",
   "metadata": {
    "id": "4xqr8FydY95p"
   },
   "source": [
    "* The proverbs from places reported at least 1,000 times are more than 80,000."
   ]
  },
  {
   "cell_type": "code",
   "execution_count": 34,
   "metadata": {
    "colab": {
     "base_uri": "https://localhost:8080/"
    },
    "id": "HMrMwyMnY7zN",
    "outputId": "54c9e85d-e255-47ef-a219-5c948795acd3"
   },
   "outputs": [
    {
     "name": "stdout",
     "output_type": "stream",
     "text": [
      "Found 80893 proverbs from 23 places\n"
     ]
    }
   ],
   "source": [
    "common_places = placed_pd[placed_pd.length>=1000].index\n",
    "# filtering texts found on these places\n",
    "common_sayings = proverbs_sp[proverbs_sp[group_level].isin(common_places)]\n",
    "print(f\"Found {common_sayings.shape[0]} proverbs from {len(common_places)} places\")"
   ]
  },
  {
   "cell_type": "markdown",
   "metadata": {
    "id": "rZxuvO_vZBXC"
   },
   "source": [
    "* Removing proverbs with unknown (invalid?) characters."
   ]
  },
  {
   "cell_type": "code",
   "execution_count": 35,
   "metadata": {
    "id": "tRlAdc_XY_bg"
   },
   "outputs": [],
   "source": [
    "stopchars = {'$', '*', '+', '0', '1', '2', '3', '4', '5', '6', '7', '8', '9', 'A', 'B', 'C', 'D', 'G', 'H', 'I', 'N', 'O', 'P', 'S', 'T', 'W', '[', ']', 'a','b', 'c', 'd', 'e', 'f', 'g', 'h', 'i', 'j', 'k', 'l', 'm', 'n', 'o', 'p', 'r', 's', 't', 'u', 'v', 'y', 'z', 'ä', '\\ufeff'}\n",
    "common_sayings_norm = common_sayings[~common_sayings.text.apply(lambda x: len(set(x).intersection(stopchars))>0)]"
   ]
  },
  {
   "cell_type": "markdown",
   "metadata": {
    "id": "Og5X__xNZFwc"
   },
   "source": [
    "* Creating a location-balanced corpus."
   ]
  },
  {
   "cell_type": "code",
   "execution_count": 36,
   "metadata": {
    "colab": {
     "base_uri": "https://localhost:8080/"
    },
    "id": "9BHMjWOLZDyG",
    "outputId": "37909e9b-1521-467c-c678-7958a77185f0"
   },
   "outputs": [
    {
     "data": {
      "text/plain": [
       "(11500, 7)"
      ]
     },
     "execution_count": 36,
     "metadata": {},
     "output_type": "execute_result"
    }
   ],
   "source": [
    "balanced_corpus = pd.concat([common_sayings_norm[common_sayings_norm.area==a].sample(500) for a in common_places])\n",
    "balanced_corpus.shape"
   ]
  },
  {
   "cell_type": "markdown",
   "metadata": {
    "id": "3vn4zVkAZkNK"
   },
   "source": [
    "## Location-based TFILF\n",
    "* For each place, we compute character n-gram frequencies (TF).\n",
    "* Terms infrequent across locations (location > document) are more important (ILF). "
   ]
  },
  {
   "cell_type": "code",
   "execution_count": 37,
   "metadata": {
    "id": "ntia61DOZJHs"
   },
   "outputs": [],
   "source": [
    "from sklearn.feature_extraction.text import TfidfVectorizer"
   ]
  },
  {
   "cell_type": "code",
   "execution_count": 38,
   "metadata": {
    "id": "jTHpOCplZjU5"
   },
   "outputs": [],
   "source": [
    "long_texts = [\" \\n \".join(balanced_corpus[balanced_corpus.area==a].text.values) for a in common_places]\n",
    "vect = TfidfVectorizer(ngram_range=(1,1), analyzer=\"word\", max_df=0.5, min_df=1, lowercase=True)\n",
    "X = vect.fit_transform(long_texts)"
   ]
  },
  {
   "cell_type": "code",
   "execution_count": 39,
   "metadata": {
    "id": "Zj5ZqzzTZy64"
   },
   "outputs": [],
   "source": [
    "# computing the TFIDF per place\n",
    "geotfidf = pd.DataFrame(columns = common_places, index=vect.get_feature_names_out())\n",
    "for i, a in enumerate(common_places):\n",
    "    geotfidf[a] = np.array(X[i].sum(0))[0]"
   ]
  },
  {
   "cell_type": "markdown",
   "metadata": {
    "id": "593NRWO8Z2NO"
   },
   "source": [
    "* Sorting the frequencies per place, gives characteristic n-grams; i.e., frequent locally yet infrequent globally."
   ]
  },
  {
   "cell_type": "code",
   "execution_count": 40,
   "metadata": {
    "colab": {
     "base_uri": "https://localhost:8080/",
     "height": 254
    },
    "id": "0vmJes76Z0Kc",
    "outputId": "c87c20dc-ea13-4229-d634-d850520182cc"
   },
   "outputs": [
    {
     "data": {
      "text/html": [
       "<div>\n",
       "<style scoped>\n",
       "    .dataframe tbody tr th:only-of-type {\n",
       "        vertical-align: middle;\n",
       "    }\n",
       "\n",
       "    .dataframe tbody tr th {\n",
       "        vertical-align: top;\n",
       "    }\n",
       "\n",
       "    .dataframe thead th {\n",
       "        text-align: right;\n",
       "    }\n",
       "</style>\n",
       "<table border=\"1\" class=\"dataframe\">\n",
       "  <thead>\n",
       "    <tr style=\"text-align: right;\">\n",
       "      <th>area</th>\n",
       "      <th>Ήπειρος</th>\n",
       "      <th>Αιτωλία</th>\n",
       "      <th>Αμοργός</th>\n",
       "      <th>Ανατολική Θράκη</th>\n",
       "      <th>Αρκαδία</th>\n",
       "      <th>Αχαΐα</th>\n",
       "      <th>Επτάνησος</th>\n",
       "      <th>Εύβοια</th>\n",
       "      <th>Θεσπρωτία</th>\n",
       "      <th>Θράκη</th>\n",
       "      <th>...</th>\n",
       "      <th>Κρήτη</th>\n",
       "      <th>Κύπρος</th>\n",
       "      <th>Λέσβος</th>\n",
       "      <th>Λακωνία</th>\n",
       "      <th>Μακεδονία</th>\n",
       "      <th>Μικρά Ασία</th>\n",
       "      <th>Νάξος</th>\n",
       "      <th>Πόντος</th>\n",
       "      <th>Ρόδος</th>\n",
       "      <th>Σκύρος</th>\n",
       "    </tr>\n",
       "  </thead>\n",
       "  <tbody>\n",
       "    <tr>\n",
       "      <th>τζ</th>\n",
       "      <td>0.0</td>\n",
       "      <td>0.0</td>\n",
       "      <td>0.0</td>\n",
       "      <td>0.0</td>\n",
       "      <td>0.0</td>\n",
       "      <td>0.0</td>\n",
       "      <td>0.015971</td>\n",
       "      <td>0.0</td>\n",
       "      <td>0.0</td>\n",
       "      <td>0.0</td>\n",
       "      <td>...</td>\n",
       "      <td>0.0</td>\n",
       "      <td>0.661621</td>\n",
       "      <td>0.0</td>\n",
       "      <td>0.0</td>\n",
       "      <td>0.0</td>\n",
       "      <td>0.0</td>\n",
       "      <td>0.015777</td>\n",
       "      <td>0.0</td>\n",
       "      <td>0.0</td>\n",
       "      <td>0.0</td>\n",
       "    </tr>\n",
       "    <tr>\n",
       "      <th>τζαι</th>\n",
       "      <td>0.0</td>\n",
       "      <td>0.0</td>\n",
       "      <td>0.0</td>\n",
       "      <td>0.0</td>\n",
       "      <td>0.0</td>\n",
       "      <td>0.0</td>\n",
       "      <td>0.000000</td>\n",
       "      <td>0.0</td>\n",
       "      <td>0.0</td>\n",
       "      <td>0.0</td>\n",
       "      <td>...</td>\n",
       "      <td>0.0</td>\n",
       "      <td>0.360815</td>\n",
       "      <td>0.0</td>\n",
       "      <td>0.0</td>\n",
       "      <td>0.0</td>\n",
       "      <td>0.0</td>\n",
       "      <td>0.000000</td>\n",
       "      <td>0.0</td>\n",
       "      <td>0.0</td>\n",
       "      <td>0.0</td>\n",
       "    </tr>\n",
       "    <tr>\n",
       "      <th>τζαί</th>\n",
       "      <td>0.0</td>\n",
       "      <td>0.0</td>\n",
       "      <td>0.0</td>\n",
       "      <td>0.0</td>\n",
       "      <td>0.0</td>\n",
       "      <td>0.0</td>\n",
       "      <td>0.000000</td>\n",
       "      <td>0.0</td>\n",
       "      <td>0.0</td>\n",
       "      <td>0.0</td>\n",
       "      <td>...</td>\n",
       "      <td>0.0</td>\n",
       "      <td>0.343215</td>\n",
       "      <td>0.0</td>\n",
       "      <td>0.0</td>\n",
       "      <td>0.0</td>\n",
       "      <td>0.0</td>\n",
       "      <td>0.000000</td>\n",
       "      <td>0.0</td>\n",
       "      <td>0.0</td>\n",
       "      <td>0.0</td>\n",
       "    </tr>\n",
       "  </tbody>\n",
       "</table>\n",
       "<p>3 rows × 23 columns</p>\n",
       "</div>"
      ],
      "text/plain": [
       "area  Ήπειρος  Αιτωλία  Αμοργός  Ανατολική Θράκη  Αρκαδία  Αχαΐα  Επτάνησος   \n",
       "τζ        0.0      0.0      0.0              0.0      0.0    0.0   0.015971  \\\n",
       "τζαι      0.0      0.0      0.0              0.0      0.0    0.0   0.000000   \n",
       "τζαί      0.0      0.0      0.0              0.0      0.0    0.0   0.000000   \n",
       "\n",
       "area  Εύβοια  Θεσπρωτία  Θράκη  ...  Κρήτη    Κύπρος  Λέσβος  Λακωνία   \n",
       "τζ       0.0        0.0    0.0  ...    0.0  0.661621     0.0      0.0  \\\n",
       "τζαι     0.0        0.0    0.0  ...    0.0  0.360815     0.0      0.0   \n",
       "τζαί     0.0        0.0    0.0  ...    0.0  0.343215     0.0      0.0   \n",
       "\n",
       "area  Μακεδονία  Μικρά Ασία     Νάξος  Πόντος  Ρόδος  Σκύρος  \n",
       "τζ          0.0         0.0  0.015777     0.0    0.0     0.0  \n",
       "τζαι        0.0         0.0  0.000000     0.0    0.0     0.0  \n",
       "τζαί        0.0         0.0  0.000000     0.0    0.0     0.0  \n",
       "\n",
       "[3 rows x 23 columns]"
      ]
     },
     "execution_count": 40,
     "metadata": {},
     "output_type": "execute_result"
    }
   ],
   "source": [
    "geotfidf.sort_values(by=\"Κύπρος\", ascending=False).head(3)"
   ]
  },
  {
   "cell_type": "markdown",
   "metadata": {
    "id": "9loMuX4LZ6W9"
   },
   "source": [
    "* Computing a lexicon with the terms with the highest TFIDF value per area"
   ]
  },
  {
   "cell_type": "code",
   "execution_count": 41,
   "metadata": {
    "colab": {
     "base_uri": "https://localhost:8080/"
    },
    "id": "S5UGGwp8Z39F",
    "outputId": "03cf8c45-8d03-45e1-8a70-139a524a8fc7"
   },
   "outputs": [
    {
     "data": {
      "text/plain": [
       "{'Ήπειρος': ['τουν', 'ου', 'τούν'],\n",
       " 'Αιτωλία': ['ου', 'τουν', 'είνι'],\n",
       " 'Αμοργός': ['λωλός', 'γυρεύγει', 'μηδέ'],\n",
       " 'Ανατολική Θράκη': ['πάγη', 'γίνουνται', 'βάσανα'],\n",
       " 'Αρκαδία': ['πόδια', 'ρε', 'θες'],\n",
       " 'Αχαΐα': ['ήρθε', 'ήναι', 'στους'],\n",
       " 'Επτάνησος': ['ναν', 'τσου', 'τονε'],\n",
       " 'Εύβοια': ['τσαί', 'τσαι', 'σι'],\n",
       " 'Θεσπρωτία': ['δρόμο', 'αλλά', 'γομάρι'],\n",
       " 'Θράκη': ['πε', 'δι', 'τς'],\n",
       " 'Ιωάννινα': ['μι', 'τουν', 'ου'],\n",
       " 'Κάρπαθος': ['τσαί', 'τσαι', 'μήε'],\n",
       " 'Κεφαλληνία': ['τσου', 'τση', 'ναν'],\n",
       " 'Κρήτη': ['ντου', 'οντέ', 'απου'],\n",
       " 'Κύπρος': ['τζ', 'τζαι', 'τζαί'],\n",
       " 'Λέσβος': ['τσι', 'τουν', 'είνι'],\n",
       " 'Λακωνία': ['γίνου', 'μαλώνουν', 'δική'],\n",
       " 'Μακεδονία': ['τουν', 'ου', 'μι'],\n",
       " 'Μικρά Ασία': ['κη', 'τουν', 'κή'],\n",
       " 'Νάξος': ['τζη', 'ια', 'ίνεται'],\n",
       " 'Πόντος': ['σο', 'ατ', 'σην'],\n",
       " 'Ρόδος': ['λωλλός', 'ηύραν', 'γρηά'],\n",
       " 'Σκύρος': ['τσαί', 'τσαι', 'έναι']}"
      ]
     },
     "execution_count": 41,
     "metadata": {},
     "output_type": "execute_result"
    }
   ],
   "source": [
    "area_ngrams = {a:list(geotfidf.sort_values(by=a, ascending=False)[a].head(3).index) for a in common_places}\n",
    "area_ngrams"
   ]
  },
  {
   "cell_type": "markdown",
   "metadata": {
    "id": "wfQ2scOkaBjQ"
   },
   "source": [
    "* Locating the important terms per location on a map (clickable pins)"
   ]
  },
  {
   "cell_type": "code",
   "execution_count": 42,
   "metadata": {
    "colab": {
     "base_uri": "https://localhost:8080/",
     "height": 657
    },
    "id": "Zmmti-aOaBSN",
    "outputId": "c82cf6f7-c7f3-447f-c1e7-862b343c4a07"
   },
   "outputs": [
    {
     "data": {
      "text/html": [
       "<div style=\"width:100%;\"><div style=\"position:relative;width:100%;height:0;padding-bottom:60%;\"><span style=\"color:#565656\">Make this Notebook Trusted to load map: File -> Trust Notebook</span><iframe srcdoc=\"&lt;!DOCTYPE html&gt;\n",
       "&lt;html&gt;\n",
       "&lt;head&gt;\n",
       "    \n",
       "    &lt;meta http-equiv=&quot;content-type&quot; content=&quot;text/html; charset=UTF-8&quot; /&gt;\n",
       "    \n",
       "        &lt;script&gt;\n",
       "            L_NO_TOUCH = false;\n",
       "            L_DISABLE_3D = false;\n",
       "        &lt;/script&gt;\n",
       "    \n",
       "    &lt;style&gt;html, body {width: 100%;height: 100%;margin: 0;padding: 0;}&lt;/style&gt;\n",
       "    &lt;style&gt;#map {position:absolute;top:0;bottom:0;right:0;left:0;}&lt;/style&gt;\n",
       "    &lt;script src=&quot;https://cdn.jsdelivr.net/npm/leaflet@1.9.3/dist/leaflet.js&quot;&gt;&lt;/script&gt;\n",
       "    &lt;script src=&quot;https://code.jquery.com/jquery-1.12.4.min.js&quot;&gt;&lt;/script&gt;\n",
       "    &lt;script src=&quot;https://cdn.jsdelivr.net/npm/bootstrap@5.2.2/dist/js/bootstrap.bundle.min.js&quot;&gt;&lt;/script&gt;\n",
       "    &lt;script src=&quot;https://cdnjs.cloudflare.com/ajax/libs/Leaflet.awesome-markers/2.0.2/leaflet.awesome-markers.js&quot;&gt;&lt;/script&gt;\n",
       "    &lt;link rel=&quot;stylesheet&quot; href=&quot;https://cdn.jsdelivr.net/npm/leaflet@1.9.3/dist/leaflet.css&quot;/&gt;\n",
       "    &lt;link rel=&quot;stylesheet&quot; href=&quot;https://cdn.jsdelivr.net/npm/bootstrap@5.2.2/dist/css/bootstrap.min.css&quot;/&gt;\n",
       "    &lt;link rel=&quot;stylesheet&quot; href=&quot;https://netdna.bootstrapcdn.com/bootstrap/3.0.0/css/bootstrap.min.css&quot;/&gt;\n",
       "    &lt;link rel=&quot;stylesheet&quot; href=&quot;https://cdn.jsdelivr.net/npm/@fortawesome/fontawesome-free@6.2.0/css/all.min.css&quot;/&gt;\n",
       "    &lt;link rel=&quot;stylesheet&quot; href=&quot;https://cdnjs.cloudflare.com/ajax/libs/Leaflet.awesome-markers/2.0.2/leaflet.awesome-markers.css&quot;/&gt;\n",
       "    &lt;link rel=&quot;stylesheet&quot; href=&quot;https://cdn.jsdelivr.net/gh/python-visualization/folium/folium/templates/leaflet.awesome.rotate.min.css&quot;/&gt;\n",
       "    \n",
       "            &lt;meta name=&quot;viewport&quot; content=&quot;width=device-width,\n",
       "                initial-scale=1.0, maximum-scale=1.0, user-scalable=no&quot; /&gt;\n",
       "            &lt;style&gt;\n",
       "                #map_0ee0e1b9bd1c21646235d41f8dc1cec8 {\n",
       "                    position: relative;\n",
       "                    width: 100.0%;\n",
       "                    height: 100.0%;\n",
       "                    left: 0.0%;\n",
       "                    top: 0.0%;\n",
       "                }\n",
       "                .leaflet-container { font-size: 1rem; }\n",
       "            &lt;/style&gt;\n",
       "        \n",
       "&lt;/head&gt;\n",
       "&lt;body&gt;\n",
       "    \n",
       "    \n",
       "            &lt;div class=&quot;folium-map&quot; id=&quot;map_0ee0e1b9bd1c21646235d41f8dc1cec8&quot; &gt;&lt;/div&gt;\n",
       "        \n",
       "&lt;/body&gt;\n",
       "&lt;script&gt;\n",
       "    \n",
       "    \n",
       "            var map_0ee0e1b9bd1c21646235d41f8dc1cec8 = L.map(\n",
       "                &quot;map_0ee0e1b9bd1c21646235d41f8dc1cec8&quot;,\n",
       "                {\n",
       "                    center: [39.0742, 21.8243],\n",
       "                    crs: L.CRS.EPSG3857,\n",
       "                    zoom: 5,\n",
       "                    zoomControl: true,\n",
       "                    preferCanvas: false,\n",
       "                }\n",
       "            );\n",
       "\n",
       "            \n",
       "\n",
       "        \n",
       "    \n",
       "            var tile_layer_30e2262b8ee6fb925110da2d6ca7e125 = L.tileLayer(\n",
       "                &quot;https://{s}.tile.openstreetmap.org/{z}/{x}/{y}.png&quot;,\n",
       "                {&quot;attribution&quot;: &quot;Data by \\u0026copy; \\u003ca target=\\&quot;_blank\\&quot; href=\\&quot;http://openstreetmap.org\\&quot;\\u003eOpenStreetMap\\u003c/a\\u003e, under \\u003ca target=\\&quot;_blank\\&quot; href=\\&quot;http://www.openstreetmap.org/copyright\\&quot;\\u003eODbL\\u003c/a\\u003e.&quot;, &quot;detectRetina&quot;: false, &quot;maxNativeZoom&quot;: 18, &quot;maxZoom&quot;: 18, &quot;minZoom&quot;: 0, &quot;noWrap&quot;: false, &quot;opacity&quot;: 1, &quot;subdomains&quot;: &quot;abc&quot;, &quot;tms&quot;: false}\n",
       "            ).addTo(map_0ee0e1b9bd1c21646235d41f8dc1cec8);\n",
       "        \n",
       "    \n",
       "            var circle_bb4b08e8e9a0e0e4e679ac7141a7ec33 = L.circle(\n",
       "                [37.9574332, 23.7108518],\n",
       "                {&quot;bubblingMouseEvents&quot;: true, &quot;color&quot;: &quot;#3388ff&quot;, &quot;dashArray&quot;: null, &quot;dashOffset&quot;: null, &quot;fill&quot;: true, &quot;fillColor&quot;: &quot;#3388ff&quot;, &quot;fillOpacity&quot;: 0.2, &quot;fillRule&quot;: &quot;evenodd&quot;, &quot;lineCap&quot;: &quot;round&quot;, &quot;lineJoin&quot;: &quot;round&quot;, &quot;opacity&quot;: 1.0, &quot;radius&quot;: 20000, &quot;stroke&quot;: true, &quot;weight&quot;: 3}\n",
       "            ).addTo(map_0ee0e1b9bd1c21646235d41f8dc1cec8);\n",
       "        \n",
       "    \n",
       "        var popup_f1aa01e3cb30f431f61fb3a29b540245 = L.popup({&quot;maxWidth&quot;: &quot;100%&quot;});\n",
       "\n",
       "        \n",
       "            \n",
       "                var html_159abd445199fabdb7c669d7a0124ebb = $(`&lt;div id=&quot;html_159abd445199fabdb7c669d7a0124ebb&quot; style=&quot;width: 100.0%; height: 100.0%;&quot;&gt;τουν, ου, τούν&lt;/div&gt;`)[0];\n",
       "                popup_f1aa01e3cb30f431f61fb3a29b540245.setContent(html_159abd445199fabdb7c669d7a0124ebb);\n",
       "            \n",
       "        \n",
       "\n",
       "        circle_bb4b08e8e9a0e0e4e679ac7141a7ec33.bindPopup(popup_f1aa01e3cb30f431f61fb3a29b540245)\n",
       "        ;\n",
       "\n",
       "        \n",
       "    \n",
       "    \n",
       "            var circle_2ca053982b25489cc72b38dbab3df9a9 = L.circle(\n",
       "                [37.4204248, 24.9479564],\n",
       "                {&quot;bubblingMouseEvents&quot;: true, &quot;color&quot;: &quot;#3388ff&quot;, &quot;dashArray&quot;: null, &quot;dashOffset&quot;: null, &quot;fill&quot;: true, &quot;fillColor&quot;: &quot;#3388ff&quot;, &quot;fillOpacity&quot;: 0.2, &quot;fillRule&quot;: &quot;evenodd&quot;, &quot;lineCap&quot;: &quot;round&quot;, &quot;lineJoin&quot;: &quot;round&quot;, &quot;opacity&quot;: 1.0, &quot;radius&quot;: 20000, &quot;stroke&quot;: true, &quot;weight&quot;: 3}\n",
       "            ).addTo(map_0ee0e1b9bd1c21646235d41f8dc1cec8);\n",
       "        \n",
       "    \n",
       "        var popup_997b441e48452505754cd93203d0e1d9 = L.popup({&quot;maxWidth&quot;: &quot;100%&quot;});\n",
       "\n",
       "        \n",
       "            \n",
       "                var html_8ad08a27a49d33a2c0e5f9c2efbce0ab = $(`&lt;div id=&quot;html_8ad08a27a49d33a2c0e5f9c2efbce0ab&quot; style=&quot;width: 100.0%; height: 100.0%;&quot;&gt;ου, τουν, είνι&lt;/div&gt;`)[0];\n",
       "                popup_997b441e48452505754cd93203d0e1d9.setContent(html_8ad08a27a49d33a2c0e5f9c2efbce0ab);\n",
       "            \n",
       "        \n",
       "\n",
       "        circle_2ca053982b25489cc72b38dbab3df9a9.bindPopup(popup_997b441e48452505754cd93203d0e1d9)\n",
       "        ;\n",
       "\n",
       "        \n",
       "    \n",
       "    \n",
       "            var circle_eb509ad2e82f002babad6996453e04ba = L.circle(\n",
       "                [36.85252415, 25.89848696771565],\n",
       "                {&quot;bubblingMouseEvents&quot;: true, &quot;color&quot;: &quot;#3388ff&quot;, &quot;dashArray&quot;: null, &quot;dashOffset&quot;: null, &quot;fill&quot;: true, &quot;fillColor&quot;: &quot;#3388ff&quot;, &quot;fillOpacity&quot;: 0.2, &quot;fillRule&quot;: &quot;evenodd&quot;, &quot;lineCap&quot;: &quot;round&quot;, &quot;lineJoin&quot;: &quot;round&quot;, &quot;opacity&quot;: 1.0, &quot;radius&quot;: 20000, &quot;stroke&quot;: true, &quot;weight&quot;: 3}\n",
       "            ).addTo(map_0ee0e1b9bd1c21646235d41f8dc1cec8);\n",
       "        \n",
       "    \n",
       "        var popup_86038380a99cd314926ca049c7b990ff = L.popup({&quot;maxWidth&quot;: &quot;100%&quot;});\n",
       "\n",
       "        \n",
       "            \n",
       "                var html_ba72c61d00a264acf5473ab2e96dc5c8 = $(`&lt;div id=&quot;html_ba72c61d00a264acf5473ab2e96dc5c8&quot; style=&quot;width: 100.0%; height: 100.0%;&quot;&gt;λωλός, γυρεύγει, μηδέ&lt;/div&gt;`)[0];\n",
       "                popup_86038380a99cd314926ca049c7b990ff.setContent(html_ba72c61d00a264acf5473ab2e96dc5c8);\n",
       "            \n",
       "        \n",
       "\n",
       "        circle_eb509ad2e82f002babad6996453e04ba.bindPopup(popup_86038380a99cd314926ca049c7b990ff)\n",
       "        ;\n",
       "\n",
       "        \n",
       "    \n",
       "    \n",
       "            var circle_bff3a9222d9ef4e58f5b56f49b26364c = L.circle(\n",
       "                [41.6759327, 26.5587225],\n",
       "                {&quot;bubblingMouseEvents&quot;: true, &quot;color&quot;: &quot;#3388ff&quot;, &quot;dashArray&quot;: null, &quot;dashOffset&quot;: null, &quot;fill&quot;: true, &quot;fillColor&quot;: &quot;#3388ff&quot;, &quot;fillOpacity&quot;: 0.2, &quot;fillRule&quot;: &quot;evenodd&quot;, &quot;lineCap&quot;: &quot;round&quot;, &quot;lineJoin&quot;: &quot;round&quot;, &quot;opacity&quot;: 1.0, &quot;radius&quot;: 20000, &quot;stroke&quot;: true, &quot;weight&quot;: 3}\n",
       "            ).addTo(map_0ee0e1b9bd1c21646235d41f8dc1cec8);\n",
       "        \n",
       "    \n",
       "        var popup_256616b70f29bcb4275d935575f22d60 = L.popup({&quot;maxWidth&quot;: &quot;100%&quot;});\n",
       "\n",
       "        \n",
       "            \n",
       "                var html_ec88cff93ee7522c3fe4f3108fdb4175 = $(`&lt;div id=&quot;html_ec88cff93ee7522c3fe4f3108fdb4175&quot; style=&quot;width: 100.0%; height: 100.0%;&quot;&gt;πάγη, γίνουνται, βάσανα&lt;/div&gt;`)[0];\n",
       "                popup_256616b70f29bcb4275d935575f22d60.setContent(html_ec88cff93ee7522c3fe4f3108fdb4175);\n",
       "            \n",
       "        \n",
       "\n",
       "        circle_bff3a9222d9ef4e58f5b56f49b26364c.bindPopup(popup_256616b70f29bcb4275d935575f22d60)\n",
       "        ;\n",
       "\n",
       "        \n",
       "    \n",
       "    \n",
       "            var circle_db2addeaa73c061b3630cbb85e2c3ec6 = L.circle(\n",
       "                [38.0368583, 23.6689264],\n",
       "                {&quot;bubblingMouseEvents&quot;: true, &quot;color&quot;: &quot;#3388ff&quot;, &quot;dashArray&quot;: null, &quot;dashOffset&quot;: null, &quot;fill&quot;: true, &quot;fillColor&quot;: &quot;#3388ff&quot;, &quot;fillOpacity&quot;: 0.2, &quot;fillRule&quot;: &quot;evenodd&quot;, &quot;lineCap&quot;: &quot;round&quot;, &quot;lineJoin&quot;: &quot;round&quot;, &quot;opacity&quot;: 1.0, &quot;radius&quot;: 20000, &quot;stroke&quot;: true, &quot;weight&quot;: 3}\n",
       "            ).addTo(map_0ee0e1b9bd1c21646235d41f8dc1cec8);\n",
       "        \n",
       "    \n",
       "        var popup_ff028bf05958719a38686da235b1f077 = L.popup({&quot;maxWidth&quot;: &quot;100%&quot;});\n",
       "\n",
       "        \n",
       "            \n",
       "                var html_9a0c25358e46ed1732e8d39dc5423b10 = $(`&lt;div id=&quot;html_9a0c25358e46ed1732e8d39dc5423b10&quot; style=&quot;width: 100.0%; height: 100.0%;&quot;&gt;πόδια, ρε, θες&lt;/div&gt;`)[0];\n",
       "                popup_ff028bf05958719a38686da235b1f077.setContent(html_9a0c25358e46ed1732e8d39dc5423b10);\n",
       "            \n",
       "        \n",
       "\n",
       "        circle_db2addeaa73c061b3630cbb85e2c3ec6.bindPopup(popup_ff028bf05958719a38686da235b1f077)\n",
       "        ;\n",
       "\n",
       "        \n",
       "    \n",
       "    \n",
       "            var circle_e74ac77ac1dfd2bd6e5653abbb9dcee3 = L.circle(\n",
       "                [38.0692748, 21.87273042232539],\n",
       "                {&quot;bubblingMouseEvents&quot;: true, &quot;color&quot;: &quot;#3388ff&quot;, &quot;dashArray&quot;: null, &quot;dashOffset&quot;: null, &quot;fill&quot;: true, &quot;fillColor&quot;: &quot;#3388ff&quot;, &quot;fillOpacity&quot;: 0.2, &quot;fillRule&quot;: &quot;evenodd&quot;, &quot;lineCap&quot;: &quot;round&quot;, &quot;lineJoin&quot;: &quot;round&quot;, &quot;opacity&quot;: 1.0, &quot;radius&quot;: 20000, &quot;stroke&quot;: true, &quot;weight&quot;: 3}\n",
       "            ).addTo(map_0ee0e1b9bd1c21646235d41f8dc1cec8);\n",
       "        \n",
       "    \n",
       "        var popup_26e77b1a73a1a73225703b1f3225f910 = L.popup({&quot;maxWidth&quot;: &quot;100%&quot;});\n",
       "\n",
       "        \n",
       "            \n",
       "                var html_6328627e949ca812767d14d76840e5a0 = $(`&lt;div id=&quot;html_6328627e949ca812767d14d76840e5a0&quot; style=&quot;width: 100.0%; height: 100.0%;&quot;&gt;ήρθε, ήναι, στους&lt;/div&gt;`)[0];\n",
       "                popup_26e77b1a73a1a73225703b1f3225f910.setContent(html_6328627e949ca812767d14d76840e5a0);\n",
       "            \n",
       "        \n",
       "\n",
       "        circle_e74ac77ac1dfd2bd6e5653abbb9dcee3.bindPopup(popup_26e77b1a73a1a73225703b1f3225f910)\n",
       "        ;\n",
       "\n",
       "        \n",
       "    \n",
       "    \n",
       "            var circle_0cf15d16de68431cd2c57cbcf6778ecd = L.circle(\n",
       "                [38.8351105, 20.7094392],\n",
       "                {&quot;bubblingMouseEvents&quot;: true, &quot;color&quot;: &quot;#3388ff&quot;, &quot;dashArray&quot;: null, &quot;dashOffset&quot;: null, &quot;fill&quot;: true, &quot;fillColor&quot;: &quot;#3388ff&quot;, &quot;fillOpacity&quot;: 0.2, &quot;fillRule&quot;: &quot;evenodd&quot;, &quot;lineCap&quot;: &quot;round&quot;, &quot;lineJoin&quot;: &quot;round&quot;, &quot;opacity&quot;: 1.0, &quot;radius&quot;: 20000, &quot;stroke&quot;: true, &quot;weight&quot;: 3}\n",
       "            ).addTo(map_0ee0e1b9bd1c21646235d41f8dc1cec8);\n",
       "        \n",
       "    \n",
       "        var popup_d131bfcaa96d6d3cfc32733a60748a68 = L.popup({&quot;maxWidth&quot;: &quot;100%&quot;});\n",
       "\n",
       "        \n",
       "            \n",
       "                var html_df360d71b38d6f156b8d9a8ec38b59c6 = $(`&lt;div id=&quot;html_df360d71b38d6f156b8d9a8ec38b59c6&quot; style=&quot;width: 100.0%; height: 100.0%;&quot;&gt;ναν, τσου, τονε&lt;/div&gt;`)[0];\n",
       "                popup_d131bfcaa96d6d3cfc32733a60748a68.setContent(html_df360d71b38d6f156b8d9a8ec38b59c6);\n",
       "            \n",
       "        \n",
       "\n",
       "        circle_0cf15d16de68431cd2c57cbcf6778ecd.bindPopup(popup_d131bfcaa96d6d3cfc32733a60748a68)\n",
       "        ;\n",
       "\n",
       "        \n",
       "    \n",
       "    \n",
       "            var circle_3ec9a682684917a865fed080a008c41e = L.circle(\n",
       "                [38.49417235, 23.91108439913793],\n",
       "                {&quot;bubblingMouseEvents&quot;: true, &quot;color&quot;: &quot;#3388ff&quot;, &quot;dashArray&quot;: null, &quot;dashOffset&quot;: null, &quot;fill&quot;: true, &quot;fillColor&quot;: &quot;#3388ff&quot;, &quot;fillOpacity&quot;: 0.2, &quot;fillRule&quot;: &quot;evenodd&quot;, &quot;lineCap&quot;: &quot;round&quot;, &quot;lineJoin&quot;: &quot;round&quot;, &quot;opacity&quot;: 1.0, &quot;radius&quot;: 20000, &quot;stroke&quot;: true, &quot;weight&quot;: 3}\n",
       "            ).addTo(map_0ee0e1b9bd1c21646235d41f8dc1cec8);\n",
       "        \n",
       "    \n",
       "        var popup_e4ef3217ec8f6e5d680a9841719fa3e2 = L.popup({&quot;maxWidth&quot;: &quot;100%&quot;});\n",
       "\n",
       "        \n",
       "            \n",
       "                var html_b9e1e220bb6b3542cd2098f8c18c568b = $(`&lt;div id=&quot;html_b9e1e220bb6b3542cd2098f8c18c568b&quot; style=&quot;width: 100.0%; height: 100.0%;&quot;&gt;τσαί, τσαι, σι&lt;/div&gt;`)[0];\n",
       "                popup_e4ef3217ec8f6e5d680a9841719fa3e2.setContent(html_b9e1e220bb6b3542cd2098f8c18c568b);\n",
       "            \n",
       "        \n",
       "\n",
       "        circle_3ec9a682684917a865fed080a008c41e.bindPopup(popup_e4ef3217ec8f6e5d680a9841719fa3e2)\n",
       "        ;\n",
       "\n",
       "        \n",
       "    \n",
       "    \n",
       "            var circle_a3f508407ca7ec0ccca0008d1cdb861b = L.circle(\n",
       "                [39.54401235, 20.308355368968883],\n",
       "                {&quot;bubblingMouseEvents&quot;: true, &quot;color&quot;: &quot;#3388ff&quot;, &quot;dashArray&quot;: null, &quot;dashOffset&quot;: null, &quot;fill&quot;: true, &quot;fillColor&quot;: &quot;#3388ff&quot;, &quot;fillOpacity&quot;: 0.2, &quot;fillRule&quot;: &quot;evenodd&quot;, &quot;lineCap&quot;: &quot;round&quot;, &quot;lineJoin&quot;: &quot;round&quot;, &quot;opacity&quot;: 1.0, &quot;radius&quot;: 20000, &quot;stroke&quot;: true, &quot;weight&quot;: 3}\n",
       "            ).addTo(map_0ee0e1b9bd1c21646235d41f8dc1cec8);\n",
       "        \n",
       "    \n",
       "        var popup_de5bd23b28a333cd6b13460cff601a7d = L.popup({&quot;maxWidth&quot;: &quot;100%&quot;});\n",
       "\n",
       "        \n",
       "            \n",
       "                var html_9714ee1b683a4d9ebf2fd3808ebe46b6 = $(`&lt;div id=&quot;html_9714ee1b683a4d9ebf2fd3808ebe46b6&quot; style=&quot;width: 100.0%; height: 100.0%;&quot;&gt;δρόμο, αλλά, γομάρι&lt;/div&gt;`)[0];\n",
       "                popup_de5bd23b28a333cd6b13460cff601a7d.setContent(html_9714ee1b683a4d9ebf2fd3808ebe46b6);\n",
       "            \n",
       "        \n",
       "\n",
       "        circle_a3f508407ca7ec0ccca0008d1cdb861b.bindPopup(popup_de5bd23b28a333cd6b13460cff601a7d)\n",
       "        ;\n",
       "\n",
       "        \n",
       "    \n",
       "    \n",
       "            var circle_7a479fdd677421d50689f00ce7772dd9 = L.circle(\n",
       "                [40.8464241, 25.8759377],\n",
       "                {&quot;bubblingMouseEvents&quot;: true, &quot;color&quot;: &quot;#3388ff&quot;, &quot;dashArray&quot;: null, &quot;dashOffset&quot;: null, &quot;fill&quot;: true, &quot;fillColor&quot;: &quot;#3388ff&quot;, &quot;fillOpacity&quot;: 0.2, &quot;fillRule&quot;: &quot;evenodd&quot;, &quot;lineCap&quot;: &quot;round&quot;, &quot;lineJoin&quot;: &quot;round&quot;, &quot;opacity&quot;: 1.0, &quot;radius&quot;: 20000, &quot;stroke&quot;: true, &quot;weight&quot;: 3}\n",
       "            ).addTo(map_0ee0e1b9bd1c21646235d41f8dc1cec8);\n",
       "        \n",
       "    \n",
       "        var popup_55baba2e145fd38f2017b00de536e54d = L.popup({&quot;maxWidth&quot;: &quot;100%&quot;});\n",
       "\n",
       "        \n",
       "            \n",
       "                var html_ef7286ba6d4e8bbecbdc9bc1560f8340 = $(`&lt;div id=&quot;html_ef7286ba6d4e8bbecbdc9bc1560f8340&quot; style=&quot;width: 100.0%; height: 100.0%;&quot;&gt;πε, δι, τς&lt;/div&gt;`)[0];\n",
       "                popup_55baba2e145fd38f2017b00de536e54d.setContent(html_ef7286ba6d4e8bbecbdc9bc1560f8340);\n",
       "            \n",
       "        \n",
       "\n",
       "        circle_7a479fdd677421d50689f00ce7772dd9.bindPopup(popup_55baba2e145fd38f2017b00de536e54d)\n",
       "        ;\n",
       "\n",
       "        \n",
       "    \n",
       "    \n",
       "            var circle_c7c854fc1e288ca9f16b5396662abcfe = L.circle(\n",
       "                [39.6639818, 20.8522784],\n",
       "                {&quot;bubblingMouseEvents&quot;: true, &quot;color&quot;: &quot;#3388ff&quot;, &quot;dashArray&quot;: null, &quot;dashOffset&quot;: null, &quot;fill&quot;: true, &quot;fillColor&quot;: &quot;#3388ff&quot;, &quot;fillOpacity&quot;: 0.2, &quot;fillRule&quot;: &quot;evenodd&quot;, &quot;lineCap&quot;: &quot;round&quot;, &quot;lineJoin&quot;: &quot;round&quot;, &quot;opacity&quot;: 1.0, &quot;radius&quot;: 20000, &quot;stroke&quot;: true, &quot;weight&quot;: 3}\n",
       "            ).addTo(map_0ee0e1b9bd1c21646235d41f8dc1cec8);\n",
       "        \n",
       "    \n",
       "        var popup_2cadc4145a4ec1214e2e72fb2ace10d8 = L.popup({&quot;maxWidth&quot;: &quot;100%&quot;});\n",
       "\n",
       "        \n",
       "            \n",
       "                var html_721341a4c715100cf266a08d50d0911b = $(`&lt;div id=&quot;html_721341a4c715100cf266a08d50d0911b&quot; style=&quot;width: 100.0%; height: 100.0%;&quot;&gt;μι, τουν, ου&lt;/div&gt;`)[0];\n",
       "                popup_2cadc4145a4ec1214e2e72fb2ace10d8.setContent(html_721341a4c715100cf266a08d50d0911b);\n",
       "            \n",
       "        \n",
       "\n",
       "        circle_c7c854fc1e288ca9f16b5396662abcfe.bindPopup(popup_2cadc4145a4ec1214e2e72fb2ace10d8)\n",
       "        ;\n",
       "\n",
       "        \n",
       "    \n",
       "    \n",
       "            var circle_bc786c1d504032df0b356b4751f84cda = L.circle(\n",
       "                [35.6136611, 27.11925668821135],\n",
       "                {&quot;bubblingMouseEvents&quot;: true, &quot;color&quot;: &quot;#3388ff&quot;, &quot;dashArray&quot;: null, &quot;dashOffset&quot;: null, &quot;fill&quot;: true, &quot;fillColor&quot;: &quot;#3388ff&quot;, &quot;fillOpacity&quot;: 0.2, &quot;fillRule&quot;: &quot;evenodd&quot;, &quot;lineCap&quot;: &quot;round&quot;, &quot;lineJoin&quot;: &quot;round&quot;, &quot;opacity&quot;: 1.0, &quot;radius&quot;: 20000, &quot;stroke&quot;: true, &quot;weight&quot;: 3}\n",
       "            ).addTo(map_0ee0e1b9bd1c21646235d41f8dc1cec8);\n",
       "        \n",
       "    \n",
       "        var popup_d3aa396d817e69217dd53242f24ccc01 = L.popup({&quot;maxWidth&quot;: &quot;100%&quot;});\n",
       "\n",
       "        \n",
       "            \n",
       "                var html_c52914ce23a9e9437f4860cc2f19ebdc = $(`&lt;div id=&quot;html_c52914ce23a9e9437f4860cc2f19ebdc&quot; style=&quot;width: 100.0%; height: 100.0%;&quot;&gt;τσαί, τσαι, μήε&lt;/div&gt;`)[0];\n",
       "                popup_d3aa396d817e69217dd53242f24ccc01.setContent(html_c52914ce23a9e9437f4860cc2f19ebdc);\n",
       "            \n",
       "        \n",
       "\n",
       "        circle_bc786c1d504032df0b356b4751f84cda.bindPopup(popup_d3aa396d817e69217dd53242f24ccc01)\n",
       "        ;\n",
       "\n",
       "        \n",
       "    \n",
       "    \n",
       "            var circle_8d3d3bb299f8e1aecf84e593f354012e = L.circle(\n",
       "                [38.2379344, 20.560883],\n",
       "                {&quot;bubblingMouseEvents&quot;: true, &quot;color&quot;: &quot;#3388ff&quot;, &quot;dashArray&quot;: null, &quot;dashOffset&quot;: null, &quot;fill&quot;: true, &quot;fillColor&quot;: &quot;#3388ff&quot;, &quot;fillOpacity&quot;: 0.2, &quot;fillRule&quot;: &quot;evenodd&quot;, &quot;lineCap&quot;: &quot;round&quot;, &quot;lineJoin&quot;: &quot;round&quot;, &quot;opacity&quot;: 1.0, &quot;radius&quot;: 20000, &quot;stroke&quot;: true, &quot;weight&quot;: 3}\n",
       "            ).addTo(map_0ee0e1b9bd1c21646235d41f8dc1cec8);\n",
       "        \n",
       "    \n",
       "        var popup_c9b4db6d81d55bff0d5b760ba4337fc6 = L.popup({&quot;maxWidth&quot;: &quot;100%&quot;});\n",
       "\n",
       "        \n",
       "            \n",
       "                var html_a34d718fc359b4dd94a8ccaffb88d4e2 = $(`&lt;div id=&quot;html_a34d718fc359b4dd94a8ccaffb88d4e2&quot; style=&quot;width: 100.0%; height: 100.0%;&quot;&gt;τσου, τση, ναν&lt;/div&gt;`)[0];\n",
       "                popup_c9b4db6d81d55bff0d5b760ba4337fc6.setContent(html_a34d718fc359b4dd94a8ccaffb88d4e2);\n",
       "            \n",
       "        \n",
       "\n",
       "        circle_8d3d3bb299f8e1aecf84e593f354012e.bindPopup(popup_c9b4db6d81d55bff0d5b760ba4337fc6)\n",
       "        ;\n",
       "\n",
       "        \n",
       "    \n",
       "    \n",
       "            var circle_96a2941d7c674a95bfaa711459ea4740 = L.circle(\n",
       "                [35.3084952, 24.46334231842296],\n",
       "                {&quot;bubblingMouseEvents&quot;: true, &quot;color&quot;: &quot;#3388ff&quot;, &quot;dashArray&quot;: null, &quot;dashOffset&quot;: null, &quot;fill&quot;: true, &quot;fillColor&quot;: &quot;#3388ff&quot;, &quot;fillOpacity&quot;: 0.2, &quot;fillRule&quot;: &quot;evenodd&quot;, &quot;lineCap&quot;: &quot;round&quot;, &quot;lineJoin&quot;: &quot;round&quot;, &quot;opacity&quot;: 1.0, &quot;radius&quot;: 20000, &quot;stroke&quot;: true, &quot;weight&quot;: 3}\n",
       "            ).addTo(map_0ee0e1b9bd1c21646235d41f8dc1cec8);\n",
       "        \n",
       "    \n",
       "        var popup_1d16e5cdc1c04794458c4a2fa765c406 = L.popup({&quot;maxWidth&quot;: &quot;100%&quot;});\n",
       "\n",
       "        \n",
       "            \n",
       "                var html_3f87e8dd283b01b8802d03e6e570e77e = $(`&lt;div id=&quot;html_3f87e8dd283b01b8802d03e6e570e77e&quot; style=&quot;width: 100.0%; height: 100.0%;&quot;&gt;ντου, οντέ, απου&lt;/div&gt;`)[0];\n",
       "                popup_1d16e5cdc1c04794458c4a2fa765c406.setContent(html_3f87e8dd283b01b8802d03e6e570e77e);\n",
       "            \n",
       "        \n",
       "\n",
       "        circle_96a2941d7c674a95bfaa711459ea4740.bindPopup(popup_1d16e5cdc1c04794458c4a2fa765c406)\n",
       "        ;\n",
       "\n",
       "        \n",
       "    \n",
       "    \n",
       "            var circle_1674e89eaaac2916f9e9741e92e4abf0 = L.circle(\n",
       "                [34.9823018, 33.1451285],\n",
       "                {&quot;bubblingMouseEvents&quot;: true, &quot;color&quot;: &quot;#3388ff&quot;, &quot;dashArray&quot;: null, &quot;dashOffset&quot;: null, &quot;fill&quot;: true, &quot;fillColor&quot;: &quot;#3388ff&quot;, &quot;fillOpacity&quot;: 0.2, &quot;fillRule&quot;: &quot;evenodd&quot;, &quot;lineCap&quot;: &quot;round&quot;, &quot;lineJoin&quot;: &quot;round&quot;, &quot;opacity&quot;: 1.0, &quot;radius&quot;: 20000, &quot;stroke&quot;: true, &quot;weight&quot;: 3}\n",
       "            ).addTo(map_0ee0e1b9bd1c21646235d41f8dc1cec8);\n",
       "        \n",
       "    \n",
       "        var popup_d1ee9a7f962d566628e107d0f58fd442 = L.popup({&quot;maxWidth&quot;: &quot;100%&quot;});\n",
       "\n",
       "        \n",
       "            \n",
       "                var html_4ea7223622b6ad9c8e8dd6c15fea4d5d = $(`&lt;div id=&quot;html_4ea7223622b6ad9c8e8dd6c15fea4d5d&quot; style=&quot;width: 100.0%; height: 100.0%;&quot;&gt;τζ, τζαι, τζαί&lt;/div&gt;`)[0];\n",
       "                popup_d1ee9a7f962d566628e107d0f58fd442.setContent(html_4ea7223622b6ad9c8e8dd6c15fea4d5d);\n",
       "            \n",
       "        \n",
       "\n",
       "        circle_1674e89eaaac2916f9e9741e92e4abf0.bindPopup(popup_d1ee9a7f962d566628e107d0f58fd442)\n",
       "        ;\n",
       "\n",
       "        \n",
       "    \n",
       "    \n",
       "            var circle_7d62fecdd3451b4c006dfacb3fe76c5f = L.circle(\n",
       "                [39.17584185, 25.99891345023241],\n",
       "                {&quot;bubblingMouseEvents&quot;: true, &quot;color&quot;: &quot;#3388ff&quot;, &quot;dashArray&quot;: null, &quot;dashOffset&quot;: null, &quot;fill&quot;: true, &quot;fillColor&quot;: &quot;#3388ff&quot;, &quot;fillOpacity&quot;: 0.2, &quot;fillRule&quot;: &quot;evenodd&quot;, &quot;lineCap&quot;: &quot;round&quot;, &quot;lineJoin&quot;: &quot;round&quot;, &quot;opacity&quot;: 1.0, &quot;radius&quot;: 20000, &quot;stroke&quot;: true, &quot;weight&quot;: 3}\n",
       "            ).addTo(map_0ee0e1b9bd1c21646235d41f8dc1cec8);\n",
       "        \n",
       "    \n",
       "        var popup_f64cd30d300cd72f4802c6a1f75303e4 = L.popup({&quot;maxWidth&quot;: &quot;100%&quot;});\n",
       "\n",
       "        \n",
       "            \n",
       "                var html_ec281027090bbe22414c8454ceb26537 = $(`&lt;div id=&quot;html_ec281027090bbe22414c8454ceb26537&quot; style=&quot;width: 100.0%; height: 100.0%;&quot;&gt;τσι, τουν, είνι&lt;/div&gt;`)[0];\n",
       "                popup_f64cd30d300cd72f4802c6a1f75303e4.setContent(html_ec281027090bbe22414c8454ceb26537);\n",
       "            \n",
       "        \n",
       "\n",
       "        circle_7d62fecdd3451b4c006dfacb3fe76c5f.bindPopup(popup_f64cd30d300cd72f4802c6a1f75303e4)\n",
       "        ;\n",
       "\n",
       "        \n",
       "    \n",
       "    \n",
       "            var circle_c95e07921efdcd27bd9b899b4c7dc1ed = L.circle(\n",
       "                [36.76027945, 22.79046431389755],\n",
       "                {&quot;bubblingMouseEvents&quot;: true, &quot;color&quot;: &quot;#3388ff&quot;, &quot;dashArray&quot;: null, &quot;dashOffset&quot;: null, &quot;fill&quot;: true, &quot;fillColor&quot;: &quot;#3388ff&quot;, &quot;fillOpacity&quot;: 0.2, &quot;fillRule&quot;: &quot;evenodd&quot;, &quot;lineCap&quot;: &quot;round&quot;, &quot;lineJoin&quot;: &quot;round&quot;, &quot;opacity&quot;: 1.0, &quot;radius&quot;: 20000, &quot;stroke&quot;: true, &quot;weight&quot;: 3}\n",
       "            ).addTo(map_0ee0e1b9bd1c21646235d41f8dc1cec8);\n",
       "        \n",
       "    \n",
       "        var popup_2f9ae0ec62b0ba2a0590a0535f614c5a = L.popup({&quot;maxWidth&quot;: &quot;100%&quot;});\n",
       "\n",
       "        \n",
       "            \n",
       "                var html_c18af60fd56f4d3e8734fd43f7398dc8 = $(`&lt;div id=&quot;html_c18af60fd56f4d3e8734fd43f7398dc8&quot; style=&quot;width: 100.0%; height: 100.0%;&quot;&gt;γίνου, μαλώνουν, δική&lt;/div&gt;`)[0];\n",
       "                popup_2f9ae0ec62b0ba2a0590a0535f614c5a.setContent(html_c18af60fd56f4d3e8734fd43f7398dc8);\n",
       "            \n",
       "        \n",
       "\n",
       "        circle_c95e07921efdcd27bd9b899b4c7dc1ed.bindPopup(popup_2f9ae0ec62b0ba2a0590a0535f614c5a)\n",
       "        ;\n",
       "\n",
       "        \n",
       "    \n",
       "    \n",
       "            var circle_0241aa18eec422cec96b81d46cfbd3c8 = L.circle(\n",
       "                [40.6860291, 23.6933899],\n",
       "                {&quot;bubblingMouseEvents&quot;: true, &quot;color&quot;: &quot;#3388ff&quot;, &quot;dashArray&quot;: null, &quot;dashOffset&quot;: null, &quot;fill&quot;: true, &quot;fillColor&quot;: &quot;#3388ff&quot;, &quot;fillOpacity&quot;: 0.2, &quot;fillRule&quot;: &quot;evenodd&quot;, &quot;lineCap&quot;: &quot;round&quot;, &quot;lineJoin&quot;: &quot;round&quot;, &quot;opacity&quot;: 1.0, &quot;radius&quot;: 20000, &quot;stroke&quot;: true, &quot;weight&quot;: 3}\n",
       "            ).addTo(map_0ee0e1b9bd1c21646235d41f8dc1cec8);\n",
       "        \n",
       "    \n",
       "        var popup_befab5002087f7382e4bd5c29218a911 = L.popup({&quot;maxWidth&quot;: &quot;100%&quot;});\n",
       "\n",
       "        \n",
       "            \n",
       "                var html_35f14fd879d350fb3b9649836ca5bea3 = $(`&lt;div id=&quot;html_35f14fd879d350fb3b9649836ca5bea3&quot; style=&quot;width: 100.0%; height: 100.0%;&quot;&gt;τουν, ου, μι&lt;/div&gt;`)[0];\n",
       "                popup_befab5002087f7382e4bd5c29218a911.setContent(html_35f14fd879d350fb3b9649836ca5bea3);\n",
       "            \n",
       "        \n",
       "\n",
       "        circle_0241aa18eec422cec96b81d46cfbd3c8.bindPopup(popup_befab5002087f7382e4bd5c29218a911)\n",
       "        ;\n",
       "\n",
       "        \n",
       "    \n",
       "    \n",
       "            var circle_2ebd0850666b7909104ccaa936079bd9 = L.circle(\n",
       "                [38.1846366, 23.5122768],\n",
       "                {&quot;bubblingMouseEvents&quot;: true, &quot;color&quot;: &quot;#3388ff&quot;, &quot;dashArray&quot;: null, &quot;dashOffset&quot;: null, &quot;fill&quot;: true, &quot;fillColor&quot;: &quot;#3388ff&quot;, &quot;fillOpacity&quot;: 0.2, &quot;fillRule&quot;: &quot;evenodd&quot;, &quot;lineCap&quot;: &quot;round&quot;, &quot;lineJoin&quot;: &quot;round&quot;, &quot;opacity&quot;: 1.0, &quot;radius&quot;: 20000, &quot;stroke&quot;: true, &quot;weight&quot;: 3}\n",
       "            ).addTo(map_0ee0e1b9bd1c21646235d41f8dc1cec8);\n",
       "        \n",
       "    \n",
       "        var popup_64083ab60c934dd79b590ffd7ab264d6 = L.popup({&quot;maxWidth&quot;: &quot;100%&quot;});\n",
       "\n",
       "        \n",
       "            \n",
       "                var html_d7c9557cd881e30ee6de95d4e76fd11d = $(`&lt;div id=&quot;html_d7c9557cd881e30ee6de95d4e76fd11d&quot; style=&quot;width: 100.0%; height: 100.0%;&quot;&gt;κη, τουν, κή&lt;/div&gt;`)[0];\n",
       "                popup_64083ab60c934dd79b590ffd7ab264d6.setContent(html_d7c9557cd881e30ee6de95d4e76fd11d);\n",
       "            \n",
       "        \n",
       "\n",
       "        circle_2ebd0850666b7909104ccaa936079bd9.bindPopup(popup_64083ab60c934dd79b590ffd7ab264d6)\n",
       "        ;\n",
       "\n",
       "        \n",
       "    \n",
       "    \n",
       "            var circle_9e54a08491f65dbede916dfea4859d8b = L.circle(\n",
       "                [37.06001045, 25.47075670857837],\n",
       "                {&quot;bubblingMouseEvents&quot;: true, &quot;color&quot;: &quot;#3388ff&quot;, &quot;dashArray&quot;: null, &quot;dashOffset&quot;: null, &quot;fill&quot;: true, &quot;fillColor&quot;: &quot;#3388ff&quot;, &quot;fillOpacity&quot;: 0.2, &quot;fillRule&quot;: &quot;evenodd&quot;, &quot;lineCap&quot;: &quot;round&quot;, &quot;lineJoin&quot;: &quot;round&quot;, &quot;opacity&quot;: 1.0, &quot;radius&quot;: 20000, &quot;stroke&quot;: true, &quot;weight&quot;: 3}\n",
       "            ).addTo(map_0ee0e1b9bd1c21646235d41f8dc1cec8);\n",
       "        \n",
       "    \n",
       "        var popup_0c54498d675d7fbd2862d2df158e8d03 = L.popup({&quot;maxWidth&quot;: &quot;100%&quot;});\n",
       "\n",
       "        \n",
       "            \n",
       "                var html_21d2ce8439996f04973326b1ed821d0c = $(`&lt;div id=&quot;html_21d2ce8439996f04973326b1ed821d0c&quot; style=&quot;width: 100.0%; height: 100.0%;&quot;&gt;τζη, ια, ίνεται&lt;/div&gt;`)[0];\n",
       "                popup_0c54498d675d7fbd2862d2df158e8d03.setContent(html_21d2ce8439996f04973326b1ed821d0c);\n",
       "            \n",
       "        \n",
       "\n",
       "        circle_9e54a08491f65dbede916dfea4859d8b.bindPopup(popup_0c54498d675d7fbd2862d2df158e8d03)\n",
       "        ;\n",
       "\n",
       "        \n",
       "    \n",
       "    \n",
       "            var circle_a7d38e0e965afa6b106282ab5d78481f = L.circle(\n",
       "                [40.0850088, 23.9775837],\n",
       "                {&quot;bubblingMouseEvents&quot;: true, &quot;color&quot;: &quot;#3388ff&quot;, &quot;dashArray&quot;: null, &quot;dashOffset&quot;: null, &quot;fill&quot;: true, &quot;fillColor&quot;: &quot;#3388ff&quot;, &quot;fillOpacity&quot;: 0.2, &quot;fillRule&quot;: &quot;evenodd&quot;, &quot;lineCap&quot;: &quot;round&quot;, &quot;lineJoin&quot;: &quot;round&quot;, &quot;opacity&quot;: 1.0, &quot;radius&quot;: 20000, &quot;stroke&quot;: true, &quot;weight&quot;: 3}\n",
       "            ).addTo(map_0ee0e1b9bd1c21646235d41f8dc1cec8);\n",
       "        \n",
       "    \n",
       "        var popup_18b8e9ce15458ef9b101a4a6c08590d8 = L.popup({&quot;maxWidth&quot;: &quot;100%&quot;});\n",
       "\n",
       "        \n",
       "            \n",
       "                var html_ba52cfc4c53d05eb4f3f71253b93e258 = $(`&lt;div id=&quot;html_ba52cfc4c53d05eb4f3f71253b93e258&quot; style=&quot;width: 100.0%; height: 100.0%;&quot;&gt;σο, ατ, σην&lt;/div&gt;`)[0];\n",
       "                popup_18b8e9ce15458ef9b101a4a6c08590d8.setContent(html_ba52cfc4c53d05eb4f3f71253b93e258);\n",
       "            \n",
       "        \n",
       "\n",
       "        circle_a7d38e0e965afa6b106282ab5d78481f.bindPopup(popup_18b8e9ce15458ef9b101a4a6c08590d8)\n",
       "        ;\n",
       "\n",
       "        \n",
       "    \n",
       "    \n",
       "            var circle_b68328bd0e5296dea3b58ba56a13f5ed = L.circle(\n",
       "                [36.17262995, 27.919418145633188],\n",
       "                {&quot;bubblingMouseEvents&quot;: true, &quot;color&quot;: &quot;#3388ff&quot;, &quot;dashArray&quot;: null, &quot;dashOffset&quot;: null, &quot;fill&quot;: true, &quot;fillColor&quot;: &quot;#3388ff&quot;, &quot;fillOpacity&quot;: 0.2, &quot;fillRule&quot;: &quot;evenodd&quot;, &quot;lineCap&quot;: &quot;round&quot;, &quot;lineJoin&quot;: &quot;round&quot;, &quot;opacity&quot;: 1.0, &quot;radius&quot;: 20000, &quot;stroke&quot;: true, &quot;weight&quot;: 3}\n",
       "            ).addTo(map_0ee0e1b9bd1c21646235d41f8dc1cec8);\n",
       "        \n",
       "    \n",
       "        var popup_6343aa323fc3fdad9f7036cb4e06e968 = L.popup({&quot;maxWidth&quot;: &quot;100%&quot;});\n",
       "\n",
       "        \n",
       "            \n",
       "                var html_2a6e395d293fd29a28ae2e613aa5863c = $(`&lt;div id=&quot;html_2a6e395d293fd29a28ae2e613aa5863c&quot; style=&quot;width: 100.0%; height: 100.0%;&quot;&gt;λωλλός, ηύραν, γρηά&lt;/div&gt;`)[0];\n",
       "                popup_6343aa323fc3fdad9f7036cb4e06e968.setContent(html_2a6e395d293fd29a28ae2e613aa5863c);\n",
       "            \n",
       "        \n",
       "\n",
       "        circle_b68328bd0e5296dea3b58ba56a13f5ed.bindPopup(popup_6343aa323fc3fdad9f7036cb4e06e968)\n",
       "        ;\n",
       "\n",
       "        \n",
       "    \n",
       "    \n",
       "            var circle_518919515311eb33749958a1d42a9ef8 = L.circle(\n",
       "                [38.87304355, 24.524477385184014],\n",
       "                {&quot;bubblingMouseEvents&quot;: true, &quot;color&quot;: &quot;#3388ff&quot;, &quot;dashArray&quot;: null, &quot;dashOffset&quot;: null, &quot;fill&quot;: true, &quot;fillColor&quot;: &quot;#3388ff&quot;, &quot;fillOpacity&quot;: 0.2, &quot;fillRule&quot;: &quot;evenodd&quot;, &quot;lineCap&quot;: &quot;round&quot;, &quot;lineJoin&quot;: &quot;round&quot;, &quot;opacity&quot;: 1.0, &quot;radius&quot;: 20000, &quot;stroke&quot;: true, &quot;weight&quot;: 3}\n",
       "            ).addTo(map_0ee0e1b9bd1c21646235d41f8dc1cec8);\n",
       "        \n",
       "    \n",
       "        var popup_e499a22c8585d5e33379395a6a6b8569 = L.popup({&quot;maxWidth&quot;: &quot;100%&quot;});\n",
       "\n",
       "        \n",
       "            \n",
       "                var html_28a5df1ddceb5375e4ccfc8976f28180 = $(`&lt;div id=&quot;html_28a5df1ddceb5375e4ccfc8976f28180&quot; style=&quot;width: 100.0%; height: 100.0%;&quot;&gt;τσαί, τσαι, έναι&lt;/div&gt;`)[0];\n",
       "                popup_e499a22c8585d5e33379395a6a6b8569.setContent(html_28a5df1ddceb5375e4ccfc8976f28180);\n",
       "            \n",
       "        \n",
       "\n",
       "        circle_518919515311eb33749958a1d42a9ef8.bindPopup(popup_e499a22c8585d5e33379395a6a6b8569)\n",
       "        ;\n",
       "\n",
       "        \n",
       "    \n",
       "&lt;/script&gt;\n",
       "&lt;/html&gt;\" style=\"position:absolute;width:100%;height:100%;left:0;top:0;border:none !important;\" allowfullscreen webkitallowfullscreen mozallowfullscreen></iframe></div></div>"
      ],
      "text/plain": [
       "<folium.folium.Map at 0x29faa9f90>"
      ]
     },
     "execution_count": 42,
     "metadata": {},
     "output_type": "execute_result"
    }
   ],
   "source": [
    "m = folium.Map(location=[39.0742, 21.8243], zoom_start=5)\n",
    "for a in area_ngrams:\n",
    "    ngrams = \", \".join(area_ngrams[a])\n",
    "    loc = geolocs[a]\n",
    "    folium.Circle([loc[\"lat\"], loc[\"lon\"]], 20000, fill=True).add_child(folium.Popup(ngrams)).add_to(m)\n",
    "m.save('frequent_ngrams.html')\n",
    "m"
   ]
  },
  {
   "cell_type": "code",
   "execution_count": 43,
   "metadata": {
    "colab": {
     "base_uri": "https://localhost:8080/",
     "height": 254
    },
    "id": "gLV0mA4VZ5pp",
    "outputId": "44916408-c155-451e-ab2b-7699dd68dee2"
   },
   "outputs": [
    {
     "data": {
      "text/html": [
       "<div>\n",
       "<style scoped>\n",
       "    .dataframe tbody tr th:only-of-type {\n",
       "        vertical-align: middle;\n",
       "    }\n",
       "\n",
       "    .dataframe tbody tr th {\n",
       "        vertical-align: top;\n",
       "    }\n",
       "\n",
       "    .dataframe thead th {\n",
       "        text-align: right;\n",
       "    }\n",
       "</style>\n",
       "<table border=\"1\" class=\"dataframe\">\n",
       "  <thead>\n",
       "    <tr style=\"text-align: right;\">\n",
       "      <th></th>\n",
       "      <th>Ήπειρος</th>\n",
       "      <th>Αιτωλία</th>\n",
       "      <th>Αμοργός</th>\n",
       "      <th>Ανατολική Θράκη</th>\n",
       "      <th>Αρκαδία</th>\n",
       "      <th>Αχαΐα</th>\n",
       "      <th>Επτάνησος</th>\n",
       "      <th>Εύβοια</th>\n",
       "      <th>Θεσπρωτία</th>\n",
       "      <th>Θράκη</th>\n",
       "      <th>...</th>\n",
       "      <th>Κρήτη</th>\n",
       "      <th>Κύπρος</th>\n",
       "      <th>Λέσβος</th>\n",
       "      <th>Λακωνία</th>\n",
       "      <th>Μακεδονία</th>\n",
       "      <th>Μικρά Ασία</th>\n",
       "      <th>Νάξος</th>\n",
       "      <th>Πόντος</th>\n",
       "      <th>Ρόδος</th>\n",
       "      <th>Σκύρος</th>\n",
       "    </tr>\n",
       "  </thead>\n",
       "  <tbody>\n",
       "    <tr>\n",
       "      <th>0</th>\n",
       "      <td>τουν</td>\n",
       "      <td>ου</td>\n",
       "      <td>λωλός</td>\n",
       "      <td>πάγη</td>\n",
       "      <td>πόδια</td>\n",
       "      <td>ήρθε</td>\n",
       "      <td>ναν</td>\n",
       "      <td>τσαί</td>\n",
       "      <td>δρόμο</td>\n",
       "      <td>πε</td>\n",
       "      <td>...</td>\n",
       "      <td>ντου</td>\n",
       "      <td>τζ</td>\n",
       "      <td>τσι</td>\n",
       "      <td>γίνου</td>\n",
       "      <td>τουν</td>\n",
       "      <td>κη</td>\n",
       "      <td>τζη</td>\n",
       "      <td>σο</td>\n",
       "      <td>λωλλός</td>\n",
       "      <td>τσαί</td>\n",
       "    </tr>\n",
       "    <tr>\n",
       "      <th>1</th>\n",
       "      <td>ου</td>\n",
       "      <td>τουν</td>\n",
       "      <td>γυρεύγει</td>\n",
       "      <td>γίνουνται</td>\n",
       "      <td>ρε</td>\n",
       "      <td>ήναι</td>\n",
       "      <td>τσου</td>\n",
       "      <td>τσαι</td>\n",
       "      <td>αλλά</td>\n",
       "      <td>δι</td>\n",
       "      <td>...</td>\n",
       "      <td>οντέ</td>\n",
       "      <td>τζαι</td>\n",
       "      <td>τουν</td>\n",
       "      <td>μαλώνουν</td>\n",
       "      <td>ου</td>\n",
       "      <td>τουν</td>\n",
       "      <td>ια</td>\n",
       "      <td>ατ</td>\n",
       "      <td>ηύραν</td>\n",
       "      <td>τσαι</td>\n",
       "    </tr>\n",
       "    <tr>\n",
       "      <th>2</th>\n",
       "      <td>τούν</td>\n",
       "      <td>είνι</td>\n",
       "      <td>μηδέ</td>\n",
       "      <td>βάσανα</td>\n",
       "      <td>θες</td>\n",
       "      <td>στους</td>\n",
       "      <td>τονε</td>\n",
       "      <td>σι</td>\n",
       "      <td>γομάρι</td>\n",
       "      <td>τς</td>\n",
       "      <td>...</td>\n",
       "      <td>απου</td>\n",
       "      <td>τζαί</td>\n",
       "      <td>είνι</td>\n",
       "      <td>δική</td>\n",
       "      <td>μι</td>\n",
       "      <td>κή</td>\n",
       "      <td>ίνεται</td>\n",
       "      <td>σην</td>\n",
       "      <td>γρηά</td>\n",
       "      <td>έναι</td>\n",
       "    </tr>\n",
       "  </tbody>\n",
       "</table>\n",
       "<p>3 rows × 23 columns</p>\n",
       "</div>"
      ],
      "text/plain": [
       "  Ήπειρος Αιτωλία   Αμοργός Ανατολική Θράκη Αρκαδία  Αχαΐα Επτάνησος Εύβοια   \n",
       "0    τουν      ου     λωλός            πάγη   πόδια   ήρθε       ναν   τσαί  \\\n",
       "1      ου    τουν  γυρεύγει       γίνουνται      ρε   ήναι      τσου   τσαι   \n",
       "2    τούν    είνι      μηδέ          βάσανα     θες  στους      τονε     σι   \n",
       "\n",
       "  Θεσπρωτία Θράκη  ... Κρήτη Κύπρος Λέσβος   Λακωνία Μακεδονία Μικρά Ασία   \n",
       "0     δρόμο    πε  ...  ντου     τζ    τσι     γίνου      τουν         κη  \\\n",
       "1      αλλά    δι  ...  οντέ   τζαι   τουν  μαλώνουν        ου       τουν   \n",
       "2    γομάρι    τς  ...  απου   τζαί   είνι      δική        μι         κή   \n",
       "\n",
       "    Νάξος Πόντος   Ρόδος Σκύρος  \n",
       "0     τζη     σο  λωλλός   τσαί  \n",
       "1      ια     ατ   ηύραν   τσαι  \n",
       "2  ίνεται    σην    γρηά   έναι  \n",
       "\n",
       "[3 rows x 23 columns]"
      ]
     },
     "execution_count": 43,
     "metadata": {},
     "output_type": "execute_result"
    }
   ],
   "source": [
    "geotfidf.to_csv(\"data/geotfidf.csv\", index=False)\n",
    "pd.DataFrame(area_ngrams)"
   ]
  },
  {
   "cell_type": "code",
   "execution_count": 44,
   "metadata": {
    "colab": {
     "base_uri": "https://localhost:8080/"
    },
    "id": "gbC5du3_aQ8B",
    "outputId": "0e2e8673-9a88-4553-da12-f4e4491bb528"
   },
   "outputs": [
    {
     "name": "stdout",
     "output_type": "stream",
     "text": [
      "Epirus & τουν & ου & τούν \\\\\n",
      "Etolia & ου & τουν & είνι \\\\\n",
      "Amorgos & λωλός & γυρεύγει & μηδέ \\\\\n",
      "East Thrace & πάγη & γίνουνται & βάσανα \\\\\n",
      "Arcadia & πόδια & ρε & θες \\\\\n",
      "Achaia & ήρθε & ήναι & στους \\\\\n",
      "Eptanisos & ναν & τσου & τονε \\\\\n",
      "Eyvoia & τσαί & τσαι & σι \\\\\n",
      "Thesprotia & δρόμο & αλλά & γομάρι \\\\\n",
      "Thrace & πε & δι & τς \\\\\n",
      "Ioannina & μι & τουν & ου \\\\\n",
      "Karpathos & τσαί & τσαι & μήε \\\\\n",
      "Kefalinia & τσου & τση & ναν \\\\\n",
      "Crete & ντου & οντέ & απου \\\\\n",
      "Cyprus & τζ & τζαι & τζαί \\\\\n",
      "Lesvos & τσι & τουν & είνι \\\\\n",
      "Laconia & γίνου & μαλώνουν & δική \\\\\n",
      "Macedonia & τουν & ου & μι \\\\\n",
      "Asia Minor & κη & τουν & κή \\\\\n",
      "Naxos & τζη & ια & ίνεται \\\\\n",
      "Pontos & σο & ατ & σην \\\\\n",
      "Rodos & λωλλός & ηύραν & γρηά \\\\\n",
      "Skyros & τσαί & τσαι & έναι \\\\\n"
     ]
    }
   ],
   "source": [
    "# using English names and printing a latex table\n",
    "loc_name = {'Ήπειρος':'Epirus', 'Αιτωλία':'Etolia', 'Αμοργός':'Amorgos', 'Ανατολική Θράκη': 'East Thrace',\n",
    "            'Αρκαδία':'Arcadia', 'Αχαΐα':'Achaia', 'Επτάνησος':'Eptanisos', 'Εύβοια':'Eyvoia', 'Θεσπρωτία':'Thesprotia', \n",
    "             'Θράκη': 'Thrace', 'Ιωάννινα':'Ioannina', 'Κάρπαθος':'Karpathos', 'Κεφαλληνία':'Kefalinia', 'Κρήτη':'Crete',\n",
    "            'Κύπρος':'Cyprus', 'Λέσβος':'Lesvos', 'Λακωνία':'Laconia', 'Μακεδονία':'Macedonia', 'Μικρά Ασία':'Asia Minor',\n",
    "            'Νάξος':'Naxos', 'Πόντος':'Pontos', 'Ρόδος':'Rodos', 'Σκύρος':'Skyros'}\n",
    "area_ngrams = {a:list(geotfidf.sort_values(by=a, ascending=False)[a].head(3).index) for a in common_places}\n",
    "for area in area_ngrams:\n",
    "    print(f'{loc_name[area]} & {\" & \".join(area_ngrams[area])} \\\\\\\\')"
   ]
  },
  {
   "cell_type": "code",
   "execution_count": 45,
   "metadata": {
    "id": "xLFgheTZaaw3"
   },
   "outputs": [],
   "source": [
    "balanced_corpus.to_csv('balanced_corpus.csv', index=False)"
   ]
  }
 ],
 "metadata": {
  "colab": {
   "authorship_tag": "ABX9TyNIFqybwKD+DStK6gA7gvPJ",
   "include_colab_link": true,
   "provenance": []
  },
  "kernelspec": {
   "display_name": "Python 3 (ipykernel)",
   "language": "python",
   "name": "python3"
  },
  "language_info": {
   "codemirror_mode": {
    "name": "ipython",
    "version": 3
   },
   "file_extension": ".py",
   "mimetype": "text/x-python",
   "name": "python",
   "nbconvert_exporter": "python",
   "pygments_lexer": "ipython3",
   "version": "3.10.10"
  }
 },
 "nbformat": 4,
 "nbformat_minor": 1
}
