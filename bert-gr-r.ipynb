{
  "cells": [
    {
      "cell_type": "markdown",
      "metadata": {
        "id": "view-in-github",
        "colab_type": "text"
      },
      "source": [
        "<a href=\"https://colab.research.google.com/github/ipavlopoulos/paremia/blob/main/bert-gr-r.ipynb\" target=\"_parent\"><img src=\"https://colab.research.google.com/assets/colab-badge.svg\" alt=\"Open In Colab\"/></a>"
      ]
    },
    {
      "cell_type": "code",
      "execution_count": 3,
      "metadata": {
        "id": "DxN2dSJWea_L"
      },
      "outputs": [],
      "source": [
        "import pandas as pd\n",
        "import pandas as pd\n",
        "import matplotlib.pyplot as plt\n",
        "import numpy as np\n",
        "from sklearn.model_selection import train_test_split\n",
        "from sklearn.metrics import *\n",
        "from sklearn.pipeline import Pipeline\n",
        "from sklearn.ensemble import RandomForestRegressor, RandomForestClassifier, ExtraTreesRegressor\n",
        "from sklearn.linear_model import LinearRegression, LogisticRegression\n",
        "from sklearn.svm import LinearSVC\n",
        "from sklearn.feature_extraction.text import TfidfVectorizer\n",
        "import matplotlib.pyplot as plt\n",
        "\n",
        "balanced_corpus = pd.read_csv(\"https://raw.githubusercontent.com/ipavlopoulos/paremia/main/data/balanced_corpus.csv\", index_col=0)\n",
        "train, test = train_test_split(balanced_corpus, test_size=0.05, random_state=2023)\n",
        "train, dev = train_test_split(train, test_size=test.shape[0], random_state=2023)"
      ]
    },
    {
      "cell_type": "code",
      "execution_count": null,
      "metadata": {
        "id": "-uLEMzv8ey0Q"
      },
      "outputs": [],
      "source": [
        "%%capture\n",
        "!pip install transformers\n",
        "from transformers import BertModel, BertTokenizer\n",
        "model_name = 'nlpaueb/bert-base-greek-uncased-v1'\n",
        "tokenizer = BertTokenizer.from_pretrained(model_name)"
      ]
    },
    {
      "cell_type": "code",
      "execution_count": 6,
      "metadata": {
        "id": "D7KED0nCe1qz"
      },
      "outputs": [],
      "source": [
        "import torch\n",
        "import numpy as np\n",
        "\n",
        "class Dataset(torch.utils.data.Dataset):\n",
        "    def __init__(self, df, max_length = 32):\n",
        "        self.max_length = max_length\n",
        "        self.labels = df[[\"lat\", \"lon\"]].values\n",
        "        self.texts = df.text.apply(lambda txt: tokenizer(txt, padding='max_length', max_length = self.max_length, truncation=True, return_tensors=\"pt\")).values\n",
        "\n",
        "    def classes(self):\n",
        "        return self.labels\n",
        "\n",
        "    def __len__(self):\n",
        "        return len(self.labels)\n",
        "\n",
        "    def get_batch_labels(self, idx):\n",
        "        return np.array(self.labels[idx])\n",
        "\n",
        "    def get_batch_texts(self, idx):\n",
        "        return self.texts[idx]\n",
        "\n",
        "    def __getitem__(self, idx):\n",
        "        batch_texts = self.get_batch_texts(idx)\n",
        "        batch_y = self.get_batch_labels(idx)\n",
        "        return batch_texts, batch_y"
      ]
    },
    {
      "cell_type": "code",
      "execution_count": 7,
      "metadata": {
        "id": "CtXt452Kf_Pc"
      },
      "outputs": [],
      "source": [
        "from torch import nn\n",
        "\n",
        "class BertClassifier(nn.Module):\n",
        "\n",
        "    def __init__(self, dropout=0.1, num_classes=2):\n",
        "        super(BertClassifier, self).__init__()\n",
        "        self.bert = BertModel.from_pretrained(model_name)\n",
        "        self.dropout = nn.Dropout(dropout)\n",
        "        self.linear1 = nn.Linear(768, 128, bias=True)\n",
        "        self.norm = nn.BatchNorm1d(128)\n",
        "        self.linear2 = nn.Linear(128, num_classes, bias=True)\n",
        "        self.relu = nn.ReLU()\n",
        "\n",
        "    def forward(self, input_id, mask):\n",
        "        _, pooled_output = self.bert(input_ids=input_id, attention_mask=mask, return_dict=False)\n",
        "        x = pooled_output\n",
        "        x = self.dropout(x)\n",
        "        x = self.relu(self.linear1(x))\n",
        "        #x = self.norm(x)\n",
        "        x = self.linear2(x)\n",
        "        return x"
      ]
    },
    {
      "cell_type": "code",
      "execution_count": 35,
      "metadata": {
        "id": "SVbJdgRUg152"
      },
      "outputs": [],
      "source": [
        "from torch.optim import Adam\n",
        "from tqdm import tqdm\n",
        "\n",
        "from transformers import AutoTokenizer, BertModel\n",
        "\n",
        "def validate(model, dataloader, device=\"cpu\", criterion=nn.MSELoss()):\n",
        "    predictions, gold_labels = [], []\n",
        "    model.eval()\n",
        "    val_loss = 0\n",
        "    with torch.no_grad():\n",
        "        for val_batch_id, (val_input, val_label) in enumerate(dataloader):\n",
        "            val_label = val_label.to(device)\n",
        "            mask = val_input['attention_mask'].to(device)\n",
        "            input_id = val_input['input_ids'].squeeze(1).to(device)\n",
        "            output = model(input_id, mask)\n",
        "            val_batch_loss = criterion(output, val_label)\n",
        "            predictions.extend(output.cpu().numpy())\n",
        "            gold_labels.extend(val_label.cpu())\n",
        "            val_loss += val_batch_loss.item()\n",
        "    return predictions, gold_labels, val_loss/val_batch_id\n",
        "\n",
        "def finetune(model, train_data, val_data, \n",
        "             learning_rate=2e-5, epochs=100, criterion=nn.MSELoss(),\n",
        "             batch_size=32, max_length=16, patience=2):\n",
        "    \n",
        "    train_losses = []\n",
        "    val_losses = []\n",
        "    \n",
        "    train_dataloader = torch.utils.data.DataLoader(train_data, batch_size=batch_size, shuffle=True, drop_last=False)\n",
        "    val_dataloader = torch.utils.data.DataLoader(val_data, batch_size=batch_size, drop_last=False)\n",
        "    use_cuda = torch.cuda.is_available()\n",
        "    device = torch.device(\"cuda\" if use_cuda else \"cpu\")\n",
        "    optimizer = Adam(model.parameters(), lr=learning_rate)\n",
        "    model.train()\n",
        "    lowest_loss = 1000\n",
        "    best_epoch = 0\n",
        "    epochs_not_improving = 0\n",
        "\n",
        "    if use_cuda:\n",
        "            model = model.cuda()\n",
        "            criterion = criterion.cuda()\n",
        "    \n",
        "    for epoch_num in range(epochs):\n",
        "            total_acc_train = 0\n",
        "            total_loss_train = 0\n",
        "            total_loss_val = 0\n",
        "            for batch_id, (train_input, train_label) in tqdm(enumerate(train_dataloader)):\n",
        "                train_label = train_label.to(device)\n",
        "                mask = train_input['attention_mask'].to(device)\n",
        "                input_id = train_input['input_ids'].squeeze(1).to(device)\n",
        "                output = model(input_id, mask)                \n",
        "                batch_loss = criterion(output, train_label.float())\n",
        "                total_loss_train += batch_loss.item()\n",
        "                model.zero_grad()\n",
        "                batch_loss.backward()\n",
        "                optimizer.step()\n",
        "            train_losses.append(total_loss_train/batch_id)\n",
        "            \n",
        "            predictions, gold_labels, val_loss = validate(model, val_dataloader, device, criterion)\n",
        "            val_losses.append(val_loss)\n",
        "            if val_loss<lowest_loss:\n",
        "                print(f\"New best epoch found: {epoch_num} (val loss: {val_loss:.3f})!\")\n",
        "                lowest_loss = val_loss\n",
        "                best_epoch = epoch_num\n",
        "                torch.save(model.state_dict(), \"checkpoint.pt\")\n",
        "                epochs_not_improving = 0\n",
        "            else:\n",
        "              if epochs_not_improving > patience:\n",
        "                  model.load_state_dict(torch.load(\"checkpoint.pt\"))\n",
        "                  print('Patience is up, restoring the best model and exiting...')\n",
        "                  break\n",
        "              epochs_not_improving +=1\n",
        "            \n",
        "            print(\n",
        "                f'Epochs: {epoch_num + 1} | Train Loss: {total_loss_train/batch_id: .3f} \\\n",
        "                | Val Loss: {val_loss: .3f} (best epoch: {best_epoch} w/val_loss: {lowest_loss:.3f})')\n",
        "    model.eval()    \n",
        "    return model, train_losses, val_losses"
      ]
    },
    {
      "cell_type": "code",
      "execution_count": 36,
      "metadata": {
        "id": "Wd4g1_zOiTlZ",
        "outputId": "c1c6e361-7857-4bb8-9bff-c5817077f168",
        "colab": {
          "base_uri": "https://localhost:8080/"
        }
      },
      "outputs": [
        {
          "output_type": "stream",
          "name": "stderr",
          "text": [
            "Some weights of the model checkpoint at nlpaueb/bert-base-greek-uncased-v1 were not used when initializing BertModel: ['cls.predictions.transform.dense.weight', 'cls.predictions.transform.dense.bias', 'cls.seq_relationship.bias', 'cls.predictions.decoder.bias', 'cls.predictions.transform.LayerNorm.bias', 'cls.seq_relationship.weight', 'cls.predictions.bias', 'cls.predictions.transform.LayerNorm.weight', 'cls.predictions.decoder.weight']\n",
            "- This IS expected if you are initializing BertModel from the checkpoint of a model trained on another task or with another architecture (e.g. initializing a BertForSequenceClassification model from a BertForPreTraining model).\n",
            "- This IS NOT expected if you are initializing BertModel from the checkpoint of a model that you expect to be exactly identical (initializing a BertForSequenceClassification model from a BertForSequenceClassification model).\n",
            "324it [00:36,  8.86it/s]\n"
          ]
        },
        {
          "output_type": "stream",
          "name": "stdout",
          "text": [
            "New best epoch found: 0 (val loss: 279.482)!\n",
            "Epochs: 1 | Train Loss:  578.620                 | Val Loss:  279.482 (best epoch: 0 w/val_loss: 279.482)\n"
          ]
        },
        {
          "output_type": "stream",
          "name": "stderr",
          "text": [
            "324it [00:36,  8.85it/s]\n"
          ]
        },
        {
          "output_type": "stream",
          "name": "stdout",
          "text": [
            "New best epoch found: 1 (val loss: 28.241)!\n",
            "Epochs: 2 | Train Loss:  114.213                 | Val Loss:  28.241 (best epoch: 1 w/val_loss: 28.241)\n"
          ]
        },
        {
          "output_type": "stream",
          "name": "stderr",
          "text": [
            "324it [00:37,  8.69it/s]\n"
          ]
        },
        {
          "output_type": "stream",
          "name": "stdout",
          "text": [
            "New best epoch found: 2 (val loss: 5.863)!\n",
            "Epochs: 3 | Train Loss:  11.136                 | Val Loss:  5.863 (best epoch: 2 w/val_loss: 5.863)\n"
          ]
        },
        {
          "output_type": "stream",
          "name": "stderr",
          "text": [
            "324it [00:37,  8.57it/s]\n"
          ]
        },
        {
          "output_type": "stream",
          "name": "stdout",
          "text": [
            "New best epoch found: 3 (val loss: 5.562)!\n",
            "Epochs: 4 | Train Loss:  5.492                 | Val Loss:  5.562 (best epoch: 3 w/val_loss: 5.562)\n"
          ]
        },
        {
          "output_type": "stream",
          "name": "stderr",
          "text": [
            "324it [00:38,  8.49it/s]\n"
          ]
        },
        {
          "output_type": "stream",
          "name": "stdout",
          "text": [
            "Epochs: 5 | Train Loss:  5.432                 | Val Loss:  5.568 (best epoch: 3 w/val_loss: 5.562)\n"
          ]
        }
      ],
      "source": [
        "criterion = nn.MSELoss()\n",
        "model = BertClassifier(num_classes=2)\n",
        "max_length = 16\n",
        "\n",
        "model,  train_loss, val_loss = finetune(model, \n",
        "                                        Dataset(train, max_length=max_length), \n",
        "                                        Dataset(dev, max_length=max_length), \n",
        "                                        epochs=5,\n",
        "                                        max_length=max_length,\n",
        "                                        learning_rate=2e-5, \n",
        "                                        criterion=criterion)"
      ]
    },
    {
      "cell_type": "code",
      "execution_count": 41,
      "metadata": {
        "id": "MfQ9Dx9TiTlZ",
        "outputId": "71fa272a-6d92-487e-eb26-fd0f03f1843b",
        "colab": {
          "base_uri": "https://localhost:8080/",
          "height": 490
        }
      },
      "outputs": [
        {
          "output_type": "execute_result",
          "data": {
            "text/plain": [
              "<matplotlib.legend.Legend at 0x7fc8e9ffdb40>"
            ]
          },
          "metadata": {},
          "execution_count": 41
        },
        {
          "output_type": "display_data",
          "data": {
            "text/plain": [
              "<Figure size 640x480 with 1 Axes>"
            ],
            "image/png": "[encoded data removed]"
          },
          "metadata": {}
        }
      ],
      "source": [
        "import matplotlib.pyplot as plt\n",
        "\n",
        "plt.plot(train_loss, label='Training Loss')\n",
        "plt.plot(val_loss, label='Validation Loss')\n",
        "plt.title('Training and Validation Loss')\n",
        "plt.xlabel('Epoch')\n",
        "plt.ylabel('Loss')\n",
        "plt.legend()"
      ]
    },
    {
      "cell_type": "code",
      "execution_count": 42,
      "metadata": {
        "id": "DIYWcKK5hVGR"
      },
      "outputs": [],
      "source": [
        "test_dataloader = torch.utils.data.DataLoader(Dataset(test, max_length=max_length), batch_size=32, drop_last=False)\n",
        "p,l,_ = validate(model.to(\"cpu\"), test_dataloader, \"cpu\", criterion)\n",
        "preds_pd = pd.DataFrame({\"pred_lat\": np.array(p)[:, 0], \"pred_lon\": np.array(p)[:, 1],\n",
        "                         \"gold_lat\": np.array([i.numpy() for i in l])[:, 0], \"gold_lon\": np.array([i.numpy() for i in l])[:, 1]})\n",
        "preds_pd.to_csv(\"proverb.predictions.csv\", index=False)"
      ]
    },
    {
      "cell_type": "code",
      "execution_count": 43,
      "metadata": {
        "colab": {
          "base_uri": "https://localhost:8080/"
        },
        "id": "EBALiofry6iA",
        "outputId": "dd6b9006-4557-4889-a58b-c1a5ddf0a62c"
      },
      "outputs": [
        {
          "output_type": "stream",
          "name": "stdout",
          "text": [
            "MAE\n",
            "lat: 1.39\n",
            "lon: 2.02\n",
            "MSE\n",
            "lat: 3.08\n",
            "lon: 7.67\n",
            "R2\n",
            "lat: -3859960473.34\n",
            "lon: -10552240456.87\n"
          ]
        }
      ],
      "source": [
        "from sklearn.metrics import *\n",
        "print('MAE')\n",
        "print(f\"lat: {mean_absolute_error(preds_pd.pred_lat, preds_pd.gold_lat):.2f}\")\n",
        "print(f\"lon: {mean_absolute_error(preds_pd.pred_lon, preds_pd.gold_lon):.2f}\")\n",
        "print('MSE')\n",
        "print(f\"lat: {mean_squared_error(preds_pd.pred_lat, preds_pd.gold_lat):.2f}\")\n",
        "print(f\"lon: {mean_squared_error(preds_pd.pred_lon, preds_pd.gold_lon):.2f}\")\n",
        "print('R2')\n",
        "print(f\"lat: {r2_score(preds_pd.pred_lat, preds_pd.gold_lat):.2f}\")\n",
        "print(f\"lon: {r2_score(preds_pd.pred_lon, preds_pd.gold_lon):.2f}\")"
      ]
    },
    {
      "cell_type": "code",
      "execution_count": 40,
      "metadata": {
        "id": "bG3vwmHHz4AU"
      },
      "outputs": [],
      "source": [
        "torch.save(model.state_dict(), \"bert-gr-r.pt\")"
      ]
    },
    {
      "cell_type": "code",
      "source": [],
      "metadata": {
        "id": "woX5OwtJqGlS"
      },
      "execution_count": null,
      "outputs": []
    }
  ],
  "metadata": {
    "accelerator": "GPU",
    "colab": {
      "gpuClass": "premium",
      "gpuType": "T4",
      "machine_shape": "hm",
      "provenance": [],
      "include_colab_link": true
    },
    "gpuClass": "premium",
    "kernelspec": {
      "display_name": "Python 3 (ipykernel)",
      "language": "python",
      "name": "python3"
    },
    "language_info": {
      "codemirror_mode": {
        "name": "ipython",
        "version": 3
      },
      "file_extension": ".py",
      "mimetype": "text/x-python",
      "name": "python",
      "nbconvert_exporter": "python",
      "pygments_lexer": "ipython3",
      "version": "3.11.3"
    }
  },
  "nbformat": 4,
  "nbformat_minor": 0
}