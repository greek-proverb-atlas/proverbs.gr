{
 "cells": [
  {
   "cell_type": "markdown",
   "metadata": {
    "colab_type": "text",
    "id": "view-in-github"
   },
   "source": [
    "<a href=\"https://colab.research.google.com/github/greek-proverb-atlas/proverbs.gr/blob/main/bert-gr-r.ipynb\" target=\"_parent\"><img src=\"https://colab.research.google.com/assets/colab-badge.svg\" alt=\"Open In Colab\"/></a>"
   ]
  },
  {
   "cell_type": "code",
   "execution_count": 1,
   "metadata": {
    "id": "DxN2dSJWea_L"
   },
   "outputs": [],
   "source": [
    "import pandas as pd\n",
    "import matplotlib.pyplot as plt\n",
    "from sklearn.model_selection import train_test_split\n",
    "from sklearn.metrics import *\n",
    "\n",
    "root = 'https://raw.githubusercontent.com/ipavlopoulos/paremia/main'\n",
    "balanced_corpus = pd.read_csv(f\"{root}/data/balanced_corpus.csv\", index_col=0)\n",
    "geolocs = pd.read_csv(f'{root}/data/geolocs.csv')\n",
    "balanced_corpus.lat = balanced_corpus.area.apply(lambda x: geolocs[x].iloc[0])\n",
    "balanced_corpus.lon = balanced_corpus.area.apply(lambda x: geolocs[x].iloc[1])\n",
    "\n",
    "i = 0\n",
    "seed = 2023+i\n",
    "train, test = train_test_split(balanced_corpus,\n",
    "                               test_size=0.05,\n",
    "                               random_state=seed)\n",
    "train, dev = train_test_split(train, test_size=test.shape[0], random_state=2023)"
   ]
  },
  {
   "cell_type": "code",
   "execution_count": 2,
   "metadata": {
    "id": "-uLEMzv8ey0Q",
    "outputId": "ee5eb6a4-bc34-4eea-8e73-348b539ec73d"
   },
   "outputs": [
    {
     "name": "stdout",
     "output_type": "stream",
     "text": [
      "Requirement already satisfied: transformers in /Users/panos/.pyenv/versions/3.12.7/lib/python3.12/site-packages (4.46.1)\n",
      "Requirement already satisfied: filelock in /Users/panos/.pyenv/versions/3.12.7/lib/python3.12/site-packages (from transformers) (3.16.1)\n",
      "Requirement already satisfied: huggingface-hub<1.0,>=0.23.2 in /Users/panos/.pyenv/versions/3.12.7/lib/python3.12/site-packages (from transformers) (0.26.2)\n",
      "Requirement already satisfied: numpy>=1.17 in /Users/panos/.pyenv/versions/3.12.7/lib/python3.12/site-packages (from transformers) (2.1.2)\n",
      "Requirement already satisfied: packaging>=20.0 in /Users/panos/.pyenv/versions/3.12.7/lib/python3.12/site-packages (from transformers) (24.1)\n",
      "Requirement already satisfied: pyyaml>=5.1 in /Users/panos/.pyenv/versions/3.12.7/lib/python3.12/site-packages (from transformers) (6.0.2)\n",
      "Requirement already satisfied: regex!=2019.12.17 in /Users/panos/.pyenv/versions/3.12.7/lib/python3.12/site-packages (from transformers) (2024.9.11)\n",
      "Requirement already satisfied: requests in /Users/panos/.pyenv/versions/3.12.7/lib/python3.12/site-packages (from transformers) (2.32.3)\n",
      "Requirement already satisfied: safetensors>=0.4.1 in /Users/panos/.pyenv/versions/3.12.7/lib/python3.12/site-packages (from transformers) (0.4.5)\n",
      "Requirement already satisfied: tokenizers<0.21,>=0.20 in /Users/panos/.pyenv/versions/3.12.7/lib/python3.12/site-packages (from transformers) (0.20.1)\n",
      "Requirement already satisfied: tqdm>=4.27 in /Users/panos/.pyenv/versions/3.12.7/lib/python3.12/site-packages (from transformers) (4.66.6)\n",
      "Requirement already satisfied: fsspec>=2023.5.0 in /Users/panos/.pyenv/versions/3.12.7/lib/python3.12/site-packages (from huggingface-hub<1.0,>=0.23.2->transformers) (2024.10.0)\n",
      "Requirement already satisfied: typing-extensions>=3.7.4.3 in /Users/panos/.pyenv/versions/3.12.7/lib/python3.12/site-packages (from huggingface-hub<1.0,>=0.23.2->transformers) (4.12.2)\n",
      "Requirement already satisfied: charset-normalizer<4,>=2 in /Users/panos/.pyenv/versions/3.12.7/lib/python3.12/site-packages (from requests->transformers) (3.4.0)\n",
      "Requirement already satisfied: idna<4,>=2.5 in /Users/panos/.pyenv/versions/3.12.7/lib/python3.12/site-packages (from requests->transformers) (3.10)\n",
      "Requirement already satisfied: urllib3<3,>=1.21.1 in /Users/panos/.pyenv/versions/3.12.7/lib/python3.12/site-packages (from requests->transformers) (2.2.3)\n",
      "Requirement already satisfied: certifi>=2017.4.17 in /Users/panos/.pyenv/versions/3.12.7/lib/python3.12/site-packages (from requests->transformers) (2024.8.30)\n"
     ]
    }
   ],
   "source": [
    "!pip install transformers\n",
    "from transformers import BertModel, BertTokenizer\n",
    "model_name = 'nlpaueb/bert-base-greek-uncased-v1'\n",
    "tokenizer = BertTokenizer.from_pretrained(model_name)"
   ]
  },
  {
   "cell_type": "code",
   "execution_count": 3,
   "metadata": {
    "id": "D7KED0nCe1qz"
   },
   "outputs": [],
   "source": [
    "import torch\n",
    "import numpy as np\n",
    "\n",
    "class Dataset(torch.utils.data.Dataset):\n",
    "    def __init__(self, df, max_length = 32):\n",
    "        self.max_length = max_length\n",
    "        self.labels = df[[\"lat\", \"lon\"]].values\n",
    "        self.texts = df.text.apply(lambda txt: tokenizer(txt,\n",
    "                                                         padding='max_length',\n",
    "                                                         max_length = self.max_length,\n",
    "                                                         truncation=True,\n",
    "                                                         return_tensors=\"pt\")).values\n",
    "\n",
    "    def classes(self):\n",
    "        return self.labels\n",
    "\n",
    "    def __len__(self):\n",
    "        return len(self.labels)\n",
    "\n",
    "    def get_batch_labels(self, idx):\n",
    "        return np.array(self.labels[idx])\n",
    "\n",
    "    def get_batch_texts(self, idx):\n",
    "        return self.texts[idx]\n",
    "\n",
    "    def __getitem__(self, idx):\n",
    "        batch_texts = self.get_batch_texts(idx)\n",
    "        batch_y = self.get_batch_labels(idx)\n",
    "        return batch_texts, batch_y"
   ]
  },
  {
   "cell_type": "code",
   "execution_count": 4,
   "metadata": {
    "id": "CtXt452Kf_Pc"
   },
   "outputs": [],
   "source": [
    "from torch import nn\n",
    "\n",
    "class BertClassifier(nn.Module):\n",
    "\n",
    "    def __init__(self, dropout=0.1, num_classes=2):\n",
    "        super(BertClassifier, self).__init__()\n",
    "        self.bert = BertModel.from_pretrained(model_name)\n",
    "        self.dropout = nn.Dropout(dropout)\n",
    "        self.linear1 = nn.Linear(768, 128, bias=True)\n",
    "        self.norm = nn.BatchNorm1d(128)\n",
    "        self.linear2 = nn.Linear(128, num_classes, bias=True)\n",
    "        self.relu = nn.ReLU()\n",
    "\n",
    "    def forward(self, input_id, mask):\n",
    "        _, pooled_output = self.bert(input_ids=input_id, attention_mask=mask, return_dict=False)\n",
    "        x = pooled_output\n",
    "        x = self.dropout(x)\n",
    "        x = self.relu(self.linear1(x))\n",
    "        x = self.norm(x)\n",
    "        x = self.linear2(x)\n",
    "        return x"
   ]
  },
  {
   "cell_type": "code",
   "execution_count": 5,
   "metadata": {
    "id": "SVbJdgRUg152"
   },
   "outputs": [],
   "source": [
    "from torch.optim import Adam\n",
    "from tqdm import tqdm\n",
    "\n",
    "from transformers import AutoTokenizer, BertModel\n",
    "\n",
    "def validate(model, dataloader, device=\"cpu\", criterion=nn.MSELoss()):\n",
    "    predictions, gold_labels = [], []\n",
    "    model.eval()\n",
    "    val_loss = 0\n",
    "    with torch.no_grad():\n",
    "        for val_batch_id, (val_input, val_label) in enumerate(dataloader):\n",
    "            val_label = val_label.to(device)\n",
    "            mask = val_input['attention_mask'].to(device)\n",
    "            input_id = val_input['input_ids'].squeeze(1).to(device)\n",
    "            output = model(input_id, mask)\n",
    "            val_batch_loss = criterion(output, val_label)\n",
    "            predictions.extend(output.cpu().numpy())\n",
    "            gold_labels.extend(val_label.cpu())\n",
    "            val_loss += val_batch_loss.item()\n",
    "    return predictions, gold_labels, val_loss/val_batch_id\n",
    "\n",
    "def finetune(model, train_data, val_data,\n",
    "             learning_rate=2e-5, epochs=100, criterion=nn.MSELoss(),\n",
    "             batch_size=32, max_length=16, patience=5):\n",
    "\n",
    "    train_losses = []\n",
    "    val_losses = []\n",
    "\n",
    "    train_dataloader = torch.utils.data.DataLoader(train_data, batch_size=batch_size, shuffle=True, drop_last=False)\n",
    "    val_dataloader = torch.utils.data.DataLoader(val_data, batch_size=batch_size, drop_last=False)\n",
    "    use_cuda = torch.cuda.is_available()\n",
    "    device = torch.device(\"cuda\" if use_cuda else \"cpu\")\n",
    "    optimizer = Adam(model.parameters(), lr=learning_rate)\n",
    "    model.train()\n",
    "    lowest_loss = 1000\n",
    "    best_epoch = 0\n",
    "    epochs_not_improving = 0\n",
    "\n",
    "    if use_cuda:\n",
    "            model = model.cuda()\n",
    "            criterion = criterion.cuda()\n",
    "\n",
    "    for epoch_num in range(epochs):\n",
    "            total_acc_train = 0\n",
    "            total_loss_train = 0\n",
    "            total_loss_val = 0\n",
    "            for batch_id, (train_input, train_label) in tqdm(enumerate(train_dataloader)):\n",
    "                train_label = train_label.to(device)\n",
    "                mask = train_input['attention_mask'].to(device)\n",
    "                input_id = train_input['input_ids'].squeeze(1).to(device)\n",
    "                output = model(input_id, mask)\n",
    "                batch_loss = criterion(output, train_label.float())\n",
    "                total_loss_train += batch_loss.item()\n",
    "                model.zero_grad()\n",
    "                batch_loss.backward()\n",
    "                optimizer.step()\n",
    "            train_losses.append(total_loss_train/(batch_id+1))\n",
    "\n",
    "            predictions, gold_labels, val_loss = validate(model, val_dataloader, device, criterion)\n",
    "            val_losses.append(val_loss)\n",
    "            if val_loss < lowest_loss:\n",
    "                print(f\"New best epoch found: {epoch_num} (val loss: {val_loss:.3f})!\")\n",
    "                lowest_loss = val_loss\n",
    "                best_epoch = epoch_num\n",
    "                torch.save(model.state_dict(), \"checkpoint.pt\")\n",
    "                epochs_not_improving = 0\n",
    "            else:\n",
    "                epochs_not_improving += 1\n",
    "                if epochs_not_improving >= patience:\n",
    "                    model.load_state_dict(torch.load(\"checkpoint.pt\"))\n",
    "                    print('Patience is up, restoring the best model and exiting...')\n",
    "                    break\n",
    "\n",
    "            print(\n",
    "                f'Epochs: {epoch_num + 1} | Train Loss: {total_loss_train/batch_id: .3f} \\\n",
    "                | Val Loss: {val_loss: .3f} (best epoch: {best_epoch} w/val_loss: {lowest_loss:.3f})')\n",
    "    model.eval()\n",
    "    return model, train_losses, val_losses"
   ]
  },
  {
   "cell_type": "code",
   "execution_count": 6,
   "metadata": {
    "id": "Wd4g1_zOiTlZ",
    "outputId": "8bde338a-817c-451b-a460-c062d6c427ed"
   },
   "outputs": [
    {
     "name": "stderr",
     "output_type": "stream",
     "text": [
      "324it [02:58,  1.82it/s]\n"
     ]
    },
    {
     "name": "stdout",
     "output_type": "stream",
     "text": [
      "Epochs: 1 | Train Loss:  1033.762                 | Val Loss:  1091.823 (best epoch: 0 w/val_loss: 1000.000)\n"
     ]
    },
    {
     "name": "stderr",
     "output_type": "stream",
     "text": [
      "324it [02:15,  2.39it/s]\n"
     ]
    },
    {
     "name": "stdout",
     "output_type": "stream",
     "text": [
      "New best epoch found: 1 (val loss: 4.522)!\n",
      "Epochs: 2 | Train Loss:  17.013                 | Val Loss:  4.522 (best epoch: 1 w/val_loss: 4.522)\n"
     ]
    },
    {
     "name": "stderr",
     "output_type": "stream",
     "text": [
      "324it [02:17,  2.36it/s]\n"
     ]
    },
    {
     "name": "stdout",
     "output_type": "stream",
     "text": [
      "New best epoch found: 2 (val loss: 4.286)!\n",
      "Epochs: 3 | Train Loss:  3.923                 | Val Loss:  4.286 (best epoch: 2 w/val_loss: 4.286)\n"
     ]
    },
    {
     "name": "stderr",
     "output_type": "stream",
     "text": [
      "324it [02:13,  2.42it/s]\n"
     ]
    },
    {
     "name": "stdout",
     "output_type": "stream",
     "text": [
      "New best epoch found: 3 (val loss: 4.247)!\n",
      "Epochs: 4 | Train Loss:  3.336                 | Val Loss:  4.247 (best epoch: 3 w/val_loss: 4.247)\n"
     ]
    },
    {
     "name": "stderr",
     "output_type": "stream",
     "text": [
      "324it [02:12,  2.45it/s]\n"
     ]
    },
    {
     "name": "stdout",
     "output_type": "stream",
     "text": [
      "Epochs: 5 | Train Loss:  2.617                 | Val Loss:  4.433 (best epoch: 3 w/val_loss: 4.247)\n"
     ]
    },
    {
     "name": "stderr",
     "output_type": "stream",
     "text": [
      "324it [02:16,  2.37it/s]\n"
     ]
    },
    {
     "name": "stdout",
     "output_type": "stream",
     "text": [
      "Epochs: 6 | Train Loss:  1.697                 | Val Loss:  5.451 (best epoch: 3 w/val_loss: 4.247)\n"
     ]
    },
    {
     "name": "stderr",
     "output_type": "stream",
     "text": [
      "324it [02:13,  2.43it/s]\n"
     ]
    },
    {
     "name": "stdout",
     "output_type": "stream",
     "text": [
      "Epochs: 7 | Train Loss:  0.885                 | Val Loss:  4.666 (best epoch: 3 w/val_loss: 4.247)\n"
     ]
    },
    {
     "name": "stderr",
     "output_type": "stream",
     "text": [
      "324it [02:14,  2.40it/s]\n"
     ]
    },
    {
     "name": "stdout",
     "output_type": "stream",
     "text": [
      "Epochs: 8 | Train Loss:  0.403                 | Val Loss:  4.550 (best epoch: 3 w/val_loss: 4.247)\n"
     ]
    },
    {
     "name": "stderr",
     "output_type": "stream",
     "text": [
      "324it [02:15,  2.40it/s]\n"
     ]
    },
    {
     "name": "stdout",
     "output_type": "stream",
     "text": [
      "Patience is up, restoring the best model and exiting...\n"
     ]
    }
   ],
   "source": [
    "criterion = nn.MSELoss()\n",
    "model = BertClassifier(num_classes=2)\n",
    "max_length = 32\n",
    "\n",
    "model, train_losses, val_losses = finetune(model,\n",
    "                                           Dataset(train, max_length=max_length),\n",
    "                                           Dataset(dev, max_length=max_length),\n",
    "                                           epochs=100,\n",
    "                                           max_length=max_length,\n",
    "                                           learning_rate=2e-5,\n",
    "                                           criterion=criterion)"
   ]
  },
  {
   "cell_type": "code",
   "execution_count": 7,
   "metadata": {
    "colab": {
     "base_uri": "https://localhost:8080/",
     "height": 490
    },
    "id": "MfQ9Dx9TiTlZ",
    "outputId": "71fa272a-6d92-487e-eb26-fd0f03f1843b"
   },
   "outputs": [
    {
     "data": {
      "image/png": "[encoded data removed]",
      "text/plain": [
       "<Figure size 640x480 with 1 Axes>"
      ]
     },
     "metadata": {},
     "output_type": "display_data"
    }
   ],
   "source": [
    "plt.plot(train_losses, label='Training Loss')\n",
    "plt.plot(val_losses, label='Validation Loss')\n",
    "plt.title('Training and Validation Loss')\n",
    "plt.xlabel('Epoch')\n",
    "plt.ylabel('Loss')\n",
    "_ = plt.legend()"
   ]
  },
  {
   "cell_type": "code",
   "execution_count": 8,
   "metadata": {
    "id": "DIYWcKK5hVGR"
   },
   "outputs": [],
   "source": [
    "test_dataloader = torch.utils.data.DataLoader(Dataset(test, max_length=max_length), batch_size=32, drop_last=False)\n",
    "p,l,_ = validate(model.to(\"cpu\"), test_dataloader, \"cpu\", criterion)\n",
    "preds_pd = pd.DataFrame({\"pred_lat\": np.array(p)[:, 0], \"pred_lon\": np.array(p)[:, 1],\n",
    "                         \"gold_lat\": np.array([i.numpy() for i in l])[:, 0],\n",
    "                         \"gold_lon\": np.array([i.numpy() for i in l])[:, 1]})\n",
    "preds_pd.to_csv(\"proverb.predictions.csv\", index=False)"
   ]
  },
  {
   "cell_type": "code",
   "execution_count": 9,
   "metadata": {
    "colab": {
     "base_uri": "https://localhost:8080/"
    },
    "id": "EBALiofry6iA",
    "outputId": "49af8c32-e698-4a8f-b7a1-73975a9d2c70"
   },
   "outputs": [
    {
     "name": "stdout",
     "output_type": "stream",
     "text": [
      "MAE\n",
      "lat: 1.23\n",
      "lon: 1.73\n",
      "MSE\n",
      "lat: 2.46\n",
      "lon: 4.89\n",
      "R2\n",
      "lat: -1.86\n",
      "lon: -0.34\n"
     ]
    }
   ],
   "source": [
    "print('MAE')\n",
    "print(f\"lat: {mean_absolute_error(preds_pd.pred_lat, preds_pd.gold_lat):.2f}\")\n",
    "print(f\"lon: {mean_absolute_error(preds_pd.pred_lon, preds_pd.gold_lon):.2f}\")\n",
    "print('MSE')\n",
    "print(f\"lat: {mean_squared_error(preds_pd.pred_lat, preds_pd.gold_lat):.2f}\")\n",
    "print(f\"lon: {mean_squared_error(preds_pd.pred_lon, preds_pd.gold_lon):.2f}\")\n",
    "print('R2')\n",
    "print(f\"lat: {r2_score(preds_pd.pred_lat, preds_pd.gold_lat):.2f}\")\n",
    "print(f\"lon: {r2_score(preds_pd.pred_lon, preds_pd.gold_lon):.2f}\")"
   ]
  }
 ],
 "metadata": {
  "accelerator": "GPU",
  "colab": {
   "gpuClass": "premium",
   "gpuType": "T4",
   "include_colab_link": true,
   "machine_shape": "hm",
   "provenance": []
  },
  "gpuClass": "premium",
  "kernelspec": {
   "display_name": "Python 3",
   "language": "python",
   "name": "python3"
  },
  "language_info": {
   "codemirror_mode": {
    "name": "ipython",
    "version": 3
   },
   "file_extension": ".py",
   "mimetype": "text/x-python",
   "name": "python",
   "nbconvert_exporter": "python",
   "pygments_lexer": "ipython3",
   "version": "3.12.7"
  }
 },
 "nbformat": 4,
 "nbformat_minor": 0
}
