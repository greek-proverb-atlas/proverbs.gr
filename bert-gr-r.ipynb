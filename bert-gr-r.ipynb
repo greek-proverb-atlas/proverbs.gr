{
 "cells": [
  {
   "cell_type": "markdown",
   "metadata": {
    "colab_type": "text",
    "id": "view-in-github"
   },
   "source": [
    "<a href=\"https://colab.research.google.com/github/ipavlopoulos/paremia/blob/main/bert-gr-r.ipynb\" target=\"_parent\"><img src=\"https://colab.research.google.com/assets/colab-badge.svg\" alt=\"Open In Colab\"/></a>"
   ]
  },
  {
   "cell_type": "code",
   "execution_count": 1,
   "metadata": {
    "id": "DxN2dSJWea_L"
   },
   "outputs": [],
   "source": [
    "import pandas as pd\n",
    "import matplotlib.pyplot as plt\n",
    "from sklearn.model_selection import train_test_split\n",
    "from sklearn.metrics import *\n",
    "\n",
    "balanced_corpus = pd.read_csv(\"https://raw.githubusercontent.com/ipavlopoulos/paremia/main/data/balanced_corpus.csv\", index_col=0)\n",
    "train, test = train_test_split(balanced_corpus, test_size=0.05, random_state=2023)\n",
    "train, dev = train_test_split(train, test_size=test.shape[0], random_state=2023)"
   ]
  },
  {
   "cell_type": "code",
   "execution_count": 2,
   "metadata": {
    "id": "-uLEMzv8ey0Q"
   },
   "outputs": [],
   "source": [
    "from transformers import BertModel, BertTokenizer\n",
    "model_name = 'nlpaueb/bert-base-greek-uncased-v1'\n",
    "tokenizer = BertTokenizer.from_pretrained(model_name)"
   ]
  },
  {
   "cell_type": "code",
   "execution_count": 3,
   "metadata": {
    "id": "D7KED0nCe1qz"
   },
   "outputs": [],
   "source": [
    "import torch\n",
    "import numpy as np\n",
    "\n",
    "class Dataset(torch.utils.data.Dataset):\n",
    "    def __init__(self, df, max_length = 32):\n",
    "        self.max_length = max_length\n",
    "        self.labels = df[[\"lat\", \"lon\"]].values\n",
    "        self.texts = df.text.apply(lambda txt: tokenizer(txt, \n",
    "                                                         padding='max_length', \n",
    "                                                         max_length = self.max_length, \n",
    "                                                         truncation=True, \n",
    "                                                         return_tensors=\"pt\")).values\n",
    "\n",
    "    def classes(self):\n",
    "        return self.labels\n",
    "\n",
    "    def __len__(self):\n",
    "        return len(self.labels)\n",
    "\n",
    "    def get_batch_labels(self, idx):\n",
    "        return np.array(self.labels[idx])\n",
    "\n",
    "    def get_batch_texts(self, idx):\n",
    "        return self.texts[idx]\n",
    "\n",
    "    def __getitem__(self, idx):\n",
    "        batch_texts = self.get_batch_texts(idx)\n",
    "        batch_y = self.get_batch_labels(idx)\n",
    "        return batch_texts, batch_y"
   ]
  },
  {
   "cell_type": "code",
   "execution_count": 4,
   "metadata": {
    "id": "CtXt452Kf_Pc"
   },
   "outputs": [],
   "source": [
    "from torch import nn\n",
    "\n",
    "class BertClassifier(nn.Module):\n",
    "\n",
    "    def __init__(self, dropout=0.1, num_classes=2):\n",
    "        super(BertClassifier, self).__init__()\n",
    "        self.bert = BertModel.from_pretrained(model_name)\n",
    "        self.dropout = nn.Dropout(dropout)\n",
    "        self.linear1 = nn.Linear(768, 128, bias=True)\n",
    "        self.norm = nn.BatchNorm1d(128)\n",
    "        self.linear2 = nn.Linear(128, num_classes, bias=True)\n",
    "        self.relu = nn.ReLU()\n",
    "\n",
    "    def forward(self, input_id, mask):\n",
    "        _, pooled_output = self.bert(input_ids=input_id, attention_mask=mask, return_dict=False)\n",
    "        x = pooled_output\n",
    "        x = self.dropout(x)\n",
    "        x = self.relu(self.linear1(x))\n",
    "        #x = self.norm(x)\n",
    "        x = self.linear2(x)\n",
    "        return x"
   ]
  },
  {
   "cell_type": "code",
   "execution_count": 7,
   "metadata": {
    "id": "SVbJdgRUg152"
   },
   "outputs": [],
   "source": [
    "from torch.optim import Adam\n",
    "from tqdm import tqdm\n",
    "\n",
    "from transformers import AutoTokenizer, BertModel\n",
    "\n",
    "def validate(model, dataloader, device=\"cpu\", criterion=nn.MSELoss()):\n",
    "    predictions, gold_labels = [], []\n",
    "    model.eval()\n",
    "    val_loss = 0\n",
    "    with torch.no_grad():\n",
    "        for val_batch_id, (val_input, val_label) in enumerate(dataloader):\n",
    "            val_label = val_label.to(device)\n",
    "            mask = val_input['attention_mask'].to(device)\n",
    "            input_id = val_input['input_ids'].squeeze(1).to(device)\n",
    "            output = model(input_id, mask)\n",
    "            val_batch_loss = criterion(output, val_label)\n",
    "            predictions.extend(output.cpu().numpy())\n",
    "            gold_labels.extend(val_label.cpu())\n",
    "            val_loss += val_batch_loss.item()\n",
    "    return predictions, gold_labels, val_loss/val_batch_id\n",
    "\n",
    "def finetune(model, train_data, val_data, \n",
    "             learning_rate=2e-5, epochs=100, criterion=nn.MSELoss(),\n",
    "             batch_size=32, max_length=16, patience=5):\n",
    "    \n",
    "    train_losses = []\n",
    "    val_losses = []\n",
    "    \n",
    "    train_dataloader = torch.utils.data.DataLoader(train_data, batch_size=batch_size, shuffle=True, drop_last=False)\n",
    "    val_dataloader = torch.utils.data.DataLoader(val_data, batch_size=batch_size, drop_last=False)\n",
    "    use_cuda = torch.cuda.is_available()\n",
    "    device = torch.device(\"cuda\" if use_cuda else \"cpu\")\n",
    "    optimizer = Adam(model.parameters(), lr=learning_rate)\n",
    "    model.train()\n",
    "    lowest_loss = 1000\n",
    "    best_epoch = 0\n",
    "    epochs_not_improving = 0\n",
    "\n",
    "    if use_cuda:\n",
    "            model = model.cuda()\n",
    "            criterion = criterion.cuda()\n",
    "    \n",
    "    for epoch_num in range(epochs):\n",
    "            total_acc_train = 0\n",
    "            total_loss_train = 0\n",
    "            total_loss_val = 0\n",
    "            for batch_id, (train_input, train_label) in tqdm(enumerate(train_dataloader)):\n",
    "                train_label = train_label.to(device)\n",
    "                mask = train_input['attention_mask'].to(device)\n",
    "                input_id = train_input['input_ids'].squeeze(1).to(device)\n",
    "                output = model(input_id, mask)                \n",
    "                batch_loss = criterion(output, train_label.float())\n",
    "                total_loss_train += batch_loss.item()\n",
    "                model.zero_grad()\n",
    "                batch_loss.backward()\n",
    "                optimizer.step()\n",
    "            train_losses.append(total_loss_train/batch_id)\n",
    "            \n",
    "            predictions, gold_labels, val_loss = validate(model, val_dataloader, device, criterion)\n",
    "            val_losses.append(val_loss)\n",
    "            if val_loss < lowest_loss:\n",
    "                print(f\"New best epoch found: {epoch_num} (val loss: {val_loss:.3f})!\")\n",
    "                lowest_loss = val_loss\n",
    "                best_epoch = epoch_num\n",
    "                torch.save(model.state_dict(), \"checkpoint.pt\")\n",
    "                epochs_not_improving = 0\n",
    "            else:\n",
    "                epochs_not_improving += 1\n",
    "                if epochs_not_improving > patience:\n",
    "                    model.load_state_dict(torch.load(\"checkpoint.pt\"))\n",
    "                    print('Patience is up, restoring the best model and exiting...')\n",
    "                    break\n",
    "            \n",
    "            print(\n",
    "                f'Epochs: {epoch_num + 1} | Train Loss: {total_loss_train/batch_id: .3f} \\\n",
    "                | Val Loss: {val_loss: .3f} (best epoch: {best_epoch} w/val_loss: {lowest_loss:.3f})')\n",
    "    model.eval()    \n",
    "    return model, train_losses, val_losses"
   ]
  },
  {
   "cell_type": "code",
   "execution_count": 8,
   "metadata": {
    "colab": {
     "base_uri": "https://localhost:8080/"
    },
    "id": "Wd4g1_zOiTlZ",
    "outputId": "c1c6e361-7857-4bb8-9bff-c5817077f168"
   },
   "outputs": [
    {
     "name": "stderr",
     "output_type": "stream",
     "text": [
      "Some weights of the model checkpoint at nlpaueb/bert-base-greek-uncased-v1 were not used when initializing BertModel: ['cls.predictions.transform.dense.bias', 'cls.predictions.decoder.bias', 'cls.predictions.transform.LayerNorm.bias', 'cls.predictions.decoder.weight', 'cls.seq_relationship.weight', 'cls.predictions.transform.LayerNorm.weight', 'cls.seq_relationship.bias', 'cls.predictions.bias', 'cls.predictions.transform.dense.weight']\n",
      "- This IS expected if you are initializing BertModel from the checkpoint of a model trained on another task or with another architecture (e.g. initializing a BertForSequenceClassification model from a BertForPreTraining model).\n",
      "- This IS NOT expected if you are initializing BertModel from the checkpoint of a model that you expect to be exactly identical (initializing a BertForSequenceClassification model from a BertForSequenceClassification model).\n",
      "324it [00:12, 26.08it/s]\n"
     ]
    },
    {
     "name": "stdout",
     "output_type": "stream",
     "text": [
      "New best epoch found: 0 (val loss: 238.118)!\n",
      "Epochs: 1 | Train Loss:  553.171                 | Val Loss:  238.118 (best epoch: 0 w/val_loss: 238.118)\n"
     ]
    },
    {
     "name": "stderr",
     "output_type": "stream",
     "text": [
      "324it [00:12, 26.25it/s]\n"
     ]
    },
    {
     "name": "stdout",
     "output_type": "stream",
     "text": [
      "New best epoch found: 1 (val loss: 18.456)!\n",
      "Epochs: 2 | Train Loss:  88.433                 | Val Loss:  18.456 (best epoch: 1 w/val_loss: 18.456)\n"
     ]
    },
    {
     "name": "stderr",
     "output_type": "stream",
     "text": [
      "324it [00:12, 26.25it/s]\n"
     ]
    },
    {
     "name": "stdout",
     "output_type": "stream",
     "text": [
      "New best epoch found: 2 (val loss: 5.656)!\n",
      "Epochs: 3 | Train Loss:  8.346                 | Val Loss:  5.656 (best epoch: 2 w/val_loss: 5.656)\n"
     ]
    },
    {
     "name": "stderr",
     "output_type": "stream",
     "text": [
      "324it [00:12, 26.20it/s]\n"
     ]
    },
    {
     "name": "stdout",
     "output_type": "stream",
     "text": [
      "New best epoch found: 3 (val loss: 5.561)!\n",
      "Epochs: 4 | Train Loss:  5.454                 | Val Loss:  5.561 (best epoch: 3 w/val_loss: 5.561)\n"
     ]
    },
    {
     "name": "stderr",
     "output_type": "stream",
     "text": [
      "324it [00:12, 26.17it/s]\n"
     ]
    },
    {
     "name": "stdout",
     "output_type": "stream",
     "text": [
      "New best epoch found: 4 (val loss: 5.561)!\n",
      "Epochs: 5 | Train Loss:  5.438                 | Val Loss:  5.561 (best epoch: 4 w/val_loss: 5.561)\n"
     ]
    },
    {
     "name": "stderr",
     "output_type": "stream",
     "text": [
      "324it [00:12, 26.15it/s]\n"
     ]
    },
    {
     "name": "stdout",
     "output_type": "stream",
     "text": [
      "New best epoch found: 5 (val loss: 5.560)!\n",
      "Epochs: 6 | Train Loss:  5.438                 | Val Loss:  5.560 (best epoch: 5 w/val_loss: 5.560)\n"
     ]
    },
    {
     "name": "stderr",
     "output_type": "stream",
     "text": [
      "324it [00:12, 26.15it/s]\n"
     ]
    },
    {
     "name": "stdout",
     "output_type": "stream",
     "text": [
      "New best epoch found: 6 (val loss: 5.559)!\n",
      "Epochs: 7 | Train Loss:  5.434                 | Val Loss:  5.559 (best epoch: 6 w/val_loss: 5.559)\n"
     ]
    },
    {
     "name": "stderr",
     "output_type": "stream",
     "text": [
      "324it [00:12, 26.11it/s]\n"
     ]
    },
    {
     "name": "stdout",
     "output_type": "stream",
     "text": [
      "Epochs: 8 | Train Loss:  5.435                 | Val Loss:  5.567 (best epoch: 6 w/val_loss: 5.559)\n"
     ]
    },
    {
     "name": "stderr",
     "output_type": "stream",
     "text": [
      "324it [00:12, 26.10it/s]\n"
     ]
    },
    {
     "name": "stdout",
     "output_type": "stream",
     "text": [
      "Epochs: 9 | Train Loss:  5.445                 | Val Loss:  5.569 (best epoch: 6 w/val_loss: 5.559)\n"
     ]
    },
    {
     "name": "stderr",
     "output_type": "stream",
     "text": [
      "324it [00:12, 26.10it/s]\n"
     ]
    },
    {
     "name": "stdout",
     "output_type": "stream",
     "text": [
      "New best epoch found: 9 (val loss: 5.557)!\n",
      "Epochs: 10 | Train Loss:  5.440                 | Val Loss:  5.557 (best epoch: 9 w/val_loss: 5.557)\n"
     ]
    },
    {
     "name": "stderr",
     "output_type": "stream",
     "text": [
      "324it [00:12, 26.06it/s]\n"
     ]
    },
    {
     "name": "stdout",
     "output_type": "stream",
     "text": [
      "Epochs: 11 | Train Loss:  5.440                 | Val Loss:  5.564 (best epoch: 9 w/val_loss: 5.557)\n"
     ]
    },
    {
     "name": "stderr",
     "output_type": "stream",
     "text": [
      "324it [00:12, 26.10it/s]\n"
     ]
    },
    {
     "name": "stdout",
     "output_type": "stream",
     "text": [
      "Epochs: 12 | Train Loss:  5.440                 | Val Loss:  5.569 (best epoch: 9 w/val_loss: 5.557)\n"
     ]
    },
    {
     "name": "stderr",
     "output_type": "stream",
     "text": [
      "324it [00:12, 26.09it/s]\n"
     ]
    },
    {
     "name": "stdout",
     "output_type": "stream",
     "text": [
      "Epochs: 13 | Train Loss:  5.435                 | Val Loss:  5.566 (best epoch: 9 w/val_loss: 5.557)\n"
     ]
    },
    {
     "name": "stderr",
     "output_type": "stream",
     "text": [
      "324it [00:12, 26.09it/s]\n"
     ]
    },
    {
     "name": "stdout",
     "output_type": "stream",
     "text": [
      "New best epoch found: 13 (val loss: 5.554)!\n",
      "Epochs: 14 | Train Loss:  5.436                 | Val Loss:  5.554 (best epoch: 13 w/val_loss: 5.554)\n"
     ]
    },
    {
     "name": "stderr",
     "output_type": "stream",
     "text": [
      "324it [00:12, 26.13it/s]\n"
     ]
    },
    {
     "name": "stdout",
     "output_type": "stream",
     "text": [
      "New best epoch found: 14 (val loss: 5.503)!\n",
      "Epochs: 15 | Train Loss:  5.409                 | Val Loss:  5.503 (best epoch: 14 w/val_loss: 5.503)\n"
     ]
    },
    {
     "name": "stderr",
     "output_type": "stream",
     "text": [
      "324it [00:12, 26.13it/s]\n"
     ]
    },
    {
     "name": "stdout",
     "output_type": "stream",
     "text": [
      "New best epoch found: 15 (val loss: 5.487)!\n",
      "Epochs: 16 | Train Loss:  5.368                 | Val Loss:  5.487 (best epoch: 15 w/val_loss: 5.487)\n"
     ]
    },
    {
     "name": "stderr",
     "output_type": "stream",
     "text": [
      "324it [00:12, 26.12it/s]\n"
     ]
    },
    {
     "name": "stdout",
     "output_type": "stream",
     "text": [
      "Epochs: 17 | Train Loss:  5.287                 | Val Loss:  5.492 (best epoch: 15 w/val_loss: 5.487)\n"
     ]
    },
    {
     "name": "stderr",
     "output_type": "stream",
     "text": [
      "324it [00:12, 26.08it/s]\n"
     ]
    },
    {
     "name": "stdout",
     "output_type": "stream",
     "text": [
      "New best epoch found: 17 (val loss: 5.317)!\n",
      "Epochs: 18 | Train Loss:  5.067                 | Val Loss:  5.317 (best epoch: 17 w/val_loss: 5.317)\n"
     ]
    },
    {
     "name": "stderr",
     "output_type": "stream",
     "text": [
      "324it [00:12, 26.10it/s]\n"
     ]
    },
    {
     "name": "stdout",
     "output_type": "stream",
     "text": [
      "New best epoch found: 18 (val loss: 5.257)!\n",
      "Epochs: 19 | Train Loss:  4.661                 | Val Loss:  5.257 (best epoch: 18 w/val_loss: 5.257)\n"
     ]
    },
    {
     "name": "stderr",
     "output_type": "stream",
     "text": [
      "324it [00:12, 26.05it/s]\n"
     ]
    },
    {
     "name": "stdout",
     "output_type": "stream",
     "text": [
      "New best epoch found: 19 (val loss: 5.170)!\n",
      "Epochs: 20 | Train Loss:  3.979                 | Val Loss:  5.170 (best epoch: 19 w/val_loss: 5.170)\n"
     ]
    },
    {
     "name": "stderr",
     "output_type": "stream",
     "text": [
      "324it [00:12, 26.10it/s]\n"
     ]
    },
    {
     "name": "stdout",
     "output_type": "stream",
     "text": [
      "New best epoch found: 20 (val loss: 4.991)!\n",
      "Epochs: 21 | Train Loss:  3.183                 | Val Loss:  4.991 (best epoch: 20 w/val_loss: 4.991)\n"
     ]
    },
    {
     "name": "stderr",
     "output_type": "stream",
     "text": [
      "324it [00:12, 26.09it/s]\n"
     ]
    },
    {
     "name": "stdout",
     "output_type": "stream",
     "text": [
      "New best epoch found: 21 (val loss: 4.931)!\n",
      "Epochs: 22 | Train Loss:  2.397                 | Val Loss:  4.931 (best epoch: 21 w/val_loss: 4.931)\n"
     ]
    },
    {
     "name": "stderr",
     "output_type": "stream",
     "text": [
      "324it [00:12, 26.06it/s]\n"
     ]
    },
    {
     "name": "stdout",
     "output_type": "stream",
     "text": [
      "New best epoch found: 22 (val loss: 4.855)!\n",
      "Epochs: 23 | Train Loss:  1.589                 | Val Loss:  4.855 (best epoch: 22 w/val_loss: 4.855)\n"
     ]
    },
    {
     "name": "stderr",
     "output_type": "stream",
     "text": [
      "324it [00:12, 26.09it/s]\n"
     ]
    },
    {
     "name": "stdout",
     "output_type": "stream",
     "text": [
      "New best epoch found: 23 (val loss: 4.645)!\n",
      "Epochs: 24 | Train Loss:  1.022                 | Val Loss:  4.645 (best epoch: 23 w/val_loss: 4.645)\n"
     ]
    },
    {
     "name": "stderr",
     "output_type": "stream",
     "text": [
      "324it [00:12, 26.09it/s]\n"
     ]
    },
    {
     "name": "stdout",
     "output_type": "stream",
     "text": [
      "New best epoch found: 24 (val loss: 4.465)!\n",
      "Epochs: 25 | Train Loss:  0.750                 | Val Loss:  4.465 (best epoch: 24 w/val_loss: 4.465)\n"
     ]
    },
    {
     "name": "stderr",
     "output_type": "stream",
     "text": [
      "324it [00:12, 26.11it/s]\n"
     ]
    },
    {
     "name": "stdout",
     "output_type": "stream",
     "text": [
      "New best epoch found: 25 (val loss: 4.451)!\n",
      "Epochs: 26 | Train Loss:  0.439                 | Val Loss:  4.451 (best epoch: 25 w/val_loss: 4.451)\n"
     ]
    },
    {
     "name": "stderr",
     "output_type": "stream",
     "text": [
      "324it [00:12, 26.13it/s]\n"
     ]
    },
    {
     "name": "stdout",
     "output_type": "stream",
     "text": [
      "Epochs: 27 | Train Loss:  0.376                 | Val Loss:  4.489 (best epoch: 25 w/val_loss: 4.451)\n"
     ]
    },
    {
     "name": "stderr",
     "output_type": "stream",
     "text": [
      "324it [00:12, 26.10it/s]\n"
     ]
    },
    {
     "name": "stdout",
     "output_type": "stream",
     "text": [
      "New best epoch found: 27 (val loss: 4.285)!\n",
      "Epochs: 28 | Train Loss:  0.233                 | Val Loss:  4.285 (best epoch: 27 w/val_loss: 4.285)\n"
     ]
    },
    {
     "name": "stderr",
     "output_type": "stream",
     "text": [
      "324it [00:12, 26.09it/s]\n"
     ]
    },
    {
     "name": "stdout",
     "output_type": "stream",
     "text": [
      "Epochs: 29 | Train Loss:  0.134                 | Val Loss:  4.287 (best epoch: 27 w/val_loss: 4.285)\n"
     ]
    },
    {
     "name": "stderr",
     "output_type": "stream",
     "text": [
      "324it [00:12, 26.06it/s]\n"
     ]
    },
    {
     "name": "stdout",
     "output_type": "stream",
     "text": [
      "New best epoch found: 29 (val loss: 4.277)!\n",
      "Epochs: 30 | Train Loss:  0.145                 | Val Loss:  4.277 (best epoch: 29 w/val_loss: 4.277)\n"
     ]
    },
    {
     "name": "stderr",
     "output_type": "stream",
     "text": [
      "324it [00:12, 26.08it/s]\n"
     ]
    },
    {
     "name": "stdout",
     "output_type": "stream",
     "text": [
      "Epochs: 31 | Train Loss:  0.098                 | Val Loss:  4.278 (best epoch: 29 w/val_loss: 4.277)\n"
     ]
    },
    {
     "name": "stderr",
     "output_type": "stream",
     "text": [
      "324it [00:12, 26.06it/s]\n"
     ]
    },
    {
     "name": "stdout",
     "output_type": "stream",
     "text": [
      "New best epoch found: 31 (val loss: 4.224)!\n",
      "Epochs: 32 | Train Loss:  0.060                 | Val Loss:  4.224 (best epoch: 31 w/val_loss: 4.224)\n"
     ]
    },
    {
     "name": "stderr",
     "output_type": "stream",
     "text": [
      "324it [00:12, 26.09it/s]\n"
     ]
    },
    {
     "name": "stdout",
     "output_type": "stream",
     "text": [
      "Epochs: 33 | Train Loss:  0.090                 | Val Loss:  4.784 (best epoch: 31 w/val_loss: 4.224)\n"
     ]
    },
    {
     "name": "stderr",
     "output_type": "stream",
     "text": [
      "324it [00:12, 26.06it/s]\n"
     ]
    },
    {
     "name": "stdout",
     "output_type": "stream",
     "text": [
      "Epochs: 34 | Train Loss:  0.147                 | Val Loss:  4.452 (best epoch: 31 w/val_loss: 4.224)\n"
     ]
    },
    {
     "name": "stderr",
     "output_type": "stream",
     "text": [
      "324it [00:12, 26.06it/s]\n"
     ]
    },
    {
     "name": "stdout",
     "output_type": "stream",
     "text": [
      "Epochs: 35 | Train Loss:  0.114                 | Val Loss:  4.245 (best epoch: 31 w/val_loss: 4.224)\n"
     ]
    },
    {
     "name": "stderr",
     "output_type": "stream",
     "text": [
      "324it [00:12, 26.05it/s]\n"
     ]
    },
    {
     "name": "stdout",
     "output_type": "stream",
     "text": [
      "Epochs: 36 | Train Loss:  0.085                 | Val Loss:  4.355 (best epoch: 31 w/val_loss: 4.224)\n"
     ]
    },
    {
     "name": "stderr",
     "output_type": "stream",
     "text": [
      "324it [00:12, 26.05it/s]\n"
     ]
    },
    {
     "name": "stdout",
     "output_type": "stream",
     "text": [
      "Epochs: 37 | Train Loss:  0.062                 | Val Loss:  4.331 (best epoch: 31 w/val_loss: 4.224)\n"
     ]
    },
    {
     "name": "stderr",
     "output_type": "stream",
     "text": [
      "324it [00:12, 26.04it/s]\n"
     ]
    },
    {
     "name": "stdout",
     "output_type": "stream",
     "text": [
      "Patience is up, restoring the best model and exiting...\n"
     ]
    }
   ],
   "source": [
    "criterion = nn.MSELoss()\n",
    "model = BertClassifier(num_classes=2)\n",
    "max_length = 16\n",
    "\n",
    "model,  train_loss, val_loss = finetune(model, \n",
    "                                        Dataset(train, max_length=max_length), \n",
    "                                        Dataset(dev, max_length=max_length), \n",
    "                                        epochs=100,\n",
    "                                        max_length=max_length,\n",
    "                                        learning_rate=2e-5, \n",
    "                                        criterion=criterion)"
   ]
  },
  {
   "cell_type": "code",
   "execution_count": 9,
   "metadata": {
    "colab": {
     "base_uri": "https://localhost:8080/",
     "height": 490
    },
    "id": "MfQ9Dx9TiTlZ",
    "outputId": "71fa272a-6d92-487e-eb26-fd0f03f1843b"
   },
   "outputs": [
    {
     "data": {
      "text/plain": [
       "<matplotlib.legend.Legend at 0x7f69445ce5d0>"
      ]
     },
     "execution_count": 9,
     "metadata": {},
     "output_type": "execute_result"
    },
    {
     "data": {
      "image/png": "[encoded data removed]",
      "text/plain": [
       "<Figure size 640x480 with 1 Axes>"
      ]
     },
     "metadata": {},
     "output_type": "display_data"
    }
   ],
   "source": [
    "plt.plot(train_loss, label='Training Loss')\n",
    "plt.plot(val_loss, label='Validation Loss')\n",
    "plt.title('Training and Validation Loss')\n",
    "plt.xlabel('Epoch')\n",
    "plt.ylabel('Loss')\n",
    "plt.legend()"
   ]
  },
  {
   "cell_type": "code",
   "execution_count": 10,
   "metadata": {
    "id": "DIYWcKK5hVGR"
   },
   "outputs": [],
   "source": [
    "test_dataloader = torch.utils.data.DataLoader(Dataset(test, max_length=max_length), batch_size=32, drop_last=False)\n",
    "p,l,_ = validate(model.to(\"cpu\"), test_dataloader, \"cpu\", criterion)\n",
    "preds_pd = pd.DataFrame({\"pred_lat\": np.array(p)[:, 0], \"pred_lon\": np.array(p)[:, 1],\n",
    "                         \"gold_lat\": np.array([i.numpy() for i in l])[:, 0], \"gold_lon\": np.array([i.numpy() for i in l])[:, 1]})\n",
    "preds_pd.to_csv(\"proverb.predictions.csv\", index=False)"
   ]
  },
  {
   "cell_type": "code",
   "execution_count": 11,
   "metadata": {
    "colab": {
     "base_uri": "https://localhost:8080/"
    },
    "id": "EBALiofry6iA",
    "outputId": "dd6b9006-4557-4889-a58b-c1a5ddf0a62c"
   },
   "outputs": [
    {
     "name": "stdout",
     "output_type": "stream",
     "text": [
      "MAE\n",
      "lat: 1.19\n",
      "lon: 1.69\n",
      "MSE\n",
      "lat: 2.44\n",
      "lon: 4.95\n",
      "R2\n",
      "lat: -1.00\n",
      "lon: -0.10\n"
     ]
    }
   ],
   "source": [
    "print('MAE')\n",
    "print(f\"lat: {mean_absolute_error(preds_pd.pred_lat, preds_pd.gold_lat):.2f}\")\n",
    "print(f\"lon: {mean_absolute_error(preds_pd.pred_lon, preds_pd.gold_lon):.2f}\")\n",
    "print('MSE')\n",
    "print(f\"lat: {mean_squared_error(preds_pd.pred_lat, preds_pd.gold_lat):.2f}\")\n",
    "print(f\"lon: {mean_squared_error(preds_pd.pred_lon, preds_pd.gold_lon):.2f}\")\n",
    "print('R2')\n",
    "print(f\"lat: {r2_score(preds_pd.pred_lat, preds_pd.gold_lat):.2f}\")\n",
    "print(f\"lon: {r2_score(preds_pd.pred_lon, preds_pd.gold_lon):.2f}\")"
   ]
  },
  {
   "cell_type": "code",
   "execution_count": 12,
   "metadata": {
    "id": "bG3vwmHHz4AU"
   },
   "outputs": [],
   "source": [
    "torch.save(model.state_dict(), \"bert-gr-r.pt\")"
   ]
  }
 ],
 "metadata": {
  "accelerator": "GPU",
  "colab": {
   "gpuClass": "premium",
   "gpuType": "T4",
   "include_colab_link": true,
   "machine_shape": "hm",
   "provenance": []
  },
  "gpuClass": "premium",
  "kernelspec": {
   "display_name": "Python 3 (ipykernel)",
   "language": "python",
   "name": "python3"
  },
  "language_info": {
   "codemirror_mode": {
    "name": "ipython",
    "version": 3
   },
   "file_extension": ".py",
   "mimetype": "text/x-python",
   "name": "python",
   "nbconvert_exporter": "python",
   "pygments_lexer": "ipython3",
   "version": "3.11.3"
  }
 },
 "nbformat": 4,
 "nbformat_minor": 1
}
