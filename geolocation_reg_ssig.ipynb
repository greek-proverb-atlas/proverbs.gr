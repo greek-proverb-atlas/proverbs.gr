{
 "cells": [
  {
   "cell_type": "markdown",
   "metadata": {
    "colab_type": "text",
    "id": "view-in-github"
   },
   "source": [
    "<a href=\"https://colab.research.google.com/github/greek-proverb-atlas/proverbs.gr/blob/main/geolocation_reg_ssig.ipynb\" target=\"_parent\"><img src=\"https://colab.research.google.com/assets/colab-badge.svg\" alt=\"Open In Colab\"/></a>"
   ]
  },
  {
   "cell_type": "markdown",
   "id": "f5ff8c59",
   "metadata": {
    "id": "f5ff8c59"
   },
   "source": [
    "# Geographical regression of Greek proverbs\n",
    "\n",
    "* Using a collection of proverbs from the [Hellenic Folklore Research Centre](http://www.kentrolaografias.gr/) of the Academy of Athens\n",
    "* Employing text regression to estimate the lat/lon of proverbs whose information is not known.\n",
    "* Studying feature importance, i.e., terms that distinguish spatially, from South to North, from West to East.\n",
    "* Experimenting with multiple train/test splits for statistical significance.\n",
    "---\n"
   ]
  },
  {
   "cell_type": "code",
   "execution_count": 1,
   "id": "fa49454d",
   "metadata": {
    "id": "fa49454d"
   },
   "outputs": [],
   "source": [
    "import pandas as pd\n",
    "from sklearn.model_selection import train_test_split\n",
    "from sklearn.linear_model import LinearRegression\n",
    "from sklearn.linear_model import ElasticNet\n",
    "from sklearn.feature_extraction.text import TfidfVectorizer\n",
    "from sklearn.pipeline import Pipeline\n",
    "from sklearn.linear_model import ElasticNet\n",
    "from sklearn.neighbors import KNeighborsRegressor\n",
    "from sklearn.ensemble import RandomForestRegressor, ExtraTreesRegressor\n",
    "from sklearn.metrics import mean_absolute_error, root_mean_squared_error\n",
    "\n",
    "import json"
   ]
  },
  {
   "cell_type": "code",
   "execution_count": null,
   "id": "057229cb",
   "metadata": {
    "id": "057229cb"
   },
   "outputs": [
    {
     "name": "stdout",
     "output_type": "stream",
     "text": [
      "Processing balanced_corpus_2.csv\n",
      "ElasticNet\n",
      "KNeighborsRegressor\n"
     ]
    },
    {
     "ename": "NameError",
     "evalue": "name 'nn_reg_best_params' is not defined",
     "output_type": "error",
     "traceback": [
      "\u001b[0;31m---------------------------------------------------------------------------\u001b[0m",
      "\u001b[0;31mNameError\u001b[0m                                 Traceback (most recent call last)",
      "Cell \u001b[0;32mIn[2], line 49\u001b[0m\n\u001b[1;32m     46\u001b[0m \u001b[38;5;28;01mwith\u001b[39;00m \u001b[38;5;28mopen\u001b[39m(\u001b[38;5;124m'\u001b[39m\u001b[38;5;124mbest_params_knn_reg.json\u001b[39m\u001b[38;5;124m'\u001b[39m) \u001b[38;5;28;01mas\u001b[39;00m f:\n\u001b[1;32m     47\u001b[0m     knn_reg_best_params \u001b[38;5;241m=\u001b[39m json\u001b[38;5;241m.\u001b[39mload(f)\n\u001b[1;32m     48\u001b[0m nn_reg \u001b[38;5;241m=\u001b[39m Pipeline([(\u001b[38;5;124m'\u001b[39m\u001b[38;5;124mvect\u001b[39m\u001b[38;5;124m'\u001b[39m, vect), \n\u001b[0;32m---> 49\u001b[0m                    (\u001b[38;5;124m'\u001b[39m\u001b[38;5;124mreg\u001b[39m\u001b[38;5;124m'\u001b[39m, KNeighborsRegressor(\u001b[38;5;241m*\u001b[39m\u001b[38;5;241m*\u001b[39m\u001b[43mnn_reg_best_params\u001b[49m))])\n\u001b[1;32m     50\u001b[0m nn_reg\u001b[38;5;241m.\u001b[39mfit(train\u001b[38;5;241m.\u001b[39mtext\u001b[38;5;241m.\u001b[39mvalues, train[[\u001b[38;5;124m\"\u001b[39m\u001b[38;5;124mlat\u001b[39m\u001b[38;5;124m\"\u001b[39m, \u001b[38;5;124m\"\u001b[39m\u001b[38;5;124mlon\u001b[39m\u001b[38;5;124m\"\u001b[39m]]\u001b[38;5;241m.\u001b[39mvalues)\n\u001b[1;32m     51\u001b[0m reg_models[\u001b[38;5;124m'\u001b[39m\u001b[38;5;124mnn\u001b[39m\u001b[38;5;124m'\u001b[39m] \u001b[38;5;241m=\u001b[39m nn_reg\n",
      "\u001b[0;31mNameError\u001b[0m: name 'nn_reg_best_params' is not defined"
     ]
    }
   ],
   "source": [
    "reg_models = {'el': [], 'nn': [], 'rf': [], 'lr': [], 'xt': []}\n",
    "scores = {\n",
    "    m : {'mse': {'lat': [], 'lon': []}, 'mae': {'lat': [], 'lon': []}} \n",
    "    for m in reg_models\n",
    "}\n",
    "\n",
    "root = 'https://github.com/greek-proverb-atlas/proverbs.gr/raw/refs/heads/main'\n",
    "\n",
    "for i in range(2, 6):\n",
    "    print(f\"Processing balanced_corpus_{i}.csv\")\n",
    "    balanced_corpus = pd.read_csv(f\"{root}/data/balanced_corpus_{i}.csv\",\n",
    "                                  index_col=0).reset_index()\n",
    "    # quality assurance patch\n",
    "    geolocs = pd.read_csv(f'{root}/data/geolocs.csv')\n",
    "    balanced_corpus.lat = balanced_corpus.area.apply(\n",
    "        lambda x: geolocs[x].iloc[0])\n",
    "    balanced_corpus.lon = balanced_corpus.area.apply(\n",
    "        lambda x: geolocs[x].iloc[1])\n",
    "    # end of quality assurance\n",
    "    \n",
    "    train, test = train_test_split(balanced_corpus, \n",
    "                                   test_size=0.05, \n",
    "                                   random_state=2023)\n",
    "    train, dev = train_test_split(train, \n",
    "                                  test_size=test.shape[0], \n",
    "                                  random_state=2023)\n",
    "\n",
    "    vect = TfidfVectorizer(ngram_range=(1,1), \n",
    "                           analyzer=\"word\", \n",
    "                           max_df=0.5, \n",
    "                           min_df=10, \n",
    "                           lowercase=True)\n",
    "    vect.fit(train.text.values)\n",
    "\n",
    "    # elastic\n",
    "    print('ElasticNet')\n",
    "    with open('best_params_el_reg.json') as f:\n",
    "        el_reg_best_params = json.load(f)\n",
    "    el_reg = Pipeline([('vect', vect), \n",
    "                       ('reg', ElasticNet(**el_reg_best_params))])\n",
    "    el_reg.fit(train.text.values, train[[\"lat\", \"lon\"]].values)\n",
    "    reg_models['el'] = el_reg\n",
    "\n",
    "    # knn\n",
    "    print('KNeighborsRegressor')\n",
    "    with open('best_params_knn_reg.json') as f:\n",
    "        knn_reg_best_params = json.load(f)\n",
    "    nn_reg = Pipeline([('vect', vect), \n",
    "                       ('reg', KNeighborsRegressor(**knn_reg_best_params))])\n",
    "    nn_reg.fit(train.text.values, train[[\"lat\", \"lon\"]].values)\n",
    "    reg_models['nn'] = nn_reg\n",
    "\n",
    "    # forest\n",
    "    print('RandomForestRegressor')\n",
    "    with open('best_params_rf_reg.json') as f:\n",
    "        rf_reg_best_params = json.load(f)\n",
    "    rf_reg = Pipeline([('vect', vect), \n",
    "                       ('reg', RandomForestRegressor(**rf_reg_best_params))])\n",
    "    rf_reg.fit(train.text.values, train[[\"lat\", \"lon\"]].values)\n",
    "    reg_models['rf'] = rf_reg\n",
    "\n",
    "    # extra trees\n",
    "    print('ExtraTreesRegressor')\n",
    "    with open('best_params_xt_reg.json') as f:\n",
    "        xt_reg_best_params = json.load(f)\n",
    "    xt_reg = Pipeline([('vect', vect), \n",
    "                       ('reg', ExtraTreesRegressor(**xt_reg_best_params))])\n",
    "    xt_reg.fit(train.text.values, train[[\"lat\", \"lon\"]].values)\n",
    "    reg_models['xt'] = xt_reg\n",
    "\n",
    "    # linear regression\n",
    "    print('LinearRegression')\n",
    "    lr_reg = Pipeline([('vect', vect), ('reg', LinearRegression())])\n",
    "    lr_reg.fit(train.text.values, train[[\"lat\", \"lon\"]].values)\n",
    "    reg_models['lr'] = lr_reg\n",
    "\n",
    "    for model_name in reg_models:\n",
    "        regressor = reg_models[model_name]\n",
    "        preds = regressor.predict(test.text.values)\n",
    "        mae_lat, mae_lon = (\n",
    "            mean_absolute_error(test.lat.values, preds[:, 0]),\n",
    "            mean_absolute_error(test.lon.values, preds[:, 1])\n",
    "        )\n",
    "        mse_lat, mse_lon = (\n",
    "            root_mean_squared_error(test.lat.values, preds[:, 0])**2,\n",
    "            root_mean_squared_error(test.lon.values, preds[:, 1])**2\n",
    "        )\n",
    "        scores[model_name]['mae']['lat'].append(mae_lat)\n",
    "        scores[model_name]['mae']['lon'].append(mae_lon)\n",
    "        scores[model_name]['mse']['lat'].append(mse_lat)\n",
    "        scores[model_name]['mse']['lon'].append(mse_lon)\n"
   ]
  },
  {
   "cell_type": "code",
   "execution_count": null,
   "id": "f30d1fda",
   "metadata": {
    "colab": {
     "base_uri": "https://localhost:8080/",
     "height": 206
    },
    "id": "f30d1fda",
    "outputId": "acc32935-01df-492d-bcb6-fafcce85e272"
   },
   "outputs": [
    {
     "data": {
      "text/html": [
       "<div>\n",
       "<style scoped>\n",
       "    .dataframe tbody tr th:only-of-type {\n",
       "        vertical-align: middle;\n",
       "    }\n",
       "\n",
       "    .dataframe tbody tr th {\n",
       "        vertical-align: top;\n",
       "    }\n",
       "\n",
       "    .dataframe thead th {\n",
       "        text-align: right;\n",
       "    }\n",
       "</style>\n",
       "<table border=\"1\" class=\"dataframe\">\n",
       "  <thead>\n",
       "    <tr style=\"text-align: right;\">\n",
       "      <th></th>\n",
       "      <th>mae-lat</th>\n",
       "      <th>mae-lon</th>\n",
       "      <th>mse-lat</th>\n",
       "      <th>mse-lon</th>\n",
       "    </tr>\n",
       "  </thead>\n",
       "  <tbody>\n",
       "    <tr>\n",
       "      <th>el</th>\n",
       "      <td>1.37</td>\n",
       "      <td>2.87</td>\n",
       "      <td>2.93</td>\n",
       "      <td>15.15</td>\n",
       "    </tr>\n",
       "    <tr>\n",
       "      <th>nn</th>\n",
       "      <td>1.48</td>\n",
       "      <td>3.25</td>\n",
       "      <td>3.37</td>\n",
       "      <td>17.99</td>\n",
       "    </tr>\n",
       "    <tr>\n",
       "      <th>rf</th>\n",
       "      <td>1.45</td>\n",
       "      <td>2.88</td>\n",
       "      <td>3.24</td>\n",
       "      <td>15.65</td>\n",
       "    </tr>\n",
       "    <tr>\n",
       "      <th>lr</th>\n",
       "      <td>1.38</td>\n",
       "      <td>2.91</td>\n",
       "      <td>2.99</td>\n",
       "      <td>15.52</td>\n",
       "    </tr>\n",
       "    <tr>\n",
       "      <th>xt</th>\n",
       "      <td>1.44</td>\n",
       "      <td>2.89</td>\n",
       "      <td>3.23</td>\n",
       "      <td>15.63</td>\n",
       "    </tr>\n",
       "  </tbody>\n",
       "</table>\n",
       "</div>"
      ],
      "text/plain": [
       "    mae-lat  mae-lon  mse-lat  mse-lon\n",
       "el     1.37     2.87     2.93    15.15\n",
       "nn     1.48     3.25     3.37    17.99\n",
       "rf     1.45     2.88     3.24    15.65\n",
       "lr     1.38     2.91     2.99    15.52\n",
       "xt     1.44     2.89     3.23    15.63"
      ]
     },
     "execution_count": 12,
     "metadata": {},
     "output_type": "execute_result"
    }
   ],
   "source": [
    "estimates = pd.DataFrame({\n",
    "    'mae-lat': pd.DataFrame(\n",
    "        {m: scores[m]['mae']['lat'] for m in reg_models}).mean(),\n",
    "    'mae-lon': pd.DataFrame(\n",
    "        {m: scores[m]['mae']['lon'] for m in reg_models}).mean(),\n",
    "    'mse-lat': pd.DataFrame(\n",
    "        {m: scores[m]['mse']['lat'] for m in reg_models}).mean(),\n",
    "    'mse-lon': pd.DataFrame(\n",
    "        {m: scores[m]['mse']['lon'] for m in reg_models}).mean()\n",
    "    })\n",
    "\n",
    "estimates.round(2)"
   ]
  },
  {
   "cell_type": "code",
   "execution_count": null,
   "id": "ded1defd",
   "metadata": {
    "colab": {
     "base_uri": "https://localhost:8080/",
     "height": 206
    },
    "id": "ded1defd",
    "outputId": "d74b85cc-78c1-4c06-a979-e77d88f02b9f"
   },
   "outputs": [
    {
     "data": {
      "text/html": [
       "<div>\n",
       "<style scoped>\n",
       "    .dataframe tbody tr th:only-of-type {\n",
       "        vertical-align: middle;\n",
       "    }\n",
       "\n",
       "    .dataframe tbody tr th {\n",
       "        vertical-align: top;\n",
       "    }\n",
       "\n",
       "    .dataframe thead th {\n",
       "        text-align: right;\n",
       "    }\n",
       "</style>\n",
       "<table border=\"1\" class=\"dataframe\">\n",
       "  <thead>\n",
       "    <tr style=\"text-align: right;\">\n",
       "      <th></th>\n",
       "      <th>mae-lat</th>\n",
       "      <th>mae-lon</th>\n",
       "      <th>mse-lat</th>\n",
       "      <th>mse-lon</th>\n",
       "    </tr>\n",
       "  </thead>\n",
       "  <tbody>\n",
       "    <tr>\n",
       "      <th>el</th>\n",
       "      <td>0.01</td>\n",
       "      <td>0.03</td>\n",
       "      <td>0.04</td>\n",
       "      <td>0.34</td>\n",
       "    </tr>\n",
       "    <tr>\n",
       "      <th>nn</th>\n",
       "      <td>0.00</td>\n",
       "      <td>0.09</td>\n",
       "      <td>0.02</td>\n",
       "      <td>0.77</td>\n",
       "    </tr>\n",
       "    <tr>\n",
       "      <th>rf</th>\n",
       "      <td>0.01</td>\n",
       "      <td>0.02</td>\n",
       "      <td>0.02</td>\n",
       "      <td>0.28</td>\n",
       "    </tr>\n",
       "    <tr>\n",
       "      <th>lr</th>\n",
       "      <td>0.01</td>\n",
       "      <td>0.03</td>\n",
       "      <td>0.05</td>\n",
       "      <td>0.39</td>\n",
       "    </tr>\n",
       "    <tr>\n",
       "      <th>xt</th>\n",
       "      <td>0.01</td>\n",
       "      <td>0.02</td>\n",
       "      <td>0.03</td>\n",
       "      <td>0.23</td>\n",
       "    </tr>\n",
       "  </tbody>\n",
       "</table>\n",
       "</div>"
      ],
      "text/plain": [
       "    mae-lat  mae-lon  mse-lat  mse-lon\n",
       "el     0.01     0.03     0.04     0.34\n",
       "nn     0.00     0.09     0.02     0.77\n",
       "rf     0.01     0.02     0.02     0.28\n",
       "lr     0.01     0.03     0.05     0.39\n",
       "xt     0.01     0.02     0.03     0.23"
      ]
     },
     "execution_count": 13,
     "metadata": {},
     "output_type": "execute_result"
    }
   ],
   "source": [
    "sems = pd.DataFrame({\n",
    "    'mae-lat': pd.DataFrame(\n",
    "        {m: scores[m]['mae']['lat'] for m in reg_models}).sem(),    \n",
    "    'mae-lon': pd.DataFrame(\n",
    "        {m: scores[m]['mae']['lon'] for m in reg_models}).sem(),\n",
    "    'mse-lat': pd.DataFrame(\n",
    "        {m: scores[m]['mse']['lat'] for m in reg_models}).sem(),   \n",
    "    'mse-lon': pd.DataFrame(\n",
    "        {m: scores[m]['mse']['lon'] for m in reg_models}).sem()\n",
    "    })\n",
    "\n",
    "sems.round(2)"
   ]
  }
 ],
 "metadata": {
  "colab": {
   "include_colab_link": true,
   "provenance": []
  },
  "kernelspec": {
   "display_name": "Python 3",
   "language": "python",
   "name": "python3"
  },
  "language_info": {
   "codemirror_mode": {
    "name": "ipython",
    "version": 3
   },
   "file_extension": ".py",
   "mimetype": "text/x-python",
   "name": "python",
   "nbconvert_exporter": "python",
   "pygments_lexer": "ipython3",
   "version": "3.12.7"
  }
 },
 "nbformat": 4,
 "nbformat_minor": 5
}
