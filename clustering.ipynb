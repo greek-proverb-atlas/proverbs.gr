{
  "cells": [
    {
      "cell_type": "markdown",
      "metadata": {
        "colab_type": "text",
        "id": "view-in-github"
      },
      "source": [
        "<a href=\"https://colab.research.google.com/github/ipavlopoulos/paremia/blob/main/clustering.ipynb\" target=\"_parent\"><img src=\"https://colab.research.google.com/assets/colab-badge.svg\" alt=\"Open In Colab\"/></a>"
      ]
    },
    {
      "cell_type": "code",
      "execution_count": 1,
      "metadata": {
        "id": "EqjdtkSzBTpl"
      },
      "outputs": [],
      "source": [
        "import numpy as np\n",
        "import pandas as pd\n",
        "import matplotlib.pyplot as plt"
      ]
    },
    {
      "cell_type": "markdown",
      "metadata": {
        "id": "T7DBg-zuD8EK"
      },
      "source": [
        "### Loading the texts"
      ]
    },
    {
      "cell_type": "code",
      "execution_count": 2,
      "metadata": {
        "colab": {
          "base_uri": "https://localhost:8080/"
        },
        "id": "Mqo_umvqBeEY",
        "outputId": "485f8a52-c364-486d-c222-82e876425718"
      },
      "outputs": [
        {
          "data": {
            "text/plain": [
              "Index(['text', 'place', 'uri', 'collector', 'area', 'lat', 'lon'], dtype='object')"
            ]
          },
          "execution_count": 2,
          "metadata": {},
          "output_type": "execute_result"
        }
      ],
      "source": [
        "proverbs = pd.read_csv(\"https://raw.githubusercontent.com/ipavlopoulos/paremia/main/data/balanced_corpus.csv\", index_col=0)\n",
        "proverbs.columns"
      ]
    },
    {
      "cell_type": "markdown",
      "metadata": {
        "id": "zDS77SaPD57w"
      },
      "source": [
        "### Representing the texts with TFIDF"
      ]
    },
    {
      "cell_type": "code",
      "execution_count": 3,
      "metadata": {
        "id": "PZ3JkkB0L-2_"
      },
      "outputs": [],
      "source": [
        "from sklearn.feature_extraction.text import TfidfVectorizer\n",
        "vect = TfidfVectorizer(ngram_range=(2, 5), \n",
        "                       analyzer=\"char\",\n",
        "                       max_df=0.5, \n",
        "                       min_df=2, lowercase=True)\n",
        "X = vect.fit_transform(proverbs.text.values)"
      ]
    },
    {
      "cell_type": "markdown",
      "metadata": {
        "id": "EgBTMYKHGiUP"
      },
      "source": [
        "### Clustering for different number of clusters"
      ]
    },
    {
      "cell_type": "code",
      "execution_count": 4,
      "metadata": {},
      "outputs": [],
      "source": [
        "# adjusted from https://scikit-learn.org/stable/auto_examples/text/plot_document_clustering.html#quantifying-the-quality-of-clustering-results\n",
        "\n",
        "from collections import defaultdict\n",
        "from time import time\n",
        "\n",
        "from sklearn import metrics\n",
        "\n",
        "evaluations = []\n",
        "evaluations_std = []\n",
        "\n",
        "def fit_and_evaluate(km, X, labels, name=None, n_runs=5):\n",
        "    name = km.__class__.__name__ if name is None else name\n",
        "\n",
        "    train_times = []\n",
        "    scores = defaultdict(list)\n",
        "    for seed in range(n_runs):\n",
        "        km.set_params(random_state=seed)\n",
        "        t0 = time()\n",
        "        km.fit(X)\n",
        "        train_times.append(time() - t0)\n",
        "        scores[\"Inertia\"].append(km.inertia_)\n",
        "        scores[\"Homogeneity\"].append(metrics.homogeneity_score(labels, \n",
        "                                                               km.labels_))\n",
        "        scores[\"Completeness\"].append(metrics.completeness_score(labels, \n",
        "                                                                 km.labels_))\n",
        "        scores[\"V-measure\"].append(metrics.v_measure_score(labels, km.labels_))\n",
        "        scores[\"Adjusted Rand-Index\"].append(\n",
        "            metrics.adjusted_rand_score(labels, km.labels_)\n",
        "        )\n",
        "        scores[\"Silhouette Coefficient\"].append(\n",
        "            metrics.silhouette_score(X, km.labels_, sample_size=2000)\n",
        "        )\n",
        "    train_times = np.asarray(train_times)\n",
        "\n",
        "    print(f\"clustering done in {train_times.mean():.2f} ± {train_times.std():.2f} s \")\n",
        "    evaluation = {\n",
        "        \"estimator\": name,\n",
        "        \"train_time\": train_times.mean(),\n",
        "    }\n",
        "    evaluation_std = {\n",
        "        \"estimator\": name,\n",
        "        \"train_time\": train_times.std(),\n",
        "    }\n",
        "    for score_name, score_values in scores.items():\n",
        "        mean_score, std_score = np.mean(score_values), np.std(score_values)\n",
        "        print(f\"{score_name}: {mean_score:.3f} ± {std_score:.3f}\")\n",
        "        evaluation[score_name] = mean_score\n",
        "        evaluation_std[score_name] = std_score\n",
        "    evaluations.append(evaluation)\n",
        "    evaluations_std.append(evaluation_std)"
      ]
    },
    {
      "cell_type": "code",
      "execution_count": 5,
      "metadata": {
        "colab": {
          "base_uri": "https://localhost:8080/",
          "height": 49,
          "referenced_widgets": [
            "8ec5e227d3b548d3ab120b9bf9b2f418",
            "0c7e9685a1904198bf0a81fdfe493e76",
            "917f16cf2b76425a94a046425a74f362",
            "084181ccec8e45e499186530336ad93a",
            "39f52638a0c1402b883b11fdab1205e0",
            "be6da2dccfb242b0a5fd448084b9fef8",
            "8527a4474eb54c34984fb77112e88523",
            "d6a4aa960234486abf1b5285d71a6664",
            "8fbb3cac31294a70b1175f4cf2b51a99",
            "27528e2716ca4cfd8c09e4d0c6df27ae",
            "77eb90a702144ec8bc5080abe40a8e1a"
          ]
        },
        "id": "oVuqcXJFBv3s",
        "outputId": "8ce00cb5-db18-43ba-cf79-41fd47aff484"
      },
      "outputs": [
        {
          "name": "stdout",
          "output_type": "stream",
          "text": [
            "10 clusters\n",
            "clustering done in 0.77 ± 0.13 s \n",
            "Inertia: 11165.441 ± 3.259\n",
            "Homogeneity: 0.020 ± 0.001\n",
            "Completeness: 0.031 ± 0.002\n",
            "V-measure: 0.024 ± 0.002\n",
            "Adjusted Rand-Index: 0.004 ± 0.001\n",
            "Silhouette Coefficient: 0.003 ± 0.000\n",
            "\n",
            "11 clusters\n",
            "clustering done in 0.90 ± 0.12 s \n",
            "Inertia: 11153.107 ± 4.199\n",
            "Homogeneity: 0.020 ± 0.001\n",
            "Completeness: 0.031 ± 0.002\n",
            "V-measure: 0.024 ± 0.002\n",
            "Adjusted Rand-Index: 0.004 ± 0.001\n",
            "Silhouette Coefficient: 0.003 ± 0.000\n",
            "\n",
            "12 clusters\n",
            "clustering done in 1.47 ± 0.68 s \n",
            "Inertia: 11142.158 ± 4.006\n",
            "Homogeneity: 0.021 ± 0.001\n",
            "Completeness: 0.030 ± 0.002\n",
            "V-measure: 0.025 ± 0.002\n",
            "Adjusted Rand-Index: 0.004 ± 0.001\n",
            "Silhouette Coefficient: 0.003 ± 0.000\n",
            "\n",
            "13 clusters\n",
            "clustering done in 1.28 ± 0.31 s \n",
            "Inertia: 11130.013 ± 6.449\n",
            "Homogeneity: 0.023 ± 0.002\n",
            "Completeness: 0.033 ± 0.002\n",
            "V-measure: 0.027 ± 0.002\n",
            "Adjusted Rand-Index: 0.005 ± 0.000\n",
            "Silhouette Coefficient: 0.003 ± 0.000\n",
            "\n",
            "14 clusters\n",
            "clustering done in 1.08 ± 0.19 s \n",
            "Inertia: 11118.449 ± 5.578\n",
            "Homogeneity: 0.025 ± 0.002\n",
            "Completeness: 0.034 ± 0.002\n",
            "V-measure: 0.029 ± 0.002\n",
            "Adjusted Rand-Index: 0.006 ± 0.000\n",
            "Silhouette Coefficient: 0.003 ± 0.000\n",
            "\n",
            "15 clusters\n",
            "clustering done in 1.09 ± 0.24 s \n",
            "Inertia: 11106.958 ± 4.718\n",
            "Homogeneity: 0.025 ± 0.002\n",
            "Completeness: 0.034 ± 0.002\n",
            "V-measure: 0.029 ± 0.002\n",
            "Adjusted Rand-Index: 0.005 ± 0.001\n",
            "Silhouette Coefficient: 0.004 ± 0.000\n",
            "\n",
            "16 clusters\n",
            "clustering done in 1.26 ± 0.33 s \n",
            "Inertia: 11099.143 ± 4.425\n",
            "Homogeneity: 0.026 ± 0.002\n",
            "Completeness: 0.033 ± 0.003\n",
            "V-measure: 0.029 ± 0.003\n",
            "Adjusted Rand-Index: 0.005 ± 0.000\n",
            "Silhouette Coefficient: 0.004 ± 0.000\n",
            "\n",
            "17 clusters\n",
            "clustering done in 1.18 ± 0.31 s \n",
            "Inertia: 11086.403 ± 4.694\n",
            "Homogeneity: 0.027 ± 0.001\n",
            "Completeness: 0.034 ± 0.002\n",
            "V-measure: 0.030 ± 0.002\n",
            "Adjusted Rand-Index: 0.006 ± 0.001\n",
            "Silhouette Coefficient: 0.004 ± 0.001\n",
            "\n",
            "18 clusters\n",
            "clustering done in 1.38 ± 0.63 s \n",
            "Inertia: 11074.571 ± 2.895\n",
            "Homogeneity: 0.028 ± 0.002\n",
            "Completeness: 0.035 ± 0.002\n",
            "V-measure: 0.031 ± 0.002\n",
            "Adjusted Rand-Index: 0.006 ± 0.001\n",
            "Silhouette Coefficient: 0.004 ± 0.000\n",
            "\n",
            "19 clusters\n",
            "clustering done in 1.59 ± 0.85 s \n",
            "Inertia: 11066.619 ± 3.902\n",
            "Homogeneity: 0.028 ± 0.001\n",
            "Completeness: 0.034 ± 0.001\n",
            "V-measure: 0.031 ± 0.001\n",
            "Adjusted Rand-Index: 0.006 ± 0.001\n",
            "Silhouette Coefficient: 0.004 ± 0.000\n",
            "\n",
            "20 clusters\n",
            "clustering done in 1.33 ± 0.20 s \n",
            "Inertia: 11055.591 ± 2.750\n",
            "Homogeneity: 0.030 ± 0.002\n",
            "Completeness: 0.035 ± 0.002\n",
            "V-measure: 0.032 ± 0.002\n",
            "Adjusted Rand-Index: 0.007 ± 0.001\n",
            "Silhouette Coefficient: 0.005 ± 0.000\n",
            "\n",
            "21 clusters\n",
            "clustering done in 1.49 ± 0.29 s \n",
            "Inertia: 11050.786 ± 5.996\n",
            "Homogeneity: 0.030 ± 0.001\n",
            "Completeness: 0.035 ± 0.001\n",
            "V-measure: 0.033 ± 0.001\n",
            "Adjusted Rand-Index: 0.006 ± 0.001\n",
            "Silhouette Coefficient: 0.005 ± 0.000\n",
            "\n",
            "22 clusters\n",
            "clustering done in 1.68 ± 0.31 s \n",
            "Inertia: 11041.541 ± 4.231\n",
            "Homogeneity: 0.030 ± 0.001\n",
            "Completeness: 0.034 ± 0.000\n",
            "V-measure: 0.032 ± 0.000\n",
            "Adjusted Rand-Index: 0.006 ± 0.001\n",
            "Silhouette Coefficient: 0.005 ± 0.000\n",
            "\n",
            "23 clusters\n",
            "clustering done in 1.57 ± 0.35 s \n",
            "Inertia: 11034.933 ± 5.683\n",
            "Homogeneity: 0.030 ± 0.001\n",
            "Completeness: 0.035 ± 0.001\n",
            "V-measure: 0.032 ± 0.001\n",
            "Adjusted Rand-Index: 0.006 ± 0.001\n",
            "Silhouette Coefficient: 0.005 ± 0.000\n",
            "\n",
            "24 clusters\n",
            "clustering done in 1.58 ± 0.26 s \n",
            "Inertia: 11028.703 ± 3.506\n",
            "Homogeneity: 0.031 ± 0.001\n",
            "Completeness: 0.035 ± 0.001\n",
            "V-measure: 0.033 ± 0.001\n",
            "Adjusted Rand-Index: 0.006 ± 0.001\n",
            "Silhouette Coefficient: 0.005 ± 0.000\n",
            "\n",
            "25 clusters\n",
            "clustering done in 1.78 ± 0.40 s \n",
            "Inertia: 11019.029 ± 3.141\n",
            "Homogeneity: 0.032 ± 0.001\n",
            "Completeness: 0.035 ± 0.001\n",
            "V-measure: 0.033 ± 0.001\n",
            "Adjusted Rand-Index: 0.006 ± 0.001\n",
            "Silhouette Coefficient: 0.005 ± 0.000\n",
            "\n",
            "26 clusters\n",
            "clustering done in 1.88 ± 0.55 s \n",
            "Inertia: 11011.060 ± 2.769\n",
            "Homogeneity: 0.033 ± 0.001\n",
            "Completeness: 0.036 ± 0.001\n",
            "V-measure: 0.034 ± 0.001\n",
            "Adjusted Rand-Index: 0.006 ± 0.001\n",
            "Silhouette Coefficient: 0.005 ± 0.000\n",
            "\n",
            "27 clusters\n",
            "clustering done in 1.51 ± 0.23 s \n",
            "Inertia: 11002.319 ± 4.144\n",
            "Homogeneity: 0.033 ± 0.001\n",
            "Completeness: 0.036 ± 0.001\n",
            "V-measure: 0.034 ± 0.001\n",
            "Adjusted Rand-Index: 0.006 ± 0.001\n",
            "Silhouette Coefficient: 0.005 ± 0.000\n",
            "\n",
            "28 clusters\n",
            "clustering done in 1.67 ± 0.30 s \n",
            "Inertia: 10995.410 ± 4.347\n",
            "Homogeneity: 0.034 ± 0.001\n",
            "Completeness: 0.036 ± 0.001\n",
            "V-measure: 0.035 ± 0.001\n",
            "Adjusted Rand-Index: 0.006 ± 0.001\n",
            "Silhouette Coefficient: 0.005 ± 0.000\n",
            "\n",
            "29 clusters\n",
            "clustering done in 1.75 ± 0.33 s \n",
            "Inertia: 10985.981 ± 4.829\n",
            "Homogeneity: 0.034 ± 0.001\n",
            "Completeness: 0.036 ± 0.001\n",
            "V-measure: 0.035 ± 0.001\n",
            "Adjusted Rand-Index: 0.006 ± 0.000\n",
            "Silhouette Coefficient: 0.006 ± 0.000\n",
            "\n",
            "30 clusters\n",
            "clustering done in 1.71 ± 0.12 s \n",
            "Inertia: 10978.676 ± 5.405\n",
            "Homogeneity: 0.035 ± 0.001\n",
            "Completeness: 0.036 ± 0.001\n",
            "V-measure: 0.035 ± 0.001\n",
            "Adjusted Rand-Index: 0.006 ± 0.000\n",
            "Silhouette Coefficient: 0.006 ± 0.000\n",
            "\n"
          ]
        }
      ],
      "source": [
        "from sklearn.cluster import KMeans\n",
        "kappas = list(range(10, 30+1))\n",
        "models = {}\n",
        "for k in kappas:\n",
        "    print(f'{k} clusters')\n",
        "    fit_and_evaluate(KMeans(n_clusters=k, n_init='auto'), \n",
        "                     X, \n",
        "                     proverbs.area, \n",
        "                     name=f\"KMeans({k})\")\n",
        "    print()"
      ]
    },
    {
      "cell_type": "markdown",
      "metadata": {
        "id": "WezXhY1-HBuD"
      },
      "source": [
        "### Assessing the clusterings"
      ]
    },
    {
      "cell_type": "code",
      "execution_count": 6,
      "metadata": {},
      "outputs": [],
      "source": [
        "from kneed import KneeLocator\n",
        "\n",
        "squared_distances = [ evaluation['Inertia'] for evaluation in evaluations ]\n",
        "kl = KneeLocator(kappas, squared_distances, curve=\"convex\",\n",
        "                 direction=\"decreasing\")"
      ]
    },
    {
      "cell_type": "code",
      "execution_count": 7,
      "metadata": {},
      "outputs": [
        {
          "data": {
            "image/png": "[encoded data removed]",
            "text/plain": [
              "<Figure size 640x480 with 1 Axes>"
            ]
          },
          "metadata": {},
          "output_type": "display_data"
        }
      ],
      "source": [
        "plt.plot(kappas, squared_distances, 'bx-')\n",
        "plt.vlines(kl.elbow, plt.ylim()[0], plt.ylim()[1], linestyles='dashed',\n",
        "           label='Elbow at k = %d' % kl.elbow)\n",
        "plt.xlabel('k')\n",
        "plt.ylabel('Sum of Squared Distances')\n",
        "plt.title('Elbow Method For Optimal k')\n",
        "plt.legend()\n",
        "plt.show()"
      ]
    },
    {
      "cell_type": "code",
      "execution_count": 8,
      "metadata": {},
      "outputs": [
        {
          "data": {
            "image/png": "[encoded data removed]",
            "text/plain": [
              "<Figure size 640x480 with 1 Axes>"
            ]
          },
          "metadata": {},
          "output_type": "display_data"
        }
      ],
      "source": [
        "silhouette_scores = [ evaluation['Silhouette Coefficient'] \n",
        "                     for evaluation in evaluations ]\n",
        "\n",
        "plt.plot(kappas, silhouette_scores, 'bx-')\n",
        "plt.xlabel('k')\n",
        "plt.ylabel('Silhouette Coefficient')\n",
        "plt.title('Silhouette Method For Optimal k')\n",
        "plt.show()"
      ]
    },
    {
      "cell_type": "code",
      "execution_count": 9,
      "metadata": {},
      "outputs": [
        {
          "data": {
            "image/png": "[encoded data removed]",
            "text/plain": [
              "<Figure size 640x480 with 1 Axes>"
            ]
          },
          "metadata": {},
          "output_type": "display_data"
        }
      ],
      "source": [
        "homogeneity = [ \n",
        "               evaluation['Homogeneity'] \n",
        "               for evaluation in evaluations \n",
        "]\n",
        "\n",
        "homogeneity_std = [ \n",
        "                   evaluation['Homogeneity'] \n",
        "                   for evaluation in evaluations_std \n",
        "]\n",
        "\n",
        "completeness = [ \n",
        "                evaluation['Completeness']\n",
        "                for evaluation in evaluations \n",
        "]\n",
        "\n",
        "completeness_std = [ \n",
        "                    evaluation['Completeness']\n",
        "                    for evaluation in evaluations_std\n",
        "]\n",
        "\n",
        "v_measure = [ \n",
        "              evaluation['V-measure']\n",
        "              for evaluation in evaluations \n",
        "]\n",
        "\n",
        "v_measure_std = [ \n",
        "                 evaluation['V-measure']\n",
        "                 for evaluation in evaluations_std \n",
        "]\n",
        "\n",
        "ari = [\n",
        "    evaluation['Adjusted Rand-Index']\n",
        "    for evaluation in evaluations\n",
        "]\n",
        "\n",
        "ari_std = [\n",
        "    evaluation['Adjusted Rand-Index']\n",
        "    for evaluation in evaluations_std\n",
        "]\n",
        "\n",
        "plt.errorbar(kappas, homogeneity, yerr=homogeneity_std, fmt='-o',\n",
        "             label='Homogeneity')\n",
        "plt.errorbar(kappas, completeness, yerr=completeness_std, fmt='-o',\n",
        "             label='Completeness')\n",
        "plt.errorbar(kappas, v_measure, yerr=v_measure_std, fmt='-o',\n",
        "             label='V-Measure')\n",
        "plt.errorbar(kappas, ari, yerr=ari_std, fmt='-o',\n",
        "             label='ARI')\n",
        "plt.xlabel('k')\n",
        "plt.ylabel('Metric Value')\n",
        "plt.title('Values for k')\n",
        "plt.legend()\n",
        "plt.show()\n"
      ]
    }
  ],
  "metadata": {
    "colab": {
      "authorship_tag": "ABX9TyPivDNfslAe9H7dLR3hZNVl",
      "include_colab_link": true,
      "provenance": []
    },
    "kernelspec": {
      "display_name": "Python 3",
      "name": "python3"
    },
    "language_info": {
      "codemirror_mode": {
        "name": "ipython",
        "version": 3
      },
      "file_extension": ".py",
      "mimetype": "text/x-python",
      "name": "python",
      "nbconvert_exporter": "python",
      "pygments_lexer": "ipython3",
      "version": "3.11.4"
    },
    "widgets": {
      "application/vnd.jupyter.widget-state+json": {
        "084181ccec8e45e499186530336ad93a": {
          "model_module": "@jupyter-widgets/controls",
          "model_module_version": "1.5.0",
          "model_name": "HTMLModel",
          "state": {
            "_dom_classes": [],
            "_model_module": "@jupyter-widgets/controls",
            "_model_module_version": "1.5.0",
            "_model_name": "HTMLModel",
            "_view_count": null,
            "_view_module": "@jupyter-widgets/controls",
            "_view_module_version": "1.5.0",
            "_view_name": "HTMLView",
            "description": "",
            "description_tooltip": null,
            "layout": "IPY_MODEL_27528e2716ca4cfd8c09e4d0c6df27ae",
            "placeholder": "​",
            "style": "IPY_MODEL_77eb90a702144ec8bc5080abe40a8e1a",
            "value": " 20/20 [01:15&lt;00:00,  6.74s/it]"
          }
        },
        "0c7e9685a1904198bf0a81fdfe493e76": {
          "model_module": "@jupyter-widgets/controls",
          "model_module_version": "1.5.0",
          "model_name": "HTMLModel",
          "state": {
            "_dom_classes": [],
            "_model_module": "@jupyter-widgets/controls",
            "_model_module_version": "1.5.0",
            "_model_name": "HTMLModel",
            "_view_count": null,
            "_view_module": "@jupyter-widgets/controls",
            "_view_module_version": "1.5.0",
            "_view_name": "HTMLView",
            "description": "",
            "description_tooltip": null,
            "layout": "IPY_MODEL_be6da2dccfb242b0a5fd448084b9fef8",
            "placeholder": "​",
            "style": "IPY_MODEL_8527a4474eb54c34984fb77112e88523",
            "value": "100%"
          }
        },
        "27528e2716ca4cfd8c09e4d0c6df27ae": {
          "model_module": "@jupyter-widgets/base",
          "model_module_version": "1.2.0",
          "model_name": "LayoutModel",
          "state": {
            "_model_module": "@jupyter-widgets/base",
            "_model_module_version": "1.2.0",
            "_model_name": "LayoutModel",
            "_view_count": null,
            "_view_module": "@jupyter-widgets/base",
            "_view_module_version": "1.2.0",
            "_view_name": "LayoutView",
            "align_content": null,
            "align_items": null,
            "align_self": null,
            "border": null,
            "bottom": null,
            "display": null,
            "flex": null,
            "flex_flow": null,
            "grid_area": null,
            "grid_auto_columns": null,
            "grid_auto_flow": null,
            "grid_auto_rows": null,
            "grid_column": null,
            "grid_gap": null,
            "grid_row": null,
            "grid_template_areas": null,
            "grid_template_columns": null,
            "grid_template_rows": null,
            "height": null,
            "justify_content": null,
            "justify_items": null,
            "left": null,
            "margin": null,
            "max_height": null,
            "max_width": null,
            "min_height": null,
            "min_width": null,
            "object_fit": null,
            "object_position": null,
            "order": null,
            "overflow": null,
            "overflow_x": null,
            "overflow_y": null,
            "padding": null,
            "right": null,
            "top": null,
            "visibility": null,
            "width": null
          }
        },
        "39f52638a0c1402b883b11fdab1205e0": {
          "model_module": "@jupyter-widgets/base",
          "model_module_version": "1.2.0",
          "model_name": "LayoutModel",
          "state": {
            "_model_module": "@jupyter-widgets/base",
            "_model_module_version": "1.2.0",
            "_model_name": "LayoutModel",
            "_view_count": null,
            "_view_module": "@jupyter-widgets/base",
            "_view_module_version": "1.2.0",
            "_view_name": "LayoutView",
            "align_content": null,
            "align_items": null,
            "align_self": null,
            "border": null,
            "bottom": null,
            "display": null,
            "flex": null,
            "flex_flow": null,
            "grid_area": null,
            "grid_auto_columns": null,
            "grid_auto_flow": null,
            "grid_auto_rows": null,
            "grid_column": null,
            "grid_gap": null,
            "grid_row": null,
            "grid_template_areas": null,
            "grid_template_columns": null,
            "grid_template_rows": null,
            "height": null,
            "justify_content": null,
            "justify_items": null,
            "left": null,
            "margin": null,
            "max_height": null,
            "max_width": null,
            "min_height": null,
            "min_width": null,
            "object_fit": null,
            "object_position": null,
            "order": null,
            "overflow": null,
            "overflow_x": null,
            "overflow_y": null,
            "padding": null,
            "right": null,
            "top": null,
            "visibility": null,
            "width": null
          }
        },
        "77eb90a702144ec8bc5080abe40a8e1a": {
          "model_module": "@jupyter-widgets/controls",
          "model_module_version": "1.5.0",
          "model_name": "DescriptionStyleModel",
          "state": {
            "_model_module": "@jupyter-widgets/controls",
            "_model_module_version": "1.5.0",
            "_model_name": "DescriptionStyleModel",
            "_view_count": null,
            "_view_module": "@jupyter-widgets/base",
            "_view_module_version": "1.2.0",
            "_view_name": "StyleView",
            "description_width": ""
          }
        },
        "8527a4474eb54c34984fb77112e88523": {
          "model_module": "@jupyter-widgets/controls",
          "model_module_version": "1.5.0",
          "model_name": "DescriptionStyleModel",
          "state": {
            "_model_module": "@jupyter-widgets/controls",
            "_model_module_version": "1.5.0",
            "_model_name": "DescriptionStyleModel",
            "_view_count": null,
            "_view_module": "@jupyter-widgets/base",
            "_view_module_version": "1.2.0",
            "_view_name": "StyleView",
            "description_width": ""
          }
        },
        "8ec5e227d3b548d3ab120b9bf9b2f418": {
          "model_module": "@jupyter-widgets/controls",
          "model_module_version": "1.5.0",
          "model_name": "HBoxModel",
          "state": {
            "_dom_classes": [],
            "_model_module": "@jupyter-widgets/controls",
            "_model_module_version": "1.5.0",
            "_model_name": "HBoxModel",
            "_view_count": null,
            "_view_module": "@jupyter-widgets/controls",
            "_view_module_version": "1.5.0",
            "_view_name": "HBoxView",
            "box_style": "",
            "children": [
              "IPY_MODEL_0c7e9685a1904198bf0a81fdfe493e76",
              "IPY_MODEL_917f16cf2b76425a94a046425a74f362",
              "IPY_MODEL_084181ccec8e45e499186530336ad93a"
            ],
            "layout": "IPY_MODEL_39f52638a0c1402b883b11fdab1205e0"
          }
        },
        "8fbb3cac31294a70b1175f4cf2b51a99": {
          "model_module": "@jupyter-widgets/controls",
          "model_module_version": "1.5.0",
          "model_name": "ProgressStyleModel",
          "state": {
            "_model_module": "@jupyter-widgets/controls",
            "_model_module_version": "1.5.0",
            "_model_name": "ProgressStyleModel",
            "_view_count": null,
            "_view_module": "@jupyter-widgets/base",
            "_view_module_version": "1.2.0",
            "_view_name": "StyleView",
            "bar_color": null,
            "description_width": ""
          }
        },
        "917f16cf2b76425a94a046425a74f362": {
          "model_module": "@jupyter-widgets/controls",
          "model_module_version": "1.5.0",
          "model_name": "FloatProgressModel",
          "state": {
            "_dom_classes": [],
            "_model_module": "@jupyter-widgets/controls",
            "_model_module_version": "1.5.0",
            "_model_name": "FloatProgressModel",
            "_view_count": null,
            "_view_module": "@jupyter-widgets/controls",
            "_view_module_version": "1.5.0",
            "_view_name": "ProgressView",
            "bar_style": "success",
            "description": "",
            "description_tooltip": null,
            "layout": "IPY_MODEL_d6a4aa960234486abf1b5285d71a6664",
            "max": 20,
            "min": 0,
            "orientation": "horizontal",
            "style": "IPY_MODEL_8fbb3cac31294a70b1175f4cf2b51a99",
            "value": 20
          }
        },
        "be6da2dccfb242b0a5fd448084b9fef8": {
          "model_module": "@jupyter-widgets/base",
          "model_module_version": "1.2.0",
          "model_name": "LayoutModel",
          "state": {
            "_model_module": "@jupyter-widgets/base",
            "_model_module_version": "1.2.0",
            "_model_name": "LayoutModel",
            "_view_count": null,
            "_view_module": "@jupyter-widgets/base",
            "_view_module_version": "1.2.0",
            "_view_name": "LayoutView",
            "align_content": null,
            "align_items": null,
            "align_self": null,
            "border": null,
            "bottom": null,
            "display": null,
            "flex": null,
            "flex_flow": null,
            "grid_area": null,
            "grid_auto_columns": null,
            "grid_auto_flow": null,
            "grid_auto_rows": null,
            "grid_column": null,
            "grid_gap": null,
            "grid_row": null,
            "grid_template_areas": null,
            "grid_template_columns": null,
            "grid_template_rows": null,
            "height": null,
            "justify_content": null,
            "justify_items": null,
            "left": null,
            "margin": null,
            "max_height": null,
            "max_width": null,
            "min_height": null,
            "min_width": null,
            "object_fit": null,
            "object_position": null,
            "order": null,
            "overflow": null,
            "overflow_x": null,
            "overflow_y": null,
            "padding": null,
            "right": null,
            "top": null,
            "visibility": null,
            "width": null
          }
        },
        "d6a4aa960234486abf1b5285d71a6664": {
          "model_module": "@jupyter-widgets/base",
          "model_module_version": "1.2.0",
          "model_name": "LayoutModel",
          "state": {
            "_model_module": "@jupyter-widgets/base",
            "_model_module_version": "1.2.0",
            "_model_name": "LayoutModel",
            "_view_count": null,
            "_view_module": "@jupyter-widgets/base",
            "_view_module_version": "1.2.0",
            "_view_name": "LayoutView",
            "align_content": null,
            "align_items": null,
            "align_self": null,
            "border": null,
            "bottom": null,
            "display": null,
            "flex": null,
            "flex_flow": null,
            "grid_area": null,
            "grid_auto_columns": null,
            "grid_auto_flow": null,
            "grid_auto_rows": null,
            "grid_column": null,
            "grid_gap": null,
            "grid_row": null,
            "grid_template_areas": null,
            "grid_template_columns": null,
            "grid_template_rows": null,
            "height": null,
            "justify_content": null,
            "justify_items": null,
            "left": null,
            "margin": null,
            "max_height": null,
            "max_width": null,
            "min_height": null,
            "min_width": null,
            "object_fit": null,
            "object_position": null,
            "order": null,
            "overflow": null,
            "overflow_x": null,
            "overflow_y": null,
            "padding": null,
            "right": null,
            "top": null,
            "visibility": null,
            "width": null
          }
        }
      }
    }
  },
  "nbformat": 4,
  "nbformat_minor": 0
}
