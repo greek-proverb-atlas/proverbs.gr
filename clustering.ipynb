{
 "cells": [
  {
   "cell_type": "markdown",
   "metadata": {
    "colab_type": "text",
    "id": "view-in-github"
   },
   "source": [
    "<a href=\"https://colab.research.google.com/github/ipavlopoulos/paremia/blob/main/clustering.ipynb\" target=\"_parent\"><img src=\"https://colab.research.google.com/assets/colab-badge.svg\" alt=\"Open In Colab\"/></a>"
   ]
  },
  {
   "cell_type": "code",
   "execution_count": 1,
   "metadata": {
    "id": "EqjdtkSzBTpl"
   },
   "outputs": [],
   "source": [
    "import numpy as np\n",
    "import pandas as pd\n",
    "import matplotlib.pyplot as plt"
   ]
  },
  {
   "cell_type": "markdown",
   "metadata": {
    "id": "T7DBg-zuD8EK"
   },
   "source": [
    "### Loading the texts"
   ]
  },
  {
   "cell_type": "code",
   "execution_count": 2,
   "metadata": {
    "colab": {
     "base_uri": "https://localhost:8080/"
    },
    "id": "Mqo_umvqBeEY",
    "outputId": "120812eb-3e86-4200-a06c-fb473fdeb99f"
   },
   "outputs": [
    {
     "data": {
      "text/plain": [
       "Index(['Unnamed: 0', 'text', 'place', 'uri', 'collector', 'area', 'lat',\n",
       "       'lon'],\n",
       "      dtype='object')"
      ]
     },
     "execution_count": 2,
     "metadata": {},
     "output_type": "execute_result"
    }
   ],
   "source": [
    "# proverbs = pd.read_csv(\"https://raw.githubusercontent.com/ipavlopoulos/paremia/main/data/balanced_corpus.csv\", index_col=0)\n",
    "proverbs = pd.read_csv('data/balanced_corpus.csv')\n",
    "proverbs.columns"
   ]
  },
  {
   "cell_type": "markdown",
   "metadata": {
    "id": "zDS77SaPD57w"
   },
   "source": [
    "### Representing the texts with TFIDF"
   ]
  },
  {
   "cell_type": "code",
   "execution_count": 3,
   "metadata": {},
   "outputs": [
    {
     "data": {
      "text/plain": [
       "num_words\n",
       "1       22\n",
       "2      265\n",
       "3      617\n",
       "4     1173\n",
       "5     1351\n",
       "6     1392\n",
       "7     1536\n",
       "8     1462\n",
       "9     1186\n",
       "10     886\n",
       "11     502\n",
       "12     295\n",
       "13     175\n",
       "14     111\n",
       "15     112\n",
       "16     117\n",
       "17      75\n",
       "18      58\n",
       "19      63\n",
       "20      21\n",
       "21      26\n",
       "22      13\n",
       "23       8\n",
       "24      10\n",
       "25       6\n",
       "26       1\n",
       "27       5\n",
       "28       2\n",
       "29       1\n",
       "30       3\n",
       "31       1\n",
       "33       2\n",
       "36       1\n",
       "39       1\n",
       "77       1\n",
       "Name: count, dtype: int64"
      ]
     },
     "execution_count": 3,
     "metadata": {},
     "output_type": "execute_result"
    }
   ],
   "source": [
    "proverbs['num_words'] = proverbs['text'].str.split().apply(len)\n",
    "\n",
    "num_words_counts = proverbs['num_words'].value_counts().sort_index()\n",
    "num_words_counts"
   ]
  },
  {
   "cell_type": "code",
   "execution_count": 4,
   "metadata": {},
   "outputs": [
    {
     "data": {
      "text/plain": [
       "<Axes: xlabel='num_words'>"
      ]
     },
     "execution_count": 4,
     "metadata": {},
     "output_type": "execute_result"
    },
    {
     "data": {
      "image/png": "[encoded data removed]",
      "text/plain": [
       "<Figure size 640x480 with 1 Axes>"
      ]
     },
     "metadata": {},
     "output_type": "display_data"
    }
   ],
   "source": [
    "num_words_counts.plot.bar()"
   ]
  },
  {
   "cell_type": "code",
   "execution_count": 5,
   "metadata": {},
   "outputs": [
    {
     "data": {
      "text/plain": [
       "1540    Κείνος που δούλευε ακριβά πεινούσε , και κείνο...\n",
       "3586    Τη Δευτέρα πάει στο μύλο και την Τρίτη πάει το...\n",
       "3668    Εψές πέθαν' ο άντρας μου, προχτές ο γάϊδαρός μ...\n",
       "3987    Στους πέντε μήνες το σκυλλι στο ξάμηνο τ' αδρά...\n",
       "4898    Κάηκα, μάννα μ, κάηκα! Μ' κάηκες για, παιδί μ,...\n",
       "9964    Τ' 'αη Γιωργιού ύφαινενε μια το πανάκι ντου κα...\n",
       "Name: text, dtype: object"
      ]
     },
     "execution_count": 5,
     "metadata": {},
     "output_type": "execute_result"
    }
   ],
   "source": [
    "proverbs[proverbs['num_words'] > 30]['text']"
   ]
  },
  {
   "cell_type": "code",
   "execution_count": 6,
   "metadata": {},
   "outputs": [
    {
     "data": {
      "text/html": [
       "<div>\n",
       "<style scoped>\n",
       "    .dataframe tbody tr th:only-of-type {\n",
       "        vertical-align: middle;\n",
       "    }\n",
       "\n",
       "    .dataframe tbody tr th {\n",
       "        vertical-align: top;\n",
       "    }\n",
       "\n",
       "    .dataframe thead th {\n",
       "        text-align: right;\n",
       "    }\n",
       "</style>\n",
       "<table border=\"1\" class=\"dataframe\">\n",
       "  <thead>\n",
       "    <tr style=\"text-align: right;\">\n",
       "      <th></th>\n",
       "      <th>Unnamed: 0</th>\n",
       "      <th>text</th>\n",
       "      <th>place</th>\n",
       "      <th>uri</th>\n",
       "      <th>collector</th>\n",
       "      <th>area</th>\n",
       "      <th>lat</th>\n",
       "      <th>lon</th>\n",
       "      <th>num_words</th>\n",
       "    </tr>\n",
       "  </thead>\n",
       "  <tbody>\n",
       "    <tr>\n",
       "      <th>0</th>\n",
       "      <td>105697</td>\n",
       "      <td>Γέλια σαν κομπολόγια</td>\n",
       "      <td>Ήπειρος, Ζαγόρι, Βίτσα</td>\n",
       "      <td>http://hdl.handle.net/20.500.11853/168435</td>\n",
       "      <td>Σάρρος, Δημήτριος Μ.</td>\n",
       "      <td>Ήπειρος</td>\n",
       "      <td>37.998253</td>\n",
       "      <td>23.737867</td>\n",
       "      <td>3</td>\n",
       "    </tr>\n",
       "    <tr>\n",
       "      <th>1</th>\n",
       "      <td>8413</td>\n",
       "      <td>Καρδίαν καθαράν θέλ' ο Θεός</td>\n",
       "      <td>Ήπειρος</td>\n",
       "      <td>http://hdl.handle.net/20.500.11853/167032</td>\n",
       "      <td>Γόνιος, Α.</td>\n",
       "      <td>Ήπειρος</td>\n",
       "      <td>37.998253</td>\n",
       "      <td>23.737867</td>\n",
       "      <td>5</td>\n",
       "    </tr>\n",
       "    <tr>\n",
       "      <th>2</th>\n",
       "      <td>7684</td>\n",
       "      <td>Ου Θεός κι ου γείτονας</td>\n",
       "      <td>Ήπειρος</td>\n",
       "      <td>http://hdl.handle.net/20.500.11853/168991</td>\n",
       "      <td>Γαλδέμης, Αναστάσιος Δ.</td>\n",
       "      <td>Ήπειρος</td>\n",
       "      <td>37.998253</td>\n",
       "      <td>23.737867</td>\n",
       "      <td>5</td>\n",
       "    </tr>\n",
       "    <tr>\n",
       "      <th>3</th>\n",
       "      <td>18546</td>\n",
       "      <td>Θέλει να κρυφθή πίσω από το δάχτυλό του</td>\n",
       "      <td>Ήπειρος</td>\n",
       "      <td>http://hdl.handle.net/20.500.11853/273352</td>\n",
       "      <td>Ζηκίδης, Γεώργιος Δ.</td>\n",
       "      <td>Ήπειρος</td>\n",
       "      <td>37.998253</td>\n",
       "      <td>23.737867</td>\n",
       "      <td>8</td>\n",
       "    </tr>\n",
       "    <tr>\n",
       "      <th>4</th>\n",
       "      <td>94001</td>\n",
       "      <td>Όλοι κλαίν' τα χάλια τ'ς κι ο μυλωνάς τη δέσι</td>\n",
       "      <td>Ήπειρος</td>\n",
       "      <td>http://hdl.handle.net/20.500.11853/204755</td>\n",
       "      <td>Παπαγεωργίου, Ιωάννης</td>\n",
       "      <td>Ήπειρος</td>\n",
       "      <td>37.998253</td>\n",
       "      <td>23.737867</td>\n",
       "      <td>10</td>\n",
       "    </tr>\n",
       "    <tr>\n",
       "      <th>...</th>\n",
       "      <td>...</td>\n",
       "      <td>...</td>\n",
       "      <td>...</td>\n",
       "      <td>...</td>\n",
       "      <td>...</td>\n",
       "      <td>...</td>\n",
       "      <td>...</td>\n",
       "      <td>...</td>\n",
       "      <td>...</td>\n",
       "    </tr>\n",
       "    <tr>\n",
       "      <th>11495</th>\n",
       "      <td>101735</td>\n",
       "      <td>Παστρζικό τσανα τσ' έναι!</td>\n",
       "      <td>Σκύρος</td>\n",
       "      <td>http://hdl.handle.net/20.500.11853/247609</td>\n",
       "      <td>Περδίκα, Νίκη Λ.</td>\n",
       "      <td>Σκύρος</td>\n",
       "      <td>38.873044</td>\n",
       "      <td>24.524477</td>\n",
       "      <td>4</td>\n",
       "    </tr>\n",
       "    <tr>\n",
       "      <th>11496</th>\n",
       "      <td>101233</td>\n",
       "      <td>Κάλλιο γεναίκα κάμισσα, πέρζι πολυπροικούσα</td>\n",
       "      <td>Σκύρος</td>\n",
       "      <td>http://hdl.handle.net/20.500.11853/195541</td>\n",
       "      <td>Περδίκα, Νίκη Λ.</td>\n",
       "      <td>Σκύρος</td>\n",
       "      <td>38.873044</td>\n",
       "      <td>24.524477</td>\n",
       "      <td>5</td>\n",
       "    </tr>\n",
       "    <tr>\n",
       "      <th>11497</th>\n",
       "      <td>101612</td>\n",
       "      <td>Όγοιος κάθεται στη στερζά τσαί θάλασσα γερεύει...</td>\n",
       "      <td>Σκύρος</td>\n",
       "      <td>http://hdl.handle.net/20.500.11853/195683</td>\n",
       "      <td>Περδίκα, Νίκη Λ.</td>\n",
       "      <td>Σκύρος</td>\n",
       "      <td>38.873044</td>\n",
       "      <td>24.524477</td>\n",
       "      <td>15</td>\n",
       "    </tr>\n",
       "    <tr>\n",
       "      <th>11498</th>\n",
       "      <td>101762</td>\n",
       "      <td>Πήε στ' δαιμόνου τ' μάννα</td>\n",
       "      <td>Σκύρος</td>\n",
       "      <td>http://hdl.handle.net/20.500.11853/195537</td>\n",
       "      <td>Περδίκα, Νίκη Λ.</td>\n",
       "      <td>Σκύρος</td>\n",
       "      <td>38.873044</td>\n",
       "      <td>24.524477</td>\n",
       "      <td>5</td>\n",
       "    </tr>\n",
       "    <tr>\n",
       "      <th>11499</th>\n",
       "      <td>101191</td>\n",
       "      <td>Θα σε κάνου να κατουρζήσεις αίμα</td>\n",
       "      <td>Σκύρος</td>\n",
       "      <td>http://hdl.handle.net/20.500.11853/195047</td>\n",
       "      <td>Περδίκα, Νίκη Λ.</td>\n",
       "      <td>Σκύρος</td>\n",
       "      <td>38.873044</td>\n",
       "      <td>24.524477</td>\n",
       "      <td>6</td>\n",
       "    </tr>\n",
       "  </tbody>\n",
       "</table>\n",
       "<p>11478 rows × 9 columns</p>\n",
       "</div>"
      ],
      "text/plain": [
       "       Unnamed: 0                                               text  \\\n",
       "0          105697                               Γέλια σαν κομπολόγια   \n",
       "1            8413                        Καρδίαν καθαράν θέλ' ο Θεός   \n",
       "2            7684                             Ου Θεός κι ου γείτονας   \n",
       "3           18546            Θέλει να κρυφθή πίσω από το δάχτυλό του   \n",
       "4           94001      Όλοι κλαίν' τα χάλια τ'ς κι ο μυλωνάς τη δέσι   \n",
       "...           ...                                                ...   \n",
       "11495      101735                          Παστρζικό τσανα τσ' έναι!   \n",
       "11496      101233        Κάλλιο γεναίκα κάμισσα, πέρζι πολυπροικούσα   \n",
       "11497      101612  Όγοιος κάθεται στη στερζά τσαί θάλασσα γερεύει...   \n",
       "11498      101762                          Πήε στ' δαιμόνου τ' μάννα   \n",
       "11499      101191                   Θα σε κάνου να κατουρζήσεις αίμα   \n",
       "\n",
       "                        place                                        uri  \\\n",
       "0      Ήπειρος, Ζαγόρι, Βίτσα  http://hdl.handle.net/20.500.11853/168435   \n",
       "1                     Ήπειρος  http://hdl.handle.net/20.500.11853/167032   \n",
       "2                     Ήπειρος  http://hdl.handle.net/20.500.11853/168991   \n",
       "3                     Ήπειρος  http://hdl.handle.net/20.500.11853/273352   \n",
       "4                     Ήπειρος  http://hdl.handle.net/20.500.11853/204755   \n",
       "...                       ...                                        ...   \n",
       "11495                  Σκύρος  http://hdl.handle.net/20.500.11853/247609   \n",
       "11496                  Σκύρος  http://hdl.handle.net/20.500.11853/195541   \n",
       "11497                  Σκύρος  http://hdl.handle.net/20.500.11853/195683   \n",
       "11498                  Σκύρος  http://hdl.handle.net/20.500.11853/195537   \n",
       "11499                  Σκύρος  http://hdl.handle.net/20.500.11853/195047   \n",
       "\n",
       "                     collector     area        lat        lon  num_words  \n",
       "0         Σάρρος, Δημήτριος Μ.  Ήπειρος  37.998253  23.737867          3  \n",
       "1                   Γόνιος, Α.  Ήπειρος  37.998253  23.737867          5  \n",
       "2      Γαλδέμης, Αναστάσιος Δ.  Ήπειρος  37.998253  23.737867          5  \n",
       "3         Ζηκίδης, Γεώργιος Δ.  Ήπειρος  37.998253  23.737867          8  \n",
       "4        Παπαγεωργίου, Ιωάννης  Ήπειρος  37.998253  23.737867         10  \n",
       "...                        ...      ...        ...        ...        ...  \n",
       "11495         Περδίκα, Νίκη Λ.   Σκύρος  38.873044  24.524477          4  \n",
       "11496         Περδίκα, Νίκη Λ.   Σκύρος  38.873044  24.524477          5  \n",
       "11497         Περδίκα, Νίκη Λ.   Σκύρος  38.873044  24.524477         15  \n",
       "11498         Περδίκα, Νίκη Λ.   Σκύρος  38.873044  24.524477          5  \n",
       "11499         Περδίκα, Νίκη Λ.   Σκύρος  38.873044  24.524477          6  \n",
       "\n",
       "[11478 rows x 9 columns]"
      ]
     },
     "execution_count": 6,
     "metadata": {},
     "output_type": "execute_result"
    }
   ],
   "source": [
    "proverbs = proverbs[proverbs['num_words'] > 1]\n",
    "proverbs"
   ]
  },
  {
   "cell_type": "code",
   "execution_count": 7,
   "metadata": {
    "id": "PZ3JkkB0L-2_"
   },
   "outputs": [],
   "source": [
    "from sklearn.feature_extraction.text import TfidfVectorizer\n",
    "vect = TfidfVectorizer(ngram_range=(2, 5),\n",
    "                       analyzer=\"char\",\n",
    "                       max_df=0.5,\n",
    "                       min_df=2, lowercase=True)\n",
    "X = vect.fit_transform(proverbs.text.values)"
   ]
  },
  {
   "cell_type": "markdown",
   "metadata": {
    "id": "EgBTMYKHGiUP"
   },
   "source": [
    "### Clustering for different number of clusters"
   ]
  },
  {
   "cell_type": "code",
   "execution_count": 8,
   "metadata": {
    "id": "PxmxJ6KG8nEx"
   },
   "outputs": [],
   "source": [
    "# adjusted from https://scikit-learn.org/stable/auto_examples/text/plot_document_clustering.html#quantifying-the-quality-of-clustering-results\n",
    "\n",
    "from collections import defaultdict\n",
    "from time import time\n",
    "\n",
    "from sklearn import metrics\n",
    "\n",
    "evaluations = []\n",
    "evaluations_std = []\n",
    "\n",
    "def fit_and_evaluate(km, X, labels, name=None, n_runs=5):\n",
    "    name = km.__class__.__name__ if name is None else name\n",
    "\n",
    "    train_times = []\n",
    "    scores = defaultdict(list)\n",
    "    for seed in range(n_runs):\n",
    "        km.set_params(random_state=seed)\n",
    "        t0 = time()\n",
    "        km.fit(X)\n",
    "        train_times.append(time() - t0)\n",
    "        scores[\"Inertia\"].append(km.inertia_)\n",
    "        scores[\"Homogeneity\"].append(metrics.homogeneity_score(labels,\n",
    "                                                               km.labels_))\n",
    "        scores[\"Completeness\"].append(metrics.completeness_score(labels,\n",
    "                                                                 km.labels_))\n",
    "        scores[\"V-measure\"].append(metrics.v_measure_score(labels, km.labels_))\n",
    "        scores[\"Adjusted Rand-Index\"].append(\n",
    "            metrics.adjusted_rand_score(labels, km.labels_)\n",
    "        )\n",
    "        scores[\"Silhouette Coefficient\"].append(\n",
    "            metrics.silhouette_score(X, km.labels_, sample_size=2000)\n",
    "        )\n",
    "    train_times = np.asarray(train_times)\n",
    "\n",
    "    print(f\"clustering done in {train_times.mean():.2f} ± {train_times.std():.2f} s \")\n",
    "    evaluation = {\n",
    "        \"estimator\": name,\n",
    "        \"train_time\": train_times.mean(),\n",
    "    }\n",
    "    evaluation_std = {\n",
    "        \"estimator\": name,\n",
    "        \"train_time\": train_times.std(),\n",
    "    }\n",
    "    for score_name, score_values in scores.items():\n",
    "        mean_score, std_score = np.mean(score_values), np.std(score_values)\n",
    "        print(f\"{score_name}: {mean_score:.3f} ± {std_score:.3f}\")\n",
    "        evaluation[score_name] = mean_score\n",
    "        evaluation_std[score_name] = std_score\n",
    "    evaluations.append(evaluation)\n",
    "    evaluations_std.append(evaluation_std)"
   ]
  },
  {
   "cell_type": "code",
   "execution_count": null,
   "metadata": {
    "colab": {
     "base_uri": "https://localhost:8080/",
     "height": 49,
     "referenced_widgets": [
      "8ec5e227d3b548d3ab120b9bf9b2f418",
      "0c7e9685a1904198bf0a81fdfe493e76",
      "917f16cf2b76425a94a046425a74f362",
      "084181ccec8e45e499186530336ad93a",
      "39f52638a0c1402b883b11fdab1205e0",
      "be6da2dccfb242b0a5fd448084b9fef8",
      "8527a4474eb54c34984fb77112e88523",
      "d6a4aa960234486abf1b5285d71a6664",
      "8fbb3cac31294a70b1175f4cf2b51a99",
      "27528e2716ca4cfd8c09e4d0c6df27ae",
      "77eb90a702144ec8bc5080abe40a8e1a"
     ]
    },
    "id": "oVuqcXJFBv3s",
    "outputId": "8ce00cb5-db18-43ba-cf79-41fd47aff484"
   },
   "outputs": [
    {
     "name": "stdout",
     "output_type": "stream",
     "text": [
      "10 clusters\n",
      "clustering done in 0.77 ± 0.13 s \n",
      "Inertia: 11165.441 ± 3.259\n",
      "Homogeneity: 0.020 ± 0.001\n",
      "Completeness: 0.031 ± 0.002\n",
      "V-measure: 0.024 ± 0.002\n",
      "Adjusted Rand-Index: 0.004 ± 0.001\n",
      "Silhouette Coefficient: 0.003 ± 0.000\n",
      "\n",
      "11 clusters\n",
      "clustering done in 0.90 ± 0.12 s \n",
      "Inertia: 11153.107 ± 4.199\n",
      "Homogeneity: 0.020 ± 0.001\n",
      "Completeness: 0.031 ± 0.002\n",
      "V-measure: 0.024 ± 0.002\n",
      "Adjusted Rand-Index: 0.004 ± 0.001\n",
      "Silhouette Coefficient: 0.003 ± 0.000\n",
      "\n",
      "12 clusters\n",
      "clustering done in 1.47 ± 0.68 s \n",
      "Inertia: 11142.158 ± 4.006\n",
      "Homogeneity: 0.021 ± 0.001\n",
      "Completeness: 0.030 ± 0.002\n",
      "V-measure: 0.025 ± 0.002\n",
      "Adjusted Rand-Index: 0.004 ± 0.001\n",
      "Silhouette Coefficient: 0.003 ± 0.000\n",
      "\n",
      "13 clusters\n",
      "clustering done in 1.28 ± 0.31 s \n",
      "Inertia: 11130.013 ± 6.449\n",
      "Homogeneity: 0.023 ± 0.002\n",
      "Completeness: 0.033 ± 0.002\n",
      "V-measure: 0.027 ± 0.002\n",
      "Adjusted Rand-Index: 0.005 ± 0.000\n",
      "Silhouette Coefficient: 0.003 ± 0.000\n",
      "\n",
      "14 clusters\n",
      "clustering done in 1.08 ± 0.19 s \n",
      "Inertia: 11118.449 ± 5.578\n",
      "Homogeneity: 0.025 ± 0.002\n",
      "Completeness: 0.034 ± 0.002\n",
      "V-measure: 0.029 ± 0.002\n",
      "Adjusted Rand-Index: 0.006 ± 0.000\n",
      "Silhouette Coefficient: 0.003 ± 0.000\n",
      "\n",
      "15 clusters\n",
      "clustering done in 1.09 ± 0.24 s \n",
      "Inertia: 11106.958 ± 4.718\n",
      "Homogeneity: 0.025 ± 0.002\n",
      "Completeness: 0.034 ± 0.002\n",
      "V-measure: 0.029 ± 0.002\n",
      "Adjusted Rand-Index: 0.005 ± 0.001\n",
      "Silhouette Coefficient: 0.004 ± 0.000\n",
      "\n",
      "16 clusters\n",
      "clustering done in 1.26 ± 0.33 s \n",
      "Inertia: 11099.143 ± 4.425\n",
      "Homogeneity: 0.026 ± 0.002\n",
      "Completeness: 0.033 ± 0.003\n",
      "V-measure: 0.029 ± 0.003\n",
      "Adjusted Rand-Index: 0.005 ± 0.000\n",
      "Silhouette Coefficient: 0.004 ± 0.000\n",
      "\n",
      "17 clusters\n",
      "clustering done in 1.18 ± 0.31 s \n",
      "Inertia: 11086.403 ± 4.694\n",
      "Homogeneity: 0.027 ± 0.001\n",
      "Completeness: 0.034 ± 0.002\n",
      "V-measure: 0.030 ± 0.002\n",
      "Adjusted Rand-Index: 0.006 ± 0.001\n",
      "Silhouette Coefficient: 0.004 ± 0.001\n",
      "\n",
      "18 clusters\n",
      "clustering done in 1.38 ± 0.63 s \n",
      "Inertia: 11074.571 ± 2.895\n",
      "Homogeneity: 0.028 ± 0.002\n",
      "Completeness: 0.035 ± 0.002\n",
      "V-measure: 0.031 ± 0.002\n",
      "Adjusted Rand-Index: 0.006 ± 0.001\n",
      "Silhouette Coefficient: 0.004 ± 0.000\n",
      "\n",
      "19 clusters\n",
      "clustering done in 1.59 ± 0.85 s \n",
      "Inertia: 11066.619 ± 3.902\n",
      "Homogeneity: 0.028 ± 0.001\n",
      "Completeness: 0.034 ± 0.001\n",
      "V-measure: 0.031 ± 0.001\n",
      "Adjusted Rand-Index: 0.006 ± 0.001\n",
      "Silhouette Coefficient: 0.004 ± 0.000\n",
      "\n",
      "20 clusters\n",
      "clustering done in 1.33 ± 0.20 s \n",
      "Inertia: 11055.591 ± 2.750\n",
      "Homogeneity: 0.030 ± 0.002\n",
      "Completeness: 0.035 ± 0.002\n",
      "V-measure: 0.032 ± 0.002\n",
      "Adjusted Rand-Index: 0.007 ± 0.001\n",
      "Silhouette Coefficient: 0.005 ± 0.000\n",
      "\n",
      "21 clusters\n",
      "clustering done in 1.49 ± 0.29 s \n",
      "Inertia: 11050.786 ± 5.996\n",
      "Homogeneity: 0.030 ± 0.001\n",
      "Completeness: 0.035 ± 0.001\n",
      "V-measure: 0.033 ± 0.001\n",
      "Adjusted Rand-Index: 0.006 ± 0.001\n",
      "Silhouette Coefficient: 0.005 ± 0.000\n",
      "\n",
      "22 clusters\n",
      "clustering done in 1.68 ± 0.31 s \n",
      "Inertia: 11041.541 ± 4.231\n",
      "Homogeneity: 0.030 ± 0.001\n",
      "Completeness: 0.034 ± 0.000\n",
      "V-measure: 0.032 ± 0.000\n",
      "Adjusted Rand-Index: 0.006 ± 0.001\n",
      "Silhouette Coefficient: 0.005 ± 0.000\n",
      "\n",
      "23 clusters\n",
      "clustering done in 1.57 ± 0.35 s \n",
      "Inertia: 11034.933 ± 5.683\n",
      "Homogeneity: 0.030 ± 0.001\n",
      "Completeness: 0.035 ± 0.001\n",
      "V-measure: 0.032 ± 0.001\n",
      "Adjusted Rand-Index: 0.006 ± 0.001\n",
      "Silhouette Coefficient: 0.005 ± 0.000\n",
      "\n",
      "24 clusters\n",
      "clustering done in 1.58 ± 0.26 s \n",
      "Inertia: 11028.703 ± 3.506\n",
      "Homogeneity: 0.031 ± 0.001\n",
      "Completeness: 0.035 ± 0.001\n",
      "V-measure: 0.033 ± 0.001\n",
      "Adjusted Rand-Index: 0.006 ± 0.001\n",
      "Silhouette Coefficient: 0.005 ± 0.000\n",
      "\n",
      "25 clusters\n",
      "clustering done in 1.78 ± 0.40 s \n",
      "Inertia: 11019.029 ± 3.141\n",
      "Homogeneity: 0.032 ± 0.001\n",
      "Completeness: 0.035 ± 0.001\n",
      "V-measure: 0.033 ± 0.001\n",
      "Adjusted Rand-Index: 0.006 ± 0.001\n",
      "Silhouette Coefficient: 0.005 ± 0.000\n",
      "\n",
      "26 clusters\n",
      "clustering done in 1.88 ± 0.55 s \n",
      "Inertia: 11011.060 ± 2.769\n",
      "Homogeneity: 0.033 ± 0.001\n",
      "Completeness: 0.036 ± 0.001\n",
      "V-measure: 0.034 ± 0.001\n",
      "Adjusted Rand-Index: 0.006 ± 0.001\n",
      "Silhouette Coefficient: 0.005 ± 0.000\n",
      "\n",
      "27 clusters\n",
      "clustering done in 1.51 ± 0.23 s \n",
      "Inertia: 11002.319 ± 4.144\n",
      "Homogeneity: 0.033 ± 0.001\n",
      "Completeness: 0.036 ± 0.001\n",
      "V-measure: 0.034 ± 0.001\n",
      "Adjusted Rand-Index: 0.006 ± 0.001\n",
      "Silhouette Coefficient: 0.005 ± 0.000\n",
      "\n",
      "28 clusters\n",
      "clustering done in 1.67 ± 0.30 s \n",
      "Inertia: 10995.410 ± 4.347\n",
      "Homogeneity: 0.034 ± 0.001\n",
      "Completeness: 0.036 ± 0.001\n",
      "V-measure: 0.035 ± 0.001\n",
      "Adjusted Rand-Index: 0.006 ± 0.001\n",
      "Silhouette Coefficient: 0.005 ± 0.000\n",
      "\n",
      "29 clusters\n",
      "clustering done in 1.75 ± 0.33 s \n",
      "Inertia: 10985.981 ± 4.829\n",
      "Homogeneity: 0.034 ± 0.001\n",
      "Completeness: 0.036 ± 0.001\n",
      "V-measure: 0.035 ± 0.001\n",
      "Adjusted Rand-Index: 0.006 ± 0.000\n",
      "Silhouette Coefficient: 0.006 ± 0.000\n",
      "\n",
      "30 clusters\n",
      "clustering done in 1.71 ± 0.12 s \n",
      "Inertia: 10978.676 ± 5.405\n",
      "Homogeneity: 0.035 ± 0.001\n",
      "Completeness: 0.036 ± 0.001\n",
      "V-measure: 0.035 ± 0.001\n",
      "Adjusted Rand-Index: 0.006 ± 0.000\n",
      "Silhouette Coefficient: 0.006 ± 0.000\n",
      "\n"
     ]
    }
   ],
   "source": [
    "from sklearn.cluster import KMeans\n",
    "kappas = list(range(10, 30+1))\n",
    "models = {}\n",
    "for k in kappas:\n",
    "    print(f'{k} clusters')\n",
    "    fit_and_evaluate(KMeans(n_clusters=k, n_init='auto'),\n",
    "                     X,\n",
    "                     proverbs.area,\n",
    "                     name=f\"KMeans({k})\")\n",
    "    print()"
   ]
  },
  {
   "cell_type": "markdown",
   "metadata": {
    "id": "WezXhY1-HBuD"
   },
   "source": [
    "### Assessing the clusterings"
   ]
  },
  {
   "cell_type": "code",
   "execution_count": null,
   "metadata": {
    "id": "VkScJBA68nEz"
   },
   "outputs": [],
   "source": [
    "from kneed import KneeLocator\n",
    "\n",
    "squared_distances = [ evaluation['Inertia'] for evaluation in evaluations ]\n",
    "kl = KneeLocator(kappas, squared_distances, curve=\"convex\",\n",
    "                 direction=\"decreasing\")"
   ]
  },
  {
   "cell_type": "code",
   "execution_count": null,
   "metadata": {
    "id": "1WLM9oCO8nE0",
    "outputId": "8f67f8dd-c852-40ff-e059-432a5f8b0035"
   },
   "outputs": [
    {
     "data": {
      "image/png": "[encoded data removed]",
      "text/plain": [
       "<Figure size 640x480 with 1 Axes>"
      ]
     },
     "metadata": {},
     "output_type": "display_data"
    }
   ],
   "source": [
    "plt.plot(kappas, squared_distances, 'bx-')\n",
    "plt.vlines(kl.elbow, plt.ylim()[0], plt.ylim()[1], linestyles='dashed',\n",
    "           label='Elbow at k = %d' % kl.elbow)\n",
    "plt.xlabel('k')\n",
    "plt.ylabel('Sum of Squared Distances')\n",
    "plt.title('Elbow Method For Optimal k')\n",
    "plt.legend()\n",
    "plt.show()"
   ]
  },
  {
   "cell_type": "code",
   "execution_count": null,
   "metadata": {
    "id": "2estcs7Z8nE0",
    "outputId": "db6a52c1-3964-45a7-b9a5-3cd04dad53ba"
   },
   "outputs": [
    {
     "data": {
      "image/png": "[encoded data removed]",
      "text/plain": [
       "<Figure size 640x480 with 1 Axes>"
      ]
     },
     "metadata": {},
     "output_type": "display_data"
    }
   ],
   "source": [
    "silhouette_scores = [ evaluation['Silhouette Coefficient']\n",
    "                     for evaluation in evaluations ]\n",
    "\n",
    "plt.plot(kappas, silhouette_scores, 'bx-')\n",
    "plt.xlabel('k')\n",
    "plt.ylabel('Silhouette Coefficient')\n",
    "plt.title('Silhouette Method For Optimal k')\n",
    "plt.show()"
   ]
  },
  {
   "cell_type": "code",
   "execution_count": null,
   "metadata": {
    "id": "qf0GwgeL8nE0",
    "outputId": "61d77353-e1a2-447e-9620-9966b1cbea07"
   },
   "outputs": [
    {
     "data": {
      "image/png": "[encoded data removed]",
      "text/plain": [
       "<Figure size 640x480 with 1 Axes>"
      ]
     },
     "metadata": {},
     "output_type": "display_data"
    }
   ],
   "source": [
    "homogeneity = [\n",
    "               evaluation['Homogeneity']\n",
    "               for evaluation in evaluations\n",
    "]\n",
    "\n",
    "homogeneity_std = [\n",
    "                   evaluation['Homogeneity']\n",
    "                   for evaluation in evaluations_std\n",
    "]\n",
    "\n",
    "completeness = [\n",
    "                evaluation['Completeness']\n",
    "                for evaluation in evaluations\n",
    "]\n",
    "\n",
    "completeness_std = [\n",
    "                    evaluation['Completeness']\n",
    "                    for evaluation in evaluations_std\n",
    "]\n",
    "\n",
    "v_measure = [\n",
    "              evaluation['V-measure']\n",
    "              for evaluation in evaluations\n",
    "]\n",
    "\n",
    "v_measure_std = [\n",
    "                 evaluation['V-measure']\n",
    "                 for evaluation in evaluations_std\n",
    "]\n",
    "\n",
    "ari = [\n",
    "    evaluation['Adjusted Rand-Index']\n",
    "    for evaluation in evaluations\n",
    "]\n",
    "\n",
    "ari_std = [\n",
    "    evaluation['Adjusted Rand-Index']\n",
    "    for evaluation in evaluations_std\n",
    "]\n",
    "\n",
    "plt.errorbar(kappas, homogeneity, yerr=homogeneity_std, fmt='-o',\n",
    "             label='Homogeneity')\n",
    "plt.errorbar(kappas, completeness, yerr=completeness_std, fmt='-o',\n",
    "             label='Completeness')\n",
    "plt.errorbar(kappas, v_measure, yerr=v_measure_std, fmt='-o',\n",
    "             label='V-Measure')\n",
    "plt.errorbar(kappas, ari, yerr=ari_std, fmt='-o',\n",
    "             label='ARI')\n",
    "plt.xlabel('k')\n",
    "plt.ylabel('Metric Value')\n",
    "plt.title('Values for k')\n",
    "plt.legend()\n",
    "plt.show()\n"
   ]
  },
  {
   "cell_type": "markdown",
   "metadata": {
    "id": "yzBDG1Pc-hRA"
   },
   "source": [
    "# Assessing the 20Means Clustering"
   ]
  },
  {
   "cell_type": "code",
   "execution_count": 6,
   "metadata": {
    "colab": {
     "base_uri": "https://localhost:8080/",
     "height": 75
    },
    "id": "nrcfbjem9EOX",
    "outputId": "4d676bdd-83a1-4fcb-98d8-ca632a024c3b"
   },
   "outputs": [
    {
     "data": {
      "text/html": [
       "<style>#sk-container-id-1 {color: black;background-color: white;}#sk-container-id-1 pre{padding: 0;}#sk-container-id-1 div.sk-toggleable {background-color: white;}#sk-container-id-1 label.sk-toggleable__label {cursor: pointer;display: block;width: 100%;margin-bottom: 0;padding: 0.3em;box-sizing: border-box;text-align: center;}#sk-container-id-1 label.sk-toggleable__label-arrow:before {content: \"▸\";float: left;margin-right: 0.25em;color: #696969;}#sk-container-id-1 label.sk-toggleable__label-arrow:hover:before {color: black;}#sk-container-id-1 div.sk-estimator:hover label.sk-toggleable__label-arrow:before {color: black;}#sk-container-id-1 div.sk-toggleable__content {max-height: 0;max-width: 0;overflow: hidden;text-align: left;background-color: #f0f8ff;}#sk-container-id-1 div.sk-toggleable__content pre {margin: 0.2em;color: black;border-radius: 0.25em;background-color: #f0f8ff;}#sk-container-id-1 input.sk-toggleable__control:checked~div.sk-toggleable__content {max-height: 200px;max-width: 100%;overflow: auto;}#sk-container-id-1 input.sk-toggleable__control:checked~label.sk-toggleable__label-arrow:before {content: \"▾\";}#sk-container-id-1 div.sk-estimator input.sk-toggleable__control:checked~label.sk-toggleable__label {background-color: #d4ebff;}#sk-container-id-1 div.sk-label input.sk-toggleable__control:checked~label.sk-toggleable__label {background-color: #d4ebff;}#sk-container-id-1 input.sk-hidden--visually {border: 0;clip: rect(1px 1px 1px 1px);clip: rect(1px, 1px, 1px, 1px);height: 1px;margin: -1px;overflow: hidden;padding: 0;position: absolute;width: 1px;}#sk-container-id-1 div.sk-estimator {font-family: monospace;background-color: #f0f8ff;border: 1px dotted black;border-radius: 0.25em;box-sizing: border-box;margin-bottom: 0.5em;}#sk-container-id-1 div.sk-estimator:hover {background-color: #d4ebff;}#sk-container-id-1 div.sk-parallel-item::after {content: \"\";width: 100%;border-bottom: 1px solid gray;flex-grow: 1;}#sk-container-id-1 div.sk-label:hover label.sk-toggleable__label {background-color: #d4ebff;}#sk-container-id-1 div.sk-serial::before {content: \"\";position: absolute;border-left: 1px solid gray;box-sizing: border-box;top: 0;bottom: 0;left: 50%;z-index: 0;}#sk-container-id-1 div.sk-serial {display: flex;flex-direction: column;align-items: center;background-color: white;padding-right: 0.2em;padding-left: 0.2em;position: relative;}#sk-container-id-1 div.sk-item {position: relative;z-index: 1;}#sk-container-id-1 div.sk-parallel {display: flex;align-items: stretch;justify-content: center;background-color: white;position: relative;}#sk-container-id-1 div.sk-item::before, #sk-container-id-1 div.sk-parallel-item::before {content: \"\";position: absolute;border-left: 1px solid gray;box-sizing: border-box;top: 0;bottom: 0;left: 50%;z-index: -1;}#sk-container-id-1 div.sk-parallel-item {display: flex;flex-direction: column;z-index: 1;position: relative;background-color: white;}#sk-container-id-1 div.sk-parallel-item:first-child::after {align-self: flex-end;width: 50%;}#sk-container-id-1 div.sk-parallel-item:last-child::after {align-self: flex-start;width: 50%;}#sk-container-id-1 div.sk-parallel-item:only-child::after {width: 0;}#sk-container-id-1 div.sk-dashed-wrapped {border: 1px dashed gray;margin: 0 0.4em 0.5em 0.4em;box-sizing: border-box;padding-bottom: 0.4em;background-color: white;}#sk-container-id-1 div.sk-label label {font-family: monospace;font-weight: bold;display: inline-block;line-height: 1.2em;}#sk-container-id-1 div.sk-label-container {text-align: center;}#sk-container-id-1 div.sk-container {/* jupyter's `normalize.less` sets `[hidden] { display: none; }` but bootstrap.min.css set `[hidden] { display: none !important; }` so we also need the `!important` here to be able to override the default hidden behavior on the sphinx rendered scikit-learn.org. See: https://github.com/scikit-learn/scikit-learn/issues/21755 */display: inline-block !important;position: relative;}#sk-container-id-1 div.sk-text-repr-fallback {display: none;}</style><div id=\"sk-container-id-1\" class=\"sk-top-container\"><div class=\"sk-text-repr-fallback\"><pre>KMeans(n_clusters=20, n_init=&#x27;auto&#x27;)</pre><b>In a Jupyter environment, please rerun this cell to show the HTML representation or trust the notebook. <br />On GitHub, the HTML representation is unable to render, please try loading this page with nbviewer.org.</b></div><div class=\"sk-container\" hidden><div class=\"sk-item\"><div class=\"sk-estimator sk-toggleable\"><input class=\"sk-toggleable__control sk-hidden--visually\" id=\"sk-estimator-id-1\" type=\"checkbox\" checked><label for=\"sk-estimator-id-1\" class=\"sk-toggleable__label sk-toggleable__label-arrow\">KMeans</label><div class=\"sk-toggleable__content\"><pre>KMeans(n_clusters=20, n_init=&#x27;auto&#x27;)</pre></div></div></div></div></div>"
      ],
      "text/plain": [
       "KMeans(n_clusters=20, n_init='auto')"
      ]
     },
     "execution_count": 6,
     "metadata": {},
     "output_type": "execute_result"
    }
   ],
   "source": [
    "from sklearn.cluster import KMeans\n",
    "kmeans = KMeans(n_clusters=20, n_init='auto')\n",
    "kmeans.fit(X)"
   ]
  },
  {
   "cell_type": "code",
   "execution_count": 9,
   "metadata": {
    "id": "YGJZ84hW-qIp"
   },
   "outputs": [],
   "source": [
    "# saving the cluster assignments\n",
    "proverbs['clustering'] = kmeans.labels_"
   ]
  },
  {
   "cell_type": "markdown",
   "metadata": {
    "id": "DwiADNxwDmyj"
   },
   "source": [
    "The cluster 18 seems to work as a super cluster"
   ]
  },
  {
   "cell_type": "code",
   "execution_count": 12,
   "metadata": {
    "colab": {
     "base_uri": "https://localhost:8080/"
    },
    "id": "IeoTmAxD_sA0",
    "outputId": "0e9f98cf-7424-483b-d547-fdca23319b67"
   },
   "outputs": [
    {
     "data": {
      "text/plain": [
       "18    154\n",
       "11     41\n",
       "14     32\n",
       "Name: clustering, dtype: int64"
      ]
     },
     "execution_count": 12,
     "metadata": {},
     "output_type": "execute_result"
    }
   ],
   "source": [
    "proverbs[proverbs.area=='Ήπειρος'].clustering.value_counts()[:3]"
   ]
  },
  {
   "cell_type": "code",
   "execution_count": 24,
   "metadata": {
    "colab": {
     "base_uri": "https://localhost:8080/"
    },
    "id": "C_Z6plc6_yMC",
    "outputId": "a16e28ad-9e56-4117-b522-43547642a068"
   },
   "outputs": [
    {
     "data": {
      "text/plain": [
       "18    110\n",
       "19     68\n",
       "14     31\n",
       "Name: clustering, dtype: int64"
      ]
     },
     "execution_count": 24,
     "metadata": {},
     "output_type": "execute_result"
    }
   ],
   "source": [
    "proverbs[proverbs.area=='Κρήτη'].clustering.value_counts()[:3]"
   ]
  },
  {
   "cell_type": "code",
   "execution_count": 21,
   "metadata": {
    "colab": {
     "base_uri": "https://localhost:8080/"
    },
    "id": "WV1VIUp2C7K9",
    "outputId": "f5cefb1d-fb5a-471e-a5a5-e9d98ace5e22"
   },
   "outputs": [
    {
     "data": {
      "text/plain": [
       "18    221\n",
       "14     46\n",
       "19     43\n",
       "Name: clustering, dtype: int64"
      ]
     },
     "execution_count": 21,
     "metadata": {},
     "output_type": "execute_result"
    }
   ],
   "source": [
    "proverbs[proverbs.area=='Πόντος'].clustering.value_counts()[:3]"
   ]
  },
  {
   "cell_type": "markdown",
   "metadata": {
    "id": "PuSI4g4TDarx"
   },
   "source": [
    "# Affinity Propagation"
   ]
  },
  {
   "cell_type": "code",
   "execution_count": 69,
   "metadata": {},
   "outputs": [
    {
     "data": {
      "text/plain": [
       "0                                     Γέλια σαν κομπολόγια\n",
       "1                              Καρδίαν καθαράν θέλ' ο Θεός\n",
       "2                                   Ου Θεός κι ου γείτονας\n",
       "3                  Θέλει να κρυφθή πίσω από το δάχτυλό του\n",
       "4            Όλοι κλαίν' τα χάλια τ'ς κι ο μυλωνάς τη δέσι\n",
       "                               ...                        \n",
       "11495                            Παστρζικό τσανα τσ' έναι!\n",
       "11496          Κάλλιο γεναίκα κάμισσα, πέρζι πολυπροικούσα\n",
       "11497    Όγοιος κάθεται στη στερζά τσαί θάλασσα γερεύει...\n",
       "11498                            Πήε στ' δαιμόνου τ' μάννα\n",
       "11499                     Θα σε κάνου να κατουρζήσεις αίμα\n",
       "Name: text, Length: 11478, dtype: object"
      ]
     },
     "execution_count": 69,
     "metadata": {},
     "output_type": "execute_result"
    }
   ],
   "source": [
    "proverbs.text"
   ]
  },
  {
   "cell_type": "code",
   "execution_count": 92,
   "metadata": {},
   "outputs": [
    {
     "data": {
      "text/plain": [
       "array(['Ήπειρος', 'Αιτωλία', 'Αμοργός', 'Ανατολική Θράκη', 'Αρκαδία',\n",
       "       'Αχαΐα', 'Επτάνησος', 'Εύβοια', 'Θεσπρωτία', 'Θράκη', 'Ιωάννινα',\n",
       "       'Κάρπαθος', 'Κεφαλληνία', 'Κρήτη', 'Κύπρος', 'Λέσβος', 'Λακωνία',\n",
       "       'Μακεδονία', 'Μικρά Ασία', 'Νάξος', 'Πόντος', 'Ρόδος', 'Σκύρος'],\n",
       "      dtype=object)"
      ]
     },
     "execution_count": 92,
     "metadata": {},
     "output_type": "execute_result"
    }
   ],
   "source": [
    "proverbs.area.unique()"
   ]
  },
  {
   "cell_type": "code",
   "execution_count": 70,
   "metadata": {},
   "outputs": [],
   "source": [
    "import Levenshtein"
   ]
  },
  {
   "cell_type": "code",
   "execution_count": 71,
   "metadata": {},
   "outputs": [
    {
     "data": {
      "text/plain": [
       "array([[  0., -21., -20., ..., -80., -21., -25.],\n",
       "       [-21.,   0., -22., ..., -77., -22., -26.],\n",
       "       [-20., -22.,   0., ..., -79., -19., -24.],\n",
       "       ...,\n",
       "       [-80., -77., -79., ...,   0., -75., -74.],\n",
       "       [-21., -22., -19., ..., -75.,   0., -25.],\n",
       "       [-25., -26., -24., ..., -74., -25.,   0.]])"
      ]
     },
     "execution_count": 71,
     "metadata": {},
     "output_type": "execute_result"
    }
   ],
   "source": [
    "n_proverbs = len(proverbs)\n",
    "affinity_matrix = np.zeros((n_proverbs, n_proverbs))\n",
    "for i, proverb_i in enumerate(proverbs['text']):\n",
    "    for j, proverb_j in enumerate(proverbs['text'][i:]):\n",
    "        affinity = -Levenshtein.distance(proverb_i, proverb_j)\n",
    "        affinity_matrix[i, j+i] = affinity\n",
    "        affinity_matrix[j+i, i] = affinity\n",
    "\n",
    "affinity_matrix\n"
   ]
  },
  {
   "cell_type": "code",
   "execution_count": 15,
   "metadata": {},
   "outputs": [],
   "source": [
    "from sklearn.cluster import AffinityPropagation"
   ]
  },
  {
   "cell_type": "code",
   "execution_count": 73,
   "metadata": {},
   "outputs": [
    {
     "name": "stdout",
     "output_type": "stream",
     "text": [
      "Did not converge\n"
     ]
    },
    {
     "data": {
      "text/html": [
       "<style>#sk-container-id-8 {color: black;}#sk-container-id-8 pre{padding: 0;}#sk-container-id-8 div.sk-toggleable {background-color: white;}#sk-container-id-8 label.sk-toggleable__label {cursor: pointer;display: block;width: 100%;margin-bottom: 0;padding: 0.3em;box-sizing: border-box;text-align: center;}#sk-container-id-8 label.sk-toggleable__label-arrow:before {content: \"▸\";float: left;margin-right: 0.25em;color: #696969;}#sk-container-id-8 label.sk-toggleable__label-arrow:hover:before {color: black;}#sk-container-id-8 div.sk-estimator:hover label.sk-toggleable__label-arrow:before {color: black;}#sk-container-id-8 div.sk-toggleable__content {max-height: 0;max-width: 0;overflow: hidden;text-align: left;background-color: #f0f8ff;}#sk-container-id-8 div.sk-toggleable__content pre {margin: 0.2em;color: black;border-radius: 0.25em;background-color: #f0f8ff;}#sk-container-id-8 input.sk-toggleable__control:checked~div.sk-toggleable__content {max-height: 200px;max-width: 100%;overflow: auto;}#sk-container-id-8 input.sk-toggleable__control:checked~label.sk-toggleable__label-arrow:before {content: \"▾\";}#sk-container-id-8 div.sk-estimator input.sk-toggleable__control:checked~label.sk-toggleable__label {background-color: #d4ebff;}#sk-container-id-8 div.sk-label input.sk-toggleable__control:checked~label.sk-toggleable__label {background-color: #d4ebff;}#sk-container-id-8 input.sk-hidden--visually {border: 0;clip: rect(1px 1px 1px 1px);clip: rect(1px, 1px, 1px, 1px);height: 1px;margin: -1px;overflow: hidden;padding: 0;position: absolute;width: 1px;}#sk-container-id-8 div.sk-estimator {font-family: monospace;background-color: #f0f8ff;border: 1px dotted black;border-radius: 0.25em;box-sizing: border-box;margin-bottom: 0.5em;}#sk-container-id-8 div.sk-estimator:hover {background-color: #d4ebff;}#sk-container-id-8 div.sk-parallel-item::after {content: \"\";width: 100%;border-bottom: 1px solid gray;flex-grow: 1;}#sk-container-id-8 div.sk-label:hover label.sk-toggleable__label {background-color: #d4ebff;}#sk-container-id-8 div.sk-serial::before {content: \"\";position: absolute;border-left: 1px solid gray;box-sizing: border-box;top: 0;bottom: 0;left: 50%;z-index: 0;}#sk-container-id-8 div.sk-serial {display: flex;flex-direction: column;align-items: center;background-color: white;padding-right: 0.2em;padding-left: 0.2em;position: relative;}#sk-container-id-8 div.sk-item {position: relative;z-index: 1;}#sk-container-id-8 div.sk-parallel {display: flex;align-items: stretch;justify-content: center;background-color: white;position: relative;}#sk-container-id-8 div.sk-item::before, #sk-container-id-8 div.sk-parallel-item::before {content: \"\";position: absolute;border-left: 1px solid gray;box-sizing: border-box;top: 0;bottom: 0;left: 50%;z-index: -1;}#sk-container-id-8 div.sk-parallel-item {display: flex;flex-direction: column;z-index: 1;position: relative;background-color: white;}#sk-container-id-8 div.sk-parallel-item:first-child::after {align-self: flex-end;width: 50%;}#sk-container-id-8 div.sk-parallel-item:last-child::after {align-self: flex-start;width: 50%;}#sk-container-id-8 div.sk-parallel-item:only-child::after {width: 0;}#sk-container-id-8 div.sk-dashed-wrapped {border: 1px dashed gray;margin: 0 0.4em 0.5em 0.4em;box-sizing: border-box;padding-bottom: 0.4em;background-color: white;}#sk-container-id-8 div.sk-label label {font-family: monospace;font-weight: bold;display: inline-block;line-height: 1.2em;}#sk-container-id-8 div.sk-label-container {text-align: center;}#sk-container-id-8 div.sk-container {/* jupyter's `normalize.less` sets `[hidden] { display: none; }` but bootstrap.min.css set `[hidden] { display: none !important; }` so we also need the `!important` here to be able to override the default hidden behavior on the sphinx rendered scikit-learn.org. See: https://github.com/scikit-learn/scikit-learn/issues/21755 */display: inline-block !important;position: relative;}#sk-container-id-8 div.sk-text-repr-fallback {display: none;}</style><div id=\"sk-container-id-8\" class=\"sk-top-container\"><div class=\"sk-text-repr-fallback\"><pre>AffinityPropagation(affinity=&#x27;precomputed&#x27;, max_iter=500, verbose=True)</pre><b>In a Jupyter environment, please rerun this cell to show the HTML representation or trust the notebook. <br />On GitHub, the HTML representation is unable to render, please try loading this page with nbviewer.org.</b></div><div class=\"sk-container\" hidden><div class=\"sk-item\"><div class=\"sk-estimator sk-toggleable\"><input class=\"sk-toggleable__control sk-hidden--visually\" id=\"sk-estimator-id-8\" type=\"checkbox\" checked><label for=\"sk-estimator-id-8\" class=\"sk-toggleable__label sk-toggleable__label-arrow\">AffinityPropagation</label><div class=\"sk-toggleable__content\"><pre>AffinityPropagation(affinity=&#x27;precomputed&#x27;, max_iter=500, verbose=True)</pre></div></div></div></div></div>"
      ],
      "text/plain": [
       "AffinityPropagation(affinity='precomputed', max_iter=500, verbose=True)"
      ]
     },
     "execution_count": 73,
     "metadata": {},
     "output_type": "execute_result"
    }
   ],
   "source": [
    "af = AffinityPropagation(affinity='precomputed', \n",
    "                         max_iter=500,    \n",
    "                         verbose=True)\n",
    "af.fit(affinity_matrix) "
   ]
  },
  {
   "cell_type": "code",
   "execution_count": 93,
   "metadata": {},
   "outputs": [
    {
     "data": {
      "text/plain": [
       "(11478, 10605)"
      ]
     },
     "execution_count": 93,
     "metadata": {},
     "output_type": "execute_result"
    }
   ],
   "source": [
    "vect = TfidfVectorizer(ngram_range=(1, 3),\n",
    "                       analyzer=\"char\",\n",
    "                       max_df=0.5,\n",
    "                       min_df=2, \n",
    "                       norm=None,\n",
    "                       lowercase=True)\n",
    "X = vect.fit_transform(proverbs.text.values)\n",
    "X.shape"
   ]
  },
  {
   "cell_type": "code",
   "execution_count": 94,
   "metadata": {},
   "outputs": [
    {
     "data": {
      "text/plain": [
       "array([[ -642.63180636,   -52.27724967,    -5.99811816, ...,\n",
       "          -87.84352558,    -4.4067342 ,   -16.57748038],\n",
       "       [  -52.27724967, -1106.9669376 ,  -170.41497388, ...,\n",
       "         -115.19509052,   -27.42434642,   -55.64059213],\n",
       "       [   -5.99811816,  -170.41497388,  -647.50250212, ...,\n",
       "         -272.38556825,   -33.07317414,   -54.01470713],\n",
       "       ...,\n",
       "       [  -87.84352558,  -115.19509052,  -272.38556825, ...,\n",
       "        -4139.84651389,  -332.11309969,  -265.92238059],\n",
       "       [   -4.4067342 ,   -27.42434642,   -33.07317414, ...,\n",
       "         -332.11309969, -1024.34244851,   -72.45588288],\n",
       "       [  -16.57748038,   -55.64059213,   -54.01470713, ...,\n",
       "         -265.92238059,   -72.45588288, -1086.01199127]])"
      ]
     },
     "execution_count": 94,
     "metadata": {},
     "output_type": "execute_result"
    }
   ],
   "source": [
    "from sklearn.metrics.pairwise import cosine_similarity, cosine_distances, linear_kernel\n",
    "\n",
    "similarity = linear_kernel(X)\n",
    "\n",
    "affinity_matrix = -similarity\n",
    "affinity_matrix"
   ]
  },
  {
   "cell_type": "code",
   "execution_count": 84,
   "metadata": {},
   "outputs": [
    {
     "data": {
      "text/plain": [
       "array([[-1.        , -0.02713487, -0.        , ..., -0.01250951,\n",
       "        -0.00161161, -0.00575512],\n",
       "       [-0.02713487, -1.        , -0.0848973 , ..., -0.00990445,\n",
       "        -0.00527754, -0.01055404],\n",
       "       [-0.        , -0.0848973 , -1.        , ..., -0.05674994,\n",
       "        -0.012666  , -0.01649822],\n",
       "       ...,\n",
       "       [-0.01250951, -0.00990445, -0.05674994, ..., -1.        ,\n",
       "        -0.07196575, -0.03621004],\n",
       "       [-0.00161161, -0.00527754, -0.012666  , ..., -0.07196575,\n",
       "        -1.        , -0.02956321],\n",
       "       [-0.00575512, -0.01055404, -0.01649822, ..., -0.03621004,\n",
       "        -0.02956321, -1.        ]])"
      ]
     },
     "execution_count": 84,
     "metadata": {},
     "output_type": "execute_result"
    }
   ],
   "source": [
    "similarity = cosine_similarity(X)\n",
    "\n",
    "affinity_matrix = -similarity\n",
    "affinity_matrix"
   ]
  },
  {
   "cell_type": "code",
   "execution_count": 102,
   "metadata": {},
   "outputs": [
    {
     "name": "stdout",
     "output_type": "stream",
     "text": [
      "Converged after 27 iterations.\n"
     ]
    }
   ],
   "source": [
    "af = AffinityPropagation(affinity='precomputed',\n",
    "                         max_iter=500,    \n",
    "                         verbose=True)\n",
    "labels = af.fit_predict(affinity_matrix)"
   ]
  },
  {
   "cell_type": "code",
   "execution_count": 103,
   "metadata": {},
   "outputs": [
    {
     "data": {
      "text/plain": [
       "20"
      ]
     },
     "execution_count": 103,
     "metadata": {},
     "output_type": "execute_result"
    }
   ],
   "source": [
    "cluster_centers_indices = af.cluster_centers_indices_\n",
    "len(cluster_centers_indices)"
   ]
  },
  {
   "cell_type": "code",
   "execution_count": 104,
   "metadata": {},
   "outputs": [
    {
     "data": {
      "text/plain": [
       "array([  388,   567,   989,  1770,  2291,  2593,  3008,  3240,  4072,\n",
       "        4794,  6629,  7576,  7577,  8556,  8800,  8850,  9142, 10305,\n",
       "       10602, 11059])"
      ]
     },
     "execution_count": 104,
     "metadata": {},
     "output_type": "execute_result"
    }
   ],
   "source": [
    "cluster_centers_indices"
   ]
  },
  {
   "cell_type": "code",
   "execution_count": 105,
   "metadata": {},
   "outputs": [],
   "source": [
    "cluster_centers = proverbs['text'][cluster_centers_indices]"
   ]
  },
  {
   "cell_type": "code",
   "execution_count": 106,
   "metadata": {},
   "outputs": [
    {
     "data": {
      "text/plain": [
       "388                                            Πήρι δρόμον\n",
       "567                                           Αυτός κάθετι\n",
       "989                             Ξυέτι κει π΄ δε τουν τρώει\n",
       "1770           Όσο πίν' η Μαργιωρίτσα, τόσο διπλοχαιρετάει\n",
       "2291                           Αυτό είναι αγιοβασιλειάτικο\n",
       "2593       Όμορφο παιδί στην κούνια άσκημο παιδί στη ρούγα\n",
       "3008                Θέλει ο βασιλιάς και τον ορίζουν άλλοι\n",
       "3240               Τα μοσκάτα η αλουπού θαν τα κατοφεγγίση\n",
       "4072               Τα χρήματα και τα κρίματα δεν κρύβονται\n",
       "4794                                 Ο λύκος ζητεί αντάραν\n",
       "6629        Οντέ δειπνάς και δε με δης, καθάρια λίγωσή 'νε\n",
       "7576     Σαρανταπέντε Γιάννηδες ενός κοκκόρου γνώσ' κι ...\n",
       "7577        Σα διψά γι' αυλή σ', να μη χύν'ς του νιρό έξου\n",
       "8556               Δούλεψ' το καλοκαίρι, να χ΄ς το χειμώνα\n",
       "8800     Όλο τον κόσμο ρώτα κ' από τον νου σου μη βγαίνεις\n",
       "8850                 Θκό τ' ψουμί, κι ξένου γκαϊλέ τραβάει\n",
       "9142                        Σκάβει μόνος του τον λάκκο του\n",
       "10305            Έκαψε με το μαλέζ, να ωμοίαζεν και φαγείν\n",
       "10602          Σαράντα πέντε Γιάννηδες ενός κοκκόρου γνώσι\n",
       "11059     Ο ουρανός εσύδετσε, έναι σ'δεμπένες, δροσισμένες\n",
       "Name: text, dtype: object"
      ]
     },
     "execution_count": 106,
     "metadata": {},
     "output_type": "execute_result"
    }
   ],
   "source": [
    "cluster_centers"
   ]
  },
  {
   "cell_type": "code",
   "execution_count": 107,
   "metadata": {},
   "outputs": [
    {
     "data": {
      "text/html": [
       "<div>\n",
       "<style scoped>\n",
       "    .dataframe tbody tr th:only-of-type {\n",
       "        vertical-align: middle;\n",
       "    }\n",
       "\n",
       "    .dataframe tbody tr th {\n",
       "        vertical-align: top;\n",
       "    }\n",
       "\n",
       "    .dataframe thead th {\n",
       "        text-align: right;\n",
       "    }\n",
       "</style>\n",
       "<table border=\"1\" class=\"dataframe\">\n",
       "  <thead>\n",
       "    <tr style=\"text-align: right;\">\n",
       "      <th></th>\n",
       "      <th>text</th>\n",
       "      <th>area</th>\n",
       "    </tr>\n",
       "  </thead>\n",
       "  <tbody>\n",
       "    <tr>\n",
       "      <th>388</th>\n",
       "      <td>Πήρι δρόμον</td>\n",
       "      <td>Ήπειρος</td>\n",
       "    </tr>\n",
       "    <tr>\n",
       "      <th>567</th>\n",
       "      <td>Αυτός κάθετι</td>\n",
       "      <td>Αιτωλία</td>\n",
       "    </tr>\n",
       "    <tr>\n",
       "      <th>989</th>\n",
       "      <td>Ξυέτι κει π΄ δε τουν τρώει</td>\n",
       "      <td>Αιτωλία</td>\n",
       "    </tr>\n",
       "    <tr>\n",
       "      <th>1770</th>\n",
       "      <td>Όσο πίν' η Μαργιωρίτσα, τόσο διπλοχαιρετάει</td>\n",
       "      <td>Ανατολική Θράκη</td>\n",
       "    </tr>\n",
       "    <tr>\n",
       "      <th>2291</th>\n",
       "      <td>Αυτό είναι αγιοβασιλειάτικο</td>\n",
       "      <td>Αρκαδία</td>\n",
       "    </tr>\n",
       "    <tr>\n",
       "      <th>2593</th>\n",
       "      <td>Όμορφο παιδί στην κούνια άσκημο παιδί στη ρούγα</td>\n",
       "      <td>Αχαΐα</td>\n",
       "    </tr>\n",
       "    <tr>\n",
       "      <th>3008</th>\n",
       "      <td>Θέλει ο βασιλιάς και τον ορίζουν άλλοι</td>\n",
       "      <td>Επτάνησος</td>\n",
       "    </tr>\n",
       "    <tr>\n",
       "      <th>3240</th>\n",
       "      <td>Τα μοσκάτα η αλουπού θαν τα κατοφεγγίση</td>\n",
       "      <td>Επτάνησος</td>\n",
       "    </tr>\n",
       "    <tr>\n",
       "      <th>4072</th>\n",
       "      <td>Τα χρήματα και τα κρίματα δεν κρύβονται</td>\n",
       "      <td>Θεσπρωτία</td>\n",
       "    </tr>\n",
       "    <tr>\n",
       "      <th>4794</th>\n",
       "      <td>Ο λύκος ζητεί αντάραν</td>\n",
       "      <td>Θράκη</td>\n",
       "    </tr>\n",
       "    <tr>\n",
       "      <th>6629</th>\n",
       "      <td>Οντέ δειπνάς και δε με δης, καθάρια λίγωσή 'νε</td>\n",
       "      <td>Κρήτη</td>\n",
       "    </tr>\n",
       "    <tr>\n",
       "      <th>7576</th>\n",
       "      <td>Σαρανταπέντε Γιάννηδες ενός κοκκόρου γνώσ' κι ...</td>\n",
       "      <td>Λέσβος</td>\n",
       "    </tr>\n",
       "    <tr>\n",
       "      <th>7577</th>\n",
       "      <td>Σα διψά γι' αυλή σ', να μη χύν'ς του νιρό έξου</td>\n",
       "      <td>Λέσβος</td>\n",
       "    </tr>\n",
       "    <tr>\n",
       "      <th>8556</th>\n",
       "      <td>Δούλεψ' το καλοκαίρι, να χ΄ς το χειμώνα</td>\n",
       "      <td>Μακεδονία</td>\n",
       "    </tr>\n",
       "    <tr>\n",
       "      <th>8800</th>\n",
       "      <td>Όλο τον κόσμο ρώτα κ' από τον νου σου μη βγαίνεις</td>\n",
       "      <td>Μακεδονία</td>\n",
       "    </tr>\n",
       "    <tr>\n",
       "      <th>8850</th>\n",
       "      <td>Θκό τ' ψουμί, κι ξένου γκαϊλέ τραβάει</td>\n",
       "      <td>Μακεδονία</td>\n",
       "    </tr>\n",
       "    <tr>\n",
       "      <th>9142</th>\n",
       "      <td>Σκάβει μόνος του τον λάκκο του</td>\n",
       "      <td>Μικρά Ασία</td>\n",
       "    </tr>\n",
       "    <tr>\n",
       "      <th>10305</th>\n",
       "      <td>Έκαψε με το μαλέζ, να ωμοίαζεν και φαγείν</td>\n",
       "      <td>Πόντος</td>\n",
       "    </tr>\n",
       "    <tr>\n",
       "      <th>10602</th>\n",
       "      <td>Σαράντα πέντε Γιάννηδες ενός κοκκόρου γνώσι</td>\n",
       "      <td>Ρόδος</td>\n",
       "    </tr>\n",
       "    <tr>\n",
       "      <th>11059</th>\n",
       "      <td>Ο ουρανός εσύδετσε, έναι σ'δεμπένες, δροσισμένες</td>\n",
       "      <td>Σκύρος</td>\n",
       "    </tr>\n",
       "  </tbody>\n",
       "</table>\n",
       "</div>"
      ],
      "text/plain": [
       "                                                    text             area\n",
       "388                                          Πήρι δρόμον          Ήπειρος\n",
       "567                                         Αυτός κάθετι          Αιτωλία\n",
       "989                           Ξυέτι κει π΄ δε τουν τρώει          Αιτωλία\n",
       "1770         Όσο πίν' η Μαργιωρίτσα, τόσο διπλοχαιρετάει  Ανατολική Θράκη\n",
       "2291                         Αυτό είναι αγιοβασιλειάτικο          Αρκαδία\n",
       "2593     Όμορφο παιδί στην κούνια άσκημο παιδί στη ρούγα            Αχαΐα\n",
       "3008              Θέλει ο βασιλιάς και τον ορίζουν άλλοι        Επτάνησος\n",
       "3240             Τα μοσκάτα η αλουπού θαν τα κατοφεγγίση        Επτάνησος\n",
       "4072             Τα χρήματα και τα κρίματα δεν κρύβονται        Θεσπρωτία\n",
       "4794                               Ο λύκος ζητεί αντάραν            Θράκη\n",
       "6629      Οντέ δειπνάς και δε με δης, καθάρια λίγωσή 'νε            Κρήτη\n",
       "7576   Σαρανταπέντε Γιάννηδες ενός κοκκόρου γνώσ' κι ...           Λέσβος\n",
       "7577      Σα διψά γι' αυλή σ', να μη χύν'ς του νιρό έξου           Λέσβος\n",
       "8556             Δούλεψ' το καλοκαίρι, να χ΄ς το χειμώνα        Μακεδονία\n",
       "8800   Όλο τον κόσμο ρώτα κ' από τον νου σου μη βγαίνεις        Μακεδονία\n",
       "8850               Θκό τ' ψουμί, κι ξένου γκαϊλέ τραβάει        Μακεδονία\n",
       "9142                      Σκάβει μόνος του τον λάκκο του       Μικρά Ασία\n",
       "10305          Έκαψε με το μαλέζ, να ωμοίαζεν και φαγείν           Πόντος\n",
       "10602        Σαράντα πέντε Γιάννηδες ενός κοκκόρου γνώσι            Ρόδος\n",
       "11059   Ο ουρανός εσύδετσε, έναι σ'δεμπένες, δροσισμένες           Σκύρος"
      ]
     },
     "execution_count": 107,
     "metadata": {},
     "output_type": "execute_result"
    }
   ],
   "source": [
    "proverbs.loc[cluster_centers_indices][['text', 'area']]"
   ]
  },
  {
   "cell_type": "code",
   "execution_count": 109,
   "metadata": {},
   "outputs": [
    {
     "data": {
      "text/plain": [
       "array([ 8, 16,  4, ...,  5,  7, 16])"
      ]
     },
     "execution_count": 109,
     "metadata": {},
     "output_type": "execute_result"
    }
   ],
   "source": [
    "labels"
   ]
  },
  {
   "cell_type": "code",
   "execution_count": 108,
   "metadata": {},
   "outputs": [
    {
     "ename": "ValueError",
     "evalue": "Mix of label input types (string and number)",
     "output_type": "error",
     "traceback": [
      "\u001b[0;31m---------------------------------------------------------------------------\u001b[0m",
      "\u001b[0;31mValueError\u001b[0m                                Traceback (most recent call last)",
      "Cell \u001b[0;32mIn[108], line 3\u001b[0m\n\u001b[1;32m      1\u001b[0m \u001b[39mfrom\u001b[39;00m \u001b[39msklearn\u001b[39;00m\u001b[39m.\u001b[39;00m\u001b[39mmetrics\u001b[39;00m \u001b[39mimport\u001b[39;00m confusion_matrix\n\u001b[0;32m----> 3\u001b[0m confusion_matrix(proverbs\u001b[39m.\u001b[39;49marea, labels)\n",
      "File \u001b[0;32m~/.pyenv/versions/3.11.4/lib/python3.11/site-packages/sklearn/utils/_param_validation.py:211\u001b[0m, in \u001b[0;36mvalidate_params.<locals>.decorator.<locals>.wrapper\u001b[0;34m(*args, **kwargs)\u001b[0m\n\u001b[1;32m    205\u001b[0m \u001b[39mtry\u001b[39;00m:\n\u001b[1;32m    206\u001b[0m     \u001b[39mwith\u001b[39;00m config_context(\n\u001b[1;32m    207\u001b[0m         skip_parameter_validation\u001b[39m=\u001b[39m(\n\u001b[1;32m    208\u001b[0m             prefer_skip_nested_validation \u001b[39mor\u001b[39;00m global_skip_validation\n\u001b[1;32m    209\u001b[0m         )\n\u001b[1;32m    210\u001b[0m     ):\n\u001b[0;32m--> 211\u001b[0m         \u001b[39mreturn\u001b[39;00m func(\u001b[39m*\u001b[39;49margs, \u001b[39m*\u001b[39;49m\u001b[39m*\u001b[39;49mkwargs)\n\u001b[1;32m    212\u001b[0m \u001b[39mexcept\u001b[39;00m InvalidParameterError \u001b[39mas\u001b[39;00m e:\n\u001b[1;32m    213\u001b[0m     \u001b[39m# When the function is just a wrapper around an estimator, we allow\u001b[39;00m\n\u001b[1;32m    214\u001b[0m     \u001b[39m# the function to delegate validation to the estimator, but we replace\u001b[39;00m\n\u001b[1;32m    215\u001b[0m     \u001b[39m# the name of the estimator by the name of the function in the error\u001b[39;00m\n\u001b[1;32m    216\u001b[0m     \u001b[39m# message to avoid confusion.\u001b[39;00m\n\u001b[1;32m    217\u001b[0m     msg \u001b[39m=\u001b[39m re\u001b[39m.\u001b[39msub(\n\u001b[1;32m    218\u001b[0m         \u001b[39mr\u001b[39m\u001b[39m\"\u001b[39m\u001b[39mparameter of \u001b[39m\u001b[39m\\\u001b[39m\u001b[39mw+ must be\u001b[39m\u001b[39m\"\u001b[39m,\n\u001b[1;32m    219\u001b[0m         \u001b[39mf\u001b[39m\u001b[39m\"\u001b[39m\u001b[39mparameter of \u001b[39m\u001b[39m{\u001b[39;00mfunc\u001b[39m.\u001b[39m\u001b[39m__qualname__\u001b[39m\u001b[39m}\u001b[39;00m\u001b[39m must be\u001b[39m\u001b[39m\"\u001b[39m,\n\u001b[1;32m    220\u001b[0m         \u001b[39mstr\u001b[39m(e),\n\u001b[1;32m    221\u001b[0m     )\n",
      "File \u001b[0;32m~/.pyenv/versions/3.11.4/lib/python3.11/site-packages/sklearn/metrics/_classification.py:331\u001b[0m, in \u001b[0;36mconfusion_matrix\u001b[0;34m(y_true, y_pred, labels, sample_weight, normalize)\u001b[0m\n\u001b[1;32m    328\u001b[0m     \u001b[39mraise\u001b[39;00m \u001b[39mValueError\u001b[39;00m(\u001b[39m\"\u001b[39m\u001b[39m%s\u001b[39;00m\u001b[39m is not supported\u001b[39m\u001b[39m\"\u001b[39m \u001b[39m%\u001b[39m y_type)\n\u001b[1;32m    330\u001b[0m \u001b[39mif\u001b[39;00m labels \u001b[39mis\u001b[39;00m \u001b[39mNone\u001b[39;00m:\n\u001b[0;32m--> 331\u001b[0m     labels \u001b[39m=\u001b[39m unique_labels(y_true, y_pred)\n\u001b[1;32m    332\u001b[0m \u001b[39melse\u001b[39;00m:\n\u001b[1;32m    333\u001b[0m     labels \u001b[39m=\u001b[39m np\u001b[39m.\u001b[39masarray(labels)\n",
      "File \u001b[0;32m~/.pyenv/versions/3.11.4/lib/python3.11/site-packages/sklearn/utils/multiclass.py:114\u001b[0m, in \u001b[0;36munique_labels\u001b[0;34m(*ys)\u001b[0m\n\u001b[1;32m    112\u001b[0m \u001b[39m# Check that we don't mix string type with number type\u001b[39;00m\n\u001b[1;32m    113\u001b[0m \u001b[39mif\u001b[39;00m \u001b[39mlen\u001b[39m(\u001b[39mset\u001b[39m(\u001b[39misinstance\u001b[39m(label, \u001b[39mstr\u001b[39m) \u001b[39mfor\u001b[39;00m label \u001b[39min\u001b[39;00m ys_labels)) \u001b[39m>\u001b[39m \u001b[39m1\u001b[39m:\n\u001b[0;32m--> 114\u001b[0m     \u001b[39mraise\u001b[39;00m \u001b[39mValueError\u001b[39;00m(\u001b[39m\"\u001b[39m\u001b[39mMix of label input types (string and number)\u001b[39m\u001b[39m\"\u001b[39m)\n\u001b[1;32m    116\u001b[0m \u001b[39mreturn\u001b[39;00m xp\u001b[39m.\u001b[39masarray(\u001b[39msorted\u001b[39m(ys_labels))\n",
      "\u001b[0;31mValueError\u001b[0m: Mix of label input types (string and number)"
     ]
    }
   ],
   "source": [
    "from sklearn.metrics import confusion_matrix\n",
    "\n",
    "confusion_matrix(proverbs.area, labels)"
   ]
  },
  {
   "cell_type": "code",
   "execution_count": 11,
   "metadata": {},
   "outputs": [],
   "source": [
    "from transformers import BertModel, BertTokenizer\n",
    "\n",
    "model_name = 'nlpaueb/bert-base-greek-uncased-v1'\n",
    "tokenizer = BertTokenizer.from_pretrained(model_name)\n",
    "model = BertModel.from_pretrained(model_name)"
   ]
  },
  {
   "cell_type": "code",
   "execution_count": 9,
   "metadata": {},
   "outputs": [],
   "source": [
    "import torch \n",
    "\n",
    "encoded_input = tokenizer(proverbs['text'].tolist(),\n",
    "                          padding=True, \n",
    "                          truncation=True, \n",
    "                          return_tensors=\"pt\", \n",
    "                          max_length=proverbs['num_words'].max())"
   ]
  },
  {
   "cell_type": "code",
   "execution_count": 12,
   "metadata": {},
   "outputs": [],
   "source": [
    "with torch.no_grad():\n",
    "    # Forward pass through the model\n",
    "    outputs = model(**encoded_input)\n",
    "    # Get the embeddings from the last hidden state\n",
    "    # Shape: [batch_size, sequence_length, hidden_size]\n",
    "    embeddings = outputs.last_hidden_state\n",
    "\n",
    "embeddings.shape"
   ]
  },
  {
   "cell_type": "code",
   "execution_count": 13,
   "metadata": {},
   "outputs": [
    {
     "data": {
      "text/plain": [
       "torch.Size([11478, 77, 768])"
      ]
     },
     "execution_count": 13,
     "metadata": {},
     "output_type": "execute_result"
    }
   ],
   "source": [
    "embeddings.shape"
   ]
  },
  {
   "cell_type": "code",
   "execution_count": 14,
   "metadata": {},
   "outputs": [
    {
     "data": {
      "text/plain": [
       "torch.Size([11478, 768])"
      ]
     },
     "execution_count": 14,
     "metadata": {},
     "output_type": "execute_result"
    }
   ],
   "source": [
    "proverb_embeddings = embeddings.mean(dim=1)\n",
    "proverb_embeddings.shape"
   ]
  },
  {
   "cell_type": "code",
   "execution_count": 16,
   "metadata": {},
   "outputs": [
    {
     "name": "stdout",
     "output_type": "stream",
     "text": [
      "Converged after 124 iterations.\n"
     ]
    },
    {
     "data": {
      "text/html": [
       "<style>#sk-container-id-1 {color: black;}#sk-container-id-1 pre{padding: 0;}#sk-container-id-1 div.sk-toggleable {background-color: white;}#sk-container-id-1 label.sk-toggleable__label {cursor: pointer;display: block;width: 100%;margin-bottom: 0;padding: 0.3em;box-sizing: border-box;text-align: center;}#sk-container-id-1 label.sk-toggleable__label-arrow:before {content: \"▸\";float: left;margin-right: 0.25em;color: #696969;}#sk-container-id-1 label.sk-toggleable__label-arrow:hover:before {color: black;}#sk-container-id-1 div.sk-estimator:hover label.sk-toggleable__label-arrow:before {color: black;}#sk-container-id-1 div.sk-toggleable__content {max-height: 0;max-width: 0;overflow: hidden;text-align: left;background-color: #f0f8ff;}#sk-container-id-1 div.sk-toggleable__content pre {margin: 0.2em;color: black;border-radius: 0.25em;background-color: #f0f8ff;}#sk-container-id-1 input.sk-toggleable__control:checked~div.sk-toggleable__content {max-height: 200px;max-width: 100%;overflow: auto;}#sk-container-id-1 input.sk-toggleable__control:checked~label.sk-toggleable__label-arrow:before {content: \"▾\";}#sk-container-id-1 div.sk-estimator input.sk-toggleable__control:checked~label.sk-toggleable__label {background-color: #d4ebff;}#sk-container-id-1 div.sk-label input.sk-toggleable__control:checked~label.sk-toggleable__label {background-color: #d4ebff;}#sk-container-id-1 input.sk-hidden--visually {border: 0;clip: rect(1px 1px 1px 1px);clip: rect(1px, 1px, 1px, 1px);height: 1px;margin: -1px;overflow: hidden;padding: 0;position: absolute;width: 1px;}#sk-container-id-1 div.sk-estimator {font-family: monospace;background-color: #f0f8ff;border: 1px dotted black;border-radius: 0.25em;box-sizing: border-box;margin-bottom: 0.5em;}#sk-container-id-1 div.sk-estimator:hover {background-color: #d4ebff;}#sk-container-id-1 div.sk-parallel-item::after {content: \"\";width: 100%;border-bottom: 1px solid gray;flex-grow: 1;}#sk-container-id-1 div.sk-label:hover label.sk-toggleable__label {background-color: #d4ebff;}#sk-container-id-1 div.sk-serial::before {content: \"\";position: absolute;border-left: 1px solid gray;box-sizing: border-box;top: 0;bottom: 0;left: 50%;z-index: 0;}#sk-container-id-1 div.sk-serial {display: flex;flex-direction: column;align-items: center;background-color: white;padding-right: 0.2em;padding-left: 0.2em;position: relative;}#sk-container-id-1 div.sk-item {position: relative;z-index: 1;}#sk-container-id-1 div.sk-parallel {display: flex;align-items: stretch;justify-content: center;background-color: white;position: relative;}#sk-container-id-1 div.sk-item::before, #sk-container-id-1 div.sk-parallel-item::before {content: \"\";position: absolute;border-left: 1px solid gray;box-sizing: border-box;top: 0;bottom: 0;left: 50%;z-index: -1;}#sk-container-id-1 div.sk-parallel-item {display: flex;flex-direction: column;z-index: 1;position: relative;background-color: white;}#sk-container-id-1 div.sk-parallel-item:first-child::after {align-self: flex-end;width: 50%;}#sk-container-id-1 div.sk-parallel-item:last-child::after {align-self: flex-start;width: 50%;}#sk-container-id-1 div.sk-parallel-item:only-child::after {width: 0;}#sk-container-id-1 div.sk-dashed-wrapped {border: 1px dashed gray;margin: 0 0.4em 0.5em 0.4em;box-sizing: border-box;padding-bottom: 0.4em;background-color: white;}#sk-container-id-1 div.sk-label label {font-family: monospace;font-weight: bold;display: inline-block;line-height: 1.2em;}#sk-container-id-1 div.sk-label-container {text-align: center;}#sk-container-id-1 div.sk-container {/* jupyter's `normalize.less` sets `[hidden] { display: none; }` but bootstrap.min.css set `[hidden] { display: none !important; }` so we also need the `!important` here to be able to override the default hidden behavior on the sphinx rendered scikit-learn.org. See: https://github.com/scikit-learn/scikit-learn/issues/21755 */display: inline-block !important;position: relative;}#sk-container-id-1 div.sk-text-repr-fallback {display: none;}</style><div id=\"sk-container-id-1\" class=\"sk-top-container\"><div class=\"sk-text-repr-fallback\"><pre>AffinityPropagation(max_iter=500, verbose=True)</pre><b>In a Jupyter environment, please rerun this cell to show the HTML representation or trust the notebook. <br />On GitHub, the HTML representation is unable to render, please try loading this page with nbviewer.org.</b></div><div class=\"sk-container\" hidden><div class=\"sk-item\"><div class=\"sk-estimator sk-toggleable\"><input class=\"sk-toggleable__control sk-hidden--visually\" id=\"sk-estimator-id-1\" type=\"checkbox\" checked><label for=\"sk-estimator-id-1\" class=\"sk-toggleable__label sk-toggleable__label-arrow\">AffinityPropagation</label><div class=\"sk-toggleable__content\"><pre>AffinityPropagation(max_iter=500, verbose=True)</pre></div></div></div></div></div>"
      ],
      "text/plain": [
       "AffinityPropagation(max_iter=500, verbose=True)"
      ]
     },
     "execution_count": 16,
     "metadata": {},
     "output_type": "execute_result"
    }
   ],
   "source": [
    "af = AffinityPropagation(max_iter=500,    \n",
    "                         verbose=True)\n",
    "af.fit(proverb_embeddings) "
   ]
  },
  {
   "cell_type": "code",
   "execution_count": 17,
   "metadata": {},
   "outputs": [
    {
     "data": {
      "text/plain": [
       "679"
      ]
     },
     "execution_count": 17,
     "metadata": {},
     "output_type": "execute_result"
    }
   ],
   "source": [
    "cluster_centers_indices = af.cluster_centers_indices_\n",
    "len(cluster_centers_indices)"
   ]
  },
  {
   "cell_type": "code",
   "execution_count": 25,
   "metadata": {},
   "outputs": [
    {
     "name": "stdout",
     "output_type": "stream",
     "text": [
      "10 clusters\n",
      "clustering done in 0.68 ± 0.12 s \n",
      "Inertia: 1097369.264 ± 279.903\n",
      "Homogeneity: 0.032 ± 0.001\n",
      "Completeness: 0.045 ± 0.002\n",
      "V-measure: 0.038 ± 0.002\n",
      "Adjusted Rand-Index: 0.013 ± 0.000\n",
      "Silhouette Coefficient: 0.004 ± 0.003\n",
      "\n",
      "11 clusters\n",
      "clustering done in 0.61 ± 0.08 s \n",
      "Inertia: 1093448.586 ± 433.939\n",
      "Homogeneity: 0.033 ± 0.002\n",
      "Completeness: 0.044 ± 0.002\n",
      "V-measure: 0.038 ± 0.002\n",
      "Adjusted Rand-Index: 0.013 ± 0.001\n",
      "Silhouette Coefficient: 0.003 ± 0.003\n",
      "\n",
      "12 clusters\n",
      "clustering done in 0.58 ± 0.14 s \n",
      "Inertia: 1089664.118 ± 765.426\n",
      "Homogeneity: 0.034 ± 0.001\n",
      "Completeness: 0.044 ± 0.002\n",
      "V-measure: 0.039 ± 0.002\n",
      "Adjusted Rand-Index: 0.013 ± 0.001\n",
      "Silhouette Coefficient: 0.002 ± 0.002\n",
      "\n",
      "13 clusters\n",
      "clustering done in 0.58 ± 0.04 s \n",
      "Inertia: 1086038.937 ± 646.779\n",
      "Homogeneity: 0.035 ± 0.002\n",
      "Completeness: 0.044 ± 0.002\n",
      "V-measure: 0.039 ± 0.002\n",
      "Adjusted Rand-Index: 0.013 ± 0.001\n",
      "Silhouette Coefficient: 0.001 ± 0.001\n",
      "\n",
      "14 clusters\n",
      "clustering done in 0.56 ± 0.07 s \n",
      "Inertia: 1082696.615 ± 635.521\n",
      "Homogeneity: 0.035 ± 0.002\n",
      "Completeness: 0.043 ± 0.002\n",
      "V-measure: 0.039 ± 0.002\n",
      "Adjusted Rand-Index: 0.013 ± 0.001\n",
      "Silhouette Coefficient: -0.000 ± 0.002\n",
      "\n",
      "15 clusters\n",
      "clustering done in 0.64 ± 0.08 s \n",
      "Inertia: 1079707.038 ± 389.489\n",
      "Homogeneity: 0.039 ± 0.002\n",
      "Completeness: 0.046 ± 0.003\n",
      "V-measure: 0.042 ± 0.002\n",
      "Adjusted Rand-Index: 0.014 ± 0.001\n",
      "Silhouette Coefficient: -0.002 ± 0.001\n",
      "\n",
      "16 clusters\n",
      "clustering done in 0.59 ± 0.09 s \n",
      "Inertia: 1076972.227 ± 548.969\n",
      "Homogeneity: 0.040 ± 0.000\n",
      "Completeness: 0.046 ± 0.000\n",
      "V-measure: 0.043 ± 0.000\n",
      "Adjusted Rand-Index: 0.013 ± 0.001\n",
      "Silhouette Coefficient: -0.001 ± 0.001\n",
      "\n",
      "17 clusters\n",
      "clustering done in 0.65 ± 0.07 s \n",
      "Inertia: 1074003.762 ± 390.252\n",
      "Homogeneity: 0.043 ± 0.002\n",
      "Completeness: 0.048 ± 0.002\n",
      "V-measure: 0.045 ± 0.002\n",
      "Adjusted Rand-Index: 0.014 ± 0.001\n",
      "Silhouette Coefficient: -0.002 ± 0.002\n",
      "\n",
      "18 clusters\n",
      "clustering done in 0.61 ± 0.05 s \n",
      "Inertia: 1072295.343 ± 840.498\n",
      "Homogeneity: 0.044 ± 0.003\n",
      "Completeness: 0.048 ± 0.004\n",
      "V-measure: 0.046 ± 0.004\n",
      "Adjusted Rand-Index: 0.014 ± 0.001\n",
      "Silhouette Coefficient: -0.003 ± 0.001\n",
      "\n",
      "19 clusters\n",
      "clustering done in 0.64 ± 0.04 s \n",
      "Inertia: 1069620.517 ± 187.687\n",
      "Homogeneity: 0.046 ± 0.003\n",
      "Completeness: 0.050 ± 0.003\n",
      "V-measure: 0.048 ± 0.003\n",
      "Adjusted Rand-Index: 0.015 ± 0.001\n",
      "Silhouette Coefficient: -0.002 ± 0.001\n",
      "\n",
      "20 clusters\n",
      "clustering done in 0.64 ± 0.07 s \n",
      "Inertia: 1067723.049 ± 419.361\n",
      "Homogeneity: 0.048 ± 0.004\n",
      "Completeness: 0.051 ± 0.004\n",
      "V-measure: 0.049 ± 0.004\n",
      "Adjusted Rand-Index: 0.015 ± 0.002\n",
      "Silhouette Coefficient: -0.002 ± 0.001\n",
      "\n",
      "21 clusters\n",
      "clustering done in 0.64 ± 0.07 s \n",
      "Inertia: 1065758.584 ± 505.833\n",
      "Homogeneity: 0.047 ± 0.004\n",
      "Completeness: 0.049 ± 0.005\n",
      "V-measure: 0.048 ± 0.005\n",
      "Adjusted Rand-Index: 0.015 ± 0.001\n",
      "Silhouette Coefficient: -0.003 ± 0.002\n",
      "\n",
      "22 clusters\n",
      "clustering done in 0.67 ± 0.09 s \n",
      "Inertia: 1063529.834 ± 254.080\n",
      "Homogeneity: 0.048 ± 0.004\n",
      "Completeness: 0.049 ± 0.004\n",
      "V-measure: 0.049 ± 0.004\n",
      "Adjusted Rand-Index: 0.015 ± 0.001\n",
      "Silhouette Coefficient: -0.003 ± 0.002\n",
      "\n",
      "23 clusters\n",
      "clustering done in 0.61 ± 0.03 s \n",
      "Inertia: 1061481.103 ± 175.046\n",
      "Homogeneity: 0.050 ± 0.005\n",
      "Completeness: 0.051 ± 0.005\n",
      "V-measure: 0.050 ± 0.005\n",
      "Adjusted Rand-Index: 0.015 ± 0.002\n",
      "Silhouette Coefficient: -0.004 ± 0.002\n",
      "\n",
      "24 clusters\n",
      "clustering done in 0.65 ± 0.06 s \n",
      "Inertia: 1059562.117 ± 368.321\n",
      "Homogeneity: 0.051 ± 0.004\n",
      "Completeness: 0.051 ± 0.004\n",
      "V-measure: 0.051 ± 0.004\n",
      "Adjusted Rand-Index: 0.014 ± 0.001\n",
      "Silhouette Coefficient: -0.003 ± 0.001\n",
      "\n",
      "25 clusters\n",
      "clustering done in 0.74 ± 0.03 s \n",
      "Inertia: 1057501.390 ± 365.352\n",
      "Homogeneity: 0.051 ± 0.005\n",
      "Completeness: 0.050 ± 0.005\n",
      "V-measure: 0.050 ± 0.005\n",
      "Adjusted Rand-Index: 0.014 ± 0.002\n",
      "Silhouette Coefficient: -0.003 ± 0.001\n",
      "\n",
      "26 clusters\n",
      "clustering done in 0.69 ± 0.09 s \n",
      "Inertia: 1056287.462 ± 557.446\n",
      "Homogeneity: 0.052 ± 0.005\n",
      "Completeness: 0.051 ± 0.004\n",
      "V-measure: 0.052 ± 0.004\n",
      "Adjusted Rand-Index: 0.014 ± 0.001\n",
      "Silhouette Coefficient: -0.003 ± 0.002\n",
      "\n",
      "27 clusters\n",
      "clustering done in 0.87 ± 0.14 s \n",
      "Inertia: 1054563.664 ± 521.704\n",
      "Homogeneity: 0.053 ± 0.004\n",
      "Completeness: 0.052 ± 0.004\n",
      "V-measure: 0.052 ± 0.004\n",
      "Adjusted Rand-Index: 0.014 ± 0.001\n",
      "Silhouette Coefficient: -0.005 ± 0.001\n",
      "\n",
      "28 clusters\n",
      "clustering done in 0.68 ± 0.09 s \n",
      "Inertia: 1053414.245 ± 723.873\n",
      "Homogeneity: 0.053 ± 0.004\n",
      "Completeness: 0.050 ± 0.004\n",
      "V-measure: 0.051 ± 0.004\n",
      "Adjusted Rand-Index: 0.014 ± 0.001\n",
      "Silhouette Coefficient: -0.004 ± 0.002\n",
      "\n",
      "29 clusters\n",
      "clustering done in 0.89 ± 0.19 s \n",
      "Inertia: 1052118.893 ± 707.790\n",
      "Homogeneity: 0.053 ± 0.005\n",
      "Completeness: 0.050 ± 0.005\n",
      "V-measure: 0.052 ± 0.005\n",
      "Adjusted Rand-Index: 0.014 ± 0.001\n",
      "Silhouette Coefficient: -0.005 ± 0.001\n",
      "\n",
      "30 clusters\n",
      "clustering done in 0.87 ± 0.09 s \n",
      "Inertia: 1050617.567 ± 357.645\n",
      "Homogeneity: 0.054 ± 0.004\n",
      "Completeness: 0.050 ± 0.004\n",
      "V-measure: 0.052 ± 0.004\n",
      "Adjusted Rand-Index: 0.014 ± 0.001\n",
      "Silhouette Coefficient: -0.005 ± 0.001\n",
      "\n"
     ]
    }
   ],
   "source": [
    "from sklearn.cluster import KMeans\n",
    "kappas = list(range(10, 30+1))\n",
    "models = {}\n",
    "for k in kappas:\n",
    "    print(f'{k} clusters')\n",
    "    fit_and_evaluate(KMeans(n_clusters=k, n_init='auto'),\n",
    "                     proverb_embeddings,\n",
    "                     proverbs.area,\n",
    "                     name=f\"KMeans({k})\")\n",
    "    print()"
   ]
  },
  {
   "cell_type": "code",
   "execution_count": 26,
   "metadata": {},
   "outputs": [],
   "source": [
    "from kneed import KneeLocator\n",
    "\n",
    "squared_distances = [ evaluation['Inertia'] for evaluation in evaluations ]\n",
    "kl = KneeLocator(kappas, squared_distances, curve=\"convex\",\n",
    "                 direction=\"decreasing\")"
   ]
  },
  {
   "cell_type": "code",
   "execution_count": 27,
   "metadata": {},
   "outputs": [
    {
     "data": {
      "image/png": "[encoded data removed]",
      "text/plain": [
       "<Figure size 640x480 with 1 Axes>"
      ]
     },
     "metadata": {},
     "output_type": "display_data"
    }
   ],
   "source": [
    "plt.plot(kappas, squared_distances, 'bx-')\n",
    "plt.vlines(kl.elbow, plt.ylim()[0], plt.ylim()[1], linestyles='dashed',\n",
    "           label='Elbow at k = %d' % kl.elbow)\n",
    "plt.xlabel('k')\n",
    "plt.ylabel('Sum of Squared Distances')\n",
    "plt.title('Elbow Method For Optimal k')\n",
    "plt.legend()\n",
    "plt.show()"
   ]
  },
  {
   "cell_type": "code",
   "execution_count": 28,
   "metadata": {},
   "outputs": [
    {
     "data": {
      "image/png": "[encoded data removed]",
      "text/plain": [
       "<Figure size 640x480 with 1 Axes>"
      ]
     },
     "metadata": {},
     "output_type": "display_data"
    }
   ],
   "source": [
    "silhouette_scores = [ evaluation['Silhouette Coefficient']\n",
    "                     for evaluation in evaluations ]\n",
    "\n",
    "plt.plot(kappas, silhouette_scores, 'bx-')\n",
    "plt.xlabel('k')\n",
    "plt.ylabel('Silhouette Coefficient')\n",
    "plt.title('Silhouette Method For Optimal k')\n",
    "plt.show()"
   ]
  },
  {
   "cell_type": "code",
   "execution_count": 29,
   "metadata": {},
   "outputs": [
    {
     "data": {
      "image/png": "[encoded data removed]",
      "text/plain": [
       "<Figure size 640x480 with 1 Axes>"
      ]
     },
     "metadata": {},
     "output_type": "display_data"
    }
   ],
   "source": [
    "homogeneity = [\n",
    "               evaluation['Homogeneity']\n",
    "               for evaluation in evaluations\n",
    "]\n",
    "\n",
    "homogeneity_std = [\n",
    "                   evaluation['Homogeneity']\n",
    "                   for evaluation in evaluations_std\n",
    "]\n",
    "\n",
    "completeness = [\n",
    "                evaluation['Completeness']\n",
    "                for evaluation in evaluations\n",
    "]\n",
    "\n",
    "completeness_std = [\n",
    "                    evaluation['Completeness']\n",
    "                    for evaluation in evaluations_std\n",
    "]\n",
    "\n",
    "v_measure = [\n",
    "              evaluation['V-measure']\n",
    "              for evaluation in evaluations\n",
    "]\n",
    "\n",
    "v_measure_std = [\n",
    "                 evaluation['V-measure']\n",
    "                 for evaluation in evaluations_std\n",
    "]\n",
    "\n",
    "ari = [\n",
    "    evaluation['Adjusted Rand-Index']\n",
    "    for evaluation in evaluations\n",
    "]\n",
    "\n",
    "ari_std = [\n",
    "    evaluation['Adjusted Rand-Index']\n",
    "    for evaluation in evaluations_std\n",
    "]\n",
    "\n",
    "plt.errorbar(kappas, homogeneity, yerr=homogeneity_std, fmt='-o',\n",
    "             label='Homogeneity')\n",
    "plt.errorbar(kappas, completeness, yerr=completeness_std, fmt='-o',\n",
    "             label='Completeness')\n",
    "plt.errorbar(kappas, v_measure, yerr=v_measure_std, fmt='-o',\n",
    "             label='V-Measure')\n",
    "plt.errorbar(kappas, ari, yerr=ari_std, fmt='-o',\n",
    "             label='ARI')\n",
    "plt.xlabel('k')\n",
    "plt.ylabel('Metric Value')\n",
    "plt.title('Values for k')\n",
    "plt.legend()\n",
    "plt.show()"
   ]
  },
  {
   "cell_type": "code",
   "execution_count": 67,
   "metadata": {},
   "outputs": [],
   "source": [
    "X_ex = np.array([[1, 2], [1, 4], [1, 0],\n",
    "                 [4, 2], [4, 4], [4, 0]])\n",
    "clustering = AffinityPropagation(random_state=5).fit(X_ex)"
   ]
  },
  {
   "cell_type": "code",
   "execution_count": 68,
   "metadata": {},
   "outputs": [
    {
     "data": {
      "text/plain": [
       "array([[ -9.,  -4.,  -4.,  -9., -13., -13.],\n",
       "       [ -4.,  -9., -16., -13.,  -9., -25.],\n",
       "       [ -4., -16.,  -9., -13., -25.,  -9.],\n",
       "       [ -9., -13., -13.,  -9.,  -4.,  -4.],\n",
       "       [-13.,  -9., -25.,  -4.,  -9., -16.],\n",
       "       [-13., -25.,  -9.,  -4., -16.,  -9.]])"
      ]
     },
     "execution_count": 68,
     "metadata": {},
     "output_type": "execute_result"
    }
   ],
   "source": [
    "clustering.affinity_matrix_"
   ]
  },
  {
   "cell_type": "code",
   "execution_count": 69,
   "metadata": {},
   "outputs": [
    {
     "data": {
      "text/plain": [
       "array([[0.98932837, 0.97286513, 1.        , ..., 0.98749049, 0.99838839,\n",
       "        0.99424488],\n",
       "       [0.97286513, 0.98932837, 0.9151027 , ..., 0.99009555, 0.99472246,\n",
       "        0.98944596],\n",
       "       [1.        , 0.9151027 , 0.98932837, ..., 0.94325006, 0.987334  ,\n",
       "        0.98350178],\n",
       "       ...,\n",
       "       [0.98749049, 0.99009555, 0.94325006, ..., 0.98932837, 0.92803425,\n",
       "        0.96378996],\n",
       "       [0.99838839, 0.99472246, 0.987334  , ..., 0.92803425, 0.98932837,\n",
       "        0.97043679],\n",
       "       [0.99424488, 0.98944596, 0.98350178, ..., 0.96378996, 0.97043679,\n",
       "        0.98932837]])"
      ]
     },
     "execution_count": 69,
     "metadata": {},
     "output_type": "execute_result"
    }
   ],
   "source": [
    "af.affinity_matrix_"
   ]
  },
  {
   "cell_type": "code",
   "execution_count": 76,
   "metadata": {},
   "outputs": [
    {
     "data": {
      "text/plain": [
       "array([[ 0.,  4.,  4.,  9., 13., 13.],\n",
       "       [ 4.,  0., 16., 13.,  9., 25.],\n",
       "       [ 4., 16.,  0., 13., 25.,  9.],\n",
       "       [ 9., 13., 13.,  0.,  4.,  4.],\n",
       "       [13.,  9., 25.,  4.,  0., 16.],\n",
       "       [13., 25.,  9.,  4., 16.,  0.]])"
      ]
     },
     "execution_count": 76,
     "metadata": {},
     "output_type": "execute_result"
    }
   ],
   "source": [
    "from sklearn.metrics.pairwise import euclidean_distances\n",
    "\n",
    "dist = euclidean_distances(X_ex, X_ex)**2\n",
    "dist"
   ]
  },
  {
   "cell_type": "code",
   "execution_count": 77,
   "metadata": {},
   "outputs": [],
   "source": [
    "clustering = AffinityPropagation(random_state=5, affinity='precomputed').fit(-dist)"
   ]
  },
  {
   "cell_type": "code",
   "execution_count": 78,
   "metadata": {},
   "outputs": [
    {
     "data": {
      "text/plain": [
       "array([[ -9.,  -4.,  -4.,  -9., -13., -13.],\n",
       "       [ -4.,  -9., -16., -13.,  -9., -25.],\n",
       "       [ -4., -16.,  -9., -13., -25.,  -9.],\n",
       "       [ -9., -13., -13.,  -9.,  -4.,  -4.],\n",
       "       [-13.,  -9., -25.,  -4.,  -9., -16.],\n",
       "       [-13., -25.,  -9.,  -4., -16.,  -9.]])"
      ]
     },
     "execution_count": 78,
     "metadata": {},
     "output_type": "execute_result"
    }
   ],
   "source": [
    "clustering.affinity_matrix_"
   ]
  },
  {
   "cell_type": "code",
   "execution_count": 82,
   "metadata": {},
   "outputs": [
    {
     "data": {
      "text/plain": [
       "array([[1, 2],\n",
       "       [4, 2]])"
      ]
     },
     "execution_count": 82,
     "metadata": {},
     "output_type": "execute_result"
    }
   ],
   "source": [
    "X_ex[clustering.cluster_centers_indices_]"
   ]
  },
  {
   "cell_type": "code",
   "execution_count": null,
   "metadata": {},
   "outputs": [],
   "source": []
  }
 ],
 "metadata": {
  "colab": {
   "include_colab_link": true,
   "provenance": []
  },
  "kernelspec": {
   "display_name": "Python 3 (ipykernel)",
   "language": "python",
   "name": "python3"
  },
  "language_info": {
   "codemirror_mode": {
    "name": "ipython",
    "version": 3
   },
   "file_extension": ".py",
   "mimetype": "text/x-python",
   "name": "python",
   "nbconvert_exporter": "python",
   "pygments_lexer": "ipython3",
   "version": "3.11.5"
  },
  "widgets": {
   "application/vnd.jupyter.widget-state+json": {
    "084181ccec8e45e499186530336ad93a": {
     "model_module": "@jupyter-widgets/controls",
     "model_module_version": "1.5.0",
     "model_name": "HTMLModel",
     "state": {
      "_dom_classes": [],
      "_model_module": "@jupyter-widgets/controls",
      "_model_module_version": "1.5.0",
      "_model_name": "HTMLModel",
      "_view_count": null,
      "_view_module": "@jupyter-widgets/controls",
      "_view_module_version": "1.5.0",
      "_view_name": "HTMLView",
      "description": "",
      "description_tooltip": null,
      "layout": "IPY_MODEL_27528e2716ca4cfd8c09e4d0c6df27ae",
      "placeholder": "​",
      "style": "IPY_MODEL_77eb90a702144ec8bc5080abe40a8e1a",
      "value": " 20/20 [01:15&lt;00:00,  6.74s/it]"
     }
    },
    "0c7e9685a1904198bf0a81fdfe493e76": {
     "model_module": "@jupyter-widgets/controls",
     "model_module_version": "1.5.0",
     "model_name": "HTMLModel",
     "state": {
      "_dom_classes": [],
      "_model_module": "@jupyter-widgets/controls",
      "_model_module_version": "1.5.0",
      "_model_name": "HTMLModel",
      "_view_count": null,
      "_view_module": "@jupyter-widgets/controls",
      "_view_module_version": "1.5.0",
      "_view_name": "HTMLView",
      "description": "",
      "description_tooltip": null,
      "layout": "IPY_MODEL_be6da2dccfb242b0a5fd448084b9fef8",
      "placeholder": "​",
      "style": "IPY_MODEL_8527a4474eb54c34984fb77112e88523",
      "value": "100%"
     }
    },
    "27528e2716ca4cfd8c09e4d0c6df27ae": {
     "model_module": "@jupyter-widgets/base",
     "model_module_version": "1.2.0",
     "model_name": "LayoutModel",
     "state": {
      "_model_module": "@jupyter-widgets/base",
      "_model_module_version": "1.2.0",
      "_model_name": "LayoutModel",
      "_view_count": null,
      "_view_module": "@jupyter-widgets/base",
      "_view_module_version": "1.2.0",
      "_view_name": "LayoutView",
      "align_content": null,
      "align_items": null,
      "align_self": null,
      "border": null,
      "bottom": null,
      "display": null,
      "flex": null,
      "flex_flow": null,
      "grid_area": null,
      "grid_auto_columns": null,
      "grid_auto_flow": null,
      "grid_auto_rows": null,
      "grid_column": null,
      "grid_gap": null,
      "grid_row": null,
      "grid_template_areas": null,
      "grid_template_columns": null,
      "grid_template_rows": null,
      "height": null,
      "justify_content": null,
      "justify_items": null,
      "left": null,
      "margin": null,
      "max_height": null,
      "max_width": null,
      "min_height": null,
      "min_width": null,
      "object_fit": null,
      "object_position": null,
      "order": null,
      "overflow": null,
      "overflow_x": null,
      "overflow_y": null,
      "padding": null,
      "right": null,
      "top": null,
      "visibility": null,
      "width": null
     }
    },
    "39f52638a0c1402b883b11fdab1205e0": {
     "model_module": "@jupyter-widgets/base",
     "model_module_version": "1.2.0",
     "model_name": "LayoutModel",
     "state": {
      "_model_module": "@jupyter-widgets/base",
      "_model_module_version": "1.2.0",
      "_model_name": "LayoutModel",
      "_view_count": null,
      "_view_module": "@jupyter-widgets/base",
      "_view_module_version": "1.2.0",
      "_view_name": "LayoutView",
      "align_content": null,
      "align_items": null,
      "align_self": null,
      "border": null,
      "bottom": null,
      "display": null,
      "flex": null,
      "flex_flow": null,
      "grid_area": null,
      "grid_auto_columns": null,
      "grid_auto_flow": null,
      "grid_auto_rows": null,
      "grid_column": null,
      "grid_gap": null,
      "grid_row": null,
      "grid_template_areas": null,
      "grid_template_columns": null,
      "grid_template_rows": null,
      "height": null,
      "justify_content": null,
      "justify_items": null,
      "left": null,
      "margin": null,
      "max_height": null,
      "max_width": null,
      "min_height": null,
      "min_width": null,
      "object_fit": null,
      "object_position": null,
      "order": null,
      "overflow": null,
      "overflow_x": null,
      "overflow_y": null,
      "padding": null,
      "right": null,
      "top": null,
      "visibility": null,
      "width": null
     }
    },
    "77eb90a702144ec8bc5080abe40a8e1a": {
     "model_module": "@jupyter-widgets/controls",
     "model_module_version": "1.5.0",
     "model_name": "DescriptionStyleModel",
     "state": {
      "_model_module": "@jupyter-widgets/controls",
      "_model_module_version": "1.5.0",
      "_model_name": "DescriptionStyleModel",
      "_view_count": null,
      "_view_module": "@jupyter-widgets/base",
      "_view_module_version": "1.2.0",
      "_view_name": "StyleView",
      "description_width": ""
     }
    },
    "8527a4474eb54c34984fb77112e88523": {
     "model_module": "@jupyter-widgets/controls",
     "model_module_version": "1.5.0",
     "model_name": "DescriptionStyleModel",
     "state": {
      "_model_module": "@jupyter-widgets/controls",
      "_model_module_version": "1.5.0",
      "_model_name": "DescriptionStyleModel",
      "_view_count": null,
      "_view_module": "@jupyter-widgets/base",
      "_view_module_version": "1.2.0",
      "_view_name": "StyleView",
      "description_width": ""
     }
    },
    "8ec5e227d3b548d3ab120b9bf9b2f418": {
     "model_module": "@jupyter-widgets/controls",
     "model_module_version": "1.5.0",
     "model_name": "HBoxModel",
     "state": {
      "_dom_classes": [],
      "_model_module": "@jupyter-widgets/controls",
      "_model_module_version": "1.5.0",
      "_model_name": "HBoxModel",
      "_view_count": null,
      "_view_module": "@jupyter-widgets/controls",
      "_view_module_version": "1.5.0",
      "_view_name": "HBoxView",
      "box_style": "",
      "children": [
       "IPY_MODEL_0c7e9685a1904198bf0a81fdfe493e76",
       "IPY_MODEL_917f16cf2b76425a94a046425a74f362",
       "IPY_MODEL_084181ccec8e45e499186530336ad93a"
      ],
      "layout": "IPY_MODEL_39f52638a0c1402b883b11fdab1205e0"
     }
    },
    "8fbb3cac31294a70b1175f4cf2b51a99": {
     "model_module": "@jupyter-widgets/controls",
     "model_module_version": "1.5.0",
     "model_name": "ProgressStyleModel",
     "state": {
      "_model_module": "@jupyter-widgets/controls",
      "_model_module_version": "1.5.0",
      "_model_name": "ProgressStyleModel",
      "_view_count": null,
      "_view_module": "@jupyter-widgets/base",
      "_view_module_version": "1.2.0",
      "_view_name": "StyleView",
      "bar_color": null,
      "description_width": ""
     }
    },
    "917f16cf2b76425a94a046425a74f362": {
     "model_module": "@jupyter-widgets/controls",
     "model_module_version": "1.5.0",
     "model_name": "FloatProgressModel",
     "state": {
      "_dom_classes": [],
      "_model_module": "@jupyter-widgets/controls",
      "_model_module_version": "1.5.0",
      "_model_name": "FloatProgressModel",
      "_view_count": null,
      "_view_module": "@jupyter-widgets/controls",
      "_view_module_version": "1.5.0",
      "_view_name": "ProgressView",
      "bar_style": "success",
      "description": "",
      "description_tooltip": null,
      "layout": "IPY_MODEL_d6a4aa960234486abf1b5285d71a6664",
      "max": 20,
      "min": 0,
      "orientation": "horizontal",
      "style": "IPY_MODEL_8fbb3cac31294a70b1175f4cf2b51a99",
      "value": 20
     }
    },
    "be6da2dccfb242b0a5fd448084b9fef8": {
     "model_module": "@jupyter-widgets/base",
     "model_module_version": "1.2.0",
     "model_name": "LayoutModel",
     "state": {
      "_model_module": "@jupyter-widgets/base",
      "_model_module_version": "1.2.0",
      "_model_name": "LayoutModel",
      "_view_count": null,
      "_view_module": "@jupyter-widgets/base",
      "_view_module_version": "1.2.0",
      "_view_name": "LayoutView",
      "align_content": null,
      "align_items": null,
      "align_self": null,
      "border": null,
      "bottom": null,
      "display": null,
      "flex": null,
      "flex_flow": null,
      "grid_area": null,
      "grid_auto_columns": null,
      "grid_auto_flow": null,
      "grid_auto_rows": null,
      "grid_column": null,
      "grid_gap": null,
      "grid_row": null,
      "grid_template_areas": null,
      "grid_template_columns": null,
      "grid_template_rows": null,
      "height": null,
      "justify_content": null,
      "justify_items": null,
      "left": null,
      "margin": null,
      "max_height": null,
      "max_width": null,
      "min_height": null,
      "min_width": null,
      "object_fit": null,
      "object_position": null,
      "order": null,
      "overflow": null,
      "overflow_x": null,
      "overflow_y": null,
      "padding": null,
      "right": null,
      "top": null,
      "visibility": null,
      "width": null
     }
    },
    "d6a4aa960234486abf1b5285d71a6664": {
     "model_module": "@jupyter-widgets/base",
     "model_module_version": "1.2.0",
     "model_name": "LayoutModel",
     "state": {
      "_model_module": "@jupyter-widgets/base",
      "_model_module_version": "1.2.0",
      "_model_name": "LayoutModel",
      "_view_count": null,
      "_view_module": "@jupyter-widgets/base",
      "_view_module_version": "1.2.0",
      "_view_name": "LayoutView",
      "align_content": null,
      "align_items": null,
      "align_self": null,
      "border": null,
      "bottom": null,
      "display": null,
      "flex": null,
      "flex_flow": null,
      "grid_area": null,
      "grid_auto_columns": null,
      "grid_auto_flow": null,
      "grid_auto_rows": null,
      "grid_column": null,
      "grid_gap": null,
      "grid_row": null,
      "grid_template_areas": null,
      "grid_template_columns": null,
      "grid_template_rows": null,
      "height": null,
      "justify_content": null,
      "justify_items": null,
      "left": null,
      "margin": null,
      "max_height": null,
      "max_width": null,
      "min_height": null,
      "min_width": null,
      "object_fit": null,
      "object_position": null,
      "order": null,
      "overflow": null,
      "overflow_x": null,
      "overflow_y": null,
      "padding": null,
      "right": null,
      "top": null,
      "visibility": null,
      "width": null
     }
    }
   }
  }
 },
 "nbformat": 4,
 "nbformat_minor": 4
}
