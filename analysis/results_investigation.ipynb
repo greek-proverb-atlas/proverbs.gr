{
 "cells": [
  {
   "cell_type": "code",
   "execution_count": 2,
   "metadata": {},
   "outputs": [],
   "source": [
    "import pandas as pd\n",
    "\n",
    "from sklearn.metrics import jaccard_score"
   ]
  },
  {
   "cell_type": "code",
   "execution_count": 3,
   "metadata": {},
   "outputs": [
    {
     "data": {
      "text/html": [
       "<div>\n",
       "<style scoped>\n",
       "    .dataframe tbody tr th:only-of-type {\n",
       "        vertical-align: middle;\n",
       "    }\n",
       "\n",
       "    .dataframe tbody tr th {\n",
       "        vertical-align: top;\n",
       "    }\n",
       "\n",
       "    .dataframe thead th {\n",
       "        text-align: right;\n",
       "    }\n",
       "</style>\n",
       "<table border=\"1\" class=\"dataframe\">\n",
       "  <thead>\n",
       "    <tr style=\"text-align: right;\">\n",
       "      <th></th>\n",
       "      <th>aa</th>\n",
       "      <th>lr</th>\n",
       "      <th>svm</th>\n",
       "      <th>knn</th>\n",
       "      <th>rf</th>\n",
       "      <th>text</th>\n",
       "      <th>gold</th>\n",
       "      <th>bert</th>\n",
       "    </tr>\n",
       "  </thead>\n",
       "  <tbody>\n",
       "    <tr>\n",
       "      <th>100459</th>\n",
       "      <td>Evia</td>\n",
       "      <td>Λέσβος</td>\n",
       "      <td>Λέσβος</td>\n",
       "      <td>Λέσβος</td>\n",
       "      <td>Κύπρος</td>\n",
       "      <td>Τι με μέλλει εμένα, για του Χατζιαλή τ' άρνια;</td>\n",
       "      <td>Θεσπρωτία</td>\n",
       "      <td>Θεσπρωτία</td>\n",
       "    </tr>\n",
       "    <tr>\n",
       "      <th>109640</th>\n",
       "      <td>Evia</td>\n",
       "      <td>Θράκη</td>\n",
       "      <td>Εύβοια</td>\n",
       "      <td>Ανατολική Θράκη</td>\n",
       "      <td>Ήπειρος</td>\n",
       "      <td>Ένα χρόνο κ' ένα μήνα έκαμ' ένα αδράχτι νήμα</td>\n",
       "      <td>Ανατολική Θράκη</td>\n",
       "      <td>Εύβοια</td>\n",
       "    </tr>\n",
       "    <tr>\n",
       "      <th>71246</th>\n",
       "      <td>Ioannina</td>\n",
       "      <td>Λέσβος</td>\n",
       "      <td>Λέσβος</td>\n",
       "      <td>Λέσβος</td>\n",
       "      <td>Λέσβος</td>\n",
       "      <td>Τι' κάν'ς Γιώργον; -Σκαντοχερία κάνου</td>\n",
       "      <td>Αιτωλία</td>\n",
       "      <td>Ιωάννινα</td>\n",
       "    </tr>\n",
       "    <tr>\n",
       "      <th>99588</th>\n",
       "      <td>Pontos</td>\n",
       "      <td>Πόντος</td>\n",
       "      <td>Πόντος</td>\n",
       "      <td>Κύπρος</td>\n",
       "      <td>Σκύρος</td>\n",
       "      <td>Άθρωπον το μαθάν' τσετίνεα απομαθάν'</td>\n",
       "      <td>Πόντος</td>\n",
       "      <td>Πόντος</td>\n",
       "    </tr>\n",
       "    <tr>\n",
       "      <th>76332</th>\n",
       "      <td>Rodos</td>\n",
       "      <td>Ρόδος</td>\n",
       "      <td>Ρόδος</td>\n",
       "      <td>Ρόδος</td>\n",
       "      <td>Σκύρος</td>\n",
       "      <td>Τίσε μέλει που το πατσανά το χαψί γη λίον είνα...</td>\n",
       "      <td>Κάρπαθος</td>\n",
       "      <td>Κρήτη</td>\n",
       "    </tr>\n",
       "    <tr>\n",
       "      <th>...</th>\n",
       "      <td>...</td>\n",
       "      <td>...</td>\n",
       "      <td>...</td>\n",
       "      <td>...</td>\n",
       "      <td>...</td>\n",
       "      <td>...</td>\n",
       "      <td>...</td>\n",
       "      <td>...</td>\n",
       "    </tr>\n",
       "    <tr>\n",
       "      <th>102085</th>\n",
       "      <td>Karpathos</td>\n",
       "      <td>Αρκαδία</td>\n",
       "      <td>Κάρπαθος</td>\n",
       "      <td>Κεφαλληνία</td>\n",
       "      <td>Αρκαδία</td>\n",
       "      <td>Το ξένε μες στο σπίτι σου για μάρτυρα τεν έχεις</td>\n",
       "      <td>Σκύρος</td>\n",
       "      <td>Κρήτη</td>\n",
       "    </tr>\n",
       "    <tr>\n",
       "      <th>52994</th>\n",
       "      <td>Heptanese</td>\n",
       "      <td>Επτάνησος</td>\n",
       "      <td>Επτάνησος</td>\n",
       "      <td>Αχαΐα</td>\n",
       "      <td>Αχαΐα</td>\n",
       "      <td>Του φαίνεται πως ευτός είναι, κι άλλος δεν είναι</td>\n",
       "      <td>Αχαΐα</td>\n",
       "      <td>Αμοργός</td>\n",
       "    </tr>\n",
       "    <tr>\n",
       "      <th>116801</th>\n",
       "      <td>East Thrace</td>\n",
       "      <td>Θεσπρωτία</td>\n",
       "      <td>Ανατολική Θράκη</td>\n",
       "      <td>Κρήτη</td>\n",
       "      <td>Θεσπρωτία</td>\n",
       "      <td>Ποιος θα παινέση το γαμπρό; Η νύφη, αν είναι κ...</td>\n",
       "      <td>Κρήτη</td>\n",
       "      <td>Θεσπρωτία</td>\n",
       "    </tr>\n",
       "    <tr>\n",
       "      <th>7368</th>\n",
       "      <td>Rodos</td>\n",
       "      <td>Αμοργός</td>\n",
       "      <td>Ρόδος</td>\n",
       "      <td>Αμοργός</td>\n",
       "      <td>Αμοργός</td>\n",
       "      <td>Αν ήταν η δουλειά καλή, έκαμέν την κι ο καδής</td>\n",
       "      <td>Ρόδος</td>\n",
       "      <td>Ρόδος</td>\n",
       "    </tr>\n",
       "    <tr>\n",
       "      <th>100785</th>\n",
       "      <td>Skyros</td>\n",
       "      <td>Σκύρος</td>\n",
       "      <td>Σκύρος</td>\n",
       "      <td>Σκύρος</td>\n",
       "      <td>Σκύρος</td>\n",
       "      <td>Απάν' τσαί ξαπάνου!</td>\n",
       "      <td>Σκύρος</td>\n",
       "      <td>Σκύρος</td>\n",
       "    </tr>\n",
       "  </tbody>\n",
       "</table>\n",
       "<p>575 rows × 8 columns</p>\n",
       "</div>"
      ],
      "text/plain": [
       "                 aa         lr              svm              knn         rf  \\\n",
       "100459         Evia     Λέσβος           Λέσβος           Λέσβος     Κύπρος   \n",
       "109640         Evia      Θράκη           Εύβοια  Ανατολική Θράκη    Ήπειρος   \n",
       "71246      Ioannina     Λέσβος           Λέσβος           Λέσβος     Λέσβος   \n",
       "99588        Pontos     Πόντος           Πόντος           Κύπρος     Σκύρος   \n",
       "76332         Rodos      Ρόδος            Ρόδος            Ρόδος     Σκύρος   \n",
       "...             ...        ...              ...              ...        ...   \n",
       "102085    Karpathos    Αρκαδία         Κάρπαθος       Κεφαλληνία    Αρκαδία   \n",
       "52994     Heptanese  Επτάνησος        Επτάνησος            Αχαΐα      Αχαΐα   \n",
       "116801  East Thrace  Θεσπρωτία  Ανατολική Θράκη            Κρήτη  Θεσπρωτία   \n",
       "7368          Rodos    Αμοργός            Ρόδος          Αμοργός    Αμοργός   \n",
       "100785       Skyros     Σκύρος           Σκύρος           Σκύρος     Σκύρος   \n",
       "\n",
       "                                                     text             gold  \\\n",
       "100459     Τι με μέλλει εμένα, για του Χατζιαλή τ' άρνια;        Θεσπρωτία   \n",
       "109640       Ένα χρόνο κ' ένα μήνα έκαμ' ένα αδράχτι νήμα  Ανατολική Θράκη   \n",
       "71246               Τι' κάν'ς Γιώργον; -Σκαντοχερία κάνου          Αιτωλία   \n",
       "99588                Άθρωπον το μαθάν' τσετίνεα απομαθάν'           Πόντος   \n",
       "76332   Τίσε μέλει που το πατσανά το χαψί γη λίον είνα...         Κάρπαθος   \n",
       "...                                                   ...              ...   \n",
       "102085    Το ξένε μες στο σπίτι σου για μάρτυρα τεν έχεις           Σκύρος   \n",
       "52994    Του φαίνεται πως ευτός είναι, κι άλλος δεν είναι            Αχαΐα   \n",
       "116801  Ποιος θα παινέση το γαμπρό; Η νύφη, αν είναι κ...            Κρήτη   \n",
       "7368        Αν ήταν η δουλειά καλή, έκαμέν την κι ο καδής            Ρόδος   \n",
       "100785                                Απάν' τσαί ξαπάνου!           Σκύρος   \n",
       "\n",
       "             bert  \n",
       "100459  Θεσπρωτία  \n",
       "109640     Εύβοια  \n",
       "71246    Ιωάννινα  \n",
       "99588      Πόντος  \n",
       "76332       Κρήτη  \n",
       "...           ...  \n",
       "102085      Κρήτη  \n",
       "52994     Αμοργός  \n",
       "116801  Θεσπρωτία  \n",
       "7368        Ρόδος  \n",
       "100785     Σκύρος  \n",
       "\n",
       "[575 rows x 8 columns]"
      ]
     },
     "execution_count": 3,
     "metadata": {},
     "output_type": "execute_result"
    }
   ],
   "source": [
    "results_df = preds = pd.read_csv(\n",
    "    'https://raw.githubusercontent.com/greek-proverb-atlas/proverbs.gr/main/analysis/classification_seed2023.csv', \n",
    "    index_col=0)\n",
    "\n",
    "results_df"
   ]
  },
  {
   "cell_type": "markdown",
   "metadata": {},
   "source": [
    "## Where Do BERT and Logistic Regression Agree?"
   ]
  },
  {
   "cell_type": "markdown",
   "metadata": {},
   "source": [
    "* Get the subset where BERT and Logistic Regression agree."
   ]
  },
  {
   "cell_type": "code",
   "execution_count": 4,
   "metadata": {},
   "outputs": [
    {
     "data": {
      "text/html": [
       "<div>\n",
       "<style scoped>\n",
       "    .dataframe tbody tr th:only-of-type {\n",
       "        vertical-align: middle;\n",
       "    }\n",
       "\n",
       "    .dataframe tbody tr th {\n",
       "        vertical-align: top;\n",
       "    }\n",
       "\n",
       "    .dataframe thead th {\n",
       "        text-align: right;\n",
       "    }\n",
       "</style>\n",
       "<table border=\"1\" class=\"dataframe\">\n",
       "  <thead>\n",
       "    <tr style=\"text-align: right;\">\n",
       "      <th></th>\n",
       "      <th>bert</th>\n",
       "      <th>lr</th>\n",
       "      <th>gold</th>\n",
       "      <th>text</th>\n",
       "    </tr>\n",
       "  </thead>\n",
       "  <tbody>\n",
       "    <tr>\n",
       "      <th>99588</th>\n",
       "      <td>Πόντος</td>\n",
       "      <td>Πόντος</td>\n",
       "      <td>Πόντος</td>\n",
       "      <td>Άθρωπον το μαθάν' τσετίνεα απομαθάν'</td>\n",
       "    </tr>\n",
       "    <tr>\n",
       "      <th>21925</th>\n",
       "      <td>Αμοργός</td>\n",
       "      <td>Αμοργός</td>\n",
       "      <td>Αμοργός</td>\n",
       "      <td>Εμπρός από τον διάβολον τρείς μέρες γεννημένος</td>\n",
       "    </tr>\n",
       "    <tr>\n",
       "      <th>24786</th>\n",
       "      <td>Αμοργός</td>\n",
       "      <td>Αμοργός</td>\n",
       "      <td>Αμοργός</td>\n",
       "      <td>Όνειρον είδες που δεν ξεδιαλύνει</td>\n",
       "    </tr>\n",
       "    <tr>\n",
       "      <th>71049</th>\n",
       "      <td>Ιωάννινα</td>\n",
       "      <td>Ιωάννινα</td>\n",
       "      <td>Λακωνία</td>\n",
       "      <td>Στου κασσιδιάρ' του κεφάλ' ούλοι μπαρμπέρ' δες...</td>\n",
       "    </tr>\n",
       "    <tr>\n",
       "      <th>38690</th>\n",
       "      <td>Ανατολική Θράκη</td>\n",
       "      <td>Ανατολική Θράκη</td>\n",
       "      <td>Αρκαδία</td>\n",
       "      <td>Εχάσαμε τα μάτια, θα φυλάξουμε τ΄ αφρύδια;</td>\n",
       "    </tr>\n",
       "    <tr>\n",
       "      <th>...</th>\n",
       "      <td>...</td>\n",
       "      <td>...</td>\n",
       "      <td>...</td>\n",
       "      <td>...</td>\n",
       "    </tr>\n",
       "    <tr>\n",
       "      <th>94996</th>\n",
       "      <td>Πόντος</td>\n",
       "      <td>Πόντος</td>\n",
       "      <td>Πόντος</td>\n",
       "      <td>Εθαρρείς κι έσκισες το μήλον κ' εποίκες α δύο</td>\n",
       "    </tr>\n",
       "    <tr>\n",
       "      <th>115356</th>\n",
       "      <td>Σκύρος</td>\n",
       "      <td>Σκύρος</td>\n",
       "      <td>Εύβοια</td>\n",
       "      <td>Αλλού τ' όνειρο τσ' αλλού το θάμα</td>\n",
       "    </tr>\n",
       "    <tr>\n",
       "      <th>4045</th>\n",
       "      <td>Πόντος</td>\n",
       "      <td>Πόντος</td>\n",
       "      <td>Πόντος</td>\n",
       "      <td>Τη Κουκουλίτ' ο γάμον</td>\n",
       "    </tr>\n",
       "    <tr>\n",
       "      <th>116801</th>\n",
       "      <td>Θεσπρωτία</td>\n",
       "      <td>Θεσπρωτία</td>\n",
       "      <td>Κρήτη</td>\n",
       "      <td>Ποιος θα παινέση το γαμπρό; Η νύφη, αν είναι κ...</td>\n",
       "    </tr>\n",
       "    <tr>\n",
       "      <th>100785</th>\n",
       "      <td>Σκύρος</td>\n",
       "      <td>Σκύρος</td>\n",
       "      <td>Σκύρος</td>\n",
       "      <td>Απάν' τσαί ξαπάνου!</td>\n",
       "    </tr>\n",
       "  </tbody>\n",
       "</table>\n",
       "<p>194 rows × 4 columns</p>\n",
       "</div>"
      ],
      "text/plain": [
       "                   bert               lr     gold  \\\n",
       "99588            Πόντος           Πόντος   Πόντος   \n",
       "21925           Αμοργός          Αμοργός  Αμοργός   \n",
       "24786           Αμοργός          Αμοργός  Αμοργός   \n",
       "71049          Ιωάννινα         Ιωάννινα  Λακωνία   \n",
       "38690   Ανατολική Θράκη  Ανατολική Θράκη  Αρκαδία   \n",
       "...                 ...              ...      ...   \n",
       "94996            Πόντος           Πόντος   Πόντος   \n",
       "115356           Σκύρος           Σκύρος   Εύβοια   \n",
       "4045             Πόντος           Πόντος   Πόντος   \n",
       "116801        Θεσπρωτία        Θεσπρωτία    Κρήτη   \n",
       "100785           Σκύρος           Σκύρος   Σκύρος   \n",
       "\n",
       "                                                     text  \n",
       "99588                Άθρωπον το μαθάν' τσετίνεα απομαθάν'  \n",
       "21925      Εμπρός από τον διάβολον τρείς μέρες γεννημένος  \n",
       "24786                    Όνειρον είδες που δεν ξεδιαλύνει  \n",
       "71049   Στου κασσιδιάρ' του κεφάλ' ούλοι μπαρμπέρ' δες...  \n",
       "38690          Εχάσαμε τα μάτια, θα φυλάξουμε τ΄ αφρύδια;  \n",
       "...                                                   ...  \n",
       "94996       Εθαρρείς κι έσκισες το μήλον κ' εποίκες α δύο  \n",
       "115356                  Αλλού τ' όνειρο τσ' αλλού το θάμα  \n",
       "4045                                Τη Κουκουλίτ' ο γάμον  \n",
       "116801  Ποιος θα παινέση το γαμπρό; Η νύφη, αν είναι κ...  \n",
       "100785                                Απάν' τσαί ξαπάνου!  \n",
       "\n",
       "[194 rows x 4 columns]"
      ]
     },
     "execution_count": 4,
     "metadata": {},
     "output_type": "execute_result"
    }
   ],
   "source": [
    "results_bert_lr_same = results_df[results_df['bert'] == results_df['lr']]\n",
    "results_bert_lr_same = results_bert_lr_same[['bert', 'lr', 'gold', 'text']]\n",
    "results_bert_lr_same"
   ]
  },
  {
   "cell_type": "markdown",
   "metadata": {},
   "source": [
    "* Count the loci of agreement."
   ]
  },
  {
   "cell_type": "code",
   "execution_count": 5,
   "metadata": {},
   "outputs": [
    {
     "data": {
      "text/plain": [
       "gold\n",
       "Κύπρος             17\n",
       "Σκύρος             15\n",
       "Πόντος             13\n",
       "Αχαΐα              12\n",
       "Ιωάννινα           10\n",
       "Κάρπαθος           10\n",
       "Κρήτη               9\n",
       "Ρόδος               9\n",
       "Νάξος               9\n",
       "Αμοργός             8\n",
       "Λέσβος              8\n",
       "Μακεδονία           8\n",
       "Αρκαδία             8\n",
       "Επτάνησος           8\n",
       "Ανατολική Θράκη     7\n",
       "Θεσπρωτία           7\n",
       "Εύβοια              6\n",
       "Λακωνία             6\n",
       "Κεφαλληνία          5\n",
       "Αιτωλία             5\n",
       "Ήπειρος             5\n",
       "Θράκη               5\n",
       "Μικρά Ασία          4\n",
       "Name: count, dtype: int64"
      ]
     },
     "execution_count": 5,
     "metadata": {},
     "output_type": "execute_result"
    }
   ],
   "source": [
    "results_bert_lr_same_gold_vc = results_bert_lr_same['gold'].value_counts()\n",
    "results_bert_lr_same_gold_vc"
   ]
  },
  {
   "cell_type": "code",
   "execution_count": 6,
   "metadata": {},
   "outputs": [
    {
     "data": {
      "image/png": "[encoded data removed]",
      "text/plain": [
       "<Figure size 1000x200 with 1 Axes>"
      ]
     },
     "metadata": {},
     "output_type": "display_data"
    }
   ],
   "source": [
    "_ = results_bert_lr_same_gold_vc.plot.bar(figsize=(10,2), rot=45)"
   ]
  },
  {
   "cell_type": "markdown",
   "metadata": {},
   "source": [
    "## Where Do BERT and Logistic Regression Disagree?"
   ]
  },
  {
   "cell_type": "markdown",
   "metadata": {},
   "source": [
    "* Get the subset where BERT and Logistic Regression disagree."
   ]
  },
  {
   "cell_type": "code",
   "execution_count": 7,
   "metadata": {},
   "outputs": [
    {
     "data": {
      "text/html": [
       "<div>\n",
       "<style scoped>\n",
       "    .dataframe tbody tr th:only-of-type {\n",
       "        vertical-align: middle;\n",
       "    }\n",
       "\n",
       "    .dataframe tbody tr th {\n",
       "        vertical-align: top;\n",
       "    }\n",
       "\n",
       "    .dataframe thead th {\n",
       "        text-align: right;\n",
       "    }\n",
       "</style>\n",
       "<table border=\"1\" class=\"dataframe\">\n",
       "  <thead>\n",
       "    <tr style=\"text-align: right;\">\n",
       "      <th></th>\n",
       "      <th>aa</th>\n",
       "      <th>lr</th>\n",
       "      <th>svm</th>\n",
       "      <th>knn</th>\n",
       "      <th>rf</th>\n",
       "      <th>text</th>\n",
       "      <th>gold</th>\n",
       "      <th>bert</th>\n",
       "    </tr>\n",
       "  </thead>\n",
       "  <tbody>\n",
       "    <tr>\n",
       "      <th>100459</th>\n",
       "      <td>Evia</td>\n",
       "      <td>Λέσβος</td>\n",
       "      <td>Λέσβος</td>\n",
       "      <td>Λέσβος</td>\n",
       "      <td>Κύπρος</td>\n",
       "      <td>Τι με μέλλει εμένα, για του Χατζιαλή τ' άρνια;</td>\n",
       "      <td>Θεσπρωτία</td>\n",
       "      <td>Θεσπρωτία</td>\n",
       "    </tr>\n",
       "    <tr>\n",
       "      <th>109640</th>\n",
       "      <td>Evia</td>\n",
       "      <td>Θράκη</td>\n",
       "      <td>Εύβοια</td>\n",
       "      <td>Ανατολική Θράκη</td>\n",
       "      <td>Ήπειρος</td>\n",
       "      <td>Ένα χρόνο κ' ένα μήνα έκαμ' ένα αδράχτι νήμα</td>\n",
       "      <td>Ανατολική Θράκη</td>\n",
       "      <td>Εύβοια</td>\n",
       "    </tr>\n",
       "    <tr>\n",
       "      <th>71246</th>\n",
       "      <td>Ioannina</td>\n",
       "      <td>Λέσβος</td>\n",
       "      <td>Λέσβος</td>\n",
       "      <td>Λέσβος</td>\n",
       "      <td>Λέσβος</td>\n",
       "      <td>Τι' κάν'ς Γιώργον; -Σκαντοχερία κάνου</td>\n",
       "      <td>Αιτωλία</td>\n",
       "      <td>Ιωάννινα</td>\n",
       "    </tr>\n",
       "    <tr>\n",
       "      <th>76332</th>\n",
       "      <td>Rodos</td>\n",
       "      <td>Ρόδος</td>\n",
       "      <td>Ρόδος</td>\n",
       "      <td>Ρόδος</td>\n",
       "      <td>Σκύρος</td>\n",
       "      <td>Τίσε μέλει που το πατσανά το χαψί γη λίον είνα...</td>\n",
       "      <td>Κάρπαθος</td>\n",
       "      <td>Κρήτη</td>\n",
       "    </tr>\n",
       "    <tr>\n",
       "      <th>52380</th>\n",
       "      <td>East Thrace</td>\n",
       "      <td>Μικρά Ασία</td>\n",
       "      <td>Ανατολική Θράκη</td>\n",
       "      <td>Λέσβος</td>\n",
       "      <td>Κρήτη</td>\n",
       "      <td>Το κατσίκι έχει τη νουρά ψηλά και όταν πνιγή, ...</td>\n",
       "      <td>Αχαΐα</td>\n",
       "      <td>Λακωνία</td>\n",
       "    </tr>\n",
       "    <tr>\n",
       "      <th>...</th>\n",
       "      <td>...</td>\n",
       "      <td>...</td>\n",
       "      <td>...</td>\n",
       "      <td>...</td>\n",
       "      <td>...</td>\n",
       "      <td>...</td>\n",
       "      <td>...</td>\n",
       "      <td>...</td>\n",
       "    </tr>\n",
       "    <tr>\n",
       "      <th>17098</th>\n",
       "      <td>Naxos</td>\n",
       "      <td>Αμοργός</td>\n",
       "      <td>Νάξος</td>\n",
       "      <td>Νάξος</td>\n",
       "      <td>Επτάνησος</td>\n",
       "      <td>Τα μικρά δεν ήθελες τα μεγάλα ΄ύρευγες, τράβα,...</td>\n",
       "      <td>Νάξος</td>\n",
       "      <td>Κάρπαθος</td>\n",
       "    </tr>\n",
       "    <tr>\n",
       "      <th>34186</th>\n",
       "      <td>Heptanese</td>\n",
       "      <td>Επτάνησος</td>\n",
       "      <td>Επτάνησος</td>\n",
       "      <td>Επτάνησος</td>\n",
       "      <td>Κεφαλληνία</td>\n",
       "      <td>Οι ρωμιοί δε συμφωνούνε, πάρ' άντας θε να κατο...</td>\n",
       "      <td>Επτάνησος</td>\n",
       "      <td>Κεφαλληνία</td>\n",
       "    </tr>\n",
       "    <tr>\n",
       "      <th>102085</th>\n",
       "      <td>Karpathos</td>\n",
       "      <td>Αρκαδία</td>\n",
       "      <td>Κάρπαθος</td>\n",
       "      <td>Κεφαλληνία</td>\n",
       "      <td>Αρκαδία</td>\n",
       "      <td>Το ξένε μες στο σπίτι σου για μάρτυρα τεν έχεις</td>\n",
       "      <td>Σκύρος</td>\n",
       "      <td>Κρήτη</td>\n",
       "    </tr>\n",
       "    <tr>\n",
       "      <th>52994</th>\n",
       "      <td>Heptanese</td>\n",
       "      <td>Επτάνησος</td>\n",
       "      <td>Επτάνησος</td>\n",
       "      <td>Αχαΐα</td>\n",
       "      <td>Αχαΐα</td>\n",
       "      <td>Του φαίνεται πως ευτός είναι, κι άλλος δεν είναι</td>\n",
       "      <td>Αχαΐα</td>\n",
       "      <td>Αμοργός</td>\n",
       "    </tr>\n",
       "    <tr>\n",
       "      <th>7368</th>\n",
       "      <td>Rodos</td>\n",
       "      <td>Αμοργός</td>\n",
       "      <td>Ρόδος</td>\n",
       "      <td>Αμοργός</td>\n",
       "      <td>Αμοργός</td>\n",
       "      <td>Αν ήταν η δουλειά καλή, έκαμέν την κι ο καδής</td>\n",
       "      <td>Ρόδος</td>\n",
       "      <td>Ρόδος</td>\n",
       "    </tr>\n",
       "  </tbody>\n",
       "</table>\n",
       "<p>381 rows × 8 columns</p>\n",
       "</div>"
      ],
      "text/plain": [
       "                 aa          lr              svm              knn          rf  \\\n",
       "100459         Evia      Λέσβος           Λέσβος           Λέσβος      Κύπρος   \n",
       "109640         Evia       Θράκη           Εύβοια  Ανατολική Θράκη     Ήπειρος   \n",
       "71246      Ioannina      Λέσβος           Λέσβος           Λέσβος      Λέσβος   \n",
       "76332         Rodos       Ρόδος            Ρόδος            Ρόδος      Σκύρος   \n",
       "52380   East Thrace  Μικρά Ασία  Ανατολική Θράκη           Λέσβος       Κρήτη   \n",
       "...             ...         ...              ...              ...         ...   \n",
       "17098         Naxos     Αμοργός            Νάξος            Νάξος   Επτάνησος   \n",
       "34186     Heptanese   Επτάνησος        Επτάνησος        Επτάνησος  Κεφαλληνία   \n",
       "102085    Karpathos     Αρκαδία         Κάρπαθος       Κεφαλληνία     Αρκαδία   \n",
       "52994     Heptanese   Επτάνησος        Επτάνησος            Αχαΐα       Αχαΐα   \n",
       "7368          Rodos     Αμοργός            Ρόδος          Αμοργός     Αμοργός   \n",
       "\n",
       "                                                     text             gold  \\\n",
       "100459     Τι με μέλλει εμένα, για του Χατζιαλή τ' άρνια;        Θεσπρωτία   \n",
       "109640       Ένα χρόνο κ' ένα μήνα έκαμ' ένα αδράχτι νήμα  Ανατολική Θράκη   \n",
       "71246               Τι' κάν'ς Γιώργον; -Σκαντοχερία κάνου          Αιτωλία   \n",
       "76332   Τίσε μέλει που το πατσανά το χαψί γη λίον είνα...         Κάρπαθος   \n",
       "52380   Το κατσίκι έχει τη νουρά ψηλά και όταν πνιγή, ...            Αχαΐα   \n",
       "...                                                   ...              ...   \n",
       "17098   Τα μικρά δεν ήθελες τα μεγάλα ΄ύρευγες, τράβα,...            Νάξος   \n",
       "34186   Οι ρωμιοί δε συμφωνούνε, πάρ' άντας θε να κατο...        Επτάνησος   \n",
       "102085    Το ξένε μες στο σπίτι σου για μάρτυρα τεν έχεις           Σκύρος   \n",
       "52994    Του φαίνεται πως ευτός είναι, κι άλλος δεν είναι            Αχαΐα   \n",
       "7368        Αν ήταν η δουλειά καλή, έκαμέν την κι ο καδής            Ρόδος   \n",
       "\n",
       "              bert  \n",
       "100459   Θεσπρωτία  \n",
       "109640      Εύβοια  \n",
       "71246     Ιωάννινα  \n",
       "76332        Κρήτη  \n",
       "52380      Λακωνία  \n",
       "...            ...  \n",
       "17098     Κάρπαθος  \n",
       "34186   Κεφαλληνία  \n",
       "102085       Κρήτη  \n",
       "52994      Αμοργός  \n",
       "7368         Ρόδος  \n",
       "\n",
       "[381 rows x 8 columns]"
      ]
     },
     "execution_count": 7,
     "metadata": {},
     "output_type": "execute_result"
    }
   ],
   "source": [
    "results_bert_lr_diff = results_df[results_df['bert'] != results_df['lr']]\n",
    "results_bert_lr_diff"
   ]
  },
  {
   "cell_type": "markdown",
   "metadata": {},
   "source": [
    "* Count the loci of disagreement."
   ]
  },
  {
   "cell_type": "code",
   "execution_count": 8,
   "metadata": {},
   "outputs": [
    {
     "data": {
      "text/plain": [
       "gold\n",
       "Αρκαδία            23\n",
       "Κεφαλληνία         22\n",
       "Κρήτη              21\n",
       "Λακωνία            21\n",
       "Αχαΐα              20\n",
       "Θράκη              20\n",
       "Αιτωλία            19\n",
       "Ιωάννινα           19\n",
       "Μακεδονία          19\n",
       "Κάρπαθος           18\n",
       "Ήπειρος            18\n",
       "Ανατολική Θράκη    17\n",
       "Λέσβος             16\n",
       "Θεσπρωτία          15\n",
       "Επτάνησος          15\n",
       "Νάξος              15\n",
       "Σκύρος             15\n",
       "Μικρά Ασία         14\n",
       "Αμοργός            14\n",
       "Εύβοια             14\n",
       "Ρόδος              13\n",
       "Κύπρος              7\n",
       "Πόντος              6\n",
       "Name: count, dtype: int64"
      ]
     },
     "execution_count": 8,
     "metadata": {},
     "output_type": "execute_result"
    }
   ],
   "source": [
    "results_bert_lr_diff_gold_vc = results_bert_lr_diff['gold'].value_counts()\n",
    "results_bert_lr_diff_gold_vc"
   ]
  },
  {
   "cell_type": "code",
   "execution_count": 9,
   "metadata": {},
   "outputs": [
    {
     "data": {
      "image/png": "[encoded data removed]",
      "text/plain": [
       "<Figure size 1000x200 with 1 Axes>"
      ]
     },
     "metadata": {},
     "output_type": "display_data"
    }
   ],
   "source": [
    "_ = results_bert_lr_diff_gold_vc.plot.bar(figsize=(10,2), rot=45)"
   ]
  },
  {
   "cell_type": "markdown",
   "metadata": {},
   "source": [
    "* When BERT and Logistic Regression disagree, where is BERT correct?"
   ]
  },
  {
   "cell_type": "code",
   "execution_count": 10,
   "metadata": {},
   "outputs": [
    {
     "data": {
      "text/plain": [
       "gold\n",
       "Αχαΐα              9\n",
       "Κεφαλληνία         8\n",
       "Ιωάννινα           7\n",
       "Ανατολική Θράκη    6\n",
       "Θράκη              5\n",
       "Αμοργός            5\n",
       "Κρήτη              4\n",
       "Σκύρος             4\n",
       "Κάρπαθος           4\n",
       "Κύπρος             3\n",
       "Λακωνία            3\n",
       "Μακεδονία          3\n",
       "Ρόδος              3\n",
       "Αιτωλία            3\n",
       "Εύβοια             2\n",
       "Θεσπρωτία          2\n",
       "Νάξος              2\n",
       "Λέσβος             2\n",
       "Αρκαδία            2\n",
       "Μικρά Ασία         2\n",
       "Επτάνησος          1\n",
       "Name: count, dtype: int64"
      ]
     },
     "execution_count": 10,
     "metadata": {},
     "output_type": "execute_result"
    }
   ],
   "source": [
    "results_bert_lr_diff_bert_ok = results_bert_lr_diff[\n",
    "    results_bert_lr_diff['bert'] == results_bert_lr_diff['gold']\n",
    "]\n",
    "results_bert_lr_diff_bert_ok_vc = results_bert_lr_diff_bert_ok['gold']\\\n",
    "    .value_counts()\n",
    "results_bert_lr_diff_bert_ok_vc"
   ]
  },
  {
   "cell_type": "code",
   "execution_count": 11,
   "metadata": {},
   "outputs": [
    {
     "data": {
      "image/png": "[encoded data removed]",
      "text/plain": [
       "<Figure size 1000x200 with 1 Axes>"
      ]
     },
     "metadata": {},
     "output_type": "display_data"
    }
   ],
   "source": [
    "_ = results_bert_lr_diff_bert_ok_vc.plot.bar(figsize=(10,2), rot=45)"
   ]
  },
  {
   "cell_type": "markdown",
   "metadata": {},
   "source": [
    "* Check how often the other models agree between themselves (and\n",
    "  therefore with Logistic Regression), when BERT is correct and\n",
    "  Logistic Regression is not."
   ]
  },
  {
   "cell_type": "code",
   "execution_count": 12,
   "metadata": {},
   "outputs": [
    {
     "data": {
      "text/html": [
       "<div>\n",
       "<style scoped>\n",
       "    .dataframe tbody tr th:only-of-type {\n",
       "        vertical-align: middle;\n",
       "    }\n",
       "\n",
       "    .dataframe tbody tr th {\n",
       "        vertical-align: top;\n",
       "    }\n",
       "\n",
       "    .dataframe thead th {\n",
       "        text-align: right;\n",
       "    }\n",
       "</style>\n",
       "<table border=\"1\" class=\"dataframe\">\n",
       "  <thead>\n",
       "    <tr style=\"text-align: right;\">\n",
       "      <th></th>\n",
       "      <th>aa</th>\n",
       "      <th>lr</th>\n",
       "      <th>svm</th>\n",
       "      <th>knn</th>\n",
       "      <th>rf</th>\n",
       "      <th>text</th>\n",
       "      <th>gold</th>\n",
       "      <th>bert</th>\n",
       "    </tr>\n",
       "  </thead>\n",
       "  <tbody>\n",
       "    <tr>\n",
       "      <th>100459</th>\n",
       "      <td>Evia</td>\n",
       "      <td>Λέσβος</td>\n",
       "      <td>Λέσβος</td>\n",
       "      <td>Λέσβος</td>\n",
       "      <td>Κύπρος</td>\n",
       "      <td>Τι με μέλλει εμένα, για του Χατζιαλή τ' άρνια;</td>\n",
       "      <td>Θεσπρωτία</td>\n",
       "      <td>Θεσπρωτία</td>\n",
       "    </tr>\n",
       "    <tr>\n",
       "      <th>22087</th>\n",
       "      <td>Arcadia</td>\n",
       "      <td>Κρήτη</td>\n",
       "      <td>Κρήτη</td>\n",
       "      <td>Κρήτη</td>\n",
       "      <td>Σκύρος</td>\n",
       "      <td>Εσύ σαι δάσκαλος των δασκάλων</td>\n",
       "      <td>Αμοργός</td>\n",
       "      <td>Αμοργός</td>\n",
       "    </tr>\n",
       "    <tr>\n",
       "      <th>101843</th>\n",
       "      <td>Etolia</td>\n",
       "      <td>Λέσβος</td>\n",
       "      <td>Λέσβος</td>\n",
       "      <td>Αιτωλία</td>\n",
       "      <td>Ιωάννινα</td>\n",
       "      <td>Σα δε σ' αρέσ' πάρ' τ' βόλτα σου</td>\n",
       "      <td>Σκύρος</td>\n",
       "      <td>Σκύρος</td>\n",
       "    </tr>\n",
       "    <tr>\n",
       "      <th>48588</th>\n",
       "      <td>Heptanese</td>\n",
       "      <td>Ήπειρος</td>\n",
       "      <td>Αχαΐα</td>\n",
       "      <td>Επτάνησος</td>\n",
       "      <td>Αχαΐα</td>\n",
       "      <td>Η ζωή του κρέμεται σε μια κλωνά!</td>\n",
       "      <td>Αχαΐα</td>\n",
       "      <td>Αχαΐα</td>\n",
       "    </tr>\n",
       "    <tr>\n",
       "      <th>5930</th>\n",
       "      <td>Evia</td>\n",
       "      <td>Αχαΐα</td>\n",
       "      <td>Αχαΐα</td>\n",
       "      <td>Λέσβος</td>\n",
       "      <td>Εύβοια</td>\n",
       "      <td>Όταν ψάλλ' ο θειός τη θειά σου συ κατσούλωνε τ...</td>\n",
       "      <td>Μικρά Ασία</td>\n",
       "      <td>Μικρά Ασία</td>\n",
       "    </tr>\n",
       "    <tr>\n",
       "      <th>41861</th>\n",
       "      <td>Crete</td>\n",
       "      <td>Εύβοια</td>\n",
       "      <td>Εύβοια</td>\n",
       "      <td>Αμοργός</td>\n",
       "      <td>Αμοργός</td>\n",
       "      <td>Όποιο χέρι κοψ' η κρίσι δεν πονεί</td>\n",
       "      <td>Ιωάννινα</td>\n",
       "      <td>Ιωάννινα</td>\n",
       "    </tr>\n",
       "    <tr>\n",
       "      <th>40230</th>\n",
       "      <td>Cyprus</td>\n",
       "      <td>Ρόδος</td>\n",
       "      <td>Ρόδος</td>\n",
       "      <td>Αρκαδία</td>\n",
       "      <td>Θεσπρωτία</td>\n",
       "      <td>Τες πομπές τες δικές σου δεν τις βλέπεις</td>\n",
       "      <td>Αρκαδία</td>\n",
       "      <td>Αρκαδία</td>\n",
       "    </tr>\n",
       "    <tr>\n",
       "      <th>100727</th>\n",
       "      <td>Arcadia</td>\n",
       "      <td>Ήπειρος</td>\n",
       "      <td>Αρκαδία</td>\n",
       "      <td>Κύπρος</td>\n",
       "      <td>Θράκη</td>\n",
       "      <td>Αγοραστό – λιμαστό</td>\n",
       "      <td>Σκύρος</td>\n",
       "      <td>Σκύρος</td>\n",
       "    </tr>\n",
       "    <tr>\n",
       "      <th>52379</th>\n",
       "      <td>Arcadia</td>\n",
       "      <td>Μικρά Ασία</td>\n",
       "      <td>Αρκαδία</td>\n",
       "      <td>Αρκαδία</td>\n",
       "      <td>Αχαΐα</td>\n",
       "      <td>Το καρύδι φαίνεται απ' έξω γιερό! Ξέρεις τι έχ...</td>\n",
       "      <td>Αχαΐα</td>\n",
       "      <td>Αχαΐα</td>\n",
       "    </tr>\n",
       "    <tr>\n",
       "      <th>117966</th>\n",
       "      <td>Thesprotia</td>\n",
       "      <td>Αιτωλία</td>\n",
       "      <td>Νάξος</td>\n",
       "      <td>Θεσπρωτία</td>\n",
       "      <td>Αχαΐα</td>\n",
       "      <td>Ζοράκι Χστός ανέστ</td>\n",
       "      <td>Θράκη</td>\n",
       "      <td>Θράκη</td>\n",
       "    </tr>\n",
       "  </tbody>\n",
       "</table>\n",
       "</div>"
      ],
      "text/plain": [
       "                aa          lr      svm        knn         rf  \\\n",
       "100459        Evia      Λέσβος   Λέσβος     Λέσβος     Κύπρος   \n",
       "22087      Arcadia       Κρήτη    Κρήτη      Κρήτη     Σκύρος   \n",
       "101843      Etolia      Λέσβος   Λέσβος    Αιτωλία   Ιωάννινα   \n",
       "48588    Heptanese     Ήπειρος    Αχαΐα  Επτάνησος      Αχαΐα   \n",
       "5930          Evia       Αχαΐα    Αχαΐα     Λέσβος     Εύβοια   \n",
       "41861        Crete      Εύβοια   Εύβοια    Αμοργός    Αμοργός   \n",
       "40230       Cyprus       Ρόδος    Ρόδος    Αρκαδία  Θεσπρωτία   \n",
       "100727     Arcadia     Ήπειρος  Αρκαδία     Κύπρος      Θράκη   \n",
       "52379      Arcadia  Μικρά Ασία  Αρκαδία    Αρκαδία      Αχαΐα   \n",
       "117966  Thesprotia     Αιτωλία    Νάξος  Θεσπρωτία      Αχαΐα   \n",
       "\n",
       "                                                     text        gold  \\\n",
       "100459     Τι με μέλλει εμένα, για του Χατζιαλή τ' άρνια;   Θεσπρωτία   \n",
       "22087                       Εσύ σαι δάσκαλος των δασκάλων     Αμοργός   \n",
       "101843                   Σα δε σ' αρέσ' πάρ' τ' βόλτα σου      Σκύρος   \n",
       "48588                    Η ζωή του κρέμεται σε μια κλωνά!       Αχαΐα   \n",
       "5930    Όταν ψάλλ' ο θειός τη θειά σου συ κατσούλωνε τ...  Μικρά Ασία   \n",
       "41861                   Όποιο χέρι κοψ' η κρίσι δεν πονεί    Ιωάννινα   \n",
       "40230            Τες πομπές τες δικές σου δεν τις βλέπεις     Αρκαδία   \n",
       "100727                                 Αγοραστό – λιμαστό      Σκύρος   \n",
       "52379   Το καρύδι φαίνεται απ' έξω γιερό! Ξέρεις τι έχ...       Αχαΐα   \n",
       "117966                                 Ζοράκι Χστός ανέστ       Θράκη   \n",
       "\n",
       "              bert  \n",
       "100459   Θεσπρωτία  \n",
       "22087      Αμοργός  \n",
       "101843      Σκύρος  \n",
       "48588        Αχαΐα  \n",
       "5930    Μικρά Ασία  \n",
       "41861     Ιωάννινα  \n",
       "40230      Αρκαδία  \n",
       "100727      Σκύρος  \n",
       "52379        Αχαΐα  \n",
       "117966       Θράκη  "
      ]
     },
     "execution_count": 12,
     "metadata": {},
     "output_type": "execute_result"
    }
   ],
   "source": [
    "results_bert_lr_diff_bert_ok.head(10)"
   ]
  },
  {
   "cell_type": "code",
   "execution_count": 13,
   "metadata": {},
   "outputs": [
    {
     "data": {
      "text/plain": [
       "5.0"
      ]
     },
     "execution_count": 13,
     "metadata": {},
     "output_type": "execute_result"
    }
   ],
   "source": [
    "round(results_bert_lr_diff_bert_ok.apply(lambda x: len(set(x[1:5]))==1, \n",
    "                                         axis=1).mean()*100, 2)"
   ]
  },
  {
   "cell_type": "markdown",
   "metadata": {},
   "source": [
    "* When BERT and Logistic Regression disagree, where is Logistic\n",
    "  Regression correct?"
   ]
  },
  {
   "cell_type": "code",
   "execution_count": 14,
   "metadata": {},
   "outputs": [
    {
     "data": {
      "text/plain": [
       "gold\n",
       "Αιτωλία            9\n",
       "Επτάνησος          8\n",
       "Λέσβος             7\n",
       "Ήπειρος            4\n",
       "Σκύρος             4\n",
       "Μακεδονία          4\n",
       "Αρκαδία            3\n",
       "Νάξος              3\n",
       "Κρήτη              3\n",
       "Πόντος             2\n",
       "Ανατολική Θράκη    2\n",
       "Ιωάννινα           2\n",
       "Κάρπαθος           2\n",
       "Λακωνία            2\n",
       "Αμοργός            1\n",
       "Κεφαλληνία         1\n",
       "Κύπρος             1\n",
       "Θράκη              1\n",
       "Name: count, dtype: int64"
      ]
     },
     "execution_count": 14,
     "metadata": {},
     "output_type": "execute_result"
    }
   ],
   "source": [
    "results_bert_lr_diff_lr_ok = results_bert_lr_diff[\n",
    "    results_bert_lr_diff['lr'] == results_bert_lr_diff['gold']\n",
    "]\n",
    "results_bert_lr_diff_lr_ok_vc = results_bert_lr_diff_lr_ok['gold']\\\n",
    "    .value_counts()\n",
    "results_bert_lr_diff_lr_ok_vc"
   ]
  },
  {
   "cell_type": "code",
   "execution_count": 15,
   "metadata": {},
   "outputs": [
    {
     "data": {
      "image/png": "[encoded data removed]",
      "text/plain": [
       "<Figure size 1000x200 with 1 Axes>"
      ]
     },
     "metadata": {},
     "output_type": "display_data"
    }
   ],
   "source": [
    "_ = results_bert_lr_diff_lr_ok_vc.plot.bar(figsize=(10,2), rot=45)"
   ]
  },
  {
   "cell_type": "markdown",
   "metadata": {},
   "source": [
    "* Check how often the other models agree with Logistic Regression,\n",
    "  when Logistic Regression is correct and BERT is not."
   ]
  },
  {
   "cell_type": "code",
   "execution_count": 16,
   "metadata": {},
   "outputs": [
    {
     "data": {
      "text/html": [
       "<div>\n",
       "<style scoped>\n",
       "    .dataframe tbody tr th:only-of-type {\n",
       "        vertical-align: middle;\n",
       "    }\n",
       "\n",
       "    .dataframe tbody tr th {\n",
       "        vertical-align: top;\n",
       "    }\n",
       "\n",
       "    .dataframe thead th {\n",
       "        text-align: right;\n",
       "    }\n",
       "</style>\n",
       "<table border=\"1\" class=\"dataframe\">\n",
       "  <thead>\n",
       "    <tr style=\"text-align: right;\">\n",
       "      <th></th>\n",
       "      <th>aa</th>\n",
       "      <th>lr</th>\n",
       "      <th>svm</th>\n",
       "      <th>knn</th>\n",
       "      <th>rf</th>\n",
       "      <th>text</th>\n",
       "      <th>gold</th>\n",
       "      <th>bert</th>\n",
       "    </tr>\n",
       "  </thead>\n",
       "  <tbody>\n",
       "    <tr>\n",
       "      <th>20448</th>\n",
       "      <td>Naxos</td>\n",
       "      <td>Αμοργός</td>\n",
       "      <td>Αμοργός</td>\n",
       "      <td>Αμοργός</td>\n",
       "      <td>Ιωάννινα</td>\n",
       "      <td>Ανάθεμα που πίστευγε στων αδερφιών τ' αμάχι</td>\n",
       "      <td>Αμοργός</td>\n",
       "      <td>Κεφαλληνία</td>\n",
       "    </tr>\n",
       "    <tr>\n",
       "      <th>15441</th>\n",
       "      <td>Crete</td>\n",
       "      <td>Νάξος</td>\n",
       "      <td>Νάξος</td>\n",
       "      <td>Νάξος</td>\n",
       "      <td>Νάξος</td>\n",
       "      <td>Η αμαρτία θάνατο 'εννά</td>\n",
       "      <td>Νάξος</td>\n",
       "      <td>Ήπειρος</td>\n",
       "    </tr>\n",
       "    <tr>\n",
       "      <th>107223</th>\n",
       "      <td>Maced.</td>\n",
       "      <td>Λέσβος</td>\n",
       "      <td>Αιτωλία</td>\n",
       "      <td>Ανατολική Θράκη</td>\n",
       "      <td>Αιτωλία</td>\n",
       "      <td>“Διώξι μι γι θα σί διώξου” λέγ' η αράχνη</td>\n",
       "      <td>Λέσβος</td>\n",
       "      <td>Αιτωλία</td>\n",
       "    </tr>\n",
       "    <tr>\n",
       "      <th>70044</th>\n",
       "      <td>Thesprotia</td>\n",
       "      <td>Αιτωλία</td>\n",
       "      <td>Κύπρος</td>\n",
       "      <td>Κύπρος</td>\n",
       "      <td>Λέσβος</td>\n",
       "      <td>Μ' κίνει κουτσουπρυόβουλους</td>\n",
       "      <td>Αιτωλία</td>\n",
       "      <td>Ιωάννινα</td>\n",
       "    </tr>\n",
       "    <tr>\n",
       "      <th>61479</th>\n",
       "      <td>Thesprotia</td>\n",
       "      <td>Αρκαδία</td>\n",
       "      <td>Επτάνησος</td>\n",
       "      <td>Επτάνησος</td>\n",
       "      <td>Λακωνία</td>\n",
       "      <td>Έχει μυαλό από φελλό</td>\n",
       "      <td>Αρκαδία</td>\n",
       "      <td>Θεσπρωτία</td>\n",
       "    </tr>\n",
       "    <tr>\n",
       "      <th>109536</th>\n",
       "      <td>East Thrace</td>\n",
       "      <td>Ανατολική Θράκη</td>\n",
       "      <td>Ανατολική Θράκη</td>\n",
       "      <td>Νάξος</td>\n",
       "      <td>Ανατολική Θράκη</td>\n",
       "      <td>Γω τόσα τον σκύλο μου κι ο σκύλος την ουρά του</td>\n",
       "      <td>Ανατολική Θράκη</td>\n",
       "      <td>Μικρά Ασία</td>\n",
       "    </tr>\n",
       "    <tr>\n",
       "      <th>105383</th>\n",
       "      <td>East Thrace</td>\n",
       "      <td>Αρκαδία</td>\n",
       "      <td>Μακεδονία</td>\n",
       "      <td>Ανατολική Θράκη</td>\n",
       "      <td>Νάξος</td>\n",
       "      <td>Αντάρα και σιαντάρα κατσιαχούρχουρη γαϊδάρα!</td>\n",
       "      <td>Αρκαδία</td>\n",
       "      <td>Αχαΐα</td>\n",
       "    </tr>\n",
       "    <tr>\n",
       "      <th>102223</th>\n",
       "      <td>Kefalinia</td>\n",
       "      <td>Σκύρος</td>\n",
       "      <td>Σκύρος</td>\n",
       "      <td>Εύβοια</td>\n",
       "      <td>Σκύρος</td>\n",
       "      <td>Ως τ' Άη-Γιαννιού, τρζυγώνα, εν η φούρζα του χ...</td>\n",
       "      <td>Σκύρος</td>\n",
       "      <td>Κύπρος</td>\n",
       "    </tr>\n",
       "    <tr>\n",
       "      <th>899</th>\n",
       "      <td>Lesvos</td>\n",
       "      <td>Λέσβος</td>\n",
       "      <td>Λέσβος</td>\n",
       "      <td>Λέσβος</td>\n",
       "      <td>Αιτωλία</td>\n",
       "      <td>Σα ντρέπισι να βάλς ένα κόσινου μπρουστά σ'</td>\n",
       "      <td>Λέσβος</td>\n",
       "      <td>Ιωάννινα</td>\n",
       "    </tr>\n",
       "    <tr>\n",
       "      <th>30546</th>\n",
       "      <td>Heptanese</td>\n",
       "      <td>Επτάνησος</td>\n",
       "      <td>Επτάνησος</td>\n",
       "      <td>Λέσβος</td>\n",
       "      <td>Αμοργός</td>\n",
       "      <td>Από λόγον το λόγο</td>\n",
       "      <td>Επτάνησος</td>\n",
       "      <td>Αμοργός</td>\n",
       "    </tr>\n",
       "  </tbody>\n",
       "</table>\n",
       "</div>"
      ],
      "text/plain": [
       "                 aa               lr              svm              knn  \\\n",
       "20448         Naxos          Αμοργός          Αμοργός          Αμοργός   \n",
       "15441         Crete            Νάξος            Νάξος            Νάξος   \n",
       "107223       Maced.           Λέσβος          Αιτωλία  Ανατολική Θράκη   \n",
       "70044    Thesprotia          Αιτωλία           Κύπρος           Κύπρος   \n",
       "61479    Thesprotia          Αρκαδία        Επτάνησος        Επτάνησος   \n",
       "109536  East Thrace  Ανατολική Θράκη  Ανατολική Θράκη            Νάξος   \n",
       "105383  East Thrace          Αρκαδία        Μακεδονία  Ανατολική Θράκη   \n",
       "102223    Kefalinia           Σκύρος           Σκύρος           Εύβοια   \n",
       "899          Lesvos           Λέσβος           Λέσβος           Λέσβος   \n",
       "30546     Heptanese        Επτάνησος        Επτάνησος           Λέσβος   \n",
       "\n",
       "                     rf                                               text  \\\n",
       "20448          Ιωάννινα        Ανάθεμα που πίστευγε στων αδερφιών τ' αμάχι   \n",
       "15441             Νάξος                             Η αμαρτία θάνατο 'εννά   \n",
       "107223          Αιτωλία           “Διώξι μι γι θα σί διώξου” λέγ' η αράχνη   \n",
       "70044            Λέσβος                        Μ' κίνει κουτσουπρυόβουλους   \n",
       "61479           Λακωνία                               Έχει μυαλό από φελλό   \n",
       "109536  Ανατολική Θράκη     Γω τόσα τον σκύλο μου κι ο σκύλος την ουρά του   \n",
       "105383            Νάξος       Αντάρα και σιαντάρα κατσιαχούρχουρη γαϊδάρα!   \n",
       "102223           Σκύρος  Ως τ' Άη-Γιαννιού, τρζυγώνα, εν η φούρζα του χ...   \n",
       "899             Αιτωλία        Σα ντρέπισι να βάλς ένα κόσινου μπρουστά σ'   \n",
       "30546           Αμοργός                                  Από λόγον το λόγο   \n",
       "\n",
       "                   gold        bert  \n",
       "20448           Αμοργός  Κεφαλληνία  \n",
       "15441             Νάξος     Ήπειρος  \n",
       "107223           Λέσβος     Αιτωλία  \n",
       "70044           Αιτωλία    Ιωάννινα  \n",
       "61479           Αρκαδία   Θεσπρωτία  \n",
       "109536  Ανατολική Θράκη  Μικρά Ασία  \n",
       "105383          Αρκαδία       Αχαΐα  \n",
       "102223           Σκύρος      Κύπρος  \n",
       "899              Λέσβος    Ιωάννινα  \n",
       "30546         Επτάνησος     Αμοργός  "
      ]
     },
     "execution_count": 16,
     "metadata": {},
     "output_type": "execute_result"
    }
   ],
   "source": [
    "results_bert_lr_diff_lr_ok.head(10)"
   ]
  },
  {
   "cell_type": "code",
   "execution_count": 17,
   "metadata": {},
   "outputs": [
    {
     "data": {
      "text/plain": [
       "25.42"
      ]
     },
     "execution_count": 17,
     "metadata": {},
     "output_type": "execute_result"
    }
   ],
   "source": [
    "round(results_bert_lr_diff_lr_ok.apply(lambda x: len(set(x[1:5]))==1, \n",
    "                                       axis=1).mean()*100, 2)"
   ]
  },
  {
   "cell_type": "markdown",
   "metadata": {},
   "source": [
    "## How Similar Are the Predictions?"
   ]
  },
  {
   "cell_type": "markdown",
   "metadata": {},
   "source": [
    "* Check how similar the predictions of BERT and Logistic Regression\n",
    "  are, regardless of whether they are right or wrong."
   ]
  },
  {
   "cell_type": "code",
   "execution_count": 18,
   "metadata": {},
   "outputs": [
    {
     "data": {
      "text/plain": [
       "array([0.08108108, 0.19565217, 0.21153846, 0.20967742, 0.10204082,\n",
       "       0.2195122 , 0.17307692, 0.11428571, 0.16666667, 0.17142857,\n",
       "       0.16129032, 0.18421053, 0.19642857, 0.21428571, 0.58064516,\n",
       "       0.175     , 0.08333333, 0.17241379, 0.07692308, 0.26190476,\n",
       "       0.5       , 0.18421053, 0.33333333])"
      ]
     },
     "execution_count": 18,
     "metadata": {},
     "output_type": "execute_result"
    }
   ],
   "source": [
    "jaccard_scores = jaccard_score(results_df['bert'], \n",
    "                               results_df['lr'], \n",
    "                               average=None)\n",
    "jaccard_scores"
   ]
  },
  {
   "cell_type": "code",
   "execution_count": 19,
   "metadata": {},
   "outputs": [
    {
     "name": "stdout",
     "output_type": "stream",
     "text": [
      "Θεσπρωτία: 0.08108108108108109\n",
      "Εύβοια: 0.1956521739130435\n",
      "Ιωάννινα: 0.21153846153846154\n",
      "Πόντος: 0.20967741935483872\n",
      "Κρήτη: 0.10204081632653061\n",
      "Αμοργός: 0.21951219512195122\n",
      "Λακωνία: 0.17307692307692307\n",
      "Κεφαλληνία: 0.11428571428571428\n",
      "Ανατολική Θράκη: 0.16666666666666666\n",
      "Σκύρος: 0.17142857142857143\n",
      "Θράκη: 0.16129032258064516\n",
      "Αχαΐα: 0.18421052631578946\n",
      "Ρόδος: 0.19642857142857142\n",
      "Ήπειρος: 0.21428571428571427\n",
      "Κάρπαθος: 0.5806451612903226\n",
      "Αιτωλία: 0.175\n",
      "Αρκαδία: 0.08333333333333333\n",
      "Κύπρος: 0.1724137931034483\n",
      "Μακεδονία: 0.07692307692307693\n",
      "Επτάνησος: 0.2619047619047619\n",
      "Λέσβος: 0.5\n",
      "Μικρά Ασία: 0.18421052631578946\n",
      "Νάξος: 0.3333333333333333\n"
     ]
    }
   ],
   "source": [
    "for name, score in zip(results_df['bert'].unique(), jaccard_scores):\n",
    "    print(f\"{name}: {score}\") "
   ]
  },
  {
   "cell_type": "code",
   "execution_count": 20,
   "metadata": {},
   "outputs": [
    {
     "data": {
      "text/plain": [
       "0.21"
      ]
     },
     "execution_count": 20,
     "metadata": {},
     "output_type": "execute_result"
    }
   ],
   "source": [
    "weighted_jaccard_score = jaccard_score(results_df['bert'], \n",
    "                                       results_df['lr'], \n",
    "                                       average='weighted')\n",
    "round(weighted_jaccard_score, 2)"
   ]
  },
  {
   "cell_type": "markdown",
   "metadata": {},
   "source": [
    "## How Likely is One Model to Be Correct Given that the Other Model Is Correct?"
   ]
  },
  {
   "cell_type": "code",
   "execution_count": 21,
   "metadata": {},
   "outputs": [
    {
     "data": {
      "text/plain": [
       "59.39"
      ]
     },
     "execution_count": 21,
     "metadata": {},
     "output_type": "execute_result"
    }
   ],
   "source": [
    "results_bert_ok = results_df[results_df['bert'] == results_df['gold']]\n",
    "round((results_bert_ok['lr'] == results_bert_ok['bert']).mean()*100, 2)"
   ]
  },
  {
   "cell_type": "code",
   "execution_count": 22,
   "metadata": {},
   "outputs": [
    {
     "data": {
      "text/plain": [
       "66.48"
      ]
     },
     "execution_count": 22,
     "metadata": {},
     "output_type": "execute_result"
    }
   ],
   "source": [
    "results_lr_ok = results_df[results_df['lr'] == results_df['gold']]\n",
    "round((results_lr_ok['bert'] == results_lr_ok['lr']).mean()*100, 2)"
   ]
  }
 ],
 "metadata": {
  "kernelspec": {
   "display_name": "Python 3",
   "language": "python",
   "name": "python3"
  },
  "language_info": {
   "codemirror_mode": {
    "name": "ipython",
    "version": 3
   },
   "file_extension": ".py",
   "mimetype": "text/x-python",
   "name": "python",
   "nbconvert_exporter": "python",
   "pygments_lexer": "ipython3",
   "version": "3.11.8"
  }
 },
 "nbformat": 4,
 "nbformat_minor": 2
}
