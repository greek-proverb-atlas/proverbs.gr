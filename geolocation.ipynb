{
 "cells": [
  {
   "cell_type": "markdown",
   "metadata": {
    "colab_type": "text",
    "id": "view-in-github"
   },
   "source": [
    "<a href=\"https://colab.research.google.com/github/ipavlopoulos/paremia/blob/main/geolocation.ipynb\" target=\"_parent\"><img src=\"https://colab.research.google.com/assets/colab-badge.svg\" alt=\"Open In Colab\"/></a>"
   ]
  },
  {
   "cell_type": "markdown",
   "metadata": {
    "id": "pxxFvI4TbAKf"
   },
   "source": [
    "# Geolocation prediction of Greek proverbs\n",
    "\n",
    "* Using a collection of proverbs from the [Hellenic Folklore Research Centre](http://www.kentrolaografias.gr/) of the Academy of Athens\n",
    "* Using language modelling and text classification to geolocate proverbs whose information is not known.\n",
    "---\n"
   ]
  },
  {
   "cell_type": "code",
   "execution_count": 1,
   "metadata": {
    "id": "dQm9rqoXb9v8"
   },
   "outputs": [],
   "source": [
    "import pandas as pd\n",
    "import matplotlib.pyplot as plt\n",
    "import numpy as np\n",
    "import seaborn as sns\n",
    "from sklearn.model_selection import train_test_split\n",
    "from sklearn.metrics import *\n",
    "from sklearn.linear_model import LinearRegression, LogisticRegression\n",
    "from sklearn.neighbors import KNeighborsClassifier\n",
    "from sklearn.svm import LinearSVC\n",
    "from sklearn.ensemble import RandomForestClassifier\n",
    "from sklearn.feature_extraction.text import TfidfVectorizer\n",
    "from sklearn.pipeline import Pipeline\n",
    "\n",
    "import ast"
   ]
  },
  {
   "cell_type": "code",
   "execution_count": 2,
   "metadata": {
    "id": "XyQd70ImcrzX"
   },
   "outputs": [],
   "source": [
    "balanced_corpus = pd.read_csv(\"data/balanced_corpus.csv\", index_col=0)"
   ]
  },
  {
   "cell_type": "code",
   "execution_count": 3,
   "metadata": {
    "id": "eQjj2Lcgapux"
   },
   "outputs": [],
   "source": [
    "train, test = train_test_split(balanced_corpus, test_size=0.05, random_state=2023)\n",
    "train, dev = train_test_split(train, test_size=test.shape[0], random_state=2023)"
   ]
  },
  {
   "cell_type": "markdown",
   "metadata": {
    "id": "lT8WZYricW2D"
   },
   "source": [
    "## Authorship analysis\n"
   ]
  },
  {
   "cell_type": "code",
   "execution_count": 4,
   "metadata": {
    "id": "gmvhu05PcSUh"
   },
   "outputs": [],
   "source": [
    "%%capture\n",
    "!git clone https://github.com/ipavlopoulos/lm\n",
    "from lm.markov.models import LM"
   ]
  },
  {
   "cell_type": "markdown",
   "metadata": {
    "id": "DN0RXWb4cchP"
   },
   "source": [
    "* Training one language model per area, by sampling proverbs of that area"
   ]
  },
  {
   "cell_type": "code",
   "execution_count": 5,
   "metadata": {
    "id": "aq3fGpgPcUAm"
   },
   "outputs": [],
   "source": [
    "# building the local language models\n",
    "loc_name = {'Ρούμελη':'Roumeli', 'Κοζάνη':'Kozani', 'Κως':'Kos', 'Αδριανούπολη':'Adrian.', 'Νάουσα':'Naousa', 'Σέρρες':'Serres', 'Σίφνος': 'Sifnos', 'Ήπειρος':'Epirus', 'Αιτωλία':'Etolia', 'Αμοργός':'Amorgos', 'Ανατολική Θράκη': 'East Thrace',\n",
    "            'Αρκαδία':'Arcadia', 'Αχαΐα':'Achaia', 'Επτάνησος':'Eptanisos', 'Εύβοια':'Eyvoia', 'Θεσπρωτία':'Thesprotia', \n",
    "             'Θράκη': 'Thrace', 'Ιωάννινα':'Ioannina', 'Κάρπαθος':'Karpathos', 'Κεφαλληνία':'Kefalinia', 'Κρήτη':'Crete',\n",
    "            'Κύπρος':'Cyprus', 'Λέσβος':'Lesvos', 'Λακωνία':'Laconia', 'Μακεδονία':'Maced.', 'Μικρά Ασία':'Asia Minor',\n",
    "            'Νάξος':'Naxos', 'Πόντος':'Pontos', 'Ρόδος':'Rodos', 'Σκύρος':'Skyros'}\n",
    "models = {}\n",
    "for area in train.area.unique():\n",
    "    texts = train[train.area==area].text.values\n",
    "    models[loc_name[area]] = LM(gram=\"CHAR\").train(\" \\n \".join(texts))"
   ]
  },
  {
   "cell_type": "code",
   "execution_count": 6,
   "metadata": {
    "id": "2noxDr3mca4G"
   },
   "outputs": [],
   "source": [
    "def ling_dist(proverb, models=models):\n",
    "    '''\n",
    "    Compute the bits per character (BPC) for a given proverb using many local language models\n",
    "\n",
    "    Args:\n",
    "        proverb (str): a text\n",
    "        models (dict): a dictionary of language models, \n",
    "                       one per location\n",
    "        \n",
    "    Returns:\n",
    "        string: the location whose model predicts best the text \n",
    "        pd.DataFrame: BPC per location    \n",
    "    '''\n",
    "    entropy = {loc:[models[loc].cross_entropy(proverb.lower())] for loc in models.keys()}\n",
    "    likelier = min(entropy, key=entropy.get) \n",
    "    return likelier, pd.DataFrame(entropy)"
   ]
  },
  {
   "cell_type": "code",
   "execution_count": 7,
   "metadata": {
    "colab": {
     "base_uri": "https://localhost:8080/",
     "height": 191
    },
    "id": "eCuazKiJcfR4",
    "outputId": "8baab35f-f59e-474e-eddb-9e9cc6086e89"
   },
   "outputs": [
    {
     "data": {
      "text/html": [
       "<div>\n",
       "<style scoped>\n",
       "    .dataframe tbody tr th:only-of-type {\n",
       "        vertical-align: middle;\n",
       "    }\n",
       "\n",
       "    .dataframe tbody tr th {\n",
       "        vertical-align: top;\n",
       "    }\n",
       "\n",
       "    .dataframe thead th {\n",
       "        text-align: right;\n",
       "    }\n",
       "</style>\n",
       "<table border=\"1\" class=\"dataframe\">\n",
       "  <thead>\n",
       "    <tr style=\"text-align: right;\">\n",
       "      <th></th>\n",
       "      <th>Asia Minor</th>\n",
       "      <th>Ioannina</th>\n",
       "      <th>Karpathos</th>\n",
       "      <th>Crete</th>\n",
       "      <th>Thesprotia</th>\n",
       "      <th>Epirus</th>\n",
       "      <th>Kefalinia</th>\n",
       "      <th>Amorgos</th>\n",
       "      <th>Eptanisos</th>\n",
       "      <th>Cyprus</th>\n",
       "      <th>...</th>\n",
       "      <th>Achaia</th>\n",
       "      <th>Arcadia</th>\n",
       "      <th>Etolia</th>\n",
       "      <th>Pontos</th>\n",
       "      <th>Skyros</th>\n",
       "      <th>East Thrace</th>\n",
       "      <th>Thrace</th>\n",
       "      <th>Maced.</th>\n",
       "      <th>Naxos</th>\n",
       "      <th>Lesvos</th>\n",
       "    </tr>\n",
       "  </thead>\n",
       "  <tbody>\n",
       "    <tr>\n",
       "      <th>0</th>\n",
       "      <td>4.038577</td>\n",
       "      <td>4.313742</td>\n",
       "      <td>4.318077</td>\n",
       "      <td>4.4117</td>\n",
       "      <td>4.430579</td>\n",
       "      <td>4.492731</td>\n",
       "      <td>4.538359</td>\n",
       "      <td>4.863242</td>\n",
       "      <td>5.019258</td>\n",
       "      <td>5.063717</td>\n",
       "      <td>...</td>\n",
       "      <td>5.119214</td>\n",
       "      <td>5.133526</td>\n",
       "      <td>5.15317</td>\n",
       "      <td>5.18501</td>\n",
       "      <td>5.243022</td>\n",
       "      <td>5.250783</td>\n",
       "      <td>5.424325</td>\n",
       "      <td>5.457056</td>\n",
       "      <td>5.671837</td>\n",
       "      <td>6.209453</td>\n",
       "    </tr>\n",
       "  </tbody>\n",
       "</table>\n",
       "<p>1 rows × 23 columns</p>\n",
       "</div>"
      ],
      "text/plain": [
       "   Asia Minor  Ioannina  Karpathos   Crete  Thesprotia    Epirus  Kefalinia  \\\n",
       "0    4.038577  4.313742   4.318077  4.4117    4.430579  4.492731   4.538359   \n",
       "\n",
       "    Amorgos  Eptanisos    Cyprus  ...    Achaia   Arcadia   Etolia   Pontos  \\\n",
       "0  4.863242   5.019258  5.063717  ...  5.119214  5.133526  5.15317  5.18501   \n",
       "\n",
       "     Skyros  East Thrace    Thrace    Maced.     Naxos    Lesvos  \n",
       "0  5.243022     5.250783  5.424325  5.457056  5.671837  6.209453  \n",
       "\n",
       "[1 rows x 23 columns]"
      ]
     },
     "execution_count": 7,
     "metadata": {},
     "output_type": "execute_result"
    }
   ],
   "source": [
    "# use case\n",
    "loc, dists = ling_dist('κακόν χωριόν τσα λίγα σπίτιαν')\n",
    "dists.sort_values(by=0, ascending=True, axis=1)"
   ]
  },
  {
   "cell_type": "code",
   "execution_count": 8,
   "metadata": {
    "id": "CeVg347AchD1"
   },
   "outputs": [],
   "source": [
    "def logprob(txt, mdl):\n",
    "    '''Visualising the (log) probability per character for a given model\n",
    "    \n",
    "    Args:\n",
    "        txt (string): the character sequence\n",
    "        mdl (lm.markov.models.LM): the language model to be used to compute \n",
    "                                   the character probabilities\n",
    "        \n",
    "    Returns:\n",
    "        list: the log probs of the characters in the text \n",
    "    '''\n",
    "    probs = mdl.compute_gram_probs(txt)\n",
    "    logprobs = map(np.log2, probs)\n",
    "    return list(logprobs)\n",
    "\n",
    "\n",
    "def heatmap(txt, models):\n",
    "    ''' Creating a heatmap of the logprobs per local language model for a given text\n",
    "\n",
    "    Args:\n",
    "        txt (string): the text in question\n",
    "        models (dict): the language models (lm.markov.models.LM) to use to score the text\n",
    "        \n",
    "    Returns:\n",
    "        pd.DataFrame: the dataframe with the models' scores\n",
    "        ax: the heatmap\n",
    "    '''\n",
    "    plt.rcParams[\"figure.figsize\"] = (len(txt)/3,6); plt.rcParams[\"axes.labelsize\"] = 23;\n",
    "    probs = {loc: logprob(txt, models[loc]) for loc in models.keys()}\n",
    "    df = pd.DataFrame(probs, index=[str(c) for c in txt])\n",
    "    return df, sns.heatmap(df.transpose(), cmap=\"rocket_r\")"
   ]
  },
  {
   "cell_type": "code",
   "execution_count": 9,
   "metadata": {
    "colab": {
     "base_uri": "https://localhost:8080/",
     "height": 484
    },
    "id": "FuHIBEzrciao",
    "outputId": "a395b787-df36-4695-d6e7-56de885a386c"
   },
   "outputs": [
    {
     "name": "stdout",
     "output_type": "stream",
     "text": [
      "Του ακριβού το ψουμίν, ο λίμπουρος εν το τρώει (Κύπρος) -- predicted as: Eyvoia\n"
     ]
    },
    {
     "data": {
      "image/png": "[encoded data removed]",
      "text/plain": [
       "<Figure size 1533.33x600 with 2 Axes>"
      ]
     },
     "metadata": {},
     "output_type": "display_data"
    }
   ],
   "source": [
    "t = test[test.area==\"Κύπρος\"].sample().iloc[0]\n",
    "df, ax = heatmap(t.text, models)\n",
    "print(f'{t.text} ({t.area})', end=' -- ')\n",
    "print(f'predicted as: {df.columns[df.mean(0).argmax()]}')\n",
    "ax.figure.tight_layout(); ax.figure.savefig(\"heatmap.pdf\", format=\"PDF\", dpi=300)"
   ]
  },
  {
   "cell_type": "markdown",
   "metadata": {
    "id": "5Uyu_pMpcyAz"
   },
   "source": [
    "* Evaluating on unseen proverbs"
   ]
  },
  {
   "cell_type": "code",
   "execution_count": 10,
   "metadata": {
    "colab": {
     "base_uri": "https://localhost:8080/"
    },
    "id": "eGOI3UqUcjuv",
    "outputId": "f315a4d1-91b2-4c88-adf8-fefd593752ab"
   },
   "outputs": [
    {
     "name": "stdout",
     "output_type": "stream",
     "text": [
      "              precision    recall  f1-score   support\n",
      "\n",
      "      Achaia       0.14      0.12      0.13        32\n",
      "     Amorgos       0.19      0.14      0.16        22\n",
      "     Arcadia       0.08      0.06      0.07        31\n",
      "  Asia Minor       0.17      0.17      0.17        18\n",
      "       Crete       0.23      0.23      0.23        30\n",
      "      Cyprus       0.73      0.79      0.76        24\n",
      " East Thrace       0.12      0.17      0.14        24\n",
      "      Epirus       0.11      0.13      0.12        23\n",
      "   Eptanisos       0.25      0.35      0.29        23\n",
      "      Etolia       0.40      0.33      0.36        24\n",
      "      Eyvoia       0.07      0.15      0.10        20\n",
      "    Ioannina       0.17      0.14      0.15        29\n",
      "   Karpathos       0.37      0.25      0.30        28\n",
      "   Kefalinia       0.11      0.15      0.13        27\n",
      "     Laconia       0.04      0.04      0.04        27\n",
      "      Lesvos       0.45      0.38      0.41        24\n",
      "      Maced.       0.19      0.19      0.19        27\n",
      "       Naxos       0.34      0.42      0.38        24\n",
      "      Pontos       1.00      0.68      0.81        19\n",
      "       Rodos       0.24      0.27      0.26        22\n",
      "      Skyros       0.58      0.37      0.45        30\n",
      "  Thesprotia       0.08      0.09      0.09        22\n",
      "      Thrace       0.15      0.12      0.13        25\n",
      "\n",
      "    accuracy                           0.24       575\n",
      "   macro avg       0.27      0.25      0.25       575\n",
      "weighted avg       0.26      0.24      0.25       575\n",
      "\n"
     ]
    }
   ],
   "source": [
    "predictions = test.text.apply(lambda x: ling_dist(x, models=models)[0])\n",
    "gold = test.area.apply(lambda x: loc_name[x]).values\n",
    "print(classification_report(gold, predictions, zero_division=0))"
   ]
  },
  {
   "cell_type": "markdown",
   "metadata": {
    "id": "0orVps9Wc4fj"
   },
   "source": [
    "* The confusion matrix can inform us about the confusion in the predictions"
   ]
  },
  {
   "cell_type": "code",
   "execution_count": 11,
   "metadata": {
    "colab": {
     "base_uri": "https://localhost:8080/",
     "height": 607
    },
    "id": "pZVBv05WczgE",
    "outputId": "3008ba4f-0ddd-4039-8680-0f77625d628f"
   },
   "outputs": [
    {
     "data": {
      "image/png": "[encoded data removed]",
      "text/plain": [
       "<Figure size 600x600 with 1 Axes>"
      ]
     },
     "metadata": {},
     "output_type": "display_data"
    }
   ],
   "source": [
    "plt.rcParams[\"figure.figsize\"] = (6,6); plt.rcParams[\"axes.labelsize\"] = 12;\n",
    "cm = ConfusionMatrixDisplay.from_predictions(gold, predictions, xticks_rotation='vertical', colorbar=False);\n",
    "cm.figure_.tight_layout(); cm.figure_.savefig('authorship_confusion.pdf', format=\"PDF\", dpi=300)"
   ]
  },
  {
   "cell_type": "markdown",
   "metadata": {
    "id": "hrA3eHTRc9qT"
   },
   "source": [
    "* Benchmarking standard text classifiers, on top of chanracter n-grams"
   ]
  },
  {
   "cell_type": "code",
   "execution_count": 12,
   "metadata": {
    "colab": {
     "base_uri": "https://localhost:8080/"
    },
    "id": "15kPTs9tc5_G",
    "outputId": "a94bd6bc-41bf-41d3-9bbe-b36dc857ab17"
   },
   "outputs": [
    {
     "name": "stdout",
     "output_type": "stream",
     "text": [
      "n-gram: \"ία\" \t(tfidf: 0.21)\n",
      "n-gram: \"αρ\" \t(tfidf: 0.12)\n",
      "n-gram: \"αρο\" \t(tfidf: 0.21)\n",
      "n-gram: \"αροι\" \t(tfidf: 0.37)\n",
      "n-gram: \"ιμ\" \t(tfidf: 0.19)\n",
      "n-gram: \"ιμί\" \t(tfidf: 0.33)\n",
      "n-gram: \"ιμία\" \t(tfidf: 0.38)\n",
      "n-gram: \"μί\" \t(tfidf: 0.21)\n",
      "n-gram: \"μία\" \t(tfidf: 0.30)\n",
      "n-gram: \"οι\" \t(tfidf: 0.13)\n",
      "n-gram: \"οιμ\" \t(tfidf: 0.28)\n",
      "n-gram: \"πα\" \t(tfidf: 0.11)\n",
      "n-gram: \"παρ\" \t(tfidf: 0.18)\n",
      "n-gram: \"παρο\" \t(tfidf: 0.36)\n",
      "n-gram: \"ρο\" \t(tfidf: 0.12)\n",
      "n-gram: \"ροι\" \t(tfidf: 0.26)\n"
     ]
    }
   ],
   "source": [
    "vect = TfidfVectorizer(ngram_range=(2,5), # token sequences\n",
    "                       analyzer=\"char\", # tokens are characters\n",
    "                       max_df=0.5, # ignore tokens present in more than 50% of the texts\n",
    "                       min_df=2, # ignore tokens not present in at least two documents \n",
    "                       lowercase=True)\n",
    "vect.fit(train.text.values)\n",
    "rep_t = vect.transform(['παροιμία'])\n",
    "for i, feat in enumerate(rep_t.toarray()[0]):\n",
    "    if feat>0:\n",
    "        print(f'n-gram: \"{vect.get_feature_names_out()[i]}\" \\t(tfidf: {feat:.2f})')"
   ]
  },
  {
   "cell_type": "code",
   "execution_count": 13,
   "metadata": {
    "colab": {
     "base_uri": "https://localhost:8080/"
    },
    "id": "-2-kNvMwdIYJ",
    "outputId": "ff82bb65-84a2-45db-e652-2c2db0c410df"
   },
   "outputs": [
    {
     "name": "stdout",
     "output_type": "stream",
     "text": [
      "SVM\n",
      "                 precision    recall  f1-score   support\n",
      "\n",
      "        Ήπειρος       0.09      0.09      0.09        23\n",
      "        Αιτωλία       0.42      0.46      0.44        24\n",
      "        Αμοργός       0.26      0.32      0.29        22\n",
      "Ανατολική Θράκη       0.19      0.25      0.22        24\n",
      "        Αρκαδία       0.11      0.10      0.10        31\n",
      "          Αχαΐα       0.31      0.25      0.28        32\n",
      "      Επτάνησος       0.47      0.70      0.56        23\n",
      "         Εύβοια       0.06      0.05      0.05        20\n",
      "      Θεσπρωτία       0.11      0.09      0.10        22\n",
      "          Θράκη       0.26      0.20      0.23        25\n",
      "       Ιωάννινα       0.26      0.17      0.21        29\n",
      "       Κάρπαθος       0.42      0.39      0.41        28\n",
      "     Κεφαλληνία       0.25      0.22      0.24        27\n",
      "          Κρήτη       0.36      0.33      0.34        30\n",
      "         Κύπρος       0.70      0.96      0.81        24\n",
      "         Λέσβος       0.45      0.54      0.49        24\n",
      "        Λακωνία       0.10      0.07      0.09        27\n",
      "      Μακεδονία       0.35      0.30      0.32        27\n",
      "     Μικρά Ασία       0.20      0.11      0.14        18\n",
      "          Νάξος       0.44      0.58      0.50        24\n",
      "         Πόντος       0.73      0.84      0.78        19\n",
      "          Ρόδος       0.28      0.32      0.30        22\n",
      "         Σκύρος       0.54      0.63      0.58        30\n",
      "\n",
      "       accuracy                           0.34       575\n",
      "      macro avg       0.32      0.35      0.33       575\n",
      "   weighted avg       0.32      0.34      0.33       575\n",
      "\n",
      "KNN\n",
      "                 precision    recall  f1-score   support\n",
      "\n",
      "        Ήπειρος       0.06      0.22      0.09        23\n",
      "        Αιτωλία       0.21      0.42      0.28        24\n",
      "        Αμοργός       0.08      0.23      0.12        22\n",
      "Ανατολική Θράκη       0.06      0.12      0.08        24\n",
      "        Αρκαδία       0.14      0.19      0.16        31\n",
      "          Αχαΐα       0.22      0.22      0.22        32\n",
      "      Επτάνησος       0.20      0.17      0.19        23\n",
      "         Εύβοια       0.04      0.05      0.04        20\n",
      "      Θεσπρωτία       0.06      0.05      0.05        22\n",
      "          Θράκη       0.09      0.08      0.09        25\n",
      "       Ιωάννινα       0.25      0.14      0.18        29\n",
      "       Κάρπαθος       0.17      0.07      0.10        28\n",
      "     Κεφαλληνία       0.08      0.04      0.05        27\n",
      "          Κρήτη       0.29      0.13      0.18        30\n",
      "         Κύπρος       0.50      0.38      0.43        24\n",
      "         Λέσβος       0.56      0.38      0.45        24\n",
      "        Λακωνία       0.08      0.04      0.05        27\n",
      "      Μακεδονία       0.19      0.11      0.14        27\n",
      "     Μικρά Ασία       0.00      0.00      0.00        18\n",
      "          Νάξος       0.44      0.17      0.24        24\n",
      "         Πόντος       0.75      0.47      0.58        19\n",
      "          Ρόδος       0.27      0.14      0.18        22\n",
      "         Σκύρος       0.78      0.23      0.36        30\n",
      "\n",
      "       accuracy                           0.17       575\n",
      "      macro avg       0.24      0.18      0.19       575\n",
      "   weighted avg       0.24      0.17      0.19       575\n",
      "\n",
      "Forest\n",
      "                 precision    recall  f1-score   support\n",
      "\n",
      "        Ήπειρος       0.14      0.17      0.16        23\n",
      "        Αιτωλία       0.29      0.50      0.36        24\n",
      "        Αμοργός       0.10      0.14      0.12        22\n",
      "Ανατολική Θράκη       0.17      0.29      0.22        24\n",
      "        Αρκαδία       0.32      0.26      0.29        31\n",
      "          Αχαΐα       0.43      0.28      0.34        32\n",
      "      Επτάνησος       0.36      0.39      0.37        23\n",
      "         Εύβοια       0.00      0.00      0.00        20\n",
      "      Θεσπρωτία       0.20      0.18      0.19        22\n",
      "          Θράκη       0.24      0.20      0.22        25\n",
      "       Ιωάννινα       0.12      0.10      0.11        29\n",
      "       Κάρπαθος       0.47      0.32      0.38        28\n",
      "     Κεφαλληνία       0.08      0.04      0.05        27\n",
      "          Κρήτη       0.35      0.23      0.28        30\n",
      "         Κύπρος       0.54      0.83      0.66        24\n",
      "         Λέσβος       0.42      0.58      0.49        24\n",
      "        Λακωνία       0.09      0.07      0.08        27\n",
      "      Μακεδονία       0.29      0.15      0.20        27\n",
      "     Μικρά Ασία       0.00      0.00      0.00        18\n",
      "          Νάξος       0.34      0.46      0.39        24\n",
      "         Πόντος       0.43      0.68      0.53        19\n",
      "          Ρόδος       0.31      0.23      0.26        22\n",
      "         Σκύρος       0.48      0.67      0.56        30\n",
      "\n",
      "       accuracy                           0.30       575\n",
      "      macro avg       0.27      0.29      0.27       575\n",
      "   weighted avg       0.28      0.30      0.28       575\n",
      "\n",
      "LR\n",
      "                 precision    recall  f1-score   support\n",
      "\n",
      "        Ήπειρος       0.20      0.22      0.21        23\n",
      "        Αιτωλία       0.36      0.58      0.44        24\n",
      "        Αμοργός       0.13      0.18      0.15        22\n",
      "Ανατολική Θράκη       0.16      0.21      0.18        24\n",
      "        Αρκαδία       0.20      0.16      0.18        31\n",
      "          Αχαΐα       0.39      0.22      0.28        32\n",
      "      Επτάνησος       0.34      0.65      0.45        23\n",
      "         Εύβοια       0.06      0.05      0.05        20\n",
      "      Θεσπρωτία       0.05      0.05      0.05        22\n",
      "          Θράκη       0.25      0.16      0.20        25\n",
      "       Ιωάννινα       0.30      0.21      0.24        29\n",
      "       Κάρπαθος       0.40      0.29      0.33        28\n",
      "     Κεφαλληνία       0.14      0.11      0.12        27\n",
      "          Κρήτη       0.35      0.27      0.30        30\n",
      "         Κύπρος       0.72      0.75      0.73        24\n",
      "         Λέσβος       0.41      0.58      0.48        24\n",
      "        Λακωνία       0.12      0.07      0.09        27\n",
      "      Μακεδονία       0.37      0.26      0.30        27\n",
      "     Μικρά Ασία       0.00      0.00      0.00        18\n",
      "          Νάξος       0.31      0.46      0.37        24\n",
      "         Πόντος       0.71      0.79      0.75        19\n",
      "          Ρόδος       0.26      0.23      0.24        22\n",
      "         Σκύρος       0.45      0.60      0.51        30\n",
      "\n",
      "       accuracy                           0.31       575\n",
      "      macro avg       0.29      0.31      0.29       575\n",
      "   weighted avg       0.30      0.31      0.29       575\n",
      "\n"
     ]
    }
   ],
   "source": [
    "# benchmarking text classification algorithms\n",
    "def benchmark_clf(train, dev):\n",
    "    for algo_name, algorithm in (('SVM', LinearSVC), \n",
    "                                 ('KNN', KNeighborsClassifier),\n",
    "                                 ('Forest', RandomForestClassifier), \n",
    "                                 ('LR', LogisticRegression)):\n",
    "        vect = TfidfVectorizer(ngram_range=(2,5), analyzer=\"char\", max_df=0.5, min_df=2, lowercase=True)\n",
    "        locator = Pipeline([('vect', vect), ('clf', algorithm())]) \n",
    "        locator.fit(train.text.values, train.area.values) \n",
    "        preds = locator.predict(test.text.values) \n",
    "        print(f'{algo_name}\\n{classification_report(test.area.values, preds)}')\n",
    "\n",
    "benchmark_clf(train, dev)"
   ]
  },
  {
   "cell_type": "code",
   "execution_count": 14,
   "metadata": {
    "colab": {
     "base_uri": "https://localhost:8080/"
    },
    "id": "pg2_g8Sflfns",
    "outputId": "f0db68de-9b19-467d-a0a9-74c7e349d166"
   },
   "outputs": [
    {
     "name": "stdout",
     "output_type": "stream",
     "text": [
      "                 precision    recall  f1-score   support\n",
      "\n",
      "        Ήπειρος       0.09      0.09      0.09        23\n",
      "        Αιτωλία       0.42      0.46      0.44        24\n",
      "        Αμοργός       0.26      0.32      0.29        22\n",
      "Ανατολική Θράκη       0.19      0.25      0.22        24\n",
      "        Αρκαδία       0.11      0.10      0.10        31\n",
      "          Αχαΐα       0.31      0.25      0.28        32\n",
      "      Επτάνησος       0.47      0.70      0.56        23\n",
      "         Εύβοια       0.06      0.05      0.05        20\n",
      "      Θεσπρωτία       0.11      0.09      0.10        22\n",
      "          Θράκη       0.26      0.20      0.23        25\n",
      "       Ιωάννινα       0.26      0.17      0.21        29\n",
      "       Κάρπαθος       0.42      0.39      0.41        28\n",
      "     Κεφαλληνία       0.25      0.22      0.24        27\n",
      "          Κρήτη       0.36      0.33      0.34        30\n",
      "         Κύπρος       0.70      0.96      0.81        24\n",
      "         Λέσβος       0.45      0.54      0.49        24\n",
      "        Λακωνία       0.10      0.07      0.09        27\n",
      "      Μακεδονία       0.35      0.30      0.32        27\n",
      "     Μικρά Ασία       0.20      0.11      0.14        18\n",
      "          Νάξος       0.44      0.58      0.50        24\n",
      "         Πόντος       0.73      0.84      0.78        19\n",
      "          Ρόδος       0.28      0.32      0.30        22\n",
      "         Σκύρος       0.54      0.63      0.58        30\n",
      "\n",
      "       accuracy                           0.34       575\n",
      "      macro avg       0.32      0.35      0.33       575\n",
      "   weighted avg       0.32      0.34      0.33       575\n",
      "\n"
     ]
    }
   ],
   "source": [
    "# inference on test data:\n",
    "predictor_clf = Pipeline([('vect', vect), ('clf', LinearSVC())]) \n",
    "predictor_clf.fit(train.text.values, train.area.values) \n",
    "predictions_clf = predictor_clf.predict(test.text.values) \n",
    "print(classification_report(test.area.values, predictions_clf))"
   ]
  },
  {
   "cell_type": "markdown",
   "metadata": {
    "id": "I-12RHKwd6Fa"
   },
   "source": [
    "## Predicting the location of proverbs\n",
    "* Focusing on ones which are shared in multiple locations"
   ]
  },
  {
   "cell_type": "code",
   "execution_count": 15,
   "metadata": {
    "id": "ZMK3gOrQeiMK",
    "outputId": "9ce3b15f-1fe3-4be3-b3a9-9fb086b7187f"
   },
   "outputs": [
    {
     "data": {
      "text/html": [
       "<div>\n",
       "<style scoped>\n",
       "    .dataframe tbody tr th:only-of-type {\n",
       "        vertical-align: middle;\n",
       "    }\n",
       "\n",
       "    .dataframe tbody tr th {\n",
       "        vertical-align: top;\n",
       "    }\n",
       "\n",
       "    .dataframe thead th {\n",
       "        text-align: right;\n",
       "    }\n",
       "</style>\n",
       "<table border=\"1\" class=\"dataframe\">\n",
       "  <thead>\n",
       "    <tr style=\"text-align: right;\">\n",
       "      <th></th>\n",
       "      <th>text</th>\n",
       "      <th>place</th>\n",
       "      <th>place_num</th>\n",
       "      <th>area</th>\n",
       "      <th>area_num</th>\n",
       "      <th>latlon</th>\n",
       "    </tr>\n",
       "  </thead>\n",
       "  <tbody>\n",
       "    <tr>\n",
       "      <th>0</th>\n",
       "      <td>(Ε)πήρε βάγια</td>\n",
       "      <td>{Λακωνία, Ήπειρος}</td>\n",
       "      <td>2</td>\n",
       "      <td>{Λακωνία, Ήπειρος}</td>\n",
       "      <td>2</td>\n",
       "      <td>[(37.9574332, 23.7108518), (36.76027945, 22.79...</td>\n",
       "    </tr>\n",
       "    <tr>\n",
       "      <th>1</th>\n",
       "      <td>Άβολος ο νους, διπλός ο κόπος</td>\n",
       "      <td>{Νίσυρος, Μικρά Ασία&gt;Τσεσμές (Κρήνη)}</td>\n",
       "      <td>2</td>\n",
       "      <td>{Νίσυρος, Μικρά Ασία}</td>\n",
       "      <td>2</td>\n",
       "      <td>[(36.58904575, 27.16918402255752), (38.1846366...</td>\n",
       "    </tr>\n",
       "    <tr>\n",
       "      <th>2</th>\n",
       "      <td>Άβουλος νους διπλός κόπος</td>\n",
       "      <td>{Θράκη&gt;Αίνος, Θήρα (Σαντορίνη)}</td>\n",
       "      <td>2</td>\n",
       "      <td>{Θράκη, Θήρα (Σαντορίνη)}</td>\n",
       "      <td>2</td>\n",
       "      <td>[(40.8464241, 25.8759377), (36.4044251, 25.395...</td>\n",
       "    </tr>\n",
       "    <tr>\n",
       "      <th>3</th>\n",
       "      <td>Άβουλος νους, διπλός ο κόπος</td>\n",
       "      <td>{Αμοργός, Κρήτη, Ρόδος}</td>\n",
       "      <td>3</td>\n",
       "      <td>{Αμοργός, Κρήτη, Ρόδος}</td>\n",
       "      <td>3</td>\n",
       "      <td>[(36.85252415, 25.89848696771565), (35.3084952...</td>\n",
       "    </tr>\n",
       "    <tr>\n",
       "      <th>4</th>\n",
       "      <td>Άβουλος ο νους διπλός ο κόπος</td>\n",
       "      <td>{Σάμος&gt;Μαραθόκαμπος, Θράκη&gt;Μάδυτος, Ρόδος, Θρά...</td>\n",
       "      <td>5</td>\n",
       "      <td>{Θράκη, Σάμος, Ήπειρος, Ρόδος}</td>\n",
       "      <td>4</td>\n",
       "      <td>[(40.8464241, 25.8759377), (37.9574332, 23.710...</td>\n",
       "    </tr>\n",
       "    <tr>\n",
       "      <th>...</th>\n",
       "      <td>...</td>\n",
       "      <td>...</td>\n",
       "      <td>...</td>\n",
       "      <td>...</td>\n",
       "      <td>...</td>\n",
       "      <td>...</td>\n",
       "    </tr>\n",
       "    <tr>\n",
       "      <th>3199</th>\n",
       "      <td>ο παθός, μαθός</td>\n",
       "      <td>{Λέρος, Αργολίδα&gt;Σχοινοχώρι}</td>\n",
       "      <td>2</td>\n",
       "      <td>{Λέρος, Αργολίδα}</td>\n",
       "      <td>2</td>\n",
       "      <td>[(37.56626615, 22.85593894780862), (37.1494507...</td>\n",
       "    </tr>\n",
       "    <tr>\n",
       "      <th>3200</th>\n",
       "      <td>πονάει το δόντι</td>\n",
       "      <td>{Θεσσαλία&gt;Τρίκαλα, Φωκίδα}</td>\n",
       "      <td>2</td>\n",
       "      <td>{Θεσσαλία, Φωκίδα}</td>\n",
       "      <td>2</td>\n",
       "      <td>[(38.4998681, 22.24878032919352), (39.5594194,...</td>\n",
       "    </tr>\n",
       "    <tr>\n",
       "      <th>3201</th>\n",
       "      <td>που Πάτρα, που Φλομίτσι!</td>\n",
       "      <td>{Μεσσηνία&gt;Αβία&gt;Κάμπος, Μάνη&gt;Αβία}</td>\n",
       "      <td>2</td>\n",
       "      <td>{Μεσσηνία, Μάνη}</td>\n",
       "      <td>2</td>\n",
       "      <td>[(36.986899050000005, 21.82712495001949), (41....</td>\n",
       "    </tr>\n",
       "    <tr>\n",
       "      <th>3202</th>\n",
       "      <td>τού έδειξε τα δόντια</td>\n",
       "      <td>{Αρκαδία&gt;Τεγέα, Εύβοια}</td>\n",
       "      <td>2</td>\n",
       "      <td>{Εύβοια, Αρκαδία}</td>\n",
       "      <td>2</td>\n",
       "      <td>[(38.0368583, 23.6689264), (38.49417235, 23.91...</td>\n",
       "    </tr>\n",
       "    <tr>\n",
       "      <th>3203</th>\n",
       "      <td>τού'δειξε τα δόντια</td>\n",
       "      <td>{Μεσσηνία&gt;Ζέγα, Λακωνία&gt;Αναβρυτή}</td>\n",
       "      <td>2</td>\n",
       "      <td>{Μεσσηνία, Λακωνία}</td>\n",
       "      <td>2</td>\n",
       "      <td>[(36.986899050000005, 21.82712495001949), (36....</td>\n",
       "    </tr>\n",
       "  </tbody>\n",
       "</table>\n",
       "<p>3204 rows × 6 columns</p>\n",
       "</div>"
      ],
      "text/plain": [
       "                               text  \\\n",
       "0                     (Ε)πήρε βάγια   \n",
       "1     Άβολος ο νους, διπλός ο κόπος   \n",
       "2         Άβουλος νους διπλός κόπος   \n",
       "3      Άβουλος νους, διπλός ο κόπος   \n",
       "4     Άβουλος ο νους διπλός ο κόπος   \n",
       "...                             ...   \n",
       "3199                 ο παθός, μαθός   \n",
       "3200                πονάει το δόντι   \n",
       "3201       που Πάτρα, που Φλομίτσι!   \n",
       "3202           τού έδειξε τα δόντια   \n",
       "3203            τού'δειξε τα δόντια   \n",
       "\n",
       "                                                  place  place_num  \\\n",
       "0                                    {Λακωνία, Ήπειρος}          2   \n",
       "1                 {Νίσυρος, Μικρά Ασία>Τσεσμές (Κρήνη)}          2   \n",
       "2                       {Θράκη>Αίνος, Θήρα (Σαντορίνη)}          2   \n",
       "3                               {Αμοργός, Κρήτη, Ρόδος}          3   \n",
       "4     {Σάμος>Μαραθόκαμπος, Θράκη>Μάδυτος, Ρόδος, Θρά...          5   \n",
       "...                                                 ...        ...   \n",
       "3199                       {Λέρος, Αργολίδα>Σχοινοχώρι}          2   \n",
       "3200                         {Θεσσαλία>Τρίκαλα, Φωκίδα}          2   \n",
       "3201                  {Μεσσηνία>Αβία>Κάμπος, Μάνη>Αβία}          2   \n",
       "3202                            {Αρκαδία>Τεγέα, Εύβοια}          2   \n",
       "3203                  {Μεσσηνία>Ζέγα, Λακωνία>Αναβρυτή}          2   \n",
       "\n",
       "                                area  area_num  \\\n",
       "0                 {Λακωνία, Ήπειρος}         2   \n",
       "1              {Νίσυρος, Μικρά Ασία}         2   \n",
       "2          {Θράκη, Θήρα (Σαντορίνη)}         2   \n",
       "3            {Αμοργός, Κρήτη, Ρόδος}         3   \n",
       "4     {Θράκη, Σάμος, Ήπειρος, Ρόδος}         4   \n",
       "...                              ...       ...   \n",
       "3199               {Λέρος, Αργολίδα}         2   \n",
       "3200              {Θεσσαλία, Φωκίδα}         2   \n",
       "3201                {Μεσσηνία, Μάνη}         2   \n",
       "3202               {Εύβοια, Αρκαδία}         2   \n",
       "3203             {Μεσσηνία, Λακωνία}         2   \n",
       "\n",
       "                                                 latlon  \n",
       "0     [(37.9574332, 23.7108518), (36.76027945, 22.79...  \n",
       "1     [(36.58904575, 27.16918402255752), (38.1846366...  \n",
       "2     [(40.8464241, 25.8759377), (36.4044251, 25.395...  \n",
       "3     [(36.85252415, 25.89848696771565), (35.3084952...  \n",
       "4     [(40.8464241, 25.8759377), (37.9574332, 23.710...  \n",
       "...                                                 ...  \n",
       "3199  [(37.56626615, 22.85593894780862), (37.1494507...  \n",
       "3200  [(38.4998681, 22.24878032919352), (39.5594194,...  \n",
       "3201  [(36.986899050000005, 21.82712495001949), (41....  \n",
       "3202  [(38.0368583, 23.6689264), (38.49417235, 23.91...  \n",
       "3203  [(36.986899050000005, 21.82712495001949), (36....  \n",
       "\n",
       "[3204 rows x 6 columns]"
      ]
     },
     "execution_count": 15,
     "metadata": {},
     "output_type": "execute_result"
    }
   ],
   "source": [
    "duplicates = pd.read_csv('data/duplicates_geolocated.csv')\n",
    "duplicates['place'] = duplicates['place'].apply(ast.literal_eval)\n",
    "duplicates['area'] = duplicates['area'].apply(ast.literal_eval)\n",
    "duplicates"
   ]
  },
  {
   "cell_type": "code",
   "execution_count": 16,
   "metadata": {
    "colab": {
     "base_uri": "https://localhost:8080/",
     "height": 368
    },
    "id": "VvgaPQzyd4ii",
    "outputId": "92772be1-e8c0-4319-80ce-c032d34c299c"
   },
   "outputs": [
    {
     "data": {
      "text/html": [
       "<div>\n",
       "<style scoped>\n",
       "    .dataframe tbody tr th:only-of-type {\n",
       "        vertical-align: middle;\n",
       "    }\n",
       "\n",
       "    .dataframe tbody tr th {\n",
       "        vertical-align: top;\n",
       "    }\n",
       "\n",
       "    .dataframe thead th {\n",
       "        text-align: right;\n",
       "    }\n",
       "</style>\n",
       "<table border=\"1\" class=\"dataframe\">\n",
       "  <thead>\n",
       "    <tr style=\"text-align: right;\">\n",
       "      <th></th>\n",
       "      <th>text</th>\n",
       "      <th>place</th>\n",
       "      <th>place_num</th>\n",
       "      <th>area</th>\n",
       "      <th>prediction</th>\n",
       "      <th>area_num</th>\n",
       "      <th>latlon</th>\n",
       "    </tr>\n",
       "  </thead>\n",
       "  <tbody>\n",
       "    <tr>\n",
       "      <th>0</th>\n",
       "      <td>(Ε)πήρε βάγια</td>\n",
       "      <td>{Λακωνία, Ήπειρος}</td>\n",
       "      <td>2</td>\n",
       "      <td>{Λακωνία, Ήπειρος}</td>\n",
       "      <td>Ήπειρος</td>\n",
       "      <td>2</td>\n",
       "      <td>[(37.9574332, 23.7108518), (36.76027945, 22.79...</td>\n",
       "    </tr>\n",
       "    <tr>\n",
       "      <th>2117</th>\n",
       "      <td>Ξένοι πόνοι ξένα γέλια</td>\n",
       "      <td>{Κάλυμνος, Ρόδος}</td>\n",
       "      <td>2</td>\n",
       "      <td>{Κάλυμνος, Ρόδος}</td>\n",
       "      <td>Ρόδος</td>\n",
       "      <td>2</td>\n",
       "      <td>[(37.00262545, 26.992424179156217), (36.172629...</td>\n",
       "    </tr>\n",
       "    <tr>\n",
       "      <th>2094</th>\n",
       "      <td>Νιός ήμουν και γέρασα</td>\n",
       "      <td>{Αμοργός, Μικρά Ασία&gt;Βουρλά}</td>\n",
       "      <td>2</td>\n",
       "      <td>{Αμοργός, Μικρά Ασία}</td>\n",
       "      <td>Μικρά Ασία</td>\n",
       "      <td>2</td>\n",
       "      <td>[(36.85252415, 25.89848696771565), (38.1846366...</td>\n",
       "    </tr>\n",
       "    <tr>\n",
       "      <th>2089</th>\n",
       "      <td>Νηστικιά αρκούδα δε χορεύει</td>\n",
       "      <td>{Μικρά Ασία&gt;Κυδωνία, Κεφαλληνία&gt;Ομαλά}</td>\n",
       "      <td>2</td>\n",
       "      <td>{Κεφαλληνία, Μικρά Ασία}</td>\n",
       "      <td>Κεφαλληνία</td>\n",
       "      <td>2</td>\n",
       "      <td>[(38.2379344, 20.560883), (38.1846366, 23.5122...</td>\n",
       "    </tr>\n",
       "    <tr>\n",
       "      <th>2085</th>\n",
       "      <td>Νηστεύει ο δούλος του Θεού, γιατί ψωμί δεν έχει!</td>\n",
       "      <td>{Ήπειρος, Αχαΐα&gt;Πάτρα}</td>\n",
       "      <td>2</td>\n",
       "      <td>{Αχαΐα, Ήπειρος}</td>\n",
       "      <td>Αχαΐα</td>\n",
       "      <td>2</td>\n",
       "      <td>[(38.0692748, 21.87273042232539), (37.9574332,...</td>\n",
       "    </tr>\n",
       "  </tbody>\n",
       "</table>\n",
       "</div>"
      ],
      "text/plain": [
       "                                                  text  \\\n",
       "0                                        (Ε)πήρε βάγια   \n",
       "2117                            Ξένοι πόνοι ξένα γέλια   \n",
       "2094                             Νιός ήμουν και γέρασα   \n",
       "2089                       Νηστικιά αρκούδα δε χορεύει   \n",
       "2085  Νηστεύει ο δούλος του Θεού, γιατί ψωμί δεν έχει!   \n",
       "\n",
       "                                       place  place_num  \\\n",
       "0                         {Λακωνία, Ήπειρος}          2   \n",
       "2117                       {Κάλυμνος, Ρόδος}          2   \n",
       "2094            {Αμοργός, Μικρά Ασία>Βουρλά}          2   \n",
       "2089  {Μικρά Ασία>Κυδωνία, Κεφαλληνία>Ομαλά}          2   \n",
       "2085                  {Ήπειρος, Αχαΐα>Πάτρα}          2   \n",
       "\n",
       "                          area  prediction  area_num  \\\n",
       "0           {Λακωνία, Ήπειρος}     Ήπειρος         2   \n",
       "2117         {Κάλυμνος, Ρόδος}       Ρόδος         2   \n",
       "2094     {Αμοργός, Μικρά Ασία}  Μικρά Ασία         2   \n",
       "2089  {Κεφαλληνία, Μικρά Ασία}  Κεφαλληνία         2   \n",
       "2085          {Αχαΐα, Ήπειρος}       Αχαΐα         2   \n",
       "\n",
       "                                                 latlon  \n",
       "0     [(37.9574332, 23.7108518), (36.76027945, 22.79...  \n",
       "2117  [(37.00262545, 26.992424179156217), (36.172629...  \n",
       "2094  [(36.85252415, 25.89848696771565), (38.1846366...  \n",
       "2089  [(38.2379344, 20.560883), (38.1846366, 23.5122...  \n",
       "2085  [(38.0692748, 21.87273042232539), (37.9574332,...  "
      ]
     },
     "execution_count": 16,
     "metadata": {},
     "output_type": "execute_result"
    }
   ],
   "source": [
    "# showing cases when only two candidate area exist and the model said one \n",
    "duplicates.insert(4, \"prediction\", predictor_clf.predict(duplicates.text))\n",
    "duplicate_dilemma = duplicates.apply(lambda row: (row.area_num==2)&(row.prediction in row.area), 1)\n",
    "duplicates[duplicate_dilemma].sort_values(by=\"place_num\").head(5)"
   ]
  },
  {
   "cell_type": "markdown",
   "metadata": {
    "id": "2pBGLxTSmMzB"
   },
   "source": [
    "* Showing on ones our classifier said Cyrpus"
   ]
  },
  {
   "cell_type": "code",
   "execution_count": 17,
   "metadata": {
    "colab": {
     "base_uri": "https://localhost:8080/",
     "height": 173
    },
    "id": "neOnr6gcfTMd",
    "outputId": "87e01525-2852-4d2c-8b6c-90a75e26a8e2"
   },
   "outputs": [
    {
     "data": {
      "text/html": [
       "<div>\n",
       "<style scoped>\n",
       "    .dataframe tbody tr th:only-of-type {\n",
       "        vertical-align: middle;\n",
       "    }\n",
       "\n",
       "    .dataframe tbody tr th {\n",
       "        vertical-align: top;\n",
       "    }\n",
       "\n",
       "    .dataframe thead th {\n",
       "        text-align: right;\n",
       "    }\n",
       "</style>\n",
       "<table border=\"1\" class=\"dataframe\">\n",
       "  <thead>\n",
       "    <tr style=\"text-align: right;\">\n",
       "      <th></th>\n",
       "      <th>text</th>\n",
       "      <th>place</th>\n",
       "      <th>place_num</th>\n",
       "      <th>area</th>\n",
       "      <th>prediction</th>\n",
       "      <th>area_num</th>\n",
       "      <th>latlon</th>\n",
       "    </tr>\n",
       "  </thead>\n",
       "  <tbody>\n",
       "    <tr>\n",
       "      <th>3057</th>\n",
       "      <td>Του κλέφτη κλέφτεις του;</td>\n",
       "      <td>{Κύπρος&gt;Κυθραία, Λακωνία, Κύπρος}</td>\n",
       "      <td>3</td>\n",
       "      <td>{Λακωνία, Κύπρος}</td>\n",
       "      <td>Κύπρος</td>\n",
       "      <td>2</td>\n",
       "      <td>[(34.9823018, 33.1451285), (36.76027945, 22.79...</td>\n",
       "    </tr>\n",
       "  </tbody>\n",
       "</table>\n",
       "</div>"
      ],
      "text/plain": [
       "                          text                              place  place_num  \\\n",
       "3057  Του κλέφτη κλέφτεις του;  {Κύπρος>Κυθραία, Λακωνία, Κύπρος}          3   \n",
       "\n",
       "                   area prediction  area_num  \\\n",
       "3057  {Λακωνία, Κύπρος}     Κύπρος         2   \n",
       "\n",
       "                                                 latlon  \n",
       "3057  [(34.9823018, 33.1451285), (36.76027945, 22.79...  "
      ]
     },
     "execution_count": 17,
     "metadata": {},
     "output_type": "execute_result"
    }
   ],
   "source": [
    "is_it_cyprus = duplicates.apply(lambda row: (row.prediction=='Κύπρος')&(row.prediction in row.area), 1)\n",
    "duplicates[is_it_cyprus]"
   ]
  },
  {
   "cell_type": "markdown",
   "metadata": {
    "id": "zBp6QrYgf7MI"
   },
   "source": [
    "## Regression on the coordinates\n",
    "* Instead of classifying, predicting the geographical coordinates.\n",
    "* Linear regression provides feature importance, i.e., terms that distinguish spatially, from South to North, from West to East. "
   ]
  },
  {
   "cell_type": "code",
   "execution_count": 18,
   "metadata": {
    "id": "dXQh_RYPeyJJ"
   },
   "outputs": [
    {
     "name": "stderr",
     "output_type": "stream",
     "text": [
      "[I 2023-06-07 22:54:41,442] A new study created in memory with name: no-name-2e5e41fa-997b-4209-8834-26aa248eeb3a\n",
      "[I 2023-06-07 22:54:42,218] Trial 0 finished with value: 0.12157069318821215 and parameters: {'regressor': 'LinearRegression'}. Best is trial 0 with value: 0.12157069318821215.\n",
      "[I 2023-06-07 22:54:42,523] Trial 1 finished with value: 0.12157069318821215 and parameters: {'regressor': 'LinearRegression'}. Best is trial 0 with value: 0.12157069318821215.\n",
      "[I 2023-06-07 22:54:43,673] Trial 2 finished with value: 0.1134337043245528 and parameters: {'regressor': 'ExtraTreesRegressor', 'n_estimators': 434, 'max_depth': 6, 'min_samples_split': 2, 'min_samples_leaf': 2}. Best is trial 0 with value: 0.12157069318821215.\n",
      "[I 2023-06-07 22:54:44,462] Trial 3 finished with value: -0.5972544800274928 and parameters: {'regressor': 'KNeighborsRegressor', 'n_neighbors': 1, 'weights': 'uniform', 'p': 1}. Best is trial 0 with value: 0.12157069318821215.\n",
      "[I 2023-06-07 22:54:44,770] Trial 4 finished with value: 0.05508244157673888 and parameters: {'regressor': 'KNeighborsRegressor', 'n_neighbors': 15, 'weights': 'uniform', 'p': 2}. Best is trial 0 with value: 0.12157069318821215.\n",
      "[I 2023-06-07 22:54:44,857] Trial 5 finished with value: 0.12157069318821215 and parameters: {'regressor': 'LinearRegression'}. Best is trial 0 with value: 0.12157069318821215.\n",
      "[I 2023-06-07 22:54:45,207] Trial 6 finished with value: 0.1149358440776365 and parameters: {'regressor': 'ExtraTreesRegressor', 'n_estimators': 115, 'max_depth': 7, 'min_samples_split': 7, 'min_samples_leaf': 9}. Best is trial 0 with value: 0.12157069318821215.\n",
      "[I 2023-06-07 22:54:45,303] Trial 7 finished with value: 0.12157069318821215 and parameters: {'regressor': 'LinearRegression'}. Best is trial 0 with value: 0.12157069318821215.\n",
      "[I 2023-06-07 22:54:45,390] Trial 8 finished with value: 0.12157069318821215 and parameters: {'regressor': 'LinearRegression'}. Best is trial 0 with value: 0.12157069318821215.\n",
      "[I 2023-06-07 22:54:45,465] Trial 9 finished with value: -0.0004066991582208246 and parameters: {'regressor': 'ElasticNet', 'alpha': 0.5636354543417929, 'l1_ratio': 0.18238249564251852}. Best is trial 0 with value: 0.12157069318821215.\n",
      "[I 2023-06-07 22:54:49,028] Trial 10 finished with value: 0.12914413579967374 and parameters: {'regressor': 'RandomForestRegressor', 'n_estimators': 196, 'max_depth': 29, 'min_samples_split': 10, 'min_samples_leaf': 10}. Best is trial 10 with value: 0.12914413579967374.\n",
      "[I 2023-06-07 22:54:52,696] Trial 11 finished with value: 0.12841490933265262 and parameters: {'regressor': 'RandomForestRegressor', 'n_estimators': 187, 'max_depth': 32, 'min_samples_split': 10, 'min_samples_leaf': 10}. Best is trial 10 with value: 0.12914413579967374.\n",
      "[I 2023-06-07 22:54:56,888] Trial 12 finished with value: 0.12899755818982092 and parameters: {'regressor': 'RandomForestRegressor', 'n_estimators': 180, 'max_depth': 32, 'min_samples_split': 10, 'min_samples_leaf': 10}. Best is trial 10 with value: 0.12914413579967374.\n",
      "[I 2023-06-07 22:55:01,843] Trial 13 finished with value: 0.13345200404532248 and parameters: {'regressor': 'RandomForestRegressor', 'n_estimators': 238, 'max_depth': 30, 'min_samples_split': 10, 'min_samples_leaf': 8}. Best is trial 13 with value: 0.13345200404532248.\n",
      "[I 2023-06-07 22:55:06,820] Trial 14 finished with value: 0.1327760590905914 and parameters: {'regressor': 'RandomForestRegressor', 'n_estimators': 288, 'max_depth': 23, 'min_samples_split': 8, 'min_samples_leaf': 6}. Best is trial 13 with value: 0.13345200404532248.\n",
      "[I 2023-06-07 22:55:12,196] Trial 15 finished with value: 0.13215633984973416 and parameters: {'regressor': 'RandomForestRegressor', 'n_estimators': 324, 'max_depth': 21, 'min_samples_split': 7, 'min_samples_leaf': 6}. Best is trial 13 with value: 0.13345200404532248.\n",
      "[I 2023-06-07 22:55:17,053] Trial 16 finished with value: 0.13203925642379918 and parameters: {'regressor': 'RandomForestRegressor', 'n_estimators': 313, 'max_depth': 20, 'min_samples_split': 8, 'min_samples_leaf': 6}. Best is trial 13 with value: 0.13345200404532248.\n",
      "[I 2023-06-07 22:55:17,264] Trial 17 finished with value: 0.13721991830207564 and parameters: {'regressor': 'ElasticNet', 'alpha': 0.00014711410037172962, 'l1_ratio': 0.9047321359001744}. Best is trial 17 with value: 0.13721991830207564.\n",
      "[I 2023-06-07 22:55:17,493] Trial 18 finished with value: 0.1357618027455461 and parameters: {'regressor': 'ElasticNet', 'alpha': 0.0001312920516070084, 'l1_ratio': 0.9513414847980082}. Best is trial 17 with value: 0.13721991830207564.\n",
      "[I 2023-06-07 22:55:17,727] Trial 19 finished with value: 0.13481967112367924 and parameters: {'regressor': 'ElasticNet', 'alpha': 0.0001222473669228873, 'l1_ratio': 0.9967506021060022}. Best is trial 17 with value: 0.13721991830207564.\n",
      "[I 2023-06-07 22:55:17,983] Trial 20 finished with value: 0.13316453675884238 and parameters: {'regressor': 'ElasticNet', 'alpha': 0.00010163169070017472, 'l1_ratio': 0.9442631025321138}. Best is trial 17 with value: 0.13721991830207564.\n",
      "[I 2023-06-07 22:55:18,229] Trial 21 finished with value: 0.13293251078954976 and parameters: {'regressor': 'ElasticNet', 'alpha': 0.00010040248212750625, 'l1_ratio': 0.9788286429577964}. Best is trial 17 with value: 0.13721991830207564.\n",
      "[I 2023-06-07 22:55:18,414] Trial 22 finished with value: 0.14002383031865842 and parameters: {'regressor': 'ElasticNet', 'alpha': 0.00019223778809639277, 'l1_ratio': 0.9916907723706361}. Best is trial 22 with value: 0.14002383031865842.\n",
      "[I 2023-06-07 22:55:18,565] Trial 23 finished with value: 0.1490431989085396 and parameters: {'regressor': 'ElasticNet', 'alpha': 0.0009219439875363498, 'l1_ratio': 0.7675753585678926}. Best is trial 23 with value: 0.1490431989085396.\n",
      "[I 2023-06-07 22:55:18,702] Trial 24 finished with value: 0.13967328288536862 and parameters: {'regressor': 'ElasticNet', 'alpha': 0.0014193816949641933, 'l1_ratio': 0.7094951824745555}. Best is trial 23 with value: 0.1490431989085396.\n",
      "[I 2023-06-07 22:55:18,827] Trial 25 finished with value: 0.1294637088136164 and parameters: {'regressor': 'ElasticNet', 'alpha': 0.0019629103781223034, 'l1_ratio': 0.6607679255485017}. Best is trial 23 with value: 0.1490431989085396.\n",
      "[I 2023-06-07 22:55:18,960] Trial 26 finished with value: 0.13400806904957935 and parameters: {'regressor': 'ElasticNet', 'alpha': 0.0017072844792954617, 'l1_ratio': 0.6553735122271735}. Best is trial 23 with value: 0.1490431989085396.\n",
      "[I 2023-06-07 22:55:19,096] Trial 27 finished with value: 0.1426049655881729 and parameters: {'regressor': 'ElasticNet', 'alpha': 0.001276112842725879, 'l1_ratio': 0.7189451888769361}. Best is trial 23 with value: 0.1490431989085396.\n",
      "[I 2023-06-07 22:55:19,246] Trial 28 finished with value: 0.15103979051506072 and parameters: {'regressor': 'ElasticNet', 'alpha': 0.000755000457211254, 'l1_ratio': 0.7549857341595461}. Best is trial 28 with value: 0.15103979051506072.\n",
      "[I 2023-06-07 22:55:21,126] Trial 29 finished with value: 0.11679662955805252 and parameters: {'regressor': 'ExtraTreesRegressor', 'n_estimators': 468, 'max_depth': 11, 'min_samples_split': 3, 'min_samples_leaf': 1}. Best is trial 28 with value: 0.15103979051506072.\n",
      "[I 2023-06-07 22:55:21,277] Trial 30 finished with value: 0.14963850907471263 and parameters: {'regressor': 'ElasticNet', 'alpha': 0.0008819654769679986, 'l1_ratio': 0.7569461188820239}. Best is trial 28 with value: 0.15103979051506072.\n",
      "[I 2023-06-07 22:55:21,419] Trial 31 finished with value: 0.14742753317038937 and parameters: {'regressor': 'ElasticNet', 'alpha': 0.0010190307449817206, 'l1_ratio': 0.762146258745802}. Best is trial 28 with value: 0.15103979051506072.\n",
      "[I 2023-06-07 22:55:21,571] Trial 32 finished with value: 0.15163393203401773 and parameters: {'regressor': 'ElasticNet', 'alpha': 0.0006565204758287207, 'l1_ratio': 0.785765374734327}. Best is trial 32 with value: 0.15163393203401773.\n",
      "[I 2023-06-07 22:55:21,721] Trial 33 finished with value: 0.15114574660465618 and parameters: {'regressor': 'ElasticNet', 'alpha': 0.0005966302573482148, 'l1_ratio': 0.5175359174135262}. Best is trial 32 with value: 0.15163393203401773.\n",
      "[I 2023-06-07 22:55:22,287] Trial 34 finished with value: -0.014845904775523378 and parameters: {'regressor': 'KNeighborsRegressor', 'n_neighbors': 50, 'weights': 'distance', 'p': 1}. Best is trial 32 with value: 0.15163393203401773.\n"
     ]
    },
    {
     "name": "stderr",
     "output_type": "stream",
     "text": [
      "[I 2023-06-07 22:55:22,441] Trial 35 finished with value: 0.15071031567962248 and parameters: {'regressor': 'ElasticNet', 'alpha': 0.0004977948336573973, 'l1_ratio': 0.5222266672820896}. Best is trial 32 with value: 0.15163393203401773.\n",
      "[I 2023-06-07 22:55:22,761] Trial 36 finished with value: 0.008130330667162278 and parameters: {'regressor': 'KNeighborsRegressor', 'n_neighbors': 45, 'weights': 'distance', 'p': 2}. Best is trial 32 with value: 0.15163393203401773.\n",
      "[I 2023-06-07 22:55:24,631] Trial 37 finished with value: 0.12310786421189035 and parameters: {'regressor': 'ExtraTreesRegressor', 'n_estimators': 398, 'max_depth': 13, 'min_samples_split': 4, 'min_samples_leaf': 3}. Best is trial 32 with value: 0.15163393203401773.\n",
      "[I 2023-06-07 22:55:24,791] Trial 38 finished with value: 0.15027988318465435 and parameters: {'regressor': 'ElasticNet', 'alpha': 0.0004707324547378336, 'l1_ratio': 0.47080728115502546}. Best is trial 32 with value: 0.15163393203401773.\n",
      "[I 2023-06-07 22:55:24,879] Trial 39 finished with value: 0.12157069318821215 and parameters: {'regressor': 'LinearRegression'}. Best is trial 32 with value: 0.15163393203401773.\n",
      "[I 2023-06-07 22:55:24,994] Trial 40 finished with value: 0.0802358011304431 and parameters: {'regressor': 'ElasticNet', 'alpha': 0.005713454249088989, 'l1_ratio': 0.5023631874811822}. Best is trial 32 with value: 0.15163393203401773.\n",
      "[I 2023-06-07 22:55:25,150] Trial 41 finished with value: 0.14968369239315635 and parameters: {'regressor': 'ElasticNet', 'alpha': 0.00042303785977720903, 'l1_ratio': 0.4813878316736072}. Best is trial 32 with value: 0.15163393203401773.\n",
      "[I 2023-06-07 22:55:25,306] Trial 42 finished with value: 0.150022397459411 and parameters: {'regressor': 'ElasticNet', 'alpha': 0.0004481584891344235, 'l1_ratio': 0.47357629860470624}. Best is trial 32 with value: 0.15163393203401773.\n",
      "[I 2023-06-07 22:55:25,462] Trial 43 finished with value: 0.14938965396825526 and parameters: {'regressor': 'ElasticNet', 'alpha': 0.00039926790983820643, 'l1_ratio': 0.5508434710711781}. Best is trial 32 with value: 0.15163393203401773.\n",
      "[I 2023-06-07 22:55:25,780] Trial 44 finished with value: 0.058304460712380435 and parameters: {'regressor': 'KNeighborsRegressor', 'n_neighbors': 29, 'weights': 'uniform', 'p': 2}. Best is trial 32 with value: 0.15163393203401773.\n",
      "[I 2023-06-07 22:55:25,866] Trial 45 finished with value: 0.12157069318821215 and parameters: {'regressor': 'LinearRegression'}. Best is trial 32 with value: 0.15163393203401773.\n",
      "[I 2023-06-07 22:55:26,607] Trial 46 finished with value: 0.09483547680121437 and parameters: {'regressor': 'ExtraTreesRegressor', 'n_estimators': 496, 'max_depth': 3, 'min_samples_split': 5, 'min_samples_leaf': 4}. Best is trial 32 with value: 0.15163393203401773.\n",
      "[I 2023-06-07 22:55:26,766] Trial 47 finished with value: 0.14944792062369194 and parameters: {'regressor': 'ElasticNet', 'alpha': 0.000429693470145418, 'l1_ratio': 0.37083130050347224}. Best is trial 32 with value: 0.15163393203401773.\n",
      "[I 2023-06-07 22:55:26,887] Trial 48 finished with value: 0.09983131331637168 and parameters: {'regressor': 'ElasticNet', 'alpha': 0.0038143248815885513, 'l1_ratio': 0.37909679343178226}. Best is trial 32 with value: 0.15163393203401773.\n",
      "[I 2023-06-07 22:55:27,046] Trial 49 finished with value: 0.14798496903288436 and parameters: {'regressor': 'ElasticNet', 'alpha': 0.00034048971206935327, 'l1_ratio': 0.5902194593074732}. Best is trial 32 with value: 0.15163393203401773.\n",
      "[I 2023-06-07 22:55:27,209] Trial 50 finished with value: 0.15135643427139495 and parameters: {'regressor': 'ElasticNet', 'alpha': 0.0005454914739725305, 'l1_ratio': 0.8658662711031861}. Best is trial 32 with value: 0.15163393203401773.\n",
      "[I 2023-06-07 22:55:27,360] Trial 51 finished with value: 0.1515528046693888 and parameters: {'regressor': 'ElasticNet', 'alpha': 0.0005697074534734291, 'l1_ratio': 0.8335827329448899}. Best is trial 32 with value: 0.15163393203401773.\n",
      "[I 2023-06-07 22:55:27,507] Trial 52 finished with value: 0.15094231924545273 and parameters: {'regressor': 'ElasticNet', 'alpha': 0.0007515510816289699, 'l1_ratio': 0.8565837469520177}. Best is trial 32 with value: 0.15163393203401773.\n",
      "[I 2023-06-07 22:55:27,655] Trial 53 finished with value: 0.15134666727895682 and parameters: {'regressor': 'ElasticNet', 'alpha': 0.0006957001602984681, 'l1_ratio': 0.8528121989263591}. Best is trial 32 with value: 0.15163393203401773.\n",
      "[I 2023-06-07 22:55:27,824] Trial 54 finished with value: 0.1442677146422438 and parameters: {'regressor': 'ElasticNet', 'alpha': 0.0002564354151576031, 'l1_ratio': 0.843038847654594}. Best is trial 32 with value: 0.15163393203401773.\n",
      "[I 2023-06-07 22:55:27,912] Trial 55 finished with value: 0.12157069318821215 and parameters: {'regressor': 'LinearRegression'}. Best is trial 32 with value: 0.15163393203401773.\n",
      "[I 2023-06-07 22:55:28,083] Trial 56 finished with value: 0.14440857035563615 and parameters: {'regressor': 'ElasticNet', 'alpha': 0.0002594272777400126, 'l1_ratio': 0.8435551641991296}. Best is trial 32 with value: 0.15163393203401773.\n",
      "[I 2023-06-07 22:55:28,170] Trial 57 finished with value: -0.00016616015627360926 and parameters: {'regressor': 'ElasticNet', 'alpha': 0.04350532222307766, 'l1_ratio': 0.8266059948764538}. Best is trial 32 with value: 0.15163393203401773.\n",
      "[I 2023-06-07 22:55:28,756] Trial 58 finished with value: -0.017066606250147554 and parameters: {'regressor': 'KNeighborsRegressor', 'n_neighbors': 30, 'weights': 'distance', 'p': 1}. Best is trial 32 with value: 0.15163393203401773.\n",
      "[I 2023-06-07 22:55:28,903] Trial 59 finished with value: 0.15130174457988618 and parameters: {'regressor': 'ElasticNet', 'alpha': 0.0006897264918804278, 'l1_ratio': 0.8801430102738512}. Best is trial 32 with value: 0.15163393203401773.\n",
      "[I 2023-06-07 22:55:29,587] Trial 60 finished with value: 0.12653089138036697 and parameters: {'regressor': 'ExtraTreesRegressor', 'n_estimators': 104, 'max_depth': 15, 'min_samples_split': 5, 'min_samples_leaf': 4}. Best is trial 32 with value: 0.15163393203401773.\n",
      "[I 2023-06-07 22:55:29,735] Trial 61 finished with value: 0.15056082372896648 and parameters: {'regressor': 'ElasticNet', 'alpha': 0.0007737335376192833, 'l1_ratio': 0.9000761687925275}. Best is trial 32 with value: 0.15163393203401773.\n",
      "[I 2023-06-07 22:55:29,885] Trial 62 finished with value: 0.15160636854062173 and parameters: {'regressor': 'ElasticNet', 'alpha': 0.0006583005820023778, 'l1_ratio': 0.7994802019743179}. Best is trial 32 with value: 0.15163393203401773.\n",
      "[I 2023-06-07 22:55:30,078] Trial 63 finished with value: 0.14086819135656398 and parameters: {'regressor': 'ElasticNet', 'alpha': 0.00019796922585806764, 'l1_ratio': 0.8904511842686665}. Best is trial 32 with value: 0.15163393203401773.\n",
      "[I 2023-06-07 22:55:36,624] Trial 64 finished with value: 0.13205367528179673 and parameters: {'regressor': 'RandomForestRegressor', 'n_estimators': 382, 'max_depth': 24, 'min_samples_split': 2, 'min_samples_leaf': 8}. Best is trial 32 with value: 0.15163393203401773.\n",
      "[I 2023-06-07 22:55:36,750] Trial 65 finished with value: 0.12781428362480227 and parameters: {'regressor': 'ElasticNet', 'alpha': 0.0021542802934606756, 'l1_ratio': 0.8170685326538013}. Best is trial 32 with value: 0.15163393203401773.\n",
      "[I 2023-06-07 22:55:36,910] Trial 66 finished with value: 0.15126673259204707 and parameters: {'regressor': 'ElasticNet', 'alpha': 0.0006275473677511861, 'l1_ratio': 0.9344042763329145}. Best is trial 32 with value: 0.15163393203401773.\n",
      "[I 2023-06-07 22:55:37,088] Trial 67 finished with value: 0.14312303864345433 and parameters: {'regressor': 'ElasticNet', 'alpha': 0.00024127344118375665, 'l1_ratio': 0.9332215997350602}. Best is trial 32 with value: 0.15163393203401773.\n",
      "[I 2023-06-07 22:55:37,265] Trial 68 finished with value: 0.1389526064074871 and parameters: {'regressor': 'ElasticNet', 'alpha': 0.0001710591149086112, 'l1_ratio': 0.9159485892794876}. Best is trial 32 with value: 0.15163393203401773.\n",
      "[I 2023-06-07 22:55:37,401] Trial 69 finished with value: 0.14471227663956415 and parameters: {'regressor': 'ElasticNet', 'alpha': 0.0011166618870433551, 'l1_ratio': 0.9497215375566914}. Best is trial 32 with value: 0.15163393203401773.\n"
     ]
    },
    {
     "name": "stderr",
     "output_type": "stream",
     "text": [
      "[I 2023-06-07 22:55:37,549] Trial 70 finished with value: 0.15148046718605132 and parameters: {'regressor': 'ElasticNet', 'alpha': 0.0006283501794953927, 'l1_ratio': 0.8803506330812736}. Best is trial 32 with value: 0.15163393203401773.\n",
      "[I 2023-06-07 22:55:37,698] Trial 71 finished with value: 0.15143954923315067 and parameters: {'regressor': 'ElasticNet', 'alpha': 0.0006117124122849895, 'l1_ratio': 0.8945128198162323}. Best is trial 32 with value: 0.15163393203401773.\n",
      "[I 2023-06-07 22:55:37,872] Trial 72 finished with value: 0.14589655040581823 and parameters: {'regressor': 'ElasticNet', 'alpha': 0.0002971065287579941, 'l1_ratio': 0.8858806168961358}. Best is trial 32 with value: 0.15163393203401773.\n",
      "[I 2023-06-07 22:55:38,023] Trial 73 finished with value: 0.15125216736551111 and parameters: {'regressor': 'ElasticNet', 'alpha': 0.0007238435351070021, 'l1_ratio': 0.8058944775744582}. Best is trial 32 with value: 0.15163393203401773.\n",
      "[I 2023-06-07 22:55:38,159] Trial 74 finished with value: 0.14301820547290314 and parameters: {'regressor': 'ElasticNet', 'alpha': 0.0012345533139397566, 'l1_ratio': 0.8788735986174679}. Best is trial 32 with value: 0.15163393203401773.\n",
      "[I 2023-06-07 22:55:43,535] Trial 75 finished with value: 0.12884335403030253 and parameters: {'regressor': 'RandomForestRegressor', 'n_estimators': 262, 'max_depth': 26, 'min_samples_split': 6, 'min_samples_leaf': 1}. Best is trial 32 with value: 0.15163393203401773.\n",
      "[I 2023-06-07 22:55:43,761] Trial 76 finished with value: 0.13620660847383353 and parameters: {'regressor': 'ElasticNet', 'alpha': 0.0001393190285821316, 'l1_ratio': 0.9998473098184832}. Best is trial 32 with value: 0.15163393203401773.\n",
      "[I 2023-06-07 22:55:43,912] Trial 77 finished with value: 0.15146692142985554 and parameters: {'regressor': 'ElasticNet', 'alpha': 0.0005457747365589685, 'l1_ratio': 0.787146647999678}. Best is trial 32 with value: 0.15163393203401773.\n",
      "[I 2023-06-07 22:55:43,998] Trial 78 finished with value: 0.12157069318821215 and parameters: {'regressor': 'LinearRegression'}. Best is trial 32 with value: 0.15163393203401773.\n",
      "[I 2023-06-07 22:55:44,161] Trial 79 finished with value: 0.14716739959973651 and parameters: {'regressor': 'ElasticNet', 'alpha': 0.00032326425786744357, 'l1_ratio': 0.8009717177309224}. Best is trial 32 with value: 0.15163393203401773.\n",
      "[I 2023-06-07 22:55:44,286] Trial 80 finished with value: 0.13660365781981548 and parameters: {'regressor': 'ElasticNet', 'alpha': 0.0016043685047872655, 'l1_ratio': 0.7983935592869144}. Best is trial 32 with value: 0.15163393203401773.\n",
      "[I 2023-06-07 22:55:44,433] Trial 81 finished with value: 0.1512911934931429 and parameters: {'regressor': 'ElasticNet', 'alpha': 0.0007011639263121127, 'l1_ratio': 0.8632318101015343}. Best is trial 32 with value: 0.15163393203401773.\n",
      "[I 2023-06-07 22:55:44,580] Trial 82 finished with value: 0.15147637617152226 and parameters: {'regressor': 'ElasticNet', 'alpha': 0.0005681704446167117, 'l1_ratio': 0.8646224671503128}. Best is trial 32 with value: 0.15163393203401773.\n",
      "[I 2023-06-07 22:55:44,729] Trial 83 finished with value: 0.15158696938406313 and parameters: {'regressor': 'ElasticNet', 'alpha': 0.0005678180461483267, 'l1_ratio': 0.778449496495166}. Best is trial 32 with value: 0.15163393203401773.\n",
      "[I 2023-06-07 22:55:44,879] Trial 84 finished with value: 0.15121505303283614 and parameters: {'regressor': 'ElasticNet', 'alpha': 0.0005127045673800162, 'l1_ratio': 0.7849852199479902}. Best is trial 32 with value: 0.15163393203401773.\n",
      "[I 2023-06-07 22:55:46,945] Trial 85 finished with value: 0.1297958352024508 and parameters: {'regressor': 'ExtraTreesRegressor', 'n_estimators': 356, 'max_depth': 17, 'min_samples_split': 4, 'min_samples_leaf': 7}. Best is trial 32 with value: 0.15163393203401773.\n",
      "[I 2023-06-07 22:55:47,255] Trial 86 finished with value: -0.29903131151422463 and parameters: {'regressor': 'KNeighborsRegressor', 'n_neighbors': 2, 'weights': 'distance', 'p': 2}. Best is trial 32 with value: 0.15163393203401773.\n",
      "[I 2023-06-07 22:55:47,391] Trial 87 finished with value: 0.14792455158976892 and parameters: {'regressor': 'ElasticNet', 'alpha': 0.000994303224135493, 'l1_ratio': 0.7265507169629628}. Best is trial 32 with value: 0.15163393203401773.\n",
      "[I 2023-06-07 22:55:47,565] Trial 88 finished with value: 0.14691038171881887 and parameters: {'regressor': 'ElasticNet', 'alpha': 0.0003134916382087123, 'l1_ratio': 0.7663459708172603}. Best is trial 32 with value: 0.15163393203401773.\n",
      "[I 2023-06-07 22:55:47,723] Trial 89 finished with value: 0.1506641276015613 and parameters: {'regressor': 'ElasticNet', 'alpha': 0.0004703373870224102, 'l1_ratio': 0.8254218808937913}. Best is trial 32 with value: 0.15163393203401773.\n",
      "[I 2023-06-07 22:55:47,862] Trial 90 finished with value: 0.1463551233876013 and parameters: {'regressor': 'ElasticNet', 'alpha': 0.0010113834102771294, 'l1_ratio': 0.9669974321952223}. Best is trial 32 with value: 0.15163393203401773.\n",
      "[I 2023-06-07 22:55:48,015] Trial 91 finished with value: 0.15153592520543097 and parameters: {'regressor': 'ElasticNet', 'alpha': 0.0005759791673410241, 'l1_ratio': 0.8526867921760984}. Best is trial 32 with value: 0.15163393203401773.\n",
      "[I 2023-06-07 22:55:48,166] Trial 92 finished with value: 0.1511685886559629 and parameters: {'regressor': 'ElasticNet', 'alpha': 0.0005357355664631077, 'l1_ratio': 0.9051930414804614}. Best is trial 32 with value: 0.15163393203401773.\n",
      "[I 2023-06-07 22:55:48,315] Trial 93 finished with value: 0.15152132633807355 and parameters: {'regressor': 'ElasticNet', 'alpha': 0.0005535259886868423, 'l1_ratio': 0.7297158281178464}. Best is trial 32 with value: 0.15163393203401773.\n",
      "[I 2023-06-07 22:55:48,472] Trial 94 finished with value: 0.15001478783447825 and parameters: {'regressor': 'ElasticNet', 'alpha': 0.0004269635486988416, 'l1_ratio': 0.7449961417720998}. Best is trial 32 with value: 0.15163393203401773.\n",
      "[I 2023-06-07 22:55:48,646] Trial 95 finished with value: 0.1483283001045846 and parameters: {'regressor': 'ElasticNet', 'alpha': 0.0003582435628889899, 'l1_ratio': 0.7831305818876932}. Best is trial 32 with value: 0.15163393203401773.\n",
      "[I 2023-06-07 22:55:49,841] Trial 96 finished with value: 0.1215652339098265 and parameters: {'regressor': 'RandomForestRegressor', 'n_estimators': 144, 'max_depth': 10, 'min_samples_split': 8, 'min_samples_leaf': 4}. Best is trial 32 with value: 0.15163393203401773.\n",
      "[I 2023-06-07 22:55:49,980] Trial 97 finished with value: 0.14900247206438855 and parameters: {'regressor': 'ElasticNet', 'alpha': 0.0009257992732295533, 'l1_ratio': 0.6954916474219711}. Best is trial 32 with value: 0.15163393203401773.\n",
      "[I 2023-06-07 22:55:50,114] Trial 98 finished with value: 0.14034730319675268 and parameters: {'regressor': 'ElasticNet', 'alpha': 0.001390976492341954, 'l1_ratio': 0.8221784099965377}. Best is trial 32 with value: 0.15163393203401773.\n",
      "[I 2023-06-07 22:55:50,199] Trial 99 finished with value: 0.12157069318821215 and parameters: {'regressor': 'LinearRegression'}. Best is trial 32 with value: 0.15163393203401773.\n",
      "[I 2023-06-07 22:55:50,348] Trial 100 finished with value: 0.15165187569767818 and parameters: {'regressor': 'ElasticNet', 'alpha': 0.0005868007755016464, 'l1_ratio': 0.7528245714892794}. Best is trial 100 with value: 0.15165187569767818.\n",
      "[I 2023-06-07 22:55:50,496] Trial 101 finished with value: 0.15156423804444694 and parameters: {'regressor': 'ElasticNet', 'alpha': 0.0005616669099448526, 'l1_ratio': 0.7420488121534546}. Best is trial 100 with value: 0.15165187569767818.\n",
      "[I 2023-06-07 22:55:50,662] Trial 102 finished with value: 0.14819259229194034 and parameters: {'regressor': 'ElasticNet', 'alpha': 0.00035092242577788624, 'l1_ratio': 0.7348874761993571}. Best is trial 100 with value: 0.15165187569767818.\n",
      "[I 2023-06-07 22:55:50,814] Trial 103 finished with value: 0.15141158998889498 and parameters: {'regressor': 'ElasticNet', 'alpha': 0.0005364624619947631, 'l1_ratio': 0.7796081750930443}. Best is trial 100 with value: 0.15165187569767818.\n",
      "[I 2023-06-07 22:55:50,957] Trial 104 finished with value: 0.14989013421788927 and parameters: {'regressor': 'ElasticNet', 'alpha': 0.0008581620381010025, 'l1_ratio': 0.6789501720240222}. Best is trial 100 with value: 0.15165187569767818.\n"
     ]
    },
    {
     "name": "stderr",
     "output_type": "stream",
     "text": [
      "[I 2023-06-07 22:55:51,113] Trial 105 finished with value: 0.15001761634465263 and parameters: {'regressor': 'ElasticNet', 'alpha': 0.0004262773724170321, 'l1_ratio': 0.72674344113628}. Best is trial 100 with value: 0.15165187569767818.\n",
      "[I 2023-06-07 22:55:51,690] Trial 106 finished with value: -0.00843428589894698 and parameters: {'regressor': 'KNeighborsRegressor', 'n_neighbors': 17, 'weights': 'uniform', 'p': 1}. Best is trial 100 with value: 0.15165187569767818.\n",
      "[I 2023-06-07 22:55:52,151] Trial 107 finished with value: 0.10461414655735006 and parameters: {'regressor': 'ExtraTreesRegressor', 'n_estimators': 232, 'max_depth': 4, 'min_samples_split': 9, 'min_samples_leaf': 5}. Best is trial 100 with value: 0.15165187569767818.\n",
      "[I 2023-06-07 22:55:52,320] Trial 108 finished with value: 0.1423185743662465 and parameters: {'regressor': 'ElasticNet', 'alpha': 0.00021873314775301664, 'l1_ratio': 0.8379441958748597}. Best is trial 100 with value: 0.15165187569767818.\n",
      "[I 2023-06-07 22:55:52,468] Trial 109 finished with value: 0.15168717775587143 and parameters: {'regressor': 'ElasticNet', 'alpha': 0.0006021013212064596, 'l1_ratio': 0.7568169383332524}. Best is trial 109 with value: 0.15168717775587143.\n",
      "[I 2023-06-07 22:55:52,610] Trial 110 finished with value: 0.1501722822233774 and parameters: {'regressor': 'ElasticNet', 'alpha': 0.0008400663067820057, 'l1_ratio': 0.763741040781404}. Best is trial 109 with value: 0.15168717775587143.\n",
      "[I 2023-06-07 22:55:52,758] Trial 111 finished with value: 0.15164388417291189 and parameters: {'regressor': 'ElasticNet', 'alpha': 0.0005833180836661127, 'l1_ratio': 0.7585853954361262}. Best is trial 109 with value: 0.15168717775587143.\n",
      "[I 2023-06-07 22:55:52,905] Trial 112 finished with value: 0.15169682906913312 and parameters: {'regressor': 'ElasticNet', 'alpha': 0.0006292531642099679, 'l1_ratio': 0.7483488016155628}. Best is trial 112 with value: 0.15169682906913312.\n",
      "[I 2023-06-07 22:55:53,063] Trial 113 finished with value: 0.14906574419867719 and parameters: {'regressor': 'ElasticNet', 'alpha': 0.00038206954564723987, 'l1_ratio': 0.7100505156167678}. Best is trial 112 with value: 0.15169682906913312.\n",
      "[I 2023-06-07 22:55:53,197] Trial 114 finished with value: 0.14375877829696482 and parameters: {'regressor': 'ElasticNet', 'alpha': 0.0012150294229763086, 'l1_ratio': 0.7547718368913215}. Best is trial 112 with value: 0.15169682906913312.\n",
      "[I 2023-06-07 22:55:53,346] Trial 115 finished with value: 0.1513629259341603 and parameters: {'regressor': 'ElasticNet', 'alpha': 0.0007095657183379347, 'l1_ratio': 0.6896318682323656}. Best is trial 112 with value: 0.15169682906913312.\n",
      "[I 2023-06-07 22:55:53,521] Trial 116 finished with value: 0.14581866654596115 and parameters: {'regressor': 'ElasticNet', 'alpha': 0.0002838002132027544, 'l1_ratio': 0.7350951263198654}. Best is trial 112 with value: 0.15169682906913312.\n",
      "[I 2023-06-07 22:55:53,664] Trial 117 finished with value: 0.14989402042659283 and parameters: {'regressor': 'ElasticNet', 'alpha': 0.0008542811412735199, 'l1_ratio': 0.6511141339729438}. Best is trial 112 with value: 0.15169682906913312.\n",
      "[I 2023-06-07 22:55:53,814] Trial 118 finished with value: 0.15164976204788355 and parameters: {'regressor': 'ElasticNet', 'alpha': 0.0006246248662312826, 'l1_ratio': 0.8215607868025014}. Best is trial 112 with value: 0.15169682906913312.\n",
      "[I 2023-06-07 22:55:53,974] Trial 119 finished with value: 0.148835706065845 and parameters: {'regressor': 'ElasticNet', 'alpha': 0.0003787437681577413, 'l1_ratio': 0.8077617469929695}. Best is trial 112 with value: 0.15169682906913312.\n",
      "[I 2023-06-07 22:55:59,715] Trial 120 finished with value: 0.12667706357865616 and parameters: {'regressor': 'RandomForestRegressor', 'n_estimators': 424, 'max_depth': 18, 'min_samples_split': 6, 'min_samples_leaf': 2}. Best is trial 112 with value: 0.15169682906913312.\n",
      "[I 2023-06-07 22:55:59,868] Trial 121 finished with value: 0.15169318740072318 and parameters: {'regressor': 'ElasticNet', 'alpha': 0.0006379608971130298, 'l1_ratio': 0.7682660138253556}. Best is trial 112 with value: 0.15169682906913312.\n",
      "[I 2023-06-07 22:56:00,031] Trial 122 finished with value: 0.15079603960533178 and parameters: {'regressor': 'ElasticNet', 'alpha': 0.0004756676805029672, 'l1_ratio': 0.764597770575484}. Best is trial 112 with value: 0.15169682906913312.\n",
      "[I 2023-06-07 22:56:00,185] Trial 123 finished with value: 0.1516493015688054 and parameters: {'regressor': 'ElasticNet', 'alpha': 0.000612362108495874, 'l1_ratio': 0.8259134350700592}. Best is trial 112 with value: 0.15169682906913312.\n",
      "[I 2023-06-07 22:56:00,322] Trial 124 finished with value: 0.14632237245236596 and parameters: {'regressor': 'ElasticNet', 'alpha': 0.0010671300068978234, 'l1_ratio': 0.8392453387248007}. Best is trial 112 with value: 0.15169682906913312.\n",
      "[I 2023-06-07 22:56:00,471] Trial 125 finished with value: 0.15149231685897008 and parameters: {'regressor': 'ElasticNet', 'alpha': 0.0006800648418711209, 'l1_ratio': 0.8100525373277953}. Best is trial 112 with value: 0.15169682906913312.\n",
      "[I 2023-06-07 22:56:00,559] Trial 126 finished with value: 0.12157069318821215 and parameters: {'regressor': 'LinearRegression'}. Best is trial 112 with value: 0.15169682906913312.\n",
      "[I 2023-06-07 22:56:00,706] Trial 127 finished with value: 0.14911284021596177 and parameters: {'regressor': 'ElasticNet', 'alpha': 0.0009145150960568685, 'l1_ratio': 0.7892216098395999}. Best is trial 112 with value: 0.15169682906913312.\n",
      "[I 2023-06-07 22:56:00,864] Trial 128 finished with value: 0.15170095802953903 and parameters: {'regressor': 'ElasticNet', 'alpha': 0.0006240385049364728, 'l1_ratio': 0.7532359810725149}. Best is trial 128 with value: 0.15170095802953903.\n",
      "[I 2023-06-07 22:56:01,061] Trial 129 finished with value: 0.1436046357071085 and parameters: {'regressor': 'ElasticNet', 'alpha': 0.00023798951949804202, 'l1_ratio': 0.7675294342231667}. Best is trial 128 with value: 0.15170095802953903.\n",
      "[I 2023-06-07 22:56:01,645] Trial 130 finished with value: 0.005761330685710464 and parameters: {'regressor': 'KNeighborsRegressor', 'n_neighbors': 36, 'weights': 'uniform', 'p': 1}. Best is trial 128 with value: 0.15170095802953903.\n",
      "[I 2023-06-07 22:56:01,795] Trial 131 finished with value: 0.15166869145504996 and parameters: {'regressor': 'ElasticNet', 'alpha': 0.0006225543962298135, 'l1_ratio': 0.8127350957229968}. Best is trial 128 with value: 0.15170095802953903.\n",
      "[I 2023-06-07 22:56:01,942] Trial 132 finished with value: 0.15129640090727978 and parameters: {'regressor': 'ElasticNet', 'alpha': 0.0007169286610662146, 'l1_ratio': 0.8067542891787401}. Best is trial 128 with value: 0.15170095802953903.\n",
      "[I 2023-06-07 22:56:02,099] Trial 133 finished with value: 0.15024899386136886 and parameters: {'regressor': 'ElasticNet', 'alpha': 0.00043966351454030134, 'l1_ratio': 0.7416501827774065}. Best is trial 128 with value: 0.15170095802953903.\n",
      "[I 2023-06-07 22:56:02,258] Trial 134 finished with value: 0.15169033986532518 and parameters: {'regressor': 'ElasticNet', 'alpha': 0.0006353107439182775, 'l1_ratio': 0.7827142644720787}. Best is trial 128 with value: 0.15170095802953903.\n",
      "[I 2023-06-07 22:56:02,408] Trial 135 finished with value: 0.15033449365333243 and parameters: {'regressor': 'ElasticNet', 'alpha': 0.000826414069812881, 'l1_ratio': 0.7531902962763876}. Best is trial 128 with value: 0.15170095802953903.\n",
      "[I 2023-06-07 22:56:02,545] Trial 136 finished with value: 0.14580143842488208 and parameters: {'regressor': 'ElasticNet', 'alpha': 0.001106210979290413, 'l1_ratio': 0.782570545046049}. Best is trial 128 with value: 0.15170095802953903.\n",
      "[I 2023-06-07 22:56:06,027] Trial 137 finished with value: 0.1343455601860569 and parameters: {'regressor': 'ExtraTreesRegressor', 'n_estimators': 359, 'max_depth': 26, 'min_samples_split': 3, 'min_samples_leaf': 8}. Best is trial 128 with value: 0.15170095802953903.\n",
      "[I 2023-06-07 22:56:06,184] Trial 138 finished with value: 0.15165287046532008 and parameters: {'regressor': 'ElasticNet', 'alpha': 0.0006406360600916413, 'l1_ratio': 0.7132053727277035}. Best is trial 128 with value: 0.15170095802953903.\n",
      "[I 2023-06-07 22:56:06,327] Trial 139 finished with value: 0.1390593459476172 and parameters: {'regressor': 'ElasticNet', 'alpha': 0.0014503173544755923, 'l1_ratio': 0.7104939116173234}. Best is trial 128 with value: 0.15170095802953903.\n"
     ]
    },
    {
     "name": "stderr",
     "output_type": "stream",
     "text": [
      "[I 2023-06-07 22:56:06,478] Trial 140 finished with value: 0.15143180392608813 and parameters: {'regressor': 'ElasticNet', 'alpha': 0.0006879787794659996, 'l1_ratio': 0.8260858060475285}. Best is trial 128 with value: 0.15170095802953903.\n",
      "[I 2023-06-07 22:56:06,637] Trial 141 finished with value: 0.15071161064613586 and parameters: {'regressor': 'ElasticNet', 'alpha': 0.0004699769369606495, 'l1_ratio': 0.7736574103572882}. Best is trial 128 with value: 0.15170095802953903.\n",
      "[I 2023-06-07 22:56:06,788] Trial 142 finished with value: 0.1516801397606086 and parameters: {'regressor': 'ElasticNet', 'alpha': 0.0006303124619942306, 'l1_ratio': 0.7991473754218671}. Best is trial 128 with value: 0.15170095802953903.\n",
      "[I 2023-06-07 22:56:06,939] Trial 143 finished with value: 0.15168152265530851 and parameters: {'regressor': 'ElasticNet', 'alpha': 0.0006220506937635162, 'l1_ratio': 0.8048329670646696}. Best is trial 128 with value: 0.15170095802953903.\n",
      "[I 2023-06-07 22:56:07,084] Trial 144 finished with value: 0.15072661651548752 and parameters: {'regressor': 'ElasticNet', 'alpha': 0.0007872114510549986, 'l1_ratio': 0.8007333895498261}. Best is trial 128 with value: 0.15170095802953903.\n",
      "[I 2023-06-07 22:56:07,253] Trial 145 finished with value: 0.1483731742257249 and parameters: {'regressor': 'ElasticNet', 'alpha': 0.00036396284484965184, 'l1_ratio': 0.8301103045022719}. Best is trial 128 with value: 0.15170095802953903.\n",
      "[I 2023-06-07 22:56:07,431] Trial 146 finished with value: 0.15162941939710226 and parameters: {'regressor': 'ElasticNet', 'alpha': 0.0006441481283966012, 'l1_ratio': 0.8123758112935637}. Best is trial 128 with value: 0.15170095802953903.\n",
      "[I 2023-06-07 22:56:07,578] Trial 147 finished with value: 0.14735882873759712 and parameters: {'regressor': 'ElasticNet', 'alpha': 0.0010049713266629347, 'l1_ratio': 0.8567690489822374}. Best is trial 128 with value: 0.15170095802953903.\n",
      "[I 2023-06-07 22:56:07,728] Trial 148 finished with value: 0.15168448337191093 and parameters: {'regressor': 'ElasticNet', 'alpha': 0.0006289947745729162, 'l1_ratio': 0.7973420082712085}. Best is trial 128 with value: 0.15170095802953903.\n",
      "[I 2023-06-07 22:56:07,909] Trial 149 finished with value: 0.1463207551560654 and parameters: {'regressor': 'ElasticNet', 'alpha': 0.00029729207015433227, 'l1_ratio': 0.7530291089027809}. Best is trial 128 with value: 0.15170095802953903.\n",
      "[I 2023-06-07 22:56:08,072] Trial 150 finished with value: 0.1496291464145868 and parameters: {'regressor': 'ElasticNet', 'alpha': 0.0004109996489576967, 'l1_ratio': 0.7961199787324371}. Best is trial 128 with value: 0.15170095802953903.\n",
      "[I 2023-06-07 22:56:08,221] Trial 151 finished with value: 0.1516511396028291 and parameters: {'regressor': 'ElasticNet', 'alpha': 0.0006285063770596676, 'l1_ratio': 0.8183634421264664}. Best is trial 128 with value: 0.15170095802953903.\n",
      "[I 2023-06-07 22:56:08,378] Trial 152 finished with value: 0.15096761933715977 and parameters: {'regressor': 'ElasticNet', 'alpha': 0.0004890255812779365, 'l1_ratio': 0.7743331754998387}. Best is trial 128 with value: 0.15170095802953903.\n",
      "[I 2023-06-07 22:56:08,526] Trial 153 finished with value: 0.151591735024317 and parameters: {'regressor': 'ElasticNet', 'alpha': 0.000628488627359113, 'l1_ratio': 0.8430843048494864}. Best is trial 128 with value: 0.15170095802953903.\n",
      "[I 2023-06-07 22:56:08,684] Trial 154 finished with value: 0.14938488807166256 and parameters: {'regressor': 'ElasticNet', 'alpha': 0.0008901768902974306, 'l1_ratio': 0.8222743199350999}. Best is trial 128 with value: 0.15170095802953903.\n",
      "[I 2023-06-07 22:56:08,832] Trial 155 finished with value: 0.15069669862804808 and parameters: {'regressor': 'ElasticNet', 'alpha': 0.0007915260838185282, 'l1_ratio': 0.7890903112659969}. Best is trial 128 with value: 0.15170095802953903.\n",
      "[I 2023-06-07 22:56:12,482] Trial 156 finished with value: 0.12251191229525131 and parameters: {'regressor': 'RandomForestRegressor', 'n_estimators': 462, 'max_depth': 10, 'min_samples_split': 5, 'min_samples_leaf': 5}. Best is trial 128 with value: 0.15170095802953903.\n",
      "[I 2023-06-07 22:56:12,651] Trial 157 finished with value: 0.15090629578155554 and parameters: {'regressor': 'ElasticNet', 'alpha': 0.0004837958554493732, 'l1_ratio': 0.7517283147577929}. Best is trial 128 with value: 0.15170095802953903.\n",
      "[I 2023-06-07 22:56:12,803] Trial 158 finished with value: 0.15167608006831296 and parameters: {'regressor': 'ElasticNet', 'alpha': 0.0006183944478752514, 'l1_ratio': 0.7225882171851579}. Best is trial 128 with value: 0.15170095802953903.\n",
      "[I 2023-06-07 22:56:12,896] Trial 159 finished with value: 0.12157069318821215 and parameters: {'regressor': 'LinearRegression'}. Best is trial 128 with value: 0.15170095802953903.\n",
      "[I 2023-06-07 22:56:13,033] Trial 160 finished with value: 0.14314076225115402 and parameters: {'regressor': 'ElasticNet', 'alpha': 0.0012499500283655511, 'l1_ratio': 0.7124526559722606}. Best is trial 128 with value: 0.15170095802953903.\n",
      "[I 2023-06-07 22:56:13,186] Trial 161 finished with value: 0.1510453587499817 and parameters: {'regressor': 'ElasticNet', 'alpha': 0.0007536276594872583, 'l1_ratio': 0.7250805013722076}. Best is trial 128 with value: 0.15170095802953903.\n",
      "[I 2023-06-07 22:56:13,344] Trial 162 finished with value: 0.1516839397016881 and parameters: {'regressor': 'ElasticNet', 'alpha': 0.0005988512619468531, 'l1_ratio': 0.7680962073746238}. Best is trial 128 with value: 0.15170095802953903.\n",
      "[I 2023-06-07 22:56:13,512] Trial 163 finished with value: 0.15166122594909962 and parameters: {'regressor': 'ElasticNet', 'alpha': 0.0005896709088478943, 'l1_ratio': 0.757429499364981}. Best is trial 128 with value: 0.15170095802953903.\n",
      "[I 2023-06-07 22:56:13,687] Trial 164 finished with value: 0.15170537109033977 and parameters: {'regressor': 'ElasticNet', 'alpha': 0.000624584728970956, 'l1_ratio': 0.7710010533680905}. Best is trial 164 with value: 0.15170537109033977.\n",
      "[I 2023-06-07 22:56:13,863] Trial 165 finished with value: 0.14983920356889516 and parameters: {'regressor': 'ElasticNet', 'alpha': 0.00041752439898087233, 'l1_ratio': 0.7387326146966496}. Best is trial 164 with value: 0.15170537109033977.\n",
      "[I 2023-06-07 22:56:14,031] Trial 166 finished with value: 0.15126475016840177 and parameters: {'regressor': 'ElasticNet', 'alpha': 0.0005168078353562129, 'l1_ratio': 0.7651104697592297}. Best is trial 164 with value: 0.15170537109033977.\n",
      "[I 2023-06-07 22:56:14,211] Trial 167 finished with value: 0.14761579716514392 and parameters: {'regressor': 'ElasticNet', 'alpha': 0.0003364412572034038, 'l1_ratio': 0.7981528586010299}. Best is trial 164 with value: 0.15170537109033977.\n",
      "[I 2023-06-07 22:56:14,351] Trial 168 finished with value: 0.14797499404588893 and parameters: {'regressor': 'ElasticNet', 'alpha': 0.000992214866762087, 'l1_ratio': 0.6943024878310823}. Best is trial 164 with value: 0.15170537109033977.\n",
      "[I 2023-06-07 22:56:14,653] Trial 169 finished with value: 0.012293624100161105 and parameters: {'regressor': 'KNeighborsRegressor', 'n_neighbors': 16, 'weights': 'distance', 'p': 2}. Best is trial 164 with value: 0.15170537109033977.\n",
      "[I 2023-06-07 22:56:14,893] Trial 170 finished with value: 0.07850687515765323 and parameters: {'regressor': 'ExtraTreesRegressor', 'n_estimators': 143, 'max_depth': 2, 'min_samples_split': 9, 'min_samples_leaf': 7}. Best is trial 164 with value: 0.15170537109033977.\n",
      "[I 2023-06-07 22:56:15,044] Trial 171 finished with value: 0.15170374970534833 and parameters: {'regressor': 'ElasticNet', 'alpha': 0.0006230770915779133, 'l1_ratio': 0.7791814601461248}. Best is trial 164 with value: 0.15170537109033977.\n",
      "[I 2023-06-07 22:56:15,202] Trial 172 finished with value: 0.1516850934434288 and parameters: {'regressor': 'ElasticNet', 'alpha': 0.0006378992490821758, 'l1_ratio': 0.7835371280254559}. Best is trial 164 with value: 0.15170537109033977.\n",
      "[I 2023-06-07 22:56:15,368] Trial 173 finished with value: 0.15114111864133972 and parameters: {'regressor': 'ElasticNet', 'alpha': 0.0007421265978519068, 'l1_ratio': 0.7778419263294083}. Best is trial 164 with value: 0.15170537109033977.\n",
      "[I 2023-06-07 22:56:15,539] Trial 174 finished with value: 0.15149443628498538 and parameters: {'regressor': 'ElasticNet', 'alpha': 0.0005491916163259905, 'l1_ratio': 0.7235628496450712}. Best is trial 164 with value: 0.15170537109033977.\n"
     ]
    },
    {
     "name": "stderr",
     "output_type": "stream",
     "text": [
      "[I 2023-06-07 22:56:15,708] Trial 175 finished with value: 0.15048967270164323 and parameters: {'regressor': 'ElasticNet', 'alpha': 0.00045407176337712395, 'l1_ratio': 0.7461122008133894}. Best is trial 164 with value: 0.15170537109033977.\n",
      "[I 2023-06-07 22:56:15,871] Trial 176 finished with value: 0.14998616198369294 and parameters: {'regressor': 'ElasticNet', 'alpha': 0.0008533078784019981, 'l1_ratio': 0.7887673282772848}. Best is trial 164 with value: 0.15170537109033977.\n",
      "[I 2023-06-07 22:56:16,032] Trial 177 finished with value: 0.1516758978150662 and parameters: {'regressor': 'ElasticNet', 'alpha': 0.0006471147154560555, 'l1_ratio': 0.7671217043078351}. Best is trial 164 with value: 0.15170537109033977.\n",
      "[I 2023-06-07 22:56:16,180] Trial 178 finished with value: 0.14593502870503103 and parameters: {'regressor': 'ElasticNet', 'alpha': 0.0011020797438647681, 'l1_ratio': 0.7628312285751783}. Best is trial 164 with value: 0.15170537109033977.\n",
      "[I 2023-06-07 22:56:16,330] Trial 179 finished with value: 0.15114215605178827 and parameters: {'regressor': 'ElasticNet', 'alpha': 0.0007427488068627006, 'l1_ratio': 0.7161817411652599}. Best is trial 164 with value: 0.15170537109033977.\n",
      "[I 2023-06-07 22:56:16,499] Trial 180 finished with value: 0.14900851844395557 and parameters: {'regressor': 'ElasticNet', 'alpha': 0.00038094222318414656, 'l1_ratio': 0.743620442042109}. Best is trial 164 with value: 0.15170537109033977.\n",
      "[I 2023-06-07 22:56:16,650] Trial 181 finished with value: 0.15170304474922086 and parameters: {'regressor': 'ElasticNet', 'alpha': 0.0006264110070312784, 'l1_ratio': 0.776214702455364}. Best is trial 164 with value: 0.15170537109033977.\n",
      "[I 2023-06-07 22:56:16,806] Trial 182 finished with value: 0.15139307274024097 and parameters: {'regressor': 'ElasticNet', 'alpha': 0.0005333945169988642, 'l1_ratio': 0.7732962963497768}. Best is trial 164 with value: 0.15170537109033977.\n",
      "[I 2023-06-07 22:56:16,957] Trial 183 finished with value: 0.15165448765160744 and parameters: {'regressor': 'ElasticNet', 'alpha': 0.0006464619365637659, 'l1_ratio': 0.7937874820032526}. Best is trial 164 with value: 0.15170537109033977.\n",
      "[I 2023-06-07 22:56:17,102] Trial 184 finished with value: 0.14873036728131694 and parameters: {'regressor': 'ElasticNet', 'alpha': 0.0009409636363639922, 'l1_ratio': 0.7743315661421353}. Best is trial 164 with value: 0.15170537109033977.\n",
      "[I 2023-06-07 22:56:17,253] Trial 185 finished with value: 0.15154058311370927 and parameters: {'regressor': 'ElasticNet', 'alpha': 0.0006755066224912812, 'l1_ratio': 0.7929191134114472}. Best is trial 164 with value: 0.15170537109033977.\n",
      "[I 2023-06-07 22:56:17,413] Trial 186 finished with value: 0.1510518451606479 and parameters: {'regressor': 'ElasticNet', 'alpha': 0.0004979643456587467, 'l1_ratio': 0.799102675314586}. Best is trial 164 with value: 0.15170537109033977.\n",
      "[I 2023-06-07 22:56:17,572] Trial 187 finished with value: 0.15109999761873136 and parameters: {'regressor': 'ElasticNet', 'alpha': 0.0007474099915370063, 'l1_ratio': 0.7267514375635921}. Best is trial 164 with value: 0.15170537109033977.\n",
      "[I 2023-06-07 22:56:17,728] Trial 188 finished with value: 0.14996747853147788 and parameters: {'regressor': 'ElasticNet', 'alpha': 0.000425073682835251, 'l1_ratio': 0.7576517961776696}. Best is trial 164 with value: 0.15170537109033977.\n",
      "[I 2023-06-07 22:56:17,879] Trial 189 finished with value: 0.15157712042765903 and parameters: {'regressor': 'ElasticNet', 'alpha': 0.0006671701865930034, 'l1_ratio': 0.7027355806128383}. Best is trial 164 with value: 0.15170537109033977.\n",
      "[I 2023-06-07 22:56:18,026] Trial 190 finished with value: 0.14950142464912392 and parameters: {'regressor': 'ElasticNet', 'alpha': 0.0008886891190918296, 'l1_ratio': 0.6792211564626184}. Best is trial 164 with value: 0.15170537109033977.\n",
      "[I 2023-06-07 22:56:18,176] Trial 191 finished with value: 0.1515540137061253 and parameters: {'regressor': 'ElasticNet', 'alpha': 0.0005596211424177168, 'l1_ratio': 0.7550555509124035}. Best is trial 164 with value: 0.15170537109033977.\n",
      "[I 2023-06-07 22:56:18,326] Trial 192 finished with value: 0.15168200637661028 and parameters: {'regressor': 'ElasticNet', 'alpha': 0.0006176876537091804, 'l1_ratio': 0.8062102496399763}. Best is trial 164 with value: 0.15170537109033977.\n",
      "[I 2023-06-07 22:56:18,551] Trial 193 finished with value: 0.13536731707883 and parameters: {'regressor': 'ElasticNet', 'alpha': 0.00012103240355761909, 'l1_ratio': 0.8098269654050129}. Best is trial 164 with value: 0.15170537109033977.\n",
      "[I 2023-06-07 22:56:18,710] Trial 194 finished with value: 0.1516978168731109 and parameters: {'regressor': 'ElasticNet', 'alpha': 0.0006083557446657731, 'l1_ratio': 0.7843977864952789}. Best is trial 164 with value: 0.15170537109033977.\n",
      "[I 2023-06-07 22:56:18,870] Trial 195 finished with value: 0.1509182542742616 and parameters: {'regressor': 'ElasticNet', 'alpha': 0.0004860935142758901, 'l1_ratio': 0.7925684725069537}. Best is trial 164 with value: 0.15170537109033977.\n",
      "[I 2023-06-07 22:56:24,559] Trial 196 finished with value: 0.13029089468062974 and parameters: {'regressor': 'RandomForestRegressor', 'n_estimators': 276, 'max_depth': 28, 'min_samples_split': 7, 'min_samples_leaf': 3}. Best is trial 164 with value: 0.15170537109033977.\n",
      "[I 2023-06-07 22:56:24,714] Trial 197 finished with value: 0.1503846633030752 and parameters: {'regressor': 'ElasticNet', 'alpha': 0.0008113822365367006, 'l1_ratio': 0.8411806896989782}. Best is trial 164 with value: 0.15170537109033977.\n",
      "[I 2023-06-07 22:56:24,868] Trial 198 finished with value: 0.15165060165592031 and parameters: {'regressor': 'ElasticNet', 'alpha': 0.0005848982838505641, 'l1_ratio': 0.7756933520697766}. Best is trial 164 with value: 0.15170537109033977.\n",
      "[I 2023-06-07 22:56:24,958] Trial 199 finished with value: 0.12157069318821215 and parameters: {'regressor': 'LinearRegression'}. Best is trial 164 with value: 0.15170537109033977.\n",
      "[I 2023-06-07 22:56:25,131] Trial 200 finished with value: 0.14704660977645112 and parameters: {'regressor': 'ElasticNet', 'alpha': 0.0003206901871946903, 'l1_ratio': 0.8119545113203657}. Best is trial 164 with value: 0.15170537109033977.\n",
      "[I 2023-06-07 22:56:25,292] Trial 201 finished with value: 0.15150722254189708 and parameters: {'regressor': 'ElasticNet', 'alpha': 0.0006844136808282622, 'l1_ratio': 0.7841140635950654}. Best is trial 164 with value: 0.15170537109033977.\n",
      "[I 2023-06-07 22:56:25,446] Trial 202 finished with value: 0.15169131617543866 and parameters: {'regressor': 'ElasticNet', 'alpha': 0.0006150572795975345, 'l1_ratio': 0.7395968057641998}. Best is trial 164 with value: 0.15170537109033977.\n",
      "[I 2023-06-07 22:56:25,604] Trial 203 finished with value: 0.15065295891216302 and parameters: {'regressor': 'ElasticNet', 'alpha': 0.00046475572531703556, 'l1_ratio': 0.7444589837617583}. Best is trial 164 with value: 0.15170537109033977.\n",
      "[I 2023-06-07 22:56:25,759] Trial 204 finished with value: 0.1516487510332604 and parameters: {'regressor': 'ElasticNet', 'alpha': 0.0005884765706154886, 'l1_ratio': 0.8071419723190609}. Best is trial 164 with value: 0.15170537109033977.\n",
      "[I 2023-06-07 22:56:25,911] Trial 205 finished with value: 0.1502709280791315 and parameters: {'regressor': 'ElasticNet', 'alpha': 0.0008315400734208304, 'l1_ratio': 0.7702337081788314}. Best is trial 164 with value: 0.15170537109033977.\n",
      "[I 2023-06-07 22:56:26,075] Trial 206 finished with value: 0.1493495777750889 and parameters: {'regressor': 'ElasticNet', 'alpha': 0.00040419024245066866, 'l1_ratio': 0.8551386544634263}. Best is trial 164 with value: 0.15170537109033977.\n",
      "[I 2023-06-07 22:56:26,199] Trial 207 finished with value: 0.13063616928729113 and parameters: {'regressor': 'ElasticNet', 'alpha': 0.0019257271021727636, 'l1_ratio': 0.7325647002788683}. Best is trial 164 with value: 0.15170537109033977.\n",
      "[I 2023-06-07 22:56:26,341] Trial 208 finished with value: 0.14457677193746532 and parameters: {'regressor': 'ElasticNet', 'alpha': 0.0011583594053781645, 'l1_ratio': 0.8323334801373209}. Best is trial 164 with value: 0.15170537109033977.\n",
      "[I 2023-06-07 22:56:26,653] Trial 209 finished with value: 0.0536599252616458 and parameters: {'regressor': 'KNeighborsRegressor', 'n_neighbors': 37, 'weights': 'uniform', 'p': 2}. Best is trial 164 with value: 0.15170537109033977.\n"
     ]
    },
    {
     "name": "stderr",
     "output_type": "stream",
     "text": [
      "[I 2023-06-07 22:56:26,803] Trial 210 finished with value: 0.15133303749879928 and parameters: {'regressor': 'ElasticNet', 'alpha': 0.0005267762717226711, 'l1_ratio': 0.7882883822063148}. Best is trial 164 with value: 0.15170537109033977.\n",
      "[I 2023-06-07 22:56:26,957] Trial 211 finished with value: 0.1516658651100754 and parameters: {'regressor': 'ElasticNet', 'alpha': 0.0006519594668501185, 'l1_ratio': 0.7586894782644751}. Best is trial 164 with value: 0.15170537109033977.\n",
      "[I 2023-06-07 22:56:27,107] Trial 212 finished with value: 0.15159565023632193 and parameters: {'regressor': 'ElasticNet', 'alpha': 0.0006718944881243049, 'l1_ratio': 0.7642587659923655}. Best is trial 164 with value: 0.15170537109033977.\n",
      "[I 2023-06-07 22:56:27,256] Trial 213 finished with value: 0.15112289733985512 and parameters: {'regressor': 'ElasticNet', 'alpha': 0.0007426412141753208, 'l1_ratio': 0.803614116504928}. Best is trial 164 with value: 0.15170537109033977.\n",
      "[I 2023-06-07 22:56:27,414] Trial 214 finished with value: 0.15157712212678054 and parameters: {'regressor': 'ElasticNet', 'alpha': 0.0005648368064644618, 'l1_ratio': 0.7397733233094241}. Best is trial 164 with value: 0.15170537109033977.\n",
      "[I 2023-06-07 22:56:28,322] Trial 215 finished with value: 0.11550608682686292 and parameters: {'regressor': 'ExtraTreesRegressor', 'n_estimators': 332, 'max_depth': 7, 'min_samples_split': 3, 'min_samples_leaf': 9}. Best is trial 164 with value: 0.15170537109033977.\n",
      "[I 2023-06-07 22:56:28,468] Trial 216 finished with value: 0.1485824762595362 and parameters: {'regressor': 'ElasticNet', 'alpha': 0.0009503605370688222, 'l1_ratio': 0.7719826051847085}. Best is trial 164 with value: 0.15170537109033977.\n",
      "[I 2023-06-07 22:56:28,628] Trial 217 finished with value: 0.15080739214360112 and parameters: {'regressor': 'ElasticNet', 'alpha': 0.00047629458381092445, 'l1_ratio': 0.754461074418266}. Best is trial 164 with value: 0.15170537109033977.\n",
      "[I 2023-06-07 22:56:28,780] Trial 218 finished with value: 0.15169622495232624 and parameters: {'regressor': 'ElasticNet', 'alpha': 0.0006200757120895215, 'l1_ratio': 0.7933041940106506}. Best is trial 164 with value: 0.15170537109033977.\n",
      "[I 2023-06-07 22:56:28,931] Trial 219 finished with value: 0.15059546306341703 and parameters: {'regressor': 'ElasticNet', 'alpha': 0.0007971648025107149, 'l1_ratio': 0.8199501124876065}. Best is trial 164 with value: 0.15170537109033977.\n",
      "[I 2023-06-07 22:56:29,081] Trial 220 finished with value: 0.15162009622772757 and parameters: {'regressor': 'ElasticNet', 'alpha': 0.0005760234171407275, 'l1_ratio': 0.7802826355551451}. Best is trial 164 with value: 0.15170537109033977.\n",
      "[I 2023-06-07 22:56:29,235] Trial 221 finished with value: 0.15162416001287338 and parameters: {'regressor': 'ElasticNet', 'alpha': 0.0006570853559464795, 'l1_ratio': 0.7912087092238675}. Best is trial 164 with value: 0.15170537109033977.\n",
      "[I 2023-06-07 22:56:29,387] Trial 222 finished with value: 0.15169424990738117 and parameters: {'regressor': 'ElasticNet', 'alpha': 0.0006368032795733532, 'l1_ratio': 0.7584287300767183}. Best is trial 164 with value: 0.15170537109033977.\n",
      "[I 2023-06-07 22:56:29,550] Trial 223 finished with value: 0.14984362007335544 and parameters: {'regressor': 'ElasticNet', 'alpha': 0.000418884722961611, 'l1_ratio': 0.7587273100474282}. Best is trial 164 with value: 0.15170537109033977.\n",
      "[I 2023-06-07 22:56:29,705] Trial 224 finished with value: 0.1510183925727316 and parameters: {'regressor': 'ElasticNet', 'alpha': 0.0004932503989508886, 'l1_ratio': 0.7321499118260566}. Best is trial 164 with value: 0.15170537109033977.\n",
      "[I 2023-06-07 22:56:29,851] Trial 225 finished with value: 0.150867457149432 and parameters: {'regressor': 'ElasticNet', 'alpha': 0.0007750665025434227, 'l1_ratio': 0.7688228800033813}. Best is trial 164 with value: 0.15170537109033977.\n",
      "[I 2023-06-07 22:56:30,002] Trial 226 finished with value: 0.14851518118660556 and parameters: {'regressor': 'ElasticNet', 'alpha': 0.0009573477054081366, 'l1_ratio': 0.7471478750010799}. Best is trial 164 with value: 0.15170537109033977.\n",
      "[I 2023-06-07 22:56:30,152] Trial 227 finished with value: 0.15166677514690302 and parameters: {'regressor': 'ElasticNet', 'alpha': 0.0006219674323757757, 'l1_ratio': 0.8141806769355924}. Best is trial 164 with value: 0.15170537109033977.\n",
      "[I 2023-06-07 22:56:30,303] Trial 228 finished with value: 0.151299548605224 and parameters: {'regressor': 'ElasticNet', 'alpha': 0.0007151188646657057, 'l1_ratio': 0.8137181305960491}. Best is trial 164 with value: 0.15170537109033977.\n",
      "[I 2023-06-07 22:56:30,470] Trial 229 finished with value: 0.14914018573019788 and parameters: {'regressor': 'ElasticNet', 'alpha': 0.0003935649720606599, 'l1_ratio': 0.8368690401618976}. Best is trial 164 with value: 0.15170537109033977.\n",
      "[I 2023-06-07 22:56:30,597] Trial 230 finished with value: 0.10765473195818691 and parameters: {'regressor': 'ElasticNet', 'alpha': 0.0037682035321586166, 'l1_ratio': 0.8675004211720154}. Best is trial 164 with value: 0.15170537109033977.\n",
      "[I 2023-06-07 22:56:30,748] Trial 231 finished with value: 0.1516941081746959 and parameters: {'regressor': 'ElasticNet', 'alpha': 0.0006054931265570287, 'l1_ratio': 0.7841346225116154}. Best is trial 164 with value: 0.15170537109033977.\n",
      "[I 2023-06-07 22:56:30,904] Trial 232 finished with value: 0.15133887614501287 and parameters: {'regressor': 'ElasticNet', 'alpha': 0.0005286602001446912, 'l1_ratio': 0.7983735971979935}. Best is trial 164 with value: 0.15170537109033977.\n",
      "[I 2023-06-07 22:56:31,051] Trial 233 finished with value: 0.15166138023929757 and parameters: {'regressor': 'ElasticNet', 'alpha': 0.0006116187783637166, 'l1_ratio': 0.8194058259158811}. Best is trial 164 with value: 0.15170537109033977.\n",
      "[I 2023-06-07 22:56:31,204] Trial 234 finished with value: 0.15106793564737403 and parameters: {'regressor': 'ElasticNet', 'alpha': 0.0007512989001373722, 'l1_ratio': 0.7810218297621129}. Best is trial 164 with value: 0.15170537109033977.\n",
      "[I 2023-06-07 22:56:31,365] Trial 235 finished with value: 0.15094097087283265 and parameters: {'regressor': 'ElasticNet', 'alpha': 0.00048714137789056787, 'l1_ratio': 0.7799832956785092}. Best is trial 164 with value: 0.15170537109033977.\n",
      "[I 2023-06-07 22:56:31,515] Trial 236 finished with value: 0.14976819784688447 and parameters: {'regressor': 'ElasticNet', 'alpha': 0.00086745367851022, 'l1_ratio': 0.802570848712211}. Best is trial 164 with value: 0.15170537109033977.\n",
      "[I 2023-06-07 22:56:31,672] Trial 237 finished with value: 0.1516748799232514 and parameters: {'regressor': 'ElasticNet', 'alpha': 0.0006308874038247417, 'l1_ratio': 0.7230433942747775}. Best is trial 164 with value: 0.15170537109033977.\n",
      "[I 2023-06-07 22:56:31,768] Trial 238 finished with value: 0.011512742548594634 and parameters: {'regressor': 'ElasticNet', 'alpha': 0.026559226780819865, 'l1_ratio': 0.7191949247954275}. Best is trial 164 with value: 0.15170537109033977.\n",
      "[I 2023-06-07 22:56:31,963] Trial 239 finished with value: 0.140500263677264 and parameters: {'regressor': 'ElasticNet', 'alpha': 0.00018282913116245402, 'l1_ratio': 0.6987200274249068}. Best is trial 164 with value: 0.15170537109033977.\n",
      "[I 2023-06-07 22:56:34,471] Trial 240 finished with value: 0.12448282242305622 and parameters: {'regressor': 'RandomForestRegressor', 'n_estimators': 229, 'max_depth': 14, 'min_samples_split': 4, 'min_samples_leaf': 2}. Best is trial 164 with value: 0.15170537109033977.\n",
      "[I 2023-06-07 22:56:34,623] Trial 241 finished with value: 0.15166310496845278 and parameters: {'regressor': 'ElasticNet', 'alpha': 0.0005952042542998771, 'l1_ratio': 0.737396469338396}. Best is trial 164 with value: 0.15170537109033977.\n",
      "[I 2023-06-07 22:56:34,772] Trial 242 finished with value: 0.15155471487595717 and parameters: {'regressor': 'ElasticNet', 'alpha': 0.0006808565364680323, 'l1_ratio': 0.7615844910765576}. Best is trial 164 with value: 0.15170537109033977.\n",
      "[I 2023-06-07 22:56:34,925] Trial 243 finished with value: 0.151481429811607 and parameters: {'regressor': 'ElasticNet', 'alpha': 0.0005470279169638225, 'l1_ratio': 0.7754655501921862}. Best is trial 164 with value: 0.15170537109033977.\n",
      "[I 2023-06-07 22:56:35,075] Trial 244 finished with value: 0.1516598036498839 and parameters: {'regressor': 'ElasticNet', 'alpha': 0.0006423861240499967, 'l1_ratio': 0.7974181674760518}. Best is trial 164 with value: 0.15170537109033977.\n"
     ]
    },
    {
     "name": "stderr",
     "output_type": "stream",
     "text": [
      "[I 2023-06-07 22:56:35,232] Trial 245 finished with value: 0.1507271783066581 and parameters: {'regressor': 'ElasticNet', 'alpha': 0.0007894528945832701, 'l1_ratio': 0.7465273380442934}. Best is trial 164 with value: 0.15170537109033977.\n",
      "[I 2023-06-07 22:56:35,392] Trial 246 finished with value: 0.1505215791418489 and parameters: {'regressor': 'ElasticNet', 'alpha': 0.00045730483132817737, 'l1_ratio': 0.655883907519367}. Best is trial 164 with value: 0.15170537109033977.\n",
      "[I 2023-06-07 22:56:35,556] Trial 247 finished with value: 0.14818566316600795 and parameters: {'regressor': 'ElasticNet', 'alpha': 0.0003570929366640773, 'l1_ratio': 0.8266621297856473}. Best is trial 164 with value: 0.15170537109033977.\n",
      "[I 2023-06-07 22:56:35,694] Trial 248 finished with value: 0.1478112428186079 and parameters: {'regressor': 'ElasticNet', 'alpha': 0.0010013561856963911, 'l1_ratio': 0.7197696662384481}. Best is trial 164 with value: 0.15170537109033977.\n",
      "[I 2023-06-07 22:56:35,785] Trial 249 finished with value: 0.12157069318821215 and parameters: {'regressor': 'LinearRegression'}. Best is trial 164 with value: 0.15170537109033977.\n",
      "[I 2023-06-07 22:56:35,935] Trial 250 finished with value: 0.1516841029044454 and parameters: {'regressor': 'ElasticNet', 'alpha': 0.0006383094709722118, 'l1_ratio': 0.7838271683855962}. Best is trial 164 with value: 0.15170537109033977.\n",
      "[I 2023-06-07 22:56:36,086] Trial 251 finished with value: 0.15127616714917738 and parameters: {'regressor': 'ElasticNet', 'alpha': 0.0005199226713452006, 'l1_ratio': 0.7877396710675412}. Best is trial 164 with value: 0.15170537109033977.\n",
      "[I 2023-06-07 22:56:36,237] Trial 252 finished with value: 0.15011722913812192 and parameters: {'regressor': 'ElasticNet', 'alpha': 0.0008395617970124793, 'l1_ratio': 0.8120645356801867}. Best is trial 164 with value: 0.15170537109033977.\n",
      "[I 2023-06-07 22:56:36,389] Trial 253 finished with value: 0.1516098280365188 and parameters: {'regressor': 'ElasticNet', 'alpha': 0.000601739732716135, 'l1_ratio': 0.8422599513262298}. Best is trial 164 with value: 0.15170537109033977.\n",
      "[I 2023-06-07 22:56:38,986] Trial 254 finished with value: 0.13081892399728215 and parameters: {'regressor': 'ExtraTreesRegressor', 'n_estimators': 409, 'max_depth': 18, 'min_samples_split': 9, 'min_samples_leaf': 7}. Best is trial 164 with value: 0.15170537109033977.\n",
      "[I 2023-06-07 22:56:39,545] Trial 255 finished with value: -0.1337181476188521 and parameters: {'regressor': 'KNeighborsRegressor', 'n_neighbors': 9, 'weights': 'distance', 'p': 1}. Best is trial 164 with value: 0.15170537109033977.\n",
      "[I 2023-06-07 22:56:39,707] Trial 256 finished with value: 0.15025964082147505 and parameters: {'regressor': 'ElasticNet', 'alpha': 0.00044161390077562953, 'l1_ratio': 0.6339023691291152}. Best is trial 164 with value: 0.15170537109033977.\n",
      "[I 2023-06-07 22:56:39,855] Trial 257 finished with value: 0.15137446009695826 and parameters: {'regressor': 'ElasticNet', 'alpha': 0.0007082471746252712, 'l1_ratio': 0.7758249045925939}. Best is trial 164 with value: 0.15170537109033977.\n",
      "[I 2023-06-07 22:56:39,996] Trial 258 finished with value: 0.14277961938425893 and parameters: {'regressor': 'ElasticNet', 'alpha': 0.0012561168267619693, 'l1_ratio': 0.8034643611765342}. Best is trial 164 with value: 0.15170537109033977.\n",
      "[I 2023-06-07 22:56:40,152] Trial 259 finished with value: 0.15058425987105173 and parameters: {'regressor': 'ElasticNet', 'alpha': 0.0005344786425379242, 'l1_ratio': 0.4271479145323936}. Best is trial 164 with value: 0.15170537109033977.\n",
      "[I 2023-06-07 22:56:40,307] Trial 260 finished with value: 0.15016859109056413 and parameters: {'regressor': 'ElasticNet', 'alpha': 0.0008402455295206591, 'l1_ratio': 0.7340063908322815}. Best is trial 164 with value: 0.15170537109033977.\n",
      "[I 2023-06-07 22:56:40,497] Trial 261 finished with value: 0.14430035502633265 and parameters: {'regressor': 'ElasticNet', 'alpha': 0.0002515676278471445, 'l1_ratio': 0.7634269644148741}. Best is trial 164 with value: 0.15170537109033977.\n",
      "[I 2023-06-07 22:56:40,649] Trial 262 finished with value: 0.1516256213261617 and parameters: {'regressor': 'ElasticNet', 'alpha': 0.0006589764014839923, 'l1_ratio': 0.7853001002006218}. Best is trial 164 with value: 0.15170537109033977.\n",
      "[I 2023-06-07 22:56:40,816] Trial 263 finished with value: 0.14901389071845733 and parameters: {'regressor': 'ElasticNet', 'alpha': 0.0003871925297793215, 'l1_ratio': 0.8228915783790719}. Best is trial 164 with value: 0.15170537109033977.\n",
      "[I 2023-06-07 22:56:40,977] Trial 264 finished with value: 0.15110741443727865 and parameters: {'regressor': 'ElasticNet', 'alpha': 0.0005007448812653427, 'l1_ratio': 0.7433431419334651}. Best is trial 164 with value: 0.15170537109033977.\n",
      "[I 2023-06-07 22:56:41,119] Trial 265 finished with value: 0.14608375541802224 and parameters: {'regressor': 'ElasticNet', 'alpha': 0.0010976869793461463, 'l1_ratio': 0.7057601568171791}. Best is trial 164 with value: 0.15170537109033977.\n",
      "[I 2023-06-07 22:56:41,271] Trial 266 finished with value: 0.15118556973621405 and parameters: {'regressor': 'ElasticNet', 'alpha': 0.0007350670022066868, 'l1_ratio': 0.7924995740985374}. Best is trial 164 with value: 0.15170537109033977.\n",
      "[I 2023-06-07 22:56:41,452] Trial 267 finished with value: 0.1462809245246614 and parameters: {'regressor': 'ElasticNet', 'alpha': 0.00029722249490467587, 'l1_ratio': 0.7692593633464302}. Best is trial 164 with value: 0.15170537109033977.\n",
      "[I 2023-06-07 22:56:41,609] Trial 268 finished with value: 0.15124607541699014 and parameters: {'regressor': 'ElasticNet', 'alpha': 0.0005785459835631359, 'l1_ratio': 0.5522072760078316}. Best is trial 164 with value: 0.15170537109033977.\n",
      "[I 2023-06-07 22:56:41,801] Trial 269 finished with value: 0.13794199075337024 and parameters: {'regressor': 'ElasticNet', 'alpha': 0.00016030427275271462, 'l1_ratio': 0.9702799490345441}. Best is trial 164 with value: 0.15170537109033977.\n",
      "[I 2023-06-07 22:56:41,947] Trial 270 finished with value: 0.14784027531751365 and parameters: {'regressor': 'ElasticNet', 'alpha': 0.0009792615617856759, 'l1_ratio': 0.8528312875754313}. Best is trial 164 with value: 0.15170537109033977.\n",
      "[I 2023-06-07 22:56:44,277] Trial 271 finished with value: 0.11654067930338208 and parameters: {'regressor': 'RandomForestRegressor', 'n_estimators': 442, 'max_depth': 6, 'min_samples_split': 2, 'min_samples_leaf': 3}. Best is trial 164 with value: 0.15170537109033977.\n",
      "[I 2023-06-07 22:56:44,368] Trial 272 finished with value: 0.12157069318821215 and parameters: {'regressor': 'LinearRegression'}. Best is trial 164 with value: 0.15170537109033977.\n",
      "[I 2023-06-07 22:56:44,528] Trial 273 finished with value: 0.15062618570605985 and parameters: {'regressor': 'ElasticNet', 'alpha': 0.0004661356982911447, 'l1_ratio': 0.808013161688815}. Best is trial 164 with value: 0.15170537109033977.\n",
      "[I 2023-06-07 22:56:44,684] Trial 274 finished with value: 0.15165995989774475 and parameters: {'regressor': 'ElasticNet', 'alpha': 0.0006538973370778003, 'l1_ratio': 0.750753431247205}. Best is trial 164 with value: 0.15170537109033977.\n",
      "[I 2023-06-07 22:56:44,834] Trial 275 finished with value: 0.15006522193490884 and parameters: {'regressor': 'ElasticNet', 'alpha': 0.000839142317805953, 'l1_ratio': 0.8326608123988165}. Best is trial 164 with value: 0.15170537109033977.\n",
      "[I 2023-06-07 22:56:44,985] Trial 276 finished with value: 0.15149619093946284 and parameters: {'regressor': 'ElasticNet', 'alpha': 0.0005580845589477068, 'l1_ratio': 0.6815081411509222}. Best is trial 164 with value: 0.15170537109033977.\n",
      "[I 2023-06-07 22:56:45,146] Trial 277 finished with value: 0.14851398337636518 and parameters: {'regressor': 'ElasticNet', 'alpha': 0.0004160843122084089, 'l1_ratio': 0.2181988581851635}. Best is trial 164 with value: 0.15170537109033977.\n",
      "[I 2023-06-07 22:56:45,298] Trial 278 finished with value: 0.15110960489416161 and parameters: {'regressor': 'ElasticNet', 'alpha': 0.0007460727154573387, 'l1_ratio': 0.7797689699974081}. Best is trial 164 with value: 0.15170537109033977.\n",
      "[I 2023-06-07 22:56:45,857] Trial 279 finished with value: -0.020001329055215546 and parameters: {'regressor': 'KNeighborsRegressor', 'n_neighbors': 22, 'weights': 'distance', 'p': 1}. Best is trial 164 with value: 0.15170537109033977.\n"
     ]
    },
    {
     "name": "stderr",
     "output_type": "stream",
     "text": [
      "[I 2023-06-07 22:56:46,007] Trial 280 finished with value: 0.1514928862767972 and parameters: {'regressor': 'ElasticNet', 'alpha': 0.0005968865194045624, 'l1_ratio': 0.8793581354672076}. Best is trial 164 with value: 0.15170537109033977.\n",
      "[I 2023-06-07 22:56:48,042] Trial 281 finished with value: 0.12415873109319826 and parameters: {'regressor': 'ExtraTreesRegressor', 'n_estimators': 495, 'max_depth': 12, 'min_samples_split': 2, 'min_samples_leaf': 9}. Best is trial 164 with value: 0.15170537109033977.\n",
      "[I 2023-06-07 22:56:48,187] Trial 282 finished with value: 0.148771526938526 and parameters: {'regressor': 'ElasticNet', 'alpha': 0.0009422495241382596, 'l1_ratio': 0.7288612178186871}. Best is trial 164 with value: 0.15170537109033977.\n",
      "[I 2023-06-07 22:56:48,343] Trial 283 finished with value: 0.15110873414047876 and parameters: {'regressor': 'ElasticNet', 'alpha': 0.0005009146800024595, 'l1_ratio': 0.7618852851623972}. Best is trial 164 with value: 0.15170537109033977.\n",
      "[I 2023-06-07 22:56:48,494] Trial 284 finished with value: 0.15135607935309295 and parameters: {'regressor': 'ElasticNet', 'alpha': 0.0007092393845153198, 'l1_ratio': 0.793842096723082}. Best is trial 164 with value: 0.15170537109033977.\n",
      "[I 2023-06-07 22:56:48,652] Trial 285 finished with value: 0.1516661081389732 and parameters: {'regressor': 'ElasticNet', 'alpha': 0.000625342507920268, 'l1_ratio': 0.8126326696292246}. Best is trial 164 with value: 0.15170537109033977.\n",
      "[I 2023-06-07 22:56:48,822] Trial 286 finished with value: 0.1481533715544176 and parameters: {'regressor': 'ElasticNet', 'alpha': 0.0003503791803412743, 'l1_ratio': 0.749298633856601}. Best is trial 164 with value: 0.15170537109033977.\n",
      "[I 2023-06-07 22:56:48,983] Trial 287 finished with value: 0.15026242405413115 and parameters: {'regressor': 'ElasticNet', 'alpha': 0.0004416932870760059, 'l1_ratio': 0.7745969184315427}. Best is trial 164 with value: 0.15170537109033977.\n",
      "[I 2023-06-07 22:56:49,138] Trial 288 finished with value: 0.1514334297255288 and parameters: {'regressor': 'ElasticNet', 'alpha': 0.0005395765693847236, 'l1_ratio': 0.720993030751241}. Best is trial 164 with value: 0.15170537109033977.\n",
      "[I 2023-06-07 22:56:49,273] Trial 289 finished with value: 0.1396517271021102 and parameters: {'regressor': 'ElasticNet', 'alpha': 0.001440980282802316, 'l1_ratio': 0.9124720091971821}. Best is trial 164 with value: 0.15170537109033977.\n",
      "[I 2023-06-07 22:56:49,424] Trial 290 finished with value: 0.15053316187107296 and parameters: {'regressor': 'ElasticNet', 'alpha': 0.0008060121521926857, 'l1_ratio': 0.7987156343707813}. Best is trial 164 with value: 0.15170537109033977.\n",
      "[I 2023-06-07 22:56:49,549] Trial 291 finished with value: 0.12071637524612186 and parameters: {'regressor': 'ElasticNet', 'alpha': 0.002657589672141851, 'l1_ratio': 0.8188341966670329}. Best is trial 164 with value: 0.15170537109033977.\n",
      "[I 2023-06-07 22:56:49,635] Trial 292 finished with value: -0.0004066991582208246 and parameters: {'regressor': 'ElasticNet', 'alpha': 0.23011308631062155, 'l1_ratio': 0.8429690171824434}. Best is trial 164 with value: 0.15170537109033977.\n",
      "[I 2023-06-07 22:56:49,773] Trial 293 finished with value: 0.14676941716845116 and parameters: {'regressor': 'ElasticNet', 'alpha': 0.0010562650783413978, 'l1_ratio': 0.7625173747534142}. Best is trial 164 with value: 0.15170537109033977.\n",
      "[I 2023-06-07 22:56:49,922] Trial 294 finished with value: 0.15152952400032857 and parameters: {'regressor': 'ElasticNet', 'alpha': 0.0006802114676211108, 'l1_ratio': 0.7847404405436832}. Best is trial 164 with value: 0.15170537109033977.\n",
      "[I 2023-06-07 22:56:50,072] Trial 295 finished with value: 0.1504101186472257 and parameters: {'regressor': 'ElasticNet', 'alpha': 0.0008196443970167703, 'l1_ratio': 0.7410815866227046}. Best is trial 164 with value: 0.15170537109033977.\n",
      "[I 2023-06-07 22:56:51,030] Trial 296 finished with value: 0.11972345148972678 and parameters: {'regressor': 'RandomForestRegressor', 'n_estimators': 135, 'max_depth': 8, 'min_samples_split': 6, 'min_samples_leaf': 1}. Best is trial 164 with value: 0.15170537109033977.\n",
      "[I 2023-06-07 22:56:51,188] Trial 297 finished with value: 0.15111408881989274 and parameters: {'regressor': 'ElasticNet', 'alpha': 0.0005031520073384251, 'l1_ratio': 0.7030240120872218}. Best is trial 164 with value: 0.15170537109033977.\n",
      "[I 2023-06-07 22:56:51,300] Trial 298 finished with value: 0.08103141018972368 and parameters: {'regressor': 'ElasticNet', 'alpha': 0.0063716318445508355, 'l1_ratio': 0.8007687902771067}. Best is trial 164 with value: 0.15170537109033977.\n",
      "[I 2023-06-07 22:56:51,390] Trial 299 finished with value: 0.12157069318821215 and parameters: {'regressor': 'LinearRegression'}. Best is trial 164 with value: 0.15170537109033977.\n",
      "[I 2023-06-07 22:56:51,545] Trial 300 finished with value: 0.15169695477032086 and parameters: {'regressor': 'ElasticNet', 'alpha': 0.0006073517810606062, 'l1_ratio': 0.7681423803189273}. Best is trial 164 with value: 0.15170537109033977.\n",
      "[I 2023-06-07 22:56:51,713] Trial 301 finished with value: 0.1493094532195734 and parameters: {'regressor': 'ElasticNet', 'alpha': 0.00039454283145817163, 'l1_ratio': 0.764147383786927}. Best is trial 164 with value: 0.15170537109033977.\n",
      "[I 2023-06-07 22:56:51,867] Trial 302 finished with value: 0.15129459414985588 and parameters: {'regressor': 'ElasticNet', 'alpha': 0.0007237368586036069, 'l1_ratio': 0.7320828591004319}. Best is trial 164 with value: 0.15170537109033977.\n",
      "[I 2023-06-07 22:56:52,022] Trial 303 finished with value: 0.15167728793207194 and parameters: {'regressor': 'ElasticNet', 'alpha': 0.0005953348098603214, 'l1_ratio': 0.7787581924293099}. Best is trial 164 with value: 0.15170537109033977.\n",
      "[I 2023-06-07 22:56:52,157] Trial 304 finished with value: 0.1439704091132496 and parameters: {'regressor': 'ElasticNet', 'alpha': 0.0012050181704037054, 'l1_ratio': 0.7499491775189796}. Best is trial 164 with value: 0.15170537109033977.\n",
      "[I 2023-06-07 22:56:52,371] Trial 305 finished with value: 0.13717579972420574 and parameters: {'regressor': 'ElasticNet', 'alpha': 0.00014100297820017816, 'l1_ratio': 0.7733506987224298}. Best is trial 164 with value: 0.15170537109033977.\n",
      "[I 2023-06-07 22:56:52,678] Trial 306 finished with value: 0.05321770261849183 and parameters: {'regressor': 'KNeighborsRegressor', 'n_neighbors': 40, 'weights': 'uniform', 'p': 2}. Best is trial 164 with value: 0.15170537109033977.\n",
      "[I 2023-06-07 22:56:52,834] Trial 307 finished with value: 0.1507763864700703 and parameters: {'regressor': 'ElasticNet', 'alpha': 0.0004736349747373372, 'l1_ratio': 0.7154246334785143}. Best is trial 164 with value: 0.15170537109033977.\n",
      "[I 2023-06-07 22:56:55,544] Trial 308 finished with value: 0.13169609213401373 and parameters: {'regressor': 'ExtraTreesRegressor', 'n_estimators': 362, 'max_depth': 21, 'min_samples_split': 7, 'min_samples_leaf': 9}. Best is trial 164 with value: 0.15170537109033977.\n",
      "[I 2023-06-07 22:56:55,722] Trial 309 finished with value: 0.14778639989468662 and parameters: {'regressor': 'ElasticNet', 'alpha': 0.0003405180168783031, 'l1_ratio': 0.781772679669293}. Best is trial 164 with value: 0.15170537109033977.\n",
      "[I 2023-06-07 22:56:55,872] Trial 310 finished with value: 0.14886960579579625 and parameters: {'regressor': 'ElasticNet', 'alpha': 0.0009350722713411014, 'l1_ratio': 0.7464619449091805}. Best is trial 164 with value: 0.15170537109033977.\n",
      "[I 2023-06-07 22:56:56,026] Trial 311 finished with value: 0.15160626105769584 and parameters: {'regressor': 'ElasticNet', 'alpha': 0.0005722974249485036, 'l1_ratio': 0.7656708704246897}. Best is trial 164 with value: 0.15170537109033977.\n",
      "[I 2023-06-07 22:56:56,178] Trial 312 finished with value: 0.15119987855944936 and parameters: {'regressor': 'ElasticNet', 'alpha': 0.0007337107046341584, 'l1_ratio': 0.7860377272849748}. Best is trial 164 with value: 0.15170537109033977.\n",
      "[I 2023-06-07 22:56:56,336] Trial 313 finished with value: 0.15146840607398038 and parameters: {'regressor': 'ElasticNet', 'alpha': 0.0005438463510004155, 'l1_ratio': 0.7349171314073012}. Best is trial 164 with value: 0.15170537109033977.\n",
      "[I 2023-06-07 22:56:56,507] Trial 314 finished with value: 0.1461499144775494 and parameters: {'regressor': 'ElasticNet', 'alpha': 0.00028995892107164885, 'l1_ratio': 0.6967637391025059}. Best is trial 164 with value: 0.15170537109033977.\n"
     ]
    },
    {
     "name": "stderr",
     "output_type": "stream",
     "text": [
      "[I 2023-06-07 22:56:56,677] Trial 315 finished with value: 0.1497736231377096 and parameters: {'regressor': 'ElasticNet', 'alpha': 0.00041534559301766846, 'l1_ratio': 0.7578539128202428}. Best is trial 164 with value: 0.15170537109033977.\n",
      "[I 2023-06-07 22:56:56,835] Trial 316 finished with value: 0.151320282696129 and parameters: {'regressor': 'ElasticNet', 'alpha': 0.0006310722661684828, 'l1_ratio': 0.9220628988618411}. Best is trial 164 with value: 0.15170537109033977.\n",
      "[I 2023-06-07 22:56:56,981] Trial 317 finished with value: 0.15026483184760853 and parameters: {'regressor': 'ElasticNet', 'alpha': 0.0008302524829514935, 'l1_ratio': 0.794194800363259}. Best is trial 164 with value: 0.15170537109033977.\n",
      "[I 2023-06-07 22:56:57,139] Trial 318 finished with value: 0.15109701588118493 and parameters: {'regressor': 'ElasticNet', 'alpha': 0.0005046180506504659, 'l1_ratio': 0.6697746898113708}. Best is trial 164 with value: 0.15170537109033977.\n",
      "[I 2023-06-07 22:56:57,292] Trial 319 finished with value: 0.15166851358691086 and parameters: {'regressor': 'ElasticNet', 'alpha': 0.0006378893943637759, 'l1_ratio': 0.7236796132818045}. Best is trial 164 with value: 0.15170537109033977.\n",
      "[I 2023-06-07 22:56:57,433] Trial 320 finished with value: 0.14671399592955123 and parameters: {'regressor': 'ElasticNet', 'alpha': 0.001058070821134478, 'l1_ratio': 0.7739423411416129}. Best is trial 164 with value: 0.15170537109033977.\n",
      "[I 2023-06-07 22:56:57,594] Trial 321 finished with value: 0.15003118890153813 and parameters: {'regressor': 'ElasticNet', 'alpha': 0.00043332298004280503, 'l1_ratio': 0.826641818283148}. Best is trial 164 with value: 0.15170537109033977.\n",
      "[I 2023-06-07 22:56:57,720] Trial 322 finished with value: 0.13348938292516865 and parameters: {'regressor': 'ElasticNet', 'alpha': 0.0018265202971497535, 'l1_ratio': 0.8934938783582015}. Best is trial 164 with value: 0.15170537109033977.\n",
      "[I 2023-06-07 22:56:57,914] Trial 323 finished with value: 0.14322944585632857 and parameters: {'regressor': 'ElasticNet', 'alpha': 0.0002299752704735801, 'l1_ratio': 0.7498642478882219}. Best is trial 164 with value: 0.15170537109033977.\n",
      "[I 2023-06-07 22:56:59,969] Trial 324 finished with value: 0.1281602832008934 and parameters: {'regressor': 'RandomForestRegressor', 'n_estimators': 176, 'max_depth': 15, 'min_samples_split': 3, 'min_samples_leaf': 5}. Best is trial 164 with value: 0.15170537109033977.\n",
      "[I 2023-06-07 22:57:00,123] Trial 325 finished with value: 0.14932247218281502 and parameters: {'regressor': 'ElasticNet', 'alpha': 0.0008990992314838164, 'l1_ratio': 0.799173359784432}. Best is trial 164 with value: 0.15170537109033977.\n",
      "[I 2023-06-07 22:57:00,274] Trial 326 finished with value: 0.15060389053895692 and parameters: {'regressor': 'ElasticNet', 'alpha': 0.0007057573614126076, 'l1_ratio': 0.9865761174702283}. Best is trial 164 with value: 0.15170537109033977.\n",
      "[I 2023-06-07 22:57:00,369] Trial 327 finished with value: 0.12157069318821215 and parameters: {'regressor': 'LinearRegression'}. Best is trial 164 with value: 0.15170537109033977.\n",
      "[I 2023-06-07 22:57:00,509] Trial 328 finished with value: 0.14031813888129058 and parameters: {'regressor': 'ElasticNet', 'alpha': 0.00138789700139065, 'l1_ratio': 0.7793180552050967}. Best is trial 164 with value: 0.15170537109033977.\n",
      "[I 2023-06-07 22:57:00,660] Trial 329 finished with value: 0.15147385527037366 and parameters: {'regressor': 'ElasticNet', 'alpha': 0.0005446613315373501, 'l1_ratio': 0.7363810949822068}. Best is trial 164 with value: 0.15170537109033977.\n",
      "[I 2023-06-07 22:57:00,788] Trial 330 finished with value: 0.13642464506411728 and parameters: {'regressor': 'ElasticNet', 'alpha': 0.0016057240436107266, 'l1_ratio': 0.7617510075127988}. Best is trial 164 with value: 0.15170537109033977.\n",
      "[I 2023-06-07 22:57:00,977] Trial 331 finished with value: 0.14184263097754038 and parameters: {'regressor': 'ElasticNet', 'alpha': 0.00020146992086095925, 'l1_ratio': 0.6318829628351181}. Best is trial 164 with value: 0.15170537109033977.\n",
      "[I 2023-06-07 22:57:01,130] Trial 332 finished with value: 0.15168647814723607 and parameters: {'regressor': 'ElasticNet', 'alpha': 0.0006126492377528187, 'l1_ratio': 0.803422640116279}. Best is trial 164 with value: 0.15170537109033977.\n",
      "[I 2023-06-07 22:57:01,435] Trial 333 finished with value: 0.022335072639989417 and parameters: {'regressor': 'KNeighborsRegressor', 'n_neighbors': 9, 'weights': 'uniform', 'p': 2}. Best is trial 164 with value: 0.15170537109033977.\n",
      "[I 2023-06-07 22:57:01,602] Trial 334 finished with value: 0.1481245439015238 and parameters: {'regressor': 'ElasticNet', 'alpha': 0.00035766105620396157, 'l1_ratio': 0.8517416860777965}. Best is trial 164 with value: 0.15170537109033977.\n",
      "[I 2023-06-07 22:57:02,070] Trial 335 finished with value: 0.11030306101653467 and parameters: {'regressor': 'ExtraTreesRegressor', 'n_estimators': 201, 'max_depth': 5, 'min_samples_split': 9, 'min_samples_leaf': 10}. Best is trial 164 with value: 0.15170537109033977.\n",
      "[I 2023-06-07 22:57:02,222] Trial 336 finished with value: 0.15083983474768786 and parameters: {'regressor': 'ElasticNet', 'alpha': 0.0007737624666223563, 'l1_ratio': 0.8130352479311235}. Best is trial 164 with value: 0.15170537109033977.\n",
      "[I 2023-06-07 22:57:02,382] Trial 337 finished with value: 0.15094354275532382 and parameters: {'regressor': 'ElasticNet', 'alpha': 0.00048827536126286054, 'l1_ratio': 0.7947427980925892}. Best is trial 164 with value: 0.15170537109033977.\n",
      "[I 2023-06-07 22:57:02,513] Trial 338 finished with value: 0.12471145726603408 and parameters: {'regressor': 'ElasticNet', 'alpha': 0.0023797448511928623, 'l1_ratio': 0.8294453267513984}. Best is trial 164 with value: 0.15170537109033977.\n",
      "[I 2023-06-07 22:57:02,665] Trial 339 finished with value: 0.1516735041814051 and parameters: {'regressor': 'ElasticNet', 'alpha': 0.0005936222717308371, 'l1_ratio': 0.7780697987229013}. Best is trial 164 with value: 0.15170537109033977.\n",
      "[I 2023-06-07 22:57:02,813] Trial 340 finished with value: 0.14966947017543633 and parameters: {'regressor': 'ElasticNet', 'alpha': 0.0008740852387753138, 'l1_ratio': 0.8055274257531171}. Best is trial 164 with value: 0.15170537109033977.\n",
      "[I 2023-06-07 22:57:02,969] Trial 341 finished with value: 0.1505943777843453 and parameters: {'regressor': 'ElasticNet', 'alpha': 0.00046277632066905243, 'l1_ratio': 0.7878795907001412}. Best is trial 164 with value: 0.15170537109033977.\n",
      "[I 2023-06-07 22:57:03,120] Trial 342 finished with value: 0.1512266594998707 and parameters: {'regressor': 'ElasticNet', 'alpha': 0.0007120544739349742, 'l1_ratio': 0.86229303964688}. Best is trial 164 with value: 0.15170537109033977.\n",
      "[I 2023-06-07 22:57:03,277] Trial 343 finished with value: 0.15116958161042307 and parameters: {'regressor': 'ElasticNet', 'alpha': 0.0005713296835415324, 'l1_ratio': 0.941691530588559}. Best is trial 164 with value: 0.15170537109033977.\n",
      "[I 2023-06-07 22:57:03,501] Trial 344 finished with value: 0.135655034464706 and parameters: {'regressor': 'ElasticNet', 'alpha': 0.0001228251494752872, 'l1_ratio': 0.7648664910611614}. Best is trial 164 with value: 0.15170537109033977.\n",
      "[I 2023-06-07 22:57:03,640] Trial 345 finished with value: 0.14616053206383411 and parameters: {'regressor': 'ElasticNet', 'alpha': 0.0010772021854929274, 'l1_ratio': 0.8336843310783717}. Best is trial 164 with value: 0.15170537109033977.\n",
      "[I 2023-06-07 22:57:03,804] Trial 346 finished with value: 0.14916830864741965 and parameters: {'regressor': 'ElasticNet', 'alpha': 0.00039221323609777125, 'l1_ratio': 0.8097438403551205}. Best is trial 164 with value: 0.15170537109033977.\n",
      "[I 2023-06-07 22:57:03,960] Trial 347 finished with value: 0.15121888747466822 and parameters: {'regressor': 'ElasticNet', 'alpha': 0.0006755327587046406, 'l1_ratio': 0.5734026597372264}. Best is trial 164 with value: 0.15170537109033977.\n",
      "[I 2023-06-07 22:57:04,117] Trial 348 finished with value: 0.15134116706960046 and parameters: {'regressor': 'ElasticNet', 'alpha': 0.0005255793410333416, 'l1_ratio': 0.7494035868370813}. Best is trial 164 with value: 0.15170537109033977.\n",
      "[I 2023-06-07 22:57:04,292] Trial 349 finished with value: 0.1459946836634684 and parameters: {'regressor': 'ElasticNet', 'alpha': 0.00028256746815945625, 'l1_ratio': 0.5322700642231365}. Best is trial 164 with value: 0.15170537109033977.\n"
     ]
    },
    {
     "name": "stderr",
     "output_type": "stream",
     "text": [
      "[I 2023-06-07 22:57:10,026] Trial 350 finished with value: 0.1305784595494826 and parameters: {'regressor': 'RandomForestRegressor', 'n_estimators': 256, 'max_depth': 30, 'min_samples_split': 6, 'min_samples_leaf': 2}. Best is trial 164 with value: 0.15170537109033977.\n",
      "[I 2023-06-07 22:57:10,177] Trial 351 finished with value: 0.14980646049160698 and parameters: {'regressor': 'ElasticNet', 'alpha': 0.0008671560602338883, 'l1_ratio': 0.7858207660562384}. Best is trial 164 with value: 0.15170537109033977.\n",
      "[I 2023-06-07 22:57:10,329] Trial 352 finished with value: 0.15097801531070712 and parameters: {'regressor': 'ElasticNet', 'alpha': 0.0007624691742674091, 'l1_ratio': 0.7680189603407279}. Best is trial 164 with value: 0.15170537109033977.\n",
      "[I 2023-06-07 22:57:10,480] Trial 353 finished with value: 0.15090283984219272 and parameters: {'regressor': 'ElasticNet', 'alpha': 0.0006092401567410678, 'l1_ratio': 0.4645879804521405}. Best is trial 164 with value: 0.15170537109033977.\n",
      "[I 2023-06-07 22:57:10,580] Trial 354 finished with value: 0.025297190921670265 and parameters: {'regressor': 'ElasticNet', 'alpha': 0.01866587789193139, 'l1_ratio': 0.8144236679901073}. Best is trial 164 with value: 0.15170537109033977.\n",
      "[I 2023-06-07 22:57:10,673] Trial 355 finished with value: 0.12157069318821215 and parameters: {'regressor': 'LinearRegression'}. Best is trial 164 with value: 0.15170537109033977.\n",
      "[I 2023-06-07 22:57:10,833] Trial 356 finished with value: 0.15019597445807542 and parameters: {'regressor': 'ElasticNet', 'alpha': 0.0004405687882599837, 'l1_ratio': 0.5997791310877905}. Best is trial 164 with value: 0.15170537109033977.\n",
      "[I 2023-06-07 22:57:10,958] Trial 357 finished with value: 0.08352512250236187 and parameters: {'regressor': 'ElasticNet', 'alpha': 0.0058372759076729015, 'l1_ratio': 0.7506909883731931}. Best is trial 164 with value: 0.15170537109033977.\n",
      "[I 2023-06-07 22:57:11,073] Trial 358 finished with value: 0.05454375532534076 and parameters: {'regressor': 'ElasticNet', 'alpha': 0.010495219602001149, 'l1_ratio': 0.7856751213762234}. Best is trial 164 with value: 0.15170537109033977.\n",
      "[I 2023-06-07 22:57:11,638] Trial 359 finished with value: -0.017333528080286674 and parameters: {'regressor': 'KNeighborsRegressor', 'n_neighbors': 25, 'weights': 'distance', 'p': 1}. Best is trial 164 with value: 0.15170537109033977.\n",
      "[I 2023-06-07 22:57:11,804] Trial 360 finished with value: 0.15144168001024194 and parameters: {'regressor': 'ElasticNet', 'alpha': 0.000546291944425057, 'l1_ratio': 0.6883845623316962}. Best is trial 164 with value: 0.15170537109033977.\n",
      "[I 2023-06-07 22:57:11,991] Trial 361 finished with value: 0.13968379204708237 and parameters: {'regressor': 'ElasticNet', 'alpha': 0.0001752362475879896, 'l1_ratio': 0.8003536390952376}. Best is trial 164 with value: 0.15170537109033977.\n",
      "[I 2023-06-07 22:57:14,568] Trial 362 finished with value: 0.13547086676149686 and parameters: {'regressor': 'ExtraTreesRegressor', 'n_estimators': 208, 'max_depth': 32, 'min_samples_split': 10, 'min_samples_leaf': 7}. Best is trial 164 with value: 0.15170537109033977.\n",
      "[I 2023-06-07 22:57:14,715] Trial 363 finished with value: 0.14860704703575317 and parameters: {'regressor': 'ElasticNet', 'alpha': 0.0009528873523236578, 'l1_ratio': 0.7099684768032285}. Best is trial 164 with value: 0.15170537109033977.\n",
      "[I 2023-06-07 22:57:14,864] Trial 364 finished with value: 0.15135325099663993 and parameters: {'regressor': 'ElasticNet', 'alpha': 0.0006873381179447742, 'l1_ratio': 0.8670830109716817}. Best is trial 164 with value: 0.15170537109033977.\n",
      "[I 2023-06-07 22:57:15,030] Trial 365 finished with value: 0.15068670222239608 and parameters: {'regressor': 'ElasticNet', 'alpha': 0.0004680905908028581, 'l1_ratio': 0.7680235501048399}. Best is trial 164 with value: 0.15170537109033977.\n",
      "[I 2023-06-07 22:57:15,169] Trial 366 finished with value: 0.1423999351500043 and parameters: {'regressor': 'ElasticNet', 'alpha': 0.0012742216695920483, 'l1_ratio': 0.8297674147539291}. Best is trial 164 with value: 0.15170537109033977.\n",
      "[I 2023-06-07 22:57:15,320] Trial 367 finished with value: 0.15087814731801727 and parameters: {'regressor': 'ElasticNet', 'alpha': 0.0007735158398105376, 'l1_ratio': 0.7483481265154774}. Best is trial 164 with value: 0.15170537109033977.\n",
      "[I 2023-06-07 22:57:15,493] Trial 368 finished with value: 0.14764843133742644 and parameters: {'regressor': 'ElasticNet', 'alpha': 0.00033307423373372865, 'l1_ratio': 0.7326049380919708}. Best is trial 164 with value: 0.15170537109033977.\n",
      "[I 2023-06-07 22:57:15,643] Trial 369 finished with value: 0.15165955309659465 and parameters: {'regressor': 'ElasticNet', 'alpha': 0.0005898115146527443, 'l1_ratio': 0.7940385239371913}. Best is trial 164 with value: 0.15170537109033977.\n",
      "[I 2023-06-07 22:57:15,795] Trial 370 finished with value: 0.15168618751788823 and parameters: {'regressor': 'ElasticNet', 'alpha': 0.0006421200883565059, 'l1_ratio': 0.7688224761037177}. Best is trial 164 with value: 0.15170537109033977.\n",
      "[I 2023-06-07 22:57:15,961] Trial 371 finished with value: 0.14937821537525467 and parameters: {'regressor': 'ElasticNet', 'alpha': 0.00039820121329103587, 'l1_ratio': 0.7750854035798913}. Best is trial 164 with value: 0.15170537109033977.\n",
      "[I 2023-06-07 22:57:16,083] Trial 372 finished with value: 0.11327185112551597 and parameters: {'regressor': 'ElasticNet', 'alpha': 0.0032701969554041446, 'l1_ratio': 0.8418444087857766}. Best is trial 164 with value: 0.15170537109033977.\n",
      "[I 2023-06-07 22:57:16,237] Trial 373 finished with value: 0.1511312565388981 and parameters: {'regressor': 'ElasticNet', 'alpha': 0.0005076528582090583, 'l1_ratio': 0.8139932008735545}. Best is trial 164 with value: 0.15170537109033977.\n",
      "[I 2023-06-07 22:57:16,380] Trial 374 finished with value: 0.14783116944814093 and parameters: {'regressor': 'ElasticNet', 'alpha': 0.0009192720221889507, 'l1_ratio': 0.36944791918969533}. Best is trial 164 with value: 0.15170537109033977.\n",
      "[I 2023-06-07 22:57:21,334] Trial 375 finished with value: 0.13207383652668175 and parameters: {'regressor': 'RandomForestRegressor', 'n_estimators': 301, 'max_depth': 24, 'min_samples_split': 8, 'min_samples_leaf': 8}. Best is trial 164 with value: 0.15170537109033977.\n",
      "[I 2023-06-07 22:57:21,513] Trial 376 finished with value: 0.1470900072314288 and parameters: {'regressor': 'ElasticNet', 'alpha': 0.0006859439550854446, 'l1_ratio': 0.024463357526754326}. Best is trial 164 with value: 0.15170537109033977.\n",
      "[I 2023-06-07 22:57:21,676] Trial 377 finished with value: 0.1516585655801413 and parameters: {'regressor': 'ElasticNet', 'alpha': 0.0005888774132207876, 'l1_ratio': 0.7556709730074407}. Best is trial 164 with value: 0.15170537109033977.\n",
      "[I 2023-06-07 22:57:21,806] Trial 378 finished with value: 0.13643202621619538 and parameters: {'regressor': 'ElasticNet', 'alpha': 0.0016119619980611492, 'l1_ratio': 0.7894291955787546}. Best is trial 164 with value: 0.15170537109033977.\n",
      "[I 2023-06-07 22:57:21,896] Trial 379 finished with value: 0.12157069318821215 and parameters: {'regressor': 'LinearRegression'}. Best is trial 164 with value: 0.15170537109033977.\n",
      "[I 2023-06-07 22:57:22,048] Trial 380 finished with value: 0.15097026434798635 and parameters: {'regressor': 'ElasticNet', 'alpha': 0.0007622919722523962, 'l1_ratio': 0.7300504982018745}. Best is trial 164 with value: 0.15170537109033977.\n",
      "[I 2023-06-07 22:57:22,189] Trial 381 finished with value: 0.1450209909019276 and parameters: {'regressor': 'ElasticNet', 'alpha': 0.0011426175203538352, 'l1_ratio': 0.8065586286080914}. Best is trial 164 with value: 0.15170537109033977.\n",
      "[I 2023-06-07 22:57:22,351] Trial 382 finished with value: 0.15007433650665167 and parameters: {'regressor': 'ElasticNet', 'alpha': 0.00044282097067911577, 'l1_ratio': 0.8850066545472905}. Best is trial 164 with value: 0.15170537109033977.\n",
      "[I 2023-06-07 22:57:22,578] Trial 383 finished with value: 0.13451092332892317 and parameters: {'regressor': 'ElasticNet', 'alpha': 0.00011023694581568893, 'l1_ratio': 0.7655069879503706}. Best is trial 164 with value: 0.15170537109033977.\n",
      "[I 2023-06-07 22:57:22,735] Trial 384 finished with value: 0.15098357603098655 and parameters: {'regressor': 'ElasticNet', 'alpha': 0.0005416514263702786, 'l1_ratio': 0.9524821926640408}. Best is trial 164 with value: 0.15170537109033977.\n"
     ]
    },
    {
     "name": "stderr",
     "output_type": "stream",
     "text": [
      "[I 2023-06-07 22:57:23,309] Trial 385 finished with value: 0.00381968973607425 and parameters: {'regressor': 'KNeighborsRegressor', 'n_neighbors': 50, 'weights': 'uniform', 'p': 1}. Best is trial 164 with value: 0.15170537109033977.\n",
      "[I 2023-06-07 22:57:23,457] Trial 386 finished with value: 0.15021563167958324 and parameters: {'regressor': 'ElasticNet', 'alpha': 0.0008350081143214554, 'l1_ratio': 0.7133332667628869}. Best is trial 164 with value: 0.15170537109033977.\n",
      "[I 2023-06-07 22:57:23,573] Trial 387 finished with value: 0.0935956266658424 and parameters: {'regressor': 'ElasticNet', 'alpha': 0.004816878682709547, 'l1_ratio': 0.7791789505188615}. Best is trial 164 with value: 0.15170537109033977.\n",
      "[I 2023-06-07 22:57:23,698] Trial 388 finished with value: 0.12426180272122096 and parameters: {'regressor': 'ElasticNet', 'alpha': 0.0024015288912172706, 'l1_ratio': 0.8207204565064418}. Best is trial 164 with value: 0.15170537109033977.\n",
      "[I 2023-06-07 22:57:23,785] Trial 389 finished with value: -0.0004066991582208246 and parameters: {'regressor': 'ElasticNet', 'alpha': 0.09649635774594786, 'l1_ratio': 0.7409585161273813}. Best is trial 164 with value: 0.15170537109033977.\n",
      "[I 2023-06-07 22:57:24,361] Trial 390 finished with value: 0.11709564050646046 and parameters: {'regressor': 'ExtraTreesRegressor', 'n_estimators': 178, 'max_depth': 8, 'min_samples_split': 10, 'min_samples_leaf': 10}. Best is trial 164 with value: 0.15170537109033977.\n",
      "[I 2023-06-07 22:57:24,488] Trial 391 finished with value: 0.12941586460805385 and parameters: {'regressor': 'ElasticNet', 'alpha': 0.0020652618728039854, 'l1_ratio': 0.8388239455494562}. Best is trial 164 with value: 0.15170537109033977.\n",
      "[I 2023-06-07 22:57:24,641] Trial 392 finished with value: 0.15167517482073295 and parameters: {'regressor': 'ElasticNet', 'alpha': 0.000638853996984048, 'l1_ratio': 0.7915193530104252}. Best is trial 164 with value: 0.15170537109033977.\n",
      "[I 2023-06-07 22:57:24,841] Trial 393 finished with value: 0.14353329308933493 and parameters: {'regressor': 'ElasticNet', 'alpha': 0.00023626866938202155, 'l1_ratio': 0.7612962544016496}. Best is trial 164 with value: 0.15170537109033977.\n",
      "[I 2023-06-07 22:57:25,015] Trial 394 finished with value: 0.14696394135296215 and parameters: {'regressor': 'ElasticNet', 'alpha': 0.00031768494973784034, 'l1_ratio': 0.8036295969538964}. Best is trial 164 with value: 0.15170537109033977.\n",
      "[I 2023-06-07 22:57:25,173] Trial 395 finished with value: 0.15086648366992333 and parameters: {'regressor': 'ElasticNet', 'alpha': 0.0004810236963292727, 'l1_ratio': 0.7747695287042027}. Best is trial 164 with value: 0.15170537109033977.\n",
      "[I 2023-06-07 22:57:25,321] Trial 396 finished with value: 0.1467113141968356 and parameters: {'regressor': 'ElasticNet', 'alpha': 0.0010222612536674794, 'l1_ratio': 0.9081991774741431}. Best is trial 164 with value: 0.15170537109033977.\n",
      "[I 2023-06-07 22:57:25,475] Trial 397 finished with value: 0.15048868904509938 and parameters: {'regressor': 'ElasticNet', 'alpha': 0.0007073397967540099, 'l1_ratio': 0.9982764772105541}. Best is trial 164 with value: 0.15170537109033977.\n",
      "[I 2023-06-07 22:57:25,641] Trial 398 finished with value: 0.14903414307320806 and parameters: {'regressor': 'ElasticNet', 'alpha': 0.00038174615368216864, 'l1_ratio': 0.7391913492772919}. Best is trial 164 with value: 0.15170537109033977.\n",
      "[I 2023-06-07 22:57:25,799] Trial 399 finished with value: 0.15159453861480543 and parameters: {'regressor': 'ElasticNet', 'alpha': 0.0005875877614051059, 'l1_ratio': 0.6786709581463076}. Best is trial 164 with value: 0.15170537109033977.\n",
      "[I 2023-06-07 22:57:25,952] Trial 400 finished with value: 0.15030705798173644 and parameters: {'regressor': 'ElasticNet', 'alpha': 0.0008223931251690218, 'l1_ratio': 0.8219901558382385}. Best is trial 164 with value: 0.15170537109033977.\n",
      "[I 2023-06-07 22:57:26,113] Trial 401 finished with value: 0.15127525619001525 and parameters: {'regressor': 'ElasticNet', 'alpha': 0.0005178766562542688, 'l1_ratio': 0.7523926264918058}. Best is trial 164 with value: 0.15170537109033977.\n",
      "[I 2023-06-07 22:57:28,654] Trial 402 finished with value: 0.1343669226883667 and parameters: {'regressor': 'RandomForestRegressor', 'n_estimators': 128, 'max_depth': 28, 'min_samples_split': 5, 'min_samples_leaf': 6}. Best is trial 164 with value: 0.15170537109033977.\n",
      "[I 2023-06-07 22:57:28,809] Trial 403 finished with value: 0.15154383238689745 and parameters: {'regressor': 'ElasticNet', 'alpha': 0.0006800295076506039, 'l1_ratio': 0.712753461046085}. Best is trial 164 with value: 0.15170537109033977.\n",
      "[I 2023-06-07 22:57:28,973] Trial 404 finished with value: 0.14942959951404886 and parameters: {'regressor': 'ElasticNet', 'alpha': 0.00040151559543508825, 'l1_ratio': 0.7884813669065289}. Best is trial 164 with value: 0.15170537109033977.\n",
      "[I 2023-06-07 22:57:29,063] Trial 405 finished with value: -0.0004066991582208246 and parameters: {'regressor': 'ElasticNet', 'alpha': 0.4309315304225218, 'l1_ratio': 0.7745414913313072}. Best is trial 164 with value: 0.15170537109033977.\n",
      "[I 2023-06-07 22:57:29,152] Trial 406 finished with value: 0.12157069318821215 and parameters: {'regressor': 'LinearRegression'}. Best is trial 164 with value: 0.15170537109033977.\n",
      "[I 2023-06-07 22:57:29,304] Trial 407 finished with value: 0.15168712977821316 and parameters: {'regressor': 'ElasticNet', 'alpha': 0.0006160406983688008, 'l1_ratio': 0.8028901004625157}. Best is trial 164 with value: 0.15170537109033977.\n",
      "[I 2023-06-07 22:57:29,461] Trial 408 finished with value: 0.14843187540089778 and parameters: {'regressor': 'ElasticNet', 'alpha': 0.000953305298866389, 'l1_ratio': 0.8055019910911477}. Best is trial 164 with value: 0.15170537109033977.\n",
      "[I 2023-06-07 22:57:29,697] Trial 409 finished with value: 0.13405662195871154 and parameters: {'regressor': 'ElasticNet', 'alpha': 0.00010804554041892874, 'l1_ratio': 0.853041956817244}. Best is trial 164 with value: 0.15170537109033977.\n",
      "[I 2023-06-07 22:57:29,900] Trial 410 finished with value: 0.13806795274469372 and parameters: {'regressor': 'ElasticNet', 'alpha': 0.00015443614220532703, 'l1_ratio': 0.8284114824599595}. Best is trial 164 with value: 0.15170537109033977.\n",
      "[I 2023-06-07 22:57:30,059] Trial 411 finished with value: 0.15057214743860065 and parameters: {'regressor': 'ElasticNet', 'alpha': 0.00046194552706612925, 'l1_ratio': 0.7991208610004746}. Best is trial 164 with value: 0.15170537109033977.\n",
      "[I 2023-06-07 22:57:30,207] Trial 412 finished with value: 0.1508945793888899 and parameters: {'regressor': 'ElasticNet', 'alpha': 0.0007717302172190789, 'l1_ratio': 0.7813880495559214}. Best is trial 164 with value: 0.15170537109033977.\n",
      "[I 2023-06-07 22:57:30,510] Trial 413 finished with value: -0.03112677880182043 and parameters: {'regressor': 'KNeighborsRegressor', 'n_neighbors': 8, 'weights': 'distance', 'p': 2}. Best is trial 164 with value: 0.15170537109033977.\n",
      "[I 2023-06-07 22:57:35,059] Trial 414 finished with value: 0.13236447317422012 and parameters: {'regressor': 'ExtraTreesRegressor', 'n_estimators': 464, 'max_depth': 26, 'min_samples_split': 4, 'min_samples_leaf': 4}. Best is trial 164 with value: 0.15170537109033977.\n",
      "[I 2023-06-07 22:57:35,213] Trial 415 finished with value: 0.15153683256344927 and parameters: {'regressor': 'ElasticNet', 'alpha': 0.0005888405259693953, 'l1_ratio': 0.863218365493655}. Best is trial 164 with value: 0.15170537109033977.\n",
      "[I 2023-06-07 22:57:35,366] Trial 416 finished with value: 0.15147294855292998 and parameters: {'regressor': 'ElasticNet', 'alpha': 0.0006842906928899513, 'l1_ratio': 0.8098967698465483}. Best is trial 164 with value: 0.15170537109033977.\n",
      "[I 2023-06-07 22:57:35,522] Trial 417 finished with value: 0.15130453535871463 and parameters: {'regressor': 'ElasticNet', 'alpha': 0.00052937985323556, 'l1_ratio': 0.8313127696187005}. Best is trial 164 with value: 0.15170537109033977.\n",
      "[I 2023-06-07 22:57:35,660] Trial 418 finished with value: 0.14117082461146896 and parameters: {'regressor': 'ElasticNet', 'alpha': 0.0013425448668543086, 'l1_ratio': 0.7597025994896544}. Best is trial 164 with value: 0.15170537109033977.\n",
      "[I 2023-06-07 22:57:35,822] Trial 419 finished with value: 0.14923264044710358 and parameters: {'regressor': 'ElasticNet', 'alpha': 0.0009060752901714029, 'l1_ratio': 0.7931221501756359}. Best is trial 164 with value: 0.15170537109033977.\n"
     ]
    },
    {
     "name": "stderr",
     "output_type": "stream",
     "text": [
      "[I 2023-06-07 22:57:36,013] Trial 420 finished with value: 0.14546339339609538 and parameters: {'regressor': 'ElasticNet', 'alpha': 0.00027765188427741633, 'l1_ratio': 0.7724202436723091}. Best is trial 164 with value: 0.15170537109033977.\n",
      "[I 2023-06-07 22:57:36,167] Trial 421 finished with value: 0.1516970036704417 and parameters: {'regressor': 'ElasticNet', 'alpha': 0.0006148358866270873, 'l1_ratio': 0.7498032515184414}. Best is trial 164 with value: 0.15170537109033977.\n",
      "[I 2023-06-07 22:57:36,320] Trial 422 finished with value: 0.15092996210192794 and parameters: {'regressor': 'ElasticNet', 'alpha': 0.0007673454558382931, 'l1_ratio': 0.7424008564279676}. Best is trial 164 with value: 0.15170537109033977.\n",
      "[I 2023-06-07 22:57:36,481] Trial 423 finished with value: 0.15027733059603715 and parameters: {'regressor': 'ElasticNet', 'alpha': 0.00044093000191740316, 'l1_ratio': 0.7257269360997761}. Best is trial 164 with value: 0.15170537109033977.\n",
      "[I 2023-06-07 22:57:36,606] Trial 424 finished with value: 0.1323332596310712 and parameters: {'regressor': 'ElasticNet', 'alpha': 0.001893603951777858, 'l1_ratio': 0.8741797916829397}. Best is trial 164 with value: 0.15170537109033977.\n",
      "[I 2023-06-07 22:57:36,814] Trial 425 finished with value: 0.13695664505781088 and parameters: {'regressor': 'ElasticNet', 'alpha': 0.00013568002209321094, 'l1_ratio': 0.6906618432764237}. Best is trial 164 with value: 0.15170537109033977.\n",
      "[I 2023-06-07 22:57:36,932] Trial 426 finished with value: 0.06087714989258679 and parameters: {'regressor': 'ElasticNet', 'alpha': 0.009147350771680201, 'l1_ratio': 0.7543141320393346}. Best is trial 164 with value: 0.15170537109033977.\n",
      "[I 2023-06-07 22:57:37,068] Trial 427 finished with value: 0.14475403513498947 and parameters: {'regressor': 'ElasticNet', 'alpha': 0.0011462169887133783, 'l1_ratio': 0.8442338206285322}. Best is trial 164 with value: 0.15170537109033977.\n",
      "[I 2023-06-07 22:57:41,862] Trial 428 finished with value: 0.1290110443409595 and parameters: {'regressor': 'RandomForestRegressor', 'n_estimators': 341, 'max_depth': 20, 'min_samples_split': 7, 'min_samples_leaf': 9}. Best is trial 164 with value: 0.15170537109033977.\n",
      "[I 2023-06-07 22:57:42,017] Trial 429 finished with value: 0.1512805465154333 and parameters: {'regressor': 'ElasticNet', 'alpha': 0.0006306264920346315, 'l1_ratio': 0.9309492694926791}. Best is trial 164 with value: 0.15170537109033977.\n",
      "[I 2023-06-07 22:57:42,175] Trial 430 finished with value: 0.15116237928813994 and parameters: {'regressor': 'ElasticNet', 'alpha': 0.0005103181531196525, 'l1_ratio': 0.8106180593414597}. Best is trial 164 with value: 0.15170537109033977.\n",
      "[I 2023-06-07 22:57:42,329] Trial 431 finished with value: 0.1504299245560708 and parameters: {'regressor': 'ElasticNet', 'alpha': 0.0008162549494205623, 'l1_ratio': 0.7911242666650774}. Best is trial 164 with value: 0.15170537109033977.\n",
      "[I 2023-06-07 22:57:42,428] Trial 432 finished with value: 0.12157069318821215 and parameters: {'regressor': 'LinearRegression'}. Best is trial 164 with value: 0.15170537109033977.\n",
      "[I 2023-06-07 22:57:42,587] Trial 433 finished with value: 0.15137951025525798 and parameters: {'regressor': 'ElasticNet', 'alpha': 0.0006495672215208985, 'l1_ratio': 0.5953703297749913}. Best is trial 164 with value: 0.15170537109033977.\n",
      "[I 2023-06-07 22:57:42,764] Trial 434 finished with value: 0.14787015362431322 and parameters: {'regressor': 'ElasticNet', 'alpha': 0.0003415371894081118, 'l1_ratio': 0.7571026201396167}. Best is trial 164 with value: 0.15170537109033977.\n",
      "[I 2023-06-07 22:57:42,986] Trial 435 finished with value: 0.14094726633194787 and parameters: {'regressor': 'ElasticNet', 'alpha': 0.00019106335378883872, 'l1_ratio': 0.7350601348100934}. Best is trial 164 with value: 0.15170537109033977.\n",
      "[I 2023-06-07 22:57:43,147] Trial 436 finished with value: 0.15092851426676868 and parameters: {'regressor': 'ElasticNet', 'alpha': 0.0004922274738483478, 'l1_ratio': 0.6349378953953139}. Best is trial 164 with value: 0.15170537109033977.\n",
      "[I 2023-06-07 22:57:43,283] Trial 437 finished with value: 0.1475763996273432 and parameters: {'regressor': 'ElasticNet', 'alpha': 0.0010147828462665344, 'l1_ratio': 0.6615316021395826}. Best is trial 164 with value: 0.15170537109033977.\n",
      "[I 2023-06-07 22:57:43,863] Trial 438 finished with value: -0.01505026972074337 and parameters: {'regressor': 'KNeighborsRegressor', 'n_neighbors': 32, 'weights': 'distance', 'p': 1}. Best is trial 164 with value: 0.15170537109033977.\n",
      "[I 2023-06-07 22:57:44,103] Trial 439 finished with value: 0.1334196255305861 and parameters: {'regressor': 'ElasticNet', 'alpha': 0.00010263182602725743, 'l1_ratio': 0.8946221136067701}. Best is trial 164 with value: 0.15170537109033977.\n",
      "[I 2023-06-07 22:57:44,275] Trial 440 finished with value: 0.14907253982474672 and parameters: {'regressor': 'ElasticNet', 'alpha': 0.0003895647513274946, 'l1_ratio': 0.8234085834150855}. Best is trial 164 with value: 0.15170537109033977.\n",
      "[I 2023-06-07 22:57:44,428] Trial 441 finished with value: 0.15131634715164208 and parameters: {'regressor': 'ElasticNet', 'alpha': 0.0007178692380172331, 'l1_ratio': 0.7680967251226614}. Best is trial 164 with value: 0.15170537109033977.\n",
      "[I 2023-06-07 22:57:47,637] Trial 442 finished with value: 0.12920330411523828 and parameters: {'regressor': 'ExtraTreesRegressor', 'n_estimators': 384, 'max_depth': 23, 'min_samples_split': 8, 'min_samples_leaf': 3}. Best is trial 164 with value: 0.15170537109033977.\n",
      "[I 2023-06-07 22:57:47,795] Trial 443 finished with value: 0.1513543380710576 and parameters: {'regressor': 'ElasticNet', 'alpha': 0.0005585974477178649, 'l1_ratio': 0.6101066396397159}. Best is trial 164 with value: 0.15170537109033977.\n",
      "[I 2023-06-07 22:57:47,943] Trial 444 finished with value: 0.14936426668437208 and parameters: {'regressor': 'ElasticNet', 'alpha': 0.0008968872467535214, 'l1_ratio': 0.7956480009475242}. Best is trial 164 with value: 0.15170537109033977.\n",
      "[I 2023-06-07 22:57:48,102] Trial 445 finished with value: 0.1512968924989583 and parameters: {'regressor': 'ElasticNet', 'alpha': 0.0006285398198541711, 'l1_ratio': 0.5592377971528403}. Best is trial 164 with value: 0.15170537109033977.\n",
      "[I 2023-06-07 22:57:48,261] Trial 446 finished with value: 0.1504020647162288 and parameters: {'regressor': 'ElasticNet', 'alpha': 0.0004498737805408945, 'l1_ratio': 0.7740983439129974}. Best is trial 164 with value: 0.15170537109033977.\n",
      "[I 2023-06-07 22:57:48,425] Trial 447 finished with value: 0.15118528512938484 and parameters: {'regressor': 'ElasticNet', 'alpha': 0.0007377376709964666, 'l1_ratio': 0.7152327307203366}. Best is trial 164 with value: 0.15170537109033977.\n",
      "[I 2023-06-07 22:57:48,565] Trial 448 finished with value: 0.13755555861786242 and parameters: {'regressor': 'ElasticNet', 'alpha': 0.0015270062676867083, 'l1_ratio': 0.5826121000910197}. Best is trial 164 with value: 0.15170537109033977.\n",
      "[I 2023-06-07 22:57:48,718] Trial 449 finished with value: 0.15151548594558828 and parameters: {'regressor': 'ElasticNet', 'alpha': 0.0005517390331111327, 'l1_ratio': 0.744714113761694}. Best is trial 164 with value: 0.15170537109033977.\n",
      "[I 2023-06-07 22:57:48,888] Trial 450 finished with value: 0.1480754784243156 and parameters: {'regressor': 'ElasticNet', 'alpha': 0.00035220131420139885, 'l1_ratio': 0.8143147281017726}. Best is trial 164 with value: 0.15170537109033977.\n",
      "[I 2023-06-07 22:57:49,013] Trial 451 finished with value: 0.09372847909088824 and parameters: {'regressor': 'ElasticNet', 'alpha': 0.0043712286503061895, 'l1_ratio': 0.49847556250269676}. Best is trial 164 with value: 0.15170537109033977.\n",
      "[I 2023-06-07 22:57:49,104] Trial 452 finished with value: 0.0041732294910303835 and parameters: {'regressor': 'ElasticNet', 'alpha': 0.03411183260840005, 'l1_ratio': 0.8499632502174467}. Best is trial 164 with value: 0.15170537109033977.\n",
      "[I 2023-06-07 22:57:49,257] Trial 453 finished with value: 0.15053966832471236 and parameters: {'regressor': 'ElasticNet', 'alpha': 0.0008065279949465075, 'l1_ratio': 0.78797182017455}. Best is trial 164 with value: 0.15170537109033977.\n",
      "[I 2023-06-07 22:57:49,397] Trial 454 finished with value: 0.14474335869957605 and parameters: {'regressor': 'ElasticNet', 'alpha': 0.0011646936023736252, 'l1_ratio': 0.7574642930270821}. Best is trial 164 with value: 0.15170537109033977.\n"
     ]
    },
    {
     "name": "stderr",
     "output_type": "stream",
     "text": [
      "[I 2023-06-07 22:57:49,521] Trial 455 finished with value: 0.10837623447106551 and parameters: {'regressor': 'ElasticNet', 'alpha': 0.0035778372110550965, 'l1_ratio': 0.8023221719476044}. Best is trial 164 with value: 0.15170537109033977.\n",
      "[I 2023-06-07 22:57:56,573] Trial 456 finished with value: 0.13529503680422172 and parameters: {'regressor': 'RandomForestRegressor', 'n_estimators': 316, 'max_depth': 32, 'min_samples_split': 2, 'min_samples_leaf': 5}. Best is trial 164 with value: 0.15170537109033977.\n",
      "[I 2023-06-07 22:57:56,659] Trial 457 finished with value: -0.0004066991582208246 and parameters: {'regressor': 'ElasticNet', 'alpha': 0.09179924032024457, 'l1_ratio': 0.6979024037424999}. Best is trial 164 with value: 0.15170537109033977.\n",
      "[I 2023-06-07 22:57:56,749] Trial 458 finished with value: 0.12157069318821215 and parameters: {'regressor': 'LinearRegression'}. Best is trial 164 with value: 0.15170537109033977.\n",
      "[I 2023-06-07 22:57:56,909] Trial 459 finished with value: 0.15022637766684052 and parameters: {'regressor': 'ElasticNet', 'alpha': 0.0006369580807980406, 'l1_ratio': 0.3533964792691152}. Best is trial 164 with value: 0.15170537109033977.\n",
      "[I 2023-06-07 22:57:57,070] Trial 460 finished with value: 0.15052549726315342 and parameters: {'regressor': 'ElasticNet', 'alpha': 0.0004607567296683247, 'l1_ratio': 0.6183252286721431}. Best is trial 164 with value: 0.15170537109033977.\n",
      "[I 2023-06-07 22:57:57,227] Trial 461 finished with value: 0.1514904253273039 and parameters: {'regressor': 'ElasticNet', 'alpha': 0.0005549099750845957, 'l1_ratio': 0.8244068302668763}. Best is trial 164 with value: 0.15170537109033977.\n",
      "[I 2023-06-07 22:57:57,406] Trial 462 finished with value: 0.14304170888742868 and parameters: {'regressor': 'ElasticNet', 'alpha': 0.00021985235525732219, 'l1_ratio': 0.5145159943153809}. Best is trial 164 with value: 0.15170537109033977.\n",
      "[I 2023-06-07 22:57:57,554] Trial 463 finished with value: 0.14930120820824383 and parameters: {'regressor': 'ElasticNet', 'alpha': 0.0009020701106564525, 'l1_ratio': 0.6679118103189658}. Best is trial 164 with value: 0.15170537109033977.\n",
      "[I 2023-06-07 22:57:57,707] Trial 464 finished with value: 0.15119431182902243 and parameters: {'regressor': 'ElasticNet', 'alpha': 0.0007349807153772577, 'l1_ratio': 0.7774737988199116}. Best is trial 164 with value: 0.15170537109033977.\n",
      "[I 2023-06-07 22:57:58,023] Trial 465 finished with value: 0.05242349638778317 and parameters: {'regressor': 'KNeighborsRegressor', 'n_neighbors': 42, 'weights': 'uniform', 'p': 2}. Best is trial 164 with value: 0.15170537109033977.\n",
      "[I 2023-06-07 22:57:58,179] Trial 466 finished with value: 0.15124433976269946 and parameters: {'regressor': 'ElasticNet', 'alpha': 0.0005145759841377864, 'l1_ratio': 0.7395218557951456}. Best is trial 164 with value: 0.15170537109033977.\n",
      "[I 2023-06-07 22:57:59,196] Trial 467 finished with value: 0.12004354656339684 and parameters: {'regressor': 'ExtraTreesRegressor', 'n_estimators': 160, 'max_depth': 16, 'min_samples_split': 7, 'min_samples_leaf': 1}. Best is trial 164 with value: 0.15170537109033977.\n",
      "[I 2023-06-07 22:57:59,361] Trial 468 finished with value: 0.14897652677176915 and parameters: {'regressor': 'ElasticNet', 'alpha': 0.000403084208340929, 'l1_ratio': 0.9529453166956398}. Best is trial 164 with value: 0.15170537109033977.\n",
      "[I 2023-06-07 22:57:59,518] Trial 469 finished with value: 0.1516471433447426 and parameters: {'regressor': 'ElasticNet', 'alpha': 0.0006577591130212725, 'l1_ratio': 0.7655928204037643}. Best is trial 164 with value: 0.15170537109033977.\n",
      "[I 2023-06-07 22:57:59,664] Trial 470 finished with value: 0.147457514373581 and parameters: {'regressor': 'ElasticNet', 'alpha': 0.0010135263425205905, 'l1_ratio': 0.7916786072938444}. Best is trial 164 with value: 0.15170537109033977.\n",
      "[I 2023-06-07 22:57:59,844] Trial 471 finished with value: 0.14667620555116984 and parameters: {'regressor': 'ElasticNet', 'alpha': 0.00030557408667273347, 'l1_ratio': 0.735429069321994}. Best is trial 164 with value: 0.15170537109033977.\n",
      "[I 2023-06-07 22:57:59,967] Trial 472 finished with value: 0.11794284095073297 and parameters: {'regressor': 'ElasticNet', 'alpha': 0.0030452169694430127, 'l1_ratio': 0.9186787093418713}. Best is trial 164 with value: 0.15170537109033977.\n",
      "[I 2023-06-07 22:58:00,076] Trial 473 finished with value: 0.04472587144541852 and parameters: {'regressor': 'ElasticNet', 'alpha': 0.012900336041424218, 'l1_ratio': 0.8340507879683081}. Best is trial 164 with value: 0.15170537109033977.\n",
      "[I 2023-06-07 22:58:00,232] Trial 474 finished with value: 0.1516668289295515 and parameters: {'regressor': 'ElasticNet', 'alpha': 0.000595654118501835, 'l1_ratio': 0.8061794536636259}. Best is trial 164 with value: 0.15170537109033977.\n",
      "[I 2023-06-07 22:58:00,389] Trial 475 finished with value: 0.15059183256894068 and parameters: {'regressor': 'ElasticNet', 'alpha': 0.0008030532797902078, 'l1_ratio': 0.7610399366763108}. Best is trial 164 with value: 0.15170537109033977.\n",
      "[I 2023-06-07 22:58:00,547] Trial 476 finished with value: 0.15068500347048547 and parameters: {'regressor': 'ElasticNet', 'alpha': 0.0004694439276332744, 'l1_ratio': 0.6520245483324496}. Best is trial 164 with value: 0.15170537109033977.\n",
      "[I 2023-06-07 22:58:00,702] Trial 477 finished with value: 0.15152029857404398 and parameters: {'regressor': 'ElasticNet', 'alpha': 0.0006833353264506266, 'l1_ratio': 0.779514923254941}. Best is trial 164 with value: 0.15170537109033977.\n",
      "[I 2023-06-07 22:58:00,883] Trial 478 finished with value: 0.1449653670466029 and parameters: {'regressor': 'ElasticNet', 'alpha': 0.00026293776019288036, 'l1_ratio': 0.7136540039838388}. Best is trial 164 with value: 0.15170537109033977.\n",
      "[I 2023-06-07 22:58:01,039] Trial 479 finished with value: 0.15109674894400055 and parameters: {'regressor': 'ElasticNet', 'alpha': 0.0005292576668611824, 'l1_ratio': 0.5687279699200335}. Best is trial 164 with value: 0.15170537109033977.\n",
      "[I 2023-06-07 22:58:01,207] Trial 480 finished with value: 0.14898427575284662 and parameters: {'regressor': 'ElasticNet', 'alpha': 0.0003851315948103239, 'l1_ratio': 0.8142756935037809}. Best is trial 164 with value: 0.15170537109033977.\n",
      "[I 2023-06-07 22:58:01,325] Trial 481 finished with value: 0.07551440335180054 and parameters: {'regressor': 'ElasticNet', 'alpha': 0.0068708733595733654, 'l1_ratio': 0.7538398053435271}. Best is trial 164 with value: 0.15170537109033977.\n",
      "[I 2023-06-07 22:58:02,823] Trial 482 finished with value: 0.1307151242073355 and parameters: {'regressor': 'RandomForestRegressor', 'n_estimators': 100, 'max_depth': 19, 'min_samples_split': 5, 'min_samples_leaf': 6}. Best is trial 164 with value: 0.15170537109033977.\n",
      "[I 2023-06-07 22:58:02,962] Trial 483 finished with value: 0.14271378273945617 and parameters: {'regressor': 'ElasticNet', 'alpha': 0.0012614734876652683, 'l1_ratio': 0.7848998695427455}. Best is trial 164 with value: 0.15170537109033977.\n",
      "[I 2023-06-07 22:58:03,116] Trial 484 finished with value: 0.15037820956038428 and parameters: {'regressor': 'ElasticNet', 'alpha': 0.0008220048975049769, 'l1_ratio': 0.7294915814369188}. Best is trial 164 with value: 0.15170537109033977.\n",
      "[I 2023-06-07 22:58:03,206] Trial 485 finished with value: 0.12157069318821215 and parameters: {'regressor': 'LinearRegression'}. Best is trial 164 with value: 0.15170537109033977.\n",
      "[I 2023-06-07 22:58:03,336] Trial 486 finished with value: 0.13032914816708507 and parameters: {'regressor': 'ElasticNet', 'alpha': 0.0020167065186470425, 'l1_ratio': 0.8560105411861816}. Best is trial 164 with value: 0.15170537109033977.\n",
      "[I 2023-06-07 22:58:03,501] Trial 487 finished with value: 0.15056191620214393 and parameters: {'regressor': 'ElasticNet', 'alpha': 0.0006562558824393354, 'l1_ratio': 0.4193467610268124}. Best is trial 164 with value: 0.15170537109033977.\n",
      "[I 2023-06-07 22:58:03,658] Trial 488 finished with value: 0.15155593167204287 and parameters: {'regressor': 'ElasticNet', 'alpha': 0.0005630753249191384, 'l1_ratio': 0.7997019053892034}. Best is trial 164 with value: 0.15170537109033977.\n",
      "[I 2023-06-07 22:58:03,819] Trial 489 finished with value: 0.15055872831849895 and parameters: {'regressor': 'ElasticNet', 'alpha': 0.00045951915305479115, 'l1_ratio': 0.7700322594270558}. Best is trial 164 with value: 0.15170537109033977.\n"
     ]
    },
    {
     "name": "stderr",
     "output_type": "stream",
     "text": [
      "[I 2023-06-07 22:58:03,970] Trial 490 finished with value: 0.14854305546909474 and parameters: {'regressor': 'ElasticNet', 'alpha': 0.0009398598325445112, 'l1_ratio': 0.8368603529714794}. Best is trial 164 with value: 0.15170537109033977.\n",
      "[I 2023-06-07 22:58:04,275] Trial 491 finished with value: 0.014672697216268016 and parameters: {'regressor': 'KNeighborsRegressor', 'n_neighbors': 21, 'weights': 'distance', 'p': 2}. Best is trial 164 with value: 0.15170537109033977.\n",
      "[I 2023-06-07 22:58:04,428] Trial 492 finished with value: 0.1512246977269937 and parameters: {'regressor': 'ElasticNet', 'alpha': 0.0007316053415324073, 'l1_ratio': 0.7477009118046141}. Best is trial 164 with value: 0.15170537109033977.\n",
      "[I 2023-06-07 22:58:05,804] Trial 493 finished with value: 0.12123247937507728 and parameters: {'regressor': 'ExtraTreesRegressor', 'n_estimators': 289, 'max_depth': 13, 'min_samples_split': 3, 'min_samples_leaf': 2}. Best is trial 164 with value: 0.15170537109033977.\n",
      "[I 2023-06-07 22:58:05,941] Trial 494 finished with value: 0.13501958620243776 and parameters: {'regressor': 'ElasticNet', 'alpha': 0.0016642290488824703, 'l1_ratio': 0.6961221009672021}. Best is trial 164 with value: 0.15170537109033977.\n",
      "[I 2023-06-07 22:58:06,096] Trial 495 finished with value: 0.1512297882584644 and parameters: {'regressor': 'ElasticNet', 'alpha': 0.0005708404810410017, 'l1_ratio': 0.5522186486078308}. Best is trial 164 with value: 0.15170537109033977.\n",
      "[I 2023-06-07 22:58:06,260] Trial 496 finished with value: 0.14986622176079564 and parameters: {'regressor': 'ElasticNet', 'alpha': 0.0004214025044749434, 'l1_ratio': 0.7841960194097786}. Best is trial 164 with value: 0.15170537109033977.\n",
      "[I 2023-06-07 22:58:06,420] Trial 497 finished with value: 0.15159736628976334 and parameters: {'regressor': 'ElasticNet', 'alpha': 0.0006530221221145309, 'l1_ratio': 0.8140948080990554}. Best is trial 164 with value: 0.15170537109033977.\n",
      "[I 2023-06-07 22:58:06,523] Trial 498 finished with value: 0.012652139185510124 and parameters: {'regressor': 'ElasticNet', 'alpha': 0.02546566301278853, 'l1_ratio': 0.7701335328312177}. Best is trial 164 with value: 0.15170537109033977.\n",
      "[I 2023-06-07 22:58:06,633] Trial 499 finished with value: 0.03898913577543831 and parameters: {'regressor': 'ElasticNet', 'alpha': 0.01375276636210854, 'l1_ratio': 0.7257710405969758}. Best is trial 164 with value: 0.15170537109033977.\n"
     ]
    }
   ],
   "source": [
    "import optuna\n",
    "from sklearn.base import TransformerMixin\n",
    "from sklearn.ensemble import ExtraTreesRegressor, RandomForestRegressor\n",
    "from sklearn.linear_model import ElasticNet\n",
    "from sklearn.model_selection import cross_val_score\n",
    "from sklearn.neighbors import KNeighborsRegressor\n",
    "from sklearn.pipeline import Pipeline\n",
    "\n",
    "def objective(trial):\n",
    "\n",
    "    regressor_name = trial.suggest_categorical(\"regressor\", [\n",
    "        \"LinearRegression\",\n",
    "        \"ElasticNet\", \n",
    "        \"KNeighborsRegressor\",\n",
    "        \"RandomForestRegressor\", \n",
    "        \"ExtraTreesRegressor\"\n",
    "        ])\n",
    "\n",
    "    if regressor_name == \"LinearRegression\": \n",
    "        regressor = LinearRegression()\n",
    "    elif regressor_name == \"ElasticNet\":\n",
    "        alpha = trial.suggest_loguniform('alpha', 1e-4, 1.0)\n",
    "        l1_ratio = trial.suggest_uniform('l1_ratio', 0, 1)\n",
    "        regressor = ElasticNet(alpha=alpha, l1_ratio=l1_ratio)\n",
    "    elif regressor_name == \"KNeighborsRegressor\":\n",
    "        n_neighbors = trial.suggest_int('n_neighbors', 1, 50)\n",
    "        weights = trial.suggest_categorical('weights', ['uniform', 'distance'])\n",
    "        p = trial.suggest_categorical('p', [1, 2])\n",
    "        regressor = KNeighborsRegressor(n_neighbors=n_neighbors,\n",
    "                                        weights=weights, \n",
    "                                        p=p)\n",
    "    elif regressor_name == \"RandomForestRegressor\":\n",
    "        n_estimators = trial.suggest_int('n_estimators', 100, 500)\n",
    "        max_depth = trial.suggest_int('max_depth', 2, 32)\n",
    "        min_samples_split = trial.suggest_int('min_samples_split', 2, 10)\n",
    "        min_samples_leaf = trial.suggest_int('min_samples_leaf', 1, 10)\n",
    "        regressor = RandomForestRegressor(n_estimators=n_estimators,\n",
    "                                          max_depth=max_depth,\n",
    "                                          min_samples_split=min_samples_split,min_samples_leaf=min_samples_leaf,\n",
    "                                          n_jobs=-1)\n",
    "    elif regressor_name == \"ExtraTreesRegressor\":\n",
    "        n_estimators = trial.suggest_int('n_estimators', 100, 500)\n",
    "        max_depth = trial.suggest_int('max_depth', 2, 32)\n",
    "        min_samples_split = trial.suggest_int('min_samples_split', 2, 10)\n",
    "        min_samples_leaf = trial.suggest_int('min_samples_leaf', 1, 10)\n",
    "        regressor = ExtraTreesRegressor(n_estimators=n_estimators,\n",
    "                                        max_depth=max_depth,\n",
    "                                        min_samples_split=min_samples_split,min_samples_leaf=min_samples_leaf,\n",
    "                                        n_jobs=-1)\n",
    "    \n",
    "    vect = TfidfVectorizer(ngram_range=(1,1), analyzer=\"word\", max_df=0.5, \n",
    "                           min_df=10, lowercase=True)\n",
    "    pipe = Pipeline([('vect', vect), ('ref', regressor)])\n",
    "    scores = cross_val_score(pipe, \n",
    "                             train.text.values, \n",
    "                             train[[\"lat\", \"lon\"]].values,\n",
    "                             cv=5,\n",
    "                             n_jobs=-1)\n",
    "    return scores.mean()\n",
    "\n",
    "\n",
    "study = optuna.create_study(direction='maximize')\n",
    "study.optimize(objective, n_trials=500)"
   ]
  },
  {
   "cell_type": "code",
   "execution_count": 19,
   "metadata": {},
   "outputs": [
    {
     "name": "stdout",
     "output_type": "stream",
     "text": [
      "best value: 0.15170537109033977\n",
      "best trial: FrozenTrial(number=164, state=TrialState.COMPLETE, values=[0.15170537109033977], datetime_start=datetime.datetime(2023, 6, 7, 22, 56, 13, 513199), datetime_complete=datetime.datetime(2023, 6, 7, 22, 56, 13, 687282), params={'regressor': 'ElasticNet', 'alpha': 0.000624584728970956, 'l1_ratio': 0.7710010533680905}, user_attrs={}, system_attrs={}, intermediate_values={}, distributions={'regressor': CategoricalDistribution(choices=('LinearRegression', 'ElasticNet', 'KNeighborsRegressor', 'RandomForestRegressor', 'ExtraTreesRegressor')), 'alpha': FloatDistribution(high=1.0, log=True, low=0.0001, step=None), 'l1_ratio': FloatDistribution(high=1.0, log=False, low=0.0, step=None)}, trial_id=164, value=None)\n",
      "best params: {'regressor': 'ElasticNet', 'alpha': 0.000624584728970956, 'l1_ratio': 0.7710010533680905}\n"
     ]
    }
   ],
   "source": [
    "print('best value:', study.best_value)\n",
    "print('best trial:', study.best_trial)\n",
    "best_params = study.best_trial.params\n",
    "print('best params:', best_params)"
   ]
  },
  {
   "cell_type": "code",
   "execution_count": 20,
   "metadata": {},
   "outputs": [
    {
     "data": {
      "text/plain": [
       "0.21332870166754325"
      ]
     },
     "execution_count": 20,
     "metadata": {},
     "output_type": "execute_result"
    }
   ],
   "source": [
    "if best_params['regressor'] == 'LinearRegression':\n",
    "    best_regressor = LinearRegression()\n",
    "elif best_params['regressor'] == 'ElasticNet':\n",
    "    best_regressor = ElasticNet(alpha=best_params[\"alpha\"], \n",
    "                                l1_ratio=best_params[\"l1_ratio\"])\n",
    "elif best_params['regressor'] == 'KNeighborsRegressor':\n",
    "    best_regressor = KNeighborsRegressor(\n",
    "        n_neighbors=best_params[\"n_neighbors\"], \n",
    "        weights=best_params[\"weights\"],\n",
    "        p=best_params[\"p\"])\n",
    "elif best_params['regressor'] == 'RandomForestRegressor':\n",
    "    best_regressor = RandomForestRegressor(\n",
    "        n_estimators=best_params[\"n_estimators\"],\n",
    "        max_depth=best_params[\"max_depth\"],\n",
    "        min_samples_split=best_params[\"min_samples_split\"],\n",
    "        min_samples_leaf=best_params[\"min_samples_leaf\"])\n",
    "elif best_params['regressor'] == 'ExtraTreesRegressor':\n",
    "    best_regressor = ExtraTreesRegressor(\n",
    "        n_estimators=best_params[\"n_estimators\"],\n",
    "        max_depth=best_params[\"max_depth\"],\n",
    "        min_samples_split=best_params[\"min_samples_split\"],\n",
    "        min_samples_leaf=best_params[\"min_samples_leaf\"])\n",
    "    \n",
    "vect = TfidfVectorizer(ngram_range=(1, 1), \n",
    "                       analyzer=\"word\", \n",
    "                       max_df=0.5,\n",
    "                       min_df=10, \n",
    "                       lowercase=True)\n",
    "pipe = Pipeline([('vect', vect), ('reg', best_regressor)])\n",
    "pipe.fit(train.text.values, train[[\"lat\", \"lon\"]].values)\n",
    "score = pipe.score(test.text.values, test[[\"lat\", \"lon\"]].values)\n",
    "score    "
   ]
  },
  {
   "cell_type": "code",
   "execution_count": 21,
   "metadata": {
    "colab": {
     "base_uri": "https://localhost:8080/"
    },
    "id": "F2LmNQWugO1L",
    "outputId": "03e2038c-b70f-49d0-e6c8-950872627287"
   },
   "outputs": [
    {
     "name": "stdout",
     "output_type": "stream",
     "text": [
      "MAE of lat and lon: 1.29 & 1.80\n",
      "MSE of lat and lon: 2.63 & 5.52\n"
     ]
    }
   ],
   "source": [
    "predicted_coords = pipe.predict(test.text.values)\n",
    "print(f\"MAE of lat and lon: {mean_absolute_error(test.lat.values, predicted_coords[:, 0]):.2f} & {mean_absolute_error(test.lon.values, predicted_coords[:, 1]):.2f}\")\n",
    "print(f\"MSE of lat and lon: {mean_squared_error(test.lat.values, predicted_coords[:, 0]):.2f} & {mean_squared_error(test.lon.values, predicted_coords[:, 1]):.2f}\")"
   ]
  },
  {
   "cell_type": "markdown",
   "metadata": {},
   "source": [
    "* Having arrived at this point, it is worth pointing out that the $\\alpha$ parameter of `ElasticNet` is very small:"
   ]
  },
  {
   "cell_type": "code",
   "execution_count": 22,
   "metadata": {},
   "outputs": [
    {
     "data": {
      "text/plain": [
       "0.000624584728970956"
      ]
     },
     "execution_count": 22,
     "metadata": {},
     "output_type": "execute_result"
    }
   ],
   "source": [
    "best_params['alpha']"
   ]
  },
  {
   "cell_type": "markdown",
   "metadata": {},
   "source": [
    "* This means that in practice `ElasticNet` behaves pretty much like Ordinary Least Squares regression.\n",
    "\n",
    "* So we could as well just try that one."
   ]
  },
  {
   "cell_type": "code",
   "execution_count": 23,
   "metadata": {},
   "outputs": [
    {
     "data": {
      "text/plain": [
       "0.12157069318821215"
      ]
     },
     "execution_count": 23,
     "metadata": {},
     "output_type": "execute_result"
    }
   ],
   "source": [
    "vect = TfidfVectorizer(ngram_range=(1,1), analyzer=\"word\", max_df=0.5, \n",
    "                       min_df=10, lowercase=True)\n",
    "    \n",
    "pipe = Pipeline([('vect', vect), ('reg', LinearRegression())])\n",
    "    \n",
    "scores = cross_val_score(pipe, \n",
    "                         train.text.values, \n",
    "                         train[[\"lat\", \"lon\"]].values,\n",
    "                         cv=5,\n",
    "                         n_jobs=-1)\n",
    "scores.mean()"
   ]
  },
  {
   "cell_type": "code",
   "execution_count": 24,
   "metadata": {},
   "outputs": [
    {
     "data": {
      "text/plain": [
       "0.19721894514520716"
      ]
     },
     "execution_count": 24,
     "metadata": {},
     "output_type": "execute_result"
    }
   ],
   "source": [
    "pipe = Pipeline([('vect', vect), ('reg', LinearRegression())])\n",
    "pipe.fit(train.text.values, train[[\"lat\", \"lon\"]].values)\n",
    "score = pipe.score(test.text.values, test[[\"lat\", \"lon\"]].values)\n",
    "score   "
   ]
  },
  {
   "cell_type": "code",
   "execution_count": 25,
   "metadata": {},
   "outputs": [
    {
     "name": "stdout",
     "output_type": "stream",
     "text": [
      "MAE of lat and lon: 1.31 & 1.82\n",
      "MSE of lat and lon: 2.70 & 5.57\n"
     ]
    }
   ],
   "source": [
    "predicted_coords = pipe.predict(test.text.values)\n",
    "print(f\"MAE of lat and lon: {mean_absolute_error(test.lat.values, predicted_coords[:, 0]):.2f} & {mean_absolute_error(test.lon.values, predicted_coords[:, 1]):.2f}\")\n",
    "print(f\"MSE of lat and lon: {mean_squared_error(test.lat.values, predicted_coords[:, 0]):.2f} & {mean_squared_error(test.lon.values, predicted_coords[:, 1]):.2f}\")"
   ]
  },
  {
   "cell_type": "markdown",
   "metadata": {
    "id": "waS2eGdcgrN-"
   },
   "source": [
    "## Finding terms pushing North, South, West, and East"
   ]
  },
  {
   "cell_type": "code",
   "execution_count": 26,
   "metadata": {
    "id": "gUkvoPTTgn7L"
   },
   "outputs": [],
   "source": [
    "importance_pd = pd.DataFrame({\"feature\":pipe[\"vect\"].get_feature_names_out(), \n",
    "                              \"lat\": pipe[\"reg\"].coef_[0, :],\n",
    "                              \"lon\": pipe[\"reg\"].coef_[1, :]})"
   ]
  },
  {
   "cell_type": "markdown",
   "metadata": {
    "id": "arRsBHqOi3Z9"
   },
   "source": [
    "### Words pushing $\\uparrow$ North: higher lat"
   ]
  },
  {
   "cell_type": "code",
   "execution_count": 27,
   "metadata": {
    "colab": {
     "base_uri": "https://localhost:8080/",
     "height": 206
    },
    "id": "UaPRsIgOgyw4",
    "outputId": "d3934ff2-82ae-46a3-e015-d27386f4b946"
   },
   "outputs": [
    {
     "data": {
      "text/html": [
       "<div>\n",
       "<style scoped>\n",
       "    .dataframe tbody tr th:only-of-type {\n",
       "        vertical-align: middle;\n",
       "    }\n",
       "\n",
       "    .dataframe tbody tr th {\n",
       "        vertical-align: top;\n",
       "    }\n",
       "\n",
       "    .dataframe thead th {\n",
       "        text-align: right;\n",
       "    }\n",
       "</style>\n",
       "<table border=\"1\" class=\"dataframe\">\n",
       "  <thead>\n",
       "    <tr style=\"text-align: right;\">\n",
       "      <th></th>\n",
       "      <th>feature</th>\n",
       "      <th>lat</th>\n",
       "      <th>lon</th>\n",
       "    </tr>\n",
       "  </thead>\n",
       "  <tbody>\n",
       "    <tr>\n",
       "      <th>692</th>\n",
       "      <td>τρώγει</td>\n",
       "      <td>3.635892</td>\n",
       "      <td>-0.032554</td>\n",
       "    </tr>\n",
       "    <tr>\n",
       "      <th>601</th>\n",
       "      <td>σάββας</td>\n",
       "      <td>3.161245</td>\n",
       "      <td>1.184159</td>\n",
       "    </tr>\n",
       "    <tr>\n",
       "      <th>195</th>\n",
       "      <td>διάβολο</td>\n",
       "      <td>2.948192</td>\n",
       "      <td>1.232401</td>\n",
       "    </tr>\n",
       "    <tr>\n",
       "      <th>552</th>\n",
       "      <td>πε</td>\n",
       "      <td>2.770396</td>\n",
       "      <td>1.545323</td>\n",
       "    </tr>\n",
       "    <tr>\n",
       "      <th>325</th>\n",
       "      <td>κε</td>\n",
       "      <td>2.755401</td>\n",
       "      <td>-0.781987</td>\n",
       "    </tr>\n",
       "  </tbody>\n",
       "</table>\n",
       "</div>"
      ],
      "text/plain": [
       "     feature       lat       lon\n",
       "692   τρώγει  3.635892 -0.032554\n",
       "601   σάββας  3.161245  1.184159\n",
       "195  διάβολο  2.948192  1.232401\n",
       "552       πε  2.770396  1.545323\n",
       "325       κε  2.755401 -0.781987"
      ]
     },
     "execution_count": 27,
     "metadata": {},
     "output_type": "execute_result"
    }
   ],
   "source": [
    "importance_pd.sort_values(by=\"lat\", ascending=False).head(5)"
   ]
  },
  {
   "cell_type": "markdown",
   "metadata": {
    "id": "CMbNoEiii64j"
   },
   "source": [
    "### Words pushing $\\downarrow$ South: lower lat"
   ]
  },
  {
   "cell_type": "code",
   "execution_count": 28,
   "metadata": {
    "colab": {
     "base_uri": "https://localhost:8080/",
     "height": 206
    },
    "id": "bqRuMFKbg4as",
    "outputId": "1f9b9f3b-f93d-4916-9c30-dfd3299dcbeb"
   },
   "outputs": [
    {
     "data": {
      "text/html": [
       "<div>\n",
       "<style scoped>\n",
       "    .dataframe tbody tr th:only-of-type {\n",
       "        vertical-align: middle;\n",
       "    }\n",
       "\n",
       "    .dataframe tbody tr th {\n",
       "        vertical-align: top;\n",
       "    }\n",
       "\n",
       "    .dataframe thead th {\n",
       "        text-align: right;\n",
       "    }\n",
       "</style>\n",
       "<table border=\"1\" class=\"dataframe\">\n",
       "  <thead>\n",
       "    <tr style=\"text-align: right;\">\n",
       "      <th></th>\n",
       "      <th>feature</th>\n",
       "      <th>lat</th>\n",
       "      <th>lon</th>\n",
       "    </tr>\n",
       "  </thead>\n",
       "  <tbody>\n",
       "    <tr>\n",
       "      <th>660</th>\n",
       "      <td>τζ</td>\n",
       "      <td>-4.194844</td>\n",
       "      <td>11.198418</td>\n",
       "    </tr>\n",
       "    <tr>\n",
       "      <th>661</th>\n",
       "      <td>τζαί</td>\n",
       "      <td>-4.178668</td>\n",
       "      <td>11.034529</td>\n",
       "    </tr>\n",
       "    <tr>\n",
       "      <th>662</th>\n",
       "      <td>τζαι</td>\n",
       "      <td>-4.120808</td>\n",
       "      <td>10.672089</td>\n",
       "    </tr>\n",
       "    <tr>\n",
       "      <th>226</th>\n",
       "      <td>εγιώ</td>\n",
       "      <td>-3.835543</td>\n",
       "      <td>5.002954</td>\n",
       "    </tr>\n",
       "    <tr>\n",
       "      <th>664</th>\n",
       "      <td>τζι</td>\n",
       "      <td>-3.824139</td>\n",
       "      <td>10.232078</td>\n",
       "    </tr>\n",
       "  </tbody>\n",
       "</table>\n",
       "</div>"
      ],
      "text/plain": [
       "    feature       lat        lon\n",
       "660      τζ -4.194844  11.198418\n",
       "661    τζαί -4.178668  11.034529\n",
       "662    τζαι -4.120808  10.672089\n",
       "226    εγιώ -3.835543   5.002954\n",
       "664     τζι -3.824139  10.232078"
      ]
     },
     "execution_count": 28,
     "metadata": {},
     "output_type": "execute_result"
    }
   ],
   "source": [
    "importance_pd.sort_values(by=\"lat\", ascending=True).head(5)"
   ]
  },
  {
   "cell_type": "markdown",
   "metadata": {
    "id": "Ej4pBRoejAOg"
   },
   "source": [
    "### Words pushing $\\rightarrow$ East: higher lon"
   ]
  },
  {
   "cell_type": "code",
   "execution_count": 29,
   "metadata": {
    "colab": {
     "base_uri": "https://localhost:8080/",
     "height": 206
    },
    "id": "pvlr5xAnhleJ",
    "outputId": "c41783fe-b6fa-4925-a9c6-194fef542e87"
   },
   "outputs": [
    {
     "data": {
      "text/html": [
       "<div>\n",
       "<style scoped>\n",
       "    .dataframe tbody tr th:only-of-type {\n",
       "        vertical-align: middle;\n",
       "    }\n",
       "\n",
       "    .dataframe tbody tr th {\n",
       "        vertical-align: top;\n",
       "    }\n",
       "\n",
       "    .dataframe thead th {\n",
       "        text-align: right;\n",
       "    }\n",
       "</style>\n",
       "<table border=\"1\" class=\"dataframe\">\n",
       "  <thead>\n",
       "    <tr style=\"text-align: right;\">\n",
       "      <th></th>\n",
       "      <th>feature</th>\n",
       "      <th>lat</th>\n",
       "      <th>lon</th>\n",
       "    </tr>\n",
       "  </thead>\n",
       "  <tbody>\n",
       "    <tr>\n",
       "      <th>660</th>\n",
       "      <td>τζ</td>\n",
       "      <td>-4.194844</td>\n",
       "      <td>11.198418</td>\n",
       "    </tr>\n",
       "    <tr>\n",
       "      <th>661</th>\n",
       "      <td>τζαί</td>\n",
       "      <td>-4.178668</td>\n",
       "      <td>11.034529</td>\n",
       "    </tr>\n",
       "    <tr>\n",
       "      <th>662</th>\n",
       "      <td>τζαι</td>\n",
       "      <td>-4.120808</td>\n",
       "      <td>10.672089</td>\n",
       "    </tr>\n",
       "    <tr>\n",
       "      <th>664</th>\n",
       "      <td>τζι</td>\n",
       "      <td>-3.824139</td>\n",
       "      <td>10.232078</td>\n",
       "    </tr>\n",
       "    <tr>\n",
       "      <th>233</th>\n",
       "      <td>εμ</td>\n",
       "      <td>-2.805806</td>\n",
       "      <td>7.284577</td>\n",
       "    </tr>\n",
       "  </tbody>\n",
       "</table>\n",
       "</div>"
      ],
      "text/plain": [
       "    feature       lat        lon\n",
       "660      τζ -4.194844  11.198418\n",
       "661    τζαί -4.178668  11.034529\n",
       "662    τζαι -4.120808  10.672089\n",
       "664     τζι -3.824139  10.232078\n",
       "233      εμ -2.805806   7.284577"
      ]
     },
     "execution_count": 29,
     "metadata": {},
     "output_type": "execute_result"
    }
   ],
   "source": [
    "importance_pd.sort_values(by=\"lon\", ascending=False).head(5)"
   ]
  },
  {
   "cell_type": "markdown",
   "metadata": {
    "id": "0pMF_nAujCqJ"
   },
   "source": [
    "### Words pushing $\\leftarrow$ West: higher lon"
   ]
  },
  {
   "cell_type": "code",
   "execution_count": 30,
   "metadata": {
    "colab": {
     "base_uri": "https://localhost:8080/",
     "height": 206
    },
    "id": "AJ2tGPIZh4Qi",
    "outputId": "bb219769-86f2-44d1-872e-4c2c7cad0e8c"
   },
   "outputs": [
    {
     "data": {
      "text/html": [
       "<div>\n",
       "<style scoped>\n",
       "    .dataframe tbody tr th:only-of-type {\n",
       "        vertical-align: middle;\n",
       "    }\n",
       "\n",
       "    .dataframe tbody tr th {\n",
       "        vertical-align: top;\n",
       "    }\n",
       "\n",
       "    .dataframe thead th {\n",
       "        text-align: right;\n",
       "    }\n",
       "</style>\n",
       "<table border=\"1\" class=\"dataframe\">\n",
       "  <thead>\n",
       "    <tr style=\"text-align: right;\">\n",
       "      <th></th>\n",
       "      <th>feature</th>\n",
       "      <th>lat</th>\n",
       "      <th>lon</th>\n",
       "    </tr>\n",
       "  </thead>\n",
       "  <tbody>\n",
       "    <tr>\n",
       "      <th>115</th>\n",
       "      <td>βαρβάρα</td>\n",
       "      <td>-1.411847</td>\n",
       "      <td>-4.574121</td>\n",
       "    </tr>\n",
       "    <tr>\n",
       "      <th>702</th>\n",
       "      <td>τσου</td>\n",
       "      <td>0.507615</td>\n",
       "      <td>-4.082944</td>\n",
       "    </tr>\n",
       "    <tr>\n",
       "      <th>157</th>\n",
       "      <td>γελάει</td>\n",
       "      <td>-0.226155</td>\n",
       "      <td>-4.005390</td>\n",
       "    </tr>\n",
       "    <tr>\n",
       "      <th>466</th>\n",
       "      <td>ναν</td>\n",
       "      <td>0.649680</td>\n",
       "      <td>-3.835403</td>\n",
       "    </tr>\n",
       "    <tr>\n",
       "      <th>107</th>\n",
       "      <td>αφέντη</td>\n",
       "      <td>0.441480</td>\n",
       "      <td>-3.485066</td>\n",
       "    </tr>\n",
       "  </tbody>\n",
       "</table>\n",
       "</div>"
      ],
      "text/plain": [
       "     feature       lat       lon\n",
       "115  βαρβάρα -1.411847 -4.574121\n",
       "702     τσου  0.507615 -4.082944\n",
       "157   γελάει -0.226155 -4.005390\n",
       "466      ναν  0.649680 -3.835403\n",
       "107   αφέντη  0.441480 -3.485066"
      ]
     },
     "execution_count": 30,
     "metadata": {},
     "output_type": "execute_result"
    }
   ],
   "source": [
    "importance_pd.sort_values(by=\"lon\", ascending=True).head(5)"
   ]
  }
 ],
 "metadata": {
  "colab": {
   "include_colab_link": true,
   "provenance": []
  },
  "kernelspec": {
   "display_name": "Python 3 (ipykernel)",
   "language": "python",
   "name": "python3"
  },
  "language_info": {
   "codemirror_mode": {
    "name": "ipython",
    "version": 3
   },
   "file_extension": ".py",
   "mimetype": "text/x-python",
   "name": "python",
   "nbconvert_exporter": "python",
   "pygments_lexer": "ipython3",
   "version": "3.10.10"
  }
 },
 "nbformat": 4,
 "nbformat_minor": 1
}
