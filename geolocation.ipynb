{
 "cells": [
  {
   "cell_type": "markdown",
   "metadata": {
    "colab_type": "text",
    "id": "view-in-github"
   },
   "source": [
    "<a href=\"https://colab.research.google.com/github/ipavlopoulos/paremia/blob/main/geolocation.ipynb\" target=\"_parent\"><img src=\"https://colab.research.google.com/assets/colab-badge.svg\" alt=\"Open In Colab\"/></a>"
   ]
  },
  {
   "cell_type": "markdown",
   "metadata": {
    "id": "pxxFvI4TbAKf"
   },
   "source": [
    "# Geolocation prediction of Greek proverbs\n",
    "\n",
    "* Using a collection of proverbs from the [Hellenic Folklore Research Centre](http://www.kentrolaografias.gr/) of the Academy of Athens\n",
    "* Using language modelling and text classification to geolocate proverbs whose information is not known.\n",
    "---\n"
   ]
  },
  {
   "cell_type": "code",
   "execution_count": 1,
   "metadata": {
    "id": "dQm9rqoXb9v8"
   },
   "outputs": [],
   "source": [
    "import pandas as pd\n",
    "import matplotlib.pyplot as plt\n",
    "import numpy as np\n",
    "import seaborn as sns\n",
    "import optuna\n",
    "from sklearn.model_selection import train_test_split\n",
    "from sklearn.metrics import *\n",
    "from sklearn.linear_model import LogisticRegression\n",
    "from sklearn.linear_model import LinearRegression\n",
    "from sklearn.neighbors import KNeighborsClassifier\n",
    "from sklearn.svm import LinearSVC\n",
    "from sklearn.ensemble import RandomForestClassifier\n",
    "from sklearn.feature_extraction.text import TfidfVectorizer\n",
    "from sklearn.pipeline import Pipeline\n",
    "from sklearn.model_selection import cross_val_score\n",
    "from sklearn.metrics import mean_absolute_error, mean_squared_error\n",
    "from sklearn.linear_model import ElasticNet\n",
    "from sklearn.neighbors import KNeighborsRegressor\n",
    "from sklearn.neighbors import RandomForestRegressor\n",
    "\n",
    "import ast"
   ]
  },
  {
   "cell_type": "code",
   "execution_count": 2,
   "metadata": {
    "id": "XyQd70ImcrzX"
   },
   "outputs": [],
   "source": [
    "balanced_corpus = pd.read_csv(\"data/balanced_corpus.csv\", index_col=0)"
   ]
  },
  {
   "cell_type": "code",
   "execution_count": 3,
   "metadata": {
    "id": "eQjj2Lcgapux"
   },
   "outputs": [],
   "source": [
    "train, test = train_test_split(balanced_corpus, test_size=0.05, random_state=2023)\n",
    "train, dev = train_test_split(train, test_size=test.shape[0], random_state=2023)"
   ]
  },
  {
   "cell_type": "markdown",
   "metadata": {
    "id": "lT8WZYricW2D"
   },
   "source": [
    "## Authorship analysis\n"
   ]
  },
  {
   "cell_type": "code",
   "execution_count": 4,
   "metadata": {
    "id": "gmvhu05PcSUh"
   },
   "outputs": [],
   "source": [
    "%%capture\n",
    "!git clone https://github.com/ipavlopoulos/lm\n",
    "from lm.markov.models import LM"
   ]
  },
  {
   "cell_type": "markdown",
   "metadata": {
    "id": "DN0RXWb4cchP"
   },
   "source": [
    "* Training one language model per area, by sampling proverbs of that area"
   ]
  },
  {
   "cell_type": "code",
   "execution_count": 5,
   "metadata": {
    "id": "aq3fGpgPcUAm"
   },
   "outputs": [],
   "source": [
    "# building the local language models\n",
    "loc_name = {'Ρούμελη':'Roumeli', 'Κοζάνη':'Kozani', 'Κως':'Kos', 'Αδριανούπολη':'Adrian.', 'Νάουσα':'Naousa', 'Σέρρες':'Serres', 'Σίφνος': 'Sifnos', 'Ήπειρος':'Epirus', 'Αιτωλία':'Etolia', 'Αμοργός':'Amorgos', 'Ανατολική Θράκη': 'East Thrace',\n",
    "            'Αρκαδία':'Arcadia', 'Αχαΐα':'Achaia', 'Επτάνησος':'Eptanisos', 'Εύβοια':'Eyvoia', 'Θεσπρωτία':'Thesprotia', \n",
    "             'Θράκη': 'Thrace', 'Ιωάννινα':'Ioannina', 'Κάρπαθος':'Karpathos', 'Κεφαλληνία':'Kefalinia', 'Κρήτη':'Crete',\n",
    "            'Κύπρος':'Cyprus', 'Λέσβος':'Lesvos', 'Λακωνία':'Laconia', 'Μακεδονία':'Maced.', 'Μικρά Ασία':'Asia Minor',\n",
    "            'Νάξος':'Naxos', 'Πόντος':'Pontos', 'Ρόδος':'Rodos', 'Σκύρος':'Skyros'}\n",
    "models = {}\n",
    "for area in train.area.unique():\n",
    "    texts = train[train.area==area].text.values\n",
    "    models[loc_name[area]] = LM(gram=\"CHAR\").train(\" \\n \".join(texts))"
   ]
  },
  {
   "cell_type": "code",
   "execution_count": 6,
   "metadata": {
    "id": "2noxDr3mca4G"
   },
   "outputs": [],
   "source": [
    "def ling_dist(proverb, models=models):\n",
    "    '''\n",
    "    Compute the bits per character (BPC) for a given proverb using many local language models\n",
    "\n",
    "    Args:\n",
    "        proverb (str): a text\n",
    "        models (dict): a dictionary of language models, \n",
    "                       one per location\n",
    "        \n",
    "    Returns:\n",
    "        string: the location whose model predicts best the text \n",
    "        pd.DataFrame: BPC per location    \n",
    "    '''\n",
    "    entropy = {loc:[models[loc].cross_entropy(proverb.lower())] for loc in models.keys()}\n",
    "    likelier = min(entropy, key=entropy.get) \n",
    "    return likelier, pd.DataFrame(entropy)"
   ]
  },
  {
   "cell_type": "code",
   "execution_count": 7,
   "metadata": {
    "colab": {
     "base_uri": "https://localhost:8080/",
     "height": 191
    },
    "id": "eCuazKiJcfR4",
    "outputId": "8baab35f-f59e-474e-eddb-9e9cc6086e89"
   },
   "outputs": [
    {
     "data": {
      "text/html": [
       "<div>\n",
       "<style scoped>\n",
       "    .dataframe tbody tr th:only-of-type {\n",
       "        vertical-align: middle;\n",
       "    }\n",
       "\n",
       "    .dataframe tbody tr th {\n",
       "        vertical-align: top;\n",
       "    }\n",
       "\n",
       "    .dataframe thead th {\n",
       "        text-align: right;\n",
       "    }\n",
       "</style>\n",
       "<table border=\"1\" class=\"dataframe\">\n",
       "  <thead>\n",
       "    <tr style=\"text-align: right;\">\n",
       "      <th></th>\n",
       "      <th>Asia Minor</th>\n",
       "      <th>Ioannina</th>\n",
       "      <th>Karpathos</th>\n",
       "      <th>Crete</th>\n",
       "      <th>Thesprotia</th>\n",
       "      <th>Epirus</th>\n",
       "      <th>Kefalinia</th>\n",
       "      <th>Amorgos</th>\n",
       "      <th>Eptanisos</th>\n",
       "      <th>Cyprus</th>\n",
       "      <th>...</th>\n",
       "      <th>Achaia</th>\n",
       "      <th>Arcadia</th>\n",
       "      <th>Etolia</th>\n",
       "      <th>Pontos</th>\n",
       "      <th>Skyros</th>\n",
       "      <th>East Thrace</th>\n",
       "      <th>Thrace</th>\n",
       "      <th>Maced.</th>\n",
       "      <th>Naxos</th>\n",
       "      <th>Lesvos</th>\n",
       "    </tr>\n",
       "  </thead>\n",
       "  <tbody>\n",
       "    <tr>\n",
       "      <th>0</th>\n",
       "      <td>4.038577</td>\n",
       "      <td>4.313742</td>\n",
       "      <td>4.318077</td>\n",
       "      <td>4.4117</td>\n",
       "      <td>4.430579</td>\n",
       "      <td>4.492731</td>\n",
       "      <td>4.538359</td>\n",
       "      <td>4.863242</td>\n",
       "      <td>5.019258</td>\n",
       "      <td>5.063717</td>\n",
       "      <td>...</td>\n",
       "      <td>5.119214</td>\n",
       "      <td>5.133526</td>\n",
       "      <td>5.15317</td>\n",
       "      <td>5.18501</td>\n",
       "      <td>5.243022</td>\n",
       "      <td>5.250783</td>\n",
       "      <td>5.424325</td>\n",
       "      <td>5.457056</td>\n",
       "      <td>5.671837</td>\n",
       "      <td>6.209453</td>\n",
       "    </tr>\n",
       "  </tbody>\n",
       "</table>\n",
       "<p>1 rows × 23 columns</p>\n",
       "</div>"
      ],
      "text/plain": [
       "   Asia Minor  Ioannina  Karpathos   Crete  Thesprotia    Epirus  Kefalinia  \\\n",
       "0    4.038577  4.313742   4.318077  4.4117    4.430579  4.492731   4.538359   \n",
       "\n",
       "    Amorgos  Eptanisos    Cyprus  ...    Achaia   Arcadia   Etolia   Pontos  \\\n",
       "0  4.863242   5.019258  5.063717  ...  5.119214  5.133526  5.15317  5.18501   \n",
       "\n",
       "     Skyros  East Thrace    Thrace    Maced.     Naxos    Lesvos  \n",
       "0  5.243022     5.250783  5.424325  5.457056  5.671837  6.209453  \n",
       "\n",
       "[1 rows x 23 columns]"
      ]
     },
     "execution_count": 7,
     "metadata": {},
     "output_type": "execute_result"
    }
   ],
   "source": [
    "# use case\n",
    "loc, dists = ling_dist('κακόν χωριόν τσα λίγα σπίτιαν')\n",
    "dists.sort_values(by=0, ascending=True, axis=1)"
   ]
  },
  {
   "cell_type": "code",
   "execution_count": 8,
   "metadata": {
    "id": "CeVg347AchD1"
   },
   "outputs": [],
   "source": [
    "def logprob(txt, mdl):\n",
    "    '''Visualising the (log) probability per character for a given model\n",
    "    \n",
    "    Args:\n",
    "        txt (string): the character sequence\n",
    "        mdl (lm.markov.models.LM): the language model to be used to compute \n",
    "                                   the character probabilities\n",
    "        \n",
    "    Returns:\n",
    "        list: the log probs of the characters in the text \n",
    "    '''\n",
    "    probs = mdl.compute_gram_probs(txt)\n",
    "    logprobs = map(np.log2, probs)\n",
    "    return list(logprobs)\n",
    "\n",
    "\n",
    "def heatmap(txt, models):\n",
    "    ''' Creating a heatmap of the logprobs per local language model for a given text\n",
    "\n",
    "    Args:\n",
    "        txt (string): the text in question\n",
    "        models (dict): the language models (lm.markov.models.LM) to use to score the text\n",
    "        \n",
    "    Returns:\n",
    "        pd.DataFrame: the dataframe with the models' scores\n",
    "        ax: the heatmap\n",
    "    '''\n",
    "    plt.rcParams[\"figure.figsize\"] = (len(txt)/3,6); plt.rcParams[\"axes.labelsize\"] = 23;\n",
    "    probs = {loc: logprob(txt, models[loc]) for loc in models.keys()}\n",
    "    df = pd.DataFrame(probs, index=[str(c) for c in txt])\n",
    "    return df, sns.heatmap(df.transpose(), cmap=\"rocket_r\")"
   ]
  },
  {
   "cell_type": "code",
   "execution_count": 9,
   "metadata": {
    "colab": {
     "base_uri": "https://localhost:8080/",
     "height": 484
    },
    "id": "FuHIBEzrciao",
    "outputId": "a395b787-df36-4695-d6e7-56de885a386c"
   },
   "outputs": [
    {
     "name": "stdout",
     "output_type": "stream",
     "text": [
      "Στες εννιά έμαθέν το τζι' ο κουφός (Κύπρος) -- predicted as: Eyvoia\n"
     ]
    },
    {
     "data": {
      "image/png": "[encoded data removed]",
      "text/plain": [
       "<Figure size 1133.33x600 with 2 Axes>"
      ]
     },
     "metadata": {},
     "output_type": "display_data"
    }
   ],
   "source": [
    "t = test[test.area==\"Κύπρος\"].sample().iloc[0]\n",
    "df, ax = heatmap(t.text, models)\n",
    "print(f'{t.text} ({t.area})', end=' -- ')\n",
    "print(f'predicted as: {df.columns[df.mean(0).argmax()]}')\n",
    "ax.figure.tight_layout(); ax.figure.savefig(\"heatmap.pdf\", format=\"PDF\", dpi=300)"
   ]
  },
  {
   "cell_type": "markdown",
   "metadata": {
    "id": "5Uyu_pMpcyAz"
   },
   "source": [
    "* Evaluating on unseen proverbs"
   ]
  },
  {
   "cell_type": "code",
   "execution_count": 10,
   "metadata": {
    "colab": {
     "base_uri": "https://localhost:8080/"
    },
    "id": "eGOI3UqUcjuv",
    "outputId": "f315a4d1-91b2-4c88-adf8-fefd593752ab"
   },
   "outputs": [
    {
     "name": "stdout",
     "output_type": "stream",
     "text": [
      "              precision    recall  f1-score   support\n",
      "\n",
      "      Achaia       0.14      0.12      0.13        32\n",
      "     Amorgos       0.19      0.14      0.16        22\n",
      "     Arcadia       0.08      0.06      0.07        31\n",
      "  Asia Minor       0.17      0.17      0.17        18\n",
      "       Crete       0.23      0.23      0.23        30\n",
      "      Cyprus       0.73      0.79      0.76        24\n",
      " East Thrace       0.12      0.17      0.14        24\n",
      "      Epirus       0.11      0.13      0.12        23\n",
      "   Eptanisos       0.25      0.35      0.29        23\n",
      "      Etolia       0.40      0.33      0.36        24\n",
      "      Eyvoia       0.07      0.15      0.10        20\n",
      "    Ioannina       0.17      0.14      0.15        29\n",
      "   Karpathos       0.37      0.25      0.30        28\n",
      "   Kefalinia       0.11      0.15      0.13        27\n",
      "     Laconia       0.04      0.04      0.04        27\n",
      "      Lesvos       0.45      0.38      0.41        24\n",
      "      Maced.       0.19      0.19      0.19        27\n",
      "       Naxos       0.34      0.42      0.38        24\n",
      "      Pontos       1.00      0.68      0.81        19\n",
      "       Rodos       0.24      0.27      0.26        22\n",
      "      Skyros       0.58      0.37      0.45        30\n",
      "  Thesprotia       0.08      0.09      0.09        22\n",
      "      Thrace       0.15      0.12      0.13        25\n",
      "\n",
      "    accuracy                           0.24       575\n",
      "   macro avg       0.27      0.25      0.25       575\n",
      "weighted avg       0.26      0.24      0.25       575\n",
      "\n"
     ]
    }
   ],
   "source": [
    "predictions = test.text.apply(lambda x: ling_dist(x, models=models)[0])\n",
    "gold = test.area.apply(lambda x: loc_name[x]).values\n",
    "print(classification_report(gold, predictions, zero_division=0))"
   ]
  },
  {
   "cell_type": "markdown",
   "metadata": {
    "id": "0orVps9Wc4fj"
   },
   "source": [
    "* The confusion matrix can inform us about the confusion in the predictions"
   ]
  },
  {
   "cell_type": "code",
   "execution_count": 11,
   "metadata": {
    "colab": {
     "base_uri": "https://localhost:8080/",
     "height": 607
    },
    "id": "pZVBv05WczgE",
    "outputId": "3008ba4f-0ddd-4039-8680-0f77625d628f"
   },
   "outputs": [
    {
     "data": {
      "image/png": "[encoded data removed]",
      "text/plain": [
       "<Figure size 600x600 with 1 Axes>"
      ]
     },
     "metadata": {},
     "output_type": "display_data"
    }
   ],
   "source": [
    "plt.rcParams[\"figure.figsize\"] = (6,6); plt.rcParams[\"axes.labelsize\"] = 12;\n",
    "cm = ConfusionMatrixDisplay.from_predictions(gold, predictions, xticks_rotation='vertical', colorbar=False);\n",
    "cm.figure_.tight_layout(); cm.figure_.savefig('authorship_confusion.pdf', format=\"PDF\", dpi=300)"
   ]
  },
  {
   "cell_type": "markdown",
   "metadata": {
    "id": "hrA3eHTRc9qT"
   },
   "source": [
    "## Benchmarking standard text classifiers, on top of chanracter n-grams"
   ]
  },
  {
   "cell_type": "code",
   "execution_count": 15,
   "metadata": {
    "colab": {
     "base_uri": "https://localhost:8080/"
    },
    "id": "15kPTs9tc5_G",
    "outputId": "a94bd6bc-41bf-41d3-9bbe-b36dc857ab17"
   },
   "outputs": [
    {
     "name": "stdout",
     "output_type": "stream",
     "text": [
      "Vocabulary: 81402\n",
      "n-gram: \"ία\" \t(tfidf: 0.21)\n",
      "n-gram: \"αρ\" \t(tfidf: 0.12)\n",
      "n-gram: \"αρο\" \t(tfidf: 0.21)\n",
      "n-gram: \"αροι\" \t(tfidf: 0.37)\n",
      "n-gram: \"ιμ\" \t(tfidf: 0.19)\n",
      "n-gram: \"ιμί\" \t(tfidf: 0.33)\n",
      "n-gram: \"ιμία\" \t(tfidf: 0.38)\n",
      "n-gram: \"μί\" \t(tfidf: 0.21)\n",
      "n-gram: \"μία\" \t(tfidf: 0.30)\n",
      "n-gram: \"οι\" \t(tfidf: 0.13)\n",
      "n-gram: \"οιμ\" \t(tfidf: 0.28)\n",
      "n-gram: \"πα\" \t(tfidf: 0.11)\n",
      "n-gram: \"παρ\" \t(tfidf: 0.18)\n",
      "n-gram: \"παρο\" \t(tfidf: 0.36)\n",
      "n-gram: \"ρο\" \t(tfidf: 0.12)\n",
      "n-gram: \"ροι\" \t(tfidf: 0.26)\n"
     ]
    }
   ],
   "source": [
    "vect = TfidfVectorizer(ngram_range=(2,5), # token sequences\n",
    "                       analyzer=\"char\", # tokens are characters\n",
    "                       max_df=0.5, # ignore tokens present in more than 50% of the texts\n",
    "                       min_df=2, # ignore tokens not present in at least two documents \n",
    "                       lowercase=True)\n",
    "vect.fit(train.text.values)\n",
    "print('Vocabulary:', len(vect.vocabulary_))\n",
    "rep_t = vect.transform(['παροιμία'])\n",
    "for i, feat in enumerate(rep_t.toarray()[0]):\n",
    "    if feat>0:\n",
    "        print(f'n-gram: \"{vect.get_feature_names_out()[i]}\" \\t(tfidf: {feat:.2f})')"
   ]
  },
  {
   "cell_type": "markdown",
   "metadata": {},
   "source": [
    "### Logistic Regression"
   ]
  },
  {
   "cell_type": "code",
   "execution_count": 13,
   "metadata": {},
   "outputs": [
    {
     "name": "stdout",
     "output_type": "stream",
     "text": [
      "0.28628019323671494\n",
      "LogisticRegression\n",
      "                 precision    recall  f1-score   support\n",
      "\n",
      "        Ήπειρος       0.20      0.22      0.21        23\n",
      "        Αιτωλία       0.36      0.58      0.44        24\n",
      "        Αμοργός       0.13      0.18      0.15        22\n",
      "Ανατολική Θράκη       0.16      0.21      0.18        24\n",
      "        Αρκαδία       0.20      0.16      0.18        31\n",
      "          Αχαΐα       0.39      0.22      0.28        32\n",
      "      Επτάνησος       0.34      0.65      0.45        23\n",
      "         Εύβοια       0.06      0.05      0.05        20\n",
      "      Θεσπρωτία       0.05      0.05      0.05        22\n",
      "          Θράκη       0.25      0.16      0.20        25\n",
      "       Ιωάννινα       0.30      0.21      0.24        29\n",
      "       Κάρπαθος       0.40      0.29      0.33        28\n",
      "     Κεφαλληνία       0.14      0.11      0.12        27\n",
      "          Κρήτη       0.35      0.27      0.30        30\n",
      "         Κύπρος       0.72      0.75      0.73        24\n",
      "         Λέσβος       0.41      0.58      0.48        24\n",
      "        Λακωνία       0.12      0.07      0.09        27\n",
      "      Μακεδονία       0.37      0.26      0.30        27\n",
      "     Μικρά Ασία       0.00      0.00      0.00        18\n",
      "          Νάξος       0.31      0.46      0.37        24\n",
      "         Πόντος       0.71      0.79      0.75        19\n",
      "          Ρόδος       0.26      0.23      0.24        22\n",
      "         Σκύρος       0.45      0.60      0.51        30\n",
      "\n",
      "       accuracy                           0.31       575\n",
      "      macro avg       0.29      0.31      0.29       575\n",
      "   weighted avg       0.30      0.31      0.29       575\n",
      "\n"
     ]
    }
   ],
   "source": [
    "vect = TfidfVectorizer(ngram_range=(2, 5), \n",
    "                       analyzer=\"char\",\n",
    "                       max_df=0.5, \n",
    "                       min_df=2, lowercase=True)\n",
    "\n",
    "regressor = LogisticRegression()\n",
    "\n",
    "pipe = Pipeline([('vect', vect), ('ref', regressor)])\n",
    "\n",
    "scores = cross_val_score(pipe,\n",
    "                         train.text.values,\n",
    "                         train.area.values,\n",
    "                         cv=5,\n",
    "                         n_jobs=-1)\n",
    "\n",
    "cv_score = scores.mean()\n",
    "print(cv_score)\n",
    "\n",
    "pipe = Pipeline([('vect', vect), ('clf', LogisticRegression())])\n",
    "pipe.fit(train.text, train.area)\n",
    "preds = pipe.predict(test.text)\n",
    "print(f'LogisticRegression\\n{classification_report(test.area.values, preds)}')"
   ]
  },
  {
   "cell_type": "markdown",
   "metadata": {},
   "source": [
    "### SVM"
   ]
  },
  {
   "cell_type": "code",
   "execution_count": 28,
   "metadata": {},
   "outputs": [
    {
     "name": "stderr",
     "output_type": "stream",
     "text": [
      "[I 2023-06-10 19:22:37,657] A new study created in memory with name: no-name-232e8730-ae0c-4bcd-95fc-acc0f330e500\n",
      "[I 2023-06-10 19:22:40,417] Trial 1 finished with value: 0.04434782608695652 and parameters: {'C': 0.00913365036392995, 'penalty': 'l1', 'loss': 'squared_hinge'}. Best is trial 1 with value: 0.04434782608695652.\n",
      "[I 2023-06-10 19:22:40,975] Trial 0 finished with value: 0.2674396135265701 and parameters: {'C': 0.011727997271561033, 'penalty': 'l2', 'loss': 'hinge'}. Best is trial 0 with value: 0.2674396135265701.\n",
      "[I 2023-06-10 19:22:42,030] Trial 2 finished with value: 0.043188405797101447 and parameters: {'C': 3.6937644735477824e-06, 'penalty': 'l1', 'loss': 'squared_hinge'}. Best is trial 0 with value: 0.2674396135265701.\n",
      "[I 2023-06-10 19:22:46,453] Trial 4 finished with value: 0.28251207729468597 and parameters: {'C': 0.034497669104562034, 'penalty': 'l2', 'loss': 'squared_hinge'}. Best is trial 4 with value: 0.28251207729468597.\n",
      "[I 2023-06-10 19:22:47,385] Trial 5 finished with value: 0.1651207729468599 and parameters: {'C': 3638996.468093511, 'penalty': 'l1', 'loss': 'squared_hinge'}. Best is trial 4 with value: 0.28251207729468597.\n",
      "[I 2023-06-10 19:22:53,603] Trial 3 finished with value: 0.2831884057971015 and parameters: {'C': 5141311985.216723, 'penalty': 'l2', 'loss': 'hinge'}. Best is trial 3 with value: 0.2831884057971015.\n",
      "[I 2023-06-10 19:23:01,150] Trial 8 finished with value: 0.2828985507246377 and parameters: {'C': 99244199.14814778, 'penalty': 'l2', 'loss': 'squared_hinge'}. Best is trial 3 with value: 0.2831884057971015.\n",
      "[I 2023-06-10 19:23:04,646] Trial 9 finished with value: 0.2471497584541063 and parameters: {'C': 0.0016100040980145285, 'penalty': 'l2', 'loss': 'hinge'}. Best is trial 3 with value: 0.2831884057971015.\n",
      "[I 2023-06-10 19:23:13,547] Trial 6 finished with value: 0.292463768115942 and parameters: {'C': 1.8151485190487533, 'penalty': 'l2', 'loss': 'hinge'}. Best is trial 6 with value: 0.292463768115942.\n",
      "[I 2023-06-10 19:23:17,991] Trial 11 finished with value: 0.043188405797101447 and parameters: {'C': 1.2379489918301683e-07, 'penalty': 'l1', 'loss': 'squared_hinge'}. Best is trial 6 with value: 0.292463768115942.\n",
      "[I 2023-06-10 19:23:18,324] Trial 10 finished with value: 0.28289855072463765 and parameters: {'C': 6030777092.045753, 'penalty': 'l2', 'loss': 'squared_hinge'}. Best is trial 6 with value: 0.292463768115942.\n",
      "[I 2023-06-10 19:23:23,070] Trial 13 finished with value: 0.12869565217391304 and parameters: {'C': 2.6084413236857456e-05, 'penalty': 'l2', 'loss': 'hinge'}. Best is trial 6 with value: 0.292463768115942.\n",
      "[I 2023-06-10 19:23:24,156] Trial 12 finished with value: 0.2833816425120773 and parameters: {'C': 271211.9414207065, 'penalty': 'l2', 'loss': 'hinge'}. Best is trial 6 with value: 0.292463768115942.\n",
      "[I 2023-06-10 19:23:32,610] Trial 14 finished with value: 0.2827053140096618 and parameters: {'C': 1664.5475684486714, 'penalty': 'l2', 'loss': 'squared_hinge'}. Best is trial 6 with value: 0.292463768115942.\n",
      "[I 2023-06-10 19:24:13,057] Trial 7 finished with value: 0.16280193236714977 and parameters: {'C': 230459646.98977244, 'penalty': 'l1', 'loss': 'squared_hinge'}. Best is trial 6 with value: 0.292463768115942.\n",
      "[I 2023-06-10 19:24:26,378] Trial 15 finished with value: 0.2646376811594203 and parameters: {'C': 4.729024003027334, 'penalty': 'l1', 'loss': 'hinge'}. Best is trial 6 with value: 0.292463768115942.\n",
      "[I 2023-06-10 19:24:29,302] Trial 18 finished with value: 0.1068599033816425 and parameters: {'C': 4.350025901951818e-08, 'penalty': 'l2', 'loss': 'squared_hinge'}. Best is trial 6 with value: 0.292463768115942.\n",
      "[I 2023-06-10 19:24:31,371] Trial 19 finished with value: 0.1068599033816425 and parameters: {'C': 1.3535188251267258e-10, 'penalty': 'l2', 'loss': 'hinge'}. Best is trial 6 with value: 0.292463768115942.\n",
      "[I 2023-06-10 19:24:48,205] Trial 20 finished with value: 0.28309178743961355 and parameters: {'C': 2996.2194762556373, 'penalty': 'l2', 'loss': 'hinge'}. Best is trial 6 with value: 0.292463768115942.\n",
      "[I 2023-06-10 19:24:59,423] Trial 21 finished with value: 0.28280193236714973 and parameters: {'C': 1321.1875340838612, 'penalty': 'l2', 'loss': 'hinge'}. Best is trial 6 with value: 0.292463768115942.\n",
      "[I 2023-06-10 19:24:59,813] Trial 22 finished with value: 0.2835748792270531 and parameters: {'C': 8367.72565970199, 'penalty': 'l2', 'loss': 'hinge'}. Best is trial 6 with value: 0.292463768115942.\n",
      "[I 2023-06-10 19:25:12,501] Trial 16 finished with value: 0.26714975845410627 and parameters: {'C': 3.992943316998414, 'penalty': 'l1', 'loss': 'hinge'}. Best is trial 6 with value: 0.292463768115942.\n",
      "[I 2023-06-10 19:25:42,548] Trial 23 finished with value: 0.2821256038647343 and parameters: {'C': 176.3480882005678, 'penalty': 'l2', 'loss': 'hinge'}. Best is trial 6 with value: 0.292463768115942.\n",
      "[I 2023-06-10 19:25:50,911] Trial 25 finished with value: 0.2833816425120773 and parameters: {'C': 4077.7851065994696, 'penalty': 'l2', 'loss': 'hinge'}. Best is trial 6 with value: 0.292463768115942.\n",
      "[I 2023-06-10 19:25:52,588] Trial 17 finished with value: 0.16396135265700482 and parameters: {'C': 316570295.8594559, 'penalty': 'l1', 'loss': 'squared_hinge'}. Best is trial 6 with value: 0.292463768115942.\n",
      "[I 2023-06-10 19:25:56,584] Trial 26 finished with value: 0.28347826086956524 and parameters: {'C': 29324.511337137035, 'penalty': 'l2', 'loss': 'hinge'}. Best is trial 6 with value: 0.292463768115942.\n",
      "[I 2023-06-10 19:26:01,827] Trial 27 finished with value: 0.2832850241545894 and parameters: {'C': 2495.85800938844, 'penalty': 'l2', 'loss': 'hinge'}. Best is trial 6 with value: 0.292463768115942.\n",
      "[I 2023-06-10 19:26:17,366] Trial 24 finished with value: 0.28202898550724637 and parameters: {'C': 142.77677542579914, 'penalty': 'l2', 'loss': 'hinge'}. Best is trial 6 with value: 0.292463768115942.\n",
      "[I 2023-06-10 19:26:25,266] Trial 28 finished with value: 0.28009661835748795 and parameters: {'C': 44.5441857144544, 'penalty': 'l2', 'loss': 'hinge'}. Best is trial 6 with value: 0.292463768115942.\n",
      "[I 2023-06-10 19:26:27,795] Trial 30 finished with value: 0.28280193236714973 and parameters: {'C': 236204.6407280446, 'penalty': 'l2', 'loss': 'hinge'}. Best is trial 6 with value: 0.292463768115942.\n",
      "[I 2023-06-10 19:26:30,395] Trial 31 finished with value: 0.2833816425120773 and parameters: {'C': 38128.466909387666, 'penalty': 'l2', 'loss': 'hinge'}. Best is trial 6 with value: 0.292463768115942.\n",
      "[I 2023-06-10 19:26:31,337] Trial 29 finished with value: 0.2810628019323672 and parameters: {'C': 15.395225750340009, 'penalty': 'l2', 'loss': 'hinge'}. Best is trial 6 with value: 0.292463768115942.\n",
      "[I 2023-06-10 19:26:35,204] Trial 32 finished with value: 0.28299516908212563 and parameters: {'C': 556392.4200467776, 'penalty': 'l2', 'loss': 'hinge'}. Best is trial 6 with value: 0.292463768115942.\n",
      "[I 2023-06-10 19:26:37,315] Trial 33 finished with value: 0.28289855072463765 and parameters: {'C': 2931143.0113645503, 'penalty': 'l2', 'loss': 'hinge'}. Best is trial 6 with value: 0.292463768115942.\n",
      "[I 2023-06-10 19:26:41,528] Trial 34 finished with value: 0.2831884057971014 and parameters: {'C': 297859.88795161573, 'penalty': 'l2', 'loss': 'hinge'}. Best is trial 6 with value: 0.292463768115942.\n",
      "[I 2023-06-10 19:26:43,800] Trial 35 finished with value: 0.28338164251207726 and parameters: {'C': 285533.9014648823, 'penalty': 'l2', 'loss': 'hinge'}. Best is trial 6 with value: 0.292463768115942.\n",
      "[I 2023-06-10 19:26:47,943] Trial 36 finished with value: 0.2833816425120773 and parameters: {'C': 349139.4454989917, 'penalty': 'l2', 'loss': 'hinge'}. Best is trial 6 with value: 0.292463768115942.\n",
      "[I 2023-06-10 19:26:50,080] Trial 37 finished with value: 0.2831884057971015 and parameters: {'C': 158095.92492255205, 'penalty': 'l2', 'loss': 'hinge'}. Best is trial 6 with value: 0.292463768115942.\n",
      "[I 2023-06-10 19:26:54,395] Trial 38 finished with value: 0.28309178743961355 and parameters: {'C': 157706.87877761773, 'penalty': 'l2', 'loss': 'hinge'}. Best is trial 6 with value: 0.292463768115942.\n",
      "[I 2023-06-10 19:26:58,386] Trial 39 finished with value: 0.2881159420289855 and parameters: {'C': 2.630141778810143, 'penalty': 'l2', 'loss': 'hinge'}. Best is trial 6 with value: 0.292463768115942.\n"
     ]
    },
    {
     "name": "stderr",
     "output_type": "stream",
     "text": [
      "[I 2023-06-10 19:27:00,912] Trial 40 finished with value: 0.28289855072463765 and parameters: {'C': 595595.0082319903, 'penalty': 'l2', 'loss': 'hinge'}. Best is trial 6 with value: 0.292463768115942.\n",
      "[I 2023-06-10 19:27:03,503] Trial 41 finished with value: 0.2835748792270531 and parameters: {'C': 805013.4149011874, 'penalty': 'l2', 'loss': 'hinge'}. Best is trial 6 with value: 0.292463768115942.\n",
      "[I 2023-06-10 19:27:06,937] Trial 42 finished with value: 0.2997101449275362 and parameters: {'C': 0.18896483555452978, 'penalty': 'l2', 'loss': 'hinge'}. Best is trial 42 with value: 0.2997101449275362.\n",
      "[I 2023-06-10 19:27:10,085] Trial 43 finished with value: 0.28309178743961355 and parameters: {'C': 59491.983977142925, 'penalty': 'l2', 'loss': 'hinge'}. Best is trial 42 with value: 0.2997101449275362.\n",
      "[I 2023-06-10 19:27:13,740] Trial 44 finished with value: 0.28328502415458934 and parameters: {'C': 20912.779108814, 'penalty': 'l2', 'loss': 'hinge'}. Best is trial 42 with value: 0.2997101449275362.\n",
      "[I 2023-06-10 19:27:15,528] Trial 45 finished with value: 0.292463768115942 and parameters: {'C': 0.07770687848636655, 'penalty': 'l2', 'loss': 'hinge'}. Best is trial 42 with value: 0.2997101449275362.\n",
      "[I 2023-06-10 19:27:20,584] Trial 46 finished with value: 0.3000966183574879 and parameters: {'C': 0.5046744102999189, 'penalty': 'l2', 'loss': 'hinge'}. Best is trial 46 with value: 0.3000966183574879.\n",
      "[I 2023-06-10 19:27:21,769] Trial 47 finished with value: 0.30077294685990336 and parameters: {'C': 0.31378857693408524, 'penalty': 'l2', 'loss': 'hinge'}. Best is trial 47 with value: 0.30077294685990336.\n",
      "[I 2023-06-10 19:27:24,475] Trial 48 finished with value: 0.1786473429951691 and parameters: {'C': 0.2148539263113998, 'penalty': 'l1', 'loss': 'hinge'}. Best is trial 47 with value: 0.30077294685990336.\n",
      "[I 2023-06-10 19:27:26,391] Trial 49 finished with value: 0.21758454106280195 and parameters: {'C': 0.37175468048020416, 'penalty': 'l1', 'loss': 'hinge'}. Best is trial 47 with value: 0.30077294685990336.\n",
      "[I 2023-06-10 19:27:30,233] Trial 50 finished with value: 0.3008695652173913 and parameters: {'C': 0.31193366798166167, 'penalty': 'l2', 'loss': 'hinge'}. Best is trial 50 with value: 0.3008695652173913.\n",
      "[I 2023-06-10 19:27:32,573] Trial 51 finished with value: 0.29864734299516904 and parameters: {'C': 0.6307863875842225, 'penalty': 'l2', 'loss': 'hinge'}. Best is trial 50 with value: 0.3008695652173913.\n",
      "[I 2023-06-10 19:27:35,130] Trial 52 finished with value: 0.23082125603864734 and parameters: {'C': 0.44772266424835616, 'penalty': 'l1', 'loss': 'hinge'}. Best is trial 50 with value: 0.3008695652173913.\n",
      "[I 2023-06-10 19:27:36,023] Trial 53 finished with value: 0.1660869565217391 and parameters: {'C': 0.17015366859205375, 'penalty': 'l1', 'loss': 'hinge'}. Best is trial 50 with value: 0.3008695652173913.\n",
      "[I 2023-06-10 19:27:38,990] Trial 54 finished with value: 0.1803864734299517 and parameters: {'C': 0.22063646740883386, 'penalty': 'l1', 'loss': 'hinge'}. Best is trial 50 with value: 0.3008695652173913.\n",
      "[I 2023-06-10 19:27:40,234] Trial 55 finished with value: 0.1907246376811594 and parameters: {'C': 0.26177327674027495, 'penalty': 'l1', 'loss': 'hinge'}. Best is trial 50 with value: 0.3008695652173913.\n",
      "[I 2023-06-10 19:27:42,506] Trial 56 finished with value: 0.18135265700483091 and parameters: {'C': 0.22473580253071337, 'penalty': 'l1', 'loss': 'hinge'}. Best is trial 50 with value: 0.3008695652173913.\n",
      "[I 2023-06-10 19:27:43,686] Trial 57 finished with value: 0.1685990338164251 and parameters: {'C': 0.17521049110751674, 'penalty': 'l1', 'loss': 'squared_hinge'}. Best is trial 50 with value: 0.3008695652173913.\n",
      "[I 2023-06-10 19:27:46,206] Trial 59 finished with value: 0.0442512077294686 and parameters: {'C': 0.013282838111356578, 'penalty': 'l1', 'loss': 'squared_hinge'}. Best is trial 50 with value: 0.3008695652173913.\n",
      "[I 2023-06-10 19:27:46,312] Trial 58 finished with value: 0.17758454106280191 and parameters: {'C': 0.20796156188204587, 'penalty': 'l1', 'loss': 'squared_hinge'}. Best is trial 50 with value: 0.3008695652173913.\n",
      "[I 2023-06-10 19:27:49,225] Trial 60 finished with value: 0.27275362318840585 and parameters: {'C': 0.019798172555440748, 'penalty': 'l2', 'loss': 'squared_hinge'}. Best is trial 50 with value: 0.3008695652173913.\n",
      "[I 2023-06-10 19:27:49,649] Trial 61 finished with value: 0.25130434782608696 and parameters: {'C': 0.0026361737836371217, 'penalty': 'l2', 'loss': 'squared_hinge'}. Best is trial 50 with value: 0.3008695652173913.\n",
      "[I 2023-06-10 19:27:52,410] Trial 62 finished with value: 0.2544927536231884 and parameters: {'C': 0.004189768071906082, 'penalty': 'l2', 'loss': 'squared_hinge'}. Best is trial 50 with value: 0.3008695652173913.\n",
      "[I 2023-06-10 19:27:53,767] Trial 63 finished with value: 0.2770048309178744 and parameters: {'C': 0.025148099531321622, 'penalty': 'l2', 'loss': 'squared_hinge'}. Best is trial 50 with value: 0.3008695652173913.\n",
      "[I 2023-06-10 19:27:55,400] Trial 64 finished with value: 0.2592270531400966 and parameters: {'C': 0.00608855459679189, 'penalty': 'l2', 'loss': 'squared_hinge'}. Best is trial 50 with value: 0.3008695652173913.\n",
      "[I 2023-06-10 19:27:58,072] Trial 65 finished with value: 0.2803864734299517 and parameters: {'C': 0.02984733733155251, 'penalty': 'l2', 'loss': 'squared_hinge'}. Best is trial 50 with value: 0.3008695652173913.\n",
      "[I 2023-06-10 19:27:58,783] Trial 66 finished with value: 0.2674396135265701 and parameters: {'C': 0.011928479063534479, 'penalty': 'l2', 'loss': 'squared_hinge'}. Best is trial 50 with value: 0.3008695652173913.\n",
      "[I 2023-06-10 19:28:01,190] Trial 67 finished with value: 0.2652173913043478 and parameters: {'C': 0.010280489731941957, 'penalty': 'l2', 'loss': 'squared_hinge'}. Best is trial 50 with value: 0.3008695652173913.\n",
      "[I 2023-06-10 19:28:01,648] Trial 68 finished with value: 0.247536231884058 and parameters: {'C': 0.001648836681730937, 'penalty': 'l2', 'loss': 'squared_hinge'}. Best is trial 50 with value: 0.3008695652173913.\n",
      "[I 2023-06-10 19:28:04,432] Trial 69 finished with value: 0.2514975845410628 and parameters: {'C': 0.002711583784673607, 'penalty': 'l2', 'loss': 'hinge'}. Best is trial 50 with value: 0.3008695652173913.\n",
      "[I 2023-06-10 19:28:04,837] Trial 70 finished with value: 0.2504347826086956 and parameters: {'C': 0.002451155234116989, 'penalty': 'l2', 'loss': 'hinge'}. Best is trial 50 with value: 0.3008695652173913.\n",
      "[I 2023-06-10 19:28:12,081] Trial 71 finished with value: 0.29507246376811597 and parameters: {'C': 1.2957738885998789, 'penalty': 'l2', 'loss': 'hinge'}. Best is trial 50 with value: 0.3008695652173913.\n",
      "[I 2023-06-10 19:28:13,095] Trial 72 finished with value: 0.28995169082125605 and parameters: {'C': 2.210687933829597, 'penalty': 'l2', 'loss': 'hinge'}. Best is trial 50 with value: 0.3008695652173913.\n",
      "[I 2023-06-10 19:28:19,714] Trial 73 finished with value: 0.29275362318840575 and parameters: {'C': 1.6889595455404465, 'penalty': 'l2', 'loss': 'hinge'}. Best is trial 50 with value: 0.3008695652173913.\n",
      "[I 2023-06-10 19:28:20,716] Trial 74 finished with value: 0.292463768115942 and parameters: {'C': 1.7335516490509704, 'penalty': 'l2', 'loss': 'hinge'}. Best is trial 50 with value: 0.3008695652173913.\n",
      "[I 2023-06-10 19:28:28,015] Trial 75 finished with value: 0.2885024154589372 and parameters: {'C': 2.53965565593028, 'penalty': 'l2', 'loss': 'hinge'}. Best is trial 50 with value: 0.3008695652173913.\n",
      "[I 2023-06-10 19:28:28,577] Trial 76 finished with value: 0.2920772946859903 and parameters: {'C': 1.8895213421618122, 'penalty': 'l2', 'loss': 'hinge'}. Best is trial 50 with value: 0.3008695652173913.\n",
      "[I 2023-06-10 19:28:36,289] Trial 78 finished with value: 0.29507246376811597 and parameters: {'C': 1.305926010543879, 'penalty': 'l2', 'loss': 'hinge'}. Best is trial 50 with value: 0.3008695652173913.\n",
      "[I 2023-06-10 19:28:37,288] Trial 77 finished with value: 0.2860869565217391 and parameters: {'C': 3.699253143570286, 'penalty': 'l2', 'loss': 'hinge'}. Best is trial 50 with value: 0.3008695652173913.\n",
      "[I 2023-06-10 19:28:44,137] Trial 79 finished with value: 0.2914975845410628 and parameters: {'C': 1.9591726479329872, 'penalty': 'l2', 'loss': 'hinge'}. Best is trial 50 with value: 0.3008695652173913.\n"
     ]
    },
    {
     "name": "stderr",
     "output_type": "stream",
     "text": [
      "[I 2023-06-10 19:28:45,241] Trial 80 finished with value: 0.29014492753623183 and parameters: {'C': 2.20103317861631, 'penalty': 'l2', 'loss': 'hinge'}. Best is trial 50 with value: 0.3008695652173913.\n",
      "[I 2023-06-10 19:28:51,334] Trial 81 finished with value: 0.29584541062801933 and parameters: {'C': 1.1335027057788138, 'penalty': 'l2', 'loss': 'hinge'}. Best is trial 50 with value: 0.3008695652173913.\n",
      "[I 2023-06-10 19:29:02,031] Trial 82 finished with value: 0.28077294685990334 and parameters: {'C': 17.280761017838174, 'penalty': 'l2', 'loss': 'hinge'}. Best is trial 50 with value: 0.3008695652173913.\n",
      "[I 2023-06-10 19:29:05,528] Trial 83 finished with value: 0.2811594202898551 and parameters: {'C': 11.326218787046614, 'penalty': 'l2', 'loss': 'hinge'}. Best is trial 50 with value: 0.3008695652173913.\n",
      "[I 2023-06-10 19:29:15,173] Trial 84 finished with value: 0.2816425120772947 and parameters: {'C': 9.630669621672324, 'penalty': 'l2', 'loss': 'hinge'}. Best is trial 50 with value: 0.3008695652173913.\n",
      "[I 2023-06-10 19:29:25,286] Trial 85 finished with value: 0.2806763285024155 and parameters: {'C': 23.906785216232606, 'penalty': 'l2', 'loss': 'hinge'}. Best is trial 50 with value: 0.3008695652173913.\n",
      "[I 2023-06-10 19:29:30,996] Trial 86 finished with value: 0.281256038647343 and parameters: {'C': 14.917053594506802, 'penalty': 'l2', 'loss': 'hinge'}. Best is trial 50 with value: 0.3008695652173913.\n",
      "[I 2023-06-10 19:29:39,683] Trial 87 finished with value: 0.2810628019323672 and parameters: {'C': 11.075665252514886, 'penalty': 'l2', 'loss': 'hinge'}. Best is trial 50 with value: 0.3008695652173913.\n",
      "[I 2023-06-10 19:29:49,414] Trial 88 finished with value: 0.2802898550724638 and parameters: {'C': 21.179037450864143, 'penalty': 'l2', 'loss': 'hinge'}. Best is trial 50 with value: 0.3008695652173913.\n",
      "[I 2023-06-10 19:29:55,897] Trial 89 finished with value: 0.2810628019323672 and parameters: {'C': 16.00814277272009, 'penalty': 'l2', 'loss': 'hinge'}. Best is trial 50 with value: 0.3008695652173913.\n",
      "[I 2023-06-10 19:30:03,917] Trial 90 finished with value: 0.28125603864734294 and parameters: {'C': 12.278382475645284, 'penalty': 'l2', 'loss': 'hinge'}. Best is trial 50 with value: 0.3008695652173913.\n",
      "[I 2023-06-10 19:30:08,891] Trial 91 finished with value: 0.2816425120772947 and parameters: {'C': 9.696838148955143, 'penalty': 'l2', 'loss': 'hinge'}. Best is trial 50 with value: 0.3008695652173913.\n",
      "[I 2023-06-10 19:30:14,156] Trial 93 finished with value: 0.2911111111111111 and parameters: {'C': 0.0685431076418823, 'penalty': 'l2', 'loss': 'hinge'}. Best is trial 50 with value: 0.3008695652173913.\n",
      "[I 2023-06-10 19:30:19,359] Trial 94 finished with value: 0.291207729468599 and parameters: {'C': 0.06838899134812576, 'penalty': 'l2', 'loss': 'hinge'}. Best is trial 50 with value: 0.3008695652173913.\n",
      "[I 2023-06-10 19:30:21,249] Trial 92 finished with value: 0.2808695652173913 and parameters: {'C': 20.579610859342854, 'penalty': 'l2', 'loss': 'hinge'}. Best is trial 50 with value: 0.3008695652173913.\n",
      "[I 2023-06-10 19:30:25,974] Trial 95 finished with value: 0.2981642512077295 and parameters: {'C': 0.7262075219891115, 'penalty': 'l2', 'loss': 'hinge'}. Best is trial 50 with value: 0.3008695652173913.\n",
      "[I 2023-06-10 19:30:26,266] Trial 96 finished with value: 0.29033816425120773 and parameters: {'C': 0.061242506999909095, 'penalty': 'l2', 'loss': 'hinge'}. Best is trial 50 with value: 0.3008695652173913.\n",
      "[I 2023-06-10 19:30:30,928] Trial 97 finished with value: 0.2922705314009662 and parameters: {'C': 0.07527178218926177, 'penalty': 'l2', 'loss': 'hinge'}. Best is trial 50 with value: 0.3008695652173913.\n",
      "[I 2023-06-10 19:30:32,905] Trial 98 finished with value: 0.2984541062801932 and parameters: {'C': 0.6976092760911979, 'penalty': 'l2', 'loss': 'hinge'}. Best is trial 50 with value: 0.3008695652173913.\n",
      "[I 2023-06-10 19:30:34,892] Trial 99 finished with value: 0.29178743961352654 and parameters: {'C': 0.07465581565593693, 'penalty': 'l2', 'loss': 'hinge'}. Best is trial 50 with value: 0.3008695652173913.\n"
     ]
    }
   ],
   "source": [
    "def objective(trial):\n",
    "\n",
    "    C = trial.suggest_loguniform('C', 1e-10, 1e10)\n",
    "    penalty = trial.suggest_categorical('penalty', ['l1', 'l2'])\n",
    "    loss = trial.suggest_categorical('loss', ['hinge', 'squared_hinge'])\n",
    "\n",
    "    classifier = LinearSVC(C=C, penalty=penalty, dual=False, max_iter=5000)\n",
    "\n",
    "    vect = TfidfVectorizer(ngram_range=(2, 5),\n",
    "                           analyzer=\"char\",\n",
    "                           max_df=0.5,\n",
    "                           min_df=2,\n",
    "                           lowercase=True)\n",
    "    \n",
    "    pipe = Pipeline([('vect', vect), ('clf', classifier)])\n",
    "    scores = cross_val_score(pipe,\n",
    "                             train.text,\n",
    "                             train.area,\n",
    "                             cv=5,\n",
    "                             n_jobs=-1)\n",
    "    return scores.mean()\n",
    "\n",
    "\n",
    "study = optuna.create_study(direction='maximize')\n",
    "study.optimize(objective, n_trials=100, n_jobs=-1)"
   ]
  },
  {
   "cell_type": "code",
   "execution_count": 29,
   "metadata": {},
   "outputs": [
    {
     "name": "stdout",
     "output_type": "stream",
     "text": [
      "best value: 0.3008695652173913\n",
      "best trial: FrozenTrial(number=50, state=TrialState.COMPLETE, values=[0.3008695652173913], datetime_start=datetime.datetime(2023, 6, 10, 19, 27, 0, 915756), datetime_complete=datetime.datetime(2023, 6, 10, 19, 27, 30, 233312), params={'C': 0.31193366798166167, 'penalty': 'l2', 'loss': 'hinge'}, user_attrs={}, system_attrs={}, intermediate_values={}, distributions={'C': FloatDistribution(high=10000000000.0, log=True, low=1e-10, step=None), 'penalty': CategoricalDistribution(choices=('l1', 'l2')), 'loss': CategoricalDistribution(choices=('hinge', 'squared_hinge'))}, trial_id=50, value=None)\n",
      "best params: {'C': 0.31193366798166167, 'penalty': 'l2', 'loss': 'hinge'}\n"
     ]
    }
   ],
   "source": [
    "print('best value:', study.best_value)\n",
    "print('best trial:', study.best_trial)\n",
    "best_params = study.best_trial.params\n",
    "print('best params:', best_params)"
   ]
  },
  {
   "cell_type": "code",
   "execution_count": 30,
   "metadata": {
    "colab": {
     "base_uri": "https://localhost:8080/"
    },
    "id": "pg2_g8Sflfns",
    "outputId": "f0db68de-9b19-467d-a0a9-74c7e349d166"
   },
   "outputs": [
    {
     "name": "stdout",
     "output_type": "stream",
     "text": [
      "                 precision    recall  f1-score   support\n",
      "\n",
      "        Ήπειρος       0.09      0.09      0.09        23\n",
      "        Αιτωλία       0.42      0.46      0.44        24\n",
      "        Αμοργός       0.26      0.32      0.29        22\n",
      "Ανατολική Θράκη       0.19      0.25      0.22        24\n",
      "        Αρκαδία       0.11      0.10      0.10        31\n",
      "          Αχαΐα       0.31      0.25      0.28        32\n",
      "      Επτάνησος       0.47      0.70      0.56        23\n",
      "         Εύβοια       0.06      0.05      0.05        20\n",
      "      Θεσπρωτία       0.11      0.09      0.10        22\n",
      "          Θράκη       0.26      0.20      0.23        25\n",
      "       Ιωάννινα       0.26      0.17      0.21        29\n",
      "       Κάρπαθος       0.42      0.39      0.41        28\n",
      "     Κεφαλληνία       0.25      0.22      0.24        27\n",
      "          Κρήτη       0.36      0.33      0.34        30\n",
      "         Κύπρος       0.70      0.96      0.81        24\n",
      "         Λέσβος       0.45      0.54      0.49        24\n",
      "        Λακωνία       0.10      0.07      0.09        27\n",
      "      Μακεδονία       0.35      0.30      0.32        27\n",
      "     Μικρά Ασία       0.20      0.11      0.14        18\n",
      "          Νάξος       0.44      0.58      0.50        24\n",
      "         Πόντος       0.73      0.84      0.78        19\n",
      "          Ρόδος       0.28      0.32      0.30        22\n",
      "         Σκύρος       0.54      0.63      0.58        30\n",
      "\n",
      "       accuracy                           0.34       575\n",
      "      macro avg       0.32      0.35      0.33       575\n",
      "   weighted avg       0.32      0.34      0.33       575\n",
      "\n"
     ]
    }
   ],
   "source": [
    "classifier = LinearSVC(**best_params,  dual=False, max_iter=5000)\n",
    "predictor_clf = Pipeline([('vect', vect), ('clf', LinearSVC())]) \n",
    "predictor_clf.fit(train.text.values, train.area.values) \n",
    "predictions_clf = predictor_clf.predict(test.text.values) \n",
    "print(classification_report(test.area.values, predictions_clf))"
   ]
  },
  {
   "cell_type": "markdown",
   "metadata": {},
   "source": [
    "### KNN"
   ]
  },
  {
   "cell_type": "code",
   "execution_count": 31,
   "metadata": {},
   "outputs": [
    {
     "name": "stderr",
     "output_type": "stream",
     "text": [
      "[I 2023-06-10 19:31:42,395] A new study created in memory with name: no-name-850ec991-10c7-447f-8781-767c0a0f36e6\n",
      "[I 2023-06-10 19:31:48,581] Trial 1 finished with value: 0.043188405797101447 and parameters: {'n_neighbors': 41, 'weights': 'uniform', 'p': 1}. Best is trial 1 with value: 0.043188405797101447.\n",
      "[I 2023-06-10 19:34:01,588] Trial 5 finished with value: 0.21304347826086953 and parameters: {'n_neighbors': 42, 'weights': 'distance', 'p': 2}. Best is trial 5 with value: 0.21304347826086953.\n",
      "[I 2023-06-10 19:34:10,227] Trial 4 finished with value: 0.042705314009661835 and parameters: {'n_neighbors': 17, 'weights': 'distance', 'p': 1}. Best is trial 5 with value: 0.21304347826086953.\n",
      "[I 2023-06-10 19:36:21,239] Trial 2 finished with value: 0.1986473429951691 and parameters: {'n_neighbors': 39, 'weights': 'uniform', 'p': 2}. Best is trial 5 with value: 0.21304347826086953.\n",
      "[I 2023-06-10 19:36:23,147] Trial 0 finished with value: 0.17207729468599034 and parameters: {'n_neighbors': 3, 'weights': 'distance', 'p': 2}. Best is trial 5 with value: 0.21304347826086953.\n",
      "[I 2023-06-10 19:36:26,806] Trial 6 finished with value: 0.04386473429951691 and parameters: {'n_neighbors': 14, 'weights': 'uniform', 'p': 1}. Best is trial 5 with value: 0.21304347826086953.\n",
      "[I 2023-06-10 19:36:26,922] Trial 3 finished with value: 0.1779710144927536 and parameters: {'n_neighbors': 15, 'weights': 'uniform', 'p': 2}. Best is trial 5 with value: 0.21304347826086953.\n",
      "[I 2023-06-10 19:38:41,163] Trial 9 finished with value: 0.17333333333333334 and parameters: {'n_neighbors': 13, 'weights': 'uniform', 'p': 2}. Best is trial 5 with value: 0.21304347826086953.\n",
      "[I 2023-06-10 19:38:43,866] Trial 8 finished with value: 0.20028985507246375 and parameters: {'n_neighbors': 43, 'weights': 'uniform', 'p': 2}. Best is trial 5 with value: 0.21304347826086953.\n",
      "[I 2023-06-10 19:38:46,727] Trial 7 finished with value: 0.043478260869565216 and parameters: {'n_neighbors': 39, 'weights': 'distance', 'p': 1}. Best is trial 5 with value: 0.21304347826086953.\n",
      "[I 2023-06-10 19:40:59,346] Trial 10 finished with value: 0.19516908212560385 and parameters: {'n_neighbors': 32, 'weights': 'uniform', 'p': 2}. Best is trial 5 with value: 0.21304347826086953.\n",
      "[I 2023-06-10 19:41:02,464] Trial 11 finished with value: 0.2033816425120773 and parameters: {'n_neighbors': 44, 'weights': 'uniform', 'p': 2}. Best is trial 5 with value: 0.21304347826086953.\n",
      "[I 2023-06-10 19:41:04,959] Trial 12 finished with value: 0.04328502415458937 and parameters: {'n_neighbors': 37, 'weights': 'distance', 'p': 1}. Best is trial 5 with value: 0.21304347826086953.\n",
      "[I 2023-06-10 19:41:08,120] Trial 13 finished with value: 0.042705314009661835 and parameters: {'n_neighbors': 2, 'weights': 'uniform', 'p': 1}. Best is trial 5 with value: 0.21304347826086953.\n",
      "[I 2023-06-10 19:41:10,571] Trial 14 finished with value: 0.043091787439613526 and parameters: {'n_neighbors': 38, 'weights': 'uniform', 'p': 1}. Best is trial 5 with value: 0.21304347826086953.\n",
      "[I 2023-06-10 19:41:13,724] Trial 15 finished with value: 0.04328502415458937 and parameters: {'n_neighbors': 34, 'weights': 'distance', 'p': 1}. Best is trial 5 with value: 0.21304347826086953.\n",
      "[I 2023-06-10 19:41:16,180] Trial 16 finished with value: 0.043188405797101447 and parameters: {'n_neighbors': 46, 'weights': 'distance', 'p': 1}. Best is trial 5 with value: 0.21304347826086953.\n",
      "[I 2023-06-10 19:41:19,305] Trial 17 finished with value: 0.04338164251207729 and parameters: {'n_neighbors': 8, 'weights': 'uniform', 'p': 1}. Best is trial 5 with value: 0.21304347826086953.\n",
      "[I 2023-06-10 19:50:02,707] Trial 18 finished with value: 0.2135265700483092 and parameters: {'n_neighbors': 45, 'weights': 'distance', 'p': 2}. Best is trial 18 with value: 0.2135265700483092.\n",
      "[I 2023-06-10 19:50:05,217] Trial 19 finished with value: 0.21594202898550724 and parameters: {'n_neighbors': 50, 'weights': 'distance', 'p': 2}. Best is trial 19 with value: 0.21594202898550724.\n",
      "[I 2023-06-10 19:53:55,333] Trial 20 finished with value: 0.21594202898550724 and parameters: {'n_neighbors': 48, 'weights': 'distance', 'p': 2}. Best is trial 19 with value: 0.21594202898550724.\n",
      "[I 2023-06-10 19:53:57,993] Trial 21 finished with value: 0.21536231884057971 and parameters: {'n_neighbors': 49, 'weights': 'distance', 'p': 2}. Best is trial 19 with value: 0.21594202898550724.\n",
      "[I 2023-06-10 19:56:11,609] Trial 22 finished with value: 0.21594202898550724 and parameters: {'n_neighbors': 50, 'weights': 'distance', 'p': 2}. Best is trial 19 with value: 0.21594202898550724.\n",
      "[I 2023-06-10 19:56:14,464] Trial 23 finished with value: 0.21594202898550724 and parameters: {'n_neighbors': 50, 'weights': 'distance', 'p': 2}. Best is trial 19 with value: 0.21594202898550724.\n",
      "[I 2023-06-10 19:58:26,768] Trial 24 finished with value: 0.21594202898550724 and parameters: {'n_neighbors': 50, 'weights': 'distance', 'p': 2}. Best is trial 19 with value: 0.21594202898550724.\n",
      "[I 2023-06-10 19:58:29,935] Trial 25 finished with value: 0.21594202898550724 and parameters: {'n_neighbors': 50, 'weights': 'distance', 'p': 2}. Best is trial 19 with value: 0.21594202898550724.\n",
      "[I 2023-06-10 20:00:42,422] Trial 26 finished with value: 0.21594202898550724 and parameters: {'n_neighbors': 50, 'weights': 'distance', 'p': 2}. Best is trial 19 with value: 0.21594202898550724.\n",
      "[I 2023-06-10 20:00:45,656] Trial 27 finished with value: 0.21594202898550724 and parameters: {'n_neighbors': 50, 'weights': 'distance', 'p': 2}. Best is trial 19 with value: 0.21594202898550724.\n",
      "[I 2023-06-10 20:02:58,082] Trial 28 finished with value: 0.21536231884057971 and parameters: {'n_neighbors': 49, 'weights': 'distance', 'p': 2}. Best is trial 19 with value: 0.21594202898550724.\n",
      "[I 2023-06-10 20:03:01,226] Trial 29 finished with value: 0.21594202898550724 and parameters: {'n_neighbors': 50, 'weights': 'distance', 'p': 2}. Best is trial 19 with value: 0.21594202898550724.\n",
      "[I 2023-06-10 20:05:13,648] Trial 30 finished with value: 0.21536231884057971 and parameters: {'n_neighbors': 49, 'weights': 'distance', 'p': 2}. Best is trial 19 with value: 0.21594202898550724.\n",
      "[I 2023-06-10 20:05:17,071] Trial 31 finished with value: 0.21594202898550724 and parameters: {'n_neighbors': 50, 'weights': 'distance', 'p': 2}. Best is trial 19 with value: 0.21594202898550724.\n",
      "[I 2023-06-10 20:07:31,868] Trial 32 finished with value: 0.21594202898550724 and parameters: {'n_neighbors': 50, 'weights': 'distance', 'p': 2}. Best is trial 19 with value: 0.21594202898550724.\n",
      "[I 2023-06-10 20:07:36,506] Trial 33 finished with value: 0.20454106280193235 and parameters: {'n_neighbors': 26, 'weights': 'distance', 'p': 2}. Best is trial 19 with value: 0.21594202898550724.\n",
      "[I 2023-06-10 20:10:00,336] Trial 34 finished with value: 0.20454106280193235 and parameters: {'n_neighbors': 26, 'weights': 'distance', 'p': 2}. Best is trial 19 with value: 0.21594202898550724.\n",
      "[I 2023-06-10 20:10:03,032] Trial 35 finished with value: 0.2047342995169082 and parameters: {'n_neighbors': 25, 'weights': 'distance', 'p': 2}. Best is trial 19 with value: 0.21594202898550724.\n",
      "[I 2023-06-10 20:12:17,530] Trial 36 finished with value: 0.2047342995169082 and parameters: {'n_neighbors': 25, 'weights': 'distance', 'p': 2}. Best is trial 19 with value: 0.21594202898550724.\n",
      "[I 2023-06-10 20:12:20,476] Trial 37 finished with value: 0.20454106280193235 and parameters: {'n_neighbors': 26, 'weights': 'distance', 'p': 2}. Best is trial 19 with value: 0.21594202898550724.\n",
      "[I 2023-06-10 20:14:36,119] Trial 38 finished with value: 0.20415458937198067 and parameters: {'n_neighbors': 27, 'weights': 'distance', 'p': 2}. Best is trial 19 with value: 0.21594202898550724.\n",
      "[I 2023-06-10 20:14:39,494] Trial 39 finished with value: 0.2047342995169082 and parameters: {'n_neighbors': 25, 'weights': 'distance', 'p': 2}. Best is trial 19 with value: 0.21594202898550724.\n",
      "[I 2023-06-10 20:16:52,682] Trial 40 finished with value: 0.20415458937198067 and parameters: {'n_neighbors': 27, 'weights': 'distance', 'p': 2}. Best is trial 19 with value: 0.21594202898550724.\n",
      "[I 2023-06-10 20:16:55,667] Trial 41 finished with value: 0.20492753623188403 and parameters: {'n_neighbors': 23, 'weights': 'distance', 'p': 2}. Best is trial 19 with value: 0.21594202898550724.\n"
     ]
    },
    {
     "name": "stderr",
     "output_type": "stream",
     "text": [
      "[I 2023-06-10 20:19:09,455] Trial 42 finished with value: 0.20415458937198067 and parameters: {'n_neighbors': 27, 'weights': 'distance', 'p': 2}. Best is trial 19 with value: 0.21594202898550724.\n",
      "[I 2023-06-10 20:19:12,686] Trial 43 finished with value: 0.21536231884057971 and parameters: {'n_neighbors': 46, 'weights': 'distance', 'p': 2}. Best is trial 19 with value: 0.21594202898550724.\n",
      "[I 2023-06-10 20:21:25,807] Trial 44 finished with value: 0.21536231884057971 and parameters: {'n_neighbors': 46, 'weights': 'distance', 'p': 2}. Best is trial 19 with value: 0.21594202898550724.\n",
      "[I 2023-06-10 20:21:29,204] Trial 45 finished with value: 0.21536231884057971 and parameters: {'n_neighbors': 46, 'weights': 'distance', 'p': 2}. Best is trial 19 with value: 0.21594202898550724.\n",
      "[I 2023-06-10 20:23:42,676] Trial 46 finished with value: 0.21536231884057971 and parameters: {'n_neighbors': 46, 'weights': 'distance', 'p': 2}. Best is trial 19 with value: 0.21594202898550724.\n",
      "[I 2023-06-10 20:23:46,574] Trial 47 finished with value: 0.21536231884057971 and parameters: {'n_neighbors': 46, 'weights': 'distance', 'p': 2}. Best is trial 19 with value: 0.21594202898550724.\n",
      "[I 2023-06-10 20:26:16,703] Trial 48 finished with value: 0.21536231884057971 and parameters: {'n_neighbors': 46, 'weights': 'distance', 'p': 2}. Best is trial 19 with value: 0.21594202898550724.\n",
      "[I 2023-06-10 20:26:21,229] Trial 49 finished with value: 0.21246376811594203 and parameters: {'n_neighbors': 41, 'weights': 'distance', 'p': 2}. Best is trial 19 with value: 0.21594202898550724.\n",
      "[I 2023-06-10 20:28:40,988] Trial 50 finished with value: 0.21536231884057971 and parameters: {'n_neighbors': 46, 'weights': 'distance', 'p': 2}. Best is trial 19 with value: 0.21594202898550724.\n",
      "[I 2023-06-10 20:28:45,333] Trial 51 finished with value: 0.21536231884057971 and parameters: {'n_neighbors': 46, 'weights': 'distance', 'p': 2}. Best is trial 19 with value: 0.21594202898550724.\n",
      "[I 2023-06-10 20:31:09,528] Trial 52 finished with value: 0.21536231884057971 and parameters: {'n_neighbors': 47, 'weights': 'distance', 'p': 2}. Best is trial 19 with value: 0.21594202898550724.\n",
      "[I 2023-06-10 20:31:15,212] Trial 53 finished with value: 0.21246376811594203 and parameters: {'n_neighbors': 41, 'weights': 'distance', 'p': 2}. Best is trial 19 with value: 0.21594202898550724.\n",
      "[I 2023-06-10 20:33:29,907] Trial 54 finished with value: 0.21304347826086953 and parameters: {'n_neighbors': 42, 'weights': 'distance', 'p': 2}. Best is trial 19 with value: 0.21594202898550724.\n",
      "[I 2023-06-10 20:33:35,579] Trial 55 finished with value: 0.21120772946859906 and parameters: {'n_neighbors': 40, 'weights': 'distance', 'p': 2}. Best is trial 19 with value: 0.21594202898550724.\n",
      "[I 2023-06-10 20:35:50,103] Trial 56 finished with value: 0.21246376811594203 and parameters: {'n_neighbors': 41, 'weights': 'distance', 'p': 2}. Best is trial 19 with value: 0.21594202898550724.\n",
      "[I 2023-06-10 20:35:56,246] Trial 57 finished with value: 0.21246376811594203 and parameters: {'n_neighbors': 41, 'weights': 'distance', 'p': 2}. Best is trial 19 with value: 0.21594202898550724.\n",
      "[I 2023-06-10 20:36:01,447] Trial 59 finished with value: 0.043091787439613526 and parameters: {'n_neighbors': 40, 'weights': 'uniform', 'p': 1}. Best is trial 19 with value: 0.21594202898550724.\n",
      "[I 2023-06-10 20:38:06,779] Trial 58 finished with value: 0.19932367149758454 and parameters: {'n_neighbors': 41, 'weights': 'uniform', 'p': 2}. Best is trial 19 with value: 0.21594202898550724.\n",
      "[I 2023-06-10 20:38:18,039] Trial 60 finished with value: 0.21304347826086953 and parameters: {'n_neighbors': 42, 'weights': 'distance', 'p': 2}. Best is trial 19 with value: 0.21594202898550724.\n",
      "[I 2023-06-10 20:38:23,697] Trial 62 finished with value: 0.043188405797101447 and parameters: {'n_neighbors': 42, 'weights': 'uniform', 'p': 1}. Best is trial 19 with value: 0.21594202898550724.\n",
      "[I 2023-06-10 20:38:29,347] Trial 63 finished with value: 0.043188405797101447 and parameters: {'n_neighbors': 43, 'weights': 'uniform', 'p': 1}. Best is trial 19 with value: 0.21594202898550724.\n",
      "[I 2023-06-10 20:38:35,009] Trial 64 finished with value: 0.043188405797101447 and parameters: {'n_neighbors': 44, 'weights': 'uniform', 'p': 1}. Best is trial 19 with value: 0.21594202898550724.\n",
      "[I 2023-06-10 20:38:40,680] Trial 65 finished with value: 0.043188405797101447 and parameters: {'n_neighbors': 43, 'weights': 'uniform', 'p': 1}. Best is trial 19 with value: 0.21594202898550724.\n",
      "[I 2023-06-10 20:38:46,290] Trial 66 finished with value: 0.043188405797101447 and parameters: {'n_neighbors': 43, 'weights': 'uniform', 'p': 1}. Best is trial 19 with value: 0.21594202898550724.\n",
      "[I 2023-06-10 20:38:51,932] Trial 67 finished with value: 0.043188405797101447 and parameters: {'n_neighbors': 36, 'weights': 'uniform', 'p': 1}. Best is trial 19 with value: 0.21594202898550724.\n",
      "[I 2023-06-10 20:38:57,595] Trial 68 finished with value: 0.043188405797101447 and parameters: {'n_neighbors': 43, 'weights': 'uniform', 'p': 1}. Best is trial 19 with value: 0.21594202898550724.\n",
      "[I 2023-06-10 20:39:03,154] Trial 69 finished with value: 0.043188405797101447 and parameters: {'n_neighbors': 36, 'weights': 'uniform', 'p': 1}. Best is trial 19 with value: 0.21594202898550724.\n",
      "[I 2023-06-10 20:39:08,482] Trial 70 finished with value: 0.043188405797101447 and parameters: {'n_neighbors': 48, 'weights': 'distance', 'p': 1}. Best is trial 19 with value: 0.21594202898550724.\n",
      "[I 2023-06-10 20:40:25,441] Trial 61 finished with value: 0.20028985507246375 and parameters: {'n_neighbors': 43, 'weights': 'uniform', 'p': 2}. Best is trial 19 with value: 0.21594202898550724.\n",
      "[I 2023-06-10 20:41:23,638] Trial 71 finished with value: 0.21594202898550724 and parameters: {'n_neighbors': 48, 'weights': 'distance', 'p': 2}. Best is trial 19 with value: 0.21594202898550724.\n",
      "[I 2023-06-10 20:42:41,662] Trial 72 finished with value: 0.21594202898550724 and parameters: {'n_neighbors': 48, 'weights': 'distance', 'p': 2}. Best is trial 19 with value: 0.21594202898550724.\n",
      "[I 2023-06-10 20:43:39,275] Trial 73 finished with value: 0.21594202898550724 and parameters: {'n_neighbors': 48, 'weights': 'distance', 'p': 2}. Best is trial 19 with value: 0.21594202898550724.\n",
      "[I 2023-06-10 20:44:57,426] Trial 74 finished with value: 0.21594202898550724 and parameters: {'n_neighbors': 48, 'weights': 'distance', 'p': 2}. Best is trial 19 with value: 0.21594202898550724.\n",
      "[I 2023-06-10 20:45:54,864] Trial 75 finished with value: 0.21594202898550724 and parameters: {'n_neighbors': 48, 'weights': 'distance', 'p': 2}. Best is trial 19 with value: 0.21594202898550724.\n",
      "[I 2023-06-10 20:47:13,455] Trial 76 finished with value: 0.21594202898550724 and parameters: {'n_neighbors': 48, 'weights': 'distance', 'p': 2}. Best is trial 19 with value: 0.21594202898550724.\n",
      "[I 2023-06-10 20:48:12,118] Trial 77 finished with value: 0.21594202898550724 and parameters: {'n_neighbors': 48, 'weights': 'distance', 'p': 2}. Best is trial 19 with value: 0.21594202898550724.\n",
      "[I 2023-06-10 20:49:31,018] Trial 78 finished with value: 0.21594202898550724 and parameters: {'n_neighbors': 48, 'weights': 'distance', 'p': 2}. Best is trial 19 with value: 0.21594202898550724.\n",
      "[I 2023-06-10 20:50:29,032] Trial 79 finished with value: 0.21594202898550724 and parameters: {'n_neighbors': 48, 'weights': 'distance', 'p': 2}. Best is trial 19 with value: 0.21594202898550724.\n",
      "[I 2023-06-10 20:51:46,695] Trial 80 finished with value: 0.21594202898550724 and parameters: {'n_neighbors': 48, 'weights': 'distance', 'p': 2}. Best is trial 19 with value: 0.21594202898550724.\n",
      "[I 2023-06-10 20:52:47,143] Trial 81 finished with value: 0.21594202898550724 and parameters: {'n_neighbors': 50, 'weights': 'distance', 'p': 2}. Best is trial 19 with value: 0.21594202898550724.\n",
      "[I 2023-06-10 20:54:06,401] Trial 82 finished with value: 0.21594202898550724 and parameters: {'n_neighbors': 50, 'weights': 'distance', 'p': 2}. Best is trial 19 with value: 0.21594202898550724.\n",
      "[I 2023-06-10 20:55:04,636] Trial 83 finished with value: 0.21594202898550724 and parameters: {'n_neighbors': 50, 'weights': 'distance', 'p': 2}. Best is trial 19 with value: 0.21594202898550724.\n"
     ]
    },
    {
     "name": "stderr",
     "output_type": "stream",
     "text": [
      "[I 2023-06-10 20:56:22,436] Trial 84 finished with value: 0.21594202898550724 and parameters: {'n_neighbors': 50, 'weights': 'distance', 'p': 2}. Best is trial 19 with value: 0.21594202898550724.\n",
      "[I 2023-06-10 20:57:20,279] Trial 85 finished with value: 0.21594202898550724 and parameters: {'n_neighbors': 50, 'weights': 'distance', 'p': 2}. Best is trial 19 with value: 0.21594202898550724.\n",
      "[I 2023-06-10 20:58:38,948] Trial 86 finished with value: 0.21594202898550724 and parameters: {'n_neighbors': 50, 'weights': 'distance', 'p': 2}. Best is trial 19 with value: 0.21594202898550724.\n",
      "[I 2023-06-10 20:59:36,732] Trial 87 finished with value: 0.21594202898550724 and parameters: {'n_neighbors': 50, 'weights': 'distance', 'p': 2}. Best is trial 19 with value: 0.21594202898550724.\n",
      "[I 2023-06-10 21:00:54,487] Trial 88 finished with value: 0.21594202898550724 and parameters: {'n_neighbors': 50, 'weights': 'distance', 'p': 2}. Best is trial 19 with value: 0.21594202898550724.\n",
      "[I 2023-06-10 21:01:52,942] Trial 89 finished with value: 0.21594202898550724 and parameters: {'n_neighbors': 50, 'weights': 'distance', 'p': 2}. Best is trial 19 with value: 0.21594202898550724.\n",
      "[I 2023-06-10 21:03:10,688] Trial 90 finished with value: 0.21594202898550724 and parameters: {'n_neighbors': 50, 'weights': 'distance', 'p': 2}. Best is trial 19 with value: 0.21594202898550724.\n",
      "[I 2023-06-10 21:04:10,052] Trial 91 finished with value: 0.21594202898550724 and parameters: {'n_neighbors': 50, 'weights': 'distance', 'p': 2}. Best is trial 19 with value: 0.21594202898550724.\n",
      "[I 2023-06-10 21:05:28,210] Trial 92 finished with value: 0.21594202898550724 and parameters: {'n_neighbors': 50, 'weights': 'distance', 'p': 2}. Best is trial 19 with value: 0.21594202898550724.\n",
      "[I 2023-06-10 21:06:25,879] Trial 93 finished with value: 0.21594202898550724 and parameters: {'n_neighbors': 50, 'weights': 'distance', 'p': 2}. Best is trial 19 with value: 0.21594202898550724.\n",
      "[I 2023-06-10 21:07:44,314] Trial 94 finished with value: 0.2088888888888889 and parameters: {'n_neighbors': 31, 'weights': 'distance', 'p': 2}. Best is trial 19 with value: 0.21594202898550724.\n",
      "[I 2023-06-10 21:08:41,992] Trial 95 finished with value: 0.2132367149758454 and parameters: {'n_neighbors': 44, 'weights': 'distance', 'p': 2}. Best is trial 19 with value: 0.21594202898550724.\n",
      "[I 2023-06-10 21:10:00,390] Trial 96 finished with value: 0.19140096618357488 and parameters: {'n_neighbors': 11, 'weights': 'distance', 'p': 2}. Best is trial 19 with value: 0.21594202898550724.\n",
      "[I 2023-06-10 21:10:58,251] Trial 97 finished with value: 0.19999999999999998 and parameters: {'n_neighbors': 17, 'weights': 'distance', 'p': 2}. Best is trial 19 with value: 0.21594202898550724.\n",
      "[I 2023-06-10 21:12:14,978] Trial 98 finished with value: 0.2077294685990338 and parameters: {'n_neighbors': 30, 'weights': 'distance', 'p': 2}. Best is trial 19 with value: 0.21594202898550724.\n",
      "[I 2023-06-10 21:13:06,057] Trial 99 finished with value: 0.2088888888888889 and parameters: {'n_neighbors': 31, 'weights': 'distance', 'p': 2}. Best is trial 19 with value: 0.21594202898550724.\n"
     ]
    }
   ],
   "source": [
    "def objective(trial):\n",
    "\n",
    "    n_neighbors = trial.suggest_int('n_neighbors', 1, 50)\n",
    "    weights = trial.suggest_categorical('weights', ['uniform', 'distance'])\n",
    "    p = trial.suggest_categorical('p', [1, 2])\n",
    "    classifier = KNeighborsClassifier(n_neighbors=n_neighbors,\n",
    "                                      weights=weights,\n",
    "                                      p=p)\n",
    "\n",
    "    vect = TfidfVectorizer(ngram_range=(2, 5),\n",
    "                           analyzer=\"char\",\n",
    "                           max_df=0.5,\n",
    "                           min_df=2,\n",
    "                           lowercase=True)\n",
    "    \n",
    "    pipe = Pipeline([('vect', vect), ('clf', classifier)])\n",
    "    scores = cross_val_score(pipe,\n",
    "                             train.text,\n",
    "                             train.area,\n",
    "                             cv=5,\n",
    "                             n_jobs=-1)\n",
    "    return scores.mean()\n",
    "\n",
    "\n",
    "study = optuna.create_study(direction='maximize')\n",
    "study.optimize(objective, n_trials=100, n_jobs=-1)"
   ]
  },
  {
   "cell_type": "code",
   "execution_count": 32,
   "metadata": {},
   "outputs": [
    {
     "name": "stdout",
     "output_type": "stream",
     "text": [
      "best value: 0.21594202898550724\n",
      "best trial: FrozenTrial(number=19, state=TrialState.COMPLETE, values=[0.21594202898550724], datetime_start=datetime.datetime(2023, 6, 10, 19, 38, 46, 731295), datetime_complete=datetime.datetime(2023, 6, 10, 19, 50, 5, 217270), params={'n_neighbors': 50, 'weights': 'distance', 'p': 2}, user_attrs={}, system_attrs={}, intermediate_values={}, distributions={'n_neighbors': IntDistribution(high=50, log=False, low=1, step=1), 'weights': CategoricalDistribution(choices=('uniform', 'distance')), 'p': CategoricalDistribution(choices=(1, 2))}, trial_id=19, value=None)\n",
      "best params: {'n_neighbors': 50, 'weights': 'distance', 'p': 2}\n"
     ]
    }
   ],
   "source": [
    "print('best value:', study.best_value)\n",
    "print('best trial:', study.best_trial)\n",
    "best_params = study.best_trial.params\n",
    "print('best params:', best_params)"
   ]
  },
  {
   "cell_type": "code",
   "execution_count": 33,
   "metadata": {},
   "outputs": [
    {
     "data": {
      "text/plain": [
       "0.24347826086956523"
      ]
     },
     "execution_count": 33,
     "metadata": {},
     "output_type": "execute_result"
    }
   ],
   "source": [
    "classifier = KNeighborsClassifier(**best_params)\n",
    "pipe = Pipeline([('vect', vect), ('clf', classifier)])\n",
    "pipe.fit(train.text, train.area)\n",
    "score = pipe.score(test.text, test.area)\n",
    "score"
   ]
  },
  {
   "cell_type": "code",
   "execution_count": 34,
   "metadata": {},
   "outputs": [
    {
     "name": "stdout",
     "output_type": "stream",
     "text": [
      "                 precision    recall  f1-score   support\n",
      "\n",
      "        Ήπειρος       0.05      0.04      0.05        23\n",
      "        Αιτωλία       0.27      0.29      0.28        24\n",
      "        Αμοργός       0.21      0.27      0.24        22\n",
      "Ανατολική Θράκη       0.14      0.21      0.17        24\n",
      "        Αρκαδία       0.08      0.06      0.07        31\n",
      "          Αχαΐα       0.21      0.19      0.20        32\n",
      "      Επτάνησος       0.28      0.57      0.37        23\n",
      "         Εύβοια       0.06      0.05      0.05        20\n",
      "      Θεσπρωτία       0.09      0.09      0.09        22\n",
      "          Θράκη       0.19      0.12      0.15        25\n",
      "       Ιωάννινα       0.13      0.07      0.09        29\n",
      "       Κάρπαθος       0.33      0.21      0.26        28\n",
      "     Κεφαλληνία       0.16      0.19      0.17        27\n",
      "          Κρήτη       0.26      0.20      0.23        30\n",
      "         Κύπρος       0.52      0.71      0.60        24\n",
      "         Λέσβος       0.37      0.46      0.41        24\n",
      "        Λακωνία       0.11      0.11      0.11        27\n",
      "      Μακεδονία       0.33      0.19      0.24        27\n",
      "     Μικρά Ασία       0.00      0.00      0.00        18\n",
      "          Νάξος       0.25      0.29      0.27        24\n",
      "         Πόντος       0.54      0.68      0.60        19\n",
      "          Ρόδος       0.22      0.18      0.20        22\n",
      "         Σκύρος       0.52      0.50      0.51        30\n",
      "\n",
      "       accuracy                           0.24       575\n",
      "      macro avg       0.23      0.25      0.23       575\n",
      "   weighted avg       0.23      0.24      0.23       575\n",
      "\n"
     ]
    }
   ],
   "source": [
    "predictor_clf = Pipeline([('vect', vect), ('clf', classifier)])\n",
    "predictor_clf.fit(train.text, train.area)\n",
    "predictions_clf = predictor_clf.predict(test.text)\n",
    "print(classification_report(test.area, predictions_clf))"
   ]
  },
  {
   "cell_type": "code",
   "execution_count": 37,
   "metadata": {},
   "outputs": [
    {
     "name": "stderr",
     "output_type": "stream",
     "text": [
      "[I 2023-06-10 21:25:16,189] A new study created in memory with name: no-name-5cd8b78c-dee9-45cd-96ee-fdc162bd54db\n",
      "[I 2023-06-10 21:25:21,301] Trial 0 finished with value: 0.2097584541062802 and parameters: {'n_estimators': 247, 'max_depth': 9, 'min_samples_split': 2, 'min_samples_leaf': 9}. Best is trial 0 with value: 0.2097584541062802.\n",
      "[I 2023-06-10 21:25:24,117] Trial 4 finished with value: 0.21449275362318837 and parameters: {'n_estimators': 211, 'max_depth': 13, 'min_samples_split': 4, 'min_samples_leaf': 8}. Best is trial 4 with value: 0.21449275362318837.\n",
      "[I 2023-06-10 21:25:27,717] Trial 9 finished with value: 0.1978743961352657 and parameters: {'n_estimators': 148, 'max_depth': 7, 'min_samples_split': 9, 'min_samples_leaf': 3}. Best is trial 4 with value: 0.21449275362318837.\n",
      "[I 2023-06-10 21:25:27,828] Trial 1 finished with value: 0.20985507246376814 and parameters: {'n_estimators': 148, 'max_depth': 11, 'min_samples_split': 9, 'min_samples_leaf': 7}. Best is trial 4 with value: 0.21449275362318837.\n",
      "[I 2023-06-10 21:25:29,692] Trial 7 finished with value: 0.22241545893719805 and parameters: {'n_estimators': 189, 'max_depth': 16, 'min_samples_split': 2, 'min_samples_leaf': 2}. Best is trial 7 with value: 0.22241545893719805.\n",
      "[I 2023-06-10 21:25:30,130] Trial 2 finished with value: 0.23072463768115942 and parameters: {'n_estimators': 270, 'max_depth': 29, 'min_samples_split': 9, 'min_samples_leaf': 6}. Best is trial 2 with value: 0.23072463768115942.\n",
      "[I 2023-06-10 21:25:33,674] Trial 3 finished with value: 0.23835748792270534 and parameters: {'n_estimators': 404, 'max_depth': 21, 'min_samples_split': 6, 'min_samples_leaf': 2}. Best is trial 3 with value: 0.23835748792270534.\n",
      "[I 2023-06-10 21:25:34,435] Trial 8 finished with value: 0.22560386473429955 and parameters: {'n_estimators': 370, 'max_depth': 29, 'min_samples_split': 2, 'min_samples_leaf': 10}. Best is trial 3 with value: 0.23835748792270534.\n",
      "[I 2023-06-10 21:25:35,542] Trial 10 finished with value: 0.21603864734299516 and parameters: {'n_estimators': 149, 'max_depth': 16, 'min_samples_split': 8, 'min_samples_leaf': 5}. Best is trial 3 with value: 0.23835748792270534.\n",
      "[I 2023-06-10 21:25:35,570] Trial 6 finished with value: 0.23024154589371984 and parameters: {'n_estimators': 211, 'max_depth': 31, 'min_samples_split': 8, 'min_samples_leaf': 6}. Best is trial 3 with value: 0.23835748792270534.\n",
      "[I 2023-06-10 21:25:36,147] Trial 5 finished with value: 0.22028985507246376 and parameters: {'n_estimators': 341, 'max_depth': 11, 'min_samples_split': 6, 'min_samples_leaf': 1}. Best is trial 3 with value: 0.23835748792270534.\n",
      "[I 2023-06-10 21:25:38,260] Trial 11 finished with value: 0.1982608695652174 and parameters: {'n_estimators': 321, 'max_depth': 4, 'min_samples_split': 6, 'min_samples_leaf': 1}. Best is trial 3 with value: 0.23835748792270534.\n",
      "[I 2023-06-10 21:25:38,453] Trial 12 finished with value: 0.22628019323671497 and parameters: {'n_estimators': 170, 'max_depth': 18, 'min_samples_split': 8, 'min_samples_leaf': 4}. Best is trial 3 with value: 0.23835748792270534.\n",
      "[I 2023-06-10 21:25:42,477] Trial 13 finished with value: 0.22444444444444445 and parameters: {'n_estimators': 459, 'max_depth': 17, 'min_samples_split': 4, 'min_samples_leaf': 9}. Best is trial 3 with value: 0.23835748792270534.\n",
      "[I 2023-06-10 21:25:42,947] Trial 14 finished with value: 0.19922705314009664 and parameters: {'n_estimators': 284, 'max_depth': 6, 'min_samples_split': 4, 'min_samples_leaf': 5}. Best is trial 3 with value: 0.23835748792270534.\n",
      "[I 2023-06-10 21:25:43,827] Trial 15 finished with value: 0.21797101449275363 and parameters: {'n_estimators': 185, 'max_depth': 17, 'min_samples_split': 9, 'min_samples_leaf': 6}. Best is trial 3 with value: 0.23835748792270534.\n",
      "[I 2023-06-10 21:25:48,357] Trial 16 finished with value: 0.23352657004830918 and parameters: {'n_estimators': 475, 'max_depth': 29, 'min_samples_split': 2, 'min_samples_leaf': 9}. Best is trial 3 with value: 0.23835748792270534.\n",
      "[I 2023-06-10 21:25:52,628] Trial 18 finished with value: 0.2195169082125604 and parameters: {'n_estimators': 440, 'max_depth': 15, 'min_samples_split': 7, 'min_samples_leaf': 8}. Best is trial 3 with value: 0.23835748792270534.\n",
      "[I 2023-06-10 21:25:52,716] Trial 17 finished with value: 0.24202898550724639 and parameters: {'n_estimators': 311, 'max_depth': 28, 'min_samples_split': 2, 'min_samples_leaf': 2}. Best is trial 17 with value: 0.24202898550724639.\n",
      "[I 2023-06-10 21:26:00,806] Trial 19 finished with value: 0.23893719806763286 and parameters: {'n_estimators': 487, 'max_depth': 22, 'min_samples_split': 6, 'min_samples_leaf': 1}. Best is trial 17 with value: 0.24202898550724639.\n",
      "[I 2023-06-10 21:26:03,048] Trial 20 finished with value: 0.23507246376811594 and parameters: {'n_estimators': 494, 'max_depth': 24, 'min_samples_split': 6, 'min_samples_leaf': 4}. Best is trial 17 with value: 0.24202898550724639.\n",
      "[I 2023-06-10 21:26:04,747] Trial 21 finished with value: 0.237487922705314 and parameters: {'n_estimators': 474, 'max_depth': 24, 'min_samples_split': 5, 'min_samples_leaf': 4}. Best is trial 17 with value: 0.24202898550724639.\n",
      "[I 2023-06-10 21:26:10,611] Trial 22 finished with value: 0.23342995169082129 and parameters: {'n_estimators': 458, 'max_depth': 24, 'min_samples_split': 5, 'min_samples_leaf': 5}. Best is trial 17 with value: 0.24202898550724639.\n",
      "[I 2023-06-10 21:26:11,591] Trial 23 finished with value: 0.23246376811594205 and parameters: {'n_estimators': 410, 'max_depth': 25, 'min_samples_split': 10, 'min_samples_leaf': 5}. Best is trial 17 with value: 0.24202898550724639.\n",
      "[I 2023-06-10 21:26:12,365] Trial 24 finished with value: 0.2375845410628019 and parameters: {'n_estimators': 428, 'max_depth': 25, 'min_samples_split': 10, 'min_samples_leaf': 3}. Best is trial 17 with value: 0.24202898550724639.\n",
      "[I 2023-06-10 21:26:18,616] Trial 25 finished with value: 0.23545893719806762 and parameters: {'n_estimators': 406, 'max_depth': 25, 'min_samples_split': 10, 'min_samples_leaf': 3}. Best is trial 17 with value: 0.24202898550724639.\n",
      "[I 2023-06-10 21:26:21,843] Trial 26 finished with value: 0.2382608695652174 and parameters: {'n_estimators': 459, 'max_depth': 24, 'min_samples_split': 5, 'min_samples_leaf': 3}. Best is trial 17 with value: 0.24202898550724639.\n",
      "[I 2023-06-10 21:26:23,793] Trial 27 finished with value: 0.23855072463768118 and parameters: {'n_estimators': 493, 'max_depth': 24, 'min_samples_split': 5, 'min_samples_leaf': 3}. Best is trial 17 with value: 0.24202898550724639.\n",
      "[I 2023-06-10 21:26:28,692] Trial 28 finished with value: 0.236231884057971 and parameters: {'n_estimators': 401, 'max_depth': 24, 'min_samples_split': 5, 'min_samples_leaf': 3}. Best is trial 17 with value: 0.24202898550724639.\n",
      "[I 2023-06-10 21:26:31,789] Trial 29 finished with value: 0.23420289855072465 and parameters: {'n_estimators': 500, 'max_depth': 24, 'min_samples_split': 5, 'min_samples_leaf': 3}. Best is trial 17 with value: 0.24202898550724639.\n",
      "[I 2023-06-10 21:26:33,331] Trial 30 finished with value: 0.24028985507246378 and parameters: {'n_estimators': 400, 'max_depth': 22, 'min_samples_split': 5, 'min_samples_leaf': 2}. Best is trial 17 with value: 0.24202898550724639.\n",
      "[I 2023-06-10 21:26:36,332] Trial 31 finished with value: 0.23458937198067634 and parameters: {'n_estimators': 419, 'max_depth': 21, 'min_samples_split': 5, 'min_samples_leaf': 2}. Best is trial 17 with value: 0.24202898550724639.\n",
      "[I 2023-06-10 21:26:40,684] Trial 33 finished with value: 0.23420289855072465 and parameters: {'n_estimators': 399, 'max_depth': 21, 'min_samples_split': 3, 'min_samples_leaf': 2}. Best is trial 17 with value: 0.24202898550724639.\n",
      "[I 2023-06-10 21:26:41,220] Trial 32 finished with value: 0.23642512077294686 and parameters: {'n_estimators': 407, 'max_depth': 21, 'min_samples_split': 3, 'min_samples_leaf': 2}. Best is trial 17 with value: 0.24202898550724639.\n",
      "[I 2023-06-10 21:26:45,725] Trial 35 finished with value: 0.23429951690821255 and parameters: {'n_estimators': 371, 'max_depth': 20, 'min_samples_split': 3, 'min_samples_leaf': 2}. Best is trial 17 with value: 0.24202898550724639.\n",
      "[I 2023-06-10 21:26:46,154] Trial 34 finished with value: 0.2353623188405797 and parameters: {'n_estimators': 392, 'max_depth': 21, 'min_samples_split': 3, 'min_samples_leaf': 2}. Best is trial 17 with value: 0.24202898550724639.\n"
     ]
    },
    {
     "name": "stderr",
     "output_type": "stream",
     "text": [
      "[I 2023-06-10 21:26:47,921] Trial 37 finished with value: 0.2173913043478261 and parameters: {'n_estimators': 112, 'max_depth': 20, 'min_samples_split': 3, 'min_samples_leaf': 2}. Best is trial 17 with value: 0.24202898550724639.\n",
      "[I 2023-06-10 21:26:50,468] Trial 36 finished with value: 0.23342995169082123 and parameters: {'n_estimators': 373, 'max_depth': 20, 'min_samples_split': 3, 'min_samples_leaf': 2}. Best is trial 17 with value: 0.24202898550724639.\n",
      "[I 2023-06-10 21:26:54,115] Trial 38 finished with value: 0.23275362318840576 and parameters: {'n_estimators': 362, 'max_depth': 20, 'min_samples_split': 3, 'min_samples_leaf': 2}. Best is trial 17 with value: 0.24202898550724639.\n",
      "[I 2023-06-10 21:26:55,469] Trial 39 finished with value: 0.23236714975845413 and parameters: {'n_estimators': 370, 'max_depth': 20, 'min_samples_split': 3, 'min_samples_leaf': 2}. Best is trial 17 with value: 0.24202898550724639.\n",
      "[I 2023-06-10 21:26:57,925] Trial 40 finished with value: 0.23256038647342997 and parameters: {'n_estimators': 368, 'max_depth': 20, 'min_samples_split': 3, 'min_samples_leaf': 2}. Best is trial 17 with value: 0.24202898550724639.\n",
      "[I 2023-06-10 21:27:00,247] Trial 42 finished with value: 0.21371980676328506 and parameters: {'n_estimators': 105, 'max_depth': 19, 'min_samples_split': 7, 'min_samples_leaf': 1}. Best is trial 17 with value: 0.24202898550724639.\n",
      "[I 2023-06-10 21:27:03,749] Trial 41 finished with value: 0.23681159420289855 and parameters: {'n_estimators': 351, 'max_depth': 20, 'min_samples_split': 3, 'min_samples_leaf': 1}. Best is trial 17 with value: 0.24202898550724639.\n",
      "[I 2023-06-10 21:27:06,113] Trial 44 finished with value: 0.22135265700483092 and parameters: {'n_estimators': 109, 'max_depth': 27, 'min_samples_split': 7, 'min_samples_leaf': 1}. Best is trial 17 with value: 0.24202898550724639.\n",
      "[I 2023-06-10 21:27:07,456] Trial 43 finished with value: 0.23971014492753623 and parameters: {'n_estimators': 364, 'max_depth': 27, 'min_samples_split': 7, 'min_samples_leaf': 1}. Best is trial 17 with value: 0.24202898550724639.\n",
      "[I 2023-06-10 21:27:11,513] Trial 45 finished with value: 0.23816425120772947 and parameters: {'n_estimators': 248, 'max_depth': 28, 'min_samples_split': 7, 'min_samples_leaf': 1}. Best is trial 17 with value: 0.24202898550724639.\n",
      "[I 2023-06-10 21:27:14,219] Trial 46 finished with value: 0.24463768115942033 and parameters: {'n_estimators': 332, 'max_depth': 27, 'min_samples_split': 7, 'min_samples_leaf': 1}. Best is trial 46 with value: 0.24463768115942033.\n",
      "[I 2023-06-10 21:27:16,000] Trial 47 finished with value: 0.23584541062801936 and parameters: {'n_estimators': 257, 'max_depth': 27, 'min_samples_split': 7, 'min_samples_leaf': 1}. Best is trial 46 with value: 0.24463768115942033.\n",
      "[I 2023-06-10 21:27:19,899] Trial 48 finished with value: 0.23874396135265702 and parameters: {'n_estimators': 266, 'max_depth': 27, 'min_samples_split': 7, 'min_samples_leaf': 1}. Best is trial 46 with value: 0.24463768115942033.\n",
      "[I 2023-06-10 21:27:21,358] Trial 49 finished with value: 0.23797101449275365 and parameters: {'n_estimators': 251, 'max_depth': 27, 'min_samples_split': 7, 'min_samples_leaf': 1}. Best is trial 46 with value: 0.24463768115942033.\n",
      "[I 2023-06-10 21:27:25,180] Trial 50 finished with value: 0.2358454106280193 and parameters: {'n_estimators': 244, 'max_depth': 27, 'min_samples_split': 7, 'min_samples_leaf': 1}. Best is trial 46 with value: 0.24463768115942033.\n",
      "[I 2023-06-10 21:27:28,559] Trial 51 finished with value: 0.23942028985507244 and parameters: {'n_estimators': 317, 'max_depth': 31, 'min_samples_split': 7, 'min_samples_leaf': 1}. Best is trial 46 with value: 0.24463768115942033.\n",
      "[I 2023-06-10 21:27:32,680] Trial 52 finished with value: 0.24541062801932365 and parameters: {'n_estimators': 326, 'max_depth': 31, 'min_samples_split': 7, 'min_samples_leaf': 1}. Best is trial 52 with value: 0.24541062801932365.\n",
      "[I 2023-06-10 21:27:35,923] Trial 53 finished with value: 0.24241545893719807 and parameters: {'n_estimators': 315, 'max_depth': 32, 'min_samples_split': 6, 'min_samples_leaf': 1}. Best is trial 52 with value: 0.24541062801932365.\n",
      "[I 2023-06-10 21:27:40,081] Trial 54 finished with value: 0.2471497584541063 and parameters: {'n_estimators': 321, 'max_depth': 32, 'min_samples_split': 7, 'min_samples_leaf': 1}. Best is trial 54 with value: 0.2471497584541063.\n",
      "[I 2023-06-10 21:27:43,626] Trial 55 finished with value: 0.24280193236714975 and parameters: {'n_estimators': 337, 'max_depth': 31, 'min_samples_split': 6, 'min_samples_leaf': 1}. Best is trial 54 with value: 0.2471497584541063.\n",
      "[I 2023-06-10 21:27:47,069] Trial 56 finished with value: 0.24280193236714975 and parameters: {'n_estimators': 314, 'max_depth': 30, 'min_samples_split': 8, 'min_samples_leaf': 1}. Best is trial 54 with value: 0.2471497584541063.\n",
      "[I 2023-06-10 21:27:50,898] Trial 57 finished with value: 0.2434782608695652 and parameters: {'n_estimators': 308, 'max_depth': 32, 'min_samples_split': 8, 'min_samples_leaf': 1}. Best is trial 54 with value: 0.2471497584541063.\n",
      "[I 2023-06-10 21:27:54,436] Trial 58 finished with value: 0.24260869565217394 and parameters: {'n_estimators': 319, 'max_depth': 32, 'min_samples_split': 8, 'min_samples_leaf': 1}. Best is trial 54 with value: 0.2471497584541063.\n",
      "[I 2023-06-10 21:27:57,910] Trial 59 finished with value: 0.2416425120772947 and parameters: {'n_estimators': 307, 'max_depth': 32, 'min_samples_split': 8, 'min_samples_leaf': 1}. Best is trial 54 with value: 0.2471497584541063.\n",
      "[I 2023-06-10 21:28:01,895] Trial 60 finished with value: 0.2443478260869565 and parameters: {'n_estimators': 318, 'max_depth': 32, 'min_samples_split': 8, 'min_samples_leaf': 1}. Best is trial 54 with value: 0.2471497584541063.\n",
      "[I 2023-06-10 21:28:05,278] Trial 61 finished with value: 0.2458937198067633 and parameters: {'n_estimators': 320, 'max_depth': 31, 'min_samples_split': 8, 'min_samples_leaf': 1}. Best is trial 54 with value: 0.2471497584541063.\n",
      "[I 2023-06-10 21:28:09,279] Trial 62 finished with value: 0.24396135265700486 and parameters: {'n_estimators': 318, 'max_depth': 32, 'min_samples_split': 8, 'min_samples_leaf': 1}. Best is trial 54 with value: 0.2471497584541063.\n",
      "[I 2023-06-10 21:28:12,937] Trial 63 finished with value: 0.247536231884058 and parameters: {'n_estimators': 329, 'max_depth': 32, 'min_samples_split': 8, 'min_samples_leaf': 1}. Best is trial 63 with value: 0.247536231884058.\n",
      "[I 2023-06-10 21:28:14,175] Trial 64 finished with value: 0.23024154589371984 and parameters: {'n_estimators': 296, 'max_depth': 32, 'min_samples_split': 8, 'min_samples_leaf': 7}. Best is trial 63 with value: 0.247536231884058.\n",
      "[I 2023-06-10 21:28:17,764] Trial 65 finished with value: 0.23420289855072465 and parameters: {'n_estimators': 301, 'max_depth': 32, 'min_samples_split': 8, 'min_samples_leaf': 7}. Best is trial 63 with value: 0.247536231884058.\n",
      "[I 2023-06-10 21:28:19,065] Trial 66 finished with value: 0.23265700483091786 and parameters: {'n_estimators': 300, 'max_depth': 32, 'min_samples_split': 8, 'min_samples_leaf': 7}. Best is trial 63 with value: 0.247536231884058.\n",
      "[I 2023-06-10 21:28:22,273] Trial 67 finished with value: 0.2267632850241546 and parameters: {'n_estimators': 287, 'max_depth': 30, 'min_samples_split': 8, 'min_samples_leaf': 10}. Best is trial 63 with value: 0.247536231884058.\n",
      "[I 2023-06-10 21:28:23,247] Trial 68 finished with value: 0.22647342995169079 and parameters: {'n_estimators': 287, 'max_depth': 30, 'min_samples_split': 8, 'min_samples_leaf': 10}. Best is trial 63 with value: 0.247536231884058.\n",
      "[I 2023-06-10 21:28:26,825] Trial 69 finished with value: 0.22560386473429955 and parameters: {'n_estimators': 289, 'max_depth': 30, 'min_samples_split': 8, 'min_samples_leaf': 10}. Best is trial 63 with value: 0.247536231884058.\n",
      "[I 2023-06-10 21:28:28,350] Trial 70 finished with value: 0.23285024154589373 and parameters: {'n_estimators': 335, 'max_depth': 30, 'min_samples_split': 8, 'min_samples_leaf': 7}. Best is trial 63 with value: 0.247536231884058.\n",
      "[I 2023-06-10 21:28:32,152] Trial 71 finished with value: 0.23391304347826086 and parameters: {'n_estimators': 334, 'max_depth': 30, 'min_samples_split': 8, 'min_samples_leaf': 7}. Best is trial 63 with value: 0.247536231884058.\n"
     ]
    },
    {
     "name": "stderr",
     "output_type": "stream",
     "text": [
      "[I 2023-06-10 21:28:32,829] Trial 72 finished with value: 0.2336231884057971 and parameters: {'n_estimators': 283, 'max_depth': 30, 'min_samples_split': 8, 'min_samples_leaf': 7}. Best is trial 63 with value: 0.247536231884058.\n",
      "[I 2023-06-10 21:28:36,509] Trial 73 finished with value: 0.2314009661835749 and parameters: {'n_estimators': 293, 'max_depth': 30, 'min_samples_split': 9, 'min_samples_leaf': 7}. Best is trial 63 with value: 0.247536231884058.\n",
      "[I 2023-06-10 21:28:39,161] Trial 74 finished with value: 0.24405797101449273 and parameters: {'n_estimators': 337, 'max_depth': 30, 'min_samples_split': 9, 'min_samples_leaf': 2}. Best is trial 63 with value: 0.247536231884058.\n",
      "[I 2023-06-10 21:28:41,672] Trial 75 finished with value: 0.22908212560386473 and parameters: {'n_estimators': 336, 'max_depth': 30, 'min_samples_split': 9, 'min_samples_leaf': 10}. Best is trial 63 with value: 0.247536231884058.\n",
      "[I 2023-06-10 21:28:45,144] Trial 76 finished with value: 0.24299516908212562 and parameters: {'n_estimators': 330, 'max_depth': 30, 'min_samples_split': 9, 'min_samples_leaf': 2}. Best is trial 63 with value: 0.247536231884058.\n",
      "[I 2023-06-10 21:28:47,381] Trial 77 finished with value: 0.24183574879227052 and parameters: {'n_estimators': 330, 'max_depth': 30, 'min_samples_split': 9, 'min_samples_leaf': 4}. Best is trial 63 with value: 0.247536231884058.\n",
      "[I 2023-06-10 21:28:51,321] Trial 78 finished with value: 0.24231884057971015 and parameters: {'n_estimators': 335, 'max_depth': 29, 'min_samples_split': 9, 'min_samples_leaf': 2}. Best is trial 63 with value: 0.247536231884058.\n",
      "[I 2023-06-10 21:28:53,424] Trial 79 finished with value: 0.2443478260869565 and parameters: {'n_estimators': 332, 'max_depth': 29, 'min_samples_split': 9, 'min_samples_leaf': 2}. Best is trial 63 with value: 0.247536231884058.\n",
      "[I 2023-06-10 21:28:58,133] Trial 80 finished with value: 0.2373913043478261 and parameters: {'n_estimators': 329, 'max_depth': 29, 'min_samples_split': 9, 'min_samples_leaf': 1}. Best is trial 63 with value: 0.247536231884058.\n",
      "[I 2023-06-10 21:29:00,712] Trial 81 finished with value: 0.2396135265700483 and parameters: {'n_estimators': 351, 'max_depth': 29, 'min_samples_split': 9, 'min_samples_leaf': 1}. Best is trial 63 with value: 0.247536231884058.\n",
      "[I 2023-06-10 21:29:05,341] Trial 82 finished with value: 0.23874396135265702 and parameters: {'n_estimators': 349, 'max_depth': 29, 'min_samples_split': 9, 'min_samples_leaf': 1}. Best is trial 63 with value: 0.247536231884058.\n",
      "[I 2023-06-10 21:29:07,973] Trial 83 finished with value: 0.2442512077294686 and parameters: {'n_estimators': 348, 'max_depth': 29, 'min_samples_split': 9, 'min_samples_leaf': 1}. Best is trial 63 with value: 0.247536231884058.\n",
      "[I 2023-06-10 21:29:11,940] Trial 84 finished with value: 0.24454106280193236 and parameters: {'n_estimators': 345, 'max_depth': 28, 'min_samples_split': 9, 'min_samples_leaf': 2}. Best is trial 63 with value: 0.247536231884058.\n",
      "[I 2023-06-10 21:29:14,172] Trial 85 finished with value: 0.2413526570048309 and parameters: {'n_estimators': 354, 'max_depth': 28, 'min_samples_split': 9, 'min_samples_leaf': 2}. Best is trial 63 with value: 0.247536231884058.\n",
      "[I 2023-06-10 21:29:18,387] Trial 86 finished with value: 0.2443478260869565 and parameters: {'n_estimators': 346, 'max_depth': 28, 'min_samples_split': 9, 'min_samples_leaf': 2}. Best is trial 63 with value: 0.247536231884058.\n",
      "[I 2023-06-10 21:29:20,293] Trial 87 finished with value: 0.24048309178743965 and parameters: {'n_estimators': 347, 'max_depth': 28, 'min_samples_split': 9, 'min_samples_leaf': 2}. Best is trial 63 with value: 0.247536231884058.\n",
      "[I 2023-06-10 21:29:22,156] Trial 88 finished with value: 0.21951690821256037 and parameters: {'n_estimators': 351, 'max_depth': 10, 'min_samples_split': 10, 'min_samples_leaf': 1}. Best is trial 63 with value: 0.247536231884058.\n",
      "[I 2023-06-10 21:29:26,773] Trial 89 finished with value: 0.2416425120772947 and parameters: {'n_estimators': 349, 'max_depth': 28, 'min_samples_split': 9, 'min_samples_leaf': 2}. Best is trial 63 with value: 0.247536231884058.\n",
      "[I 2023-06-10 21:29:28,085] Trial 90 finished with value: 0.24386473429951688 and parameters: {'n_estimators': 346, 'max_depth': 28, 'min_samples_split': 10, 'min_samples_leaf': 2}. Best is trial 63 with value: 0.247536231884058.\n",
      "[I 2023-06-10 21:29:30,657] Trial 91 finished with value: 0.21768115942028987 and parameters: {'n_estimators': 348, 'max_depth': 12, 'min_samples_split': 10, 'min_samples_leaf': 3}. Best is trial 63 with value: 0.247536231884058.\n",
      "[I 2023-06-10 21:29:32,842] Trial 92 finished with value: 0.23758454106280197 and parameters: {'n_estimators': 274, 'max_depth': 28, 'min_samples_split': 6, 'min_samples_leaf': 3}. Best is trial 63 with value: 0.247536231884058.\n",
      "[I 2023-06-10 21:29:34,244] Trial 93 finished with value: 0.21710144927536232 and parameters: {'n_estimators': 351, 'max_depth': 10, 'min_samples_split': 6, 'min_samples_leaf': 2}. Best is trial 63 with value: 0.247536231884058.\n",
      "[I 2023-06-10 21:29:39,457] Trial 94 finished with value: 0.2357487922705314 and parameters: {'n_estimators': 389, 'max_depth': 28, 'min_samples_split': 10, 'min_samples_leaf': 3}. Best is trial 63 with value: 0.247536231884058.\n",
      "[I 2023-06-10 21:29:40,332] Trial 95 finished with value: 0.24270531400966183 and parameters: {'n_estimators': 378, 'max_depth': 28, 'min_samples_split': 10, 'min_samples_leaf': 3}. Best is trial 63 with value: 0.247536231884058.\n",
      "[I 2023-06-10 21:29:43,345] Trial 96 finished with value: 0.22144927536231887 and parameters: {'n_estimators': 388, 'max_depth': 13, 'min_samples_split': 10, 'min_samples_leaf': 3}. Best is trial 63 with value: 0.247536231884058.\n",
      "[I 2023-06-10 21:29:46,615] Trial 98 finished with value: 0.22086956521739132 and parameters: {'n_estimators': 230, 'max_depth': 13, 'min_samples_split': 6, 'min_samples_leaf': 2}. Best is trial 63 with value: 0.247536231884058.\n",
      "[I 2023-06-10 21:29:46,702] Trial 97 finished with value: 0.23806763285024152 and parameters: {'n_estimators': 389, 'max_depth': 26, 'min_samples_split': 10, 'min_samples_leaf': 3}. Best is trial 63 with value: 0.247536231884058.\n",
      "[I 2023-06-10 21:29:49,984] Trial 99 finished with value: 0.24222222222222226 and parameters: {'n_estimators': 386, 'max_depth': 31, 'min_samples_split': 10, 'min_samples_leaf': 3}. Best is trial 63 with value: 0.247536231884058.\n"
     ]
    }
   ],
   "source": [
    "def objective(trial):\n",
    "\n",
    "    n_estimators = trial.suggest_int('n_estimators', 100, 500)\n",
    "    max_depth = trial.suggest_int('max_depth', 2, 32)\n",
    "    min_samples_split = trial.suggest_int('min_samples_split', 2, 10)\n",
    "    min_samples_leaf = trial.suggest_int('min_samples_leaf', 1, 10)\n",
    "    classifier = RandomForestClassifier(n_estimators=n_estimators,\n",
    "                                        max_depth=max_depth,\n",
    "                                        min_samples_split=min_samples_split,\n",
    "                                        min_samples_leaf=min_samples_leaf,\n",
    "                                        n_jobs=-1)\n",
    "    \n",
    "    vect = TfidfVectorizer(ngram_range=(2, 5),\n",
    "                           analyzer=\"char\",\n",
    "                           max_df=0.5,\n",
    "                           min_df=2,\n",
    "                           lowercase=True)\n",
    "    \n",
    "    pipe = Pipeline([('vect', vect), ('clf', classifier)])\n",
    "    scores = cross_val_score(pipe,\n",
    "                             train.text,\n",
    "                             train.area,\n",
    "                             cv=5,\n",
    "                             n_jobs=-1)\n",
    "    return scores.mean()\n",
    "\n",
    "\n",
    "study = optuna.create_study(direction='maximize')\n",
    "study.optimize(objective, n_trials=100, n_jobs=-1)"
   ]
  },
  {
   "cell_type": "code",
   "execution_count": 38,
   "metadata": {},
   "outputs": [
    {
     "name": "stdout",
     "output_type": "stream",
     "text": [
      "best value: 0.247536231884058\n",
      "best trial: FrozenTrial(number=63, state=TrialState.COMPLETE, values=[0.247536231884058], datetime_start=datetime.datetime(2023, 6, 10, 21, 27, 35, 925656), datetime_complete=datetime.datetime(2023, 6, 10, 21, 28, 12, 937279), params={'n_estimators': 329, 'max_depth': 32, 'min_samples_split': 8, 'min_samples_leaf': 1}, user_attrs={}, system_attrs={}, intermediate_values={}, distributions={'n_estimators': IntDistribution(high=500, log=False, low=100, step=1), 'max_depth': IntDistribution(high=32, log=False, low=2, step=1), 'min_samples_split': IntDistribution(high=10, log=False, low=2, step=1), 'min_samples_leaf': IntDistribution(high=10, log=False, low=1, step=1)}, trial_id=63, value=None)\n",
      "best params: {'n_estimators': 329, 'max_depth': 32, 'min_samples_split': 8, 'min_samples_leaf': 1}\n"
     ]
    }
   ],
   "source": [
    "print('best value:', study.best_value)\n",
    "print('best trial:', study.best_trial)\n",
    "best_params = study.best_trial.params\n",
    "print('best params:', best_params)"
   ]
  },
  {
   "cell_type": "code",
   "execution_count": 39,
   "metadata": {},
   "outputs": [
    {
     "data": {
      "text/plain": [
       "0.3060869565217391"
      ]
     },
     "execution_count": 39,
     "metadata": {},
     "output_type": "execute_result"
    }
   ],
   "source": [
    "classifier = RandomForestClassifier(**best_params)\n",
    "pipe = Pipeline([('vect', vect), ('clf', classifier)])\n",
    "pipe.fit(train.text, train.area)\n",
    "score = pipe.score(test.text, test.area)\n",
    "score"
   ]
  },
  {
   "cell_type": "code",
   "execution_count": 40,
   "metadata": {},
   "outputs": [
    {
     "name": "stdout",
     "output_type": "stream",
     "text": [
      "                 precision    recall  f1-score   support\n",
      "\n",
      "        Ήπειρος       0.33      0.13      0.19        23\n",
      "        Αιτωλία       0.21      0.50      0.30        24\n",
      "        Αμοργός       0.08      0.14      0.10        22\n",
      "Ανατολική Θράκη       0.18      0.25      0.21        24\n",
      "        Αρκαδία       0.11      0.13      0.12        31\n",
      "          Αχαΐα       0.64      0.28      0.39        32\n",
      "      Επτάνησος       0.30      0.39      0.34        23\n",
      "         Εύβοια       0.00      0.00      0.00        20\n",
      "      Θεσπρωτία       0.08      0.09      0.09        22\n",
      "          Θράκη       0.23      0.12      0.16        25\n",
      "       Ιωάννινα       0.10      0.07      0.08        29\n",
      "       Κάρπαθος       0.57      0.29      0.38        28\n",
      "     Κεφαλληνία       0.26      0.19      0.22        27\n",
      "          Κρήτη       0.38      0.17      0.23        30\n",
      "         Κύπρος       0.50      0.79      0.61        24\n",
      "         Λέσβος       0.30      0.46      0.36        24\n",
      "        Λακωνία       0.09      0.07      0.08        27\n",
      "      Μακεδονία       0.30      0.11      0.16        27\n",
      "     Μικρά Ασία       0.10      0.06      0.07        18\n",
      "          Νάξος       0.36      0.42      0.38        24\n",
      "         Πόντος       0.35      0.68      0.46        19\n",
      "          Ρόδος       0.25      0.23      0.24        22\n",
      "         Σκύρος       0.43      0.67      0.53        30\n",
      "\n",
      "       accuracy                           0.27       575\n",
      "      macro avg       0.27      0.27      0.25       575\n",
      "   weighted avg       0.28      0.27      0.25       575\n",
      "\n"
     ]
    }
   ],
   "source": [
    "predictor_clf = Pipeline([('vect', vect), ('clf', classifier)])\n",
    "predictor_clf.fit(train.text, train.area)\n",
    "predictions_clf = predictor_clf.predict(test.text)\n",
    "print(classification_report(test.area, predictions_clf))"
   ]
  },
  {
   "cell_type": "markdown",
   "metadata": {
    "id": "I-12RHKwd6Fa"
   },
   "source": [
    "## Predicting the location of proverbs\n",
    "* Focusing on ones which are shared in multiple locations"
   ]
  },
  {
   "cell_type": "code",
   "execution_count": 41,
   "metadata": {
    "id": "ZMK3gOrQeiMK",
    "outputId": "9ce3b15f-1fe3-4be3-b3a9-9fb086b7187f"
   },
   "outputs": [
    {
     "data": {
      "text/html": [
       "<div>\n",
       "<style scoped>\n",
       "    .dataframe tbody tr th:only-of-type {\n",
       "        vertical-align: middle;\n",
       "    }\n",
       "\n",
       "    .dataframe tbody tr th {\n",
       "        vertical-align: top;\n",
       "    }\n",
       "\n",
       "    .dataframe thead th {\n",
       "        text-align: right;\n",
       "    }\n",
       "</style>\n",
       "<table border=\"1\" class=\"dataframe\">\n",
       "  <thead>\n",
       "    <tr style=\"text-align: right;\">\n",
       "      <th></th>\n",
       "      <th>text</th>\n",
       "      <th>place</th>\n",
       "      <th>place_num</th>\n",
       "      <th>area</th>\n",
       "      <th>area_num</th>\n",
       "      <th>latlon</th>\n",
       "    </tr>\n",
       "  </thead>\n",
       "  <tbody>\n",
       "    <tr>\n",
       "      <th>0</th>\n",
       "      <td>(Ε)πήρε βάγια</td>\n",
       "      <td>{Ήπειρος, Λακωνία}</td>\n",
       "      <td>2</td>\n",
       "      <td>{Ήπειρος, Λακωνία}</td>\n",
       "      <td>2</td>\n",
       "      <td>[(37.9574332, 23.7108518), (36.76027945, 22.79...</td>\n",
       "    </tr>\n",
       "    <tr>\n",
       "      <th>1</th>\n",
       "      <td>Άβολος ο νους, διπλός ο κόπος</td>\n",
       "      <td>{Νίσυρος, Μικρά Ασία&gt;Τσεσμές (Κρήνη)}</td>\n",
       "      <td>2</td>\n",
       "      <td>{Μικρά Ασία, Νίσυρος}</td>\n",
       "      <td>2</td>\n",
       "      <td>[(36.58904575, 27.16918402255752), (38.1846366...</td>\n",
       "    </tr>\n",
       "    <tr>\n",
       "      <th>2</th>\n",
       "      <td>Άβουλος νους διπλός κόπος</td>\n",
       "      <td>{Θράκη&gt;Αίνος, Θήρα (Σαντορίνη)}</td>\n",
       "      <td>2</td>\n",
       "      <td>{Θράκη, Θήρα (Σαντορίνη)}</td>\n",
       "      <td>2</td>\n",
       "      <td>[(40.8464241, 25.8759377), (36.4044251, 25.395...</td>\n",
       "    </tr>\n",
       "    <tr>\n",
       "      <th>3</th>\n",
       "      <td>Άβουλος νους, διπλός ο κόπος</td>\n",
       "      <td>{Κρήτη, Ρόδος, Αμοργός}</td>\n",
       "      <td>3</td>\n",
       "      <td>{Κρήτη, Ρόδος, Αμοργός}</td>\n",
       "      <td>3</td>\n",
       "      <td>[(36.85252415, 25.89848696771565), (35.3084952...</td>\n",
       "    </tr>\n",
       "    <tr>\n",
       "      <th>4</th>\n",
       "      <td>Άβουλος ο νους διπλός ο κόπος</td>\n",
       "      <td>{Ήπειρος&gt;Τσαμαντάς, Θράκη&gt;Μάδυτος, Θράκη, Ρόδο...</td>\n",
       "      <td>5</td>\n",
       "      <td>{Θράκη, Ήπειρος, Ρόδος, Σάμος}</td>\n",
       "      <td>4</td>\n",
       "      <td>[(40.8464241, 25.8759377), (37.9574332, 23.710...</td>\n",
       "    </tr>\n",
       "    <tr>\n",
       "      <th>...</th>\n",
       "      <td>...</td>\n",
       "      <td>...</td>\n",
       "      <td>...</td>\n",
       "      <td>...</td>\n",
       "      <td>...</td>\n",
       "      <td>...</td>\n",
       "    </tr>\n",
       "    <tr>\n",
       "      <th>3199</th>\n",
       "      <td>ο παθός, μαθός</td>\n",
       "      <td>{Λέρος, Αργολίδα&gt;Σχοινοχώρι}</td>\n",
       "      <td>2</td>\n",
       "      <td>{Αργολίδα, Λέρος}</td>\n",
       "      <td>2</td>\n",
       "      <td>[(37.56626615, 22.85593894780862), (37.1494507...</td>\n",
       "    </tr>\n",
       "    <tr>\n",
       "      <th>3200</th>\n",
       "      <td>πονάει το δόντι</td>\n",
       "      <td>{Θεσσαλία&gt;Τρίκαλα, Φωκίδα}</td>\n",
       "      <td>2</td>\n",
       "      <td>{Θεσσαλία, Φωκίδα}</td>\n",
       "      <td>2</td>\n",
       "      <td>[(38.4998681, 22.24878032919352), (39.5594194,...</td>\n",
       "    </tr>\n",
       "    <tr>\n",
       "      <th>3201</th>\n",
       "      <td>που Πάτρα, που Φλομίτσι!</td>\n",
       "      <td>{Μάνη&gt;Αβία, Μεσσηνία&gt;Αβία&gt;Κάμπος}</td>\n",
       "      <td>2</td>\n",
       "      <td>{Μεσσηνία, Μάνη}</td>\n",
       "      <td>2</td>\n",
       "      <td>[(36.986899050000005, 21.82712495001949), (41....</td>\n",
       "    </tr>\n",
       "    <tr>\n",
       "      <th>3202</th>\n",
       "      <td>τού έδειξε τα δόντια</td>\n",
       "      <td>{Αρκαδία&gt;Τεγέα, Εύβοια}</td>\n",
       "      <td>2</td>\n",
       "      <td>{Εύβοια, Αρκαδία}</td>\n",
       "      <td>2</td>\n",
       "      <td>[(38.0368583, 23.6689264), (38.49417235, 23.91...</td>\n",
       "    </tr>\n",
       "    <tr>\n",
       "      <th>3203</th>\n",
       "      <td>τού'δειξε τα δόντια</td>\n",
       "      <td>{Λακωνία&gt;Αναβρυτή, Μεσσηνία&gt;Ζέγα}</td>\n",
       "      <td>2</td>\n",
       "      <td>{Μεσσηνία, Λακωνία}</td>\n",
       "      <td>2</td>\n",
       "      <td>[(36.986899050000005, 21.82712495001949), (36....</td>\n",
       "    </tr>\n",
       "  </tbody>\n",
       "</table>\n",
       "<p>3204 rows × 6 columns</p>\n",
       "</div>"
      ],
      "text/plain": [
       "                               text  \\\n",
       "0                     (Ε)πήρε βάγια   \n",
       "1     Άβολος ο νους, διπλός ο κόπος   \n",
       "2         Άβουλος νους διπλός κόπος   \n",
       "3      Άβουλος νους, διπλός ο κόπος   \n",
       "4     Άβουλος ο νους διπλός ο κόπος   \n",
       "...                             ...   \n",
       "3199                 ο παθός, μαθός   \n",
       "3200                πονάει το δόντι   \n",
       "3201       που Πάτρα, που Φλομίτσι!   \n",
       "3202           τού έδειξε τα δόντια   \n",
       "3203            τού'δειξε τα δόντια   \n",
       "\n",
       "                                                  place  place_num  \\\n",
       "0                                    {Ήπειρος, Λακωνία}          2   \n",
       "1                 {Νίσυρος, Μικρά Ασία>Τσεσμές (Κρήνη)}          2   \n",
       "2                       {Θράκη>Αίνος, Θήρα (Σαντορίνη)}          2   \n",
       "3                               {Κρήτη, Ρόδος, Αμοργός}          3   \n",
       "4     {Ήπειρος>Τσαμαντάς, Θράκη>Μάδυτος, Θράκη, Ρόδο...          5   \n",
       "...                                                 ...        ...   \n",
       "3199                       {Λέρος, Αργολίδα>Σχοινοχώρι}          2   \n",
       "3200                         {Θεσσαλία>Τρίκαλα, Φωκίδα}          2   \n",
       "3201                  {Μάνη>Αβία, Μεσσηνία>Αβία>Κάμπος}          2   \n",
       "3202                            {Αρκαδία>Τεγέα, Εύβοια}          2   \n",
       "3203                  {Λακωνία>Αναβρυτή, Μεσσηνία>Ζέγα}          2   \n",
       "\n",
       "                                area  area_num  \\\n",
       "0                 {Ήπειρος, Λακωνία}         2   \n",
       "1              {Μικρά Ασία, Νίσυρος}         2   \n",
       "2          {Θράκη, Θήρα (Σαντορίνη)}         2   \n",
       "3            {Κρήτη, Ρόδος, Αμοργός}         3   \n",
       "4     {Θράκη, Ήπειρος, Ρόδος, Σάμος}         4   \n",
       "...                              ...       ...   \n",
       "3199               {Αργολίδα, Λέρος}         2   \n",
       "3200              {Θεσσαλία, Φωκίδα}         2   \n",
       "3201                {Μεσσηνία, Μάνη}         2   \n",
       "3202               {Εύβοια, Αρκαδία}         2   \n",
       "3203             {Μεσσηνία, Λακωνία}         2   \n",
       "\n",
       "                                                 latlon  \n",
       "0     [(37.9574332, 23.7108518), (36.76027945, 22.79...  \n",
       "1     [(36.58904575, 27.16918402255752), (38.1846366...  \n",
       "2     [(40.8464241, 25.8759377), (36.4044251, 25.395...  \n",
       "3     [(36.85252415, 25.89848696771565), (35.3084952...  \n",
       "4     [(40.8464241, 25.8759377), (37.9574332, 23.710...  \n",
       "...                                                 ...  \n",
       "3199  [(37.56626615, 22.85593894780862), (37.1494507...  \n",
       "3200  [(38.4998681, 22.24878032919352), (39.5594194,...  \n",
       "3201  [(36.986899050000005, 21.82712495001949), (41....  \n",
       "3202  [(38.0368583, 23.6689264), (38.49417235, 23.91...  \n",
       "3203  [(36.986899050000005, 21.82712495001949), (36....  \n",
       "\n",
       "[3204 rows x 6 columns]"
      ]
     },
     "execution_count": 41,
     "metadata": {},
     "output_type": "execute_result"
    }
   ],
   "source": [
    "duplicates = pd.read_csv('data/duplicates_geolocated.csv')\n",
    "duplicates['place'] = duplicates['place'].apply(ast.literal_eval)\n",
    "duplicates['area'] = duplicates['area'].apply(ast.literal_eval)\n",
    "duplicates"
   ]
  },
  {
   "cell_type": "code",
   "execution_count": 42,
   "metadata": {
    "colab": {
     "base_uri": "https://localhost:8080/",
     "height": 368
    },
    "id": "VvgaPQzyd4ii",
    "outputId": "92772be1-e8c0-4319-80ce-c032d34c299c"
   },
   "outputs": [
    {
     "data": {
      "text/html": [
       "<div>\n",
       "<style scoped>\n",
       "    .dataframe tbody tr th:only-of-type {\n",
       "        vertical-align: middle;\n",
       "    }\n",
       "\n",
       "    .dataframe tbody tr th {\n",
       "        vertical-align: top;\n",
       "    }\n",
       "\n",
       "    .dataframe thead th {\n",
       "        text-align: right;\n",
       "    }\n",
       "</style>\n",
       "<table border=\"1\" class=\"dataframe\">\n",
       "  <thead>\n",
       "    <tr style=\"text-align: right;\">\n",
       "      <th></th>\n",
       "      <th>text</th>\n",
       "      <th>place</th>\n",
       "      <th>place_num</th>\n",
       "      <th>area</th>\n",
       "      <th>prediction</th>\n",
       "      <th>area_num</th>\n",
       "      <th>latlon</th>\n",
       "    </tr>\n",
       "  </thead>\n",
       "  <tbody>\n",
       "    <tr>\n",
       "      <th>6</th>\n",
       "      <td>Άγιασε ο μαχαιροβγάλτης και πουλεί σκουρολεπίδες</td>\n",
       "      <td>{Ήπειρος, Κεφαλληνία}</td>\n",
       "      <td>2</td>\n",
       "      <td>{Ήπειρος, Κεφαλληνία}</td>\n",
       "      <td>Κεφαλληνία</td>\n",
       "      <td>2</td>\n",
       "      <td>[(37.9574332, 23.7108518), (38.2379344, 20.560...</td>\n",
       "    </tr>\n",
       "    <tr>\n",
       "      <th>2171</th>\n",
       "      <td>Ο Μανώλης με τα λόγια κτίζ' ανώγεια και κατώγεια</td>\n",
       "      <td>{Κρήτη&gt;Σητεία&gt;Χαμέζι, Ιωάννινα}</td>\n",
       "      <td>2</td>\n",
       "      <td>{Κρήτη, Ιωάννινα}</td>\n",
       "      <td>Κρήτη</td>\n",
       "      <td>2</td>\n",
       "      <td>[(35.3084952, 24.46334231842296), (39.6639818,...</td>\n",
       "    </tr>\n",
       "    <tr>\n",
       "      <th>2163</th>\n",
       "      <td>Ο Θεός να σε φυλάη από σπανό άντρα και μουστακ...</td>\n",
       "      <td>{Μάνη, Κρήτη&gt;Σητεία&gt;Χαμέζι}</td>\n",
       "      <td>2</td>\n",
       "      <td>{Μάνη, Κρήτη}</td>\n",
       "      <td>Κρήτη</td>\n",
       "      <td>2</td>\n",
       "      <td>[(41.4097472, 26.4024952), (35.3084952, 24.463...</td>\n",
       "    </tr>\n",
       "    <tr>\n",
       "      <th>2159</th>\n",
       "      <td>Ο Θεός κάνει σκάλες κι άλλους ανεβάζει κι άλλο...</td>\n",
       "      <td>{Αρκαδία&gt;Γορτυνία, Λακωνία}</td>\n",
       "      <td>2</td>\n",
       "      <td>{Αρκαδία, Λακωνία}</td>\n",
       "      <td>Αρκαδία</td>\n",
       "      <td>2</td>\n",
       "      <td>[(38.0368583, 23.6689264), (36.76027945, 22.79...</td>\n",
       "    </tr>\n",
       "    <tr>\n",
       "      <th>2139</th>\n",
       "      <td>Ξύλω τον Αδάμ κατάρας ελυτρώσω</td>\n",
       "      <td>{Πόντος, Θράκη&gt;Μάδυτος}</td>\n",
       "      <td>2</td>\n",
       "      <td>{Πόντος, Θράκη}</td>\n",
       "      <td>Πόντος</td>\n",
       "      <td>2</td>\n",
       "      <td>[(40.8464241, 25.8759377), (40.0850088, 23.977...</td>\n",
       "    </tr>\n",
       "  </tbody>\n",
       "</table>\n",
       "</div>"
      ],
      "text/plain": [
       "                                                   text  \\\n",
       "6      Άγιασε ο μαχαιροβγάλτης και πουλεί σκουρολεπίδες   \n",
       "2171   Ο Μανώλης με τα λόγια κτίζ' ανώγεια και κατώγεια   \n",
       "2163  Ο Θεός να σε φυλάη από σπανό άντρα και μουστακ...   \n",
       "2159  Ο Θεός κάνει σκάλες κι άλλους ανεβάζει κι άλλο...   \n",
       "2139                     Ξύλω τον Αδάμ κατάρας ελυτρώσω   \n",
       "\n",
       "                                place  place_num                   area  \\\n",
       "6               {Ήπειρος, Κεφαλληνία}          2  {Ήπειρος, Κεφαλληνία}   \n",
       "2171  {Κρήτη>Σητεία>Χαμέζι, Ιωάννινα}          2      {Κρήτη, Ιωάννινα}   \n",
       "2163      {Μάνη, Κρήτη>Σητεία>Χαμέζι}          2          {Μάνη, Κρήτη}   \n",
       "2159      {Αρκαδία>Γορτυνία, Λακωνία}          2     {Αρκαδία, Λακωνία}   \n",
       "2139          {Πόντος, Θράκη>Μάδυτος}          2        {Πόντος, Θράκη}   \n",
       "\n",
       "      prediction  area_num                                             latlon  \n",
       "6     Κεφαλληνία         2  [(37.9574332, 23.7108518), (38.2379344, 20.560...  \n",
       "2171       Κρήτη         2  [(35.3084952, 24.46334231842296), (39.6639818,...  \n",
       "2163       Κρήτη         2  [(41.4097472, 26.4024952), (35.3084952, 24.463...  \n",
       "2159     Αρκαδία         2  [(38.0368583, 23.6689264), (36.76027945, 22.79...  \n",
       "2139      Πόντος         2  [(40.8464241, 25.8759377), (40.0850088, 23.977...  "
      ]
     },
     "execution_count": 42,
     "metadata": {},
     "output_type": "execute_result"
    }
   ],
   "source": [
    "# showing cases when only two candidate area exist and the model said one \n",
    "duplicates.insert(4, \"prediction\", predictor_clf.predict(duplicates.text))\n",
    "duplicate_dilemma = duplicates.apply(lambda row: (row.area_num==2)&(row.prediction in row.area), 1)\n",
    "duplicates[duplicate_dilemma].sort_values(by=\"place_num\").head(5)"
   ]
  },
  {
   "cell_type": "markdown",
   "metadata": {
    "id": "2pBGLxTSmMzB"
   },
   "source": [
    "* Showing the ones our classifier located on Cyrpus."
   ]
  },
  {
   "cell_type": "code",
   "execution_count": 43,
   "metadata": {
    "colab": {
     "base_uri": "https://localhost:8080/",
     "height": 173
    },
    "id": "neOnr6gcfTMd",
    "outputId": "87e01525-2852-4d2c-8b6c-90a75e26a8e2"
   },
   "outputs": [
    {
     "data": {
      "text/html": [
       "<div>\n",
       "<style scoped>\n",
       "    .dataframe tbody tr th:only-of-type {\n",
       "        vertical-align: middle;\n",
       "    }\n",
       "\n",
       "    .dataframe tbody tr th {\n",
       "        vertical-align: top;\n",
       "    }\n",
       "\n",
       "    .dataframe thead th {\n",
       "        text-align: right;\n",
       "    }\n",
       "</style>\n",
       "<table border=\"1\" class=\"dataframe\">\n",
       "  <thead>\n",
       "    <tr style=\"text-align: right;\">\n",
       "      <th></th>\n",
       "      <th>text</th>\n",
       "      <th>place</th>\n",
       "      <th>place_num</th>\n",
       "      <th>area</th>\n",
       "      <th>prediction</th>\n",
       "      <th>area_num</th>\n",
       "      <th>latlon</th>\n",
       "    </tr>\n",
       "  </thead>\n",
       "  <tbody>\n",
       "    <tr>\n",
       "      <th>137</th>\n",
       "      <td>Άρον, άρον</td>\n",
       "      <td>{Ήπειρος, Κύπρος}</td>\n",
       "      <td>2</td>\n",
       "      <td>{Ήπειρος, Κύπρος}</td>\n",
       "      <td>Κύπρος</td>\n",
       "      <td>2</td>\n",
       "      <td>[(34.9823018, 33.1451285), (37.9574332, 23.710...</td>\n",
       "    </tr>\n",
       "    <tr>\n",
       "      <th>525</th>\n",
       "      <td>Όπου δεμ πέφτει λόγος, πέφτει ράβδος</td>\n",
       "      <td>{Κύπρος, Νίσυρος}</td>\n",
       "      <td>2</td>\n",
       "      <td>{Κύπρος, Νίσυρος}</td>\n",
       "      <td>Κύπρος</td>\n",
       "      <td>2</td>\n",
       "      <td>[(36.58904575, 27.16918402255752), (34.9823018...</td>\n",
       "    </tr>\n",
       "  </tbody>\n",
       "</table>\n",
       "</div>"
      ],
      "text/plain": [
       "                                     text              place  place_num  \\\n",
       "137                            Άρον, άρον  {Ήπειρος, Κύπρος}          2   \n",
       "525  Όπου δεμ πέφτει λόγος, πέφτει ράβδος  {Κύπρος, Νίσυρος}          2   \n",
       "\n",
       "                  area prediction  area_num  \\\n",
       "137  {Ήπειρος, Κύπρος}     Κύπρος         2   \n",
       "525  {Κύπρος, Νίσυρος}     Κύπρος         2   \n",
       "\n",
       "                                                latlon  \n",
       "137  [(34.9823018, 33.1451285), (37.9574332, 23.710...  \n",
       "525  [(36.58904575, 27.16918402255752), (34.9823018...  "
      ]
     },
     "execution_count": 43,
     "metadata": {},
     "output_type": "execute_result"
    }
   ],
   "source": [
    "is_it_cyprus = duplicates.apply(lambda row: (row.prediction=='Κύπρος')&(row.prediction in row.area), 1)\n",
    "duplicates[is_it_cyprus]"
   ]
  },
  {
   "cell_type": "markdown",
   "metadata": {
    "id": "zBp6QrYgf7MI"
   },
   "source": [
    "## Regression on the coordinates\n",
    "* Instead of classifying, predicting the geographical coordinates.\n",
    "* Linear regression provides feature importance, i.e., terms that distinguish spatially, from South to North, from West to East. "
   ]
  },
  {
   "cell_type": "code",
   "execution_count": 61,
   "metadata": {},
   "outputs": [],
   "source": [
    "optimization_results = []"
   ]
  },
  {
   "cell_type": "code",
   "execution_count": 62,
   "metadata": {
    "id": "dXQh_RYPeyJJ"
   },
   "outputs": [
    {
     "data": {
      "text/plain": [
       "0.12157069318821215"
      ]
     },
     "execution_count": 62,
     "metadata": {},
     "output_type": "execute_result"
    }
   ],
   "source": [
    "vect = TfidfVectorizer(ngram_range=(1,1), analyzer=\"word\", max_df=0.5, \n",
    "                       min_df=10, lowercase=True)\n",
    "\n",
    "regressor = LinearRegression()\n",
    "\n",
    "pipe = Pipeline([('vect', vect), ('ref', regressor)])\n",
    "\n",
    "scores = cross_val_score(pipe, \n",
    "                         train.text.values, \n",
    "                         train[[\"lat\", \"lon\"]].values,\n",
    "                         cv=5,\n",
    "                         n_jobs=-1)\n",
    "\n",
    "cv_score = scores.mean()\n",
    "cv_score"
   ]
  },
  {
   "cell_type": "code",
   "execution_count": 63,
   "metadata": {},
   "outputs": [
    {
     "data": {
      "text/plain": [
       "0.19721894514520716"
      ]
     },
     "execution_count": 63,
     "metadata": {},
     "output_type": "execute_result"
    }
   ],
   "source": [
    "linear_regression_pipe = Pipeline([('vect', vect), ('reg', regressor)])\n",
    "linear_regression_pipe.fit(train.text.values, train[[\"lat\", \"lon\"]].values)\n",
    "score = linear_regression_pipe.score(test.text.values, test[[\"lat\", \"lon\"]].values)\n",
    "score"
   ]
  },
  {
   "cell_type": "code",
   "execution_count": 64,
   "metadata": {},
   "outputs": [
    {
     "name": "stdout",
     "output_type": "stream",
     "text": [
      "1.3052700069768668 1.8227471474972385\n",
      "2.704765390894777 5.5683377877965885\n"
     ]
    }
   ],
   "source": [
    "predicted_coords = linear_regression_pipe.predict(test.text.values)\n",
    "\n",
    "mae_lat, mae_lon = (mean_absolute_error(test.lat.values, predicted_coords[:, 0]),\n",
    "                    mean_absolute_error(test.lon.values, predicted_coords[:, 1]))\n",
    "mse_lat, mse_lon = (mean_squared_error(test.lat.values, predicted_coords[:, 0]),\n",
    "                    mean_squared_error(test.lon.values, predicted_coords[:, 1]))\n",
    "\n",
    "optimization_results.append([\n",
    "    'LinearRegression', \n",
    "    cv_score, \n",
    "    score,\n",
    "    None,\n",
    "    mae_lat, \n",
    "    mae_lon,\n",
    "    mse_lat,\n",
    "    mse_lon\n",
    "])\n",
    "\n",
    "print(mae_lat, mae_lon)\n",
    "print(mse_lat, mse_lon)"
   ]
  },
  {
   "cell_type": "code",
   "execution_count": 65,
   "metadata": {},
   "outputs": [
    {
     "name": "stderr",
     "output_type": "stream",
     "text": [
      "[I 2023-06-10 21:59:51,625] A new study created in memory with name: no-name-e4e5defe-d9d0-49a9-a6a1-6cbc244bf00b\n",
      "[I 2023-06-10 21:59:52,032] Trial 0 finished with value: 0.1438418629521843 and parameters: {'alpha': 0.0002383200608512922, 'l1_ratio': 0.2760838797301802}. Best is trial 0 with value: 0.1438418629521843.\n",
      "[I 2023-06-10 21:59:52,447] Trial 1 finished with value: 0.1400040001266411 and parameters: {'alpha': 0.00017085154770748795, 'l1_ratio': 0.06568162479657547}. Best is trial 0 with value: 0.1438418629521843.\n",
      "[I 2023-06-10 21:59:52,765] Trial 2 finished with value: 0.0021085085207002475 and parameters: {'alpha': 0.18397315846588622, 'l1_ratio': 0.04789525869457223}. Best is trial 0 with value: 0.1438418629521843.\n",
      "[I 2023-06-10 21:59:53,057] Trial 3 finished with value: -0.0004066991582208246 and parameters: {'alpha': 0.7783028800585803, 'l1_ratio': 0.9789869904337763}. Best is trial 0 with value: 0.1438418629521843.\n",
      "[I 2023-06-10 21:59:53,140] Trial 4 finished with value: -0.0004066991582208246 and parameters: {'alpha': 0.15401692054705107, 'l1_ratio': 0.4064332500851925}. Best is trial 0 with value: 0.1438418629521843.\n",
      "[I 2023-06-10 21:59:53,250] Trial 5 finished with value: 0.11026525179760774 and parameters: {'alpha': 0.003632439335196074, 'l1_ratio': 0.9033179701267977}. Best is trial 0 with value: 0.1438418629521843.\n",
      "[I 2023-06-10 21:59:53,323] Trial 6 finished with value: -0.0004066991582208246 and parameters: {'alpha': 0.5809112074955631, 'l1_ratio': 0.6285829985881574}. Best is trial 0 with value: 0.1438418629521843.\n",
      "[I 2023-06-10 21:59:53,461] Trial 7 finished with value: 0.10194635459963886 and parameters: {'alpha': 0.0037969352672558346, 'l1_ratio': 0.1898963796642562}. Best is trial 0 with value: 0.1438418629521843.\n",
      "[I 2023-06-10 21:59:53,627] Trial 8 finished with value: 0.14573199634441472 and parameters: {'alpha': 0.00027899593634622146, 'l1_ratio': 0.6820050054384267}. Best is trial 8 with value: 0.14573199634441472.\n",
      "[I 2023-06-10 21:59:53,707] Trial 9 finished with value: -0.00019186351202568063 and parameters: {'alpha': 0.08785758157088014, 'l1_ratio': 0.37524510522813304}. Best is trial 8 with value: 0.14573199634441472.\n",
      "[I 2023-06-10 21:59:53,858] Trial 10 finished with value: 0.1508914435293502 and parameters: {'alpha': 0.0007482303767454269, 'l1_ratio': 0.606833819484556}. Best is trial 10 with value: 0.1508914435293502.\n",
      "[I 2023-06-10 21:59:54,005] Trial 11 finished with value: 0.1514834175521691 and parameters: {'alpha': 0.0006433906783895661, 'l1_ratio': 0.6276700123088748}. Best is trial 11 with value: 0.1514834175521691.\n",
      "[I 2023-06-10 21:59:54,152] Trial 12 finished with value: 0.15005255762170422 and parameters: {'alpha': 0.0008085181286344681, 'l1_ratio': 0.5337735323215849}. Best is trial 11 with value: 0.1514834175521691.\n",
      "[I 2023-06-10 21:59:54,288] Trial 13 finished with value: 0.14618341477314495 and parameters: {'alpha': 0.001088891754503321, 'l1_ratio': 0.7611093367307108}. Best is trial 11 with value: 0.1514834175521691.\n",
      "[I 2023-06-10 21:59:54,393] Trial 14 finished with value: 0.03153085635677859 and parameters: {'alpha': 0.01601857323810057, 'l1_ratio': 0.5350693235504922}. Best is trial 11 with value: 0.1514834175521691.\n",
      "[I 2023-06-10 21:59:54,538] Trial 15 finished with value: 0.1504318425972675 and parameters: {'alpha': 0.0008158611537249247, 'l1_ratio': 0.793880003158423}. Best is trial 11 with value: 0.1514834175521691.\n",
      "[I 2023-06-10 21:59:54,746] Trial 16 finished with value: 0.13722487180206575 and parameters: {'alpha': 0.00013687135123852153, 'l1_ratio': 0.6153067919347853}. Best is trial 11 with value: 0.1514834175521691.\n",
      "[I 2023-06-10 21:59:54,953] Trial 17 finished with value: 0.13469077404233717 and parameters: {'alpha': 0.00010528756934718955, 'l1_ratio': 0.46048155687996234}. Best is trial 11 with value: 0.1514834175521691.\n",
      "[I 2023-06-10 21:59:55,107] Trial 18 finished with value: 0.15070524914310274 and parameters: {'alpha': 0.0004687992989261784, 'l1_ratio': 0.7550440646217174}. Best is trial 11 with value: 0.1514834175521691.\n",
      "[I 2023-06-10 21:59:55,230] Trial 19 finished with value: 0.12570486571965647 and parameters: {'alpha': 0.0021397909732372776, 'l1_ratio': 0.5650487528050683}. Best is trial 11 with value: 0.1514834175521691.\n",
      "[I 2023-06-10 21:59:55,339] Trial 20 finished with value: 0.046500870714099085 and parameters: {'alpha': 0.01138436274101257, 'l1_ratio': 0.47771252506946665}. Best is trial 11 with value: 0.1514834175521691.\n",
      "[I 2023-06-10 21:59:55,493] Trial 21 finished with value: 0.15080744126385418 and parameters: {'alpha': 0.00047641838421365855, 'l1_ratio': 0.7039238228278929}. Best is trial 11 with value: 0.1514834175521691.\n",
      "[I 2023-06-10 21:59:55,659] Trial 22 finished with value: 0.14639687912382432 and parameters: {'alpha': 0.0002949327964599483, 'l1_ratio': 0.6650860578449433}. Best is trial 11 with value: 0.1514834175521691.\n",
      "[I 2023-06-10 21:59:55,807] Trial 23 finished with value: 0.1516539858659698 and parameters: {'alpha': 0.0006225399683216375, 'l1_ratio': 0.7044933629705166}. Best is trial 23 with value: 0.1516539858659698.\n",
      "[I 2023-06-10 21:59:55,927] Trial 24 finished with value: 0.12223180301329498 and parameters: {'alpha': 0.002356500822113988, 'l1_ratio': 0.5999944585687812}. Best is trial 23 with value: 0.1516539858659698.\n",
      "[I 2023-06-10 21:59:56,061] Trial 25 finished with value: 0.14133042538168844 and parameters: {'alpha': 0.0013335187665042877, 'l1_ratio': 0.8148546576326208}. Best is trial 23 with value: 0.1516539858659698.\n",
      "[I 2023-06-10 21:59:56,211] Trial 26 finished with value: 0.15164251573577675 and parameters: {'alpha': 0.0005955463295162326, 'l1_ratio': 0.7072144543006625}. Best is trial 23 with value: 0.1516539858659698.\n",
      "[I 2023-06-10 21:59:56,430] Trial 27 finished with value: 0.13412123757883643 and parameters: {'alpha': 0.00010902675212598147, 'l1_ratio': 0.8613894122238861}. Best is trial 23 with value: 0.1516539858659698.\n",
      "[I 2023-06-10 21:59:56,599] Trial 28 finished with value: 0.14710170748213486 and parameters: {'alpha': 0.00031608684915308057, 'l1_ratio': 0.7117291405604133}. Best is trial 23 with value: 0.1516539858659698.\n",
      "[I 2023-06-10 21:59:56,783] Trial 29 finished with value: 0.1435691220351933 and parameters: {'alpha': 0.0002352067921689436, 'l1_ratio': 0.7265375248917574}. Best is trial 23 with value: 0.1516539858659698.\n",
      "[I 2023-06-10 21:59:56,934] Trial 30 finished with value: 0.15116861380183397 and parameters: {'alpha': 0.0005133900107804184, 'l1_ratio': 0.6627812852617351}. Best is trial 23 with value: 0.1516539858659698.\n",
      "[I 2023-06-10 21:59:57,091] Trial 31 finished with value: 0.1498329179612674 and parameters: {'alpha': 0.0004162696815263385, 'l1_ratio': 0.6687799608426719}. Best is trial 23 with value: 0.1516539858659698.\n",
      "[I 2023-06-10 21:59:57,266] Trial 32 finished with value: 0.14021778949310482 and parameters: {'alpha': 0.00018451676748051205, 'l1_ratio': 0.82828605313938}. Best is trial 23 with value: 0.1516539858659698.\n",
      "[I 2023-06-10 21:59:57,415] Trial 33 finished with value: 0.15151520380185907 and parameters: {'alpha': 0.0005520987636263172, 'l1_ratio': 0.7626861967161097}. Best is trial 23 with value: 0.1516539858659698.\n",
      "[I 2023-06-10 21:59:57,547] Trial 34 finished with value: 0.14027050466131377 and parameters: {'alpha': 0.001389680274306299, 'l1_ratio': 0.7610629527803124}. Best is trial 23 with value: 0.1516539858659698.\n",
      "[I 2023-06-10 21:59:57,725] Trial 35 finished with value: 0.13961842185897608 and parameters: {'alpha': 0.00017789997484448858, 'l1_ratio': 0.8689859575258386}. Best is trial 23 with value: 0.1516539858659698.\n",
      "[I 2023-06-10 21:59:57,870] Trial 36 finished with value: 0.15023218334723193 and parameters: {'alpha': 0.0007835804757881789, 'l1_ratio': 0.9341722887006427}. Best is trial 23 with value: 0.1516539858659698.\n",
      "[I 2023-06-10 21:59:58,046] Trial 37 finished with value: 0.14145433497431564 and parameters: {'alpha': 0.00020185620146557283, 'l1_ratio': 0.7942551818941683}. Best is trial 23 with value: 0.1516539858659698.\n",
      "[I 2023-06-10 21:59:58,162] Trial 38 finished with value: 0.10616058245819564 and parameters: {'alpha': 0.004055925933766822, 'l1_ratio': 0.9183818445305583}. Best is trial 23 with value: 0.1516539858659698.\n"
     ]
    },
    {
     "name": "stderr",
     "output_type": "stream",
     "text": [
      "[I 2023-06-10 21:59:58,327] Trial 39 finished with value: 0.14843054322694632 and parameters: {'alpha': 0.00035912996546862196, 'l1_ratio': 0.7342179561609881}. Best is trial 23 with value: 0.1516539858659698.\n",
      "[I 2023-06-10 21:59:58,450] Trial 40 finished with value: 0.1289965511452919 and parameters: {'alpha': 0.0019595312199181293, 'l1_ratio': 0.5806562749172941}. Best is trial 23 with value: 0.1516539858659698.\n",
      "[I 2023-06-10 21:59:58,601] Trial 41 finished with value: 0.15122789289493643 and parameters: {'alpha': 0.0005182248871947585, 'l1_ratio': 0.6764465899433492}. Best is trial 23 with value: 0.1516539858659698.\n",
      "[I 2023-06-10 21:59:58,748] Trial 42 finished with value: 0.15140026295444725 and parameters: {'alpha': 0.0006804051988047884, 'l1_ratio': 0.6420047407865013}. Best is trial 23 with value: 0.1516539858659698.\n",
      "[I 2023-06-10 21:59:58,896] Trial 43 finished with value: 0.15150346780113344 and parameters: {'alpha': 0.0005970101654602492, 'l1_ratio': 0.6264047273984965}. Best is trial 23 with value: 0.1516539858659698.\n",
      "[I 2023-06-10 21:59:59,069] Trial 44 finished with value: 0.14720257221529992 and parameters: {'alpha': 0.0003161424934352414, 'l1_ratio': 0.6287906025267487}. Best is trial 23 with value: 0.1516539858659698.\n",
      "[I 2023-06-10 21:59:59,204] Trial 45 finished with value: 0.1469999310641637 and parameters: {'alpha': 0.001032899441061334, 'l1_ratio': 0.546628030839921}. Best is trial 23 with value: 0.1516539858659698.\n",
      "[I 2023-06-10 21:59:59,354] Trial 46 finished with value: 0.15165344166263744 and parameters: {'alpha': 0.0006418227008655785, 'l1_ratio': 0.7150388332478473}. Best is trial 23 with value: 0.1516539858659698.\n",
      "[I 2023-06-10 21:59:59,547] Trial 47 finished with value: 0.141421624074015 and parameters: {'alpha': 0.00019794172662179546, 'l1_ratio': 0.7212920510633575}. Best is trial 23 with value: 0.1516539858659698.\n",
      "[I 2023-06-10 21:59:59,685] Trial 48 finished with value: 0.14360930601590685 and parameters: {'alpha': 0.0012186182055814723, 'l1_ratio': 0.7762363049442359}. Best is trial 23 with value: 0.1516539858659698.\n",
      "[I 2023-06-10 21:59:59,829] Trial 49 finished with value: 0.1508804486469277 and parameters: {'alpha': 0.0006586992594557024, 'l1_ratio': 0.9853129651908962}. Best is trial 23 with value: 0.1516539858659698.\n",
      "[I 2023-06-10 22:00:00,004] Trial 50 finished with value: 0.1455200899267525 and parameters: {'alpha': 0.0002747592943187582, 'l1_ratio': 0.6990836428453184}. Best is trial 23 with value: 0.1516539858659698.\n",
      "[I 2023-06-10 22:00:00,151] Trial 51 finished with value: 0.15146405574812682 and parameters: {'alpha': 0.0006443008782367195, 'l1_ratio': 0.620811848877972}. Best is trial 23 with value: 0.1516539858659698.\n",
      "[I 2023-06-10 22:00:00,306] Trial 52 finished with value: 0.14939993981809624 and parameters: {'alpha': 0.0003979100508646951, 'l1_ratio': 0.5809676848437861}. Best is trial 23 with value: 0.1516539858659698.\n",
      "[I 2023-06-10 22:00:00,510] Trial 53 finished with value: 0.1369173602639862 and parameters: {'alpha': 0.00013765191422078865, 'l1_ratio': 0.7674145333944291}. Best is trial 23 with value: 0.1516539858659698.\n",
      "[I 2023-06-10 22:00:00,669] Trial 54 finished with value: 0.14893464554423552 and parameters: {'alpha': 0.0009249894637597567, 'l1_ratio': 0.6440266480402544}. Best is trial 23 with value: 0.1516539858659698.\n",
      "[I 2023-06-10 22:00:00,825] Trial 55 finished with value: 0.15108260480572472 and parameters: {'alpha': 0.0005604138798992119, 'l1_ratio': 0.5205486892580881}. Best is trial 23 with value: 0.1516539858659698.\n",
      "[I 2023-06-10 22:00:00,953] Trial 56 finished with value: 0.13718897233807187 and parameters: {'alpha': 0.0015452432005207243, 'l1_ratio': 0.6886105129335818}. Best is trial 23 with value: 0.1516539858659698.\n",
      "[I 2023-06-10 22:00:01,096] Trial 57 finished with value: 0.14862676438243044 and parameters: {'alpha': 0.0009511504522941728, 'l1_ratio': 0.7366139948954482}. Best is trial 23 with value: 0.1516539858659698.\n",
      "[I 2023-06-10 22:00:01,254] Trial 58 finished with value: 0.14840263640009907 and parameters: {'alpha': 0.0003554164592286565, 'l1_ratio': 0.5967508096972182}. Best is trial 23 with value: 0.1516539858659698.\n",
      "[I 2023-06-10 22:00:01,371] Trial 59 finished with value: 0.11918648246861956 and parameters: {'alpha': 0.002773824343568133, 'l1_ratio': 0.8201358433512216}. Best is trial 23 with value: 0.1516539858659698.\n",
      "[I 2023-06-10 22:00:01,542] Trial 60 finished with value: 0.14428691181588818 and parameters: {'alpha': 0.00024770865472280155, 'l1_ratio': 0.6911708805691078}. Best is trial 23 with value: 0.1516539858659698.\n",
      "[I 2023-06-10 22:00:01,692] Trial 61 finished with value: 0.15150701934934402 and parameters: {'alpha': 0.0006455680850116907, 'l1_ratio': 0.6391311783125837}. Best is trial 23 with value: 0.1516539858659698.\n",
      "[I 2023-06-10 22:00:01,835] Trial 62 finished with value: 0.15033298622339336 and parameters: {'alpha': 0.0008174840846667104, 'l1_ratio': 0.6464082772466586}. Best is trial 23 with value: 0.1516539858659698.\n",
      "[I 2023-06-10 22:00:01,987] Trial 63 finished with value: 0.15096747792088533 and parameters: {'alpha': 0.0005133076809551856, 'l1_ratio': 0.5642149850239544}. Best is trial 23 with value: 0.1516539858659698.\n",
      "[I 2023-06-10 22:00:02,121] Trial 64 finished with value: 0.14708994440506673 and parameters: {'alpha': 0.0010399581306357786, 'l1_ratio': 0.743278942720455}. Best is trial 23 with value: 0.1516539858659698.\n",
      "[I 2023-06-10 22:00:02,281] Trial 65 finished with value: 0.1500228772807472 and parameters: {'alpha': 0.00042871783270135856, 'l1_ratio': 0.6175196186945665}. Best is trial 23 with value: 0.1516539858659698.\n",
      "[I 2023-06-10 22:00:02,408] Trial 66 finished with value: 0.13369848362861533 and parameters: {'alpha': 0.0017424902722187894, 'l1_ratio': 0.7078734125702066}. Best is trial 23 with value: 0.1516539858659698.\n",
      "[I 2023-06-10 22:00:02,545] Trial 67 finished with value: 0.1410405767381509 and parameters: {'alpha': 0.0013507622230965934, 'l1_ratio': 0.49405780077471906}. Best is trial 23 with value: 0.1516539858659698.\n",
      "[I 2023-06-10 22:00:02,696] Trial 68 finished with value: 0.15153049738132657 and parameters: {'alpha': 0.000654274807694469, 'l1_ratio': 0.6596264530587497}. Best is trial 23 with value: 0.1516539858659698.\n",
      "[I 2023-06-10 22:00:02,844] Trial 69 finished with value: 0.1516209889085439 and parameters: {'alpha': 0.0006648082060912877, 'l1_ratio': 0.76922024207873}. Best is trial 23 with value: 0.1516539858659698.\n",
      "[I 2023-06-10 22:00:03,016] Trial 70 finished with value: 0.14347650335903395 and parameters: {'alpha': 0.00023684253275984166, 'l1_ratio': 0.7895074806601505}. Best is trial 23 with value: 0.1516539858659698.\n",
      "[I 2023-06-10 22:00:03,165] Trial 71 finished with value: 0.1515695434903316 and parameters: {'alpha': 0.0006386244199993368, 'l1_ratio': 0.6623303414356281}. Best is trial 23 with value: 0.1516539858659698.\n",
      "[I 2023-06-10 22:00:03,312] Trial 72 finished with value: 0.1507057811550759 and parameters: {'alpha': 0.0007864437493924123, 'l1_ratio': 0.6729293438910646}. Best is trial 23 with value: 0.1516539858659698.\n",
      "[I 2023-06-10 22:00:03,469] Trial 73 finished with value: 0.14987197505872876 and parameters: {'alpha': 0.00041856796874209, 'l1_ratio': 0.7207065898223114}. Best is trial 23 with value: 0.1516539858659698.\n",
      "[I 2023-06-10 22:00:03,601] Trial 74 finished with value: 0.14580625119606666 and parameters: {'alpha': 0.0011110896432258495, 'l1_ratio': 0.7372121021428749}. Best is trial 23 with value: 0.1516539858659698.\n",
      "[I 2023-06-10 22:00:03,775] Trial 75 finished with value: 0.1475855974237353 and parameters: {'alpha': 0.00033267124896237176, 'l1_ratio': 0.7581793589315222}. Best is trial 23 with value: 0.1516539858659698.\n",
      "[I 2023-06-10 22:00:03,929] Trial 76 finished with value: 0.15158950045011768 and parameters: {'alpha': 0.000614861470368397, 'l1_ratio': 0.6604476977154332}. Best is trial 23 with value: 0.1516539858659698.\n",
      "[I 2023-06-10 22:00:04,080] Trial 77 finished with value: 0.15123335063093177 and parameters: {'alpha': 0.0005169284842832929, 'l1_ratio': 0.8039070225985627}. Best is trial 23 with value: 0.1516539858659698.\n",
      "[I 2023-06-10 22:00:04,210] Trial 78 finished with value: 0.14069840164438352 and parameters: {'alpha': 0.0013735612728452775, 'l1_ratio': 0.845808685566431}. Best is trial 23 with value: 0.1516539858659698.\n"
     ]
    },
    {
     "name": "stderr",
     "output_type": "stream",
     "text": [
      "[I 2023-06-10 22:00:04,356] Trial 79 finished with value: 0.15022901238459535 and parameters: {'alpha': 0.0008348546475179038, 'l1_ratio': 0.7769399981864081}. Best is trial 23 with value: 0.1516539858659698.\n",
      "[I 2023-06-10 22:00:04,484] Trial 80 finished with value: 0.13364199056925993 and parameters: {'alpha': 0.0017303767626973968, 'l1_ratio': 0.66496720488599}. Best is trial 23 with value: 0.1516539858659698.\n",
      "[I 2023-06-10 22:00:04,632] Trial 81 finished with value: 0.15155618970257576 and parameters: {'alpha': 0.0006292171965389844, 'l1_ratio': 0.648636624623975}. Best is trial 23 with value: 0.1516539858659698.\n",
      "[I 2023-06-10 22:00:04,790] Trial 82 finished with value: 0.15014914141677613 and parameters: {'alpha': 0.0004330159658944427, 'l1_ratio': 0.6978717363524969}. Best is trial 23 with value: 0.1516539858659698.\n",
      "[I 2023-06-10 22:00:04,935] Trial 83 finished with value: 0.15120507746237202 and parameters: {'alpha': 0.0007341031374735464, 'l1_ratio': 0.7496289899036064}. Best is trial 23 with value: 0.1516539858659698.\n",
      "[I 2023-06-10 22:00:05,103] Trial 84 finished with value: 0.14637686603891403 and parameters: {'alpha': 0.00029406534874348205, 'l1_ratio': 0.6562047595640899}. Best is trial 23 with value: 0.1516539858659698.\n",
      "[I 2023-06-10 22:00:05,256] Trial 85 finished with value: 0.15164158079605652 and parameters: {'alpha': 0.0005946081550831758, 'l1_ratio': 0.7076617209511413}. Best is trial 23 with value: 0.1516539858659698.\n",
      "[I 2023-06-10 22:00:05,390] Trial 86 finished with value: 0.14386423507562895 and parameters: {'alpha': 0.001215172374690373, 'l1_ratio': 0.6766677401254477}. Best is trial 23 with value: 0.1516539858659698.\n",
      "[I 2023-06-10 22:00:05,554] Trial 87 finished with value: 0.14841021171584304 and parameters: {'alpha': 0.00035748209306509887, 'l1_ratio': 0.7138238984944562}. Best is trial 23 with value: 0.1516539858659698.\n",
      "[I 2023-06-10 22:00:05,690] Trial 88 finished with value: 0.14915385574309378 and parameters: {'alpha': 0.000903697392900537, 'l1_ratio': 0.6080338250311913}. Best is trial 23 with value: 0.1516539858659698.\n",
      "[I 2023-06-10 22:00:05,839] Trial 89 finished with value: 0.15163355419636587 and parameters: {'alpha': 0.000601210477208943, 'l1_ratio': 0.6912476829403252}. Best is trial 23 with value: 0.1516539858659698.\n",
      "[I 2023-06-10 22:00:05,988] Trial 90 finished with value: 0.1511420918776954 and parameters: {'alpha': 0.0005068299733696212, 'l1_ratio': 0.6917868339964794}. Best is trial 23 with value: 0.1516539858659698.\n",
      "[I 2023-06-10 22:00:06,135] Trial 91 finished with value: 0.1515002537976809 and parameters: {'alpha': 0.0006898132730490347, 'l1_ratio': 0.7130448060624598}. Best is trial 23 with value: 0.1516539858659698.\n",
      "[I 2023-06-10 22:00:06,290] Trial 92 finished with value: 0.15010864524322237 and parameters: {'alpha': 0.0004314597683639036, 'l1_ratio': 0.6544168206518888}. Best is trial 23 with value: 0.1516539858659698.\n",
      "[I 2023-06-10 22:00:06,440] Trial 93 finished with value: 0.15168131594552212 and parameters: {'alpha': 0.0006167913176584872, 'l1_ratio': 0.7277034948352414}. Best is trial 93 with value: 0.15168131594552212.\n",
      "[I 2023-06-10 22:00:06,590] Trial 94 finished with value: 0.1515804876161462 and parameters: {'alpha': 0.0005657633287206084, 'l1_ratio': 0.7361768578356839}. Best is trial 93 with value: 0.15168131594552212.\n",
      "[I 2023-06-10 22:00:06,733] Trial 95 finished with value: 0.14867787323204507 and parameters: {'alpha': 0.0009407804051329382, 'l1_ratio': 0.7941055304447119}. Best is trial 93 with value: 0.15168131594552212.\n",
      "[I 2023-06-10 22:00:06,909] Trial 96 finished with value: 0.14604933644317572 and parameters: {'alpha': 0.00028927452152235645, 'l1_ratio': 0.7321669354668}. Best is trial 93 with value: 0.15168131594552212.\n",
      "[I 2023-06-10 22:00:07,080] Trial 97 finished with value: 0.14854696836892475 and parameters: {'alpha': 0.00036519678416084924, 'l1_ratio': 0.7723190556857856}. Best is trial 93 with value: 0.15168131594552212.\n",
      "[I 2023-06-10 22:00:07,253] Trial 98 finished with value: 0.1419173765043383 and parameters: {'alpha': 0.00021052016127898174, 'l1_ratio': 0.816488748552924}. Best is trial 93 with value: 0.15168131594552212.\n",
      "[I 2023-06-10 22:00:07,401] Trial 99 finished with value: 0.15144843838565153 and parameters: {'alpha': 0.00054037982227125, 'l1_ratio': 0.7427811559974467}. Best is trial 93 with value: 0.15168131594552212.\n"
     ]
    }
   ],
   "source": [
    "def objective(trial):\n",
    "\n",
    "    alpha = trial.suggest_loguniform('alpha', 1e-4, 1.0)\n",
    "    l1_ratio = trial.suggest_uniform('l1_ratio', 0, 1)\n",
    "    regressor = ElasticNet(alpha=alpha, l1_ratio=l1_ratio)\n",
    "    \n",
    "    vect = TfidfVectorizer(ngram_range=(1,1), analyzer=\"word\", max_df=0.5, \n",
    "                           min_df=10, lowercase=True)\n",
    "    \n",
    "    pipe = Pipeline([('vect', vect), ('ref', regressor)])\n",
    "    scores = cross_val_score(pipe, \n",
    "                             train.text.values, \n",
    "                             train[[\"lat\", \"lon\"]].values,\n",
    "                             cv=5,\n",
    "                             n_jobs=-1)\n",
    "    return scores.mean()\n",
    "\n",
    "\n",
    "study = optuna.create_study(direction='maximize')\n",
    "study.optimize(objective, n_trials=100)"
   ]
  },
  {
   "cell_type": "code",
   "execution_count": 66,
   "metadata": {},
   "outputs": [
    {
     "name": "stdout",
     "output_type": "stream",
     "text": [
      "best value: 0.15168131594552212\n",
      "best trial: FrozenTrial(number=93, state=TrialState.COMPLETE, values=[0.15168131594552212], datetime_start=datetime.datetime(2023, 6, 10, 22, 0, 6, 291267), datetime_complete=datetime.datetime(2023, 6, 10, 22, 0, 6, 440250), params={'alpha': 0.0006167913176584872, 'l1_ratio': 0.7277034948352414}, user_attrs={}, system_attrs={}, intermediate_values={}, distributions={'alpha': FloatDistribution(high=1.0, log=True, low=0.0001, step=None), 'l1_ratio': FloatDistribution(high=1.0, log=False, low=0.0, step=None)}, trial_id=93, value=None)\n",
      "best params: {'alpha': 0.0006167913176584872, 'l1_ratio': 0.7277034948352414}\n"
     ]
    }
   ],
   "source": [
    "print('best value:', study.best_value)\n",
    "print('best trial:', study.best_trial)\n",
    "best_params = study.best_trial.params\n",
    "print('best params:', best_params)"
   ]
  },
  {
   "cell_type": "code",
   "execution_count": 67,
   "metadata": {},
   "outputs": [
    {
     "data": {
      "text/plain": [
       "0.2131466421753188"
      ]
     },
     "execution_count": 67,
     "metadata": {},
     "output_type": "execute_result"
    }
   ],
   "source": [
    "regressor = ElasticNet(**best_params)\n",
    "elastic_net_pipe = Pipeline([('vect', vect), ('reg', regressor)])\n",
    "elastic_net_pipe.fit(train.text.values, train[[\"lat\", \"lon\"]].values)\n",
    "score = elastic_net_pipe.score(test.text.values, test[[\"lat\", \"lon\"]].values)\n",
    "score"
   ]
  },
  {
   "cell_type": "code",
   "execution_count": 68,
   "metadata": {},
   "outputs": [
    {
     "name": "stdout",
     "output_type": "stream",
     "text": [
      "1.292756526910211 1.803654490312877\n",
      "2.6274680630145903 5.516732661698541\n"
     ]
    }
   ],
   "source": [
    "predicted_coords = elastic_net_pipe.predict(test.text.values)\n",
    "\n",
    "mae_lat, mae_lon = (mean_absolute_error(test.lat.values, predicted_coords[:, 0]),\n",
    "                    mean_absolute_error(test.lon.values, predicted_coords[:, 1]))\n",
    "mse_lat, mse_lon = (mean_squared_error(test.lat.values, predicted_coords[:, 0]),\n",
    "                    mean_squared_error(test.lon.values, predicted_coords[:, 1]))\n",
    "\n",
    "optimization_results.append([\n",
    "    'ElasticNet', \n",
    "    study.best_value, \n",
    "    score,\n",
    "    best_params,\n",
    "    mae_lat, \n",
    "    mae_lon,\n",
    "    mse_lat,\n",
    "    mse_lon\n",
    "])\n",
    "\n",
    "print(mae_lat, mae_lon)\n",
    "print(mse_lat, mse_lon)"
   ]
  },
  {
   "cell_type": "code",
   "execution_count": 69,
   "metadata": {},
   "outputs": [
    {
     "name": "stderr",
     "output_type": "stream",
     "text": [
      "[I 2023-06-10 22:00:07,588] A new study created in memory with name: no-name-e78deba2-3fc3-4143-ae35-41082856a26e\n",
      "[I 2023-06-10 22:00:07,920] Trial 0 finished with value: 0.06038019224339136 and parameters: {'n_neighbors': 27, 'weights': 'uniform', 'p': 2}. Best is trial 0 with value: 0.06038019224339136.\n",
      "[I 2023-06-10 22:00:08,501] Trial 1 finished with value: -0.20346178762846204 and parameters: {'n_neighbors': 3, 'weights': 'distance', 'p': 1}. Best is trial 0 with value: 0.06038019224339136.\n",
      "[I 2023-06-10 22:00:08,822] Trial 2 finished with value: 0.009304615004941508 and parameters: {'n_neighbors': 41, 'weights': 'distance', 'p': 2}. Best is trial 0 with value: 0.06038019224339136.\n",
      "[I 2023-06-10 22:00:09,394] Trial 3 finished with value: 0.005741604711188142 and parameters: {'n_neighbors': 35, 'weights': 'uniform', 'p': 1}. Best is trial 0 with value: 0.06038019224339136.\n",
      "[I 2023-06-10 22:00:09,706] Trial 4 finished with value: 0.022335072639989417 and parameters: {'n_neighbors': 9, 'weights': 'uniform', 'p': 2}. Best is trial 0 with value: 0.06038019224339136.\n",
      "[I 2023-06-10 22:00:10,259] Trial 5 finished with value: -0.03406638869471905 and parameters: {'n_neighbors': 16, 'weights': 'distance', 'p': 1}. Best is trial 0 with value: 0.06038019224339136.\n",
      "[I 2023-06-10 22:00:10,815] Trial 6 finished with value: -0.015426055741475441 and parameters: {'n_neighbors': 28, 'weights': 'distance', 'p': 1}. Best is trial 0 with value: 0.06038019224339136.\n",
      "[I 2023-06-10 22:00:11,136] Trial 7 finished with value: 0.05508244157673888 and parameters: {'n_neighbors': 15, 'weights': 'uniform', 'p': 2}. Best is trial 0 with value: 0.06038019224339136.\n",
      "[I 2023-06-10 22:00:11,690] Trial 8 finished with value: -0.03030277366442058 and parameters: {'n_neighbors': 17, 'weights': 'distance', 'p': 1}. Best is trial 0 with value: 0.06038019224339136.\n",
      "[I 2023-06-10 22:00:11,997] Trial 9 finished with value: 0.050865128825220166 and parameters: {'n_neighbors': 45, 'weights': 'uniform', 'p': 2}. Best is trial 0 with value: 0.06038019224339136.\n",
      "[I 2023-06-10 22:00:12,301] Trial 10 finished with value: 0.05685659639318628 and parameters: {'n_neighbors': 31, 'weights': 'uniform', 'p': 2}. Best is trial 0 with value: 0.06038019224339136.\n",
      "[I 2023-06-10 22:00:12,603] Trial 11 finished with value: 0.06038019224339136 and parameters: {'n_neighbors': 27, 'weights': 'uniform', 'p': 2}. Best is trial 0 with value: 0.06038019224339136.\n",
      "[I 2023-06-10 22:00:12,907] Trial 12 finished with value: 0.05910110302284377 and parameters: {'n_neighbors': 23, 'weights': 'uniform', 'p': 2}. Best is trial 0 with value: 0.06038019224339136.\n",
      "[I 2023-06-10 22:00:13,211] Trial 13 finished with value: 0.0536599252616458 and parameters: {'n_neighbors': 37, 'weights': 'uniform', 'p': 2}. Best is trial 0 with value: 0.06038019224339136.\n",
      "[I 2023-06-10 22:00:13,518] Trial 14 finished with value: 0.060130075133535535 and parameters: {'n_neighbors': 25, 'weights': 'uniform', 'p': 2}. Best is trial 0 with value: 0.06038019224339136.\n",
      "[I 2023-06-10 22:00:13,831] Trial 15 finished with value: 0.05910110302284377 and parameters: {'n_neighbors': 23, 'weights': 'uniform', 'p': 2}. Best is trial 0 with value: 0.06038019224339136.\n",
      "[I 2023-06-10 22:00:14,149] Trial 16 finished with value: 0.05653659056689627 and parameters: {'n_neighbors': 32, 'weights': 'uniform', 'p': 2}. Best is trial 0 with value: 0.06038019224339136.\n",
      "[I 2023-06-10 22:00:14,467] Trial 17 finished with value: 0.04659137277675185 and parameters: {'n_neighbors': 50, 'weights': 'uniform', 'p': 2}. Best is trial 0 with value: 0.06038019224339136.\n",
      "[I 2023-06-10 22:00:14,779] Trial 18 finished with value: 0.05927909188191853 and parameters: {'n_neighbors': 21, 'weights': 'uniform', 'p': 2}. Best is trial 0 with value: 0.06038019224339136.\n",
      "[I 2023-06-10 22:00:15,091] Trial 19 finished with value: 0.022335072639989417 and parameters: {'n_neighbors': 9, 'weights': 'uniform', 'p': 2}. Best is trial 0 with value: 0.06038019224339136.\n",
      "[I 2023-06-10 22:00:15,393] Trial 20 finished with value: 0.058304460712380435 and parameters: {'n_neighbors': 29, 'weights': 'uniform', 'p': 2}. Best is trial 0 with value: 0.06038019224339136.\n",
      "[I 2023-06-10 22:00:15,695] Trial 21 finished with value: 0.06038019224339136 and parameters: {'n_neighbors': 27, 'weights': 'uniform', 'p': 2}. Best is trial 0 with value: 0.06038019224339136.\n",
      "[I 2023-06-10 22:00:16,001] Trial 22 finished with value: 0.05354240445644476 and parameters: {'n_neighbors': 38, 'weights': 'uniform', 'p': 2}. Best is trial 0 with value: 0.06038019224339136.\n",
      "[I 2023-06-10 22:00:16,304] Trial 23 finished with value: 0.06038019224339136 and parameters: {'n_neighbors': 27, 'weights': 'uniform', 'p': 2}. Best is trial 0 with value: 0.06038019224339136.\n",
      "[I 2023-06-10 22:00:16,615] Trial 24 finished with value: 0.0556841027629608 and parameters: {'n_neighbors': 33, 'weights': 'uniform', 'p': 2}. Best is trial 0 with value: 0.06038019224339136.\n",
      "[I 2023-06-10 22:00:16,915] Trial 25 finished with value: 0.058667234295111316 and parameters: {'n_neighbors': 19, 'weights': 'uniform', 'p': 2}. Best is trial 0 with value: 0.06038019224339136.\n",
      "[I 2023-06-10 22:00:17,475] Trial 26 finished with value: -0.016393992895950782 and parameters: {'n_neighbors': 26, 'weights': 'distance', 'p': 1}. Best is trial 0 with value: 0.06038019224339136.\n",
      "[I 2023-06-10 22:00:17,776] Trial 27 finished with value: 0.048748529922384355 and parameters: {'n_neighbors': 13, 'weights': 'uniform', 'p': 2}. Best is trial 0 with value: 0.06038019224339136.\n",
      "[I 2023-06-10 22:00:18,088] Trial 28 finished with value: 0.051913030866367525 and parameters: {'n_neighbors': 43, 'weights': 'uniform', 'p': 2}. Best is trial 0 with value: 0.06038019224339136.\n",
      "[I 2023-06-10 22:00:18,644] Trial 29 finished with value: -0.5972544800274928 and parameters: {'n_neighbors': 1, 'weights': 'distance', 'p': 1}. Best is trial 0 with value: 0.06038019224339136.\n",
      "[I 2023-06-10 22:00:18,942] Trial 30 finished with value: 0.036727418287763214 and parameters: {'n_neighbors': 11, 'weights': 'uniform', 'p': 2}. Best is trial 0 with value: 0.06038019224339136.\n",
      "[I 2023-06-10 22:00:19,248] Trial 31 finished with value: 0.06038019224339136 and parameters: {'n_neighbors': 27, 'weights': 'uniform', 'p': 2}. Best is trial 0 with value: 0.06038019224339136.\n",
      "[I 2023-06-10 22:00:19,551] Trial 32 finished with value: 0.05829320573023542 and parameters: {'n_neighbors': 30, 'weights': 'uniform', 'p': 2}. Best is trial 0 with value: 0.06038019224339136.\n",
      "[I 2023-06-10 22:00:19,852] Trial 33 finished with value: 0.06208857752172975 and parameters: {'n_neighbors': 22, 'weights': 'uniform', 'p': 2}. Best is trial 33 with value: 0.06208857752172975.\n",
      "[I 2023-06-10 22:00:20,155] Trial 34 finished with value: 0.05910110302284377 and parameters: {'n_neighbors': 23, 'weights': 'uniform', 'p': 2}. Best is trial 33 with value: 0.06208857752172975.\n",
      "[I 2023-06-10 22:00:20,465] Trial 35 finished with value: 0.011999176875164774 and parameters: {'n_neighbors': 35, 'weights': 'distance', 'p': 2}. Best is trial 33 with value: 0.06208857752172975.\n",
      "[I 2023-06-10 22:00:21,025] Trial 36 finished with value: -0.0022301897171289387 and parameters: {'n_neighbors': 20, 'weights': 'uniform', 'p': 1}. Best is trial 33 with value: 0.06208857752172975.\n",
      "[I 2023-06-10 22:00:21,324] Trial 37 finished with value: -0.03630347639346905 and parameters: {'n_neighbors': 5, 'weights': 'uniform', 'p': 2}. Best is trial 33 with value: 0.06208857752172975.\n",
      "[I 2023-06-10 22:00:21,893] Trial 38 finished with value: -0.024487080425911023 and parameters: {'n_neighbors': 18, 'weights': 'distance', 'p': 1}. Best is trial 33 with value: 0.06208857752172975.\n",
      "[I 2023-06-10 22:00:22,196] Trial 39 finished with value: 0.060704708950609275 and parameters: {'n_neighbors': 24, 'weights': 'uniform', 'p': 2}. Best is trial 33 with value: 0.06208857752172975.\n",
      "[I 2023-06-10 22:00:22,496] Trial 40 finished with value: 0.014672697216268016 and parameters: {'n_neighbors': 21, 'weights': 'distance', 'p': 2}. Best is trial 33 with value: 0.06208857752172975.\n",
      "[I 2023-06-10 22:00:22,802] Trial 41 finished with value: 0.060130075133535535 and parameters: {'n_neighbors': 25, 'weights': 'uniform', 'p': 2}. Best is trial 33 with value: 0.06208857752172975.\n"
     ]
    },
    {
     "name": "stderr",
     "output_type": "stream",
     "text": [
      "[I 2023-06-10 22:00:23,105] Trial 42 finished with value: 0.058304460712380435 and parameters: {'n_neighbors': 29, 'weights': 'uniform', 'p': 2}. Best is trial 33 with value: 0.06208857752172975.\n",
      "[I 2023-06-10 22:00:23,407] Trial 43 finished with value: 0.05508244157673888 and parameters: {'n_neighbors': 15, 'weights': 'uniform', 'p': 2}. Best is trial 33 with value: 0.06208857752172975.\n",
      "[I 2023-06-10 22:00:23,713] Trial 44 finished with value: 0.05705639310227208 and parameters: {'n_neighbors': 34, 'weights': 'uniform', 'p': 2}. Best is trial 33 with value: 0.06208857752172975.\n",
      "[I 2023-06-10 22:00:24,017] Trial 45 finished with value: 0.05910110302284377 and parameters: {'n_neighbors': 23, 'weights': 'uniform', 'p': 2}. Best is trial 33 with value: 0.06208857752172975.\n",
      "[I 2023-06-10 22:00:24,584] Trial 46 finished with value: 0.006619417348061485 and parameters: {'n_neighbors': 37, 'weights': 'uniform', 'p': 1}. Best is trial 33 with value: 0.06208857752172975.\n",
      "[I 2023-06-10 22:00:24,888] Trial 47 finished with value: 0.05685659639318628 and parameters: {'n_neighbors': 31, 'weights': 'uniform', 'p': 2}. Best is trial 33 with value: 0.06208857752172975.\n",
      "[I 2023-06-10 22:00:25,196] Trial 48 finished with value: 0.060130075133535535 and parameters: {'n_neighbors': 25, 'weights': 'uniform', 'p': 2}. Best is trial 33 with value: 0.06208857752172975.\n",
      "[I 2023-06-10 22:00:25,496] Trial 49 finished with value: 0.05557739210104198 and parameters: {'n_neighbors': 17, 'weights': 'uniform', 'p': 2}. Best is trial 33 with value: 0.06208857752172975.\n",
      "[I 2023-06-10 22:00:25,805] Trial 50 finished with value: 0.05932009935838208 and parameters: {'n_neighbors': 28, 'weights': 'uniform', 'p': 2}. Best is trial 33 with value: 0.06208857752172975.\n",
      "[I 2023-06-10 22:00:26,111] Trial 51 finished with value: 0.06038019224339136 and parameters: {'n_neighbors': 27, 'weights': 'uniform', 'p': 2}. Best is trial 33 with value: 0.06208857752172975.\n",
      "[I 2023-06-10 22:00:26,412] Trial 52 finished with value: 0.05927909188191853 and parameters: {'n_neighbors': 21, 'weights': 'uniform', 'p': 2}. Best is trial 33 with value: 0.06208857752172975.\n",
      "[I 2023-06-10 22:00:26,711] Trial 53 finished with value: 0.060704708950609275 and parameters: {'n_neighbors': 24, 'weights': 'uniform', 'p': 2}. Best is trial 33 with value: 0.06208857752172975.\n",
      "[I 2023-06-10 22:00:27,013] Trial 54 finished with value: 0.060704708950609275 and parameters: {'n_neighbors': 24, 'weights': 'uniform', 'p': 2}. Best is trial 33 with value: 0.06208857752172975.\n",
      "[I 2023-06-10 22:00:27,318] Trial 55 finished with value: 0.060704708950609275 and parameters: {'n_neighbors': 24, 'weights': 'uniform', 'p': 2}. Best is trial 33 with value: 0.06208857752172975.\n",
      "[I 2023-06-10 22:00:27,620] Trial 56 finished with value: 0.05910110302284377 and parameters: {'n_neighbors': 23, 'weights': 'uniform', 'p': 2}. Best is trial 33 with value: 0.06208857752172975.\n",
      "[I 2023-06-10 22:00:27,921] Trial 57 finished with value: 0.058667234295111316 and parameters: {'n_neighbors': 19, 'weights': 'uniform', 'p': 2}. Best is trial 33 with value: 0.06208857752172975.\n",
      "[I 2023-06-10 22:00:28,225] Trial 58 finished with value: 0.05636961507449663 and parameters: {'n_neighbors': 16, 'weights': 'uniform', 'p': 2}. Best is trial 33 with value: 0.06208857752172975.\n",
      "[I 2023-06-10 22:00:28,528] Trial 59 finished with value: 0.01700980712372565 and parameters: {'n_neighbors': 24, 'weights': 'distance', 'p': 2}. Best is trial 33 with value: 0.06208857752172975.\n",
      "[I 2023-06-10 22:00:29,103] Trial 60 finished with value: -0.001288208475329955 and parameters: {'n_neighbors': 21, 'weights': 'uniform', 'p': 1}. Best is trial 33 with value: 0.06208857752172975.\n",
      "[I 2023-06-10 22:00:29,410] Trial 61 finished with value: 0.05829320573023542 and parameters: {'n_neighbors': 30, 'weights': 'uniform', 'p': 2}. Best is trial 33 with value: 0.06208857752172975.\n",
      "[I 2023-06-10 22:00:29,715] Trial 62 finished with value: 0.060704708950609275 and parameters: {'n_neighbors': 24, 'weights': 'uniform', 'p': 2}. Best is trial 33 with value: 0.06208857752172975.\n",
      "[I 2023-06-10 22:00:30,020] Trial 63 finished with value: 0.060130075133535535 and parameters: {'n_neighbors': 25, 'weights': 'uniform', 'p': 2}. Best is trial 33 with value: 0.06208857752172975.\n",
      "[I 2023-06-10 22:00:30,329] Trial 64 finished with value: 0.06208857752172975 and parameters: {'n_neighbors': 22, 'weights': 'uniform', 'p': 2}. Best is trial 33 with value: 0.06208857752172975.\n",
      "[I 2023-06-10 22:00:30,632] Trial 65 finished with value: 0.06208857752172975 and parameters: {'n_neighbors': 22, 'weights': 'uniform', 'p': 2}. Best is trial 33 with value: 0.06208857752172975.\n",
      "[I 2023-06-10 22:00:30,931] Trial 66 finished with value: 0.05303563099401838 and parameters: {'n_neighbors': 14, 'weights': 'uniform', 'p': 2}. Best is trial 33 with value: 0.06208857752172975.\n",
      "[I 2023-06-10 22:00:31,235] Trial 67 finished with value: 0.058667234295111316 and parameters: {'n_neighbors': 19, 'weights': 'uniform', 'p': 2}. Best is trial 33 with value: 0.06208857752172975.\n",
      "[I 2023-06-10 22:00:31,537] Trial 68 finished with value: 0.06208857752172975 and parameters: {'n_neighbors': 22, 'weights': 'uniform', 'p': 2}. Best is trial 33 with value: 0.06208857752172975.\n",
      "[I 2023-06-10 22:00:31,839] Trial 69 finished with value: 0.06208857752172975 and parameters: {'n_neighbors': 22, 'weights': 'uniform', 'p': 2}. Best is trial 33 with value: 0.06208857752172975.\n",
      "[I 2023-06-10 22:00:32,143] Trial 70 finished with value: 0.06208857752172975 and parameters: {'n_neighbors': 22, 'weights': 'uniform', 'p': 2}. Best is trial 33 with value: 0.06208857752172975.\n",
      "[I 2023-06-10 22:00:32,447] Trial 71 finished with value: 0.06208857752172975 and parameters: {'n_neighbors': 22, 'weights': 'uniform', 'p': 2}. Best is trial 33 with value: 0.06208857752172975.\n",
      "[I 2023-06-10 22:00:32,748] Trial 72 finished with value: 0.06208857752172975 and parameters: {'n_neighbors': 22, 'weights': 'uniform', 'p': 2}. Best is trial 33 with value: 0.06208857752172975.\n",
      "[I 2023-06-10 22:00:33,053] Trial 73 finished with value: 0.06208857752172975 and parameters: {'n_neighbors': 22, 'weights': 'uniform', 'p': 2}. Best is trial 33 with value: 0.06208857752172975.\n",
      "[I 2023-06-10 22:00:33,354] Trial 74 finished with value: 0.05557739210104198 and parameters: {'n_neighbors': 17, 'weights': 'uniform', 'p': 2}. Best is trial 33 with value: 0.06208857752172975.\n",
      "[I 2023-06-10 22:00:33,660] Trial 75 finished with value: 0.0567874459866025 and parameters: {'n_neighbors': 20, 'weights': 'uniform', 'p': 2}. Best is trial 33 with value: 0.06208857752172975.\n",
      "[I 2023-06-10 22:00:33,964] Trial 76 finished with value: 0.06208857752172975 and parameters: {'n_neighbors': 22, 'weights': 'uniform', 'p': 2}. Best is trial 33 with value: 0.06208857752172975.\n",
      "[I 2023-06-10 22:00:34,526] Trial 77 finished with value: -0.024487080425911023 and parameters: {'n_neighbors': 18, 'weights': 'distance', 'p': 1}. Best is trial 33 with value: 0.06208857752172975.\n",
      "[I 2023-06-10 22:00:34,829] Trial 78 finished with value: 0.06208857752172975 and parameters: {'n_neighbors': 22, 'weights': 'uniform', 'p': 2}. Best is trial 33 with value: 0.06208857752172975.\n",
      "[I 2023-06-10 22:00:35,130] Trial 79 finished with value: 0.0567874459866025 and parameters: {'n_neighbors': 20, 'weights': 'uniform', 'p': 2}. Best is trial 33 with value: 0.06208857752172975.\n",
      "[I 2023-06-10 22:00:35,441] Trial 80 finished with value: 0.05900260557532603 and parameters: {'n_neighbors': 26, 'weights': 'uniform', 'p': 2}. Best is trial 33 with value: 0.06208857752172975.\n",
      "[I 2023-06-10 22:00:35,746] Trial 81 finished with value: 0.058059397969302075 and parameters: {'n_neighbors': 18, 'weights': 'uniform', 'p': 2}. Best is trial 33 with value: 0.06208857752172975.\n",
      "[I 2023-06-10 22:00:36,051] Trial 82 finished with value: 0.06208857752172975 and parameters: {'n_neighbors': 22, 'weights': 'uniform', 'p': 2}. Best is trial 33 with value: 0.06208857752172975.\n",
      "[I 2023-06-10 22:00:36,355] Trial 83 finished with value: 0.0567874459866025 and parameters: {'n_neighbors': 20, 'weights': 'uniform', 'p': 2}. Best is trial 33 with value: 0.06208857752172975.\n"
     ]
    },
    {
     "name": "stderr",
     "output_type": "stream",
     "text": [
      "[I 2023-06-10 22:00:36,657] Trial 84 finished with value: 0.06208857752172975 and parameters: {'n_neighbors': 22, 'weights': 'uniform', 'p': 2}. Best is trial 33 with value: 0.06208857752172975.\n",
      "[I 2023-06-10 22:00:36,963] Trial 85 finished with value: 0.05900260557532603 and parameters: {'n_neighbors': 26, 'weights': 'uniform', 'p': 2}. Best is trial 33 with value: 0.06208857752172975.\n",
      "[I 2023-06-10 22:00:37,263] Trial 86 finished with value: 0.04176962138330444 and parameters: {'n_neighbors': 12, 'weights': 'uniform', 'p': 2}. Best is trial 33 with value: 0.06208857752172975.\n",
      "[I 2023-06-10 22:00:37,565] Trial 87 finished with value: 0.05636961507449663 and parameters: {'n_neighbors': 16, 'weights': 'uniform', 'p': 2}. Best is trial 33 with value: 0.06208857752172975.\n",
      "[I 2023-06-10 22:00:37,871] Trial 88 finished with value: 0.015198904595870522 and parameters: {'n_neighbors': 28, 'weights': 'distance', 'p': 2}. Best is trial 33 with value: 0.06208857752172975.\n",
      "[I 2023-06-10 22:00:38,433] Trial 89 finished with value: -0.0011516902876178125 and parameters: {'n_neighbors': 19, 'weights': 'uniform', 'p': 1}. Best is trial 33 with value: 0.06208857752172975.\n",
      "[I 2023-06-10 22:00:38,738] Trial 90 finished with value: 0.06208857752172975 and parameters: {'n_neighbors': 22, 'weights': 'uniform', 'p': 2}. Best is trial 33 with value: 0.06208857752172975.\n",
      "[I 2023-06-10 22:00:39,045] Trial 91 finished with value: 0.05927909188191853 and parameters: {'n_neighbors': 21, 'weights': 'uniform', 'p': 2}. Best is trial 33 with value: 0.06208857752172975.\n",
      "[I 2023-06-10 22:00:39,348] Trial 92 finished with value: 0.05910110302284377 and parameters: {'n_neighbors': 23, 'weights': 'uniform', 'p': 2}. Best is trial 33 with value: 0.06208857752172975.\n",
      "[I 2023-06-10 22:00:39,652] Trial 93 finished with value: 0.06208857752172975 and parameters: {'n_neighbors': 22, 'weights': 'uniform', 'p': 2}. Best is trial 33 with value: 0.06208857752172975.\n",
      "[I 2023-06-10 22:00:39,956] Trial 94 finished with value: 0.0567874459866025 and parameters: {'n_neighbors': 20, 'weights': 'uniform', 'p': 2}. Best is trial 33 with value: 0.06208857752172975.\n",
      "[I 2023-06-10 22:00:40,258] Trial 95 finished with value: 0.058059397969302075 and parameters: {'n_neighbors': 18, 'weights': 'uniform', 'p': 2}. Best is trial 33 with value: 0.06208857752172975.\n",
      "[I 2023-06-10 22:00:40,562] Trial 96 finished with value: 0.060130075133535535 and parameters: {'n_neighbors': 25, 'weights': 'uniform', 'p': 2}. Best is trial 33 with value: 0.06208857752172975.\n",
      "[I 2023-06-10 22:00:40,868] Trial 97 finished with value: 0.05900260557532603 and parameters: {'n_neighbors': 26, 'weights': 'uniform', 'p': 2}. Best is trial 33 with value: 0.06208857752172975.\n",
      "[I 2023-06-10 22:00:41,170] Trial 98 finished with value: 0.05910110302284377 and parameters: {'n_neighbors': 23, 'weights': 'uniform', 'p': 2}. Best is trial 33 with value: 0.06208857752172975.\n",
      "[I 2023-06-10 22:00:41,482] Trial 99 finished with value: 0.04745389762971701 and parameters: {'n_neighbors': 48, 'weights': 'uniform', 'p': 2}. Best is trial 33 with value: 0.06208857752172975.\n"
     ]
    }
   ],
   "source": [
    "def objective(trial):\n",
    "\n",
    "    n_neighbors = trial.suggest_int('n_neighbors', 1, 50)\n",
    "    weights = trial.suggest_categorical('weights', ['uniform', 'distance'])\n",
    "    p = trial.suggest_categorical('p', [1, 2])\n",
    "    regressor = KNeighborsRegressor(n_neighbors=n_neighbors,\n",
    "                                    weights=weights, \n",
    "                                    p=p)\n",
    "    \n",
    "    vect = TfidfVectorizer(ngram_range=(1,1), analyzer=\"word\", max_df=0.5, \n",
    "                           min_df=10, lowercase=True)\n",
    "    pipe = Pipeline([('vect', vect), ('ref', regressor)])\n",
    "    scores = cross_val_score(pipe, \n",
    "                             train.text.values, \n",
    "                             train[[\"lat\", \"lon\"]].values,\n",
    "                             cv=5,\n",
    "                             n_jobs=-1)\n",
    "    return scores.mean()\n",
    "\n",
    "study = optuna.create_study(direction='maximize')\n",
    "study.optimize(objective, n_trials=100)"
   ]
  },
  {
   "cell_type": "code",
   "execution_count": 70,
   "metadata": {},
   "outputs": [
    {
     "name": "stdout",
     "output_type": "stream",
     "text": [
      "best value: 0.06208857752172975\n",
      "best trial: FrozenTrial(number=33, state=TrialState.COMPLETE, values=[0.06208857752172975], datetime_start=datetime.datetime(2023, 6, 10, 22, 0, 19, 551932), datetime_complete=datetime.datetime(2023, 6, 10, 22, 0, 19, 852840), params={'n_neighbors': 22, 'weights': 'uniform', 'p': 2}, user_attrs={}, system_attrs={}, intermediate_values={}, distributions={'n_neighbors': IntDistribution(high=50, log=False, low=1, step=1), 'weights': CategoricalDistribution(choices=('uniform', 'distance')), 'p': CategoricalDistribution(choices=(1, 2))}, trial_id=33, value=None)\n",
      "best params: {'n_neighbors': 22, 'weights': 'uniform', 'p': 2}\n"
     ]
    }
   ],
   "source": [
    "print('best value:', study.best_value)\n",
    "print('best trial:', study.best_trial)\n",
    "best_params = study.best_trial.params\n",
    "print('best params:', best_params)"
   ]
  },
  {
   "cell_type": "code",
   "execution_count": 71,
   "metadata": {},
   "outputs": [
    {
     "data": {
      "text/plain": [
       "0.09255588232781126"
      ]
     },
     "execution_count": 71,
     "metadata": {},
     "output_type": "execute_result"
    }
   ],
   "source": [
    "regressor = KNeighborsRegressor(**best_params)\n",
    "knr_pipe = Pipeline([('vect', vect), ('reg', regressor)])\n",
    "knr_pipe.fit(train.text.values, train[[\"lat\", \"lon\"]].values)\n",
    "score = knr_pipe.score(test.text.values, test[[\"lat\", \"lon\"]].values)\n",
    "score"
   ]
  },
  {
   "cell_type": "code",
   "execution_count": 72,
   "metadata": {},
   "outputs": [
    {
     "name": "stdout",
     "output_type": "stream",
     "text": [
      "1.3767530653913036 1.9567627980173916\n",
      "2.9645297787499216 6.525672340286382\n"
     ]
    }
   ],
   "source": [
    "predicted_coords = knr_pipe.predict(test.text.values)\n",
    "\n",
    "mae_lat, mae_lon = (mean_absolute_error(test.lat.values, predicted_coords[:, 0]),\n",
    "                    mean_absolute_error(test.lon.values, predicted_coords[:, 1]))\n",
    "mse_lat, mse_lon = (mean_squared_error(test.lat.values, predicted_coords[:, 0]),\n",
    "                    mean_squared_error(test.lon.values, predicted_coords[:, 1]))\n",
    "\n",
    "optimization_results.append([\n",
    "    'KNeighborsRegressor', \n",
    "    study.best_value, \n",
    "    score,\n",
    "    best_params,\n",
    "    mae_lat, \n",
    "    mae_lon,\n",
    "    mse_lat,\n",
    "    mse_lon\n",
    "])\n",
    "\n",
    "print(mae_lat, mae_lon)\n",
    "print(mse_lat, mse_lon)"
   ]
  },
  {
   "cell_type": "code",
   "execution_count": 73,
   "metadata": {},
   "outputs": [
    {
     "name": "stderr",
     "output_type": "stream",
     "text": [
      "[I 2023-06-10 22:00:41,837] A new study created in memory with name: no-name-fff2bd52-fdaf-41ea-95b1-b9ef7d2644d3\n",
      "[I 2023-06-10 22:00:44,422] Trial 0 finished with value: 0.1314512724856554 and parameters: {'n_estimators': 143, 'max_depth': 23, 'min_samples_split': 5, 'min_samples_leaf': 4}. Best is trial 0 with value: 0.1314512724856554.\n",
      "[I 2023-06-10 22:00:46,161] Trial 1 finished with value: 0.1317177464956311 and parameters: {'n_estimators': 115, 'max_depth': 20, 'min_samples_split': 10, 'min_samples_leaf': 6}. Best is trial 1 with value: 0.1317177464956311.\n",
      "[I 2023-06-10 22:00:46,709] Trial 2 finished with value: 0.10755228335377662 and parameters: {'n_estimators': 132, 'max_depth': 4, 'min_samples_split': 6, 'min_samples_leaf': 6}. Best is trial 1 with value: 0.1317177464956311.\n",
      "[I 2023-06-10 22:00:51,284] Trial 3 finished with value: 0.13044408319739054 and parameters: {'n_estimators': 323, 'max_depth': 19, 'min_samples_split': 2, 'min_samples_leaf': 5}. Best is trial 1 with value: 0.1317177464956311.\n",
      "[I 2023-06-10 22:00:51,980] Trial 4 finished with value: 0.07856960821615923 and parameters: {'n_estimators': 295, 'max_depth': 2, 'min_samples_split': 8, 'min_samples_leaf': 6}. Best is trial 1 with value: 0.1317177464956311.\n",
      "[I 2023-06-10 22:00:54,461] Trial 5 finished with value: 0.12123800041433345 and parameters: {'n_estimators': 278, 'max_depth': 12, 'min_samples_split': 3, 'min_samples_leaf': 10}. Best is trial 1 with value: 0.1317177464956311.\n",
      "[I 2023-06-10 22:01:00,768] Trial 6 finished with value: 0.1287499646701938 and parameters: {'n_estimators': 398, 'max_depth': 21, 'min_samples_split': 9, 'min_samples_leaf': 2}. Best is trial 1 with value: 0.1317177464956311.\n",
      "[I 2023-06-10 22:01:02,370] Trial 7 finished with value: 0.12230079731300184 and parameters: {'n_estimators': 205, 'max_depth': 10, 'min_samples_split': 7, 'min_samples_leaf': 8}. Best is trial 1 with value: 0.1317177464956311.\n",
      "[I 2023-06-10 22:01:05,743] Trial 8 finished with value: 0.13023411032719032 and parameters: {'n_estimators': 258, 'max_depth': 18, 'min_samples_split': 3, 'min_samples_leaf': 7}. Best is trial 1 with value: 0.1317177464956311.\n",
      "[I 2023-06-10 22:01:06,783] Trial 9 finished with value: 0.10777135017715553 and parameters: {'n_estimators': 272, 'max_depth': 4, 'min_samples_split': 8, 'min_samples_leaf': 4}. Best is trial 1 with value: 0.1317177464956311.\n",
      "[I 2023-06-10 22:01:18,700] Trial 10 finished with value: 0.1311652819577192 and parameters: {'n_estimators': 498, 'max_depth': 31, 'min_samples_split': 10, 'min_samples_leaf': 1}. Best is trial 1 with value: 0.1317177464956311.\n",
      "[I 2023-06-10 22:01:20,995] Trial 11 finished with value: 0.13064072273213007 and parameters: {'n_estimators': 100, 'max_depth': 28, 'min_samples_split': 5, 'min_samples_leaf': 3}. Best is trial 1 with value: 0.1317177464956311.\n",
      "[I 2023-06-10 22:01:23,814] Trial 12 finished with value: 0.13099992848578074 and parameters: {'n_estimators': 151, 'max_depth': 25, 'min_samples_split': 5, 'min_samples_leaf': 4}. Best is trial 1 with value: 0.1317177464956311.\n",
      "[I 2023-06-10 22:01:26,889] Trial 13 finished with value: 0.13165535584944477 and parameters: {'n_estimators': 187, 'max_depth': 24, 'min_samples_split': 5, 'min_samples_leaf': 8}. Best is trial 1 with value: 0.1317177464956311.\n",
      "[I 2023-06-10 22:01:28,919] Trial 14 finished with value: 0.1246022139475638 and parameters: {'n_estimators': 198, 'max_depth': 14, 'min_samples_split': 10, 'min_samples_leaf': 9}. Best is trial 1 with value: 0.1317177464956311.\n",
      "[I 2023-06-10 22:01:32,382] Trial 15 finished with value: 0.13220945735208808 and parameters: {'n_estimators': 197, 'max_depth': 26, 'min_samples_split': 6, 'min_samples_leaf': 8}. Best is trial 15 with value: 0.13220945735208808.\n",
      "[I 2023-06-10 22:01:36,345] Trial 16 finished with value: 0.12866720572683787 and parameters: {'n_estimators': 226, 'max_depth': 28, 'min_samples_split': 7, 'min_samples_leaf': 10}. Best is trial 15 with value: 0.13220945735208808.\n",
      "[I 2023-06-10 22:01:37,530] Trial 17 finished with value: 0.1278775615288352 and parameters: {'n_estimators': 103, 'max_depth': 15, 'min_samples_split': 7, 'min_samples_leaf': 7}. Best is trial 15 with value: 0.13220945735208808.\n",
      "[I 2023-06-10 22:01:40,708] Trial 18 finished with value: 0.13348541414137188 and parameters: {'n_estimators': 165, 'max_depth': 30, 'min_samples_split': 9, 'min_samples_leaf': 8}. Best is trial 18 with value: 0.13348541414137188.\n",
      "[I 2023-06-10 22:01:47,743] Trial 19 finished with value: 0.134270452189243 and parameters: {'n_estimators': 350, 'max_depth': 32, 'min_samples_split': 8, 'min_samples_leaf': 8}. Best is trial 19 with value: 0.134270452189243.\n",
      "[I 2023-06-10 22:01:54,788] Trial 20 finished with value: 0.13174025742547607 and parameters: {'n_estimators': 361, 'max_depth': 32, 'min_samples_split': 9, 'min_samples_leaf': 9}. Best is trial 19 with value: 0.134270452189243.\n",
      "[I 2023-06-10 22:02:02,569] Trial 21 finished with value: 0.13324573620182184 and parameters: {'n_estimators': 429, 'max_depth': 28, 'min_samples_split': 8, 'min_samples_leaf': 8}. Best is trial 19 with value: 0.134270452189243.\n",
      "[I 2023-06-10 22:02:10,428] Trial 22 finished with value: 0.13136403576833094 and parameters: {'n_estimators': 433, 'max_depth': 29, 'min_samples_split': 9, 'min_samples_leaf': 9}. Best is trial 19 with value: 0.134270452189243.\n",
      "[I 2023-06-10 22:02:19,431] Trial 23 finished with value: 0.13543629925946163 and parameters: {'n_estimators': 441, 'max_depth': 32, 'min_samples_split': 8, 'min_samples_leaf': 7}. Best is trial 23 with value: 0.13543629925946163.\n",
      "[I 2023-06-10 22:02:29,746] Trial 24 finished with value: 0.1355091537178979 and parameters: {'n_estimators': 497, 'max_depth': 32, 'min_samples_split': 9, 'min_samples_leaf': 7}. Best is trial 24 with value: 0.1355091537178979.\n",
      "[I 2023-06-10 22:02:40,016] Trial 25 finished with value: 0.13569097579089612 and parameters: {'n_estimators': 499, 'max_depth': 32, 'min_samples_split': 8, 'min_samples_leaf': 7}. Best is trial 25 with value: 0.13569097579089612.\n",
      "[I 2023-06-10 22:02:48,676] Trial 26 finished with value: 0.13403899013851536 and parameters: {'n_estimators': 498, 'max_depth': 26, 'min_samples_split': 7, 'min_samples_leaf': 7}. Best is trial 25 with value: 0.13569097579089612.\n",
      "[I 2023-06-10 22:02:58,711] Trial 27 finished with value: 0.1349506074962883 and parameters: {'n_estimators': 462, 'max_depth': 32, 'min_samples_split': 9, 'min_samples_leaf': 5}. Best is trial 25 with value: 0.13569097579089612.\n",
      "[I 2023-06-10 22:03:05,871] Trial 28 finished with value: 0.13271796723065837 and parameters: {'n_estimators': 467, 'max_depth': 22, 'min_samples_split': 8, 'min_samples_leaf': 7}. Best is trial 25 with value: 0.13569097579089612.\n",
      "[I 2023-06-10 22:03:12,564] Trial 29 finished with value: 0.13235421621263077 and parameters: {'n_estimators': 411, 'max_depth': 23, 'min_samples_split': 10, 'min_samples_leaf': 5}. Best is trial 25 with value: 0.13569097579089612.\n",
      "[I 2023-06-10 22:03:21,765] Trial 30 finished with value: 0.1354643563205517 and parameters: {'n_estimators': 461, 'max_depth': 30, 'min_samples_split': 6, 'min_samples_leaf': 6}. Best is trial 25 with value: 0.13569097579089612.\n",
      "[I 2023-06-10 22:03:31,294] Trial 31 finished with value: 0.1352891070520253 and parameters: {'n_estimators': 474, 'max_depth': 30, 'min_samples_split': 6, 'min_samples_leaf': 6}. Best is trial 25 with value: 0.13569097579089612.\n",
      "[I 2023-06-10 22:03:39,384] Trial 32 finished with value: 0.13442630336510147 and parameters: {'n_estimators': 445, 'max_depth': 27, 'min_samples_split': 6, 'min_samples_leaf': 7}. Best is trial 25 with value: 0.13569097579089612.\n",
      "[I 2023-06-10 22:03:47,550] Trial 33 finished with value: 0.13574073925781374 and parameters: {'n_estimators': 386, 'max_depth': 30, 'min_samples_split': 4, 'min_samples_leaf': 6}. Best is trial 33 with value: 0.13574073925781374.\n",
      "[I 2023-06-10 22:03:55,426] Trial 34 finished with value: 0.13525467881978756 and parameters: {'n_estimators': 390, 'max_depth': 30, 'min_samples_split': 4, 'min_samples_leaf': 6}. Best is trial 33 with value: 0.13574073925781374.\n",
      "[I 2023-06-10 22:04:05,005] Trial 35 finished with value: 0.1343321592170387 and parameters: {'n_estimators': 478, 'max_depth': 29, 'min_samples_split': 4, 'min_samples_leaf': 5}. Best is trial 33 with value: 0.13574073925781374.\n"
     ]
    },
    {
     "name": "stderr",
     "output_type": "stream",
     "text": [
      "[I 2023-06-10 22:04:11,396] Trial 36 finished with value: 0.1337846549813661 and parameters: {'n_estimators': 368, 'max_depth': 25, 'min_samples_split': 2, 'min_samples_leaf': 6}. Best is trial 33 with value: 0.13574073925781374.\n",
      "[I 2023-06-10 22:04:16,221] Trial 37 finished with value: 0.13093726433815878 and parameters: {'n_estimators': 335, 'max_depth': 20, 'min_samples_split': 4, 'min_samples_leaf': 5}. Best is trial 33 with value: 0.13574073925781374.\n",
      "[I 2023-06-10 22:04:19,126] Trial 38 finished with value: 0.12155227645657382 and parameters: {'n_estimators': 415, 'max_depth': 9, 'min_samples_split': 3, 'min_samples_leaf': 6}. Best is trial 33 with value: 0.13574073925781374.\n",
      "[I 2023-06-10 22:04:27,184] Trial 39 finished with value: 0.1319496325831272 and parameters: {'n_estimators': 383, 'max_depth': 30, 'min_samples_split': 7, 'min_samples_leaf': 4}. Best is trial 33 with value: 0.13574073925781374.\n",
      "[I 2023-06-10 22:04:37,023] Trial 40 finished with value: 0.13058857385688985 and parameters: {'n_estimators': 498, 'max_depth': 27, 'min_samples_split': 6, 'min_samples_leaf': 3}. Best is trial 33 with value: 0.13574073925781374.\n",
      "[I 2023-06-10 22:04:46,315] Trial 41 finished with value: 0.13530572951981115 and parameters: {'n_estimators': 453, 'max_depth': 32, 'min_samples_split': 8, 'min_samples_leaf': 7}. Best is trial 33 with value: 0.13574073925781374.\n",
      "[I 2023-06-10 22:04:55,271] Trial 42 finished with value: 0.13541510407318422 and parameters: {'n_estimators': 437, 'max_depth': 31, 'min_samples_split': 9, 'min_samples_leaf': 6}. Best is trial 33 with value: 0.13574073925781374.\n",
      "[I 2023-06-10 22:05:05,131] Trial 43 finished with value: 0.13571865223936266 and parameters: {'n_estimators': 488, 'max_depth': 31, 'min_samples_split': 8, 'min_samples_leaf': 7}. Best is trial 33 with value: 0.13574073925781374.\n",
      "[I 2023-06-10 22:05:14,798] Trial 44 finished with value: 0.1347679430482302 and parameters: {'n_estimators': 480, 'max_depth': 29, 'min_samples_split': 10, 'min_samples_leaf': 6}. Best is trial 33 with value: 0.13574073925781374.\n",
      "[I 2023-06-10 22:05:23,640] Trial 45 finished with value: 0.1343918661760891 and parameters: {'n_estimators': 484, 'max_depth': 27, 'min_samples_split': 2, 'min_samples_leaf': 7}. Best is trial 33 with value: 0.13574073925781374.\n",
      "[I 2023-06-10 22:05:29,678] Trial 46 finished with value: 0.13468826179135135 and parameters: {'n_estimators': 308, 'max_depth': 30, 'min_samples_split': 7, 'min_samples_leaf': 7}. Best is trial 33 with value: 0.13574073925781374.\n",
      "[I 2023-06-10 22:05:38,344] Trial 47 finished with value: 0.13611836774301422 and parameters: {'n_estimators': 418, 'max_depth': 31, 'min_samples_split': 3, 'min_samples_leaf': 6}. Best is trial 47 with value: 0.13611836774301422.\n",
      "[I 2023-06-10 22:05:45,302] Trial 48 finished with value: 0.1324963147947244 and parameters: {'n_estimators': 411, 'max_depth': 24, 'min_samples_split': 3, 'min_samples_leaf': 5}. Best is trial 47 with value: 0.13611836774301422.\n",
      "[I 2023-06-10 22:05:47,936] Trial 49 finished with value: 0.1189004594051788 and parameters: {'n_estimators': 421, 'max_depth': 8, 'min_samples_split': 4, 'min_samples_leaf': 8}. Best is trial 47 with value: 0.13611836774301422.\n",
      "[I 2023-06-10 22:05:53,852] Trial 50 finished with value: 0.1274405996110696 and parameters: {'n_estimators': 499, 'max_depth': 17, 'min_samples_split': 3, 'min_samples_leaf': 9}. Best is trial 47 with value: 0.13611836774301422.\n",
      "[I 2023-06-10 22:06:03,556] Trial 51 finished with value: 0.13611918629613523 and parameters: {'n_estimators': 457, 'max_depth': 31, 'min_samples_split': 5, 'min_samples_leaf': 6}. Best is trial 51 with value: 0.13611918629613523.\n",
      "[I 2023-06-10 22:06:12,963] Trial 52 finished with value: 0.1356299916159387 and parameters: {'n_estimators': 453, 'max_depth': 31, 'min_samples_split': 5, 'min_samples_leaf': 6}. Best is trial 51 with value: 0.13611918629613523.\n",
      "[I 2023-06-10 22:06:20,751] Trial 53 finished with value: 0.13390469558404017 and parameters: {'n_estimators': 401, 'max_depth': 28, 'min_samples_split': 5, 'min_samples_leaf': 5}. Best is trial 51 with value: 0.13611918629613523.\n",
      "[I 2023-06-10 22:06:29,998] Trial 54 finished with value: 0.13584170961464517 and parameters: {'n_estimators': 447, 'max_depth': 31, 'min_samples_split': 5, 'min_samples_leaf': 6}. Best is trial 51 with value: 0.13611918629613523.\n",
      "[I 2023-06-10 22:06:37,396] Trial 55 finished with value: 0.13508335733311322 and parameters: {'n_estimators': 380, 'max_depth': 29, 'min_samples_split': 4, 'min_samples_leaf': 6}. Best is trial 51 with value: 0.13611918629613523.\n",
      "[I 2023-06-10 22:06:46,857] Trial 56 finished with value: 0.13460233598460683 and parameters: {'n_estimators': 449, 'max_depth': 31, 'min_samples_split': 5, 'min_samples_leaf': 5}. Best is trial 51 with value: 0.13611918629613523.\n",
      "[I 2023-06-10 22:06:54,982] Trial 57 finished with value: 0.13163559532007174 and parameters: {'n_estimators': 427, 'max_depth': 26, 'min_samples_split': 4, 'min_samples_leaf': 4}. Best is trial 51 with value: 0.13611918629613523.\n",
      "[I 2023-06-10 22:07:04,315] Trial 58 finished with value: 0.13480120171360746 and parameters: {'n_estimators': 479, 'max_depth': 28, 'min_samples_split': 3, 'min_samples_leaf': 7}. Best is trial 51 with value: 0.13611918629613523.\n",
      "[I 2023-06-10 22:07:13,142] Trial 59 finished with value: 0.13229361714764573 and parameters: {'n_estimators': 402, 'max_depth': 31, 'min_samples_split': 5, 'min_samples_leaf': 3}. Best is trial 51 with value: 0.13611918629613523.\n",
      "[I 2023-06-10 22:07:15,176] Trial 60 finished with value: 0.1135788471343632 and parameters: {'n_estimators': 463, 'max_depth': 5, 'min_samples_split': 4, 'min_samples_leaf': 1}. Best is trial 51 with value: 0.13611918629613523.\n",
      "[I 2023-06-10 22:07:24,399] Trial 61 finished with value: 0.13576037506143532 and parameters: {'n_estimators': 451, 'max_depth': 31, 'min_samples_split': 5, 'min_samples_leaf': 6}. Best is trial 51 with value: 0.13611918629613523.\n",
      "[I 2023-06-10 22:07:34,446] Trial 62 finished with value: 0.13569130109271238 and parameters: {'n_estimators': 485, 'max_depth': 31, 'min_samples_split': 5, 'min_samples_leaf': 6}. Best is trial 51 with value: 0.13611918629613523.\n",
      "[I 2023-06-10 22:07:43,169] Trial 63 finished with value: 0.13563915489376482 and parameters: {'n_estimators': 437, 'max_depth': 29, 'min_samples_split': 5, 'min_samples_leaf': 6}. Best is trial 51 with value: 0.13611918629613523.\n",
      "[I 2023-06-10 22:07:53,780] Trial 64 finished with value: 0.1344650023595517 and parameters: {'n_estimators': 487, 'max_depth': 31, 'min_samples_split': 5, 'min_samples_leaf': 5}. Best is trial 51 with value: 0.13611918629613523.\n",
      "[I 2023-06-10 22:08:02,351] Trial 65 finished with value: 0.13193059021486203 and parameters: {'n_estimators': 452, 'max_depth': 27, 'min_samples_split': 5, 'min_samples_leaf': 4}. Best is trial 51 with value: 0.13611918629613523.\n",
      "[I 2023-06-10 22:08:06,880] Trial 66 finished with value: 0.13524980489132074 and parameters: {'n_estimators': 231, 'max_depth': 29, 'min_samples_split': 6, 'min_samples_leaf': 6}. Best is trial 51 with value: 0.13611918629613523.\n",
      "[I 2023-06-10 22:08:16,709] Trial 67 finished with value: 0.13592740786826488 and parameters: {'n_estimators': 468, 'max_depth': 32, 'min_samples_split': 4, 'min_samples_leaf': 6}. Best is trial 51 with value: 0.13611918629613523.\n",
      "[I 2023-06-10 22:08:25,504] Trial 68 finished with value: 0.13576504698764108 and parameters: {'n_estimators': 422, 'max_depth': 32, 'min_samples_split': 4, 'min_samples_leaf': 7}. Best is trial 51 with value: 0.13611918629613523.\n",
      "[I 2023-06-10 22:08:34,696] Trial 69 finished with value: 0.13634693552297175 and parameters: {'n_estimators': 425, 'max_depth': 32, 'min_samples_split': 4, 'min_samples_leaf': 6}. Best is trial 69 with value: 0.13634693552297175.\n",
      "[I 2023-06-10 22:08:44,073] Trial 70 finished with value: 0.13447902320797217 and parameters: {'n_estimators': 431, 'max_depth': 32, 'min_samples_split': 4, 'min_samples_leaf': 5}. Best is trial 69 with value: 0.13634693552297175.\n",
      "[I 2023-06-10 22:08:52,379] Trial 71 finished with value: 0.1353276741343251 and parameters: {'n_estimators': 420, 'max_depth': 30, 'min_samples_split': 4, 'min_samples_leaf': 6}. Best is trial 69 with value: 0.13634693552297175.\n"
     ]
    },
    {
     "name": "stderr",
     "output_type": "stream",
     "text": [
      "[I 2023-06-10 22:09:00,778] Trial 72 finished with value: 0.13653900286762524 and parameters: {'n_estimators': 401, 'max_depth': 32, 'min_samples_split': 3, 'min_samples_leaf': 6}. Best is trial 72 with value: 0.13653900286762524.\n",
      "[I 2023-06-10 22:09:08,957] Trial 73 finished with value: 0.13579070554243522 and parameters: {'n_estimators': 401, 'max_depth': 32, 'min_samples_split': 3, 'min_samples_leaf': 7}. Best is trial 72 with value: 0.13653900286762524.\n",
      "[I 2023-06-10 22:09:16,214] Trial 74 finished with value: 0.13409559691510417 and parameters: {'n_estimators': 367, 'max_depth': 32, 'min_samples_split': 2, 'min_samples_leaf': 8}. Best is trial 72 with value: 0.13653900286762524.\n",
      "[I 2023-06-10 22:09:23,219] Trial 75 finished with value: 0.13528437081027894 and parameters: {'n_estimators': 342, 'max_depth': 32, 'min_samples_split': 3, 'min_samples_leaf': 7}. Best is trial 72 with value: 0.13653900286762524.\n",
      "[I 2023-06-10 22:09:30,980] Trial 76 finished with value: 0.13461305139357305 and parameters: {'n_estimators': 396, 'max_depth': 29, 'min_samples_split': 3, 'min_samples_leaf': 7}. Best is trial 72 with value: 0.13653900286762524.\n",
      "[I 2023-06-10 22:09:34,815] Trial 77 finished with value: 0.126727931558919 and parameters: {'n_estimators': 405, 'max_depth': 13, 'min_samples_split': 3, 'min_samples_leaf': 7}. Best is trial 72 with value: 0.13653900286762524.\n",
      "[I 2023-06-10 22:09:41,580] Trial 78 finished with value: 0.13355141265246756 and parameters: {'n_estimators': 375, 'max_depth': 28, 'min_samples_split': 2, 'min_samples_leaf': 8}. Best is trial 72 with value: 0.13653900286762524.\n",
      "[I 2023-06-10 22:09:49,058] Trial 79 finished with value: 0.13562067023793686 and parameters: {'n_estimators': 356, 'max_depth': 32, 'min_samples_split': 3, 'min_samples_leaf': 6}. Best is trial 72 with value: 0.13653900286762524.\n",
      "[I 2023-06-10 22:09:57,620] Trial 80 finished with value: 0.134187437269428 and parameters: {'n_estimators': 420, 'max_depth': 30, 'min_samples_split': 3, 'min_samples_leaf': 5}. Best is trial 72 with value: 0.13653900286762524.\n",
      "[I 2023-06-10 22:10:07,296] Trial 81 finished with value: 0.13534817095529894 and parameters: {'n_estimators': 469, 'max_depth': 31, 'min_samples_split': 4, 'min_samples_leaf': 6}. Best is trial 72 with value: 0.13653900286762524.\n",
      "[I 2023-06-10 22:10:16,363] Trial 82 finished with value: 0.1355494093249809 and parameters: {'n_estimators': 440, 'max_depth': 31, 'min_samples_split': 4, 'min_samples_leaf': 6}. Best is trial 72 with value: 0.13653900286762524.\n",
      "[I 2023-06-10 22:10:25,671] Trial 83 finished with value: 0.13546638322010426 and parameters: {'n_estimators': 456, 'max_depth': 32, 'min_samples_split': 3, 'min_samples_leaf': 7}. Best is trial 72 with value: 0.13653900286762524.\n",
      "[I 2023-06-10 22:10:34,296] Trial 84 finished with value: 0.1356578092844704 and parameters: {'n_estimators': 428, 'max_depth': 30, 'min_samples_split': 4, 'min_samples_leaf': 6}. Best is trial 72 with value: 0.13653900286762524.\n",
      "[I 2023-06-10 22:10:43,195] Trial 85 finished with value: 0.13494327674676956 and parameters: {'n_estimators': 412, 'max_depth': 32, 'min_samples_split': 2, 'min_samples_leaf': 5}. Best is trial 72 with value: 0.13653900286762524.\n",
      "[I 2023-06-10 22:10:50,774] Trial 86 finished with value: 0.13497793905098043 and parameters: {'n_estimators': 390, 'max_depth': 29, 'min_samples_split': 4, 'min_samples_leaf': 6}. Best is trial 72 with value: 0.13653900286762524.\n",
      "[I 2023-06-10 22:10:56,139] Trial 87 finished with value: 0.1294406600524735 and parameters: {'n_estimators': 446, 'max_depth': 16, 'min_samples_split': 5, 'min_samples_leaf': 7}. Best is trial 72 with value: 0.13653900286762524.\n",
      "[I 2023-06-10 22:11:06,070] Trial 88 finished with value: 0.1348227552328003 and parameters: {'n_estimators': 469, 'max_depth': 31, 'min_samples_split': 3, 'min_samples_leaf': 5}. Best is trial 72 with value: 0.13653900286762524.\n",
      "[I 2023-06-10 22:11:14,546] Trial 89 finished with value: 0.13481595621768028 and parameters: {'n_estimators': 443, 'max_depth': 28, 'min_samples_split': 6, 'min_samples_leaf': 6}. Best is trial 72 with value: 0.13653900286762524.\n",
      "[I 2023-06-10 22:11:19,993] Trial 90 finished with value: 0.13518394876633716 and parameters: {'n_estimators': 279, 'max_depth': 30, 'min_samples_split': 4, 'min_samples_leaf': 7}. Best is trial 72 with value: 0.13653900286762524.\n",
      "[I 2023-06-10 22:11:28,006] Trial 91 finished with value: 0.13566306187467397 and parameters: {'n_estimators': 394, 'max_depth': 30, 'min_samples_split': 4, 'min_samples_leaf': 6}. Best is trial 72 with value: 0.13653900286762524.\n",
      "[I 2023-06-10 22:11:36,409] Trial 92 finished with value: 0.1360858366834455 and parameters: {'n_estimators': 407, 'max_depth': 31, 'min_samples_split': 3, 'min_samples_leaf': 6}. Best is trial 72 with value: 0.13653900286762524.\n",
      "[I 2023-06-10 22:11:45,008] Trial 93 finished with value: 0.13499887714800737 and parameters: {'n_estimators': 431, 'max_depth': 31, 'min_samples_split': 3, 'min_samples_leaf': 7}. Best is trial 72 with value: 0.13653900286762524.\n",
      "[I 2023-06-10 22:11:53,612] Trial 94 finished with value: 0.1356497248021314 and parameters: {'n_estimators': 410, 'max_depth': 32, 'min_samples_split': 2, 'min_samples_leaf': 6}. Best is trial 72 with value: 0.13653900286762524.\n",
      "[I 2023-06-10 22:12:02,429] Trial 95 finished with value: 0.13454119439040024 and parameters: {'n_estimators': 421, 'max_depth': 31, 'min_samples_split': 3, 'min_samples_leaf': 5}. Best is trial 72 with value: 0.13653900286762524.\n",
      "[I 2023-06-10 22:12:08,901] Trial 96 finished with value: 0.12683515687526134 and parameters: {'n_estimators': 463, 'max_depth': 19, 'min_samples_split': 5, 'min_samples_leaf': 2}. Best is trial 72 with value: 0.13653900286762524.\n",
      "[I 2023-06-10 22:12:16,952] Trial 97 finished with value: 0.13581594849630269 and parameters: {'n_estimators': 406, 'max_depth': 30, 'min_samples_split': 3, 'min_samples_leaf': 6}. Best is trial 72 with value: 0.13653900286762524.\n",
      "[I 2023-06-10 22:12:24,826] Trial 98 finished with value: 0.13555229999653415 and parameters: {'n_estimators': 373, 'max_depth': 32, 'min_samples_split': 3, 'min_samples_leaf': 6}. Best is trial 72 with value: 0.13653900286762524.\n",
      "[I 2023-06-10 22:12:27,546] Trial 99 finished with value: 0.133426216666594 and parameters: {'n_estimators': 132, 'max_depth': 30, 'min_samples_split': 3, 'min_samples_leaf': 8}. Best is trial 72 with value: 0.13653900286762524.\n"
     ]
    }
   ],
   "source": [
    "def objective(trial):\n",
    "\n",
    "    n_estimators = trial.suggest_int('n_estimators', 100, 500)\n",
    "    max_depth = trial.suggest_int('max_depth', 2, 32)\n",
    "    min_samples_split = trial.suggest_int('min_samples_split', 2, 10)\n",
    "    min_samples_leaf = trial.suggest_int('min_samples_leaf', 1, 10)\n",
    "    regressor = RandomForestRegressor(n_estimators=n_estimators,\n",
    "                                      max_depth=max_depth,\n",
    "                                      min_samples_split=min_samples_split,\n",
    "                                      min_samples_leaf=min_samples_leaf,\n",
    "                                      n_jobs=-1)\n",
    "    \n",
    "    vect = TfidfVectorizer(ngram_range=(1,1), analyzer=\"word\", max_df=0.5, \n",
    "                           min_df=10, lowercase=True)\n",
    "    \n",
    "    pipe = Pipeline([('vect', vect), ('ref', regressor)])\n",
    "    scores = cross_val_score(pipe, \n",
    "                             train.text.values, \n",
    "                             train[[\"lat\", \"lon\"]].values,\n",
    "                             cv=5,\n",
    "                             n_jobs=-1)\n",
    "    return scores.mean()\n",
    "\n",
    "study = optuna.create_study(direction='maximize')\n",
    "study.optimize(objective, n_trials=100)"
   ]
  },
  {
   "cell_type": "code",
   "execution_count": 74,
   "metadata": {},
   "outputs": [
    {
     "name": "stdout",
     "output_type": "stream",
     "text": [
      "best value: 0.13653900286762524\n",
      "best trial: FrozenTrial(number=72, state=TrialState.COMPLETE, values=[0.13653900286762524], datetime_start=datetime.datetime(2023, 6, 10, 22, 8, 52, 380277), datetime_complete=datetime.datetime(2023, 6, 10, 22, 9, 0, 778527), params={'n_estimators': 401, 'max_depth': 32, 'min_samples_split': 3, 'min_samples_leaf': 6}, user_attrs={}, system_attrs={}, intermediate_values={}, distributions={'n_estimators': IntDistribution(high=500, log=False, low=100, step=1), 'max_depth': IntDistribution(high=32, log=False, low=2, step=1), 'min_samples_split': IntDistribution(high=10, log=False, low=2, step=1), 'min_samples_leaf': IntDistribution(high=10, log=False, low=1, step=1)}, trial_id=72, value=None)\n",
      "best params: {'n_estimators': 401, 'max_depth': 32, 'min_samples_split': 3, 'min_samples_leaf': 6}\n"
     ]
    }
   ],
   "source": [
    "print('best value:', study.best_value)\n",
    "print('best trial:', study.best_trial)\n",
    "best_params = study.best_trial.params\n",
    "print('best params:', best_params)"
   ]
  },
  {
   "cell_type": "code",
   "execution_count": 75,
   "metadata": {},
   "outputs": [
    {
     "data": {
      "text/plain": [
       "0.1805707960478662"
      ]
     },
     "execution_count": 75,
     "metadata": {},
     "output_type": "execute_result"
    }
   ],
   "source": [
    "regressor = RandomForestRegressor(**best_params)\n",
    "random_forest_pipe = Pipeline([('vect', vect), ('reg', regressor)])\n",
    "random_forest_pipe.fit(train.text.values, train[[\"lat\", \"lon\"]].values)\n",
    "score = random_forest_pipe.score(test.text.values, test[[\"lat\", \"lon\"]].values)\n",
    "score"
   ]
  },
  {
   "cell_type": "code",
   "execution_count": 76,
   "metadata": {},
   "outputs": [
    {
     "name": "stdout",
     "output_type": "stream",
     "text": [
      "1.3085710703221725 1.819149206643716\n",
      "2.7368178173562008 5.74370079356207\n"
     ]
    }
   ],
   "source": [
    "predicted_coords = random_forest_pipe.predict(test.text.values)\n",
    "\n",
    "mae_lat, mae_lon = (mean_absolute_error(test.lat.values, predicted_coords[:, 0]),\n",
    "                    mean_absolute_error(test.lon.values, predicted_coords[:, 1]))\n",
    "mse_lat, mse_lon = (mean_squared_error(test.lat.values, predicted_coords[:, 0]),\n",
    "                    mean_squared_error(test.lon.values, predicted_coords[:, 1]))\n",
    "\n",
    "optimization_results.append([\n",
    "    'RandomForestRegressor', \n",
    "    study.best_value, \n",
    "    score,\n",
    "    best_params,\n",
    "    mae_lat, \n",
    "    mae_lon,\n",
    "    mse_lat,\n",
    "    mse_lon\n",
    "])\n",
    "\n",
    "print(mae_lat, mae_lon)\n",
    "print(mse_lat, mse_lon)"
   ]
  },
  {
   "cell_type": "code",
   "execution_count": 77,
   "metadata": {},
   "outputs": [
    {
     "name": "stderr",
     "output_type": "stream",
     "text": [
      "[I 2023-06-10 22:12:46,059] A new study created in memory with name: no-name-15323155-ad27-43c9-9d84-4f9e24aa902c\n",
      "[I 2023-06-10 22:12:48,247] Trial 0 finished with value: 0.12545105235842913 and parameters: {'n_estimators': 425, 'max_depth': 15, 'min_samples_split': 8, 'min_samples_leaf': 3}. Best is trial 0 with value: 0.12545105235842913.\n",
      "[I 2023-06-10 22:12:50,336] Trial 1 finished with value: 0.12499617557088834 and parameters: {'n_estimators': 352, 'max_depth': 17, 'min_samples_split': 8, 'min_samples_leaf': 2}. Best is trial 0 with value: 0.12545105235842913.\n",
      "[I 2023-06-10 22:12:52,230] Trial 2 finished with value: 0.1281918897841264 and parameters: {'n_estimators': 376, 'max_depth': 15, 'min_samples_split': 7, 'min_samples_leaf': 7}. Best is trial 2 with value: 0.1281918897841264.\n",
      "[I 2023-06-10 22:12:55,655] Trial 3 finished with value: 0.1350051464312748 and parameters: {'n_estimators': 323, 'max_depth': 29, 'min_samples_split': 8, 'min_samples_leaf': 10}. Best is trial 3 with value: 0.1350051464312748.\n",
      "[I 2023-06-10 22:12:59,319] Trial 4 finished with value: 0.1320295514926304 and parameters: {'n_estimators': 495, 'max_depth': 21, 'min_samples_split': 4, 'min_samples_leaf': 9}. Best is trial 3 with value: 0.1350051464312748.\n",
      "[I 2023-06-10 22:13:03,002] Trial 5 finished with value: 0.1271023513789835 and parameters: {'n_estimators': 436, 'max_depth': 23, 'min_samples_split': 10, 'min_samples_leaf': 2}. Best is trial 3 with value: 0.1350051464312748.\n",
      "[I 2023-06-10 22:13:05,096] Trial 6 finished with value: 0.13197931259946483 and parameters: {'n_estimators': 163, 'max_depth': 32, 'min_samples_split': 8, 'min_samples_leaf': 4}. Best is trial 3 with value: 0.1350051464312748.\n",
      "[I 2023-06-10 22:13:05,527] Trial 7 finished with value: 0.09488577796193856 and parameters: {'n_estimators': 273, 'max_depth': 3, 'min_samples_split': 7, 'min_samples_leaf': 4}. Best is trial 3 with value: 0.1350051464312748.\n",
      "[I 2023-06-10 22:13:05,871] Trial 8 finished with value: 0.07864141222201408 and parameters: {'n_estimators': 255, 'max_depth': 2, 'min_samples_split': 7, 'min_samples_leaf': 2}. Best is trial 3 with value: 0.1350051464312748.\n",
      "[I 2023-06-10 22:13:07,142] Trial 9 finished with value: 0.12976701871333848 and parameters: {'n_estimators': 215, 'max_depth': 17, 'min_samples_split': 2, 'min_samples_leaf': 7}. Best is trial 3 with value: 0.1350051464312748.\n",
      "[I 2023-06-10 22:13:08,495] Trial 10 finished with value: 0.13542086076567425 and parameters: {'n_estimators': 111, 'max_depth': 32, 'min_samples_split': 10, 'min_samples_leaf': 10}. Best is trial 10 with value: 0.13542086076567425.\n",
      "[I 2023-06-10 22:13:09,745] Trial 11 finished with value: 0.13507182877953347 and parameters: {'n_estimators': 102, 'max_depth': 32, 'min_samples_split': 10, 'min_samples_leaf': 10}. Best is trial 10 with value: 0.13542086076567425.\n",
      "[I 2023-06-10 22:13:10,825] Trial 12 finished with value: 0.13451322631303486 and parameters: {'n_estimators': 103, 'max_depth': 27, 'min_samples_split': 10, 'min_samples_leaf': 8}. Best is trial 10 with value: 0.13542086076567425.\n",
      "[I 2023-06-10 22:13:12,069] Trial 13 finished with value: 0.13545227367220802 and parameters: {'n_estimators': 102, 'max_depth': 32, 'min_samples_split': 10, 'min_samples_leaf': 10}. Best is trial 13 with value: 0.13545227367220802.\n",
      "[I 2023-06-10 22:13:12,724] Trial 14 finished with value: 0.1208301479548632 and parameters: {'n_estimators': 173, 'max_depth': 10, 'min_samples_split': 4, 'min_samples_leaf': 6}. Best is trial 13 with value: 0.13545227367220802.\n",
      "[I 2023-06-10 22:13:14,311] Trial 15 finished with value: 0.1341122454660734 and parameters: {'n_estimators': 163, 'max_depth': 26, 'min_samples_split': 9, 'min_samples_leaf': 9}. Best is trial 13 with value: 0.13545227367220802.\n",
      "[I 2023-06-10 22:13:15,986] Trial 16 finished with value: 0.133195489356653 and parameters: {'n_estimators': 209, 'max_depth': 22, 'min_samples_split': 5, 'min_samples_leaf': 8}. Best is trial 13 with value: 0.13545227367220802.\n",
      "[I 2023-06-10 22:13:17,397] Trial 17 finished with value: 0.13448795062976449 and parameters: {'n_estimators': 134, 'max_depth': 28, 'min_samples_split': 9, 'min_samples_leaf': 10}. Best is trial 13 with value: 0.13545227367220802.\n",
      "[I 2023-06-10 22:13:20,149] Trial 18 finished with value: 0.13271965970554306 and parameters: {'n_estimators': 225, 'max_depth': 32, 'min_samples_split': 9, 'min_samples_leaf': 5}. Best is trial 13 with value: 0.13545227367220802.\n",
      "[I 2023-06-10 22:13:20,676] Trial 19 finished with value: 0.11885290325219167 and parameters: {'n_estimators': 144, 'max_depth': 9, 'min_samples_split': 6, 'min_samples_leaf': 9}. Best is trial 13 with value: 0.13545227367220802.\n",
      "[I 2023-06-10 22:13:23,199] Trial 20 finished with value: 0.13395173998971596 and parameters: {'n_estimators': 291, 'max_depth': 24, 'min_samples_split': 2, 'min_samples_leaf': 8}. Best is trial 13 with value: 0.13545227367220802.\n",
      "[I 2023-06-10 22:13:24,451] Trial 21 finished with value: 0.13569019094550236 and parameters: {'n_estimators': 109, 'max_depth': 30, 'min_samples_split': 10, 'min_samples_leaf': 10}. Best is trial 21 with value: 0.13569019094550236.\n",
      "[I 2023-06-10 22:13:25,589] Trial 22 finished with value: 0.1347054081017892 and parameters: {'n_estimators': 102, 'max_depth': 29, 'min_samples_split': 10, 'min_samples_leaf': 10}. Best is trial 21 with value: 0.13569019094550236.\n",
      "[I 2023-06-10 22:13:27,563] Trial 23 finished with value: 0.13482718968697144 and parameters: {'n_estimators': 183, 'max_depth': 29, 'min_samples_split': 9, 'min_samples_leaf': 9}. Best is trial 21 with value: 0.13569019094550236.\n",
      "[I 2023-06-10 22:13:28,834] Trial 24 finished with value: 0.13433009960327946 and parameters: {'n_estimators': 130, 'max_depth': 26, 'min_samples_split': 10, 'min_samples_leaf': 7}. Best is trial 21 with value: 0.13569019094550236.\n",
      "[I 2023-06-10 22:13:30,372] Trial 25 finished with value: 0.13546199778567933 and parameters: {'n_estimators': 132, 'max_depth': 31, 'min_samples_split': 9, 'min_samples_leaf': 10}. Best is trial 21 with value: 0.13569019094550236.\n",
      "[I 2023-06-10 22:13:31,770] Trial 26 finished with value: 0.1316367583573837 and parameters: {'n_estimators': 195, 'max_depth': 20, 'min_samples_split': 9, 'min_samples_leaf': 8}. Best is trial 21 with value: 0.13569019094550236.\n",
      "[I 2023-06-10 22:13:33,353] Trial 27 finished with value: 0.13514088590210438 and parameters: {'n_estimators': 140, 'max_depth': 30, 'min_samples_split': 9, 'min_samples_leaf': 9}. Best is trial 21 with value: 0.13569019094550236.\n",
      "[I 2023-06-10 22:13:35,440] Trial 28 finished with value: 0.133394679141219 and parameters: {'n_estimators': 236, 'max_depth': 24, 'min_samples_split': 6, 'min_samples_leaf': 6}. Best is trial 21 with value: 0.13569019094550236.\n",
      "[I 2023-06-10 22:13:36,379] Trial 29 finished with value: 0.12113575888093689 and parameters: {'n_estimators': 131, 'max_depth': 19, 'min_samples_split': 8, 'min_samples_leaf': 1}. Best is trial 21 with value: 0.13569019094550236.\n",
      "[I 2023-06-10 22:13:38,115] Trial 30 finished with value: 0.1338636655881489 and parameters: {'n_estimators': 185, 'max_depth': 25, 'min_samples_split': 8, 'min_samples_leaf': 10}. Best is trial 21 with value: 0.13569019094550236.\n",
      "[I 2023-06-10 22:13:39,324] Trial 31 finished with value: 0.13557749007017195 and parameters: {'n_estimators': 101, 'max_depth': 31, 'min_samples_split': 10, 'min_samples_leaf': 10}. Best is trial 21 with value: 0.13569019094550236.\n",
      "[I 2023-06-10 22:13:41,063] Trial 32 finished with value: 0.13536600657832343 and parameters: {'n_estimators': 154, 'max_depth': 30, 'min_samples_split': 10, 'min_samples_leaf': 9}. Best is trial 21 with value: 0.13569019094550236.\n",
      "[I 2023-06-10 22:13:42,536] Trial 33 finished with value: 0.13494598630635873 and parameters: {'n_estimators': 129, 'max_depth': 30, 'min_samples_split': 9, 'min_samples_leaf': 10}. Best is trial 21 with value: 0.13569019094550236.\n",
      "[I 2023-06-10 22:13:43,769] Trial 34 finished with value: 0.13424857548408461 and parameters: {'n_estimators': 119, 'max_depth': 27, 'min_samples_split': 10, 'min_samples_leaf': 9}. Best is trial 21 with value: 0.13569019094550236.\n",
      "[I 2023-06-10 22:13:47,728] Trial 35 finished with value: 0.13564656612243703 and parameters: {'n_estimators': 343, 'max_depth': 31, 'min_samples_split': 9, 'min_samples_leaf': 8}. Best is trial 21 with value: 0.13569019094550236.\n"
     ]
    },
    {
     "name": "stderr",
     "output_type": "stream",
     "text": [
      "[I 2023-06-10 22:13:49,192] Trial 36 finished with value: 0.12413577341600882 and parameters: {'n_estimators': 348, 'max_depth': 12, 'min_samples_split': 7, 'min_samples_leaf': 7}. Best is trial 21 with value: 0.13569019094550236.\n",
      "[I 2023-06-10 22:13:53,186] Trial 37 finished with value: 0.13498031653379589 and parameters: {'n_estimators': 389, 'max_depth': 28, 'min_samples_split': 8, 'min_samples_leaf': 8}. Best is trial 21 with value: 0.13569019094550236.\n",
      "[I 2023-06-10 22:13:56,729] Trial 38 finished with value: 0.13487459615148384 and parameters: {'n_estimators': 321, 'max_depth': 30, 'min_samples_split': 8, 'min_samples_leaf': 9}. Best is trial 21 with value: 0.13569019094550236.\n",
      "[I 2023-06-10 22:14:01,401] Trial 39 finished with value: 0.13547192273246203 and parameters: {'n_estimators': 413, 'max_depth': 31, 'min_samples_split': 9, 'min_samples_leaf': 10}. Best is trial 21 with value: 0.13569019094550236.\n",
      "[I 2023-06-10 22:14:05,948] Trial 40 finished with value: 0.13521530817971766 and parameters: {'n_estimators': 447, 'max_depth': 28, 'min_samples_split': 8, 'min_samples_leaf': 8}. Best is trial 21 with value: 0.13569019094550236.\n",
      "[I 2023-06-10 22:14:10,530] Trial 41 finished with value: 0.1352674855714781 and parameters: {'n_estimators': 404, 'max_depth': 31, 'min_samples_split': 9, 'min_samples_leaf': 10}. Best is trial 21 with value: 0.13569019094550236.\n",
      "[I 2023-06-10 22:14:15,643] Trial 42 finished with value: 0.13543055845501056 and parameters: {'n_estimators': 449, 'max_depth': 31, 'min_samples_split': 9, 'min_samples_leaf': 10}. Best is trial 21 with value: 0.13569019094550236.\n",
      "[I 2023-06-10 22:14:20,183] Trial 43 finished with value: 0.13392026177809532 and parameters: {'n_estimators': 479, 'max_depth': 26, 'min_samples_split': 10, 'min_samples_leaf': 9}. Best is trial 21 with value: 0.13569019094550236.\n",
      "[I 2023-06-10 22:14:21,960] Trial 44 finished with value: 0.12771446860563324 and parameters: {'n_estimators': 342, 'max_depth': 15, 'min_samples_split': 7, 'min_samples_leaf': 10}. Best is trial 21 with value: 0.13569019094550236.\n",
      "[I 2023-06-10 22:14:26,399] Trial 45 finished with value: 0.12999222275679717 and parameters: {'n_estimators': 371, 'max_depth': 31, 'min_samples_split': 9, 'min_samples_leaf': 3}. Best is trial 21 with value: 0.13569019094550236.\n",
      "[I 2023-06-10 22:14:29,856] Trial 46 finished with value: 0.134786529989847 and parameters: {'n_estimators': 323, 'max_depth': 29, 'min_samples_split': 10, 'min_samples_leaf': 9}. Best is trial 21 with value: 0.13569019094550236.\n",
      "[I 2023-06-10 22:14:30,710] Trial 47 finished with value: 0.11007289011625847 and parameters: {'n_estimators': 412, 'max_depth': 5, 'min_samples_split': 3, 'min_samples_leaf': 10}. Best is trial 21 with value: 0.13569019094550236.\n",
      "[I 2023-06-10 22:14:33,653] Trial 48 finished with value: 0.13461611250347855 and parameters: {'n_estimators': 297, 'max_depth': 27, 'min_samples_split': 10, 'min_samples_leaf': 7}. Best is trial 21 with value: 0.13569019094550236.\n",
      "[I 2023-06-10 22:14:38,088] Trial 49 finished with value: 0.13576576717400857 and parameters: {'n_estimators': 380, 'max_depth': 32, 'min_samples_split': 6, 'min_samples_leaf': 10}. Best is trial 49 with value: 0.13576576717400857.\n",
      "[I 2023-06-10 22:14:42,797] Trial 50 finished with value: 0.13271684723258728 and parameters: {'n_estimators': 387, 'max_depth': 32, 'min_samples_split': 6, 'min_samples_leaf': 5}. Best is trial 49 with value: 0.13576576717400857.\n",
      "[I 2023-06-10 22:14:46,962] Trial 51 finished with value: 0.1350899052513045 and parameters: {'n_estimators': 367, 'max_depth': 31, 'min_samples_split': 5, 'min_samples_leaf': 10}. Best is trial 49 with value: 0.13576576717400857.\n",
      "[I 2023-06-10 22:14:51,378] Trial 52 finished with value: 0.13473967685439314 and parameters: {'n_estimators': 417, 'max_depth': 29, 'min_samples_split': 5, 'min_samples_leaf': 9}. Best is trial 49 with value: 0.13576576717400857.\n",
      "[I 2023-06-10 22:14:56,429] Trial 53 finished with value: 0.1357284384259278 and parameters: {'n_estimators': 433, 'max_depth': 32, 'min_samples_split': 7, 'min_samples_leaf': 10}. Best is trial 49 with value: 0.13576576717400857.\n",
      "[I 2023-06-10 22:15:01,485] Trial 54 finished with value: 0.13581196591131123 and parameters: {'n_estimators': 430, 'max_depth': 32, 'min_samples_split': 7, 'min_samples_leaf': 8}. Best is trial 54 with value: 0.13581196591131123.\n",
      "[I 2023-06-10 22:15:07,021] Trial 55 finished with value: 0.13591936481208586 and parameters: {'n_estimators': 468, 'max_depth': 32, 'min_samples_split': 6, 'min_samples_leaf': 8}. Best is trial 55 with value: 0.13591936481208586.\n",
      "[I 2023-06-10 22:15:12,857] Trial 56 finished with value: 0.13493002806103221 and parameters: {'n_estimators': 480, 'max_depth': 32, 'min_samples_split': 6, 'min_samples_leaf': 6}. Best is trial 55 with value: 0.13591936481208586.\n",
      "[I 2023-06-10 22:15:17,248] Trial 57 finished with value: 0.1352954838116418 and parameters: {'n_estimators': 429, 'max_depth': 28, 'min_samples_split': 7, 'min_samples_leaf': 8}. Best is trial 55 with value: 0.13591936481208586.\n",
      "[I 2023-06-10 22:15:22,794] Trial 58 finished with value: 0.13557603500808885 and parameters: {'n_estimators': 467, 'max_depth': 32, 'min_samples_split': 7, 'min_samples_leaf': 7}. Best is trial 55 with value: 0.13591936481208586.\n",
      "[I 2023-06-10 22:15:27,730] Trial 59 finished with value: 0.13537332004640448 and parameters: {'n_estimators': 448, 'max_depth': 30, 'min_samples_split': 5, 'min_samples_leaf': 8}. Best is trial 55 with value: 0.13591936481208586.\n",
      "[I 2023-06-10 22:15:30,829] Trial 60 finished with value: 0.133190307196119 and parameters: {'n_estimators': 397, 'max_depth': 22, 'min_samples_split': 6, 'min_samples_leaf': 7}. Best is trial 55 with value: 0.13591936481208586.\n",
      "[I 2023-06-10 22:15:36,639] Trial 61 finished with value: 0.13548219786783955 and parameters: {'n_estimators': 495, 'max_depth': 32, 'min_samples_split': 4, 'min_samples_leaf': 9}. Best is trial 55 with value: 0.13591936481208586.\n",
      "[I 2023-06-10 22:15:39,601] Trial 62 finished with value: 0.1347608862140609 and parameters: {'n_estimators': 273, 'max_depth': 29, 'min_samples_split': 6, 'min_samples_leaf': 9}. Best is trial 55 with value: 0.13591936481208586.\n",
      "[I 2023-06-10 22:15:44,330] Trial 63 finished with value: 0.13548011985242275 and parameters: {'n_estimators': 429, 'max_depth': 30, 'min_samples_split': 7, 'min_samples_leaf': 8}. Best is trial 55 with value: 0.13591936481208586.\n",
      "[I 2023-06-10 22:15:50,004] Trial 64 finished with value: 0.13301480105933475 and parameters: {'n_estimators': 465, 'max_depth': 32, 'min_samples_split': 5, 'min_samples_leaf': 5}. Best is trial 55 with value: 0.13591936481208586.\n",
      "[I 2023-06-10 22:15:53,728] Trial 65 finished with value: 0.13261174926409497 and parameters: {'n_estimators': 363, 'max_depth': 27, 'min_samples_split': 7, 'min_samples_leaf': 4}. Best is trial 55 with value: 0.13591936481208586.\n",
      "[I 2023-06-10 22:15:58,864] Trial 66 finished with value: 0.13487904273115298 and parameters: {'n_estimators': 461, 'max_depth': 30, 'min_samples_split': 6, 'min_samples_leaf': 6}. Best is trial 55 with value: 0.13591936481208586.\n",
      "[I 2023-06-10 22:16:02,375] Trial 67 finished with value: 0.13387303806504391 and parameters: {'n_estimators': 384, 'max_depth': 25, 'min_samples_split': 7, 'min_samples_leaf': 10}. Best is trial 55 with value: 0.13591936481208586.\n",
      "[I 2023-06-10 22:16:05,766] Trial 68 finished with value: 0.13472068054726657 and parameters: {'n_estimators': 329, 'max_depth': 28, 'min_samples_split': 6, 'min_samples_leaf': 9}. Best is trial 55 with value: 0.13591936481208586.\n",
      "[I 2023-06-10 22:16:11,458] Trial 69 finished with value: 0.13519800410465393 and parameters: {'n_estimators': 500, 'max_depth': 31, 'min_samples_split': 10, 'min_samples_leaf': 9}. Best is trial 55 with value: 0.13591936481208586.\n",
      "[I 2023-06-10 22:16:14,815] Trial 70 finished with value: 0.13579511865795596 and parameters: {'n_estimators': 313, 'max_depth': 29, 'min_samples_split': 8, 'min_samples_leaf': 8}. Best is trial 55 with value: 0.13591936481208586.\n",
      "[I 2023-06-10 22:16:18,127] Trial 71 finished with value: 0.13528337111294003 and parameters: {'n_estimators': 309, 'max_depth': 29, 'min_samples_split': 8, 'min_samples_leaf': 8}. Best is trial 55 with value: 0.13591936481208586.\n"
     ]
    },
    {
     "name": "stderr",
     "output_type": "stream",
     "text": [
      "[I 2023-06-10 22:16:22,054] Trial 72 finished with value: 0.13562504804746472 and parameters: {'n_estimators': 341, 'max_depth': 31, 'min_samples_split': 8, 'min_samples_leaf': 7}. Best is trial 55 with value: 0.13591936481208586.\n",
      "[I 2023-06-10 22:16:25,389] Trial 73 finished with value: 0.1357013970417768 and parameters: {'n_estimators': 279, 'max_depth': 32, 'min_samples_split': 8, 'min_samples_leaf': 7}. Best is trial 55 with value: 0.13591936481208586.\n",
      "[I 2023-06-10 22:16:28,752] Trial 74 finished with value: 0.13588612916400572 and parameters: {'n_estimators': 283, 'max_depth': 32, 'min_samples_split': 7, 'min_samples_leaf': 8}. Best is trial 55 with value: 0.13591936481208586.\n",
      "[I 2023-06-10 22:16:31,710] Trial 75 finished with value: 0.13598711369457192 and parameters: {'n_estimators': 243, 'max_depth': 32, 'min_samples_split': 7, 'min_samples_leaf': 7}. Best is trial 75 with value: 0.13598711369457192.\n",
      "[I 2023-06-10 22:16:34,731] Trial 76 finished with value: 0.13539237910772592 and parameters: {'n_estimators': 253, 'max_depth': 32, 'min_samples_split': 7, 'min_samples_leaf': 7}. Best is trial 75 with value: 0.13598711369457192.\n",
      "[I 2023-06-10 22:16:37,970] Trial 77 finished with value: 0.13492487845377593 and parameters: {'n_estimators': 265, 'max_depth': 32, 'min_samples_split': 7, 'min_samples_leaf': 6}. Best is trial 75 with value: 0.13598711369457192.\n",
      "[I 2023-06-10 22:16:39,768] Trial 78 finished with value: 0.13054265073196242 and parameters: {'n_estimators': 285, 'max_depth': 18, 'min_samples_split': 8, 'min_samples_leaf': 7}. Best is trial 75 with value: 0.13598711369457192.\n",
      "[I 2023-06-10 22:16:42,240] Trial 79 finished with value: 0.13516744378330303 and parameters: {'n_estimators': 230, 'max_depth': 29, 'min_samples_split': 7, 'min_samples_leaf': 8}. Best is trial 75 with value: 0.13598711369457192.\n",
      "[I 2023-06-10 22:16:44,977] Trial 80 finished with value: 0.13539791383636582 and parameters: {'n_estimators': 244, 'max_depth': 30, 'min_samples_split': 6, 'min_samples_leaf': 8}. Best is trial 75 with value: 0.13598711369457192.\n",
      "[I 2023-06-10 22:16:48,123] Trial 81 finished with value: 0.13537601199167484 and parameters: {'n_estimators': 282, 'max_depth': 30, 'min_samples_split': 8, 'min_samples_leaf': 8}. Best is trial 75 with value: 0.13598711369457192.\n",
      "[I 2023-06-10 22:16:51,861] Trial 82 finished with value: 0.13487303257708558 and parameters: {'n_estimators': 310, 'max_depth': 32, 'min_samples_split': 7, 'min_samples_leaf': 6}. Best is trial 75 with value: 0.13598711369457192.\n",
      "[I 2023-06-10 22:16:56,863] Trial 83 finished with value: 0.13521299085861815 and parameters: {'n_estimators': 437, 'max_depth': 31, 'min_samples_split': 7, 'min_samples_leaf': 7}. Best is trial 75 with value: 0.13598711369457192.\n",
      "[I 2023-06-10 22:17:00,557] Trial 84 finished with value: 0.13515099718932816 and parameters: {'n_estimators': 358, 'max_depth': 28, 'min_samples_split': 6, 'min_samples_leaf': 8}. Best is trial 75 with value: 0.13598711369457192.\n",
      "[I 2023-06-10 22:17:02,842] Trial 85 finished with value: 0.1351617165863253 and parameters: {'n_estimators': 205, 'max_depth': 30, 'min_samples_split': 8, 'min_samples_leaf': 9}. Best is trial 75 with value: 0.13598711369457192.\n",
      "[I 2023-06-10 22:17:05,632] Trial 86 finished with value: 0.13492786356793882 and parameters: {'n_estimators': 260, 'max_depth': 29, 'min_samples_split': 6, 'min_samples_leaf': 7}. Best is trial 75 with value: 0.13598711369457192.\n",
      "[I 2023-06-10 22:17:08,897] Trial 87 finished with value: 0.1358454444676295 and parameters: {'n_estimators': 271, 'max_depth': 32, 'min_samples_split': 7, 'min_samples_leaf': 8}. Best is trial 75 with value: 0.13598711369457192.\n",
      "[I 2023-06-10 22:17:11,851] Trial 88 finished with value: 0.13552221409953197 and parameters: {'n_estimators': 247, 'max_depth': 32, 'min_samples_split': 7, 'min_samples_leaf': 7}. Best is trial 75 with value: 0.13598711369457192.\n",
      "[I 2023-06-10 22:17:15,025] Trial 89 finished with value: 0.1353622990850249 and parameters: {'n_estimators': 276, 'max_depth': 31, 'min_samples_split': 8, 'min_samples_leaf': 8}. Best is trial 75 with value: 0.13598711369457192.\n",
      "[I 2023-06-10 22:17:18,552] Trial 90 finished with value: 0.1359189179357009 and parameters: {'n_estimators': 294, 'max_depth': 32, 'min_samples_split': 7, 'min_samples_leaf': 8}. Best is trial 75 with value: 0.13598711369457192.\n",
      "[I 2023-06-10 22:17:22,142] Trial 91 finished with value: 0.1361460389661183 and parameters: {'n_estimators': 300, 'max_depth': 32, 'min_samples_split': 7, 'min_samples_leaf': 8}. Best is trial 91 with value: 0.1361460389661183.\n",
      "[I 2023-06-10 22:17:25,639] Trial 92 finished with value: 0.13579327351609272 and parameters: {'n_estimators': 302, 'max_depth': 31, 'min_samples_split': 7, 'min_samples_leaf': 8}. Best is trial 91 with value: 0.1361460389661183.\n",
      "[I 2023-06-10 22:17:29,193] Trial 93 finished with value: 0.13566915152418463 and parameters: {'n_estimators': 308, 'max_depth': 31, 'min_samples_split': 7, 'min_samples_leaf': 8}. Best is trial 91 with value: 0.1361460389661183.\n",
      "[I 2023-06-10 22:17:32,543] Trial 94 finished with value: 0.13516579577383991 and parameters: {'n_estimators': 302, 'max_depth': 30, 'min_samples_split': 6, 'min_samples_leaf': 8}. Best is trial 91 with value: 0.1361460389661183.\n",
      "[I 2023-06-10 22:17:35,854] Trial 95 finished with value: 0.13565203181777624 and parameters: {'n_estimators': 289, 'max_depth': 31, 'min_samples_split': 7, 'min_samples_leaf': 8}. Best is trial 91 with value: 0.1361460389661183.\n",
      "[I 2023-06-10 22:17:39,013] Trial 96 finished with value: 0.13530872970347313 and parameters: {'n_estimators': 296, 'max_depth': 29, 'min_samples_split': 6, 'min_samples_leaf': 8}. Best is trial 91 with value: 0.1361460389661183.\n",
      "[I 2023-06-10 22:17:40,126] Trial 97 finished with value: 0.12409156161176489 and parameters: {'n_estimators': 267, 'max_depth': 12, 'min_samples_split': 7, 'min_samples_leaf': 8}. Best is trial 91 with value: 0.1361460389661183.\n",
      "[I 2023-06-10 22:17:43,908] Trial 98 finished with value: 0.13489722110603183 and parameters: {'n_estimators': 332, 'max_depth': 31, 'min_samples_split': 6, 'min_samples_leaf': 9}. Best is trial 91 with value: 0.1361460389661183.\n",
      "[I 2023-06-10 22:17:47,643] Trial 99 finished with value: 0.13577633539617415 and parameters: {'n_estimators': 313, 'max_depth': 32, 'min_samples_split': 7, 'min_samples_leaf': 8}. Best is trial 91 with value: 0.1361460389661183.\n"
     ]
    }
   ],
   "source": [
    "from sklearn.ensemble import ExtraTreesRegressor\n",
    "\n",
    "def objective(trial):\n",
    "\n",
    "    n_estimators = trial.suggest_int('n_estimators', 100, 500)\n",
    "    max_depth = trial.suggest_int('max_depth', 2, 32)\n",
    "    min_samples_split = trial.suggest_int('min_samples_split', 2, 10)\n",
    "    min_samples_leaf = trial.suggest_int('min_samples_leaf', 1, 10)\n",
    "    regressor = ExtraTreesRegressor(n_estimators=n_estimators,\n",
    "                                    max_depth=max_depth,\n",
    "                                    min_samples_split=min_samples_split,\n",
    "                                    min_samples_leaf=min_samples_leaf,\n",
    "                                    n_jobs=-1)\n",
    "    \n",
    "    vect = TfidfVectorizer(ngram_range=(1,1), analyzer=\"word\", max_df=0.5, \n",
    "                           min_df=10, lowercase=True)\n",
    "    \n",
    "    pipe = Pipeline([('vect', vect), ('ref', regressor)])\n",
    "    scores = cross_val_score(pipe, \n",
    "                             train.text.values, \n",
    "                             train[[\"lat\", \"lon\"]].values,\n",
    "                             cv=5,\n",
    "                             n_jobs=-1)\n",
    "    return scores.mean()\n",
    "\n",
    "study = optuna.create_study(direction='maximize')\n",
    "study.optimize(objective, n_trials=100)"
   ]
  },
  {
   "cell_type": "code",
   "execution_count": 78,
   "metadata": {},
   "outputs": [
    {
     "name": "stdout",
     "output_type": "stream",
     "text": [
      "best value: 0.1361460389661183\n",
      "best trial: FrozenTrial(number=91, state=TrialState.COMPLETE, values=[0.1361460389661183], datetime_start=datetime.datetime(2023, 6, 10, 22, 17, 18, 553074), datetime_complete=datetime.datetime(2023, 6, 10, 22, 17, 22, 142700), params={'n_estimators': 300, 'max_depth': 32, 'min_samples_split': 7, 'min_samples_leaf': 8}, user_attrs={}, system_attrs={}, intermediate_values={}, distributions={'n_estimators': IntDistribution(high=500, log=False, low=100, step=1), 'max_depth': IntDistribution(high=32, log=False, low=2, step=1), 'min_samples_split': IntDistribution(high=10, log=False, low=2, step=1), 'min_samples_leaf': IntDistribution(high=10, log=False, low=1, step=1)}, trial_id=91, value=None)\n",
      "best params: {'n_estimators': 300, 'max_depth': 32, 'min_samples_split': 7, 'min_samples_leaf': 8}\n"
     ]
    }
   ],
   "source": [
    "print('best value:', study.best_value)\n",
    "print('best trial:', study.best_trial)\n",
    "best_params = study.best_trial.params\n",
    "print('best params:', best_params)"
   ]
  },
  {
   "cell_type": "code",
   "execution_count": 79,
   "metadata": {},
   "outputs": [
    {
     "data": {
      "text/plain": [
       "0.1761086258368953"
      ]
     },
     "execution_count": 79,
     "metadata": {},
     "output_type": "execute_result"
    }
   ],
   "source": [
    "regressor = ExtraTreesRegressor(**best_params)\n",
    "extra_trees_pipe = Pipeline([('vect', vect), ('reg', regressor)])\n",
    "extra_trees_pipe.fit(train.text.values, train[[\"lat\", \"lon\"]].values)\n",
    "score = extra_trees_pipe.score(test.text.values, test[[\"lat\", \"lon\"]].values)\n",
    "score"
   ]
  },
  {
   "cell_type": "code",
   "execution_count": 80,
   "metadata": {},
   "outputs": [
    {
     "name": "stdout",
     "output_type": "stream",
     "text": [
      "1.313757871369199 1.8251242328989503\n",
      "2.7513312697394063 5.775948919859913\n"
     ]
    }
   ],
   "source": [
    "predicted_coords = extra_trees_pipe.predict(test.text.values)\n",
    "\n",
    "mae_lat, mae_lon = (mean_absolute_error(test.lat.values, predicted_coords[:, 0]),\n",
    "                    mean_absolute_error(test.lon.values, predicted_coords[:, 1]))\n",
    "mse_lat, mse_lon = (mean_squared_error(test.lat.values, predicted_coords[:, 0]),\n",
    "                    mean_squared_error(test.lon.values, predicted_coords[:, 1]))\n",
    "\n",
    "optimization_results.append([\n",
    "    'ExtraTreesRegressor', \n",
    "    study.best_value, \n",
    "    score,\n",
    "    best_params,\n",
    "    mae_lat, \n",
    "    mae_lon,\n",
    "    mse_lat,\n",
    "    mse_lon\n",
    "])\n",
    "\n",
    "print(mae_lat, mae_lon)\n",
    "print(mse_lat, mse_lon)"
   ]
  },
  {
   "cell_type": "code",
   "execution_count": 81,
   "metadata": {},
   "outputs": [
    {
     "data": {
      "text/html": [
       "<div>\n",
       "<style scoped>\n",
       "    .dataframe tbody tr th:only-of-type {\n",
       "        vertical-align: middle;\n",
       "    }\n",
       "\n",
       "    .dataframe tbody tr th {\n",
       "        vertical-align: top;\n",
       "    }\n",
       "\n",
       "    .dataframe thead th {\n",
       "        text-align: right;\n",
       "    }\n",
       "</style>\n",
       "<table border=\"1\" class=\"dataframe\">\n",
       "  <thead>\n",
       "    <tr style=\"text-align: right;\">\n",
       "      <th></th>\n",
       "      <th>regressor</th>\n",
       "      <th>cv_score</th>\n",
       "      <th>test_score</th>\n",
       "      <th>best_params</th>\n",
       "      <th>mae_lat</th>\n",
       "      <th>mae_lon</th>\n",
       "      <th>mse_lat</th>\n",
       "      <th>mse_lon</th>\n",
       "    </tr>\n",
       "  </thead>\n",
       "  <tbody>\n",
       "    <tr>\n",
       "      <th>0</th>\n",
       "      <td>LinearRegression</td>\n",
       "      <td>0.121571</td>\n",
       "      <td>0.197219</td>\n",
       "      <td>None</td>\n",
       "      <td>1.305270</td>\n",
       "      <td>1.822747</td>\n",
       "      <td>2.704765</td>\n",
       "      <td>5.568338</td>\n",
       "    </tr>\n",
       "    <tr>\n",
       "      <th>1</th>\n",
       "      <td>ElasticNet</td>\n",
       "      <td>0.151681</td>\n",
       "      <td>0.213147</td>\n",
       "      <td>{'alpha': 0.0006167913176584872, 'l1_ratio': 0...</td>\n",
       "      <td>1.292757</td>\n",
       "      <td>1.803654</td>\n",
       "      <td>2.627468</td>\n",
       "      <td>5.516733</td>\n",
       "    </tr>\n",
       "    <tr>\n",
       "      <th>2</th>\n",
       "      <td>KNeighborsRegressor</td>\n",
       "      <td>0.062089</td>\n",
       "      <td>0.092556</td>\n",
       "      <td>{'n_neighbors': 22, 'weights': 'uniform', 'p': 2}</td>\n",
       "      <td>1.376753</td>\n",
       "      <td>1.956763</td>\n",
       "      <td>2.964530</td>\n",
       "      <td>6.525672</td>\n",
       "    </tr>\n",
       "    <tr>\n",
       "      <th>3</th>\n",
       "      <td>RandomForestRegressor</td>\n",
       "      <td>0.136539</td>\n",
       "      <td>0.180571</td>\n",
       "      <td>{'n_estimators': 401, 'max_depth': 32, 'min_sa...</td>\n",
       "      <td>1.308571</td>\n",
       "      <td>1.819149</td>\n",
       "      <td>2.736818</td>\n",
       "      <td>5.743701</td>\n",
       "    </tr>\n",
       "    <tr>\n",
       "      <th>4</th>\n",
       "      <td>ExtraTreesRegressor</td>\n",
       "      <td>0.136146</td>\n",
       "      <td>0.176109</td>\n",
       "      <td>{'n_estimators': 300, 'max_depth': 32, 'min_sa...</td>\n",
       "      <td>1.313758</td>\n",
       "      <td>1.825124</td>\n",
       "      <td>2.751331</td>\n",
       "      <td>5.775949</td>\n",
       "    </tr>\n",
       "  </tbody>\n",
       "</table>\n",
       "</div>"
      ],
      "text/plain": [
       "               regressor  cv_score  test_score  \\\n",
       "0       LinearRegression  0.121571    0.197219   \n",
       "1             ElasticNet  0.151681    0.213147   \n",
       "2    KNeighborsRegressor  0.062089    0.092556   \n",
       "3  RandomForestRegressor  0.136539    0.180571   \n",
       "4    ExtraTreesRegressor  0.136146    0.176109   \n",
       "\n",
       "                                         best_params   mae_lat   mae_lon  \\\n",
       "0                                               None  1.305270  1.822747   \n",
       "1  {'alpha': 0.0006167913176584872, 'l1_ratio': 0...  1.292757  1.803654   \n",
       "2  {'n_neighbors': 22, 'weights': 'uniform', 'p': 2}  1.376753  1.956763   \n",
       "3  {'n_estimators': 401, 'max_depth': 32, 'min_sa...  1.308571  1.819149   \n",
       "4  {'n_estimators': 300, 'max_depth': 32, 'min_sa...  1.313758  1.825124   \n",
       "\n",
       "    mse_lat   mse_lon  \n",
       "0  2.704765  5.568338  \n",
       "1  2.627468  5.516733  \n",
       "2  2.964530  6.525672  \n",
       "3  2.736818  5.743701  \n",
       "4  2.751331  5.775949  "
      ]
     },
     "execution_count": 81,
     "metadata": {},
     "output_type": "execute_result"
    }
   ],
   "source": [
    "columns = [\n",
    "    'regressor',\n",
    "    'cv_score',\n",
    "    'test_score',\n",
    "    'best_params',\n",
    "    'mae_lat', \n",
    "    'mae_lon',\n",
    "    'mse_lat',\n",
    "    'mse_lon'\n",
    "]\n",
    "\n",
    "optimization_results_df = pd.DataFrame(optimization_results, columns=columns)\n",
    "optimization_results_df"
   ]
  },
  {
   "cell_type": "markdown",
   "metadata": {},
   "source": [
    "* Having arrived at this point, it is worth pointing out that the $\\alpha$ parameter of `ElasticNet` is very small:"
   ]
  },
  {
   "cell_type": "code",
   "execution_count": 86,
   "metadata": {},
   "outputs": [
    {
     "data": {
      "text/plain": [
       "1    {'alpha': 0.0006167913176584872, 'l1_ratio': 0...\n",
       "Name: best_params, dtype: object"
      ]
     },
     "execution_count": 86,
     "metadata": {},
     "output_type": "execute_result"
    }
   ],
   "source": [
    "optimization_results_df[optimization_results_df.regressor == 'ElasticNet']['best_params']"
   ]
  },
  {
   "cell_type": "markdown",
   "metadata": {},
   "source": [
    "* That means that in practice `ElasticNet` behaves pretty much like Ordinary Least Squares regression."
   ]
  },
  {
   "cell_type": "markdown",
   "metadata": {
    "id": "waS2eGdcgrN-"
   },
   "source": [
    "## Finding terms pushing North, South, West, and East"
   ]
  },
  {
   "cell_type": "code",
   "execution_count": 87,
   "metadata": {
    "id": "gUkvoPTTgn7L"
   },
   "outputs": [],
   "source": [
    "importance_pd = pd.DataFrame({\"feature\": elastic_net_pipe[\"vect\"].get_feature_names_out(), \n",
    "                              \"lat\": elastic_net_pipe[\"reg\"].coef_[0, :],\n",
    "                              \"lon\": elastic_net_pipe[\"reg\"].coef_[1, :]})"
   ]
  },
  {
   "cell_type": "markdown",
   "metadata": {
    "id": "arRsBHqOi3Z9"
   },
   "source": [
    "### Words pushing $\\uparrow$ North: higher lat"
   ]
  },
  {
   "cell_type": "code",
   "execution_count": 88,
   "metadata": {
    "colab": {
     "base_uri": "https://localhost:8080/",
     "height": 206
    },
    "id": "UaPRsIgOgyw4",
    "outputId": "d3934ff2-82ae-46a3-e015-d27386f4b946"
   },
   "outputs": [
    {
     "data": {
      "text/html": [
       "<div>\n",
       "<style scoped>\n",
       "    .dataframe tbody tr th:only-of-type {\n",
       "        vertical-align: middle;\n",
       "    }\n",
       "\n",
       "    .dataframe tbody tr th {\n",
       "        vertical-align: top;\n",
       "    }\n",
       "\n",
       "    .dataframe thead th {\n",
       "        text-align: right;\n",
       "    }\n",
       "</style>\n",
       "<table border=\"1\" class=\"dataframe\">\n",
       "  <thead>\n",
       "    <tr style=\"text-align: right;\">\n",
       "      <th></th>\n",
       "      <th>feature</th>\n",
       "      <th>lat</th>\n",
       "      <th>lon</th>\n",
       "    </tr>\n",
       "  </thead>\n",
       "  <tbody>\n",
       "    <tr>\n",
       "      <th>692</th>\n",
       "      <td>τρώγει</td>\n",
       "      <td>2.069563</td>\n",
       "      <td>0.000000</td>\n",
       "    </tr>\n",
       "    <tr>\n",
       "      <th>552</th>\n",
       "      <td>πε</td>\n",
       "      <td>1.744839</td>\n",
       "      <td>0.852717</td>\n",
       "    </tr>\n",
       "    <tr>\n",
       "      <th>96</th>\n",
       "      <td>ατ</td>\n",
       "      <td>1.657772</td>\n",
       "      <td>-0.407796</td>\n",
       "    </tr>\n",
       "    <tr>\n",
       "      <th>40</th>\n",
       "      <td>έφαγε</td>\n",
       "      <td>1.567535</td>\n",
       "      <td>0.061738</td>\n",
       "    </tr>\n",
       "    <tr>\n",
       "      <th>630</th>\n",
       "      <td>σο</td>\n",
       "      <td>1.470295</td>\n",
       "      <td>-0.322957</td>\n",
       "    </tr>\n",
       "  </tbody>\n",
       "</table>\n",
       "</div>"
      ],
      "text/plain": [
       "    feature       lat       lon\n",
       "692  τρώγει  2.069563  0.000000\n",
       "552      πε  1.744839  0.852717\n",
       "96       ατ  1.657772 -0.407796\n",
       "40    έφαγε  1.567535  0.061738\n",
       "630      σο  1.470295 -0.322957"
      ]
     },
     "execution_count": 88,
     "metadata": {},
     "output_type": "execute_result"
    }
   ],
   "source": [
    "importance_pd.sort_values(by=\"lat\", ascending=False).head(5)"
   ]
  },
  {
   "cell_type": "markdown",
   "metadata": {
    "id": "CMbNoEiii64j"
   },
   "source": [
    "### Words pushing $\\downarrow$ South: lower lat"
   ]
  },
  {
   "cell_type": "code",
   "execution_count": 89,
   "metadata": {
    "colab": {
     "base_uri": "https://localhost:8080/",
     "height": 206
    },
    "id": "bqRuMFKbg4as",
    "outputId": "1f9b9f3b-f93d-4916-9c30-dfd3299dcbeb"
   },
   "outputs": [
    {
     "data": {
      "text/html": [
       "<div>\n",
       "<style scoped>\n",
       "    .dataframe tbody tr th:only-of-type {\n",
       "        vertical-align: middle;\n",
       "    }\n",
       "\n",
       "    .dataframe tbody tr th {\n",
       "        vertical-align: top;\n",
       "    }\n",
       "\n",
       "    .dataframe thead th {\n",
       "        text-align: right;\n",
       "    }\n",
       "</style>\n",
       "<table border=\"1\" class=\"dataframe\">\n",
       "  <thead>\n",
       "    <tr style=\"text-align: right;\">\n",
       "      <th></th>\n",
       "      <th>feature</th>\n",
       "      <th>lat</th>\n",
       "      <th>lon</th>\n",
       "    </tr>\n",
       "  </thead>\n",
       "  <tbody>\n",
       "    <tr>\n",
       "      <th>660</th>\n",
       "      <td>τζ</td>\n",
       "      <td>-4.143706</td>\n",
       "      <td>11.016613</td>\n",
       "    </tr>\n",
       "    <tr>\n",
       "      <th>662</th>\n",
       "      <td>τζαι</td>\n",
       "      <td>-3.665075</td>\n",
       "      <td>9.902281</td>\n",
       "    </tr>\n",
       "    <tr>\n",
       "      <th>661</th>\n",
       "      <td>τζαί</td>\n",
       "      <td>-3.540612</td>\n",
       "      <td>9.914528</td>\n",
       "    </tr>\n",
       "    <tr>\n",
       "      <th>664</th>\n",
       "      <td>τζι</td>\n",
       "      <td>-2.977478</td>\n",
       "      <td>8.586900</td>\n",
       "    </tr>\n",
       "    <tr>\n",
       "      <th>308</th>\n",
       "      <td>καλλιά</td>\n",
       "      <td>-1.995875</td>\n",
       "      <td>-0.000000</td>\n",
       "    </tr>\n",
       "  </tbody>\n",
       "</table>\n",
       "</div>"
      ],
      "text/plain": [
       "    feature       lat        lon\n",
       "660      τζ -4.143706  11.016613\n",
       "662    τζαι -3.665075   9.902281\n",
       "661    τζαί -3.540612   9.914528\n",
       "664     τζι -2.977478   8.586900\n",
       "308  καλλιά -1.995875  -0.000000"
      ]
     },
     "execution_count": 89,
     "metadata": {},
     "output_type": "execute_result"
    }
   ],
   "source": [
    "importance_pd.sort_values(by=\"lat\", ascending=True).head(5)"
   ]
  },
  {
   "cell_type": "markdown",
   "metadata": {
    "id": "Ej4pBRoejAOg"
   },
   "source": [
    "### Words pushing $\\rightarrow$ East: higher lon"
   ]
  },
  {
   "cell_type": "code",
   "execution_count": 90,
   "metadata": {
    "colab": {
     "base_uri": "https://localhost:8080/",
     "height": 206
    },
    "id": "pvlr5xAnhleJ",
    "outputId": "c41783fe-b6fa-4925-a9c6-194fef542e87"
   },
   "outputs": [
    {
     "data": {
      "text/html": [
       "<div>\n",
       "<style scoped>\n",
       "    .dataframe tbody tr th:only-of-type {\n",
       "        vertical-align: middle;\n",
       "    }\n",
       "\n",
       "    .dataframe tbody tr th {\n",
       "        vertical-align: top;\n",
       "    }\n",
       "\n",
       "    .dataframe thead th {\n",
       "        text-align: right;\n",
       "    }\n",
       "</style>\n",
       "<table border=\"1\" class=\"dataframe\">\n",
       "  <thead>\n",
       "    <tr style=\"text-align: right;\">\n",
       "      <th></th>\n",
       "      <th>feature</th>\n",
       "      <th>lat</th>\n",
       "      <th>lon</th>\n",
       "    </tr>\n",
       "  </thead>\n",
       "  <tbody>\n",
       "    <tr>\n",
       "      <th>660</th>\n",
       "      <td>τζ</td>\n",
       "      <td>-4.143706</td>\n",
       "      <td>11.016613</td>\n",
       "    </tr>\n",
       "    <tr>\n",
       "      <th>661</th>\n",
       "      <td>τζαί</td>\n",
       "      <td>-3.540612</td>\n",
       "      <td>9.914528</td>\n",
       "    </tr>\n",
       "    <tr>\n",
       "      <th>662</th>\n",
       "      <td>τζαι</td>\n",
       "      <td>-3.665075</td>\n",
       "      <td>9.902281</td>\n",
       "    </tr>\n",
       "    <tr>\n",
       "      <th>664</th>\n",
       "      <td>τζι</td>\n",
       "      <td>-2.977478</td>\n",
       "      <td>8.586900</td>\n",
       "    </tr>\n",
       "    <tr>\n",
       "      <th>233</th>\n",
       "      <td>εμ</td>\n",
       "      <td>-1.799892</td>\n",
       "      <td>5.644582</td>\n",
       "    </tr>\n",
       "  </tbody>\n",
       "</table>\n",
       "</div>"
      ],
      "text/plain": [
       "    feature       lat        lon\n",
       "660      τζ -4.143706  11.016613\n",
       "661    τζαί -3.540612   9.914528\n",
       "662    τζαι -3.665075   9.902281\n",
       "664     τζι -2.977478   8.586900\n",
       "233      εμ -1.799892   5.644582"
      ]
     },
     "execution_count": 90,
     "metadata": {},
     "output_type": "execute_result"
    }
   ],
   "source": [
    "importance_pd.sort_values(by=\"lon\", ascending=False).head(5)"
   ]
  },
  {
   "cell_type": "markdown",
   "metadata": {
    "id": "0pMF_nAujCqJ"
   },
   "source": [
    "### Words pushing $\\leftarrow$ West: higher lon"
   ]
  },
  {
   "cell_type": "code",
   "execution_count": 91,
   "metadata": {
    "colab": {
     "base_uri": "https://localhost:8080/",
     "height": 206
    },
    "id": "AJ2tGPIZh4Qi",
    "outputId": "bb219769-86f2-44d1-872e-4c2c7cad0e8c"
   },
   "outputs": [
    {
     "data": {
      "text/html": [
       "<div>\n",
       "<style scoped>\n",
       "    .dataframe tbody tr th:only-of-type {\n",
       "        vertical-align: middle;\n",
       "    }\n",
       "\n",
       "    .dataframe tbody tr th {\n",
       "        vertical-align: top;\n",
       "    }\n",
       "\n",
       "    .dataframe thead th {\n",
       "        text-align: right;\n",
       "    }\n",
       "</style>\n",
       "<table border=\"1\" class=\"dataframe\">\n",
       "  <thead>\n",
       "    <tr style=\"text-align: right;\">\n",
       "      <th></th>\n",
       "      <th>feature</th>\n",
       "      <th>lat</th>\n",
       "      <th>lon</th>\n",
       "    </tr>\n",
       "  </thead>\n",
       "  <tbody>\n",
       "    <tr>\n",
       "      <th>466</th>\n",
       "      <td>ναν</td>\n",
       "      <td>0.000000</td>\n",
       "      <td>-2.758580</td>\n",
       "    </tr>\n",
       "    <tr>\n",
       "      <th>702</th>\n",
       "      <td>τσου</td>\n",
       "      <td>0.000000</td>\n",
       "      <td>-2.579741</td>\n",
       "    </tr>\n",
       "    <tr>\n",
       "      <th>107</th>\n",
       "      <td>αφέντη</td>\n",
       "      <td>0.000000</td>\n",
       "      <td>-2.157786</td>\n",
       "    </tr>\n",
       "    <tr>\n",
       "      <th>458</th>\n",
       "      <td>μύλο</td>\n",
       "      <td>0.000000</td>\n",
       "      <td>-1.798303</td>\n",
       "    </tr>\n",
       "    <tr>\n",
       "      <th>269</th>\n",
       "      <td>κάλλιο</td>\n",
       "      <td>0.375506</td>\n",
       "      <td>-1.793693</td>\n",
       "    </tr>\n",
       "  </tbody>\n",
       "</table>\n",
       "</div>"
      ],
      "text/plain": [
       "    feature       lat       lon\n",
       "466     ναν  0.000000 -2.758580\n",
       "702    τσου  0.000000 -2.579741\n",
       "107  αφέντη  0.000000 -2.157786\n",
       "458    μύλο  0.000000 -1.798303\n",
       "269  κάλλιο  0.375506 -1.793693"
      ]
     },
     "execution_count": 91,
     "metadata": {},
     "output_type": "execute_result"
    }
   ],
   "source": [
    "importance_pd.sort_values(by=\"lon\", ascending=True).head(5)"
   ]
  }
 ],
 "metadata": {
  "colab": {
   "include_colab_link": true,
   "provenance": []
  },
  "kernelspec": {
   "display_name": "Python 3 (ipykernel)",
   "language": "python",
   "name": "python3"
  },
  "language_info": {
   "codemirror_mode": {
    "name": "ipython",
    "version": 3
   },
   "file_extension": ".py",
   "mimetype": "text/x-python",
   "name": "python",
   "nbconvert_exporter": "python",
   "pygments_lexer": "ipython3",
   "version": "3.10.10"
  }
 },
 "nbformat": 4,
 "nbformat_minor": 1
}
