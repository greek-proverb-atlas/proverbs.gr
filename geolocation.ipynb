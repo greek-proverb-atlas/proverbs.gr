{
 "cells": [
  {
   "cell_type": "markdown",
   "metadata": {
    "colab_type": "text",
    "id": "view-in-github"
   },
   "source": [
    "<a href=\"https://colab.research.google.com/github/ipavlopoulos/paremia/blob/main/geolocation.ipynb\" target=\"_parent\"><img src=\"https://colab.research.google.com/assets/colab-badge.svg\" alt=\"Open In Colab\"/></a>"
   ]
  },
  {
   "cell_type": "markdown",
   "metadata": {
    "id": "pxxFvI4TbAKf"
   },
   "source": [
    "# Geolocation prediction of Greek proverbs\n",
    "\n",
    "* Using a collection of proverbs from the [Hellenic Folklore Research Centre](http://www.kentrolaografias.gr/) of the Academy of Athens\n",
    "* Using language modelling and text classification to geolocate proverbs whose information is not known.\n",
    "---\n"
   ]
  },
  {
   "cell_type": "code",
   "execution_count": 3,
   "metadata": {
    "id": "dQm9rqoXb9v8"
   },
   "outputs": [],
   "source": [
    "import pandas as pd\n",
    "import matplotlib.pyplot as plt\n",
    "import numpy as np\n",
    "import seaborn as sns\n",
    "import optuna\n",
    "from sklearn.model_selection import train_test_split\n",
    "from sklearn.metrics import *\n",
    "from sklearn.linear_model import LogisticRegression\n",
    "from sklearn.linear_model import LinearRegression\n",
    "from sklearn.neighbors import KNeighborsClassifier\n",
    "from sklearn.svm import LinearSVC\n",
    "from sklearn.ensemble import RandomForestClassifier\n",
    "from sklearn.feature_extraction.text import TfidfVectorizer\n",
    "from sklearn.pipeline import Pipeline\n",
    "from sklearn.model_selection import cross_val_score\n",
    "from sklearn.metrics import mean_absolute_error, mean_squared_error\n",
    "from sklearn.linear_model import ElasticNet\n",
    "from sklearn.neighbors import KNeighborsRegressor\n",
    "from sklearn.ensemble import RandomForestRegressor\n",
    "\n",
    "import ast"
   ]
  },
  {
   "cell_type": "code",
   "execution_count": 26,
   "metadata": {
    "id": "XyQd70ImcrzX"
   },
   "outputs": [
    {
     "data": {
      "text/html": [
       "<div>\n",
       "<style scoped>\n",
       "    .dataframe tbody tr th:only-of-type {\n",
       "        vertical-align: middle;\n",
       "    }\n",
       "\n",
       "    .dataframe tbody tr th {\n",
       "        vertical-align: top;\n",
       "    }\n",
       "\n",
       "    .dataframe thead th {\n",
       "        text-align: right;\n",
       "    }\n",
       "</style>\n",
       "<table border=\"1\" class=\"dataframe\">\n",
       "  <thead>\n",
       "    <tr style=\"text-align: right;\">\n",
       "      <th></th>\n",
       "      <th>text</th>\n",
       "      <th>place</th>\n",
       "      <th>uri</th>\n",
       "      <th>collector</th>\n",
       "      <th>area</th>\n",
       "      <th>lat</th>\n",
       "      <th>lon</th>\n",
       "    </tr>\n",
       "  </thead>\n",
       "  <tbody>\n",
       "    <tr>\n",
       "      <th>105697</th>\n",
       "      <td>Γέλια σαν κομπολόγια</td>\n",
       "      <td>Ήπειρος, Ζαγόρι, Βίτσα</td>\n",
       "      <td>http://hdl.handle.net/20.500.11853/168435</td>\n",
       "      <td>Σάρρος, Δημήτριος Μ.</td>\n",
       "      <td>Ήπειρος</td>\n",
       "      <td>39.650192</td>\n",
       "      <td>20.690846</td>\n",
       "    </tr>\n",
       "    <tr>\n",
       "      <th>8413</th>\n",
       "      <td>Καρδίαν καθαράν θέλ' ο Θεός</td>\n",
       "      <td>Ήπειρος</td>\n",
       "      <td>http://hdl.handle.net/20.500.11853/167032</td>\n",
       "      <td>Γόνιος, Α.</td>\n",
       "      <td>Ήπειρος</td>\n",
       "      <td>39.650192</td>\n",
       "      <td>20.690846</td>\n",
       "    </tr>\n",
       "    <tr>\n",
       "      <th>7684</th>\n",
       "      <td>Ου Θεός κι ου γείτονας</td>\n",
       "      <td>Ήπειρος</td>\n",
       "      <td>http://hdl.handle.net/20.500.11853/168991</td>\n",
       "      <td>Γαλδέμης, Αναστάσιος Δ.</td>\n",
       "      <td>Ήπειρος</td>\n",
       "      <td>39.650192</td>\n",
       "      <td>20.690846</td>\n",
       "    </tr>\n",
       "    <tr>\n",
       "      <th>18546</th>\n",
       "      <td>Θέλει να κρυφθή πίσω από το δάχτυλό του</td>\n",
       "      <td>Ήπειρος</td>\n",
       "      <td>http://hdl.handle.net/20.500.11853/273352</td>\n",
       "      <td>Ζηκίδης, Γεώργιος Δ.</td>\n",
       "      <td>Ήπειρος</td>\n",
       "      <td>39.650192</td>\n",
       "      <td>20.690846</td>\n",
       "    </tr>\n",
       "    <tr>\n",
       "      <th>94001</th>\n",
       "      <td>Όλοι κλαίν' τα χάλια τ'ς κι ο μυλωνάς τη δέσι</td>\n",
       "      <td>Ήπειρος</td>\n",
       "      <td>http://hdl.handle.net/20.500.11853/204755</td>\n",
       "      <td>Παπαγεωργίου, Ιωάννης</td>\n",
       "      <td>Ήπειρος</td>\n",
       "      <td>39.650192</td>\n",
       "      <td>20.690846</td>\n",
       "    </tr>\n",
       "    <tr>\n",
       "      <th>...</th>\n",
       "      <td>...</td>\n",
       "      <td>...</td>\n",
       "      <td>...</td>\n",
       "      <td>...</td>\n",
       "      <td>...</td>\n",
       "      <td>...</td>\n",
       "      <td>...</td>\n",
       "    </tr>\n",
       "    <tr>\n",
       "      <th>101735</th>\n",
       "      <td>Παστρζικό τσανα τσ' έναι!</td>\n",
       "      <td>Σκύρος</td>\n",
       "      <td>http://hdl.handle.net/20.500.11853/247609</td>\n",
       "      <td>Περδίκα, Νίκη Λ.</td>\n",
       "      <td>Σκύρος</td>\n",
       "      <td>38.873044</td>\n",
       "      <td>24.524477</td>\n",
       "    </tr>\n",
       "    <tr>\n",
       "      <th>101233</th>\n",
       "      <td>Κάλλιο γεναίκα κάμισσα, πέρζι πολυπροικούσα</td>\n",
       "      <td>Σκύρος</td>\n",
       "      <td>http://hdl.handle.net/20.500.11853/195541</td>\n",
       "      <td>Περδίκα, Νίκη Λ.</td>\n",
       "      <td>Σκύρος</td>\n",
       "      <td>38.873044</td>\n",
       "      <td>24.524477</td>\n",
       "    </tr>\n",
       "    <tr>\n",
       "      <th>101612</th>\n",
       "      <td>Όγοιος κάθεται στη στερζά τσαί θάλασσα γερεύει...</td>\n",
       "      <td>Σκύρος</td>\n",
       "      <td>http://hdl.handle.net/20.500.11853/195683</td>\n",
       "      <td>Περδίκα, Νίκη Λ.</td>\n",
       "      <td>Σκύρος</td>\n",
       "      <td>38.873044</td>\n",
       "      <td>24.524477</td>\n",
       "    </tr>\n",
       "    <tr>\n",
       "      <th>101762</th>\n",
       "      <td>Πήε στ' δαιμόνου τ' μάννα</td>\n",
       "      <td>Σκύρος</td>\n",
       "      <td>http://hdl.handle.net/20.500.11853/195537</td>\n",
       "      <td>Περδίκα, Νίκη Λ.</td>\n",
       "      <td>Σκύρος</td>\n",
       "      <td>38.873044</td>\n",
       "      <td>24.524477</td>\n",
       "    </tr>\n",
       "    <tr>\n",
       "      <th>101191</th>\n",
       "      <td>Θα σε κάνου να κατουρζήσεις αίμα</td>\n",
       "      <td>Σκύρος</td>\n",
       "      <td>http://hdl.handle.net/20.500.11853/195047</td>\n",
       "      <td>Περδίκα, Νίκη Λ.</td>\n",
       "      <td>Σκύρος</td>\n",
       "      <td>38.873044</td>\n",
       "      <td>24.524477</td>\n",
       "    </tr>\n",
       "  </tbody>\n",
       "</table>\n",
       "<p>11500 rows × 7 columns</p>\n",
       "</div>"
      ],
      "text/plain": [
       "                                                     text  \\\n",
       "105697                               Γέλια σαν κομπολόγια   \n",
       "8413                          Καρδίαν καθαράν θέλ' ο Θεός   \n",
       "7684                               Ου Θεός κι ου γείτονας   \n",
       "18546             Θέλει να κρυφθή πίσω από το δάχτυλό του   \n",
       "94001       Όλοι κλαίν' τα χάλια τ'ς κι ο μυλωνάς τη δέσι   \n",
       "...                                                   ...   \n",
       "101735                          Παστρζικό τσανα τσ' έναι!   \n",
       "101233        Κάλλιο γεναίκα κάμισσα, πέρζι πολυπροικούσα   \n",
       "101612  Όγοιος κάθεται στη στερζά τσαί θάλασσα γερεύει...   \n",
       "101762                          Πήε στ' δαιμόνου τ' μάννα   \n",
       "101191                   Θα σε κάνου να κατουρζήσεις αίμα   \n",
       "\n",
       "                         place                                        uri  \\\n",
       "105697  Ήπειρος, Ζαγόρι, Βίτσα  http://hdl.handle.net/20.500.11853/168435   \n",
       "8413                   Ήπειρος  http://hdl.handle.net/20.500.11853/167032   \n",
       "7684                   Ήπειρος  http://hdl.handle.net/20.500.11853/168991   \n",
       "18546                  Ήπειρος  http://hdl.handle.net/20.500.11853/273352   \n",
       "94001                  Ήπειρος  http://hdl.handle.net/20.500.11853/204755   \n",
       "...                        ...                                        ...   \n",
       "101735                  Σκύρος  http://hdl.handle.net/20.500.11853/247609   \n",
       "101233                  Σκύρος  http://hdl.handle.net/20.500.11853/195541   \n",
       "101612                  Σκύρος  http://hdl.handle.net/20.500.11853/195683   \n",
       "101762                  Σκύρος  http://hdl.handle.net/20.500.11853/195537   \n",
       "101191                  Σκύρος  http://hdl.handle.net/20.500.11853/195047   \n",
       "\n",
       "                      collector     area        lat        lon  \n",
       "105697     Σάρρος, Δημήτριος Μ.  Ήπειρος  39.650192  20.690846  \n",
       "8413                 Γόνιος, Α.  Ήπειρος  39.650192  20.690846  \n",
       "7684    Γαλδέμης, Αναστάσιος Δ.  Ήπειρος  39.650192  20.690846  \n",
       "18546      Ζηκίδης, Γεώργιος Δ.  Ήπειρος  39.650192  20.690846  \n",
       "94001     Παπαγεωργίου, Ιωάννης  Ήπειρος  39.650192  20.690846  \n",
       "...                         ...      ...        ...        ...  \n",
       "101735         Περδίκα, Νίκη Λ.   Σκύρος  38.873044  24.524477  \n",
       "101233         Περδίκα, Νίκη Λ.   Σκύρος  38.873044  24.524477  \n",
       "101612         Περδίκα, Νίκη Λ.   Σκύρος  38.873044  24.524477  \n",
       "101762         Περδίκα, Νίκη Λ.   Σκύρος  38.873044  24.524477  \n",
       "101191         Περδίκα, Νίκη Λ.   Σκύρος  38.873044  24.524477  \n",
       "\n",
       "[11500 rows x 7 columns]"
      ]
     },
     "execution_count": 26,
     "metadata": {},
     "output_type": "execute_result"
    }
   ],
   "source": [
    "balanced_corpus = pd.read_csv(\"data/balanced_corpus.csv\", index_col=0)\n",
    " # quality assurance patch\n",
    "geolocs = pd.read_csv('data/geolocs.csv')\n",
    "balanced_corpus.lat = balanced_corpus.area.apply(lambda x: geolocs[x].iloc[0])\n",
    "balanced_corpus.lon = balanced_corpus.area.apply(lambda x: geolocs[x].iloc[1])\n",
    "\n",
    "balanced_corpus"
   ]
  },
  {
   "cell_type": "code",
   "execution_count": 6,
   "metadata": {
    "id": "eQjj2Lcgapux"
   },
   "outputs": [],
   "source": [
    "train, test = train_test_split(balanced_corpus, \n",
    "                               test_size=0.05, \n",
    "                               random_state=2023)\n",
    "train, dev = train_test_split(train, \n",
    "                              test_size=test.shape[0], \n",
    "                              random_state=2023)"
   ]
  },
  {
   "cell_type": "markdown",
   "metadata": {
    "id": "lT8WZYricW2D"
   },
   "source": [
    "## Authorship analysis\n"
   ]
  },
  {
   "cell_type": "code",
   "execution_count": 8,
   "metadata": {
    "id": "gmvhu05PcSUh"
   },
   "outputs": [],
   "source": [
    "%%capture\n",
    "!git clone https://github.com/ipavlopoulos/lm\n",
    "from lm.markov.models import LM"
   ]
  },
  {
   "cell_type": "markdown",
   "metadata": {
    "id": "DN0RXWb4cchP"
   },
   "source": [
    "* Training one language model per area, by sampling proverbs of that area"
   ]
  },
  {
   "cell_type": "code",
   "execution_count": 9,
   "metadata": {
    "id": "aq3fGpgPcUAm"
   },
   "outputs": [],
   "source": [
    "# building the local language models\n",
    "loc_name = {'Ρούμελη':'Roumeli', 'Κοζάνη':'Kozani', 'Κως':'Kos', 'Αδριανούπολη':'Adrian.', 'Νάουσα':'Naousa', 'Σέρρες':'Serres', 'Σίφνος': 'Sifnos', 'Ήπειρος':'Epirus', 'Αιτωλία':'Etolia', 'Αμοργός':'Amorgos', 'Ανατολική Θράκη': 'East Thrace',\n",
    "            'Αρκαδία':'Arcadia', 'Αχαΐα':'Achaia', 'Επτάνησος':'Eptanisos', 'Εύβοια':'Eyvoia', 'Θεσπρωτία':'Thesprotia', \n",
    "             'Θράκη': 'Thrace', 'Ιωάννινα':'Ioannina', 'Κάρπαθος':'Karpathos', 'Κεφαλληνία':'Kefalinia', 'Κρήτη':'Crete',\n",
    "            'Κύπρος':'Cyprus', 'Λέσβος':'Lesvos', 'Λακωνία':'Laconia', 'Μακεδονία':'Maced.', 'Μικρά Ασία':'Asia Minor',\n",
    "            'Νάξος':'Naxos', 'Πόντος':'Pontos', 'Ρόδος':'Rodos', 'Σκύρος':'Skyros'}\n",
    "models = {}\n",
    "for area in train.area.unique():\n",
    "    texts = train[train.area==area].text.values\n",
    "    models[loc_name[area]] = LM(gram=\"CHAR\").train(\" \\n \".join(texts))"
   ]
  },
  {
   "cell_type": "code",
   "execution_count": 10,
   "metadata": {
    "id": "2noxDr3mca4G"
   },
   "outputs": [],
   "source": [
    "def ling_dist(proverb, models=models):\n",
    "    '''\n",
    "    Compute the bits per character (BPC) for a given proverb using many local language models\n",
    "\n",
    "    Args:\n",
    "        proverb (str): a text\n",
    "        models (dict): a dictionary of language models, \n",
    "                       one per location\n",
    "        \n",
    "    Returns:\n",
    "        string: the location whose model predicts best the text \n",
    "        pd.DataFrame: BPC per location    \n",
    "    '''\n",
    "    entropy = {loc:[models[loc].cross_entropy(proverb.lower())] for loc in models.keys()}\n",
    "    likelier = min(entropy, key=entropy.get) \n",
    "    return likelier, pd.DataFrame(entropy)"
   ]
  },
  {
   "cell_type": "code",
   "execution_count": 11,
   "metadata": {
    "colab": {
     "base_uri": "https://localhost:8080/",
     "height": 191
    },
    "id": "eCuazKiJcfR4",
    "outputId": "8baab35f-f59e-474e-eddb-9e9cc6086e89"
   },
   "outputs": [
    {
     "data": {
      "text/html": [
       "<div>\n",
       "<style scoped>\n",
       "    .dataframe tbody tr th:only-of-type {\n",
       "        vertical-align: middle;\n",
       "    }\n",
       "\n",
       "    .dataframe tbody tr th {\n",
       "        vertical-align: top;\n",
       "    }\n",
       "\n",
       "    .dataframe thead th {\n",
       "        text-align: right;\n",
       "    }\n",
       "</style>\n",
       "<table border=\"1\" class=\"dataframe\">\n",
       "  <thead>\n",
       "    <tr style=\"text-align: right;\">\n",
       "      <th></th>\n",
       "      <th>Asia Minor</th>\n",
       "      <th>Ioannina</th>\n",
       "      <th>Karpathos</th>\n",
       "      <th>Crete</th>\n",
       "      <th>Thesprotia</th>\n",
       "      <th>Epirus</th>\n",
       "      <th>Kefalinia</th>\n",
       "      <th>Amorgos</th>\n",
       "      <th>Eptanisos</th>\n",
       "      <th>Cyprus</th>\n",
       "      <th>...</th>\n",
       "      <th>Achaia</th>\n",
       "      <th>Arcadia</th>\n",
       "      <th>Etolia</th>\n",
       "      <th>Pontos</th>\n",
       "      <th>Skyros</th>\n",
       "      <th>East Thrace</th>\n",
       "      <th>Thrace</th>\n",
       "      <th>Maced.</th>\n",
       "      <th>Naxos</th>\n",
       "      <th>Lesvos</th>\n",
       "    </tr>\n",
       "  </thead>\n",
       "  <tbody>\n",
       "    <tr>\n",
       "      <th>0</th>\n",
       "      <td>4.038577</td>\n",
       "      <td>4.313742</td>\n",
       "      <td>4.318077</td>\n",
       "      <td>4.4117</td>\n",
       "      <td>4.430579</td>\n",
       "      <td>4.492731</td>\n",
       "      <td>4.538359</td>\n",
       "      <td>4.863242</td>\n",
       "      <td>5.019258</td>\n",
       "      <td>5.063717</td>\n",
       "      <td>...</td>\n",
       "      <td>5.119214</td>\n",
       "      <td>5.133526</td>\n",
       "      <td>5.15317</td>\n",
       "      <td>5.18501</td>\n",
       "      <td>5.243022</td>\n",
       "      <td>5.250783</td>\n",
       "      <td>5.424325</td>\n",
       "      <td>5.457056</td>\n",
       "      <td>5.671837</td>\n",
       "      <td>6.209453</td>\n",
       "    </tr>\n",
       "  </tbody>\n",
       "</table>\n",
       "<p>1 rows × 23 columns</p>\n",
       "</div>"
      ],
      "text/plain": [
       "   Asia Minor  Ioannina  Karpathos   Crete  Thesprotia    Epirus  Kefalinia  \\\n",
       "0    4.038577  4.313742   4.318077  4.4117    4.430579  4.492731   4.538359   \n",
       "\n",
       "    Amorgos  Eptanisos    Cyprus  ...    Achaia   Arcadia   Etolia   Pontos  \\\n",
       "0  4.863242   5.019258  5.063717  ...  5.119214  5.133526  5.15317  5.18501   \n",
       "\n",
       "     Skyros  East Thrace    Thrace    Maced.     Naxos    Lesvos  \n",
       "0  5.243022     5.250783  5.424325  5.457056  5.671837  6.209453  \n",
       "\n",
       "[1 rows x 23 columns]"
      ]
     },
     "execution_count": 11,
     "metadata": {},
     "output_type": "execute_result"
    }
   ],
   "source": [
    "# use case\n",
    "loc, dists = ling_dist('κακόν χωριόν τσα λίγα σπίτιαν')\n",
    "dists.sort_values(by=0, ascending=True, axis=1)"
   ]
  },
  {
   "cell_type": "code",
   "execution_count": 12,
   "metadata": {
    "id": "CeVg347AchD1"
   },
   "outputs": [],
   "source": [
    "def logprob(txt, mdl):\n",
    "    '''Visualising the (log) probability per character for a given model\n",
    "    \n",
    "    Args:\n",
    "        txt (string): the character sequence\n",
    "        mdl (lm.markov.models.LM): the language model to be used to compute \n",
    "                                   the character probabilities\n",
    "        \n",
    "    Returns:\n",
    "        list: the log probs of the characters in the text \n",
    "    '''\n",
    "    probs = mdl.compute_gram_probs(txt)\n",
    "    logprobs = map(np.log2, probs)\n",
    "    return list(logprobs)\n",
    "\n",
    "\n",
    "def heatmap(txt, models):\n",
    "    ''' Creating a heatmap of the logprobs per local language model for a given text\n",
    "\n",
    "    Args:\n",
    "        txt (string): the text in question\n",
    "        models (dict): the language models (lm.markov.models.LM) to use to score the text\n",
    "        \n",
    "    Returns:\n",
    "        pd.DataFrame: the dataframe with the models' scores\n",
    "        ax: the heatmap\n",
    "    '''\n",
    "    plt.rcParams[\"figure.figsize\"] = (len(txt)/3,6); plt.rcParams[\"axes.labelsize\"] = 23;\n",
    "    probs = {loc: logprob(txt, models[loc]) for loc in models.keys()}\n",
    "    df = pd.DataFrame(probs, index=[str(c) for c in txt])\n",
    "    return df, sns.heatmap(df.transpose(), cmap=\"rocket_r\")"
   ]
  },
  {
   "cell_type": "code",
   "execution_count": 13,
   "metadata": {
    "colab": {
     "base_uri": "https://localhost:8080/",
     "height": 484
    },
    "id": "FuHIBEzrciao",
    "outputId": "a395b787-df36-4695-d6e7-56de885a386c"
   },
   "outputs": [
    {
     "name": "stdout",
     "output_type": "stream",
     "text": [
      "Πωρνόσ στησ στράταν, τζ' ενωρίς στο κονατζιν (Κύπρος) -- predicted as: Cyprus\n"
     ]
    },
    {
     "data": {
      "image/png": "[encoded data removed]",
      "text/plain": [
       "<Figure size 1466.67x600 with 2 Axes>"
      ]
     },
     "metadata": {},
     "output_type": "display_data"
    }
   ],
   "source": [
    "t = test[(test.area == \"Κύπρος\") & test.text.str.startswith('Πωρνό')].iloc[0]\n",
    "df, ax = heatmap(t.text, models)\n",
    "print(f'{t.text} ({t.area})', end=' -- ')\n",
    "print(f'predicted as: {df.columns[df.mean(0).argmax()]}')\n",
    "plt.tick_params(axis='both', which='major', labelsize=14)\n",
    "colorbar = ax.collections[0].colorbar\n",
    "colorbar.ax.tick_params(labelsize=14)\n",
    "ax.figure.tight_layout()\n",
    "ax.figure.savefig(\"heatmap.pdf\", format=\"PDF\")"
   ]
  },
  {
   "cell_type": "markdown",
   "metadata": {
    "id": "5Uyu_pMpcyAz"
   },
   "source": [
    "* Evaluating on unseen proverbs"
   ]
  },
  {
   "cell_type": "code",
   "execution_count": 14,
   "metadata": {
    "colab": {
     "base_uri": "https://localhost:8080/"
    },
    "id": "eGOI3UqUcjuv",
    "outputId": "f315a4d1-91b2-4c88-adf8-fefd593752ab"
   },
   "outputs": [
    {
     "name": "stdout",
     "output_type": "stream",
     "text": [
      "              precision    recall  f1-score   support\n",
      "\n",
      "      Achaia       0.14      0.12      0.13        32\n",
      "     Amorgos       0.19      0.14      0.16        22\n",
      "     Arcadia       0.08      0.06      0.07        31\n",
      "  Asia Minor       0.17      0.17      0.17        18\n",
      "       Crete       0.23      0.23      0.23        30\n",
      "      Cyprus       0.73      0.79      0.76        24\n",
      " East Thrace       0.12      0.17      0.14        24\n",
      "      Epirus       0.11      0.13      0.12        23\n",
      "   Eptanisos       0.25      0.35      0.29        23\n",
      "      Etolia       0.40      0.33      0.36        24\n",
      "      Eyvoia       0.07      0.15      0.10        20\n",
      "    Ioannina       0.17      0.14      0.15        29\n",
      "   Karpathos       0.37      0.25      0.30        28\n",
      "   Kefalinia       0.11      0.15      0.13        27\n",
      "     Laconia       0.04      0.04      0.04        27\n",
      "      Lesvos       0.45      0.38      0.41        24\n",
      "      Maced.       0.19      0.19      0.19        27\n",
      "       Naxos       0.34      0.42      0.38        24\n",
      "      Pontos       1.00      0.68      0.81        19\n",
      "       Rodos       0.24      0.27      0.26        22\n",
      "      Skyros       0.58      0.37      0.45        30\n",
      "  Thesprotia       0.08      0.09      0.09        22\n",
      "      Thrace       0.15      0.12      0.13        25\n",
      "\n",
      "    accuracy                           0.24       575\n",
      "   macro avg       0.27      0.25      0.25       575\n",
      "weighted avg       0.26      0.24      0.25       575\n",
      "\n"
     ]
    }
   ],
   "source": [
    "predictions = test.text.apply(lambda x: ling_dist(x, models=models)[0])\n",
    "gold = test.area.apply(lambda x: loc_name[x]).values\n",
    "print(classification_report(gold, predictions, zero_division=0))"
   ]
  },
  {
   "cell_type": "markdown",
   "metadata": {
    "id": "0orVps9Wc4fj"
   },
   "source": [
    "* The confusion matrix can inform us about the confusion in the predictions"
   ]
  },
  {
   "cell_type": "code",
   "execution_count": 15,
   "metadata": {
    "colab": {
     "base_uri": "https://localhost:8080/",
     "height": 607
    },
    "id": "pZVBv05WczgE",
    "outputId": "3008ba4f-0ddd-4039-8680-0f77625d628f"
   },
   "outputs": [
    {
     "data": {
      "image/png": "[encoded data removed]",
      "text/plain": [
       "<Figure size 600x600 with 1 Axes>"
      ]
     },
     "metadata": {},
     "output_type": "display_data"
    }
   ],
   "source": [
    "plt.rcParams[\"figure.figsize\"] = (6,6); plt.rcParams[\"axes.labelsize\"] = 12;\n",
    "cm = ConfusionMatrixDisplay.from_predictions(gold, predictions, xticks_rotation='vertical', colorbar=False);\n",
    "cm.figure_.tight_layout(); cm.figure_.savefig('authorship_confusion.pdf', format=\"PDF\", dpi=300)"
   ]
  },
  {
   "cell_type": "markdown",
   "metadata": {
    "id": "hrA3eHTRc9qT"
   },
   "source": [
    "## Benchmarking standard text classifiers, on top of chanracter n-grams"
   ]
  },
  {
   "cell_type": "code",
   "execution_count": 16,
   "metadata": {
    "colab": {
     "base_uri": "https://localhost:8080/"
    },
    "id": "15kPTs9tc5_G",
    "outputId": "a94bd6bc-41bf-41d3-9bbe-b36dc857ab17"
   },
   "outputs": [
    {
     "name": "stdout",
     "output_type": "stream",
     "text": [
      "Vocabulary: 81402\n",
      "n-gram: \"ία\" \t(tfidf: 0.21)\n",
      "n-gram: \"αρ\" \t(tfidf: 0.12)\n",
      "n-gram: \"αρο\" \t(tfidf: 0.21)\n",
      "n-gram: \"αροι\" \t(tfidf: 0.37)\n",
      "n-gram: \"ιμ\" \t(tfidf: 0.19)\n",
      "n-gram: \"ιμί\" \t(tfidf: 0.33)\n",
      "n-gram: \"ιμία\" \t(tfidf: 0.38)\n",
      "n-gram: \"μί\" \t(tfidf: 0.21)\n",
      "n-gram: \"μία\" \t(tfidf: 0.30)\n",
      "n-gram: \"οι\" \t(tfidf: 0.13)\n",
      "n-gram: \"οιμ\" \t(tfidf: 0.28)\n",
      "n-gram: \"πα\" \t(tfidf: 0.11)\n",
      "n-gram: \"παρ\" \t(tfidf: 0.18)\n",
      "n-gram: \"παρο\" \t(tfidf: 0.36)\n",
      "n-gram: \"ρο\" \t(tfidf: 0.12)\n",
      "n-gram: \"ροι\" \t(tfidf: 0.26)\n"
     ]
    }
   ],
   "source": [
    "vect = TfidfVectorizer(ngram_range=(2,5), # token sequences\n",
    "                       analyzer=\"char\", # tokens are characters\n",
    "                       max_df=0.5, # ignore tokens present in more than 50% of the texts\n",
    "                       min_df=2, # ignore tokens not present in at least two documents \n",
    "                       lowercase=True)\n",
    "vect.fit(train.text.values)\n",
    "print('Vocabulary:', len(vect.vocabulary_))\n",
    "rep_t = vect.transform(['παροιμία'])\n",
    "for i, feat in enumerate(rep_t.toarray()[0]):\n",
    "    if feat>0:\n",
    "        print(f'n-gram: \"{vect.get_feature_names_out()[i]}\" \\t(tfidf: {feat:.2f})')"
   ]
  },
  {
   "cell_type": "markdown",
   "metadata": {},
   "source": [
    "### Logistic Regression"
   ]
  },
  {
   "cell_type": "code",
   "execution_count": 17,
   "metadata": {},
   "outputs": [
    {
     "name": "stdout",
     "output_type": "stream",
     "text": [
      "0.2859903381642512\n",
      "LogisticRegression\n",
      "                 precision    recall  f1-score   support\n",
      "\n",
      "        Ήπειρος       0.17      0.17      0.17        23\n",
      "        Αιτωλία       0.38      0.58      0.46        24\n",
      "        Αμοργός       0.13      0.18      0.15        22\n",
      "Ανατολική Θράκη       0.16      0.21      0.18        24\n",
      "        Αρκαδία       0.20      0.16      0.18        31\n",
      "          Αχαΐα       0.39      0.22      0.28        32\n",
      "      Επτάνησος       0.35      0.65      0.45        23\n",
      "         Εύβοια       0.06      0.05      0.05        20\n",
      "      Θεσπρωτία       0.05      0.05      0.05        22\n",
      "          Θράκη       0.25      0.16      0.20        25\n",
      "       Ιωάννινα       0.29      0.21      0.24        29\n",
      "       Κάρπαθος       0.40      0.29      0.33        28\n",
      "     Κεφαλληνία       0.14      0.11      0.12        27\n",
      "          Κρήτη       0.35      0.27      0.30        30\n",
      "         Κύπρος       0.72      0.75      0.73        24\n",
      "         Λέσβος       0.42      0.62      0.50        24\n",
      "        Λακωνία       0.12      0.07      0.09        27\n",
      "      Μακεδονία       0.37      0.26      0.30        27\n",
      "     Μικρά Ασία       0.00      0.00      0.00        18\n",
      "          Νάξος       0.31      0.46      0.37        24\n",
      "         Πόντος       0.75      0.79      0.77        19\n",
      "          Ρόδος       0.26      0.23      0.24        22\n",
      "         Σκύρος       0.45      0.60      0.51        30\n",
      "\n",
      "       accuracy                           0.31       575\n",
      "      macro avg       0.29      0.31      0.29       575\n",
      "   weighted avg       0.30      0.31      0.29       575\n",
      "\n"
     ]
    }
   ],
   "source": [
    "vect = TfidfVectorizer(ngram_range=(2, 5), \n",
    "                       analyzer=\"char\",\n",
    "                       max_df=0.5, \n",
    "                       min_df=2, lowercase=True)\n",
    "\n",
    "regressor = LogisticRegression()\n",
    "\n",
    "pipe = Pipeline([('vect', vect), ('ref', regressor)])\n",
    "\n",
    "scores = cross_val_score(pipe,\n",
    "                         train.text.values,\n",
    "                         train.area.values,\n",
    "                         cv=5,\n",
    "                         n_jobs=-1)\n",
    "\n",
    "cv_score = scores.mean()\n",
    "print(cv_score)\n",
    "\n",
    "pipe = Pipeline([('vect', vect), ('clf', LogisticRegression())])\n",
    "pipe.fit(train.text, train.area)\n",
    "preds = pipe.predict(test.text)\n",
    "print(f'LogisticRegression\\n{classification_report(test.area.values, preds)}')"
   ]
  },
  {
   "cell_type": "markdown",
   "metadata": {},
   "source": [
    "### SVM"
   ]
  },
  {
   "cell_type": "code",
   "execution_count": null,
   "metadata": {},
   "outputs": [
    {
     "name": "stderr",
     "output_type": "stream",
     "text": [
      "[I 2024-11-07 12:28:10,843] A new study created in memory with name: no-name-6ab91a29-a3a7-4737-b2e3-f07012e862c3\n",
      "[I 2024-11-07 12:28:23,507] Trial 0 finished with value: 0.28309178743961355 and parameters: {'C': 1253212526.7439845, 'penalty': 'l2', 'loss': 'hinge'}. Best is trial 0 with value: 0.28309178743961355.\n",
      "[I 2024-11-07 12:28:31,162] Trial 5 finished with value: 0.09526570048309177 and parameters: {'C': 0.04222096725043034, 'penalty': 'l1', 'loss': 'hinge'}. Best is trial 0 with value: 0.28309178743961355.\n",
      "[I 2024-11-07 12:28:32,687] Trial 4 finished with value: 0.2984541062801932 and parameters: {'C': 0.16197107393542484, 'penalty': 'l2', 'loss': 'squared_hinge'}. Best is trial 4 with value: 0.2984541062801932.\n",
      "[I 2024-11-07 12:28:33,471] Trial 3 finished with value: 0.043188405797101447 and parameters: {'C': 3.1580787922913807e-10, 'penalty': 'l1', 'loss': 'squared_hinge'}. Best is trial 4 with value: 0.2984541062801932.\n",
      "[I 2024-11-07 12:28:35,723] Trial 6 finished with value: 0.0442512077294686 and parameters: {'C': 0.0008554268274368735, 'penalty': 'l1', 'loss': 'hinge'}. Best is trial 4 with value: 0.2984541062801932.\n",
      "[I 2024-11-07 12:28:35,752] Trial 10 finished with value: 0.1068599033816425 and parameters: {'C': 2.9603029997828956e-09, 'penalty': 'l2', 'loss': 'squared_hinge'}. Best is trial 4 with value: 0.2984541062801932.\n",
      "[I 2024-11-07 12:28:36,059] Trial 1 finished with value: 0.281256038647343 and parameters: {'C': 12.932403362243567, 'penalty': 'l2', 'loss': 'squared_hinge'}. Best is trial 4 with value: 0.2984541062801932.\n",
      "[I 2024-11-07 12:28:36,920] Trial 12 finished with value: 0.1068599033816425 and parameters: {'C': 1.9884055300962868e-10, 'penalty': 'l2', 'loss': 'squared_hinge'}. Best is trial 4 with value: 0.2984541062801932.\n",
      "[I 2024-11-07 12:28:39,456] Trial 14 finished with value: 0.11111111111111112 and parameters: {'C': 4.5586887633971815e-06, 'penalty': 'l2', 'loss': 'squared_hinge'}. Best is trial 4 with value: 0.2984541062801932.\n",
      "[I 2024-11-07 12:28:41,756] Trial 8 finished with value: 0.043188405797101447 and parameters: {'C': 3.784279129149184e-05, 'penalty': 'l1', 'loss': 'squared_hinge'}. Best is trial 4 with value: 0.2984541062801932.\n",
      "[I 2024-11-07 12:28:52,021] Trial 2 finished with value: 0.1617391304347826 and parameters: {'C': 43441106.70121322, 'penalty': 'l1', 'loss': 'hinge'}. Best is trial 4 with value: 0.2984541062801932.\n",
      "[I 2024-11-07 12:28:52,403] Trial 7 finished with value: 0.2833816425120773 and parameters: {'C': 2888.977917331124, 'penalty': 'l2', 'loss': 'squared_hinge'}. Best is trial 4 with value: 0.2984541062801932.\n",
      "[I 2024-11-07 12:28:57,654] Trial 13 finished with value: 0.28299516908212563 and parameters: {'C': 2764479316.894351, 'penalty': 'l2', 'loss': 'squared_hinge'}. Best is trial 4 with value: 0.2984541062801932.\n",
      "[I 2024-11-07 12:29:00,279] Trial 9 finished with value: 0.2832850241545894 and parameters: {'C': 103567.18036510731, 'penalty': 'l2', 'loss': 'hinge'}. Best is trial 4 with value: 0.2984541062801932.\n",
      "[I 2024-11-07 12:29:01,304] Trial 16 finished with value: 0.043188405797101447 and parameters: {'C': 8.142447828154658e-08, 'penalty': 'l1', 'loss': 'squared_hinge'}. Best is trial 4 with value: 0.2984541062801932.\n",
      "[I 2024-11-07 12:29:25,310] Trial 18 finished with value: 0.28309178743961355 and parameters: {'C': 26899694.83840045, 'penalty': 'l2', 'loss': 'squared_hinge'}. Best is trial 4 with value: 0.2984541062801932.\n",
      "[I 2024-11-07 12:29:32,283] Trial 19 finished with value: 0.25024154589371983 and parameters: {'C': 0.0023582913815913126, 'penalty': 'l2', 'loss': 'hinge'}. Best is trial 4 with value: 0.2984541062801932.\n",
      "[I 2024-11-07 12:29:46,160] Trial 15 finished with value: 0.2634782608695653 and parameters: {'C': 5.873039945102486, 'penalty': 'l1', 'loss': 'hinge'}. Best is trial 4 with value: 0.2984541062801932.\n",
      "/Users/panos/.pyenv/versions/3.12.7/lib/python3.12/site-packages/sklearn/svm/_base.py:1235: ConvergenceWarning: Liblinear failed to converge, increase the number of iterations.\n",
      "  warnings.warn(\n",
      "/Users/panos/.pyenv/versions/3.12.7/lib/python3.12/site-packages/sklearn/svm/_base.py:1235: ConvergenceWarning: Liblinear failed to converge, increase the number of iterations.\n",
      "  warnings.warn(\n",
      "/Users/panos/.pyenv/versions/3.12.7/lib/python3.12/site-packages/sklearn/svm/_base.py:1235: ConvergenceWarning: Liblinear failed to converge, increase the number of iterations.\n",
      "  warnings.warn(\n",
      "/Users/panos/.pyenv/versions/3.12.7/lib/python3.12/site-packages/sklearn/svm/_base.py:1235: ConvergenceWarning: Liblinear failed to converge, increase the number of iterations.\n",
      "  warnings.warn(\n",
      "[I 2024-11-07 12:30:13,776] Trial 21 finished with value: 0.2896618357487923 and parameters: {'C': 0.056846294393821835, 'penalty': 'l2', 'loss': 'hinge'}. Best is trial 4 with value: 0.2984541062801932.\n",
      "[I 2024-11-07 12:30:15,085] Trial 22 finished with value: 0.2592270531400966 and parameters: {'C': 0.006125071597996064, 'penalty': 'l2', 'loss': 'squared_hinge'}. Best is trial 4 with value: 0.2984541062801932.\n",
      "[I 2024-11-07 12:30:16,792] Trial 23 finished with value: 0.043188405797101447 and parameters: {'C': 6.179501572291436e-10, 'penalty': 'l1', 'loss': 'squared_hinge'}. Best is trial 4 with value: 0.2984541062801932.\n",
      "[I 2024-11-07 12:30:26,078] Trial 24 finished with value: 0.293719806763285 and parameters: {'C': 1.5573421619810282, 'penalty': 'l2', 'loss': 'hinge'}. Best is trial 4 with value: 0.2984541062801932.\n",
      "/Users/panos/.pyenv/versions/3.12.7/lib/python3.12/site-packages/sklearn/svm/_base.py:1235: ConvergenceWarning: Liblinear failed to converge, increase the number of iterations.\n",
      "  warnings.warn(\n",
      "[I 2024-11-07 12:30:36,768] Trial 17 finished with value: 0.25014492753623185 and parameters: {'C': 91.07484868329352, 'penalty': 'l1', 'loss': 'squared_hinge'}. Best is trial 4 with value: 0.2984541062801932.\n",
      "[I 2024-11-07 12:30:36,971] Trial 25 finished with value: 0.2826086956521739 and parameters: {'C': 1505.855802471985, 'penalty': 'l2', 'loss': 'hinge'}. Best is trial 4 with value: 0.2984541062801932.\n",
      "[I 2024-11-07 12:30:45,929] Trial 26 finished with value: 0.28289855072463765 and parameters: {'C': 3426.0270124369413, 'penalty': 'l2', 'loss': 'hinge'}. Best is trial 4 with value: 0.2984541062801932.\n",
      "[I 2024-11-07 12:30:47,418] Trial 27 finished with value: 0.28309178743961355 and parameters: {'C': 1395.80459924768, 'penalty': 'l2', 'loss': 'squared_hinge'}. Best is trial 4 with value: 0.2984541062801932.\n",
      "[I 2024-11-07 12:30:59,533] Trial 28 finished with value: 0.28289855072463765 and parameters: {'C': 1404.6356158019048, 'penalty': 'l2', 'loss': 'squared_hinge'}. Best is trial 4 with value: 0.2984541062801932.\n",
      "[I 2024-11-07 12:31:47,728] Trial 29 finished with value: 0.28154589371980676 and parameters: {'C': 230.90430624245235, 'penalty': 'l2', 'loss': 'squared_hinge'}. Best is trial 4 with value: 0.2984541062801932.\n",
      "[I 2024-11-07 12:31:55,070] Trial 30 finished with value: 0.28057971014492755 and parameters: {'C': 54.22197869937549, 'penalty': 'l2', 'loss': 'squared_hinge'}. Best is trial 4 with value: 0.2984541062801932.\n",
      "[I 2024-11-07 12:32:38,552] Trial 31 finished with value: 0.2818357487922706 and parameters: {'C': 118.15561545167594, 'penalty': 'l2', 'loss': 'squared_hinge'}. Best is trial 4 with value: 0.2984541062801932.\n",
      "[I 2024-11-07 12:32:55,363] Trial 32 finished with value: 0.2806763285024154 and parameters: {'C': 64.30094036985139, 'penalty': 'l2', 'loss': 'squared_hinge'}. Best is trial 4 with value: 0.2984541062801932.\n",
      "[I 2024-11-07 12:33:01,339] Trial 33 finished with value: 0.2830917874396135 and parameters: {'C': 1807.1940888309637, 'penalty': 'l2', 'loss': 'squared_hinge'}. Best is trial 4 with value: 0.2984541062801932.\n",
      "/Users/panos/.pyenv/versions/3.12.7/lib/python3.12/site-packages/sklearn/svm/_base.py:1235: ConvergenceWarning: Liblinear failed to converge, increase the number of iterations.\n",
      "  warnings.warn(\n",
      "/Users/panos/.pyenv/versions/3.12.7/lib/python3.12/site-packages/sklearn/svm/_base.py:1235: ConvergenceWarning: Liblinear failed to converge, increase the number of iterations.\n",
      "  warnings.warn(\n",
      "[I 2024-11-07 12:33:38,614] Trial 34 finished with value: 0.28096618357487924 and parameters: {'C': 292.56789410370465, 'penalty': 'l2', 'loss': 'hinge'}. Best is trial 4 with value: 0.2984541062801932.\n",
      "/Users/panos/.pyenv/versions/3.12.7/lib/python3.12/site-packages/sklearn/svm/_base.py:1235: ConvergenceWarning: Liblinear failed to converge, increase the number of iterations.\n",
      "  warnings.warn(\n",
      "/Users/panos/.pyenv/versions/3.12.7/lib/python3.12/site-packages/sklearn/svm/_base.py:1235: ConvergenceWarning: Liblinear failed to converge, increase the number of iterations.\n",
      "  warnings.warn(\n",
      "/Users/panos/.pyenv/versions/3.12.7/lib/python3.12/site-packages/sklearn/svm/_base.py:1235: ConvergenceWarning: Liblinear failed to converge, increase the number of iterations.\n",
      "  warnings.warn(\n",
      "[I 2024-11-07 12:33:58,275] Trial 35 finished with value: 0.2804830917874396 and parameters: {'C': 59.8472070002283, 'penalty': 'l2', 'loss': 'hinge'}. Best is trial 4 with value: 0.2984541062801932.\n",
      "[I 2024-11-07 12:34:00,268] Trial 37 finished with value: 0.30019323671497583 and parameters: {'C': 0.4170136070556433, 'penalty': 'l2', 'loss': 'hinge'}. Best is trial 37 with value: 0.30019323671497583.\n",
      "[I 2024-11-07 12:34:04,551] Trial 38 finished with value: 0.2995169082125604 and parameters: {'C': 0.17854104195147225, 'penalty': 'l2', 'loss': 'hinge'}. Best is trial 37 with value: 0.30019323671497583.\n",
      "[I 2024-11-07 12:34:09,224] Trial 36 finished with value: 0.28260869565217395 and parameters: {'C': 680.8800026014983, 'penalty': 'l2', 'loss': 'hinge'}. Best is trial 37 with value: 0.30019323671497583.\n",
      "[I 2024-11-07 12:34:11,056] Trial 40 finished with value: 0.3001932367149759 and parameters: {'C': 0.2163371743166001, 'penalty': 'l2', 'loss': 'hinge'}. Best is trial 40 with value: 0.3001932367149759.\n",
      "[I 2024-11-07 12:34:11,332] Trial 39 finished with value: 0.2876328502415459 and parameters: {'C': 2.845939890006299, 'penalty': 'l2', 'loss': 'hinge'}. Best is trial 40 with value: 0.3001932367149759.\n",
      "[I 2024-11-07 12:34:15,548] Trial 41 finished with value: 0.30077294685990336 and parameters: {'C': 0.2878613346311685, 'penalty': 'l2', 'loss': 'hinge'}. Best is trial 41 with value: 0.30077294685990336.\n",
      "[I 2024-11-07 12:34:17,362] Trial 42 finished with value: 0.30000000000000004 and parameters: {'C': 0.21520011930800487, 'penalty': 'l2', 'loss': 'hinge'}. Best is trial 41 with value: 0.30077294685990336.\n",
      "[I 2024-11-07 12:34:22,211] Trial 43 finished with value: 0.30019323671497583 and parameters: {'C': 0.46661117884157255, 'penalty': 'l2', 'loss': 'hinge'}. Best is trial 41 with value: 0.30077294685990336.\n",
      "[I 2024-11-07 12:34:23,710] Trial 44 finished with value: 0.3014492753623188 and parameters: {'C': 0.2510973962827068, 'penalty': 'l2', 'loss': 'hinge'}. Best is trial 44 with value: 0.3014492753623188.\n",
      "[I 2024-11-07 12:34:27,954] Trial 45 finished with value: 0.2961352657004831 and parameters: {'C': 0.12561290191407776, 'penalty': 'l2', 'loss': 'hinge'}. Best is trial 44 with value: 0.3014492753623188.\n",
      "[I 2024-11-07 12:34:29,628] Trial 46 finished with value: 0.2936231884057971 and parameters: {'C': 0.08646012762847542, 'penalty': 'l2', 'loss': 'hinge'}. Best is trial 44 with value: 0.3014492753623188.\n",
      "[I 2024-11-07 12:34:35,863] Trial 48 finished with value: 0.30144927536231886 and parameters: {'C': 0.35751024076360954, 'penalty': 'l2', 'loss': 'hinge'}. Best is trial 48 with value: 0.30144927536231886.\n",
      "[I 2024-11-07 12:34:36,174] Trial 47 finished with value: 0.3017391304347826 and parameters: {'C': 0.27334724924657083, 'penalty': 'l2', 'loss': 'hinge'}. Best is trial 47 with value: 0.3017391304347826.\n",
      "[I 2024-11-07 12:34:41,426] Trial 49 finished with value: 0.30135265700483094 and parameters: {'C': 0.23464316912135819, 'penalty': 'l2', 'loss': 'hinge'}. Best is trial 47 with value: 0.3017391304347826.\n",
      "[I 2024-11-07 12:34:42,561] Trial 50 finished with value: 0.301256038647343 and parameters: {'C': 0.3611915943371723, 'penalty': 'l2', 'loss': 'hinge'}. Best is trial 47 with value: 0.3017391304347826.\n",
      "[I 2024-11-07 12:34:47,143] Trial 51 finished with value: 0.30096618357487925 and parameters: {'C': 0.3266498690907767, 'penalty': 'l2', 'loss': 'hinge'}. Best is trial 47 with value: 0.3017391304347826.\n",
      "[I 2024-11-07 12:34:49,293] Trial 52 finished with value: 0.3003864734299517 and parameters: {'C': 0.21720194182738392, 'penalty': 'l2', 'loss': 'hinge'}. Best is trial 47 with value: 0.3017391304347826.\n",
      "[I 2024-11-07 12:34:52,767] Trial 55 finished with value: 0.178743961352657 and parameters: {'C': 0.00016517409104637666, 'penalty': 'l2', 'loss': 'hinge'}. Best is trial 47 with value: 0.3017391304347826.\n",
      "[I 2024-11-07 12:34:52,804] Trial 53 finished with value: 0.29942028985507246 and parameters: {'C': 0.1858604887200365, 'penalty': 'l2', 'loss': 'hinge'}. Best is trial 47 with value: 0.3017391304347826.\n",
      "[I 2024-11-07 12:34:52,858] Trial 54 finished with value: 0.28705314009661836 and parameters: {'C': 0.047078095376502795, 'penalty': 'l2', 'loss': 'hinge'}. Best is trial 47 with value: 0.3017391304347826.\n",
      "[I 2024-11-07 12:34:56,495] Trial 57 finished with value: 0.1983574879227053 and parameters: {'C': 0.00026770714366801857, 'penalty': 'l2', 'loss': 'hinge'}. Best is trial 47 with value: 0.3017391304347826.\n",
      "[I 2024-11-07 12:34:58,181] Trial 56 finished with value: 0.2962318840579711 and parameters: {'C': 0.1335983645315921, 'penalty': 'l2', 'loss': 'hinge'}. Best is trial 47 with value: 0.3017391304347826.\n",
      "[I 2024-11-07 12:34:58,321] Trial 58 finished with value: 0.19178743961352657 and parameters: {'C': 0.00022233941537503225, 'penalty': 'l2', 'loss': 'hinge'}. Best is trial 47 with value: 0.3017391304347826.\n",
      "[I 2024-11-07 12:34:59,913] Trial 59 finished with value: 0.1927536231884058 and parameters: {'C': 0.00023353599748370435, 'penalty': 'l2', 'loss': 'hinge'}. Best is trial 47 with value: 0.3017391304347826.\n",
      "[I 2024-11-07 12:35:00,078] Trial 60 finished with value: 0.1143961352657005 and parameters: {'C': 8.310711959517178e-06, 'penalty': 'l2', 'loss': 'hinge'}. Best is trial 47 with value: 0.3017391304347826.\n",
      "[I 2024-11-07 12:35:01,711] Trial 62 finished with value: 0.043188405797101447 and parameters: {'C': 5.5528584458618026e-05, 'penalty': 'l1', 'loss': 'hinge'}. Best is trial 47 with value: 0.3017391304347826.\n",
      "[I 2024-11-07 12:35:02,299] Trial 61 finished with value: 0.18106280193236715 and parameters: {'C': 0.00017303313731266342, 'penalty': 'l2', 'loss': 'hinge'}. Best is trial 47 with value: 0.3017391304347826.\n",
      "[I 2024-11-07 12:35:03,006] Trial 63 finished with value: 0.043188405797101447 and parameters: {'C': 5.674250292433592e-05, 'penalty': 'l1', 'loss': 'hinge'}. Best is trial 47 with value: 0.3017391304347826.\n",
      "[I 2024-11-07 12:35:03,543] Trial 64 finished with value: 0.0442512077294686 and parameters: {'C': 7.823836205957911e-05, 'penalty': 'l1', 'loss': 'hinge'}. Best is trial 47 with value: 0.3017391304347826.\n",
      "[I 2024-11-07 12:35:04,875] Trial 65 finished with value: 0.0442512077294686 and parameters: {'C': 0.0007897838157900716, 'penalty': 'l1', 'loss': 'hinge'}. Best is trial 47 with value: 0.3017391304347826.\n",
      "/Users/panos/.pyenv/versions/3.12.7/lib/python3.12/site-packages/sklearn/svm/_base.py:1235: ConvergenceWarning: Liblinear failed to converge, increase the number of iterations.\n",
      "  warnings.warn(\n",
      "[I 2024-11-07 12:35:05,398] Trial 66 finished with value: 0.0442512077294686 and parameters: {'C': 0.0001782654134576409, 'penalty': 'l1', 'loss': 'hinge'}. Best is trial 47 with value: 0.3017391304347826.\n",
      "[I 2024-11-07 12:35:07,102] Trial 67 finished with value: 0.0442512077294686 and parameters: {'C': 0.01496899192590013, 'penalty': 'l1', 'loss': 'hinge'}. Best is trial 47 with value: 0.3017391304347826.\n",
      "[I 2024-11-07 12:35:07,326] Trial 68 finished with value: 0.04434782608695652 and parameters: {'C': 0.005218361503167849, 'penalty': 'l1', 'loss': 'hinge'}. Best is trial 47 with value: 0.3017391304347826.\n",
      "[I 2024-11-07 12:35:07,973] Trial 69 finished with value: 0.0442512077294686 and parameters: {'C': 0.0005384902868332213, 'penalty': 'l1', 'loss': 'hinge'}. Best is trial 47 with value: 0.3017391304347826.\n",
      "/Users/panos/.pyenv/versions/3.12.7/lib/python3.12/site-packages/sklearn/svm/_base.py:1235: ConvergenceWarning: Liblinear failed to converge, increase the number of iterations.\n",
      "  warnings.warn(\n",
      "/Users/panos/.pyenv/versions/3.12.7/lib/python3.12/site-packages/sklearn/svm/_base.py:1235: ConvergenceWarning: Liblinear failed to converge, increase the number of iterations.\n",
      "  warnings.warn(\n",
      "[I 2024-11-07 12:35:08,626] Trial 20 finished with value: 0.24927536231884057 and parameters: {'C': 9786.610537337894, 'penalty': 'l1', 'loss': 'hinge'}. Best is trial 47 with value: 0.3017391304347826.\n",
      "[I 2024-11-07 12:35:09,572] Trial 70 finished with value: 0.0442512077294686 and parameters: {'C': 0.012572219716512114, 'penalty': 'l1', 'loss': 'hinge'}. Best is trial 47 with value: 0.3017391304347826.\n",
      "[I 2024-11-07 12:35:09,708] Trial 71 finished with value: 0.04434782608695652 and parameters: {'C': 0.008813233974273603, 'penalty': 'l1', 'loss': 'hinge'}. Best is trial 47 with value: 0.3017391304347826.\n",
      "[I 2024-11-07 12:35:10,735] Trial 72 finished with value: 0.04434782608695652 and parameters: {'C': 0.010594807749674416, 'penalty': 'l1', 'loss': 'hinge'}. Best is trial 47 with value: 0.3017391304347826.\n",
      "[I 2024-11-07 12:35:10,871] Trial 73 finished with value: 0.0442512077294686 and parameters: {'C': 0.0094965216256119, 'penalty': 'l1', 'loss': 'hinge'}. Best is trial 47 with value: 0.3017391304347826.\n",
      "[I 2024-11-07 12:35:13,389] Trial 75 finished with value: 0.04434782608695652 and parameters: {'C': 0.005682613133605274, 'penalty': 'l1', 'loss': 'hinge'}. Best is trial 47 with value: 0.3017391304347826.\n",
      "[I 2024-11-07 12:35:15,586] Trial 76 finished with value: 0.2700483091787439 and parameters: {'C': 0.016486342712315503, 'penalty': 'l2', 'loss': 'hinge'}. Best is trial 47 with value: 0.3017391304347826.\n",
      "[I 2024-11-07 12:35:17,876] Trial 77 finished with value: 0.25980676328502417 and parameters: {'C': 0.007070022092217489, 'penalty': 'l2', 'loss': 'hinge'}. Best is trial 47 with value: 0.3017391304347826.\n",
      "[I 2024-11-07 12:35:19,446] Trial 78 finished with value: 0.26 and parameters: {'C': 0.006974923753295574, 'penalty': 'l2', 'loss': 'hinge'}. Best is trial 47 with value: 0.3017391304347826.\n",
      "[I 2024-11-07 12:35:22,192] Trial 79 finished with value: 0.25835748792270535 and parameters: {'C': 0.005386640495684473, 'penalty': 'l2', 'loss': 'hinge'}. Best is trial 47 with value: 0.3017391304347826.\n",
      "[I 2024-11-07 12:35:24,285] Trial 80 finished with value: 0.2683091787439613 and parameters: {'C': 0.013590850142419321, 'penalty': 'l2', 'loss': 'hinge'}. Best is trial 47 with value: 0.3017391304347826.\n",
      "/Users/panos/.pyenv/versions/3.12.7/lib/python3.12/site-packages/sklearn/svm/_base.py:1235: ConvergenceWarning: Liblinear failed to converge, increase the number of iterations.\n",
      "  warnings.warn(\n",
      "[I 2024-11-07 12:35:38,473] Trial 81 finished with value: 0.2811594202898551 and parameters: {'C': 11.160051541672093, 'penalty': 'l2', 'loss': 'hinge'}. Best is trial 47 with value: 0.3017391304347826.\n",
      "/Users/panos/.pyenv/versions/3.12.7/lib/python3.12/site-packages/sklearn/svm/_base.py:1235: ConvergenceWarning: Liblinear failed to converge, increase the number of iterations.\n",
      "  warnings.warn(\n",
      "[I 2024-11-07 12:35:39,532] Trial 11 finished with value: 0.23227053140096618 and parameters: {'C': 28848.186938899486, 'penalty': 'l1', 'loss': 'hinge'}. Best is trial 47 with value: 0.3017391304347826.\n",
      "[I 2024-11-07 12:35:46,866] Trial 82 finished with value: 0.28347826086956524 and parameters: {'C': 6.987204819141193, 'penalty': 'l2', 'loss': 'hinge'}. Best is trial 47 with value: 0.3017391304347826.\n",
      "[I 2024-11-07 12:35:48,575] Trial 83 finished with value: 0.2823188405797102 and parameters: {'C': 8.486446079008413, 'penalty': 'l2', 'loss': 'hinge'}. Best is trial 47 with value: 0.3017391304347826.\n",
      "[I 2024-11-07 12:35:57,725] Trial 84 finished with value: 0.28222222222222226 and parameters: {'C': 9.347005048297106, 'penalty': 'l2', 'loss': 'hinge'}. Best is trial 47 with value: 0.3017391304347826.\n",
      "[I 2024-11-07 12:36:01,633] Trial 85 finished with value: 0.2816425120772947 and parameters: {'C': 10.073651694643889, 'penalty': 'l2', 'loss': 'hinge'}. Best is trial 47 with value: 0.3017391304347826.\n",
      "[I 2024-11-07 12:36:13,394] Trial 86 finished with value: 0.28231884057971013 and parameters: {'C': 8.052879015544674, 'penalty': 'l2', 'loss': 'hinge'}. Best is trial 47 with value: 0.3017391304347826.\n",
      "[I 2024-11-07 12:36:20,580] Trial 87 finished with value: 0.28106280193236716 and parameters: {'C': 18.40409525929513, 'penalty': 'l2', 'loss': 'hinge'}. Best is trial 47 with value: 0.3017391304347826.\n",
      "/Users/panos/.pyenv/versions/3.12.7/lib/python3.12/site-packages/sklearn/svm/_base.py:1235: ConvergenceWarning: Liblinear failed to converge, increase the number of iterations.\n",
      "  warnings.warn(\n",
      "[I 2024-11-07 12:36:26,858] Trial 88 finished with value: 0.28483091787439613 and parameters: {'C': 4.671481416269469, 'penalty': 'l2', 'loss': 'hinge'}. Best is trial 47 with value: 0.3017391304347826.\n",
      "/Users/panos/.pyenv/versions/3.12.7/lib/python3.12/site-packages/sklearn/svm/_base.py:1235: ConvergenceWarning: Liblinear failed to converge, increase the number of iterations.\n",
      "  warnings.warn(\n",
      "/Users/panos/.pyenv/versions/3.12.7/lib/python3.12/site-packages/sklearn/svm/_base.py:1235: ConvergenceWarning: Liblinear failed to converge, increase the number of iterations.\n",
      "  warnings.warn(\n",
      "[I 2024-11-07 12:36:33,443] Trial 89 finished with value: 0.281256038647343 and parameters: {'C': 12.190133545803146, 'penalty': 'l2', 'loss': 'hinge'}. Best is trial 47 with value: 0.3017391304347826.\n",
      "[I 2024-11-07 12:36:45,453] Trial 91 finished with value: 0.28241545893719805 and parameters: {'C': 8.710890047646343, 'penalty': 'l2', 'loss': 'hinge'}. Best is trial 47 with value: 0.3017391304347826.\n",
      "[I 2024-11-07 12:36:46,431] Trial 90 finished with value: 0.2810628019323672 and parameters: {'C': 11.883951333041527, 'penalty': 'l2', 'loss': 'hinge'}. Best is trial 47 with value: 0.3017391304347826.\n",
      "[I 2024-11-07 12:36:49,684] Trial 92 finished with value: 0.2833816425120773 and parameters: {'C': 6.359508445662226, 'penalty': 'l2', 'loss': 'hinge'}. Best is trial 47 with value: 0.3017391304347826.\n",
      "[I 2024-11-07 12:37:00,434] Trial 94 finished with value: 0.28106280193236716 and parameters: {'C': 11.80053760115884, 'penalty': 'l2', 'loss': 'hinge'}. Best is trial 47 with value: 0.3017391304347826.\n",
      "/Users/panos/.pyenv/versions/3.12.7/lib/python3.12/site-packages/sklearn/svm/_base.py:1235: ConvergenceWarning: Liblinear failed to converge, increase the number of iterations.\n",
      "  warnings.warn(\n",
      "/Users/panos/.pyenv/versions/3.12.7/lib/python3.12/site-packages/sklearn/svm/_base.py:1235: ConvergenceWarning: Liblinear failed to converge, increase the number of iterations.\n",
      "  warnings.warn(\n",
      "[I 2024-11-07 12:37:00,917] Trial 74 finished with value: 0.2613526570048309 and parameters: {'C': 13.313539549382494, 'penalty': 'l1', 'loss': 'hinge'}. Best is trial 47 with value: 0.3017391304347826.\n",
      "[I 2024-11-07 12:37:01,483] Trial 93 finished with value: 0.281256038647343 and parameters: {'C': 11.978717848700981, 'penalty': 'l2', 'loss': 'hinge'}. Best is trial 47 with value: 0.3017391304347826.\n",
      "[I 2024-11-07 12:37:05,320] Trial 95 finished with value: 0.2905314009661835 and parameters: {'C': 2.109664446679352, 'penalty': 'l2', 'loss': 'hinge'}. Best is trial 47 with value: 0.3017391304347826.\n",
      "[I 2024-11-07 12:37:05,402] Trial 96 finished with value: 0.29391304347826086 and parameters: {'C': 1.4979842749534147, 'penalty': 'l2', 'loss': 'hinge'}. Best is trial 47 with value: 0.3017391304347826.\n",
      "[I 2024-11-07 12:37:08,764] Trial 97 finished with value: 0.29429951690821254 and parameters: {'C': 1.4558878028301558, 'penalty': 'l2', 'loss': 'hinge'}. Best is trial 47 with value: 0.3017391304347826.\n",
      "[I 2024-11-07 12:37:10,206] Trial 98 finished with value: 0.29507246376811597 and parameters: {'C': 1.2984214944974932, 'penalty': 'l2', 'loss': 'hinge'}. Best is trial 47 with value: 0.3017391304347826.\n",
      "[I 2024-11-07 12:37:10,826] Trial 99 finished with value: 0.29729468599033815 and parameters: {'C': 0.9621590270245974, 'penalty': 'l2', 'loss': 'hinge'}. Best is trial 47 with value: 0.3017391304347826.\n"
     ]
    }
   ],
   "source": [
    "def objective(trial):\n",
    "\n",
    "    C = trial.suggest_loguniform('C', 1e-10, 1e10)\n",
    "    penalty = trial.suggest_categorical('penalty', ['l1', 'l2'])\n",
    "\n",
    "    classifier = LinearSVC(C=C, penalty=penalty, dual=False, max_iter=5000)\n",
    "\n",
    "    vect = TfidfVectorizer(ngram_range=(2, 5),\n",
    "                           analyzer=\"char\",\n",
    "                           max_df=0.5,\n",
    "                           min_df=2,\n",
    "                           lowercase=True)\n",
    "    \n",
    "    pipe = Pipeline([('vect', vect), ('clf', classifier)])\n",
    "    scores = cross_val_score(pipe,\n",
    "                             train.text,\n",
    "                             train.area,\n",
    "                             cv=5,\n",
    "                             n_jobs=-1)\n",
    "    return scores.mean()\n",
    "\n",
    "\n",
    "study = optuna.create_study(direction='maximize')\n",
    "study.optimize(objective, n_trials=100, n_jobs=-1)"
   ]
  },
  {
   "cell_type": "code",
   "execution_count": 19,
   "metadata": {},
   "outputs": [
    {
     "name": "stdout",
     "output_type": "stream",
     "text": [
      "best value: 0.3017391304347826\n",
      "best trial: FrozenTrial(number=47, state=1, values=[0.3017391304347826], datetime_start=datetime.datetime(2024, 11, 7, 12, 33, 1, 341854), datetime_complete=datetime.datetime(2024, 11, 7, 12, 34, 36, 173875), params={'C': 0.27334724924657083, 'penalty': 'l2', 'loss': 'hinge'}, user_attrs={}, system_attrs={}, intermediate_values={}, distributions={'C': FloatDistribution(high=10000000000.0, log=True, low=1e-10, step=None), 'penalty': CategoricalDistribution(choices=('l1', 'l2')), 'loss': CategoricalDistribution(choices=('hinge', 'squared_hinge'))}, trial_id=47, value=None)\n",
      "best params: {'C': 0.27334724924657083, 'penalty': 'l2', 'loss': 'hinge'}\n"
     ]
    }
   ],
   "source": [
    "print('best value:', study.best_value)\n",
    "print('best trial:', study.best_trial)\n",
    "best_params = study.best_trial.params\n",
    "print('best params:', best_params)"
   ]
  },
  {
   "cell_type": "code",
   "execution_count": 20,
   "metadata": {
    "colab": {
     "base_uri": "https://localhost:8080/"
    },
    "id": "pg2_g8Sflfns",
    "outputId": "f0db68de-9b19-467d-a0a9-74c7e349d166"
   },
   "outputs": [
    {
     "name": "stdout",
     "output_type": "stream",
     "text": [
      "                 precision    recall  f1-score   support\n",
      "\n",
      "        Ήπειρος       0.09      0.09      0.09        23\n",
      "        Αιτωλία       0.42      0.46      0.44        24\n",
      "        Αμοργός       0.26      0.32      0.29        22\n",
      "Ανατολική Θράκη       0.19      0.25      0.22        24\n",
      "        Αρκαδία       0.11      0.10      0.10        31\n",
      "          Αχαΐα       0.31      0.25      0.28        32\n",
      "      Επτάνησος       0.47      0.70      0.56        23\n",
      "         Εύβοια       0.06      0.05      0.05        20\n",
      "      Θεσπρωτία       0.11      0.09      0.10        22\n",
      "          Θράκη       0.26      0.20      0.23        25\n",
      "       Ιωάννινα       0.26      0.17      0.21        29\n",
      "       Κάρπαθος       0.42      0.39      0.41        28\n",
      "     Κεφαλληνία       0.25      0.22      0.24        27\n",
      "          Κρήτη       0.36      0.33      0.34        30\n",
      "         Κύπρος       0.70      0.96      0.81        24\n",
      "         Λέσβος       0.45      0.54      0.49        24\n",
      "        Λακωνία       0.10      0.07      0.09        27\n",
      "      Μακεδονία       0.35      0.30      0.32        27\n",
      "     Μικρά Ασία       0.20      0.11      0.14        18\n",
      "          Νάξος       0.44      0.58      0.50        24\n",
      "         Πόντος       0.73      0.84      0.78        19\n",
      "          Ρόδος       0.28      0.32      0.30        22\n",
      "         Σκύρος       0.54      0.63      0.58        30\n",
      "\n",
      "       accuracy                           0.34       575\n",
      "      macro avg       0.32      0.35      0.33       575\n",
      "   weighted avg       0.32      0.34      0.33       575\n",
      "\n"
     ]
    }
   ],
   "source": [
    "classifier = LinearSVC(**best_params,  dual=False, max_iter=5000)\n",
    "predictor_clf = Pipeline([('vect', vect), ('clf', LinearSVC())]) \n",
    "predictor_clf.fit(train.text.values, train.area.values) \n",
    "predictions_clf = predictor_clf.predict(test.text.values) \n",
    "print(classification_report(test.area.values, predictions_clf))"
   ]
  },
  {
   "cell_type": "markdown",
   "metadata": {},
   "source": [
    "### KNN"
   ]
  },
  {
   "cell_type": "code",
   "execution_count": null,
   "metadata": {},
   "outputs": [
    {
     "name": "stderr",
     "output_type": "stream",
     "text": [
      "[I 2024-11-07 18:01:58,195] A new study created in memory with name: no-name-70e6720c-9c58-49c4-b691-4f4e7554acd0\n",
      "[I 2024-11-07 18:02:01,033] Trial 3 finished with value: 0.17545893719806763 and parameters: {'n_neighbors': 14, 'weights': 'uniform', 'p': 2}. Best is trial 3 with value: 0.17545893719806763.\n",
      "[I 2024-11-07 18:02:02,241] Trial 4 finished with value: 0.17207729468599034 and parameters: {'n_neighbors': 3, 'weights': 'distance', 'p': 2}. Best is trial 3 with value: 0.17545893719806763.\n",
      "[I 2024-11-07 18:02:03,369] Trial 14 finished with value: 0.19053140096618357 and parameters: {'n_neighbors': 9, 'weights': 'distance', 'p': 2}. Best is trial 14 with value: 0.19053140096618357.\n",
      "[I 2024-11-07 18:02:04,529] Trial 1 finished with value: 0.19246376811594204 and parameters: {'n_neighbors': 27, 'weights': 'uniform', 'p': 2}. Best is trial 1 with value: 0.19246376811594204.\n",
      "[I 2024-11-07 18:02:04,967] Trial 6 finished with value: 0.20048309178743962 and parameters: {'n_neighbors': 42, 'weights': 'uniform', 'p': 2}. Best is trial 6 with value: 0.20048309178743962.\n",
      "[I 2024-11-07 18:02:05,611] Trial 2 finished with value: 0.04328502415458937 and parameters: {'n_neighbors': 37, 'weights': 'uniform', 'p': 1}. Best is trial 6 with value: 0.20048309178743962.\n",
      "[I 2024-11-07 18:02:06,206] Trial 13 finished with value: 0.14454106280193235 and parameters: {'n_neighbors': 4, 'weights': 'uniform', 'p': 2}. Best is trial 6 with value: 0.20048309178743962.\n",
      "[I 2024-11-07 18:02:06,884] Trial 5 finished with value: 0.043381642512077295 and parameters: {'n_neighbors': 35, 'weights': 'uniform', 'p': 1}. Best is trial 6 with value: 0.20048309178743962.\n",
      "[I 2024-11-07 18:02:07,560] Trial 8 finished with value: 0.2135265700483092 and parameters: {'n_neighbors': 45, 'weights': 'distance', 'p': 2}. Best is trial 8 with value: 0.2135265700483092.\n",
      "[I 2024-11-07 18:02:11,457] Trial 9 finished with value: 0.04164251207729469 and parameters: {'n_neighbors': 7, 'weights': 'uniform', 'p': 1}. Best is trial 8 with value: 0.2135265700483092.\n",
      "[I 2024-11-07 18:02:11,755] Trial 12 finished with value: 0.044057971014492756 and parameters: {'n_neighbors': 38, 'weights': 'uniform', 'p': 1}. Best is trial 8 with value: 0.2135265700483092.\n",
      "[I 2024-11-07 18:02:12,744] Trial 15 finished with value: 0.19149758454106283 and parameters: {'n_neighbors': 10, 'weights': 'distance', 'p': 2}. Best is trial 8 with value: 0.2135265700483092.\n",
      "[I 2024-11-07 18:02:13,337] Trial 11 finished with value: 0.043961352657004835 and parameters: {'n_neighbors': 30, 'weights': 'distance', 'p': 1}. Best is trial 8 with value: 0.2135265700483092.\n",
      "[I 2024-11-07 18:02:17,625] Trial 0 finished with value: 0.0463768115942029 and parameters: {'n_neighbors': 12, 'weights': 'uniform', 'p': 1}. Best is trial 8 with value: 0.2135265700483092.\n",
      "[I 2024-11-07 18:02:18,973] Trial 10 finished with value: 0.04531400966183575 and parameters: {'n_neighbors': 22, 'weights': 'distance', 'p': 1}. Best is trial 8 with value: 0.2135265700483092.\n",
      "[I 2024-11-07 18:02:19,598] Trial 7 finished with value: 0.04251207729468599 and parameters: {'n_neighbors': 27, 'weights': 'uniform', 'p': 1}. Best is trial 8 with value: 0.2135265700483092.\n",
      "[I 2024-11-07 18:02:20,978] Trial 18 finished with value: 0.1779710144927536 and parameters: {'n_neighbors': 15, 'weights': 'uniform', 'p': 2}. Best is trial 8 with value: 0.2135265700483092.\n",
      "[I 2024-11-07 18:02:23,499] Trial 16 finished with value: 0.043961352657004835 and parameters: {'n_neighbors': 46, 'weights': 'distance', 'p': 1}. Best is trial 8 with value: 0.2135265700483092.\n",
      "[I 2024-11-07 18:02:24,715] Trial 17 finished with value: 0.04251207729468599 and parameters: {'n_neighbors': 3, 'weights': 'distance', 'p': 1}. Best is trial 8 with value: 0.2135265700483092.\n",
      "[I 2024-11-07 18:02:26,769] Trial 19 finished with value: 0.043574879227053144 and parameters: {'n_neighbors': 29, 'weights': 'distance', 'p': 1}. Best is trial 8 with value: 0.2135265700483092.\n",
      "[I 2024-11-07 18:02:27,657] Trial 22 finished with value: 0.19140096618357488 and parameters: {'n_neighbors': 11, 'weights': 'distance', 'p': 2}. Best is trial 8 with value: 0.2135265700483092.\n",
      "[I 2024-11-07 18:02:29,770] Trial 20 finished with value: 0.0463768115942029 and parameters: {'n_neighbors': 12, 'weights': 'uniform', 'p': 1}. Best is trial 8 with value: 0.2135265700483092.\n",
      "[I 2024-11-07 18:02:30,894] Trial 21 finished with value: 0.0455072463768116 and parameters: {'n_neighbors': 24, 'weights': 'uniform', 'p': 1}. Best is trial 8 with value: 0.2135265700483092.\n",
      "[I 2024-11-07 18:02:31,061] Trial 24 finished with value: 0.20338164251207727 and parameters: {'n_neighbors': 48, 'weights': 'uniform', 'p': 2}. Best is trial 8 with value: 0.2135265700483092.\n",
      "[I 2024-11-07 18:02:32,589] Trial 26 finished with value: 0.21594202898550724 and parameters: {'n_neighbors': 48, 'weights': 'distance', 'p': 2}. Best is trial 26 with value: 0.21594202898550724.\n",
      "[I 2024-11-07 18:02:33,583] Trial 27 finished with value: 0.21536231884057971 and parameters: {'n_neighbors': 46, 'weights': 'distance', 'p': 2}. Best is trial 26 with value: 0.21594202898550724.\n",
      "[I 2024-11-07 18:02:33,850] Trial 23 finished with value: 0.04251207729468599 and parameters: {'n_neighbors': 27, 'weights': 'uniform', 'p': 1}. Best is trial 26 with value: 0.21594202898550724.\n",
      "[I 2024-11-07 18:02:34,403] Trial 28 finished with value: 0.21536231884057971 and parameters: {'n_neighbors': 49, 'weights': 'distance', 'p': 2}. Best is trial 26 with value: 0.21594202898550724.\n",
      "[I 2024-11-07 18:02:35,125] Trial 29 finished with value: 0.21594202898550724 and parameters: {'n_neighbors': 50, 'weights': 'distance', 'p': 2}. Best is trial 26 with value: 0.21594202898550724.\n",
      "[I 2024-11-07 18:02:35,639] Trial 30 finished with value: 0.21594202898550724 and parameters: {'n_neighbors': 50, 'weights': 'distance', 'p': 2}. Best is trial 26 with value: 0.21594202898550724.\n",
      "[I 2024-11-07 18:02:36,144] Trial 25 finished with value: 0.04463768115942029 and parameters: {'n_neighbors': 44, 'weights': 'distance', 'p': 1}. Best is trial 26 with value: 0.21594202898550724.\n",
      "[I 2024-11-07 18:02:36,393] Trial 31 finished with value: 0.21594202898550724 and parameters: {'n_neighbors': 50, 'weights': 'distance', 'p': 2}. Best is trial 26 with value: 0.21594202898550724.\n",
      "[I 2024-11-07 18:02:37,261] Trial 32 finished with value: 0.21594202898550724 and parameters: {'n_neighbors': 50, 'weights': 'distance', 'p': 2}. Best is trial 26 with value: 0.21594202898550724.\n",
      "[I 2024-11-07 18:02:37,657] Trial 33 finished with value: 0.21594202898550724 and parameters: {'n_neighbors': 50, 'weights': 'distance', 'p': 2}. Best is trial 26 with value: 0.21594202898550724.\n",
      "[I 2024-11-07 18:02:37,933] Trial 34 finished with value: 0.21594202898550724 and parameters: {'n_neighbors': 50, 'weights': 'distance', 'p': 2}. Best is trial 26 with value: 0.21594202898550724.\n",
      "[I 2024-11-07 18:02:38,807] Trial 35 finished with value: 0.21594202898550724 and parameters: {'n_neighbors': 50, 'weights': 'distance', 'p': 2}. Best is trial 26 with value: 0.21594202898550724.\n",
      "[I 2024-11-07 18:02:39,024] Trial 36 finished with value: 0.20270531400966182 and parameters: {'n_neighbors': 49, 'weights': 'uniform', 'p': 2}. Best is trial 26 with value: 0.21594202898550724.\n",
      "[I 2024-11-07 18:02:39,906] Trial 37 finished with value: 0.20444444444444448 and parameters: {'n_neighbors': 46, 'weights': 'uniform', 'p': 2}. Best is trial 26 with value: 0.21594202898550724.\n",
      "[I 2024-11-07 18:02:40,510] Trial 39 finished with value: 0.20270531400966182 and parameters: {'n_neighbors': 49, 'weights': 'uniform', 'p': 2}. Best is trial 26 with value: 0.21594202898550724.\n",
      "[I 2024-11-07 18:02:40,540] Trial 38 finished with value: 0.20338164251207727 and parameters: {'n_neighbors': 48, 'weights': 'uniform', 'p': 2}. Best is trial 26 with value: 0.21594202898550724.\n",
      "[I 2024-11-07 18:02:41,140] Trial 40 finished with value: 0.21594202898550724 and parameters: {'n_neighbors': 50, 'weights': 'distance', 'p': 2}. Best is trial 26 with value: 0.21594202898550724.\n"
     ]
    }
   ],
   "source": [
    "# For some reason, scikit-learn will not always\n",
    "# encode 'Ήπειρος'. This is a workaround.\n",
    "from sklearn.preprocessing import LabelEncoder\n",
    "\n",
    "area_encoded = LabelEncoder().fit_transform(train.area)\n",
    "\n",
    "def objective(trial):\n",
    "\n",
    "    n_neighbors = trial.suggest_int('n_neighbors', 1, 50)\n",
    "    weights = trial.suggest_categorical('weights', ['uniform', 'distance'])\n",
    "    p = trial.suggest_categorical('p', [1, 2])\n",
    "    classifier = KNeighborsClassifier(n_neighbors=n_neighbors,\n",
    "                                      weights=weights,\n",
    "                                      p=p)\n",
    "\n",
    "    vect = TfidfVectorizer(ngram_range=(2, 5),\n",
    "                           analyzer=\"char\",\n",
    "                           max_df=0.5,\n",
    "                           min_df=2,\n",
    "                           lowercase=True)\n",
    "    \n",
    "    pipe = Pipeline([('vect', vect), ('clf', classifier)])\n",
    "    scores = cross_val_score(pipe,\n",
    "                             train.text,\n",
    "                             area_encoded,\n",
    "                             cv=5,\n",
    "                             n_jobs=-1)\n",
    "    return scores.mean()\n",
    "\n",
    "\n",
    "study = optuna.create_study(direction='maximize')\n",
    "study.optimize(objective, n_trials=100, n_jobs=-1)"
   ]
  },
  {
   "cell_type": "code",
   "execution_count": 22,
   "metadata": {},
   "outputs": [
    {
     "name": "stdout",
     "output_type": "stream",
     "text": [
      "best value: 0.21594202898550724\n",
      "best trial: FrozenTrial(number=34, state=1, values=[0.21594202898550724], datetime_start=datetime.datetime(2024, 11, 7, 12, 42, 12, 332965), datetime_complete=datetime.datetime(2024, 11, 7, 12, 42, 22, 293065), params={'n_neighbors': 48, 'weights': 'distance', 'p': 2}, user_attrs={}, system_attrs={}, intermediate_values={}, distributions={'n_neighbors': IntDistribution(high=50, log=False, low=1, step=1), 'weights': CategoricalDistribution(choices=('uniform', 'distance')), 'p': CategoricalDistribution(choices=(1, 2))}, trial_id=34, value=None)\n",
      "best params: {'n_neighbors': 48, 'weights': 'distance', 'p': 2}\n"
     ]
    }
   ],
   "source": [
    "print('best value:', study.best_value)\n",
    "print('best trial:', study.best_trial)\n",
    "best_params = study.best_trial.params\n",
    "print('best params:', best_params)"
   ]
  },
  {
   "cell_type": "code",
   "execution_count": 23,
   "metadata": {},
   "outputs": [
    {
     "data": {
      "text/plain": [
       "0.24521739130434783"
      ]
     },
     "execution_count": 23,
     "metadata": {},
     "output_type": "execute_result"
    }
   ],
   "source": [
    "classifier = KNeighborsClassifier(**best_params)\n",
    "pipe = Pipeline([('vect', vect), ('clf', classifier)])\n",
    "pipe.fit(train.text, train.area)\n",
    "score = pipe.score(test.text, test.area)\n",
    "score"
   ]
  },
  {
   "cell_type": "code",
   "execution_count": 24,
   "metadata": {},
   "outputs": [
    {
     "name": "stdout",
     "output_type": "stream",
     "text": [
      "                 precision    recall  f1-score   support\n",
      "\n",
      "        Ήπειρος       0.05      0.04      0.05        23\n",
      "        Αιτωλία       0.26      0.29      0.27        24\n",
      "        Αμοργός       0.19      0.27      0.22        22\n",
      "Ανατολική Θράκη       0.14      0.21      0.17        24\n",
      "        Αρκαδία       0.14      0.13      0.13        31\n",
      "          Αχαΐα       0.21      0.19      0.20        32\n",
      "      Επτάνησος       0.28      0.57      0.38        23\n",
      "         Εύβοια       0.06      0.05      0.05        20\n",
      "      Θεσπρωτία       0.06      0.05      0.05        22\n",
      "          Θράκη       0.27      0.16      0.20        25\n",
      "       Ιωάννινα       0.13      0.07      0.09        29\n",
      "       Κάρπαθος       0.38      0.21      0.27        28\n",
      "     Κεφαλληνία       0.18      0.19      0.18        27\n",
      "          Κρήτη       0.24      0.20      0.22        30\n",
      "         Κύπρος       0.53      0.71      0.61        24\n",
      "         Λέσβος       0.38      0.46      0.42        24\n",
      "        Λακωνία       0.12      0.11      0.12        27\n",
      "      Μακεδονία       0.24      0.15      0.18        27\n",
      "     Μικρά Ασία       0.00      0.00      0.00        18\n",
      "          Νάξος       0.25      0.29      0.27        24\n",
      "         Πόντος       0.57      0.68      0.62        19\n",
      "          Ρόδος       0.21      0.18      0.20        22\n",
      "         Σκύρος       0.52      0.50      0.51        30\n",
      "\n",
      "       accuracy                           0.25       575\n",
      "      macro avg       0.23      0.25      0.23       575\n",
      "   weighted avg       0.24      0.25      0.23       575\n",
      "\n"
     ]
    }
   ],
   "source": [
    "predictor_clf = Pipeline([('vect', vect), ('clf', classifier)])\n",
    "predictor_clf.fit(train.text, train.area)\n",
    "predictions_clf = predictor_clf.predict(test.text)\n",
    "print(classification_report(test.area, predictions_clf))"
   ]
  },
  {
   "cell_type": "code",
   "execution_count": 25,
   "metadata": {},
   "outputs": [
    {
     "name": "stderr",
     "output_type": "stream",
     "text": [
      "[I 2024-11-07 13:12:58,565] A new study created in memory with name: no-name-b971e39d-5a44-44ee-aca0-27ca70822775\n",
      "[I 2024-11-07 13:13:04,160] Trial 12 finished with value: 0.19507246376811596 and parameters: {'n_estimators': 427, 'max_depth': 3, 'min_samples_split': 9, 'min_samples_leaf': 6}. Best is trial 12 with value: 0.19507246376811596.\n",
      "[I 2024-11-07 13:13:04,660] Trial 1 finished with value: 0.23700483091787436 and parameters: {'n_estimators': 500, 'max_depth': 18, 'min_samples_split': 2, 'min_samples_leaf': 1}. Best is trial 1 with value: 0.23700483091787436.\n",
      "[I 2024-11-07 13:13:06,684] Trial 14 finished with value: 0.23371980676328502 and parameters: {'n_estimators': 162, 'max_depth': 28, 'min_samples_split': 5, 'min_samples_leaf': 3}. Best is trial 1 with value: 0.23700483091787436.\n",
      "[I 2024-11-07 13:13:07,160] Trial 8 finished with value: 0.22966183574879223 and parameters: {'n_estimators': 153, 'max_depth': 26, 'min_samples_split': 10, 'min_samples_leaf': 5}. Best is trial 1 with value: 0.23700483091787436.\n",
      "[I 2024-11-07 13:13:08,747] Trial 6 finished with value: 0.2046376811594203 and parameters: {'n_estimators': 312, 'max_depth': 6, 'min_samples_split': 4, 'min_samples_leaf': 2}. Best is trial 1 with value: 0.23700483091787436.\n",
      "[I 2024-11-07 13:13:09,183] Trial 7 finished with value: 0.22270531400966184 and parameters: {'n_estimators': 191, 'max_depth': 16, 'min_samples_split': 4, 'min_samples_leaf': 7}. Best is trial 1 with value: 0.23700483091787436.\n",
      "[I 2024-11-07 13:13:09,828] Trial 11 finished with value: 0.2238647342995169 and parameters: {'n_estimators': 114, 'max_depth': 22, 'min_samples_split': 2, 'min_samples_leaf': 4}. Best is trial 1 with value: 0.23700483091787436.\n",
      "[I 2024-11-07 13:13:13,457] Trial 10 finished with value: 0.22550724637681158 and parameters: {'n_estimators': 485, 'max_depth': 17, 'min_samples_split': 2, 'min_samples_leaf': 10}. Best is trial 1 with value: 0.23700483091787436.\n",
      "[I 2024-11-07 13:13:13,593] Trial 13 finished with value: 0.22908212560386473 and parameters: {'n_estimators': 271, 'max_depth': 21, 'min_samples_split': 9, 'min_samples_leaf': 5}. Best is trial 1 with value: 0.23700483091787436.\n",
      "[I 2024-11-07 13:13:13,724] Trial 15 finished with value: 0.23797101449275365 and parameters: {'n_estimators': 481, 'max_depth': 19, 'min_samples_split': 7, 'min_samples_leaf': 1}. Best is trial 15 with value: 0.23797101449275365.\n",
      "[I 2024-11-07 13:13:13,765] Trial 4 finished with value: 0.22560386473429955 and parameters: {'n_estimators': 378, 'max_depth': 18, 'min_samples_split': 3, 'min_samples_leaf': 7}. Best is trial 15 with value: 0.23797101449275365.\n",
      "[I 2024-11-07 13:13:14,813] Trial 9 finished with value: 0.21816425120772948 and parameters: {'n_estimators': 165, 'max_depth': 16, 'min_samples_split': 4, 'min_samples_leaf': 7}. Best is trial 15 with value: 0.23797101449275365.\n",
      "[I 2024-11-07 13:13:16,139] Trial 3 finished with value: 0.2272463768115942 and parameters: {'n_estimators': 286, 'max_depth': 23, 'min_samples_split': 6, 'min_samples_leaf': 9}. Best is trial 15 with value: 0.23797101449275365.\n",
      "[I 2024-11-07 13:13:16,530] Trial 0 finished with value: 0.23091787439613526 and parameters: {'n_estimators': 344, 'max_depth': 17, 'min_samples_split': 2, 'min_samples_leaf': 5}. Best is trial 15 with value: 0.23797101449275365.\n",
      "[I 2024-11-07 13:13:17,182] Trial 5 finished with value: 0.21613526570048308 and parameters: {'n_estimators': 383, 'max_depth': 12, 'min_samples_split': 4, 'min_samples_leaf': 10}. Best is trial 15 with value: 0.23797101449275365.\n",
      "[I 2024-11-07 13:13:18,881] Trial 16 finished with value: 0.21555555555555558 and parameters: {'n_estimators': 151, 'max_depth': 17, 'min_samples_split': 7, 'min_samples_leaf': 8}. Best is trial 15 with value: 0.23797101449275365.\n",
      "[I 2024-11-07 13:13:18,903] Trial 2 finished with value: 0.22753623188405797 and parameters: {'n_estimators': 475, 'max_depth': 15, 'min_samples_split': 3, 'min_samples_leaf': 5}. Best is trial 15 with value: 0.23797101449275365.\n",
      "[I 2024-11-07 13:13:20,011] Trial 17 finished with value: 0.19768115942028985 and parameters: {'n_estimators': 333, 'max_depth': 4, 'min_samples_split': 6, 'min_samples_leaf': 2}. Best is trial 15 with value: 0.23797101449275365.\n",
      "[I 2024-11-07 13:13:21,711] Trial 19 finished with value: 0.22057971014492753 and parameters: {'n_estimators': 109, 'max_depth': 24, 'min_samples_split': 4, 'min_samples_leaf': 8}. Best is trial 15 with value: 0.23797101449275365.\n",
      "[I 2024-11-07 13:13:22,457] Trial 18 finished with value: 0.23371980676328502 and parameters: {'n_estimators': 459, 'max_depth': 20, 'min_samples_split': 9, 'min_samples_leaf': 2}. Best is trial 15 with value: 0.23797101449275365.\n",
      "[I 2024-11-07 13:13:23,346] Trial 20 finished with value: 0.21797101449275363 and parameters: {'n_estimators': 354, 'max_depth': 11, 'min_samples_split': 10, 'min_samples_leaf': 4}. Best is trial 15 with value: 0.23797101449275365.\n",
      "[I 2024-11-07 13:13:25,028] Trial 21 finished with value: 0.2318840579710145 and parameters: {'n_estimators': 310, 'max_depth': 24, 'min_samples_split': 4, 'min_samples_leaf': 3}. Best is trial 15 with value: 0.23797101449275365.\n",
      "[I 2024-11-07 13:13:25,630] Trial 22 finished with value: 0.22946859903381642 and parameters: {'n_estimators': 311, 'max_depth': 23, 'min_samples_split': 5, 'min_samples_leaf': 5}. Best is trial 15 with value: 0.23797101449275365.\n",
      "[I 2024-11-07 13:13:28,104] Trial 23 finished with value: 0.2273429951690821 and parameters: {'n_estimators': 367, 'max_depth': 20, 'min_samples_split': 9, 'min_samples_leaf': 8}. Best is trial 15 with value: 0.23797101449275365.\n",
      "[I 2024-11-07 13:13:29,232] Trial 25 finished with value: 0.21429951690821256 and parameters: {'n_estimators': 373, 'max_depth': 10, 'min_samples_split': 7, 'min_samples_leaf': 8}. Best is trial 15 with value: 0.23797101449275365.\n",
      "[I 2024-11-07 13:13:29,293] Trial 24 finished with value: 0.23922705314009662 and parameters: {'n_estimators': 323, 'max_depth': 21, 'min_samples_split': 8, 'min_samples_leaf': 1}. Best is trial 24 with value: 0.23922705314009662.\n",
      "[I 2024-11-07 13:13:31,610] Trial 26 finished with value: 0.2209661835748792 and parameters: {'n_estimators': 500, 'max_depth': 10, 'min_samples_split': 7, 'min_samples_leaf': 1}. Best is trial 24 with value: 0.23922705314009662.\n",
      "[I 2024-11-07 13:13:32,825] Trial 27 finished with value: 0.22000000000000003 and parameters: {'n_estimators': 497, 'max_depth': 11, 'min_samples_split': 7, 'min_samples_leaf': 1}. Best is trial 24 with value: 0.23922705314009662.\n",
      "[I 2024-11-07 13:13:33,205] Trial 28 finished with value: 0.21700483091787443 and parameters: {'n_estimators': 483, 'max_depth': 10, 'min_samples_split': 8, 'min_samples_leaf': 1}. Best is trial 24 with value: 0.23922705314009662.\n",
      "[I 2024-11-07 13:13:34,887] Trial 29 finished with value: 0.21913043478260869 and parameters: {'n_estimators': 497, 'max_depth': 10, 'min_samples_split': 7, 'min_samples_leaf': 1}. Best is trial 24 with value: 0.23922705314009662.\n",
      "[I 2024-11-07 13:13:37,359] Trial 30 finished with value: 0.22202898550724637 and parameters: {'n_estimators': 500, 'max_depth': 10, 'min_samples_split': 7, 'min_samples_leaf': 1}. Best is trial 24 with value: 0.23922705314009662.\n",
      "[I 2024-11-07 13:13:39,967] Trial 32 finished with value: 0.24531400966183572 and parameters: {'n_estimators': 442, 'max_depth': 32, 'min_samples_split': 7, 'min_samples_leaf': 1}. Best is trial 32 with value: 0.24531400966183572.\n",
      "[I 2024-11-07 13:13:44,105] Trial 31 finished with value: 0.243768115942029 and parameters: {'n_estimators': 490, 'max_depth': 32, 'min_samples_split': 7, 'min_samples_leaf': 1}. Best is trial 32 with value: 0.24531400966183572.\n",
      "[I 2024-11-07 13:13:46,053] Trial 33 finished with value: 0.24888888888888888 and parameters: {'n_estimators': 489, 'max_depth': 32, 'min_samples_split': 8, 'min_samples_leaf': 1}. Best is trial 33 with value: 0.24888888888888888.\n",
      "[I 2024-11-07 13:13:47,063] Trial 35 finished with value: 0.2197101449275362 and parameters: {'n_estimators': 426, 'max_depth': 10, 'min_samples_split': 7, 'min_samples_leaf': 1}. Best is trial 33 with value: 0.24888888888888888.\n",
      "[I 2024-11-07 13:13:47,236] Trial 34 finished with value: 0.24589371980676328 and parameters: {'n_estimators': 442, 'max_depth': 31, 'min_samples_split': 7, 'min_samples_leaf': 1}. Best is trial 33 with value: 0.24888888888888888.\n",
      "[I 2024-11-07 13:13:50,038] Trial 36 finished with value: 0.23729468599033812 and parameters: {'n_estimators': 244, 'max_depth': 28, 'min_samples_split': 7, 'min_samples_leaf': 1}. Best is trial 33 with value: 0.24888888888888888.\n",
      "[I 2024-11-07 13:13:50,915] Trial 37 finished with value: 0.236231884057971 and parameters: {'n_estimators': 216, 'max_depth': 32, 'min_samples_split': 7, 'min_samples_leaf': 1}. Best is trial 33 with value: 0.24888888888888888.\n",
      "[I 2024-11-07 13:13:52,391] Trial 38 finished with value: 0.23922705314009662 and parameters: {'n_estimators': 243, 'max_depth': 31, 'min_samples_split': 7, 'min_samples_leaf': 1}. Best is trial 33 with value: 0.24888888888888888.\n",
      "[I 2024-11-07 13:13:55,252] Trial 39 finished with value: 0.23874396135265705 and parameters: {'n_estimators': 232, 'max_depth': 32, 'min_samples_split': 7, 'min_samples_leaf': 1}. Best is trial 33 with value: 0.24888888888888888.\n",
      "[I 2024-11-07 13:13:55,952] Trial 40 finished with value: 0.23922705314009657 and parameters: {'n_estimators': 232, 'max_depth': 31, 'min_samples_split': 7, 'min_samples_leaf': 1}. Best is trial 33 with value: 0.24888888888888888.\n",
      "[I 2024-11-07 13:14:00,011] Trial 41 finished with value: 0.24405797101449273 and parameters: {'n_estimators': 419, 'max_depth': 31, 'min_samples_split': 8, 'min_samples_leaf': 1}. Best is trial 33 with value: 0.24888888888888888.\n",
      "[I 2024-11-07 13:14:03,506] Trial 42 finished with value: 0.2454106280193237 and parameters: {'n_estimators': 431, 'max_depth': 32, 'min_samples_split': 8, 'min_samples_leaf': 1}. Best is trial 33 with value: 0.24888888888888888.\n",
      "[I 2024-11-07 13:14:03,815] Trial 43 finished with value: 0.24724637681159423 and parameters: {'n_estimators': 424, 'max_depth': 31, 'min_samples_split': 8, 'min_samples_leaf': 1}. Best is trial 33 with value: 0.24888888888888888.\n",
      "[I 2024-11-07 13:14:06,689] Trial 44 finished with value: 0.24318840579710144 and parameters: {'n_estimators': 427, 'max_depth': 29, 'min_samples_split': 8, 'min_samples_leaf': 3}. Best is trial 33 with value: 0.24888888888888888.\n",
      "[I 2024-11-07 13:14:08,347] Trial 45 finished with value: 0.24260869565217388 and parameters: {'n_estimators': 426, 'max_depth': 31, 'min_samples_split': 8, 'min_samples_leaf': 3}. Best is trial 33 with value: 0.24888888888888888.\n",
      "[I 2024-11-07 13:14:08,482] Trial 46 finished with value: 0.23642512077294686 and parameters: {'n_estimators': 240, 'max_depth': 31, 'min_samples_split': 8, 'min_samples_leaf': 3}. Best is trial 33 with value: 0.24888888888888888.\n",
      "[I 2024-11-07 13:14:12,324] Trial 47 finished with value: 0.24357487922705318 and parameters: {'n_estimators': 432, 'max_depth': 30, 'min_samples_split': 8, 'min_samples_leaf': 2}. Best is trial 33 with value: 0.24888888888888888.\n",
      "[I 2024-11-07 13:14:14,160] Trial 48 finished with value: 0.2477294685990338 and parameters: {'n_estimators': 432, 'max_depth': 32, 'min_samples_split': 8, 'min_samples_leaf': 2}. Best is trial 33 with value: 0.24888888888888888.\n",
      "[I 2024-11-07 13:14:15,329] Trial 49 finished with value: 0.24811594202898551 and parameters: {'n_estimators': 425, 'max_depth': 32, 'min_samples_split': 8, 'min_samples_leaf': 2}. Best is trial 33 with value: 0.24888888888888888.\n",
      "[I 2024-11-07 13:14:18,764] Trial 50 finished with value: 0.24637681159420294 and parameters: {'n_estimators': 447, 'max_depth': 31, 'min_samples_split': 8, 'min_samples_leaf': 2}. Best is trial 33 with value: 0.24888888888888888.\n",
      "[I 2024-11-07 13:14:21,116] Trial 51 finished with value: 0.24367149758454104 and parameters: {'n_estimators': 442, 'max_depth': 32, 'min_samples_split': 8, 'min_samples_leaf': 3}. Best is trial 33 with value: 0.24888888888888888.\n",
      "[I 2024-11-07 13:14:22,211] Trial 52 finished with value: 0.24579710144927538 and parameters: {'n_estimators': 447, 'max_depth': 32, 'min_samples_split': 8, 'min_samples_leaf': 2}. Best is trial 33 with value: 0.24888888888888888.\n",
      "[I 2024-11-07 13:14:25,093] Trial 53 finished with value: 0.24608695652173912 and parameters: {'n_estimators': 437, 'max_depth': 32, 'min_samples_split': 8, 'min_samples_leaf': 2}. Best is trial 33 with value: 0.24888888888888888.\n",
      "[I 2024-11-07 13:14:27,047] Trial 54 finished with value: 0.23971014492753623 and parameters: {'n_estimators': 431, 'max_depth': 30, 'min_samples_split': 8, 'min_samples_leaf': 3}. Best is trial 33 with value: 0.24888888888888888.\n",
      "[I 2024-11-07 13:14:28,490] Trial 55 finished with value: 0.24241545893719807 and parameters: {'n_estimators': 446, 'max_depth': 30, 'min_samples_split': 8, 'min_samples_leaf': 3}. Best is trial 33 with value: 0.24888888888888888.\n",
      "[I 2024-11-07 13:14:31,975] Trial 56 finished with value: 0.2451207729468599 and parameters: {'n_estimators': 447, 'max_depth': 29, 'min_samples_split': 8, 'min_samples_leaf': 2}. Best is trial 33 with value: 0.24888888888888888.\n",
      "[I 2024-11-07 13:14:33,072] Trial 57 finished with value: 0.2471497584541063 and parameters: {'n_estimators': 449, 'max_depth': 29, 'min_samples_split': 8, 'min_samples_leaf': 2}. Best is trial 33 with value: 0.24888888888888888.\n",
      "[I 2024-11-07 13:14:34,450] Trial 58 finished with value: 0.2404830917874396 and parameters: {'n_estimators': 408, 'max_depth': 29, 'min_samples_split': 8, 'min_samples_leaf': 2}. Best is trial 33 with value: 0.24888888888888888.\n",
      "[I 2024-11-07 13:14:37,616] Trial 59 finished with value: 0.24676328502415462 and parameters: {'n_estimators': 448, 'max_depth': 29, 'min_samples_split': 8, 'min_samples_leaf': 2}. Best is trial 33 with value: 0.24888888888888888.\n",
      "[I 2024-11-07 13:14:39,539] Trial 60 finished with value: 0.24309178743961354 and parameters: {'n_estimators': 461, 'max_depth': 29, 'min_samples_split': 6, 'min_samples_leaf': 2}. Best is trial 33 with value: 0.24888888888888888.\n",
      "[I 2024-11-07 13:14:40,578] Trial 61 finished with value: 0.24280193236714975 and parameters: {'n_estimators': 457, 'max_depth': 29, 'min_samples_split': 6, 'min_samples_leaf': 2}. Best is trial 33 with value: 0.24888888888888888.\n",
      "[I 2024-11-07 13:14:43,311] Trial 62 finished with value: 0.24463768115942033 and parameters: {'n_estimators': 456, 'max_depth': 29, 'min_samples_split': 6, 'min_samples_leaf': 2}. Best is trial 33 with value: 0.24888888888888888.\n",
      "[I 2024-11-07 13:14:45,147] Trial 63 finished with value: 0.23971014492753623 and parameters: {'n_estimators': 398, 'max_depth': 26, 'min_samples_split': 6, 'min_samples_leaf': 2}. Best is trial 33 with value: 0.24888888888888888.\n",
      "[I 2024-11-07 13:14:46,498] Trial 64 finished with value: 0.24096618357487923 and parameters: {'n_estimators': 394, 'max_depth': 27, 'min_samples_split': 9, 'min_samples_leaf': 2}. Best is trial 33 with value: 0.24888888888888888.\n",
      "[I 2024-11-07 13:14:47,705] Trial 65 finished with value: 0.2451207729468599 and parameters: {'n_estimators': 396, 'max_depth': 26, 'min_samples_split': 9, 'min_samples_leaf': 2}. Best is trial 33 with value: 0.24888888888888888.\n",
      "[I 2024-11-07 13:14:51,579] Trial 66 finished with value: 0.2390338164251208 and parameters: {'n_estimators': 462, 'max_depth': 26, 'min_samples_split': 9, 'min_samples_leaf': 2}. Best is trial 33 with value: 0.24888888888888888.\n",
      "[I 2024-11-07 13:14:52,253] Trial 67 finished with value: 0.24309178743961354 and parameters: {'n_estimators': 403, 'max_depth': 27, 'min_samples_split': 6, 'min_samples_leaf': 2}. Best is trial 33 with value: 0.24888888888888888.\n",
      "[I 2024-11-07 13:14:52,968] Trial 68 finished with value: 0.242512077294686 and parameters: {'n_estimators': 394, 'max_depth': 27, 'min_samples_split': 6, 'min_samples_leaf': 2}. Best is trial 33 with value: 0.24888888888888888.\n",
      "[I 2024-11-07 13:14:55,965] Trial 69 finished with value: 0.23951690821256041 and parameters: {'n_estimators': 406, 'max_depth': 26, 'min_samples_split': 9, 'min_samples_leaf': 2}. Best is trial 33 with value: 0.24888888888888888.\n",
      "[I 2024-11-07 13:14:57,942] Trial 70 finished with value: 0.24193236714975846 and parameters: {'n_estimators': 467, 'max_depth': 26, 'min_samples_split': 9, 'min_samples_leaf': 4}. Best is trial 33 with value: 0.24888888888888888.\n",
      "[I 2024-11-07 13:14:59,241] Trial 71 finished with value: 0.24164251207729465 and parameters: {'n_estimators': 467, 'max_depth': 27, 'min_samples_split': 9, 'min_samples_leaf': 2}. Best is trial 33 with value: 0.24888888888888888.\n",
      "[I 2024-11-07 13:15:01,059] Trial 72 finished with value: 0.23971014492753623 and parameters: {'n_estimators': 402, 'max_depth': 28, 'min_samples_split': 9, 'min_samples_leaf': 2}. Best is trial 33 with value: 0.24888888888888888.\n",
      "[I 2024-11-07 13:15:03,022] Trial 73 finished with value: 0.23468599033816426 and parameters: {'n_estimators': 401, 'max_depth': 26, 'min_samples_split': 9, 'min_samples_leaf': 4}. Best is trial 33 with value: 0.24888888888888888.\n",
      "[I 2024-11-07 13:15:04,373] Trial 74 finished with value: 0.23632850241545894 and parameters: {'n_estimators': 397, 'max_depth': 26, 'min_samples_split': 9, 'min_samples_leaf': 4}. Best is trial 33 with value: 0.24888888888888888.\n",
      "[I 2024-11-07 13:15:06,004] Trial 75 finished with value: 0.23719806763285023 and parameters: {'n_estimators': 467, 'max_depth': 26, 'min_samples_split': 9, 'min_samples_leaf': 4}. Best is trial 33 with value: 0.24888888888888888.\n",
      "[I 2024-11-07 13:15:08,265] Trial 76 finished with value: 0.23681159420289855 and parameters: {'n_estimators': 394, 'max_depth': 26, 'min_samples_split': 9, 'min_samples_leaf': 4}. Best is trial 33 with value: 0.24888888888888888.\n",
      "[I 2024-11-07 13:15:09,580] Trial 77 finished with value: 0.2338164251207729 and parameters: {'n_estimators': 473, 'max_depth': 26, 'min_samples_split': 9, 'min_samples_leaf': 4}. Best is trial 33 with value: 0.24888888888888888.\n",
      "[I 2024-11-07 13:15:12,169] Trial 78 finished with value: 0.23980676328502412 and parameters: {'n_estimators': 401, 'max_depth': 26, 'min_samples_split': 9, 'min_samples_leaf': 2}. Best is trial 33 with value: 0.24888888888888888.\n",
      "[I 2024-11-07 13:15:12,944] Trial 79 finished with value: 0.2357487922705314 and parameters: {'n_estimators': 470, 'max_depth': 27, 'min_samples_split': 9, 'min_samples_leaf': 4}. Best is trial 33 with value: 0.24888888888888888.\n",
      "[I 2024-11-07 13:15:15,084] Trial 80 finished with value: 0.23285024154589373 and parameters: {'n_estimators': 478, 'max_depth': 27, 'min_samples_split': 9, 'min_samples_leaf': 6}. Best is trial 33 with value: 0.24888888888888888.\n",
      "[I 2024-11-07 13:15:16,666] Trial 81 finished with value: 0.23806763285024157 and parameters: {'n_estimators': 473, 'max_depth': 28, 'min_samples_split': 9, 'min_samples_leaf': 4}. Best is trial 33 with value: 0.24888888888888888.\n",
      "[I 2024-11-07 13:15:18,092] Trial 82 finished with value: 0.24019323671497586 and parameters: {'n_estimators': 469, 'max_depth': 28, 'min_samples_split': 10, 'min_samples_leaf': 4}. Best is trial 33 with value: 0.24888888888888888.\n",
      "[I 2024-11-07 13:15:21,242] Trial 83 finished with value: 0.23700483091787442 and parameters: {'n_estimators': 471, 'max_depth': 27, 'min_samples_split': 10, 'min_samples_leaf': 4}. Best is trial 33 with value: 0.24888888888888888.\n",
      "[I 2024-11-07 13:15:22,477] Trial 84 finished with value: 0.2357487922705314 and parameters: {'n_estimators': 472, 'max_depth': 24, 'min_samples_split': 10, 'min_samples_leaf': 4}. Best is trial 33 with value: 0.24888888888888888.\n",
      "[I 2024-11-07 13:15:23,335] Trial 85 finished with value: 0.2356521739130435 and parameters: {'n_estimators': 479, 'max_depth': 28, 'min_samples_split': 10, 'min_samples_leaf': 4}. Best is trial 33 with value: 0.24888888888888888.\n",
      "[I 2024-11-07 13:15:27,588] Trial 86 finished with value: 0.23661835748792268 and parameters: {'n_estimators': 477, 'max_depth': 30, 'min_samples_split': 10, 'min_samples_leaf': 6}. Best is trial 33 with value: 0.24888888888888888.\n",
      "[I 2024-11-07 13:15:28,298] Trial 87 finished with value: 0.2400966183574879 and parameters: {'n_estimators': 475, 'max_depth': 30, 'min_samples_split': 9, 'min_samples_leaf': 4}. Best is trial 33 with value: 0.24888888888888888.\n",
      "[I 2024-11-07 13:15:28,467] Trial 88 finished with value: 0.23062801932367147 and parameters: {'n_estimators': 475, 'max_depth': 24, 'min_samples_split': 10, 'min_samples_leaf': 6}. Best is trial 33 with value: 0.24888888888888888.\n",
      "[I 2024-11-07 13:15:34,153] Trial 89 finished with value: 0.23768115942028983 and parameters: {'n_estimators': 472, 'max_depth': 30, 'min_samples_split': 10, 'min_samples_leaf': 6}. Best is trial 33 with value: 0.24888888888888888.\n",
      "[I 2024-11-07 13:15:34,197] Trial 90 finished with value: 0.24096618357487923 and parameters: {'n_estimators': 475, 'max_depth': 30, 'min_samples_split': 10, 'min_samples_leaf': 3}. Best is trial 33 with value: 0.24888888888888888.\n",
      "[I 2024-11-07 13:15:34,734] Trial 91 finished with value: 0.24579710144927538 and parameters: {'n_estimators': 481, 'max_depth': 30, 'min_samples_split': 10, 'min_samples_leaf': 3}. Best is trial 33 with value: 0.24888888888888888.\n",
      "[I 2024-11-07 13:15:36,963] Trial 92 finished with value: 0.22579710144927537 and parameters: {'n_estimators': 352, 'max_depth': 14, 'min_samples_split': 10, 'min_samples_leaf': 6}. Best is trial 33 with value: 0.24888888888888888.\n",
      "[I 2024-11-07 13:15:37,998] Trial 93 finished with value: 0.22454106280193234 and parameters: {'n_estimators': 359, 'max_depth': 14, 'min_samples_split': 10, 'min_samples_leaf': 3}. Best is trial 33 with value: 0.24888888888888888.\n",
      "[I 2024-11-07 13:15:38,468] Trial 94 finished with value: 0.23623188405797105 and parameters: {'n_estimators': 360, 'max_depth': 30, 'min_samples_split': 10, 'min_samples_leaf': 6}. Best is trial 33 with value: 0.24888888888888888.\n",
      "[I 2024-11-07 13:15:42,190] Trial 95 finished with value: 0.24222222222222226 and parameters: {'n_estimators': 482, 'max_depth': 30, 'min_samples_split': 10, 'min_samples_leaf': 3}. Best is trial 33 with value: 0.24888888888888888.\n",
      "[I 2024-11-07 13:15:44,076] Trial 96 finished with value: 0.2455072463768116 and parameters: {'n_estimators': 416, 'max_depth': 30, 'min_samples_split': 8, 'min_samples_leaf': 1}. Best is trial 33 with value: 0.24888888888888888.\n",
      "[I 2024-11-07 13:15:46,009] Trial 97 finished with value: 0.24473429951690823 and parameters: {'n_estimators': 485, 'max_depth': 30, 'min_samples_split': 10, 'min_samples_leaf': 1}. Best is trial 33 with value: 0.24888888888888888.\n",
      "[I 2024-11-07 13:15:48,303] Trial 99 finished with value: 0.23884057971014494 and parameters: {'n_estimators': 418, 'max_depth': 30, 'min_samples_split': 8, 'min_samples_leaf': 3}. Best is trial 33 with value: 0.24888888888888888.\n",
      "[I 2024-11-07 13:15:48,409] Trial 98 finished with value: 0.2422222222222222 and parameters: {'n_estimators': 416, 'max_depth': 30, 'min_samples_split': 8, 'min_samples_leaf': 1}. Best is trial 33 with value: 0.24888888888888888.\n"
     ]
    }
   ],
   "source": [
    "def objective(trial):\n",
    "\n",
    "    n_estimators = trial.suggest_int('n_estimators', 100, 500)\n",
    "    max_depth = trial.suggest_int('max_depth', 2, 32)\n",
    "    min_samples_split = trial.suggest_int('min_samples_split', 2, 10)\n",
    "    min_samples_leaf = trial.suggest_int('min_samples_leaf', 1, 10)\n",
    "    classifier = RandomForestClassifier(n_estimators=n_estimators,\n",
    "                                        max_depth=max_depth,\n",
    "                                        min_samples_split=min_samples_split,\n",
    "                                        min_samples_leaf=min_samples_leaf,\n",
    "                                        n_jobs=-1)\n",
    "    \n",
    "    vect = TfidfVectorizer(ngram_range=(2, 5),\n",
    "                           analyzer=\"char\",\n",
    "                           max_df=0.5,\n",
    "                           min_df=2,\n",
    "                           lowercase=True)\n",
    "    \n",
    "    pipe = Pipeline([('vect', vect), ('clf', classifier)])\n",
    "    scores = cross_val_score(pipe,\n",
    "                             train.text,\n",
    "                             train.area,\n",
    "                             cv=5,\n",
    "                             n_jobs=-1)\n",
    "    return scores.mean()\n",
    "\n",
    "\n",
    "study = optuna.create_study(direction='maximize')\n",
    "study.optimize(objective, n_trials=100, n_jobs=-1)"
   ]
  },
  {
   "cell_type": "code",
   "execution_count": 38,
   "metadata": {},
   "outputs": [
    {
     "name": "stdout",
     "output_type": "stream",
     "text": [
      "best value: 0.247536231884058\n",
      "best trial: FrozenTrial(number=63, state=TrialState.COMPLETE, values=[0.247536231884058], datetime_start=datetime.datetime(2023, 6, 10, 21, 27, 35, 925656), datetime_complete=datetime.datetime(2023, 6, 10, 21, 28, 12, 937279), params={'n_estimators': 329, 'max_depth': 32, 'min_samples_split': 8, 'min_samples_leaf': 1}, user_attrs={}, system_attrs={}, intermediate_values={}, distributions={'n_estimators': IntDistribution(high=500, log=False, low=100, step=1), 'max_depth': IntDistribution(high=32, log=False, low=2, step=1), 'min_samples_split': IntDistribution(high=10, log=False, low=2, step=1), 'min_samples_leaf': IntDistribution(high=10, log=False, low=1, step=1)}, trial_id=63, value=None)\n",
      "best params: {'n_estimators': 329, 'max_depth': 32, 'min_samples_split': 8, 'min_samples_leaf': 1}\n"
     ]
    }
   ],
   "source": [
    "print('best value:', study.best_value)\n",
    "print('best trial:', study.best_trial)\n",
    "best_params = study.best_trial.params\n",
    "print('best params:', best_params)"
   ]
  },
  {
   "cell_type": "code",
   "execution_count": 39,
   "metadata": {},
   "outputs": [
    {
     "data": {
      "text/plain": [
       "0.3060869565217391"
      ]
     },
     "execution_count": 39,
     "metadata": {},
     "output_type": "execute_result"
    }
   ],
   "source": [
    "classifier = RandomForestClassifier(**best_params)\n",
    "pipe = Pipeline([('vect', vect), ('clf', classifier)])\n",
    "pipe.fit(train.text, train.area)\n",
    "score = pipe.score(test.text, test.area)\n",
    "score"
   ]
  },
  {
   "cell_type": "code",
   "execution_count": 40,
   "metadata": {},
   "outputs": [
    {
     "name": "stdout",
     "output_type": "stream",
     "text": [
      "                 precision    recall  f1-score   support\n",
      "\n",
      "        Ήπειρος       0.33      0.13      0.19        23\n",
      "        Αιτωλία       0.21      0.50      0.30        24\n",
      "        Αμοργός       0.08      0.14      0.10        22\n",
      "Ανατολική Θράκη       0.18      0.25      0.21        24\n",
      "        Αρκαδία       0.11      0.13      0.12        31\n",
      "          Αχαΐα       0.64      0.28      0.39        32\n",
      "      Επτάνησος       0.30      0.39      0.34        23\n",
      "         Εύβοια       0.00      0.00      0.00        20\n",
      "      Θεσπρωτία       0.08      0.09      0.09        22\n",
      "          Θράκη       0.23      0.12      0.16        25\n",
      "       Ιωάννινα       0.10      0.07      0.08        29\n",
      "       Κάρπαθος       0.57      0.29      0.38        28\n",
      "     Κεφαλληνία       0.26      0.19      0.22        27\n",
      "          Κρήτη       0.38      0.17      0.23        30\n",
      "         Κύπρος       0.50      0.79      0.61        24\n",
      "         Λέσβος       0.30      0.46      0.36        24\n",
      "        Λακωνία       0.09      0.07      0.08        27\n",
      "      Μακεδονία       0.30      0.11      0.16        27\n",
      "     Μικρά Ασία       0.10      0.06      0.07        18\n",
      "          Νάξος       0.36      0.42      0.38        24\n",
      "         Πόντος       0.35      0.68      0.46        19\n",
      "          Ρόδος       0.25      0.23      0.24        22\n",
      "         Σκύρος       0.43      0.67      0.53        30\n",
      "\n",
      "       accuracy                           0.27       575\n",
      "      macro avg       0.27      0.27      0.25       575\n",
      "   weighted avg       0.28      0.27      0.25       575\n",
      "\n"
     ]
    }
   ],
   "source": [
    "predictor_clf = Pipeline([('vect', vect), ('clf', classifier)])\n",
    "predictor_clf.fit(train.text, train.area)\n",
    "predictions_clf = predictor_clf.predict(test.text)\n",
    "print(classification_report(test.area, predictions_clf))"
   ]
  },
  {
   "cell_type": "markdown",
   "metadata": {
    "id": "I-12RHKwd6Fa"
   },
   "source": [
    "## Predicting the location of proverbs\n",
    "* Focusing on ones which are shared in multiple locations"
   ]
  },
  {
   "cell_type": "code",
   "execution_count": 41,
   "metadata": {
    "id": "ZMK3gOrQeiMK",
    "outputId": "9ce3b15f-1fe3-4be3-b3a9-9fb086b7187f"
   },
   "outputs": [
    {
     "data": {
      "text/html": [
       "<div>\n",
       "<style scoped>\n",
       "    .dataframe tbody tr th:only-of-type {\n",
       "        vertical-align: middle;\n",
       "    }\n",
       "\n",
       "    .dataframe tbody tr th {\n",
       "        vertical-align: top;\n",
       "    }\n",
       "\n",
       "    .dataframe thead th {\n",
       "        text-align: right;\n",
       "    }\n",
       "</style>\n",
       "<table border=\"1\" class=\"dataframe\">\n",
       "  <thead>\n",
       "    <tr style=\"text-align: right;\">\n",
       "      <th></th>\n",
       "      <th>text</th>\n",
       "      <th>place</th>\n",
       "      <th>place_num</th>\n",
       "      <th>area</th>\n",
       "      <th>area_num</th>\n",
       "      <th>latlon</th>\n",
       "    </tr>\n",
       "  </thead>\n",
       "  <tbody>\n",
       "    <tr>\n",
       "      <th>0</th>\n",
       "      <td>(Ε)πήρε βάγια</td>\n",
       "      <td>{Ήπειρος, Λακωνία}</td>\n",
       "      <td>2</td>\n",
       "      <td>{Ήπειρος, Λακωνία}</td>\n",
       "      <td>2</td>\n",
       "      <td>[(37.9574332, 23.7108518), (36.76027945, 22.79...</td>\n",
       "    </tr>\n",
       "    <tr>\n",
       "      <th>1</th>\n",
       "      <td>Άβολος ο νους, διπλός ο κόπος</td>\n",
       "      <td>{Νίσυρος, Μικρά Ασία&gt;Τσεσμές (Κρήνη)}</td>\n",
       "      <td>2</td>\n",
       "      <td>{Μικρά Ασία, Νίσυρος}</td>\n",
       "      <td>2</td>\n",
       "      <td>[(36.58904575, 27.16918402255752), (38.1846366...</td>\n",
       "    </tr>\n",
       "    <tr>\n",
       "      <th>2</th>\n",
       "      <td>Άβουλος νους διπλός κόπος</td>\n",
       "      <td>{Θράκη&gt;Αίνος, Θήρα (Σαντορίνη)}</td>\n",
       "      <td>2</td>\n",
       "      <td>{Θράκη, Θήρα (Σαντορίνη)}</td>\n",
       "      <td>2</td>\n",
       "      <td>[(40.8464241, 25.8759377), (36.4044251, 25.395...</td>\n",
       "    </tr>\n",
       "    <tr>\n",
       "      <th>3</th>\n",
       "      <td>Άβουλος νους, διπλός ο κόπος</td>\n",
       "      <td>{Κρήτη, Ρόδος, Αμοργός}</td>\n",
       "      <td>3</td>\n",
       "      <td>{Κρήτη, Ρόδος, Αμοργός}</td>\n",
       "      <td>3</td>\n",
       "      <td>[(36.85252415, 25.89848696771565), (35.3084952...</td>\n",
       "    </tr>\n",
       "    <tr>\n",
       "      <th>4</th>\n",
       "      <td>Άβουλος ο νους διπλός ο κόπος</td>\n",
       "      <td>{Ήπειρος&gt;Τσαμαντάς, Θράκη&gt;Μάδυτος, Θράκη, Ρόδο...</td>\n",
       "      <td>5</td>\n",
       "      <td>{Θράκη, Ήπειρος, Ρόδος, Σάμος}</td>\n",
       "      <td>4</td>\n",
       "      <td>[(40.8464241, 25.8759377), (37.9574332, 23.710...</td>\n",
       "    </tr>\n",
       "    <tr>\n",
       "      <th>...</th>\n",
       "      <td>...</td>\n",
       "      <td>...</td>\n",
       "      <td>...</td>\n",
       "      <td>...</td>\n",
       "      <td>...</td>\n",
       "      <td>...</td>\n",
       "    </tr>\n",
       "    <tr>\n",
       "      <th>3199</th>\n",
       "      <td>ο παθός, μαθός</td>\n",
       "      <td>{Λέρος, Αργολίδα&gt;Σχοινοχώρι}</td>\n",
       "      <td>2</td>\n",
       "      <td>{Αργολίδα, Λέρος}</td>\n",
       "      <td>2</td>\n",
       "      <td>[(37.56626615, 22.85593894780862), (37.1494507...</td>\n",
       "    </tr>\n",
       "    <tr>\n",
       "      <th>3200</th>\n",
       "      <td>πονάει το δόντι</td>\n",
       "      <td>{Θεσσαλία&gt;Τρίκαλα, Φωκίδα}</td>\n",
       "      <td>2</td>\n",
       "      <td>{Θεσσαλία, Φωκίδα}</td>\n",
       "      <td>2</td>\n",
       "      <td>[(38.4998681, 22.24878032919352), (39.5594194,...</td>\n",
       "    </tr>\n",
       "    <tr>\n",
       "      <th>3201</th>\n",
       "      <td>που Πάτρα, που Φλομίτσι!</td>\n",
       "      <td>{Μάνη&gt;Αβία, Μεσσηνία&gt;Αβία&gt;Κάμπος}</td>\n",
       "      <td>2</td>\n",
       "      <td>{Μεσσηνία, Μάνη}</td>\n",
       "      <td>2</td>\n",
       "      <td>[(36.986899050000005, 21.82712495001949), (41....</td>\n",
       "    </tr>\n",
       "    <tr>\n",
       "      <th>3202</th>\n",
       "      <td>τού έδειξε τα δόντια</td>\n",
       "      <td>{Αρκαδία&gt;Τεγέα, Εύβοια}</td>\n",
       "      <td>2</td>\n",
       "      <td>{Εύβοια, Αρκαδία}</td>\n",
       "      <td>2</td>\n",
       "      <td>[(38.0368583, 23.6689264), (38.49417235, 23.91...</td>\n",
       "    </tr>\n",
       "    <tr>\n",
       "      <th>3203</th>\n",
       "      <td>τού'δειξε τα δόντια</td>\n",
       "      <td>{Λακωνία&gt;Αναβρυτή, Μεσσηνία&gt;Ζέγα}</td>\n",
       "      <td>2</td>\n",
       "      <td>{Μεσσηνία, Λακωνία}</td>\n",
       "      <td>2</td>\n",
       "      <td>[(36.986899050000005, 21.82712495001949), (36....</td>\n",
       "    </tr>\n",
       "  </tbody>\n",
       "</table>\n",
       "<p>3204 rows × 6 columns</p>\n",
       "</div>"
      ],
      "text/plain": [
       "                               text  \\\n",
       "0                     (Ε)πήρε βάγια   \n",
       "1     Άβολος ο νους, διπλός ο κόπος   \n",
       "2         Άβουλος νους διπλός κόπος   \n",
       "3      Άβουλος νους, διπλός ο κόπος   \n",
       "4     Άβουλος ο νους διπλός ο κόπος   \n",
       "...                             ...   \n",
       "3199                 ο παθός, μαθός   \n",
       "3200                πονάει το δόντι   \n",
       "3201       που Πάτρα, που Φλομίτσι!   \n",
       "3202           τού έδειξε τα δόντια   \n",
       "3203            τού'δειξε τα δόντια   \n",
       "\n",
       "                                                  place  place_num  \\\n",
       "0                                    {Ήπειρος, Λακωνία}          2   \n",
       "1                 {Νίσυρος, Μικρά Ασία>Τσεσμές (Κρήνη)}          2   \n",
       "2                       {Θράκη>Αίνος, Θήρα (Σαντορίνη)}          2   \n",
       "3                               {Κρήτη, Ρόδος, Αμοργός}          3   \n",
       "4     {Ήπειρος>Τσαμαντάς, Θράκη>Μάδυτος, Θράκη, Ρόδο...          5   \n",
       "...                                                 ...        ...   \n",
       "3199                       {Λέρος, Αργολίδα>Σχοινοχώρι}          2   \n",
       "3200                         {Θεσσαλία>Τρίκαλα, Φωκίδα}          2   \n",
       "3201                  {Μάνη>Αβία, Μεσσηνία>Αβία>Κάμπος}          2   \n",
       "3202                            {Αρκαδία>Τεγέα, Εύβοια}          2   \n",
       "3203                  {Λακωνία>Αναβρυτή, Μεσσηνία>Ζέγα}          2   \n",
       "\n",
       "                                area  area_num  \\\n",
       "0                 {Ήπειρος, Λακωνία}         2   \n",
       "1              {Μικρά Ασία, Νίσυρος}         2   \n",
       "2          {Θράκη, Θήρα (Σαντορίνη)}         2   \n",
       "3            {Κρήτη, Ρόδος, Αμοργός}         3   \n",
       "4     {Θράκη, Ήπειρος, Ρόδος, Σάμος}         4   \n",
       "...                              ...       ...   \n",
       "3199               {Αργολίδα, Λέρος}         2   \n",
       "3200              {Θεσσαλία, Φωκίδα}         2   \n",
       "3201                {Μεσσηνία, Μάνη}         2   \n",
       "3202               {Εύβοια, Αρκαδία}         2   \n",
       "3203             {Μεσσηνία, Λακωνία}         2   \n",
       "\n",
       "                                                 latlon  \n",
       "0     [(37.9574332, 23.7108518), (36.76027945, 22.79...  \n",
       "1     [(36.58904575, 27.16918402255752), (38.1846366...  \n",
       "2     [(40.8464241, 25.8759377), (36.4044251, 25.395...  \n",
       "3     [(36.85252415, 25.89848696771565), (35.3084952...  \n",
       "4     [(40.8464241, 25.8759377), (37.9574332, 23.710...  \n",
       "...                                                 ...  \n",
       "3199  [(37.56626615, 22.85593894780862), (37.1494507...  \n",
       "3200  [(38.4998681, 22.24878032919352), (39.5594194,...  \n",
       "3201  [(36.986899050000005, 21.82712495001949), (41....  \n",
       "3202  [(38.0368583, 23.6689264), (38.49417235, 23.91...  \n",
       "3203  [(36.986899050000005, 21.82712495001949), (36....  \n",
       "\n",
       "[3204 rows x 6 columns]"
      ]
     },
     "execution_count": 41,
     "metadata": {},
     "output_type": "execute_result"
    }
   ],
   "source": [
    "duplicates = pd.read_csv('data/duplicates_geolocated.csv')\n",
    "duplicates['place'] = duplicates['place'].apply(ast.literal_eval)\n",
    "duplicates['area'] = duplicates['area'].apply(ast.literal_eval)\n",
    "duplicates"
   ]
  },
  {
   "cell_type": "code",
   "execution_count": 42,
   "metadata": {
    "colab": {
     "base_uri": "https://localhost:8080/",
     "height": 368
    },
    "id": "VvgaPQzyd4ii",
    "outputId": "92772be1-e8c0-4319-80ce-c032d34c299c"
   },
   "outputs": [
    {
     "data": {
      "text/html": [
       "<div>\n",
       "<style scoped>\n",
       "    .dataframe tbody tr th:only-of-type {\n",
       "        vertical-align: middle;\n",
       "    }\n",
       "\n",
       "    .dataframe tbody tr th {\n",
       "        vertical-align: top;\n",
       "    }\n",
       "\n",
       "    .dataframe thead th {\n",
       "        text-align: right;\n",
       "    }\n",
       "</style>\n",
       "<table border=\"1\" class=\"dataframe\">\n",
       "  <thead>\n",
       "    <tr style=\"text-align: right;\">\n",
       "      <th></th>\n",
       "      <th>text</th>\n",
       "      <th>place</th>\n",
       "      <th>place_num</th>\n",
       "      <th>area</th>\n",
       "      <th>prediction</th>\n",
       "      <th>area_num</th>\n",
       "      <th>latlon</th>\n",
       "    </tr>\n",
       "  </thead>\n",
       "  <tbody>\n",
       "    <tr>\n",
       "      <th>6</th>\n",
       "      <td>Άγιασε ο μαχαιροβγάλτης και πουλεί σκουρολεπίδες</td>\n",
       "      <td>{Ήπειρος, Κεφαλληνία}</td>\n",
       "      <td>2</td>\n",
       "      <td>{Ήπειρος, Κεφαλληνία}</td>\n",
       "      <td>Κεφαλληνία</td>\n",
       "      <td>2</td>\n",
       "      <td>[(37.9574332, 23.7108518), (38.2379344, 20.560...</td>\n",
       "    </tr>\n",
       "    <tr>\n",
       "      <th>2171</th>\n",
       "      <td>Ο Μανώλης με τα λόγια κτίζ' ανώγεια και κατώγεια</td>\n",
       "      <td>{Κρήτη&gt;Σητεία&gt;Χαμέζι, Ιωάννινα}</td>\n",
       "      <td>2</td>\n",
       "      <td>{Κρήτη, Ιωάννινα}</td>\n",
       "      <td>Κρήτη</td>\n",
       "      <td>2</td>\n",
       "      <td>[(35.3084952, 24.46334231842296), (39.6639818,...</td>\n",
       "    </tr>\n",
       "    <tr>\n",
       "      <th>2163</th>\n",
       "      <td>Ο Θεός να σε φυλάη από σπανό άντρα και μουστακ...</td>\n",
       "      <td>{Μάνη, Κρήτη&gt;Σητεία&gt;Χαμέζι}</td>\n",
       "      <td>2</td>\n",
       "      <td>{Μάνη, Κρήτη}</td>\n",
       "      <td>Κρήτη</td>\n",
       "      <td>2</td>\n",
       "      <td>[(41.4097472, 26.4024952), (35.3084952, 24.463...</td>\n",
       "    </tr>\n",
       "    <tr>\n",
       "      <th>2159</th>\n",
       "      <td>Ο Θεός κάνει σκάλες κι άλλους ανεβάζει κι άλλο...</td>\n",
       "      <td>{Αρκαδία&gt;Γορτυνία, Λακωνία}</td>\n",
       "      <td>2</td>\n",
       "      <td>{Αρκαδία, Λακωνία}</td>\n",
       "      <td>Αρκαδία</td>\n",
       "      <td>2</td>\n",
       "      <td>[(38.0368583, 23.6689264), (36.76027945, 22.79...</td>\n",
       "    </tr>\n",
       "    <tr>\n",
       "      <th>2139</th>\n",
       "      <td>Ξύλω τον Αδάμ κατάρας ελυτρώσω</td>\n",
       "      <td>{Πόντος, Θράκη&gt;Μάδυτος}</td>\n",
       "      <td>2</td>\n",
       "      <td>{Πόντος, Θράκη}</td>\n",
       "      <td>Πόντος</td>\n",
       "      <td>2</td>\n",
       "      <td>[(40.8464241, 25.8759377), (40.0850088, 23.977...</td>\n",
       "    </tr>\n",
       "  </tbody>\n",
       "</table>\n",
       "</div>"
      ],
      "text/plain": [
       "                                                   text  \\\n",
       "6      Άγιασε ο μαχαιροβγάλτης και πουλεί σκουρολεπίδες   \n",
       "2171   Ο Μανώλης με τα λόγια κτίζ' ανώγεια και κατώγεια   \n",
       "2163  Ο Θεός να σε φυλάη από σπανό άντρα και μουστακ...   \n",
       "2159  Ο Θεός κάνει σκάλες κι άλλους ανεβάζει κι άλλο...   \n",
       "2139                     Ξύλω τον Αδάμ κατάρας ελυτρώσω   \n",
       "\n",
       "                                place  place_num                   area  \\\n",
       "6               {Ήπειρος, Κεφαλληνία}          2  {Ήπειρος, Κεφαλληνία}   \n",
       "2171  {Κρήτη>Σητεία>Χαμέζι, Ιωάννινα}          2      {Κρήτη, Ιωάννινα}   \n",
       "2163      {Μάνη, Κρήτη>Σητεία>Χαμέζι}          2          {Μάνη, Κρήτη}   \n",
       "2159      {Αρκαδία>Γορτυνία, Λακωνία}          2     {Αρκαδία, Λακωνία}   \n",
       "2139          {Πόντος, Θράκη>Μάδυτος}          2        {Πόντος, Θράκη}   \n",
       "\n",
       "      prediction  area_num                                             latlon  \n",
       "6     Κεφαλληνία         2  [(37.9574332, 23.7108518), (38.2379344, 20.560...  \n",
       "2171       Κρήτη         2  [(35.3084952, 24.46334231842296), (39.6639818,...  \n",
       "2163       Κρήτη         2  [(41.4097472, 26.4024952), (35.3084952, 24.463...  \n",
       "2159     Αρκαδία         2  [(38.0368583, 23.6689264), (36.76027945, 22.79...  \n",
       "2139      Πόντος         2  [(40.8464241, 25.8759377), (40.0850088, 23.977...  "
      ]
     },
     "execution_count": 42,
     "metadata": {},
     "output_type": "execute_result"
    }
   ],
   "source": [
    "# showing cases when only two candidate area exist and the model said one \n",
    "duplicates.insert(4, \"prediction\", predictor_clf.predict(duplicates.text))\n",
    "duplicate_dilemma = duplicates.apply(lambda row: (row.area_num==2)&(row.prediction in row.area), 1)\n",
    "duplicates[duplicate_dilemma].sort_values(by=\"place_num\").head(5)"
   ]
  },
  {
   "cell_type": "markdown",
   "metadata": {
    "id": "2pBGLxTSmMzB"
   },
   "source": [
    "* Showing the ones our classifier located on Cyrpus."
   ]
  },
  {
   "cell_type": "code",
   "execution_count": 43,
   "metadata": {
    "colab": {
     "base_uri": "https://localhost:8080/",
     "height": 173
    },
    "id": "neOnr6gcfTMd",
    "outputId": "87e01525-2852-4d2c-8b6c-90a75e26a8e2"
   },
   "outputs": [
    {
     "data": {
      "text/html": [
       "<div>\n",
       "<style scoped>\n",
       "    .dataframe tbody tr th:only-of-type {\n",
       "        vertical-align: middle;\n",
       "    }\n",
       "\n",
       "    .dataframe tbody tr th {\n",
       "        vertical-align: top;\n",
       "    }\n",
       "\n",
       "    .dataframe thead th {\n",
       "        text-align: right;\n",
       "    }\n",
       "</style>\n",
       "<table border=\"1\" class=\"dataframe\">\n",
       "  <thead>\n",
       "    <tr style=\"text-align: right;\">\n",
       "      <th></th>\n",
       "      <th>text</th>\n",
       "      <th>place</th>\n",
       "      <th>place_num</th>\n",
       "      <th>area</th>\n",
       "      <th>prediction</th>\n",
       "      <th>area_num</th>\n",
       "      <th>latlon</th>\n",
       "    </tr>\n",
       "  </thead>\n",
       "  <tbody>\n",
       "    <tr>\n",
       "      <th>137</th>\n",
       "      <td>Άρον, άρον</td>\n",
       "      <td>{Ήπειρος, Κύπρος}</td>\n",
       "      <td>2</td>\n",
       "      <td>{Ήπειρος, Κύπρος}</td>\n",
       "      <td>Κύπρος</td>\n",
       "      <td>2</td>\n",
       "      <td>[(34.9823018, 33.1451285), (37.9574332, 23.710...</td>\n",
       "    </tr>\n",
       "    <tr>\n",
       "      <th>525</th>\n",
       "      <td>Όπου δεμ πέφτει λόγος, πέφτει ράβδος</td>\n",
       "      <td>{Κύπρος, Νίσυρος}</td>\n",
       "      <td>2</td>\n",
       "      <td>{Κύπρος, Νίσυρος}</td>\n",
       "      <td>Κύπρος</td>\n",
       "      <td>2</td>\n",
       "      <td>[(36.58904575, 27.16918402255752), (34.9823018...</td>\n",
       "    </tr>\n",
       "  </tbody>\n",
       "</table>\n",
       "</div>"
      ],
      "text/plain": [
       "                                     text              place  place_num  \\\n",
       "137                            Άρον, άρον  {Ήπειρος, Κύπρος}          2   \n",
       "525  Όπου δεμ πέφτει λόγος, πέφτει ράβδος  {Κύπρος, Νίσυρος}          2   \n",
       "\n",
       "                  area prediction  area_num  \\\n",
       "137  {Ήπειρος, Κύπρος}     Κύπρος         2   \n",
       "525  {Κύπρος, Νίσυρος}     Κύπρος         2   \n",
       "\n",
       "                                                latlon  \n",
       "137  [(34.9823018, 33.1451285), (37.9574332, 23.710...  \n",
       "525  [(36.58904575, 27.16918402255752), (34.9823018...  "
      ]
     },
     "execution_count": 43,
     "metadata": {},
     "output_type": "execute_result"
    }
   ],
   "source": [
    "is_it_cyprus = duplicates.apply(lambda row: (row.prediction=='Κύπρος')&(row.prediction in row.area), 1)\n",
    "duplicates[is_it_cyprus]"
   ]
  },
  {
   "cell_type": "markdown",
   "metadata": {
    "id": "zBp6QrYgf7MI"
   },
   "source": [
    "## Regression on the coordinates\n",
    "* Instead of classifying, predicting the geographical coordinates.\n",
    "* Linear regression provides feature importance, i.e., terms that distinguish spatially, from South to North, from West to East. "
   ]
  },
  {
   "cell_type": "code",
   "execution_count": 61,
   "metadata": {},
   "outputs": [],
   "source": [
    "optimization_results = []"
   ]
  },
  {
   "cell_type": "code",
   "execution_count": 62,
   "metadata": {
    "id": "dXQh_RYPeyJJ"
   },
   "outputs": [
    {
     "data": {
      "text/plain": [
       "0.12157069318821215"
      ]
     },
     "execution_count": 62,
     "metadata": {},
     "output_type": "execute_result"
    }
   ],
   "source": [
    "vect = TfidfVectorizer(ngram_range=(1,1), analyzer=\"word\", max_df=0.5, \n",
    "                       min_df=10, lowercase=True)\n",
    "\n",
    "regressor = LinearRegression()\n",
    "\n",
    "pipe = Pipeline([('vect', vect), ('ref', regressor)])\n",
    "\n",
    "scores = cross_val_score(pipe, \n",
    "                         train.text.values, \n",
    "                         train[[\"lat\", \"lon\"]].values,\n",
    "                         cv=5,\n",
    "                         n_jobs=-1)\n",
    "\n",
    "cv_score = scores.mean()\n",
    "cv_score"
   ]
  },
  {
   "cell_type": "code",
   "execution_count": 63,
   "metadata": {},
   "outputs": [
    {
     "data": {
      "text/plain": [
       "0.19721894514520716"
      ]
     },
     "execution_count": 63,
     "metadata": {},
     "output_type": "execute_result"
    }
   ],
   "source": [
    "linear_regression_pipe = Pipeline([('vect', vect), ('reg', regressor)])\n",
    "linear_regression_pipe.fit(train.text.values, train[[\"lat\", \"lon\"]].values)\n",
    "score = linear_regression_pipe.score(test.text.values, test[[\"lat\", \"lon\"]].values)\n",
    "score"
   ]
  },
  {
   "cell_type": "code",
   "execution_count": 64,
   "metadata": {},
   "outputs": [
    {
     "name": "stdout",
     "output_type": "stream",
     "text": [
      "1.3052700069768668 1.8227471474972385\n",
      "2.704765390894777 5.5683377877965885\n"
     ]
    }
   ],
   "source": [
    "predicted_coords = linear_regression_pipe.predict(test.text.values)\n",
    "\n",
    "mae_lat, mae_lon = (mean_absolute_error(test.lat.values, predicted_coords[:, 0]),\n",
    "                    mean_absolute_error(test.lon.values, predicted_coords[:, 1]))\n",
    "mse_lat, mse_lon = (mean_squared_error(test.lat.values, predicted_coords[:, 0]),\n",
    "                    mean_squared_error(test.lon.values, predicted_coords[:, 1]))\n",
    "\n",
    "optimization_results.append([\n",
    "    'LinearRegression', \n",
    "    cv_score, \n",
    "    score,\n",
    "    None,\n",
    "    mae_lat, \n",
    "    mae_lon,\n",
    "    mse_lat,\n",
    "    mse_lon\n",
    "])\n",
    "\n",
    "print(mae_lat, mae_lon)\n",
    "print(mse_lat, mse_lon)"
   ]
  },
  {
   "cell_type": "code",
   "execution_count": 65,
   "metadata": {},
   "outputs": [
    {
     "name": "stderr",
     "output_type": "stream",
     "text": [
      "[I 2023-06-10 21:59:51,625] A new study created in memory with name: no-name-e4e5defe-d9d0-49a9-a6a1-6cbc244bf00b\n",
      "[I 2023-06-10 21:59:52,032] Trial 0 finished with value: 0.1438418629521843 and parameters: {'alpha': 0.0002383200608512922, 'l1_ratio': 0.2760838797301802}. Best is trial 0 with value: 0.1438418629521843.\n",
      "[I 2023-06-10 21:59:52,447] Trial 1 finished with value: 0.1400040001266411 and parameters: {'alpha': 0.00017085154770748795, 'l1_ratio': 0.06568162479657547}. Best is trial 0 with value: 0.1438418629521843.\n",
      "[I 2023-06-10 21:59:52,765] Trial 2 finished with value: 0.0021085085207002475 and parameters: {'alpha': 0.18397315846588622, 'l1_ratio': 0.04789525869457223}. Best is trial 0 with value: 0.1438418629521843.\n",
      "[I 2023-06-10 21:59:53,057] Trial 3 finished with value: -0.0004066991582208246 and parameters: {'alpha': 0.7783028800585803, 'l1_ratio': 0.9789869904337763}. Best is trial 0 with value: 0.1438418629521843.\n",
      "[I 2023-06-10 21:59:53,140] Trial 4 finished with value: -0.0004066991582208246 and parameters: {'alpha': 0.15401692054705107, 'l1_ratio': 0.4064332500851925}. Best is trial 0 with value: 0.1438418629521843.\n",
      "[I 2023-06-10 21:59:53,250] Trial 5 finished with value: 0.11026525179760774 and parameters: {'alpha': 0.003632439335196074, 'l1_ratio': 0.9033179701267977}. Best is trial 0 with value: 0.1438418629521843.\n",
      "[I 2023-06-10 21:59:53,323] Trial 6 finished with value: -0.0004066991582208246 and parameters: {'alpha': 0.5809112074955631, 'l1_ratio': 0.6285829985881574}. Best is trial 0 with value: 0.1438418629521843.\n",
      "[I 2023-06-10 21:59:53,461] Trial 7 finished with value: 0.10194635459963886 and parameters: {'alpha': 0.0037969352672558346, 'l1_ratio': 0.1898963796642562}. Best is trial 0 with value: 0.1438418629521843.\n",
      "[I 2023-06-10 21:59:53,627] Trial 8 finished with value: 0.14573199634441472 and parameters: {'alpha': 0.00027899593634622146, 'l1_ratio': 0.6820050054384267}. Best is trial 8 with value: 0.14573199634441472.\n",
      "[I 2023-06-10 21:59:53,707] Trial 9 finished with value: -0.00019186351202568063 and parameters: {'alpha': 0.08785758157088014, 'l1_ratio': 0.37524510522813304}. Best is trial 8 with value: 0.14573199634441472.\n",
      "[I 2023-06-10 21:59:53,858] Trial 10 finished with value: 0.1508914435293502 and parameters: {'alpha': 0.0007482303767454269, 'l1_ratio': 0.606833819484556}. Best is trial 10 with value: 0.1508914435293502.\n",
      "[I 2023-06-10 21:59:54,005] Trial 11 finished with value: 0.1514834175521691 and parameters: {'alpha': 0.0006433906783895661, 'l1_ratio': 0.6276700123088748}. Best is trial 11 with value: 0.1514834175521691.\n",
      "[I 2023-06-10 21:59:54,152] Trial 12 finished with value: 0.15005255762170422 and parameters: {'alpha': 0.0008085181286344681, 'l1_ratio': 0.5337735323215849}. Best is trial 11 with value: 0.1514834175521691.\n",
      "[I 2023-06-10 21:59:54,288] Trial 13 finished with value: 0.14618341477314495 and parameters: {'alpha': 0.001088891754503321, 'l1_ratio': 0.7611093367307108}. Best is trial 11 with value: 0.1514834175521691.\n",
      "[I 2023-06-10 21:59:54,393] Trial 14 finished with value: 0.03153085635677859 and parameters: {'alpha': 0.01601857323810057, 'l1_ratio': 0.5350693235504922}. Best is trial 11 with value: 0.1514834175521691.\n",
      "[I 2023-06-10 21:59:54,538] Trial 15 finished with value: 0.1504318425972675 and parameters: {'alpha': 0.0008158611537249247, 'l1_ratio': 0.793880003158423}. Best is trial 11 with value: 0.1514834175521691.\n",
      "[I 2023-06-10 21:59:54,746] Trial 16 finished with value: 0.13722487180206575 and parameters: {'alpha': 0.00013687135123852153, 'l1_ratio': 0.6153067919347853}. Best is trial 11 with value: 0.1514834175521691.\n",
      "[I 2023-06-10 21:59:54,953] Trial 17 finished with value: 0.13469077404233717 and parameters: {'alpha': 0.00010528756934718955, 'l1_ratio': 0.46048155687996234}. Best is trial 11 with value: 0.1514834175521691.\n",
      "[I 2023-06-10 21:59:55,107] Trial 18 finished with value: 0.15070524914310274 and parameters: {'alpha': 0.0004687992989261784, 'l1_ratio': 0.7550440646217174}. Best is trial 11 with value: 0.1514834175521691.\n",
      "[I 2023-06-10 21:59:55,230] Trial 19 finished with value: 0.12570486571965647 and parameters: {'alpha': 0.0021397909732372776, 'l1_ratio': 0.5650487528050683}. Best is trial 11 with value: 0.1514834175521691.\n",
      "[I 2023-06-10 21:59:55,339] Trial 20 finished with value: 0.046500870714099085 and parameters: {'alpha': 0.01138436274101257, 'l1_ratio': 0.47771252506946665}. Best is trial 11 with value: 0.1514834175521691.\n",
      "[I 2023-06-10 21:59:55,493] Trial 21 finished with value: 0.15080744126385418 and parameters: {'alpha': 0.00047641838421365855, 'l1_ratio': 0.7039238228278929}. Best is trial 11 with value: 0.1514834175521691.\n",
      "[I 2023-06-10 21:59:55,659] Trial 22 finished with value: 0.14639687912382432 and parameters: {'alpha': 0.0002949327964599483, 'l1_ratio': 0.6650860578449433}. Best is trial 11 with value: 0.1514834175521691.\n",
      "[I 2023-06-10 21:59:55,807] Trial 23 finished with value: 0.1516539858659698 and parameters: {'alpha': 0.0006225399683216375, 'l1_ratio': 0.7044933629705166}. Best is trial 23 with value: 0.1516539858659698.\n",
      "[I 2023-06-10 21:59:55,927] Trial 24 finished with value: 0.12223180301329498 and parameters: {'alpha': 0.002356500822113988, 'l1_ratio': 0.5999944585687812}. Best is trial 23 with value: 0.1516539858659698.\n",
      "[I 2023-06-10 21:59:56,061] Trial 25 finished with value: 0.14133042538168844 and parameters: {'alpha': 0.0013335187665042877, 'l1_ratio': 0.8148546576326208}. Best is trial 23 with value: 0.1516539858659698.\n",
      "[I 2023-06-10 21:59:56,211] Trial 26 finished with value: 0.15164251573577675 and parameters: {'alpha': 0.0005955463295162326, 'l1_ratio': 0.7072144543006625}. Best is trial 23 with value: 0.1516539858659698.\n",
      "[I 2023-06-10 21:59:56,430] Trial 27 finished with value: 0.13412123757883643 and parameters: {'alpha': 0.00010902675212598147, 'l1_ratio': 0.8613894122238861}. Best is trial 23 with value: 0.1516539858659698.\n",
      "[I 2023-06-10 21:59:56,599] Trial 28 finished with value: 0.14710170748213486 and parameters: {'alpha': 0.00031608684915308057, 'l1_ratio': 0.7117291405604133}. Best is trial 23 with value: 0.1516539858659698.\n",
      "[I 2023-06-10 21:59:56,783] Trial 29 finished with value: 0.1435691220351933 and parameters: {'alpha': 0.0002352067921689436, 'l1_ratio': 0.7265375248917574}. Best is trial 23 with value: 0.1516539858659698.\n",
      "[I 2023-06-10 21:59:56,934] Trial 30 finished with value: 0.15116861380183397 and parameters: {'alpha': 0.0005133900107804184, 'l1_ratio': 0.6627812852617351}. Best is trial 23 with value: 0.1516539858659698.\n",
      "[I 2023-06-10 21:59:57,091] Trial 31 finished with value: 0.1498329179612674 and parameters: {'alpha': 0.0004162696815263385, 'l1_ratio': 0.6687799608426719}. Best is trial 23 with value: 0.1516539858659698.\n",
      "[I 2023-06-10 21:59:57,266] Trial 32 finished with value: 0.14021778949310482 and parameters: {'alpha': 0.00018451676748051205, 'l1_ratio': 0.82828605313938}. Best is trial 23 with value: 0.1516539858659698.\n",
      "[I 2023-06-10 21:59:57,415] Trial 33 finished with value: 0.15151520380185907 and parameters: {'alpha': 0.0005520987636263172, 'l1_ratio': 0.7626861967161097}. Best is trial 23 with value: 0.1516539858659698.\n",
      "[I 2023-06-10 21:59:57,547] Trial 34 finished with value: 0.14027050466131377 and parameters: {'alpha': 0.001389680274306299, 'l1_ratio': 0.7610629527803124}. Best is trial 23 with value: 0.1516539858659698.\n",
      "[I 2023-06-10 21:59:57,725] Trial 35 finished with value: 0.13961842185897608 and parameters: {'alpha': 0.00017789997484448858, 'l1_ratio': 0.8689859575258386}. Best is trial 23 with value: 0.1516539858659698.\n",
      "[I 2023-06-10 21:59:57,870] Trial 36 finished with value: 0.15023218334723193 and parameters: {'alpha': 0.0007835804757881789, 'l1_ratio': 0.9341722887006427}. Best is trial 23 with value: 0.1516539858659698.\n",
      "[I 2023-06-10 21:59:58,046] Trial 37 finished with value: 0.14145433497431564 and parameters: {'alpha': 0.00020185620146557283, 'l1_ratio': 0.7942551818941683}. Best is trial 23 with value: 0.1516539858659698.\n",
      "[I 2023-06-10 21:59:58,162] Trial 38 finished with value: 0.10616058245819564 and parameters: {'alpha': 0.004055925933766822, 'l1_ratio': 0.9183818445305583}. Best is trial 23 with value: 0.1516539858659698.\n"
     ]
    },
    {
     "name": "stderr",
     "output_type": "stream",
     "text": [
      "[I 2023-06-10 21:59:58,327] Trial 39 finished with value: 0.14843054322694632 and parameters: {'alpha': 0.00035912996546862196, 'l1_ratio': 0.7342179561609881}. Best is trial 23 with value: 0.1516539858659698.\n",
      "[I 2023-06-10 21:59:58,450] Trial 40 finished with value: 0.1289965511452919 and parameters: {'alpha': 0.0019595312199181293, 'l1_ratio': 0.5806562749172941}. Best is trial 23 with value: 0.1516539858659698.\n",
      "[I 2023-06-10 21:59:58,601] Trial 41 finished with value: 0.15122789289493643 and parameters: {'alpha': 0.0005182248871947585, 'l1_ratio': 0.6764465899433492}. Best is trial 23 with value: 0.1516539858659698.\n",
      "[I 2023-06-10 21:59:58,748] Trial 42 finished with value: 0.15140026295444725 and parameters: {'alpha': 0.0006804051988047884, 'l1_ratio': 0.6420047407865013}. Best is trial 23 with value: 0.1516539858659698.\n",
      "[I 2023-06-10 21:59:58,896] Trial 43 finished with value: 0.15150346780113344 and parameters: {'alpha': 0.0005970101654602492, 'l1_ratio': 0.6264047273984965}. Best is trial 23 with value: 0.1516539858659698.\n",
      "[I 2023-06-10 21:59:59,069] Trial 44 finished with value: 0.14720257221529992 and parameters: {'alpha': 0.0003161424934352414, 'l1_ratio': 0.6287906025267487}. Best is trial 23 with value: 0.1516539858659698.\n",
      "[I 2023-06-10 21:59:59,204] Trial 45 finished with value: 0.1469999310641637 and parameters: {'alpha': 0.001032899441061334, 'l1_ratio': 0.546628030839921}. Best is trial 23 with value: 0.1516539858659698.\n",
      "[I 2023-06-10 21:59:59,354] Trial 46 finished with value: 0.15165344166263744 and parameters: {'alpha': 0.0006418227008655785, 'l1_ratio': 0.7150388332478473}. Best is trial 23 with value: 0.1516539858659698.\n",
      "[I 2023-06-10 21:59:59,547] Trial 47 finished with value: 0.141421624074015 and parameters: {'alpha': 0.00019794172662179546, 'l1_ratio': 0.7212920510633575}. Best is trial 23 with value: 0.1516539858659698.\n",
      "[I 2023-06-10 21:59:59,685] Trial 48 finished with value: 0.14360930601590685 and parameters: {'alpha': 0.0012186182055814723, 'l1_ratio': 0.7762363049442359}. Best is trial 23 with value: 0.1516539858659698.\n",
      "[I 2023-06-10 21:59:59,829] Trial 49 finished with value: 0.1508804486469277 and parameters: {'alpha': 0.0006586992594557024, 'l1_ratio': 0.9853129651908962}. Best is trial 23 with value: 0.1516539858659698.\n",
      "[I 2023-06-10 22:00:00,004] Trial 50 finished with value: 0.1455200899267525 and parameters: {'alpha': 0.0002747592943187582, 'l1_ratio': 0.6990836428453184}. Best is trial 23 with value: 0.1516539858659698.\n",
      "[I 2023-06-10 22:00:00,151] Trial 51 finished with value: 0.15146405574812682 and parameters: {'alpha': 0.0006443008782367195, 'l1_ratio': 0.620811848877972}. Best is trial 23 with value: 0.1516539858659698.\n",
      "[I 2023-06-10 22:00:00,306] Trial 52 finished with value: 0.14939993981809624 and parameters: {'alpha': 0.0003979100508646951, 'l1_ratio': 0.5809676848437861}. Best is trial 23 with value: 0.1516539858659698.\n",
      "[I 2023-06-10 22:00:00,510] Trial 53 finished with value: 0.1369173602639862 and parameters: {'alpha': 0.00013765191422078865, 'l1_ratio': 0.7674145333944291}. Best is trial 23 with value: 0.1516539858659698.\n",
      "[I 2023-06-10 22:00:00,669] Trial 54 finished with value: 0.14893464554423552 and parameters: {'alpha': 0.0009249894637597567, 'l1_ratio': 0.6440266480402544}. Best is trial 23 with value: 0.1516539858659698.\n",
      "[I 2023-06-10 22:00:00,825] Trial 55 finished with value: 0.15108260480572472 and parameters: {'alpha': 0.0005604138798992119, 'l1_ratio': 0.5205486892580881}. Best is trial 23 with value: 0.1516539858659698.\n",
      "[I 2023-06-10 22:00:00,953] Trial 56 finished with value: 0.13718897233807187 and parameters: {'alpha': 0.0015452432005207243, 'l1_ratio': 0.6886105129335818}. Best is trial 23 with value: 0.1516539858659698.\n",
      "[I 2023-06-10 22:00:01,096] Trial 57 finished with value: 0.14862676438243044 and parameters: {'alpha': 0.0009511504522941728, 'l1_ratio': 0.7366139948954482}. Best is trial 23 with value: 0.1516539858659698.\n",
      "[I 2023-06-10 22:00:01,254] Trial 58 finished with value: 0.14840263640009907 and parameters: {'alpha': 0.0003554164592286565, 'l1_ratio': 0.5967508096972182}. Best is trial 23 with value: 0.1516539858659698.\n",
      "[I 2023-06-10 22:00:01,371] Trial 59 finished with value: 0.11918648246861956 and parameters: {'alpha': 0.002773824343568133, 'l1_ratio': 0.8201358433512216}. Best is trial 23 with value: 0.1516539858659698.\n",
      "[I 2023-06-10 22:00:01,542] Trial 60 finished with value: 0.14428691181588818 and parameters: {'alpha': 0.00024770865472280155, 'l1_ratio': 0.6911708805691078}. Best is trial 23 with value: 0.1516539858659698.\n",
      "[I 2023-06-10 22:00:01,692] Trial 61 finished with value: 0.15150701934934402 and parameters: {'alpha': 0.0006455680850116907, 'l1_ratio': 0.6391311783125837}. Best is trial 23 with value: 0.1516539858659698.\n",
      "[I 2023-06-10 22:00:01,835] Trial 62 finished with value: 0.15033298622339336 and parameters: {'alpha': 0.0008174840846667104, 'l1_ratio': 0.6464082772466586}. Best is trial 23 with value: 0.1516539858659698.\n",
      "[I 2023-06-10 22:00:01,987] Trial 63 finished with value: 0.15096747792088533 and parameters: {'alpha': 0.0005133076809551856, 'l1_ratio': 0.5642149850239544}. Best is trial 23 with value: 0.1516539858659698.\n",
      "[I 2023-06-10 22:00:02,121] Trial 64 finished with value: 0.14708994440506673 and parameters: {'alpha': 0.0010399581306357786, 'l1_ratio': 0.743278942720455}. Best is trial 23 with value: 0.1516539858659698.\n",
      "[I 2023-06-10 22:00:02,281] Trial 65 finished with value: 0.1500228772807472 and parameters: {'alpha': 0.00042871783270135856, 'l1_ratio': 0.6175196186945665}. Best is trial 23 with value: 0.1516539858659698.\n",
      "[I 2023-06-10 22:00:02,408] Trial 66 finished with value: 0.13369848362861533 and parameters: {'alpha': 0.0017424902722187894, 'l1_ratio': 0.7078734125702066}. Best is trial 23 with value: 0.1516539858659698.\n",
      "[I 2023-06-10 22:00:02,545] Trial 67 finished with value: 0.1410405767381509 and parameters: {'alpha': 0.0013507622230965934, 'l1_ratio': 0.49405780077471906}. Best is trial 23 with value: 0.1516539858659698.\n",
      "[I 2023-06-10 22:00:02,696] Trial 68 finished with value: 0.15153049738132657 and parameters: {'alpha': 0.000654274807694469, 'l1_ratio': 0.6596264530587497}. Best is trial 23 with value: 0.1516539858659698.\n",
      "[I 2023-06-10 22:00:02,844] Trial 69 finished with value: 0.1516209889085439 and parameters: {'alpha': 0.0006648082060912877, 'l1_ratio': 0.76922024207873}. Best is trial 23 with value: 0.1516539858659698.\n",
      "[I 2023-06-10 22:00:03,016] Trial 70 finished with value: 0.14347650335903395 and parameters: {'alpha': 0.00023684253275984166, 'l1_ratio': 0.7895074806601505}. Best is trial 23 with value: 0.1516539858659698.\n",
      "[I 2023-06-10 22:00:03,165] Trial 71 finished with value: 0.1515695434903316 and parameters: {'alpha': 0.0006386244199993368, 'l1_ratio': 0.6623303414356281}. Best is trial 23 with value: 0.1516539858659698.\n",
      "[I 2023-06-10 22:00:03,312] Trial 72 finished with value: 0.1507057811550759 and parameters: {'alpha': 0.0007864437493924123, 'l1_ratio': 0.6729293438910646}. Best is trial 23 with value: 0.1516539858659698.\n",
      "[I 2023-06-10 22:00:03,469] Trial 73 finished with value: 0.14987197505872876 and parameters: {'alpha': 0.00041856796874209, 'l1_ratio': 0.7207065898223114}. Best is trial 23 with value: 0.1516539858659698.\n",
      "[I 2023-06-10 22:00:03,601] Trial 74 finished with value: 0.14580625119606666 and parameters: {'alpha': 0.0011110896432258495, 'l1_ratio': 0.7372121021428749}. Best is trial 23 with value: 0.1516539858659698.\n",
      "[I 2023-06-10 22:00:03,775] Trial 75 finished with value: 0.1475855974237353 and parameters: {'alpha': 0.00033267124896237176, 'l1_ratio': 0.7581793589315222}. Best is trial 23 with value: 0.1516539858659698.\n",
      "[I 2023-06-10 22:00:03,929] Trial 76 finished with value: 0.15158950045011768 and parameters: {'alpha': 0.000614861470368397, 'l1_ratio': 0.6604476977154332}. Best is trial 23 with value: 0.1516539858659698.\n",
      "[I 2023-06-10 22:00:04,080] Trial 77 finished with value: 0.15123335063093177 and parameters: {'alpha': 0.0005169284842832929, 'l1_ratio': 0.8039070225985627}. Best is trial 23 with value: 0.1516539858659698.\n",
      "[I 2023-06-10 22:00:04,210] Trial 78 finished with value: 0.14069840164438352 and parameters: {'alpha': 0.0013735612728452775, 'l1_ratio': 0.845808685566431}. Best is trial 23 with value: 0.1516539858659698.\n"
     ]
    },
    {
     "name": "stderr",
     "output_type": "stream",
     "text": [
      "[I 2023-06-10 22:00:04,356] Trial 79 finished with value: 0.15022901238459535 and parameters: {'alpha': 0.0008348546475179038, 'l1_ratio': 0.7769399981864081}. Best is trial 23 with value: 0.1516539858659698.\n",
      "[I 2023-06-10 22:00:04,484] Trial 80 finished with value: 0.13364199056925993 and parameters: {'alpha': 0.0017303767626973968, 'l1_ratio': 0.66496720488599}. Best is trial 23 with value: 0.1516539858659698.\n",
      "[I 2023-06-10 22:00:04,632] Trial 81 finished with value: 0.15155618970257576 and parameters: {'alpha': 0.0006292171965389844, 'l1_ratio': 0.648636624623975}. Best is trial 23 with value: 0.1516539858659698.\n",
      "[I 2023-06-10 22:00:04,790] Trial 82 finished with value: 0.15014914141677613 and parameters: {'alpha': 0.0004330159658944427, 'l1_ratio': 0.6978717363524969}. Best is trial 23 with value: 0.1516539858659698.\n",
      "[I 2023-06-10 22:00:04,935] Trial 83 finished with value: 0.15120507746237202 and parameters: {'alpha': 0.0007341031374735464, 'l1_ratio': 0.7496289899036064}. Best is trial 23 with value: 0.1516539858659698.\n",
      "[I 2023-06-10 22:00:05,103] Trial 84 finished with value: 0.14637686603891403 and parameters: {'alpha': 0.00029406534874348205, 'l1_ratio': 0.6562047595640899}. Best is trial 23 with value: 0.1516539858659698.\n",
      "[I 2023-06-10 22:00:05,256] Trial 85 finished with value: 0.15164158079605652 and parameters: {'alpha': 0.0005946081550831758, 'l1_ratio': 0.7076617209511413}. Best is trial 23 with value: 0.1516539858659698.\n",
      "[I 2023-06-10 22:00:05,390] Trial 86 finished with value: 0.14386423507562895 and parameters: {'alpha': 0.001215172374690373, 'l1_ratio': 0.6766677401254477}. Best is trial 23 with value: 0.1516539858659698.\n",
      "[I 2023-06-10 22:00:05,554] Trial 87 finished with value: 0.14841021171584304 and parameters: {'alpha': 0.00035748209306509887, 'l1_ratio': 0.7138238984944562}. Best is trial 23 with value: 0.1516539858659698.\n",
      "[I 2023-06-10 22:00:05,690] Trial 88 finished with value: 0.14915385574309378 and parameters: {'alpha': 0.000903697392900537, 'l1_ratio': 0.6080338250311913}. Best is trial 23 with value: 0.1516539858659698.\n",
      "[I 2023-06-10 22:00:05,839] Trial 89 finished with value: 0.15163355419636587 and parameters: {'alpha': 0.000601210477208943, 'l1_ratio': 0.6912476829403252}. Best is trial 23 with value: 0.1516539858659698.\n",
      "[I 2023-06-10 22:00:05,988] Trial 90 finished with value: 0.1511420918776954 and parameters: {'alpha': 0.0005068299733696212, 'l1_ratio': 0.6917868339964794}. Best is trial 23 with value: 0.1516539858659698.\n",
      "[I 2023-06-10 22:00:06,135] Trial 91 finished with value: 0.1515002537976809 and parameters: {'alpha': 0.0006898132730490347, 'l1_ratio': 0.7130448060624598}. Best is trial 23 with value: 0.1516539858659698.\n",
      "[I 2023-06-10 22:00:06,290] Trial 92 finished with value: 0.15010864524322237 and parameters: {'alpha': 0.0004314597683639036, 'l1_ratio': 0.6544168206518888}. Best is trial 23 with value: 0.1516539858659698.\n",
      "[I 2023-06-10 22:00:06,440] Trial 93 finished with value: 0.15168131594552212 and parameters: {'alpha': 0.0006167913176584872, 'l1_ratio': 0.7277034948352414}. Best is trial 93 with value: 0.15168131594552212.\n",
      "[I 2023-06-10 22:00:06,590] Trial 94 finished with value: 0.1515804876161462 and parameters: {'alpha': 0.0005657633287206084, 'l1_ratio': 0.7361768578356839}. Best is trial 93 with value: 0.15168131594552212.\n",
      "[I 2023-06-10 22:00:06,733] Trial 95 finished with value: 0.14867787323204507 and parameters: {'alpha': 0.0009407804051329382, 'l1_ratio': 0.7941055304447119}. Best is trial 93 with value: 0.15168131594552212.\n",
      "[I 2023-06-10 22:00:06,909] Trial 96 finished with value: 0.14604933644317572 and parameters: {'alpha': 0.00028927452152235645, 'l1_ratio': 0.7321669354668}. Best is trial 93 with value: 0.15168131594552212.\n",
      "[I 2023-06-10 22:00:07,080] Trial 97 finished with value: 0.14854696836892475 and parameters: {'alpha': 0.00036519678416084924, 'l1_ratio': 0.7723190556857856}. Best is trial 93 with value: 0.15168131594552212.\n",
      "[I 2023-06-10 22:00:07,253] Trial 98 finished with value: 0.1419173765043383 and parameters: {'alpha': 0.00021052016127898174, 'l1_ratio': 0.816488748552924}. Best is trial 93 with value: 0.15168131594552212.\n",
      "[I 2023-06-10 22:00:07,401] Trial 99 finished with value: 0.15144843838565153 and parameters: {'alpha': 0.00054037982227125, 'l1_ratio': 0.7427811559974467}. Best is trial 93 with value: 0.15168131594552212.\n"
     ]
    }
   ],
   "source": [
    "def objective(trial):\n",
    "\n",
    "    alpha = trial.suggest_loguniform('alpha', 1e-4, 1.0)\n",
    "    l1_ratio = trial.suggest_uniform('l1_ratio', 0, 1)\n",
    "    regressor = ElasticNet(alpha=alpha, l1_ratio=l1_ratio)\n",
    "    \n",
    "    vect = TfidfVectorizer(ngram_range=(1,1), analyzer=\"word\", max_df=0.5, \n",
    "                           min_df=10, lowercase=True)\n",
    "    \n",
    "    pipe = Pipeline([('vect', vect), ('ref', regressor)])\n",
    "    scores = cross_val_score(pipe, \n",
    "                             train.text.values, \n",
    "                             train[[\"lat\", \"lon\"]].values,\n",
    "                             cv=5,\n",
    "                             n_jobs=-1)\n",
    "    return scores.mean()\n",
    "\n",
    "\n",
    "study = optuna.create_study(direction='maximize')\n",
    "study.optimize(objective, n_trials=100)"
   ]
  },
  {
   "cell_type": "code",
   "execution_count": 66,
   "metadata": {},
   "outputs": [
    {
     "name": "stdout",
     "output_type": "stream",
     "text": [
      "best value: 0.15168131594552212\n",
      "best trial: FrozenTrial(number=93, state=TrialState.COMPLETE, values=[0.15168131594552212], datetime_start=datetime.datetime(2023, 6, 10, 22, 0, 6, 291267), datetime_complete=datetime.datetime(2023, 6, 10, 22, 0, 6, 440250), params={'alpha': 0.0006167913176584872, 'l1_ratio': 0.7277034948352414}, user_attrs={}, system_attrs={}, intermediate_values={}, distributions={'alpha': FloatDistribution(high=1.0, log=True, low=0.0001, step=None), 'l1_ratio': FloatDistribution(high=1.0, log=False, low=0.0, step=None)}, trial_id=93, value=None)\n",
      "best params: {'alpha': 0.0006167913176584872, 'l1_ratio': 0.7277034948352414}\n"
     ]
    }
   ],
   "source": [
    "print('best value:', study.best_value)\n",
    "print('best trial:', study.best_trial)\n",
    "best_params = study.best_trial.params\n",
    "print('best params:', best_params)"
   ]
  },
  {
   "cell_type": "code",
   "execution_count": 67,
   "metadata": {},
   "outputs": [
    {
     "data": {
      "text/plain": [
       "0.2131466421753188"
      ]
     },
     "execution_count": 67,
     "metadata": {},
     "output_type": "execute_result"
    }
   ],
   "source": [
    "regressor = ElasticNet(**best_params)\n",
    "elastic_net_pipe = Pipeline([('vect', vect), ('reg', regressor)])\n",
    "elastic_net_pipe.fit(train.text.values, train[[\"lat\", \"lon\"]].values)\n",
    "score = elastic_net_pipe.score(test.text.values, test[[\"lat\", \"lon\"]].values)\n",
    "score"
   ]
  },
  {
   "cell_type": "code",
   "execution_count": 68,
   "metadata": {},
   "outputs": [
    {
     "name": "stdout",
     "output_type": "stream",
     "text": [
      "1.292756526910211 1.803654490312877\n",
      "2.6274680630145903 5.516732661698541\n"
     ]
    }
   ],
   "source": [
    "predicted_coords = elastic_net_pipe.predict(test.text.values)\n",
    "\n",
    "mae_lat, mae_lon = (mean_absolute_error(test.lat.values, predicted_coords[:, 0]),\n",
    "                    mean_absolute_error(test.lon.values, predicted_coords[:, 1]))\n",
    "mse_lat, mse_lon = (mean_squared_error(test.lat.values, predicted_coords[:, 0]),\n",
    "                    mean_squared_error(test.lon.values, predicted_coords[:, 1]))\n",
    "\n",
    "optimization_results.append([\n",
    "    'ElasticNet', \n",
    "    study.best_value, \n",
    "    score,\n",
    "    best_params,\n",
    "    mae_lat, \n",
    "    mae_lon,\n",
    "    mse_lat,\n",
    "    mse_lon\n",
    "])\n",
    "\n",
    "print(mae_lat, mae_lon)\n",
    "print(mse_lat, mse_lon)"
   ]
  },
  {
   "cell_type": "code",
   "execution_count": 69,
   "metadata": {},
   "outputs": [
    {
     "name": "stderr",
     "output_type": "stream",
     "text": [
      "[I 2023-06-10 22:00:07,588] A new study created in memory with name: no-name-e78deba2-3fc3-4143-ae35-41082856a26e\n",
      "[I 2023-06-10 22:00:07,920] Trial 0 finished with value: 0.06038019224339136 and parameters: {'n_neighbors': 27, 'weights': 'uniform', 'p': 2}. Best is trial 0 with value: 0.06038019224339136.\n",
      "[I 2023-06-10 22:00:08,501] Trial 1 finished with value: -0.20346178762846204 and parameters: {'n_neighbors': 3, 'weights': 'distance', 'p': 1}. Best is trial 0 with value: 0.06038019224339136.\n",
      "[I 2023-06-10 22:00:08,822] Trial 2 finished with value: 0.009304615004941508 and parameters: {'n_neighbors': 41, 'weights': 'distance', 'p': 2}. Best is trial 0 with value: 0.06038019224339136.\n",
      "[I 2023-06-10 22:00:09,394] Trial 3 finished with value: 0.005741604711188142 and parameters: {'n_neighbors': 35, 'weights': 'uniform', 'p': 1}. Best is trial 0 with value: 0.06038019224339136.\n",
      "[I 2023-06-10 22:00:09,706] Trial 4 finished with value: 0.022335072639989417 and parameters: {'n_neighbors': 9, 'weights': 'uniform', 'p': 2}. Best is trial 0 with value: 0.06038019224339136.\n",
      "[I 2023-06-10 22:00:10,259] Trial 5 finished with value: -0.03406638869471905 and parameters: {'n_neighbors': 16, 'weights': 'distance', 'p': 1}. Best is trial 0 with value: 0.06038019224339136.\n",
      "[I 2023-06-10 22:00:10,815] Trial 6 finished with value: -0.015426055741475441 and parameters: {'n_neighbors': 28, 'weights': 'distance', 'p': 1}. Best is trial 0 with value: 0.06038019224339136.\n",
      "[I 2023-06-10 22:00:11,136] Trial 7 finished with value: 0.05508244157673888 and parameters: {'n_neighbors': 15, 'weights': 'uniform', 'p': 2}. Best is trial 0 with value: 0.06038019224339136.\n",
      "[I 2023-06-10 22:00:11,690] Trial 8 finished with value: -0.03030277366442058 and parameters: {'n_neighbors': 17, 'weights': 'distance', 'p': 1}. Best is trial 0 with value: 0.06038019224339136.\n",
      "[I 2023-06-10 22:00:11,997] Trial 9 finished with value: 0.050865128825220166 and parameters: {'n_neighbors': 45, 'weights': 'uniform', 'p': 2}. Best is trial 0 with value: 0.06038019224339136.\n",
      "[I 2023-06-10 22:00:12,301] Trial 10 finished with value: 0.05685659639318628 and parameters: {'n_neighbors': 31, 'weights': 'uniform', 'p': 2}. Best is trial 0 with value: 0.06038019224339136.\n",
      "[I 2023-06-10 22:00:12,603] Trial 11 finished with value: 0.06038019224339136 and parameters: {'n_neighbors': 27, 'weights': 'uniform', 'p': 2}. Best is trial 0 with value: 0.06038019224339136.\n",
      "[I 2023-06-10 22:00:12,907] Trial 12 finished with value: 0.05910110302284377 and parameters: {'n_neighbors': 23, 'weights': 'uniform', 'p': 2}. Best is trial 0 with value: 0.06038019224339136.\n",
      "[I 2023-06-10 22:00:13,211] Trial 13 finished with value: 0.0536599252616458 and parameters: {'n_neighbors': 37, 'weights': 'uniform', 'p': 2}. Best is trial 0 with value: 0.06038019224339136.\n",
      "[I 2023-06-10 22:00:13,518] Trial 14 finished with value: 0.060130075133535535 and parameters: {'n_neighbors': 25, 'weights': 'uniform', 'p': 2}. Best is trial 0 with value: 0.06038019224339136.\n",
      "[I 2023-06-10 22:00:13,831] Trial 15 finished with value: 0.05910110302284377 and parameters: {'n_neighbors': 23, 'weights': 'uniform', 'p': 2}. Best is trial 0 with value: 0.06038019224339136.\n",
      "[I 2023-06-10 22:00:14,149] Trial 16 finished with value: 0.05653659056689627 and parameters: {'n_neighbors': 32, 'weights': 'uniform', 'p': 2}. Best is trial 0 with value: 0.06038019224339136.\n",
      "[I 2023-06-10 22:00:14,467] Trial 17 finished with value: 0.04659137277675185 and parameters: {'n_neighbors': 50, 'weights': 'uniform', 'p': 2}. Best is trial 0 with value: 0.06038019224339136.\n",
      "[I 2023-06-10 22:00:14,779] Trial 18 finished with value: 0.05927909188191853 and parameters: {'n_neighbors': 21, 'weights': 'uniform', 'p': 2}. Best is trial 0 with value: 0.06038019224339136.\n",
      "[I 2023-06-10 22:00:15,091] Trial 19 finished with value: 0.022335072639989417 and parameters: {'n_neighbors': 9, 'weights': 'uniform', 'p': 2}. Best is trial 0 with value: 0.06038019224339136.\n",
      "[I 2023-06-10 22:00:15,393] Trial 20 finished with value: 0.058304460712380435 and parameters: {'n_neighbors': 29, 'weights': 'uniform', 'p': 2}. Best is trial 0 with value: 0.06038019224339136.\n",
      "[I 2023-06-10 22:00:15,695] Trial 21 finished with value: 0.06038019224339136 and parameters: {'n_neighbors': 27, 'weights': 'uniform', 'p': 2}. Best is trial 0 with value: 0.06038019224339136.\n",
      "[I 2023-06-10 22:00:16,001] Trial 22 finished with value: 0.05354240445644476 and parameters: {'n_neighbors': 38, 'weights': 'uniform', 'p': 2}. Best is trial 0 with value: 0.06038019224339136.\n",
      "[I 2023-06-10 22:00:16,304] Trial 23 finished with value: 0.06038019224339136 and parameters: {'n_neighbors': 27, 'weights': 'uniform', 'p': 2}. Best is trial 0 with value: 0.06038019224339136.\n",
      "[I 2023-06-10 22:00:16,615] Trial 24 finished with value: 0.0556841027629608 and parameters: {'n_neighbors': 33, 'weights': 'uniform', 'p': 2}. Best is trial 0 with value: 0.06038019224339136.\n",
      "[I 2023-06-10 22:00:16,915] Trial 25 finished with value: 0.058667234295111316 and parameters: {'n_neighbors': 19, 'weights': 'uniform', 'p': 2}. Best is trial 0 with value: 0.06038019224339136.\n",
      "[I 2023-06-10 22:00:17,475] Trial 26 finished with value: -0.016393992895950782 and parameters: {'n_neighbors': 26, 'weights': 'distance', 'p': 1}. Best is trial 0 with value: 0.06038019224339136.\n",
      "[I 2023-06-10 22:00:17,776] Trial 27 finished with value: 0.048748529922384355 and parameters: {'n_neighbors': 13, 'weights': 'uniform', 'p': 2}. Best is trial 0 with value: 0.06038019224339136.\n",
      "[I 2023-06-10 22:00:18,088] Trial 28 finished with value: 0.051913030866367525 and parameters: {'n_neighbors': 43, 'weights': 'uniform', 'p': 2}. Best is trial 0 with value: 0.06038019224339136.\n",
      "[I 2023-06-10 22:00:18,644] Trial 29 finished with value: -0.5972544800274928 and parameters: {'n_neighbors': 1, 'weights': 'distance', 'p': 1}. Best is trial 0 with value: 0.06038019224339136.\n",
      "[I 2023-06-10 22:00:18,942] Trial 30 finished with value: 0.036727418287763214 and parameters: {'n_neighbors': 11, 'weights': 'uniform', 'p': 2}. Best is trial 0 with value: 0.06038019224339136.\n",
      "[I 2023-06-10 22:00:19,248] Trial 31 finished with value: 0.06038019224339136 and parameters: {'n_neighbors': 27, 'weights': 'uniform', 'p': 2}. Best is trial 0 with value: 0.06038019224339136.\n",
      "[I 2023-06-10 22:00:19,551] Trial 32 finished with value: 0.05829320573023542 and parameters: {'n_neighbors': 30, 'weights': 'uniform', 'p': 2}. Best is trial 0 with value: 0.06038019224339136.\n",
      "[I 2023-06-10 22:00:19,852] Trial 33 finished with value: 0.06208857752172975 and parameters: {'n_neighbors': 22, 'weights': 'uniform', 'p': 2}. Best is trial 33 with value: 0.06208857752172975.\n",
      "[I 2023-06-10 22:00:20,155] Trial 34 finished with value: 0.05910110302284377 and parameters: {'n_neighbors': 23, 'weights': 'uniform', 'p': 2}. Best is trial 33 with value: 0.06208857752172975.\n",
      "[I 2023-06-10 22:00:20,465] Trial 35 finished with value: 0.011999176875164774 and parameters: {'n_neighbors': 35, 'weights': 'distance', 'p': 2}. Best is trial 33 with value: 0.06208857752172975.\n",
      "[I 2023-06-10 22:00:21,025] Trial 36 finished with value: -0.0022301897171289387 and parameters: {'n_neighbors': 20, 'weights': 'uniform', 'p': 1}. Best is trial 33 with value: 0.06208857752172975.\n",
      "[I 2023-06-10 22:00:21,324] Trial 37 finished with value: -0.03630347639346905 and parameters: {'n_neighbors': 5, 'weights': 'uniform', 'p': 2}. Best is trial 33 with value: 0.06208857752172975.\n",
      "[I 2023-06-10 22:00:21,893] Trial 38 finished with value: -0.024487080425911023 and parameters: {'n_neighbors': 18, 'weights': 'distance', 'p': 1}. Best is trial 33 with value: 0.06208857752172975.\n",
      "[I 2023-06-10 22:00:22,196] Trial 39 finished with value: 0.060704708950609275 and parameters: {'n_neighbors': 24, 'weights': 'uniform', 'p': 2}. Best is trial 33 with value: 0.06208857752172975.\n",
      "[I 2023-06-10 22:00:22,496] Trial 40 finished with value: 0.014672697216268016 and parameters: {'n_neighbors': 21, 'weights': 'distance', 'p': 2}. Best is trial 33 with value: 0.06208857752172975.\n",
      "[I 2023-06-10 22:00:22,802] Trial 41 finished with value: 0.060130075133535535 and parameters: {'n_neighbors': 25, 'weights': 'uniform', 'p': 2}. Best is trial 33 with value: 0.06208857752172975.\n"
     ]
    },
    {
     "name": "stderr",
     "output_type": "stream",
     "text": [
      "[I 2023-06-10 22:00:23,105] Trial 42 finished with value: 0.058304460712380435 and parameters: {'n_neighbors': 29, 'weights': 'uniform', 'p': 2}. Best is trial 33 with value: 0.06208857752172975.\n",
      "[I 2023-06-10 22:00:23,407] Trial 43 finished with value: 0.05508244157673888 and parameters: {'n_neighbors': 15, 'weights': 'uniform', 'p': 2}. Best is trial 33 with value: 0.06208857752172975.\n",
      "[I 2023-06-10 22:00:23,713] Trial 44 finished with value: 0.05705639310227208 and parameters: {'n_neighbors': 34, 'weights': 'uniform', 'p': 2}. Best is trial 33 with value: 0.06208857752172975.\n",
      "[I 2023-06-10 22:00:24,017] Trial 45 finished with value: 0.05910110302284377 and parameters: {'n_neighbors': 23, 'weights': 'uniform', 'p': 2}. Best is trial 33 with value: 0.06208857752172975.\n",
      "[I 2023-06-10 22:00:24,584] Trial 46 finished with value: 0.006619417348061485 and parameters: {'n_neighbors': 37, 'weights': 'uniform', 'p': 1}. Best is trial 33 with value: 0.06208857752172975.\n",
      "[I 2023-06-10 22:00:24,888] Trial 47 finished with value: 0.05685659639318628 and parameters: {'n_neighbors': 31, 'weights': 'uniform', 'p': 2}. Best is trial 33 with value: 0.06208857752172975.\n",
      "[I 2023-06-10 22:00:25,196] Trial 48 finished with value: 0.060130075133535535 and parameters: {'n_neighbors': 25, 'weights': 'uniform', 'p': 2}. Best is trial 33 with value: 0.06208857752172975.\n",
      "[I 2023-06-10 22:00:25,496] Trial 49 finished with value: 0.05557739210104198 and parameters: {'n_neighbors': 17, 'weights': 'uniform', 'p': 2}. Best is trial 33 with value: 0.06208857752172975.\n",
      "[I 2023-06-10 22:00:25,805] Trial 50 finished with value: 0.05932009935838208 and parameters: {'n_neighbors': 28, 'weights': 'uniform', 'p': 2}. Best is trial 33 with value: 0.06208857752172975.\n",
      "[I 2023-06-10 22:00:26,111] Trial 51 finished with value: 0.06038019224339136 and parameters: {'n_neighbors': 27, 'weights': 'uniform', 'p': 2}. Best is trial 33 with value: 0.06208857752172975.\n",
      "[I 2023-06-10 22:00:26,412] Trial 52 finished with value: 0.05927909188191853 and parameters: {'n_neighbors': 21, 'weights': 'uniform', 'p': 2}. Best is trial 33 with value: 0.06208857752172975.\n",
      "[I 2023-06-10 22:00:26,711] Trial 53 finished with value: 0.060704708950609275 and parameters: {'n_neighbors': 24, 'weights': 'uniform', 'p': 2}. Best is trial 33 with value: 0.06208857752172975.\n",
      "[I 2023-06-10 22:00:27,013] Trial 54 finished with value: 0.060704708950609275 and parameters: {'n_neighbors': 24, 'weights': 'uniform', 'p': 2}. Best is trial 33 with value: 0.06208857752172975.\n",
      "[I 2023-06-10 22:00:27,318] Trial 55 finished with value: 0.060704708950609275 and parameters: {'n_neighbors': 24, 'weights': 'uniform', 'p': 2}. Best is trial 33 with value: 0.06208857752172975.\n",
      "[I 2023-06-10 22:00:27,620] Trial 56 finished with value: 0.05910110302284377 and parameters: {'n_neighbors': 23, 'weights': 'uniform', 'p': 2}. Best is trial 33 with value: 0.06208857752172975.\n",
      "[I 2023-06-10 22:00:27,921] Trial 57 finished with value: 0.058667234295111316 and parameters: {'n_neighbors': 19, 'weights': 'uniform', 'p': 2}. Best is trial 33 with value: 0.06208857752172975.\n",
      "[I 2023-06-10 22:00:28,225] Trial 58 finished with value: 0.05636961507449663 and parameters: {'n_neighbors': 16, 'weights': 'uniform', 'p': 2}. Best is trial 33 with value: 0.06208857752172975.\n",
      "[I 2023-06-10 22:00:28,528] Trial 59 finished with value: 0.01700980712372565 and parameters: {'n_neighbors': 24, 'weights': 'distance', 'p': 2}. Best is trial 33 with value: 0.06208857752172975.\n",
      "[I 2023-06-10 22:00:29,103] Trial 60 finished with value: -0.001288208475329955 and parameters: {'n_neighbors': 21, 'weights': 'uniform', 'p': 1}. Best is trial 33 with value: 0.06208857752172975.\n",
      "[I 2023-06-10 22:00:29,410] Trial 61 finished with value: 0.05829320573023542 and parameters: {'n_neighbors': 30, 'weights': 'uniform', 'p': 2}. Best is trial 33 with value: 0.06208857752172975.\n",
      "[I 2023-06-10 22:00:29,715] Trial 62 finished with value: 0.060704708950609275 and parameters: {'n_neighbors': 24, 'weights': 'uniform', 'p': 2}. Best is trial 33 with value: 0.06208857752172975.\n",
      "[I 2023-06-10 22:00:30,020] Trial 63 finished with value: 0.060130075133535535 and parameters: {'n_neighbors': 25, 'weights': 'uniform', 'p': 2}. Best is trial 33 with value: 0.06208857752172975.\n",
      "[I 2023-06-10 22:00:30,329] Trial 64 finished with value: 0.06208857752172975 and parameters: {'n_neighbors': 22, 'weights': 'uniform', 'p': 2}. Best is trial 33 with value: 0.06208857752172975.\n",
      "[I 2023-06-10 22:00:30,632] Trial 65 finished with value: 0.06208857752172975 and parameters: {'n_neighbors': 22, 'weights': 'uniform', 'p': 2}. Best is trial 33 with value: 0.06208857752172975.\n",
      "[I 2023-06-10 22:00:30,931] Trial 66 finished with value: 0.05303563099401838 and parameters: {'n_neighbors': 14, 'weights': 'uniform', 'p': 2}. Best is trial 33 with value: 0.06208857752172975.\n",
      "[I 2023-06-10 22:00:31,235] Trial 67 finished with value: 0.058667234295111316 and parameters: {'n_neighbors': 19, 'weights': 'uniform', 'p': 2}. Best is trial 33 with value: 0.06208857752172975.\n",
      "[I 2023-06-10 22:00:31,537] Trial 68 finished with value: 0.06208857752172975 and parameters: {'n_neighbors': 22, 'weights': 'uniform', 'p': 2}. Best is trial 33 with value: 0.06208857752172975.\n",
      "[I 2023-06-10 22:00:31,839] Trial 69 finished with value: 0.06208857752172975 and parameters: {'n_neighbors': 22, 'weights': 'uniform', 'p': 2}. Best is trial 33 with value: 0.06208857752172975.\n",
      "[I 2023-06-10 22:00:32,143] Trial 70 finished with value: 0.06208857752172975 and parameters: {'n_neighbors': 22, 'weights': 'uniform', 'p': 2}. Best is trial 33 with value: 0.06208857752172975.\n",
      "[I 2023-06-10 22:00:32,447] Trial 71 finished with value: 0.06208857752172975 and parameters: {'n_neighbors': 22, 'weights': 'uniform', 'p': 2}. Best is trial 33 with value: 0.06208857752172975.\n",
      "[I 2023-06-10 22:00:32,748] Trial 72 finished with value: 0.06208857752172975 and parameters: {'n_neighbors': 22, 'weights': 'uniform', 'p': 2}. Best is trial 33 with value: 0.06208857752172975.\n",
      "[I 2023-06-10 22:00:33,053] Trial 73 finished with value: 0.06208857752172975 and parameters: {'n_neighbors': 22, 'weights': 'uniform', 'p': 2}. Best is trial 33 with value: 0.06208857752172975.\n",
      "[I 2023-06-10 22:00:33,354] Trial 74 finished with value: 0.05557739210104198 and parameters: {'n_neighbors': 17, 'weights': 'uniform', 'p': 2}. Best is trial 33 with value: 0.06208857752172975.\n",
      "[I 2023-06-10 22:00:33,660] Trial 75 finished with value: 0.0567874459866025 and parameters: {'n_neighbors': 20, 'weights': 'uniform', 'p': 2}. Best is trial 33 with value: 0.06208857752172975.\n",
      "[I 2023-06-10 22:00:33,964] Trial 76 finished with value: 0.06208857752172975 and parameters: {'n_neighbors': 22, 'weights': 'uniform', 'p': 2}. Best is trial 33 with value: 0.06208857752172975.\n",
      "[I 2023-06-10 22:00:34,526] Trial 77 finished with value: -0.024487080425911023 and parameters: {'n_neighbors': 18, 'weights': 'distance', 'p': 1}. Best is trial 33 with value: 0.06208857752172975.\n",
      "[I 2023-06-10 22:00:34,829] Trial 78 finished with value: 0.06208857752172975 and parameters: {'n_neighbors': 22, 'weights': 'uniform', 'p': 2}. Best is trial 33 with value: 0.06208857752172975.\n",
      "[I 2023-06-10 22:00:35,130] Trial 79 finished with value: 0.0567874459866025 and parameters: {'n_neighbors': 20, 'weights': 'uniform', 'p': 2}. Best is trial 33 with value: 0.06208857752172975.\n",
      "[I 2023-06-10 22:00:35,441] Trial 80 finished with value: 0.05900260557532603 and parameters: {'n_neighbors': 26, 'weights': 'uniform', 'p': 2}. Best is trial 33 with value: 0.06208857752172975.\n",
      "[I 2023-06-10 22:00:35,746] Trial 81 finished with value: 0.058059397969302075 and parameters: {'n_neighbors': 18, 'weights': 'uniform', 'p': 2}. Best is trial 33 with value: 0.06208857752172975.\n",
      "[I 2023-06-10 22:00:36,051] Trial 82 finished with value: 0.06208857752172975 and parameters: {'n_neighbors': 22, 'weights': 'uniform', 'p': 2}. Best is trial 33 with value: 0.06208857752172975.\n",
      "[I 2023-06-10 22:00:36,355] Trial 83 finished with value: 0.0567874459866025 and parameters: {'n_neighbors': 20, 'weights': 'uniform', 'p': 2}. Best is trial 33 with value: 0.06208857752172975.\n"
     ]
    },
    {
     "name": "stderr",
     "output_type": "stream",
     "text": [
      "[I 2023-06-10 22:00:36,657] Trial 84 finished with value: 0.06208857752172975 and parameters: {'n_neighbors': 22, 'weights': 'uniform', 'p': 2}. Best is trial 33 with value: 0.06208857752172975.\n",
      "[I 2023-06-10 22:00:36,963] Trial 85 finished with value: 0.05900260557532603 and parameters: {'n_neighbors': 26, 'weights': 'uniform', 'p': 2}. Best is trial 33 with value: 0.06208857752172975.\n",
      "[I 2023-06-10 22:00:37,263] Trial 86 finished with value: 0.04176962138330444 and parameters: {'n_neighbors': 12, 'weights': 'uniform', 'p': 2}. Best is trial 33 with value: 0.06208857752172975.\n",
      "[I 2023-06-10 22:00:37,565] Trial 87 finished with value: 0.05636961507449663 and parameters: {'n_neighbors': 16, 'weights': 'uniform', 'p': 2}. Best is trial 33 with value: 0.06208857752172975.\n",
      "[I 2023-06-10 22:00:37,871] Trial 88 finished with value: 0.015198904595870522 and parameters: {'n_neighbors': 28, 'weights': 'distance', 'p': 2}. Best is trial 33 with value: 0.06208857752172975.\n",
      "[I 2023-06-10 22:00:38,433] Trial 89 finished with value: -0.0011516902876178125 and parameters: {'n_neighbors': 19, 'weights': 'uniform', 'p': 1}. Best is trial 33 with value: 0.06208857752172975.\n",
      "[I 2023-06-10 22:00:38,738] Trial 90 finished with value: 0.06208857752172975 and parameters: {'n_neighbors': 22, 'weights': 'uniform', 'p': 2}. Best is trial 33 with value: 0.06208857752172975.\n",
      "[I 2023-06-10 22:00:39,045] Trial 91 finished with value: 0.05927909188191853 and parameters: {'n_neighbors': 21, 'weights': 'uniform', 'p': 2}. Best is trial 33 with value: 0.06208857752172975.\n",
      "[I 2023-06-10 22:00:39,348] Trial 92 finished with value: 0.05910110302284377 and parameters: {'n_neighbors': 23, 'weights': 'uniform', 'p': 2}. Best is trial 33 with value: 0.06208857752172975.\n",
      "[I 2023-06-10 22:00:39,652] Trial 93 finished with value: 0.06208857752172975 and parameters: {'n_neighbors': 22, 'weights': 'uniform', 'p': 2}. Best is trial 33 with value: 0.06208857752172975.\n",
      "[I 2023-06-10 22:00:39,956] Trial 94 finished with value: 0.0567874459866025 and parameters: {'n_neighbors': 20, 'weights': 'uniform', 'p': 2}. Best is trial 33 with value: 0.06208857752172975.\n",
      "[I 2023-06-10 22:00:40,258] Trial 95 finished with value: 0.058059397969302075 and parameters: {'n_neighbors': 18, 'weights': 'uniform', 'p': 2}. Best is trial 33 with value: 0.06208857752172975.\n",
      "[I 2023-06-10 22:00:40,562] Trial 96 finished with value: 0.060130075133535535 and parameters: {'n_neighbors': 25, 'weights': 'uniform', 'p': 2}. Best is trial 33 with value: 0.06208857752172975.\n",
      "[I 2023-06-10 22:00:40,868] Trial 97 finished with value: 0.05900260557532603 and parameters: {'n_neighbors': 26, 'weights': 'uniform', 'p': 2}. Best is trial 33 with value: 0.06208857752172975.\n",
      "[I 2023-06-10 22:00:41,170] Trial 98 finished with value: 0.05910110302284377 and parameters: {'n_neighbors': 23, 'weights': 'uniform', 'p': 2}. Best is trial 33 with value: 0.06208857752172975.\n",
      "[I 2023-06-10 22:00:41,482] Trial 99 finished with value: 0.04745389762971701 and parameters: {'n_neighbors': 48, 'weights': 'uniform', 'p': 2}. Best is trial 33 with value: 0.06208857752172975.\n"
     ]
    }
   ],
   "source": [
    "def objective(trial):\n",
    "\n",
    "    n_neighbors = trial.suggest_int('n_neighbors', 1, 50)\n",
    "    weights = trial.suggest_categorical('weights', ['uniform', 'distance'])\n",
    "    p = trial.suggest_categorical('p', [1, 2])\n",
    "    regressor = KNeighborsRegressor(n_neighbors=n_neighbors,\n",
    "                                    weights=weights, \n",
    "                                    p=p)\n",
    "    \n",
    "    vect = TfidfVectorizer(ngram_range=(1,1), analyzer=\"word\", max_df=0.5, \n",
    "                           min_df=10, lowercase=True)\n",
    "    pipe = Pipeline([('vect', vect), ('ref', regressor)])\n",
    "    scores = cross_val_score(pipe, \n",
    "                             train.text.values, \n",
    "                             train[[\"lat\", \"lon\"]].values,\n",
    "                             cv=5,\n",
    "                             n_jobs=-1)\n",
    "    return scores.mean()\n",
    "\n",
    "study = optuna.create_study(direction='maximize')\n",
    "study.optimize(objective, n_trials=100)"
   ]
  },
  {
   "cell_type": "code",
   "execution_count": 70,
   "metadata": {},
   "outputs": [
    {
     "name": "stdout",
     "output_type": "stream",
     "text": [
      "best value: 0.06208857752172975\n",
      "best trial: FrozenTrial(number=33, state=TrialState.COMPLETE, values=[0.06208857752172975], datetime_start=datetime.datetime(2023, 6, 10, 22, 0, 19, 551932), datetime_complete=datetime.datetime(2023, 6, 10, 22, 0, 19, 852840), params={'n_neighbors': 22, 'weights': 'uniform', 'p': 2}, user_attrs={}, system_attrs={}, intermediate_values={}, distributions={'n_neighbors': IntDistribution(high=50, log=False, low=1, step=1), 'weights': CategoricalDistribution(choices=('uniform', 'distance')), 'p': CategoricalDistribution(choices=(1, 2))}, trial_id=33, value=None)\n",
      "best params: {'n_neighbors': 22, 'weights': 'uniform', 'p': 2}\n"
     ]
    }
   ],
   "source": [
    "print('best value:', study.best_value)\n",
    "print('best trial:', study.best_trial)\n",
    "best_params = study.best_trial.params\n",
    "print('best params:', best_params)"
   ]
  },
  {
   "cell_type": "code",
   "execution_count": 71,
   "metadata": {},
   "outputs": [
    {
     "data": {
      "text/plain": [
       "0.09255588232781126"
      ]
     },
     "execution_count": 71,
     "metadata": {},
     "output_type": "execute_result"
    }
   ],
   "source": [
    "regressor = KNeighborsRegressor(**best_params)\n",
    "knr_pipe = Pipeline([('vect', vect), ('reg', regressor)])\n",
    "knr_pipe.fit(train.text.values, train[[\"lat\", \"lon\"]].values)\n",
    "score = knr_pipe.score(test.text.values, test[[\"lat\", \"lon\"]].values)\n",
    "score"
   ]
  },
  {
   "cell_type": "code",
   "execution_count": 72,
   "metadata": {},
   "outputs": [
    {
     "name": "stdout",
     "output_type": "stream",
     "text": [
      "1.3767530653913036 1.9567627980173916\n",
      "2.9645297787499216 6.525672340286382\n"
     ]
    }
   ],
   "source": [
    "predicted_coords = knr_pipe.predict(test.text.values)\n",
    "\n",
    "mae_lat, mae_lon = (mean_absolute_error(test.lat.values, predicted_coords[:, 0]),\n",
    "                    mean_absolute_error(test.lon.values, predicted_coords[:, 1]))\n",
    "mse_lat, mse_lon = (mean_squared_error(test.lat.values, predicted_coords[:, 0]),\n",
    "                    mean_squared_error(test.lon.values, predicted_coords[:, 1]))\n",
    "\n",
    "optimization_results.append([\n",
    "    'KNeighborsRegressor', \n",
    "    study.best_value, \n",
    "    score,\n",
    "    best_params,\n",
    "    mae_lat, \n",
    "    mae_lon,\n",
    "    mse_lat,\n",
    "    mse_lon\n",
    "])\n",
    "\n",
    "print(mae_lat, mae_lon)\n",
    "print(mse_lat, mse_lon)"
   ]
  },
  {
   "cell_type": "code",
   "execution_count": 73,
   "metadata": {},
   "outputs": [
    {
     "name": "stderr",
     "output_type": "stream",
     "text": [
      "[I 2023-06-10 22:00:41,837] A new study created in memory with name: no-name-fff2bd52-fdaf-41ea-95b1-b9ef7d2644d3\n",
      "[I 2023-06-10 22:00:44,422] Trial 0 finished with value: 0.1314512724856554 and parameters: {'n_estimators': 143, 'max_depth': 23, 'min_samples_split': 5, 'min_samples_leaf': 4}. Best is trial 0 with value: 0.1314512724856554.\n",
      "[I 2023-06-10 22:00:46,161] Trial 1 finished with value: 0.1317177464956311 and parameters: {'n_estimators': 115, 'max_depth': 20, 'min_samples_split': 10, 'min_samples_leaf': 6}. Best is trial 1 with value: 0.1317177464956311.\n",
      "[I 2023-06-10 22:00:46,709] Trial 2 finished with value: 0.10755228335377662 and parameters: {'n_estimators': 132, 'max_depth': 4, 'min_samples_split': 6, 'min_samples_leaf': 6}. Best is trial 1 with value: 0.1317177464956311.\n",
      "[I 2023-06-10 22:00:51,284] Trial 3 finished with value: 0.13044408319739054 and parameters: {'n_estimators': 323, 'max_depth': 19, 'min_samples_split': 2, 'min_samples_leaf': 5}. Best is trial 1 with value: 0.1317177464956311.\n",
      "[I 2023-06-10 22:00:51,980] Trial 4 finished with value: 0.07856960821615923 and parameters: {'n_estimators': 295, 'max_depth': 2, 'min_samples_split': 8, 'min_samples_leaf': 6}. Best is trial 1 with value: 0.1317177464956311.\n",
      "[I 2023-06-10 22:00:54,461] Trial 5 finished with value: 0.12123800041433345 and parameters: {'n_estimators': 278, 'max_depth': 12, 'min_samples_split': 3, 'min_samples_leaf': 10}. Best is trial 1 with value: 0.1317177464956311.\n",
      "[I 2023-06-10 22:01:00,768] Trial 6 finished with value: 0.1287499646701938 and parameters: {'n_estimators': 398, 'max_depth': 21, 'min_samples_split': 9, 'min_samples_leaf': 2}. Best is trial 1 with value: 0.1317177464956311.\n",
      "[I 2023-06-10 22:01:02,370] Trial 7 finished with value: 0.12230079731300184 and parameters: {'n_estimators': 205, 'max_depth': 10, 'min_samples_split': 7, 'min_samples_leaf': 8}. Best is trial 1 with value: 0.1317177464956311.\n",
      "[I 2023-06-10 22:01:05,743] Trial 8 finished with value: 0.13023411032719032 and parameters: {'n_estimators': 258, 'max_depth': 18, 'min_samples_split': 3, 'min_samples_leaf': 7}. Best is trial 1 with value: 0.1317177464956311.\n",
      "[I 2023-06-10 22:01:06,783] Trial 9 finished with value: 0.10777135017715553 and parameters: {'n_estimators': 272, 'max_depth': 4, 'min_samples_split': 8, 'min_samples_leaf': 4}. Best is trial 1 with value: 0.1317177464956311.\n",
      "[I 2023-06-10 22:01:18,700] Trial 10 finished with value: 0.1311652819577192 and parameters: {'n_estimators': 498, 'max_depth': 31, 'min_samples_split': 10, 'min_samples_leaf': 1}. Best is trial 1 with value: 0.1317177464956311.\n",
      "[I 2023-06-10 22:01:20,995] Trial 11 finished with value: 0.13064072273213007 and parameters: {'n_estimators': 100, 'max_depth': 28, 'min_samples_split': 5, 'min_samples_leaf': 3}. Best is trial 1 with value: 0.1317177464956311.\n",
      "[I 2023-06-10 22:01:23,814] Trial 12 finished with value: 0.13099992848578074 and parameters: {'n_estimators': 151, 'max_depth': 25, 'min_samples_split': 5, 'min_samples_leaf': 4}. Best is trial 1 with value: 0.1317177464956311.\n",
      "[I 2023-06-10 22:01:26,889] Trial 13 finished with value: 0.13165535584944477 and parameters: {'n_estimators': 187, 'max_depth': 24, 'min_samples_split': 5, 'min_samples_leaf': 8}. Best is trial 1 with value: 0.1317177464956311.\n",
      "[I 2023-06-10 22:01:28,919] Trial 14 finished with value: 0.1246022139475638 and parameters: {'n_estimators': 198, 'max_depth': 14, 'min_samples_split': 10, 'min_samples_leaf': 9}. Best is trial 1 with value: 0.1317177464956311.\n",
      "[I 2023-06-10 22:01:32,382] Trial 15 finished with value: 0.13220945735208808 and parameters: {'n_estimators': 197, 'max_depth': 26, 'min_samples_split': 6, 'min_samples_leaf': 8}. Best is trial 15 with value: 0.13220945735208808.\n",
      "[I 2023-06-10 22:01:36,345] Trial 16 finished with value: 0.12866720572683787 and parameters: {'n_estimators': 226, 'max_depth': 28, 'min_samples_split': 7, 'min_samples_leaf': 10}. Best is trial 15 with value: 0.13220945735208808.\n",
      "[I 2023-06-10 22:01:37,530] Trial 17 finished with value: 0.1278775615288352 and parameters: {'n_estimators': 103, 'max_depth': 15, 'min_samples_split': 7, 'min_samples_leaf': 7}. Best is trial 15 with value: 0.13220945735208808.\n",
      "[I 2023-06-10 22:01:40,708] Trial 18 finished with value: 0.13348541414137188 and parameters: {'n_estimators': 165, 'max_depth': 30, 'min_samples_split': 9, 'min_samples_leaf': 8}. Best is trial 18 with value: 0.13348541414137188.\n",
      "[I 2023-06-10 22:01:47,743] Trial 19 finished with value: 0.134270452189243 and parameters: {'n_estimators': 350, 'max_depth': 32, 'min_samples_split': 8, 'min_samples_leaf': 8}. Best is trial 19 with value: 0.134270452189243.\n",
      "[I 2023-06-10 22:01:54,788] Trial 20 finished with value: 0.13174025742547607 and parameters: {'n_estimators': 361, 'max_depth': 32, 'min_samples_split': 9, 'min_samples_leaf': 9}. Best is trial 19 with value: 0.134270452189243.\n",
      "[I 2023-06-10 22:02:02,569] Trial 21 finished with value: 0.13324573620182184 and parameters: {'n_estimators': 429, 'max_depth': 28, 'min_samples_split': 8, 'min_samples_leaf': 8}. Best is trial 19 with value: 0.134270452189243.\n",
      "[I 2023-06-10 22:02:10,428] Trial 22 finished with value: 0.13136403576833094 and parameters: {'n_estimators': 433, 'max_depth': 29, 'min_samples_split': 9, 'min_samples_leaf': 9}. Best is trial 19 with value: 0.134270452189243.\n",
      "[I 2023-06-10 22:02:19,431] Trial 23 finished with value: 0.13543629925946163 and parameters: {'n_estimators': 441, 'max_depth': 32, 'min_samples_split': 8, 'min_samples_leaf': 7}. Best is trial 23 with value: 0.13543629925946163.\n",
      "[I 2023-06-10 22:02:29,746] Trial 24 finished with value: 0.1355091537178979 and parameters: {'n_estimators': 497, 'max_depth': 32, 'min_samples_split': 9, 'min_samples_leaf': 7}. Best is trial 24 with value: 0.1355091537178979.\n",
      "[I 2023-06-10 22:02:40,016] Trial 25 finished with value: 0.13569097579089612 and parameters: {'n_estimators': 499, 'max_depth': 32, 'min_samples_split': 8, 'min_samples_leaf': 7}. Best is trial 25 with value: 0.13569097579089612.\n",
      "[I 2023-06-10 22:02:48,676] Trial 26 finished with value: 0.13403899013851536 and parameters: {'n_estimators': 498, 'max_depth': 26, 'min_samples_split': 7, 'min_samples_leaf': 7}. Best is trial 25 with value: 0.13569097579089612.\n",
      "[I 2023-06-10 22:02:58,711] Trial 27 finished with value: 0.1349506074962883 and parameters: {'n_estimators': 462, 'max_depth': 32, 'min_samples_split': 9, 'min_samples_leaf': 5}. Best is trial 25 with value: 0.13569097579089612.\n",
      "[I 2023-06-10 22:03:05,871] Trial 28 finished with value: 0.13271796723065837 and parameters: {'n_estimators': 467, 'max_depth': 22, 'min_samples_split': 8, 'min_samples_leaf': 7}. Best is trial 25 with value: 0.13569097579089612.\n",
      "[I 2023-06-10 22:03:12,564] Trial 29 finished with value: 0.13235421621263077 and parameters: {'n_estimators': 411, 'max_depth': 23, 'min_samples_split': 10, 'min_samples_leaf': 5}. Best is trial 25 with value: 0.13569097579089612.\n",
      "[I 2023-06-10 22:03:21,765] Trial 30 finished with value: 0.1354643563205517 and parameters: {'n_estimators': 461, 'max_depth': 30, 'min_samples_split': 6, 'min_samples_leaf': 6}. Best is trial 25 with value: 0.13569097579089612.\n",
      "[I 2023-06-10 22:03:31,294] Trial 31 finished with value: 0.1352891070520253 and parameters: {'n_estimators': 474, 'max_depth': 30, 'min_samples_split': 6, 'min_samples_leaf': 6}. Best is trial 25 with value: 0.13569097579089612.\n",
      "[I 2023-06-10 22:03:39,384] Trial 32 finished with value: 0.13442630336510147 and parameters: {'n_estimators': 445, 'max_depth': 27, 'min_samples_split': 6, 'min_samples_leaf': 7}. Best is trial 25 with value: 0.13569097579089612.\n",
      "[I 2023-06-10 22:03:47,550] Trial 33 finished with value: 0.13574073925781374 and parameters: {'n_estimators': 386, 'max_depth': 30, 'min_samples_split': 4, 'min_samples_leaf': 6}. Best is trial 33 with value: 0.13574073925781374.\n",
      "[I 2023-06-10 22:03:55,426] Trial 34 finished with value: 0.13525467881978756 and parameters: {'n_estimators': 390, 'max_depth': 30, 'min_samples_split': 4, 'min_samples_leaf': 6}. Best is trial 33 with value: 0.13574073925781374.\n",
      "[I 2023-06-10 22:04:05,005] Trial 35 finished with value: 0.1343321592170387 and parameters: {'n_estimators': 478, 'max_depth': 29, 'min_samples_split': 4, 'min_samples_leaf': 5}. Best is trial 33 with value: 0.13574073925781374.\n"
     ]
    },
    {
     "name": "stderr",
     "output_type": "stream",
     "text": [
      "[I 2023-06-10 22:04:11,396] Trial 36 finished with value: 0.1337846549813661 and parameters: {'n_estimators': 368, 'max_depth': 25, 'min_samples_split': 2, 'min_samples_leaf': 6}. Best is trial 33 with value: 0.13574073925781374.\n",
      "[I 2023-06-10 22:04:16,221] Trial 37 finished with value: 0.13093726433815878 and parameters: {'n_estimators': 335, 'max_depth': 20, 'min_samples_split': 4, 'min_samples_leaf': 5}. Best is trial 33 with value: 0.13574073925781374.\n",
      "[I 2023-06-10 22:04:19,126] Trial 38 finished with value: 0.12155227645657382 and parameters: {'n_estimators': 415, 'max_depth': 9, 'min_samples_split': 3, 'min_samples_leaf': 6}. Best is trial 33 with value: 0.13574073925781374.\n",
      "[I 2023-06-10 22:04:27,184] Trial 39 finished with value: 0.1319496325831272 and parameters: {'n_estimators': 383, 'max_depth': 30, 'min_samples_split': 7, 'min_samples_leaf': 4}. Best is trial 33 with value: 0.13574073925781374.\n",
      "[I 2023-06-10 22:04:37,023] Trial 40 finished with value: 0.13058857385688985 and parameters: {'n_estimators': 498, 'max_depth': 27, 'min_samples_split': 6, 'min_samples_leaf': 3}. Best is trial 33 with value: 0.13574073925781374.\n",
      "[I 2023-06-10 22:04:46,315] Trial 41 finished with value: 0.13530572951981115 and parameters: {'n_estimators': 453, 'max_depth': 32, 'min_samples_split': 8, 'min_samples_leaf': 7}. Best is trial 33 with value: 0.13574073925781374.\n",
      "[I 2023-06-10 22:04:55,271] Trial 42 finished with value: 0.13541510407318422 and parameters: {'n_estimators': 437, 'max_depth': 31, 'min_samples_split': 9, 'min_samples_leaf': 6}. Best is trial 33 with value: 0.13574073925781374.\n",
      "[I 2023-06-10 22:05:05,131] Trial 43 finished with value: 0.13571865223936266 and parameters: {'n_estimators': 488, 'max_depth': 31, 'min_samples_split': 8, 'min_samples_leaf': 7}. Best is trial 33 with value: 0.13574073925781374.\n",
      "[I 2023-06-10 22:05:14,798] Trial 44 finished with value: 0.1347679430482302 and parameters: {'n_estimators': 480, 'max_depth': 29, 'min_samples_split': 10, 'min_samples_leaf': 6}. Best is trial 33 with value: 0.13574073925781374.\n",
      "[I 2023-06-10 22:05:23,640] Trial 45 finished with value: 0.1343918661760891 and parameters: {'n_estimators': 484, 'max_depth': 27, 'min_samples_split': 2, 'min_samples_leaf': 7}. Best is trial 33 with value: 0.13574073925781374.\n",
      "[I 2023-06-10 22:05:29,678] Trial 46 finished with value: 0.13468826179135135 and parameters: {'n_estimators': 308, 'max_depth': 30, 'min_samples_split': 7, 'min_samples_leaf': 7}. Best is trial 33 with value: 0.13574073925781374.\n",
      "[I 2023-06-10 22:05:38,344] Trial 47 finished with value: 0.13611836774301422 and parameters: {'n_estimators': 418, 'max_depth': 31, 'min_samples_split': 3, 'min_samples_leaf': 6}. Best is trial 47 with value: 0.13611836774301422.\n",
      "[I 2023-06-10 22:05:45,302] Trial 48 finished with value: 0.1324963147947244 and parameters: {'n_estimators': 411, 'max_depth': 24, 'min_samples_split': 3, 'min_samples_leaf': 5}. Best is trial 47 with value: 0.13611836774301422.\n",
      "[I 2023-06-10 22:05:47,936] Trial 49 finished with value: 0.1189004594051788 and parameters: {'n_estimators': 421, 'max_depth': 8, 'min_samples_split': 4, 'min_samples_leaf': 8}. Best is trial 47 with value: 0.13611836774301422.\n",
      "[I 2023-06-10 22:05:53,852] Trial 50 finished with value: 0.1274405996110696 and parameters: {'n_estimators': 499, 'max_depth': 17, 'min_samples_split': 3, 'min_samples_leaf': 9}. Best is trial 47 with value: 0.13611836774301422.\n",
      "[I 2023-06-10 22:06:03,556] Trial 51 finished with value: 0.13611918629613523 and parameters: {'n_estimators': 457, 'max_depth': 31, 'min_samples_split': 5, 'min_samples_leaf': 6}. Best is trial 51 with value: 0.13611918629613523.\n",
      "[I 2023-06-10 22:06:12,963] Trial 52 finished with value: 0.1356299916159387 and parameters: {'n_estimators': 453, 'max_depth': 31, 'min_samples_split': 5, 'min_samples_leaf': 6}. Best is trial 51 with value: 0.13611918629613523.\n",
      "[I 2023-06-10 22:06:20,751] Trial 53 finished with value: 0.13390469558404017 and parameters: {'n_estimators': 401, 'max_depth': 28, 'min_samples_split': 5, 'min_samples_leaf': 5}. Best is trial 51 with value: 0.13611918629613523.\n",
      "[I 2023-06-10 22:06:29,998] Trial 54 finished with value: 0.13584170961464517 and parameters: {'n_estimators': 447, 'max_depth': 31, 'min_samples_split': 5, 'min_samples_leaf': 6}. Best is trial 51 with value: 0.13611918629613523.\n",
      "[I 2023-06-10 22:06:37,396] Trial 55 finished with value: 0.13508335733311322 and parameters: {'n_estimators': 380, 'max_depth': 29, 'min_samples_split': 4, 'min_samples_leaf': 6}. Best is trial 51 with value: 0.13611918629613523.\n",
      "[I 2023-06-10 22:06:46,857] Trial 56 finished with value: 0.13460233598460683 and parameters: {'n_estimators': 449, 'max_depth': 31, 'min_samples_split': 5, 'min_samples_leaf': 5}. Best is trial 51 with value: 0.13611918629613523.\n",
      "[I 2023-06-10 22:06:54,982] Trial 57 finished with value: 0.13163559532007174 and parameters: {'n_estimators': 427, 'max_depth': 26, 'min_samples_split': 4, 'min_samples_leaf': 4}. Best is trial 51 with value: 0.13611918629613523.\n",
      "[I 2023-06-10 22:07:04,315] Trial 58 finished with value: 0.13480120171360746 and parameters: {'n_estimators': 479, 'max_depth': 28, 'min_samples_split': 3, 'min_samples_leaf': 7}. Best is trial 51 with value: 0.13611918629613523.\n",
      "[I 2023-06-10 22:07:13,142] Trial 59 finished with value: 0.13229361714764573 and parameters: {'n_estimators': 402, 'max_depth': 31, 'min_samples_split': 5, 'min_samples_leaf': 3}. Best is trial 51 with value: 0.13611918629613523.\n",
      "[I 2023-06-10 22:07:15,176] Trial 60 finished with value: 0.1135788471343632 and parameters: {'n_estimators': 463, 'max_depth': 5, 'min_samples_split': 4, 'min_samples_leaf': 1}. Best is trial 51 with value: 0.13611918629613523.\n",
      "[I 2023-06-10 22:07:24,399] Trial 61 finished with value: 0.13576037506143532 and parameters: {'n_estimators': 451, 'max_depth': 31, 'min_samples_split': 5, 'min_samples_leaf': 6}. Best is trial 51 with value: 0.13611918629613523.\n",
      "[I 2023-06-10 22:07:34,446] Trial 62 finished with value: 0.13569130109271238 and parameters: {'n_estimators': 485, 'max_depth': 31, 'min_samples_split': 5, 'min_samples_leaf': 6}. Best is trial 51 with value: 0.13611918629613523.\n",
      "[I 2023-06-10 22:07:43,169] Trial 63 finished with value: 0.13563915489376482 and parameters: {'n_estimators': 437, 'max_depth': 29, 'min_samples_split': 5, 'min_samples_leaf': 6}. Best is trial 51 with value: 0.13611918629613523.\n",
      "[I 2023-06-10 22:07:53,780] Trial 64 finished with value: 0.1344650023595517 and parameters: {'n_estimators': 487, 'max_depth': 31, 'min_samples_split': 5, 'min_samples_leaf': 5}. Best is trial 51 with value: 0.13611918629613523.\n",
      "[I 2023-06-10 22:08:02,351] Trial 65 finished with value: 0.13193059021486203 and parameters: {'n_estimators': 452, 'max_depth': 27, 'min_samples_split': 5, 'min_samples_leaf': 4}. Best is trial 51 with value: 0.13611918629613523.\n",
      "[I 2023-06-10 22:08:06,880] Trial 66 finished with value: 0.13524980489132074 and parameters: {'n_estimators': 231, 'max_depth': 29, 'min_samples_split': 6, 'min_samples_leaf': 6}. Best is trial 51 with value: 0.13611918629613523.\n",
      "[I 2023-06-10 22:08:16,709] Trial 67 finished with value: 0.13592740786826488 and parameters: {'n_estimators': 468, 'max_depth': 32, 'min_samples_split': 4, 'min_samples_leaf': 6}. Best is trial 51 with value: 0.13611918629613523.\n",
      "[I 2023-06-10 22:08:25,504] Trial 68 finished with value: 0.13576504698764108 and parameters: {'n_estimators': 422, 'max_depth': 32, 'min_samples_split': 4, 'min_samples_leaf': 7}. Best is trial 51 with value: 0.13611918629613523.\n",
      "[I 2023-06-10 22:08:34,696] Trial 69 finished with value: 0.13634693552297175 and parameters: {'n_estimators': 425, 'max_depth': 32, 'min_samples_split': 4, 'min_samples_leaf': 6}. Best is trial 69 with value: 0.13634693552297175.\n",
      "[I 2023-06-10 22:08:44,073] Trial 70 finished with value: 0.13447902320797217 and parameters: {'n_estimators': 431, 'max_depth': 32, 'min_samples_split': 4, 'min_samples_leaf': 5}. Best is trial 69 with value: 0.13634693552297175.\n",
      "[I 2023-06-10 22:08:52,379] Trial 71 finished with value: 0.1353276741343251 and parameters: {'n_estimators': 420, 'max_depth': 30, 'min_samples_split': 4, 'min_samples_leaf': 6}. Best is trial 69 with value: 0.13634693552297175.\n"
     ]
    },
    {
     "name": "stderr",
     "output_type": "stream",
     "text": [
      "[I 2023-06-10 22:09:00,778] Trial 72 finished with value: 0.13653900286762524 and parameters: {'n_estimators': 401, 'max_depth': 32, 'min_samples_split': 3, 'min_samples_leaf': 6}. Best is trial 72 with value: 0.13653900286762524.\n",
      "[I 2023-06-10 22:09:08,957] Trial 73 finished with value: 0.13579070554243522 and parameters: {'n_estimators': 401, 'max_depth': 32, 'min_samples_split': 3, 'min_samples_leaf': 7}. Best is trial 72 with value: 0.13653900286762524.\n",
      "[I 2023-06-10 22:09:16,214] Trial 74 finished with value: 0.13409559691510417 and parameters: {'n_estimators': 367, 'max_depth': 32, 'min_samples_split': 2, 'min_samples_leaf': 8}. Best is trial 72 with value: 0.13653900286762524.\n",
      "[I 2023-06-10 22:09:23,219] Trial 75 finished with value: 0.13528437081027894 and parameters: {'n_estimators': 342, 'max_depth': 32, 'min_samples_split': 3, 'min_samples_leaf': 7}. Best is trial 72 with value: 0.13653900286762524.\n",
      "[I 2023-06-10 22:09:30,980] Trial 76 finished with value: 0.13461305139357305 and parameters: {'n_estimators': 396, 'max_depth': 29, 'min_samples_split': 3, 'min_samples_leaf': 7}. Best is trial 72 with value: 0.13653900286762524.\n",
      "[I 2023-06-10 22:09:34,815] Trial 77 finished with value: 0.126727931558919 and parameters: {'n_estimators': 405, 'max_depth': 13, 'min_samples_split': 3, 'min_samples_leaf': 7}. Best is trial 72 with value: 0.13653900286762524.\n",
      "[I 2023-06-10 22:09:41,580] Trial 78 finished with value: 0.13355141265246756 and parameters: {'n_estimators': 375, 'max_depth': 28, 'min_samples_split': 2, 'min_samples_leaf': 8}. Best is trial 72 with value: 0.13653900286762524.\n",
      "[I 2023-06-10 22:09:49,058] Trial 79 finished with value: 0.13562067023793686 and parameters: {'n_estimators': 356, 'max_depth': 32, 'min_samples_split': 3, 'min_samples_leaf': 6}. Best is trial 72 with value: 0.13653900286762524.\n",
      "[I 2023-06-10 22:09:57,620] Trial 80 finished with value: 0.134187437269428 and parameters: {'n_estimators': 420, 'max_depth': 30, 'min_samples_split': 3, 'min_samples_leaf': 5}. Best is trial 72 with value: 0.13653900286762524.\n",
      "[I 2023-06-10 22:10:07,296] Trial 81 finished with value: 0.13534817095529894 and parameters: {'n_estimators': 469, 'max_depth': 31, 'min_samples_split': 4, 'min_samples_leaf': 6}. Best is trial 72 with value: 0.13653900286762524.\n",
      "[I 2023-06-10 22:10:16,363] Trial 82 finished with value: 0.1355494093249809 and parameters: {'n_estimators': 440, 'max_depth': 31, 'min_samples_split': 4, 'min_samples_leaf': 6}. Best is trial 72 with value: 0.13653900286762524.\n",
      "[I 2023-06-10 22:10:25,671] Trial 83 finished with value: 0.13546638322010426 and parameters: {'n_estimators': 456, 'max_depth': 32, 'min_samples_split': 3, 'min_samples_leaf': 7}. Best is trial 72 with value: 0.13653900286762524.\n",
      "[I 2023-06-10 22:10:34,296] Trial 84 finished with value: 0.1356578092844704 and parameters: {'n_estimators': 428, 'max_depth': 30, 'min_samples_split': 4, 'min_samples_leaf': 6}. Best is trial 72 with value: 0.13653900286762524.\n",
      "[I 2023-06-10 22:10:43,195] Trial 85 finished with value: 0.13494327674676956 and parameters: {'n_estimators': 412, 'max_depth': 32, 'min_samples_split': 2, 'min_samples_leaf': 5}. Best is trial 72 with value: 0.13653900286762524.\n",
      "[I 2023-06-10 22:10:50,774] Trial 86 finished with value: 0.13497793905098043 and parameters: {'n_estimators': 390, 'max_depth': 29, 'min_samples_split': 4, 'min_samples_leaf': 6}. Best is trial 72 with value: 0.13653900286762524.\n",
      "[I 2023-06-10 22:10:56,139] Trial 87 finished with value: 0.1294406600524735 and parameters: {'n_estimators': 446, 'max_depth': 16, 'min_samples_split': 5, 'min_samples_leaf': 7}. Best is trial 72 with value: 0.13653900286762524.\n",
      "[I 2023-06-10 22:11:06,070] Trial 88 finished with value: 0.1348227552328003 and parameters: {'n_estimators': 469, 'max_depth': 31, 'min_samples_split': 3, 'min_samples_leaf': 5}. Best is trial 72 with value: 0.13653900286762524.\n",
      "[I 2023-06-10 22:11:14,546] Trial 89 finished with value: 0.13481595621768028 and parameters: {'n_estimators': 443, 'max_depth': 28, 'min_samples_split': 6, 'min_samples_leaf': 6}. Best is trial 72 with value: 0.13653900286762524.\n",
      "[I 2023-06-10 22:11:19,993] Trial 90 finished with value: 0.13518394876633716 and parameters: {'n_estimators': 279, 'max_depth': 30, 'min_samples_split': 4, 'min_samples_leaf': 7}. Best is trial 72 with value: 0.13653900286762524.\n",
      "[I 2023-06-10 22:11:28,006] Trial 91 finished with value: 0.13566306187467397 and parameters: {'n_estimators': 394, 'max_depth': 30, 'min_samples_split': 4, 'min_samples_leaf': 6}. Best is trial 72 with value: 0.13653900286762524.\n",
      "[I 2023-06-10 22:11:36,409] Trial 92 finished with value: 0.1360858366834455 and parameters: {'n_estimators': 407, 'max_depth': 31, 'min_samples_split': 3, 'min_samples_leaf': 6}. Best is trial 72 with value: 0.13653900286762524.\n",
      "[I 2023-06-10 22:11:45,008] Trial 93 finished with value: 0.13499887714800737 and parameters: {'n_estimators': 431, 'max_depth': 31, 'min_samples_split': 3, 'min_samples_leaf': 7}. Best is trial 72 with value: 0.13653900286762524.\n",
      "[I 2023-06-10 22:11:53,612] Trial 94 finished with value: 0.1356497248021314 and parameters: {'n_estimators': 410, 'max_depth': 32, 'min_samples_split': 2, 'min_samples_leaf': 6}. Best is trial 72 with value: 0.13653900286762524.\n",
      "[I 2023-06-10 22:12:02,429] Trial 95 finished with value: 0.13454119439040024 and parameters: {'n_estimators': 421, 'max_depth': 31, 'min_samples_split': 3, 'min_samples_leaf': 5}. Best is trial 72 with value: 0.13653900286762524.\n",
      "[I 2023-06-10 22:12:08,901] Trial 96 finished with value: 0.12683515687526134 and parameters: {'n_estimators': 463, 'max_depth': 19, 'min_samples_split': 5, 'min_samples_leaf': 2}. Best is trial 72 with value: 0.13653900286762524.\n",
      "[I 2023-06-10 22:12:16,952] Trial 97 finished with value: 0.13581594849630269 and parameters: {'n_estimators': 406, 'max_depth': 30, 'min_samples_split': 3, 'min_samples_leaf': 6}. Best is trial 72 with value: 0.13653900286762524.\n",
      "[I 2023-06-10 22:12:24,826] Trial 98 finished with value: 0.13555229999653415 and parameters: {'n_estimators': 373, 'max_depth': 32, 'min_samples_split': 3, 'min_samples_leaf': 6}. Best is trial 72 with value: 0.13653900286762524.\n",
      "[I 2023-06-10 22:12:27,546] Trial 99 finished with value: 0.133426216666594 and parameters: {'n_estimators': 132, 'max_depth': 30, 'min_samples_split': 3, 'min_samples_leaf': 8}. Best is trial 72 with value: 0.13653900286762524.\n"
     ]
    }
   ],
   "source": [
    "def objective(trial):\n",
    "\n",
    "    n_estimators = trial.suggest_int('n_estimators', 100, 500)\n",
    "    max_depth = trial.suggest_int('max_depth', 2, 32)\n",
    "    min_samples_split = trial.suggest_int('min_samples_split', 2, 10)\n",
    "    min_samples_leaf = trial.suggest_int('min_samples_leaf', 1, 10)\n",
    "    regressor = RandomForestRegressor(n_estimators=n_estimators,\n",
    "                                      max_depth=max_depth,\n",
    "                                      min_samples_split=min_samples_split,\n",
    "                                      min_samples_leaf=min_samples_leaf,\n",
    "                                      n_jobs=-1)\n",
    "    \n",
    "    vect = TfidfVectorizer(ngram_range=(1,1), analyzer=\"word\", max_df=0.5, \n",
    "                           min_df=10, lowercase=True)\n",
    "    \n",
    "    pipe = Pipeline([('vect', vect), ('ref', regressor)])\n",
    "    scores = cross_val_score(pipe, \n",
    "                             train.text.values, \n",
    "                             train[[\"lat\", \"lon\"]].values,\n",
    "                             cv=5,\n",
    "                             n_jobs=-1)\n",
    "    return scores.mean()\n",
    "\n",
    "study = optuna.create_study(direction='maximize')\n",
    "study.optimize(objective, n_trials=100)"
   ]
  },
  {
   "cell_type": "code",
   "execution_count": 74,
   "metadata": {},
   "outputs": [
    {
     "name": "stdout",
     "output_type": "stream",
     "text": [
      "best value: 0.13653900286762524\n",
      "best trial: FrozenTrial(number=72, state=TrialState.COMPLETE, values=[0.13653900286762524], datetime_start=datetime.datetime(2023, 6, 10, 22, 8, 52, 380277), datetime_complete=datetime.datetime(2023, 6, 10, 22, 9, 0, 778527), params={'n_estimators': 401, 'max_depth': 32, 'min_samples_split': 3, 'min_samples_leaf': 6}, user_attrs={}, system_attrs={}, intermediate_values={}, distributions={'n_estimators': IntDistribution(high=500, log=False, low=100, step=1), 'max_depth': IntDistribution(high=32, log=False, low=2, step=1), 'min_samples_split': IntDistribution(high=10, log=False, low=2, step=1), 'min_samples_leaf': IntDistribution(high=10, log=False, low=1, step=1)}, trial_id=72, value=None)\n",
      "best params: {'n_estimators': 401, 'max_depth': 32, 'min_samples_split': 3, 'min_samples_leaf': 6}\n"
     ]
    }
   ],
   "source": [
    "print('best value:', study.best_value)\n",
    "print('best trial:', study.best_trial)\n",
    "best_params = study.best_trial.params\n",
    "print('best params:', best_params)"
   ]
  },
  {
   "cell_type": "code",
   "execution_count": 75,
   "metadata": {},
   "outputs": [
    {
     "data": {
      "text/plain": [
       "0.1805707960478662"
      ]
     },
     "execution_count": 75,
     "metadata": {},
     "output_type": "execute_result"
    }
   ],
   "source": [
    "regressor = RandomForestRegressor(**best_params)\n",
    "random_forest_pipe = Pipeline([('vect', vect), ('reg', regressor)])\n",
    "random_forest_pipe.fit(train.text.values, train[[\"lat\", \"lon\"]].values)\n",
    "score = random_forest_pipe.score(test.text.values, test[[\"lat\", \"lon\"]].values)\n",
    "score"
   ]
  },
  {
   "cell_type": "code",
   "execution_count": 76,
   "metadata": {},
   "outputs": [
    {
     "name": "stdout",
     "output_type": "stream",
     "text": [
      "1.3085710703221725 1.819149206643716\n",
      "2.7368178173562008 5.74370079356207\n"
     ]
    }
   ],
   "source": [
    "predicted_coords = random_forest_pipe.predict(test.text.values)\n",
    "\n",
    "mae_lat, mae_lon = (mean_absolute_error(test.lat.values, predicted_coords[:, 0]),\n",
    "                    mean_absolute_error(test.lon.values, predicted_coords[:, 1]))\n",
    "mse_lat, mse_lon = (mean_squared_error(test.lat.values, predicted_coords[:, 0]),\n",
    "                    mean_squared_error(test.lon.values, predicted_coords[:, 1]))\n",
    "\n",
    "optimization_results.append([\n",
    "    'RandomForestRegressor', \n",
    "    study.best_value, \n",
    "    score,\n",
    "    best_params,\n",
    "    mae_lat, \n",
    "    mae_lon,\n",
    "    mse_lat,\n",
    "    mse_lon\n",
    "])\n",
    "\n",
    "print(mae_lat, mae_lon)\n",
    "print(mse_lat, mse_lon)"
   ]
  },
  {
   "cell_type": "code",
   "execution_count": 77,
   "metadata": {},
   "outputs": [
    {
     "name": "stderr",
     "output_type": "stream",
     "text": [
      "[I 2023-06-10 22:12:46,059] A new study created in memory with name: no-name-15323155-ad27-43c9-9d84-4f9e24aa902c\n",
      "[I 2023-06-10 22:12:48,247] Trial 0 finished with value: 0.12545105235842913 and parameters: {'n_estimators': 425, 'max_depth': 15, 'min_samples_split': 8, 'min_samples_leaf': 3}. Best is trial 0 with value: 0.12545105235842913.\n",
      "[I 2023-06-10 22:12:50,336] Trial 1 finished with value: 0.12499617557088834 and parameters: {'n_estimators': 352, 'max_depth': 17, 'min_samples_split': 8, 'min_samples_leaf': 2}. Best is trial 0 with value: 0.12545105235842913.\n",
      "[I 2023-06-10 22:12:52,230] Trial 2 finished with value: 0.1281918897841264 and parameters: {'n_estimators': 376, 'max_depth': 15, 'min_samples_split': 7, 'min_samples_leaf': 7}. Best is trial 2 with value: 0.1281918897841264.\n",
      "[I 2023-06-10 22:12:55,655] Trial 3 finished with value: 0.1350051464312748 and parameters: {'n_estimators': 323, 'max_depth': 29, 'min_samples_split': 8, 'min_samples_leaf': 10}. Best is trial 3 with value: 0.1350051464312748.\n",
      "[I 2023-06-10 22:12:59,319] Trial 4 finished with value: 0.1320295514926304 and parameters: {'n_estimators': 495, 'max_depth': 21, 'min_samples_split': 4, 'min_samples_leaf': 9}. Best is trial 3 with value: 0.1350051464312748.\n",
      "[I 2023-06-10 22:13:03,002] Trial 5 finished with value: 0.1271023513789835 and parameters: {'n_estimators': 436, 'max_depth': 23, 'min_samples_split': 10, 'min_samples_leaf': 2}. Best is trial 3 with value: 0.1350051464312748.\n",
      "[I 2023-06-10 22:13:05,096] Trial 6 finished with value: 0.13197931259946483 and parameters: {'n_estimators': 163, 'max_depth': 32, 'min_samples_split': 8, 'min_samples_leaf': 4}. Best is trial 3 with value: 0.1350051464312748.\n",
      "[I 2023-06-10 22:13:05,527] Trial 7 finished with value: 0.09488577796193856 and parameters: {'n_estimators': 273, 'max_depth': 3, 'min_samples_split': 7, 'min_samples_leaf': 4}. Best is trial 3 with value: 0.1350051464312748.\n",
      "[I 2023-06-10 22:13:05,871] Trial 8 finished with value: 0.07864141222201408 and parameters: {'n_estimators': 255, 'max_depth': 2, 'min_samples_split': 7, 'min_samples_leaf': 2}. Best is trial 3 with value: 0.1350051464312748.\n",
      "[I 2023-06-10 22:13:07,142] Trial 9 finished with value: 0.12976701871333848 and parameters: {'n_estimators': 215, 'max_depth': 17, 'min_samples_split': 2, 'min_samples_leaf': 7}. Best is trial 3 with value: 0.1350051464312748.\n",
      "[I 2023-06-10 22:13:08,495] Trial 10 finished with value: 0.13542086076567425 and parameters: {'n_estimators': 111, 'max_depth': 32, 'min_samples_split': 10, 'min_samples_leaf': 10}. Best is trial 10 with value: 0.13542086076567425.\n",
      "[I 2023-06-10 22:13:09,745] Trial 11 finished with value: 0.13507182877953347 and parameters: {'n_estimators': 102, 'max_depth': 32, 'min_samples_split': 10, 'min_samples_leaf': 10}. Best is trial 10 with value: 0.13542086076567425.\n",
      "[I 2023-06-10 22:13:10,825] Trial 12 finished with value: 0.13451322631303486 and parameters: {'n_estimators': 103, 'max_depth': 27, 'min_samples_split': 10, 'min_samples_leaf': 8}. Best is trial 10 with value: 0.13542086076567425.\n",
      "[I 2023-06-10 22:13:12,069] Trial 13 finished with value: 0.13545227367220802 and parameters: {'n_estimators': 102, 'max_depth': 32, 'min_samples_split': 10, 'min_samples_leaf': 10}. Best is trial 13 with value: 0.13545227367220802.\n",
      "[I 2023-06-10 22:13:12,724] Trial 14 finished with value: 0.1208301479548632 and parameters: {'n_estimators': 173, 'max_depth': 10, 'min_samples_split': 4, 'min_samples_leaf': 6}. Best is trial 13 with value: 0.13545227367220802.\n",
      "[I 2023-06-10 22:13:14,311] Trial 15 finished with value: 0.1341122454660734 and parameters: {'n_estimators': 163, 'max_depth': 26, 'min_samples_split': 9, 'min_samples_leaf': 9}. Best is trial 13 with value: 0.13545227367220802.\n",
      "[I 2023-06-10 22:13:15,986] Trial 16 finished with value: 0.133195489356653 and parameters: {'n_estimators': 209, 'max_depth': 22, 'min_samples_split': 5, 'min_samples_leaf': 8}. Best is trial 13 with value: 0.13545227367220802.\n",
      "[I 2023-06-10 22:13:17,397] Trial 17 finished with value: 0.13448795062976449 and parameters: {'n_estimators': 134, 'max_depth': 28, 'min_samples_split': 9, 'min_samples_leaf': 10}. Best is trial 13 with value: 0.13545227367220802.\n",
      "[I 2023-06-10 22:13:20,149] Trial 18 finished with value: 0.13271965970554306 and parameters: {'n_estimators': 225, 'max_depth': 32, 'min_samples_split': 9, 'min_samples_leaf': 5}. Best is trial 13 with value: 0.13545227367220802.\n",
      "[I 2023-06-10 22:13:20,676] Trial 19 finished with value: 0.11885290325219167 and parameters: {'n_estimators': 144, 'max_depth': 9, 'min_samples_split': 6, 'min_samples_leaf': 9}. Best is trial 13 with value: 0.13545227367220802.\n",
      "[I 2023-06-10 22:13:23,199] Trial 20 finished with value: 0.13395173998971596 and parameters: {'n_estimators': 291, 'max_depth': 24, 'min_samples_split': 2, 'min_samples_leaf': 8}. Best is trial 13 with value: 0.13545227367220802.\n",
      "[I 2023-06-10 22:13:24,451] Trial 21 finished with value: 0.13569019094550236 and parameters: {'n_estimators': 109, 'max_depth': 30, 'min_samples_split': 10, 'min_samples_leaf': 10}. Best is trial 21 with value: 0.13569019094550236.\n",
      "[I 2023-06-10 22:13:25,589] Trial 22 finished with value: 0.1347054081017892 and parameters: {'n_estimators': 102, 'max_depth': 29, 'min_samples_split': 10, 'min_samples_leaf': 10}. Best is trial 21 with value: 0.13569019094550236.\n",
      "[I 2023-06-10 22:13:27,563] Trial 23 finished with value: 0.13482718968697144 and parameters: {'n_estimators': 183, 'max_depth': 29, 'min_samples_split': 9, 'min_samples_leaf': 9}. Best is trial 21 with value: 0.13569019094550236.\n",
      "[I 2023-06-10 22:13:28,834] Trial 24 finished with value: 0.13433009960327946 and parameters: {'n_estimators': 130, 'max_depth': 26, 'min_samples_split': 10, 'min_samples_leaf': 7}. Best is trial 21 with value: 0.13569019094550236.\n",
      "[I 2023-06-10 22:13:30,372] Trial 25 finished with value: 0.13546199778567933 and parameters: {'n_estimators': 132, 'max_depth': 31, 'min_samples_split': 9, 'min_samples_leaf': 10}. Best is trial 21 with value: 0.13569019094550236.\n",
      "[I 2023-06-10 22:13:31,770] Trial 26 finished with value: 0.1316367583573837 and parameters: {'n_estimators': 195, 'max_depth': 20, 'min_samples_split': 9, 'min_samples_leaf': 8}. Best is trial 21 with value: 0.13569019094550236.\n",
      "[I 2023-06-10 22:13:33,353] Trial 27 finished with value: 0.13514088590210438 and parameters: {'n_estimators': 140, 'max_depth': 30, 'min_samples_split': 9, 'min_samples_leaf': 9}. Best is trial 21 with value: 0.13569019094550236.\n",
      "[I 2023-06-10 22:13:35,440] Trial 28 finished with value: 0.133394679141219 and parameters: {'n_estimators': 236, 'max_depth': 24, 'min_samples_split': 6, 'min_samples_leaf': 6}. Best is trial 21 with value: 0.13569019094550236.\n",
      "[I 2023-06-10 22:13:36,379] Trial 29 finished with value: 0.12113575888093689 and parameters: {'n_estimators': 131, 'max_depth': 19, 'min_samples_split': 8, 'min_samples_leaf': 1}. Best is trial 21 with value: 0.13569019094550236.\n",
      "[I 2023-06-10 22:13:38,115] Trial 30 finished with value: 0.1338636655881489 and parameters: {'n_estimators': 185, 'max_depth': 25, 'min_samples_split': 8, 'min_samples_leaf': 10}. Best is trial 21 with value: 0.13569019094550236.\n",
      "[I 2023-06-10 22:13:39,324] Trial 31 finished with value: 0.13557749007017195 and parameters: {'n_estimators': 101, 'max_depth': 31, 'min_samples_split': 10, 'min_samples_leaf': 10}. Best is trial 21 with value: 0.13569019094550236.\n",
      "[I 2023-06-10 22:13:41,063] Trial 32 finished with value: 0.13536600657832343 and parameters: {'n_estimators': 154, 'max_depth': 30, 'min_samples_split': 10, 'min_samples_leaf': 9}. Best is trial 21 with value: 0.13569019094550236.\n",
      "[I 2023-06-10 22:13:42,536] Trial 33 finished with value: 0.13494598630635873 and parameters: {'n_estimators': 129, 'max_depth': 30, 'min_samples_split': 9, 'min_samples_leaf': 10}. Best is trial 21 with value: 0.13569019094550236.\n",
      "[I 2023-06-10 22:13:43,769] Trial 34 finished with value: 0.13424857548408461 and parameters: {'n_estimators': 119, 'max_depth': 27, 'min_samples_split': 10, 'min_samples_leaf': 9}. Best is trial 21 with value: 0.13569019094550236.\n",
      "[I 2023-06-10 22:13:47,728] Trial 35 finished with value: 0.13564656612243703 and parameters: {'n_estimators': 343, 'max_depth': 31, 'min_samples_split': 9, 'min_samples_leaf': 8}. Best is trial 21 with value: 0.13569019094550236.\n"
     ]
    },
    {
     "name": "stderr",
     "output_type": "stream",
     "text": [
      "[I 2023-06-10 22:13:49,192] Trial 36 finished with value: 0.12413577341600882 and parameters: {'n_estimators': 348, 'max_depth': 12, 'min_samples_split': 7, 'min_samples_leaf': 7}. Best is trial 21 with value: 0.13569019094550236.\n",
      "[I 2023-06-10 22:13:53,186] Trial 37 finished with value: 0.13498031653379589 and parameters: {'n_estimators': 389, 'max_depth': 28, 'min_samples_split': 8, 'min_samples_leaf': 8}. Best is trial 21 with value: 0.13569019094550236.\n",
      "[I 2023-06-10 22:13:56,729] Trial 38 finished with value: 0.13487459615148384 and parameters: {'n_estimators': 321, 'max_depth': 30, 'min_samples_split': 8, 'min_samples_leaf': 9}. Best is trial 21 with value: 0.13569019094550236.\n",
      "[I 2023-06-10 22:14:01,401] Trial 39 finished with value: 0.13547192273246203 and parameters: {'n_estimators': 413, 'max_depth': 31, 'min_samples_split': 9, 'min_samples_leaf': 10}. Best is trial 21 with value: 0.13569019094550236.\n",
      "[I 2023-06-10 22:14:05,948] Trial 40 finished with value: 0.13521530817971766 and parameters: {'n_estimators': 447, 'max_depth': 28, 'min_samples_split': 8, 'min_samples_leaf': 8}. Best is trial 21 with value: 0.13569019094550236.\n",
      "[I 2023-06-10 22:14:10,530] Trial 41 finished with value: 0.1352674855714781 and parameters: {'n_estimators': 404, 'max_depth': 31, 'min_samples_split': 9, 'min_samples_leaf': 10}. Best is trial 21 with value: 0.13569019094550236.\n",
      "[I 2023-06-10 22:14:15,643] Trial 42 finished with value: 0.13543055845501056 and parameters: {'n_estimators': 449, 'max_depth': 31, 'min_samples_split': 9, 'min_samples_leaf': 10}. Best is trial 21 with value: 0.13569019094550236.\n",
      "[I 2023-06-10 22:14:20,183] Trial 43 finished with value: 0.13392026177809532 and parameters: {'n_estimators': 479, 'max_depth': 26, 'min_samples_split': 10, 'min_samples_leaf': 9}. Best is trial 21 with value: 0.13569019094550236.\n",
      "[I 2023-06-10 22:14:21,960] Trial 44 finished with value: 0.12771446860563324 and parameters: {'n_estimators': 342, 'max_depth': 15, 'min_samples_split': 7, 'min_samples_leaf': 10}. Best is trial 21 with value: 0.13569019094550236.\n",
      "[I 2023-06-10 22:14:26,399] Trial 45 finished with value: 0.12999222275679717 and parameters: {'n_estimators': 371, 'max_depth': 31, 'min_samples_split': 9, 'min_samples_leaf': 3}. Best is trial 21 with value: 0.13569019094550236.\n",
      "[I 2023-06-10 22:14:29,856] Trial 46 finished with value: 0.134786529989847 and parameters: {'n_estimators': 323, 'max_depth': 29, 'min_samples_split': 10, 'min_samples_leaf': 9}. Best is trial 21 with value: 0.13569019094550236.\n",
      "[I 2023-06-10 22:14:30,710] Trial 47 finished with value: 0.11007289011625847 and parameters: {'n_estimators': 412, 'max_depth': 5, 'min_samples_split': 3, 'min_samples_leaf': 10}. Best is trial 21 with value: 0.13569019094550236.\n",
      "[I 2023-06-10 22:14:33,653] Trial 48 finished with value: 0.13461611250347855 and parameters: {'n_estimators': 297, 'max_depth': 27, 'min_samples_split': 10, 'min_samples_leaf': 7}. Best is trial 21 with value: 0.13569019094550236.\n",
      "[I 2023-06-10 22:14:38,088] Trial 49 finished with value: 0.13576576717400857 and parameters: {'n_estimators': 380, 'max_depth': 32, 'min_samples_split': 6, 'min_samples_leaf': 10}. Best is trial 49 with value: 0.13576576717400857.\n",
      "[I 2023-06-10 22:14:42,797] Trial 50 finished with value: 0.13271684723258728 and parameters: {'n_estimators': 387, 'max_depth': 32, 'min_samples_split': 6, 'min_samples_leaf': 5}. Best is trial 49 with value: 0.13576576717400857.\n",
      "[I 2023-06-10 22:14:46,962] Trial 51 finished with value: 0.1350899052513045 and parameters: {'n_estimators': 367, 'max_depth': 31, 'min_samples_split': 5, 'min_samples_leaf': 10}. Best is trial 49 with value: 0.13576576717400857.\n",
      "[I 2023-06-10 22:14:51,378] Trial 52 finished with value: 0.13473967685439314 and parameters: {'n_estimators': 417, 'max_depth': 29, 'min_samples_split': 5, 'min_samples_leaf': 9}. Best is trial 49 with value: 0.13576576717400857.\n",
      "[I 2023-06-10 22:14:56,429] Trial 53 finished with value: 0.1357284384259278 and parameters: {'n_estimators': 433, 'max_depth': 32, 'min_samples_split': 7, 'min_samples_leaf': 10}. Best is trial 49 with value: 0.13576576717400857.\n",
      "[I 2023-06-10 22:15:01,485] Trial 54 finished with value: 0.13581196591131123 and parameters: {'n_estimators': 430, 'max_depth': 32, 'min_samples_split': 7, 'min_samples_leaf': 8}. Best is trial 54 with value: 0.13581196591131123.\n",
      "[I 2023-06-10 22:15:07,021] Trial 55 finished with value: 0.13591936481208586 and parameters: {'n_estimators': 468, 'max_depth': 32, 'min_samples_split': 6, 'min_samples_leaf': 8}. Best is trial 55 with value: 0.13591936481208586.\n",
      "[I 2023-06-10 22:15:12,857] Trial 56 finished with value: 0.13493002806103221 and parameters: {'n_estimators': 480, 'max_depth': 32, 'min_samples_split': 6, 'min_samples_leaf': 6}. Best is trial 55 with value: 0.13591936481208586.\n",
      "[I 2023-06-10 22:15:17,248] Trial 57 finished with value: 0.1352954838116418 and parameters: {'n_estimators': 429, 'max_depth': 28, 'min_samples_split': 7, 'min_samples_leaf': 8}. Best is trial 55 with value: 0.13591936481208586.\n",
      "[I 2023-06-10 22:15:22,794] Trial 58 finished with value: 0.13557603500808885 and parameters: {'n_estimators': 467, 'max_depth': 32, 'min_samples_split': 7, 'min_samples_leaf': 7}. Best is trial 55 with value: 0.13591936481208586.\n",
      "[I 2023-06-10 22:15:27,730] Trial 59 finished with value: 0.13537332004640448 and parameters: {'n_estimators': 448, 'max_depth': 30, 'min_samples_split': 5, 'min_samples_leaf': 8}. Best is trial 55 with value: 0.13591936481208586.\n",
      "[I 2023-06-10 22:15:30,829] Trial 60 finished with value: 0.133190307196119 and parameters: {'n_estimators': 397, 'max_depth': 22, 'min_samples_split': 6, 'min_samples_leaf': 7}. Best is trial 55 with value: 0.13591936481208586.\n",
      "[I 2023-06-10 22:15:36,639] Trial 61 finished with value: 0.13548219786783955 and parameters: {'n_estimators': 495, 'max_depth': 32, 'min_samples_split': 4, 'min_samples_leaf': 9}. Best is trial 55 with value: 0.13591936481208586.\n",
      "[I 2023-06-10 22:15:39,601] Trial 62 finished with value: 0.1347608862140609 and parameters: {'n_estimators': 273, 'max_depth': 29, 'min_samples_split': 6, 'min_samples_leaf': 9}. Best is trial 55 with value: 0.13591936481208586.\n",
      "[I 2023-06-10 22:15:44,330] Trial 63 finished with value: 0.13548011985242275 and parameters: {'n_estimators': 429, 'max_depth': 30, 'min_samples_split': 7, 'min_samples_leaf': 8}. Best is trial 55 with value: 0.13591936481208586.\n",
      "[I 2023-06-10 22:15:50,004] Trial 64 finished with value: 0.13301480105933475 and parameters: {'n_estimators': 465, 'max_depth': 32, 'min_samples_split': 5, 'min_samples_leaf': 5}. Best is trial 55 with value: 0.13591936481208586.\n",
      "[I 2023-06-10 22:15:53,728] Trial 65 finished with value: 0.13261174926409497 and parameters: {'n_estimators': 363, 'max_depth': 27, 'min_samples_split': 7, 'min_samples_leaf': 4}. Best is trial 55 with value: 0.13591936481208586.\n",
      "[I 2023-06-10 22:15:58,864] Trial 66 finished with value: 0.13487904273115298 and parameters: {'n_estimators': 461, 'max_depth': 30, 'min_samples_split': 6, 'min_samples_leaf': 6}. Best is trial 55 with value: 0.13591936481208586.\n",
      "[I 2023-06-10 22:16:02,375] Trial 67 finished with value: 0.13387303806504391 and parameters: {'n_estimators': 384, 'max_depth': 25, 'min_samples_split': 7, 'min_samples_leaf': 10}. Best is trial 55 with value: 0.13591936481208586.\n",
      "[I 2023-06-10 22:16:05,766] Trial 68 finished with value: 0.13472068054726657 and parameters: {'n_estimators': 329, 'max_depth': 28, 'min_samples_split': 6, 'min_samples_leaf': 9}. Best is trial 55 with value: 0.13591936481208586.\n",
      "[I 2023-06-10 22:16:11,458] Trial 69 finished with value: 0.13519800410465393 and parameters: {'n_estimators': 500, 'max_depth': 31, 'min_samples_split': 10, 'min_samples_leaf': 9}. Best is trial 55 with value: 0.13591936481208586.\n",
      "[I 2023-06-10 22:16:14,815] Trial 70 finished with value: 0.13579511865795596 and parameters: {'n_estimators': 313, 'max_depth': 29, 'min_samples_split': 8, 'min_samples_leaf': 8}. Best is trial 55 with value: 0.13591936481208586.\n",
      "[I 2023-06-10 22:16:18,127] Trial 71 finished with value: 0.13528337111294003 and parameters: {'n_estimators': 309, 'max_depth': 29, 'min_samples_split': 8, 'min_samples_leaf': 8}. Best is trial 55 with value: 0.13591936481208586.\n"
     ]
    },
    {
     "name": "stderr",
     "output_type": "stream",
     "text": [
      "[I 2023-06-10 22:16:22,054] Trial 72 finished with value: 0.13562504804746472 and parameters: {'n_estimators': 341, 'max_depth': 31, 'min_samples_split': 8, 'min_samples_leaf': 7}. Best is trial 55 with value: 0.13591936481208586.\n",
      "[I 2023-06-10 22:16:25,389] Trial 73 finished with value: 0.1357013970417768 and parameters: {'n_estimators': 279, 'max_depth': 32, 'min_samples_split': 8, 'min_samples_leaf': 7}. Best is trial 55 with value: 0.13591936481208586.\n",
      "[I 2023-06-10 22:16:28,752] Trial 74 finished with value: 0.13588612916400572 and parameters: {'n_estimators': 283, 'max_depth': 32, 'min_samples_split': 7, 'min_samples_leaf': 8}. Best is trial 55 with value: 0.13591936481208586.\n",
      "[I 2023-06-10 22:16:31,710] Trial 75 finished with value: 0.13598711369457192 and parameters: {'n_estimators': 243, 'max_depth': 32, 'min_samples_split': 7, 'min_samples_leaf': 7}. Best is trial 75 with value: 0.13598711369457192.\n",
      "[I 2023-06-10 22:16:34,731] Trial 76 finished with value: 0.13539237910772592 and parameters: {'n_estimators': 253, 'max_depth': 32, 'min_samples_split': 7, 'min_samples_leaf': 7}. Best is trial 75 with value: 0.13598711369457192.\n",
      "[I 2023-06-10 22:16:37,970] Trial 77 finished with value: 0.13492487845377593 and parameters: {'n_estimators': 265, 'max_depth': 32, 'min_samples_split': 7, 'min_samples_leaf': 6}. Best is trial 75 with value: 0.13598711369457192.\n",
      "[I 2023-06-10 22:16:39,768] Trial 78 finished with value: 0.13054265073196242 and parameters: {'n_estimators': 285, 'max_depth': 18, 'min_samples_split': 8, 'min_samples_leaf': 7}. Best is trial 75 with value: 0.13598711369457192.\n",
      "[I 2023-06-10 22:16:42,240] Trial 79 finished with value: 0.13516744378330303 and parameters: {'n_estimators': 230, 'max_depth': 29, 'min_samples_split': 7, 'min_samples_leaf': 8}. Best is trial 75 with value: 0.13598711369457192.\n",
      "[I 2023-06-10 22:16:44,977] Trial 80 finished with value: 0.13539791383636582 and parameters: {'n_estimators': 244, 'max_depth': 30, 'min_samples_split': 6, 'min_samples_leaf': 8}. Best is trial 75 with value: 0.13598711369457192.\n",
      "[I 2023-06-10 22:16:48,123] Trial 81 finished with value: 0.13537601199167484 and parameters: {'n_estimators': 282, 'max_depth': 30, 'min_samples_split': 8, 'min_samples_leaf': 8}. Best is trial 75 with value: 0.13598711369457192.\n",
      "[I 2023-06-10 22:16:51,861] Trial 82 finished with value: 0.13487303257708558 and parameters: {'n_estimators': 310, 'max_depth': 32, 'min_samples_split': 7, 'min_samples_leaf': 6}. Best is trial 75 with value: 0.13598711369457192.\n",
      "[I 2023-06-10 22:16:56,863] Trial 83 finished with value: 0.13521299085861815 and parameters: {'n_estimators': 437, 'max_depth': 31, 'min_samples_split': 7, 'min_samples_leaf': 7}. Best is trial 75 with value: 0.13598711369457192.\n",
      "[I 2023-06-10 22:17:00,557] Trial 84 finished with value: 0.13515099718932816 and parameters: {'n_estimators': 358, 'max_depth': 28, 'min_samples_split': 6, 'min_samples_leaf': 8}. Best is trial 75 with value: 0.13598711369457192.\n",
      "[I 2023-06-10 22:17:02,842] Trial 85 finished with value: 0.1351617165863253 and parameters: {'n_estimators': 205, 'max_depth': 30, 'min_samples_split': 8, 'min_samples_leaf': 9}. Best is trial 75 with value: 0.13598711369457192.\n",
      "[I 2023-06-10 22:17:05,632] Trial 86 finished with value: 0.13492786356793882 and parameters: {'n_estimators': 260, 'max_depth': 29, 'min_samples_split': 6, 'min_samples_leaf': 7}. Best is trial 75 with value: 0.13598711369457192.\n",
      "[I 2023-06-10 22:17:08,897] Trial 87 finished with value: 0.1358454444676295 and parameters: {'n_estimators': 271, 'max_depth': 32, 'min_samples_split': 7, 'min_samples_leaf': 8}. Best is trial 75 with value: 0.13598711369457192.\n",
      "[I 2023-06-10 22:17:11,851] Trial 88 finished with value: 0.13552221409953197 and parameters: {'n_estimators': 247, 'max_depth': 32, 'min_samples_split': 7, 'min_samples_leaf': 7}. Best is trial 75 with value: 0.13598711369457192.\n",
      "[I 2023-06-10 22:17:15,025] Trial 89 finished with value: 0.1353622990850249 and parameters: {'n_estimators': 276, 'max_depth': 31, 'min_samples_split': 8, 'min_samples_leaf': 8}. Best is trial 75 with value: 0.13598711369457192.\n",
      "[I 2023-06-10 22:17:18,552] Trial 90 finished with value: 0.1359189179357009 and parameters: {'n_estimators': 294, 'max_depth': 32, 'min_samples_split': 7, 'min_samples_leaf': 8}. Best is trial 75 with value: 0.13598711369457192.\n",
      "[I 2023-06-10 22:17:22,142] Trial 91 finished with value: 0.1361460389661183 and parameters: {'n_estimators': 300, 'max_depth': 32, 'min_samples_split': 7, 'min_samples_leaf': 8}. Best is trial 91 with value: 0.1361460389661183.\n",
      "[I 2023-06-10 22:17:25,639] Trial 92 finished with value: 0.13579327351609272 and parameters: {'n_estimators': 302, 'max_depth': 31, 'min_samples_split': 7, 'min_samples_leaf': 8}. Best is trial 91 with value: 0.1361460389661183.\n",
      "[I 2023-06-10 22:17:29,193] Trial 93 finished with value: 0.13566915152418463 and parameters: {'n_estimators': 308, 'max_depth': 31, 'min_samples_split': 7, 'min_samples_leaf': 8}. Best is trial 91 with value: 0.1361460389661183.\n",
      "[I 2023-06-10 22:17:32,543] Trial 94 finished with value: 0.13516579577383991 and parameters: {'n_estimators': 302, 'max_depth': 30, 'min_samples_split': 6, 'min_samples_leaf': 8}. Best is trial 91 with value: 0.1361460389661183.\n",
      "[I 2023-06-10 22:17:35,854] Trial 95 finished with value: 0.13565203181777624 and parameters: {'n_estimators': 289, 'max_depth': 31, 'min_samples_split': 7, 'min_samples_leaf': 8}. Best is trial 91 with value: 0.1361460389661183.\n",
      "[I 2023-06-10 22:17:39,013] Trial 96 finished with value: 0.13530872970347313 and parameters: {'n_estimators': 296, 'max_depth': 29, 'min_samples_split': 6, 'min_samples_leaf': 8}. Best is trial 91 with value: 0.1361460389661183.\n",
      "[I 2023-06-10 22:17:40,126] Trial 97 finished with value: 0.12409156161176489 and parameters: {'n_estimators': 267, 'max_depth': 12, 'min_samples_split': 7, 'min_samples_leaf': 8}. Best is trial 91 with value: 0.1361460389661183.\n",
      "[I 2023-06-10 22:17:43,908] Trial 98 finished with value: 0.13489722110603183 and parameters: {'n_estimators': 332, 'max_depth': 31, 'min_samples_split': 6, 'min_samples_leaf': 9}. Best is trial 91 with value: 0.1361460389661183.\n",
      "[I 2023-06-10 22:17:47,643] Trial 99 finished with value: 0.13577633539617415 and parameters: {'n_estimators': 313, 'max_depth': 32, 'min_samples_split': 7, 'min_samples_leaf': 8}. Best is trial 91 with value: 0.1361460389661183.\n"
     ]
    }
   ],
   "source": [
    "from sklearn.ensemble import ExtraTreesRegressor\n",
    "\n",
    "def objective(trial):\n",
    "\n",
    "    n_estimators = trial.suggest_int('n_estimators', 100, 500)\n",
    "    max_depth = trial.suggest_int('max_depth', 2, 32)\n",
    "    min_samples_split = trial.suggest_int('min_samples_split', 2, 10)\n",
    "    min_samples_leaf = trial.suggest_int('min_samples_leaf', 1, 10)\n",
    "    regressor = ExtraTreesRegressor(n_estimators=n_estimators,\n",
    "                                    max_depth=max_depth,\n",
    "                                    min_samples_split=min_samples_split,\n",
    "                                    min_samples_leaf=min_samples_leaf,\n",
    "                                    n_jobs=-1)\n",
    "    \n",
    "    vect = TfidfVectorizer(ngram_range=(1,1), analyzer=\"word\", max_df=0.5, \n",
    "                           min_df=10, lowercase=True)\n",
    "    \n",
    "    pipe = Pipeline([('vect', vect), ('ref', regressor)])\n",
    "    scores = cross_val_score(pipe, \n",
    "                             train.text.values, \n",
    "                             train[[\"lat\", \"lon\"]].values,\n",
    "                             cv=5,\n",
    "                             n_jobs=-1)\n",
    "    return scores.mean()\n",
    "\n",
    "study = optuna.create_study(direction='maximize')\n",
    "study.optimize(objective, n_trials=100)"
   ]
  },
  {
   "cell_type": "code",
   "execution_count": 78,
   "metadata": {},
   "outputs": [
    {
     "name": "stdout",
     "output_type": "stream",
     "text": [
      "best value: 0.1361460389661183\n",
      "best trial: FrozenTrial(number=91, state=TrialState.COMPLETE, values=[0.1361460389661183], datetime_start=datetime.datetime(2023, 6, 10, 22, 17, 18, 553074), datetime_complete=datetime.datetime(2023, 6, 10, 22, 17, 22, 142700), params={'n_estimators': 300, 'max_depth': 32, 'min_samples_split': 7, 'min_samples_leaf': 8}, user_attrs={}, system_attrs={}, intermediate_values={}, distributions={'n_estimators': IntDistribution(high=500, log=False, low=100, step=1), 'max_depth': IntDistribution(high=32, log=False, low=2, step=1), 'min_samples_split': IntDistribution(high=10, log=False, low=2, step=1), 'min_samples_leaf': IntDistribution(high=10, log=False, low=1, step=1)}, trial_id=91, value=None)\n",
      "best params: {'n_estimators': 300, 'max_depth': 32, 'min_samples_split': 7, 'min_samples_leaf': 8}\n"
     ]
    }
   ],
   "source": [
    "print('best value:', study.best_value)\n",
    "print('best trial:', study.best_trial)\n",
    "best_params = study.best_trial.params\n",
    "print('best params:', best_params)"
   ]
  },
  {
   "cell_type": "code",
   "execution_count": 79,
   "metadata": {},
   "outputs": [
    {
     "data": {
      "text/plain": [
       "0.1761086258368953"
      ]
     },
     "execution_count": 79,
     "metadata": {},
     "output_type": "execute_result"
    }
   ],
   "source": [
    "regressor = ExtraTreesRegressor(**best_params)\n",
    "extra_trees_pipe = Pipeline([('vect', vect), ('reg', regressor)])\n",
    "extra_trees_pipe.fit(train.text.values, train[[\"lat\", \"lon\"]].values)\n",
    "score = extra_trees_pipe.score(test.text.values, test[[\"lat\", \"lon\"]].values)\n",
    "score"
   ]
  },
  {
   "cell_type": "code",
   "execution_count": 80,
   "metadata": {},
   "outputs": [
    {
     "name": "stdout",
     "output_type": "stream",
     "text": [
      "1.313757871369199 1.8251242328989503\n",
      "2.7513312697394063 5.775948919859913\n"
     ]
    }
   ],
   "source": [
    "predicted_coords = extra_trees_pipe.predict(test.text.values)\n",
    "\n",
    "mae_lat, mae_lon = (mean_absolute_error(test.lat.values, predicted_coords[:, 0]),\n",
    "                    mean_absolute_error(test.lon.values, predicted_coords[:, 1]))\n",
    "mse_lat, mse_lon = (mean_squared_error(test.lat.values, predicted_coords[:, 0]),\n",
    "                    mean_squared_error(test.lon.values, predicted_coords[:, 1]))\n",
    "\n",
    "optimization_results.append([\n",
    "    'ExtraTreesRegressor', \n",
    "    study.best_value, \n",
    "    score,\n",
    "    best_params,\n",
    "    mae_lat, \n",
    "    mae_lon,\n",
    "    mse_lat,\n",
    "    mse_lon\n",
    "])\n",
    "\n",
    "print(mae_lat, mae_lon)\n",
    "print(mse_lat, mse_lon)"
   ]
  },
  {
   "cell_type": "code",
   "execution_count": 126,
   "metadata": {},
   "outputs": [
    {
     "data": {
      "text/html": [
       "<div>\n",
       "<style scoped>\n",
       "    .dataframe tbody tr th:only-of-type {\n",
       "        vertical-align: middle;\n",
       "    }\n",
       "\n",
       "    .dataframe tbody tr th {\n",
       "        vertical-align: top;\n",
       "    }\n",
       "\n",
       "    .dataframe thead th {\n",
       "        text-align: right;\n",
       "    }\n",
       "</style>\n",
       "<table border=\"1\" class=\"dataframe\">\n",
       "  <thead>\n",
       "    <tr style=\"text-align: right;\">\n",
       "      <th></th>\n",
       "      <th>regressor</th>\n",
       "      <th>cv_score</th>\n",
       "      <th>test_score</th>\n",
       "      <th>best_params</th>\n",
       "      <th>mae_lat</th>\n",
       "      <th>mae_lon</th>\n",
       "      <th>mse_lat</th>\n",
       "      <th>mse_lon</th>\n",
       "    </tr>\n",
       "  </thead>\n",
       "  <tbody>\n",
       "    <tr>\n",
       "      <th>0</th>\n",
       "      <td>LinearRegression</td>\n",
       "      <td>0.121571</td>\n",
       "      <td>0.197219</td>\n",
       "      <td>None</td>\n",
       "      <td>1.305270</td>\n",
       "      <td>1.822747</td>\n",
       "      <td>2.704765</td>\n",
       "      <td>5.568338</td>\n",
       "    </tr>\n",
       "    <tr>\n",
       "      <th>1</th>\n",
       "      <td>ElasticNet</td>\n",
       "      <td>0.151681</td>\n",
       "      <td>0.213147</td>\n",
       "      <td>{'alpha': 0.0006167913176584872, 'l1_ratio': 0...</td>\n",
       "      <td>1.292757</td>\n",
       "      <td>1.803654</td>\n",
       "      <td>2.627468</td>\n",
       "      <td>5.516733</td>\n",
       "    </tr>\n",
       "    <tr>\n",
       "      <th>2</th>\n",
       "      <td>KNeighborsRegressor</td>\n",
       "      <td>0.062089</td>\n",
       "      <td>0.092556</td>\n",
       "      <td>{'n_neighbors': 22, 'weights': 'uniform', 'p': 2}</td>\n",
       "      <td>1.376753</td>\n",
       "      <td>1.956763</td>\n",
       "      <td>2.964530</td>\n",
       "      <td>6.525672</td>\n",
       "    </tr>\n",
       "    <tr>\n",
       "      <th>3</th>\n",
       "      <td>RandomForestRegressor</td>\n",
       "      <td>0.136539</td>\n",
       "      <td>0.180571</td>\n",
       "      <td>{'n_estimators': 401, 'max_depth': 32, 'min_sa...</td>\n",
       "      <td>1.308571</td>\n",
       "      <td>1.819149</td>\n",
       "      <td>2.736818</td>\n",
       "      <td>5.743701</td>\n",
       "    </tr>\n",
       "    <tr>\n",
       "      <th>4</th>\n",
       "      <td>ExtraTreesRegressor</td>\n",
       "      <td>0.136146</td>\n",
       "      <td>0.176109</td>\n",
       "      <td>{'n_estimators': 300, 'max_depth': 32, 'min_sa...</td>\n",
       "      <td>1.313758</td>\n",
       "      <td>1.825124</td>\n",
       "      <td>2.751331</td>\n",
       "      <td>5.775949</td>\n",
       "    </tr>\n",
       "  </tbody>\n",
       "</table>\n",
       "</div>"
      ],
      "text/plain": [
       "               regressor  cv_score  test_score  \\\n",
       "0       LinearRegression  0.121571    0.197219   \n",
       "1             ElasticNet  0.151681    0.213147   \n",
       "2    KNeighborsRegressor  0.062089    0.092556   \n",
       "3  RandomForestRegressor  0.136539    0.180571   \n",
       "4    ExtraTreesRegressor  0.136146    0.176109   \n",
       "\n",
       "                                         best_params   mae_lat   mae_lon  \\\n",
       "0                                               None  1.305270  1.822747   \n",
       "1  {'alpha': 0.0006167913176584872, 'l1_ratio': 0...  1.292757  1.803654   \n",
       "2  {'n_neighbors': 22, 'weights': 'uniform', 'p': 2}  1.376753  1.956763   \n",
       "3  {'n_estimators': 401, 'max_depth': 32, 'min_sa...  1.308571  1.819149   \n",
       "4  {'n_estimators': 300, 'max_depth': 32, 'min_sa...  1.313758  1.825124   \n",
       "\n",
       "    mse_lat   mse_lon  \n",
       "0  2.704765  5.568338  \n",
       "1  2.627468  5.516733  \n",
       "2  2.964530  6.525672  \n",
       "3  2.736818  5.743701  \n",
       "4  2.751331  5.775949  "
      ]
     },
     "execution_count": 126,
     "metadata": {},
     "output_type": "execute_result"
    }
   ],
   "source": [
    "columns = [\n",
    "    'regressor',\n",
    "    'cv_score',\n",
    "    'test_score',\n",
    "    'best_params',\n",
    "    'mae_lat', \n",
    "    'mae_lon',\n",
    "    'mse_lat',\n",
    "    'mse_lon'\n",
    "]\n",
    "\n",
    "optimization_results_df = pd.DataFrame(optimization_results, columns=columns)\n",
    "optimization_results_df"
   ]
  },
  {
   "cell_type": "code",
   "execution_count": 127,
   "metadata": {},
   "outputs": [
    {
     "data": {
      "text/html": [
       "<div>\n",
       "<style scoped>\n",
       "    .dataframe tbody tr th:only-of-type {\n",
       "        vertical-align: middle;\n",
       "    }\n",
       "\n",
       "    .dataframe tbody tr th {\n",
       "        vertical-align: top;\n",
       "    }\n",
       "\n",
       "    .dataframe thead th {\n",
       "        text-align: right;\n",
       "    }\n",
       "</style>\n",
       "<table border=\"1\" class=\"dataframe\">\n",
       "  <thead>\n",
       "    <tr style=\"text-align: right;\">\n",
       "      <th></th>\n",
       "      <th>regressor</th>\n",
       "      <th>cv_score</th>\n",
       "      <th>test_score</th>\n",
       "      <th>best_params</th>\n",
       "      <th>mae_lat</th>\n",
       "      <th>mae_lon</th>\n",
       "      <th>mse_lat</th>\n",
       "      <th>mse_lon</th>\n",
       "      <th>mae_avg</th>\n",
       "      <th>mse_avg</th>\n",
       "    </tr>\n",
       "  </thead>\n",
       "  <tbody>\n",
       "    <tr>\n",
       "      <th>0</th>\n",
       "      <td>LinearRegression</td>\n",
       "      <td>0.121571</td>\n",
       "      <td>0.197219</td>\n",
       "      <td>None</td>\n",
       "      <td>1.305270</td>\n",
       "      <td>1.822747</td>\n",
       "      <td>2.704765</td>\n",
       "      <td>5.568338</td>\n",
       "      <td>1.564009</td>\n",
       "      <td>4.136552</td>\n",
       "    </tr>\n",
       "    <tr>\n",
       "      <th>1</th>\n",
       "      <td>ElasticNet</td>\n",
       "      <td>0.151681</td>\n",
       "      <td>0.213147</td>\n",
       "      <td>{'alpha': 0.0006167913176584872, 'l1_ratio': 0...</td>\n",
       "      <td>1.292757</td>\n",
       "      <td>1.803654</td>\n",
       "      <td>2.627468</td>\n",
       "      <td>5.516733</td>\n",
       "      <td>1.548206</td>\n",
       "      <td>4.072100</td>\n",
       "    </tr>\n",
       "    <tr>\n",
       "      <th>2</th>\n",
       "      <td>KNeighborsRegressor</td>\n",
       "      <td>0.062089</td>\n",
       "      <td>0.092556</td>\n",
       "      <td>{'n_neighbors': 22, 'weights': 'uniform', 'p': 2}</td>\n",
       "      <td>1.376753</td>\n",
       "      <td>1.956763</td>\n",
       "      <td>2.964530</td>\n",
       "      <td>6.525672</td>\n",
       "      <td>1.666758</td>\n",
       "      <td>4.745101</td>\n",
       "    </tr>\n",
       "    <tr>\n",
       "      <th>3</th>\n",
       "      <td>RandomForestRegressor</td>\n",
       "      <td>0.136539</td>\n",
       "      <td>0.180571</td>\n",
       "      <td>{'n_estimators': 401, 'max_depth': 32, 'min_sa...</td>\n",
       "      <td>1.308571</td>\n",
       "      <td>1.819149</td>\n",
       "      <td>2.736818</td>\n",
       "      <td>5.743701</td>\n",
       "      <td>1.563860</td>\n",
       "      <td>4.240259</td>\n",
       "    </tr>\n",
       "    <tr>\n",
       "      <th>4</th>\n",
       "      <td>ExtraTreesRegressor</td>\n",
       "      <td>0.136146</td>\n",
       "      <td>0.176109</td>\n",
       "      <td>{'n_estimators': 300, 'max_depth': 32, 'min_sa...</td>\n",
       "      <td>1.313758</td>\n",
       "      <td>1.825124</td>\n",
       "      <td>2.751331</td>\n",
       "      <td>5.775949</td>\n",
       "      <td>1.569441</td>\n",
       "      <td>4.263640</td>\n",
       "    </tr>\n",
       "  </tbody>\n",
       "</table>\n",
       "</div>"
      ],
      "text/plain": [
       "               regressor  cv_score  test_score  \\\n",
       "0       LinearRegression  0.121571    0.197219   \n",
       "1             ElasticNet  0.151681    0.213147   \n",
       "2    KNeighborsRegressor  0.062089    0.092556   \n",
       "3  RandomForestRegressor  0.136539    0.180571   \n",
       "4    ExtraTreesRegressor  0.136146    0.176109   \n",
       "\n",
       "                                         best_params   mae_lat   mae_lon  \\\n",
       "0                                               None  1.305270  1.822747   \n",
       "1  {'alpha': 0.0006167913176584872, 'l1_ratio': 0...  1.292757  1.803654   \n",
       "2  {'n_neighbors': 22, 'weights': 'uniform', 'p': 2}  1.376753  1.956763   \n",
       "3  {'n_estimators': 401, 'max_depth': 32, 'min_sa...  1.308571  1.819149   \n",
       "4  {'n_estimators': 300, 'max_depth': 32, 'min_sa...  1.313758  1.825124   \n",
       "\n",
       "    mse_lat   mse_lon   mae_avg   mse_avg  \n",
       "0  2.704765  5.568338  1.564009  4.136552  \n",
       "1  2.627468  5.516733  1.548206  4.072100  \n",
       "2  2.964530  6.525672  1.666758  4.745101  \n",
       "3  2.736818  5.743701  1.563860  4.240259  \n",
       "4  2.751331  5.775949  1.569441  4.263640  "
      ]
     },
     "execution_count": 127,
     "metadata": {},
     "output_type": "execute_result"
    }
   ],
   "source": [
    "optimization_results_df['mae_avg'] = optimization_results_df[['mae_lat', 'mae_lon']].mean(axis=1)\n",
    "optimization_results_df['mse_avg'] = optimization_results_df[['mse_lat', 'mse_lon']].mean(axis=1)\n",
    "optimization_results_df"
   ]
  },
  {
   "cell_type": "code",
   "execution_count": 128,
   "metadata": {},
   "outputs": [
    {
     "data": {
      "text/html": [
       "<div>\n",
       "<style scoped>\n",
       "    .dataframe tbody tr th:only-of-type {\n",
       "        vertical-align: middle;\n",
       "    }\n",
       "\n",
       "    .dataframe tbody tr th {\n",
       "        vertical-align: top;\n",
       "    }\n",
       "\n",
       "    .dataframe thead th {\n",
       "        text-align: right;\n",
       "    }\n",
       "</style>\n",
       "<table border=\"1\" class=\"dataframe\">\n",
       "  <thead>\n",
       "    <tr style=\"text-align: right;\">\n",
       "      <th></th>\n",
       "      <th>regressor</th>\n",
       "      <th>cv_score</th>\n",
       "      <th>test_score</th>\n",
       "      <th>best_params</th>\n",
       "      <th>mae_lat</th>\n",
       "      <th>mae_lon</th>\n",
       "      <th>mse_lat</th>\n",
       "      <th>mse_lon</th>\n",
       "      <th>mae_avg</th>\n",
       "      <th>mse_avg</th>\n",
       "    </tr>\n",
       "  </thead>\n",
       "  <tbody>\n",
       "    <tr>\n",
       "      <th>0</th>\n",
       "      <td>LinearRegression</td>\n",
       "      <td>0.121571</td>\n",
       "      <td>0.197219</td>\n",
       "      <td>None</td>\n",
       "      <td>1.31</td>\n",
       "      <td>1.82</td>\n",
       "      <td>2.70</td>\n",
       "      <td>5.57</td>\n",
       "      <td>1.56</td>\n",
       "      <td>4.14</td>\n",
       "    </tr>\n",
       "    <tr>\n",
       "      <th>1</th>\n",
       "      <td>ElasticNet</td>\n",
       "      <td>0.151681</td>\n",
       "      <td>0.213147</td>\n",
       "      <td>{'alpha': 0.0006167913176584872, 'l1_ratio': 0...</td>\n",
       "      <td>1.29</td>\n",
       "      <td>1.80</td>\n",
       "      <td>2.63</td>\n",
       "      <td>5.52</td>\n",
       "      <td>1.55</td>\n",
       "      <td>4.07</td>\n",
       "    </tr>\n",
       "    <tr>\n",
       "      <th>2</th>\n",
       "      <td>KNeighborsRegressor</td>\n",
       "      <td>0.062089</td>\n",
       "      <td>0.092556</td>\n",
       "      <td>{'n_neighbors': 22, 'weights': 'uniform', 'p': 2}</td>\n",
       "      <td>1.38</td>\n",
       "      <td>1.96</td>\n",
       "      <td>2.96</td>\n",
       "      <td>6.53</td>\n",
       "      <td>1.67</td>\n",
       "      <td>4.75</td>\n",
       "    </tr>\n",
       "    <tr>\n",
       "      <th>3</th>\n",
       "      <td>RandomForestRegressor</td>\n",
       "      <td>0.136539</td>\n",
       "      <td>0.180571</td>\n",
       "      <td>{'n_estimators': 401, 'max_depth': 32, 'min_sa...</td>\n",
       "      <td>1.31</td>\n",
       "      <td>1.82</td>\n",
       "      <td>2.74</td>\n",
       "      <td>5.74</td>\n",
       "      <td>1.56</td>\n",
       "      <td>4.24</td>\n",
       "    </tr>\n",
       "    <tr>\n",
       "      <th>4</th>\n",
       "      <td>ExtraTreesRegressor</td>\n",
       "      <td>0.136146</td>\n",
       "      <td>0.176109</td>\n",
       "      <td>{'n_estimators': 300, 'max_depth': 32, 'min_sa...</td>\n",
       "      <td>1.31</td>\n",
       "      <td>1.83</td>\n",
       "      <td>2.75</td>\n",
       "      <td>5.78</td>\n",
       "      <td>1.57</td>\n",
       "      <td>4.26</td>\n",
       "    </tr>\n",
       "  </tbody>\n",
       "</table>\n",
       "</div>"
      ],
      "text/plain": [
       "               regressor  cv_score  test_score  \\\n",
       "0       LinearRegression  0.121571    0.197219   \n",
       "1             ElasticNet  0.151681    0.213147   \n",
       "2    KNeighborsRegressor  0.062089    0.092556   \n",
       "3  RandomForestRegressor  0.136539    0.180571   \n",
       "4    ExtraTreesRegressor  0.136146    0.176109   \n",
       "\n",
       "                                         best_params  mae_lat  mae_lon  \\\n",
       "0                                               None     1.31     1.82   \n",
       "1  {'alpha': 0.0006167913176584872, 'l1_ratio': 0...     1.29     1.80   \n",
       "2  {'n_neighbors': 22, 'weights': 'uniform', 'p': 2}     1.38     1.96   \n",
       "3  {'n_estimators': 401, 'max_depth': 32, 'min_sa...     1.31     1.82   \n",
       "4  {'n_estimators': 300, 'max_depth': 32, 'min_sa...     1.31     1.83   \n",
       "\n",
       "   mse_lat  mse_lon  mae_avg  mse_avg  \n",
       "0     2.70     5.57     1.56     4.14  \n",
       "1     2.63     5.52     1.55     4.07  \n",
       "2     2.96     6.53     1.67     4.75  \n",
       "3     2.74     5.74     1.56     4.24  \n",
       "4     2.75     5.78     1.57     4.26  "
      ]
     },
     "execution_count": 128,
     "metadata": {},
     "output_type": "execute_result"
    }
   ],
   "source": [
    "optimization_results_df.round({\n",
    "    'mae_lat':2, \n",
    "    'mae_lon': 2, \n",
    "    'mse_lat': 2, \n",
    "    'mse_lon': 2,\n",
    "    'mae_avg': 2,\n",
    "    'mse_avg': 2\n",
    "})"
   ]
  },
  {
   "cell_type": "markdown",
   "metadata": {},
   "source": [
    "* Having arrived at this point, it is worth pointing out that the $\\alpha$ parameter of `ElasticNet` is very small:"
   ]
  },
  {
   "cell_type": "code",
   "execution_count": 86,
   "metadata": {},
   "outputs": [
    {
     "data": {
      "text/plain": [
       "1    {'alpha': 0.0006167913176584872, 'l1_ratio': 0...\n",
       "Name: best_params, dtype: object"
      ]
     },
     "execution_count": 86,
     "metadata": {},
     "output_type": "execute_result"
    }
   ],
   "source": [
    "optimization_results_df[optimization_results_df.regressor == 'ElasticNet']['best_params']"
   ]
  },
  {
   "cell_type": "markdown",
   "metadata": {},
   "source": [
    "* That means that in practice `ElasticNet` behaves pretty much like Ordinary Least Squares regression."
   ]
  },
  {
   "cell_type": "markdown",
   "metadata": {
    "id": "waS2eGdcgrN-"
   },
   "source": [
    "## Finding terms pushing North, South, West, and East"
   ]
  },
  {
   "cell_type": "code",
   "execution_count": 87,
   "metadata": {
    "id": "gUkvoPTTgn7L"
   },
   "outputs": [],
   "source": [
    "importance_pd = pd.DataFrame({\"feature\": elastic_net_pipe[\"vect\"].get_feature_names_out(), \n",
    "                              \"lat\": elastic_net_pipe[\"reg\"].coef_[0, :],\n",
    "                              \"lon\": elastic_net_pipe[\"reg\"].coef_[1, :]})"
   ]
  },
  {
   "cell_type": "markdown",
   "metadata": {
    "id": "arRsBHqOi3Z9"
   },
   "source": [
    "### Words pushing $\\uparrow$ North: higher lat"
   ]
  },
  {
   "cell_type": "code",
   "execution_count": 88,
   "metadata": {
    "colab": {
     "base_uri": "https://localhost:8080/",
     "height": 206
    },
    "id": "UaPRsIgOgyw4",
    "outputId": "d3934ff2-82ae-46a3-e015-d27386f4b946"
   },
   "outputs": [
    {
     "data": {
      "text/html": [
       "<div>\n",
       "<style scoped>\n",
       "    .dataframe tbody tr th:only-of-type {\n",
       "        vertical-align: middle;\n",
       "    }\n",
       "\n",
       "    .dataframe tbody tr th {\n",
       "        vertical-align: top;\n",
       "    }\n",
       "\n",
       "    .dataframe thead th {\n",
       "        text-align: right;\n",
       "    }\n",
       "</style>\n",
       "<table border=\"1\" class=\"dataframe\">\n",
       "  <thead>\n",
       "    <tr style=\"text-align: right;\">\n",
       "      <th></th>\n",
       "      <th>feature</th>\n",
       "      <th>lat</th>\n",
       "      <th>lon</th>\n",
       "    </tr>\n",
       "  </thead>\n",
       "  <tbody>\n",
       "    <tr>\n",
       "      <th>692</th>\n",
       "      <td>τρώγει</td>\n",
       "      <td>2.069563</td>\n",
       "      <td>0.000000</td>\n",
       "    </tr>\n",
       "    <tr>\n",
       "      <th>552</th>\n",
       "      <td>πε</td>\n",
       "      <td>1.744839</td>\n",
       "      <td>0.852717</td>\n",
       "    </tr>\n",
       "    <tr>\n",
       "      <th>96</th>\n",
       "      <td>ατ</td>\n",
       "      <td>1.657772</td>\n",
       "      <td>-0.407796</td>\n",
       "    </tr>\n",
       "    <tr>\n",
       "      <th>40</th>\n",
       "      <td>έφαγε</td>\n",
       "      <td>1.567535</td>\n",
       "      <td>0.061738</td>\n",
       "    </tr>\n",
       "    <tr>\n",
       "      <th>630</th>\n",
       "      <td>σο</td>\n",
       "      <td>1.470295</td>\n",
       "      <td>-0.322957</td>\n",
       "    </tr>\n",
       "  </tbody>\n",
       "</table>\n",
       "</div>"
      ],
      "text/plain": [
       "    feature       lat       lon\n",
       "692  τρώγει  2.069563  0.000000\n",
       "552      πε  1.744839  0.852717\n",
       "96       ατ  1.657772 -0.407796\n",
       "40    έφαγε  1.567535  0.061738\n",
       "630      σο  1.470295 -0.322957"
      ]
     },
     "execution_count": 88,
     "metadata": {},
     "output_type": "execute_result"
    }
   ],
   "source": [
    "importance_pd.sort_values(by=\"lat\", ascending=False).head(5)"
   ]
  },
  {
   "cell_type": "markdown",
   "metadata": {
    "id": "CMbNoEiii64j"
   },
   "source": [
    "### Words pushing $\\downarrow$ South: lower lat"
   ]
  },
  {
   "cell_type": "code",
   "execution_count": 89,
   "metadata": {
    "colab": {
     "base_uri": "https://localhost:8080/",
     "height": 206
    },
    "id": "bqRuMFKbg4as",
    "outputId": "1f9b9f3b-f93d-4916-9c30-dfd3299dcbeb"
   },
   "outputs": [
    {
     "data": {
      "text/html": [
       "<div>\n",
       "<style scoped>\n",
       "    .dataframe tbody tr th:only-of-type {\n",
       "        vertical-align: middle;\n",
       "    }\n",
       "\n",
       "    .dataframe tbody tr th {\n",
       "        vertical-align: top;\n",
       "    }\n",
       "\n",
       "    .dataframe thead th {\n",
       "        text-align: right;\n",
       "    }\n",
       "</style>\n",
       "<table border=\"1\" class=\"dataframe\">\n",
       "  <thead>\n",
       "    <tr style=\"text-align: right;\">\n",
       "      <th></th>\n",
       "      <th>feature</th>\n",
       "      <th>lat</th>\n",
       "      <th>lon</th>\n",
       "    </tr>\n",
       "  </thead>\n",
       "  <tbody>\n",
       "    <tr>\n",
       "      <th>660</th>\n",
       "      <td>τζ</td>\n",
       "      <td>-4.143706</td>\n",
       "      <td>11.016613</td>\n",
       "    </tr>\n",
       "    <tr>\n",
       "      <th>662</th>\n",
       "      <td>τζαι</td>\n",
       "      <td>-3.665075</td>\n",
       "      <td>9.902281</td>\n",
       "    </tr>\n",
       "    <tr>\n",
       "      <th>661</th>\n",
       "      <td>τζαί</td>\n",
       "      <td>-3.540612</td>\n",
       "      <td>9.914528</td>\n",
       "    </tr>\n",
       "    <tr>\n",
       "      <th>664</th>\n",
       "      <td>τζι</td>\n",
       "      <td>-2.977478</td>\n",
       "      <td>8.586900</td>\n",
       "    </tr>\n",
       "    <tr>\n",
       "      <th>308</th>\n",
       "      <td>καλλιά</td>\n",
       "      <td>-1.995875</td>\n",
       "      <td>-0.000000</td>\n",
       "    </tr>\n",
       "  </tbody>\n",
       "</table>\n",
       "</div>"
      ],
      "text/plain": [
       "    feature       lat        lon\n",
       "660      τζ -4.143706  11.016613\n",
       "662    τζαι -3.665075   9.902281\n",
       "661    τζαί -3.540612   9.914528\n",
       "664     τζι -2.977478   8.586900\n",
       "308  καλλιά -1.995875  -0.000000"
      ]
     },
     "execution_count": 89,
     "metadata": {},
     "output_type": "execute_result"
    }
   ],
   "source": [
    "importance_pd.sort_values(by=\"lat\", ascending=True).head(5)"
   ]
  },
  {
   "cell_type": "markdown",
   "metadata": {
    "id": "Ej4pBRoejAOg"
   },
   "source": [
    "### Words pushing $\\rightarrow$ East: higher lon"
   ]
  },
  {
   "cell_type": "code",
   "execution_count": 90,
   "metadata": {
    "colab": {
     "base_uri": "https://localhost:8080/",
     "height": 206
    },
    "id": "pvlr5xAnhleJ",
    "outputId": "c41783fe-b6fa-4925-a9c6-194fef542e87"
   },
   "outputs": [
    {
     "data": {
      "text/html": [
       "<div>\n",
       "<style scoped>\n",
       "    .dataframe tbody tr th:only-of-type {\n",
       "        vertical-align: middle;\n",
       "    }\n",
       "\n",
       "    .dataframe tbody tr th {\n",
       "        vertical-align: top;\n",
       "    }\n",
       "\n",
       "    .dataframe thead th {\n",
       "        text-align: right;\n",
       "    }\n",
       "</style>\n",
       "<table border=\"1\" class=\"dataframe\">\n",
       "  <thead>\n",
       "    <tr style=\"text-align: right;\">\n",
       "      <th></th>\n",
       "      <th>feature</th>\n",
       "      <th>lat</th>\n",
       "      <th>lon</th>\n",
       "    </tr>\n",
       "  </thead>\n",
       "  <tbody>\n",
       "    <tr>\n",
       "      <th>660</th>\n",
       "      <td>τζ</td>\n",
       "      <td>-4.143706</td>\n",
       "      <td>11.016613</td>\n",
       "    </tr>\n",
       "    <tr>\n",
       "      <th>661</th>\n",
       "      <td>τζαί</td>\n",
       "      <td>-3.540612</td>\n",
       "      <td>9.914528</td>\n",
       "    </tr>\n",
       "    <tr>\n",
       "      <th>662</th>\n",
       "      <td>τζαι</td>\n",
       "      <td>-3.665075</td>\n",
       "      <td>9.902281</td>\n",
       "    </tr>\n",
       "    <tr>\n",
       "      <th>664</th>\n",
       "      <td>τζι</td>\n",
       "      <td>-2.977478</td>\n",
       "      <td>8.586900</td>\n",
       "    </tr>\n",
       "    <tr>\n",
       "      <th>233</th>\n",
       "      <td>εμ</td>\n",
       "      <td>-1.799892</td>\n",
       "      <td>5.644582</td>\n",
       "    </tr>\n",
       "  </tbody>\n",
       "</table>\n",
       "</div>"
      ],
      "text/plain": [
       "    feature       lat        lon\n",
       "660      τζ -4.143706  11.016613\n",
       "661    τζαί -3.540612   9.914528\n",
       "662    τζαι -3.665075   9.902281\n",
       "664     τζι -2.977478   8.586900\n",
       "233      εμ -1.799892   5.644582"
      ]
     },
     "execution_count": 90,
     "metadata": {},
     "output_type": "execute_result"
    }
   ],
   "source": [
    "importance_pd.sort_values(by=\"lon\", ascending=False).head(5)"
   ]
  },
  {
   "cell_type": "markdown",
   "metadata": {
    "id": "0pMF_nAujCqJ"
   },
   "source": [
    "### Words pushing $\\leftarrow$ West: higher lon"
   ]
  },
  {
   "cell_type": "code",
   "execution_count": 91,
   "metadata": {
    "colab": {
     "base_uri": "https://localhost:8080/",
     "height": 206
    },
    "id": "AJ2tGPIZh4Qi",
    "outputId": "bb219769-86f2-44d1-872e-4c2c7cad0e8c"
   },
   "outputs": [
    {
     "data": {
      "text/html": [
       "<div>\n",
       "<style scoped>\n",
       "    .dataframe tbody tr th:only-of-type {\n",
       "        vertical-align: middle;\n",
       "    }\n",
       "\n",
       "    .dataframe tbody tr th {\n",
       "        vertical-align: top;\n",
       "    }\n",
       "\n",
       "    .dataframe thead th {\n",
       "        text-align: right;\n",
       "    }\n",
       "</style>\n",
       "<table border=\"1\" class=\"dataframe\">\n",
       "  <thead>\n",
       "    <tr style=\"text-align: right;\">\n",
       "      <th></th>\n",
       "      <th>feature</th>\n",
       "      <th>lat</th>\n",
       "      <th>lon</th>\n",
       "    </tr>\n",
       "  </thead>\n",
       "  <tbody>\n",
       "    <tr>\n",
       "      <th>466</th>\n",
       "      <td>ναν</td>\n",
       "      <td>0.000000</td>\n",
       "      <td>-2.758580</td>\n",
       "    </tr>\n",
       "    <tr>\n",
       "      <th>702</th>\n",
       "      <td>τσου</td>\n",
       "      <td>0.000000</td>\n",
       "      <td>-2.579741</td>\n",
       "    </tr>\n",
       "    <tr>\n",
       "      <th>107</th>\n",
       "      <td>αφέντη</td>\n",
       "      <td>0.000000</td>\n",
       "      <td>-2.157786</td>\n",
       "    </tr>\n",
       "    <tr>\n",
       "      <th>458</th>\n",
       "      <td>μύλο</td>\n",
       "      <td>0.000000</td>\n",
       "      <td>-1.798303</td>\n",
       "    </tr>\n",
       "    <tr>\n",
       "      <th>269</th>\n",
       "      <td>κάλλιο</td>\n",
       "      <td>0.375506</td>\n",
       "      <td>-1.793693</td>\n",
       "    </tr>\n",
       "  </tbody>\n",
       "</table>\n",
       "</div>"
      ],
      "text/plain": [
       "    feature       lat       lon\n",
       "466     ναν  0.000000 -2.758580\n",
       "702    τσου  0.000000 -2.579741\n",
       "107  αφέντη  0.000000 -2.157786\n",
       "458    μύλο  0.000000 -1.798303\n",
       "269  κάλλιο  0.375506 -1.793693"
      ]
     },
     "execution_count": 91,
     "metadata": {},
     "output_type": "execute_result"
    }
   ],
   "source": [
    "importance_pd.sort_values(by=\"lon\", ascending=True).head(5)"
   ]
  }
 ],
 "metadata": {
  "colab": {
   "include_colab_link": true,
   "provenance": []
  },
  "kernelspec": {
   "display_name": "Python 3",
   "language": "python",
   "name": "python3"
  },
  "language_info": {
   "codemirror_mode": {
    "name": "ipython",
    "version": 3
   },
   "file_extension": ".py",
   "mimetype": "text/x-python",
   "name": "python",
   "nbconvert_exporter": "python",
   "pygments_lexer": "ipython3",
   "version": "3.12.7"
  }
 },
 "nbformat": 4,
 "nbformat_minor": 1
}
