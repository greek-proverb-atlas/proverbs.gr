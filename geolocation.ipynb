{
  "nbformat": 4,
  "nbformat_minor": 0,
  "metadata": {
    "colab": {
      "provenance": [],
      "authorship_tag": "ABX9TyPZ+eA4d2uTRyoh55xXcAY5",
      "include_colab_link": true
    },
    "kernelspec": {
      "name": "python3",
      "display_name": "Python 3"
    },
    "language_info": {
      "name": "python"
    }
  },
  "cells": [
    {
      "cell_type": "markdown",
      "metadata": {
        "id": "view-in-github",
        "colab_type": "text"
      },
      "source": [
        "<a href=\"https://colab.research.google.com/github/ipavlopoulos/paremia/blob/main/geolocation.ipynb\" target=\"_parent\"><img src=\"https://colab.research.google.com/assets/colab-badge.svg\" alt=\"Open In Colab\"/></a>"
      ]
    },
    {
      "cell_type": "markdown",
      "source": [
        "# Geolocation prediction of Greek proverbs\n",
        "\n",
        "* Using a collection of proverbs from the [Hellenic Folklore Research Centre](http://www.kentrolaografias.gr/) of the Academy of Athens\n",
        "* Using language modelling and text classification to geolocate proverbs whose information is not known.\n",
        "---\n"
      ],
      "metadata": {
        "id": "pxxFvI4TbAKf"
      }
    },
    {
      "cell_type": "code",
      "source": [
        "import pandas as pd\n",
        "import matplotlib.pyplot as plt\n",
        "import numpy as np\n",
        "import seaborn as sns\n",
        "from sklearn.model_selection import train_test_split\n",
        "from sklearn.metrics import *\n",
        "from sklearn.pipeline import Pipeline\n",
        "from sklearn.ensemble import RandomForestRegressor, RandomForestClassifier, ExtraTreesRegressor\n",
        "from sklearn.linear_model import LinearRegression, LogisticRegression\n",
        "from sklearn.svm import LinearSVC\n",
        "from sklearn.feature_extraction.text import TfidfVectorizer"
      ],
      "metadata": {
        "id": "dQm9rqoXb9v8"
      },
      "execution_count": 1,
      "outputs": []
    },
    {
      "cell_type": "code",
      "source": [
        "balanced_corpus = pd.read_csv(\"https://raw.githubusercontent.com/ipavlopoulos/paremia/main/input/balanced_corpus.csv\")"
      ],
      "metadata": {
        "id": "XyQd70ImcrzX"
      },
      "execution_count": 2,
      "outputs": []
    },
    {
      "cell_type": "code",
      "execution_count": 3,
      "metadata": {
        "id": "eQjj2Lcgapux"
      },
      "outputs": [],
      "source": [
        "train, test = train_test_split(balanced_corpus, test_size=0.05, random_state=2023)\n",
        "train, dev = train_test_split(train, test_size=test.shape[0], random_state=2023)"
      ]
    },
    {
      "cell_type": "markdown",
      "source": [
        "## Authorship analysis\n"
      ],
      "metadata": {
        "id": "lT8WZYricW2D"
      }
    },
    {
      "cell_type": "code",
      "source": [
        "%%capture\n",
        "!git clone https://github.com/ipavlopoulos/lm\n",
        "from lm.markov.models import LM"
      ],
      "metadata": {
        "id": "gmvhu05PcSUh"
      },
      "execution_count": 4,
      "outputs": []
    },
    {
      "cell_type": "markdown",
      "source": [
        "* Training one language model per area, by sampling proverbs of that area"
      ],
      "metadata": {
        "id": "DN0RXWb4cchP"
      }
    },
    {
      "cell_type": "code",
      "source": [
        "# building the local language models\n",
        "loc_name = {'Ρούμελη':'Roumeli', 'Κοζάνη':'Kozani', 'Κως':'Kos', 'Αδριανούπολη':'Adrian.', 'Νάουσα':'Naousa', 'Σέρρες':'Serres', 'Σίφνος': 'Sifnos', 'Ήπειρος':'Epirus', 'Αιτωλία':'Etolia', 'Αμοργός':'Amorgos', 'Ανατολική Θράκη': 'East Thrace',\n",
        "            'Αρκαδία':'Arcadia', 'Αχαΐα':'Achaia', 'Επτάνησος':'Eptanisos', 'Εύβοια':'Eyvoia', 'Θεσπρωτία':'Thesprotia', \n",
        "             'Θράκη': 'Thrace', 'Ιωάννινα':'Ioannina', 'Κάρπαθος':'Karpathos', 'Κεφαλληνία':'Kefalinia', 'Κρήτη':'Crete',\n",
        "            'Κύπρος':'Cyprus', 'Λέσβος':'Lesvos', 'Λακωνία':'Laconia', 'Μακεδονία':'Maced.', 'Μικρά Ασία':'Asia Minor',\n",
        "            'Νάξος':'Naxos', 'Πόντος':'Pontos', 'Ρόδος':'Rodos', 'Σκύρος':'Skyros'}\n",
        "models = {}\n",
        "for area in train.area.unique():\n",
        "    texts = train[train.area==area].text.values\n",
        "    models[loc_name[area]] = LM(gram=\"CHAR\").train(\" \\n \".join(texts))"
      ],
      "metadata": {
        "id": "aq3fGpgPcUAm"
      },
      "execution_count": 13,
      "outputs": []
    },
    {
      "cell_type": "code",
      "source": [
        "def ling_dist(proverb, models=models):\n",
        "    '''\n",
        "    Compute the bits per character (BPC) for a given proverb using many local language models\n",
        "\n",
        "    Args:\n",
        "        proverb (str): a text\n",
        "        models (dict): a dictionary of language models, \n",
        "                       one per location\n",
        "        \n",
        "    Returns:\n",
        "        string: the location whose model predicts best the text \n",
        "        pd.DataFrame: BPC per location    \n",
        "    '''\n",
        "    entropy = {loc:[models[loc].cross_entropy(proverb.lower())] for loc in models.keys()}\n",
        "    likelier = min(entropy, key=entropy.get) \n",
        "    return likelier, pd.DataFrame(entropy)"
      ],
      "metadata": {
        "id": "2noxDr3mca4G"
      },
      "execution_count": 14,
      "outputs": []
    },
    {
      "cell_type": "code",
      "source": [
        "# use case\n",
        "loc, dists = ling_dist('κακό χωριό τα λίγα σπίτια')\n",
        "dists.sort_values(by=0, ascending=True, axis=1)"
      ],
      "metadata": {
        "colab": {
          "base_uri": "https://localhost:8080/",
          "height": 191
        },
        "id": "eCuazKiJcfR4",
        "outputId": "f027b57f-85b2-4ddd-d3df-c96e38e1bad2"
      },
      "execution_count": 15,
      "outputs": [
        {
          "output_type": "execute_result",
          "data": {
            "text/plain": [
              "   Ioannina  Asia Minor  Thesprotia   Laconia     Crete   Arcadia  \\\n",
              "0  3.074369    3.354174    3.361031  3.683447  3.983306  4.034237   \n",
              "\n",
              "   East Thrace     Rodos    Epirus  Kefalinia  ...  Eptanisos   Amorgos  \\\n",
              "0     4.043641  4.074565  4.113714   4.185229  ...   4.476811  4.528474   \n",
              "\n",
              "   Karpathos    Thrace    Achaia    Skyros     Naxos    Lesvos    Cyprus  \\\n",
              "0   4.786137  4.834138  4.852202  4.880689  5.069965  5.465094  5.651278   \n",
              "\n",
              "     Pontos  \n",
              "0  5.708093  \n",
              "\n",
              "[1 rows x 23 columns]"
            ],
            "text/html": [
              "\n",
              "  <div id=\"df-7ae75152-5eae-4b4d-b6e4-3a40e1acb54b\">\n",
              "    <div class=\"colab-df-container\">\n",
              "      <div>\n",
              "<style scoped>\n",
              "    .dataframe tbody tr th:only-of-type {\n",
              "        vertical-align: middle;\n",
              "    }\n",
              "\n",
              "    .dataframe tbody tr th {\n",
              "        vertical-align: top;\n",
              "    }\n",
              "\n",
              "    .dataframe thead th {\n",
              "        text-align: right;\n",
              "    }\n",
              "</style>\n",
              "<table border=\"1\" class=\"dataframe\">\n",
              "  <thead>\n",
              "    <tr style=\"text-align: right;\">\n",
              "      <th></th>\n",
              "      <th>Ioannina</th>\n",
              "      <th>Asia Minor</th>\n",
              "      <th>Thesprotia</th>\n",
              "      <th>Laconia</th>\n",
              "      <th>Crete</th>\n",
              "      <th>Arcadia</th>\n",
              "      <th>East Thrace</th>\n",
              "      <th>Rodos</th>\n",
              "      <th>Epirus</th>\n",
              "      <th>Kefalinia</th>\n",
              "      <th>...</th>\n",
              "      <th>Eptanisos</th>\n",
              "      <th>Amorgos</th>\n",
              "      <th>Karpathos</th>\n",
              "      <th>Thrace</th>\n",
              "      <th>Achaia</th>\n",
              "      <th>Skyros</th>\n",
              "      <th>Naxos</th>\n",
              "      <th>Lesvos</th>\n",
              "      <th>Cyprus</th>\n",
              "      <th>Pontos</th>\n",
              "    </tr>\n",
              "  </thead>\n",
              "  <tbody>\n",
              "    <tr>\n",
              "      <th>0</th>\n",
              "      <td>3.074369</td>\n",
              "      <td>3.354174</td>\n",
              "      <td>3.361031</td>\n",
              "      <td>3.683447</td>\n",
              "      <td>3.983306</td>\n",
              "      <td>4.034237</td>\n",
              "      <td>4.043641</td>\n",
              "      <td>4.074565</td>\n",
              "      <td>4.113714</td>\n",
              "      <td>4.185229</td>\n",
              "      <td>...</td>\n",
              "      <td>4.476811</td>\n",
              "      <td>4.528474</td>\n",
              "      <td>4.786137</td>\n",
              "      <td>4.834138</td>\n",
              "      <td>4.852202</td>\n",
              "      <td>4.880689</td>\n",
              "      <td>5.069965</td>\n",
              "      <td>5.465094</td>\n",
              "      <td>5.651278</td>\n",
              "      <td>5.708093</td>\n",
              "    </tr>\n",
              "  </tbody>\n",
              "</table>\n",
              "<p>1 rows × 23 columns</p>\n",
              "</div>\n",
              "      <button class=\"colab-df-convert\" onclick=\"convertToInteractive('df-7ae75152-5eae-4b4d-b6e4-3a40e1acb54b')\"\n",
              "              title=\"Convert this dataframe to an interactive table.\"\n",
              "              style=\"display:none;\">\n",
              "        \n",
              "  <svg xmlns=\"http://www.w3.org/2000/svg\" height=\"24px\"viewBox=\"0 0 24 24\"\n",
              "       width=\"24px\">\n",
              "    <path d=\"M0 0h24v24H0V0z\" fill=\"none\"/>\n",
              "    <path d=\"M18.56 5.44l.94 2.06.94-2.06 2.06-.94-2.06-.94-.94-2.06-.94 2.06-2.06.94zm-11 1L8.5 8.5l.94-2.06 2.06-.94-2.06-.94L8.5 2.5l-.94 2.06-2.06.94zm10 10l.94 2.06.94-2.06 2.06-.94-2.06-.94-.94-2.06-.94 2.06-2.06.94z\"/><path d=\"M17.41 7.96l-1.37-1.37c-.4-.4-.92-.59-1.43-.59-.52 0-1.04.2-1.43.59L10.3 9.45l-7.72 7.72c-.78.78-.78 2.05 0 2.83L4 21.41c.39.39.9.59 1.41.59.51 0 1.02-.2 1.41-.59l7.78-7.78 2.81-2.81c.8-.78.8-2.07 0-2.86zM5.41 20L4 18.59l7.72-7.72 1.47 1.35L5.41 20z\"/>\n",
              "  </svg>\n",
              "      </button>\n",
              "      \n",
              "  <style>\n",
              "    .colab-df-container {\n",
              "      display:flex;\n",
              "      flex-wrap:wrap;\n",
              "      gap: 12px;\n",
              "    }\n",
              "\n",
              "    .colab-df-convert {\n",
              "      background-color: #E8F0FE;\n",
              "      border: none;\n",
              "      border-radius: 50%;\n",
              "      cursor: pointer;\n",
              "      display: none;\n",
              "      fill: #1967D2;\n",
              "      height: 32px;\n",
              "      padding: 0 0 0 0;\n",
              "      width: 32px;\n",
              "    }\n",
              "\n",
              "    .colab-df-convert:hover {\n",
              "      background-color: #E2EBFA;\n",
              "      box-shadow: 0px 1px 2px rgba(60, 64, 67, 0.3), 0px 1px 3px 1px rgba(60, 64, 67, 0.15);\n",
              "      fill: #174EA6;\n",
              "    }\n",
              "\n",
              "    [theme=dark] .colab-df-convert {\n",
              "      background-color: #3B4455;\n",
              "      fill: #D2E3FC;\n",
              "    }\n",
              "\n",
              "    [theme=dark] .colab-df-convert:hover {\n",
              "      background-color: #434B5C;\n",
              "      box-shadow: 0px 1px 3px 1px rgba(0, 0, 0, 0.15);\n",
              "      filter: drop-shadow(0px 1px 2px rgba(0, 0, 0, 0.3));\n",
              "      fill: #FFFFFF;\n",
              "    }\n",
              "  </style>\n",
              "\n",
              "      <script>\n",
              "        const buttonEl =\n",
              "          document.querySelector('#df-7ae75152-5eae-4b4d-b6e4-3a40e1acb54b button.colab-df-convert');\n",
              "        buttonEl.style.display =\n",
              "          google.colab.kernel.accessAllowed ? 'block' : 'none';\n",
              "\n",
              "        async function convertToInteractive(key) {\n",
              "          const element = document.querySelector('#df-7ae75152-5eae-4b4d-b6e4-3a40e1acb54b');\n",
              "          const dataTable =\n",
              "            await google.colab.kernel.invokeFunction('convertToInteractive',\n",
              "                                                     [key], {});\n",
              "          if (!dataTable) return;\n",
              "\n",
              "          const docLinkHtml = 'Like what you see? Visit the ' +\n",
              "            '<a target=\"_blank\" href=https://colab.research.google.com/notebooks/data_table.ipynb>data table notebook</a>'\n",
              "            + ' to learn more about interactive tables.';\n",
              "          element.innerHTML = '';\n",
              "          dataTable['output_type'] = 'display_data';\n",
              "          await google.colab.output.renderOutput(dataTable, element);\n",
              "          const docLink = document.createElement('div');\n",
              "          docLink.innerHTML = docLinkHtml;\n",
              "          element.appendChild(docLink);\n",
              "        }\n",
              "      </script>\n",
              "    </div>\n",
              "  </div>\n",
              "  "
            ]
          },
          "metadata": {},
          "execution_count": 15
        }
      ]
    },
    {
      "cell_type": "code",
      "source": [
        "def logprob(txt, mdl):\n",
        "    '''Visualising the (log) probability per character for a given model\n",
        "    \n",
        "    Args:\n",
        "        txt (string): the character sequence\n",
        "        mdl (lm.markov.models.LM): the language model to be used to compute \n",
        "                                   the character probabilities\n",
        "        \n",
        "    Returns:\n",
        "        list: the log probs of the characters in the text \n",
        "    '''\n",
        "    probs = mdl.compute_gram_probs(txt)\n",
        "    logprobs = map(np.log2, probs)\n",
        "    return list(logprobs)\n",
        "\n",
        "\n",
        "def heatmap(txt, models):\n",
        "    ''' Creating a heatmap of the logprobs per local language model for a given text\n",
        "\n",
        "    Args:\n",
        "        txt (string): the text in question\n",
        "        models (dict): the language models (lm.markov.models.LM) to use to score the text\n",
        "        \n",
        "    Returns:\n",
        "        pd.DataFrame: the dataframe with the models' scores\n",
        "        ax: the heatmap\n",
        "    '''\n",
        "    plt.rcParams[\"figure.figsize\"] = (len(txt)/3,6); plt.rcParams[\"axes.labelsize\"] = 23;\n",
        "    probs = {loc: logprob(txt, models[loc]) for loc in models.keys()}\n",
        "    df = pd.DataFrame(probs, index=[str(c) for c in txt])\n",
        "    return df, sns.heatmap(df.transpose(), cmap=\"rocket_r\")"
      ],
      "metadata": {
        "id": "CeVg347AchD1"
      },
      "execution_count": 16,
      "outputs": []
    },
    {
      "cell_type": "code",
      "source": [
        "t = test[test.area==\"Κύπρος\"].sample().iloc[0]\n",
        "df, ax = heatmap(t.text, models)\n",
        "print(f'{t.text} ({t.area})', end=' -- ')\n",
        "print(f'predicted as: {df.columns[df.mean(0).argmax()]}')\n",
        "ax.figure.tight_layout(); ax.figure.savefig(\"heatmap.pdf\", format=\"PDF\", dpi=300)"
      ],
      "metadata": {
        "colab": {
          "base_uri": "https://localhost:8080/",
          "height": 442
        },
        "id": "FuHIBEzrciao",
        "outputId": "f6a17e38-a5fc-454e-b4d5-1e7d64df9e86"
      },
      "execution_count": 38,
      "outputs": [
        {
          "output_type": "stream",
          "name": "stdout",
          "text": [
            "Πωρνόσ στησ στράταν, τζ' ενωρίς στο κονατζιν (Κύπρος) -- predicted as: Cyprus\n"
          ]
        },
        {
          "output_type": "display_data",
          "data": {
            "text/plain": [
              "<Figure size 1466.67x600 with 2 Axes>"
            ],
            "image/png": "[encoded data removed]"
          },
          "metadata": {}
        }
      ]
    },
    {
      "cell_type": "markdown",
      "source": [
        "* Evaluating on unseen proverbs"
      ],
      "metadata": {
        "id": "5Uyu_pMpcyAz"
      }
    },
    {
      "cell_type": "code",
      "source": [
        "predictions = test.text.apply(lambda x: ling_dist(x, models=models)[0])\n",
        "gold = test.area.apply(lambda x: loc_name[x]).values\n",
        "print(classification_report(gold, predictions, zero_division=0))"
      ],
      "metadata": {
        "colab": {
          "base_uri": "https://localhost:8080/"
        },
        "id": "eGOI3UqUcjuv",
        "outputId": "7b8cae1d-1cb2-48b6-ae27-1b678fe2c51a"
      },
      "execution_count": 42,
      "outputs": [
        {
          "output_type": "stream",
          "name": "stdout",
          "text": [
            "              precision    recall  f1-score   support\n",
            "\n",
            "      Achaia       0.14      0.12      0.13        32\n",
            "     Amorgos       0.19      0.14      0.16        22\n",
            "     Arcadia       0.08      0.06      0.07        31\n",
            "  Asia Minor       0.17      0.17      0.17        18\n",
            "       Crete       0.23      0.23      0.23        30\n",
            "      Cyprus       0.73      0.79      0.76        24\n",
            " East Thrace       0.12      0.17      0.14        24\n",
            "      Epirus       0.11      0.13      0.12        23\n",
            "   Eptanisos       0.25      0.35      0.29        23\n",
            "      Etolia       0.40      0.33      0.36        24\n",
            "      Eyvoia       0.07      0.15      0.10        20\n",
            "    Ioannina       0.17      0.14      0.15        29\n",
            "   Karpathos       0.37      0.25      0.30        28\n",
            "   Kefalinia       0.11      0.15      0.13        27\n",
            "     Laconia       0.04      0.04      0.04        27\n",
            "      Lesvos       0.45      0.38      0.41        24\n",
            "      Maced.       0.19      0.19      0.19        27\n",
            "       Naxos       0.34      0.42      0.38        24\n",
            "      Pontos       1.00      0.68      0.81        19\n",
            "       Rodos       0.24      0.27      0.26        22\n",
            "      Skyros       0.58      0.37      0.45        30\n",
            "  Thesprotia       0.08      0.09      0.09        22\n",
            "      Thrace       0.15      0.12      0.13        25\n",
            "\n",
            "    accuracy                           0.24       575\n",
            "   macro avg       0.27      0.25      0.25       575\n",
            "weighted avg       0.26      0.24      0.25       575\n",
            "\n"
          ]
        }
      ]
    },
    {
      "cell_type": "markdown",
      "source": [
        "* The confusion matrix can inform us about the confusion in the predictions"
      ],
      "metadata": {
        "id": "0orVps9Wc4fj"
      }
    },
    {
      "cell_type": "code",
      "source": [
        "plt.rcParams[\"figure.figsize\"] = (6,6); plt.rcParams[\"axes.labelsize\"] = 12;\n",
        "cm = ConfusionMatrixDisplay.from_predictions(gold, predictions, xticks_rotation='vertical', colorbar=False);\n",
        "cm.figure_.tight_layout(); cm.figure_.savefig('authorship_confusion.pdf', format=\"PDF\", dpi=300)"
      ],
      "metadata": {
        "colab": {
          "base_uri": "https://localhost:8080/",
          "height": 607
        },
        "id": "pZVBv05WczgE",
        "outputId": "8a969ab0-d32e-4a46-d101-910c03363bef"
      },
      "execution_count": 44,
      "outputs": [
        {
          "output_type": "display_data",
          "data": {
            "text/plain": [
              "<Figure size 600x600 with 1 Axes>"
            ],
            "image/png": "[encoded data removed]"
          },
          "metadata": {}
        }
      ]
    },
    {
      "cell_type": "markdown",
      "source": [
        "* Benchmarking standard text classifiers, on top of chanracter n-grams"
      ],
      "metadata": {
        "id": "hrA3eHTRc9qT"
      }
    },
    {
      "cell_type": "code",
      "source": [
        "vect = TfidfVectorizer(ngram_range=(2,5), # token sequences\n",
        "                       analyzer=\"char\", # tokens are characters\n",
        "                       max_df=0.5, # ignore tokens present in more than 50% of the texts\n",
        "                       min_df=2, # ignore tokens not present in at least two documents \n",
        "                       lowercase=True)\n",
        "vect.fit(train.text.values)\n",
        "rep_t = vect.transform(['παροιμία'])\n",
        "for i, feat in enumerate(rep_t.toarray()[0]):\n",
        "    if feat>0:\n",
        "        print(f'n-gram: \"{vect.get_feature_names_out()[i]}\" \\t(tfidf: {feat:.2f})')"
      ],
      "metadata": {
        "colab": {
          "base_uri": "https://localhost:8080/"
        },
        "id": "15kPTs9tc5_G",
        "outputId": "8e9f3618-584a-48b8-9383-ac0948ad09c4"
      },
      "execution_count": null,
      "outputs": [
        {
          "output_type": "stream",
          "name": "stdout",
          "text": [
            "n-gram: \"ία\" \t(tfidf: 0.21)\n",
            "n-gram: \"αρ\" \t(tfidf: 0.12)\n",
            "n-gram: \"αρο\" \t(tfidf: 0.21)\n",
            "n-gram: \"αροι\" \t(tfidf: 0.37)\n",
            "n-gram: \"ιμ\" \t(tfidf: 0.19)\n",
            "n-gram: \"ιμί\" \t(tfidf: 0.33)\n",
            "n-gram: \"ιμία\" \t(tfidf: 0.38)\n",
            "n-gram: \"μί\" \t(tfidf: 0.21)\n",
            "n-gram: \"μία\" \t(tfidf: 0.30)\n",
            "n-gram: \"οι\" \t(tfidf: 0.13)\n",
            "n-gram: \"οιμ\" \t(tfidf: 0.28)\n",
            "n-gram: \"πα\" \t(tfidf: 0.11)\n",
            "n-gram: \"παρ\" \t(tfidf: 0.18)\n",
            "n-gram: \"παρο\" \t(tfidf: 0.36)\n",
            "n-gram: \"ρο\" \t(tfidf: 0.12)\n",
            "n-gram: \"ροι\" \t(tfidf: 0.26)\n"
          ]
        }
      ]
    },
    {
      "cell_type": "code",
      "source": [
        "# benchmarking text classification algorithms\n",
        "def benchmark_clf(train, dev):\n",
        "    for algo_name, algorithm in (('SVM', LinearSVC), \n",
        "                                 ('Forest', RandomForestClassifier), \n",
        "                                 ('LR', LogisticRegression)):\n",
        "        locator = Pipeline([('vect', vect), ('clf', algorithm())]) \n",
        "        locator.fit(train.text.values, train.area.values) \n",
        "        txt_preds = locator.predict(dev.text.values) \n",
        "        print(f'{algo_name}: {accuracy_score(dev.area.values, txt_preds):.3f}') # <- accuracy is fine for balanced data\n",
        "\n",
        "benchmark_clf(train, dev)"
      ],
      "metadata": {
        "colab": {
          "base_uri": "https://localhost:8080/"
        },
        "id": "-2-kNvMwdIYJ",
        "outputId": "23acad9b-dd96-436e-e19a-0fe28db0fb1d"
      },
      "execution_count": null,
      "outputs": [
        {
          "output_type": "stream",
          "name": "stdout",
          "text": [
            "SVM: 0.287\n",
            "Forest: 0.231\n",
            "LR: 0.278\n"
          ]
        }
      ]
    },
    {
      "cell_type": "code",
      "source": [
        "# inference on test data:\n",
        "predictor_clf = Pipeline([('vect', vect), ('clf', LinearSVC())]) \n",
        "predictor_clf.fit(train.text.values, train.area.values) \n",
        "predictions_clf = predictor_clf.predict(test.text.values) \n",
        "print(classification_report(test.area.values, predictions_clf))"
      ],
      "metadata": {
        "colab": {
          "base_uri": "https://localhost:8080/"
        },
        "id": "pg2_g8Sflfns",
        "outputId": "9ff3c4e4-f796-4837-fb1e-c88d6c4bd0cf"
      },
      "execution_count": null,
      "outputs": [
        {
          "output_type": "stream",
          "name": "stdout",
          "text": [
            "                 precision    recall  f1-score   support\n",
            "\n",
            "        Ήπειρος       0.09      0.09      0.09        23\n",
            "        Αιτωλία       0.42      0.46      0.44        24\n",
            "        Αμοργός       0.26      0.32      0.29        22\n",
            "Ανατολική Θράκη       0.19      0.25      0.22        24\n",
            "        Αρκαδία       0.11      0.10      0.10        31\n",
            "          Αχαΐα       0.31      0.25      0.28        32\n",
            "      Επτάνησος       0.47      0.70      0.56        23\n",
            "         Εύβοια       0.06      0.05      0.05        20\n",
            "      Θεσπρωτία       0.11      0.09      0.10        22\n",
            "          Θράκη       0.26      0.20      0.23        25\n",
            "       Ιωάννινα       0.26      0.17      0.21        29\n",
            "       Κάρπαθος       0.42      0.39      0.41        28\n",
            "     Κεφαλληνία       0.25      0.22      0.24        27\n",
            "          Κρήτη       0.36      0.33      0.34        30\n",
            "         Κύπρος       0.70      0.96      0.81        24\n",
            "         Λέσβος       0.45      0.54      0.49        24\n",
            "        Λακωνία       0.10      0.07      0.09        27\n",
            "      Μακεδονία       0.35      0.30      0.32        27\n",
            "     Μικρά Ασία       0.20      0.11      0.14        18\n",
            "          Νάξος       0.44      0.58      0.50        24\n",
            "         Πόντος       0.73      0.84      0.78        19\n",
            "          Ρόδος       0.28      0.32      0.30        22\n",
            "         Σκύρος       0.54      0.63      0.58        30\n",
            "\n",
            "       accuracy                           0.34       575\n",
            "      macro avg       0.32      0.35      0.33       575\n",
            "   weighted avg       0.32      0.34      0.33       575\n",
            "\n"
          ]
        }
      ]
    },
    {
      "cell_type": "markdown",
      "source": [
        "## Predicting the location of proverbs\n",
        "* Focusing on ones which are shared in multiple locations"
      ],
      "metadata": {
        "id": "I-12RHKwd6Fa"
      }
    },
    {
      "cell_type": "code",
      "source": [
        "duplicates = pd.read_pickle('https://github.com/ipavlopoulos/paremia/raw/main/input/duplicates_geolocated.csv')"
      ],
      "metadata": {
        "id": "ZMK3gOrQeiMK"
      },
      "execution_count": null,
      "outputs": []
    },
    {
      "cell_type": "code",
      "source": [
        "# showing cases when only two candidate area exist and the model said one \n",
        "duplicates.insert(4, \"prediction\", predictor_clf.predict(duplicates.index.values))\n",
        "duplicate_dilemma = duplicates.apply(lambda row: (row.area_num==2)&(row.prediction in row.area), 1)\n",
        "duplicates[duplicate_dilemma].sort_values(by=\"place_num\").head(5)"
      ],
      "metadata": {
        "colab": {
          "base_uri": "https://localhost:8080/",
          "height": 368
        },
        "id": "VvgaPQzyd4ii",
        "outputId": "92772be1-e8c0-4319-80ce-c032d34c299c"
      },
      "execution_count": null,
      "outputs": [
        {
          "output_type": "execute_result",
          "data": {
            "text/plain": [
              "                                                                                     place  \\\n",
              "text                                                                                         \n",
              "(Ε)πήρε βάγια                                                           {Ήπειρος, Λακωνία}   \n",
              "Ξένοι πόνοι ξένα γέλια                                                   {Ρόδος, Κάλυμνος}   \n",
              "Νιός ήμουν και γέρασα                                        {Μικρά Ασία, Βουρλά, Αμοργός}   \n",
              "Νηστικιά αρκούδα δε χορεύει                       {Μικρά Ασία, Κυδωνία, Κεφαλληνία, Ομαλά}   \n",
              "Νηστεύει ο δούλος του Θεού, γιατί ψωμί δεν έχει!                   {Ήπειρος, Αχαΐα, Πάτρα}   \n",
              "\n",
              "                                                  place_num  \\\n",
              "text                                                          \n",
              "(Ε)πήρε βάγια                                             2   \n",
              "Ξένοι πόνοι ξένα γέλια                                    2   \n",
              "Νιός ήμουν και γέρασα                                     2   \n",
              "Νηστικιά αρκούδα δε χορεύει                               2   \n",
              "Νηστεύει ο δούλος του Θεού, γιατί ψωμί δεν έχει!          2   \n",
              "\n",
              "                                                                      area  \\\n",
              "text                                                                         \n",
              "(Ε)πήρε βάγια                                           {Ήπειρος, Λακωνία}   \n",
              "Ξένοι πόνοι ξένα γέλια                                   {Ρόδος, Κάλυμνος}   \n",
              "Νιός ήμουν και γέρασα                                {Μικρά Ασία, Αμοργός}   \n",
              "Νηστικιά αρκούδα δε χορεύει                       {Μικρά Ασία, Κεφαλληνία}   \n",
              "Νηστεύει ο δούλος του Θεού, γιατί ψωμί δεν έχει!          {Αχαΐα, Ήπειρος}   \n",
              "\n",
              "                                                  area_num  prediction  \\\n",
              "text                                                                     \n",
              "(Ε)πήρε βάγια                                            2     Ήπειρος   \n",
              "Ξένοι πόνοι ξένα γέλια                                   2       Ρόδος   \n",
              "Νιός ήμουν και γέρασα                                    2  Μικρά Ασία   \n",
              "Νηστικιά αρκούδα δε χορεύει                              2  Κεφαλληνία   \n",
              "Νηστεύει ο δούλος του Θεού, γιατί ψωμί δεν έχει!         2       Αχαΐα   \n",
              "\n",
              "                                                                                             latlon  \n",
              "text                                                                                                 \n",
              "(Ε)πήρε βάγια                                     [(37.9982534, 23.7378671), (36.76027945, 22.79...  \n",
              "Ξένοι πόνοι ξένα γέλια                            [(37.00262545, 26.992424179156217), (36.172629...  \n",
              "Νιός ήμουν και γέρασα                             [(38.1846366, 23.5122768), (36.85252415, 25.89...  \n",
              "Νηστικιά αρκούδα δε χορεύει                       [(38.2379344, 20.560883), (38.1846366, 23.5122...  \n",
              "Νηστεύει ο δούλος του Θεού, γιατί ψωμί δεν έχει!  [(37.9982534, 23.7378671), (38.0692748, 21.872...  "
            ],
            "text/html": [
              "\n",
              "  <div id=\"df-1784ad3d-4f71-4b3b-af80-bdb7e1e7ee80\">\n",
              "    <div class=\"colab-df-container\">\n",
              "      <div>\n",
              "<style scoped>\n",
              "    .dataframe tbody tr th:only-of-type {\n",
              "        vertical-align: middle;\n",
              "    }\n",
              "\n",
              "    .dataframe tbody tr th {\n",
              "        vertical-align: top;\n",
              "    }\n",
              "\n",
              "    .dataframe thead th {\n",
              "        text-align: right;\n",
              "    }\n",
              "</style>\n",
              "<table border=\"1\" class=\"dataframe\">\n",
              "  <thead>\n",
              "    <tr style=\"text-align: right;\">\n",
              "      <th></th>\n",
              "      <th>place</th>\n",
              "      <th>place_num</th>\n",
              "      <th>area</th>\n",
              "      <th>area_num</th>\n",
              "      <th>prediction</th>\n",
              "      <th>latlon</th>\n",
              "    </tr>\n",
              "    <tr>\n",
              "      <th>text</th>\n",
              "      <th></th>\n",
              "      <th></th>\n",
              "      <th></th>\n",
              "      <th></th>\n",
              "      <th></th>\n",
              "      <th></th>\n",
              "    </tr>\n",
              "  </thead>\n",
              "  <tbody>\n",
              "    <tr>\n",
              "      <th>(Ε)πήρε βάγια</th>\n",
              "      <td>{Ήπειρος, Λακωνία}</td>\n",
              "      <td>2</td>\n",
              "      <td>{Ήπειρος, Λακωνία}</td>\n",
              "      <td>2</td>\n",
              "      <td>Ήπειρος</td>\n",
              "      <td>[(37.9982534, 23.7378671), (36.76027945, 22.79...</td>\n",
              "    </tr>\n",
              "    <tr>\n",
              "      <th>Ξένοι πόνοι ξένα γέλια</th>\n",
              "      <td>{Ρόδος, Κάλυμνος}</td>\n",
              "      <td>2</td>\n",
              "      <td>{Ρόδος, Κάλυμνος}</td>\n",
              "      <td>2</td>\n",
              "      <td>Ρόδος</td>\n",
              "      <td>[(37.00262545, 26.992424179156217), (36.172629...</td>\n",
              "    </tr>\n",
              "    <tr>\n",
              "      <th>Νιός ήμουν και γέρασα</th>\n",
              "      <td>{Μικρά Ασία, Βουρλά, Αμοργός}</td>\n",
              "      <td>2</td>\n",
              "      <td>{Μικρά Ασία, Αμοργός}</td>\n",
              "      <td>2</td>\n",
              "      <td>Μικρά Ασία</td>\n",
              "      <td>[(38.1846366, 23.5122768), (36.85252415, 25.89...</td>\n",
              "    </tr>\n",
              "    <tr>\n",
              "      <th>Νηστικιά αρκούδα δε χορεύει</th>\n",
              "      <td>{Μικρά Ασία, Κυδωνία, Κεφαλληνία, Ομαλά}</td>\n",
              "      <td>2</td>\n",
              "      <td>{Μικρά Ασία, Κεφαλληνία}</td>\n",
              "      <td>2</td>\n",
              "      <td>Κεφαλληνία</td>\n",
              "      <td>[(38.2379344, 20.560883), (38.1846366, 23.5122...</td>\n",
              "    </tr>\n",
              "    <tr>\n",
              "      <th>Νηστεύει ο δούλος του Θεού, γιατί ψωμί δεν έχει!</th>\n",
              "      <td>{Ήπειρος, Αχαΐα, Πάτρα}</td>\n",
              "      <td>2</td>\n",
              "      <td>{Αχαΐα, Ήπειρος}</td>\n",
              "      <td>2</td>\n",
              "      <td>Αχαΐα</td>\n",
              "      <td>[(37.9982534, 23.7378671), (38.0692748, 21.872...</td>\n",
              "    </tr>\n",
              "  </tbody>\n",
              "</table>\n",
              "</div>\n",
              "      <button class=\"colab-df-convert\" onclick=\"convertToInteractive('df-1784ad3d-4f71-4b3b-af80-bdb7e1e7ee80')\"\n",
              "              title=\"Convert this dataframe to an interactive table.\"\n",
              "              style=\"display:none;\">\n",
              "        \n",
              "  <svg xmlns=\"http://www.w3.org/2000/svg\" height=\"24px\"viewBox=\"0 0 24 24\"\n",
              "       width=\"24px\">\n",
              "    <path d=\"M0 0h24v24H0V0z\" fill=\"none\"/>\n",
              "    <path d=\"M18.56 5.44l.94 2.06.94-2.06 2.06-.94-2.06-.94-.94-2.06-.94 2.06-2.06.94zm-11 1L8.5 8.5l.94-2.06 2.06-.94-2.06-.94L8.5 2.5l-.94 2.06-2.06.94zm10 10l.94 2.06.94-2.06 2.06-.94-2.06-.94-.94-2.06-.94 2.06-2.06.94z\"/><path d=\"M17.41 7.96l-1.37-1.37c-.4-.4-.92-.59-1.43-.59-.52 0-1.04.2-1.43.59L10.3 9.45l-7.72 7.72c-.78.78-.78 2.05 0 2.83L4 21.41c.39.39.9.59 1.41.59.51 0 1.02-.2 1.41-.59l7.78-7.78 2.81-2.81c.8-.78.8-2.07 0-2.86zM5.41 20L4 18.59l7.72-7.72 1.47 1.35L5.41 20z\"/>\n",
              "  </svg>\n",
              "      </button>\n",
              "      \n",
              "  <style>\n",
              "    .colab-df-container {\n",
              "      display:flex;\n",
              "      flex-wrap:wrap;\n",
              "      gap: 12px;\n",
              "    }\n",
              "\n",
              "    .colab-df-convert {\n",
              "      background-color: #E8F0FE;\n",
              "      border: none;\n",
              "      border-radius: 50%;\n",
              "      cursor: pointer;\n",
              "      display: none;\n",
              "      fill: #1967D2;\n",
              "      height: 32px;\n",
              "      padding: 0 0 0 0;\n",
              "      width: 32px;\n",
              "    }\n",
              "\n",
              "    .colab-df-convert:hover {\n",
              "      background-color: #E2EBFA;\n",
              "      box-shadow: 0px 1px 2px rgba(60, 64, 67, 0.3), 0px 1px 3px 1px rgba(60, 64, 67, 0.15);\n",
              "      fill: #174EA6;\n",
              "    }\n",
              "\n",
              "    [theme=dark] .colab-df-convert {\n",
              "      background-color: #3B4455;\n",
              "      fill: #D2E3FC;\n",
              "    }\n",
              "\n",
              "    [theme=dark] .colab-df-convert:hover {\n",
              "      background-color: #434B5C;\n",
              "      box-shadow: 0px 1px 3px 1px rgba(0, 0, 0, 0.15);\n",
              "      filter: drop-shadow(0px 1px 2px rgba(0, 0, 0, 0.3));\n",
              "      fill: #FFFFFF;\n",
              "    }\n",
              "  </style>\n",
              "\n",
              "      <script>\n",
              "        const buttonEl =\n",
              "          document.querySelector('#df-1784ad3d-4f71-4b3b-af80-bdb7e1e7ee80 button.colab-df-convert');\n",
              "        buttonEl.style.display =\n",
              "          google.colab.kernel.accessAllowed ? 'block' : 'none';\n",
              "\n",
              "        async function convertToInteractive(key) {\n",
              "          const element = document.querySelector('#df-1784ad3d-4f71-4b3b-af80-bdb7e1e7ee80');\n",
              "          const dataTable =\n",
              "            await google.colab.kernel.invokeFunction('convertToInteractive',\n",
              "                                                     [key], {});\n",
              "          if (!dataTable) return;\n",
              "\n",
              "          const docLinkHtml = 'Like what you see? Visit the ' +\n",
              "            '<a target=\"_blank\" href=https://colab.research.google.com/notebooks/data_table.ipynb>data table notebook</a>'\n",
              "            + ' to learn more about interactive tables.';\n",
              "          element.innerHTML = '';\n",
              "          dataTable['output_type'] = 'display_data';\n",
              "          await google.colab.output.renderOutput(dataTable, element);\n",
              "          const docLink = document.createElement('div');\n",
              "          docLink.innerHTML = docLinkHtml;\n",
              "          element.appendChild(docLink);\n",
              "        }\n",
              "      </script>\n",
              "    </div>\n",
              "  </div>\n",
              "  "
            ]
          },
          "metadata": {},
          "execution_count": 70
        }
      ]
    },
    {
      "cell_type": "markdown",
      "source": [
        "* Showing on ones our classifier said Cyrpus"
      ],
      "metadata": {
        "id": "2pBGLxTSmMzB"
      }
    },
    {
      "cell_type": "code",
      "source": [
        "is_it_cyprus = duplicates.apply(lambda row: (row.prediction=='Κύπρος')&(row.prediction in row.area), 1)\n",
        "duplicates[is_it_cyprus]"
      ],
      "metadata": {
        "colab": {
          "base_uri": "https://localhost:8080/",
          "height": 173
        },
        "id": "neOnr6gcfTMd",
        "outputId": "87e01525-2852-4d2c-8b6c-90a75e26a8e2"
      },
      "execution_count": null,
      "outputs": [
        {
          "output_type": "execute_result",
          "data": {
            "text/plain": [
              "                                                       place  place_num  \\\n",
              "text                                                                      \n",
              "Του κλέφτη κλέφτεις του;  {Κύπρος, Λακωνία, Κύπρος, Κυθραία}          3   \n",
              "\n",
              "                                       area  area_num prediction  \\\n",
              "text                                                               \n",
              "Του κλέφτη κλέφτεις του;  {Κύπρος, Λακωνία}         2     Κύπρος   \n",
              "\n",
              "                                                                     latlon  \n",
              "text                                                                         \n",
              "Του κλέφτη κλέφτεις του;  [(36.76027945, 22.79046431389755), (34.9823018...  "
            ],
            "text/html": [
              "\n",
              "  <div id=\"df-a4a2a483-3da8-4712-be99-1ccb16ebb1f0\">\n",
              "    <div class=\"colab-df-container\">\n",
              "      <div>\n",
              "<style scoped>\n",
              "    .dataframe tbody tr th:only-of-type {\n",
              "        vertical-align: middle;\n",
              "    }\n",
              "\n",
              "    .dataframe tbody tr th {\n",
              "        vertical-align: top;\n",
              "    }\n",
              "\n",
              "    .dataframe thead th {\n",
              "        text-align: right;\n",
              "    }\n",
              "</style>\n",
              "<table border=\"1\" class=\"dataframe\">\n",
              "  <thead>\n",
              "    <tr style=\"text-align: right;\">\n",
              "      <th></th>\n",
              "      <th>place</th>\n",
              "      <th>place_num</th>\n",
              "      <th>area</th>\n",
              "      <th>area_num</th>\n",
              "      <th>prediction</th>\n",
              "      <th>latlon</th>\n",
              "    </tr>\n",
              "    <tr>\n",
              "      <th>text</th>\n",
              "      <th></th>\n",
              "      <th></th>\n",
              "      <th></th>\n",
              "      <th></th>\n",
              "      <th></th>\n",
              "      <th></th>\n",
              "    </tr>\n",
              "  </thead>\n",
              "  <tbody>\n",
              "    <tr>\n",
              "      <th>Του κλέφτη κλέφτεις του;</th>\n",
              "      <td>{Κύπρος, Λακωνία, Κύπρος, Κυθραία}</td>\n",
              "      <td>3</td>\n",
              "      <td>{Κύπρος, Λακωνία}</td>\n",
              "      <td>2</td>\n",
              "      <td>Κύπρος</td>\n",
              "      <td>[(36.76027945, 22.79046431389755), (34.9823018...</td>\n",
              "    </tr>\n",
              "  </tbody>\n",
              "</table>\n",
              "</div>\n",
              "      <button class=\"colab-df-convert\" onclick=\"convertToInteractive('df-a4a2a483-3da8-4712-be99-1ccb16ebb1f0')\"\n",
              "              title=\"Convert this dataframe to an interactive table.\"\n",
              "              style=\"display:none;\">\n",
              "        \n",
              "  <svg xmlns=\"http://www.w3.org/2000/svg\" height=\"24px\"viewBox=\"0 0 24 24\"\n",
              "       width=\"24px\">\n",
              "    <path d=\"M0 0h24v24H0V0z\" fill=\"none\"/>\n",
              "    <path d=\"M18.56 5.44l.94 2.06.94-2.06 2.06-.94-2.06-.94-.94-2.06-.94 2.06-2.06.94zm-11 1L8.5 8.5l.94-2.06 2.06-.94-2.06-.94L8.5 2.5l-.94 2.06-2.06.94zm10 10l.94 2.06.94-2.06 2.06-.94-2.06-.94-.94-2.06-.94 2.06-2.06.94z\"/><path d=\"M17.41 7.96l-1.37-1.37c-.4-.4-.92-.59-1.43-.59-.52 0-1.04.2-1.43.59L10.3 9.45l-7.72 7.72c-.78.78-.78 2.05 0 2.83L4 21.41c.39.39.9.59 1.41.59.51 0 1.02-.2 1.41-.59l7.78-7.78 2.81-2.81c.8-.78.8-2.07 0-2.86zM5.41 20L4 18.59l7.72-7.72 1.47 1.35L5.41 20z\"/>\n",
              "  </svg>\n",
              "      </button>\n",
              "      \n",
              "  <style>\n",
              "    .colab-df-container {\n",
              "      display:flex;\n",
              "      flex-wrap:wrap;\n",
              "      gap: 12px;\n",
              "    }\n",
              "\n",
              "    .colab-df-convert {\n",
              "      background-color: #E8F0FE;\n",
              "      border: none;\n",
              "      border-radius: 50%;\n",
              "      cursor: pointer;\n",
              "      display: none;\n",
              "      fill: #1967D2;\n",
              "      height: 32px;\n",
              "      padding: 0 0 0 0;\n",
              "      width: 32px;\n",
              "    }\n",
              "\n",
              "    .colab-df-convert:hover {\n",
              "      background-color: #E2EBFA;\n",
              "      box-shadow: 0px 1px 2px rgba(60, 64, 67, 0.3), 0px 1px 3px 1px rgba(60, 64, 67, 0.15);\n",
              "      fill: #174EA6;\n",
              "    }\n",
              "\n",
              "    [theme=dark] .colab-df-convert {\n",
              "      background-color: #3B4455;\n",
              "      fill: #D2E3FC;\n",
              "    }\n",
              "\n",
              "    [theme=dark] .colab-df-convert:hover {\n",
              "      background-color: #434B5C;\n",
              "      box-shadow: 0px 1px 3px 1px rgba(0, 0, 0, 0.15);\n",
              "      filter: drop-shadow(0px 1px 2px rgba(0, 0, 0, 0.3));\n",
              "      fill: #FFFFFF;\n",
              "    }\n",
              "  </style>\n",
              "\n",
              "      <script>\n",
              "        const buttonEl =\n",
              "          document.querySelector('#df-a4a2a483-3da8-4712-be99-1ccb16ebb1f0 button.colab-df-convert');\n",
              "        buttonEl.style.display =\n",
              "          google.colab.kernel.accessAllowed ? 'block' : 'none';\n",
              "\n",
              "        async function convertToInteractive(key) {\n",
              "          const element = document.querySelector('#df-a4a2a483-3da8-4712-be99-1ccb16ebb1f0');\n",
              "          const dataTable =\n",
              "            await google.colab.kernel.invokeFunction('convertToInteractive',\n",
              "                                                     [key], {});\n",
              "          if (!dataTable) return;\n",
              "\n",
              "          const docLinkHtml = 'Like what you see? Visit the ' +\n",
              "            '<a target=\"_blank\" href=https://colab.research.google.com/notebooks/data_table.ipynb>data table notebook</a>'\n",
              "            + ' to learn more about interactive tables.';\n",
              "          element.innerHTML = '';\n",
              "          dataTable['output_type'] = 'display_data';\n",
              "          await google.colab.output.renderOutput(dataTable, element);\n",
              "          const docLink = document.createElement('div');\n",
              "          docLink.innerHTML = docLinkHtml;\n",
              "          element.appendChild(docLink);\n",
              "        }\n",
              "      </script>\n",
              "    </div>\n",
              "  </div>\n",
              "  "
            ]
          },
          "metadata": {},
          "execution_count": 71
        }
      ]
    },
    {
      "cell_type": "markdown",
      "source": [
        "## Regression on the coordinates\n",
        "* Instead of classifying, predicting the geographical coordinates.\n",
        "* Linear regression provides feature importance, i.e., terms that distinguish spatially, from South to North, from West to East. "
      ],
      "metadata": {
        "id": "zBp6QrYgf7MI"
      }
    },
    {
      "cell_type": "code",
      "source": [
        "vect = TfidfVectorizer(ngram_range=(1,1), analyzer=\"word\", max_df=0.5, min_df=10, lowercase=True)\n",
        "linear = Pipeline([('vect', vect), ('reg', LinearRegression())])\n",
        "linear.fit(train.text.values, train[[\"lat\", \"lon\"]].values)\n",
        "txt_preds = linear.predict(test.text.values)"
      ],
      "metadata": {
        "id": "dXQh_RYPeyJJ"
      },
      "execution_count": null,
      "outputs": []
    },
    {
      "cell_type": "code",
      "source": [
        "print(f'R2 (train): {linear.score(train.text, train[[\"lat\", \"lon\"]].values):.3f}')\n",
        "print(f'R2 (dev): {linear.score(dev.text, dev[[\"lat\", \"lon\"]].values):.3f}')"
      ],
      "metadata": {
        "colab": {
          "base_uri": "https://localhost:8080/"
        },
        "id": "RGx52tT5gL71",
        "outputId": "e4ab5e28-adf6-440c-c5e3-30e4fea76e42"
      },
      "execution_count": null,
      "outputs": [
        {
          "output_type": "stream",
          "name": "stdout",
          "text": [
            "R2 (train): 0.265\n",
            "R2 (dev): 0.147\n"
          ]
        }
      ]
    },
    {
      "cell_type": "code",
      "source": [
        "predicted_coords = linear.predict(test.text.values)\n",
        "print(f\"MAE of lat and lon: {mean_absolute_error(test.lat.values, predicted_coords[:, 0]):.2f} & {mean_absolute_error(test.lon.values, predicted_coords[:, 1]):.2f}\")\n",
        "print(f\"MSE of lat and lon: {mean_squared_error(test.lat.values, predicted_coords[:, 0]):.2f} & {mean_squared_error(test.lon.values, predicted_coords[:, 1]):.2f}\")"
      ],
      "metadata": {
        "colab": {
          "base_uri": "https://localhost:8080/"
        },
        "id": "F2LmNQWugO1L",
        "outputId": "03e2038c-b70f-49d0-e6c8-950872627287"
      },
      "execution_count": null,
      "outputs": [
        {
          "output_type": "stream",
          "name": "stdout",
          "text": [
            "MAE of lat and lon: 1.31 & 1.82\n",
            "MSE of lat and lon: 2.70 & 5.57\n"
          ]
        }
      ]
    },
    {
      "cell_type": "markdown",
      "source": [
        "* Finding terms pushing North, South, West, and East"
      ],
      "metadata": {
        "id": "waS2eGdcgrN-"
      }
    },
    {
      "cell_type": "code",
      "source": [
        "importance_pd = pd.DataFrame({\"feature\":linear[\"vect\"].get_feature_names_out(), \n",
        "                              \"lat\": linear[\"reg\"].coef_[0, :],\n",
        "                              \"lon\": linear[\"reg\"].coef_[1, :]})"
      ],
      "metadata": {
        "id": "gUkvoPTTgn7L"
      },
      "execution_count": null,
      "outputs": []
    },
    {
      "cell_type": "markdown",
      "source": [
        "### Words pushing $\\uparrow$ North: higher lat"
      ],
      "metadata": {
        "id": "arRsBHqOi3Z9"
      }
    },
    {
      "cell_type": "code",
      "source": [
        "importance_pd.sort_values(by=\"lat\", ascending=False).head(5)"
      ],
      "metadata": {
        "colab": {
          "base_uri": "https://localhost:8080/",
          "height": 206
        },
        "id": "UaPRsIgOgyw4",
        "outputId": "d3934ff2-82ae-46a3-e015-d27386f4b946"
      },
      "execution_count": null,
      "outputs": [
        {
          "output_type": "execute_result",
          "data": {
            "text/plain": [
              "     feature       lat       lon\n",
              "692   τρώγει  3.635893 -0.032554\n",
              "601   σάββας  3.161248  1.184160\n",
              "195  διάβολο  2.948188  1.232402\n",
              "552       πε  2.770396  1.545323\n",
              "325       κε  2.755402 -0.781987"
            ],
            "text/html": [
              "\n",
              "  <div id=\"df-6a767c45-8159-4a5f-831f-d2196ff01659\">\n",
              "    <div class=\"colab-df-container\">\n",
              "      <div>\n",
              "<style scoped>\n",
              "    .dataframe tbody tr th:only-of-type {\n",
              "        vertical-align: middle;\n",
              "    }\n",
              "\n",
              "    .dataframe tbody tr th {\n",
              "        vertical-align: top;\n",
              "    }\n",
              "\n",
              "    .dataframe thead th {\n",
              "        text-align: right;\n",
              "    }\n",
              "</style>\n",
              "<table border=\"1\" class=\"dataframe\">\n",
              "  <thead>\n",
              "    <tr style=\"text-align: right;\">\n",
              "      <th></th>\n",
              "      <th>feature</th>\n",
              "      <th>lat</th>\n",
              "      <th>lon</th>\n",
              "    </tr>\n",
              "  </thead>\n",
              "  <tbody>\n",
              "    <tr>\n",
              "      <th>692</th>\n",
              "      <td>τρώγει</td>\n",
              "      <td>3.635893</td>\n",
              "      <td>-0.032554</td>\n",
              "    </tr>\n",
              "    <tr>\n",
              "      <th>601</th>\n",
              "      <td>σάββας</td>\n",
              "      <td>3.161248</td>\n",
              "      <td>1.184160</td>\n",
              "    </tr>\n",
              "    <tr>\n",
              "      <th>195</th>\n",
              "      <td>διάβολο</td>\n",
              "      <td>2.948188</td>\n",
              "      <td>1.232402</td>\n",
              "    </tr>\n",
              "    <tr>\n",
              "      <th>552</th>\n",
              "      <td>πε</td>\n",
              "      <td>2.770396</td>\n",
              "      <td>1.545323</td>\n",
              "    </tr>\n",
              "    <tr>\n",
              "      <th>325</th>\n",
              "      <td>κε</td>\n",
              "      <td>2.755402</td>\n",
              "      <td>-0.781987</td>\n",
              "    </tr>\n",
              "  </tbody>\n",
              "</table>\n",
              "</div>\n",
              "      <button class=\"colab-df-convert\" onclick=\"convertToInteractive('df-6a767c45-8159-4a5f-831f-d2196ff01659')\"\n",
              "              title=\"Convert this dataframe to an interactive table.\"\n",
              "              style=\"display:none;\">\n",
              "        \n",
              "  <svg xmlns=\"http://www.w3.org/2000/svg\" height=\"24px\"viewBox=\"0 0 24 24\"\n",
              "       width=\"24px\">\n",
              "    <path d=\"M0 0h24v24H0V0z\" fill=\"none\"/>\n",
              "    <path d=\"M18.56 5.44l.94 2.06.94-2.06 2.06-.94-2.06-.94-.94-2.06-.94 2.06-2.06.94zm-11 1L8.5 8.5l.94-2.06 2.06-.94-2.06-.94L8.5 2.5l-.94 2.06-2.06.94zm10 10l.94 2.06.94-2.06 2.06-.94-2.06-.94-.94-2.06-.94 2.06-2.06.94z\"/><path d=\"M17.41 7.96l-1.37-1.37c-.4-.4-.92-.59-1.43-.59-.52 0-1.04.2-1.43.59L10.3 9.45l-7.72 7.72c-.78.78-.78 2.05 0 2.83L4 21.41c.39.39.9.59 1.41.59.51 0 1.02-.2 1.41-.59l7.78-7.78 2.81-2.81c.8-.78.8-2.07 0-2.86zM5.41 20L4 18.59l7.72-7.72 1.47 1.35L5.41 20z\"/>\n",
              "  </svg>\n",
              "      </button>\n",
              "      \n",
              "  <style>\n",
              "    .colab-df-container {\n",
              "      display:flex;\n",
              "      flex-wrap:wrap;\n",
              "      gap: 12px;\n",
              "    }\n",
              "\n",
              "    .colab-df-convert {\n",
              "      background-color: #E8F0FE;\n",
              "      border: none;\n",
              "      border-radius: 50%;\n",
              "      cursor: pointer;\n",
              "      display: none;\n",
              "      fill: #1967D2;\n",
              "      height: 32px;\n",
              "      padding: 0 0 0 0;\n",
              "      width: 32px;\n",
              "    }\n",
              "\n",
              "    .colab-df-convert:hover {\n",
              "      background-color: #E2EBFA;\n",
              "      box-shadow: 0px 1px 2px rgba(60, 64, 67, 0.3), 0px 1px 3px 1px rgba(60, 64, 67, 0.15);\n",
              "      fill: #174EA6;\n",
              "    }\n",
              "\n",
              "    [theme=dark] .colab-df-convert {\n",
              "      background-color: #3B4455;\n",
              "      fill: #D2E3FC;\n",
              "    }\n",
              "\n",
              "    [theme=dark] .colab-df-convert:hover {\n",
              "      background-color: #434B5C;\n",
              "      box-shadow: 0px 1px 3px 1px rgba(0, 0, 0, 0.15);\n",
              "      filter: drop-shadow(0px 1px 2px rgba(0, 0, 0, 0.3));\n",
              "      fill: #FFFFFF;\n",
              "    }\n",
              "  </style>\n",
              "\n",
              "      <script>\n",
              "        const buttonEl =\n",
              "          document.querySelector('#df-6a767c45-8159-4a5f-831f-d2196ff01659 button.colab-df-convert');\n",
              "        buttonEl.style.display =\n",
              "          google.colab.kernel.accessAllowed ? 'block' : 'none';\n",
              "\n",
              "        async function convertToInteractive(key) {\n",
              "          const element = document.querySelector('#df-6a767c45-8159-4a5f-831f-d2196ff01659');\n",
              "          const dataTable =\n",
              "            await google.colab.kernel.invokeFunction('convertToInteractive',\n",
              "                                                     [key], {});\n",
              "          if (!dataTable) return;\n",
              "\n",
              "          const docLinkHtml = 'Like what you see? Visit the ' +\n",
              "            '<a target=\"_blank\" href=https://colab.research.google.com/notebooks/data_table.ipynb>data table notebook</a>'\n",
              "            + ' to learn more about interactive tables.';\n",
              "          element.innerHTML = '';\n",
              "          dataTable['output_type'] = 'display_data';\n",
              "          await google.colab.output.renderOutput(dataTable, element);\n",
              "          const docLink = document.createElement('div');\n",
              "          docLink.innerHTML = docLinkHtml;\n",
              "          element.appendChild(docLink);\n",
              "        }\n",
              "      </script>\n",
              "    </div>\n",
              "  </div>\n",
              "  "
            ]
          },
          "metadata": {},
          "execution_count": 50
        }
      ]
    },
    {
      "cell_type": "markdown",
      "source": [
        "### Words pushing $\\downarrow$ South: lower lat"
      ],
      "metadata": {
        "id": "CMbNoEiii64j"
      }
    },
    {
      "cell_type": "code",
      "source": [
        "importance_pd.sort_values(by=\"lat\", ascending=True).head(5)"
      ],
      "metadata": {
        "colab": {
          "base_uri": "https://localhost:8080/",
          "height": 206
        },
        "id": "bqRuMFKbg4as",
        "outputId": "1f9b9f3b-f93d-4916-9c30-dfd3299dcbeb"
      },
      "execution_count": null,
      "outputs": [
        {
          "output_type": "execute_result",
          "data": {
            "text/plain": [
              "    feature       lat        lon\n",
              "660      τζ -4.194842  11.198418\n",
              "661    τζαί -4.178670  11.034529\n",
              "662    τζαι -4.120807  10.672089\n",
              "226    εγιώ -3.835542   5.002954\n",
              "664     τζι -3.824136  10.232078"
            ],
            "text/html": [
              "\n",
              "  <div id=\"df-fea18cd0-3b5b-4cd0-98da-967c49610065\">\n",
              "    <div class=\"colab-df-container\">\n",
              "      <div>\n",
              "<style scoped>\n",
              "    .dataframe tbody tr th:only-of-type {\n",
              "        vertical-align: middle;\n",
              "    }\n",
              "\n",
              "    .dataframe tbody tr th {\n",
              "        vertical-align: top;\n",
              "    }\n",
              "\n",
              "    .dataframe thead th {\n",
              "        text-align: right;\n",
              "    }\n",
              "</style>\n",
              "<table border=\"1\" class=\"dataframe\">\n",
              "  <thead>\n",
              "    <tr style=\"text-align: right;\">\n",
              "      <th></th>\n",
              "      <th>feature</th>\n",
              "      <th>lat</th>\n",
              "      <th>lon</th>\n",
              "    </tr>\n",
              "  </thead>\n",
              "  <tbody>\n",
              "    <tr>\n",
              "      <th>660</th>\n",
              "      <td>τζ</td>\n",
              "      <td>-4.194842</td>\n",
              "      <td>11.198418</td>\n",
              "    </tr>\n",
              "    <tr>\n",
              "      <th>661</th>\n",
              "      <td>τζαί</td>\n",
              "      <td>-4.178670</td>\n",
              "      <td>11.034529</td>\n",
              "    </tr>\n",
              "    <tr>\n",
              "      <th>662</th>\n",
              "      <td>τζαι</td>\n",
              "      <td>-4.120807</td>\n",
              "      <td>10.672089</td>\n",
              "    </tr>\n",
              "    <tr>\n",
              "      <th>226</th>\n",
              "      <td>εγιώ</td>\n",
              "      <td>-3.835542</td>\n",
              "      <td>5.002954</td>\n",
              "    </tr>\n",
              "    <tr>\n",
              "      <th>664</th>\n",
              "      <td>τζι</td>\n",
              "      <td>-3.824136</td>\n",
              "      <td>10.232078</td>\n",
              "    </tr>\n",
              "  </tbody>\n",
              "</table>\n",
              "</div>\n",
              "      <button class=\"colab-df-convert\" onclick=\"convertToInteractive('df-fea18cd0-3b5b-4cd0-98da-967c49610065')\"\n",
              "              title=\"Convert this dataframe to an interactive table.\"\n",
              "              style=\"display:none;\">\n",
              "        \n",
              "  <svg xmlns=\"http://www.w3.org/2000/svg\" height=\"24px\"viewBox=\"0 0 24 24\"\n",
              "       width=\"24px\">\n",
              "    <path d=\"M0 0h24v24H0V0z\" fill=\"none\"/>\n",
              "    <path d=\"M18.56 5.44l.94 2.06.94-2.06 2.06-.94-2.06-.94-.94-2.06-.94 2.06-2.06.94zm-11 1L8.5 8.5l.94-2.06 2.06-.94-2.06-.94L8.5 2.5l-.94 2.06-2.06.94zm10 10l.94 2.06.94-2.06 2.06-.94-2.06-.94-.94-2.06-.94 2.06-2.06.94z\"/><path d=\"M17.41 7.96l-1.37-1.37c-.4-.4-.92-.59-1.43-.59-.52 0-1.04.2-1.43.59L10.3 9.45l-7.72 7.72c-.78.78-.78 2.05 0 2.83L4 21.41c.39.39.9.59 1.41.59.51 0 1.02-.2 1.41-.59l7.78-7.78 2.81-2.81c.8-.78.8-2.07 0-2.86zM5.41 20L4 18.59l7.72-7.72 1.47 1.35L5.41 20z\"/>\n",
              "  </svg>\n",
              "      </button>\n",
              "      \n",
              "  <style>\n",
              "    .colab-df-container {\n",
              "      display:flex;\n",
              "      flex-wrap:wrap;\n",
              "      gap: 12px;\n",
              "    }\n",
              "\n",
              "    .colab-df-convert {\n",
              "      background-color: #E8F0FE;\n",
              "      border: none;\n",
              "      border-radius: 50%;\n",
              "      cursor: pointer;\n",
              "      display: none;\n",
              "      fill: #1967D2;\n",
              "      height: 32px;\n",
              "      padding: 0 0 0 0;\n",
              "      width: 32px;\n",
              "    }\n",
              "\n",
              "    .colab-df-convert:hover {\n",
              "      background-color: #E2EBFA;\n",
              "      box-shadow: 0px 1px 2px rgba(60, 64, 67, 0.3), 0px 1px 3px 1px rgba(60, 64, 67, 0.15);\n",
              "      fill: #174EA6;\n",
              "    }\n",
              "\n",
              "    [theme=dark] .colab-df-convert {\n",
              "      background-color: #3B4455;\n",
              "      fill: #D2E3FC;\n",
              "    }\n",
              "\n",
              "    [theme=dark] .colab-df-convert:hover {\n",
              "      background-color: #434B5C;\n",
              "      box-shadow: 0px 1px 3px 1px rgba(0, 0, 0, 0.15);\n",
              "      filter: drop-shadow(0px 1px 2px rgba(0, 0, 0, 0.3));\n",
              "      fill: #FFFFFF;\n",
              "    }\n",
              "  </style>\n",
              "\n",
              "      <script>\n",
              "        const buttonEl =\n",
              "          document.querySelector('#df-fea18cd0-3b5b-4cd0-98da-967c49610065 button.colab-df-convert');\n",
              "        buttonEl.style.display =\n",
              "          google.colab.kernel.accessAllowed ? 'block' : 'none';\n",
              "\n",
              "        async function convertToInteractive(key) {\n",
              "          const element = document.querySelector('#df-fea18cd0-3b5b-4cd0-98da-967c49610065');\n",
              "          const dataTable =\n",
              "            await google.colab.kernel.invokeFunction('convertToInteractive',\n",
              "                                                     [key], {});\n",
              "          if (!dataTable) return;\n",
              "\n",
              "          const docLinkHtml = 'Like what you see? Visit the ' +\n",
              "            '<a target=\"_blank\" href=https://colab.research.google.com/notebooks/data_table.ipynb>data table notebook</a>'\n",
              "            + ' to learn more about interactive tables.';\n",
              "          element.innerHTML = '';\n",
              "          dataTable['output_type'] = 'display_data';\n",
              "          await google.colab.output.renderOutput(dataTable, element);\n",
              "          const docLink = document.createElement('div');\n",
              "          docLink.innerHTML = docLinkHtml;\n",
              "          element.appendChild(docLink);\n",
              "        }\n",
              "      </script>\n",
              "    </div>\n",
              "  </div>\n",
              "  "
            ]
          },
          "metadata": {},
          "execution_count": 51
        }
      ]
    },
    {
      "cell_type": "markdown",
      "source": [
        "### Words pushing $\\rightarrow$ East: higher lon"
      ],
      "metadata": {
        "id": "Ej4pBRoejAOg"
      }
    },
    {
      "cell_type": "code",
      "source": [
        "importance_pd.sort_values(by=\"lon\", ascending=False).head(5)"
      ],
      "metadata": {
        "colab": {
          "base_uri": "https://localhost:8080/",
          "height": 206
        },
        "id": "pvlr5xAnhleJ",
        "outputId": "c41783fe-b6fa-4925-a9c6-194fef542e87"
      },
      "execution_count": null,
      "outputs": [
        {
          "output_type": "execute_result",
          "data": {
            "text/plain": [
              "    feature       lat        lon\n",
              "660      τζ -4.194842  11.198418\n",
              "661    τζαί -4.178670  11.034529\n",
              "662    τζαι -4.120807  10.672089\n",
              "664     τζι -3.824136  10.232078\n",
              "233      εμ -2.805806   7.284577"
            ],
            "text/html": [
              "\n",
              "  <div id=\"df-1125d24b-b352-44b3-955a-9721aadefc87\">\n",
              "    <div class=\"colab-df-container\">\n",
              "      <div>\n",
              "<style scoped>\n",
              "    .dataframe tbody tr th:only-of-type {\n",
              "        vertical-align: middle;\n",
              "    }\n",
              "\n",
              "    .dataframe tbody tr th {\n",
              "        vertical-align: top;\n",
              "    }\n",
              "\n",
              "    .dataframe thead th {\n",
              "        text-align: right;\n",
              "    }\n",
              "</style>\n",
              "<table border=\"1\" class=\"dataframe\">\n",
              "  <thead>\n",
              "    <tr style=\"text-align: right;\">\n",
              "      <th></th>\n",
              "      <th>feature</th>\n",
              "      <th>lat</th>\n",
              "      <th>lon</th>\n",
              "    </tr>\n",
              "  </thead>\n",
              "  <tbody>\n",
              "    <tr>\n",
              "      <th>660</th>\n",
              "      <td>τζ</td>\n",
              "      <td>-4.194842</td>\n",
              "      <td>11.198418</td>\n",
              "    </tr>\n",
              "    <tr>\n",
              "      <th>661</th>\n",
              "      <td>τζαί</td>\n",
              "      <td>-4.178670</td>\n",
              "      <td>11.034529</td>\n",
              "    </tr>\n",
              "    <tr>\n",
              "      <th>662</th>\n",
              "      <td>τζαι</td>\n",
              "      <td>-4.120807</td>\n",
              "      <td>10.672089</td>\n",
              "    </tr>\n",
              "    <tr>\n",
              "      <th>664</th>\n",
              "      <td>τζι</td>\n",
              "      <td>-3.824136</td>\n",
              "      <td>10.232078</td>\n",
              "    </tr>\n",
              "    <tr>\n",
              "      <th>233</th>\n",
              "      <td>εμ</td>\n",
              "      <td>-2.805806</td>\n",
              "      <td>7.284577</td>\n",
              "    </tr>\n",
              "  </tbody>\n",
              "</table>\n",
              "</div>\n",
              "      <button class=\"colab-df-convert\" onclick=\"convertToInteractive('df-1125d24b-b352-44b3-955a-9721aadefc87')\"\n",
              "              title=\"Convert this dataframe to an interactive table.\"\n",
              "              style=\"display:none;\">\n",
              "        \n",
              "  <svg xmlns=\"http://www.w3.org/2000/svg\" height=\"24px\"viewBox=\"0 0 24 24\"\n",
              "       width=\"24px\">\n",
              "    <path d=\"M0 0h24v24H0V0z\" fill=\"none\"/>\n",
              "    <path d=\"M18.56 5.44l.94 2.06.94-2.06 2.06-.94-2.06-.94-.94-2.06-.94 2.06-2.06.94zm-11 1L8.5 8.5l.94-2.06 2.06-.94-2.06-.94L8.5 2.5l-.94 2.06-2.06.94zm10 10l.94 2.06.94-2.06 2.06-.94-2.06-.94-.94-2.06-.94 2.06-2.06.94z\"/><path d=\"M17.41 7.96l-1.37-1.37c-.4-.4-.92-.59-1.43-.59-.52 0-1.04.2-1.43.59L10.3 9.45l-7.72 7.72c-.78.78-.78 2.05 0 2.83L4 21.41c.39.39.9.59 1.41.59.51 0 1.02-.2 1.41-.59l7.78-7.78 2.81-2.81c.8-.78.8-2.07 0-2.86zM5.41 20L4 18.59l7.72-7.72 1.47 1.35L5.41 20z\"/>\n",
              "  </svg>\n",
              "      </button>\n",
              "      \n",
              "  <style>\n",
              "    .colab-df-container {\n",
              "      display:flex;\n",
              "      flex-wrap:wrap;\n",
              "      gap: 12px;\n",
              "    }\n",
              "\n",
              "    .colab-df-convert {\n",
              "      background-color: #E8F0FE;\n",
              "      border: none;\n",
              "      border-radius: 50%;\n",
              "      cursor: pointer;\n",
              "      display: none;\n",
              "      fill: #1967D2;\n",
              "      height: 32px;\n",
              "      padding: 0 0 0 0;\n",
              "      width: 32px;\n",
              "    }\n",
              "\n",
              "    .colab-df-convert:hover {\n",
              "      background-color: #E2EBFA;\n",
              "      box-shadow: 0px 1px 2px rgba(60, 64, 67, 0.3), 0px 1px 3px 1px rgba(60, 64, 67, 0.15);\n",
              "      fill: #174EA6;\n",
              "    }\n",
              "\n",
              "    [theme=dark] .colab-df-convert {\n",
              "      background-color: #3B4455;\n",
              "      fill: #D2E3FC;\n",
              "    }\n",
              "\n",
              "    [theme=dark] .colab-df-convert:hover {\n",
              "      background-color: #434B5C;\n",
              "      box-shadow: 0px 1px 3px 1px rgba(0, 0, 0, 0.15);\n",
              "      filter: drop-shadow(0px 1px 2px rgba(0, 0, 0, 0.3));\n",
              "      fill: #FFFFFF;\n",
              "    }\n",
              "  </style>\n",
              "\n",
              "      <script>\n",
              "        const buttonEl =\n",
              "          document.querySelector('#df-1125d24b-b352-44b3-955a-9721aadefc87 button.colab-df-convert');\n",
              "        buttonEl.style.display =\n",
              "          google.colab.kernel.accessAllowed ? 'block' : 'none';\n",
              "\n",
              "        async function convertToInteractive(key) {\n",
              "          const element = document.querySelector('#df-1125d24b-b352-44b3-955a-9721aadefc87');\n",
              "          const dataTable =\n",
              "            await google.colab.kernel.invokeFunction('convertToInteractive',\n",
              "                                                     [key], {});\n",
              "          if (!dataTable) return;\n",
              "\n",
              "          const docLinkHtml = 'Like what you see? Visit the ' +\n",
              "            '<a target=\"_blank\" href=https://colab.research.google.com/notebooks/data_table.ipynb>data table notebook</a>'\n",
              "            + ' to learn more about interactive tables.';\n",
              "          element.innerHTML = '';\n",
              "          dataTable['output_type'] = 'display_data';\n",
              "          await google.colab.output.renderOutput(dataTable, element);\n",
              "          const docLink = document.createElement('div');\n",
              "          docLink.innerHTML = docLinkHtml;\n",
              "          element.appendChild(docLink);\n",
              "        }\n",
              "      </script>\n",
              "    </div>\n",
              "  </div>\n",
              "  "
            ]
          },
          "metadata": {},
          "execution_count": 52
        }
      ]
    },
    {
      "cell_type": "markdown",
      "source": [
        "### Words pushing $\\leftarrow$ West: higher lon"
      ],
      "metadata": {
        "id": "0pMF_nAujCqJ"
      }
    },
    {
      "cell_type": "code",
      "source": [
        "importance_pd.sort_values(by=\"lon\", ascending=True).head(5)"
      ],
      "metadata": {
        "colab": {
          "base_uri": "https://localhost:8080/",
          "height": 206
        },
        "id": "AJ2tGPIZh4Qi",
        "outputId": "bb219769-86f2-44d1-872e-4c2c7cad0e8c"
      },
      "execution_count": null,
      "outputs": [
        {
          "output_type": "execute_result",
          "data": {
            "text/plain": [
              "     feature       lat       lon\n",
              "115  βαρβάρα -1.411852 -4.574122\n",
              "702     τσου  0.507616 -4.082944\n",
              "157   γελάει -0.226152 -4.005389\n",
              "466      ναν  0.649680 -3.835402\n",
              "107   αφέντη  0.441481 -3.485066"
            ],
            "text/html": [
              "\n",
              "  <div id=\"df-20dee5a6-daea-45db-b685-02343319c736\">\n",
              "    <div class=\"colab-df-container\">\n",
              "      <div>\n",
              "<style scoped>\n",
              "    .dataframe tbody tr th:only-of-type {\n",
              "        vertical-align: middle;\n",
              "    }\n",
              "\n",
              "    .dataframe tbody tr th {\n",
              "        vertical-align: top;\n",
              "    }\n",
              "\n",
              "    .dataframe thead th {\n",
              "        text-align: right;\n",
              "    }\n",
              "</style>\n",
              "<table border=\"1\" class=\"dataframe\">\n",
              "  <thead>\n",
              "    <tr style=\"text-align: right;\">\n",
              "      <th></th>\n",
              "      <th>feature</th>\n",
              "      <th>lat</th>\n",
              "      <th>lon</th>\n",
              "    </tr>\n",
              "  </thead>\n",
              "  <tbody>\n",
              "    <tr>\n",
              "      <th>115</th>\n",
              "      <td>βαρβάρα</td>\n",
              "      <td>-1.411852</td>\n",
              "      <td>-4.574122</td>\n",
              "    </tr>\n",
              "    <tr>\n",
              "      <th>702</th>\n",
              "      <td>τσου</td>\n",
              "      <td>0.507616</td>\n",
              "      <td>-4.082944</td>\n",
              "    </tr>\n",
              "    <tr>\n",
              "      <th>157</th>\n",
              "      <td>γελάει</td>\n",
              "      <td>-0.226152</td>\n",
              "      <td>-4.005389</td>\n",
              "    </tr>\n",
              "    <tr>\n",
              "      <th>466</th>\n",
              "      <td>ναν</td>\n",
              "      <td>0.649680</td>\n",
              "      <td>-3.835402</td>\n",
              "    </tr>\n",
              "    <tr>\n",
              "      <th>107</th>\n",
              "      <td>αφέντη</td>\n",
              "      <td>0.441481</td>\n",
              "      <td>-3.485066</td>\n",
              "    </tr>\n",
              "  </tbody>\n",
              "</table>\n",
              "</div>\n",
              "      <button class=\"colab-df-convert\" onclick=\"convertToInteractive('df-20dee5a6-daea-45db-b685-02343319c736')\"\n",
              "              title=\"Convert this dataframe to an interactive table.\"\n",
              "              style=\"display:none;\">\n",
              "        \n",
              "  <svg xmlns=\"http://www.w3.org/2000/svg\" height=\"24px\"viewBox=\"0 0 24 24\"\n",
              "       width=\"24px\">\n",
              "    <path d=\"M0 0h24v24H0V0z\" fill=\"none\"/>\n",
              "    <path d=\"M18.56 5.44l.94 2.06.94-2.06 2.06-.94-2.06-.94-.94-2.06-.94 2.06-2.06.94zm-11 1L8.5 8.5l.94-2.06 2.06-.94-2.06-.94L8.5 2.5l-.94 2.06-2.06.94zm10 10l.94 2.06.94-2.06 2.06-.94-2.06-.94-.94-2.06-.94 2.06-2.06.94z\"/><path d=\"M17.41 7.96l-1.37-1.37c-.4-.4-.92-.59-1.43-.59-.52 0-1.04.2-1.43.59L10.3 9.45l-7.72 7.72c-.78.78-.78 2.05 0 2.83L4 21.41c.39.39.9.59 1.41.59.51 0 1.02-.2 1.41-.59l7.78-7.78 2.81-2.81c.8-.78.8-2.07 0-2.86zM5.41 20L4 18.59l7.72-7.72 1.47 1.35L5.41 20z\"/>\n",
              "  </svg>\n",
              "      </button>\n",
              "      \n",
              "  <style>\n",
              "    .colab-df-container {\n",
              "      display:flex;\n",
              "      flex-wrap:wrap;\n",
              "      gap: 12px;\n",
              "    }\n",
              "\n",
              "    .colab-df-convert {\n",
              "      background-color: #E8F0FE;\n",
              "      border: none;\n",
              "      border-radius: 50%;\n",
              "      cursor: pointer;\n",
              "      display: none;\n",
              "      fill: #1967D2;\n",
              "      height: 32px;\n",
              "      padding: 0 0 0 0;\n",
              "      width: 32px;\n",
              "    }\n",
              "\n",
              "    .colab-df-convert:hover {\n",
              "      background-color: #E2EBFA;\n",
              "      box-shadow: 0px 1px 2px rgba(60, 64, 67, 0.3), 0px 1px 3px 1px rgba(60, 64, 67, 0.15);\n",
              "      fill: #174EA6;\n",
              "    }\n",
              "\n",
              "    [theme=dark] .colab-df-convert {\n",
              "      background-color: #3B4455;\n",
              "      fill: #D2E3FC;\n",
              "    }\n",
              "\n",
              "    [theme=dark] .colab-df-convert:hover {\n",
              "      background-color: #434B5C;\n",
              "      box-shadow: 0px 1px 3px 1px rgba(0, 0, 0, 0.15);\n",
              "      filter: drop-shadow(0px 1px 2px rgba(0, 0, 0, 0.3));\n",
              "      fill: #FFFFFF;\n",
              "    }\n",
              "  </style>\n",
              "\n",
              "      <script>\n",
              "        const buttonEl =\n",
              "          document.querySelector('#df-20dee5a6-daea-45db-b685-02343319c736 button.colab-df-convert');\n",
              "        buttonEl.style.display =\n",
              "          google.colab.kernel.accessAllowed ? 'block' : 'none';\n",
              "\n",
              "        async function convertToInteractive(key) {\n",
              "          const element = document.querySelector('#df-20dee5a6-daea-45db-b685-02343319c736');\n",
              "          const dataTable =\n",
              "            await google.colab.kernel.invokeFunction('convertToInteractive',\n",
              "                                                     [key], {});\n",
              "          if (!dataTable) return;\n",
              "\n",
              "          const docLinkHtml = 'Like what you see? Visit the ' +\n",
              "            '<a target=\"_blank\" href=https://colab.research.google.com/notebooks/data_table.ipynb>data table notebook</a>'\n",
              "            + ' to learn more about interactive tables.';\n",
              "          element.innerHTML = '';\n",
              "          dataTable['output_type'] = 'display_data';\n",
              "          await google.colab.output.renderOutput(dataTable, element);\n",
              "          const docLink = document.createElement('div');\n",
              "          docLink.innerHTML = docLinkHtml;\n",
              "          element.appendChild(docLink);\n",
              "        }\n",
              "      </script>\n",
              "    </div>\n",
              "  </div>\n",
              "  "
            ]
          },
          "metadata": {},
          "execution_count": 55
        }
      ]
    }
  ]
}