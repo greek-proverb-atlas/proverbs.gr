{
 "cells": [
  {
   "cell_type": "markdown",
   "metadata": {
    "colab_type": "text",
    "id": "view-in-github"
   },
   "source": [
    "<a href=\"https://colab.research.google.com/github/ipavlopoulos/paremia/blob/main/geolocation.ipynb\" target=\"_parent\"><img src=\"https://colab.research.google.com/assets/colab-badge.svg\" alt=\"Open In Colab\"/></a>"
   ]
  },
  {
   "cell_type": "markdown",
   "metadata": {
    "id": "pxxFvI4TbAKf"
   },
   "source": [
    "# Geolocation prediction of Greek proverbs\n",
    "\n",
    "* Using a collection of proverbs from the [Hellenic Folklore Research Centre](http://www.kentrolaografias.gr/) of the Academy of Athens\n",
    "* Using language modelling and text classification to geolocate proverbs whose information is not known.\n",
    "---\n"
   ]
  },
  {
   "cell_type": "code",
   "execution_count": 1,
   "metadata": {
    "id": "dQm9rqoXb9v8"
   },
   "outputs": [],
   "source": [
    "import pandas as pd\n",
    "import matplotlib.pyplot as plt\n",
    "import numpy as np\n",
    "import seaborn as sns\n",
    "from sklearn.model_selection import train_test_split\n",
    "from sklearn.metrics import *\n",
    "from sklearn.linear_model import LinearRegression, LogisticRegression\n",
    "from sklearn.neighbors import KNeighborsClassifier\n",
    "from sklearn.svm import LinearSVC\n",
    "from sklearn.ensemble import RandomForestClassifier\n",
    "from sklearn.feature_extraction.text import TfidfVectorizer\n",
    "from sklearn.pipeline import Pipeline\n",
    "\n",
    "import ast"
   ]
  },
  {
   "cell_type": "code",
   "execution_count": 2,
   "metadata": {
    "id": "XyQd70ImcrzX"
   },
   "outputs": [],
   "source": [
    "balanced_corpus = pd.read_csv(\"data/balanced_corpus.csv\", index_col=0)"
   ]
  },
  {
   "cell_type": "code",
   "execution_count": 3,
   "metadata": {
    "id": "eQjj2Lcgapux"
   },
   "outputs": [],
   "source": [
    "train, test = train_test_split(balanced_corpus, test_size=0.05, random_state=2023)\n",
    "train, dev = train_test_split(train, test_size=test.shape[0], random_state=2023)"
   ]
  },
  {
   "cell_type": "markdown",
   "metadata": {
    "id": "lT8WZYricW2D"
   },
   "source": [
    "## Authorship analysis\n"
   ]
  },
  {
   "cell_type": "code",
   "execution_count": 4,
   "metadata": {
    "id": "gmvhu05PcSUh"
   },
   "outputs": [],
   "source": [
    "%%capture\n",
    "!git clone https://github.com/ipavlopoulos/lm\n",
    "from lm.markov.models import LM"
   ]
  },
  {
   "cell_type": "markdown",
   "metadata": {
    "id": "DN0RXWb4cchP"
   },
   "source": [
    "* Training one language model per area, by sampling proverbs of that area"
   ]
  },
  {
   "cell_type": "code",
   "execution_count": 5,
   "metadata": {
    "id": "aq3fGpgPcUAm"
   },
   "outputs": [],
   "source": [
    "# building the local language models\n",
    "loc_name = {'Ρούμελη':'Roumeli', 'Κοζάνη':'Kozani', 'Κως':'Kos', 'Αδριανούπολη':'Adrian.', 'Νάουσα':'Naousa', 'Σέρρες':'Serres', 'Σίφνος': 'Sifnos', 'Ήπειρος':'Epirus', 'Αιτωλία':'Etolia', 'Αμοργός':'Amorgos', 'Ανατολική Θράκη': 'East Thrace',\n",
    "            'Αρκαδία':'Arcadia', 'Αχαΐα':'Achaia', 'Επτάνησος':'Eptanisos', 'Εύβοια':'Eyvoia', 'Θεσπρωτία':'Thesprotia', \n",
    "             'Θράκη': 'Thrace', 'Ιωάννινα':'Ioannina', 'Κάρπαθος':'Karpathos', 'Κεφαλληνία':'Kefalinia', 'Κρήτη':'Crete',\n",
    "            'Κύπρος':'Cyprus', 'Λέσβος':'Lesvos', 'Λακωνία':'Laconia', 'Μακεδονία':'Maced.', 'Μικρά Ασία':'Asia Minor',\n",
    "            'Νάξος':'Naxos', 'Πόντος':'Pontos', 'Ρόδος':'Rodos', 'Σκύρος':'Skyros'}\n",
    "models = {}\n",
    "for area in train.area.unique():\n",
    "    texts = train[train.area==area].text.values\n",
    "    models[loc_name[area]] = LM(gram=\"CHAR\").train(\" \\n \".join(texts))"
   ]
  },
  {
   "cell_type": "code",
   "execution_count": 6,
   "metadata": {
    "id": "2noxDr3mca4G"
   },
   "outputs": [],
   "source": [
    "def ling_dist(proverb, models=models):\n",
    "    '''\n",
    "    Compute the bits per character (BPC) for a given proverb using many local language models\n",
    "\n",
    "    Args:\n",
    "        proverb (str): a text\n",
    "        models (dict): a dictionary of language models, \n",
    "                       one per location\n",
    "        \n",
    "    Returns:\n",
    "        string: the location whose model predicts best the text \n",
    "        pd.DataFrame: BPC per location    \n",
    "    '''\n",
    "    entropy = {loc:[models[loc].cross_entropy(proverb.lower())] for loc in models.keys()}\n",
    "    likelier = min(entropy, key=entropy.get) \n",
    "    return likelier, pd.DataFrame(entropy)"
   ]
  },
  {
   "cell_type": "code",
   "execution_count": 7,
   "metadata": {
    "colab": {
     "base_uri": "https://localhost:8080/",
     "height": 191
    },
    "id": "eCuazKiJcfR4",
    "outputId": "8baab35f-f59e-474e-eddb-9e9cc6086e89"
   },
   "outputs": [
    {
     "data": {
      "text/html": [
       "<div>\n",
       "<style scoped>\n",
       "    .dataframe tbody tr th:only-of-type {\n",
       "        vertical-align: middle;\n",
       "    }\n",
       "\n",
       "    .dataframe tbody tr th {\n",
       "        vertical-align: top;\n",
       "    }\n",
       "\n",
       "    .dataframe thead th {\n",
       "        text-align: right;\n",
       "    }\n",
       "</style>\n",
       "<table border=\"1\" class=\"dataframe\">\n",
       "  <thead>\n",
       "    <tr style=\"text-align: right;\">\n",
       "      <th></th>\n",
       "      <th>Asia Minor</th>\n",
       "      <th>Ioannina</th>\n",
       "      <th>Karpathos</th>\n",
       "      <th>Crete</th>\n",
       "      <th>Thesprotia</th>\n",
       "      <th>Epirus</th>\n",
       "      <th>Kefalinia</th>\n",
       "      <th>Amorgos</th>\n",
       "      <th>Eptanisos</th>\n",
       "      <th>Cyprus</th>\n",
       "      <th>...</th>\n",
       "      <th>Achaia</th>\n",
       "      <th>Arcadia</th>\n",
       "      <th>Etolia</th>\n",
       "      <th>Pontos</th>\n",
       "      <th>Skyros</th>\n",
       "      <th>East Thrace</th>\n",
       "      <th>Thrace</th>\n",
       "      <th>Maced.</th>\n",
       "      <th>Naxos</th>\n",
       "      <th>Lesvos</th>\n",
       "    </tr>\n",
       "  </thead>\n",
       "  <tbody>\n",
       "    <tr>\n",
       "      <th>0</th>\n",
       "      <td>4.038577</td>\n",
       "      <td>4.313742</td>\n",
       "      <td>4.318077</td>\n",
       "      <td>4.4117</td>\n",
       "      <td>4.430579</td>\n",
       "      <td>4.492731</td>\n",
       "      <td>4.538359</td>\n",
       "      <td>4.863242</td>\n",
       "      <td>5.019258</td>\n",
       "      <td>5.063717</td>\n",
       "      <td>...</td>\n",
       "      <td>5.119214</td>\n",
       "      <td>5.133526</td>\n",
       "      <td>5.15317</td>\n",
       "      <td>5.18501</td>\n",
       "      <td>5.243022</td>\n",
       "      <td>5.250783</td>\n",
       "      <td>5.424325</td>\n",
       "      <td>5.457056</td>\n",
       "      <td>5.671837</td>\n",
       "      <td>6.209453</td>\n",
       "    </tr>\n",
       "  </tbody>\n",
       "</table>\n",
       "<p>1 rows × 23 columns</p>\n",
       "</div>"
      ],
      "text/plain": [
       "   Asia Minor  Ioannina  Karpathos   Crete  Thesprotia    Epirus  Kefalinia  \\\n",
       "0    4.038577  4.313742   4.318077  4.4117    4.430579  4.492731   4.538359   \n",
       "\n",
       "    Amorgos  Eptanisos    Cyprus  ...    Achaia   Arcadia   Etolia   Pontos  \\\n",
       "0  4.863242   5.019258  5.063717  ...  5.119214  5.133526  5.15317  5.18501   \n",
       "\n",
       "     Skyros  East Thrace    Thrace    Maced.     Naxos    Lesvos  \n",
       "0  5.243022     5.250783  5.424325  5.457056  5.671837  6.209453  \n",
       "\n",
       "[1 rows x 23 columns]"
      ]
     },
     "execution_count": 7,
     "metadata": {},
     "output_type": "execute_result"
    }
   ],
   "source": [
    "# use case\n",
    "loc, dists = ling_dist('κακόν χωριόν τσα λίγα σπίτιαν')\n",
    "dists.sort_values(by=0, ascending=True, axis=1)"
   ]
  },
  {
   "cell_type": "code",
   "execution_count": 8,
   "metadata": {
    "id": "CeVg347AchD1"
   },
   "outputs": [],
   "source": [
    "def logprob(txt, mdl):\n",
    "    '''Visualising the (log) probability per character for a given model\n",
    "    \n",
    "    Args:\n",
    "        txt (string): the character sequence\n",
    "        mdl (lm.markov.models.LM): the language model to be used to compute \n",
    "                                   the character probabilities\n",
    "        \n",
    "    Returns:\n",
    "        list: the log probs of the characters in the text \n",
    "    '''\n",
    "    probs = mdl.compute_gram_probs(txt)\n",
    "    logprobs = map(np.log2, probs)\n",
    "    return list(logprobs)\n",
    "\n",
    "\n",
    "def heatmap(txt, models):\n",
    "    ''' Creating a heatmap of the logprobs per local language model for a given text\n",
    "\n",
    "    Args:\n",
    "        txt (string): the text in question\n",
    "        models (dict): the language models (lm.markov.models.LM) to use to score the text\n",
    "        \n",
    "    Returns:\n",
    "        pd.DataFrame: the dataframe with the models' scores\n",
    "        ax: the heatmap\n",
    "    '''\n",
    "    plt.rcParams[\"figure.figsize\"] = (len(txt)/3,6); plt.rcParams[\"axes.labelsize\"] = 23;\n",
    "    probs = {loc: logprob(txt, models[loc]) for loc in models.keys()}\n",
    "    df = pd.DataFrame(probs, index=[str(c) for c in txt])\n",
    "    return df, sns.heatmap(df.transpose(), cmap=\"rocket_r\")"
   ]
  },
  {
   "cell_type": "code",
   "execution_count": 9,
   "metadata": {
    "colab": {
     "base_uri": "https://localhost:8080/",
     "height": 484
    },
    "id": "FuHIBEzrciao",
    "outputId": "a395b787-df36-4695-d6e7-56de885a386c"
   },
   "outputs": [
    {
     "name": "stdout",
     "output_type": "stream",
     "text": [
      "Αχτυπούν του παπά με τα πρόσφορα, τζαι λαλεί, Θεέ μου, τζαι 'ξόρισ' την ορκήσ σου (Κύπρος) -- predicted as: Cyprus\n"
     ]
    },
    {
     "data": {
      "image/png": "[encoded data removed]",
      "text/plain": [
       "<Figure size 2700x600 with 2 Axes>"
      ]
     },
     "metadata": {},
     "output_type": "display_data"
    }
   ],
   "source": [
    "t = test[test.area==\"Κύπρος\"].sample().iloc[0]\n",
    "df, ax = heatmap(t.text, models)\n",
    "print(f'{t.text} ({t.area})', end=' -- ')\n",
    "print(f'predicted as: {df.columns[df.mean(0).argmax()]}')\n",
    "ax.figure.tight_layout(); ax.figure.savefig(\"heatmap.pdf\", format=\"PDF\", dpi=300)"
   ]
  },
  {
   "cell_type": "markdown",
   "metadata": {
    "id": "5Uyu_pMpcyAz"
   },
   "source": [
    "* Evaluating on unseen proverbs"
   ]
  },
  {
   "cell_type": "code",
   "execution_count": 10,
   "metadata": {
    "colab": {
     "base_uri": "https://localhost:8080/"
    },
    "id": "eGOI3UqUcjuv",
    "outputId": "f315a4d1-91b2-4c88-adf8-fefd593752ab"
   },
   "outputs": [
    {
     "name": "stdout",
     "output_type": "stream",
     "text": [
      "              precision    recall  f1-score   support\n",
      "\n",
      "      Achaia       0.14      0.12      0.13        32\n",
      "     Amorgos       0.19      0.14      0.16        22\n",
      "     Arcadia       0.08      0.06      0.07        31\n",
      "  Asia Minor       0.17      0.17      0.17        18\n",
      "       Crete       0.23      0.23      0.23        30\n",
      "      Cyprus       0.73      0.79      0.76        24\n",
      " East Thrace       0.12      0.17      0.14        24\n",
      "      Epirus       0.11      0.13      0.12        23\n",
      "   Eptanisos       0.25      0.35      0.29        23\n",
      "      Etolia       0.40      0.33      0.36        24\n",
      "      Eyvoia       0.07      0.15      0.10        20\n",
      "    Ioannina       0.17      0.14      0.15        29\n",
      "   Karpathos       0.37      0.25      0.30        28\n",
      "   Kefalinia       0.11      0.15      0.13        27\n",
      "     Laconia       0.04      0.04      0.04        27\n",
      "      Lesvos       0.45      0.38      0.41        24\n",
      "      Maced.       0.19      0.19      0.19        27\n",
      "       Naxos       0.34      0.42      0.38        24\n",
      "      Pontos       1.00      0.68      0.81        19\n",
      "       Rodos       0.24      0.27      0.26        22\n",
      "      Skyros       0.58      0.37      0.45        30\n",
      "  Thesprotia       0.08      0.09      0.09        22\n",
      "      Thrace       0.15      0.12      0.13        25\n",
      "\n",
      "    accuracy                           0.24       575\n",
      "   macro avg       0.27      0.25      0.25       575\n",
      "weighted avg       0.26      0.24      0.25       575\n",
      "\n"
     ]
    }
   ],
   "source": [
    "predictions = test.text.apply(lambda x: ling_dist(x, models=models)[0])\n",
    "gold = test.area.apply(lambda x: loc_name[x]).values\n",
    "print(classification_report(gold, predictions, zero_division=0))"
   ]
  },
  {
   "cell_type": "markdown",
   "metadata": {
    "id": "0orVps9Wc4fj"
   },
   "source": [
    "* The confusion matrix can inform us about the confusion in the predictions"
   ]
  },
  {
   "cell_type": "code",
   "execution_count": 11,
   "metadata": {
    "colab": {
     "base_uri": "https://localhost:8080/",
     "height": 607
    },
    "id": "pZVBv05WczgE",
    "outputId": "3008ba4f-0ddd-4039-8680-0f77625d628f"
   },
   "outputs": [
    {
     "data": {
      "image/png": "[encoded data removed]",
      "text/plain": [
       "<Figure size 600x600 with 1 Axes>"
      ]
     },
     "metadata": {},
     "output_type": "display_data"
    }
   ],
   "source": [
    "plt.rcParams[\"figure.figsize\"] = (6,6); plt.rcParams[\"axes.labelsize\"] = 12;\n",
    "cm = ConfusionMatrixDisplay.from_predictions(gold, predictions, xticks_rotation='vertical', colorbar=False);\n",
    "cm.figure_.tight_layout(); cm.figure_.savefig('authorship_confusion.pdf', format=\"PDF\", dpi=300)"
   ]
  },
  {
   "cell_type": "markdown",
   "metadata": {
    "id": "hrA3eHTRc9qT"
   },
   "source": [
    "* Benchmarking standard text classifiers, on top of chanracter n-grams"
   ]
  },
  {
   "cell_type": "code",
   "execution_count": 12,
   "metadata": {
    "colab": {
     "base_uri": "https://localhost:8080/"
    },
    "id": "15kPTs9tc5_G",
    "outputId": "a94bd6bc-41bf-41d3-9bbe-b36dc857ab17"
   },
   "outputs": [
    {
     "name": "stdout",
     "output_type": "stream",
     "text": [
      "n-gram: \"ία\" \t(tfidf: 0.21)\n",
      "n-gram: \"αρ\" \t(tfidf: 0.12)\n",
      "n-gram: \"αρο\" \t(tfidf: 0.21)\n",
      "n-gram: \"αροι\" \t(tfidf: 0.37)\n",
      "n-gram: \"ιμ\" \t(tfidf: 0.19)\n",
      "n-gram: \"ιμί\" \t(tfidf: 0.33)\n",
      "n-gram: \"ιμία\" \t(tfidf: 0.38)\n",
      "n-gram: \"μί\" \t(tfidf: 0.21)\n",
      "n-gram: \"μία\" \t(tfidf: 0.30)\n",
      "n-gram: \"οι\" \t(tfidf: 0.13)\n",
      "n-gram: \"οιμ\" \t(tfidf: 0.28)\n",
      "n-gram: \"πα\" \t(tfidf: 0.11)\n",
      "n-gram: \"παρ\" \t(tfidf: 0.18)\n",
      "n-gram: \"παρο\" \t(tfidf: 0.36)\n",
      "n-gram: \"ρο\" \t(tfidf: 0.12)\n",
      "n-gram: \"ροι\" \t(tfidf: 0.26)\n"
     ]
    }
   ],
   "source": [
    "vect = TfidfVectorizer(ngram_range=(2,5), # token sequences\n",
    "                       analyzer=\"char\", # tokens are characters\n",
    "                       max_df=0.5, # ignore tokens present in more than 50% of the texts\n",
    "                       min_df=2, # ignore tokens not present in at least two documents \n",
    "                       lowercase=True)\n",
    "vect.fit(train.text.values)\n",
    "rep_t = vect.transform(['παροιμία'])\n",
    "for i, feat in enumerate(rep_t.toarray()[0]):\n",
    "    if feat>0:\n",
    "        print(f'n-gram: \"{vect.get_feature_names_out()[i]}\" \\t(tfidf: {feat:.2f})')"
   ]
  },
  {
   "cell_type": "code",
   "execution_count": 13,
   "metadata": {
    "colab": {
     "base_uri": "https://localhost:8080/"
    },
    "id": "-2-kNvMwdIYJ",
    "outputId": "ff82bb65-84a2-45db-e652-2c2db0c410df"
   },
   "outputs": [
    {
     "name": "stdout",
     "output_type": "stream",
     "text": [
      "SVM\n",
      "                 precision    recall  f1-score   support\n",
      "\n",
      "        Ήπειρος       0.09      0.09      0.09        23\n",
      "        Αιτωλία       0.42      0.46      0.44        24\n",
      "        Αμοργός       0.26      0.32      0.29        22\n",
      "Ανατολική Θράκη       0.19      0.25      0.22        24\n",
      "        Αρκαδία       0.11      0.10      0.10        31\n",
      "          Αχαΐα       0.31      0.25      0.28        32\n",
      "      Επτάνησος       0.47      0.70      0.56        23\n",
      "         Εύβοια       0.06      0.05      0.05        20\n",
      "      Θεσπρωτία       0.11      0.09      0.10        22\n",
      "          Θράκη       0.26      0.20      0.23        25\n",
      "       Ιωάννινα       0.26      0.17      0.21        29\n",
      "       Κάρπαθος       0.42      0.39      0.41        28\n",
      "     Κεφαλληνία       0.25      0.22      0.24        27\n",
      "          Κρήτη       0.36      0.33      0.34        30\n",
      "         Κύπρος       0.70      0.96      0.81        24\n",
      "         Λέσβος       0.45      0.54      0.49        24\n",
      "        Λακωνία       0.10      0.07      0.09        27\n",
      "      Μακεδονία       0.35      0.30      0.32        27\n",
      "     Μικρά Ασία       0.20      0.11      0.14        18\n",
      "          Νάξος       0.44      0.58      0.50        24\n",
      "         Πόντος       0.73      0.84      0.78        19\n",
      "          Ρόδος       0.28      0.32      0.30        22\n",
      "         Σκύρος       0.54      0.63      0.58        30\n",
      "\n",
      "       accuracy                           0.34       575\n",
      "      macro avg       0.32      0.35      0.33       575\n",
      "   weighted avg       0.32      0.34      0.33       575\n",
      "\n",
      "KNN\n",
      "                 precision    recall  f1-score   support\n",
      "\n",
      "        Ήπειρος       0.06      0.22      0.09        23\n",
      "        Αιτωλία       0.21      0.42      0.28        24\n",
      "        Αμοργός       0.08      0.23      0.12        22\n",
      "Ανατολική Θράκη       0.06      0.12      0.08        24\n",
      "        Αρκαδία       0.14      0.19      0.16        31\n",
      "          Αχαΐα       0.22      0.22      0.22        32\n",
      "      Επτάνησος       0.20      0.17      0.19        23\n",
      "         Εύβοια       0.04      0.05      0.04        20\n",
      "      Θεσπρωτία       0.06      0.05      0.05        22\n",
      "          Θράκη       0.09      0.08      0.09        25\n",
      "       Ιωάννινα       0.25      0.14      0.18        29\n",
      "       Κάρπαθος       0.17      0.07      0.10        28\n",
      "     Κεφαλληνία       0.08      0.04      0.05        27\n",
      "          Κρήτη       0.29      0.13      0.18        30\n",
      "         Κύπρος       0.50      0.38      0.43        24\n",
      "         Λέσβος       0.56      0.38      0.45        24\n",
      "        Λακωνία       0.08      0.04      0.05        27\n",
      "      Μακεδονία       0.19      0.11      0.14        27\n",
      "     Μικρά Ασία       0.00      0.00      0.00        18\n",
      "          Νάξος       0.44      0.17      0.24        24\n",
      "         Πόντος       0.75      0.47      0.58        19\n",
      "          Ρόδος       0.27      0.14      0.18        22\n",
      "         Σκύρος       0.78      0.23      0.36        30\n",
      "\n",
      "       accuracy                           0.17       575\n",
      "      macro avg       0.24      0.18      0.19       575\n",
      "   weighted avg       0.24      0.17      0.19       575\n",
      "\n",
      "Forest\n",
      "                 precision    recall  f1-score   support\n",
      "\n",
      "        Ήπειρος       0.18      0.26      0.21        23\n",
      "        Αιτωλία       0.25      0.46      0.32        24\n",
      "        Αμοργός       0.07      0.09      0.08        22\n",
      "Ανατολική Θράκη       0.11      0.17      0.13        24\n",
      "        Αρκαδία       0.27      0.23      0.25        31\n",
      "          Αχαΐα       0.32      0.25      0.28        32\n",
      "      Επτάνησος       0.27      0.30      0.29        23\n",
      "         Εύβοια       0.08      0.05      0.06        20\n",
      "      Θεσπρωτία       0.10      0.05      0.06        22\n",
      "          Θράκη       0.26      0.32      0.29        25\n",
      "       Ιωάννινα       0.24      0.21      0.22        29\n",
      "       Κάρπαθος       0.45      0.32      0.38        28\n",
      "     Κεφαλληνία       0.12      0.15      0.14        27\n",
      "          Κρήτη       0.44      0.27      0.33        30\n",
      "         Κύπρος       0.57      0.83      0.68        24\n",
      "         Λέσβος       0.48      0.58      0.53        24\n",
      "        Λακωνία       0.25      0.11      0.15        27\n",
      "      Μακεδονία       0.36      0.15      0.21        27\n",
      "     Μικρά Ασία       0.15      0.11      0.13        18\n",
      "          Νάξος       0.43      0.38      0.40        24\n",
      "         Πόντος       0.48      0.74      0.58        19\n",
      "          Ρόδος       0.32      0.27      0.29        22\n",
      "         Σκύρος       0.57      0.70      0.63        30\n",
      "\n",
      "       accuracy                           0.30       575\n",
      "      macro avg       0.29      0.30      0.29       575\n",
      "   weighted avg       0.30      0.30      0.29       575\n",
      "\n",
      "LR\n",
      "                 precision    recall  f1-score   support\n",
      "\n",
      "        Ήπειρος       0.20      0.22      0.21        23\n",
      "        Αιτωλία       0.36      0.58      0.44        24\n",
      "        Αμοργός       0.13      0.18      0.15        22\n",
      "Ανατολική Θράκη       0.16      0.21      0.18        24\n",
      "        Αρκαδία       0.20      0.16      0.18        31\n",
      "          Αχαΐα       0.39      0.22      0.28        32\n",
      "      Επτάνησος       0.34      0.65      0.45        23\n",
      "         Εύβοια       0.06      0.05      0.05        20\n",
      "      Θεσπρωτία       0.05      0.05      0.05        22\n",
      "          Θράκη       0.25      0.16      0.20        25\n",
      "       Ιωάννινα       0.30      0.21      0.24        29\n",
      "       Κάρπαθος       0.40      0.29      0.33        28\n",
      "     Κεφαλληνία       0.14      0.11      0.12        27\n",
      "          Κρήτη       0.35      0.27      0.30        30\n",
      "         Κύπρος       0.72      0.75      0.73        24\n",
      "         Λέσβος       0.41      0.58      0.48        24\n",
      "        Λακωνία       0.12      0.07      0.09        27\n",
      "      Μακεδονία       0.37      0.26      0.30        27\n",
      "     Μικρά Ασία       0.00      0.00      0.00        18\n",
      "          Νάξος       0.31      0.46      0.37        24\n",
      "         Πόντος       0.71      0.79      0.75        19\n",
      "          Ρόδος       0.26      0.23      0.24        22\n",
      "         Σκύρος       0.45      0.60      0.51        30\n",
      "\n",
      "       accuracy                           0.31       575\n",
      "      macro avg       0.29      0.31      0.29       575\n",
      "   weighted avg       0.30      0.31      0.29       575\n",
      "\n"
     ]
    }
   ],
   "source": [
    "# benchmarking text classification algorithms\n",
    "def benchmark_clf(train, dev):\n",
    "    for algo_name, algorithm in (('SVM', LinearSVC), \n",
    "                                 ('KNN', KNeighborsClassifier),\n",
    "                                 ('Forest', RandomForestClassifier), \n",
    "                                 ('LR', LogisticRegression)):\n",
    "        vect = TfidfVectorizer(ngram_range=(2,5), analyzer=\"char\", max_df=0.5, min_df=2, lowercase=True)\n",
    "        locator = Pipeline([('vect', vect), ('clf', algorithm())]) \n",
    "        locator.fit(train.text.values, train.area.values) \n",
    "        preds = locator.predict(test.text.values) \n",
    "        print(f'{algo_name}\\n{classification_report(test.area.values, preds)}')\n",
    "\n",
    "benchmark_clf(train, dev)"
   ]
  },
  {
   "cell_type": "code",
   "execution_count": 14,
   "metadata": {
    "colab": {
     "base_uri": "https://localhost:8080/"
    },
    "id": "pg2_g8Sflfns",
    "outputId": "f0db68de-9b19-467d-a0a9-74c7e349d166"
   },
   "outputs": [
    {
     "name": "stdout",
     "output_type": "stream",
     "text": [
      "                 precision    recall  f1-score   support\n",
      "\n",
      "        Ήπειρος       0.09      0.09      0.09        23\n",
      "        Αιτωλία       0.42      0.46      0.44        24\n",
      "        Αμοργός       0.26      0.32      0.29        22\n",
      "Ανατολική Θράκη       0.19      0.25      0.22        24\n",
      "        Αρκαδία       0.11      0.10      0.10        31\n",
      "          Αχαΐα       0.31      0.25      0.28        32\n",
      "      Επτάνησος       0.47      0.70      0.56        23\n",
      "         Εύβοια       0.06      0.05      0.05        20\n",
      "      Θεσπρωτία       0.11      0.09      0.10        22\n",
      "          Θράκη       0.26      0.20      0.23        25\n",
      "       Ιωάννινα       0.26      0.17      0.21        29\n",
      "       Κάρπαθος       0.42      0.39      0.41        28\n",
      "     Κεφαλληνία       0.25      0.22      0.24        27\n",
      "          Κρήτη       0.36      0.33      0.34        30\n",
      "         Κύπρος       0.70      0.96      0.81        24\n",
      "         Λέσβος       0.45      0.54      0.49        24\n",
      "        Λακωνία       0.10      0.07      0.09        27\n",
      "      Μακεδονία       0.35      0.30      0.32        27\n",
      "     Μικρά Ασία       0.20      0.11      0.14        18\n",
      "          Νάξος       0.44      0.58      0.50        24\n",
      "         Πόντος       0.73      0.84      0.78        19\n",
      "          Ρόδος       0.28      0.32      0.30        22\n",
      "         Σκύρος       0.54      0.63      0.58        30\n",
      "\n",
      "       accuracy                           0.34       575\n",
      "      macro avg       0.32      0.35      0.33       575\n",
      "   weighted avg       0.32      0.34      0.33       575\n",
      "\n"
     ]
    }
   ],
   "source": [
    "# inference on test data:\n",
    "predictor_clf = Pipeline([('vect', vect), ('clf', LinearSVC())]) \n",
    "predictor_clf.fit(train.text.values, train.area.values) \n",
    "predictions_clf = predictor_clf.predict(test.text.values) \n",
    "print(classification_report(test.area.values, predictions_clf))"
   ]
  },
  {
   "cell_type": "markdown",
   "metadata": {
    "id": "I-12RHKwd6Fa"
   },
   "source": [
    "## Predicting the location of proverbs\n",
    "* Focusing on ones which are shared in multiple locations"
   ]
  },
  {
   "cell_type": "code",
   "execution_count": 15,
   "metadata": {
    "id": "ZMK3gOrQeiMK",
    "outputId": "9ce3b15f-1fe3-4be3-b3a9-9fb086b7187f"
   },
   "outputs": [
    {
     "data": {
      "text/html": [
       "<div>\n",
       "<style scoped>\n",
       "    .dataframe tbody tr th:only-of-type {\n",
       "        vertical-align: middle;\n",
       "    }\n",
       "\n",
       "    .dataframe tbody tr th {\n",
       "        vertical-align: top;\n",
       "    }\n",
       "\n",
       "    .dataframe thead th {\n",
       "        text-align: right;\n",
       "    }\n",
       "</style>\n",
       "<table border=\"1\" class=\"dataframe\">\n",
       "  <thead>\n",
       "    <tr style=\"text-align: right;\">\n",
       "      <th></th>\n",
       "      <th>text</th>\n",
       "      <th>place</th>\n",
       "      <th>place_num</th>\n",
       "      <th>area</th>\n",
       "      <th>area_num</th>\n",
       "      <th>latlon</th>\n",
       "    </tr>\n",
       "  </thead>\n",
       "  <tbody>\n",
       "    <tr>\n",
       "      <th>0</th>\n",
       "      <td>(Ε)πήρε βάγια</td>\n",
       "      <td>{Ήπειρος, Λακωνία}</td>\n",
       "      <td>2</td>\n",
       "      <td>{Ήπειρος, Λακωνία}</td>\n",
       "      <td>2</td>\n",
       "      <td>[(37.9574332, 23.7108518), (36.76027945, 22.79...</td>\n",
       "    </tr>\n",
       "    <tr>\n",
       "      <th>1</th>\n",
       "      <td>Άβολος ο νους, διπλός ο κόπος</td>\n",
       "      <td>{Μικρά Ασία&gt;Τσεσμές (Κρήνη), Νίσυρος}</td>\n",
       "      <td>2</td>\n",
       "      <td>{Μικρά Ασία, Νίσυρος}</td>\n",
       "      <td>2</td>\n",
       "      <td>[(36.58904575, 27.16918402255752), (38.1846366...</td>\n",
       "    </tr>\n",
       "    <tr>\n",
       "      <th>2</th>\n",
       "      <td>Άβουλος νους διπλός κόπος</td>\n",
       "      <td>{Θράκη&gt;Αίνος, Θήρα (Σαντορίνη)}</td>\n",
       "      <td>2</td>\n",
       "      <td>{Θράκη, Θήρα (Σαντορίνη)}</td>\n",
       "      <td>2</td>\n",
       "      <td>[(40.8464241, 25.8759377), (36.4044251, 25.395...</td>\n",
       "    </tr>\n",
       "    <tr>\n",
       "      <th>3</th>\n",
       "      <td>Άβουλος νους, διπλός ο κόπος</td>\n",
       "      <td>{Ρόδος, Αμοργός, Κρήτη}</td>\n",
       "      <td>3</td>\n",
       "      <td>{Ρόδος, Αμοργός, Κρήτη}</td>\n",
       "      <td>3</td>\n",
       "      <td>[(36.85252415, 25.89848696771565), (35.3084952...</td>\n",
       "    </tr>\n",
       "    <tr>\n",
       "      <th>4</th>\n",
       "      <td>Άβουλος ο νους διπλός ο κόπος</td>\n",
       "      <td>{Σάμος&gt;Μαραθόκαμπος, Ήπειρος&gt;Τσαμαντάς, Ρόδος,...</td>\n",
       "      <td>5</td>\n",
       "      <td>{Ρόδος, Θράκη, Σάμος, Ήπειρος}</td>\n",
       "      <td>4</td>\n",
       "      <td>[(40.8464241, 25.8759377), (37.9574332, 23.710...</td>\n",
       "    </tr>\n",
       "    <tr>\n",
       "      <th>...</th>\n",
       "      <td>...</td>\n",
       "      <td>...</td>\n",
       "      <td>...</td>\n",
       "      <td>...</td>\n",
       "      <td>...</td>\n",
       "      <td>...</td>\n",
       "    </tr>\n",
       "    <tr>\n",
       "      <th>3199</th>\n",
       "      <td>ο παθός, μαθός</td>\n",
       "      <td>{Αργολίδα&gt;Σχοινοχώρι, Λέρος}</td>\n",
       "      <td>2</td>\n",
       "      <td>{Αργολίδα, Λέρος}</td>\n",
       "      <td>2</td>\n",
       "      <td>[(37.56626615, 22.85593894780862), (37.1494507...</td>\n",
       "    </tr>\n",
       "    <tr>\n",
       "      <th>3200</th>\n",
       "      <td>πονάει το δόντι</td>\n",
       "      <td>{Θεσσαλία&gt;Τρίκαλα, Φωκίδα}</td>\n",
       "      <td>2</td>\n",
       "      <td>{Θεσσαλία, Φωκίδα}</td>\n",
       "      <td>2</td>\n",
       "      <td>[(38.4998681, 22.24878032919352), (39.5594194,...</td>\n",
       "    </tr>\n",
       "    <tr>\n",
       "      <th>3201</th>\n",
       "      <td>που Πάτρα, που Φλομίτσι!</td>\n",
       "      <td>{Μεσσηνία&gt;Αβία&gt;Κάμπος, Μάνη&gt;Αβία}</td>\n",
       "      <td>2</td>\n",
       "      <td>{Μεσσηνία, Μάνη}</td>\n",
       "      <td>2</td>\n",
       "      <td>[(36.986899050000005, 21.82712495001949), (41....</td>\n",
       "    </tr>\n",
       "    <tr>\n",
       "      <th>3202</th>\n",
       "      <td>τού έδειξε τα δόντια</td>\n",
       "      <td>{Εύβοια, Αρκαδία&gt;Τεγέα}</td>\n",
       "      <td>2</td>\n",
       "      <td>{Εύβοια, Αρκαδία}</td>\n",
       "      <td>2</td>\n",
       "      <td>[(38.0368583, 23.6689264), (38.49417235, 23.91...</td>\n",
       "    </tr>\n",
       "    <tr>\n",
       "      <th>3203</th>\n",
       "      <td>τού'δειξε τα δόντια</td>\n",
       "      <td>{Μεσσηνία&gt;Ζέγα, Λακωνία&gt;Αναβρυτή}</td>\n",
       "      <td>2</td>\n",
       "      <td>{Μεσσηνία, Λακωνία}</td>\n",
       "      <td>2</td>\n",
       "      <td>[(36.986899050000005, 21.82712495001949), (36....</td>\n",
       "    </tr>\n",
       "  </tbody>\n",
       "</table>\n",
       "<p>3204 rows × 6 columns</p>\n",
       "</div>"
      ],
      "text/plain": [
       "                               text  \\\n",
       "0                     (Ε)πήρε βάγια   \n",
       "1     Άβολος ο νους, διπλός ο κόπος   \n",
       "2         Άβουλος νους διπλός κόπος   \n",
       "3      Άβουλος νους, διπλός ο κόπος   \n",
       "4     Άβουλος ο νους διπλός ο κόπος   \n",
       "...                             ...   \n",
       "3199                 ο παθός, μαθός   \n",
       "3200                πονάει το δόντι   \n",
       "3201       που Πάτρα, που Φλομίτσι!   \n",
       "3202           τού έδειξε τα δόντια   \n",
       "3203            τού'δειξε τα δόντια   \n",
       "\n",
       "                                                  place  place_num  \\\n",
       "0                                    {Ήπειρος, Λακωνία}          2   \n",
       "1                 {Μικρά Ασία>Τσεσμές (Κρήνη), Νίσυρος}          2   \n",
       "2                       {Θράκη>Αίνος, Θήρα (Σαντορίνη)}          2   \n",
       "3                               {Ρόδος, Αμοργός, Κρήτη}          3   \n",
       "4     {Σάμος>Μαραθόκαμπος, Ήπειρος>Τσαμαντάς, Ρόδος,...          5   \n",
       "...                                                 ...        ...   \n",
       "3199                       {Αργολίδα>Σχοινοχώρι, Λέρος}          2   \n",
       "3200                         {Θεσσαλία>Τρίκαλα, Φωκίδα}          2   \n",
       "3201                  {Μεσσηνία>Αβία>Κάμπος, Μάνη>Αβία}          2   \n",
       "3202                            {Εύβοια, Αρκαδία>Τεγέα}          2   \n",
       "3203                  {Μεσσηνία>Ζέγα, Λακωνία>Αναβρυτή}          2   \n",
       "\n",
       "                                area  area_num  \\\n",
       "0                 {Ήπειρος, Λακωνία}         2   \n",
       "1              {Μικρά Ασία, Νίσυρος}         2   \n",
       "2          {Θράκη, Θήρα (Σαντορίνη)}         2   \n",
       "3            {Ρόδος, Αμοργός, Κρήτη}         3   \n",
       "4     {Ρόδος, Θράκη, Σάμος, Ήπειρος}         4   \n",
       "...                              ...       ...   \n",
       "3199               {Αργολίδα, Λέρος}         2   \n",
       "3200              {Θεσσαλία, Φωκίδα}         2   \n",
       "3201                {Μεσσηνία, Μάνη}         2   \n",
       "3202               {Εύβοια, Αρκαδία}         2   \n",
       "3203             {Μεσσηνία, Λακωνία}         2   \n",
       "\n",
       "                                                 latlon  \n",
       "0     [(37.9574332, 23.7108518), (36.76027945, 22.79...  \n",
       "1     [(36.58904575, 27.16918402255752), (38.1846366...  \n",
       "2     [(40.8464241, 25.8759377), (36.4044251, 25.395...  \n",
       "3     [(36.85252415, 25.89848696771565), (35.3084952...  \n",
       "4     [(40.8464241, 25.8759377), (37.9574332, 23.710...  \n",
       "...                                                 ...  \n",
       "3199  [(37.56626615, 22.85593894780862), (37.1494507...  \n",
       "3200  [(38.4998681, 22.24878032919352), (39.5594194,...  \n",
       "3201  [(36.986899050000005, 21.82712495001949), (41....  \n",
       "3202  [(38.0368583, 23.6689264), (38.49417235, 23.91...  \n",
       "3203  [(36.986899050000005, 21.82712495001949), (36....  \n",
       "\n",
       "[3204 rows x 6 columns]"
      ]
     },
     "execution_count": 15,
     "metadata": {},
     "output_type": "execute_result"
    }
   ],
   "source": [
    "duplicates = pd.read_csv('data/duplicates_geolocated.csv')\n",
    "duplicates['place'] = duplicates['place'].apply(ast.literal_eval)\n",
    "duplicates['area'] = duplicates['area'].apply(ast.literal_eval)\n",
    "duplicates"
   ]
  },
  {
   "cell_type": "code",
   "execution_count": 16,
   "metadata": {
    "colab": {
     "base_uri": "https://localhost:8080/",
     "height": 368
    },
    "id": "VvgaPQzyd4ii",
    "outputId": "92772be1-e8c0-4319-80ce-c032d34c299c"
   },
   "outputs": [
    {
     "data": {
      "text/html": [
       "<div>\n",
       "<style scoped>\n",
       "    .dataframe tbody tr th:only-of-type {\n",
       "        vertical-align: middle;\n",
       "    }\n",
       "\n",
       "    .dataframe tbody tr th {\n",
       "        vertical-align: top;\n",
       "    }\n",
       "\n",
       "    .dataframe thead th {\n",
       "        text-align: right;\n",
       "    }\n",
       "</style>\n",
       "<table border=\"1\" class=\"dataframe\">\n",
       "  <thead>\n",
       "    <tr style=\"text-align: right;\">\n",
       "      <th></th>\n",
       "      <th>text</th>\n",
       "      <th>place</th>\n",
       "      <th>place_num</th>\n",
       "      <th>area</th>\n",
       "      <th>prediction</th>\n",
       "      <th>area_num</th>\n",
       "      <th>latlon</th>\n",
       "    </tr>\n",
       "  </thead>\n",
       "  <tbody>\n",
       "    <tr>\n",
       "      <th>0</th>\n",
       "      <td>(Ε)πήρε βάγια</td>\n",
       "      <td>{Ήπειρος, Λακωνία}</td>\n",
       "      <td>2</td>\n",
       "      <td>{Ήπειρος, Λακωνία}</td>\n",
       "      <td>Ήπειρος</td>\n",
       "      <td>2</td>\n",
       "      <td>[(37.9574332, 23.7108518), (36.76027945, 22.79...</td>\n",
       "    </tr>\n",
       "    <tr>\n",
       "      <th>2117</th>\n",
       "      <td>Ξένοι πόνοι ξένα γέλια</td>\n",
       "      <td>{Ρόδος, Κάλυμνος}</td>\n",
       "      <td>2</td>\n",
       "      <td>{Ρόδος, Κάλυμνος}</td>\n",
       "      <td>Ρόδος</td>\n",
       "      <td>2</td>\n",
       "      <td>[(37.00262545, 26.992424179156217), (36.172629...</td>\n",
       "    </tr>\n",
       "    <tr>\n",
       "      <th>2094</th>\n",
       "      <td>Νιός ήμουν και γέρασα</td>\n",
       "      <td>{Αμοργός, Μικρά Ασία&gt;Βουρλά}</td>\n",
       "      <td>2</td>\n",
       "      <td>{Αμοργός, Μικρά Ασία}</td>\n",
       "      <td>Μικρά Ασία</td>\n",
       "      <td>2</td>\n",
       "      <td>[(36.85252415, 25.89848696771565), (38.1846366...</td>\n",
       "    </tr>\n",
       "    <tr>\n",
       "      <th>2089</th>\n",
       "      <td>Νηστικιά αρκούδα δε χορεύει</td>\n",
       "      <td>{Κεφαλληνία&gt;Ομαλά, Μικρά Ασία&gt;Κυδωνία}</td>\n",
       "      <td>2</td>\n",
       "      <td>{Μικρά Ασία, Κεφαλληνία}</td>\n",
       "      <td>Κεφαλληνία</td>\n",
       "      <td>2</td>\n",
       "      <td>[(38.2379344, 20.560883), (38.1846366, 23.5122...</td>\n",
       "    </tr>\n",
       "    <tr>\n",
       "      <th>2085</th>\n",
       "      <td>Νηστεύει ο δούλος του Θεού, γιατί ψωμί δεν έχει!</td>\n",
       "      <td>{Ήπειρος, Αχαΐα&gt;Πάτρα}</td>\n",
       "      <td>2</td>\n",
       "      <td>{Αχαΐα, Ήπειρος}</td>\n",
       "      <td>Αχαΐα</td>\n",
       "      <td>2</td>\n",
       "      <td>[(38.0692748, 21.87273042232539), (37.9574332,...</td>\n",
       "    </tr>\n",
       "  </tbody>\n",
       "</table>\n",
       "</div>"
      ],
      "text/plain": [
       "                                                  text  \\\n",
       "0                                        (Ε)πήρε βάγια   \n",
       "2117                            Ξένοι πόνοι ξένα γέλια   \n",
       "2094                             Νιός ήμουν και γέρασα   \n",
       "2089                       Νηστικιά αρκούδα δε χορεύει   \n",
       "2085  Νηστεύει ο δούλος του Θεού, γιατί ψωμί δεν έχει!   \n",
       "\n",
       "                                       place  place_num  \\\n",
       "0                         {Ήπειρος, Λακωνία}          2   \n",
       "2117                       {Ρόδος, Κάλυμνος}          2   \n",
       "2094            {Αμοργός, Μικρά Ασία>Βουρλά}          2   \n",
       "2089  {Κεφαλληνία>Ομαλά, Μικρά Ασία>Κυδωνία}          2   \n",
       "2085                  {Ήπειρος, Αχαΐα>Πάτρα}          2   \n",
       "\n",
       "                          area  prediction  area_num  \\\n",
       "0           {Ήπειρος, Λακωνία}     Ήπειρος         2   \n",
       "2117         {Ρόδος, Κάλυμνος}       Ρόδος         2   \n",
       "2094     {Αμοργός, Μικρά Ασία}  Μικρά Ασία         2   \n",
       "2089  {Μικρά Ασία, Κεφαλληνία}  Κεφαλληνία         2   \n",
       "2085          {Αχαΐα, Ήπειρος}       Αχαΐα         2   \n",
       "\n",
       "                                                 latlon  \n",
       "0     [(37.9574332, 23.7108518), (36.76027945, 22.79...  \n",
       "2117  [(37.00262545, 26.992424179156217), (36.172629...  \n",
       "2094  [(36.85252415, 25.89848696771565), (38.1846366...  \n",
       "2089  [(38.2379344, 20.560883), (38.1846366, 23.5122...  \n",
       "2085  [(38.0692748, 21.87273042232539), (37.9574332,...  "
      ]
     },
     "execution_count": 16,
     "metadata": {},
     "output_type": "execute_result"
    }
   ],
   "source": [
    "# showing cases when only two candidate area exist and the model said one \n",
    "duplicates.insert(4, \"prediction\", predictor_clf.predict(duplicates.text))\n",
    "duplicate_dilemma = duplicates.apply(lambda row: (row.area_num==2)&(row.prediction in row.area), 1)\n",
    "duplicates[duplicate_dilemma].sort_values(by=\"place_num\").head(5)"
   ]
  },
  {
   "cell_type": "markdown",
   "metadata": {
    "id": "2pBGLxTSmMzB"
   },
   "source": [
    "* Showing on ones our classifier said Cyrpus"
   ]
  },
  {
   "cell_type": "code",
   "execution_count": 17,
   "metadata": {
    "colab": {
     "base_uri": "https://localhost:8080/",
     "height": 173
    },
    "id": "neOnr6gcfTMd",
    "outputId": "87e01525-2852-4d2c-8b6c-90a75e26a8e2"
   },
   "outputs": [
    {
     "data": {
      "text/html": [
       "<div>\n",
       "<style scoped>\n",
       "    .dataframe tbody tr th:only-of-type {\n",
       "        vertical-align: middle;\n",
       "    }\n",
       "\n",
       "    .dataframe tbody tr th {\n",
       "        vertical-align: top;\n",
       "    }\n",
       "\n",
       "    .dataframe thead th {\n",
       "        text-align: right;\n",
       "    }\n",
       "</style>\n",
       "<table border=\"1\" class=\"dataframe\">\n",
       "  <thead>\n",
       "    <tr style=\"text-align: right;\">\n",
       "      <th></th>\n",
       "      <th>text</th>\n",
       "      <th>place</th>\n",
       "      <th>place_num</th>\n",
       "      <th>area</th>\n",
       "      <th>prediction</th>\n",
       "      <th>area_num</th>\n",
       "      <th>latlon</th>\n",
       "    </tr>\n",
       "  </thead>\n",
       "  <tbody>\n",
       "    <tr>\n",
       "      <th>3057</th>\n",
       "      <td>Του κλέφτη κλέφτεις του;</td>\n",
       "      <td>{Λακωνία, Κύπρος&gt;Κυθραία, Κύπρος}</td>\n",
       "      <td>3</td>\n",
       "      <td>{Λακωνία, Κύπρος}</td>\n",
       "      <td>Κύπρος</td>\n",
       "      <td>2</td>\n",
       "      <td>[(34.9823018, 33.1451285), (36.76027945, 22.79...</td>\n",
       "    </tr>\n",
       "  </tbody>\n",
       "</table>\n",
       "</div>"
      ],
      "text/plain": [
       "                          text                              place  place_num  \\\n",
       "3057  Του κλέφτη κλέφτεις του;  {Λακωνία, Κύπρος>Κυθραία, Κύπρος}          3   \n",
       "\n",
       "                   area prediction  area_num  \\\n",
       "3057  {Λακωνία, Κύπρος}     Κύπρος         2   \n",
       "\n",
       "                                                 latlon  \n",
       "3057  [(34.9823018, 33.1451285), (36.76027945, 22.79...  "
      ]
     },
     "execution_count": 17,
     "metadata": {},
     "output_type": "execute_result"
    }
   ],
   "source": [
    "is_it_cyprus = duplicates.apply(lambda row: (row.prediction=='Κύπρος')&(row.prediction in row.area), 1)\n",
    "duplicates[is_it_cyprus]"
   ]
  },
  {
   "cell_type": "markdown",
   "metadata": {
    "id": "zBp6QrYgf7MI"
   },
   "source": [
    "## Regression on the coordinates\n",
    "* Instead of classifying, predicting the geographical coordinates.\n",
    "* Linear regression provides feature importance, i.e., terms that distinguish spatially, from South to North, from West to East. "
   ]
  },
  {
   "cell_type": "code",
   "execution_count": 18,
   "metadata": {
    "id": "dXQh_RYPeyJJ"
   },
   "outputs": [
    {
     "name": "stderr",
     "output_type": "stream",
     "text": [
      "[I 2023-06-07 15:54:37,854] A new study created in memory with name: no-name-3c04c7c8-0320-455e-99fb-0fe4339c88be\n",
      "[I 2023-06-07 15:54:38,649] Trial 0 finished with value: 0.12157069318821215 and parameters: {'regressor': 'LinearRegression'}. Best is trial 0 with value: 0.12157069318821215.\n",
      "[I 2023-06-07 15:54:38,945] Trial 1 finished with value: -0.0004066991582208246 and parameters: {'regressor': 'ElasticNet', 'alpha': 0.19906577983118703, 'l1_ratio': 0.935514423024844}. Best is trial 0 with value: 0.12157069318821215.\n",
      "[I 2023-06-07 15:54:40,388] Trial 2 finished with value: 0.12053322373309969 and parameters: {'regressor': 'ExtraTreesRegressor', 'n_estimators': 396, 'max_depth': 10, 'min_samples_split': 2, 'min_samples_leaf': 9}. Best is trial 0 with value: 0.12157069318821215.\n",
      "[I 2023-06-07 15:54:46,279] Trial 3 finished with value: 0.1317844002841814 and parameters: {'regressor': 'RandomForestRegressor', 'n_estimators': 309, 'max_depth': 30, 'min_samples_split': 7, 'min_samples_leaf': 9}. Best is trial 3 with value: 0.1317844002841814.\n",
      "[I 2023-06-07 15:54:46,367] Trial 4 finished with value: 0.12157069318821215 and parameters: {'regressor': 'LinearRegression'}. Best is trial 3 with value: 0.1317844002841814.\n",
      "[I 2023-06-07 15:54:48,796] Trial 5 finished with value: 0.13406482556376992 and parameters: {'regressor': 'ExtraTreesRegressor', 'n_estimators': 262, 'max_depth': 25, 'min_samples_split': 9, 'min_samples_leaf': 6}. Best is trial 5 with value: 0.13406482556376992.\n",
      "[I 2023-06-07 15:54:49,118] Trial 6 finished with value: 0.009304615004941508 and parameters: {'regressor': 'KNeighborsRegressor', 'n_neighbors': 41, 'weights': 'distance', 'p': 2}. Best is trial 5 with value: 0.13406482556376992.\n",
      "[I 2023-06-07 15:54:50,874] Trial 7 finished with value: 0.12021780425635113 and parameters: {'regressor': 'ExtraTreesRegressor', 'n_estimators': 486, 'max_depth': 10, 'min_samples_split': 5, 'min_samples_leaf': 5}. Best is trial 5 with value: 0.13406482556376992.\n",
      "[I 2023-06-07 15:54:51,181] Trial 8 finished with value: 0.05508244157673888 and parameters: {'regressor': 'KNeighborsRegressor', 'n_neighbors': 15, 'weights': 'uniform', 'p': 2}. Best is trial 5 with value: 0.13406482556376992.\n",
      "[I 2023-06-07 15:54:51,738] Trial 9 finished with value: -0.037891067025658386 and parameters: {'regressor': 'KNeighborsRegressor', 'n_neighbors': 15, 'weights': 'distance', 'p': 1}. Best is trial 5 with value: 0.13406482556376992.\n",
      "[I 2023-06-07 15:54:53,196] Trial 10 finished with value: 0.12149047718102661 and parameters: {'regressor': 'ExtraTreesRegressor', 'n_estimators': 152, 'max_depth': 25, 'min_samples_split': 10, 'min_samples_leaf': 1}. Best is trial 5 with value: 0.13406482556376992.\n",
      "[I 2023-06-07 15:54:58,354] Trial 11 finished with value: 0.13161645300086403 and parameters: {'regressor': 'RandomForestRegressor', 'n_estimators': 260, 'max_depth': 32, 'min_samples_split': 9, 'min_samples_leaf': 9}. Best is trial 5 with value: 0.13406482556376992.\n",
      "[I 2023-06-07 15:55:03,157] Trial 12 finished with value: 0.13337340966156958 and parameters: {'regressor': 'RandomForestRegressor', 'n_estimators': 276, 'max_depth': 25, 'min_samples_split': 7, 'min_samples_leaf': 6}. Best is trial 5 with value: 0.13406482556376992.\n",
      "[I 2023-06-07 15:55:06,662] Trial 13 finished with value: 0.13115097643353038 and parameters: {'regressor': 'RandomForestRegressor', 'n_estimators': 232, 'max_depth': 21, 'min_samples_split': 7, 'min_samples_leaf': 5}. Best is trial 5 with value: 0.13406482556376992.\n",
      "[I 2023-06-07 15:55:06,888] Trial 14 finished with value: 0.13878834599639026 and parameters: {'regressor': 'ElasticNet', 'alpha': 0.00015234864008431795, 'l1_ratio': 0.019488855981641295}. Best is trial 14 with value: 0.13878834599639026.\n",
      "[I 2023-06-07 15:55:07,115] Trial 15 finished with value: 0.13479392035021756 and parameters: {'regressor': 'ElasticNet', 'alpha': 0.00010163056328653348, 'l1_ratio': 0.03742180077991686}. Best is trial 14 with value: 0.13878834599639026.\n",
      "[I 2023-06-07 15:55:07,339] Trial 16 finished with value: 0.13802556083019918 and parameters: {'regressor': 'ElasticNet', 'alpha': 0.00014134392743650752, 'l1_ratio': 0.01346733448024167}. Best is trial 14 with value: 0.13878834599639026.\n",
      "[I 2023-06-07 15:55:07,562] Trial 17 finished with value: 0.1359978036148384 and parameters: {'regressor': 'ElasticNet', 'alpha': 0.00011524069457962361, 'l1_ratio': 0.02769890129192367}. Best is trial 14 with value: 0.13878834599639026.\n",
      "[I 2023-06-07 15:55:07,719] Trial 18 finished with value: 0.14494606920835973 and parameters: {'regressor': 'ElasticNet', 'alpha': 0.000902877667598547, 'l1_ratio': 0.0360612243633298}. Best is trial 18 with value: 0.14494606920835973.\n",
      "[I 2023-06-07 15:55:07,844] Trial 19 finished with value: 0.10927727574056498 and parameters: {'regressor': 'ElasticNet', 'alpha': 0.00311965995990394, 'l1_ratio': 0.3581195794153435}. Best is trial 18 with value: 0.14494606920835973.\n",
      "[I 2023-06-07 15:55:07,978] Trial 20 finished with value: 0.13350683885810571 and parameters: {'regressor': 'ElasticNet', 'alpha': 0.0017193286986392723, 'l1_ratio': 0.30005629686917}. Best is trial 18 with value: 0.14494606920835973.\n",
      "[I 2023-06-07 15:55:08,169] Trial 21 finished with value: 0.1450727571461361 and parameters: {'regressor': 'ElasticNet', 'alpha': 0.00028939471100574435, 'l1_ratio': 0.05245331457910912}. Best is trial 21 with value: 0.1450727571461361.\n",
      "[I 2023-06-07 15:55:08,318] Trial 22 finished with value: 0.1467360581912557 and parameters: {'regressor': 'ElasticNet', 'alpha': 0.0008725642017039287, 'l1_ratio': 0.1633896911242843}. Best is trial 22 with value: 0.1467360581912557.\n",
      "[I 2023-06-07 15:55:08,459] Trial 23 finished with value: 0.1431151515169048 and parameters: {'regressor': 'ElasticNet', 'alpha': 0.0011600503967333308, 'l1_ratio': 0.2240606984630089}. Best is trial 22 with value: 0.1467360581912557.\n",
      "[I 2023-06-07 15:55:08,598] Trial 24 finished with value: 0.14475034999893688 and parameters: {'regressor': 'ElasticNet', 'alpha': 0.0010425329620881085, 'l1_ratio': 0.1997085855422791}. Best is trial 22 with value: 0.1467360581912557.\n",
      "[I 2023-06-07 15:55:08,708] Trial 25 finished with value: 0.056318554281316636 and parameters: {'regressor': 'ElasticNet', 'alpha': 0.010220288772868256, 'l1_ratio': 0.16595622855396192}. Best is trial 22 with value: 0.1467360581912557.\n",
      "[I 2023-06-07 15:55:08,794] Trial 26 finished with value: 0.12157069318821215 and parameters: {'regressor': 'LinearRegression'}. Best is trial 22 with value: 0.1467360581912557.\n",
      "[I 2023-06-07 15:55:08,945] Trial 27 finished with value: 0.15044384309935185 and parameters: {'regressor': 'ElasticNet', 'alpha': 0.0005359591760315241, 'l1_ratio': 0.3971242463592699}. Best is trial 27 with value: 0.15044384309935185.\n",
      "[I 2023-06-07 15:55:09,099] Trial 28 finished with value: 0.150253649723411 and parameters: {'regressor': 'ElasticNet', 'alpha': 0.0004683885016054389, 'l1_ratio': 0.4705551319923143}. Best is trial 27 with value: 0.15044384309935185.\n",
      "[I 2023-06-07 15:55:09,185] Trial 29 finished with value: 0.12157069318821215 and parameters: {'regressor': 'LinearRegression'}. Best is trial 27 with value: 0.15044384309935185.\n",
      "[I 2023-06-07 15:55:09,342] Trial 30 finished with value: 0.15030642256929855 and parameters: {'regressor': 'ElasticNet', 'alpha': 0.00046585625704118294, 'l1_ratio': 0.49535824738937306}. Best is trial 27 with value: 0.15044384309935185.\n",
      "[I 2023-06-07 15:55:09,500] Trial 31 finished with value: 0.15040947828151902 and parameters: {'regressor': 'ElasticNet', 'alpha': 0.0004681231882240682, 'l1_ratio': 0.5216160536223111}. Best is trial 27 with value: 0.15044384309935185.\n",
      "[I 2023-06-07 15:55:09,659] Trial 32 finished with value: 0.14912716620370156 and parameters: {'regressor': 'ElasticNet', 'alpha': 0.00039096435842910963, 'l1_ratio': 0.4868718262607853}. Best is trial 27 with value: 0.15044384309935185.\n",
      "[I 2023-06-07 15:55:09,815] Trial 33 finished with value: 0.14954213268536662 and parameters: {'regressor': 'ElasticNet', 'alpha': 0.00041022318267620796, 'l1_ratio': 0.5171061505364383}. Best is trial 27 with value: 0.15044384309935185.\n",
      "[I 2023-06-07 15:55:09,972] Trial 34 finished with value: 0.14943386801807038 and parameters: {'regressor': 'ElasticNet', 'alpha': 0.0004052898081012566, 'l1_ratio': 0.5068109619852422}. Best is trial 27 with value: 0.15044384309935185.\n"
     ]
    },
    {
     "name": "stderr",
     "output_type": "stream",
     "text": [
      "[I 2023-06-07 15:55:10,092] Trial 35 finished with value: 0.1056714362505059 and parameters: {'regressor': 'ElasticNet', 'alpha': 0.003479869365119164, 'l1_ratio': 0.5998636291820114}. Best is trial 27 with value: 0.15044384309935185.\n",
      "[I 2023-06-07 15:55:10,178] Trial 36 finished with value: 0.12157069318821215 and parameters: {'regressor': 'LinearRegression'}. Best is trial 27 with value: 0.15044384309935185.\n",
      "[I 2023-06-07 15:55:10,754] Trial 37 finished with value: 0.003685738867755173 and parameters: {'regressor': 'KNeighborsRegressor', 'n_neighbors': 47, 'weights': 'uniform', 'p': 1}. Best is trial 27 with value: 0.15044384309935185.\n",
      "[I 2023-06-07 15:55:10,941] Trial 38 finished with value: 0.07848746410195198 and parameters: {'regressor': 'ExtraTreesRegressor', 'n_estimators': 105, 'max_depth': 2, 'min_samples_split': 2, 'min_samples_leaf': 1}. Best is trial 27 with value: 0.15044384309935185.\n",
      "[I 2023-06-07 15:55:11,098] Trial 39 finished with value: 0.14805553010775338 and parameters: {'regressor': 'ElasticNet', 'alpha': 0.0003511762686767049, 'l1_ratio': 0.4115380852655529}. Best is trial 27 with value: 0.15044384309935185.\n",
      "[I 2023-06-07 15:55:11,248] Trial 40 finished with value: 0.15125433082974876 and parameters: {'regressor': 'ElasticNet', 'alpha': 0.0005375576668552598, 'l1_ratio': 0.6138091199268347}. Best is trial 40 with value: 0.15125433082974876.\n",
      "[I 2023-06-07 15:55:11,398] Trial 41 finished with value: 0.15116155013424823 and parameters: {'regressor': 'ElasticNet', 'alpha': 0.0005176548677495711, 'l1_ratio': 0.6371503873111426}. Best is trial 40 with value: 0.15125433082974876.\n",
      "[I 2023-06-07 15:55:11,568] Trial 42 finished with value: 0.1443977587724254 and parameters: {'regressor': 'ElasticNet', 'alpha': 0.0002476948061138824, 'l1_ratio': 0.6188698024379184}. Best is trial 40 with value: 0.15125433082974876.\n",
      "[I 2023-06-07 15:55:11,711] Trial 43 finished with value: 0.15011607395695864 and parameters: {'regressor': 'ElasticNet', 'alpha': 0.0008337855142762552, 'l1_ratio': 0.6316091336281147}. Best is trial 40 with value: 0.15125433082974876.\n",
      "[I 2023-06-07 15:55:12,005] Trial 44 finished with value: -0.6527550394046042 and parameters: {'regressor': 'KNeighborsRegressor', 'n_neighbors': 1, 'weights': 'distance', 'p': 2}. Best is trial 40 with value: 0.15125433082974876.\n",
      "[I 2023-06-07 15:55:14,198] Trial 45 finished with value: 0.12336027758495968 and parameters: {'regressor': 'ExtraTreesRegressor', 'n_estimators': 492, 'max_depth': 13, 'min_samples_split': 4, 'min_samples_leaf': 3}. Best is trial 40 with value: 0.15125433082974876.\n",
      "[I 2023-06-07 15:55:18,575] Trial 46 finished with value: 0.12593287471381495 and parameters: {'regressor': 'RandomForestRegressor', 'n_estimators': 365, 'max_depth': 16, 'min_samples_split': 4, 'min_samples_leaf': 3}. Best is trial 40 with value: 0.15125433082974876.\n",
      "[I 2023-06-07 15:55:18,696] Trial 47 finished with value: 0.12702580894610982 and parameters: {'regressor': 'ElasticNet', 'alpha': 0.0021139815190517456, 'l1_ratio': 0.6842582730233333}. Best is trial 40 with value: 0.15125433082974876.\n",
      "[I 2023-06-07 15:55:18,843] Trial 48 finished with value: 0.1512384327283139 and parameters: {'regressor': 'ElasticNet', 'alpha': 0.00061309323251488, 'l1_ratio': 0.5420285828345033}. Best is trial 40 with value: 0.15125433082974876.\n",
      "[I 2023-06-07 15:55:19,296] Trial 49 finished with value: 0.07776305593357215 and parameters: {'regressor': 'RandomForestRegressor', 'n_estimators': 183, 'max_depth': 2, 'min_samples_split': 3, 'min_samples_leaf': 7}. Best is trial 40 with value: 0.15125433082974876.\n",
      "[I 2023-06-07 15:55:19,872] Trial 50 finished with value: 0.003056028380095632 and parameters: {'regressor': 'KNeighborsRegressor', 'n_neighbors': 30, 'weights': 'uniform', 'p': 1}. Best is trial 40 with value: 0.15125433082974876.\n",
      "[I 2023-06-07 15:55:20,021] Trial 51 finished with value: 0.15127353678874272 and parameters: {'regressor': 'ElasticNet', 'alpha': 0.0006617363990582455, 'l1_ratio': 0.5740667856136731}. Best is trial 51 with value: 0.15127353678874272.\n",
      "[I 2023-06-07 15:55:20,167] Trial 52 finished with value: 0.1512428128595947 and parameters: {'regressor': 'ElasticNet', 'alpha': 0.0006635265006707916, 'l1_ratio': 0.5668445759981757}. Best is trial 51 with value: 0.15127353678874272.\n",
      "[I 2023-06-07 15:55:20,313] Trial 53 finished with value: 0.1507397383885876 and parameters: {'regressor': 'ElasticNet', 'alpha': 0.0007844478813495921, 'l1_ratio': 0.6926463382960253}. Best is trial 51 with value: 0.15127353678874272.\n",
      "[I 2023-06-07 15:55:20,446] Trial 54 finished with value: 0.1375826609059169 and parameters: {'regressor': 'ElasticNet', 'alpha': 0.0015239244522466952, 'l1_ratio': 0.680440576106381}. Best is trial 51 with value: 0.15127353678874272.\n",
      "[I 2023-06-07 15:55:20,639] Trial 55 finished with value: 0.14265340450242864 and parameters: {'regressor': 'ElasticNet', 'alpha': 0.00021941775278140336, 'l1_ratio': 0.7437584154896355}. Best is trial 51 with value: 0.15127353678874272.\n",
      "[I 2023-06-07 15:55:21,721] Trial 56 finished with value: 0.11532798301146781 and parameters: {'regressor': 'ExtraTreesRegressor', 'n_estimators': 417, 'max_depth': 7, 'min_samples_split': 6, 'min_samples_leaf': 10}. Best is trial 51 with value: 0.15127353678874272.\n",
      "[I 2023-06-07 15:55:21,867] Trial 57 finished with value: 0.15038364493353445 and parameters: {'regressor': 'ElasticNet', 'alpha': 0.0008220588499968199, 'l1_ratio': 0.743927640932561}. Best is trial 51 with value: 0.15127353678874272.\n",
      "[I 2023-06-07 15:55:21,964] Trial 58 finished with value: 0.12157069318821215 and parameters: {'regressor': 'LinearRegression'}. Best is trial 51 with value: 0.15127353678874272.\n",
      "[I 2023-06-07 15:55:22,146] Trial 59 finished with value: 0.1404359261964066 and parameters: {'regressor': 'ElasticNet', 'alpha': 0.00017844655558097683, 'l1_ratio': 0.5752193893886686}. Best is trial 51 with value: 0.15127353678874272.\n",
      "[I 2023-06-07 15:55:22,317] Trial 60 finished with value: 0.14338908286991198 and parameters: {'regressor': 'ElasticNet', 'alpha': 0.00022689620386896325, 'l1_ratio': 0.5684590146274806}. Best is trial 51 with value: 0.15127353678874272.\n",
      "[I 2023-06-07 15:55:22,467] Trial 61 finished with value: 0.15153701231551803 and parameters: {'regressor': 'ElasticNet', 'alpha': 0.000645261088092413, 'l1_ratio': 0.6526397304266879}. Best is trial 61 with value: 0.15153701231551803.\n",
      "[I 2023-06-07 15:55:22,615] Trial 62 finished with value: 0.15113369733550458 and parameters: {'regressor': 'ElasticNet', 'alpha': 0.0007379858798654901, 'l1_ratio': 0.6676596197808827}. Best is trial 61 with value: 0.15153701231551803.\n",
      "[I 2023-06-07 15:55:22,765] Trial 63 finished with value: 0.15132559996736078 and parameters: {'regressor': 'ElasticNet', 'alpha': 0.0006965744649924097, 'l1_ratio': 0.6413917674027839}. Best is trial 61 with value: 0.15153701231551803.\n",
      "[I 2023-06-07 15:55:22,970] Trial 64 finished with value: 0.13618787391654616 and parameters: {'regressor': 'ElasticNet', 'alpha': 0.00012373894347253252, 'l1_ratio': 0.5686846505902752}. Best is trial 61 with value: 0.15153701231551803.\n",
      "[I 2023-06-07 15:55:23,101] Trial 65 finished with value: 0.13811470316227342 and parameters: {'regressor': 'ElasticNet', 'alpha': 0.0014978120937272972, 'l1_ratio': 0.6389551218363253}. Best is trial 61 with value: 0.15153701231551803.\n",
      "[I 2023-06-07 15:55:27,834] Trial 66 finished with value: 0.1281840113755167 and parameters: {'regressor': 'RandomForestRegressor', 'n_estimators': 340, 'max_depth': 19, 'min_samples_split': 10, 'min_samples_leaf': 3}. Best is trial 61 with value: 0.15153701231551803.\n",
      "[I 2023-06-07 15:55:27,982] Trial 67 finished with value: 0.15167702420612547 and parameters: {'regressor': 'ElasticNet', 'alpha': 0.0006010895600665831, 'l1_ratio': 0.74189659621248}. Best is trial 67 with value: 0.15167702420612547.\n",
      "[I 2023-06-07 15:55:28,168] Trial 68 finished with value: 0.14450955042148567 and parameters: {'regressor': 'ElasticNet', 'alpha': 0.0002546126342033211, 'l1_ratio': 0.7409784589999133}. Best is trial 67 with value: 0.15167702420612547.\n",
      "[I 2023-06-07 15:55:28,319] Trial 69 finished with value: 0.1516698522813919 and parameters: {'regressor': 'ElasticNet', 'alpha': 0.0005937469193544605, 'l1_ratio': 0.7923128543365385}. Best is trial 67 with value: 0.15167702420612547.\n"
     ]
    },
    {
     "name": "stderr",
     "output_type": "stream",
     "text": [
      "[I 2023-06-07 15:55:28,499] Trial 70 finished with value: 0.1393195447290121 and parameters: {'regressor': 'ElasticNet', 'alpha': 0.0001711152689023964, 'l1_ratio': 0.8222234451193766}. Best is trial 67 with value: 0.15167702420612547.\n",
      "[I 2023-06-07 15:55:28,648] Trial 71 finished with value: 0.1514234054480369 and parameters: {'regressor': 'ElasticNet', 'alpha': 0.0006926068292497788, 'l1_ratio': 0.8165122064086401}. Best is trial 67 with value: 0.15167702420612547.\n",
      "[I 2023-06-07 15:55:28,783] Trial 72 finished with value: 0.14366883256820678 and parameters: {'regressor': 'ElasticNet', 'alpha': 0.0012052342550625142, 'l1_ratio': 0.8329206049949408}. Best is trial 67 with value: 0.15167702420612547.\n",
      "[I 2023-06-07 15:55:28,930] Trial 73 finished with value: 0.15143493254707666 and parameters: {'regressor': 'ElasticNet', 'alpha': 0.0006958760346853929, 'l1_ratio': 0.7908409501556177}. Best is trial 67 with value: 0.15167702420612547.\n",
      "[I 2023-06-07 15:55:29,099] Trial 74 finished with value: 0.14640806117044772 and parameters: {'regressor': 'ElasticNet', 'alpha': 0.0003028759493096072, 'l1_ratio': 0.8069062568061882}. Best is trial 67 with value: 0.15167702420612547.\n",
      "[I 2023-06-07 15:55:29,186] Trial 75 finished with value: 0.12157069318821215 and parameters: {'regressor': 'LinearRegression'}. Best is trial 67 with value: 0.15167702420612547.\n",
      "[I 2023-06-07 15:55:29,318] Trial 76 finished with value: 0.1448606844997876 and parameters: {'regressor': 'ElasticNet', 'alpha': 0.0011248292345146255, 'l1_ratio': 0.9014523850754048}. Best is trial 67 with value: 0.15167702420612547.\n",
      "[I 2023-06-07 15:55:29,467] Trial 77 finished with value: 0.15168693831761634 and parameters: {'regressor': 'ElasticNet', 'alpha': 0.0006198069483310265, 'l1_ratio': 0.7323028589750553}. Best is trial 77 with value: 0.15168693831761634.\n",
      "[I 2023-06-07 15:55:29,769] Trial 78 finished with value: 0.05685659639318628 and parameters: {'regressor': 'KNeighborsRegressor', 'n_neighbors': 31, 'weights': 'uniform', 'p': 2}. Best is trial 77 with value: 0.15168693831761634.\n",
      "[I 2023-06-07 15:55:30,802] Trial 79 finished with value: 0.11389398379647861 and parameters: {'regressor': 'ExtraTreesRegressor', 'n_estimators': 440, 'max_depth': 6, 'min_samples_split': 8, 'min_samples_leaf': 7}. Best is trial 77 with value: 0.15168693831761634.\n",
      "[I 2023-06-07 15:55:30,942] Trial 80 finished with value: 0.14846342885679545 and parameters: {'regressor': 'ElasticNet', 'alpha': 0.0009619490669027772, 'l1_ratio': 0.7234400559249498}. Best is trial 77 with value: 0.15168693831761634.\n",
      "[I 2023-06-07 15:55:31,087] Trial 81 finished with value: 0.15170009097460677 and parameters: {'regressor': 'ElasticNet', 'alpha': 0.0006278802814206997, 'l1_ratio': 0.7816355529611778}. Best is trial 81 with value: 0.15170009097460677.\n",
      "[I 2023-06-07 15:55:31,236] Trial 82 finished with value: 0.15166282307174753 and parameters: {'regressor': 'ElasticNet', 'alpha': 0.0006463658535275593, 'l1_ratio': 0.7877002164396965}. Best is trial 81 with value: 0.15170009097460677.\n",
      "[I 2023-06-07 15:55:31,414] Trial 83 finished with value: 0.14707262806232504 and parameters: {'regressor': 'ElasticNet', 'alpha': 0.0003192097323681008, 'l1_ratio': 0.7836711298257125}. Best is trial 81 with value: 0.15170009097460677.\n",
      "[I 2023-06-07 15:55:31,562] Trial 84 finished with value: 0.15157241989262077 and parameters: {'regressor': 'ElasticNet', 'alpha': 0.0005647103121505956, 'l1_ratio': 0.7803599515587354}. Best is trial 81 with value: 0.15170009097460677.\n",
      "[I 2023-06-07 15:55:31,684] Trial 85 finished with value: 0.1278420773554077 and parameters: {'regressor': 'ElasticNet', 'alpha': 0.002128196206749971, 'l1_ratio': 0.786269509080583}. Best is trial 81 with value: 0.15170009097460677.\n",
      "[I 2023-06-07 15:55:31,847] Trial 86 finished with value: 0.14854387549688144 and parameters: {'regressor': 'ElasticNet', 'alpha': 0.0003726475545794308, 'l1_ratio': 0.8542727032436277}. Best is trial 81 with value: 0.15170009097460677.\n",
      "[I 2023-06-07 15:55:31,983] Trial 87 finished with value: 0.14467112062856707 and parameters: {'regressor': 'ElasticNet', 'alpha': 0.001166030241771076, 'l1_ratio': 0.7761573922434857}. Best is trial 81 with value: 0.15170009097460677.\n",
      "[I 2023-06-07 15:55:34,258] Trial 88 finished with value: 0.1256528237365479 and parameters: {'regressor': 'RandomForestRegressor', 'n_estimators': 198, 'max_depth': 15, 'min_samples_split': 5, 'min_samples_leaf': 4}. Best is trial 81 with value: 0.15170009097460677.\n",
      "[I 2023-06-07 15:55:34,408] Trial 89 finished with value: 0.1510925734801538 and parameters: {'regressor': 'ElasticNet', 'alpha': 0.0005132000648833925, 'l1_ratio': 0.8657456805785712}. Best is trial 81 with value: 0.15170009097460677.\n",
      "[I 2023-06-07 15:55:34,553] Trial 90 finished with value: 0.14987508212956496 and parameters: {'regressor': 'ElasticNet', 'alpha': 0.0008633284648158719, 'l1_ratio': 0.7735866698475259}. Best is trial 81 with value: 0.15170009097460677.\n",
      "[I 2023-06-07 15:55:34,702] Trial 91 finished with value: 0.15164513706371124 and parameters: {'regressor': 'ElasticNet', 'alpha': 0.0005895126659436158, 'l1_ratio': 0.7261377509311401}. Best is trial 81 with value: 0.15170009097460677.\n",
      "[I 2023-06-07 15:55:34,859] Trial 92 finished with value: 0.15006590854567667 and parameters: {'regressor': 'ElasticNet', 'alpha': 0.00042852807035907443, 'l1_ratio': 0.712937169138002}. Best is trial 81 with value: 0.15170009097460677.\n",
      "[I 2023-06-07 15:55:35,006] Trial 93 finished with value: 0.151639064225443 and parameters: {'regressor': 'ElasticNet', 'alpha': 0.0005819369538349929, 'l1_ratio': 0.7574038867281387}. Best is trial 81 with value: 0.15170009097460677.\n",
      "[I 2023-06-07 15:55:35,175] Trial 94 finished with value: 0.14793243079149526 and parameters: {'regressor': 'ElasticNet', 'alpha': 0.00034318276385715264, 'l1_ratio': 0.75096134236212}. Best is trial 81 with value: 0.15170009097460677.\n",
      "[I 2023-06-07 15:55:35,324] Trial 95 finished with value: 0.1515630364123564 and parameters: {'regressor': 'ElasticNet', 'alpha': 0.000564837640195127, 'l1_ratio': 0.7119737830340066}. Best is trial 81 with value: 0.15170009097460677.\n",
      "[I 2023-06-07 15:55:35,468] Trial 96 finished with value: 0.1513421569012928 and parameters: {'regressor': 'ElasticNet', 'alpha': 0.0005262887580761835, 'l1_ratio': 0.7310255602176091}. Best is trial 81 with value: 0.15170009097460677.\n",
      "[I 2023-06-07 15:55:36,023] Trial 97 finished with value: -0.11507640981419316 and parameters: {'regressor': 'KNeighborsRegressor', 'n_neighbors': 4, 'weights': 'distance', 'p': 1}. Best is trial 81 with value: 0.15170009097460677.\n",
      "[I 2023-06-07 15:55:36,179] Trial 98 finished with value: 0.15058600045240847 and parameters: {'regressor': 'ElasticNet', 'alpha': 0.00046049523610421653, 'l1_ratio': 0.6952991910978832}. Best is trial 81 with value: 0.15170009097460677.\n",
      "[I 2023-06-07 15:55:36,358] Trial 99 finished with value: 0.14636658974049516 and parameters: {'regressor': 'ElasticNet', 'alpha': 0.000299065808948177, 'l1_ratio': 0.7637186514235662}. Best is trial 81 with value: 0.15170009097460677.\n",
      "[I 2023-06-07 15:55:36,443] Trial 100 finished with value: 0.12157069318821215 and parameters: {'regressor': 'LinearRegression'}. Best is trial 81 with value: 0.15170009097460677.\n",
      "[I 2023-06-07 15:55:36,590] Trial 101 finished with value: 0.15167712873469646 and parameters: {'regressor': 'ElasticNet', 'alpha': 0.0005974835633821953, 'l1_ratio': 0.7958883767436687}. Best is trial 81 with value: 0.15170009097460677.\n",
      "[I 2023-06-07 15:55:36,746] Trial 102 finished with value: 0.15137762182629522 and parameters: {'regressor': 'ElasticNet', 'alpha': 0.0005330972123177034, 'l1_ratio': 0.7079477407080254}. Best is trial 81 with value: 0.15170009097460677.\n",
      "[I 2023-06-07 15:55:36,880] Trial 103 finished with value: 0.1467481043247365 and parameters: {'regressor': 'ElasticNet', 'alpha': 0.001057351315222271, 'l1_ratio': 0.7637021314223948}. Best is trial 81 with value: 0.15170009097460677.\n",
      "[I 2023-06-07 15:55:37,710] Trial 104 finished with value: 0.1253255700522788 and parameters: {'regressor': 'ExtraTreesRegressor', 'n_estimators': 100, 'max_depth': 21, 'min_samples_split': 3, 'min_samples_leaf': 2}. Best is trial 81 with value: 0.15170009097460677.\n"
     ]
    },
    {
     "name": "stderr",
     "output_type": "stream",
     "text": [
      "[I 2023-06-07 15:55:37,881] Trial 105 finished with value: 0.14908416846768158 and parameters: {'regressor': 'ElasticNet', 'alpha': 0.00038814509756259, 'l1_ratio': 0.8035611113195226}. Best is trial 81 with value: 0.15170009097460677.\n",
      "[I 2023-06-07 15:55:38,034] Trial 106 finished with value: 0.15129137413040472 and parameters: {'regressor': 'ElasticNet', 'alpha': 0.0005214133878794546, 'l1_ratio': 0.7148573642246432}. Best is trial 81 with value: 0.15170009097460677.\n",
      "[I 2023-06-07 15:55:38,174] Trial 107 finished with value: 0.1493346332793856 and parameters: {'regressor': 'ElasticNet', 'alpha': 0.0008993966052217259, 'l1_ratio': 0.6660165465056149}. Best is trial 81 with value: 0.15170009097460677.\n",
      "[I 2023-06-07 15:55:38,320] Trial 108 finished with value: 0.15154414481348097 and parameters: {'regressor': 'ElasticNet', 'alpha': 0.0006509896351994121, 'l1_ratio': 0.8400837507524487}. Best is trial 81 with value: 0.15170009097460677.\n",
      "[I 2023-06-07 15:55:38,468] Trial 109 finished with value: 0.1516121914226503 and parameters: {'regressor': 'ElasticNet', 'alpha': 0.000608459906880915, 'l1_ratio': 0.842284379318167}. Best is trial 81 with value: 0.15170009097460677.\n",
      "[I 2023-06-07 15:55:38,631] Trial 110 finished with value: 0.1499595824420388 and parameters: {'regressor': 'ElasticNet', 'alpha': 0.00043745812693325747, 'l1_ratio': 0.8902872591182434}. Best is trial 81 with value: 0.15170009097460677.\n",
      "[I 2023-06-07 15:55:38,776] Trial 111 finished with value: 0.14997699647657564 and parameters: {'regressor': 'ElasticNet', 'alpha': 0.0008433739751200592, 'l1_ratio': 0.84215377651704}. Best is trial 81 with value: 0.15170009097460677.\n",
      "[I 2023-06-07 15:55:38,921] Trial 112 finished with value: 0.15166456584431506 and parameters: {'regressor': 'ElasticNet', 'alpha': 0.0006100642922636668, 'l1_ratio': 0.8177340917186213}. Best is trial 81 with value: 0.15170009097460677.\n",
      "[I 2023-06-07 15:55:39,067] Trial 113 finished with value: 0.1516792175517272 and parameters: {'regressor': 'ElasticNet', 'alpha': 0.000602254124379609, 'l1_ratio': 0.8039035790612312}. Best is trial 81 with value: 0.15170009097460677.\n",
      "[I 2023-06-07 15:55:39,229] Trial 114 finished with value: 0.1484520573857794 and parameters: {'regressor': 'ElasticNet', 'alpha': 0.0003647590075177433, 'l1_ratio': 0.8094836985888838}. Best is trial 81 with value: 0.15170009097460677.\n",
      "[I 2023-06-07 15:55:45,173] Trial 115 finished with value: 0.13305189280720822 and parameters: {'regressor': 'RandomForestRegressor', 'n_estimators': 329, 'max_depth': 28, 'min_samples_split': 6, 'min_samples_leaf': 8}. Best is trial 81 with value: 0.15170009097460677.\n",
      "[I 2023-06-07 15:55:45,361] Trial 116 finished with value: 0.144305001557615 and parameters: {'regressor': 'ElasticNet', 'alpha': 0.0002516229444066028, 'l1_ratio': 0.7627689317296399}. Best is trial 81 with value: 0.15170009097460677.\n",
      "[I 2023-06-07 15:55:45,493] Trial 117 finished with value: 0.1406433363773549 and parameters: {'regressor': 'ElasticNet', 'alpha': 0.00137078384087594, 'l1_ratio': 0.7932314936459708}. Best is trial 81 with value: 0.15170009097460677.\n",
      "[I 2023-06-07 15:55:45,631] Trial 118 finished with value: 0.14806837282762192 and parameters: {'regressor': 'ElasticNet', 'alpha': 0.0009629489766873609, 'l1_ratio': 0.8626290477439845}. Best is trial 81 with value: 0.15170009097460677.\n",
      "[I 2023-06-07 15:55:45,779] Trial 119 finished with value: 0.15166887108078822 and parameters: {'regressor': 'ElasticNet', 'alpha': 0.0006506228591394989, 'l1_ratio': 0.7546999383836175}. Best is trial 81 with value: 0.15170009097460677.\n",
      "[I 2023-06-07 15:55:45,864] Trial 120 finished with value: 0.12157069318821215 and parameters: {'regressor': 'LinearRegression'}. Best is trial 81 with value: 0.15170009097460677.\n",
      "[I 2023-06-07 15:55:46,015] Trial 121 finished with value: 0.15165072299735027 and parameters: {'regressor': 'ElasticNet', 'alpha': 0.0005999630849560502, 'l1_ratio': 0.82260549882288}. Best is trial 81 with value: 0.15170009097460677.\n",
      "[I 2023-06-07 15:55:46,185] Trial 122 finished with value: 0.1511324342604971 and parameters: {'regressor': 'ElasticNet', 'alpha': 0.0007393551479624782, 'l1_ratio': 0.8166174973281939}. Best is trial 81 with value: 0.15170009097460677.\n",
      "[I 2023-06-07 15:55:46,336] Trial 123 finished with value: 0.15166475931021414 and parameters: {'regressor': 'ElasticNet', 'alpha': 0.0005971518361579557, 'l1_ratio': 0.7344643233537388}. Best is trial 81 with value: 0.15170009097460677.\n",
      "[I 2023-06-07 15:55:46,487] Trial 124 finished with value: 0.15060874955134812 and parameters: {'regressor': 'ElasticNet', 'alpha': 0.0008009055787464392, 'l1_ratio': 0.7387686620831466}. Best is trial 81 with value: 0.15170009097460677.\n",
      "[I 2023-06-07 15:55:46,624] Trial 125 finished with value: 0.14743234878845624 and parameters: {'regressor': 'ElasticNet', 'alpha': 0.0010197891957203803, 'l1_ratio': 0.7514546900059484}. Best is trial 81 with value: 0.15170009097460677.\n",
      "[I 2023-06-07 15:55:46,786] Trial 126 finished with value: 0.14983479216188433 and parameters: {'regressor': 'ElasticNet', 'alpha': 0.0004213428098770271, 'l1_ratio': 0.8044121432866915}. Best is trial 81 with value: 0.15170009097460677.\n",
      "[I 2023-06-07 15:55:47,348] Trial 127 finished with value: -0.002847548284408796 and parameters: {'regressor': 'KNeighborsRegressor', 'n_neighbors': 18, 'weights': 'uniform', 'p': 1}. Best is trial 81 with value: 0.15170009097460677.\n",
      "[I 2023-06-07 15:55:47,517] Trial 128 finished with value: 0.14734814783544864 and parameters: {'regressor': 'ElasticNet', 'alpha': 0.00032455479744727587, 'l1_ratio': 0.742379869483845}. Best is trial 81 with value: 0.15170009097460677.\n",
      "[I 2023-06-07 15:55:49,440] Trial 129 finished with value: 0.12423672399611992 and parameters: {'regressor': 'ExtraTreesRegressor', 'n_estimators': 457, 'max_depth': 12, 'min_samples_split': 8, 'min_samples_leaf': 10}. Best is trial 81 with value: 0.15170009097460677.\n",
      "[I 2023-06-07 15:55:49,597] Trial 130 finished with value: 0.15053609576386698 and parameters: {'regressor': 'ElasticNet', 'alpha': 0.00046155520565330834, 'l1_ratio': 0.821885357351958}. Best is trial 81 with value: 0.15170009097460677.\n",
      "[I 2023-06-07 15:55:49,746] Trial 131 finished with value: 0.1516241324418917 and parameters: {'regressor': 'ElasticNet', 'alpha': 0.0006238056550627327, 'l1_ratio': 0.8339386355347246}. Best is trial 81 with value: 0.15170009097460677.\n",
      "[I 2023-06-07 15:55:49,896] Trial 132 finished with value: 0.15155095889009798 and parameters: {'regressor': 'ElasticNet', 'alpha': 0.0006773689220009137, 'l1_ratio': 0.7804263643799068}. Best is trial 81 with value: 0.15170009097460677.\n",
      "[I 2023-06-07 15:55:50,043] Trial 133 finished with value: 0.15169829427620893 and parameters: {'regressor': 'ElasticNet', 'alpha': 0.0006106595481678193, 'l1_ratio': 0.7595276493445267}. Best is trial 81 with value: 0.15170009097460677.\n",
      "[I 2023-06-07 15:55:50,190] Trial 134 finished with value: 0.14967443536039787 and parameters: {'regressor': 'ElasticNet', 'alpha': 0.000879286370245774, 'l1_ratio': 0.72784075081303}. Best is trial 81 with value: 0.15170009097460677.\n",
      "[I 2023-06-07 15:55:50,344] Trial 135 finished with value: 0.15075840292709994 and parameters: {'regressor': 'ElasticNet', 'alpha': 0.00047291849988360886, 'l1_ratio': 0.7614775358313953}. Best is trial 81 with value: 0.15170009097460677.\n",
      "[I 2023-06-07 15:55:50,477] Trial 136 finished with value: 0.1441095322722316 and parameters: {'regressor': 'ElasticNet', 'alpha': 0.0012021268156648447, 'l1_ratio': 0.6967498155429175}. Best is trial 81 with value: 0.15170009097460677.\n",
      "[I 2023-06-07 15:55:50,626] Trial 137 finished with value: 0.15164273211353468 and parameters: {'regressor': 'ElasticNet', 'alpha': 0.0005841957131468726, 'l1_ratio': 0.7964386822567122}. Best is trial 81 with value: 0.15170009097460677.\n",
      "[I 2023-06-07 15:55:50,774] Trial 138 finished with value: 0.15120626410499782 and parameters: {'regressor': 'ElasticNet', 'alpha': 0.0007325811118952771, 'l1_ratio': 0.7889752858798249}. Best is trial 81 with value: 0.15170009097460677.\n",
      "[I 2023-06-07 15:55:50,937] Trial 139 finished with value: 0.14842539812157254 and parameters: {'regressor': 'ElasticNet', 'alpha': 0.00036306468229943003, 'l1_ratio': 0.8013201727539169}. Best is trial 81 with value: 0.15170009097460677.\n"
     ]
    },
    {
     "name": "stderr",
     "output_type": "stream",
     "text": [
      "[I 2023-06-07 15:55:51,712] Trial 140 finished with value: 0.11633817188714542 and parameters: {'regressor': 'RandomForestRegressor', 'n_estimators': 140, 'max_depth': 6, 'min_samples_split': 5, 'min_samples_leaf': 4}. Best is trial 81 with value: 0.15170009097460677.\n",
      "[I 2023-06-07 15:55:51,861] Trial 141 finished with value: 0.15164907098615862 and parameters: {'regressor': 'ElasticNet', 'alpha': 0.0005849843257223345, 'l1_ratio': 0.7591511652514107}. Best is trial 81 with value: 0.15170009097460677.\n",
      "[I 2023-06-07 15:55:52,008] Trial 142 finished with value: 0.15159754359415278 and parameters: {'regressor': 'ElasticNet', 'alpha': 0.0005708931228200841, 'l1_ratio': 0.728728979278656}. Best is trial 81 with value: 0.15170009097460677.\n",
      "[I 2023-06-07 15:55:52,153] Trial 143 finished with value: 0.15118697549424914 and parameters: {'regressor': 'ElasticNet', 'alpha': 0.0007357608852843558, 'l1_ratio': 0.7824031214912025}. Best is trial 81 with value: 0.15170009097460677.\n",
      "[I 2023-06-07 15:55:52,309] Trial 144 finished with value: 0.150089652661525 and parameters: {'regressor': 'ElasticNet', 'alpha': 0.0004357276595126167, 'l1_ratio': 0.8194743942861044}. Best is trial 81 with value: 0.15170009097460677.\n",
      "[I 2023-06-07 15:55:52,451] Trial 145 finished with value: 0.14821112677229903 and parameters: {'regressor': 'ElasticNet', 'alpha': 0.0009725255809904539, 'l1_ratio': 0.771282821093145}. Best is trial 81 with value: 0.15170009097460677.\n",
      "[I 2023-06-07 15:55:52,603] Trial 146 finished with value: 0.15157893520851745 and parameters: {'regressor': 'ElasticNet', 'alpha': 0.0005788792512607103, 'l1_ratio': 0.6836123767263775}. Best is trial 81 with value: 0.15170009097460677.\n",
      "[I 2023-06-07 15:55:52,778] Trial 147 finished with value: 0.14639124124737263 and parameters: {'regressor': 'ElasticNet', 'alpha': 0.000298877781282101, 'l1_ratio': 0.7492483366630909}. Best is trial 81 with value: 0.15170009097460677.\n",
      "[I 2023-06-07 15:55:52,926] Trial 148 finished with value: 0.1507787761415096 and parameters: {'regressor': 'ElasticNet', 'alpha': 0.0007826802277238293, 'l1_ratio': 0.7253604559732602}. Best is trial 81 with value: 0.15170009097460677.\n",
      "[I 2023-06-07 15:55:53,090] Trial 149 finished with value: 0.14949313904142197 and parameters: {'regressor': 'ElasticNet', 'alpha': 0.00040442769878202146, 'l1_ratio': 0.7893718881018139}. Best is trial 81 with value: 0.15170009097460677.\n",
      "[I 2023-06-07 15:55:53,177] Trial 150 finished with value: 0.12157069318821215 and parameters: {'regressor': 'LinearRegression'}. Best is trial 81 with value: 0.15170009097460677.\n",
      "[I 2023-06-07 15:55:53,326] Trial 151 finished with value: 0.15126956791923196 and parameters: {'regressor': 'ElasticNet', 'alpha': 0.0005172552576444086, 'l1_ratio': 0.7599327371886004}. Best is trial 81 with value: 0.15170009097460677.\n",
      "[I 2023-06-07 15:55:53,474] Trial 152 finished with value: 0.15167591897362323 and parameters: {'regressor': 'ElasticNet', 'alpha': 0.0005985937420221199, 'l1_ratio': 0.8016532104815968}. Best is trial 81 with value: 0.15170009097460677.\n",
      "[I 2023-06-07 15:55:53,621] Trial 153 finished with value: 0.15166786188585815 and parameters: {'regressor': 'ElasticNet', 'alpha': 0.0006291923572364671, 'l1_ratio': 0.8086336124988786}. Best is trial 81 with value: 0.15170009097460677.\n",
      "[I 2023-06-07 15:55:53,770] Trial 154 finished with value: 0.15151918375808313 and parameters: {'regressor': 'ElasticNet', 'alpha': 0.0006652619279354606, 'l1_ratio': 0.8303227128342043}. Best is trial 81 with value: 0.15170009097460677.\n",
      "[I 2023-06-07 15:55:53,922] Trial 155 finished with value: 0.15067900978744939 and parameters: {'regressor': 'ElasticNet', 'alpha': 0.0004764467456752848, 'l1_ratio': 0.8575506288750568}. Best is trial 81 with value: 0.15170009097460677.\n",
      "[I 2023-06-07 15:55:54,228] Trial 156 finished with value: 0.009266152564101649 and parameters: {'regressor': 'KNeighborsRegressor', 'n_neighbors': 42, 'weights': 'distance', 'p': 2}. Best is trial 81 with value: 0.15170009097460677.\n",
      "[I 2023-06-07 15:55:54,374] Trial 157 finished with value: 0.15004404412450367 and parameters: {'regressor': 'ElasticNet', 'alpha': 0.0008502151498327055, 'l1_ratio': 0.7727381802416088}. Best is trial 81 with value: 0.15170009097460677.\n",
      "[I 2023-06-07 15:55:54,508] Trial 158 finished with value: 0.14133053828112038 and parameters: {'regressor': 'ElasticNet', 'alpha': 0.0013335684007319624, 'l1_ratio': 0.8105109842438138}. Best is trial 81 with value: 0.15170009097460677.\n",
      "[I 2023-06-07 15:55:54,650] Trial 159 finished with value: 0.14728485918623052 and parameters: {'regressor': 'ElasticNet', 'alpha': 0.000999792723304355, 'l1_ratio': 0.8854202839493232}. Best is trial 81 with value: 0.15170009097460677.\n",
      "[I 2023-06-07 15:55:57,094] Trial 160 finished with value: 0.13125842251555145 and parameters: {'regressor': 'ExtraTreesRegressor', 'n_estimators': 373, 'max_depth': 19, 'min_samples_split': 3, 'min_samples_leaf': 7}. Best is trial 81 with value: 0.15170009097460677.\n",
      "[I 2023-06-07 15:55:57,242] Trial 161 finished with value: 0.15163975728581341 and parameters: {'regressor': 'ElasticNet', 'alpha': 0.0005857389988198224, 'l1_ratio': 0.8081683531437411}. Best is trial 81 with value: 0.15170009097460677.\n",
      "[I 2023-06-07 15:55:57,390] Trial 162 finished with value: 0.15152866936686915 and parameters: {'regressor': 'ElasticNet', 'alpha': 0.0006772508938262883, 'l1_ratio': 0.7946633005813954}. Best is trial 81 with value: 0.15170009097460677.\n",
      "[I 2023-06-07 15:55:57,541] Trial 163 finished with value: 0.15120485179756746 and parameters: {'regressor': 'ElasticNet', 'alpha': 0.0005103511624407772, 'l1_ratio': 0.741185717075518}. Best is trial 81 with value: 0.15170009097460677.\n",
      "[I 2023-06-07 15:55:57,704] Trial 164 finished with value: 0.14891578807427114 and parameters: {'regressor': 'ElasticNet', 'alpha': 0.00037614166554205916, 'l1_ratio': 0.7090643025589878}. Best is trial 81 with value: 0.15170009097460677.\n",
      "[I 2023-06-07 15:55:57,847] Trial 165 finished with value: 0.15054336988025646 and parameters: {'regressor': 'ElasticNet', 'alpha': 0.0007963434103362718, 'l1_ratio': 0.8455055457999462}. Best is trial 81 with value: 0.15170009097460677.\n",
      "[I 2023-06-07 15:55:57,997] Trial 166 finished with value: 0.15163834475958207 and parameters: {'regressor': 'ElasticNet', 'alpha': 0.0006275988080485552, 'l1_ratio': 0.8255888718296609}. Best is trial 81 with value: 0.15170009097460677.\n",
      "[I 2023-06-07 15:55:58,154] Trial 167 finished with value: 0.15107703429314417 and parameters: {'regressor': 'ElasticNet', 'alpha': 0.0004983161887958267, 'l1_ratio': 0.7713267947648795}. Best is trial 81 with value: 0.15170009097460677.\n",
      "[I 2023-06-07 15:55:58,325] Trial 168 finished with value: 0.14514304153822613 and parameters: {'regressor': 'ElasticNet', 'alpha': 0.00027199165360549586, 'l1_ratio': 0.7973297215580387}. Best is trial 81 with value: 0.15170009097460677.\n",
      "[I 2023-06-07 15:55:58,506] Trial 169 finished with value: 0.14960770088926006 and parameters: {'regressor': 'ElasticNet', 'alpha': 0.00041723967712465856, 'l1_ratio': 0.8682979339269334}. Best is trial 81 with value: 0.15170009097460677.\n",
      "[I 2023-06-07 15:55:58,705] Trial 170 finished with value: 0.14200270051343938 and parameters: {'regressor': 'ElasticNet', 'alpha': 0.00020855490369271849, 'l1_ratio': 0.7474980144746144}. Best is trial 81 with value: 0.15170009097460677.\n",
      "[I 2023-06-07 15:55:58,855] Trial 171 finished with value: 0.15158444352043438 and parameters: {'regressor': 'ElasticNet', 'alpha': 0.0005709125464815595, 'l1_ratio': 0.8107484408356264}. Best is trial 81 with value: 0.15170009097460677.\n",
      "[I 2023-06-07 15:55:59,002] Trial 172 finished with value: 0.15164470125714016 and parameters: {'regressor': 'ElasticNet', 'alpha': 0.0005989857071523147, 'l1_ratio': 0.8252098620718441}. Best is trial 81 with value: 0.15170009097460677.\n",
      "[I 2023-06-07 15:55:59,149] Trial 173 finished with value: 0.15101081354073478 and parameters: {'regressor': 'ElasticNet', 'alpha': 0.000750523876958308, 'l1_ratio': 0.8331144852226946}. Best is trial 81 with value: 0.15170009097460677.\n",
      "[I 2023-06-07 15:55:59,285] Trial 174 finished with value: 0.14543712187456398 and parameters: {'regressor': 'ElasticNet', 'alpha': 0.0011258123338779061, 'l1_ratio': 0.7792746342693256}. Best is trial 81 with value: 0.15170009097460677.\n"
     ]
    },
    {
     "name": "stderr",
     "output_type": "stream",
     "text": [
      "[I 2023-06-07 15:55:59,455] Trial 175 finished with value: 0.14781818714220898 and parameters: {'regressor': 'ElasticNet', 'alpha': 0.00033996770602964707, 'l1_ratio': 0.7585257213796659}. Best is trial 81 with value: 0.15170009097460677.\n",
      "[I 2023-06-07 15:55:59,596] Trial 176 finished with value: 0.14948881237381434 and parameters: {'regressor': 'ElasticNet', 'alpha': 0.0008931078750261339, 'l1_ratio': 0.728245688574413}. Best is trial 81 with value: 0.15170009097460677.\n",
      "[I 2023-06-07 15:56:03,147] Trial 177 finished with value: 0.1293472972124093 and parameters: {'regressor': 'RandomForestRegressor', 'n_estimators': 219, 'max_depth': 22, 'min_samples_split': 9, 'min_samples_leaf': 2}. Best is trial 81 with value: 0.15170009097460677.\n",
      "[I 2023-06-07 15:56:03,299] Trial 178 finished with value: 0.1515746111223565 and parameters: {'regressor': 'ElasticNet', 'alpha': 0.0006023202722345398, 'l1_ratio': 0.8556350732051277}. Best is trial 81 with value: 0.15170009097460677.\n",
      "[I 2023-06-07 15:56:03,461] Trial 179 finished with value: 0.1508160373900847 and parameters: {'regressor': 'ElasticNet', 'alpha': 0.00047858480874075866, 'l1_ratio': 0.7973040812552644}. Best is trial 81 with value: 0.15170009097460677.\n",
      "[I 2023-06-07 15:56:03,614] Trial 180 finished with value: 0.15136799559369638 and parameters: {'regressor': 'ElasticNet', 'alpha': 0.0007004645199514548, 'l1_ratio': 0.8257357961949536}. Best is trial 81 with value: 0.15170009097460677.\n",
      "[I 2023-06-07 15:56:03,764] Trial 181 finished with value: 0.15166701656132875 and parameters: {'regressor': 'ElasticNet', 'alpha': 0.0005934430105818898, 'l1_ratio': 0.7979420132617092}. Best is trial 81 with value: 0.15170009097460677.\n",
      "[I 2023-06-07 15:56:03,912] Trial 182 finished with value: 0.15169279026397173 and parameters: {'regressor': 'ElasticNet', 'alpha': 0.0006041114259521905, 'l1_ratio': 0.77720602891113}. Best is trial 81 with value: 0.15170009097460677.\n",
      "[I 2023-06-07 15:56:04,061] Trial 183 finished with value: 0.15058257658826904 and parameters: {'regressor': 'ElasticNet', 'alpha': 0.0008032928424837889, 'l1_ratio': 0.7776073858487816}. Best is trial 81 with value: 0.15170009097460677.\n",
      "[I 2023-06-07 15:56:04,220] Trial 184 finished with value: 0.15022668591117566 and parameters: {'regressor': 'ElasticNet', 'alpha': 0.00043898436866805145, 'l1_ratio': 0.760108148082722}. Best is trial 81 with value: 0.15170009097460677.\n",
      "[I 2023-06-07 15:56:04,370] Trial 185 finished with value: 0.15156171695716156 and parameters: {'regressor': 'ElasticNet', 'alpha': 0.0006741243471786501, 'l1_ratio': 0.7081189875039896}. Best is trial 81 with value: 0.15170009097460677.\n",
      "[I 2023-06-07 15:56:04,508] Trial 186 finished with value: 0.1478987593020563 and parameters: {'regressor': 'ElasticNet', 'alpha': 0.0009953041745433585, 'l1_ratio': 0.7325589780429108}. Best is trial 81 with value: 0.15170009097460677.\n",
      "[I 2023-06-07 15:56:04,663] Trial 187 finished with value: 0.15130130306843054 and parameters: {'regressor': 'ElasticNet', 'alpha': 0.0005257454109435446, 'l1_ratio': 0.8115518202834183}. Best is trial 81 with value: 0.15170009097460677.\n",
      "[I 2023-06-07 15:56:04,752] Trial 188 finished with value: 0.12157069318821215 and parameters: {'regressor': 'LinearRegression'}. Best is trial 81 with value: 0.15170009097460677.\n",
      "[I 2023-06-07 15:56:04,926] Trial 189 finished with value: 0.14912251720303232 and parameters: {'regressor': 'ElasticNet', 'alpha': 0.0004043915987884971, 'l1_ratio': 0.925254100772797}. Best is trial 81 with value: 0.15170009097460677.\n",
      "[I 2023-06-07 15:56:05,230] Trial 190 finished with value: 0.01774720651918791 and parameters: {'regressor': 'KNeighborsRegressor', 'n_neighbors': 22, 'weights': 'distance', 'p': 2}. Best is trial 81 with value: 0.15170009097460677.\n",
      "[I 2023-06-07 15:56:05,384] Trial 191 finished with value: 0.15165299949312402 and parameters: {'regressor': 'ElasticNet', 'alpha': 0.0005859736254951156, 'l1_ratio': 0.7818045920785716}. Best is trial 81 with value: 0.15170009097460677.\n",
      "[I 2023-06-07 15:56:05,534] Trial 192 finished with value: 0.151703704166611 and parameters: {'regressor': 'ElasticNet', 'alpha': 0.0006232109620911238, 'l1_ratio': 0.7791537154449919}. Best is trial 192 with value: 0.151703704166611.\n",
      "[I 2023-06-07 15:56:05,689] Trial 193 finished with value: 0.15082535635711358 and parameters: {'regressor': 'ElasticNet', 'alpha': 0.0007796545201298401, 'l1_ratio': 0.769649899477959}. Best is trial 192 with value: 0.151703704166611.\n",
      "[I 2023-06-07 15:56:05,848] Trial 194 finished with value: 0.15084388339467564 and parameters: {'regressor': 'ElasticNet', 'alpha': 0.0004787765342991946, 'l1_ratio': 0.7428635458844727}. Best is trial 192 with value: 0.151703704166611.\n",
      "[I 2023-06-07 15:56:05,996] Trial 195 finished with value: 0.15162818626804278 and parameters: {'regressor': 'ElasticNet', 'alpha': 0.0006573657037200266, 'l1_ratio': 0.7877178980674184}. Best is trial 192 with value: 0.151703704166611.\n",
      "[I 2023-06-07 15:56:06,140] Trial 196 finished with value: 0.14983452562940153 and parameters: {'regressor': 'ElasticNet', 'alpha': 0.0008673910795756081, 'l1_ratio': 0.7531802349619903}. Best is trial 192 with value: 0.151703704166611.\n",
      "[I 2023-06-07 15:56:06,319] Trial 197 finished with value: 0.14804834651365645 and parameters: {'regressor': 'ElasticNet', 'alpha': 0.00034905799809684216, 'l1_ratio': 0.7848137317661878}. Best is trial 192 with value: 0.151703704166611.\n",
      "[I 2023-06-07 15:56:07,947] Trial 198 finished with value: 0.13507643356162538 and parameters: {'regressor': 'ExtraTreesRegressor', 'n_estimators': 151, 'max_depth': 28, 'min_samples_split': 4, 'min_samples_leaf': 8}. Best is trial 192 with value: 0.151703704166611.\n",
      "[I 2023-06-07 15:56:08,100] Trial 199 finished with value: 0.15142182664286627 and parameters: {'regressor': 'ElasticNet', 'alpha': 0.0005427856344865162, 'l1_ratio': 0.6894264981038619}. Best is trial 192 with value: 0.151703704166611.\n",
      "[I 2023-06-07 15:56:08,247] Trial 200 finished with value: 0.15133022101672872 and parameters: {'regressor': 'ElasticNet', 'alpha': 0.0007193840269179797, 'l1_ratio': 0.7212474780711869}. Best is trial 192 with value: 0.151703704166611.\n",
      "[I 2023-06-07 15:56:08,398] Trial 201 finished with value: 0.15163075504548584 and parameters: {'regressor': 'ElasticNet', 'alpha': 0.0006130420281073749, 'l1_ratio': 0.8343410590963385}. Best is trial 192 with value: 0.151703704166611.\n",
      "[I 2023-06-07 15:56:08,553] Trial 202 finished with value: 0.15149545811182627 and parameters: {'regressor': 'ElasticNet', 'alpha': 0.0005529385280731504, 'l1_ratio': 0.8081622868723926}. Best is trial 192 with value: 0.151703704166611.\n",
      "[I 2023-06-07 15:56:08,715] Trial 203 finished with value: 0.1504701076629115 and parameters: {'regressor': 'ElasticNet', 'alpha': 0.000453767985863535, 'l1_ratio': 0.7688911675793572}. Best is trial 192 with value: 0.151703704166611.\n",
      "[I 2023-06-07 15:56:08,863] Trial 204 finished with value: 0.15161061631573047 and parameters: {'regressor': 'ElasticNet', 'alpha': 0.0006419019628807192, 'l1_ratio': 0.8240293637382594}. Best is trial 192 with value: 0.151703704166611.\n",
      "[I 2023-06-07 15:56:09,086] Trial 205 finished with value: 0.133897571006949 and parameters: {'regressor': 'ElasticNet', 'alpha': 0.00010463808609093959, 'l1_ratio': 0.7969928318279215}. Best is trial 192 with value: 0.151703704166611.\n",
      "[I 2023-06-07 15:56:09,226] Trial 206 finished with value: 0.14604582366242186 and parameters: {'regressor': 'ElasticNet', 'alpha': 0.001079816520365575, 'l1_ratio': 0.8466241032143653}. Best is trial 192 with value: 0.151703704166611.\n",
      "[I 2023-06-07 15:56:09,377] Trial 207 finished with value: 0.14997936463997083 and parameters: {'regressor': 'ElasticNet', 'alpha': 0.0008559979547373705, 'l1_ratio': 0.7537377123363126}. Best is trial 192 with value: 0.151703704166611.\n",
      "[I 2023-06-07 15:56:09,500] Trial 208 finished with value: 0.08550042590898557 and parameters: {'regressor': 'ElasticNet', 'alpha': 0.005712625376171237, 'l1_ratio': 0.777597081583267}. Best is trial 192 with value: 0.151703704166611.\n",
      "[I 2023-06-07 15:56:09,653] Trial 209 finished with value: 0.15143828789386288 and parameters: {'regressor': 'ElasticNet', 'alpha': 0.0005446200753925498, 'l1_ratio': 0.8141962810983587}. Best is trial 192 with value: 0.151703704166611.\n"
     ]
    },
    {
     "name": "stderr",
     "output_type": "stream",
     "text": [
      "[I 2023-06-07 15:56:09,813] Trial 210 finished with value: 0.14927088273414996 and parameters: {'regressor': 'ElasticNet', 'alpha': 0.00040348443607139407, 'l1_ratio': 0.8765187805694726}. Best is trial 192 with value: 0.151703704166611.\n",
      "[I 2023-06-07 15:56:09,965] Trial 211 finished with value: 0.15169027604624225 and parameters: {'regressor': 'ElasticNet', 'alpha': 0.0006044980165049286, 'l1_ratio': 0.7929976064771399}. Best is trial 192 with value: 0.151703704166611.\n",
      "[I 2023-06-07 15:56:10,113] Trial 212 finished with value: 0.15126019549657302 and parameters: {'regressor': 'ElasticNet', 'alpha': 0.0007242852398179804, 'l1_ratio': 0.7947131716898246}. Best is trial 192 with value: 0.151703704166611.\n",
      "[I 2023-06-07 15:56:10,263] Trial 213 finished with value: 0.15169636207852755 and parameters: {'regressor': 'ElasticNet', 'alpha': 0.000607043129272415, 'l1_ratio': 0.7664820569718316}. Best is trial 192 with value: 0.151703704166611.\n",
      "[I 2023-06-07 15:56:10,419] Trial 214 finished with value: 0.15068164055675123 and parameters: {'regressor': 'ElasticNet', 'alpha': 0.00046686373105323344, 'l1_ratio': 0.7473897982827018}. Best is trial 192 with value: 0.151703704166611.\n",
      "[I 2023-06-07 15:56:10,567] Trial 215 finished with value: 0.1514516170784417 and parameters: {'regressor': 'ElasticNet', 'alpha': 0.0006966807291556877, 'l1_ratio': 0.7711359889960343}. Best is trial 192 with value: 0.151703704166611.\n",
      "[I 2023-06-07 15:56:10,721] Trial 216 finished with value: 0.15136867522468278 and parameters: {'regressor': 'ElasticNet', 'alpha': 0.0005295647373129421, 'l1_ratio': 0.7341841841037019}. Best is trial 192 with value: 0.151703704166611.\n",
      "[I 2023-06-07 15:56:17,556] Trial 217 finished with value: 0.13334378812466618 and parameters: {'regressor': 'RandomForestRegressor', 'n_estimators': 303, 'max_depth': 32, 'min_samples_split': 8, 'min_samples_leaf': 4}. Best is trial 192 with value: 0.151703704166611.\n",
      "[I 2023-06-07 15:56:17,697] Trial 218 finished with value: 0.14893948911216964 and parameters: {'regressor': 'ElasticNet', 'alpha': 0.0009257053641051214, 'l1_ratio': 0.7886092031066138}. Best is trial 192 with value: 0.151703704166611.\n",
      "[I 2023-06-07 15:56:17,844] Trial 219 finished with value: 0.15153224748581992 and parameters: {'regressor': 'ElasticNet', 'alpha': 0.0006610638858652352, 'l1_ratio': 0.6688893825630543}. Best is trial 192 with value: 0.151703704166611.\n",
      "[I 2023-06-07 15:56:18,012] Trial 220 finished with value: 0.1487993328910527 and parameters: {'regressor': 'ElasticNet', 'alpha': 0.0003738044663018753, 'l1_ratio': 0.7611431904971787}. Best is trial 192 with value: 0.151703704166611.\n",
      "[I 2023-06-07 15:56:18,160] Trial 221 finished with value: 0.1515522089758179 and parameters: {'regressor': 'ElasticNet', 'alpha': 0.0005663028411998477, 'l1_ratio': 0.8220007204170635}. Best is trial 192 with value: 0.151703704166611.\n",
      "[I 2023-06-07 15:56:18,307] Trial 222 finished with value: 0.15167734513896752 and parameters: {'regressor': 'ElasticNet', 'alpha': 0.0006261010469482508, 'l1_ratio': 0.8049121159842116}. Best is trial 192 with value: 0.151703704166611.\n",
      "[I 2023-06-07 15:56:18,462] Trial 223 finished with value: 0.15109885420182084 and parameters: {'regressor': 'ElasticNet', 'alpha': 0.0007462964264657104, 'l1_ratio': 0.7988061702232298}. Best is trial 192 with value: 0.151703704166611.\n",
      "[I 2023-06-07 15:56:18,623] Trial 224 finished with value: 0.15075985359659133 and parameters: {'regressor': 'ElasticNet', 'alpha': 0.00047340406048138105, 'l1_ratio': 0.7780677352674038}. Best is trial 192 with value: 0.151703704166611.\n",
      "[I 2023-06-07 15:56:18,771] Trial 225 finished with value: 0.15160405378081138 and parameters: {'regressor': 'ElasticNet', 'alpha': 0.0005990606649593768, 'l1_ratio': 0.8436959425204704}. Best is trial 192 with value: 0.151703704166611.\n",
      "[I 2023-06-07 15:56:18,953] Trial 226 finished with value: 0.13761402515914548 and parameters: {'regressor': 'ElasticNet', 'alpha': 0.0001561739883040842, 'l1_ratio': 0.9753609445476155}. Best is trial 192 with value: 0.151703704166611.\n",
      "[I 2023-06-07 15:56:19,097] Trial 227 finished with value: 0.15077636289660656 and parameters: {'regressor': 'ElasticNet', 'alpha': 0.0007819915254806319, 'l1_ratio': 0.7107585710366541}. Best is trial 192 with value: 0.151703704166611.\n",
      "[I 2023-06-07 15:56:19,253] Trial 228 finished with value: 0.15099814961090152 and parameters: {'regressor': 'ElasticNet', 'alpha': 0.0004938893659681061, 'l1_ratio': 0.8054171722557165}. Best is trial 192 with value: 0.151703704166611.\n",
      "[I 2023-06-07 15:56:19,335] Trial 229 finished with value: 0.12157069318821215 and parameters: {'regressor': 'LinearRegression'}. Best is trial 192 with value: 0.151703704166611.\n",
      "[I 2023-06-07 15:56:19,434] Trial 230 finished with value: 0.027208717035795305 and parameters: {'regressor': 'ElasticNet', 'alpha': 0.017606501441435617, 'l1_ratio': 0.7557350288125659}. Best is trial 192 with value: 0.151703704166611.\n",
      "[I 2023-06-07 15:56:19,584] Trial 231 finished with value: 0.15163561673198242 and parameters: {'regressor': 'ElasticNet', 'alpha': 0.000632070105540273, 'l1_ratio': 0.8232495846968165}. Best is trial 192 with value: 0.151703704166611.\n",
      "[I 2023-06-07 15:56:19,732] Trial 232 finished with value: 0.1516748932964506 and parameters: {'regressor': 'ElasticNet', 'alpha': 0.000595206488187784, 'l1_ratio': 0.787494537987383}. Best is trial 192 with value: 0.151703704166611.\n",
      "[I 2023-06-07 15:56:19,882] Trial 233 finished with value: 0.15146742803289742 and parameters: {'regressor': 'ElasticNet', 'alpha': 0.0005457542979039689, 'l1_ratio': 0.7861984699972756}. Best is trial 192 with value: 0.151703704166611.\n",
      "[I 2023-06-07 15:56:20,032] Trial 234 finished with value: 0.1511177811685133 and parameters: {'regressor': 'ElasticNet', 'alpha': 0.0007452059188567733, 'l1_ratio': 0.7353138024827609}. Best is trial 192 with value: 0.151703704166611.\n",
      "[I 2023-06-07 15:56:20,179] Trial 235 finished with value: 0.14912539848715425 and parameters: {'regressor': 'ElasticNet', 'alpha': 0.0009162958171467075, 'l1_ratio': 0.7701128509210906}. Best is trial 192 with value: 0.151703704166611.\n",
      "[I 2023-06-07 15:56:20,735] Trial 236 finished with value: -0.12842421216108738 and parameters: {'regressor': 'KNeighborsRegressor', 'n_neighbors': 8, 'weights': 'uniform', 'p': 1}. Best is trial 192 with value: 0.151703704166611.\n",
      "[I 2023-06-07 15:56:20,891] Trial 237 finished with value: 0.15018783757519566 and parameters: {'regressor': 'ElasticNet', 'alpha': 0.0004396129960537414, 'l1_ratio': 0.8031438626379852}. Best is trial 192 with value: 0.151703704166611.\n",
      "[I 2023-06-07 15:56:21,042] Trial 238 finished with value: 0.15170295765976877 and parameters: {'regressor': 'ElasticNet', 'alpha': 0.0006242206360958966, 'l1_ratio': 0.7800972465256909}. Best is trial 192 with value: 0.151703704166611.\n",
      "[I 2023-06-07 15:56:21,192] Trial 239 finished with value: 0.15168956815361123 and parameters: {'regressor': 'ElasticNet', 'alpha': 0.0006338383667272327, 'l1_ratio': 0.7861553369106132}. Best is trial 192 with value: 0.151703704166611.\n",
      "[I 2023-06-07 15:56:21,340] Trial 240 finished with value: 0.15144701645364972 and parameters: {'regressor': 'ElasticNet', 'alpha': 0.0006937693626056421, 'l1_ratio': 0.7902925637929807}. Best is trial 192 with value: 0.151703704166611.\n",
      "[I 2023-06-07 15:56:21,494] Trial 241 finished with value: 0.15169939652168032 and parameters: {'regressor': 'ElasticNet', 'alpha': 0.0006090981351397374, 'l1_ratio': 0.7743169794783195}. Best is trial 192 with value: 0.151703704166611.\n",
      "[I 2023-06-07 15:56:21,644] Trial 242 finished with value: 0.15118452920379707 and parameters: {'regressor': 'ElasticNet', 'alpha': 0.0005089997901953191, 'l1_ratio': 0.7795189859746402}. Best is trial 192 with value: 0.151703704166611.\n",
      "[I 2023-06-07 15:56:21,792] Trial 243 finished with value: 0.15166562303697656 and parameters: {'regressor': 'ElasticNet', 'alpha': 0.0005988708856833724, 'l1_ratio': 0.8119568093150534}. Best is trial 192 with value: 0.151703704166611.\n",
      "[I 2023-06-07 15:56:21,936] Trial 244 finished with value: 0.15067691855358048 and parameters: {'regressor': 'ElasticNet', 'alpha': 0.0007911532920974216, 'l1_ratio': 0.8075110692736629}. Best is trial 192 with value: 0.151703704166611.\n"
     ]
    },
    {
     "name": "stderr",
     "output_type": "stream",
     "text": [
      "[I 2023-06-07 15:56:22,084] Trial 245 finished with value: 0.15169457338726108 and parameters: {'regressor': 'ElasticNet', 'alpha': 0.0006369638822705381, 'l1_ratio': 0.7682542856025842}. Best is trial 192 with value: 0.151703704166611.\n",
      "[I 2023-06-07 15:56:22,234] Trial 246 finished with value: 0.15157382238445385 and parameters: {'regressor': 'ElasticNet', 'alpha': 0.0006775308321217611, 'l1_ratio': 0.758651871544264}. Best is trial 192 with value: 0.151703704166611.\n",
      "[I 2023-06-07 15:56:22,378] Trial 247 finished with value: 0.14906454796102797 and parameters: {'regressor': 'ElasticNet', 'alpha': 0.0009157449548850582, 'l1_ratio': 0.7999648335587356}. Best is trial 192 with value: 0.151703704166611.\n",
      "[I 2023-06-07 15:56:25,315] Trial 248 finished with value: 0.12514202948968528 and parameters: {'regressor': 'ExtraTreesRegressor', 'n_estimators': 458, 'max_depth': 18, 'min_samples_split': 2, 'min_samples_leaf': 2}. Best is trial 192 with value: 0.151703704166611.\n",
      "[I 2023-06-07 15:56:25,535] Trial 249 finished with value: 0.13567621189504062 and parameters: {'regressor': 'ElasticNet', 'alpha': 0.00012344870252809783, 'l1_ratio': 0.7769536641196424}. Best is trial 192 with value: 0.151703704166611.\n",
      "[I 2023-06-07 15:56:25,693] Trial 250 finished with value: 0.15035881997247216 and parameters: {'regressor': 'ElasticNet', 'alpha': 0.00045290678239995834, 'l1_ratio': 0.8424439005544966}. Best is trial 192 with value: 0.151703704166611.\n",
      "[I 2023-06-07 15:56:25,842] Trial 251 finished with value: 0.15165962994820553 and parameters: {'regressor': 'ElasticNet', 'alpha': 0.0006540071818093247, 'l1_ratio': 0.7505854181047358}. Best is trial 192 with value: 0.151703704166611.\n",
      "[I 2023-06-07 15:56:25,992] Trial 252 finished with value: 0.15046237274410257 and parameters: {'regressor': 'ElasticNet', 'alpha': 0.0007961035138871574, 'l1_ratio': 0.6045410229335497}. Best is trial 192 with value: 0.151703704166611.\n",
      "[I 2023-06-07 15:56:26,142] Trial 253 finished with value: 0.15120327068600098 and parameters: {'regressor': 'ElasticNet', 'alpha': 0.0005142346703189871, 'l1_ratio': 0.8082314679872712}. Best is trial 192 with value: 0.151703704166611.\n",
      "[I 2023-06-07 15:56:26,300] Trial 254 finished with value: 0.1497450052722467 and parameters: {'regressor': 'ElasticNet', 'alpha': 0.0004146211326187352, 'l1_ratio': 0.7683474567908333}. Best is trial 192 with value: 0.151703704166611.\n",
      "[I 2023-06-07 15:56:26,447] Trial 255 finished with value: 0.15167826628308922 and parameters: {'regressor': 'ElasticNet', 'alpha': 0.0006032628029979337, 'l1_ratio': 0.7389689005712438}. Best is trial 192 with value: 0.151703704166611.\n",
      "[I 2023-06-07 15:56:26,623] Trial 256 finished with value: 0.1469244746594663 and parameters: {'regressor': 'ElasticNet', 'alpha': 0.00031241816802939825, 'l1_ratio': 0.7386314577704949}. Best is trial 192 with value: 0.151703704166611.\n",
      "[I 2023-06-07 15:56:26,758] Trial 257 finished with value: 0.14468006164345065 and parameters: {'regressor': 'ElasticNet', 'alpha': 0.0011713124964757443, 'l1_ratio': 0.7237440631515549}. Best is trial 192 with value: 0.151703704166611.\n",
      "[I 2023-06-07 15:56:28,182] Trial 258 finished with value: 0.10749847037554139 and parameters: {'regressor': 'RandomForestRegressor', 'n_estimators': 402, 'max_depth': 4, 'min_samples_split': 10, 'min_samples_leaf': 8}. Best is trial 192 with value: 0.151703704166611.\n",
      "[I 2023-06-07 15:56:28,334] Trial 259 finished with value: 0.15111948427053828 and parameters: {'regressor': 'ElasticNet', 'alpha': 0.0005987067959462673, 'l1_ratio': 0.5110119890055419}. Best is trial 192 with value: 0.151703704166611.\n",
      "[I 2023-06-07 15:56:28,489] Trial 260 finished with value: 0.15110008621860732 and parameters: {'regressor': 'ElasticNet', 'alpha': 0.0004999617079036148, 'l1_ratio': 0.751234154938919}. Best is trial 192 with value: 0.151703704166611.\n",
      "[I 2023-06-07 15:56:28,637] Trial 261 finished with value: 0.1502057818381783 and parameters: {'regressor': 'ElasticNet', 'alpha': 0.0008200857155389779, 'l1_ratio': 0.8608547099148465}. Best is trial 192 with value: 0.151703704166611.\n",
      "[I 2023-06-07 15:56:28,789] Trial 262 finished with value: 0.1515432299944979 and parameters: {'regressor': 'ElasticNet', 'alpha': 0.0006640980847268327, 'l1_ratio': 0.8191565145988384}. Best is trial 192 with value: 0.151703704166611.\n",
      "[I 2023-06-07 15:56:28,952] Trial 263 finished with value: 0.14909705463029174 and parameters: {'regressor': 'ElasticNet', 'alpha': 0.00038765228737395205, 'l1_ratio': 0.7914339454672931}. Best is trial 192 with value: 0.151703704166611.\n",
      "[I 2023-06-07 15:56:29,090] Trial 264 finished with value: 0.1484421600454863 and parameters: {'regressor': 'ElasticNet', 'alpha': 0.0009632321578652056, 'l1_ratio': 0.7001566308481204}. Best is trial 192 with value: 0.151703704166611.\n",
      "[I 2023-06-07 15:56:29,242] Trial 265 finished with value: 0.15083689854943527 and parameters: {'regressor': 'ElasticNet', 'alpha': 0.0005636467443878158, 'l1_ratio': 0.4607721575035205}. Best is trial 192 with value: 0.151703704166611.\n",
      "[I 2023-06-07 15:56:29,329] Trial 266 finished with value: 0.12157069318821215 and parameters: {'regressor': 'LinearRegression'}. Best is trial 192 with value: 0.151703704166611.\n",
      "[I 2023-06-07 15:56:29,477] Trial 267 finished with value: 0.15126013727358908 and parameters: {'regressor': 'ElasticNet', 'alpha': 0.0007261334750852883, 'l1_ratio': 0.7688381154852986}. Best is trial 192 with value: 0.151703704166611.\n",
      "[I 2023-06-07 15:56:29,635] Trial 268 finished with value: 0.15061612643958738 and parameters: {'regressor': 'ElasticNet', 'alpha': 0.0004683844679367767, 'l1_ratio': 0.8357498546042739}. Best is trial 192 with value: 0.151703704166611.\n",
      "[I 2023-06-07 15:56:29,940] Trial 269 finished with value: 0.012925656524831363 and parameters: {'regressor': 'KNeighborsRegressor', 'n_neighbors': 34, 'weights': 'distance', 'p': 2}. Best is trial 192 with value: 0.151703704166611.\n",
      "[I 2023-06-07 15:56:30,092] Trial 270 finished with value: 0.15166770658027756 and parameters: {'regressor': 'ElasticNet', 'alpha': 0.0005978089626759595, 'l1_ratio': 0.7368990959125667}. Best is trial 192 with value: 0.151703704166611.\n",
      "[I 2023-06-07 15:56:30,222] Trial 271 finished with value: 0.13627465197201533 and parameters: {'regressor': 'ElasticNet', 'alpha': 0.001601660843552677, 'l1_ratio': 0.7213467887615229}. Best is trial 192 with value: 0.151703704166611.\n",
      "[I 2023-06-07 15:56:30,415] Trial 272 finished with value: 0.14246438107150178 and parameters: {'regressor': 'ElasticNet', 'alpha': 0.00021573285562455832, 'l1_ratio': 0.7336816071242098}. Best is trial 192 with value: 0.151703704166611.\n",
      "[I 2023-06-07 15:56:30,582] Trial 273 finished with value: 0.14865004360164225 and parameters: {'regressor': 'ElasticNet', 'alpha': 0.0003676458645958059, 'l1_ratio': 0.7497666205256858}. Best is trial 192 with value: 0.151703704166611.\n",
      "[I 2023-06-07 15:56:31,767] Trial 274 finished with value: 0.11927408889936013 and parameters: {'regressor': 'ExtraTreesRegressor', 'n_estimators': 368, 'max_depth': 9, 'min_samples_split': 6, 'min_samples_leaf': 10}. Best is trial 192 with value: 0.151703704166611.\n",
      "[I 2023-06-07 15:56:31,917] Trial 275 finished with value: 0.15157287768110903 and parameters: {'regressor': 'ElasticNet', 'alpha': 0.0005646161801042399, 'l1_ratio': 0.7758801701803957}. Best is trial 192 with value: 0.151703704166611.\n",
      "[I 2023-06-07 15:56:32,059] Trial 276 finished with value: 0.14978830002067914 and parameters: {'regressor': 'ElasticNet', 'alpha': 0.0008514479212851626, 'l1_ratio': 0.5852699396648444}. Best is trial 192 with value: 0.151703704166611.\n",
      "[I 2023-06-07 15:56:32,211] Trial 277 finished with value: 0.15146129375798362 and parameters: {'regressor': 'ElasticNet', 'alpha': 0.0006930584314608286, 'l1_ratio': 0.6949976398875813}. Best is trial 192 with value: 0.151703704166611.\n",
      "[I 2023-06-07 15:56:32,380] Trial 278 finished with value: 0.15110682016600802 and parameters: {'regressor': 'ElasticNet', 'alpha': 0.0005025437674433277, 'l1_ratio': 0.7938257299404545}. Best is trial 192 with value: 0.151703704166611.\n",
      "[I 2023-06-07 15:56:32,516] Trial 279 finished with value: 0.14740175390250604 and parameters: {'regressor': 'ElasticNet', 'alpha': 0.0010203093511597704, 'l1_ratio': 0.7639903009044616}. Best is trial 192 with value: 0.151703704166611.\n"
     ]
    },
    {
     "name": "stderr",
     "output_type": "stream",
     "text": [
      "[I 2023-06-07 15:56:32,676] Trial 280 finished with value: 0.1516899630335772 and parameters: {'regressor': 'ElasticNet', 'alpha': 0.0006290831123702395, 'l1_ratio': 0.7387127606673815}. Best is trial 192 with value: 0.151703704166611.\n",
      "[I 2023-06-07 15:56:32,815] Trial 281 finished with value: 0.14284202430761322 and parameters: {'regressor': 'ElasticNet', 'alpha': 0.001267291082388702, 'l1_ratio': 0.6455010248640345}. Best is trial 192 with value: 0.151703704166611.\n",
      "[I 2023-06-07 15:56:32,973] Trial 282 finished with value: 0.14987719605909358 and parameters: {'regressor': 'ElasticNet', 'alpha': 0.00041986281768929286, 'l1_ratio': 0.7465674439369564}. Best is trial 192 with value: 0.151703704166611.\n",
      "[I 2023-06-07 15:56:33,146] Trial 283 finished with value: 0.14565743697294048 and parameters: {'regressor': 'ElasticNet', 'alpha': 0.00028189973815459095, 'l1_ratio': 0.29325680288984507}. Best is trial 192 with value: 0.151703704166611.\n",
      "[I 2023-06-07 15:56:33,296] Trial 284 finished with value: 0.15109289197808126 and parameters: {'regressor': 'ElasticNet', 'alpha': 0.0007483488463965731, 'l1_ratio': 0.7147534775268152}. Best is trial 192 with value: 0.151703704166611.\n",
      "[I 2023-06-07 15:56:33,418] Trial 285 finished with value: 0.12621213512123772 and parameters: {'regressor': 'ElasticNet', 'alpha': 0.002233890751397194, 'l1_ratio': 0.7858453442467006}. Best is trial 192 with value: 0.151703704166611.\n",
      "[I 2023-06-07 15:56:34,798] Trial 286 finished with value: 0.12677054877158897 and parameters: {'regressor': 'RandomForestRegressor', 'n_estimators': 131, 'max_depth': 13, 'min_samples_split': 2, 'min_samples_leaf': 6}. Best is trial 192 with value: 0.151703704166611.\n",
      "[I 2023-06-07 15:56:34,949] Trial 287 finished with value: 0.15170531048357222 and parameters: {'regressor': 'ElasticNet', 'alpha': 0.0006196615559214024, 'l1_ratio': 0.7650934597643017}. Best is trial 287 with value: 0.15170531048357222.\n",
      "[I 2023-06-07 15:56:35,097] Trial 288 finished with value: 0.14959543731732056 and parameters: {'regressor': 'ElasticNet', 'alpha': 0.000884980211639955, 'l1_ratio': 0.7589593236386444}. Best is trial 287 with value: 0.15170531048357222.\n",
      "[I 2023-06-07 15:56:35,247] Trial 289 finished with value: 0.1516495469522529 and parameters: {'regressor': 'ElasticNet', 'alpha': 0.0006555739114580905, 'l1_ratio': 0.738722738338735}. Best is trial 287 with value: 0.15170531048357222.\n",
      "[I 2023-06-07 15:56:35,401] Trial 290 finished with value: 0.151197316270569 and parameters: {'regressor': 'ElasticNet', 'alpha': 0.0005142487138654139, 'l1_ratio': 0.6792274641562492}. Best is trial 287 with value: 0.15170531048357222.\n",
      "[I 2023-06-07 15:56:35,549] Trial 291 finished with value: 0.15084957350685485 and parameters: {'regressor': 'ElasticNet', 'alpha': 0.0007770149340667017, 'l1_ratio': 0.7720521983137326}. Best is trial 287 with value: 0.15170531048357222.\n",
      "[I 2023-06-07 15:56:35,707] Trial 292 finished with value: 0.1499096623593706 and parameters: {'regressor': 'ElasticNet', 'alpha': 0.0004241901029898935, 'l1_ratio': 0.7934509288432583}. Best is trial 287 with value: 0.15170531048357222.\n",
      "[I 2023-06-07 15:56:35,882] Trial 293 finished with value: 0.14743845318761378 and parameters: {'regressor': 'ElasticNet', 'alpha': 0.00032612470548986467, 'l1_ratio': 0.7192921140374262}. Best is trial 287 with value: 0.15170531048357222.\n",
      "[I 2023-06-07 15:56:35,968] Trial 294 finished with value: 0.12157069318821215 and parameters: {'regressor': 'LinearRegression'}. Best is trial 287 with value: 0.15170531048357222.\n",
      "[I 2023-06-07 15:56:36,119] Trial 295 finished with value: 0.15170364424885563 and parameters: {'regressor': 'ElasticNet', 'alpha': 0.0006174976404984019, 'l1_ratio': 0.7622000838731892}. Best is trial 287 with value: 0.15170531048357222.\n",
      "[I 2023-06-07 15:56:36,696] Trial 296 finished with value: 0.004959086933434243 and parameters: {'regressor': 'KNeighborsRegressor', 'n_neighbors': 49, 'weights': 'uniform', 'p': 1}. Best is trial 287 with value: 0.15170531048357222.\n",
      "[I 2023-06-07 15:56:36,835] Trial 297 finished with value: 0.14615194593754105 and parameters: {'regressor': 'ElasticNet', 'alpha': 0.0010921037648938443, 'l1_ratio': 0.7420034763652209}. Best is trial 287 with value: 0.15170531048357222.\n",
      "[I 2023-06-07 15:56:36,984] Trial 298 finished with value: 0.15165084013297073 and parameters: {'regressor': 'ElasticNet', 'alpha': 0.0006566084911520644, 'l1_ratio': 0.7648227909619171}. Best is trial 287 with value: 0.15170531048357222.\n",
      "[I 2023-06-07 15:56:37,141] Trial 299 finished with value: 0.15102759273689736 and parameters: {'regressor': 'ElasticNet', 'alpha': 0.0004942334623180922, 'l1_ratio': 0.7774131394141914}. Best is trial 287 with value: 0.15170531048357222.\n",
      "[I 2023-06-07 15:56:37,297] Trial 300 finished with value: 0.15035074385353253 and parameters: {'regressor': 'ElasticNet', 'alpha': 0.0008249792626009593, 'l1_ratio': 0.7510793463565104}. Best is trial 287 with value: 0.15170531048357222.\n",
      "[I 2023-06-07 15:56:39,135] Trial 301 finished with value: 0.13458983945695568 and parameters: {'regressor': 'ExtraTreesRegressor', 'n_estimators': 176, 'max_depth': 28, 'min_samples_split': 7, 'min_samples_leaf': 9}. Best is trial 287 with value: 0.15170531048357222.\n",
      "[I 2023-06-07 15:56:39,305] Trial 302 finished with value: 0.15160961192950112 and parameters: {'regressor': 'ElasticNet', 'alpha': 0.0005765699546198312, 'l1_ratio': 0.7166534399031239}. Best is trial 287 with value: 0.15170531048357222.\n",
      "[I 2023-06-07 15:56:39,457] Trial 303 finished with value: 0.15087563344030563 and parameters: {'regressor': 'ElasticNet', 'alpha': 0.0007158863718814138, 'l1_ratio': 0.5396184284548813}. Best is trial 287 with value: 0.15170531048357222.\n",
      "[I 2023-06-07 15:56:39,614] Trial 304 finished with value: 0.150516388315995 and parameters: {'regressor': 'ElasticNet', 'alpha': 0.0004576318935321921, 'l1_ratio': 0.7836493900044508}. Best is trial 287 with value: 0.15170531048357222.\n",
      "[I 2023-06-07 15:56:39,764] Trial 305 finished with value: 0.1515037245716548 and parameters: {'regressor': 'ElasticNet', 'alpha': 0.000554539851166692, 'l1_ratio': 0.8089506796725886}. Best is trial 287 with value: 0.15170531048357222.\n",
      "[I 2023-06-07 15:56:39,945] Trial 306 finished with value: 0.14065619080731295 and parameters: {'regressor': 'ElasticNet', 'alpha': 0.00018780021188159068, 'l1_ratio': 0.7618451371714099}. Best is trial 287 with value: 0.15170531048357222.\n",
      "[I 2023-06-07 15:56:40,099] Trial 307 finished with value: 0.14415515942025697 and parameters: {'regressor': 'ElasticNet', 'alpha': 0.0009614057075032946, 'l1_ratio': 0.034736084861344496}. Best is trial 287 with value: 0.15170531048357222.\n",
      "[I 2023-06-07 15:56:40,272] Trial 308 finished with value: 0.14913380061131815 and parameters: {'regressor': 'ElasticNet', 'alpha': 0.00038558791001694635, 'l1_ratio': 0.7348990443174961}. Best is trial 287 with value: 0.15170531048357222.\n",
      "[I 2023-06-07 15:56:40,420] Trial 309 finished with value: 0.1514988535735236 and parameters: {'regressor': 'ElasticNet', 'alpha': 0.0006702738777424239, 'l1_ratio': 0.6667971344004976}. Best is trial 287 with value: 0.15170531048357222.\n",
      "[I 2023-06-07 15:56:40,616] Trial 310 finished with value: 0.13846271313323905 and parameters: {'regressor': 'ElasticNet', 'alpha': 0.00015465831286439824, 'l1_ratio': 0.6987066291660435}. Best is trial 287 with value: 0.15170531048357222.\n",
      "[I 2023-06-07 15:56:42,371] Trial 311 finished with value: 0.12243228607587212 and parameters: {'regressor': 'RandomForestRegressor', 'n_estimators': 224, 'max_depth': 10, 'min_samples_split': 9, 'min_samples_leaf': 5}. Best is trial 287 with value: 0.15170531048357222.\n",
      "[I 2023-06-07 15:56:42,469] Trial 312 finished with value: 0.017412991664603684 and parameters: {'regressor': 'ElasticNet', 'alpha': 0.02300209321554886, 'l1_ratio': 0.8964444072334087}. Best is trial 287 with value: 0.15170531048357222.\n",
      "[I 2023-06-07 15:56:42,619] Trial 313 finished with value: 0.15133191652865213 and parameters: {'regressor': 'ElasticNet', 'alpha': 0.0005310600473288465, 'l1_ratio': 0.8209094127791592}. Best is trial 287 with value: 0.15170531048357222.\n",
      "[I 2023-06-07 15:56:42,768] Trial 314 finished with value: 0.15069603802856466 and parameters: {'regressor': 'ElasticNet', 'alpha': 0.0007807269188340306, 'l1_ratio': 0.6339502169671297}. Best is trial 287 with value: 0.15170531048357222.\n"
     ]
    },
    {
     "name": "stderr",
     "output_type": "stream",
     "text": [
      "[I 2023-06-07 15:56:42,929] Trial 315 finished with value: 0.1483575905276507 and parameters: {'regressor': 'ElasticNet', 'alpha': 0.0006284601031222359, 'l1_ratio': 0.1113459798544626}. Best is trial 287 with value: 0.15170531048357222.\n",
      "[I 2023-06-07 15:56:43,086] Trial 316 finished with value: 0.1505672306768308 and parameters: {'regressor': 'ElasticNet', 'alpha': 0.00046124209060595796, 'l1_ratio': 0.7917813029390891}. Best is trial 287 with value: 0.15170531048357222.\n",
      "[I 2023-06-07 15:56:43,237] Trial 317 finished with value: 0.14938197840021744 and parameters: {'regressor': 'ElasticNet', 'alpha': 0.0008995128274256422, 'l1_ratio': 0.7655131479008598}. Best is trial 287 with value: 0.15170531048357222.\n",
      "[I 2023-06-07 15:56:43,354] Trial 318 finished with value: 0.10045688459100291 and parameters: {'regressor': 'ElasticNet', 'alpha': 0.004112969858059963, 'l1_ratio': 0.7450023790396547}. Best is trial 287 with value: 0.15170531048357222.\n",
      "[I 2023-06-07 15:56:43,477] Trial 319 finished with value: 0.13243757991359079 and parameters: {'regressor': 'ElasticNet', 'alpha': 0.0018512387787069735, 'l1_ratio': 0.8005406195280089}. Best is trial 287 with value: 0.15170531048357222.\n",
      "[I 2023-06-07 15:56:43,564] Trial 320 finished with value: 0.12157069318821215 and parameters: {'regressor': 'LinearRegression'}. Best is trial 287 with value: 0.15170531048357222.\n",
      "[I 2023-06-07 15:56:43,746] Trial 321 finished with value: 0.14737513441718533 and parameters: {'regressor': 'ElasticNet', 'alpha': 0.0003336098365755001, 'l1_ratio': 0.850193847207911}. Best is trial 287 with value: 0.15170531048357222.\n",
      "[I 2023-06-07 15:56:43,829] Trial 322 finished with value: -0.0004066991582208246 and parameters: {'regressor': 'ElasticNet', 'alpha': 0.9508335393355332, 'l1_ratio': 0.7770429301700946}. Best is trial 287 with value: 0.15170531048357222.\n",
      "[I 2023-06-07 15:56:43,984] Trial 323 finished with value: 0.15168069837788695 and parameters: {'regressor': 'ElasticNet', 'alpha': 0.0006296138197819677, 'l1_ratio': 0.727960022913212}. Best is trial 287 with value: 0.15170531048357222.\n",
      "[I 2023-06-07 15:56:44,118] Trial 324 finished with value: 0.14504779999778833 and parameters: {'regressor': 'ElasticNet', 'alpha': 0.0011377553663460102, 'l1_ratio': 0.8210623559974904}. Best is trial 287 with value: 0.15170531048357222.\n",
      "[I 2023-06-07 15:56:44,427] Trial 325 finished with value: 0.010689504993166 and parameters: {'regressor': 'KNeighborsRegressor', 'n_neighbors': 38, 'weights': 'distance', 'p': 2}. Best is trial 287 with value: 0.15170531048357222.\n",
      "[I 2023-06-07 15:56:44,576] Trial 326 finished with value: 0.1511253245971888 and parameters: {'regressor': 'ElasticNet', 'alpha': 0.0007446387161052456, 'l1_ratio': 0.7181031070359251}. Best is trial 287 with value: 0.15170531048357222.\n",
      "[I 2023-06-07 15:56:44,794] Trial 327 finished with value: 0.13646589099139245 and parameters: {'regressor': 'ElasticNet', 'alpha': 0.00013623045887371755, 'l1_ratio': 0.8725226783331727}. Best is trial 287 with value: 0.15170531048357222.\n",
      "[I 2023-06-07 15:56:47,200] Trial 328 finished with value: 0.1332469374209096 and parameters: {'regressor': 'ExtraTreesRegressor', 'n_estimators': 286, 'max_depth': 23, 'min_samples_split': 5, 'min_samples_leaf': 8}. Best is trial 287 with value: 0.15170531048357222.\n",
      "[I 2023-06-07 15:56:47,428] Trial 329 finished with value: 0.1337253976948946 and parameters: {'regressor': 'ElasticNet', 'alpha': 0.00010189237750221255, 'l1_ratio': 0.7626482550402237}. Best is trial 287 with value: 0.15170531048357222.\n",
      "[I 2023-06-07 15:56:47,562] Trial 330 finished with value: 0.14090272061873493 and parameters: {'regressor': 'ElasticNet', 'alpha': 0.0013566852597705881, 'l1_ratio': 0.7870705345916253}. Best is trial 287 with value: 0.15170531048357222.\n",
      "[I 2023-06-07 15:56:47,713] Trial 331 finished with value: 0.151071953857209 and parameters: {'regressor': 'ElasticNet', 'alpha': 0.000506100028038365, 'l1_ratio': 0.8412697423010067}. Best is trial 287 with value: 0.15170531048357222.\n",
      "[I 2023-06-07 15:56:47,871] Trial 332 finished with value: 0.1497750676038639 and parameters: {'regressor': 'ElasticNet', 'alpha': 0.00041532932223655843, 'l1_ratio': 0.6134695785031178}. Best is trial 287 with value: 0.15170531048357222.\n",
      "[I 2023-06-07 15:56:48,022] Trial 333 finished with value: 0.15165131985811092 and parameters: {'regressor': 'ElasticNet', 'alpha': 0.0006570113504378995, 'l1_ratio': 0.7494626847562984}. Best is trial 287 with value: 0.15170531048357222.\n",
      "[I 2023-06-07 15:56:48,170] Trial 334 finished with value: 0.1494304483134163 and parameters: {'regressor': 'ElasticNet', 'alpha': 0.0008949348146588659, 'l1_ratio': 0.6896276408460358}. Best is trial 287 with value: 0.15170531048357222.\n",
      "[I 2023-06-07 15:56:48,324] Trial 335 finished with value: 0.1516485747436405 and parameters: {'regressor': 'ElasticNet', 'alpha': 0.0005883623592373633, 'l1_ratio': 0.8068550986107458}. Best is trial 287 with value: 0.15170531048357222.\n",
      "[I 2023-06-07 15:56:48,474] Trial 336 finished with value: 0.15023343209065204 and parameters: {'regressor': 'ElasticNet', 'alpha': 0.0007534261129962075, 'l1_ratio': 0.97591084211629}. Best is trial 287 with value: 0.15170531048357222.\n",
      "[I 2023-06-07 15:56:48,646] Trial 337 finished with value: 0.15115450468116634 and parameters: {'regressor': 'ElasticNet', 'alpha': 0.0005056110682076634, 'l1_ratio': 0.7703768969184547}. Best is trial 287 with value: 0.15170531048357222.\n",
      "[I 2023-06-07 15:56:48,796] Trial 338 finished with value: 0.1516346660419628 and parameters: {'regressor': 'ElasticNet', 'alpha': 0.0006564329894610373, 'l1_ratio': 0.7854416365554633}. Best is trial 287 with value: 0.15170531048357222.\n",
      "[I 2023-06-07 15:56:48,962] Trial 339 finished with value: 0.14859955472440597 and parameters: {'regressor': 'ElasticNet', 'alpha': 0.0003650569007097425, 'l1_ratio': 0.7311261529059504}. Best is trial 287 with value: 0.15170531048357222.\n",
      "[I 2023-06-07 15:56:49,110] Trial 340 finished with value: 0.148115260668027 and parameters: {'regressor': 'ElasticNet', 'alpha': 0.0009671424540530031, 'l1_ratio': 0.8325612620216192}. Best is trial 287 with value: 0.15170531048357222.\n",
      "[I 2023-06-07 15:56:55,723] Trial 341 finished with value: 0.1351962441165727 and parameters: {'regressor': 'RandomForestRegressor', 'n_estimators': 328, 'max_depth': 30, 'min_samples_split': 4, 'min_samples_leaf': 6}. Best is trial 287 with value: 0.15170531048357222.\n",
      "[I 2023-06-07 15:56:55,883] Trial 342 finished with value: 0.14983677174791316 and parameters: {'regressor': 'ElasticNet', 'alpha': 0.0004470297392853868, 'l1_ratio': 0.41557295565095426}. Best is trial 287 with value: 0.15170531048357222.\n",
      "[I 2023-06-07 15:56:56,056] Trial 343 finished with value: 0.14383200225499118 and parameters: {'regressor': 'ElasticNet', 'alpha': 0.00024471144646325807, 'l1_ratio': 0.8040333829612879}. Best is trial 287 with value: 0.15170531048357222.\n",
      "[I 2023-06-07 15:56:56,228] Trial 344 finished with value: 0.14588534528977987 and parameters: {'regressor': 'ElasticNet', 'alpha': 0.00027984219281572317, 'l1_ratio': 0.5515390190139474}. Best is trial 287 with value: 0.15170531048357222.\n",
      "[I 2023-06-07 15:56:56,391] Trial 345 finished with value: 0.15166583111757986 and parameters: {'regressor': 'ElasticNet', 'alpha': 0.000591161138710237, 'l1_ratio': 0.7593589333819996}. Best is trial 287 with value: 0.15170531048357222.\n",
      "[I 2023-06-07 15:56:56,546] Trial 346 finished with value: 0.15085026105065005 and parameters: {'regressor': 'ElasticNet', 'alpha': 0.0007746465742754071, 'l1_ratio': 0.7158536431397639}. Best is trial 287 with value: 0.15170531048357222.\n",
      "[I 2023-06-07 15:56:56,636] Trial 347 finished with value: 0.12157069318821215 and parameters: {'regressor': 'LinearRegression'}. Best is trial 287 with value: 0.15170531048357222.\n",
      "[I 2023-06-07 15:56:56,787] Trial 348 finished with value: 0.1513868120146491 and parameters: {'regressor': 'ElasticNet', 'alpha': 0.0005435083153544165, 'l1_ratio': 0.6618659590466638}. Best is trial 287 with value: 0.15170531048357222.\n",
      "[I 2023-06-07 15:56:56,936] Trial 349 finished with value: 0.15131829714318915 and parameters: {'regressor': 'ElasticNet', 'alpha': 0.0007167884273996226, 'l1_ratio': 0.7806988187221174}. Best is trial 287 with value: 0.15170531048357222.\n"
     ]
    },
    {
     "name": "stderr",
     "output_type": "stream",
     "text": [
      "[I 2023-06-07 15:56:57,073] Trial 350 finished with value: 0.1472045747344895 and parameters: {'regressor': 'ElasticNet', 'alpha': 0.001033136838707725, 'l1_ratio': 0.7472476748179989}. Best is trial 287 with value: 0.15170531048357222.\n",
      "[I 2023-06-07 15:56:57,634] Trial 351 finished with value: 0.0037294088949550662 and parameters: {'regressor': 'KNeighborsRegressor', 'n_neighbors': 25, 'weights': 'uniform', 'p': 1}. Best is trial 287 with value: 0.15170531048357222.\n",
      "[I 2023-06-07 15:56:57,800] Trial 352 finished with value: 0.14958044540292564 and parameters: {'regressor': 'ElasticNet', 'alpha': 0.0004105293987998757, 'l1_ratio': 0.8173736366900134}. Best is trial 287 with value: 0.15170531048357222.\n",
      "[I 2023-06-07 15:56:57,962] Trial 353 finished with value: 0.15118014420426787 and parameters: {'regressor': 'ElasticNet', 'alpha': 0.0005100352478868253, 'l1_ratio': 0.7028394349564371}. Best is trial 287 with value: 0.15170531048357222.\n",
      "[I 2023-06-07 15:56:58,111] Trial 354 finished with value: 0.1507466235891505 and parameters: {'regressor': 'ElasticNet', 'alpha': 0.0007855929893257004, 'l1_ratio': 0.7980765509828824}. Best is trial 287 with value: 0.15170531048357222.\n",
      "[I 2023-06-07 15:57:00,380] Trial 355 finished with value: 0.11952050365902869 and parameters: {'regressor': 'ExtraTreesRegressor', 'n_estimators': 423, 'max_depth': 15, 'min_samples_split': 3, 'min_samples_leaf': 1}. Best is trial 287 with value: 0.15170531048357222.\n",
      "[I 2023-06-07 15:57:00,531] Trial 356 finished with value: 0.15170122844150094 and parameters: {'regressor': 'ElasticNet', 'alpha': 0.0006311536136995373, 'l1_ratio': 0.7652991268249192}. Best is trial 287 with value: 0.15170531048357222.\n",
      "[I 2023-06-07 15:57:00,680] Trial 357 finished with value: 0.15163413844648982 and parameters: {'regressor': 'ElasticNet', 'alpha': 0.0006593656640308048, 'l1_ratio': 0.7309881757358561}. Best is trial 287 with value: 0.15170531048357222.\n",
      "[I 2023-06-07 15:57:00,821] Trial 358 finished with value: 0.14884394299519058 and parameters: {'regressor': 'ElasticNet', 'alpha': 0.0008871390236014649, 'l1_ratio': 0.9317955370014465}. Best is trial 287 with value: 0.15170531048357222.\n",
      "[I 2023-06-07 15:57:00,984] Trial 359 finished with value: 0.15107411477058658 and parameters: {'regressor': 'ElasticNet', 'alpha': 0.0004977715273471645, 'l1_ratio': 0.7629155175687757}. Best is trial 287 with value: 0.15170531048357222.\n",
      "[I 2023-06-07 15:57:01,136] Trial 360 finished with value: 0.15165949438645981 and parameters: {'regressor': 'ElasticNet', 'alpha': 0.0005905481932137856, 'l1_ratio': 0.7483244788929497}. Best is trial 287 with value: 0.15170531048357222.\n",
      "[I 2023-06-07 15:57:01,262] Trial 361 finished with value: 0.11754027406565896 and parameters: {'regressor': 'ElasticNet', 'alpha': 0.0028311406783448905, 'l1_ratio': 0.7774960834722601}. Best is trial 287 with value: 0.15170531048357222.\n",
      "[I 2023-06-07 15:57:01,428] Trial 362 finished with value: 0.14770514860920333 and parameters: {'regressor': 'ElasticNet', 'alpha': 0.00033487674505027105, 'l1_ratio': 0.7332530382284221}. Best is trial 287 with value: 0.15170531048357222.\n",
      "[I 2023-06-07 15:57:01,607] Trial 363 finished with value: 0.14038972278419712 and parameters: {'regressor': 'ElasticNet', 'alpha': 0.0001840866955142901, 'l1_ratio': 0.7686521386127656}. Best is trial 287 with value: 0.15170531048357222.\n",
      "[I 2023-06-07 15:57:01,744] Trial 364 finished with value: 0.144918874133995 and parameters: {'regressor': 'ElasticNet', 'alpha': 0.001139790408951584, 'l1_ratio': 0.4754699531370725}. Best is trial 287 with value: 0.15170531048357222.\n",
      "[I 2023-06-07 15:57:01,880] Trial 365 finished with value: 0.14086825110660972 and parameters: {'regressor': 'ElasticNet', 'alpha': 0.0013586314904376062, 'l1_ratio': 0.7905110996400068}. Best is trial 287 with value: 0.15170531048357222.\n",
      "[I 2023-06-07 15:57:10,674] Trial 366 finished with value: 0.13365828944676392 and parameters: {'regressor': 'RandomForestRegressor', 'n_estimators': 478, 'max_depth': 26, 'min_samples_split': 6, 'min_samples_leaf': 5}. Best is trial 287 with value: 0.15170531048357222.\n",
      "[I 2023-06-07 15:57:10,841] Trial 367 finished with value: 0.15008220154299173 and parameters: {'regressor': 'ElasticNet', 'alpha': 0.00042933302247567475, 'l1_ratio': 0.7051832577729427}. Best is trial 287 with value: 0.15170531048357222.\n",
      "[I 2023-06-07 15:57:10,996] Trial 368 finished with value: 0.15145465706877065 and parameters: {'regressor': 'ElasticNet', 'alpha': 0.0006992684972351385, 'l1_ratio': 0.7540440361645098}. Best is trial 287 with value: 0.15170531048357222.\n",
      "[I 2023-06-07 15:57:11,148] Trial 369 finished with value: 0.15147170550260883 and parameters: {'regressor': 'ElasticNet', 'alpha': 0.0005659901494528122, 'l1_ratio': 0.6476883024383964}. Best is trial 287 with value: 0.15170531048357222.\n",
      "[I 2023-06-07 15:57:11,369] Trial 370 finished with value: 0.13532567784452323 and parameters: {'regressor': 'ElasticNet', 'alpha': 0.0001194699376474157, 'l1_ratio': 0.776027267833367}. Best is trial 287 with value: 0.15170531048357222.\n",
      "[I 2023-06-07 15:57:11,521] Trial 371 finished with value: 0.15076990416075894 and parameters: {'regressor': 'ElasticNet', 'alpha': 0.0007837636601893149, 'l1_ratio': 0.7277264165731319}. Best is trial 287 with value: 0.15170531048357222.\n",
      "[I 2023-06-07 15:57:11,632] Trial 372 finished with value: 0.06441774503357461 and parameters: {'regressor': 'ElasticNet', 'alpha': 0.007918925315890724, 'l1_ratio': 0.5843084483708045}. Best is trial 287 with value: 0.15170531048357222.\n",
      "[I 2023-06-07 15:57:11,715] Trial 373 finished with value: 0.12157069318821215 and parameters: {'regressor': 'LinearRegression'}. Best is trial 287 with value: 0.15170531048357222.\n",
      "[I 2023-06-07 15:57:11,862] Trial 374 finished with value: 0.14956068081540763 and parameters: {'regressor': 'ElasticNet', 'alpha': 0.0008838149691876581, 'l1_ratio': 0.6760776414885779}. Best is trial 287 with value: 0.15170531048357222.\n",
      "[I 2023-06-07 15:57:12,014] Trial 375 finished with value: 0.1507805881959407 and parameters: {'regressor': 'ElasticNet', 'alpha': 0.0004792550834450901, 'l1_ratio': 0.8286968126304751}. Best is trial 287 with value: 0.15170531048357222.\n",
      "[I 2023-06-07 15:57:12,169] Trial 376 finished with value: 0.15168637389838305 and parameters: {'regressor': 'ElasticNet', 'alpha': 0.0006140171760485893, 'l1_ratio': 0.8036163570925487}. Best is trial 287 with value: 0.15170531048357222.\n",
      "[I 2023-06-07 15:57:12,301] Trial 377 finished with value: 0.13769220517003458 and parameters: {'regressor': 'ElasticNet', 'alpha': 0.0015535643184916357, 'l1_ratio': 0.8539891625434584}. Best is trial 287 with value: 0.15170531048357222.\n",
      "[I 2023-06-07 15:57:12,465] Trial 378 finished with value: 0.14894818180767885 and parameters: {'regressor': 'ElasticNet', 'alpha': 0.00038287356578030145, 'l1_ratio': 0.8051829493132093}. Best is trial 287 with value: 0.15170531048357222.\n",
      "[I 2023-06-07 15:57:12,627] Trial 379 finished with value: 0.15165384804664592 and parameters: {'regressor': 'ElasticNet', 'alpha': 0.0006208578640671546, 'l1_ratio': 0.8214745032545779}. Best is trial 287 with value: 0.15170531048357222.\n",
      "[I 2023-06-07 15:57:13,385] Trial 380 finished with value: 0.11713245707355369 and parameters: {'regressor': 'ExtraTreesRegressor', 'n_estimators': 251, 'max_depth': 8, 'min_samples_split': 8, 'min_samples_leaf': 9}. Best is trial 287 with value: 0.15170531048357222.\n",
      "[I 2023-06-07 15:57:13,537] Trial 381 finished with value: 0.15140830204845246 and parameters: {'regressor': 'ElasticNet', 'alpha': 0.0005372890558642027, 'l1_ratio': 0.792364411302057}. Best is trial 287 with value: 0.15170531048357222.\n",
      "[I 2023-06-07 15:57:14,101] Trial 382 finished with value: -0.09348967368598167 and parameters: {'regressor': 'KNeighborsRegressor', 'n_neighbors': 10, 'weights': 'distance', 'p': 1}. Best is trial 287 with value: 0.15170531048357222.\n",
      "[I 2023-06-07 15:57:14,258] Trial 383 finished with value: 0.1495170475509477 and parameters: {'regressor': 'ElasticNet', 'alpha': 0.0006994848464747158, 'l1_ratio': 0.2934292294947828}. Best is trial 287 with value: 0.15170531048357222.\n",
      "[I 2023-06-07 15:57:14,420] Trial 384 finished with value: 0.15004227309013377 and parameters: {'regressor': 'ElasticNet', 'alpha': 0.0004418315318644612, 'l1_ratio': 0.8893352457080902}. Best is trial 287 with value: 0.15170531048357222.\n"
     ]
    },
    {
     "name": "stderr",
     "output_type": "stream",
     "text": [
      "[I 2023-06-07 15:57:14,612] Trial 385 finished with value: 0.1451652712636726 and parameters: {'regressor': 'ElasticNet', 'alpha': 0.0002713743667672742, 'l1_ratio': 0.780515925026677}. Best is trial 287 with value: 0.15170531048357222.\n",
      "[I 2023-06-07 15:57:14,758] Trial 386 finished with value: 0.15055861648624808 and parameters: {'regressor': 'ElasticNet', 'alpha': 0.0008025635351207123, 'l1_ratio': 0.8078725639153418}. Best is trial 287 with value: 0.15170531048357222.\n",
      "[I 2023-06-07 15:57:14,896] Trial 387 finished with value: 0.14720878242538596 and parameters: {'regressor': 'ElasticNet', 'alpha': 0.0010189030941931008, 'l1_ratio': 0.8370920692194089}. Best is trial 287 with value: 0.15170531048357222.\n",
      "[I 2023-06-07 15:57:15,050] Trial 388 finished with value: 0.15151294922896907 and parameters: {'regressor': 'ElasticNet', 'alpha': 0.000551583045855713, 'l1_ratio': 0.7603289227688342}. Best is trial 287 with value: 0.15170531048357222.\n",
      "[I 2023-06-07 15:57:15,159] Trial 389 finished with value: 0.03906465181247141 and parameters: {'regressor': 'ElasticNet', 'alpha': 0.01458799088285308, 'l1_ratio': 0.8661993530064338}. Best is trial 287 with value: 0.15170531048357222.\n",
      "[I 2023-06-07 15:57:15,242] Trial 390 finished with value: -7.509630928347333e-05 and parameters: {'regressor': 'ElasticNet', 'alpha': 0.04443237709693631, 'l1_ratio': 0.7958122668079222}. Best is trial 287 with value: 0.15170531048357222.\n",
      "[I 2023-06-07 15:57:15,392] Trial 391 finished with value: 0.15168877615422516 and parameters: {'regressor': 'ElasticNet', 'alpha': 0.0006356173810997773, 'l1_ratio': 0.7431159540551886}. Best is trial 287 with value: 0.15170531048357222.\n",
      "[I 2023-06-07 15:57:16,330] Trial 392 finished with value: 0.10769426570211862 and parameters: {'regressor': 'RandomForestRegressor', 'n_estimators': 250, 'max_depth': 4, 'min_samples_split': 10, 'min_samples_leaf': 7}. Best is trial 287 with value: 0.15170531048357222.\n",
      "[I 2023-06-07 15:57:16,479] Trial 393 finished with value: 0.15164307527952575 and parameters: {'regressor': 'ElasticNet', 'alpha': 0.0006586983635209532, 'l1_ratio': 0.7418615903550633}. Best is trial 287 with value: 0.15170531048357222.\n",
      "[I 2023-06-07 15:57:16,603] Trial 394 finished with value: 0.12525184239416798 and parameters: {'regressor': 'ElasticNet', 'alpha': 0.002240678573904629, 'l1_ratio': 0.7147210443471322}. Best is trial 287 with value: 0.15170531048357222.\n",
      "[I 2023-06-07 15:57:16,726] Trial 395 finished with value: 0.11343640769177457 and parameters: {'regressor': 'ElasticNet', 'alpha': 0.0030977050894288216, 'l1_ratio': 0.7520672216344492}. Best is trial 287 with value: 0.15170531048357222.\n",
      "[I 2023-06-07 15:57:16,842] Trial 396 finished with value: 0.09448138480266793 and parameters: {'regressor': 'ElasticNet', 'alpha': 0.004528449553804615, 'l1_ratio': 0.6887675325876145}. Best is trial 287 with value: 0.15170531048357222.\n",
      "[I 2023-06-07 15:57:16,984] Trial 397 finished with value: 0.14357096388377744 and parameters: {'regressor': 'ElasticNet', 'alpha': 0.0011963999651230554, 'l1_ratio': 0.9127248777684938}. Best is trial 287 with value: 0.15170531048357222.\n",
      "[I 2023-06-07 15:57:17,133] Trial 398 finished with value: 0.14996669787804975 and parameters: {'regressor': 'ElasticNet', 'alpha': 0.0008564523902056656, 'l1_ratio': 0.7705954171989431}. Best is trial 287 with value: 0.15170531048357222.\n",
      "[I 2023-06-07 15:57:17,306] Trial 399 finished with value: 0.14715121002775336 and parameters: {'regressor': 'ElasticNet', 'alpha': 0.00033265835358024006, 'l1_ratio': 0.2703296419055748}. Best is trial 287 with value: 0.15170531048357222.\n",
      "[I 2023-06-07 15:57:17,396] Trial 400 finished with value: 0.12157069318821215 and parameters: {'regressor': 'LinearRegression'}. Best is trial 287 with value: 0.15170531048357222.\n",
      "[I 2023-06-07 15:57:17,555] Trial 401 finished with value: 0.15064229619497754 and parameters: {'regressor': 'ElasticNet', 'alpha': 0.0004638956523657536, 'l1_ratio': 0.7280574745433527}. Best is trial 287 with value: 0.15170531048357222.\n",
      "[I 2023-06-07 15:57:17,706] Trial 402 finished with value: 0.15168992336362655 and parameters: {'regressor': 'ElasticNet', 'alpha': 0.0006081516206736488, 'l1_ratio': 0.7459015823652574}. Best is trial 287 with value: 0.15170531048357222.\n",
      "[I 2023-06-07 15:57:17,855] Trial 403 finished with value: 0.1514868893119255 and parameters: {'regressor': 'ElasticNet', 'alpha': 0.0006919717570383814, 'l1_ratio': 0.7104848410787094}. Best is trial 287 with value: 0.15170531048357222.\n",
      "[I 2023-06-07 15:57:18,159] Trial 404 finished with value: 0.05927909188191853 and parameters: {'regressor': 'KNeighborsRegressor', 'n_neighbors': 21, 'weights': 'uniform', 'p': 2}. Best is trial 287 with value: 0.15170531048357222.\n",
      "[I 2023-06-07 15:57:18,314] Trial 405 finished with value: 0.1510808320288716 and parameters: {'regressor': 'ElasticNet', 'alpha': 0.000512388657819323, 'l1_ratio': 0.6148153442219668}. Best is trial 287 with value: 0.15170531048357222.\n",
      "[I 2023-06-07 15:57:18,464] Trial 406 finished with value: 0.14978036348715604 and parameters: {'regressor': 'ElasticNet', 'alpha': 0.0008715354685997301, 'l1_ratio': 0.7396703394624323}. Best is trial 287 with value: 0.15170531048357222.\n",
      "[I 2023-06-07 15:57:18,626] Trial 407 finished with value: 0.14955405577856112 and parameters: {'regressor': 'ElasticNet', 'alpha': 0.0004050346921411913, 'l1_ratio': 0.7600174747077496}. Best is trial 287 with value: 0.15170531048357222.\n",
      "[I 2023-06-07 15:57:20,292] Trial 408 finished with value: 0.11930984894945902 and parameters: {'regressor': 'ExtraTreesRegressor', 'n_estimators': 392, 'max_depth': 12, 'min_samples_split': 9, 'min_samples_leaf': 1}. Best is trial 287 with value: 0.15170531048357222.\n",
      "[I 2023-06-07 15:57:20,445] Trial 409 finished with value: 0.151638226355979 and parameters: {'regressor': 'ElasticNet', 'alpha': 0.0006587351964981511, 'l1_ratio': 0.7344673137055695}. Best is trial 287 with value: 0.15170531048357222.\n",
      "[I 2023-06-07 15:57:20,625] Trial 410 finished with value: 0.14236723202168716 and parameters: {'regressor': 'ElasticNet', 'alpha': 0.0002078060094733376, 'l1_ratio': 0.49907853763851273}. Best is trial 287 with value: 0.15170531048357222.\n",
      "[I 2023-06-07 15:57:20,823] Trial 411 finished with value: 0.13869457143766972 and parameters: {'regressor': 'ElasticNet', 'alpha': 0.00016034179236984654, 'l1_ratio': 0.7729101697928884}. Best is trial 287 with value: 0.15170531048357222.\n",
      "[I 2023-06-07 15:57:20,961] Trial 412 finished with value: 0.147185435652785 and parameters: {'regressor': 'ElasticNet', 'alpha': 0.0010342950397120903, 'l1_ratio': 0.7464055355228808}. Best is trial 287 with value: 0.15170531048357222.\n",
      "[I 2023-06-07 15:57:21,121] Trial 413 finished with value: 0.14906937142857588 and parameters: {'regressor': 'ElasticNet', 'alpha': 0.0005521756214368139, 'l1_ratio': 0.17358948039275457}. Best is trial 287 with value: 0.15170531048357222.\n",
      "[I 2023-06-07 15:57:21,271] Trial 414 finished with value: 0.14861764440117725 and parameters: {'regressor': 'ElasticNet', 'alpha': 0.000764393171004101, 'l1_ratio': 0.24203085798166624}. Best is trial 287 with value: 0.15170531048357222.\n",
      "[I 2023-06-07 15:57:21,427] Trial 415 finished with value: 0.15023026813520945 and parameters: {'regressor': 'ElasticNet', 'alpha': 0.0005889830421112734, 'l1_ratio': 0.34003394602554127}. Best is trial 287 with value: 0.15170531048357222.\n",
      "[I 2023-06-07 15:57:21,587] Trial 416 finished with value: 0.15059112998904975 and parameters: {'regressor': 'ElasticNet', 'alpha': 0.0004604743898641922, 'l1_ratio': 0.723230444488863}. Best is trial 287 with value: 0.15170531048357222.\n",
      "[I 2023-06-07 15:57:21,736] Trial 417 finished with value: 0.15036973414311933 and parameters: {'regressor': 'ElasticNet', 'alpha': 0.0007640034781041915, 'l1_ratio': 0.9467935047193072}. Best is trial 287 with value: 0.15170531048357222.\n",
      "[I 2023-06-07 15:57:21,871] Trial 418 finished with value: 0.13847269386749272 and parameters: {'regressor': 'ElasticNet', 'alpha': 0.001479623694033786, 'l1_ratio': 0.6978558761184837}. Best is trial 287 with value: 0.15170531048357222.\n",
      "[I 2023-06-07 15:57:22,035] Trial 419 finished with value: 0.148886761630246 and parameters: {'regressor': 'ElasticNet', 'alpha': 0.0003743859959629693, 'l1_ratio': 0.595757084803494}. Best is trial 287 with value: 0.15170531048357222.\n"
     ]
    },
    {
     "name": "stderr",
     "output_type": "stream",
     "text": [
      "[I 2023-06-07 15:57:27,396] Trial 420 finished with value: 0.13174155342793883 and parameters: {'regressor': 'RandomForestRegressor', 'n_estimators': 285, 'max_depth': 30, 'min_samples_split': 7, 'min_samples_leaf': 9}. Best is trial 287 with value: 0.15170531048357222.\n",
      "[I 2023-06-07 15:57:27,551] Trial 421 finished with value: 0.15167698026896775 and parameters: {'regressor': 'ElasticNet', 'alpha': 0.0006149990347296241, 'l1_ratio': 0.810139707148924}. Best is trial 287 with value: 0.15170531048357222.\n",
      "[I 2023-06-07 15:57:27,698] Trial 422 finished with value: 0.1490718255884807 and parameters: {'regressor': 'ElasticNet', 'alpha': 0.0009113220741271615, 'l1_ratio': 0.8174782274832726}. Best is trial 287 with value: 0.15170531048357222.\n",
      "[I 2023-06-07 15:57:27,851] Trial 423 finished with value: 0.1512152379096681 and parameters: {'regressor': 'ElasticNet', 'alpha': 0.0006481568996807143, 'l1_ratio': 0.5476103192815809}. Best is trial 287 with value: 0.15170531048357222.\n",
      "[I 2023-06-07 15:57:27,985] Trial 424 finished with value: 0.1173511873503005 and parameters: {'regressor': 'ElasticNet', 'alpha': 0.0027309451364806907, 'l1_ratio': 0.018275723275800293}. Best is trial 287 with value: 0.15170531048357222.\n",
      "[I 2023-06-07 15:57:28,144] Trial 425 finished with value: 0.15101636348288472 and parameters: {'regressor': 'ElasticNet', 'alpha': 0.0004932431001771581, 'l1_ratio': 0.7771677008006326}. Best is trial 287 with value: 0.15170531048357222.\n",
      "[I 2023-06-07 15:57:28,295] Trial 426 finished with value: 0.15111239769555695 and parameters: {'regressor': 'ElasticNet', 'alpha': 0.0007460703731538333, 'l1_ratio': 0.7582209752309735}. Best is trial 287 with value: 0.15170531048357222.\n",
      "[I 2023-06-07 15:57:28,458] Trial 427 finished with value: 0.15155614777065832 and parameters: {'regressor': 'ElasticNet', 'alpha': 0.0005622720422908711, 'l1_ratio': 0.7930383832197334}. Best is trial 287 with value: 0.15170531048357222.\n",
      "[I 2023-06-07 15:57:28,543] Trial 428 finished with value: 0.12157069318821215 and parameters: {'regressor': 'LinearRegression'}. Best is trial 287 with value: 0.15170531048357222.\n",
      "[I 2023-06-07 15:57:28,681] Trial 429 finished with value: 0.1432973361585525 and parameters: {'regressor': 'ElasticNet', 'alpha': 0.0012256665883823503, 'l1_ratio': 0.8286546147347007}. Best is trial 287 with value: 0.15170531048357222.\n",
      "[I 2023-06-07 15:57:28,824] Trial 430 finished with value: 0.14675034951600216 and parameters: {'regressor': 'ElasticNet', 'alpha': 0.0010285880680150764, 'l1_ratio': 0.45983773458074034}. Best is trial 287 with value: 0.15170531048357222.\n",
      "[I 2023-06-07 15:57:28,998] Trial 431 finished with value: 0.14712335260102857 and parameters: {'regressor': 'ElasticNet', 'alpha': 0.0003152341405896504, 'l1_ratio': 0.6763801291155146}. Best is trial 287 with value: 0.15170531048357222.\n",
      "[I 2023-06-07 15:57:29,166] Trial 432 finished with value: 0.14980484093766572 and parameters: {'regressor': 'ElasticNet', 'alpha': 0.00042520226642527216, 'l1_ratio': 0.8571667429305364}. Best is trial 287 with value: 0.15170531048357222.\n",
      "[I 2023-06-07 15:57:29,741] Trial 433 finished with value: 0.004905852872562599 and parameters: {'regressor': 'KNeighborsRegressor', 'n_neighbors': 28, 'weights': 'uniform', 'p': 1}. Best is trial 287 with value: 0.15170531048357222.\n",
      "[I 2023-06-07 15:57:29,891] Trial 434 finished with value: 0.15151674917165878 and parameters: {'regressor': 'ElasticNet', 'alpha': 0.0006338358116797301, 'l1_ratio': 0.6339757615748806}. Best is trial 287 with value: 0.15170531048357222.\n",
      "[I 2023-06-07 15:57:30,003] Trial 435 finished with value: 0.07374786331377961 and parameters: {'regressor': 'ElasticNet', 'alpha': 0.007094620601062881, 'l1_ratio': 0.7489104519276668}. Best is trial 287 with value: 0.15170531048357222.\n",
      "[I 2023-06-07 15:57:33,069] Trial 436 finished with value: 0.13191570787310938 and parameters: {'regressor': 'ExtraTreesRegressor', 'n_estimators': 345, 'max_depth': 24, 'min_samples_split': 2, 'min_samples_leaf': 4}. Best is trial 287 with value: 0.15170531048357222.\n",
      "[I 2023-06-07 15:57:33,222] Trial 437 finished with value: 0.1504739734631205 and parameters: {'regressor': 'ElasticNet', 'alpha': 0.0008131425443423182, 'l1_ratio': 0.7802155260412298}. Best is trial 287 with value: 0.15170531048357222.\n",
      "[I 2023-06-07 15:57:33,350] Trial 438 finished with value: 0.13532603877202964 and parameters: {'regressor': 'ElasticNet', 'alpha': 0.0016536756468783372, 'l1_ratio': 0.7154579830705414}. Best is trial 287 with value: 0.15170531048357222.\n",
      "[I 2023-06-07 15:57:33,506] Trial 439 finished with value: 0.15116437649607245 and parameters: {'regressor': 'ElasticNet', 'alpha': 0.0005098127437088443, 'l1_ratio': 0.8055128288254016}. Best is trial 287 with value: 0.15170531048357222.\n",
      "[I 2023-06-07 15:57:33,622] Trial 440 finished with value: 0.1049726062412842 and parameters: {'regressor': 'ElasticNet', 'alpha': 0.003783041348772687, 'l1_ratio': 0.7669757904864859}. Best is trial 287 with value: 0.15170531048357222.\n",
      "[I 2023-06-07 15:57:33,773] Trial 441 finished with value: 0.15153728724378007 and parameters: {'regressor': 'ElasticNet', 'alpha': 0.0006854777537220636, 'l1_ratio': 0.7350853246231074}. Best is trial 287 with value: 0.15170531048357222.\n",
      "[I 2023-06-07 15:57:33,859] Trial 442 finished with value: -0.0004066991582208246 and parameters: {'regressor': 'ElasticNet', 'alpha': 0.05069379696609223, 'l1_ratio': 0.876501109364382}. Best is trial 287 with value: 0.15170531048357222.\n",
      "[I 2023-06-07 15:57:34,022] Trial 443 finished with value: 0.14893062090235007 and parameters: {'regressor': 'ElasticNet', 'alpha': 0.00037885560895005086, 'l1_ratio': 0.5266925061135228}. Best is trial 287 with value: 0.15170531048357222.\n",
      "[I 2023-06-07 15:57:34,171] Trial 444 finished with value: 0.15148724336877864 and parameters: {'regressor': 'ElasticNet', 'alpha': 0.0005584751664135755, 'l1_ratio': 0.8395626071564093}. Best is trial 287 with value: 0.15170531048357222.\n",
      "[I 2023-06-07 15:57:34,286] Trial 445 finished with value: 0.0854141192730471 and parameters: {'regressor': 'ElasticNet', 'alpha': 0.005764883363371314, 'l1_ratio': 0.787639083960423}. Best is trial 287 with value: 0.15170531048357222.\n",
      "[I 2023-06-07 15:57:35,920] Trial 446 finished with value: 0.12682334717218696 and parameters: {'regressor': 'RandomForestRegressor', 'n_estimators': 122, 'max_depth': 17, 'min_samples_split': 5, 'min_samples_leaf': 3}. Best is trial 287 with value: 0.15170531048357222.\n",
      "[I 2023-06-07 15:57:36,071] Trial 447 finished with value: 0.14890974935610107 and parameters: {'regressor': 'ElasticNet', 'alpha': 0.0009313874859996165, 'l1_ratio': 0.7597180734723504}. Best is trial 287 with value: 0.15170531048357222.\n",
      "[I 2023-06-07 15:57:36,232] Trial 448 finished with value: 0.14999514479361356 and parameters: {'regressor': 'ElasticNet', 'alpha': 0.00045658390657441205, 'l1_ratio': 0.4312175268184709}. Best is trial 287 with value: 0.15170531048357222.\n",
      "[I 2023-06-07 15:57:36,383] Trial 449 finished with value: 0.15087881056389224 and parameters: {'regressor': 'ElasticNet', 'alpha': 0.0006606808254722621, 'l1_ratio': 0.9844061498291732}. Best is trial 287 with value: 0.15170531048357222.\n",
      "[I 2023-06-07 15:57:36,557] Trial 450 finished with value: 0.14636356749551033 and parameters: {'regressor': 'ElasticNet', 'alpha': 0.0007499331323962729, 'l1_ratio': 0.009067991013185672}. Best is trial 287 with value: 0.15170531048357222.\n",
      "[I 2023-06-07 15:57:36,801] Trial 451 finished with value: 0.13349314903991277 and parameters: {'regressor': 'ElasticNet', 'alpha': 0.000100862262932836, 'l1_ratio': 0.8125594530913601}. Best is trial 287 with value: 0.15170531048357222.\n",
      "[I 2023-06-07 15:57:36,977] Trial 452 finished with value: 0.14623169529842642 and parameters: {'regressor': 'ElasticNet', 'alpha': 0.0002885438867256472, 'l1_ratio': 0.5718119943280975}. Best is trial 287 with value: 0.15170531048357222.\n",
      "[I 2023-06-07 15:57:37,061] Trial 453 finished with value: 0.12157069318821215 and parameters: {'regressor': 'LinearRegression'}. Best is trial 287 with value: 0.15170531048357222.\n",
      "[I 2023-06-07 15:57:37,172] Trial 454 finished with value: 0.051513431418043085 and parameters: {'regressor': 'ElasticNet', 'alpha': 0.010665630615584874, 'l1_ratio': 0.7007982492534429}. Best is trial 287 with value: 0.15170531048357222.\n"
     ]
    },
    {
     "name": "stderr",
     "output_type": "stream",
     "text": [
      "[I 2023-06-07 15:57:37,327] Trial 455 finished with value: 0.1514164949542927 and parameters: {'regressor': 'ElasticNet', 'alpha': 0.00053555720061958, 'l1_ratio': 0.7471966710758144}. Best is trial 287 with value: 0.15170531048357222.\n",
      "[I 2023-06-07 15:57:37,480] Trial 456 finished with value: 0.15023146405334553 and parameters: {'regressor': 'ElasticNet', 'alpha': 0.000834681396339021, 'l1_ratio': 0.7759406023848088}. Best is trial 287 with value: 0.15170531048357222.\n",
      "[I 2023-06-07 15:57:37,787] Trial 457 finished with value: 0.010502927695508212 and parameters: {'regressor': 'KNeighborsRegressor', 'n_neighbors': 36, 'weights': 'distance', 'p': 2}. Best is trial 287 with value: 0.15170531048357222.\n",
      "[I 2023-06-07 15:57:37,970] Trial 458 finished with value: 0.14465233566737895 and parameters: {'regressor': 'ElasticNet', 'alpha': 0.00025682651459674676, 'l1_ratio': 0.7258533653278345}. Best is trial 287 with value: 0.15170531048357222.\n",
      "[I 2023-06-07 15:57:38,125] Trial 459 finished with value: 0.15168342690858588 and parameters: {'regressor': 'ElasticNet', 'alpha': 0.0006014576968034254, 'l1_ratio': 0.7975080870364}. Best is trial 287 with value: 0.15170531048357222.\n",
      "[I 2023-06-07 15:57:38,252] Trial 460 finished with value: 0.1291589415020676 and parameters: {'regressor': 'ElasticNet', 'alpha': 0.002050078089732681, 'l1_ratio': 0.7942707461957987}. Best is trial 287 with value: 0.15170531048357222.\n",
      "[I 2023-06-07 15:57:38,600] Trial 461 finished with value: 0.10502085676177912 and parameters: {'regressor': 'ExtraTreesRegressor', 'n_estimators': 167, 'max_depth': 4, 'min_samples_split': 7, 'min_samples_leaf': 6}. Best is trial 287 with value: 0.15170531048357222.\n",
      "[I 2023-06-07 15:57:38,758] Trial 462 finished with value: 0.15036493298011383 and parameters: {'regressor': 'ElasticNet', 'alpha': 0.0004469632295073617, 'l1_ratio': 0.7615278169667082}. Best is trial 287 with value: 0.15170531048357222.\n",
      "[I 2023-06-07 15:57:38,910] Trial 463 finished with value: 0.15137870556692937 and parameters: {'regressor': 'ElasticNet', 'alpha': 0.0005305017040114591, 'l1_ratio': 0.7418591081019256}. Best is trial 287 with value: 0.15170531048357222.\n",
      "[I 2023-06-07 15:57:39,046] Trial 464 finished with value: 0.1453564220465918 and parameters: {'regressor': 'ElasticNet', 'alpha': 0.0011309283839279806, 'l1_ratio': 0.7730503605955734}. Best is trial 287 with value: 0.15170531048357222.\n",
      "[I 2023-06-07 15:57:39,199] Trial 465 finished with value: 0.15137579543981838 and parameters: {'regressor': 'ElasticNet', 'alpha': 0.0007060040884402134, 'l1_ratio': 0.7936748697214775}. Best is trial 287 with value: 0.15170531048357222.\n",
      "[I 2023-06-07 15:57:39,382] Trial 466 finished with value: 0.14711668733641708 and parameters: {'regressor': 'ElasticNet', 'alpha': 0.0003931586276009203, 'l1_ratio': 0.04590519633697643}. Best is trial 287 with value: 0.15170531048357222.\n",
      "[I 2023-06-07 15:57:39,534] Trial 467 finished with value: 0.15163299791281032 and parameters: {'regressor': 'ElasticNet', 'alpha': 0.0006046473152646058, 'l1_ratio': 0.6886442672136374}. Best is trial 287 with value: 0.15170531048357222.\n",
      "[I 2023-06-07 15:57:39,681] Trial 468 finished with value: 0.10889961859417792 and parameters: {'regressor': 'ElasticNet', 'alpha': 0.003376878290418656, 'l1_ratio': 0.06609924258695965}. Best is trial 287 with value: 0.15170531048357222.\n",
      "[I 2023-06-07 15:57:39,823] Trial 469 finished with value: 0.14827034959930968 and parameters: {'regressor': 'ElasticNet', 'alpha': 0.0009697124922089034, 'l1_ratio': 0.647083649777987}. Best is trial 287 with value: 0.15170531048357222.\n",
      "[I 2023-06-07 15:57:39,976] Trial 470 finished with value: 0.1492933329123018 and parameters: {'regressor': 'ElasticNet', 'alpha': 0.0008139927098503738, 'l1_ratio': 0.9970222459465585}. Best is trial 287 with value: 0.15170531048357222.\n",
      "[I 2023-06-07 15:57:40,136] Trial 471 finished with value: 0.15094072861352142 and parameters: {'regressor': 'ElasticNet', 'alpha': 0.0004866422537104695, 'l1_ratio': 0.715677937557724}. Best is trial 287 with value: 0.15170531048357222.\n",
      "[I 2023-06-07 15:57:40,259] Trial 472 finished with value: 0.08701603834660056 and parameters: {'regressor': 'ElasticNet', 'alpha': 0.004974523041997359, 'l1_ratio': 0.34431525837992205}. Best is trial 287 with value: 0.15170531048357222.\n",
      "[I 2023-06-07 15:57:43,166] Trial 473 finished with value: 0.12804817862898693 and parameters: {'regressor': 'RandomForestRegressor', 'n_estimators': 193, 'max_depth': 20, 'min_samples_split': 9, 'min_samples_leaf': 2}. Best is trial 287 with value: 0.15170531048357222.\n",
      "[I 2023-06-07 15:57:43,320] Trial 474 finished with value: 0.15161374671126096 and parameters: {'regressor': 'ElasticNet', 'alpha': 0.0006410966301470899, 'l1_ratio': 0.8236008412521063}. Best is trial 287 with value: 0.15170531048357222.\n",
      "[I 2023-06-07 15:57:43,497] Trial 475 finished with value: 0.14206490841262887 and parameters: {'regressor': 'ElasticNet', 'alpha': 0.0002191670175784994, 'l1_ratio': 0.9036504516604635}. Best is trial 287 with value: 0.15170531048357222.\n",
      "[I 2023-06-07 15:57:43,620] Trial 476 finished with value: 0.1194606178882893 and parameters: {'regressor': 'ElasticNet', 'alpha': 0.002661238875445222, 'l1_ratio': 0.7553236627606581}. Best is trial 287 with value: 0.15170531048357222.\n",
      "[I 2023-06-07 15:57:43,798] Trial 477 finished with value: 0.14809453269984918 and parameters: {'regressor': 'ElasticNet', 'alpha': 0.000350201595801357, 'l1_ratio': 0.7791687728796628}. Best is trial 287 with value: 0.15170531048357222.\n",
      "[I 2023-06-07 15:57:44,009] Trial 478 finished with value: 0.13865454220989298 and parameters: {'regressor': 'ElasticNet', 'alpha': 0.00015613639628923144, 'l1_ratio': 0.6649458673906145}. Best is trial 287 with value: 0.15170531048357222.\n",
      "[I 2023-06-07 15:57:44,129] Trial 479 finished with value: 0.1038466189434438 and parameters: {'regressor': 'ElasticNet', 'alpha': 0.0038074553515023437, 'l1_ratio': 0.728521509064002}. Best is trial 287 with value: 0.15170531048357222.\n",
      "[I 2023-06-07 15:57:44,215] Trial 480 finished with value: 0.12157069318821215 and parameters: {'regressor': 'LinearRegression'}. Best is trial 287 with value: 0.15170531048357222.\n",
      "[I 2023-06-07 15:57:44,362] Trial 481 finished with value: 0.15106642416730062 and parameters: {'regressor': 'ElasticNet', 'alpha': 0.0007313843298204728, 'l1_ratio': 0.6234167425849075}. Best is trial 287 with value: 0.15170531048357222.\n",
      "[I 2023-06-07 15:57:44,499] Trial 482 finished with value: 0.1326080465213381 and parameters: {'regressor': 'ElasticNet', 'alpha': 0.0018407843769127792, 'l1_ratio': 0.800416426949582}. Best is trial 287 with value: 0.15170531048357222.\n",
      "[I 2023-06-07 15:57:44,652] Trial 483 finished with value: 0.1513992852387042 and parameters: {'regressor': 'ElasticNet', 'alpha': 0.0005424824368481103, 'l1_ratio': 0.8329207716732234}. Best is trial 287 with value: 0.15170531048357222.\n",
      "[I 2023-06-07 15:57:44,951] Trial 484 finished with value: 0.027955016661873257 and parameters: {'regressor': 'KNeighborsRegressor', 'n_neighbors': 10, 'weights': 'uniform', 'p': 2}. Best is trial 287 with value: 0.15170531048357222.\n",
      "[I 2023-06-07 15:57:45,111] Trial 485 finished with value: 0.15038680116781836 and parameters: {'regressor': 'ElasticNet', 'alpha': 0.00044773355232701785, 'l1_ratio': 0.743799051604821}. Best is trial 287 with value: 0.15170531048357222.\n",
      "[I 2023-06-07 15:57:45,261] Trial 486 finished with value: 0.1492313975130755 and parameters: {'regressor': 'ElasticNet', 'alpha': 0.0009092931883417797, 'l1_ratio': 0.769863007952607}. Best is trial 287 with value: 0.15170531048357222.\n",
      "[I 2023-06-07 15:57:48,584] Trial 487 finished with value: 0.1331793782320208 and parameters: {'regressor': 'ExtraTreesRegressor', 'n_estimators': 268, 'max_depth': 32, 'min_samples_split': 3, 'min_samples_leaf': 5}. Best is trial 287 with value: 0.15170531048357222.\n",
      "[I 2023-06-07 15:57:48,741] Trial 488 finished with value: 0.1511161240926814 and parameters: {'regressor': 'ElasticNet', 'alpha': 0.00060707213349041, 'l1_ratio': 0.5097398053564128}. Best is trial 287 with value: 0.15170531048357222.\n",
      "[I 2023-06-07 15:57:48,888] Trial 489 finished with value: 0.15116824157198372 and parameters: {'regressor': 'ElasticNet', 'alpha': 0.0007243703918144993, 'l1_ratio': 0.8530190756024074}. Best is trial 287 with value: 0.15170531048357222.\n"
     ]
    },
    {
     "name": "stderr",
     "output_type": "stream",
     "text": [
      "[I 2023-06-07 15:57:49,028] Trial 490 finished with value: 0.14285393403426785 and parameters: {'regressor': 'ElasticNet', 'alpha': 0.0012541985490859744, 'l1_ratio': 0.785865228100006}. Best is trial 287 with value: 0.15170531048357222.\n",
      "[I 2023-06-07 15:57:49,179] Trial 491 finished with value: 0.15150792385331627 and parameters: {'regressor': 'ElasticNet', 'alpha': 0.0005506217649660391, 'l1_ratio': 0.7597101883631108}. Best is trial 287 with value: 0.15170531048357222.\n",
      "[I 2023-06-07 15:57:49,340] Trial 492 finished with value: 0.15040214779859634 and parameters: {'regressor': 'ElasticNet', 'alpha': 0.0004519705722343671, 'l1_ratio': 0.8046989975589939}. Best is trial 287 with value: 0.15170531048357222.\n",
      "[I 2023-06-07 15:57:49,492] Trial 493 finished with value: 0.1505639694065619 and parameters: {'regressor': 'ElasticNet', 'alpha': 0.0008045782960022622, 'l1_ratio': 0.7285367653374322}. Best is trial 287 with value: 0.15170531048357222.\n",
      "[I 2023-06-07 15:57:49,646] Trial 494 finished with value: 0.15125176392789946 and parameters: {'regressor': 'ElasticNet', 'alpha': 0.0006550932487825337, 'l1_ratio': 0.5617025405363181}. Best is trial 287 with value: 0.15170531048357222.\n",
      "[I 2023-06-07 15:57:49,811] Trial 495 finished with value: 0.14854465849967685 and parameters: {'regressor': 'ElasticNet', 'alpha': 0.0003690001547167323, 'l1_ratio': 0.8192366700610492}. Best is trial 287 with value: 0.15170531048357222.\n",
      "[I 2023-06-07 15:57:49,952] Trial 496 finished with value: 0.1474461791355176 and parameters: {'regressor': 'ElasticNet', 'alpha': 0.0010234368710991093, 'l1_ratio': 0.6967439795150316}. Best is trial 287 with value: 0.15170531048357222.\n",
      "[I 2023-06-07 15:57:50,034] Trial 497 finished with value: -0.0004066991582208246 and parameters: {'regressor': 'ElasticNet', 'alpha': 0.29181135271282216, 'l1_ratio': 0.7465553316854491}. Best is trial 287 with value: 0.15170531048357222.\n",
      "[I 2023-06-07 15:57:58,082] Trial 498 finished with value: 0.12777218142127245 and parameters: {'regressor': 'RandomForestRegressor', 'n_estimators': 473, 'max_depth': 27, 'min_samples_split': 10, 'min_samples_leaf': 10}. Best is trial 287 with value: 0.15170531048357222.\n",
      "[I 2023-06-07 15:57:58,241] Trial 499 finished with value: 0.14923557612954813 and parameters: {'regressor': 'ElasticNet', 'alpha': 0.0005252475342639532, 'l1_ratio': 0.20141634181223145}. Best is trial 287 with value: 0.15170531048357222.\n"
     ]
    }
   ],
   "source": [
    "import optuna\n",
    "from sklearn.base import TransformerMixin\n",
    "from sklearn.ensemble import ExtraTreesRegressor, RandomForestRegressor\n",
    "from sklearn.linear_model import ElasticNet\n",
    "from sklearn.model_selection import cross_val_score\n",
    "from sklearn.neighbors import KNeighborsRegressor\n",
    "from sklearn.pipeline import Pipeline\n",
    "\n",
    "\n",
    "class DenseTransformer(TransformerMixin):\n",
    "    def fit(self, X, y=None, **fit_params):\n",
    "        return self\n",
    "\n",
    "    def transform(self, X, y=None, **fit_params):\n",
    "        return X.toarray()\n",
    "\n",
    "def objective(trial):\n",
    "\n",
    "    regressor_name = trial.suggest_categorical(\"regressor\", [\n",
    "        \"LinearRegression\",\n",
    "        \"ElasticNet\", \n",
    "        \"KNeighborsRegressor\",\n",
    "        \"RandomForestRegressor\", \n",
    "        \"ExtraTreesRegressor\"\n",
    "        ])\n",
    "\n",
    "    if regressor_name == \"LinearRegression\": \n",
    "        regressor = LinearRegression()\n",
    "    elif regressor_name == \"ElasticNet\":\n",
    "        alpha = trial.suggest_loguniform('alpha', 1e-4, 1.0)\n",
    "        l1_ratio = trial.suggest_uniform('l1_ratio', 0, 1)\n",
    "        regressor = ElasticNet(alpha=alpha, l1_ratio=l1_ratio)\n",
    "    elif regressor_name == \"KNeighborsRegressor\":\n",
    "        n_neighbors = trial.suggest_int('n_neighbors', 1, 50)\n",
    "        weights = trial.suggest_categorical('weights', ['uniform', 'distance'])\n",
    "        p = trial.suggest_categorical('p', [1, 2])\n",
    "        regressor = KNeighborsRegressor(n_neighbors=n_neighbors,\n",
    "                                        weights=weights, \n",
    "                                        p=p)\n",
    "    elif regressor_name == \"RandomForestRegressor\":\n",
    "        n_estimators = trial.suggest_int('n_estimators', 100, 500)\n",
    "        max_depth = trial.suggest_int('max_depth', 2, 32)\n",
    "        min_samples_split = trial.suggest_int('min_samples_split', 2, 10)\n",
    "        min_samples_leaf = trial.suggest_int('min_samples_leaf', 1, 10)\n",
    "        regressor = RandomForestRegressor(n_estimators=n_estimators,\n",
    "                                          max_depth=max_depth,\n",
    "                                          min_samples_split=min_samples_split,min_samples_leaf=min_samples_leaf,\n",
    "                                          n_jobs=-1)\n",
    "    elif regressor_name == \"ExtraTreesRegressor\":\n",
    "        n_estimators = trial.suggest_int('n_estimators', 100, 500)\n",
    "        max_depth = trial.suggest_int('max_depth', 2, 32)\n",
    "        min_samples_split = trial.suggest_int('min_samples_split', 2, 10)\n",
    "        min_samples_leaf = trial.suggest_int('min_samples_leaf', 1, 10)\n",
    "        regressor = ExtraTreesRegressor(n_estimators=n_estimators,\n",
    "                                        max_depth=max_depth,\n",
    "                                        min_samples_split=min_samples_split,min_samples_leaf=min_samples_leaf,\n",
    "                                        n_jobs=-1)\n",
    "    \n",
    "    vect = TfidfVectorizer(ngram_range=(1,1), analyzer=\"word\", max_df=0.5, \n",
    "                           min_df=10, lowercase=True)\n",
    "    pipe = Pipeline([('vect', vect), ('clf', regressor)])\n",
    "    scores = cross_val_score(pipe, \n",
    "                             train.text.values, \n",
    "                             train[[\"lat\", \"lon\"]].values,\n",
    "                             cv=5,\n",
    "                             n_jobs=-1)\n",
    "    return scores.mean()\n",
    "\n",
    "\n",
    "study = optuna.create_study(direction='maximize')\n",
    "study.optimize(objective, n_trials=500)"
   ]
  },
  {
   "cell_type": "code",
   "execution_count": 20,
   "metadata": {},
   "outputs": [
    {
     "name": "stdout",
     "output_type": "stream",
     "text": [
      "best value: 0.15170531048357222\n",
      "best trial: FrozenTrial(number=287, state=TrialState.COMPLETE, values=[0.15170531048357222], datetime_start=datetime.datetime(2023, 6, 7, 15, 56, 34, 799180), datetime_complete=datetime.datetime(2023, 6, 7, 15, 56, 34, 948982), params={'regressor': 'ElasticNet', 'alpha': 0.0006196615559214024, 'l1_ratio': 0.7650934597643017}, user_attrs={}, system_attrs={}, intermediate_values={}, distributions={'regressor': CategoricalDistribution(choices=('LinearRegression', 'ElasticNet', 'KNeighborsRegressor', 'RandomForestRegressor', 'ExtraTreesRegressor')), 'alpha': FloatDistribution(high=1.0, log=True, low=0.0001, step=None), 'l1_ratio': FloatDistribution(high=1.0, log=False, low=0.0, step=None)}, trial_id=287, value=None)\n",
      "best params: {'regressor': 'ElasticNet', 'alpha': 0.0006196615559214024, 'l1_ratio': 0.7650934597643017}\n"
     ]
    }
   ],
   "source": [
    "print('best value:', study.best_value)\n",
    "print('best trial:', study.best_trial)\n",
    "best_params = study.best_trial.params\n",
    "print('best params:', best_params)"
   ]
  },
  {
   "cell_type": "code",
   "execution_count": 21,
   "metadata": {},
   "outputs": [
    {
     "data": {
      "text/plain": [
       "0.21341592386915664"
      ]
     },
     "execution_count": 21,
     "metadata": {},
     "output_type": "execute_result"
    }
   ],
   "source": [
    "if best_params['regressor'] == 'LinearRegression':\n",
    "    best_regressor = LinearRegression()\n",
    "elif best_params['regressor'] == 'ElasticNet':\n",
    "    best_regressor = ElasticNet(alpha=best_params[\"alpha\"], \n",
    "                                l1_ratio=best_params[\"l1_ratio\"])\n",
    "elif best_params['regressor'] == 'KNeighborsRegressor':\n",
    "    best_regressor = KNeighborsRegressor(\n",
    "        n_neighbors=best_params[\"n_neighbors\"], \n",
    "        weights=best_params[\"weights\"],\n",
    "        p=best_params[\"p\"])\n",
    "elif best_params['regressor'] == 'RandomForestRegressor':\n",
    "    best_regressor = RandomForestRegressor(\n",
    "        n_estimators=best_params[\"n_estimators\"],\n",
    "        max_depth=best_params[\"max_depth\"],\n",
    "        min_samples_split=best_params[\"min_samples_split\"],\n",
    "        min_samples_leaf=best_params[\"min_samples_leaf\"])\n",
    "elif best_params['regressor'] == 'ExtraTreesRegressor':\n",
    "    best_regressor = ExtraTreesRegressor(\n",
    "        n_estimators=best_params[\"n_estimators\"],\n",
    "        max_depth=best_params[\"max_depth\"],\n",
    "        min_samples_split=best_params[\"min_samples_split\"],\n",
    "        min_samples_leaf=best_params[\"min_samples_leaf\"])\n",
    "    \n",
    "vect = TfidfVectorizer(ngram_range=(1, 1), \n",
    "                       analyzer=\"word\", \n",
    "                       max_df=0.5,\n",
    "                       min_df=10, \n",
    "                       lowercase=True)\n",
    "pipe = Pipeline([('vect', vect), ('reg', best_regressor)])\n",
    "pipe.fit(train.text.values, train[[\"lat\", \"lon\"]].values)\n",
    "score = pipe.score(test.text.values, test[[\"lat\", \"lon\"]].values)\n",
    "score    "
   ]
  },
  {
   "cell_type": "code",
   "execution_count": 22,
   "metadata": {
    "colab": {
     "base_uri": "https://localhost:8080/"
    },
    "id": "F2LmNQWugO1L",
    "outputId": "03e2038c-b70f-49d0-e6c8-950872627287"
   },
   "outputs": [
    {
     "name": "stdout",
     "output_type": "stream",
     "text": [
      "MAE of lat and lon: 1.29 & 1.80\n",
      "MSE of lat and lon: 2.63 & 5.51\n"
     ]
    }
   ],
   "source": [
    "predicted_coords = pipe.predict(test.text.values)\n",
    "print(f\"MAE of lat and lon: {mean_absolute_error(test.lat.values, predicted_coords[:, 0]):.2f} & {mean_absolute_error(test.lon.values, predicted_coords[:, 1]):.2f}\")\n",
    "print(f\"MSE of lat and lon: {mean_squared_error(test.lat.values, predicted_coords[:, 0]):.2f} & {mean_squared_error(test.lon.values, predicted_coords[:, 1]):.2f}\")"
   ]
  },
  {
   "cell_type": "markdown",
   "metadata": {
    "id": "waS2eGdcgrN-"
   },
   "source": [
    "* Finding terms pushing North, South, West, and East"
   ]
  },
  {
   "cell_type": "code",
   "execution_count": 23,
   "metadata": {
    "id": "gUkvoPTTgn7L"
   },
   "outputs": [],
   "source": [
    "importance_pd = pd.DataFrame({\"feature\":pipe[\"vect\"].get_feature_names_out(), \n",
    "                              \"lat\": pipe[\"reg\"].coef_[0, :],\n",
    "                              \"lon\": pipe[\"reg\"].coef_[1, :]})"
   ]
  },
  {
   "cell_type": "markdown",
   "metadata": {
    "id": "arRsBHqOi3Z9"
   },
   "source": [
    "### Words pushing $\\uparrow$ North: higher lat"
   ]
  },
  {
   "cell_type": "code",
   "execution_count": 24,
   "metadata": {
    "colab": {
     "base_uri": "https://localhost:8080/",
     "height": 206
    },
    "id": "UaPRsIgOgyw4",
    "outputId": "d3934ff2-82ae-46a3-e015-d27386f4b946"
   },
   "outputs": [
    {
     "data": {
      "text/html": [
       "<div>\n",
       "<style scoped>\n",
       "    .dataframe tbody tr th:only-of-type {\n",
       "        vertical-align: middle;\n",
       "    }\n",
       "\n",
       "    .dataframe tbody tr th {\n",
       "        vertical-align: top;\n",
       "    }\n",
       "\n",
       "    .dataframe thead th {\n",
       "        text-align: right;\n",
       "    }\n",
       "</style>\n",
       "<table border=\"1\" class=\"dataframe\">\n",
       "  <thead>\n",
       "    <tr style=\"text-align: right;\">\n",
       "      <th></th>\n",
       "      <th>feature</th>\n",
       "      <th>lat</th>\n",
       "      <th>lon</th>\n",
       "    </tr>\n",
       "  </thead>\n",
       "  <tbody>\n",
       "    <tr>\n",
       "      <th>692</th>\n",
       "      <td>τρώγει</td>\n",
       "      <td>2.103095</td>\n",
       "      <td>0.000000</td>\n",
       "    </tr>\n",
       "    <tr>\n",
       "      <th>552</th>\n",
       "      <td>πε</td>\n",
       "      <td>1.762788</td>\n",
       "      <td>0.850507</td>\n",
       "    </tr>\n",
       "    <tr>\n",
       "      <th>96</th>\n",
       "      <td>ατ</td>\n",
       "      <td>1.665082</td>\n",
       "      <td>-0.388279</td>\n",
       "    </tr>\n",
       "    <tr>\n",
       "      <th>40</th>\n",
       "      <td>έφαγε</td>\n",
       "      <td>1.580086</td>\n",
       "      <td>0.037584</td>\n",
       "    </tr>\n",
       "    <tr>\n",
       "      <th>630</th>\n",
       "      <td>σο</td>\n",
       "      <td>1.474986</td>\n",
       "      <td>-0.306952</td>\n",
       "    </tr>\n",
       "  </tbody>\n",
       "</table>\n",
       "</div>"
      ],
      "text/plain": [
       "    feature       lat       lon\n",
       "692  τρώγει  2.103095  0.000000\n",
       "552      πε  1.762788  0.850507\n",
       "96       ατ  1.665082 -0.388279\n",
       "40    έφαγε  1.580086  0.037584\n",
       "630      σο  1.474986 -0.306952"
      ]
     },
     "execution_count": 24,
     "metadata": {},
     "output_type": "execute_result"
    }
   ],
   "source": [
    "importance_pd.sort_values(by=\"lat\", ascending=False).head(5)"
   ]
  },
  {
   "cell_type": "markdown",
   "metadata": {
    "id": "CMbNoEiii64j"
   },
   "source": [
    "### Words pushing $\\downarrow$ South: lower lat"
   ]
  },
  {
   "cell_type": "code",
   "execution_count": 25,
   "metadata": {
    "colab": {
     "base_uri": "https://localhost:8080/",
     "height": 206
    },
    "id": "bqRuMFKbg4as",
    "outputId": "1f9b9f3b-f93d-4916-9c30-dfd3299dcbeb"
   },
   "outputs": [
    {
     "data": {
      "text/html": [
       "<div>\n",
       "<style scoped>\n",
       "    .dataframe tbody tr th:only-of-type {\n",
       "        vertical-align: middle;\n",
       "    }\n",
       "\n",
       "    .dataframe tbody tr th {\n",
       "        vertical-align: top;\n",
       "    }\n",
       "\n",
       "    .dataframe thead th {\n",
       "        text-align: right;\n",
       "    }\n",
       "</style>\n",
       "<table border=\"1\" class=\"dataframe\">\n",
       "  <thead>\n",
       "    <tr style=\"text-align: right;\">\n",
       "      <th></th>\n",
       "      <th>feature</th>\n",
       "      <th>lat</th>\n",
       "      <th>lon</th>\n",
       "    </tr>\n",
       "  </thead>\n",
       "  <tbody>\n",
       "    <tr>\n",
       "      <th>660</th>\n",
       "      <td>τζ</td>\n",
       "      <td>-4.175364</td>\n",
       "      <td>11.102542</td>\n",
       "    </tr>\n",
       "    <tr>\n",
       "      <th>662</th>\n",
       "      <td>τζαι</td>\n",
       "      <td>-3.697113</td>\n",
       "      <td>10.012973</td>\n",
       "    </tr>\n",
       "    <tr>\n",
       "      <th>661</th>\n",
       "      <td>τζαί</td>\n",
       "      <td>-3.583881</td>\n",
       "      <td>10.056799</td>\n",
       "    </tr>\n",
       "    <tr>\n",
       "      <th>664</th>\n",
       "      <td>τζι</td>\n",
       "      <td>-3.023685</td>\n",
       "      <td>8.751745</td>\n",
       "    </tr>\n",
       "    <tr>\n",
       "      <th>308</th>\n",
       "      <td>καλλιά</td>\n",
       "      <td>-2.029622</td>\n",
       "      <td>-0.000000</td>\n",
       "    </tr>\n",
       "  </tbody>\n",
       "</table>\n",
       "</div>"
      ],
      "text/plain": [
       "    feature       lat        lon\n",
       "660      τζ -4.175364  11.102542\n",
       "662    τζαι -3.697113  10.012973\n",
       "661    τζαί -3.583881  10.056799\n",
       "664     τζι -3.023685   8.751745\n",
       "308  καλλιά -2.029622  -0.000000"
      ]
     },
     "execution_count": 25,
     "metadata": {},
     "output_type": "execute_result"
    }
   ],
   "source": [
    "importance_pd.sort_values(by=\"lat\", ascending=True).head(5)"
   ]
  },
  {
   "cell_type": "markdown",
   "metadata": {
    "id": "Ej4pBRoejAOg"
   },
   "source": [
    "### Words pushing $\\rightarrow$ East: higher lon"
   ]
  },
  {
   "cell_type": "code",
   "execution_count": 26,
   "metadata": {
    "colab": {
     "base_uri": "https://localhost:8080/",
     "height": 206
    },
    "id": "pvlr5xAnhleJ",
    "outputId": "c41783fe-b6fa-4925-a9c6-194fef542e87"
   },
   "outputs": [
    {
     "data": {
      "text/html": [
       "<div>\n",
       "<style scoped>\n",
       "    .dataframe tbody tr th:only-of-type {\n",
       "        vertical-align: middle;\n",
       "    }\n",
       "\n",
       "    .dataframe tbody tr th {\n",
       "        vertical-align: top;\n",
       "    }\n",
       "\n",
       "    .dataframe thead th {\n",
       "        text-align: right;\n",
       "    }\n",
       "</style>\n",
       "<table border=\"1\" class=\"dataframe\">\n",
       "  <thead>\n",
       "    <tr style=\"text-align: right;\">\n",
       "      <th></th>\n",
       "      <th>feature</th>\n",
       "      <th>lat</th>\n",
       "      <th>lon</th>\n",
       "    </tr>\n",
       "  </thead>\n",
       "  <tbody>\n",
       "    <tr>\n",
       "      <th>660</th>\n",
       "      <td>τζ</td>\n",
       "      <td>-4.175364</td>\n",
       "      <td>11.102542</td>\n",
       "    </tr>\n",
       "    <tr>\n",
       "      <th>661</th>\n",
       "      <td>τζαί</td>\n",
       "      <td>-3.583881</td>\n",
       "      <td>10.056799</td>\n",
       "    </tr>\n",
       "    <tr>\n",
       "      <th>662</th>\n",
       "      <td>τζαι</td>\n",
       "      <td>-3.697113</td>\n",
       "      <td>10.012973</td>\n",
       "    </tr>\n",
       "    <tr>\n",
       "      <th>664</th>\n",
       "      <td>τζι</td>\n",
       "      <td>-3.023685</td>\n",
       "      <td>8.751745</td>\n",
       "    </tr>\n",
       "    <tr>\n",
       "      <th>233</th>\n",
       "      <td>εμ</td>\n",
       "      <td>-1.818837</td>\n",
       "      <td>5.764069</td>\n",
       "    </tr>\n",
       "  </tbody>\n",
       "</table>\n",
       "</div>"
      ],
      "text/plain": [
       "    feature       lat        lon\n",
       "660      τζ -4.175364  11.102542\n",
       "661    τζαί -3.583881  10.056799\n",
       "662    τζαι -3.697113  10.012973\n",
       "664     τζι -3.023685   8.751745\n",
       "233      εμ -1.818837   5.764069"
      ]
     },
     "execution_count": 26,
     "metadata": {},
     "output_type": "execute_result"
    }
   ],
   "source": [
    "importance_pd.sort_values(by=\"lon\", ascending=False).head(5)"
   ]
  },
  {
   "cell_type": "markdown",
   "metadata": {
    "id": "0pMF_nAujCqJ"
   },
   "source": [
    "### Words pushing $\\leftarrow$ West: higher lon"
   ]
  },
  {
   "cell_type": "code",
   "execution_count": 27,
   "metadata": {
    "colab": {
     "base_uri": "https://localhost:8080/",
     "height": 206
    },
    "id": "AJ2tGPIZh4Qi",
    "outputId": "bb219769-86f2-44d1-872e-4c2c7cad0e8c"
   },
   "outputs": [
    {
     "data": {
      "text/html": [
       "<div>\n",
       "<style scoped>\n",
       "    .dataframe tbody tr th:only-of-type {\n",
       "        vertical-align: middle;\n",
       "    }\n",
       "\n",
       "    .dataframe tbody tr th {\n",
       "        vertical-align: top;\n",
       "    }\n",
       "\n",
       "    .dataframe thead th {\n",
       "        text-align: right;\n",
       "    }\n",
       "</style>\n",
       "<table border=\"1\" class=\"dataframe\">\n",
       "  <thead>\n",
       "    <tr style=\"text-align: right;\">\n",
       "      <th></th>\n",
       "      <th>feature</th>\n",
       "      <th>lat</th>\n",
       "      <th>lon</th>\n",
       "    </tr>\n",
       "  </thead>\n",
       "  <tbody>\n",
       "    <tr>\n",
       "      <th>466</th>\n",
       "      <td>ναν</td>\n",
       "      <td>0.000000</td>\n",
       "      <td>-2.796058</td>\n",
       "    </tr>\n",
       "    <tr>\n",
       "      <th>702</th>\n",
       "      <td>τσου</td>\n",
       "      <td>0.000000</td>\n",
       "      <td>-2.628392</td>\n",
       "    </tr>\n",
       "    <tr>\n",
       "      <th>107</th>\n",
       "      <td>αφέντη</td>\n",
       "      <td>0.000000</td>\n",
       "      <td>-2.183888</td>\n",
       "    </tr>\n",
       "    <tr>\n",
       "      <th>458</th>\n",
       "      <td>μύλο</td>\n",
       "      <td>0.000000</td>\n",
       "      <td>-1.812467</td>\n",
       "    </tr>\n",
       "    <tr>\n",
       "      <th>269</th>\n",
       "      <td>κάλλιο</td>\n",
       "      <td>0.363666</td>\n",
       "      <td>-1.804480</td>\n",
       "    </tr>\n",
       "  </tbody>\n",
       "</table>\n",
       "</div>"
      ],
      "text/plain": [
       "    feature       lat       lon\n",
       "466     ναν  0.000000 -2.796058\n",
       "702    τσου  0.000000 -2.628392\n",
       "107  αφέντη  0.000000 -2.183888\n",
       "458    μύλο  0.000000 -1.812467\n",
       "269  κάλλιο  0.363666 -1.804480"
      ]
     },
     "execution_count": 27,
     "metadata": {},
     "output_type": "execute_result"
    }
   ],
   "source": [
    "importance_pd.sort_values(by=\"lon\", ascending=True).head(5)"
   ]
  }
 ],
 "metadata": {
  "colab": {
   "include_colab_link": true,
   "provenance": []
  },
  "kernelspec": {
   "display_name": "Python 3 (ipykernel)",
   "language": "python",
   "name": "python3"
  },
  "language_info": {
   "codemirror_mode": {
    "name": "ipython",
    "version": 3
   },
   "file_extension": ".py",
   "mimetype": "text/x-python",
   "name": "python",
   "nbconvert_exporter": "python",
   "pygments_lexer": "ipython3",
   "version": "3.10.10"
  }
 },
 "nbformat": 4,
 "nbformat_minor": 1
}
