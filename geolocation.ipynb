{
  "cells": [
    {
      "cell_type": "markdown",
      "metadata": {
        "id": "view-in-github",
        "colab_type": "text"
      },
      "source": [
        "<a href=\"https://colab.research.google.com/github/ipavlopoulos/paremia/blob/main/geolocation.ipynb\" target=\"_parent\"><img src=\"https://colab.research.google.com/assets/colab-badge.svg\" alt=\"Open In Colab\"/></a>"
      ]
    },
    {
      "cell_type": "markdown",
      "metadata": {
        "id": "pxxFvI4TbAKf"
      },
      "source": [
        "# Geolocation prediction of Greek proverbs\n",
        "\n",
        "* Using a collection of proverbs from the [Hellenic Folklore Research Centre](http://www.kentrolaografias.gr/) of the Academy of Athens\n",
        "* Using language modelling and text classification to geolocate proverbs whose information is not known.\n",
        "---\n"
      ]
    },
    {
      "cell_type": "code",
      "execution_count": 25,
      "metadata": {
        "id": "dQm9rqoXb9v8"
      },
      "outputs": [],
      "source": [
        "import pandas as pd\n",
        "import matplotlib.pyplot as plt\n",
        "import numpy as np\n",
        "import seaborn as sns\n",
        "from sklearn.model_selection import train_test_split\n",
        "from sklearn.metrics import *\n",
        "from sklearn.pipeline import Pipeline\n",
        "from sklearn.ensemble import RandomForestRegressor, RandomForestClassifier, ExtraTreesRegressor\n",
        "from sklearn.linear_model import LinearRegression, LogisticRegression\n",
        "from sklearn.neighbors import KNeighborsClassifier\n",
        "from sklearn.svm import LinearSVC\n",
        "from sklearn.feature_extraction.text import TfidfVectorizer\n",
        "\n",
        "import ast"
      ]
    },
    {
      "cell_type": "code",
      "execution_count": 3,
      "metadata": {
        "id": "XyQd70ImcrzX"
      },
      "outputs": [],
      "source": [
        "balanced_corpus = pd.read_csv(\"https://raw.githubusercontent.com/ipavlopoulos/paremia/main/data/balanced_corpus.csv\", index_col=0)"
      ]
    },
    {
      "cell_type": "code",
      "execution_count": 4,
      "metadata": {
        "id": "eQjj2Lcgapux"
      },
      "outputs": [],
      "source": [
        "train, test = train_test_split(balanced_corpus, test_size=0.05, random_state=2023)\n",
        "train, dev = train_test_split(train, test_size=test.shape[0], random_state=2023)"
      ]
    },
    {
      "cell_type": "markdown",
      "metadata": {
        "id": "lT8WZYricW2D"
      },
      "source": [
        "## Authorship analysis\n"
      ]
    },
    {
      "cell_type": "code",
      "execution_count": 6,
      "metadata": {
        "id": "gmvhu05PcSUh"
      },
      "outputs": [],
      "source": [
        "%%capture\n",
        "!git clone https://github.com/ipavlopoulos/lm\n",
        "from lm.markov.models import LM"
      ]
    },
    {
      "cell_type": "markdown",
      "metadata": {
        "id": "DN0RXWb4cchP"
      },
      "source": [
        "* Training one language model per area, by sampling proverbs of that area"
      ]
    },
    {
      "cell_type": "code",
      "execution_count": 39,
      "metadata": {
        "id": "aq3fGpgPcUAm"
      },
      "outputs": [],
      "source": [
        "# building the local language models\n",
        "loc_name = {'Ρούμελη':'Roumeli', 'Κοζάνη':'Kozani', 'Κως':'Kos', 'Αδριανούπολη':'Adrian.', 'Νάουσα':'Naousa', 'Σέρρες':'Serres', 'Σίφνος': 'Sifnos', 'Ήπειρος':'Epirus', 'Αιτωλία':'Etolia', 'Αμοργός':'Amorgos', 'Ανατολική Θράκη': 'East Thrace',\n",
        "            'Αρκαδία':'Arcadia', 'Αχαΐα':'Achaia', 'Επτάνησος':'Eptanisos', 'Εύβοια':'Eyvoia', 'Θεσπρωτία':'Thesprotia', \n",
        "             'Θράκη': 'Thrace', 'Ιωάννινα':'Ioannina', 'Κάρπαθος':'Karpathos', 'Κεφαλληνία':'Kefalinia', 'Κρήτη':'Crete',\n",
        "            'Κύπρος':'Cyprus', 'Λέσβος':'Lesvos', 'Λακωνία':'Laconia', 'Μακεδονία':'Maced.', 'Μικρά Ασία':'Asia Minor',\n",
        "            'Νάξος':'Naxos', 'Πόντος':'Pontos', 'Ρόδος':'Rodos', 'Σκύρος':'Skyros'}\n",
        "models = {}\n",
        "for area in train.area.unique():\n",
        "    texts = train[train.area==area].text.values\n",
        "    models[loc_name[area]] = LM(gram=\"CHAR\").train(\" \\n \".join(texts))"
      ]
    },
    {
      "cell_type": "code",
      "execution_count": 40,
      "metadata": {
        "id": "2noxDr3mca4G"
      },
      "outputs": [],
      "source": [
        "def ling_dist(proverb, models=models):\n",
        "    '''\n",
        "    Compute the bits per character (BPC) for a given proverb using many local language models\n",
        "\n",
        "    Args:\n",
        "        proverb (str): a text\n",
        "        models (dict): a dictionary of language models, \n",
        "                       one per location\n",
        "        \n",
        "    Returns:\n",
        "        string: the location whose model predicts best the text \n",
        "        pd.DataFrame: BPC per location    \n",
        "    '''\n",
        "    entropy = {loc:[models[loc].cross_entropy(proverb.lower())] for loc in models.keys()}\n",
        "    likelier = min(entropy, key=entropy.get) \n",
        "    return likelier, pd.DataFrame(entropy)"
      ]
    },
    {
      "cell_type": "code",
      "execution_count": 41,
      "metadata": {
        "colab": {
          "base_uri": "https://localhost:8080/",
          "height": 191
        },
        "id": "eCuazKiJcfR4",
        "outputId": "8baab35f-f59e-474e-eddb-9e9cc6086e89"
      },
      "outputs": [
        {
          "output_type": "execute_result",
          "data": {
            "text/plain": [
              "   Asia Minor  Ioannina  Karpathos   Crete  Thesprotia    Epirus  Kefalinia  \\\n",
              "0    4.038577  4.313742   4.318077  4.4117    4.430579  4.492731   4.538359   \n",
              "\n",
              "    Amorgos  Eptanisos    Cyprus  ...    Achaia   Arcadia   Etolia   Pontos  \\\n",
              "0  4.863242   5.019258  5.063717  ...  5.119214  5.133526  5.15317  5.18501   \n",
              "\n",
              "     Skyros  East Thrace    Thrace    Maced.     Naxos    Lesvos  \n",
              "0  5.243022     5.250783  5.424325  5.457056  5.671837  6.209453  \n",
              "\n",
              "[1 rows x 23 columns]"
            ],
            "text/html": [
              "\n",
              "  <div id=\"df-6ba57567-9657-4c3c-a2da-c0a84930309d\">\n",
              "    <div class=\"colab-df-container\">\n",
              "      <div>\n",
              "<style scoped>\n",
              "    .dataframe tbody tr th:only-of-type {\n",
              "        vertical-align: middle;\n",
              "    }\n",
              "\n",
              "    .dataframe tbody tr th {\n",
              "        vertical-align: top;\n",
              "    }\n",
              "\n",
              "    .dataframe thead th {\n",
              "        text-align: right;\n",
              "    }\n",
              "</style>\n",
              "<table border=\"1\" class=\"dataframe\">\n",
              "  <thead>\n",
              "    <tr style=\"text-align: right;\">\n",
              "      <th></th>\n",
              "      <th>Asia Minor</th>\n",
              "      <th>Ioannina</th>\n",
              "      <th>Karpathos</th>\n",
              "      <th>Crete</th>\n",
              "      <th>Thesprotia</th>\n",
              "      <th>Epirus</th>\n",
              "      <th>Kefalinia</th>\n",
              "      <th>Amorgos</th>\n",
              "      <th>Eptanisos</th>\n",
              "      <th>Cyprus</th>\n",
              "      <th>...</th>\n",
              "      <th>Achaia</th>\n",
              "      <th>Arcadia</th>\n",
              "      <th>Etolia</th>\n",
              "      <th>Pontos</th>\n",
              "      <th>Skyros</th>\n",
              "      <th>East Thrace</th>\n",
              "      <th>Thrace</th>\n",
              "      <th>Maced.</th>\n",
              "      <th>Naxos</th>\n",
              "      <th>Lesvos</th>\n",
              "    </tr>\n",
              "  </thead>\n",
              "  <tbody>\n",
              "    <tr>\n",
              "      <th>0</th>\n",
              "      <td>4.038577</td>\n",
              "      <td>4.313742</td>\n",
              "      <td>4.318077</td>\n",
              "      <td>4.4117</td>\n",
              "      <td>4.430579</td>\n",
              "      <td>4.492731</td>\n",
              "      <td>4.538359</td>\n",
              "      <td>4.863242</td>\n",
              "      <td>5.019258</td>\n",
              "      <td>5.063717</td>\n",
              "      <td>...</td>\n",
              "      <td>5.119214</td>\n",
              "      <td>5.133526</td>\n",
              "      <td>5.15317</td>\n",
              "      <td>5.18501</td>\n",
              "      <td>5.243022</td>\n",
              "      <td>5.250783</td>\n",
              "      <td>5.424325</td>\n",
              "      <td>5.457056</td>\n",
              "      <td>5.671837</td>\n",
              "      <td>6.209453</td>\n",
              "    </tr>\n",
              "  </tbody>\n",
              "</table>\n",
              "<p>1 rows × 23 columns</p>\n",
              "</div>\n",
              "      <button class=\"colab-df-convert\" onclick=\"convertToInteractive('df-6ba57567-9657-4c3c-a2da-c0a84930309d')\"\n",
              "              title=\"Convert this dataframe to an interactive table.\"\n",
              "              style=\"display:none;\">\n",
              "        \n",
              "  <svg xmlns=\"http://www.w3.org/2000/svg\" height=\"24px\"viewBox=\"0 0 24 24\"\n",
              "       width=\"24px\">\n",
              "    <path d=\"M0 0h24v24H0V0z\" fill=\"none\"/>\n",
              "    <path d=\"M18.56 5.44l.94 2.06.94-2.06 2.06-.94-2.06-.94-.94-2.06-.94 2.06-2.06.94zm-11 1L8.5 8.5l.94-2.06 2.06-.94-2.06-.94L8.5 2.5l-.94 2.06-2.06.94zm10 10l.94 2.06.94-2.06 2.06-.94-2.06-.94-.94-2.06-.94 2.06-2.06.94z\"/><path d=\"M17.41 7.96l-1.37-1.37c-.4-.4-.92-.59-1.43-.59-.52 0-1.04.2-1.43.59L10.3 9.45l-7.72 7.72c-.78.78-.78 2.05 0 2.83L4 21.41c.39.39.9.59 1.41.59.51 0 1.02-.2 1.41-.59l7.78-7.78 2.81-2.81c.8-.78.8-2.07 0-2.86zM5.41 20L4 18.59l7.72-7.72 1.47 1.35L5.41 20z\"/>\n",
              "  </svg>\n",
              "      </button>\n",
              "      \n",
              "  <style>\n",
              "    .colab-df-container {\n",
              "      display:flex;\n",
              "      flex-wrap:wrap;\n",
              "      gap: 12px;\n",
              "    }\n",
              "\n",
              "    .colab-df-convert {\n",
              "      background-color: #E8F0FE;\n",
              "      border: none;\n",
              "      border-radius: 50%;\n",
              "      cursor: pointer;\n",
              "      display: none;\n",
              "      fill: #1967D2;\n",
              "      height: 32px;\n",
              "      padding: 0 0 0 0;\n",
              "      width: 32px;\n",
              "    }\n",
              "\n",
              "    .colab-df-convert:hover {\n",
              "      background-color: #E2EBFA;\n",
              "      box-shadow: 0px 1px 2px rgba(60, 64, 67, 0.3), 0px 1px 3px 1px rgba(60, 64, 67, 0.15);\n",
              "      fill: #174EA6;\n",
              "    }\n",
              "\n",
              "    [theme=dark] .colab-df-convert {\n",
              "      background-color: #3B4455;\n",
              "      fill: #D2E3FC;\n",
              "    }\n",
              "\n",
              "    [theme=dark] .colab-df-convert:hover {\n",
              "      background-color: #434B5C;\n",
              "      box-shadow: 0px 1px 3px 1px rgba(0, 0, 0, 0.15);\n",
              "      filter: drop-shadow(0px 1px 2px rgba(0, 0, 0, 0.3));\n",
              "      fill: #FFFFFF;\n",
              "    }\n",
              "  </style>\n",
              "\n",
              "      <script>\n",
              "        const buttonEl =\n",
              "          document.querySelector('#df-6ba57567-9657-4c3c-a2da-c0a84930309d button.colab-df-convert');\n",
              "        buttonEl.style.display =\n",
              "          google.colab.kernel.accessAllowed ? 'block' : 'none';\n",
              "\n",
              "        async function convertToInteractive(key) {\n",
              "          const element = document.querySelector('#df-6ba57567-9657-4c3c-a2da-c0a84930309d');\n",
              "          const dataTable =\n",
              "            await google.colab.kernel.invokeFunction('convertToInteractive',\n",
              "                                                     [key], {});\n",
              "          if (!dataTable) return;\n",
              "\n",
              "          const docLinkHtml = 'Like what you see? Visit the ' +\n",
              "            '<a target=\"_blank\" href=https://colab.research.google.com/notebooks/data_table.ipynb>data table notebook</a>'\n",
              "            + ' to learn more about interactive tables.';\n",
              "          element.innerHTML = '';\n",
              "          dataTable['output_type'] = 'display_data';\n",
              "          await google.colab.output.renderOutput(dataTable, element);\n",
              "          const docLink = document.createElement('div');\n",
              "          docLink.innerHTML = docLinkHtml;\n",
              "          element.appendChild(docLink);\n",
              "        }\n",
              "      </script>\n",
              "    </div>\n",
              "  </div>\n",
              "  "
            ]
          },
          "metadata": {},
          "execution_count": 41
        }
      ],
      "source": [
        "# use case\n",
        "loc, dists = ling_dist('κακόν χωριόν τσα λίγα σπίτιαν')\n",
        "dists.sort_values(by=0, ascending=True, axis=1)"
      ]
    },
    {
      "cell_type": "code",
      "execution_count": 42,
      "metadata": {
        "id": "CeVg347AchD1"
      },
      "outputs": [],
      "source": [
        "def logprob(txt, mdl):\n",
        "    '''Visualising the (log) probability per character for a given model\n",
        "    \n",
        "    Args:\n",
        "        txt (string): the character sequence\n",
        "        mdl (lm.markov.models.LM): the language model to be used to compute \n",
        "                                   the character probabilities\n",
        "        \n",
        "    Returns:\n",
        "        list: the log probs of the characters in the text \n",
        "    '''\n",
        "    probs = mdl.compute_gram_probs(txt)\n",
        "    logprobs = map(np.log2, probs)\n",
        "    return list(logprobs)\n",
        "\n",
        "\n",
        "def heatmap(txt, models):\n",
        "    ''' Creating a heatmap of the logprobs per local language model for a given text\n",
        "\n",
        "    Args:\n",
        "        txt (string): the text in question\n",
        "        models (dict): the language models (lm.markov.models.LM) to use to score the text\n",
        "        \n",
        "    Returns:\n",
        "        pd.DataFrame: the dataframe with the models' scores\n",
        "        ax: the heatmap\n",
        "    '''\n",
        "    plt.rcParams[\"figure.figsize\"] = (len(txt)/3,6); plt.rcParams[\"axes.labelsize\"] = 23;\n",
        "    probs = {loc: logprob(txt, models[loc]) for loc in models.keys()}\n",
        "    df = pd.DataFrame(probs, index=[str(c) for c in txt])\n",
        "    return df, sns.heatmap(df.transpose(), cmap=\"rocket_r\")"
      ]
    },
    {
      "cell_type": "code",
      "execution_count": 43,
      "metadata": {
        "colab": {
          "base_uri": "https://localhost:8080/",
          "height": 484
        },
        "id": "FuHIBEzrciao",
        "outputId": "a395b787-df36-4695-d6e7-56de885a386c"
      },
      "outputs": [
        {
          "output_type": "stream",
          "name": "stdout",
          "text": [
            "Γαμεί η αλιντζαύρα τον λα(γ)όν, γιατ' εν ο γέρακας ποπάνω (Κύπρος) -- predicted as: Cyprus\n"
          ]
        },
        {
          "output_type": "display_data",
          "data": {
            "text/plain": [
              "<Figure size 1900x600 with 2 Axes>"
            ],
            "image/png": "[encoded data removed]"
          },
          "metadata": {}
        }
      ],
      "source": [
        "t = test[test.area==\"Κύπρος\"].sample().iloc[0]\n",
        "df, ax = heatmap(t.text, models)\n",
        "print(f'{t.text} ({t.area})', end=' -- ')\n",
        "print(f'predicted as: {df.columns[df.mean(0).argmax()]}')\n",
        "ax.figure.tight_layout(); ax.figure.savefig(\"heatmap.pdf\", format=\"PDF\", dpi=300)"
      ]
    },
    {
      "cell_type": "markdown",
      "metadata": {
        "id": "5Uyu_pMpcyAz"
      },
      "source": [
        "* Evaluating on unseen proverbs"
      ]
    },
    {
      "cell_type": "code",
      "execution_count": 38,
      "metadata": {
        "colab": {
          "base_uri": "https://localhost:8080/"
        },
        "id": "eGOI3UqUcjuv",
        "outputId": "f315a4d1-91b2-4c88-adf8-fefd593752ab"
      },
      "outputs": [
        {
          "output_type": "stream",
          "name": "stdout",
          "text": [
            "                 precision    recall  f1-score   support\n",
            "\n",
            "        Ήπειρος       0.11      0.13      0.12        23\n",
            "        Αιτωλία       0.40      0.33      0.36        24\n",
            "        Αμοργός       0.19      0.14      0.16        22\n",
            "Ανατολική Θράκη       0.12      0.17      0.14        24\n",
            "        Αρκαδία       0.08      0.06      0.07        31\n",
            "          Αχαΐα       0.14      0.12      0.13        32\n",
            "      Επτάνησος       0.25      0.35      0.29        23\n",
            "         Εύβοια       0.07      0.15      0.10        20\n",
            "      Θεσπρωτία       0.08      0.09      0.09        22\n",
            "          Θράκη       0.15      0.12      0.13        25\n",
            "       Ιωάννινα       0.17      0.14      0.15        29\n",
            "       Κάρπαθος       0.37      0.25      0.30        28\n",
            "     Κεφαλληνία       0.11      0.15      0.13        27\n",
            "          Κρήτη       0.23      0.23      0.23        30\n",
            "         Κύπρος       0.73      0.79      0.76        24\n",
            "         Λέσβος       0.45      0.38      0.41        24\n",
            "        Λακωνία       0.04      0.04      0.04        27\n",
            "      Μακεδονία       0.19      0.19      0.19        27\n",
            "     Μικρά Ασία       0.17      0.17      0.17        18\n",
            "          Νάξος       0.34      0.42      0.38        24\n",
            "         Πόντος       1.00      0.68      0.81        19\n",
            "          Ρόδος       0.24      0.27      0.26        22\n",
            "         Σκύρος       0.58      0.37      0.45        30\n",
            "\n",
            "       accuracy                           0.24       575\n",
            "      macro avg       0.27      0.25      0.25       575\n",
            "   weighted avg       0.26      0.24      0.25       575\n",
            "\n"
          ]
        }
      ],
      "source": [
        "predictions = test.text.apply(lambda x: ling_dist(x, models=models)[0])\n",
        "gold = test.area.apply(lambda x: loc_name[x]).values\n",
        "print(classification_report(gold, predictions, zero_division=0))"
      ]
    },
    {
      "cell_type": "markdown",
      "metadata": {
        "id": "0orVps9Wc4fj"
      },
      "source": [
        "* The confusion matrix can inform us about the confusion in the predictions"
      ]
    },
    {
      "cell_type": "code",
      "execution_count": 44,
      "metadata": {
        "colab": {
          "base_uri": "https://localhost:8080/",
          "height": 607
        },
        "id": "pZVBv05WczgE",
        "outputId": "3008ba4f-0ddd-4039-8680-0f77625d628f"
      },
      "outputs": [
        {
          "output_type": "display_data",
          "data": {
            "text/plain": [
              "<Figure size 600x600 with 1 Axes>"
            ],
            "image/png": "[encoded data removed]"
          },
          "metadata": {}
        }
      ],
      "source": [
        "plt.rcParams[\"figure.figsize\"] = (6,6); plt.rcParams[\"axes.labelsize\"] = 12;\n",
        "cm = ConfusionMatrixDisplay.from_predictions(gold, predictions, xticks_rotation='vertical', colorbar=False);\n",
        "cm.figure_.tight_layout(); cm.figure_.savefig('authorship_confusion.pdf', format=\"PDF\", dpi=300)"
      ]
    },
    {
      "cell_type": "markdown",
      "metadata": {
        "id": "hrA3eHTRc9qT"
      },
      "source": [
        "* Benchmarking standard text classifiers, on top of chanracter n-grams"
      ]
    },
    {
      "cell_type": "code",
      "execution_count": 36,
      "metadata": {
        "colab": {
          "base_uri": "https://localhost:8080/"
        },
        "id": "15kPTs9tc5_G",
        "outputId": "a94bd6bc-41bf-41d3-9bbe-b36dc857ab17"
      },
      "outputs": [
        {
          "output_type": "stream",
          "name": "stdout",
          "text": [
            "n-gram: \"ία\" \t(tfidf: 0.21)\n",
            "n-gram: \"αρ\" \t(tfidf: 0.12)\n",
            "n-gram: \"αρο\" \t(tfidf: 0.21)\n",
            "n-gram: \"αροι\" \t(tfidf: 0.37)\n",
            "n-gram: \"ιμ\" \t(tfidf: 0.19)\n",
            "n-gram: \"ιμί\" \t(tfidf: 0.33)\n",
            "n-gram: \"ιμία\" \t(tfidf: 0.38)\n",
            "n-gram: \"μί\" \t(tfidf: 0.21)\n",
            "n-gram: \"μία\" \t(tfidf: 0.30)\n",
            "n-gram: \"οι\" \t(tfidf: 0.13)\n",
            "n-gram: \"οιμ\" \t(tfidf: 0.28)\n",
            "n-gram: \"πα\" \t(tfidf: 0.11)\n",
            "n-gram: \"παρ\" \t(tfidf: 0.18)\n",
            "n-gram: \"παρο\" \t(tfidf: 0.36)\n",
            "n-gram: \"ρο\" \t(tfidf: 0.12)\n",
            "n-gram: \"ροι\" \t(tfidf: 0.26)\n"
          ]
        }
      ],
      "source": [
        "vect = TfidfVectorizer(ngram_range=(2,5), # token sequences\n",
        "                       analyzer=\"char\", # tokens are characters\n",
        "                       max_df=0.5, # ignore tokens present in more than 50% of the texts\n",
        "                       min_df=2, # ignore tokens not present in at least two documents \n",
        "                       lowercase=True)\n",
        "vect.fit(train.text.values)\n",
        "rep_t = vect.transform(['παροιμία'])\n",
        "for i, feat in enumerate(rep_t.toarray()[0]):\n",
        "    if feat>0:\n",
        "        print(f'n-gram: \"{vect.get_feature_names_out()[i]}\" \\t(tfidf: {feat:.2f})')"
      ]
    },
    {
      "cell_type": "code",
      "execution_count": 45,
      "metadata": {
        "colab": {
          "base_uri": "https://localhost:8080/"
        },
        "id": "-2-kNvMwdIYJ",
        "outputId": "ff82bb65-84a2-45db-e652-2c2db0c410df"
      },
      "outputs": [
        {
          "output_type": "stream",
          "name": "stdout",
          "text": [
            "SVM\n",
            "                 precision    recall  f1-score   support\n",
            "\n",
            "        Ήπειρος       0.09      0.09      0.09        23\n",
            "        Αιτωλία       0.42      0.46      0.44        24\n",
            "        Αμοργός       0.26      0.32      0.29        22\n",
            "Ανατολική Θράκη       0.19      0.25      0.22        24\n",
            "        Αρκαδία       0.11      0.10      0.10        31\n",
            "          Αχαΐα       0.31      0.25      0.28        32\n",
            "      Επτάνησος       0.47      0.70      0.56        23\n",
            "         Εύβοια       0.06      0.05      0.05        20\n",
            "      Θεσπρωτία       0.11      0.09      0.10        22\n",
            "          Θράκη       0.26      0.20      0.23        25\n",
            "       Ιωάννινα       0.26      0.17      0.21        29\n",
            "       Κάρπαθος       0.42      0.39      0.41        28\n",
            "     Κεφαλληνία       0.25      0.22      0.24        27\n",
            "          Κρήτη       0.36      0.33      0.34        30\n",
            "         Κύπρος       0.70      0.96      0.81        24\n",
            "         Λέσβος       0.45      0.54      0.49        24\n",
            "        Λακωνία       0.10      0.07      0.09        27\n",
            "      Μακεδονία       0.35      0.30      0.32        27\n",
            "     Μικρά Ασία       0.20      0.11      0.14        18\n",
            "          Νάξος       0.44      0.58      0.50        24\n",
            "         Πόντος       0.73      0.84      0.78        19\n",
            "          Ρόδος       0.28      0.32      0.30        22\n",
            "         Σκύρος       0.54      0.63      0.58        30\n",
            "\n",
            "       accuracy                           0.34       575\n",
            "      macro avg       0.32      0.35      0.33       575\n",
            "   weighted avg       0.32      0.34      0.33       575\n",
            "\n",
            "KNN\n",
            "                 precision    recall  f1-score   support\n",
            "\n",
            "        Ήπειρος       0.06      0.22      0.09        23\n",
            "        Αιτωλία       0.21      0.42      0.28        24\n",
            "        Αμοργός       0.08      0.23      0.12        22\n",
            "Ανατολική Θράκη       0.06      0.12      0.08        24\n",
            "        Αρκαδία       0.14      0.19      0.16        31\n",
            "          Αχαΐα       0.22      0.22      0.22        32\n",
            "      Επτάνησος       0.20      0.17      0.19        23\n",
            "         Εύβοια       0.04      0.05      0.04        20\n",
            "      Θεσπρωτία       0.06      0.05      0.05        22\n",
            "          Θράκη       0.09      0.08      0.09        25\n",
            "       Ιωάννινα       0.25      0.14      0.18        29\n",
            "       Κάρπαθος       0.17      0.07      0.10        28\n",
            "     Κεφαλληνία       0.08      0.04      0.05        27\n",
            "          Κρήτη       0.29      0.13      0.18        30\n",
            "         Κύπρος       0.50      0.38      0.43        24\n",
            "         Λέσβος       0.56      0.38      0.45        24\n",
            "        Λακωνία       0.08      0.04      0.05        27\n",
            "      Μακεδονία       0.19      0.11      0.14        27\n",
            "     Μικρά Ασία       0.00      0.00      0.00        18\n",
            "          Νάξος       0.44      0.17      0.24        24\n",
            "         Πόντος       0.75      0.47      0.58        19\n",
            "          Ρόδος       0.27      0.14      0.18        22\n",
            "         Σκύρος       0.78      0.23      0.36        30\n",
            "\n",
            "       accuracy                           0.17       575\n",
            "      macro avg       0.24      0.18      0.19       575\n",
            "   weighted avg       0.24      0.17      0.19       575\n",
            "\n",
            "Forest\n",
            "                 precision    recall  f1-score   support\n",
            "\n",
            "        Ήπειρος       0.19      0.17      0.18        23\n",
            "        Αιτωλία       0.32      0.50      0.39        24\n",
            "        Αμοργός       0.11      0.14      0.12        22\n",
            "Ανατολική Θράκη       0.10      0.17      0.13        24\n",
            "        Αρκαδία       0.25      0.23      0.24        31\n",
            "          Αχαΐα       0.44      0.34      0.39        32\n",
            "      Επτάνησος       0.21      0.26      0.24        23\n",
            "         Εύβοια       0.11      0.05      0.07        20\n",
            "      Θεσπρωτία       0.05      0.05      0.05        22\n",
            "          Θράκη       0.23      0.20      0.21        25\n",
            "       Ιωάννινα       0.08      0.07      0.07        29\n",
            "       Κάρπαθος       0.57      0.29      0.38        28\n",
            "     Κεφαλληνία       0.29      0.26      0.27        27\n",
            "          Κρήτη       0.27      0.13      0.18        30\n",
            "         Κύπρος       0.61      0.83      0.70        24\n",
            "         Λέσβος       0.38      0.54      0.45        24\n",
            "        Λακωνία       0.10      0.07      0.09        27\n",
            "      Μακεδονία       0.15      0.07      0.10        27\n",
            "     Μικρά Ασία       0.07      0.06      0.06        18\n",
            "          Νάξος       0.37      0.42      0.39        24\n",
            "         Πόντος       0.43      0.68      0.53        19\n",
            "          Ρόδος       0.37      0.32      0.34        22\n",
            "         Σκύρος       0.40      0.63      0.49        30\n",
            "\n",
            "       accuracy                           0.28       575\n",
            "      macro avg       0.27      0.28      0.26       575\n",
            "   weighted avg       0.27      0.28      0.27       575\n",
            "\n",
            "LR\n",
            "                 precision    recall  f1-score   support\n",
            "\n",
            "        Ήπειρος       0.20      0.22      0.21        23\n",
            "        Αιτωλία       0.36      0.58      0.44        24\n",
            "        Αμοργός       0.13      0.18      0.15        22\n",
            "Ανατολική Θράκη       0.16      0.21      0.18        24\n",
            "        Αρκαδία       0.20      0.16      0.18        31\n",
            "          Αχαΐα       0.39      0.22      0.28        32\n",
            "      Επτάνησος       0.34      0.65      0.45        23\n",
            "         Εύβοια       0.06      0.05      0.05        20\n",
            "      Θεσπρωτία       0.05      0.05      0.05        22\n",
            "          Θράκη       0.25      0.16      0.20        25\n",
            "       Ιωάννινα       0.30      0.21      0.24        29\n",
            "       Κάρπαθος       0.40      0.29      0.33        28\n",
            "     Κεφαλληνία       0.14      0.11      0.12        27\n",
            "          Κρήτη       0.35      0.27      0.30        30\n",
            "         Κύπρος       0.72      0.75      0.73        24\n",
            "         Λέσβος       0.41      0.58      0.48        24\n",
            "        Λακωνία       0.12      0.07      0.09        27\n",
            "      Μακεδονία       0.37      0.26      0.30        27\n",
            "     Μικρά Ασία       0.00      0.00      0.00        18\n",
            "          Νάξος       0.31      0.46      0.37        24\n",
            "         Πόντος       0.71      0.79      0.75        19\n",
            "          Ρόδος       0.26      0.23      0.24        22\n",
            "         Σκύρος       0.45      0.60      0.51        30\n",
            "\n",
            "       accuracy                           0.31       575\n",
            "      macro avg       0.29      0.31      0.29       575\n",
            "   weighted avg       0.30      0.31      0.29       575\n",
            "\n"
          ]
        }
      ],
      "source": [
        "# benchmarking text classification algorithms\n",
        "def benchmark_clf(train, dev):\n",
        "    for algo_name, algorithm in (('SVM', LinearSVC), \n",
        "                                 ('KNN', KNeighborsClassifier),\n",
        "                                 ('Forest', RandomForestClassifier), \n",
        "                                 ('LR', LogisticRegression)):\n",
        "        vect = TfidfVectorizer(ngram_range=(2,5), analyzer=\"char\", max_df=0.5, min_df=2, lowercase=True)\n",
        "        locator = Pipeline([('vect', vect), ('clf', algorithm())]) \n",
        "        locator.fit(train.text.values, train.area.values) \n",
        "        preds = locator.predict(test.text.values) \n",
        "        print(f'{algo_name}\\n{classification_report(test.area.values, preds)}')\n",
        "\n",
        "benchmark_clf(train, dev)"
      ]
    },
    {
      "cell_type": "code",
      "execution_count": 24,
      "metadata": {
        "colab": {
          "base_uri": "https://localhost:8080/"
        },
        "id": "pg2_g8Sflfns",
        "outputId": "f0db68de-9b19-467d-a0a9-74c7e349d166"
      },
      "outputs": [
        {
          "output_type": "stream",
          "name": "stdout",
          "text": [
            "                 precision    recall  f1-score   support\n",
            "\n",
            "        Ήπειρος       0.09      0.09      0.09        23\n",
            "        Αιτωλία       0.42      0.46      0.44        24\n",
            "        Αμοργός       0.26      0.32      0.29        22\n",
            "Ανατολική Θράκη       0.19      0.25      0.22        24\n",
            "        Αρκαδία       0.11      0.10      0.10        31\n",
            "          Αχαΐα       0.31      0.25      0.28        32\n",
            "      Επτάνησος       0.47      0.70      0.56        23\n",
            "         Εύβοια       0.06      0.05      0.05        20\n",
            "      Θεσπρωτία       0.11      0.09      0.10        22\n",
            "          Θράκη       0.26      0.20      0.23        25\n",
            "       Ιωάννινα       0.26      0.17      0.21        29\n",
            "       Κάρπαθος       0.42      0.39      0.41        28\n",
            "     Κεφαλληνία       0.25      0.22      0.24        27\n",
            "          Κρήτη       0.36      0.33      0.34        30\n",
            "         Κύπρος       0.70      0.96      0.81        24\n",
            "         Λέσβος       0.45      0.54      0.49        24\n",
            "        Λακωνία       0.10      0.07      0.09        27\n",
            "      Μακεδονία       0.35      0.30      0.32        27\n",
            "     Μικρά Ασία       0.20      0.11      0.14        18\n",
            "          Νάξος       0.44      0.58      0.50        24\n",
            "         Πόντος       0.73      0.84      0.78        19\n",
            "          Ρόδος       0.28      0.32      0.30        22\n",
            "         Σκύρος       0.54      0.63      0.58        30\n",
            "\n",
            "       accuracy                           0.34       575\n",
            "      macro avg       0.32      0.35      0.33       575\n",
            "   weighted avg       0.32      0.34      0.33       575\n",
            "\n"
          ]
        }
      ],
      "source": [
        "# inference on test data:\n",
        "predictor_clf = Pipeline([('vect', vect), ('clf', LinearSVC())]) \n",
        "predictor_clf.fit(train.text.values, train.area.values) \n",
        "predictions_clf = predictor_clf.predict(test.text.values) \n",
        "print(classification_report(test.area.values, predictions_clf))"
      ]
    },
    {
      "cell_type": "markdown",
      "metadata": {
        "id": "I-12RHKwd6Fa"
      },
      "source": [
        "## Predicting the location of proverbs\n",
        "* Focusing on ones which are shared in multiple locations"
      ]
    },
    {
      "cell_type": "code",
      "execution_count": null,
      "metadata": {
        "id": "ZMK3gOrQeiMK",
        "outputId": "9ce3b15f-1fe3-4be3-b3a9-9fb086b7187f"
      },
      "outputs": [
        {
          "data": {
            "text/html": [
              "<div>\n",
              "<style scoped>\n",
              "    .dataframe tbody tr th:only-of-type {\n",
              "        vertical-align: middle;\n",
              "    }\n",
              "\n",
              "    .dataframe tbody tr th {\n",
              "        vertical-align: top;\n",
              "    }\n",
              "\n",
              "    .dataframe thead th {\n",
              "        text-align: right;\n",
              "    }\n",
              "</style>\n",
              "<table border=\"1\" class=\"dataframe\">\n",
              "  <thead>\n",
              "    <tr style=\"text-align: right;\">\n",
              "      <th></th>\n",
              "      <th>text</th>\n",
              "      <th>place</th>\n",
              "      <th>place_num</th>\n",
              "      <th>area</th>\n",
              "      <th>area_num</th>\n",
              "      <th>latlon</th>\n",
              "    </tr>\n",
              "  </thead>\n",
              "  <tbody>\n",
              "    <tr>\n",
              "      <th>0</th>\n",
              "      <td>(Ε)πήρε βάγια</td>\n",
              "      <td>{Ήπειρος, Λακωνία}</td>\n",
              "      <td>2</td>\n",
              "      <td>{Ήπειρος, Λακωνία}</td>\n",
              "      <td>2</td>\n",
              "      <td>[(37.9574332, 23.7108518), (36.76027945, 22.79...</td>\n",
              "    </tr>\n",
              "    <tr>\n",
              "      <th>1</th>\n",
              "      <td>Άβολος ο νους, διπλός ο κόπος</td>\n",
              "      <td>{Μικρά Ασία&gt;Τσεσμές (Κρήνη), Νίσυρος}</td>\n",
              "      <td>2</td>\n",
              "      <td>{Μικρά Ασία, Νίσυρος}</td>\n",
              "      <td>2</td>\n",
              "      <td>[(36.58904575, 27.16918402255752), (38.1846366...</td>\n",
              "    </tr>\n",
              "    <tr>\n",
              "      <th>2</th>\n",
              "      <td>Άβουλος νους διπλός κόπος</td>\n",
              "      <td>{Θράκη&gt;Αίνος, Θήρα (Σαντορίνη)}</td>\n",
              "      <td>2</td>\n",
              "      <td>{Θήρα (Σαντορίνη), Θράκη}</td>\n",
              "      <td>2</td>\n",
              "      <td>[(40.8464241, 25.8759377), (36.4044251, 25.395...</td>\n",
              "    </tr>\n",
              "    <tr>\n",
              "      <th>3</th>\n",
              "      <td>Άβουλος νους, διπλός ο κόπος</td>\n",
              "      <td>{Αμοργός, Ρόδος, Κρήτη}</td>\n",
              "      <td>3</td>\n",
              "      <td>{Αμοργός, Ρόδος, Κρήτη}</td>\n",
              "      <td>3</td>\n",
              "      <td>[(36.85252415, 25.89848696771565), (35.3084952...</td>\n",
              "    </tr>\n",
              "    <tr>\n",
              "      <th>4</th>\n",
              "      <td>Άβουλος ο νους διπλός ο κόπος</td>\n",
              "      <td>{Ήπειρος&gt;Τσαμαντάς, Θράκη&gt;Μάδυτος, Ρόδος, Σάμο...</td>\n",
              "      <td>5</td>\n",
              "      <td>{Ήπειρος, Ρόδος, Σάμος, Θράκη}</td>\n",
              "      <td>4</td>\n",
              "      <td>[(40.8464241, 25.8759377), (37.9574332, 23.710...</td>\n",
              "    </tr>\n",
              "    <tr>\n",
              "      <th>...</th>\n",
              "      <td>...</td>\n",
              "      <td>...</td>\n",
              "      <td>...</td>\n",
              "      <td>...</td>\n",
              "      <td>...</td>\n",
              "      <td>...</td>\n",
              "    </tr>\n",
              "    <tr>\n",
              "      <th>3199</th>\n",
              "      <td>ο παθός, μαθός</td>\n",
              "      <td>{Λέρος, Αργολίδα&gt;Σχοινοχώρι}</td>\n",
              "      <td>2</td>\n",
              "      <td>{Λέρος, Αργολίδα}</td>\n",
              "      <td>2</td>\n",
              "      <td>[(37.56626615, 22.85593894780862), (37.1494507...</td>\n",
              "    </tr>\n",
              "    <tr>\n",
              "      <th>3200</th>\n",
              "      <td>πονάει το δόντι</td>\n",
              "      <td>{Θεσσαλία&gt;Τρίκαλα, Φωκίδα}</td>\n",
              "      <td>2</td>\n",
              "      <td>{Θεσσαλία, Φωκίδα}</td>\n",
              "      <td>2</td>\n",
              "      <td>[(38.4998681, 22.24878032919352), (39.5594194,...</td>\n",
              "    </tr>\n",
              "    <tr>\n",
              "      <th>3201</th>\n",
              "      <td>που Πάτρα, που Φλομίτσι!</td>\n",
              "      <td>{Μεσσηνία&gt;Αβία&gt;Κάμπος, Μάνη&gt;Αβία}</td>\n",
              "      <td>2</td>\n",
              "      <td>{Μεσσηνία, Μάνη}</td>\n",
              "      <td>2</td>\n",
              "      <td>[(36.986899050000005, 21.82712495001949), (41....</td>\n",
              "    </tr>\n",
              "    <tr>\n",
              "      <th>3202</th>\n",
              "      <td>τού έδειξε τα δόντια</td>\n",
              "      <td>{Αρκαδία&gt;Τεγέα, Εύβοια}</td>\n",
              "      <td>2</td>\n",
              "      <td>{Εύβοια, Αρκαδία}</td>\n",
              "      <td>2</td>\n",
              "      <td>[(38.0368583, 23.6689264), (38.49417235, 23.91...</td>\n",
              "    </tr>\n",
              "    <tr>\n",
              "      <th>3203</th>\n",
              "      <td>τού'δειξε τα δόντια</td>\n",
              "      <td>{Λακωνία&gt;Αναβρυτή, Μεσσηνία&gt;Ζέγα}</td>\n",
              "      <td>2</td>\n",
              "      <td>{Μεσσηνία, Λακωνία}</td>\n",
              "      <td>2</td>\n",
              "      <td>[(36.986899050000005, 21.82712495001949), (36....</td>\n",
              "    </tr>\n",
              "  </tbody>\n",
              "</table>\n",
              "<p>3204 rows × 6 columns</p>\n",
              "</div>"
            ],
            "text/plain": [
              "                               text   \n",
              "0                     (Ε)πήρε βάγια  \\\n",
              "1     Άβολος ο νους, διπλός ο κόπος   \n",
              "2         Άβουλος νους διπλός κόπος   \n",
              "3      Άβουλος νους, διπλός ο κόπος   \n",
              "4     Άβουλος ο νους διπλός ο κόπος   \n",
              "...                             ...   \n",
              "3199                 ο παθός, μαθός   \n",
              "3200                πονάει το δόντι   \n",
              "3201       που Πάτρα, που Φλομίτσι!   \n",
              "3202           τού έδειξε τα δόντια   \n",
              "3203            τού'δειξε τα δόντια   \n",
              "\n",
              "                                                  place  place_num   \n",
              "0                                    {Ήπειρος, Λακωνία}          2  \\\n",
              "1                 {Μικρά Ασία>Τσεσμές (Κρήνη), Νίσυρος}          2   \n",
              "2                       {Θράκη>Αίνος, Θήρα (Σαντορίνη)}          2   \n",
              "3                               {Αμοργός, Ρόδος, Κρήτη}          3   \n",
              "4     {Ήπειρος>Τσαμαντάς, Θράκη>Μάδυτος, Ρόδος, Σάμο...          5   \n",
              "...                                                 ...        ...   \n",
              "3199                       {Λέρος, Αργολίδα>Σχοινοχώρι}          2   \n",
              "3200                         {Θεσσαλία>Τρίκαλα, Φωκίδα}          2   \n",
              "3201                  {Μεσσηνία>Αβία>Κάμπος, Μάνη>Αβία}          2   \n",
              "3202                            {Αρκαδία>Τεγέα, Εύβοια}          2   \n",
              "3203                  {Λακωνία>Αναβρυτή, Μεσσηνία>Ζέγα}          2   \n",
              "\n",
              "                                area  area_num   \n",
              "0                 {Ήπειρος, Λακωνία}         2  \\\n",
              "1              {Μικρά Ασία, Νίσυρος}         2   \n",
              "2          {Θήρα (Σαντορίνη), Θράκη}         2   \n",
              "3            {Αμοργός, Ρόδος, Κρήτη}         3   \n",
              "4     {Ήπειρος, Ρόδος, Σάμος, Θράκη}         4   \n",
              "...                              ...       ...   \n",
              "3199               {Λέρος, Αργολίδα}         2   \n",
              "3200              {Θεσσαλία, Φωκίδα}         2   \n",
              "3201                {Μεσσηνία, Μάνη}         2   \n",
              "3202               {Εύβοια, Αρκαδία}         2   \n",
              "3203             {Μεσσηνία, Λακωνία}         2   \n",
              "\n",
              "                                                 latlon  \n",
              "0     [(37.9574332, 23.7108518), (36.76027945, 22.79...  \n",
              "1     [(36.58904575, 27.16918402255752), (38.1846366...  \n",
              "2     [(40.8464241, 25.8759377), (36.4044251, 25.395...  \n",
              "3     [(36.85252415, 25.89848696771565), (35.3084952...  \n",
              "4     [(40.8464241, 25.8759377), (37.9574332, 23.710...  \n",
              "...                                                 ...  \n",
              "3199  [(37.56626615, 22.85593894780862), (37.1494507...  \n",
              "3200  [(38.4998681, 22.24878032919352), (39.5594194,...  \n",
              "3201  [(36.986899050000005, 21.82712495001949), (41....  \n",
              "3202  [(38.0368583, 23.6689264), (38.49417235, 23.91...  \n",
              "3203  [(36.986899050000005, 21.82712495001949), (36....  \n",
              "\n",
              "[3204 rows x 6 columns]"
            ]
          },
          "execution_count": 15,
          "metadata": {},
          "output_type": "execute_result"
        }
      ],
      "source": [
        "duplicates = pd.read_csv('data/duplicates_geolocated.csv')\n",
        "duplicates['place'] = duplicates['place'].apply(ast.literal_eval)\n",
        "duplicates['area'] = duplicates['area'].apply(ast.literal_eval)\n",
        "duplicates"
      ]
    },
    {
      "cell_type": "code",
      "execution_count": null,
      "metadata": {
        "colab": {
          "base_uri": "https://localhost:8080/",
          "height": 368
        },
        "id": "VvgaPQzyd4ii",
        "outputId": "92772be1-e8c0-4319-80ce-c032d34c299c"
      },
      "outputs": [
        {
          "data": {
            "text/html": [
              "<div>\n",
              "<style scoped>\n",
              "    .dataframe tbody tr th:only-of-type {\n",
              "        vertical-align: middle;\n",
              "    }\n",
              "\n",
              "    .dataframe tbody tr th {\n",
              "        vertical-align: top;\n",
              "    }\n",
              "\n",
              "    .dataframe thead th {\n",
              "        text-align: right;\n",
              "    }\n",
              "</style>\n",
              "<table border=\"1\" class=\"dataframe\">\n",
              "  <thead>\n",
              "    <tr style=\"text-align: right;\">\n",
              "      <th></th>\n",
              "      <th>text</th>\n",
              "      <th>place</th>\n",
              "      <th>place_num</th>\n",
              "      <th>area</th>\n",
              "      <th>prediction</th>\n",
              "      <th>area_num</th>\n",
              "      <th>latlon</th>\n",
              "    </tr>\n",
              "  </thead>\n",
              "  <tbody>\n",
              "    <tr>\n",
              "      <th>0</th>\n",
              "      <td>(Ε)πήρε βάγια</td>\n",
              "      <td>{Ήπειρος, Λακωνία}</td>\n",
              "      <td>2</td>\n",
              "      <td>{Ήπειρος, Λακωνία}</td>\n",
              "      <td>Ήπειρος</td>\n",
              "      <td>2</td>\n",
              "      <td>[(37.9574332, 23.7108518), (36.76027945, 22.79...</td>\n",
              "    </tr>\n",
              "    <tr>\n",
              "      <th>2117</th>\n",
              "      <td>Ξένοι πόνοι ξένα γέλια</td>\n",
              "      <td>{Κάλυμνος, Ρόδος}</td>\n",
              "      <td>2</td>\n",
              "      <td>{Κάλυμνος, Ρόδος}</td>\n",
              "      <td>Ρόδος</td>\n",
              "      <td>2</td>\n",
              "      <td>[(37.00262545, 26.992424179156217), (36.172629...</td>\n",
              "    </tr>\n",
              "    <tr>\n",
              "      <th>2094</th>\n",
              "      <td>Νιός ήμουν και γέρασα</td>\n",
              "      <td>{Αμοργός, Μικρά Ασία&gt;Βουρλά}</td>\n",
              "      <td>2</td>\n",
              "      <td>{Αμοργός, Μικρά Ασία}</td>\n",
              "      <td>Μικρά Ασία</td>\n",
              "      <td>2</td>\n",
              "      <td>[(36.85252415, 25.89848696771565), (38.1846366...</td>\n",
              "    </tr>\n",
              "    <tr>\n",
              "      <th>2089</th>\n",
              "      <td>Νηστικιά αρκούδα δε χορεύει</td>\n",
              "      <td>{Μικρά Ασία&gt;Κυδωνία, Κεφαλληνία&gt;Ομαλά}</td>\n",
              "      <td>2</td>\n",
              "      <td>{Μικρά Ασία, Κεφαλληνία}</td>\n",
              "      <td>Κεφαλληνία</td>\n",
              "      <td>2</td>\n",
              "      <td>[(38.2379344, 20.560883), (38.1846366, 23.5122...</td>\n",
              "    </tr>\n",
              "    <tr>\n",
              "      <th>2085</th>\n",
              "      <td>Νηστεύει ο δούλος του Θεού, γιατί ψωμί δεν έχει!</td>\n",
              "      <td>{Ήπειρος, Αχαΐα&gt;Πάτρα}</td>\n",
              "      <td>2</td>\n",
              "      <td>{Ήπειρος, Αχαΐα}</td>\n",
              "      <td>Αχαΐα</td>\n",
              "      <td>2</td>\n",
              "      <td>[(38.0692748, 21.87273042232539), (37.9574332,...</td>\n",
              "    </tr>\n",
              "  </tbody>\n",
              "</table>\n",
              "</div>"
            ],
            "text/plain": [
              "                                                  text   \n",
              "0                                        (Ε)πήρε βάγια  \\\n",
              "2117                            Ξένοι πόνοι ξένα γέλια   \n",
              "2094                             Νιός ήμουν και γέρασα   \n",
              "2089                       Νηστικιά αρκούδα δε χορεύει   \n",
              "2085  Νηστεύει ο δούλος του Θεού, γιατί ψωμί δεν έχει!   \n",
              "\n",
              "                                       place  place_num   \n",
              "0                         {Ήπειρος, Λακωνία}          2  \\\n",
              "2117                       {Κάλυμνος, Ρόδος}          2   \n",
              "2094            {Αμοργός, Μικρά Ασία>Βουρλά}          2   \n",
              "2089  {Μικρά Ασία>Κυδωνία, Κεφαλληνία>Ομαλά}          2   \n",
              "2085                  {Ήπειρος, Αχαΐα>Πάτρα}          2   \n",
              "\n",
              "                          area  prediction  area_num   \n",
              "0           {Ήπειρος, Λακωνία}     Ήπειρος         2  \\\n",
              "2117         {Κάλυμνος, Ρόδος}       Ρόδος         2   \n",
              "2094     {Αμοργός, Μικρά Ασία}  Μικρά Ασία         2   \n",
              "2089  {Μικρά Ασία, Κεφαλληνία}  Κεφαλληνία         2   \n",
              "2085          {Ήπειρος, Αχαΐα}       Αχαΐα         2   \n",
              "\n",
              "                                                 latlon  \n",
              "0     [(37.9574332, 23.7108518), (36.76027945, 22.79...  \n",
              "2117  [(37.00262545, 26.992424179156217), (36.172629...  \n",
              "2094  [(36.85252415, 25.89848696771565), (38.1846366...  \n",
              "2089  [(38.2379344, 20.560883), (38.1846366, 23.5122...  \n",
              "2085  [(38.0692748, 21.87273042232539), (37.9574332,...  "
            ]
          },
          "execution_count": 16,
          "metadata": {},
          "output_type": "execute_result"
        }
      ],
      "source": [
        "# showing cases when only two candidate area exist and the model said one \n",
        "duplicates.insert(4, \"prediction\", predictor_clf.predict(duplicates.text))\n",
        "duplicate_dilemma = duplicates.apply(lambda row: (row.area_num==2)&(row.prediction in row.area), 1)\n",
        "duplicates[duplicate_dilemma].sort_values(by=\"place_num\").head(5)"
      ]
    },
    {
      "cell_type": "markdown",
      "metadata": {
        "id": "2pBGLxTSmMzB"
      },
      "source": [
        "* Showing on ones our classifier said Cyrpus"
      ]
    },
    {
      "cell_type": "code",
      "execution_count": null,
      "metadata": {
        "colab": {
          "base_uri": "https://localhost:8080/",
          "height": 173
        },
        "id": "neOnr6gcfTMd",
        "outputId": "87e01525-2852-4d2c-8b6c-90a75e26a8e2"
      },
      "outputs": [
        {
          "data": {
            "text/html": [
              "<div>\n",
              "<style scoped>\n",
              "    .dataframe tbody tr th:only-of-type {\n",
              "        vertical-align: middle;\n",
              "    }\n",
              "\n",
              "    .dataframe tbody tr th {\n",
              "        vertical-align: top;\n",
              "    }\n",
              "\n",
              "    .dataframe thead th {\n",
              "        text-align: right;\n",
              "    }\n",
              "</style>\n",
              "<table border=\"1\" class=\"dataframe\">\n",
              "  <thead>\n",
              "    <tr style=\"text-align: right;\">\n",
              "      <th></th>\n",
              "      <th>text</th>\n",
              "      <th>place</th>\n",
              "      <th>place_num</th>\n",
              "      <th>area</th>\n",
              "      <th>prediction</th>\n",
              "      <th>area_num</th>\n",
              "      <th>latlon</th>\n",
              "    </tr>\n",
              "  </thead>\n",
              "  <tbody>\n",
              "    <tr>\n",
              "      <th>3057</th>\n",
              "      <td>Του κλέφτη κλέφτεις του;</td>\n",
              "      <td>{Κύπρος&gt;Κυθραία, Λακωνία, Κύπρος}</td>\n",
              "      <td>3</td>\n",
              "      <td>{Λακωνία, Κύπρος}</td>\n",
              "      <td>Κύπρος</td>\n",
              "      <td>2</td>\n",
              "      <td>[(34.9823018, 33.1451285), (36.76027945, 22.79...</td>\n",
              "    </tr>\n",
              "  </tbody>\n",
              "</table>\n",
              "</div>"
            ],
            "text/plain": [
              "                          text                              place  place_num   \n",
              "3057  Του κλέφτη κλέφτεις του;  {Κύπρος>Κυθραία, Λακωνία, Κύπρος}          3  \\\n",
              "\n",
              "                   area prediction  area_num   \n",
              "3057  {Λακωνία, Κύπρος}     Κύπρος         2  \\\n",
              "\n",
              "                                                 latlon  \n",
              "3057  [(34.9823018, 33.1451285), (36.76027945, 22.79...  "
            ]
          },
          "execution_count": 17,
          "metadata": {},
          "output_type": "execute_result"
        }
      ],
      "source": [
        "is_it_cyprus = duplicates.apply(lambda row: (row.prediction=='Κύπρος')&(row.prediction in row.area), 1)\n",
        "duplicates[is_it_cyprus]"
      ]
    },
    {
      "cell_type": "markdown",
      "metadata": {
        "id": "zBp6QrYgf7MI"
      },
      "source": [
        "## Regression on the coordinates\n",
        "* Instead of classifying, predicting the geographical coordinates.\n",
        "* Linear regression provides feature importance, i.e., terms that distinguish spatially, from South to North, from West to East. "
      ]
    },
    {
      "cell_type": "code",
      "execution_count": null,
      "metadata": {
        "id": "dXQh_RYPeyJJ"
      },
      "outputs": [],
      "source": [
        "vect = TfidfVectorizer(ngram_range=(1,1), analyzer=\"word\", max_df=0.5, min_df=10, lowercase=True)\n",
        "linear = Pipeline([('vect', vect), ('reg', LinearRegression())])\n",
        "linear.fit(train.text.values, train[[\"lat\", \"lon\"]].values)\n",
        "txt_preds = linear.predict(test.text.values)"
      ]
    },
    {
      "cell_type": "code",
      "execution_count": null,
      "metadata": {
        "colab": {
          "base_uri": "https://localhost:8080/"
        },
        "id": "RGx52tT5gL71",
        "outputId": "e4ab5e28-adf6-440c-c5e3-30e4fea76e42"
      },
      "outputs": [
        {
          "name": "stdout",
          "output_type": "stream",
          "text": [
            "R2 (train): 0.265\n",
            "R2 (dev): 0.147\n"
          ]
        }
      ],
      "source": [
        "print(f'R2 (train): {linear.score(train.text, train[[\"lat\", \"lon\"]].values):.3f}')\n",
        "print(f'R2 (dev): {linear.score(dev.text, dev[[\"lat\", \"lon\"]].values):.3f}')"
      ]
    },
    {
      "cell_type": "code",
      "execution_count": null,
      "metadata": {
        "colab": {
          "base_uri": "https://localhost:8080/"
        },
        "id": "F2LmNQWugO1L",
        "outputId": "03e2038c-b70f-49d0-e6c8-950872627287"
      },
      "outputs": [
        {
          "name": "stdout",
          "output_type": "stream",
          "text": [
            "MAE of lat and lon: 1.31 & 1.82\n",
            "MSE of lat and lon: 2.70 & 5.57\n"
          ]
        }
      ],
      "source": [
        "predicted_coords = linear.predict(test.text.values)\n",
        "print(f\"MAE of lat and lon: {mean_absolute_error(test.lat.values, predicted_coords[:, 0]):.2f} & {mean_absolute_error(test.lon.values, predicted_coords[:, 1]):.2f}\")\n",
        "print(f\"MSE of lat and lon: {mean_squared_error(test.lat.values, predicted_coords[:, 0]):.2f} & {mean_squared_error(test.lon.values, predicted_coords[:, 1]):.2f}\")"
      ]
    },
    {
      "cell_type": "markdown",
      "metadata": {
        "id": "waS2eGdcgrN-"
      },
      "source": [
        "* Finding terms pushing North, South, West, and East"
      ]
    },
    {
      "cell_type": "code",
      "execution_count": null,
      "metadata": {
        "id": "gUkvoPTTgn7L"
      },
      "outputs": [],
      "source": [
        "importance_pd = pd.DataFrame({\"feature\":linear[\"vect\"].get_feature_names_out(), \n",
        "                              \"lat\": linear[\"reg\"].coef_[0, :],\n",
        "                              \"lon\": linear[\"reg\"].coef_[1, :]})"
      ]
    },
    {
      "cell_type": "markdown",
      "metadata": {
        "id": "arRsBHqOi3Z9"
      },
      "source": [
        "### Words pushing $\\uparrow$ North: higher lat"
      ]
    },
    {
      "cell_type": "code",
      "execution_count": null,
      "metadata": {
        "colab": {
          "base_uri": "https://localhost:8080/",
          "height": 206
        },
        "id": "UaPRsIgOgyw4",
        "outputId": "d3934ff2-82ae-46a3-e015-d27386f4b946"
      },
      "outputs": [
        {
          "data": {
            "text/html": [
              "<div>\n",
              "<style scoped>\n",
              "    .dataframe tbody tr th:only-of-type {\n",
              "        vertical-align: middle;\n",
              "    }\n",
              "\n",
              "    .dataframe tbody tr th {\n",
              "        vertical-align: top;\n",
              "    }\n",
              "\n",
              "    .dataframe thead th {\n",
              "        text-align: right;\n",
              "    }\n",
              "</style>\n",
              "<table border=\"1\" class=\"dataframe\">\n",
              "  <thead>\n",
              "    <tr style=\"text-align: right;\">\n",
              "      <th></th>\n",
              "      <th>feature</th>\n",
              "      <th>lat</th>\n",
              "      <th>lon</th>\n",
              "    </tr>\n",
              "  </thead>\n",
              "  <tbody>\n",
              "    <tr>\n",
              "      <th>692</th>\n",
              "      <td>τρώγει</td>\n",
              "      <td>3.635892</td>\n",
              "      <td>-0.032554</td>\n",
              "    </tr>\n",
              "    <tr>\n",
              "      <th>601</th>\n",
              "      <td>σάββας</td>\n",
              "      <td>3.161245</td>\n",
              "      <td>1.184159</td>\n",
              "    </tr>\n",
              "    <tr>\n",
              "      <th>195</th>\n",
              "      <td>διάβολο</td>\n",
              "      <td>2.948192</td>\n",
              "      <td>1.232401</td>\n",
              "    </tr>\n",
              "    <tr>\n",
              "      <th>552</th>\n",
              "      <td>πε</td>\n",
              "      <td>2.770396</td>\n",
              "      <td>1.545323</td>\n",
              "    </tr>\n",
              "    <tr>\n",
              "      <th>325</th>\n",
              "      <td>κε</td>\n",
              "      <td>2.755401</td>\n",
              "      <td>-0.781987</td>\n",
              "    </tr>\n",
              "  </tbody>\n",
              "</table>\n",
              "</div>"
            ],
            "text/plain": [
              "     feature       lat       lon\n",
              "692   τρώγει  3.635892 -0.032554\n",
              "601   σάββας  3.161245  1.184159\n",
              "195  διάβολο  2.948192  1.232401\n",
              "552       πε  2.770396  1.545323\n",
              "325       κε  2.755401 -0.781987"
            ]
          },
          "execution_count": 22,
          "metadata": {},
          "output_type": "execute_result"
        }
      ],
      "source": [
        "importance_pd.sort_values(by=\"lat\", ascending=False).head(5)"
      ]
    },
    {
      "cell_type": "markdown",
      "metadata": {
        "id": "CMbNoEiii64j"
      },
      "source": [
        "### Words pushing $\\downarrow$ South: lower lat"
      ]
    },
    {
      "cell_type": "code",
      "execution_count": null,
      "metadata": {
        "colab": {
          "base_uri": "https://localhost:8080/",
          "height": 206
        },
        "id": "bqRuMFKbg4as",
        "outputId": "1f9b9f3b-f93d-4916-9c30-dfd3299dcbeb"
      },
      "outputs": [
        {
          "data": {
            "text/html": [
              "<div>\n",
              "<style scoped>\n",
              "    .dataframe tbody tr th:only-of-type {\n",
              "        vertical-align: middle;\n",
              "    }\n",
              "\n",
              "    .dataframe tbody tr th {\n",
              "        vertical-align: top;\n",
              "    }\n",
              "\n",
              "    .dataframe thead th {\n",
              "        text-align: right;\n",
              "    }\n",
              "</style>\n",
              "<table border=\"1\" class=\"dataframe\">\n",
              "  <thead>\n",
              "    <tr style=\"text-align: right;\">\n",
              "      <th></th>\n",
              "      <th>feature</th>\n",
              "      <th>lat</th>\n",
              "      <th>lon</th>\n",
              "    </tr>\n",
              "  </thead>\n",
              "  <tbody>\n",
              "    <tr>\n",
              "      <th>660</th>\n",
              "      <td>τζ</td>\n",
              "      <td>-4.194844</td>\n",
              "      <td>11.198418</td>\n",
              "    </tr>\n",
              "    <tr>\n",
              "      <th>661</th>\n",
              "      <td>τζαί</td>\n",
              "      <td>-4.178668</td>\n",
              "      <td>11.034529</td>\n",
              "    </tr>\n",
              "    <tr>\n",
              "      <th>662</th>\n",
              "      <td>τζαι</td>\n",
              "      <td>-4.120808</td>\n",
              "      <td>10.672089</td>\n",
              "    </tr>\n",
              "    <tr>\n",
              "      <th>226</th>\n",
              "      <td>εγιώ</td>\n",
              "      <td>-3.835543</td>\n",
              "      <td>5.002954</td>\n",
              "    </tr>\n",
              "    <tr>\n",
              "      <th>664</th>\n",
              "      <td>τζι</td>\n",
              "      <td>-3.824139</td>\n",
              "      <td>10.232078</td>\n",
              "    </tr>\n",
              "  </tbody>\n",
              "</table>\n",
              "</div>"
            ],
            "text/plain": [
              "    feature       lat        lon\n",
              "660      τζ -4.194844  11.198418\n",
              "661    τζαί -4.178668  11.034529\n",
              "662    τζαι -4.120808  10.672089\n",
              "226    εγιώ -3.835543   5.002954\n",
              "664     τζι -3.824139  10.232078"
            ]
          },
          "execution_count": 23,
          "metadata": {},
          "output_type": "execute_result"
        }
      ],
      "source": [
        "importance_pd.sort_values(by=\"lat\", ascending=True).head(5)"
      ]
    },
    {
      "cell_type": "markdown",
      "metadata": {
        "id": "Ej4pBRoejAOg"
      },
      "source": [
        "### Words pushing $\\rightarrow$ East: higher lon"
      ]
    },
    {
      "cell_type": "code",
      "execution_count": null,
      "metadata": {
        "colab": {
          "base_uri": "https://localhost:8080/",
          "height": 206
        },
        "id": "pvlr5xAnhleJ",
        "outputId": "c41783fe-b6fa-4925-a9c6-194fef542e87"
      },
      "outputs": [
        {
          "data": {
            "text/html": [
              "<div>\n",
              "<style scoped>\n",
              "    .dataframe tbody tr th:only-of-type {\n",
              "        vertical-align: middle;\n",
              "    }\n",
              "\n",
              "    .dataframe tbody tr th {\n",
              "        vertical-align: top;\n",
              "    }\n",
              "\n",
              "    .dataframe thead th {\n",
              "        text-align: right;\n",
              "    }\n",
              "</style>\n",
              "<table border=\"1\" class=\"dataframe\">\n",
              "  <thead>\n",
              "    <tr style=\"text-align: right;\">\n",
              "      <th></th>\n",
              "      <th>feature</th>\n",
              "      <th>lat</th>\n",
              "      <th>lon</th>\n",
              "    </tr>\n",
              "  </thead>\n",
              "  <tbody>\n",
              "    <tr>\n",
              "      <th>660</th>\n",
              "      <td>τζ</td>\n",
              "      <td>-4.194844</td>\n",
              "      <td>11.198418</td>\n",
              "    </tr>\n",
              "    <tr>\n",
              "      <th>661</th>\n",
              "      <td>τζαί</td>\n",
              "      <td>-4.178668</td>\n",
              "      <td>11.034529</td>\n",
              "    </tr>\n",
              "    <tr>\n",
              "      <th>662</th>\n",
              "      <td>τζαι</td>\n",
              "      <td>-4.120808</td>\n",
              "      <td>10.672089</td>\n",
              "    </tr>\n",
              "    <tr>\n",
              "      <th>664</th>\n",
              "      <td>τζι</td>\n",
              "      <td>-3.824139</td>\n",
              "      <td>10.232078</td>\n",
              "    </tr>\n",
              "    <tr>\n",
              "      <th>233</th>\n",
              "      <td>εμ</td>\n",
              "      <td>-2.805806</td>\n",
              "      <td>7.284577</td>\n",
              "    </tr>\n",
              "  </tbody>\n",
              "</table>\n",
              "</div>"
            ],
            "text/plain": [
              "    feature       lat        lon\n",
              "660      τζ -4.194844  11.198418\n",
              "661    τζαί -4.178668  11.034529\n",
              "662    τζαι -4.120808  10.672089\n",
              "664     τζι -3.824139  10.232078\n",
              "233      εμ -2.805806   7.284577"
            ]
          },
          "execution_count": 24,
          "metadata": {},
          "output_type": "execute_result"
        }
      ],
      "source": [
        "importance_pd.sort_values(by=\"lon\", ascending=False).head(5)"
      ]
    },
    {
      "cell_type": "markdown",
      "metadata": {
        "id": "0pMF_nAujCqJ"
      },
      "source": [
        "### Words pushing $\\leftarrow$ West: higher lon"
      ]
    },
    {
      "cell_type": "code",
      "execution_count": null,
      "metadata": {
        "colab": {
          "base_uri": "https://localhost:8080/",
          "height": 206
        },
        "id": "AJ2tGPIZh4Qi",
        "outputId": "bb219769-86f2-44d1-872e-4c2c7cad0e8c"
      },
      "outputs": [
        {
          "data": {
            "text/html": [
              "<div>\n",
              "<style scoped>\n",
              "    .dataframe tbody tr th:only-of-type {\n",
              "        vertical-align: middle;\n",
              "    }\n",
              "\n",
              "    .dataframe tbody tr th {\n",
              "        vertical-align: top;\n",
              "    }\n",
              "\n",
              "    .dataframe thead th {\n",
              "        text-align: right;\n",
              "    }\n",
              "</style>\n",
              "<table border=\"1\" class=\"dataframe\">\n",
              "  <thead>\n",
              "    <tr style=\"text-align: right;\">\n",
              "      <th></th>\n",
              "      <th>feature</th>\n",
              "      <th>lat</th>\n",
              "      <th>lon</th>\n",
              "    </tr>\n",
              "  </thead>\n",
              "  <tbody>\n",
              "    <tr>\n",
              "      <th>115</th>\n",
              "      <td>βαρβάρα</td>\n",
              "      <td>-1.411847</td>\n",
              "      <td>-4.574121</td>\n",
              "    </tr>\n",
              "    <tr>\n",
              "      <th>702</th>\n",
              "      <td>τσου</td>\n",
              "      <td>0.507615</td>\n",
              "      <td>-4.082944</td>\n",
              "    </tr>\n",
              "    <tr>\n",
              "      <th>157</th>\n",
              "      <td>γελάει</td>\n",
              "      <td>-0.226155</td>\n",
              "      <td>-4.005390</td>\n",
              "    </tr>\n",
              "    <tr>\n",
              "      <th>466</th>\n",
              "      <td>ναν</td>\n",
              "      <td>0.649680</td>\n",
              "      <td>-3.835403</td>\n",
              "    </tr>\n",
              "    <tr>\n",
              "      <th>107</th>\n",
              "      <td>αφέντη</td>\n",
              "      <td>0.441480</td>\n",
              "      <td>-3.485066</td>\n",
              "    </tr>\n",
              "  </tbody>\n",
              "</table>\n",
              "</div>"
            ],
            "text/plain": [
              "     feature       lat       lon\n",
              "115  βαρβάρα -1.411847 -4.574121\n",
              "702     τσου  0.507615 -4.082944\n",
              "157   γελάει -0.226155 -4.005390\n",
              "466      ναν  0.649680 -3.835403\n",
              "107   αφέντη  0.441480 -3.485066"
            ]
          },
          "execution_count": 25,
          "metadata": {},
          "output_type": "execute_result"
        }
      ],
      "source": [
        "importance_pd.sort_values(by=\"lon\", ascending=True).head(5)"
      ]
    }
  ],
  "metadata": {
    "colab": {
      "provenance": [],
      "include_colab_link": true
    },
    "kernelspec": {
      "display_name": "Python 3 (ipykernel)",
      "language": "python",
      "name": "python3"
    },
    "language_info": {
      "codemirror_mode": {
        "name": "ipython",
        "version": 3
      },
      "file_extension": ".py",
      "mimetype": "text/x-python",
      "name": "python",
      "nbconvert_exporter": "python",
      "pygments_lexer": "ipython3",
      "version": "3.10.10"
    }
  },
  "nbformat": 4,
  "nbformat_minor": 0
}